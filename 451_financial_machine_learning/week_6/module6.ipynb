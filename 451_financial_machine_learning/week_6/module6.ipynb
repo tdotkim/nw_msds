{
 "cells": [
  {
   "cell_type": "markdown",
   "metadata": {},
   "source": [
    "# Tae-Seung Kim Module 6"
   ]
  },
  {
   "cell_type": "code",
   "execution_count": 365,
   "metadata": {},
   "outputs": [],
   "source": [
    "import numpy as np\n",
    "import datetime as dt\n",
    "import matplotlib.pyplot as plt\n",
    "import pandas as pd\n",
    "import shap\n",
    "from sklearn.model_selection import train_test_split\n",
    "import seaborn as sns\n",
    "from sklearn import preprocessing\n",
    "from sklearn.ensemble import RandomForestClassifier\n",
    "from statsmodels.tsa.stattools import adfuller\n",
    "import sklearn.metrics as metrics\n",
    "import os\n",
    "import sys\n",
    "from sklearn.model_selection import KFold\n",
    "from sklearn.metrics import PrecisionRecallDisplay, RocCurveDisplay, f1_score, average_precision_score, roc_curve, precision_recall_fscore_support, precision_recall_curve, confusion_matrix, classification_report"
   ]
  },
  {
   "cell_type": "code",
   "execution_count": 366,
   "metadata": {},
   "outputs": [],
   "source": [
    "module_path = os.path.abspath(os.path.join('./src'))\n",
    "if module_path not in sys.path:\n",
    "    sys.path.append(module_path)"
   ]
  },
  {
   "cell_type": "code",
   "execution_count": 454,
   "metadata": {},
   "outputs": [
    {
     "data": {
      "text/plain": [
       "'c:\\\\Users\\\\tkkim\\\\Desktop\\\\nw_msds\\\\451_financial_machine_learning\\\\week_6\\\\src'"
      ]
     },
     "execution_count": 454,
     "metadata": {},
     "output_type": "execute_result"
    }
   ],
   "source": [
    "module_path"
   ]
  },
  {
   "cell_type": "code",
   "execution_count": 457,
   "metadata": {},
   "outputs": [],
   "source": [
    "import src.sharpe_ratio_stats as sr_funcs"
   ]
  },
  {
   "cell_type": "code",
   "execution_count": 134,
   "metadata": {},
   "outputs": [],
   "source": [
    "plt.style.use('seaborn-v0_8')\n",
    "plt.rcParams['figure.figsize'] = 12, 7"
   ]
  },
  {
   "cell_type": "code",
   "execution_count": 232,
   "metadata": {},
   "outputs": [],
   "source": [
    "def getWeights_FFD(d,thres):\n",
    "    w,k=[1.],1\n",
    "    while True:\n",
    "        w_=-w[-1]/k*(d-k+1)\n",
    "        if abs(w_)<thres:break\n",
    "        w.append(w_);k+=1\n",
    "    return np.array(w[::-1]).reshape(-1,1)\n",
    "\n",
    "def fracDiff_FFD(series,d,thres=1e-5):\n",
    "    # Constant width window (new solution)\n",
    "    w=getWeights_FFD(d,thres)\n",
    "    df={}\n",
    "    for name in series.columns:\n",
    "        df_= pd.Series(series[name].values,index=series.index).fillna(method='ffill').dropna()\n",
    "        x = pd.Series(0,index=df_.index)\n",
    "        for k in range(w.shape[0]):\n",
    "            x = x+w[k,0]*df_.shift(-k)\n",
    "    #df[name]=x.dropna().copy(deep=True)\n",
    "    df[name]=x.shift(k).copy(deep=True)\n",
    "    df=pd.concat(df,axis=1)\n",
    "    return df\n",
    "\n",
    "def findMinD(series):\n",
    "    for d in np.linspace(0,1,11):\n",
    "        df_=fracDiff_FFD(series,d,thres=0.01).dropna()\n",
    "        res=adfuller(df_.iloc[:,0].values,maxlag=1,regression='c',autolag=None)\n",
    "        if (res[0]<=res[4]['5%']):\n",
    "            return d\n",
    "    return 1.0"
   ]
  },
  {
   "cell_type": "code",
   "execution_count": 388,
   "metadata": {},
   "outputs": [],
   "source": [
    "class rfmodel:\n",
    "    # on creation\n",
    "    def __init__(self, name, data, seed=1, split=True, model=RandomForestClassifier(n_estimators=100,random_state=1)):\n",
    "        self.name = name\n",
    "        self.data = data.copy()\n",
    "        self.seed = seed\n",
    "        self.model = model\n",
    "        self.split = split\n",
    "\n",
    "    def splitdata(self, test_size=0.2):\n",
    "        if self.split == True:\n",
    "            self.xdata = self.data.copy().drop(['target'], axis=1)\n",
    "            #dividends included is the target\n",
    "            self.ydata = self.data['target'].copy()\n",
    "            #any target giving > 0 returns is a good enough trade\n",
    "            self.X_Train, self.X_Test, self.Y_Train, self.Y_Test = train_test_split(self.xdata, self.ydata, test_size=test_size, random_state=1,shuffle=False)\n",
    "        else:\n",
    "            self.xdata = self.data.copy().drop(['target'], axis=1)\n",
    "            self.ydata = self.data['target'].copy()\n",
    "\n",
    "    def alt_splitdata(self, test_size=0.2):\n",
    "        self.xdata = self.data.copy().drop(['ret'], axis=1)\n",
    "        self.xdata.set_index('yyyymm', inplace=True)\n",
    "        self.ydata = self.data.copy()[['yyyymm','ret']]\n",
    "        self.ydata.set_index('yyyymm', inplace=True)\n",
    "        self.X_Train, self.X_Test, self.Y_Train, self.Y_Test = train_test_split(self.xdata, self.ydata, test_size=test_size, random_state=1,shuffle=False)\n",
    "\n",
    "    def featImpMDA_classify(self,cv=10):\n",
    "        X = self.xdata\n",
    "        y = self.ydata\n",
    "        np.random.seed(self.seed)\n",
    "        # feat importance based on OOS score reduction\n",
    "        print('start MDA',dt.datetime.now())\n",
    "        from sklearn.metrics import log_loss\n",
    "        cvGen=KFold(n_splits=cv)\n",
    "        scr0,scr1=pd.Series(dtype='float64'),pd.DataFrame(columns=X.columns)\n",
    "        for i,(train,test) in enumerate(cvGen.split(X=X)):\n",
    "            print('   Split',i+1)\n",
    "            X0, y0=X.iloc[train,:],y.iloc[train]\n",
    "            X1, y1=X.iloc[test,:],y.iloc[test]  \n",
    "            fit=self.model.fit(X=X0,y=y0.values.ravel())\n",
    "            pred=fit.predict_proba(X1)\n",
    "            #neg log loss from snippet 8.3\n",
    "            scr0.loc[i]=-log_loss(y1,pred[:,1], sample_weight=None, labels=self.model.classes_)\n",
    "            for j in X.columns:\n",
    "                X1_=X1.copy(deep=True)\n",
    "                np.random.shuffle(X1_[j].values) # permutation of a single column\n",
    "                pred=fit.predict_proba(X1_)\n",
    "            \n",
    "                scr1.loc[i,j]=-log_loss(y1,pred[:,1], sample_weight=None, labels=self.model.classes_)\n",
    "        #neg log loss from snippet 8.3\n",
    "        imp=(-scr1).add(scr0,axis=0)\n",
    "        imp=imp/-scr1\n",
    "        imp=pd.concat({'mean':imp.mean(),'std':imp.std()*imp.shape[0]**-.5},axis=1)\n",
    "        print('end MDA',dt.datetime.now())\n",
    "        self.imp_raw = imp\n",
    "        self.imp = self.imp_raw.reset_index().rename(index=int,\n",
    "                                                columns={\"index\":\"Feature\",'mean':'Importance'}, \n",
    "                                                inplace=False).set_index('Feature')\n",
    "        self.imp = self.imp.sort_values(by='Importance')\n",
    "        self.scr0 = scr0\n",
    "        self.scr1 = scr1\n",
    "\n",
    "    def fit(self):\n",
    "        self.model.fit(self.X_Train, self.Y_Train)\n",
    "\n",
    "    def pred(self):\n",
    "        if self.split == True:\n",
    "            self.Y_Pred_Train = self.model.predict(self.X_Train)\n",
    "            self.Y_Pred_Test = self.model.predict(self.X_Test)\n",
    "            self.train_probs = self.model.predict_proba(self.X_Train)\n",
    "            self.test_probs = self.model.predict_proba(self.X_Test)\n",
    "            self.train_probs = self.train_probs[:,1]\n",
    "            self.test_probs = self.test_probs[:,1]\n",
    "        else:\n",
    "            self.preds = self.model.predict(self.xdata)\n",
    "            self.probs = self.model.predict_proba(self.xdata)\n",
    "            self.probs = self.probs[:,1]\n",
    "        \n",
    "\n",
    "    def getAccuracy(self):\n",
    "        if self.split == True:\n",
    "            self.precision_train, self.precision_train, self.train_threshold = metrics.precision_recall_curve(self.Y_Train, self.train_probs)\n",
    "            self.precision_test, self.precision_test, self.test_threshold = metrics.precision_recall_curve(self.Y_Test, self.test_probs)\n",
    "            self.auc_train = average_precision_score(self.Y_Train, self.Y_Pred_Train)\n",
    "            self.auc_test = average_precision_score(self.Y_Test, self.Y_Pred_Test)\n",
    "            self.train_acc = metrics.accuracy_score(self.Y_Train, self.Y_Pred_Train)\n",
    "            self.test_acc = metrics.accuracy_score(self.Y_Test, self.Y_Pred_Test)\n",
    "            self.f1_train = f1_score(self.Y_Train, self.Y_Pred_Train)\n",
    "            self.f1_test = f1_score(self.Y_Test, self.Y_Pred_Test)\n",
    "            self.bigscoretest = precision_recall_fscore_support(self.Y_Test, self.Y_Pred_Test, average='binary')\n",
    "            self.bigscoretrain = precision_recall_fscore_support(self.Y_Train, self.Y_Pred_Train, average='binary')\n",
    "        else:\n",
    "            self.precision, self.recall, self.threshold = metrics.precision_recall_curve(self.ydata, self.probs)\n",
    "            self.auc = average_precision_score(self.ydata, self.preds)\n",
    "            self.acc = metrics.accuracy_score(self.ydata, self.preds)\n",
    "            self.f1 = f1_score(self.ydata, self.preds)\n",
    "            self.bigscore = precision_recall_fscore_support(self.ydata, self.preds, average='binary')\n",
    "\n",
    "    def makePRplot(self):\n",
    "        if self.split == True:\n",
    "            self.plot1 = PrecisionRecallDisplay.from_predictions(self.Y_Test, self.Y_Pred_Test, drawstyle=\"default\")\n",
    "            self.plot1.ax_.set_title(self.name + \" Test Precision Recall Curve\")\n",
    "            self.plot2 = PrecisionRecallDisplay.from_predictions(self.Y_Train, self.Y_Pred_Train, drawstyle=\"default\")\n",
    "            self.plot2.ax_.set_title(self.name + \" Train Precision Recall Curve\")\n",
    "            #plt.show()\n",
    "        else:\n",
    "            self.plot = PrecisionRecallDisplay.from_predictions(self.ydata, self.probs, drawstyle=\"default\")\n",
    "            self.plot.ax_.set_title(self.name + \" Precision Recall Curve\")\n",
    "            #plt.show()\n",
    "    \n",
    "    def makeROCplot(self):\n",
    "        if self.split == True:\n",
    "            self.plot1 = RocCurveDisplay.from_predictions(self.Y_Test, self.Y_Pred_Test, drawstyle=\"default\")\n",
    "            self.plot1.ax_.set_title(self.name + \" Test Precision Recall Curve\")\n",
    "            self.plot2 = RocCurveDisplay.from_predictions(self.Y_Train, self.Y_Pred_Train, drawstyle=\"default\")\n",
    "            self.plot2.ax_.set_title(self.name + \" Train Precision Recall Curve\")\n",
    "        else:\n",
    "            self.plot = RocCurveDisplay.from_predictions(self.ydata, self.probs, drawstyle=\"default\")\n",
    "            self.plot.ax_.set_title(self.name + \" Precision Recall Curve\")\n",
    "            \n",
    "        \n",
    "    def plot_importances(self, save=None, xrot=0, tickstep=3,\n",
    "                     label_fontsize=12,\n",
    "                     figsize=None, scalefig=(1.0, 1.0), show=True):\n",
    "        \"\"\"\n",
    "        Given an array or data frame of importances, plot a horizontal bar chart\n",
    "        showing the importance values.\n",
    "\n",
    "        :param df_importances: A data frame with Feature, Importance columns\n",
    "        :type df_importances: pd.DataFrame\n",
    "        :param save: A filename identifying where to save the image.\n",
    "        :param xrot: Degrees to rotate importance (X axis) labels\n",
    "        :type xrot: int\n",
    "        :param tickstep: How many ticks to skip in X axis\n",
    "        :type tickstep: int\n",
    "        :param label_fontsize:  The font size for the column names and x ticks\n",
    "        :type label_fontsize:  int\n",
    "        :param figsize: Specify width and height of image (width,height)\n",
    "        :type figsize: 2-tuple of floats\n",
    "        :param scalefig: Scale width and height of image (widthscale,heightscale)\n",
    "        :type scalefig: 2-tuple of floats\n",
    "        :param show: Execute plt.show() if true (default is True). Sometimes\n",
    "                    we want to draw multiple things before calling plt.show()\n",
    "        :type show: bool\n",
    "        :return: None\n",
    "\n",
    "        SAMPLE CODE\n",
    "\n",
    "        rf = RandomForestRegressor(n_estimators=100, n_jobs=-1, oob_score=True)\n",
    "        X_train, y_train = ..., ...\n",
    "        rf.fit(X_train, y_train)\n",
    "        imp = importances(rf, X_test, y_test)\n",
    "        plot_importances(imp)\n",
    "        \"\"\"\n",
    "        df_importances = self.imp\n",
    "\n",
    "        I = df_importances\n",
    "\n",
    "        if figsize:\n",
    "            fig = plt.figure(figsize=figsize)\n",
    "        elif scalefig:\n",
    "            fig = plt.figure()\n",
    "            w, h = fig.get_size_inches()\n",
    "            fig.set_size_inches(w * scalefig[0], h * scalefig[1], forward=True)\n",
    "        else:\n",
    "            fig = plt.figure()\n",
    "        ax = plt.gca()\n",
    "        labels = []\n",
    "        for col in I.index:\n",
    "            if isinstance(col, list):\n",
    "                labels.append('\\n'.join(col))\n",
    "            else:\n",
    "                labels.append(col)\n",
    "\n",
    "        for tick in ax.get_xticklabels():\n",
    "            tick.set_size(label_fontsize)\n",
    "        for tick in ax.get_yticklabels():\n",
    "            tick.set_size(label_fontsize)\n",
    "        ax.barh(np.arange(len(I.index)), I.Importance, height=0.6, tick_label=labels)\n",
    "\n",
    "        # rotate x-ticks\n",
    "        if xrot is not None:\n",
    "            plt.xticks(rotation=xrot)\n",
    "\n",
    "        # xticks freq\n",
    "        xticks = ax.get_xticks()\n",
    "        nticks = len(xticks)\n",
    "        new_ticks = xticks[np.arange(0, nticks, step=tickstep)]\n",
    "        ax.set_xticks(new_ticks)\n",
    "\n",
    "        if save:\n",
    "            plt.savefig(save, bbox_inches=\"tight\", pad_inches=0.03)\n",
    "        if show:\n",
    "            plt.show()\n",
    "\n"
   ]
  },
  {
   "cell_type": "code",
   "execution_count": 136,
   "metadata": {},
   "outputs": [],
   "source": [
    "df = pd.read_csv('SPY1.csv')"
   ]
  },
  {
   "cell_type": "code",
   "execution_count": 137,
   "metadata": {},
   "outputs": [],
   "source": [
    "df.columns = df.columns.str.replace(' ', '') \n",
    "df.columns = df.columns.str.lower()\n"
   ]
  },
  {
   "cell_type": "code",
   "execution_count": 138,
   "metadata": {},
   "outputs": [
    {
     "data": {
      "text/plain": [
       "date        0\n",
       "open        0\n",
       "high        0\n",
       "low         0\n",
       "close       0\n",
       "adjclose    0\n",
       "volume      0\n",
       "dtype: int64"
      ]
     },
     "execution_count": 138,
     "metadata": {},
     "output_type": "execute_result"
    }
   ],
   "source": [
    "df.isnull().sum()   "
   ]
  },
  {
   "cell_type": "code",
   "execution_count": 139,
   "metadata": {},
   "outputs": [
    {
     "data": {
      "text/html": [
       "<div>\n",
       "<style scoped>\n",
       "    .dataframe tbody tr th:only-of-type {\n",
       "        vertical-align: middle;\n",
       "    }\n",
       "\n",
       "    .dataframe tbody tr th {\n",
       "        vertical-align: top;\n",
       "    }\n",
       "\n",
       "    .dataframe thead th {\n",
       "        text-align: right;\n",
       "    }\n",
       "</style>\n",
       "<table border=\"1\" class=\"dataframe\">\n",
       "  <thead>\n",
       "    <tr style=\"text-align: right;\">\n",
       "      <th></th>\n",
       "      <th>date</th>\n",
       "      <th>open</th>\n",
       "      <th>high</th>\n",
       "      <th>low</th>\n",
       "      <th>close</th>\n",
       "      <th>adjclose</th>\n",
       "      <th>volume</th>\n",
       "    </tr>\n",
       "  </thead>\n",
       "  <tbody>\n",
       "    <tr>\n",
       "      <th>0</th>\n",
       "      <td>1993-01-29</td>\n",
       "      <td>43.96875</td>\n",
       "      <td>43.96875</td>\n",
       "      <td>43.75000</td>\n",
       "      <td>43.93750</td>\n",
       "      <td>24.941402</td>\n",
       "      <td>1003200</td>\n",
       "    </tr>\n",
       "    <tr>\n",
       "      <th>1</th>\n",
       "      <td>1993-02-01</td>\n",
       "      <td>43.96875</td>\n",
       "      <td>44.25000</td>\n",
       "      <td>43.96875</td>\n",
       "      <td>44.25000</td>\n",
       "      <td>25.118784</td>\n",
       "      <td>480500</td>\n",
       "    </tr>\n",
       "    <tr>\n",
       "      <th>2</th>\n",
       "      <td>1993-02-02</td>\n",
       "      <td>44.21875</td>\n",
       "      <td>44.37500</td>\n",
       "      <td>44.12500</td>\n",
       "      <td>44.34375</td>\n",
       "      <td>25.172003</td>\n",
       "      <td>201300</td>\n",
       "    </tr>\n",
       "    <tr>\n",
       "      <th>3</th>\n",
       "      <td>1993-02-03</td>\n",
       "      <td>44.40625</td>\n",
       "      <td>44.84375</td>\n",
       "      <td>44.37500</td>\n",
       "      <td>44.81250</td>\n",
       "      <td>25.438091</td>\n",
       "      <td>529400</td>\n",
       "    </tr>\n",
       "    <tr>\n",
       "      <th>4</th>\n",
       "      <td>1993-02-04</td>\n",
       "      <td>44.96875</td>\n",
       "      <td>45.09375</td>\n",
       "      <td>44.46875</td>\n",
       "      <td>45.00000</td>\n",
       "      <td>25.544525</td>\n",
       "      <td>531500</td>\n",
       "    </tr>\n",
       "  </tbody>\n",
       "</table>\n",
       "</div>"
      ],
      "text/plain": [
       "         date      open      high       low     close   adjclose   volume\n",
       "0  1993-01-29  43.96875  43.96875  43.75000  43.93750  24.941402  1003200\n",
       "1  1993-02-01  43.96875  44.25000  43.96875  44.25000  25.118784   480500\n",
       "2  1993-02-02  44.21875  44.37500  44.12500  44.34375  25.172003   201300\n",
       "3  1993-02-03  44.40625  44.84375  44.37500  44.81250  25.438091   529400\n",
       "4  1993-02-04  44.96875  45.09375  44.46875  45.00000  25.544525   531500"
      ]
     },
     "execution_count": 139,
     "metadata": {},
     "output_type": "execute_result"
    }
   ],
   "source": [
    "df.head()"
   ]
  },
  {
   "cell_type": "code",
   "execution_count": 140,
   "metadata": {},
   "outputs": [
    {
     "data": {
      "text/html": [
       "<div>\n",
       "<style scoped>\n",
       "    .dataframe tbody tr th:only-of-type {\n",
       "        vertical-align: middle;\n",
       "    }\n",
       "\n",
       "    .dataframe tbody tr th {\n",
       "        vertical-align: top;\n",
       "    }\n",
       "\n",
       "    .dataframe thead th {\n",
       "        text-align: right;\n",
       "    }\n",
       "</style>\n",
       "<table border=\"1\" class=\"dataframe\">\n",
       "  <thead>\n",
       "    <tr style=\"text-align: right;\">\n",
       "      <th></th>\n",
       "      <th>date</th>\n",
       "      <th>open</th>\n",
       "      <th>high</th>\n",
       "      <th>low</th>\n",
       "      <th>close</th>\n",
       "      <th>adjclose</th>\n",
       "      <th>volume</th>\n",
       "    </tr>\n",
       "  </thead>\n",
       "  <tbody>\n",
       "    <tr>\n",
       "      <th>7722</th>\n",
       "      <td>2023-09-29</td>\n",
       "      <td>431.670013</td>\n",
       "      <td>431.850006</td>\n",
       "      <td>425.910004</td>\n",
       "      <td>427.480011</td>\n",
       "      <td>427.480011</td>\n",
       "      <td>115078500</td>\n",
       "    </tr>\n",
       "    <tr>\n",
       "      <th>7723</th>\n",
       "      <td>2023-10-02</td>\n",
       "      <td>426.619995</td>\n",
       "      <td>428.600006</td>\n",
       "      <td>424.459991</td>\n",
       "      <td>427.309998</td>\n",
       "      <td>427.309998</td>\n",
       "      <td>83798600</td>\n",
       "    </tr>\n",
       "    <tr>\n",
       "      <th>7724</th>\n",
       "      <td>2023-10-03</td>\n",
       "      <td>425.059998</td>\n",
       "      <td>427.369995</td>\n",
       "      <td>420.179993</td>\n",
       "      <td>421.589996</td>\n",
       "      <td>421.589996</td>\n",
       "      <td>103760600</td>\n",
       "    </tr>\n",
       "    <tr>\n",
       "      <th>7725</th>\n",
       "      <td>2023-10-04</td>\n",
       "      <td>422.070007</td>\n",
       "      <td>425.429993</td>\n",
       "      <td>420.559998</td>\n",
       "      <td>424.660004</td>\n",
       "      <td>424.660004</td>\n",
       "      <td>87453000</td>\n",
       "    </tr>\n",
       "    <tr>\n",
       "      <th>7726</th>\n",
       "      <td>2023-10-05</td>\n",
       "      <td>424.359985</td>\n",
       "      <td>425.369995</td>\n",
       "      <td>421.170013</td>\n",
       "      <td>424.500000</td>\n",
       "      <td>424.500000</td>\n",
       "      <td>70103300</td>\n",
       "    </tr>\n",
       "  </tbody>\n",
       "</table>\n",
       "</div>"
      ],
      "text/plain": [
       "            date        open        high         low       close    adjclose  \\\n",
       "7722  2023-09-29  431.670013  431.850006  425.910004  427.480011  427.480011   \n",
       "7723  2023-10-02  426.619995  428.600006  424.459991  427.309998  427.309998   \n",
       "7724  2023-10-03  425.059998  427.369995  420.179993  421.589996  421.589996   \n",
       "7725  2023-10-04  422.070007  425.429993  420.559998  424.660004  424.660004   \n",
       "7726  2023-10-05  424.359985  425.369995  421.170013  424.500000  424.500000   \n",
       "\n",
       "         volume  \n",
       "7722  115078500  \n",
       "7723   83798600  \n",
       "7724  103760600  \n",
       "7725   87453000  \n",
       "7726   70103300  "
      ]
     },
     "execution_count": 140,
     "metadata": {},
     "output_type": "execute_result"
    }
   ],
   "source": [
    "df.tail()"
   ]
  },
  {
   "cell_type": "markdown",
   "metadata": {},
   "source": [
    "## Question 1\n",
    "\n",
    "Download SPY data Download SPY data and the Probabilistic Sharpe Ratio. Backtest a naive trading strategy that buys SPY at a month’s end if RF predicts the SPX return will be positive next, and vice versa for shorts. (8 points)\n",
    "\n",
    "From backtesting (applied our predictive model)"
   ]
  },
  {
   "cell_type": "code",
   "execution_count": 258,
   "metadata": {},
   "outputs": [],
   "source": [
    "df['date'] = pd.to_datetime(df['date'])"
   ]
  },
  {
   "cell_type": "code",
   "execution_count": 299,
   "metadata": {},
   "outputs": [],
   "source": [
    "endofmonth = []\n",
    "dateholder = []\n",
    "current_month = 1\n",
    "for i in df.index:\n",
    "    if df['date'][i].month != current_month:\n",
    "        current_month = df['date'][i].month\n",
    "        endofmonth.append(df['date'][i-1].date())\n",
    "    elif i == df.index[-1]:\n",
    "        endofmonth.append(df['date'][i].date())\n",
    "    else:\n",
    "        continue\n",
    "    "
   ]
  },
  {
   "cell_type": "code",
   "execution_count": 300,
   "metadata": {},
   "outputs": [],
   "source": [
    "endofmonth = pd.DataFrame(endofmonth, columns=['date'])\n",
    "endofmonth['date'] = pd.to_datetime(endofmonth['date'])\n",
    "eom_df = df[df['date'].isin(endofmonth['date'])].copy()\n",
    "eom_df.set_index('date', inplace=True)\n",
    "\n",
    "#df['log_returns'] = np.log(df['close']/df['close'].shift(1)).dropna()\n",
    "eom_df['log_returns'] = np.log(eom_df['close']) - np.log(eom_df['close'].shift(1))\n",
    "eom_df.dropna(inplace=True)\n",
    "eom_df['target'] = np.where(eom_df['log_returns'] > 0, 1, -1)"
   ]
  },
  {
   "cell_type": "code",
   "execution_count": 301,
   "metadata": {},
   "outputs": [
    {
     "data": {
      "text/html": [
       "<div>\n",
       "<style scoped>\n",
       "    .dataframe tbody tr th:only-of-type {\n",
       "        vertical-align: middle;\n",
       "    }\n",
       "\n",
       "    .dataframe tbody tr th {\n",
       "        vertical-align: top;\n",
       "    }\n",
       "\n",
       "    .dataframe thead th {\n",
       "        text-align: right;\n",
       "    }\n",
       "</style>\n",
       "<table border=\"1\" class=\"dataframe\">\n",
       "  <thead>\n",
       "    <tr style=\"text-align: right;\">\n",
       "      <th></th>\n",
       "      <th>open</th>\n",
       "      <th>high</th>\n",
       "      <th>low</th>\n",
       "      <th>close</th>\n",
       "      <th>adjclose</th>\n",
       "      <th>volume</th>\n",
       "      <th>log_returns</th>\n",
       "      <th>target</th>\n",
       "    </tr>\n",
       "    <tr>\n",
       "      <th>date</th>\n",
       "      <th></th>\n",
       "      <th></th>\n",
       "      <th></th>\n",
       "      <th></th>\n",
       "      <th></th>\n",
       "      <th></th>\n",
       "      <th></th>\n",
       "      <th></th>\n",
       "    </tr>\n",
       "  </thead>\n",
       "  <tbody>\n",
       "    <tr>\n",
       "      <th>1993-02-26</th>\n",
       "      <td>44.43750</td>\n",
       "      <td>44.43750</td>\n",
       "      <td>44.18750</td>\n",
       "      <td>44.40625</td>\n",
       "      <td>25.207478</td>\n",
       "      <td>66200</td>\n",
       "      <td>0.010612</td>\n",
       "      <td>1</td>\n",
       "    </tr>\n",
       "    <tr>\n",
       "      <th>1993-03-31</th>\n",
       "      <td>45.34375</td>\n",
       "      <td>45.46875</td>\n",
       "      <td>45.18750</td>\n",
       "      <td>45.18750</td>\n",
       "      <td>25.772120</td>\n",
       "      <td>111600</td>\n",
       "      <td>0.017440</td>\n",
       "      <td>1</td>\n",
       "    </tr>\n",
       "    <tr>\n",
       "      <th>1993-04-30</th>\n",
       "      <td>44.12500</td>\n",
       "      <td>44.28125</td>\n",
       "      <td>44.03125</td>\n",
       "      <td>44.03125</td>\n",
       "      <td>25.112652</td>\n",
       "      <td>88500</td>\n",
       "      <td>-0.025921</td>\n",
       "      <td>-1</td>\n",
       "    </tr>\n",
       "    <tr>\n",
       "      <th>1993-05-28</th>\n",
       "      <td>45.40625</td>\n",
       "      <td>45.40625</td>\n",
       "      <td>45.00000</td>\n",
       "      <td>45.21875</td>\n",
       "      <td>25.789928</td>\n",
       "      <td>79100</td>\n",
       "      <td>0.026612</td>\n",
       "      <td>1</td>\n",
       "    </tr>\n",
       "    <tr>\n",
       "      <th>1993-06-30</th>\n",
       "      <td>45.12500</td>\n",
       "      <td>45.21875</td>\n",
       "      <td>45.00000</td>\n",
       "      <td>45.06250</td>\n",
       "      <td>25.882969</td>\n",
       "      <td>437600</td>\n",
       "      <td>-0.003461</td>\n",
       "      <td>-1</td>\n",
       "    </tr>\n",
       "  </tbody>\n",
       "</table>\n",
       "</div>"
      ],
      "text/plain": [
       "                open      high       low     close   adjclose  volume  \\\n",
       "date                                                                    \n",
       "1993-02-26  44.43750  44.43750  44.18750  44.40625  25.207478   66200   \n",
       "1993-03-31  45.34375  45.46875  45.18750  45.18750  25.772120  111600   \n",
       "1993-04-30  44.12500  44.28125  44.03125  44.03125  25.112652   88500   \n",
       "1993-05-28  45.40625  45.40625  45.00000  45.21875  25.789928   79100   \n",
       "1993-06-30  45.12500  45.21875  45.00000  45.06250  25.882969  437600   \n",
       "\n",
       "            log_returns  target  \n",
       "date                             \n",
       "1993-02-26     0.010612       1  \n",
       "1993-03-31     0.017440       1  \n",
       "1993-04-30    -0.025921      -1  \n",
       "1993-05-28     0.026612       1  \n",
       "1993-06-30    -0.003461      -1  "
      ]
     },
     "execution_count": 301,
     "metadata": {},
     "output_type": "execute_result"
    }
   ],
   "source": [
    "eom_df.head()"
   ]
  },
  {
   "cell_type": "code",
   "execution_count": 302,
   "metadata": {},
   "outputs": [],
   "source": [
    "# with 30 years of data we can split it into about 20 years of training and 10 years of testing\n",
    "training = eom_df[eom_df.index < '2013-02-01'].drop(['log_returns'], axis=1)\n",
    "testing = eom_df[eom_df.index >= '2013-01-01'].drop(['log_returns'], axis=1)\n",
    "\n",
    "#training = eom_df[eom_df.index < '2013-02-01']\n",
    "#testing = eom_df[eom_df.index >= '2013-01-01']"
   ]
  },
  {
   "cell_type": "code",
   "execution_count": 316,
   "metadata": {},
   "outputs": [],
   "source": [
    "q1_model = rfmodel('q1', training)\n",
    "q1_model.splitdata(test_size=.3)\n",
    "q1_model.fit()\n",
    "q1_model.pred()\n",
    "q1_model.getAccuracy()"
   ]
  },
  {
   "cell_type": "code",
   "execution_count": 317,
   "metadata": {},
   "outputs": [
    {
     "name": "stdout",
     "output_type": "stream",
     "text": [
      "start MDA 2024-02-10 22:20:55.517990\n",
      "   Split 1\n",
      "   Split 2\n",
      "   Split 3\n",
      "   Split 4\n",
      "   Split 5\n",
      "   Split 6\n",
      "   Split 7\n",
      "   Split 8\n",
      "   Split 9\n",
      "   Split 10\n",
      "end MDA 2024-02-10 22:20:57.314799\n"
     ]
    }
   ],
   "source": [
    "q1_model.featImpMDA_classify()"
   ]
  },
  {
   "cell_type": "code",
   "execution_count": 318,
   "metadata": {},
   "outputs": [
    {
     "data": {
      "image/png": "[encoded data removed]",
      "text/plain": [
       "<Figure size 1200x700 with 1 Axes>"
      ]
     },
     "metadata": {},
     "output_type": "display_data"
    }
   ],
   "source": [
    "q1_model.plot_importances()"
   ]
  },
  {
   "cell_type": "markdown",
   "metadata": {},
   "source": [
    "### Q1 Backtest"
   ]
  },
  {
   "cell_type": "code",
   "execution_count": 347,
   "metadata": {},
   "outputs": [],
   "source": [
    "def annualized_return(returns, periods):\n",
    "    annualized_return = returns.mean() * 12\n",
    "    return round(annualized_return, 4)\n",
    "\n",
    "def annualized_sharpe_ratio(returns, periods):\n",
    "    sharpe_ratio = returns.mean()/returns.std()\n",
    "    annualized_sharpe_ratio = sharpe_ratio*np.sqrt(12)\n",
    "    return round(annualized_sharpe_ratio, 4)"
   ]
  },
  {
   "cell_type": "code",
   "execution_count": 349,
   "metadata": {},
   "outputs": [
    {
     "data": {
      "text/plain": [
       "date\n",
       "2013-12-31    11.215076\n",
       "2014-12-31    12.110720\n",
       "2015-12-31    12.000833\n",
       "2016-12-31    12.096910\n",
       "2017-12-31    12.179324\n",
       "2018-12-31    11.945921\n",
       "2019-12-31    12.263079\n",
       "2020-12-31    12.347382\n",
       "2021-12-31    12.247407\n",
       "2022-12-31    11.810258\n",
       "2023-12-31    10.111057\n",
       "Freq: YE-DEC, Name: total_return_exp, dtype: float64"
      ]
     },
     "execution_count": 349,
     "metadata": {},
     "output_type": "execute_result"
    }
   ],
   "source": [
    "q1backtest.fulldata.groupby(pd.Grouper(freq='YE'))['total_return_exp'].sum()"
   ]
  },
  {
   "cell_type": "code",
   "execution_count": 335,
   "metadata": {},
   "outputs": [],
   "source": [
    "def backtest(df, model):\n",
    "    newmodel = rfmodel(model.name+'_backtest', df, split=False, model=model.model)\n",
    "    for col in newmodel.data.columns:\n",
    "        if 'log_return' in col:\n",
    "            newmodel.data.drop(col, axis=1, inplace=True)\n",
    "    newmodel.splitdata()\n",
    "    newmodel.pred()\n",
    "    newmodel.getAccuracy()\n",
    "    newmodel.fulldata = newmodel.data.copy()\n",
    "    newmodel.fulldata['predicted'] = newmodel.preds\n",
    "    newmodel.fulldata['correct'] = np.where(newmodel.fulldata['predicted'] == newmodel.fulldata['target'], 1, 0)\n",
    "    #newmodel.fulldata.sort_index(inplace=True)\n",
    "    newmodel.fulldata['log_return'] = np.log(newmodel.fulldata['close']) - np.log(newmodel.fulldata['close'].shift(1))\n",
    "    newmodel.fulldata['short_return'] = np.where(newmodel.fulldata['predicted'] == -1, -1*newmodel.fulldata['log_return'], 0)\n",
    "    newmodel.fulldata['long_return'] = np.where(newmodel.fulldata['predicted'] == 1, newmodel.fulldata['log_return'], 0)\n",
    "    newmodel.fulldata['total_return'] = newmodel.fulldata['short_return'] + newmodel.fulldata['long_return']\n",
    "    newmodel.fulldata['total_return_exp'] = np.exp(newmodel.fulldata['total_return'])\n",
    "    newmodel.fulldata['cumulative_return'] = newmodel.fulldata['total_return'].cumsum()\n",
    "    newmodel.fulldata['cumulative_return_exp'] = newmodel.fulldata['total_return_exp'].sum()\n",
    "    return newmodel"
   ]
  },
  {
   "cell_type": "code",
   "execution_count": 336,
   "metadata": {},
   "outputs": [],
   "source": [
    "q1backtest = backtest(testing, q1_model)"
   ]
  },
  {
   "cell_type": "code",
   "execution_count": 337,
   "metadata": {},
   "outputs": [
    {
     "data": {
      "text/plain": [
       "1.2072292098942556"
      ]
     },
     "execution_count": 337,
     "metadata": {},
     "output_type": "execute_result"
    }
   ],
   "source": [
    "q1backtest.fulldata['total_return'].sum()"
   ]
  },
  {
   "cell_type": "code",
   "execution_count": 338,
   "metadata": {},
   "outputs": [
    {
     "data": {
      "text/plain": [
       "3.34420571138957"
      ]
     },
     "execution_count": 338,
     "metadata": {},
     "output_type": "execute_result"
    }
   ],
   "source": [
    "np.exp(q1backtest.fulldata['total_return'].sum())"
   ]
  },
  {
   "cell_type": "code",
   "execution_count": 342,
   "metadata": {},
   "outputs": [
    {
     "data": {
      "text/plain": [
       "<Axes: >"
      ]
     },
     "execution_count": 342,
     "metadata": {},
     "output_type": "execute_result"
    },
    {
     "data": {
      "image/png": "[encoded data removed]",
      "text/plain": [
       "<Figure size 1200x700 with 1 Axes>"
      ]
     },
     "metadata": {},
     "output_type": "display_data"
    }
   ],
   "source": [
    "q1backtest.fulldata['total_return'].hist()"
   ]
  },
  {
   "cell_type": "code",
   "execution_count": 345,
   "metadata": {},
   "outputs": [
    {
     "data": {
      "text/plain": [
       "<Axes: xlabel='date'>"
      ]
     },
     "execution_count": 345,
     "metadata": {},
     "output_type": "execute_result"
    },
    {
     "data": {
      "image/png": "[encoded data removed]",
      "text/plain": [
       "<Figure size 1200x700 with 1 Axes>"
      ]
     },
     "metadata": {},
     "output_type": "display_data"
    }
   ],
   "source": [
    "q1backtest.fulldata['total_return_exp'].plot()"
   ]
  },
  {
   "cell_type": "code",
   "execution_count": 350,
   "metadata": {},
   "outputs": [],
   "source": [
    "q1backtest.mean_returns = q1backtest.fulldata['total_return_exp'].mean()\n",
    "q1backtest.std_returns = q1backtest.fulldata['total_return_exp'].std(ddof=1)\n",
    "q1backtest.est_sharpe = q1backtest.mean_returns/q1backtest.std_returns"
   ]
  },
  {
   "cell_type": "code",
   "execution_count": 351,
   "metadata": {},
   "outputs": [
    {
     "data": {
      "text/plain": [
       "23.874603997593066"
      ]
     },
     "execution_count": 351,
     "metadata": {},
     "output_type": "execute_result"
    }
   ],
   "source": [
    "q1backtest.est_sharpe"
   ]
  },
  {
   "cell_type": "code",
   "execution_count": 344,
   "metadata": {},
   "outputs": [
    {
     "data": {
      "text/html": [
       "<div>\n",
       "<style scoped>\n",
       "    .dataframe tbody tr th:only-of-type {\n",
       "        vertical-align: middle;\n",
       "    }\n",
       "\n",
       "    .dataframe tbody tr th {\n",
       "        vertical-align: top;\n",
       "    }\n",
       "\n",
       "    .dataframe thead th {\n",
       "        text-align: right;\n",
       "    }\n",
       "</style>\n",
       "<table border=\"1\" class=\"dataframe\">\n",
       "  <thead>\n",
       "    <tr style=\"text-align: right;\">\n",
       "      <th></th>\n",
       "      <th>model</th>\n",
       "      <th>precision_train</th>\n",
       "      <th>recall_train</th>\n",
       "      <th>f1_train</th>\n",
       "      <th>auc_train</th>\n",
       "      <th>precision_test</th>\n",
       "      <th>recall_test</th>\n",
       "      <th>f1_test</th>\n",
       "      <th>auc_test</th>\n",
       "      <th>precision</th>\n",
       "      <th>recall</th>\n",
       "      <th>f1</th>\n",
       "      <th>auc</th>\n",
       "    </tr>\n",
       "  </thead>\n",
       "  <tbody>\n",
       "    <tr>\n",
       "      <th>0</th>\n",
       "      <td>q1</td>\n",
       "      <td>1.0</td>\n",
       "      <td>1.0</td>\n",
       "      <td>1.0</td>\n",
       "      <td>1.0</td>\n",
       "      <td>0.555556</td>\n",
       "      <td>0.625</td>\n",
       "      <td>0.588235</td>\n",
       "      <td>0.555556</td>\n",
       "      <td>NaN</td>\n",
       "      <td>NaN</td>\n",
       "      <td>NaN</td>\n",
       "      <td>NaN</td>\n",
       "    </tr>\n",
       "    <tr>\n",
       "      <th>1</th>\n",
       "      <td>q1_backtest</td>\n",
       "      <td>NaN</td>\n",
       "      <td>NaN</td>\n",
       "      <td>NaN</td>\n",
       "      <td>NaN</td>\n",
       "      <td>NaN</td>\n",
       "      <td>NaN</td>\n",
       "      <td>NaN</td>\n",
       "      <td>NaN</td>\n",
       "      <td>0.674419</td>\n",
       "      <td>1.0</td>\n",
       "      <td>0.805556</td>\n",
       "      <td>0.674419</td>\n",
       "    </tr>\n",
       "  </tbody>\n",
       "</table>\n",
       "</div>"
      ],
      "text/plain": [
       "         model  precision_train  recall_train  f1_train  auc_train  \\\n",
       "0           q1              1.0           1.0       1.0        1.0   \n",
       "1  q1_backtest              NaN           NaN       NaN        NaN   \n",
       "\n",
       "   precision_test  recall_test   f1_test  auc_test  precision  recall  \\\n",
       "0        0.555556        0.625  0.588235  0.555556        NaN     NaN   \n",
       "1             NaN          NaN       NaN       NaN   0.674419     1.0   \n",
       "\n",
       "         f1       auc  \n",
       "0       NaN       NaN  \n",
       "1  0.805556  0.674419  "
      ]
     },
     "execution_count": 344,
     "metadata": {},
     "output_type": "execute_result"
    }
   ],
   "source": [
    "mod_list = [q1_model, q1backtest]\n",
    "bigholder = []\n",
    "\n",
    "for x in mod_list:\n",
    "    smallholder = {}\n",
    "    if x.split == True:\n",
    "        smallholder['model'] = q1_model.name\n",
    "        smallholder['precision_train'] = q1_model.bigscoretrain[0]\n",
    "        smallholder['recall_train'] = q1_model.bigscoretrain[1]\n",
    "        smallholder['f1_train'] = q1_model.bigscoretrain[2]\n",
    "        smallholder['auc_train'] = q1_model.auc_train\n",
    "        smallholder['precision_test'] = q1_model.bigscoretest[0]\n",
    "        smallholder['recall_test'] = q1_model.bigscoretest[1]\n",
    "        smallholder['f1_test'] = q1_model.bigscoretest[2]\n",
    "        smallholder['auc_test'] = q1_model.auc_test\n",
    "        bigholder.append(smallholder)\n",
    "    else:\n",
    "        smallholder['model'] = q1backtest.name\n",
    "        smallholder['precision'] = q1backtest.bigscore[0]\n",
    "        smallholder['recall'] = q1backtest.bigscore[1]\n",
    "        smallholder['f1'] = q1backtest.bigscore[2]\n",
    "        smallholder['auc'] = q1backtest.auc\n",
    "        bigholder.append(smallholder)\n",
    "scores_df = pd.DataFrame(bigholder)\n",
    "scores_df\n"
   ]
  },
  {
   "cell_type": "markdown",
   "metadata": {},
   "source": [
    "## Question 2\n",
    "\n",
    "Use the first RF model from Part 4 of the Module 5: Coding Assignment. Find the annualized average return and Sharpe ratio of this strategy over the train and test sets as defined in that coding assignment (you can assume the risk-free rate to be zero when computing Sharpe ratio). Why can’t we backtest a trading strategy using the SPX index directly? (16 points) \n",
    "\n",
    "Based on our analysis it looks like the Estimated Sharpe Ratio (ESR) = 0.5871928663595524.\n",
    "\n",
    "Interestingly when we do the annualized estimate we get 2.034095756753493.\n",
    "\n",
    "Backtesting a trading strategy on SPX is weird since we can't buy/sell SPX directly. If we used SPY based on it we could model a strategy for trading against something that follows the SPX."
   ]
  },
  {
   "cell_type": "code",
   "execution_count": 394,
   "metadata": {},
   "outputs": [],
   "source": [
    "\"\"\"xdat = pd.read_csv('X_processed_final.csv')\n",
    "ydat = pd.read_csv('y_final.csv')\n",
    "combined = pd.concat([xdat, ydat], axis=1)\n",
    "seed1_combined = combined[['yyyymm', 'lty_FD', 'd/e', 'tms', 'ret']]\n",
    "seed2_combined = combined[['yyyymm', 'e/p', 'd/e', 'infl', 'ret']]\n",
    "\n",
    "seed1_model = pickle.load(open('./top5featRF-seed1.sav', 'rb'))\n",
    "seed2_model = pickle.load(open('./top5featRF-seed2.sav', 'rb'))\"\"\""
   ]
  },
  {
   "cell_type": "code",
   "execution_count": 434,
   "metadata": {},
   "outputs": [],
   "source": [
    "seed1_data = pd.read_csv('./seed1export.csv')\n",
    "seed1_data.set_index('yyyymm', inplace=True)\n",
    "seed2_data = pd.read_csv('./seed2export.csv')\n",
    "seed2_data.set_index('yyyymm', inplace=True)\n",
    "full = pd.read_csv('./full_with_returns.csv')\n",
    "full.rename(columns={'ret':'log_return'}, inplace=True)\n",
    "full.set_index('yyyymm', inplace=True)"
   ]
  },
  {
   "cell_type": "code",
   "execution_count": 435,
   "metadata": {},
   "outputs": [],
   "source": [
    "seed1_analysis = seed1_data.copy().merge(full[['log_return']], left_index=True, right_index=True, how='left')\n",
    "seed1_analysis['correct'] = np.where(seed1_analysis['predicted'] == seed1_analysis['ret'], 1, 0)\n",
    "#seed1_analysis.sort_index(inplace=True)\n",
    "seed1_analysis['short_return'] = np.where(seed1_analysis['predicted'] == -1, -1*seed1_analysis['log_return'], 0)\n",
    "seed1_analysis['long_return'] = np.where(seed1_analysis['predicted'] == 1, seed1_analysis['log_return'], 0)\n",
    "seed1_analysis['total_return'] = seed1_analysis['short_return'] + seed1_analysis['long_return']\n",
    "seed1_analysis['total_return_exp'] = np.exp(seed1_analysis['total_return'])\n",
    "seed1_analysis['cumulative_return'] = seed1_analysis['total_return'].cumsum()\n",
    "seed1_analysis['cumulative_return_exp'] = seed1_analysis['total_return_exp'].cumsum()"
   ]
  },
  {
   "cell_type": "code",
   "execution_count": 437,
   "metadata": {},
   "outputs": [
    {
     "data": {
      "text/html": [
       "<div>\n",
       "<style scoped>\n",
       "    .dataframe tbody tr th:only-of-type {\n",
       "        vertical-align: middle;\n",
       "    }\n",
       "\n",
       "    .dataframe tbody tr th {\n",
       "        vertical-align: top;\n",
       "    }\n",
       "\n",
       "    .dataframe thead th {\n",
       "        text-align: right;\n",
       "    }\n",
       "</style>\n",
       "<table border=\"1\" class=\"dataframe\">\n",
       "  <thead>\n",
       "    <tr style=\"text-align: right;\">\n",
       "      <th></th>\n",
       "      <th>lty_FD</th>\n",
       "      <th>d/e</th>\n",
       "      <th>tms</th>\n",
       "      <th>ret</th>\n",
       "      <th>predicted</th>\n",
       "      <th>ntis</th>\n",
       "      <th>infl</th>\n",
       "      <th>ltr</th>\n",
       "      <th>corpr</th>\n",
       "      <th>svar</th>\n",
       "      <th>...</th>\n",
       "      <th>b/m_FD</th>\n",
       "      <th>tbl_FD</th>\n",
       "      <th>log_return</th>\n",
       "      <th>correct</th>\n",
       "      <th>short_return</th>\n",
       "      <th>long_return</th>\n",
       "      <th>total_return</th>\n",
       "      <th>total_return_exp</th>\n",
       "      <th>cumulative_return</th>\n",
       "      <th>cumulative_return_exp</th>\n",
       "    </tr>\n",
       "    <tr>\n",
       "      <th>yyyymm</th>\n",
       "      <th></th>\n",
       "      <th></th>\n",
       "      <th></th>\n",
       "      <th></th>\n",
       "      <th></th>\n",
       "      <th></th>\n",
       "      <th></th>\n",
       "      <th></th>\n",
       "      <th></th>\n",
       "      <th></th>\n",
       "      <th></th>\n",
       "      <th></th>\n",
       "      <th></th>\n",
       "      <th></th>\n",
       "      <th></th>\n",
       "      <th></th>\n",
       "      <th></th>\n",
       "      <th></th>\n",
       "      <th></th>\n",
       "      <th></th>\n",
       "      <th></th>\n",
       "    </tr>\n",
       "  </thead>\n",
       "  <tbody>\n",
       "    <tr>\n",
       "      <th>1945-12-01</th>\n",
       "      <td>-1.507835</td>\n",
       "      <td>-0.374693</td>\n",
       "      <td>0.0161</td>\n",
       "      <td>1.0</td>\n",
       "      <td>1</td>\n",
       "      <td>NaN</td>\n",
       "      <td>NaN</td>\n",
       "      <td>NaN</td>\n",
       "      <td>NaN</td>\n",
       "      <td>NaN</td>\n",
       "      <td>...</td>\n",
       "      <td>NaN</td>\n",
       "      <td>NaN</td>\n",
       "      <td>0.067062</td>\n",
       "      <td>1</td>\n",
       "      <td>0.000000</td>\n",
       "      <td>0.067062</td>\n",
       "      <td>0.067062</td>\n",
       "      <td>1.069362</td>\n",
       "      <td>0.067062</td>\n",
       "      <td>1.069362</td>\n",
       "    </tr>\n",
       "    <tr>\n",
       "      <th>1946-01-01</th>\n",
       "      <td>-1.486065</td>\n",
       "      <td>-0.343589</td>\n",
       "      <td>0.0161</td>\n",
       "      <td>-1.0</td>\n",
       "      <td>-1</td>\n",
       "      <td>NaN</td>\n",
       "      <td>NaN</td>\n",
       "      <td>NaN</td>\n",
       "      <td>NaN</td>\n",
       "      <td>NaN</td>\n",
       "      <td>...</td>\n",
       "      <td>NaN</td>\n",
       "      <td>NaN</td>\n",
       "      <td>-0.072314</td>\n",
       "      <td>1</td>\n",
       "      <td>0.072314</td>\n",
       "      <td>0.000000</td>\n",
       "      <td>0.072314</td>\n",
       "      <td>1.074993</td>\n",
       "      <td>0.139376</td>\n",
       "      <td>2.144355</td>\n",
       "    </tr>\n",
       "    <tr>\n",
       "      <th>1946-02-01</th>\n",
       "      <td>-1.481915</td>\n",
       "      <td>-0.312134</td>\n",
       "      <td>0.0160</td>\n",
       "      <td>1.0</td>\n",
       "      <td>1</td>\n",
       "      <td>NaN</td>\n",
       "      <td>NaN</td>\n",
       "      <td>NaN</td>\n",
       "      <td>NaN</td>\n",
       "      <td>NaN</td>\n",
       "      <td>...</td>\n",
       "      <td>NaN</td>\n",
       "      <td>NaN</td>\n",
       "      <td>0.044940</td>\n",
       "      <td>1</td>\n",
       "      <td>0.000000</td>\n",
       "      <td>0.044940</td>\n",
       "      <td>0.044940</td>\n",
       "      <td>1.045965</td>\n",
       "      <td>0.184316</td>\n",
       "      <td>3.190320</td>\n",
       "    </tr>\n",
       "    <tr>\n",
       "      <th>1946-03-01</th>\n",
       "      <td>-1.474585</td>\n",
       "      <td>-0.280302</td>\n",
       "      <td>0.0160</td>\n",
       "      <td>1.0</td>\n",
       "      <td>1</td>\n",
       "      <td>NaN</td>\n",
       "      <td>NaN</td>\n",
       "      <td>NaN</td>\n",
       "      <td>NaN</td>\n",
       "      <td>NaN</td>\n",
       "      <td>...</td>\n",
       "      <td>NaN</td>\n",
       "      <td>NaN</td>\n",
       "      <td>0.036604</td>\n",
       "      <td>1</td>\n",
       "      <td>0.000000</td>\n",
       "      <td>0.036604</td>\n",
       "      <td>0.036604</td>\n",
       "      <td>1.037282</td>\n",
       "      <td>0.220920</td>\n",
       "      <td>4.227602</td>\n",
       "    </tr>\n",
       "    <tr>\n",
       "      <th>1946-04-01</th>\n",
       "      <td>-1.425691</td>\n",
       "      <td>-0.257829</td>\n",
       "      <td>0.0169</td>\n",
       "      <td>1.0</td>\n",
       "      <td>1</td>\n",
       "      <td>NaN</td>\n",
       "      <td>NaN</td>\n",
       "      <td>NaN</td>\n",
       "      <td>NaN</td>\n",
       "      <td>NaN</td>\n",
       "      <td>...</td>\n",
       "      <td>NaN</td>\n",
       "      <td>NaN</td>\n",
       "      <td>0.021824</td>\n",
       "      <td>1</td>\n",
       "      <td>0.000000</td>\n",
       "      <td>0.021824</td>\n",
       "      <td>0.021824</td>\n",
       "      <td>1.022064</td>\n",
       "      <td>0.242745</td>\n",
       "      <td>5.249666</td>\n",
       "    </tr>\n",
       "  </tbody>\n",
       "</table>\n",
       "<p>5 rows × 25 columns</p>\n",
       "</div>"
      ],
      "text/plain": [
       "              lty_FD       d/e     tms  ret  predicted  ntis  infl  ltr  \\\n",
       "yyyymm                                                                    \n",
       "1945-12-01 -1.507835 -0.374693  0.0161  1.0          1   NaN   NaN  NaN   \n",
       "1946-01-01 -1.486065 -0.343589  0.0161 -1.0         -1   NaN   NaN  NaN   \n",
       "1946-02-01 -1.481915 -0.312134  0.0160  1.0          1   NaN   NaN  NaN   \n",
       "1946-03-01 -1.474585 -0.280302  0.0160  1.0          1   NaN   NaN  NaN   \n",
       "1946-04-01 -1.425691 -0.257829  0.0169  1.0          1   NaN   NaN  NaN   \n",
       "\n",
       "            corpr  svar  ...  b/m_FD  tbl_FD  log_return  correct  \\\n",
       "yyyymm                   ...                                        \n",
       "1945-12-01    NaN   NaN  ...     NaN     NaN    0.067062        1   \n",
       "1946-01-01    NaN   NaN  ...     NaN     NaN   -0.072314        1   \n",
       "1946-02-01    NaN   NaN  ...     NaN     NaN    0.044940        1   \n",
       "1946-03-01    NaN   NaN  ...     NaN     NaN    0.036604        1   \n",
       "1946-04-01    NaN   NaN  ...     NaN     NaN    0.021824        1   \n",
       "\n",
       "            short_return  long_return  total_return  total_return_exp  \\\n",
       "yyyymm                                                                  \n",
       "1945-12-01      0.000000     0.067062      0.067062          1.069362   \n",
       "1946-01-01      0.072314     0.000000      0.072314          1.074993   \n",
       "1946-02-01      0.000000     0.044940      0.044940          1.045965   \n",
       "1946-03-01      0.000000     0.036604      0.036604          1.037282   \n",
       "1946-04-01      0.000000     0.021824      0.021824          1.022064   \n",
       "\n",
       "            cumulative_return  cumulative_return_exp  \n",
       "yyyymm                                                \n",
       "1945-12-01           0.067062               1.069362  \n",
       "1946-01-01           0.139376               2.144355  \n",
       "1946-02-01           0.184316               3.190320  \n",
       "1946-03-01           0.220920               4.227602  \n",
       "1946-04-01           0.242745               5.249666  \n",
       "\n",
       "[5 rows x 25 columns]"
      ]
     },
     "execution_count": 437,
     "metadata": {},
     "output_type": "execute_result"
    }
   ],
   "source": [
    "seed1_analysis.head()"
   ]
  },
  {
   "cell_type": "code",
   "execution_count": 444,
   "metadata": {},
   "outputs": [],
   "source": [
    "seed1_analysis_v2 = seed1_analysis.iloc[1:,]"
   ]
  },
  {
   "cell_type": "code",
   "execution_count": 427,
   "metadata": {},
   "outputs": [],
   "source": [
    "seed1_analysis_avg_ann_return = seed1_analysis_v2['total_return'].mean()*12\n",
    "seed1_analysis_avg_ann_return"
   ]
  },
  {
   "cell_type": "code",
   "execution_count": 447,
   "metadata": {},
   "outputs": [],
   "source": [
    "seed1_analysis_v2.index = pd.to_datetime(seed1_analysis_v2.index, format='mixed')"
   ]
  },
  {
   "cell_type": "code",
   "execution_count": 481,
   "metadata": {},
   "outputs": [
    {
     "data": {
      "text/html": [
       "<div>\n",
       "<style scoped>\n",
       "    .dataframe tbody tr th:only-of-type {\n",
       "        vertical-align: middle;\n",
       "    }\n",
       "\n",
       "    .dataframe tbody tr th {\n",
       "        vertical-align: top;\n",
       "    }\n",
       "\n",
       "    .dataframe thead th {\n",
       "        text-align: right;\n",
       "    }\n",
       "</style>\n",
       "<table border=\"1\" class=\"dataframe\">\n",
       "  <thead>\n",
       "    <tr style=\"text-align: right;\">\n",
       "      <th></th>\n",
       "      <th>yyyymm</th>\n",
       "      <th>total_return</th>\n",
       "    </tr>\n",
       "  </thead>\n",
       "  <tbody>\n",
       "    <tr>\n",
       "      <th>0</th>\n",
       "      <td>1946-12-31</td>\n",
       "      <td>12</td>\n",
       "    </tr>\n",
       "    <tr>\n",
       "      <th>1</th>\n",
       "      <td>1947-12-31</td>\n",
       "      <td>12</td>\n",
       "    </tr>\n",
       "    <tr>\n",
       "      <th>2</th>\n",
       "      <td>1948-12-31</td>\n",
       "      <td>12</td>\n",
       "    </tr>\n",
       "    <tr>\n",
       "      <th>3</th>\n",
       "      <td>1949-12-31</td>\n",
       "      <td>12</td>\n",
       "    </tr>\n",
       "    <tr>\n",
       "      <th>4</th>\n",
       "      <td>1950-12-31</td>\n",
       "      <td>12</td>\n",
       "    </tr>\n",
       "    <tr>\n",
       "      <th>...</th>\n",
       "      <td>...</td>\n",
       "      <td>...</td>\n",
       "    </tr>\n",
       "    <tr>\n",
       "      <th>68</th>\n",
       "      <td>2014-12-31</td>\n",
       "      <td>12</td>\n",
       "    </tr>\n",
       "    <tr>\n",
       "      <th>69</th>\n",
       "      <td>2015-12-31</td>\n",
       "      <td>12</td>\n",
       "    </tr>\n",
       "    <tr>\n",
       "      <th>70</th>\n",
       "      <td>2016-12-31</td>\n",
       "      <td>12</td>\n",
       "    </tr>\n",
       "    <tr>\n",
       "      <th>71</th>\n",
       "      <td>2017-12-31</td>\n",
       "      <td>12</td>\n",
       "    </tr>\n",
       "    <tr>\n",
       "      <th>72</th>\n",
       "      <td>2018-12-31</td>\n",
       "      <td>12</td>\n",
       "    </tr>\n",
       "  </tbody>\n",
       "</table>\n",
       "<p>73 rows × 2 columns</p>\n",
       "</div>"
      ],
      "text/plain": [
       "       yyyymm  total_return\n",
       "0  1946-12-31            12\n",
       "1  1947-12-31            12\n",
       "2  1948-12-31            12\n",
       "3  1949-12-31            12\n",
       "4  1950-12-31            12\n",
       "..        ...           ...\n",
       "68 2014-12-31            12\n",
       "69 2015-12-31            12\n",
       "70 2016-12-31            12\n",
       "71 2017-12-31            12\n",
       "72 2018-12-31            12\n",
       "\n",
       "[73 rows x 2 columns]"
      ]
     },
     "execution_count": 481,
     "metadata": {},
     "output_type": "execute_result"
    }
   ],
   "source": [
    "#check to make sure we have 12 months of data per year\n",
    "seed1_analysis_v2.groupby(pd.Grouper(freq='YE'))['total_return'].size().reset_index()"
   ]
  },
  {
   "cell_type": "code",
   "execution_count": 482,
   "metadata": {},
   "outputs": [
    {
     "data": {
      "text/plain": [
       "2.034095756753493"
      ]
     },
     "execution_count": 482,
     "metadata": {},
     "output_type": "execute_result"
    }
   ],
   "source": [
    "ann_estimated_sr = sr_funcs.ann_estimated_sharpe_ratio(seed1_analysis_v2['total_return'], 12)\n",
    "ann_estimated_sr"
   ]
  },
  {
   "cell_type": "code",
   "execution_count": 483,
   "metadata": {},
   "outputs": [
    {
     "data": {
      "text/plain": [
       "0.5871928663595524"
      ]
     },
     "execution_count": 483,
     "metadata": {},
     "output_type": "execute_result"
    }
   ],
   "source": [
    "esr = sr_funcs.estimated_sharpe_ratio(seed1_analysis_v2['total_return'])\n",
    "esr\n"
   ]
  },
  {
   "cell_type": "code",
   "execution_count": 484,
   "metadata": {},
   "outputs": [
    {
     "data": {
      "text/plain": [
       "0.045310615472214086"
      ]
     },
     "execution_count": 484,
     "metadata": {},
     "output_type": "execute_result"
    }
   ],
   "source": [
    "sr_stdv = sr_funcs.estimated_sharpe_ratio_stdev(seed1_analysis_v2['total_return'])\n",
    "sr_stdv"
   ]
  },
  {
   "cell_type": "markdown",
   "metadata": {},
   "source": [
    "## Question 3\n",
    "\n",
    "Based on the assigned reading from Bailey and López de Prado (2011)Links to an external site., what is the approximate probability (to within 1 significant digit) that the “true” Sharpe ratio is greater than 0 for your backtest over the test set? (You can use the zip file on Probabilistic Sharpe Ratio that you downloaded in Part 1 of this assignment for this calculation) (24 points)\n",
    "\n",
    "Our function returns a PSR of 1 meaning we have a 100% probability of our SR being greater than 0. \n",
    "\n",
    "If we don't round it it's 0.989695457059597. Rounding to 2 figs we get 99% chance.\n",
    "\n",
    "\n"
   ]
  },
  {
   "cell_type": "code",
   "execution_count": 485,
   "metadata": {},
   "outputs": [
    {
     "data": {
      "text/plain": [
       "0.989695457059597"
      ]
     },
     "execution_count": 485,
     "metadata": {},
     "output_type": "execute_result"
    }
   ],
   "source": [
    "sr_funcs.probabilistic_sharpe_ratio(q1backtest.fulldata.iloc[1:,]['total_return'])"
   ]
  },
  {
   "cell_type": "code",
   "execution_count": 486,
   "metadata": {},
   "outputs": [
    {
     "data": {
      "text/plain": [
       "1.0"
      ]
     },
     "execution_count": 486,
     "metadata": {},
     "output_type": "execute_result"
    }
   ],
   "source": [
    "round(sr_funcs.probabilistic_sharpe_ratio(q1backtest.fulldata.iloc[1:,]['total_return']),1)"
   ]
  },
  {
   "cell_type": "markdown",
   "metadata": {},
   "source": [
    "## Question 4\n",
    "\n",
    "Repeat Parts #1 and #2 of this assignment by using the RF model created in Part 6 of the coding assignment in Module 5. Does the Sharpe ratio over the test set change? (16 points)\n",
    "\n",
    "\n",
    "ESR = 0.6139636457203063\n",
    "\n",
    "AESR = 2.1268324567755768\n",
    "\n",
    "It looks like seed 2 is a little bit higher for both the ESR and AESR.\n",
    "\n"
   ]
  },
  {
   "cell_type": "code",
   "execution_count": 487,
   "metadata": {},
   "outputs": [],
   "source": [
    "seed2_analysis = seed2_data.copy().merge(full[['log_return']], left_index=True, right_index=True, how='left')\n",
    "seed2_analysis['correct'] = np.where(seed2_analysis['predicted'] == seed2_analysis['ret'], 1, 0)\n",
    "#seed2_analysis.sort_index(inplace=True)\n",
    "seed2_analysis['short_return'] = np.where(seed2_analysis['predicted'] == -1, -1*seed2_analysis['log_return'], 0)\n",
    "seed2_analysis['long_return'] = np.where(seed2_analysis['predicted'] == 1, seed2_analysis['log_return'], 0)\n",
    "seed2_analysis['total_return'] = seed2_analysis['short_return'] + seed2_analysis['long_return']\n",
    "seed2_analysis['total_return_exp'] = np.exp(seed2_analysis['total_return'])\n",
    "seed2_analysis['cumulative_return'] = seed2_analysis['total_return'].cumsum()\n",
    "seed2_analysis['cumulative_return_exp'] = seed2_analysis['total_return_exp'].cumsum()"
   ]
  },
  {
   "cell_type": "code",
   "execution_count": 488,
   "metadata": {},
   "outputs": [
    {
     "data": {
      "text/html": [
       "<div>\n",
       "<style scoped>\n",
       "    .dataframe tbody tr th:only-of-type {\n",
       "        vertical-align: middle;\n",
       "    }\n",
       "\n",
       "    .dataframe tbody tr th {\n",
       "        vertical-align: top;\n",
       "    }\n",
       "\n",
       "    .dataframe thead th {\n",
       "        text-align: right;\n",
       "    }\n",
       "</style>\n",
       "<table border=\"1\" class=\"dataframe\">\n",
       "  <thead>\n",
       "    <tr style=\"text-align: right;\">\n",
       "      <th></th>\n",
       "      <th>yyyymm</th>\n",
       "      <th>total_return</th>\n",
       "    </tr>\n",
       "  </thead>\n",
       "  <tbody>\n",
       "    <tr>\n",
       "      <th>0</th>\n",
       "      <td>1946-12-31</td>\n",
       "      <td>12</td>\n",
       "    </tr>\n",
       "    <tr>\n",
       "      <th>1</th>\n",
       "      <td>1947-12-31</td>\n",
       "      <td>12</td>\n",
       "    </tr>\n",
       "    <tr>\n",
       "      <th>2</th>\n",
       "      <td>1948-12-31</td>\n",
       "      <td>12</td>\n",
       "    </tr>\n",
       "    <tr>\n",
       "      <th>3</th>\n",
       "      <td>1949-12-31</td>\n",
       "      <td>12</td>\n",
       "    </tr>\n",
       "    <tr>\n",
       "      <th>4</th>\n",
       "      <td>1950-12-31</td>\n",
       "      <td>12</td>\n",
       "    </tr>\n",
       "    <tr>\n",
       "      <th>...</th>\n",
       "      <td>...</td>\n",
       "      <td>...</td>\n",
       "    </tr>\n",
       "    <tr>\n",
       "      <th>68</th>\n",
       "      <td>2014-12-31</td>\n",
       "      <td>12</td>\n",
       "    </tr>\n",
       "    <tr>\n",
       "      <th>69</th>\n",
       "      <td>2015-12-31</td>\n",
       "      <td>12</td>\n",
       "    </tr>\n",
       "    <tr>\n",
       "      <th>70</th>\n",
       "      <td>2016-12-31</td>\n",
       "      <td>12</td>\n",
       "    </tr>\n",
       "    <tr>\n",
       "      <th>71</th>\n",
       "      <td>2017-12-31</td>\n",
       "      <td>12</td>\n",
       "    </tr>\n",
       "    <tr>\n",
       "      <th>72</th>\n",
       "      <td>2018-12-31</td>\n",
       "      <td>12</td>\n",
       "    </tr>\n",
       "  </tbody>\n",
       "</table>\n",
       "<p>73 rows × 2 columns</p>\n",
       "</div>"
      ],
      "text/plain": [
       "       yyyymm  total_return\n",
       "0  1946-12-31            12\n",
       "1  1947-12-31            12\n",
       "2  1948-12-31            12\n",
       "3  1949-12-31            12\n",
       "4  1950-12-31            12\n",
       "..        ...           ...\n",
       "68 2014-12-31            12\n",
       "69 2015-12-31            12\n",
       "70 2016-12-31            12\n",
       "71 2017-12-31            12\n",
       "72 2018-12-31            12\n",
       "\n",
       "[73 rows x 2 columns]"
      ]
     },
     "execution_count": 488,
     "metadata": {},
     "output_type": "execute_result"
    }
   ],
   "source": [
    "seed2_analysis_v2 = seed2_analysis.iloc[1:,]\n",
    "seed2_analysis_avg_ann_return = seed2_analysis_v2['total_return'].mean()*12\n",
    "seed2_analysis_avg_ann_return\n",
    "seed2_analysis_v2.index = pd.to_datetime(seed2_analysis_v2.index, format='mixed')\n",
    "seed2_analysis_v2.groupby(pd.Grouper(freq='YE'))['total_return'].size().reset_index()"
   ]
  },
  {
   "cell_type": "code",
   "execution_count": 489,
   "metadata": {},
   "outputs": [
    {
     "data": {
      "text/plain": [
       "2.1268324567755768"
      ]
     },
     "execution_count": 489,
     "metadata": {},
     "output_type": "execute_result"
    }
   ],
   "source": [
    "ann_estimated_sr_seed2 = sr_funcs.ann_estimated_sharpe_ratio(seed2_analysis_v2['total_return'], 12)\n",
    "ann_estimated_sr_seed2"
   ]
  },
  {
   "cell_type": "code",
   "execution_count": 490,
   "metadata": {},
   "outputs": [
    {
     "data": {
      "text/plain": [
       "0.6139636457203063"
      ]
     },
     "execution_count": 490,
     "metadata": {},
     "output_type": "execute_result"
    }
   ],
   "source": [
    "esr_seed2 = sr_funcs.estimated_sharpe_ratio(seed2_analysis_v2['total_return'])\n",
    "esr_seed2\n"
   ]
  },
  {
   "cell_type": "code",
   "execution_count": 492,
   "metadata": {},
   "outputs": [
    {
     "data": {
      "text/plain": [
       "1.0"
      ]
     },
     "execution_count": 492,
     "metadata": {},
     "output_type": "execute_result"
    }
   ],
   "source": [
    "sr_funcs.probabilistic_sharpe_ratio(seed1_analysis_v2['total_return'])"
   ]
  },
  {
   "cell_type": "code",
   "execution_count": 491,
   "metadata": {},
   "outputs": [
    {
     "data": {
      "text/plain": [
       "1.0"
      ]
     },
     "execution_count": 491,
     "metadata": {},
     "output_type": "execute_result"
    }
   ],
   "source": [
    "sr_funcs.probabilistic_sharpe_ratio(seed2_analysis_v2['total_return'])"
   ]
  },
  {
   "cell_type": "markdown",
   "metadata": {},
   "source": [
    "## Question 5\n",
    "\n",
    "Instead of using the theoretical results of the paper cited in Part 3 of this assignment, identify and explain an empirical way to find out the probability that your “true” Sharpe ratio will be positive. (16 points)\n",
    "\n",
    "I think one way of doing this would be monte carlo style. We run 100's of simulations while only changing the random seed. This should give us that variance we saw between the seed1 and seed2 results. Once we have hundreds of these results we should be able to determine based on the distribution what the 'true' sharpe ratio will be. We should actually be able to just take the average and trust that average."
   ]
  },
  {
   "cell_type": "code",
   "execution_count": null,
   "metadata": {},
   "outputs": [],
   "source": []
  }
 ],
 "metadata": {
  "kernelspec": {
   "display_name": "Python 3",
   "language": "python",
   "name": "python3"
  },
  "language_info": {
   "codemirror_mode": {
    "name": "ipython",
    "version": 3
   },
   "file_extension": ".py",
   "mimetype": "text/x-python",
   "name": "python",
   "nbconvert_exporter": "python",
   "pygments_lexer": "ipython3",
   "version": "3.12.1"
  }
 },
 "nbformat": 4,
 "nbformat_minor": 2
}
