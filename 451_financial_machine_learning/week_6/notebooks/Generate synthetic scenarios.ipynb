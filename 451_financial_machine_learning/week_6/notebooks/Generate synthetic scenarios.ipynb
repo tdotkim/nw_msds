{
 "cells": [
  {
   "cell_type": "code",
   "execution_count": 11,
   "metadata": {},
   "outputs": [
    {
     "name": "stdout",
     "output_type": "stream",
     "text": [
      "The autoreload extension is already loaded. To reload it, use:\n",
      "  %reload_ext autoreload\n"
     ]
    }
   ],
   "source": [
    "%load_ext autoreload\n",
    "%autoreload 2"
   ]
  },
  {
   "cell_type": "code",
   "execution_count": 12,
   "metadata": {},
   "outputs": [],
   "source": [
    "import os\n",
    "import sys\n",
    "module_path = os.path.abspath(os.path.join('..'))\n",
    "if module_path not in sys.path:\n",
    "    sys.path.append(module_path)"
   ]
  },
  {
   "cell_type": "code",
   "execution_count": 13,
   "metadata": {},
   "outputs": [],
   "source": [
    "import numpy as np\n",
    "import pandas as pd\n",
    "import seaborn as sns\n",
    "import matplotlib.pyplot as plt\n",
    "\n",
    "from scipy.stats import skewnorm, norm\n",
    "\n",
    "from src.utils import skew_to_alpha, moments\n",
    "from src.sharpe_ratio_stats import estimated_sharpe_ratio, probabilistic_sharpe_ratio"
   ]
  },
  {
   "cell_type": "markdown",
   "metadata": {},
   "source": [
    "## Strategy 1 - *Simulate a distribution of returns with negative skewness*"
   ]
  },
  {
   "cell_type": "code",
   "execution_count": 14,
   "metadata": {},
   "outputs": [],
   "source": [
    "np.random.seed(0)"
   ]
  },
  {
   "cell_type": "code",
   "execution_count": 15,
   "metadata": {},
   "outputs": [],
   "source": [
    "SIZE = 52\n",
    "SR_BENCHMARK = 0\n",
    "\n",
    "MEAN_RETURNS = 0.01\n",
    "STD_RETURNS  = 0.01\n",
    "SKEW_RETURNS = -0.99  # must be between [-0.99, 0.99]\n",
    "\n",
    "alpha = skew_to_alpha(SKEW_RETURNS)"
   ]
  },
  {
   "cell_type": "code",
   "execution_count": 16,
   "metadata": {},
   "outputs": [
    {
     "name": "stdout",
     "output_type": "stream",
     "text": [
      "1131\n"
     ]
    }
   ],
   "source": [
    "_seed = 1000\n",
    "_sr  = 0.45\n",
    "_psr = 0.96\n",
    "_skew = SKEW_RETURNS\n",
    "\n",
    "while ( (_psr < 0.92) or (_psr > 0.93) or (_skew < SKEW_RETURNS-0.3) or (_skew > SKEW_RETURNS+0.3) ) and _seed<5000:\n",
    "    _seed += 1\n",
    "    \n",
    "    _dist_neg_skew = skewnorm(loc=MEAN_RETURNS, scale=STD_RETURNS, a=alpha)\n",
    "    _returns = _dist_neg_skew.rvs(size=SIZE, random_state=_seed)\n",
    "    \n",
    "    _moments = moments(_returns)\n",
    "    _skew = _moments.loc['skew']\n",
    "    \n",
    "    _sr  = estimated_sharpe_ratio(_returns)\n",
    "    _psr = probabilistic_sharpe_ratio(_returns, sr_benchmark=SR_BENCHMARK)\n",
    "\n",
    "    \n",
    "# NOTE: scipy.skewnorm can not mantain the mean and std of the distribution while changing the skewness\n",
    "true_mean = _dist_neg_skew.stats('m').item()\n",
    "true_std  = np.sqrt(_dist_neg_skew.stats('v').item())\n",
    "\n",
    "print(_seed)"
   ]
  },
  {
   "cell_type": "markdown",
   "metadata": {},
   "source": [
    "## Strategy 2 - *Simulate a normal distribution of returns with better `mean` and same `std` as the strategy 1*"
   ]
  },
  {
   "cell_type": "code",
   "execution_count": 17,
   "metadata": {},
   "outputs": [],
   "source": [
    "EXTRA_EDGE = 0.0012"
   ]
  },
  {
   "cell_type": "code",
   "execution_count": 18,
   "metadata": {},
   "outputs": [
    {
     "name": "stdout",
     "output_type": "stream",
     "text": [
      "9563\n"
     ]
    }
   ],
   "source": [
    "_seed2 = 9000\n",
    "_sr2  = _sr\n",
    "_psr2 = _psr\n",
    "\n",
    "while (_sr2 >= _sr-0.01) or (_psr2 <= 0.95):\n",
    "    _seed2 += 1\n",
    "    \n",
    "    _dist_normal = norm(loc=true_mean+EXTRA_EDGE, scale=true_std)\n",
    "    _returns2 = _dist_normal.rvs(size=SIZE, random_state=_seed2)\n",
    "    \n",
    "    _sr2  = estimated_sharpe_ratio(_returns2)\n",
    "    _psr2 = probabilistic_sharpe_ratio(_returns2, sr_benchmark=SR_BENCHMARK)\n",
    "\n",
    "print(_seed2)"
   ]
  },
  {
   "cell_type": "code",
   "execution_count": 19,
   "metadata": {},
   "outputs": [
    {
     "name": "stdout",
     "output_type": "stream",
     "text": [
      "0.2262573932753415 0.2150862116259185\n"
     ]
    }
   ],
   "source": [
    "print(_sr, _sr2)"
   ]
  },
  {
   "cell_type": "code",
   "execution_count": 20,
   "metadata": {},
   "outputs": [
    {
     "name": "stdout",
     "output_type": "stream",
     "text": [
      "0.929881161824999 0.9519351296752798\n"
     ]
    }
   ],
   "source": [
    "print(_psr, _psr2)"
   ]
  },
  {
   "cell_type": "markdown",
   "metadata": {},
   "source": [
    "Save to .csv"
   ]
  },
  {
   "cell_type": "code",
   "execution_count": 20,
   "metadata": {},
   "outputs": [],
   "source": [
    "pd.DataFrame({'strategy1':_returns, 'strategy2': _returns2}).to_csv('synthetic_returns.csv')"
   ]
  }
 ],
 "metadata": {
  "kernelspec": {
   "display_name": "Python 3",
   "language": "python",
   "name": "python3"
  },
  "language_info": {
   "codemirror_mode": {
    "name": "ipython",
    "version": 3
   },
   "file_extension": ".py",
   "mimetype": "text/x-python",
   "name": "python",
   "nbconvert_exporter": "python",
   "pygments_lexer": "ipython3",
   "version": "3.6.9"
  }
 },
 "nbformat": 4,
 "nbformat_minor": 4
}
