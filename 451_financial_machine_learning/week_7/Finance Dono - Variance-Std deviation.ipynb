{
 "cells": [
  {
   "cell_type": "markdown",
   "id": "b64505ce",
   "metadata": {},
   "source": [
    "# Variance-Std Deviation"
   ]
  },
  {
   "cell_type": "markdown",
   "id": "af6471de",
   "metadata": {},
   "source": [
    "Consider a dataset of investment returns: (%)"
   ]
  },
  {
   "cell_type": "code",
   "execution_count": 1,
   "id": "f21f7295",
   "metadata": {},
   "outputs": [],
   "source": [
    "import pandas as pd"
   ]
  },
  {
   "cell_type": "code",
   "execution_count": 2,
   "id": "56e1d1ea",
   "metadata": {},
   "outputs": [
    {
     "data": {
      "text/html": [
       "<div>\n",
       "<style scoped>\n",
       "    .dataframe tbody tr th:only-of-type {\n",
       "        vertical-align: middle;\n",
       "    }\n",
       "\n",
       "    .dataframe tbody tr th {\n",
       "        vertical-align: top;\n",
       "    }\n",
       "\n",
       "    .dataframe thead th {\n",
       "        text-align: right;\n",
       "    }\n",
       "</style>\n",
       "<table border=\"1\" class=\"dataframe\">\n",
       "  <thead>\n",
       "    <tr style=\"text-align: right;\">\n",
       "      <th></th>\n",
       "      <th>Investment Returns</th>\n",
       "    </tr>\n",
       "  </thead>\n",
       "  <tbody>\n",
       "    <tr>\n",
       "      <th>0</th>\n",
       "      <td>5</td>\n",
       "    </tr>\n",
       "    <tr>\n",
       "      <th>1</th>\n",
       "      <td>10</td>\n",
       "    </tr>\n",
       "    <tr>\n",
       "      <th>2</th>\n",
       "      <td>-3</td>\n",
       "    </tr>\n",
       "    <tr>\n",
       "      <th>3</th>\n",
       "      <td>8</td>\n",
       "    </tr>\n",
       "    <tr>\n",
       "      <th>4</th>\n",
       "      <td>-2</td>\n",
       "    </tr>\n",
       "  </tbody>\n",
       "</table>\n",
       "</div>"
      ],
      "text/plain": [
       "   Investment Returns\n",
       "0                   5\n",
       "1                  10\n",
       "2                  -3\n",
       "3                   8\n",
       "4                  -2"
      ]
     },
     "execution_count": 2,
     "metadata": {},
     "output_type": "execute_result"
    }
   ],
   "source": [
    "df = pd.DataFrame({'Investment Returns': [5,10,-3,8,-2]})\n",
    "df"
   ]
  },
  {
   "cell_type": "markdown",
   "id": "5262d17d",
   "metadata": {},
   "source": [
    "# Calculate the mean return"
   ]
  },
  {
   "cell_type": "code",
   "execution_count": 4,
   "id": "f630483d",
   "metadata": {},
   "outputs": [
    {
     "data": {
      "text/plain": [
       "3.6"
      ]
     },
     "execution_count": 4,
     "metadata": {},
     "output_type": "execute_result"
    }
   ],
   "source": [
    "df['Investment Returns'].mean()"
   ]
  },
  {
   "attachments": {},
   "cell_type": "markdown",
   "id": "ea9200e8",
   "metadata": {},
   "source": [
    "# Calculate the Squared Deviations:\n",
    "The standard deviation quantifies the average distance between each monthly return and the mean return. A higher standard deviation indicates greater volatility or spread in returns, while a lower standard deviation suggests less volatility. It provides a measure of risk that's easier to interpret since it's expressed in the same units as the original data."
   ]
  },
  {
   "cell_type": "code",
   "execution_count": 10,
   "id": "a8b7cab8",
   "metadata": {},
   "outputs": [
    {
     "data": {
      "text/plain": [
       "5.856620185738529"
      ]
     },
     "execution_count": 10,
     "metadata": {},
     "output_type": "execute_result"
    }
   ],
   "source": [
    "df['Investment Returns'].std()"
   ]
  },
  {
   "attachments": {},
   "cell_type": "markdown",
   "id": "dedbc88b",
   "metadata": {},
   "source": [
    "# Calculate the Variance:\n",
    "The variance quantifies the average squared distance between each monthly return and the mean return. A higher variance indicates greater volatility or spread in returns, while a lower variance suggests less volatility."
   ]
  },
  {
   "cell_type": "code",
   "execution_count": 9,
   "id": "bd3d6290",
   "metadata": {},
   "outputs": [
    {
     "data": {
      "text/plain": [
       "34.3"
      ]
     },
     "execution_count": 9,
     "metadata": {},
     "output_type": "execute_result"
    }
   ],
   "source": [
    "df['Investment Returns'].var()"
   ]
  },
  {
   "cell_type": "code",
   "execution_count": null,
   "id": "321b08da",
   "metadata": {},
   "outputs": [],
   "source": []
  },
  {
   "cell_type": "code",
   "execution_count": null,
   "id": "326222e2",
   "metadata": {},
   "outputs": [],
   "source": []
  },
  {
   "cell_type": "code",
   "execution_count": null,
   "id": "eaa7b472",
   "metadata": {},
   "outputs": [],
   "source": []
  },
  {
   "cell_type": "code",
   "execution_count": null,
   "id": "0189079b",
   "metadata": {},
   "outputs": [],
   "source": []
  }
 ],
 "metadata": {
  "kernelspec": {
   "display_name": "Python 3 (ipykernel)",
   "language": "python",
   "name": "python3"
  },
  "language_info": {
   "codemirror_mode": {
    "name": "ipython",
    "version": 3
   },
   "file_extension": ".py",
   "mimetype": "text/x-python",
   "name": "python",
   "nbconvert_exporter": "python",
   "pygments_lexer": "ipython3",
   "version": "3.9.16"
  }
 },
 "nbformat": 4,
 "nbformat_minor": 5
}
