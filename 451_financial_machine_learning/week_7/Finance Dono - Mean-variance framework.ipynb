{
 "cells": [
  {
   "cell_type": "code",
   "execution_count": 1,
   "id": "9f49f676",
   "metadata": {},
   "outputs": [],
   "source": [
    "import pandas as pd "
   ]
  },
  {
   "cell_type": "code",
   "execution_count": 5,
   "id": "7d35c175",
   "metadata": {},
   "outputs": [],
   "source": [
    "df = pd.read_csv('finance_data2.csv')"
   ]
  },
  {
   "cell_type": "code",
   "execution_count": 7,
   "id": "6a4d3c34",
   "metadata": {},
   "outputs": [
    {
     "data": {
      "text/html": [
       "<div>\n",
       "<style scoped>\n",
       "    .dataframe tbody tr th:only-of-type {\n",
       "        vertical-align: middle;\n",
       "    }\n",
       "\n",
       "    .dataframe tbody tr th {\n",
       "        vertical-align: top;\n",
       "    }\n",
       "\n",
       "    .dataframe thead th {\n",
       "        text-align: right;\n",
       "    }\n",
       "</style>\n",
       "<table border=\"1\" class=\"dataframe\">\n",
       "  <thead>\n",
       "    <tr style=\"text-align: right;\">\n",
       "      <th></th>\n",
       "      <th>Date</th>\n",
       "      <th>Asset 1</th>\n",
       "      <th>Asset 2</th>\n",
       "    </tr>\n",
       "  </thead>\n",
       "  <tbody>\n",
       "    <tr>\n",
       "      <th>0</th>\n",
       "      <td>07-03-2018</td>\n",
       "      <td>175.03</td>\n",
       "      <td>125.72</td>\n",
       "    </tr>\n",
       "    <tr>\n",
       "      <th>1</th>\n",
       "      <td>08-03-2018</td>\n",
       "      <td>176.94</td>\n",
       "      <td>125.42</td>\n",
       "    </tr>\n",
       "    <tr>\n",
       "      <th>2</th>\n",
       "      <td>09-03-2018</td>\n",
       "      <td>179.98</td>\n",
       "      <td>125.54</td>\n",
       "    </tr>\n",
       "    <tr>\n",
       "      <th>3</th>\n",
       "      <td>12-03-2018</td>\n",
       "      <td>181.72</td>\n",
       "      <td>125.54</td>\n",
       "    </tr>\n",
       "    <tr>\n",
       "      <th>4</th>\n",
       "      <td>13-03-2018</td>\n",
       "      <td>179.97</td>\n",
       "      <td>125.78</td>\n",
       "    </tr>\n",
       "    <tr>\n",
       "      <th>5</th>\n",
       "      <td>14-03-2018</td>\n",
       "      <td>178.44</td>\n",
       "      <td>125.70</td>\n",
       "    </tr>\n",
       "    <tr>\n",
       "      <th>6</th>\n",
       "      <td>15-03-2018</td>\n",
       "      <td>178.65</td>\n",
       "      <td>124.90</td>\n",
       "    </tr>\n",
       "    <tr>\n",
       "      <th>7</th>\n",
       "      <td>16-03-2018</td>\n",
       "      <td>178.02</td>\n",
       "      <td>124.60</td>\n",
       "    </tr>\n",
       "    <tr>\n",
       "      <th>8</th>\n",
       "      <td>19-03-2018</td>\n",
       "      <td>175.30</td>\n",
       "      <td>124.87</td>\n",
       "    </tr>\n",
       "    <tr>\n",
       "      <th>9</th>\n",
       "      <td>20-03-2018</td>\n",
       "      <td>175.24</td>\n",
       "      <td>124.31</td>\n",
       "    </tr>\n",
       "    <tr>\n",
       "      <th>10</th>\n",
       "      <td>21-03-2018</td>\n",
       "      <td>171.27</td>\n",
       "      <td>126.48</td>\n",
       "    </tr>\n",
       "    <tr>\n",
       "      <th>11</th>\n",
       "      <td>22-03-2018</td>\n",
       "      <td>168.85</td>\n",
       "      <td>125.98</td>\n",
       "    </tr>\n",
       "    <tr>\n",
       "      <th>12</th>\n",
       "      <td>23-03-2018</td>\n",
       "      <td>164.94</td>\n",
       "      <td>127.61</td>\n",
       "    </tr>\n",
       "    <tr>\n",
       "      <th>13</th>\n",
       "      <td>26-03-2018</td>\n",
       "      <td>172.77</td>\n",
       "      <td>128.28</td>\n",
       "    </tr>\n",
       "    <tr>\n",
       "      <th>14</th>\n",
       "      <td>27-03-2018</td>\n",
       "      <td>168.34</td>\n",
       "      <td>127.49</td>\n",
       "    </tr>\n",
       "    <tr>\n",
       "      <th>15</th>\n",
       "      <td>28-03-2018</td>\n",
       "      <td>166.48</td>\n",
       "      <td>125.73</td>\n",
       "    </tr>\n",
       "    <tr>\n",
       "      <th>16</th>\n",
       "      <td>29-03-2018</td>\n",
       "      <td>167.78</td>\n",
       "      <td>125.79</td>\n",
       "    </tr>\n",
       "    <tr>\n",
       "      <th>17</th>\n",
       "      <td>02-04-2018</td>\n",
       "      <td>166.68</td>\n",
       "      <td>127.26</td>\n",
       "    </tr>\n",
       "    <tr>\n",
       "      <th>18</th>\n",
       "      <td>03-04-2018</td>\n",
       "      <td>168.39</td>\n",
       "      <td>126.30</td>\n",
       "    </tr>\n",
       "    <tr>\n",
       "      <th>19</th>\n",
       "      <td>04-04-2018</td>\n",
       "      <td>171.61</td>\n",
       "      <td>126.45</td>\n",
       "    </tr>\n",
       "    <tr>\n",
       "      <th>20</th>\n",
       "      <td>05-04-2018</td>\n",
       "      <td>172.80</td>\n",
       "      <td>125.80</td>\n",
       "    </tr>\n",
       "    <tr>\n",
       "      <th>21</th>\n",
       "      <td>06-04-2018</td>\n",
       "      <td>168.38</td>\n",
       "      <td>126.39</td>\n",
       "    </tr>\n",
       "    <tr>\n",
       "      <th>22</th>\n",
       "      <td>09-04-2018</td>\n",
       "      <td>170.05</td>\n",
       "      <td>126.82</td>\n",
       "    </tr>\n",
       "    <tr>\n",
       "      <th>23</th>\n",
       "      <td>10-04-2018</td>\n",
       "      <td>173.25</td>\n",
       "      <td>127.12</td>\n",
       "    </tr>\n",
       "    <tr>\n",
       "      <th>24</th>\n",
       "      <td>11-04-2018</td>\n",
       "      <td>172.44</td>\n",
       "      <td>128.11</td>\n",
       "    </tr>\n",
       "    <tr>\n",
       "      <th>25</th>\n",
       "      <td>12-04-2018</td>\n",
       "      <td>174.14</td>\n",
       "      <td>126.62</td>\n",
       "    </tr>\n",
       "    <tr>\n",
       "      <th>26</th>\n",
       "      <td>13-04-2018</td>\n",
       "      <td>174.73</td>\n",
       "      <td>127.45</td>\n",
       "    </tr>\n",
       "    <tr>\n",
       "      <th>27</th>\n",
       "      <td>16-04-2018</td>\n",
       "      <td>175.82</td>\n",
       "      <td>127.63</td>\n",
       "    </tr>\n",
       "    <tr>\n",
       "      <th>28</th>\n",
       "      <td>17-04-2018</td>\n",
       "      <td>178.24</td>\n",
       "      <td>127.75</td>\n",
       "    </tr>\n",
       "    <tr>\n",
       "      <th>29</th>\n",
       "      <td>18-04-2018</td>\n",
       "      <td>177.84</td>\n",
       "      <td>127.85</td>\n",
       "    </tr>\n",
       "    <tr>\n",
       "      <th>30</th>\n",
       "      <td>19-04-2018</td>\n",
       "      <td>172.80</td>\n",
       "      <td>127.60</td>\n",
       "    </tr>\n",
       "    <tr>\n",
       "      <th>31</th>\n",
       "      <td>20-04-2018</td>\n",
       "      <td>165.72</td>\n",
       "      <td>126.63</td>\n",
       "    </tr>\n",
       "    <tr>\n",
       "      <th>32</th>\n",
       "      <td>23-04-2018</td>\n",
       "      <td>165.24</td>\n",
       "      <td>125.62</td>\n",
       "    </tr>\n",
       "    <tr>\n",
       "      <th>33</th>\n",
       "      <td>24-04-2018</td>\n",
       "      <td>162.94</td>\n",
       "      <td>126.23</td>\n",
       "    </tr>\n",
       "    <tr>\n",
       "      <th>34</th>\n",
       "      <td>25-04-2018</td>\n",
       "      <td>163.65</td>\n",
       "      <td>125.41</td>\n",
       "    </tr>\n",
       "    <tr>\n",
       "      <th>35</th>\n",
       "      <td>26-04-2018</td>\n",
       "      <td>164.22</td>\n",
       "      <td>124.97</td>\n",
       "    </tr>\n",
       "    <tr>\n",
       "      <th>36</th>\n",
       "      <td>27-04-2018</td>\n",
       "      <td>162.32</td>\n",
       "      <td>125.50</td>\n",
       "    </tr>\n",
       "    <tr>\n",
       "      <th>37</th>\n",
       "      <td>30-04-2018</td>\n",
       "      <td>165.26</td>\n",
       "      <td>124.59</td>\n",
       "    </tr>\n",
       "    <tr>\n",
       "      <th>38</th>\n",
       "      <td>01-05-2018</td>\n",
       "      <td>169.10</td>\n",
       "      <td>123.71</td>\n",
       "    </tr>\n",
       "    <tr>\n",
       "      <th>39</th>\n",
       "      <td>02-05-2018</td>\n",
       "      <td>176.57</td>\n",
       "      <td>123.65</td>\n",
       "    </tr>\n",
       "    <tr>\n",
       "      <th>40</th>\n",
       "      <td>03-05-2018</td>\n",
       "      <td>176.89</td>\n",
       "      <td>124.28</td>\n",
       "    </tr>\n",
       "    <tr>\n",
       "      <th>41</th>\n",
       "      <td>04-05-2018</td>\n",
       "      <td>183.83</td>\n",
       "      <td>124.54</td>\n",
       "    </tr>\n",
       "    <tr>\n",
       "      <th>42</th>\n",
       "      <td>07-05-2018</td>\n",
       "      <td>185.16</td>\n",
       "      <td>124.57</td>\n",
       "    </tr>\n",
       "    <tr>\n",
       "      <th>43</th>\n",
       "      <td>08-05-2018</td>\n",
       "      <td>186.05</td>\n",
       "      <td>124.59</td>\n",
       "    </tr>\n",
       "    <tr>\n",
       "      <th>44</th>\n",
       "      <td>09-05-2018</td>\n",
       "      <td>187.36</td>\n",
       "      <td>124.33</td>\n",
       "    </tr>\n",
       "    <tr>\n",
       "      <th>45</th>\n",
       "      <td>10-05-2018</td>\n",
       "      <td>190.04</td>\n",
       "      <td>125.18</td>\n",
       "    </tr>\n",
       "    <tr>\n",
       "      <th>46</th>\n",
       "      <td>11-05-2018</td>\n",
       "      <td>188.59</td>\n",
       "      <td>125.00</td>\n",
       "    </tr>\n",
       "    <tr>\n",
       "      <th>47</th>\n",
       "      <td>14-05-2018</td>\n",
       "      <td>188.15</td>\n",
       "      <td>124.49</td>\n",
       "    </tr>\n",
       "    <tr>\n",
       "      <th>48</th>\n",
       "      <td>15-05-2018</td>\n",
       "      <td>186.44</td>\n",
       "      <td>122.48</td>\n",
       "    </tr>\n",
       "  </tbody>\n",
       "</table>\n",
       "</div>"
      ],
      "text/plain": [
       "          Date  Asset 1  Asset 2\n",
       "0   07-03-2018   175.03   125.72\n",
       "1   08-03-2018   176.94   125.42\n",
       "2   09-03-2018   179.98   125.54\n",
       "3   12-03-2018   181.72   125.54\n",
       "4   13-03-2018   179.97   125.78\n",
       "5   14-03-2018   178.44   125.70\n",
       "6   15-03-2018   178.65   124.90\n",
       "7   16-03-2018   178.02   124.60\n",
       "8   19-03-2018   175.30   124.87\n",
       "9   20-03-2018   175.24   124.31\n",
       "10  21-03-2018   171.27   126.48\n",
       "11  22-03-2018   168.85   125.98\n",
       "12  23-03-2018   164.94   127.61\n",
       "13  26-03-2018   172.77   128.28\n",
       "14  27-03-2018   168.34   127.49\n",
       "15  28-03-2018   166.48   125.73\n",
       "16  29-03-2018   167.78   125.79\n",
       "17  02-04-2018   166.68   127.26\n",
       "18  03-04-2018   168.39   126.30\n",
       "19  04-04-2018   171.61   126.45\n",
       "20  05-04-2018   172.80   125.80\n",
       "21  06-04-2018   168.38   126.39\n",
       "22  09-04-2018   170.05   126.82\n",
       "23  10-04-2018   173.25   127.12\n",
       "24  11-04-2018   172.44   128.11\n",
       "25  12-04-2018   174.14   126.62\n",
       "26  13-04-2018   174.73   127.45\n",
       "27  16-04-2018   175.82   127.63\n",
       "28  17-04-2018   178.24   127.75\n",
       "29  18-04-2018   177.84   127.85\n",
       "30  19-04-2018   172.80   127.60\n",
       "31  20-04-2018   165.72   126.63\n",
       "32  23-04-2018   165.24   125.62\n",
       "33  24-04-2018   162.94   126.23\n",
       "34  25-04-2018   163.65   125.41\n",
       "35  26-04-2018   164.22   124.97\n",
       "36  27-04-2018   162.32   125.50\n",
       "37  30-04-2018   165.26   124.59\n",
       "38  01-05-2018   169.10   123.71\n",
       "39  02-05-2018   176.57   123.65\n",
       "40  03-05-2018   176.89   124.28\n",
       "41  04-05-2018   183.83   124.54\n",
       "42  07-05-2018   185.16   124.57\n",
       "43  08-05-2018   186.05   124.59\n",
       "44  09-05-2018   187.36   124.33\n",
       "45  10-05-2018   190.04   125.18\n",
       "46  11-05-2018   188.59   125.00\n",
       "47  14-05-2018   188.15   124.49\n",
       "48  15-05-2018   186.44   122.48"
      ]
     },
     "execution_count": 7,
     "metadata": {},
     "output_type": "execute_result"
    }
   ],
   "source": [
    "df"
   ]
  },
  {
   "cell_type": "markdown",
   "id": "ee0ca143",
   "metadata": {},
   "source": [
    "# Let's calculate the returns "
   ]
  },
  {
   "cell_type": "code",
   "execution_count": 82,
   "id": "d66edaa3",
   "metadata": {},
   "outputs": [
    {
     "data": {
      "text/plain": [
       "0     175.03\n",
       "1     176.94\n",
       "2     179.98\n",
       "3     181.72\n",
       "4     179.97\n",
       "5     178.44\n",
       "6     178.65\n",
       "7     178.02\n",
       "8     175.30\n",
       "9     175.24\n",
       "10    171.27\n",
       "11    168.85\n",
       "12    164.94\n",
       "13    172.77\n",
       "14    168.34\n",
       "15    166.48\n",
       "16    167.78\n",
       "17    166.68\n",
       "18    168.39\n",
       "19    171.61\n",
       "20    172.80\n",
       "21    168.38\n",
       "22    170.05\n",
       "23    173.25\n",
       "24    172.44\n",
       "25    174.14\n",
       "26    174.73\n",
       "27    175.82\n",
       "28    178.24\n",
       "29    177.84\n",
       "30    172.80\n",
       "31    165.72\n",
       "32    165.24\n",
       "33    162.94\n",
       "34    163.65\n",
       "35    164.22\n",
       "36    162.32\n",
       "37    165.26\n",
       "38    169.10\n",
       "39    176.57\n",
       "40    176.89\n",
       "41    183.83\n",
       "42    185.16\n",
       "43    186.05\n",
       "44    187.36\n",
       "45    190.04\n",
       "46    188.59\n",
       "47    188.15\n",
       "48    186.44\n",
       "Name: Asset 1, dtype: float64"
      ]
     },
     "execution_count": 82,
     "metadata": {},
     "output_type": "execute_result"
    }
   ],
   "source": [
    "df['Asset 1']"
   ]
  },
  {
   "cell_type": "code",
   "execution_count": 97,
   "id": "d25944a2",
   "metadata": {},
   "outputs": [],
   "source": [
    "df['Asset 1 return %'] = ((df['Asset 1']/df['Asset 1'].shift(1)) -1)* 100"
   ]
  },
  {
   "cell_type": "code",
   "execution_count": 98,
   "id": "6ba8536b",
   "metadata": {},
   "outputs": [],
   "source": [
    "df['Asset 2 return %'] = ((df['Asset 2']/df['Asset 2'].shift(1)) -1)* 100"
   ]
  },
  {
   "cell_type": "markdown",
   "id": "22379a1a",
   "metadata": {},
   "source": [
    "### Looking at results"
   ]
  },
  {
   "cell_type": "code",
   "execution_count": 99,
   "id": "3e18f30a",
   "metadata": {},
   "outputs": [
    {
     "data": {
      "text/html": [
       "<div>\n",
       "<style scoped>\n",
       "    .dataframe tbody tr th:only-of-type {\n",
       "        vertical-align: middle;\n",
       "    }\n",
       "\n",
       "    .dataframe tbody tr th {\n",
       "        vertical-align: top;\n",
       "    }\n",
       "\n",
       "    .dataframe thead th {\n",
       "        text-align: right;\n",
       "    }\n",
       "</style>\n",
       "<table border=\"1\" class=\"dataframe\">\n",
       "  <thead>\n",
       "    <tr style=\"text-align: right;\">\n",
       "      <th></th>\n",
       "      <th>Date</th>\n",
       "      <th>Asset 1</th>\n",
       "      <th>Asset 2</th>\n",
       "      <th>Asset 1 return %</th>\n",
       "      <th>Asset 2 return %</th>\n",
       "    </tr>\n",
       "  </thead>\n",
       "  <tbody>\n",
       "    <tr>\n",
       "      <th>0</th>\n",
       "      <td>07-03-2018</td>\n",
       "      <td>175.03</td>\n",
       "      <td>125.72</td>\n",
       "      <td>NaN</td>\n",
       "      <td>NaN</td>\n",
       "    </tr>\n",
       "    <tr>\n",
       "      <th>1</th>\n",
       "      <td>08-03-2018</td>\n",
       "      <td>176.94</td>\n",
       "      <td>125.42</td>\n",
       "      <td>1.091242</td>\n",
       "      <td>-0.238626</td>\n",
       "    </tr>\n",
       "    <tr>\n",
       "      <th>2</th>\n",
       "      <td>09-03-2018</td>\n",
       "      <td>179.98</td>\n",
       "      <td>125.54</td>\n",
       "      <td>1.718097</td>\n",
       "      <td>0.095679</td>\n",
       "    </tr>\n",
       "    <tr>\n",
       "      <th>3</th>\n",
       "      <td>12-03-2018</td>\n",
       "      <td>181.72</td>\n",
       "      <td>125.54</td>\n",
       "      <td>0.966774</td>\n",
       "      <td>0.000000</td>\n",
       "    </tr>\n",
       "    <tr>\n",
       "      <th>4</th>\n",
       "      <td>13-03-2018</td>\n",
       "      <td>179.97</td>\n",
       "      <td>125.78</td>\n",
       "      <td>-0.963020</td>\n",
       "      <td>0.191174</td>\n",
       "    </tr>\n",
       "  </tbody>\n",
       "</table>\n",
       "</div>"
      ],
      "text/plain": [
       "         Date  Asset 1  Asset 2  Asset 1 return %  Asset 2 return %\n",
       "0  07-03-2018   175.03   125.72               NaN               NaN\n",
       "1  08-03-2018   176.94   125.42          1.091242         -0.238626\n",
       "2  09-03-2018   179.98   125.54          1.718097          0.095679\n",
       "3  12-03-2018   181.72   125.54          0.966774          0.000000\n",
       "4  13-03-2018   179.97   125.78         -0.963020          0.191174"
      ]
     },
     "execution_count": 99,
     "metadata": {},
     "output_type": "execute_result"
    }
   ],
   "source": [
    "df.head()"
   ]
  },
  {
   "cell_type": "markdown",
   "id": "46420090",
   "metadata": {},
   "source": [
    "# Calculating Statistics"
   ]
  },
  {
   "cell_type": "markdown",
   "id": "4fb692db",
   "metadata": {},
   "source": [
    "### Mean"
   ]
  },
  {
   "cell_type": "code",
   "execution_count": 100,
   "id": "cf96674d",
   "metadata": {},
   "outputs": [
    {
     "data": {
      "text/plain": [
       "0.14708609498273925"
      ]
     },
     "execution_count": 100,
     "metadata": {},
     "output_type": "execute_result"
    }
   ],
   "source": [
    "df['Asset 1 return %'].mean()"
   ]
  },
  {
   "cell_type": "code",
   "execution_count": 101,
   "id": "213edc2a",
   "metadata": {},
   "outputs": [],
   "source": [
    "a1_mean = df['Asset 1 return %'].mean()"
   ]
  },
  {
   "cell_type": "code",
   "execution_count": 102,
   "id": "e8d2a0e6",
   "metadata": {},
   "outputs": [
    {
     "data": {
      "text/plain": [
       "-0.0522964300956987"
      ]
     },
     "execution_count": 102,
     "metadata": {},
     "output_type": "execute_result"
    }
   ],
   "source": [
    "df['Asset 2 return %'].mean()"
   ]
  },
  {
   "cell_type": "code",
   "execution_count": 103,
   "id": "bf67c65c",
   "metadata": {},
   "outputs": [],
   "source": [
    "a2_mean = df['Asset 2 return %'].mean()"
   ]
  },
  {
   "cell_type": "markdown",
   "id": "c5be4733",
   "metadata": {},
   "source": [
    "### Variance"
   ]
  },
  {
   "cell_type": "code",
   "execution_count": 104,
   "id": "d10adfad",
   "metadata": {},
   "outputs": [
    {
     "data": {
      "text/plain": [
       "3.1657457985622037"
      ]
     },
     "execution_count": 104,
     "metadata": {},
     "output_type": "execute_result"
    }
   ],
   "source": [
    "df['Asset 1 return %'].var()"
   ]
  },
  {
   "cell_type": "code",
   "execution_count": 105,
   "id": "6ca794d7",
   "metadata": {},
   "outputs": [],
   "source": [
    "a1_var = df['Asset 1 return %'].var()"
   ]
  },
  {
   "cell_type": "code",
   "execution_count": 106,
   "id": "33e7d80c",
   "metadata": {},
   "outputs": [
    {
     "data": {
      "text/plain": [
       "0.42562928847880266"
      ]
     },
     "execution_count": 106,
     "metadata": {},
     "output_type": "execute_result"
    }
   ],
   "source": [
    "df['Asset 2 return %'].var()"
   ]
  },
  {
   "cell_type": "code",
   "execution_count": 107,
   "id": "23371129",
   "metadata": {},
   "outputs": [],
   "source": [
    "a2_var = df['Asset 2 return %'].var()"
   ]
  },
  {
   "cell_type": "markdown",
   "id": "db746793",
   "metadata": {},
   "source": [
    "### Standard Deviation"
   ]
  },
  {
   "cell_type": "code",
   "execution_count": 108,
   "id": "ddc91e95",
   "metadata": {},
   "outputs": [
    {
     "data": {
      "text/plain": [
       "1.779254281591646"
      ]
     },
     "execution_count": 108,
     "metadata": {},
     "output_type": "execute_result"
    }
   ],
   "source": [
    "df['Asset 1 return %'].std()"
   ]
  },
  {
   "cell_type": "code",
   "execution_count": 109,
   "id": "feba4e4f",
   "metadata": {},
   "outputs": [],
   "source": [
    "a1_std = df['Asset 1 return %'].std()"
   ]
  },
  {
   "cell_type": "code",
   "execution_count": 110,
   "id": "ef77b564",
   "metadata": {},
   "outputs": [
    {
     "data": {
      "text/plain": [
       "0.6524027042240113"
      ]
     },
     "execution_count": 110,
     "metadata": {},
     "output_type": "execute_result"
    }
   ],
   "source": [
    "df['Asset 2 return %'].std()"
   ]
  },
  {
   "cell_type": "code",
   "execution_count": 111,
   "id": "ec85b61c",
   "metadata": {},
   "outputs": [],
   "source": [
    "a2_std = df['Asset 2 return %'].std()"
   ]
  },
  {
   "cell_type": "markdown",
   "id": "e47af732",
   "metadata": {},
   "source": [
    "### Covariance"
   ]
  },
  {
   "cell_type": "code",
   "execution_count": 112,
   "id": "d5d902ce",
   "metadata": {},
   "outputs": [
    {
     "name": "stderr",
     "output_type": "stream",
     "text": [
      "/tmp/ipykernel_1437/4141236379.py:1: FutureWarning: The default value of numeric_only in DataFrame.cov is deprecated. In a future version, it will default to False. Select only valid columns or specify the value of numeric_only to silence this warning.\n",
      "  df.cov()[['Asset 1 return %', 'Asset 2 return %']]\n"
     ]
    },
    {
     "data": {
      "text/html": [
       "<div>\n",
       "<style scoped>\n",
       "    .dataframe tbody tr th:only-of-type {\n",
       "        vertical-align: middle;\n",
       "    }\n",
       "\n",
       "    .dataframe tbody tr th {\n",
       "        vertical-align: top;\n",
       "    }\n",
       "\n",
       "    .dataframe thead th {\n",
       "        text-align: right;\n",
       "    }\n",
       "</style>\n",
       "<table border=\"1\" class=\"dataframe\">\n",
       "  <thead>\n",
       "    <tr style=\"text-align: right;\">\n",
       "      <th></th>\n",
       "      <th>Asset 1 return %</th>\n",
       "      <th>Asset 2 return %</th>\n",
       "    </tr>\n",
       "  </thead>\n",
       "  <tbody>\n",
       "    <tr>\n",
       "      <th>Asset 1</th>\n",
       "      <td>3.553268</td>\n",
       "      <td>-0.105203</td>\n",
       "    </tr>\n",
       "    <tr>\n",
       "      <th>Asset 2</th>\n",
       "      <td>-0.462175</td>\n",
       "      <td>0.365132</td>\n",
       "    </tr>\n",
       "    <tr>\n",
       "      <th>Asset 1 return %</th>\n",
       "      <td>3.165746</td>\n",
       "      <td>-0.031814</td>\n",
       "    </tr>\n",
       "    <tr>\n",
       "      <th>Asset 2 return %</th>\n",
       "      <td>-0.031814</td>\n",
       "      <td>0.425629</td>\n",
       "    </tr>\n",
       "  </tbody>\n",
       "</table>\n",
       "</div>"
      ],
      "text/plain": [
       "                  Asset 1 return %  Asset 2 return %\n",
       "Asset 1                   3.553268         -0.105203\n",
       "Asset 2                  -0.462175          0.365132\n",
       "Asset 1 return %          3.165746         -0.031814\n",
       "Asset 2 return %         -0.031814          0.425629"
      ]
     },
     "execution_count": 112,
     "metadata": {},
     "output_type": "execute_result"
    }
   ],
   "source": [
    "df.cov()[['Asset 1 return %', 'Asset 2 return %']]"
   ]
  },
  {
   "cell_type": "code",
   "execution_count": 113,
   "id": "718e2203",
   "metadata": {},
   "outputs": [],
   "source": [
    "a_cov = df['Asset 1 return %'].cov(df['Asset 2 return %'])"
   ]
  },
  {
   "cell_type": "markdown",
   "id": "9c63fbe2",
   "metadata": {},
   "source": [
    "### Correlation"
   ]
  },
  {
   "cell_type": "code",
   "execution_count": 114,
   "id": "756e5ed8",
   "metadata": {},
   "outputs": [
    {
     "name": "stderr",
     "output_type": "stream",
     "text": [
      "/tmp/ipykernel_1437/2648543438.py:1: FutureWarning: The default value of numeric_only in DataFrame.corr is deprecated. In a future version, it will default to False. Select only valid columns or specify the value of numeric_only to silence this warning.\n",
      "  df.corr()[['Asset 1 return %', 'Asset 2 return %']]\n"
     ]
    },
    {
     "data": {
      "text/html": [
       "<div>\n",
       "<style scoped>\n",
       "    .dataframe tbody tr th:only-of-type {\n",
       "        vertical-align: middle;\n",
       "    }\n",
       "\n",
       "    .dataframe tbody tr th {\n",
       "        vertical-align: top;\n",
       "    }\n",
       "\n",
       "    .dataframe thead th {\n",
       "        text-align: right;\n",
       "    }\n",
       "</style>\n",
       "<table border=\"1\" class=\"dataframe\">\n",
       "  <thead>\n",
       "    <tr style=\"text-align: right;\">\n",
       "      <th></th>\n",
       "      <th>Asset 1 return %</th>\n",
       "      <th>Asset 2 return %</th>\n",
       "    </tr>\n",
       "  </thead>\n",
       "  <tbody>\n",
       "    <tr>\n",
       "      <th>Asset 1</th>\n",
       "      <td>0.262927</td>\n",
       "      <td>-0.021230</td>\n",
       "    </tr>\n",
       "    <tr>\n",
       "      <th>Asset 2</th>\n",
       "      <td>-0.195762</td>\n",
       "      <td>0.421788</td>\n",
       "    </tr>\n",
       "    <tr>\n",
       "      <th>Asset 1 return %</th>\n",
       "      <td>1.000000</td>\n",
       "      <td>-0.027407</td>\n",
       "    </tr>\n",
       "    <tr>\n",
       "      <th>Asset 2 return %</th>\n",
       "      <td>-0.027407</td>\n",
       "      <td>1.000000</td>\n",
       "    </tr>\n",
       "  </tbody>\n",
       "</table>\n",
       "</div>"
      ],
      "text/plain": [
       "                  Asset 1 return %  Asset 2 return %\n",
       "Asset 1                   0.262927         -0.021230\n",
       "Asset 2                  -0.195762          0.421788\n",
       "Asset 1 return %          1.000000         -0.027407\n",
       "Asset 2 return %         -0.027407          1.000000"
      ]
     },
     "execution_count": 114,
     "metadata": {},
     "output_type": "execute_result"
    }
   ],
   "source": [
    "df.corr()[['Asset 1 return %', 'Asset 2 return %']]"
   ]
  },
  {
   "cell_type": "code",
   "execution_count": 115,
   "id": "fad0721f",
   "metadata": {},
   "outputs": [],
   "source": [
    "a_corr = df['Asset 1 return %'].corr(df['Asset 2 return %'])"
   ]
  },
  {
   "cell_type": "markdown",
   "id": "f8d33327",
   "metadata": {},
   "source": [
    "<h1><center>Portfolio</center></h1>"
   ]
  },
  {
   "cell_type": "code",
   "execution_count": 116,
   "id": "45038ed3",
   "metadata": {},
   "outputs": [],
   "source": [
    "pf = pd.DataFrame({'Asset 1' : [0.0, 0.1, 0.2, 0.3, 0.4, 0.5, 0.6, 0.7, 0.8, 0.9]})"
   ]
  },
  {
   "cell_type": "code",
   "execution_count": 117,
   "id": "350b6b98",
   "metadata": {},
   "outputs": [
    {
     "data": {
      "text/html": [
       "<div>\n",
       "<style scoped>\n",
       "    .dataframe tbody tr th:only-of-type {\n",
       "        vertical-align: middle;\n",
       "    }\n",
       "\n",
       "    .dataframe tbody tr th {\n",
       "        vertical-align: top;\n",
       "    }\n",
       "\n",
       "    .dataframe thead th {\n",
       "        text-align: right;\n",
       "    }\n",
       "</style>\n",
       "<table border=\"1\" class=\"dataframe\">\n",
       "  <thead>\n",
       "    <tr style=\"text-align: right;\">\n",
       "      <th></th>\n",
       "      <th>Asset 1</th>\n",
       "    </tr>\n",
       "  </thead>\n",
       "  <tbody>\n",
       "    <tr>\n",
       "      <th>0</th>\n",
       "      <td>0.0</td>\n",
       "    </tr>\n",
       "    <tr>\n",
       "      <th>1</th>\n",
       "      <td>0.1</td>\n",
       "    </tr>\n",
       "    <tr>\n",
       "      <th>2</th>\n",
       "      <td>0.2</td>\n",
       "    </tr>\n",
       "    <tr>\n",
       "      <th>3</th>\n",
       "      <td>0.3</td>\n",
       "    </tr>\n",
       "    <tr>\n",
       "      <th>4</th>\n",
       "      <td>0.4</td>\n",
       "    </tr>\n",
       "    <tr>\n",
       "      <th>5</th>\n",
       "      <td>0.5</td>\n",
       "    </tr>\n",
       "    <tr>\n",
       "      <th>6</th>\n",
       "      <td>0.6</td>\n",
       "    </tr>\n",
       "    <tr>\n",
       "      <th>7</th>\n",
       "      <td>0.7</td>\n",
       "    </tr>\n",
       "    <tr>\n",
       "      <th>8</th>\n",
       "      <td>0.8</td>\n",
       "    </tr>\n",
       "    <tr>\n",
       "      <th>9</th>\n",
       "      <td>0.9</td>\n",
       "    </tr>\n",
       "  </tbody>\n",
       "</table>\n",
       "</div>"
      ],
      "text/plain": [
       "   Asset 1\n",
       "0      0.0\n",
       "1      0.1\n",
       "2      0.2\n",
       "3      0.3\n",
       "4      0.4\n",
       "5      0.5\n",
       "6      0.6\n",
       "7      0.7\n",
       "8      0.8\n",
       "9      0.9"
      ]
     },
     "execution_count": 117,
     "metadata": {},
     "output_type": "execute_result"
    }
   ],
   "source": [
    "pf"
   ]
  },
  {
   "cell_type": "code",
   "execution_count": 118,
   "id": "224d2bf0",
   "metadata": {},
   "outputs": [],
   "source": [
    "pf['Asset 2'] = 1 - pf['Asset 1']"
   ]
  },
  {
   "cell_type": "code",
   "execution_count": 119,
   "id": "64ab871f",
   "metadata": {},
   "outputs": [
    {
     "data": {
      "text/html": [
       "<div>\n",
       "<style scoped>\n",
       "    .dataframe tbody tr th:only-of-type {\n",
       "        vertical-align: middle;\n",
       "    }\n",
       "\n",
       "    .dataframe tbody tr th {\n",
       "        vertical-align: top;\n",
       "    }\n",
       "\n",
       "    .dataframe thead th {\n",
       "        text-align: right;\n",
       "    }\n",
       "</style>\n",
       "<table border=\"1\" class=\"dataframe\">\n",
       "  <thead>\n",
       "    <tr style=\"text-align: right;\">\n",
       "      <th></th>\n",
       "      <th>Asset 1</th>\n",
       "      <th>Asset 2</th>\n",
       "    </tr>\n",
       "  </thead>\n",
       "  <tbody>\n",
       "    <tr>\n",
       "      <th>0</th>\n",
       "      <td>0.0</td>\n",
       "      <td>1.0</td>\n",
       "    </tr>\n",
       "    <tr>\n",
       "      <th>1</th>\n",
       "      <td>0.1</td>\n",
       "      <td>0.9</td>\n",
       "    </tr>\n",
       "    <tr>\n",
       "      <th>2</th>\n",
       "      <td>0.2</td>\n",
       "      <td>0.8</td>\n",
       "    </tr>\n",
       "    <tr>\n",
       "      <th>3</th>\n",
       "      <td>0.3</td>\n",
       "      <td>0.7</td>\n",
       "    </tr>\n",
       "    <tr>\n",
       "      <th>4</th>\n",
       "      <td>0.4</td>\n",
       "      <td>0.6</td>\n",
       "    </tr>\n",
       "    <tr>\n",
       "      <th>5</th>\n",
       "      <td>0.5</td>\n",
       "      <td>0.5</td>\n",
       "    </tr>\n",
       "    <tr>\n",
       "      <th>6</th>\n",
       "      <td>0.6</td>\n",
       "      <td>0.4</td>\n",
       "    </tr>\n",
       "    <tr>\n",
       "      <th>7</th>\n",
       "      <td>0.7</td>\n",
       "      <td>0.3</td>\n",
       "    </tr>\n",
       "    <tr>\n",
       "      <th>8</th>\n",
       "      <td>0.8</td>\n",
       "      <td>0.2</td>\n",
       "    </tr>\n",
       "    <tr>\n",
       "      <th>9</th>\n",
       "      <td>0.9</td>\n",
       "      <td>0.1</td>\n",
       "    </tr>\n",
       "  </tbody>\n",
       "</table>\n",
       "</div>"
      ],
      "text/plain": [
       "   Asset 1  Asset 2\n",
       "0      0.0      1.0\n",
       "1      0.1      0.9\n",
       "2      0.2      0.8\n",
       "3      0.3      0.7\n",
       "4      0.4      0.6\n",
       "5      0.5      0.5\n",
       "6      0.6      0.4\n",
       "7      0.7      0.3\n",
       "8      0.8      0.2\n",
       "9      0.9      0.1"
      ]
     },
     "execution_count": 119,
     "metadata": {},
     "output_type": "execute_result"
    }
   ],
   "source": [
    "pf"
   ]
  },
  {
   "cell_type": "markdown",
   "id": "d32befe2",
   "metadata": {},
   "source": [
    "### Mean "
   ]
  },
  {
   "cell_type": "code",
   "execution_count": 120,
   "id": "a32fe2bd",
   "metadata": {},
   "outputs": [
    {
     "data": {
      "text/plain": [
       "0   -0.052296\n",
       "1   -0.032358\n",
       "2   -0.012420\n",
       "3    0.007518\n",
       "4    0.027457\n",
       "5    0.047395\n",
       "6    0.067333\n",
       "7    0.087271\n",
       "8    0.107210\n",
       "9    0.127148\n",
       "dtype: float64"
      ]
     },
     "execution_count": 120,
     "metadata": {},
     "output_type": "execute_result"
    }
   ],
   "source": [
    "pf['Asset 1'] * a1_mean + pf['Asset 2'] * a2_mean"
   ]
  },
  {
   "cell_type": "code",
   "execution_count": 121,
   "id": "e13f047c",
   "metadata": {},
   "outputs": [],
   "source": [
    "pf['Mean'] = pf['Asset 1'] * a1_mean + pf['Asset 2'] * a2_mean"
   ]
  },
  {
   "cell_type": "code",
   "execution_count": 122,
   "id": "a9b8152d",
   "metadata": {},
   "outputs": [
    {
     "data": {
      "text/html": [
       "<div>\n",
       "<style scoped>\n",
       "    .dataframe tbody tr th:only-of-type {\n",
       "        vertical-align: middle;\n",
       "    }\n",
       "\n",
       "    .dataframe tbody tr th {\n",
       "        vertical-align: top;\n",
       "    }\n",
       "\n",
       "    .dataframe thead th {\n",
       "        text-align: right;\n",
       "    }\n",
       "</style>\n",
       "<table border=\"1\" class=\"dataframe\">\n",
       "  <thead>\n",
       "    <tr style=\"text-align: right;\">\n",
       "      <th></th>\n",
       "      <th>Asset 1</th>\n",
       "      <th>Asset 2</th>\n",
       "      <th>Mean</th>\n",
       "    </tr>\n",
       "  </thead>\n",
       "  <tbody>\n",
       "    <tr>\n",
       "      <th>0</th>\n",
       "      <td>0.0</td>\n",
       "      <td>1.0</td>\n",
       "      <td>-0.052296</td>\n",
       "    </tr>\n",
       "    <tr>\n",
       "      <th>1</th>\n",
       "      <td>0.1</td>\n",
       "      <td>0.9</td>\n",
       "      <td>-0.032358</td>\n",
       "    </tr>\n",
       "    <tr>\n",
       "      <th>2</th>\n",
       "      <td>0.2</td>\n",
       "      <td>0.8</td>\n",
       "      <td>-0.012420</td>\n",
       "    </tr>\n",
       "    <tr>\n",
       "      <th>3</th>\n",
       "      <td>0.3</td>\n",
       "      <td>0.7</td>\n",
       "      <td>0.007518</td>\n",
       "    </tr>\n",
       "    <tr>\n",
       "      <th>4</th>\n",
       "      <td>0.4</td>\n",
       "      <td>0.6</td>\n",
       "      <td>0.027457</td>\n",
       "    </tr>\n",
       "    <tr>\n",
       "      <th>5</th>\n",
       "      <td>0.5</td>\n",
       "      <td>0.5</td>\n",
       "      <td>0.047395</td>\n",
       "    </tr>\n",
       "    <tr>\n",
       "      <th>6</th>\n",
       "      <td>0.6</td>\n",
       "      <td>0.4</td>\n",
       "      <td>0.067333</td>\n",
       "    </tr>\n",
       "    <tr>\n",
       "      <th>7</th>\n",
       "      <td>0.7</td>\n",
       "      <td>0.3</td>\n",
       "      <td>0.087271</td>\n",
       "    </tr>\n",
       "    <tr>\n",
       "      <th>8</th>\n",
       "      <td>0.8</td>\n",
       "      <td>0.2</td>\n",
       "      <td>0.107210</td>\n",
       "    </tr>\n",
       "    <tr>\n",
       "      <th>9</th>\n",
       "      <td>0.9</td>\n",
       "      <td>0.1</td>\n",
       "      <td>0.127148</td>\n",
       "    </tr>\n",
       "  </tbody>\n",
       "</table>\n",
       "</div>"
      ],
      "text/plain": [
       "   Asset 1  Asset 2      Mean\n",
       "0      0.0      1.0 -0.052296\n",
       "1      0.1      0.9 -0.032358\n",
       "2      0.2      0.8 -0.012420\n",
       "3      0.3      0.7  0.007518\n",
       "4      0.4      0.6  0.027457\n",
       "5      0.5      0.5  0.047395\n",
       "6      0.6      0.4  0.067333\n",
       "7      0.7      0.3  0.087271\n",
       "8      0.8      0.2  0.107210\n",
       "9      0.9      0.1  0.127148"
      ]
     },
     "execution_count": 122,
     "metadata": {},
     "output_type": "execute_result"
    }
   ],
   "source": [
    "pf"
   ]
  },
  {
   "cell_type": "markdown",
   "id": "b1675390",
   "metadata": {},
   "source": [
    "### Variance"
   ]
  },
  {
   "cell_type": "code",
   "execution_count": 132,
   "id": "eeb6ef7d",
   "metadata": {},
   "outputs": [
    {
     "data": {
      "text/plain": [
       "0    0.425629\n",
       "1    0.370691\n",
       "2    0.388852\n",
       "3    0.480114\n",
       "4    0.644475\n",
       "5    0.881937\n",
       "6    1.192498\n",
       "7    1.576160\n",
       "8    2.032922\n",
       "9    2.562784\n",
       "dtype: float64"
      ]
     },
     "execution_count": 132,
     "metadata": {},
     "output_type": "execute_result"
    }
   ],
   "source": [
    "((pf['Asset 1'] ** 2) * a1_var) + ((pf['Asset 2'] ** 2) * a2_var) + 2 * pf['Asset 1'] * pf['Asset 2'] * a_cov"
   ]
  },
  {
   "cell_type": "code",
   "execution_count": 133,
   "id": "207109ed",
   "metadata": {},
   "outputs": [],
   "source": [
    "pf['Variance'] = ((pf['Asset 1'] ** 2) * a1_var) + ((pf['Asset 2'] ** 2) * a2_var) + 2 * pf['Asset 1'] * pf['Asset 2'] * a_cov"
   ]
  },
  {
   "cell_type": "code",
   "execution_count": 134,
   "id": "9fa828fa",
   "metadata": {},
   "outputs": [
    {
     "data": {
      "text/html": [
       "<div>\n",
       "<style scoped>\n",
       "    .dataframe tbody tr th:only-of-type {\n",
       "        vertical-align: middle;\n",
       "    }\n",
       "\n",
       "    .dataframe tbody tr th {\n",
       "        vertical-align: top;\n",
       "    }\n",
       "\n",
       "    .dataframe thead th {\n",
       "        text-align: right;\n",
       "    }\n",
       "</style>\n",
       "<table border=\"1\" class=\"dataframe\">\n",
       "  <thead>\n",
       "    <tr style=\"text-align: right;\">\n",
       "      <th></th>\n",
       "      <th>Asset 1</th>\n",
       "      <th>Asset 2</th>\n",
       "      <th>Mean</th>\n",
       "      <th>Variance</th>\n",
       "      <th>Standard Deviation</th>\n",
       "    </tr>\n",
       "  </thead>\n",
       "  <tbody>\n",
       "    <tr>\n",
       "      <th>0</th>\n",
       "      <td>0.0</td>\n",
       "      <td>1.0</td>\n",
       "      <td>-0.052296</td>\n",
       "      <td>0.425629</td>\n",
       "      <td>0.212815</td>\n",
       "    </tr>\n",
       "    <tr>\n",
       "      <th>1</th>\n",
       "      <td>0.1</td>\n",
       "      <td>0.9</td>\n",
       "      <td>-0.032358</td>\n",
       "      <td>0.370691</td>\n",
       "      <td>0.327804</td>\n",
       "    </tr>\n",
       "    <tr>\n",
       "      <th>2</th>\n",
       "      <td>0.2</td>\n",
       "      <td>0.8</td>\n",
       "      <td>-0.012420</td>\n",
       "      <td>0.388852</td>\n",
       "      <td>0.447686</td>\n",
       "    </tr>\n",
       "    <tr>\n",
       "      <th>3</th>\n",
       "      <td>0.3</td>\n",
       "      <td>0.7</td>\n",
       "      <td>0.007518</td>\n",
       "      <td>0.480114</td>\n",
       "      <td>0.572460</td>\n",
       "    </tr>\n",
       "    <tr>\n",
       "      <th>4</th>\n",
       "      <td>0.4</td>\n",
       "      <td>0.6</td>\n",
       "      <td>0.027457</td>\n",
       "      <td>0.644475</td>\n",
       "      <td>0.702127</td>\n",
       "    </tr>\n",
       "    <tr>\n",
       "      <th>5</th>\n",
       "      <td>0.5</td>\n",
       "      <td>0.5</td>\n",
       "      <td>0.047395</td>\n",
       "      <td>0.881937</td>\n",
       "      <td>0.836687</td>\n",
       "    </tr>\n",
       "    <tr>\n",
       "      <th>6</th>\n",
       "      <td>0.6</td>\n",
       "      <td>0.4</td>\n",
       "      <td>0.067333</td>\n",
       "      <td>1.192498</td>\n",
       "      <td>0.976139</td>\n",
       "    </tr>\n",
       "    <tr>\n",
       "      <th>7</th>\n",
       "      <td>0.7</td>\n",
       "      <td>0.3</td>\n",
       "      <td>0.087271</td>\n",
       "      <td>1.576160</td>\n",
       "      <td>1.120483</td>\n",
       "    </tr>\n",
       "    <tr>\n",
       "      <th>8</th>\n",
       "      <td>0.8</td>\n",
       "      <td>0.2</td>\n",
       "      <td>0.107210</td>\n",
       "      <td>2.032922</td>\n",
       "      <td>1.269721</td>\n",
       "    </tr>\n",
       "    <tr>\n",
       "      <th>9</th>\n",
       "      <td>0.9</td>\n",
       "      <td>0.1</td>\n",
       "      <td>0.127148</td>\n",
       "      <td>2.562784</td>\n",
       "      <td>1.423850</td>\n",
       "    </tr>\n",
       "  </tbody>\n",
       "</table>\n",
       "</div>"
      ],
      "text/plain": [
       "   Asset 1  Asset 2      Mean  Variance  Standard Deviation\n",
       "0      0.0      1.0 -0.052296  0.425629            0.212815\n",
       "1      0.1      0.9 -0.032358  0.370691            0.327804\n",
       "2      0.2      0.8 -0.012420  0.388852            0.447686\n",
       "3      0.3      0.7  0.007518  0.480114            0.572460\n",
       "4      0.4      0.6  0.027457  0.644475            0.702127\n",
       "5      0.5      0.5  0.047395  0.881937            0.836687\n",
       "6      0.6      0.4  0.067333  1.192498            0.976139\n",
       "7      0.7      0.3  0.087271  1.576160            1.120483\n",
       "8      0.8      0.2  0.107210  2.032922            1.269721\n",
       "9      0.9      0.1  0.127148  2.562784            1.423850"
      ]
     },
     "execution_count": 134,
     "metadata": {},
     "output_type": "execute_result"
    }
   ],
   "source": [
    "pf"
   ]
  },
  {
   "cell_type": "markdown",
   "id": "f30a541f",
   "metadata": {},
   "source": [
    "# Standard Deviation"
   ]
  },
  {
   "cell_type": "code",
   "execution_count": 135,
   "id": "5f5f713d",
   "metadata": {},
   "outputs": [
    {
     "data": {
      "text/plain": [
       "0    0.212815\n",
       "1    0.185345\n",
       "2    0.194426\n",
       "3    0.240057\n",
       "4    0.322238\n",
       "5    0.440968\n",
       "6    0.596249\n",
       "7    0.788080\n",
       "8    1.016461\n",
       "9    1.281392\n",
       "Name: Variance, dtype: float64"
      ]
     },
     "execution_count": 135,
     "metadata": {},
     "output_type": "execute_result"
    }
   ],
   "source": [
    "pf['Variance'] ** 1/2"
   ]
  },
  {
   "cell_type": "code",
   "execution_count": 141,
   "id": "bbdcbd80",
   "metadata": {},
   "outputs": [],
   "source": [
    "pf['Standard Deviation'] = pf['Variance'] ** 1/2"
   ]
  },
  {
   "cell_type": "code",
   "execution_count": 142,
   "id": "a583d384",
   "metadata": {},
   "outputs": [
    {
     "data": {
      "text/html": [
       "<div>\n",
       "<style scoped>\n",
       "    .dataframe tbody tr th:only-of-type {\n",
       "        vertical-align: middle;\n",
       "    }\n",
       "\n",
       "    .dataframe tbody tr th {\n",
       "        vertical-align: top;\n",
       "    }\n",
       "\n",
       "    .dataframe thead th {\n",
       "        text-align: right;\n",
       "    }\n",
       "</style>\n",
       "<table border=\"1\" class=\"dataframe\">\n",
       "  <thead>\n",
       "    <tr style=\"text-align: right;\">\n",
       "      <th></th>\n",
       "      <th>Asset 1</th>\n",
       "      <th>Asset 2</th>\n",
       "      <th>Mean</th>\n",
       "      <th>Variance</th>\n",
       "      <th>Standard Deviation</th>\n",
       "    </tr>\n",
       "  </thead>\n",
       "  <tbody>\n",
       "    <tr>\n",
       "      <th>0</th>\n",
       "      <td>0.0</td>\n",
       "      <td>1.0</td>\n",
       "      <td>-0.052296</td>\n",
       "      <td>0.425629</td>\n",
       "      <td>0.212815</td>\n",
       "    </tr>\n",
       "    <tr>\n",
       "      <th>1</th>\n",
       "      <td>0.1</td>\n",
       "      <td>0.9</td>\n",
       "      <td>-0.032358</td>\n",
       "      <td>0.370691</td>\n",
       "      <td>0.185345</td>\n",
       "    </tr>\n",
       "    <tr>\n",
       "      <th>2</th>\n",
       "      <td>0.2</td>\n",
       "      <td>0.8</td>\n",
       "      <td>-0.012420</td>\n",
       "      <td>0.388852</td>\n",
       "      <td>0.194426</td>\n",
       "    </tr>\n",
       "    <tr>\n",
       "      <th>3</th>\n",
       "      <td>0.3</td>\n",
       "      <td>0.7</td>\n",
       "      <td>0.007518</td>\n",
       "      <td>0.480114</td>\n",
       "      <td>0.240057</td>\n",
       "    </tr>\n",
       "    <tr>\n",
       "      <th>4</th>\n",
       "      <td>0.4</td>\n",
       "      <td>0.6</td>\n",
       "      <td>0.027457</td>\n",
       "      <td>0.644475</td>\n",
       "      <td>0.322238</td>\n",
       "    </tr>\n",
       "    <tr>\n",
       "      <th>5</th>\n",
       "      <td>0.5</td>\n",
       "      <td>0.5</td>\n",
       "      <td>0.047395</td>\n",
       "      <td>0.881937</td>\n",
       "      <td>0.440968</td>\n",
       "    </tr>\n",
       "    <tr>\n",
       "      <th>6</th>\n",
       "      <td>0.6</td>\n",
       "      <td>0.4</td>\n",
       "      <td>0.067333</td>\n",
       "      <td>1.192498</td>\n",
       "      <td>0.596249</td>\n",
       "    </tr>\n",
       "    <tr>\n",
       "      <th>7</th>\n",
       "      <td>0.7</td>\n",
       "      <td>0.3</td>\n",
       "      <td>0.087271</td>\n",
       "      <td>1.576160</td>\n",
       "      <td>0.788080</td>\n",
       "    </tr>\n",
       "    <tr>\n",
       "      <th>8</th>\n",
       "      <td>0.8</td>\n",
       "      <td>0.2</td>\n",
       "      <td>0.107210</td>\n",
       "      <td>2.032922</td>\n",
       "      <td>1.016461</td>\n",
       "    </tr>\n",
       "    <tr>\n",
       "      <th>9</th>\n",
       "      <td>0.9</td>\n",
       "      <td>0.1</td>\n",
       "      <td>0.127148</td>\n",
       "      <td>2.562784</td>\n",
       "      <td>1.281392</td>\n",
       "    </tr>\n",
       "  </tbody>\n",
       "</table>\n",
       "</div>"
      ],
      "text/plain": [
       "   Asset 1  Asset 2      Mean  Variance  Standard Deviation\n",
       "0      0.0      1.0 -0.052296  0.425629            0.212815\n",
       "1      0.1      0.9 -0.032358  0.370691            0.185345\n",
       "2      0.2      0.8 -0.012420  0.388852            0.194426\n",
       "3      0.3      0.7  0.007518  0.480114            0.240057\n",
       "4      0.4      0.6  0.027457  0.644475            0.322238\n",
       "5      0.5      0.5  0.047395  0.881937            0.440968\n",
       "6      0.6      0.4  0.067333  1.192498            0.596249\n",
       "7      0.7      0.3  0.087271  1.576160            0.788080\n",
       "8      0.8      0.2  0.107210  2.032922            1.016461\n",
       "9      0.9      0.1  0.127148  2.562784            1.281392"
      ]
     },
     "execution_count": 142,
     "metadata": {},
     "output_type": "execute_result"
    }
   ],
   "source": [
    "pf"
   ]
  },
  {
   "cell_type": "markdown",
   "id": "ff960be0",
   "metadata": {},
   "source": [
    "# Plotting"
   ]
  },
  {
   "cell_type": "code",
   "execution_count": 149,
   "id": "5ff53010",
   "metadata": {},
   "outputs": [
    {
     "data": {
      "text/plain": [
       "Text(0.5, 0, 'Standard Deviation')"
      ]
     },
     "execution_count": 149,
     "metadata": {},
     "output_type": "execute_result"
    },
    {
     "data": {
      "image/png": "[encoded data removed]",
      "text/plain": [
       "<Figure size 640x480 with 1 Axes>"
      ]
     },
     "metadata": {},
     "output_type": "display_data"
    }
   ],
   "source": [
    "import matplotlib.pyplot as plt\n",
    "plt.plot(pf['Standard Deviation'],pf['Mean'])\n",
    "plt.title('Efficient Frontier')\n",
    "plt.ylabel('Mean')\n",
    "plt.xlabel('Standard Deviation')"
   ]
  },
  {
   "cell_type": "code",
   "execution_count": null,
   "id": "deb0d8a7",
   "metadata": {},
   "outputs": [],
   "source": []
  },
  {
   "cell_type": "code",
   "execution_count": null,
   "id": "afe63801",
   "metadata": {},
   "outputs": [],
   "source": []
  },
  {
   "cell_type": "code",
   "execution_count": null,
   "id": "bd18a91a",
   "metadata": {},
   "outputs": [],
   "source": []
  },
  {
   "cell_type": "code",
   "execution_count": null,
   "id": "09382551",
   "metadata": {},
   "outputs": [],
   "source": []
  },
  {
   "cell_type": "code",
   "execution_count": null,
   "id": "6ce21415",
   "metadata": {},
   "outputs": [],
   "source": []
  }
 ],
 "metadata": {
  "kernelspec": {
   "display_name": "Python 3 (ipykernel)",
   "language": "python",
   "name": "python3"
  },
  "language_info": {
   "codemirror_mode": {
    "name": "ipython",
    "version": 3
   },
   "file_extension": ".py",
   "mimetype": "text/x-python",
   "name": "python",
   "nbconvert_exporter": "python",
   "pygments_lexer": "ipython3",
   "version": "3.9.16"
  }
 },
 "nbformat": 4,
 "nbformat_minor": 5
}
