{
 "cells": [
  {
   "attachments": {},
   "cell_type": "markdown",
   "id": "701577ca",
   "metadata": {},
   "source": [
    "<center><h1>Log-normal VaR</h1></center>\n",
    "\n",
    "Assuming the logarithmic returns of the portfolio are normally distributed, we can calculate the ```log-normal VaR```."
   ]
  },
  {
   "attachments": {},
   "cell_type": "markdown",
   "id": "1b661358",
   "metadata": {},
   "source": [
    "### Question\n",
    "\n",
    "Using the same portfolio example, let's assume the mean logarithmic return is 0.04 (4%) and the standard deviation of logarithmic returns is 0.08 (8%). \n",
    "\n",
    "We want to calculate the one-day 95% log-normal VaR."
   ]
  },
  {
   "attachments": {},
   "cell_type": "markdown",
   "id": "fcc1e172",
   "metadata": {},
   "source": [
    "### Solution\n",
    "\n",
    "To calculate log-normal VaR, \n",
    "\n",
    "we use the formula: ```Log-normal VaR``` = ```Portfolio Value``` * (1 - ```e```^(```Mean Log Return``` - (```Z-Score``` * ```Standard Deviation```)))"
   ]
  },
  {
   "attachments": {},
   "cell_type": "markdown",
   "id": "37f0fbed",
   "metadata": {},
   "source": [
    "- Let's assume the portfolio value is INR1,000,000.\n",
    "- Given a confidence level of 95%, the corresponding Z-score is approximately 1.645."
   ]
  },
  {
   "attachments": {},
   "cell_type": "markdown",
   "id": "f850e422",
   "metadata": {},
   "source": [
    "```Log-normal VaR``` \t\n",
    "\n",
    "= ```INR 1,000,000``` * ( 1 - ```e``` ^ ( 0.04 - ( 1.645 * 0.08 ))) \n",
    "\n",
    "= ```INR 1,000,000``` * ( 1 - ```e```^( -0.0916 )) \n",
    "\n",
    "\n",
    "= 87700.00"
   ]
  },
  {
   "cell_type": "code",
   "execution_count": 4,
   "id": "3d592876",
   "metadata": {},
   "outputs": [],
   "source": [
    "import math\n",
    "pft_value = 100000\n",
    "e = math.exp(1)\n",
    "mlr =  0.04\n",
    "z_score = 1.645 \n",
    "std_dev = 0.08"
   ]
  },
  {
   "cell_type": "code",
   "execution_count": 6,
   "id": "72da0399",
   "metadata": {},
   "outputs": [
    {
     "data": {
      "text/plain": [
       "8752.993541694954"
      ]
     },
     "execution_count": 6,
     "metadata": {},
     "output_type": "execute_result"
    }
   ],
   "source": [
    "pft_value * (1 - e**(mlr - (z_score * std_dev)))"
   ]
  },
  {
   "cell_type": "code",
   "execution_count": 10,
   "id": "5400e351",
   "metadata": {},
   "outputs": [
    {
     "data": {
      "text/plain": [
       "8752.993541694954"
      ]
     },
     "execution_count": 10,
     "metadata": {},
     "output_type": "execute_result"
    }
   ],
   "source": [
    "lg_nrml_var = pft_value * (1 - e**(mlr - (z_score * std_dev)))\n",
    "lg_nrml_var"
   ]
  },
  {
   "cell_type": "markdown",
   "id": "0788bc92",
   "metadata": {},
   "source": [
    "This means that there is a ```5%``` chance of experiencing a one-day loss of approximately ```INR 87,530``` or more in the portfolio based on the assumption of a log-normal distribution of logarithmic returns.\t"
   ]
  }
 ],
 "metadata": {
  "kernelspec": {
   "display_name": "Python 3 (ipykernel)",
   "language": "python",
   "name": "python3"
  },
  "language_info": {
   "codemirror_mode": {
    "name": "ipython",
    "version": 3
   },
   "file_extension": ".py",
   "mimetype": "text/x-python",
   "name": "python",
   "nbconvert_exporter": "python",
   "pygments_lexer": "ipython3",
   "version": "3.9.16"
  }
 },
 "nbformat": 4,
 "nbformat_minor": 5
}
