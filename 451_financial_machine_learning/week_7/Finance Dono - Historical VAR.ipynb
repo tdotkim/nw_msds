{
 "cells": [
  {
   "cell_type": "markdown",
   "id": "bb80e6db",
   "metadata": {},
   "source": [
    "<h1><Center>Historical VAR</Center></h1>\n",
    "\n",
    "Suppose a bank holds a portfolio of various assets, including stocks and bonds. The bank wants to calculate the one-day VaR for this portfolio at a 95% confidence level. This means that the bank wants to estimate the maximum potential loss over the next day with 95% confidence.\n"
   ]
  },
  {
   "cell_type": "code",
   "execution_count": 1,
   "id": "b066d5a0",
   "metadata": {},
   "outputs": [],
   "source": [
    "import pandas as pd\n",
    "import numpy as np\n",
    "import matplotlib.pyplot as plt"
   ]
  },
  {
   "cell_type": "code",
   "execution_count": 9,
   "id": "f25faeea",
   "metadata": {},
   "outputs": [],
   "source": [
    "df = pd.read_csv('Historical_VAR.csv',names=['Date', 'Asset 1', 'Asset 1 return (%)'],skiprows=1)"
   ]
  },
  {
   "cell_type": "code",
   "execution_count": 10,
   "id": "52e92802",
   "metadata": {},
   "outputs": [
    {
     "data": {
      "text/plain": [
       "Index(['Date', 'Asset 1', 'Asset 1 return (%)'], dtype='object')"
      ]
     },
     "execution_count": 10,
     "metadata": {},
     "output_type": "execute_result"
    }
   ],
   "source": [
    "df.columns"
   ]
  },
  {
   "cell_type": "code",
   "execution_count": 12,
   "id": "4171b954",
   "metadata": {},
   "outputs": [],
   "source": [
    "df['Rank'] = np.arange(1,253)"
   ]
  },
  {
   "cell_type": "code",
   "execution_count": 39,
   "id": "c80ca58f",
   "metadata": {},
   "outputs": [
    {
     "data": {
      "text/html": [
       "<div>\n",
       "<style scoped>\n",
       "    .dataframe tbody tr th:only-of-type {\n",
       "        vertical-align: middle;\n",
       "    }\n",
       "\n",
       "    .dataframe tbody tr th {\n",
       "        vertical-align: top;\n",
       "    }\n",
       "\n",
       "    .dataframe thead th {\n",
       "        text-align: right;\n",
       "    }\n",
       "</style>\n",
       "<table border=\"1\" class=\"dataframe\">\n",
       "  <thead>\n",
       "    <tr style=\"text-align: right;\">\n",
       "      <th></th>\n",
       "      <th>Date</th>\n",
       "      <th>Asset 1</th>\n",
       "      <th>Asset 1 return (%)</th>\n",
       "      <th>Rank</th>\n",
       "    </tr>\n",
       "  </thead>\n",
       "  <tbody>\n",
       "    <tr>\n",
       "      <th>0</th>\n",
       "      <td>03-01-2019</td>\n",
       "      <td>142.19</td>\n",
       "      <td>-9.9607</td>\n",
       "      <td>1</td>\n",
       "    </tr>\n",
       "    <tr>\n",
       "      <th>1</th>\n",
       "      <td>02-11-2018</td>\n",
       "      <td>207.48</td>\n",
       "      <td>-6.6331</td>\n",
       "      <td>2</td>\n",
       "    </tr>\n",
       "    <tr>\n",
       "      <th>2</th>\n",
       "      <td>12-11-2018</td>\n",
       "      <td>194.17</td>\n",
       "      <td>-5.0374</td>\n",
       "      <td>3</td>\n",
       "    </tr>\n",
       "    <tr>\n",
       "      <th>3</th>\n",
       "      <td>20-11-2018</td>\n",
       "      <td>176.98</td>\n",
       "      <td>-4.7778</td>\n",
       "      <td>4</td>\n",
       "    </tr>\n",
       "    <tr>\n",
       "      <th>4</th>\n",
       "      <td>10-10-2018</td>\n",
       "      <td>216.36</td>\n",
       "      <td>-4.6326</td>\n",
       "      <td>5</td>\n",
       "    </tr>\n",
       "    <tr>\n",
       "      <th>...</th>\n",
       "      <td>...</td>\n",
       "      <td>...</td>\n",
       "      <td>...</td>\n",
       "      <td>...</td>\n",
       "    </tr>\n",
       "    <tr>\n",
       "      <th>247</th>\n",
       "      <td>02-05-2018</td>\n",
       "      <td>176.57</td>\n",
       "      <td>4.4175</td>\n",
       "      <td>248</td>\n",
       "    </tr>\n",
       "    <tr>\n",
       "      <th>248</th>\n",
       "      <td>26-03-2018</td>\n",
       "      <td>172.77</td>\n",
       "      <td>4.7472</td>\n",
       "      <td>249</td>\n",
       "    </tr>\n",
       "    <tr>\n",
       "      <th>249</th>\n",
       "      <td>01-08-2018</td>\n",
       "      <td>201.50</td>\n",
       "      <td>5.8910</td>\n",
       "      <td>250</td>\n",
       "    </tr>\n",
       "    <tr>\n",
       "      <th>250</th>\n",
       "      <td>30-01-2019</td>\n",
       "      <td>165.25</td>\n",
       "      <td>6.8335</td>\n",
       "      <td>251</td>\n",
       "    </tr>\n",
       "    <tr>\n",
       "      <th>251</th>\n",
       "      <td>26-12-2018</td>\n",
       "      <td>157.17</td>\n",
       "      <td>7.0422</td>\n",
       "      <td>252</td>\n",
       "    </tr>\n",
       "  </tbody>\n",
       "</table>\n",
       "<p>252 rows × 4 columns</p>\n",
       "</div>"
      ],
      "text/plain": [
       "           Date  Asset 1  Asset 1 return (%)  Rank\n",
       "0    03-01-2019   142.19             -9.9607     1\n",
       "1    02-11-2018   207.48             -6.6331     2\n",
       "2    12-11-2018   194.17             -5.0374     3\n",
       "3    20-11-2018   176.98             -4.7778     4\n",
       "4    10-10-2018   216.36             -4.6326     5\n",
       "..          ...      ...                 ...   ...\n",
       "247  02-05-2018   176.57              4.4175   248\n",
       "248  26-03-2018   172.77              4.7472   249\n",
       "249  01-08-2018   201.50              5.8910   250\n",
       "250  30-01-2019   165.25              6.8335   251\n",
       "251  26-12-2018   157.17              7.0422   252\n",
       "\n",
       "[252 rows x 4 columns]"
      ]
     },
     "execution_count": 39,
     "metadata": {},
     "output_type": "execute_result"
    }
   ],
   "source": [
    "df"
   ]
  },
  {
   "cell_type": "markdown",
   "id": "2e24b4bb",
   "metadata": {},
   "source": [
    "### Data Preprocessing"
   ]
  },
  {
   "cell_type": "code",
   "execution_count": 15,
   "id": "b131e231",
   "metadata": {},
   "outputs": [],
   "source": [
    "df['Asset 1 return (%)'] = df['Asset 1 return (%)'].str.replace('%', '')"
   ]
  },
  {
   "cell_type": "code",
   "execution_count": 21,
   "id": "2f7c65d9",
   "metadata": {},
   "outputs": [],
   "source": [
    "df['Asset 1 return (%)'] = pd.to_numeric(df['Asset 1 return (%)'])"
   ]
  },
  {
   "cell_type": "code",
   "execution_count": 22,
   "id": "239c8b20",
   "metadata": {},
   "outputs": [
    {
     "data": {
      "text/html": [
       "<div>\n",
       "<style scoped>\n",
       "    .dataframe tbody tr th:only-of-type {\n",
       "        vertical-align: middle;\n",
       "    }\n",
       "\n",
       "    .dataframe tbody tr th {\n",
       "        vertical-align: top;\n",
       "    }\n",
       "\n",
       "    .dataframe thead th {\n",
       "        text-align: right;\n",
       "    }\n",
       "</style>\n",
       "<table border=\"1\" class=\"dataframe\">\n",
       "  <thead>\n",
       "    <tr style=\"text-align: right;\">\n",
       "      <th></th>\n",
       "      <th>Date</th>\n",
       "      <th>Asset 1</th>\n",
       "      <th>Asset 1 return (%)</th>\n",
       "      <th>Rank</th>\n",
       "    </tr>\n",
       "  </thead>\n",
       "  <tbody>\n",
       "    <tr>\n",
       "      <th>0</th>\n",
       "      <td>03-01-2019</td>\n",
       "      <td>142.19</td>\n",
       "      <td>-9.9607</td>\n",
       "      <td>1</td>\n",
       "    </tr>\n",
       "    <tr>\n",
       "      <th>1</th>\n",
       "      <td>02-11-2018</td>\n",
       "      <td>207.48</td>\n",
       "      <td>-6.6331</td>\n",
       "      <td>2</td>\n",
       "    </tr>\n",
       "    <tr>\n",
       "      <th>2</th>\n",
       "      <td>12-11-2018</td>\n",
       "      <td>194.17</td>\n",
       "      <td>-5.0374</td>\n",
       "      <td>3</td>\n",
       "    </tr>\n",
       "    <tr>\n",
       "      <th>3</th>\n",
       "      <td>20-11-2018</td>\n",
       "      <td>176.98</td>\n",
       "      <td>-4.7778</td>\n",
       "      <td>4</td>\n",
       "    </tr>\n",
       "    <tr>\n",
       "      <th>4</th>\n",
       "      <td>10-10-2018</td>\n",
       "      <td>216.36</td>\n",
       "      <td>-4.6326</td>\n",
       "      <td>5</td>\n",
       "    </tr>\n",
       "    <tr>\n",
       "      <th>...</th>\n",
       "      <td>...</td>\n",
       "      <td>...</td>\n",
       "      <td>...</td>\n",
       "      <td>...</td>\n",
       "    </tr>\n",
       "    <tr>\n",
       "      <th>247</th>\n",
       "      <td>02-05-2018</td>\n",
       "      <td>176.57</td>\n",
       "      <td>4.4175</td>\n",
       "      <td>248</td>\n",
       "    </tr>\n",
       "    <tr>\n",
       "      <th>248</th>\n",
       "      <td>26-03-2018</td>\n",
       "      <td>172.77</td>\n",
       "      <td>4.7472</td>\n",
       "      <td>249</td>\n",
       "    </tr>\n",
       "    <tr>\n",
       "      <th>249</th>\n",
       "      <td>01-08-2018</td>\n",
       "      <td>201.50</td>\n",
       "      <td>5.8910</td>\n",
       "      <td>250</td>\n",
       "    </tr>\n",
       "    <tr>\n",
       "      <th>250</th>\n",
       "      <td>30-01-2019</td>\n",
       "      <td>165.25</td>\n",
       "      <td>6.8335</td>\n",
       "      <td>251</td>\n",
       "    </tr>\n",
       "    <tr>\n",
       "      <th>251</th>\n",
       "      <td>26-12-2018</td>\n",
       "      <td>157.17</td>\n",
       "      <td>7.0422</td>\n",
       "      <td>252</td>\n",
       "    </tr>\n",
       "  </tbody>\n",
       "</table>\n",
       "<p>252 rows × 4 columns</p>\n",
       "</div>"
      ],
      "text/plain": [
       "           Date  Asset 1  Asset 1 return (%)  Rank\n",
       "0    03-01-2019   142.19             -9.9607     1\n",
       "1    02-11-2018   207.48             -6.6331     2\n",
       "2    12-11-2018   194.17             -5.0374     3\n",
       "3    20-11-2018   176.98             -4.7778     4\n",
       "4    10-10-2018   216.36             -4.6326     5\n",
       "..          ...      ...                 ...   ...\n",
       "247  02-05-2018   176.57              4.4175   248\n",
       "248  26-03-2018   172.77              4.7472   249\n",
       "249  01-08-2018   201.50              5.8910   250\n",
       "250  30-01-2019   165.25              6.8335   251\n",
       "251  26-12-2018   157.17              7.0422   252\n",
       "\n",
       "[252 rows x 4 columns]"
      ]
     },
     "execution_count": 22,
     "metadata": {},
     "output_type": "execute_result"
    }
   ],
   "source": [
    "df"
   ]
  },
  {
   "cell_type": "code",
   "execution_count": 40,
   "id": "58d20ee3",
   "metadata": {},
   "outputs": [
    {
     "name": "stdout",
     "output_type": "stream",
     "text": [
      "<class 'pandas.core.frame.DataFrame'>\n",
      "RangeIndex: 252 entries, 0 to 251\n",
      "Data columns (total 4 columns):\n",
      " #   Column              Non-Null Count  Dtype  \n",
      "---  ------              --------------  -----  \n",
      " 0   Date                252 non-null    object \n",
      " 1   Asset 1             252 non-null    float64\n",
      " 2   Asset 1 return (%)  252 non-null    float64\n",
      " 3   Rank                252 non-null    int64  \n",
      "dtypes: float64(2), int64(1), object(1)\n",
      "memory usage: 8.0+ KB\n"
     ]
    }
   ],
   "source": [
    "df.info()"
   ]
  },
  {
   "cell_type": "markdown",
   "id": "d37a4bb3",
   "metadata": {},
   "source": [
    "# Statistics\n",
    "Total number of returns = 252 \n",
    "\n",
    "Confidence Level = 95%\n",
    "\n",
    "Alpha (Level of Significance) = 5%"
   ]
  },
  {
   "cell_type": "markdown",
   "id": "2267beb2",
   "metadata": {},
   "source": [
    "### Historic VaR is at position"
   ]
  },
  {
   "cell_type": "code",
   "execution_count": 47,
   "id": "8ee7a874",
   "metadata": {},
   "outputs": [
    {
     "data": {
      "text/plain": [
       "12.600000000000001"
      ]
     },
     "execution_count": 47,
     "metadata": {},
     "output_type": "execute_result"
    }
   ],
   "source": [
    "historic_var = 252 * 0.05\n",
    "historic_var"
   ]
  },
  {
   "attachments": {},
   "cell_type": "markdown",
   "id": "7eadaf5b",
   "metadata": {},
   "source": [
    "### Historic VaR is at position (rounded)"
   ]
  },
  {
   "cell_type": "code",
   "execution_count": 51,
   "id": "89d4f5bb",
   "metadata": {},
   "outputs": [
    {
     "data": {
      "text/plain": [
       "13"
      ]
     },
     "execution_count": 51,
     "metadata": {},
     "output_type": "execute_result"
    }
   ],
   "source": [
    "round(historic_var)"
   ]
  },
  {
   "cell_type": "code",
   "execution_count": null,
   "id": "0026c2a1",
   "metadata": {},
   "outputs": [],
   "source": []
  },
  {
   "cell_type": "code",
   "execution_count": null,
   "id": "f54ce87b",
   "metadata": {},
   "outputs": [],
   "source": []
  },
  {
   "cell_type": "code",
   "execution_count": null,
   "id": "a3abb9f2",
   "metadata": {},
   "outputs": [],
   "source": []
  },
  {
   "cell_type": "code",
   "execution_count": null,
   "id": "24b7ed3e",
   "metadata": {},
   "outputs": [],
   "source": []
  },
  {
   "cell_type": "code",
   "execution_count": null,
   "id": "fae870b2",
   "metadata": {},
   "outputs": [],
   "source": []
  },
  {
   "cell_type": "code",
   "execution_count": null,
   "id": "7d0255ad",
   "metadata": {},
   "outputs": [],
   "source": []
  },
  {
   "cell_type": "code",
   "execution_count": null,
   "id": "c4726ad1",
   "metadata": {},
   "outputs": [],
   "source": []
  },
  {
   "cell_type": "code",
   "execution_count": 61,
   "id": "cfefe820",
   "metadata": {},
   "outputs": [
    {
     "data": {
      "text/plain": [
       "Text(0, 0.5, 'Labels')"
      ]
     },
     "execution_count": 61,
     "metadata": {},
     "output_type": "execute_result"
    },
    {
     "data": {
      "image/png": "[encoded data removed]",
      "text/plain": [
       "<Figure size 640x480 with 1 Axes>"
      ]
     },
     "metadata": {},
     "output_type": "display_data"
    }
   ],
   "source": [
    "counts, edges, bars = plt.hist(df['Asset 1 return (%)'],bins=20)\n",
    "plt.bar_label(bars)\n",
    "plt.title(\"Distribution of returns\")\n",
    "plt.xlabel(\"Frequency\")\n",
    "plt.ylabel(\"Labels\")"
   ]
  },
  {
   "cell_type": "markdown",
   "id": "d7b3cb5a",
   "metadata": {},
   "source": [
    "### Value of my asset (INR)"
   ]
  },
  {
   "cell_type": "code",
   "execution_count": 64,
   "id": "937056ed",
   "metadata": {},
   "outputs": [
    {
     "data": {
      "text/plain": [
       "1000000"
      ]
     },
     "execution_count": 64,
     "metadata": {},
     "output_type": "execute_result"
    }
   ],
   "source": [
    "voa = 1000000\n",
    "voa"
   ]
  },
  {
   "attachments": {},
   "cell_type": "markdown",
   "id": "46d594f2",
   "metadata": {},
   "source": [
    "### VaR amount (INR)"
   ]
  },
  {
   "cell_type": "code",
   "execution_count": 76,
   "id": "d88c6b3c",
   "metadata": {},
   "outputs": [
    {
     "data": {
      "text/plain": [
       "-3.1192"
      ]
     },
     "execution_count": 76,
     "metadata": {},
     "output_type": "execute_result"
    }
   ],
   "source": [
    "df.iloc[12,2]"
   ]
  },
  {
   "cell_type": "code",
   "execution_count": 79,
   "id": "bbbead41",
   "metadata": {},
   "outputs": [
    {
     "data": {
      "text/plain": [
       "-31192.0"
      ]
     },
     "execution_count": 79,
     "metadata": {},
     "output_type": "execute_result"
    }
   ],
   "source": [
    "(voa * df.iloc[12,2])/100"
   ]
  },
  {
   "cell_type": "markdown",
   "id": "c4fae663",
   "metadata": {},
   "source": [
    "At a 95% confidence interval, the lower tail displays the lowest 5% of the underlying distribution's returns. For this distribution, the value associated with a 95% confidence interval is a return of -3.1192%. If a bank has invested INR 1,000,000 in this asset , one day VaR is INR 31,191.7 (-3.1192*1000000)"
   ]
  }
 ],
 "metadata": {
  "kernelspec": {
   "display_name": "Python 3 (ipykernel)",
   "language": "python",
   "name": "python3"
  },
  "language_info": {
   "codemirror_mode": {
    "name": "ipython",
    "version": 3
   },
   "file_extension": ".py",
   "mimetype": "text/x-python",
   "name": "python",
   "nbconvert_exporter": "python",
   "pygments_lexer": "ipython3",
   "version": "3.9.16"
  }
 },
 "nbformat": 4,
 "nbformat_minor": 5
}
