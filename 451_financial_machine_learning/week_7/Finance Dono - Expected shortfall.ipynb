{
 "cells": [
  {
   "attachments": {},
   "cell_type": "markdown",
   "id": "cd802ae2",
   "metadata": {},
   "source": [
    "<center><h1>Expected shortfall</h1></center>\n",
    "\n"
   ]
  },
  {
   "cell_type": "code",
   "execution_count": 1,
   "id": "6f8b06eb",
   "metadata": {},
   "outputs": [],
   "source": [
    "import pandas as pd"
   ]
  },
  {
   "cell_type": "code",
   "execution_count": 2,
   "id": "4b5dd97e",
   "metadata": {},
   "outputs": [],
   "source": [
    "df = pd.read_csv('Expected_shortfall_data.csv')"
   ]
  },
  {
   "cell_type": "code",
   "execution_count": 3,
   "id": "5bb8c06b",
   "metadata": {},
   "outputs": [
    {
     "data": {
      "text/html": [
       "<div>\n",
       "<style scoped>\n",
       "    .dataframe tbody tr th:only-of-type {\n",
       "        vertical-align: middle;\n",
       "    }\n",
       "\n",
       "    .dataframe tbody tr th {\n",
       "        vertical-align: top;\n",
       "    }\n",
       "\n",
       "    .dataframe thead th {\n",
       "        text-align: right;\n",
       "    }\n",
       "</style>\n",
       "<table border=\"1\" class=\"dataframe\">\n",
       "  <thead>\n",
       "    <tr style=\"text-align: right;\">\n",
       "      <th></th>\n",
       "      <th>Obs</th>\n",
       "      <th>Loss data</th>\n",
       "      <th>Loss data (ascending order)</th>\n",
       "      <th>Ranking</th>\n",
       "    </tr>\n",
       "  </thead>\n",
       "  <tbody>\n",
       "    <tr>\n",
       "      <th>0</th>\n",
       "      <td>1</td>\n",
       "      <td>8000</td>\n",
       "      <td>-17715</td>\n",
       "      <td>1</td>\n",
       "    </tr>\n",
       "    <tr>\n",
       "      <th>1</th>\n",
       "      <td>2</td>\n",
       "      <td>-5429</td>\n",
       "      <td>-14116</td>\n",
       "      <td>2</td>\n",
       "    </tr>\n",
       "    <tr>\n",
       "      <th>2</th>\n",
       "      <td>3</td>\n",
       "      <td>1086</td>\n",
       "      <td>-10682</td>\n",
       "      <td>3</td>\n",
       "    </tr>\n",
       "    <tr>\n",
       "      <th>3</th>\n",
       "      <td>4</td>\n",
       "      <td>7601</td>\n",
       "      <td>-9275</td>\n",
       "      <td>4</td>\n",
       "    </tr>\n",
       "    <tr>\n",
       "      <th>4</th>\n",
       "      <td>5</td>\n",
       "      <td>-14116</td>\n",
       "      <td>-9122</td>\n",
       "      <td>5</td>\n",
       "    </tr>\n",
       "    <tr>\n",
       "      <th>...</th>\n",
       "      <td>...</td>\n",
       "      <td>...</td>\n",
       "      <td>...</td>\n",
       "      <td>...</td>\n",
       "    </tr>\n",
       "    <tr>\n",
       "      <th>95</th>\n",
       "      <td>96</td>\n",
       "      <td>258</td>\n",
       "      <td>8686</td>\n",
       "      <td>96</td>\n",
       "    </tr>\n",
       "    <tr>\n",
       "      <th>96</th>\n",
       "      <td>97</td>\n",
       "      <td>1134</td>\n",
       "      <td>8780</td>\n",
       "      <td>97</td>\n",
       "    </tr>\n",
       "    <tr>\n",
       "      <th>97</th>\n",
       "      <td>98</td>\n",
       "      <td>1673</td>\n",
       "      <td>8809</td>\n",
       "      <td>98</td>\n",
       "    </tr>\n",
       "    <tr>\n",
       "      <th>98</th>\n",
       "      <td>99</td>\n",
       "      <td>-7440</td>\n",
       "      <td>12088</td>\n",
       "      <td>99</td>\n",
       "    </tr>\n",
       "    <tr>\n",
       "      <th>99</th>\n",
       "      <td>100</td>\n",
       "      <td>-5040</td>\n",
       "      <td>13495</td>\n",
       "      <td>100</td>\n",
       "    </tr>\n",
       "  </tbody>\n",
       "</table>\n",
       "<p>100 rows × 4 columns</p>\n",
       "</div>"
      ],
      "text/plain": [
       "    Obs  Loss data   Loss data (ascending order)  Ranking\n",
       "0     1        8000                       -17715        1\n",
       "1     2       -5429                       -14116        2\n",
       "2     3        1086                       -10682        3\n",
       "3     4        7601                        -9275        4\n",
       "4     5      -14116                        -9122        5\n",
       "..  ...         ...                          ...      ...\n",
       "95   96         258                         8686       96\n",
       "96   97        1134                         8780       97\n",
       "97   98        1673                         8809       98\n",
       "98   99       -7440                        12088       99\n",
       "99  100       -5040                        13495      100\n",
       "\n",
       "[100 rows x 4 columns]"
      ]
     },
     "execution_count": 3,
     "metadata": {},
     "output_type": "execute_result"
    }
   ],
   "source": [
    "df"
   ]
  },
  {
   "attachments": {},
   "cell_type": "markdown",
   "id": "2dd25fd1",
   "metadata": {},
   "source": [
    "# Statistics\n",
    "Total number of returns\t= 100\n",
    "\n",
    "Confidence level = 95%"
   ]
  },
  {
   "cell_type": "code",
   "execution_count": 4,
   "id": "581928c2",
   "metadata": {},
   "outputs": [],
   "source": [
    "tnc = 100\n",
    "cfd_ivl = 0.95"
   ]
  },
  {
   "cell_type": "markdown",
   "id": "8671a73d",
   "metadata": {},
   "source": [
    "### Aplha (Level of significance)"
   ]
  },
  {
   "cell_type": "code",
   "execution_count": 6,
   "id": "172fcf18",
   "metadata": {},
   "outputs": [
    {
     "data": {
      "text/plain": [
       "0.050000000000000044"
      ]
     },
     "execution_count": 6,
     "metadata": {},
     "output_type": "execute_result"
    }
   ],
   "source": [
    "alpha = 1 - cfd_ivl\n",
    "alpha"
   ]
  },
  {
   "cell_type": "code",
   "execution_count": 8,
   "id": "d6b9e4c7",
   "metadata": {},
   "outputs": [
    {
     "data": {
      "text/plain": [
       "0.05"
      ]
     },
     "execution_count": 8,
     "metadata": {},
     "output_type": "execute_result"
    }
   ],
   "source": [
    "alpha = round(alpha,2)\n",
    "alpha"
   ]
  },
  {
   "attachments": {},
   "cell_type": "markdown",
   "id": "295218d0",
   "metadata": {},
   "source": [
    "### Historic VaR is at position"
   ]
  },
  {
   "cell_type": "code",
   "execution_count": 10,
   "id": "9d3ce02f",
   "metadata": {},
   "outputs": [
    {
     "data": {
      "text/html": [
       "<div>\n",
       "<style scoped>\n",
       "    .dataframe tbody tr th:only-of-type {\n",
       "        vertical-align: middle;\n",
       "    }\n",
       "\n",
       "    .dataframe tbody tr th {\n",
       "        vertical-align: top;\n",
       "    }\n",
       "\n",
       "    .dataframe thead th {\n",
       "        text-align: right;\n",
       "    }\n",
       "</style>\n",
       "<table border=\"1\" class=\"dataframe\">\n",
       "  <thead>\n",
       "    <tr style=\"text-align: right;\">\n",
       "      <th></th>\n",
       "      <th>Obs</th>\n",
       "      <th>Loss data</th>\n",
       "      <th>Loss data (ascending order)</th>\n",
       "      <th>Ranking</th>\n",
       "    </tr>\n",
       "  </thead>\n",
       "  <tbody>\n",
       "    <tr>\n",
       "      <th>0</th>\n",
       "      <td>1</td>\n",
       "      <td>8000</td>\n",
       "      <td>-17715</td>\n",
       "      <td>1</td>\n",
       "    </tr>\n",
       "    <tr>\n",
       "      <th>1</th>\n",
       "      <td>2</td>\n",
       "      <td>-5429</td>\n",
       "      <td>-14116</td>\n",
       "      <td>2</td>\n",
       "    </tr>\n",
       "    <tr>\n",
       "      <th>2</th>\n",
       "      <td>3</td>\n",
       "      <td>1086</td>\n",
       "      <td>-10682</td>\n",
       "      <td>3</td>\n",
       "    </tr>\n",
       "    <tr>\n",
       "      <th>3</th>\n",
       "      <td>4</td>\n",
       "      <td>7601</td>\n",
       "      <td>-9275</td>\n",
       "      <td>4</td>\n",
       "    </tr>\n",
       "    <tr>\n",
       "      <th>4</th>\n",
       "      <td>5</td>\n",
       "      <td>-14116</td>\n",
       "      <td>-9122</td>\n",
       "      <td>5</td>\n",
       "    </tr>\n",
       "    <tr>\n",
       "      <th>5</th>\n",
       "      <td>6</td>\n",
       "      <td>2063</td>\n",
       "      <td>-8883</td>\n",
       "      <td>6</td>\n",
       "    </tr>\n",
       "    <tr>\n",
       "      <th>6</th>\n",
       "      <td>7</td>\n",
       "      <td>-5056</td>\n",
       "      <td>-8846</td>\n",
       "      <td>7</td>\n",
       "    </tr>\n",
       "    <tr>\n",
       "      <th>7</th>\n",
       "      <td>8</td>\n",
       "      <td>-6462</td>\n",
       "      <td>-8808</td>\n",
       "      <td>8</td>\n",
       "    </tr>\n",
       "    <tr>\n",
       "      <th>8</th>\n",
       "      <td>9</td>\n",
       "      <td>7869</td>\n",
       "      <td>-8323</td>\n",
       "      <td>9</td>\n",
       "    </tr>\n",
       "    <tr>\n",
       "      <th>9</th>\n",
       "      <td>10</td>\n",
       "      <td>-9275</td>\n",
       "      <td>-8188</td>\n",
       "      <td>10</td>\n",
       "    </tr>\n",
       "  </tbody>\n",
       "</table>\n",
       "</div>"
      ],
      "text/plain": [
       "   Obs  Loss data   Loss data (ascending order)  Ranking\n",
       "0    1        8000                       -17715        1\n",
       "1    2       -5429                       -14116        2\n",
       "2    3        1086                       -10682        3\n",
       "3    4        7601                        -9275        4\n",
       "4    5      -14116                        -9122        5\n",
       "5    6        2063                        -8883        6\n",
       "6    7       -5056                        -8846        7\n",
       "7    8       -6462                        -8808        8\n",
       "8    9        7869                        -8323        9\n",
       "9   10       -9275                        -8188       10"
      ]
     },
     "execution_count": 10,
     "metadata": {},
     "output_type": "execute_result"
    }
   ],
   "source": [
    "df.head(10)"
   ]
  },
  {
   "cell_type": "markdown",
   "id": "7c63d86d",
   "metadata": {},
   "source": [
    "<center>Is at position 5</center>"
   ]
  },
  {
   "cell_type": "code",
   "execution_count": 15,
   "id": "3f3cfc2e",
   "metadata": {},
   "outputs": [
    {
     "data": {
      "text/plain": [
       "-9122"
      ]
     },
     "execution_count": 15,
     "metadata": {},
     "output_type": "execute_result"
    }
   ],
   "source": [
    "df.iloc[4,2]"
   ]
  },
  {
   "cell_type": "code",
   "execution_count": 17,
   "id": "f7c5c906",
   "metadata": {},
   "outputs": [
    {
     "data": {
      "text/plain": [
       "-9122"
      ]
     },
     "execution_count": 17,
     "metadata": {},
     "output_type": "execute_result"
    }
   ],
   "source": [
    "var_amt = df.iloc[4,2]\n",
    "var_amt"
   ]
  },
  {
   "cell_type": "markdown",
   "id": "fa914d2e",
   "metadata": {},
   "source": [
    "# Calculating Tail Loss"
   ]
  },
  {
   "cell_type": "code",
   "execution_count": 31,
   "id": "ea1b6ae7",
   "metadata": {},
   "outputs": [],
   "source": [
    "def tail_loss(x):\n",
    "    if x > var_amt:\n",
    "        return 0 \n",
    "    else:\n",
    "        return 1"
   ]
  },
  {
   "cell_type": "code",
   "execution_count": 32,
   "id": "82936541",
   "metadata": {},
   "outputs": [
    {
     "data": {
      "text/plain": [
       "0     1\n",
       "1     1\n",
       "2     1\n",
       "3     1\n",
       "4     1\n",
       "     ..\n",
       "95    0\n",
       "96    0\n",
       "97    0\n",
       "98    0\n",
       "99    0\n",
       "Name: Loss data (ascending order), Length: 100, dtype: int64"
      ]
     },
     "execution_count": 32,
     "metadata": {},
     "output_type": "execute_result"
    }
   ],
   "source": [
    "# Applying our function\n",
    "df['Loss data (ascending order)'].apply(tail_loss)"
   ]
  },
  {
   "cell_type": "code",
   "execution_count": 33,
   "id": "22c6bbd4",
   "metadata": {},
   "outputs": [],
   "source": [
    "df['Tail Loss'] = df['Loss data (ascending order)'].apply(tail_loss)"
   ]
  },
  {
   "cell_type": "code",
   "execution_count": 34,
   "id": "72a8b1ce",
   "metadata": {},
   "outputs": [
    {
     "data": {
      "text/html": [
       "<div>\n",
       "<style scoped>\n",
       "    .dataframe tbody tr th:only-of-type {\n",
       "        vertical-align: middle;\n",
       "    }\n",
       "\n",
       "    .dataframe tbody tr th {\n",
       "        vertical-align: top;\n",
       "    }\n",
       "\n",
       "    .dataframe thead th {\n",
       "        text-align: right;\n",
       "    }\n",
       "</style>\n",
       "<table border=\"1\" class=\"dataframe\">\n",
       "  <thead>\n",
       "    <tr style=\"text-align: right;\">\n",
       "      <th></th>\n",
       "      <th>Obs</th>\n",
       "      <th>Loss data</th>\n",
       "      <th>Loss data (ascending order)</th>\n",
       "      <th>Ranking</th>\n",
       "      <th>Tail Loss</th>\n",
       "    </tr>\n",
       "  </thead>\n",
       "  <tbody>\n",
       "    <tr>\n",
       "      <th>0</th>\n",
       "      <td>1</td>\n",
       "      <td>8000</td>\n",
       "      <td>-17715</td>\n",
       "      <td>1</td>\n",
       "      <td>1</td>\n",
       "    </tr>\n",
       "    <tr>\n",
       "      <th>1</th>\n",
       "      <td>2</td>\n",
       "      <td>-5429</td>\n",
       "      <td>-14116</td>\n",
       "      <td>2</td>\n",
       "      <td>1</td>\n",
       "    </tr>\n",
       "    <tr>\n",
       "      <th>2</th>\n",
       "      <td>3</td>\n",
       "      <td>1086</td>\n",
       "      <td>-10682</td>\n",
       "      <td>3</td>\n",
       "      <td>1</td>\n",
       "    </tr>\n",
       "    <tr>\n",
       "      <th>3</th>\n",
       "      <td>4</td>\n",
       "      <td>7601</td>\n",
       "      <td>-9275</td>\n",
       "      <td>4</td>\n",
       "      <td>1</td>\n",
       "    </tr>\n",
       "    <tr>\n",
       "      <th>4</th>\n",
       "      <td>5</td>\n",
       "      <td>-14116</td>\n",
       "      <td>-9122</td>\n",
       "      <td>5</td>\n",
       "      <td>1</td>\n",
       "    </tr>\n",
       "    <tr>\n",
       "      <th>...</th>\n",
       "      <td>...</td>\n",
       "      <td>...</td>\n",
       "      <td>...</td>\n",
       "      <td>...</td>\n",
       "      <td>...</td>\n",
       "    </tr>\n",
       "    <tr>\n",
       "      <th>95</th>\n",
       "      <td>96</td>\n",
       "      <td>258</td>\n",
       "      <td>8686</td>\n",
       "      <td>96</td>\n",
       "      <td>0</td>\n",
       "    </tr>\n",
       "    <tr>\n",
       "      <th>96</th>\n",
       "      <td>97</td>\n",
       "      <td>1134</td>\n",
       "      <td>8780</td>\n",
       "      <td>97</td>\n",
       "      <td>0</td>\n",
       "    </tr>\n",
       "    <tr>\n",
       "      <th>97</th>\n",
       "      <td>98</td>\n",
       "      <td>1673</td>\n",
       "      <td>8809</td>\n",
       "      <td>98</td>\n",
       "      <td>0</td>\n",
       "    </tr>\n",
       "    <tr>\n",
       "      <th>98</th>\n",
       "      <td>99</td>\n",
       "      <td>-7440</td>\n",
       "      <td>12088</td>\n",
       "      <td>99</td>\n",
       "      <td>0</td>\n",
       "    </tr>\n",
       "    <tr>\n",
       "      <th>99</th>\n",
       "      <td>100</td>\n",
       "      <td>-5040</td>\n",
       "      <td>13495</td>\n",
       "      <td>100</td>\n",
       "      <td>0</td>\n",
       "    </tr>\n",
       "  </tbody>\n",
       "</table>\n",
       "<p>100 rows × 5 columns</p>\n",
       "</div>"
      ],
      "text/plain": [
       "    Obs  Loss data   Loss data (ascending order)  Ranking  Tail Loss\n",
       "0     1        8000                       -17715        1          1\n",
       "1     2       -5429                       -14116        2          1\n",
       "2     3        1086                       -10682        3          1\n",
       "3     4        7601                        -9275        4          1\n",
       "4     5      -14116                        -9122        5          1\n",
       "..  ...         ...                          ...      ...        ...\n",
       "95   96         258                         8686       96          0\n",
       "96   97        1134                         8780       97          0\n",
       "97   98        1673                         8809       98          0\n",
       "98   99       -7440                        12088       99          0\n",
       "99  100       -5040                        13495      100          0\n",
       "\n",
       "[100 rows x 5 columns]"
      ]
     },
     "execution_count": 34,
     "metadata": {},
     "output_type": "execute_result"
    }
   ],
   "source": [
    "df"
   ]
  },
  {
   "cell_type": "markdown",
   "id": "fd8aebe5",
   "metadata": {},
   "source": [
    "# Expected Shortfall\n",
    "\n",
    "Getting the rows with tail loss is 1"
   ]
  },
  {
   "cell_type": "code",
   "execution_count": 35,
   "id": "428b024e",
   "metadata": {},
   "outputs": [
    {
     "data": {
      "text/html": [
       "<div>\n",
       "<style scoped>\n",
       "    .dataframe tbody tr th:only-of-type {\n",
       "        vertical-align: middle;\n",
       "    }\n",
       "\n",
       "    .dataframe tbody tr th {\n",
       "        vertical-align: top;\n",
       "    }\n",
       "\n",
       "    .dataframe thead th {\n",
       "        text-align: right;\n",
       "    }\n",
       "</style>\n",
       "<table border=\"1\" class=\"dataframe\">\n",
       "  <thead>\n",
       "    <tr style=\"text-align: right;\">\n",
       "      <th></th>\n",
       "      <th>Obs</th>\n",
       "      <th>Loss data</th>\n",
       "      <th>Loss data (ascending order)</th>\n",
       "      <th>Ranking</th>\n",
       "      <th>Tail Loss</th>\n",
       "    </tr>\n",
       "  </thead>\n",
       "  <tbody>\n",
       "    <tr>\n",
       "      <th>0</th>\n",
       "      <td>1</td>\n",
       "      <td>8000</td>\n",
       "      <td>-17715</td>\n",
       "      <td>1</td>\n",
       "      <td>1</td>\n",
       "    </tr>\n",
       "    <tr>\n",
       "      <th>1</th>\n",
       "      <td>2</td>\n",
       "      <td>-5429</td>\n",
       "      <td>-14116</td>\n",
       "      <td>2</td>\n",
       "      <td>1</td>\n",
       "    </tr>\n",
       "    <tr>\n",
       "      <th>2</th>\n",
       "      <td>3</td>\n",
       "      <td>1086</td>\n",
       "      <td>-10682</td>\n",
       "      <td>3</td>\n",
       "      <td>1</td>\n",
       "    </tr>\n",
       "    <tr>\n",
       "      <th>3</th>\n",
       "      <td>4</td>\n",
       "      <td>7601</td>\n",
       "      <td>-9275</td>\n",
       "      <td>4</td>\n",
       "      <td>1</td>\n",
       "    </tr>\n",
       "    <tr>\n",
       "      <th>4</th>\n",
       "      <td>5</td>\n",
       "      <td>-14116</td>\n",
       "      <td>-9122</td>\n",
       "      <td>5</td>\n",
       "      <td>1</td>\n",
       "    </tr>\n",
       "  </tbody>\n",
       "</table>\n",
       "</div>"
      ],
      "text/plain": [
       "   Obs  Loss data   Loss data (ascending order)  Ranking  Tail Loss\n",
       "0    1        8000                       -17715        1          1\n",
       "1    2       -5429                       -14116        2          1\n",
       "2    3        1086                       -10682        3          1\n",
       "3    4        7601                        -9275        4          1\n",
       "4    5      -14116                        -9122        5          1"
      ]
     },
     "execution_count": 35,
     "metadata": {},
     "output_type": "execute_result"
    }
   ],
   "source": [
    "df[df['Tail Loss'] == 1]"
   ]
  },
  {
   "cell_type": "code",
   "execution_count": 37,
   "id": "904eb126",
   "metadata": {},
   "outputs": [
    {
     "data": {
      "text/plain": [
       "-12182.0"
      ]
     },
     "execution_count": 37,
     "metadata": {},
     "output_type": "execute_result"
    }
   ],
   "source": [
    "df[df['Tail Loss'] == 1]['Loss data (ascending order)'].mean()"
   ]
  },
  {
   "cell_type": "code",
   "execution_count": null,
   "id": "76e9c092",
   "metadata": {},
   "outputs": [],
   "source": []
  },
  {
   "cell_type": "code",
   "execution_count": null,
   "id": "4d071ebf",
   "metadata": {},
   "outputs": [],
   "source": []
  }
 ],
 "metadata": {
  "kernelspec": {
   "display_name": "Python 3 (ipykernel)",
   "language": "python",
   "name": "python3"
  },
  "language_info": {
   "codemirror_mode": {
    "name": "ipython",
    "version": 3
   },
   "file_extension": ".py",
   "mimetype": "text/x-python",
   "name": "python",
   "nbconvert_exporter": "python",
   "pygments_lexer": "ipython3",
   "version": "3.9.16"
  }
 },
 "nbformat": 4,
 "nbformat_minor": 5
}
