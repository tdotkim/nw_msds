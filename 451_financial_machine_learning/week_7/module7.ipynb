{
 "cells": [
  {
   "cell_type": "code",
   "execution_count": 181,
   "metadata": {},
   "outputs": [],
   "source": [
    "import pandas as pd\n",
    "import numpy as np\n",
    "import yfinance as yf\n",
    "from forex_python.converter import CurrencyRates\n",
    "import datetime as dt\n",
    "from scipy import stats"
   ]
  },
  {
   "cell_type": "code",
   "execution_count": 87,
   "metadata": {},
   "outputs": [],
   "source": [
    "# get stock objects\n",
    "tencent_hk = yf.Ticker('0700.HK')\n",
    "rockstar_us = yf.Ticker('TTWO')\n",
    "nintendo_jp = yf.Ticker('7974.T')\n",
    "\n",
    "# get currency for today\n",
    "c = CurrencyRates()\n",
    "today = dt.datetime.today()\n",
    "\n",
    "# get indexes\n",
    "hk_index = yf.Ticker('^HSI')\n",
    "us_index = yf.Ticker('^GSPC')\n",
    "jp_index = yf.Ticker('^N225')"
   ]
  },
  {
   "cell_type": "code",
   "execution_count": 159,
   "metadata": {},
   "outputs": [
    {
     "name": "stderr",
     "output_type": "stream",
     "text": [
      "c:\\Users\\tkkim\\AppData\\Local\\Programs\\Python\\Python312\\Lib\\site-packages\\yfinance\\utils.py:775: FutureWarning: The 'unit' keyword in TimedeltaIndex construction is deprecated and will be removed in a future version. Use pd.to_timedelta instead.\n",
      "  df.index += _pd.TimedeltaIndex(dst_error_hours, 'h')\n",
      "c:\\Users\\tkkim\\AppData\\Local\\Programs\\Python\\Python312\\Lib\\site-packages\\yfinance\\utils.py:775: FutureWarning: The 'unit' keyword in TimedeltaIndex construction is deprecated and will be removed in a future version. Use pd.to_timedelta instead.\n",
      "  df.index += _pd.TimedeltaIndex(dst_error_hours, 'h')\n",
      "c:\\Users\\tkkim\\AppData\\Local\\Programs\\Python\\Python312\\Lib\\site-packages\\yfinance\\utils.py:775: FutureWarning: The 'unit' keyword in TimedeltaIndex construction is deprecated and will be removed in a future version. Use pd.to_timedelta instead.\n",
      "  df.index += _pd.TimedeltaIndex(dst_error_hours, 'h')\n",
      "c:\\Users\\tkkim\\AppData\\Local\\Programs\\Python\\Python312\\Lib\\site-packages\\yfinance\\utils.py:775: FutureWarning: The 'unit' keyword in TimedeltaIndex construction is deprecated and will be removed in a future version. Use pd.to_timedelta instead.\n",
      "  df.index += _pd.TimedeltaIndex(dst_error_hours, 'h')\n",
      "c:\\Users\\tkkim\\AppData\\Local\\Programs\\Python\\Python312\\Lib\\site-packages\\yfinance\\utils.py:775: FutureWarning: The 'unit' keyword in TimedeltaIndex construction is deprecated and will be removed in a future version. Use pd.to_timedelta instead.\n",
      "  df.index += _pd.TimedeltaIndex(dst_error_hours, 'h')\n",
      "c:\\Users\\tkkim\\AppData\\Local\\Programs\\Python\\Python312\\Lib\\site-packages\\yfinance\\utils.py:775: FutureWarning: The 'unit' keyword in TimedeltaIndex construction is deprecated and will be removed in a future version. Use pd.to_timedelta instead.\n",
      "  df.index += _pd.TimedeltaIndex(dst_error_hours, 'h')\n"
     ]
    }
   ],
   "source": [
    "# get 1 year data\n",
    "hist_tencent_hk = tencent_hk.history(period='1y')\n",
    "hist_tencent_hk.reset_index(inplace=True)\n",
    "hist_tencent_hk = hist_tencent_hk[['Date', 'Close']].copy(deep=True)\n",
    "hist_tencent_hk.rename(columns=str.lower, inplace=True)\n",
    "hist_tencent_hk['date'] = pd.to_datetime(hist_tencent_hk['date']).dt.date\n",
    "\n",
    "hist_rockstar_us = rockstar_us.history(period='1y')\n",
    "hist_rockstar_us.reset_index(inplace=True)\n",
    "hist_rockstar_us = hist_rockstar_us[['Date', 'Close']].copy(deep=True)\n",
    "hist_rockstar_us.rename(columns=str.lower, inplace=True)\n",
    "hist_rockstar_us['date'] = pd.to_datetime(hist_rockstar_us['date']).dt.date\n",
    "\n",
    "hist_nintendo_jp = nintendo_jp.history(period='1y')\n",
    "hist_nintendo_jp.reset_index(inplace=True)\n",
    "hist_nintendo_jp = hist_nintendo_jp[['Date', 'Close']].copy(deep=True)\n",
    "hist_nintendo_jp.rename(columns=str.lower, inplace=True)\n",
    "hist_nintendo_jp['date'] = pd.to_datetime(hist_nintendo_jp['date']).dt.date\n",
    "\n",
    "# 1 yr index data\n",
    "hist_hk_index = hk_index.history(period='1y')\n",
    "hist_hk_index.reset_index(inplace=True)\n",
    "hist_hk_index = hist_hk_index[['Date', 'Close']].copy(deep=True)\n",
    "hist_hk_index.columns = hist_hk_index.columns.str.lower()\n",
    "hist_hk_index['date'] = pd.to_datetime(hist_hk_index['date']).dt.date\n",
    "\n",
    "hist_us_index = us_index.history(period='1y')\n",
    "hist_us_index.reset_index(inplace=True)\n",
    "hist_us_index = hist_us_index[['Date', 'Close']].copy(deep=True)\n",
    "hist_us_index.columns = hist_us_index.columns.str.lower()\n",
    "hist_us_index['date'] = pd.to_datetime(hist_us_index['date']).dt.date\n",
    "\n",
    "hist_jp_index = jp_index.history(period='1y')\n",
    "hist_jp_index.reset_index(inplace=True)\n",
    "hist_jp_index = hist_jp_index[['Date', 'Close']].copy(deep=True)\n",
    "hist_jp_index.columns = hist_jp_index.columns.str.lower()\n",
    "hist_jp_index['date'] = pd.to_datetime(hist_jp_index['date']).dt.date"
   ]
  },
  {
   "cell_type": "code",
   "execution_count": null,
   "metadata": {},
   "outputs": [],
   "source": [
    "hkd_to_usd = c.get_rate('HKD', 'USD', today)\n",
    "jpy_to_usd = c.get_rate('JPY', 'USD', today)\n",
    "usd_to_hkd = c.get_rate('USD', 'HKD', today)\n",
    "usd_to_jpy = c.get_rate('USD', 'JPY', today)"
   ]
  },
  {
   "cell_type": "code",
   "execution_count": 161,
   "metadata": {},
   "outputs": [],
   "source": [
    "# common dates\n",
    "\n",
    "datelist = []\n",
    "\n",
    "for date in hist_tencent_hk['date']:\n",
    "    if date in hist_rockstar_us['date'].values and date in hist_nintendo_jp['date'].values and date in hist_hk_index['date'].values and date in hist_us_index['date'].values and date in hist_jp_index['date'].values:\n",
    "        datelist.append(date)"
   ]
  },
  {
   "cell_type": "code",
   "execution_count": 166,
   "metadata": {},
   "outputs": [],
   "source": [
    "# semi-accurate way to normalize dates\n",
    "hist_nintendo_jp = hist_nintendo_jp[hist_nintendo_jp['date'].isin(datelist)]\n",
    "hist_rockstar_us = hist_rockstar_us[hist_rockstar_us['date'].isin(datelist)]\n",
    "hist_tencent_hk = hist_tencent_hk[hist_tencent_hk['date'].isin(datelist)]\n",
    "hist_hk_index = hist_hk_index[hist_hk_index['date'].isin(datelist)]\n",
    "hist_us_index = hist_us_index[hist_us_index['date'].isin(datelist)]\n",
    "hist_jp_index = hist_jp_index[hist_jp_index['date'].isin(datelist)]"
   ]
  },
  {
   "cell_type": "code",
   "execution_count": null,
   "metadata": {},
   "outputs": [],
   "source": [
    "# normalize stock prices\n",
    "hist_nintendo_jp['close'] = hist_nintendo_jp['close'] * jpy_to_usd\n",
    "hist_tencent_hk['close'] = hist_tencent_hk['close'] * hkd_to_usd\n",
    "\n",
    "# normalize index\n",
    "hist_hk_index['close'] = hist_hk_index['close'] * hkd_to_usd\n",
    "hist_jp_index['close'] = hist_jp_index['close'] * jpy_to_usd\n"
   ]
  },
  {
   "cell_type": "code",
   "execution_count": 167,
   "metadata": {},
   "outputs": [],
   "source": [
    "hist_nintendo_jp['return_log'] = np.log(hist_nintendo_jp['close']) - np.log(hist_nintendo_jp['close'].shift(1)).dropna()\n",
    "hist_rockstar_us['return_log'] = np.log(hist_rockstar_us['close']) - np.log(hist_rockstar_us['close'].shift(1)).dropna()\n",
    "hist_tencent_hk['return_log'] = np.log(hist_tencent_hk['close']) - np.log(hist_tencent_hk['close'].shift(1)).dropna()\n",
    "\n",
    "hist_nintendo_jp['return'] = hist_nintendo_jp['close'] / hist_nintendo_jp['close'].shift(1) - 1\n",
    "hist_rockstar_us['return'] = hist_rockstar_us['close'] / hist_rockstar_us['close'].shift(1) - 1\n",
    "hist_tencent_hk['return'] = hist_tencent_hk['close'] / hist_tencent_hk['close'].shift(1) - 1\n",
    "\n",
    "\n",
    "hist_jp_index['return_log'] = np.log(hist_jp_index['close']) - np.log(hist_jp_index['close'].shift(1)).dropna()\n",
    "hist_us_index['return_log'] = np.log(hist_us_index['close']) - np.log(hist_us_index['close'].shift(1)).dropna()\n",
    "hist_hk_index['return_log'] = np.log(hist_hk_index['close']) - np.log(hist_hk_index['close'].shift(1)).dropna()\n",
    "\n",
    "\n",
    "hist_jp_index['return'] = hist_jp_index['close'] / hist_jp_index['close'].shift(1) - 1\n",
    "hist_us_index['return'] = hist_us_index['close'] / hist_us_index['close'].shift(1) - 1\n",
    "hist_hk_index['return'] = hist_hk_index['close'] / hist_hk_index['close'].shift(1) - 1"
   ]
  },
  {
   "cell_type": "code",
   "execution_count": 168,
   "metadata": {},
   "outputs": [],
   "source": [
    "hist_nintendo_jp.dropna(inplace=True)\n",
    "hist_nintendo_jp.reset_index(drop=True, inplace=True)\n",
    "\n",
    "hist_rockstar_us.dropna(inplace=True)\n",
    "hist_rockstar_us.reset_index(drop=True, inplace=True)\n",
    "\n",
    "hist_tencent_hk.dropna(inplace=True)\n",
    "hist_tencent_hk.reset_index(drop=True, inplace=True)\n",
    "\n",
    "hist_hk_index.dropna(inplace=True)\n",
    "hist_hk_index.reset_index(drop=True, inplace=True)\n",
    "\n",
    "hist_us_index.dropna(inplace=True)\n",
    "hist_us_index.reset_index(drop=True, inplace=True)\n",
    "\n",
    "hist_jp_index.dropna(inplace=True)\n",
    "hist_jp_index.reset_index(drop=True, inplace=True)"
   ]
  },
  {
   "cell_type": "code",
   "execution_count": 169,
   "metadata": {},
   "outputs": [],
   "source": [
    "n_invest = 10000000/3\n",
    "r_invest = 10000000/3\n",
    "t_invest = 10000000/3"
   ]
  },
  {
   "cell_type": "markdown",
   "metadata": {},
   "source": [
    "## Expected Returns"
   ]
  },
  {
   "cell_type": "code",
   "execution_count": 172,
   "metadata": {},
   "outputs": [
    {
     "name": "stdout",
     "output_type": "stream",
     "text": [
      "Nintendo expected return: $640.60\n",
      "Rockstar expected return: $29,797.60\n",
      "Tencent expected return: $9,268.81\n"
     ]
    }
   ],
   "source": [
    "n_er = np.exp(hist_nintendo_jp['return_log'].mean()) * ((n_invest*usd_to_jpy)/hist_nintendo_jp.loc[0,'close']) * jpy_to_usd\n",
    "r_er = np.exp(hist_rockstar_us['return_log'].mean()) * ((r_invest)/hist_rockstar_us.loc[0,'close'])\n",
    "t_er = np.exp(hist_tencent_hk['return_log'].mean()) * ((t_invest*usd_to_hkd)/hist_tencent_hk.loc[0,'close']) * hkd_to_usd\n",
    "\n",
    "print(f'Nintendo expected return: ${n_er:,.2f}')\n",
    "print(f'Rockstar expected return: ${r_er:,.2f}')\n",
    "print(f'Tencent expected return: ${t_er:,.2f}')"
   ]
  },
  {
   "cell_type": "markdown",
   "metadata": {},
   "source": [
    "## variance"
   ]
  },
  {
   "cell_type": "code",
   "execution_count": 173,
   "metadata": {},
   "outputs": [
    {
     "name": "stdout",
     "output_type": "stream",
     "text": [
      "Nintendo expected variance: 0.0002\n",
      "Rockstar expected variance: 0.0003\n",
      "Tencent expected variance: 0.0005\n"
     ]
    }
   ],
   "source": [
    "n_var = hist_nintendo_jp['return_log'].var()\n",
    "r_var = hist_rockstar_us['return_log'].var()\n",
    "t_var = hist_tencent_hk['return_log'].var()\n",
    "\n",
    "print(f'Nintendo expected variance: {n_var:,.4f}')\n",
    "print(f'Rockstar expected variance: {r_var:,.4f}')\n",
    "print(f'Tencent expected variance: {t_var:,.4f}')\n",
    "\n",
    "jp_var = hist_jp_index['return_log'].var()\n",
    "us_var = hist_us_index['return_log'].var()\n",
    "hk_var = hist_hk_index['return_log'].var()\n"
   ]
  },
  {
   "cell_type": "markdown",
   "metadata": {},
   "source": [
    "## beta"
   ]
  },
  {
   "cell_type": "code",
   "execution_count": 174,
   "metadata": {},
   "outputs": [
    {
     "name": "stdout",
     "output_type": "stream",
     "text": [
      "Nintendo beta: 0.6603\n",
      "Rockstar beta: 1.0396\n",
      "Tencent beta: 1.2256\n"
     ]
    }
   ],
   "source": [
    "nintendo_beta = np.cov(hist_nintendo_jp['return_log'], hist_jp_index['return_log'])/jp_var\n",
    "rockstar_beta = np.cov(hist_rockstar_us['return_log'], hist_us_index['return_log'])/us_var\n",
    "tencent_beta = np.cov(hist_tencent_hk['return_log'], hist_hk_index['return_log'])/hk_var\n",
    "\n",
    "print(f'Nintendo beta: {nintendo_beta[0,1]:,.4f}')\n",
    "print(f'Rockstar beta: {rockstar_beta[0,1]:,.4f}')\n",
    "print(f'Tencent beta: {tencent_beta[0,1]:,.4f}')"
   ]
  },
  {
   "cell_type": "markdown",
   "metadata": {},
   "source": [
    "## VaR Historical"
   ]
  },
  {
   "cell_type": "code",
   "execution_count": 193,
   "metadata": {},
   "outputs": [
    {
     "name": "stdout",
     "output_type": "stream",
     "text": [
      "Triple value at risk: 0.0001\n",
      "Triple standard deviation: 0.0116\n"
     ]
    }
   ],
   "source": [
    "n_to_n_covar = np.cov(hist_nintendo_jp['return_log'], hist_nintendo_jp['return_log'])\n",
    "n_to_r_covar = np.cov(hist_nintendo_jp['return_log'], hist_rockstar_us['return_log'])\n",
    "n_to_t_covar = np.cov(hist_nintendo_jp['return_log'], hist_tencent_hk['return_log'])\n",
    "\n",
    "r_to_n_covar = np.cov(hist_rockstar_us['return_log'], hist_nintendo_jp['return_log'])\n",
    "r_to_r_covar = np.cov(hist_rockstar_us['return_log'], hist_rockstar_us['return_log'])\n",
    "r_to_t_covar = np.cov(hist_rockstar_us['return_log'], hist_tencent_hk['return_log'])\n",
    "\n",
    "t_to_n_covar = np.cov(hist_tencent_hk['return_log'], hist_nintendo_jp['return_log'])\n",
    "t_to_r_covar = np.cov(hist_tencent_hk['return_log'], hist_rockstar_us['return_log'])\n",
    "t_to_t_covar = np.cov(hist_tencent_hk['return_log'], hist_tencent_hk['return_log'])\n",
    "\n",
    "covarmatrix = np.array([[n_to_n_covar[0,1], n_to_r_covar[0,1], n_to_t_covar[0,1]],\n",
    "                        [r_to_n_covar[0,1], r_to_r_covar[0,1], r_to_t_covar[0,1]],\n",
    "                        [t_to_n_covar[0,1], t_to_r_covar[0,1], t_to_t_covar[0,1]]])\n",
    "\n",
    "triple_valueatrisk = covarmatrix.dot(np.array([(1/3), (1/3), (1/3)]))\n",
    "triple_valueatrisk = triple_valueatrisk.dot(np.array([(1/3), (1/3), (1/3)]))\n",
    "\n",
    "print(f'Triple value at risk: {triple_valueatrisk:,.4f}')\n",
    "\n",
    "\n",
    "triple_std = np.sqrt(triple_valueatrisk)\n",
    "print(f'Triple standard deviation: {triple_std:,.4f}')"
   ]
  },
  {
   "cell_type": "markdown",
   "metadata": {},
   "source": [
    "### 1 Day Historical VaR"
   ]
  },
  {
   "cell_type": "code",
   "execution_count": 200,
   "metadata": {},
   "outputs": [
    {
     "name": "stdout",
     "output_type": "stream",
     "text": [
      "Historical value at risk (return) 1 day: 0.0191\n",
      "Historical value at risk( value) 1 day: $190,672.16\n"
     ]
    }
   ],
   "source": [
    "hvar_1day_asreturn = stats.norm.ppf(.95)*triple_std\n",
    "print(f'Historical value at risk (return) 1 day: {hvar_1day_asreturn:,.4f}')\n",
    "\n",
    "hvar_1day_asvalue = hvar_1day_asreturn * 10000000\n",
    "print(f'Historical value at risk( value) 1 day: ${hvar_1day_asvalue:,.2f}')"
   ]
  },
  {
   "cell_type": "markdown",
   "metadata": {},
   "source": [
    "### 5 Day Historical VaR"
   ]
  },
  {
   "cell_type": "code",
   "execution_count": 199,
   "metadata": {},
   "outputs": [
    {
     "name": "stdout",
     "output_type": "stream",
     "text": [
      "Historical value at risk (return) 5 days: 0.0426\n",
      "Historical value at risk( value) 5 days: $426,355.91\n"
     ]
    }
   ],
   "source": [
    "hvar_5day_asreturn = hvar_1day_asreturn * np.sqrt(5)\n",
    "print(f'Historical value at risk (return) 5 days: {hvar_5day_asreturn:,.4f}')\n",
    "\n",
    "hvar_5day_asvalue = hvar_5day_asreturn * 10000000\n",
    "print(f'Historical value at risk( value) 5 days: ${hvar_5day_asvalue:,.2f}')"
   ]
  },
  {
   "cell_type": "markdown",
   "metadata": {},
   "source": [
    "## Guassiam VaR"
   ]
  }
 ],
 "metadata": {
  "kernelspec": {
   "display_name": "Python 3",
   "language": "python",
   "name": "python3"
  },
  "language_info": {
   "codemirror_mode": {
    "name": "ipython",
    "version": 3
   },
   "file_extension": ".py",
   "mimetype": "text/x-python",
   "name": "python",
   "nbconvert_exporter": "python",
   "pygments_lexer": "ipython3",
   "version": "3.12.1"
  }
 },
 "nbformat": 4,
 "nbformat_minor": 2
}
