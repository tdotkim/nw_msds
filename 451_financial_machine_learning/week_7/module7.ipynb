{
 "cells": [
  {
   "cell_type": "code",
   "execution_count": 202,
   "metadata": {},
   "outputs": [],
   "source": [
    "import pandas as pd\n",
    "import numpy as np\n",
    "import yfinance as yf\n",
    "from forex_python.converter import CurrencyRates\n",
    "import datetime as dt\n",
    "from scipy import stats"
   ]
  },
  {
   "cell_type": "code",
   "execution_count": 214,
   "metadata": {},
   "outputs": [
    {
     "data": {
      "text/plain": [
       "datetime.datetime(2024, 2, 16, 14, 21, 9, 230358)"
      ]
     },
     "execution_count": 214,
     "metadata": {},
     "output_type": "execute_result"
    }
   ],
   "source": [
    "today"
   ]
  },
  {
   "cell_type": "code",
   "execution_count": 215,
   "metadata": {},
   "outputs": [],
   "source": [
    "# get stock objects\n",
    "tencent_hk = yf.Ticker('0700.HK')\n",
    "rockstar_us = yf.Ticker('TTWO')\n",
    "nintendo_jp = yf.Ticker('7974.T')\n",
    "\n",
    "# get currency for today\n",
    "\n",
    "today = dt.datetime(2024, 2, 16, 9, 21, 9, 230358)\n",
    "c = CurrencyRates(today)\n",
    "\n",
    "# get indexes\n",
    "hk_index = yf.Ticker('^HSI')\n",
    "us_index = yf.Ticker('^GSPC')\n",
    "jp_index = yf.Ticker('^N225')"
   ]
  },
  {
   "cell_type": "code",
   "execution_count": 216,
   "metadata": {},
   "outputs": [
    {
     "name": "stderr",
     "output_type": "stream",
     "text": [
      "c:\\Users\\tkkim\\AppData\\Local\\Programs\\Python\\Python312\\Lib\\site-packages\\yfinance\\utils.py:775: FutureWarning: The 'unit' keyword in TimedeltaIndex construction is deprecated and will be removed in a future version. Use pd.to_timedelta instead.\n",
      "  df.index += _pd.TimedeltaIndex(dst_error_hours, 'h')\n",
      "c:\\Users\\tkkim\\AppData\\Local\\Programs\\Python\\Python312\\Lib\\site-packages\\yfinance\\utils.py:775: FutureWarning: The 'unit' keyword in TimedeltaIndex construction is deprecated and will be removed in a future version. Use pd.to_timedelta instead.\n",
      "  df.index += _pd.TimedeltaIndex(dst_error_hours, 'h')\n",
      "c:\\Users\\tkkim\\AppData\\Local\\Programs\\Python\\Python312\\Lib\\site-packages\\yfinance\\utils.py:775: FutureWarning: The 'unit' keyword in TimedeltaIndex construction is deprecated and will be removed in a future version. Use pd.to_timedelta instead.\n",
      "  df.index += _pd.TimedeltaIndex(dst_error_hours, 'h')\n",
      "c:\\Users\\tkkim\\AppData\\Local\\Programs\\Python\\Python312\\Lib\\site-packages\\yfinance\\utils.py:775: FutureWarning: The 'unit' keyword in TimedeltaIndex construction is deprecated and will be removed in a future version. Use pd.to_timedelta instead.\n",
      "  df.index += _pd.TimedeltaIndex(dst_error_hours, 'h')\n",
      "c:\\Users\\tkkim\\AppData\\Local\\Programs\\Python\\Python312\\Lib\\site-packages\\yfinance\\utils.py:775: FutureWarning: The 'unit' keyword in TimedeltaIndex construction is deprecated and will be removed in a future version. Use pd.to_timedelta instead.\n",
      "  df.index += _pd.TimedeltaIndex(dst_error_hours, 'h')\n",
      "c:\\Users\\tkkim\\AppData\\Local\\Programs\\Python\\Python312\\Lib\\site-packages\\yfinance\\utils.py:775: FutureWarning: The 'unit' keyword in TimedeltaIndex construction is deprecated and will be removed in a future version. Use pd.to_timedelta instead.\n",
      "  df.index += _pd.TimedeltaIndex(dst_error_hours, 'h')\n"
     ]
    }
   ],
   "source": [
    "# get 1 year data\n",
    "hist_tencent_hk = tencent_hk.history(period='1y')\n",
    "hist_tencent_hk.reset_index(inplace=True)\n",
    "hist_tencent_hk = hist_tencent_hk[['Date', 'Close']].copy(deep=True)\n",
    "hist_tencent_hk.rename(columns=str.lower, inplace=True)\n",
    "hist_tencent_hk['date'] = pd.to_datetime(hist_tencent_hk['date']).dt.date\n",
    "\n",
    "hist_rockstar_us = rockstar_us.history(period='1y')\n",
    "hist_rockstar_us.reset_index(inplace=True)\n",
    "hist_rockstar_us = hist_rockstar_us[['Date', 'Close']].copy(deep=True)\n",
    "hist_rockstar_us.rename(columns=str.lower, inplace=True)\n",
    "hist_rockstar_us['date'] = pd.to_datetime(hist_rockstar_us['date']).dt.date\n",
    "\n",
    "hist_nintendo_jp = nintendo_jp.history(period='1y')\n",
    "hist_nintendo_jp.reset_index(inplace=True)\n",
    "hist_nintendo_jp = hist_nintendo_jp[['Date', 'Close']].copy(deep=True)\n",
    "hist_nintendo_jp.rename(columns=str.lower, inplace=True)\n",
    "hist_nintendo_jp['date'] = pd.to_datetime(hist_nintendo_jp['date']).dt.date\n",
    "\n",
    "# 1 yr index data\n",
    "hist_hk_index = hk_index.history(period='1y')\n",
    "hist_hk_index.reset_index(inplace=True)\n",
    "hist_hk_index = hist_hk_index[['Date', 'Close']].copy(deep=True)\n",
    "hist_hk_index.columns = hist_hk_index.columns.str.lower()\n",
    "hist_hk_index['date'] = pd.to_datetime(hist_hk_index['date']).dt.date\n",
    "\n",
    "hist_us_index = us_index.history(period='1y')\n",
    "hist_us_index.reset_index(inplace=True)\n",
    "hist_us_index = hist_us_index[['Date', 'Close']].copy(deep=True)\n",
    "hist_us_index.columns = hist_us_index.columns.str.lower()\n",
    "hist_us_index['date'] = pd.to_datetime(hist_us_index['date']).dt.date\n",
    "\n",
    "hist_jp_index = jp_index.history(period='1y')\n",
    "hist_jp_index.reset_index(inplace=True)\n",
    "hist_jp_index = hist_jp_index[['Date', 'Close']].copy(deep=True)\n",
    "hist_jp_index.columns = hist_jp_index.columns.str.lower()\n",
    "hist_jp_index['date'] = pd.to_datetime(hist_jp_index['date']).dt.date"
   ]
  },
  {
   "cell_type": "code",
   "execution_count": 220,
   "metadata": {},
   "outputs": [],
   "source": [
    "\"\"\"hkd_to_usd = c.get_rate('HKD', 'USD', today)\n",
    "jpy_to_usd = c.get_rate('JPY', 'USD', today)\n",
    "usd_to_hkd = c.get_rate('USD', 'HKD', today)\n",
    "usd_to_jpy = c.get_rate('USD', 'JPY', today)\"\"\"\n",
    "\n",
    "\n",
    "#hardcoded as api is dead\n",
    "hkd_to_usd = .1278\n",
    "jpy_to_usd = 0.006657\n",
    "usd_to_hkd = 7.8221\n",
    "usd_to_jpy = 150.22"
   ]
  },
  {
   "cell_type": "code",
   "execution_count": 221,
   "metadata": {},
   "outputs": [
    {
     "data": {
      "text/plain": [
       "150.22"
      ]
     },
     "execution_count": 221,
     "metadata": {},
     "output_type": "execute_result"
    }
   ],
   "source": [
    "usd_to_jpy"
   ]
  },
  {
   "cell_type": "code",
   "execution_count": 222,
   "metadata": {},
   "outputs": [],
   "source": [
    "# common dates\n",
    "\n",
    "datelist = []\n",
    "\n",
    "for date in hist_tencent_hk['date']:\n",
    "    if date in hist_rockstar_us['date'].values and date in hist_nintendo_jp['date'].values and date in hist_hk_index['date'].values and date in hist_us_index['date'].values and date in hist_jp_index['date'].values:\n",
    "        datelist.append(date)"
   ]
  },
  {
   "cell_type": "code",
   "execution_count": 223,
   "metadata": {},
   "outputs": [],
   "source": [
    "# semi-accurate way to normalize dates\n",
    "hist_nintendo_jp = hist_nintendo_jp[hist_nintendo_jp['date'].isin(datelist)]\n",
    "hist_rockstar_us = hist_rockstar_us[hist_rockstar_us['date'].isin(datelist)]\n",
    "hist_tencent_hk = hist_tencent_hk[hist_tencent_hk['date'].isin(datelist)]\n",
    "hist_hk_index = hist_hk_index[hist_hk_index['date'].isin(datelist)]\n",
    "hist_us_index = hist_us_index[hist_us_index['date'].isin(datelist)]\n",
    "hist_jp_index = hist_jp_index[hist_jp_index['date'].isin(datelist)]"
   ]
  },
  {
   "cell_type": "code",
   "execution_count": 224,
   "metadata": {},
   "outputs": [],
   "source": [
    "# normalize stock prices\n",
    "hist_nintendo_jp['close'] = hist_nintendo_jp['close'] * jpy_to_usd\n",
    "hist_tencent_hk['close'] = hist_tencent_hk['close'] * hkd_to_usd\n",
    "\n",
    "# normalize index\n",
    "hist_hk_index['close'] = hist_hk_index['close'] * hkd_to_usd\n",
    "hist_jp_index['close'] = hist_jp_index['close'] * jpy_to_usd\n"
   ]
  },
  {
   "cell_type": "code",
   "execution_count": 225,
   "metadata": {},
   "outputs": [],
   "source": [
    "hist_nintendo_jp['return_log'] = np.log(hist_nintendo_jp['close']) - np.log(hist_nintendo_jp['close'].shift(1)).dropna()\n",
    "hist_rockstar_us['return_log'] = np.log(hist_rockstar_us['close']) - np.log(hist_rockstar_us['close'].shift(1)).dropna()\n",
    "hist_tencent_hk['return_log'] = np.log(hist_tencent_hk['close']) - np.log(hist_tencent_hk['close'].shift(1)).dropna()\n",
    "\n",
    "hist_nintendo_jp['return'] = hist_nintendo_jp['close'] / hist_nintendo_jp['close'].shift(1) - 1\n",
    "hist_rockstar_us['return'] = hist_rockstar_us['close'] / hist_rockstar_us['close'].shift(1) - 1\n",
    "hist_tencent_hk['return'] = hist_tencent_hk['close'] / hist_tencent_hk['close'].shift(1) - 1\n",
    "\n",
    "\n",
    "hist_jp_index['return_log'] = np.log(hist_jp_index['close']) - np.log(hist_jp_index['close'].shift(1)).dropna()\n",
    "hist_us_index['return_log'] = np.log(hist_us_index['close']) - np.log(hist_us_index['close'].shift(1)).dropna()\n",
    "hist_hk_index['return_log'] = np.log(hist_hk_index['close']) - np.log(hist_hk_index['close'].shift(1)).dropna()\n",
    "\n",
    "\n",
    "hist_jp_index['return'] = hist_jp_index['close'] / hist_jp_index['close'].shift(1) - 1\n",
    "hist_us_index['return'] = hist_us_index['close'] / hist_us_index['close'].shift(1) - 1\n",
    "hist_hk_index['return'] = hist_hk_index['close'] / hist_hk_index['close'].shift(1) - 1"
   ]
  },
  {
   "cell_type": "code",
   "execution_count": 226,
   "metadata": {},
   "outputs": [],
   "source": [
    "hist_nintendo_jp.dropna(inplace=True)\n",
    "hist_nintendo_jp.reset_index(drop=True, inplace=True)\n",
    "\n",
    "hist_rockstar_us.dropna(inplace=True)\n",
    "hist_rockstar_us.reset_index(drop=True, inplace=True)\n",
    "\n",
    "hist_tencent_hk.dropna(inplace=True)\n",
    "hist_tencent_hk.reset_index(drop=True, inplace=True)\n",
    "\n",
    "hist_hk_index.dropna(inplace=True)\n",
    "hist_hk_index.reset_index(drop=True, inplace=True)\n",
    "\n",
    "hist_us_index.dropna(inplace=True)\n",
    "hist_us_index.reset_index(drop=True, inplace=True)\n",
    "\n",
    "hist_jp_index.dropna(inplace=True)\n",
    "hist_jp_index.reset_index(drop=True, inplace=True)"
   ]
  },
  {
   "cell_type": "code",
   "execution_count": 227,
   "metadata": {},
   "outputs": [],
   "source": [
    "n_invest = 10000000/3\n",
    "r_invest = 10000000/3\n",
    "t_invest = 10000000/3"
   ]
  },
  {
   "cell_type": "code",
   "execution_count": 239,
   "metadata": {},
   "outputs": [],
   "source": [
    "portfolio = hist_nintendo_jp[['date']].copy(deep=True)"
   ]
  },
  {
   "cell_type": "code",
   "execution_count": 245,
   "metadata": {},
   "outputs": [],
   "source": [
    "portfolio['returns'] = hist_nintendo_jp['return'] + hist_rockstar_us['return'] + hist_tencent_hk['return'] "
   ]
  },
  {
   "cell_type": "code",
   "execution_count": null,
   "metadata": {},
   "outputs": [],
   "source": [
    "portfolio_mean = portfolio['returns'].mean()\n",
    "protfolio_std = portfolio['returns'].std(ddof=1)"
   ]
  },
  {
   "cell_type": "markdown",
   "metadata": {},
   "source": [
    "## Expected Returns"
   ]
  },
  {
   "cell_type": "code",
   "execution_count": 229,
   "metadata": {},
   "outputs": [
    {
     "name": "stdout",
     "output_type": "stream",
     "text": [
      "Nintendo expected return: $96,231.06\n",
      "Rockstar expected return: $29,797.60\n",
      "Tencent expected return: $72,501.59\n"
     ]
    }
   ],
   "source": [
    "n_er = np.exp(hist_nintendo_jp['return_log'].mean()) * ((n_invest*usd_to_jpy)/hist_nintendo_jp.loc[0,'close']) * jpy_to_usd\n",
    "r_er = np.exp(hist_rockstar_us['return_log'].mean()) * ((r_invest)/hist_rockstar_us.loc[0,'close'])\n",
    "t_er = np.exp(hist_tencent_hk['return_log'].mean()) * ((t_invest*usd_to_hkd)/hist_tencent_hk.loc[0,'close']) * hkd_to_usd\n",
    "\n",
    "print(f'Nintendo expected return: ${n_er:,.2f}')\n",
    "print(f'Rockstar expected return: ${r_er:,.2f}')\n",
    "print(f'Tencent expected return: ${t_er:,.2f}')"
   ]
  },
  {
   "cell_type": "markdown",
   "metadata": {},
   "source": [
    "## variance"
   ]
  },
  {
   "cell_type": "code",
   "execution_count": 230,
   "metadata": {},
   "outputs": [
    {
     "name": "stdout",
     "output_type": "stream",
     "text": [
      "Nintendo expected variance: 0.0002\n",
      "Rockstar expected variance: 0.0003\n",
      "Tencent expected variance: 0.0005\n"
     ]
    }
   ],
   "source": [
    "n_var = hist_nintendo_jp['return_log'].var()\n",
    "r_var = hist_rockstar_us['return_log'].var()\n",
    "t_var = hist_tencent_hk['return_log'].var()\n",
    "\n",
    "print(f'Nintendo expected variance: {n_var:,.4f}')\n",
    "print(f'Rockstar expected variance: {r_var:,.4f}')\n",
    "print(f'Tencent expected variance: {t_var:,.4f}')\n",
    "\n",
    "jp_var = hist_jp_index['return_log'].var()\n",
    "us_var = hist_us_index['return_log'].var()\n",
    "hk_var = hist_hk_index['return_log'].var()\n"
   ]
  },
  {
   "cell_type": "markdown",
   "metadata": {},
   "source": [
    "## beta"
   ]
  },
  {
   "cell_type": "code",
   "execution_count": 231,
   "metadata": {},
   "outputs": [
    {
     "name": "stdout",
     "output_type": "stream",
     "text": [
      "Nintendo beta: 0.6603\n",
      "Rockstar beta: 1.0396\n",
      "Tencent beta: 1.2256\n"
     ]
    }
   ],
   "source": [
    "nintendo_beta = np.cov(hist_nintendo_jp['return_log'], hist_jp_index['return_log'])/jp_var\n",
    "rockstar_beta = np.cov(hist_rockstar_us['return_log'], hist_us_index['return_log'])/us_var\n",
    "tencent_beta = np.cov(hist_tencent_hk['return_log'], hist_hk_index['return_log'])/hk_var\n",
    "\n",
    "print(f'Nintendo beta: {nintendo_beta[0,1]:,.4f}')\n",
    "print(f'Rockstar beta: {rockstar_beta[0,1]:,.4f}')\n",
    "print(f'Tencent beta: {tencent_beta[0,1]:,.4f}')"
   ]
  },
  {
   "cell_type": "markdown",
   "metadata": {},
   "source": [
    "## VaR Historical"
   ]
  },
  {
   "cell_type": "code",
   "execution_count": 232,
   "metadata": {},
   "outputs": [
    {
     "name": "stdout",
     "output_type": "stream",
     "text": [
      "Triple value at risk: 0.0001\n",
      "Triple standard deviation: 0.0116\n"
     ]
    }
   ],
   "source": [
    "n_to_n_covar = np.cov(hist_nintendo_jp['return_log'], hist_nintendo_jp['return_log'])\n",
    "n_to_r_covar = np.cov(hist_nintendo_jp['return_log'], hist_rockstar_us['return_log'])\n",
    "n_to_t_covar = np.cov(hist_nintendo_jp['return_log'], hist_tencent_hk['return_log'])\n",
    "\n",
    "r_to_n_covar = np.cov(hist_rockstar_us['return_log'], hist_nintendo_jp['return_log'])\n",
    "r_to_r_covar = np.cov(hist_rockstar_us['return_log'], hist_rockstar_us['return_log'])\n",
    "r_to_t_covar = np.cov(hist_rockstar_us['return_log'], hist_tencent_hk['return_log'])\n",
    "\n",
    "t_to_n_covar = np.cov(hist_tencent_hk['return_log'], hist_nintendo_jp['return_log'])\n",
    "t_to_r_covar = np.cov(hist_tencent_hk['return_log'], hist_rockstar_us['return_log'])\n",
    "t_to_t_covar = np.cov(hist_tencent_hk['return_log'], hist_tencent_hk['return_log'])\n",
    "\n",
    "covarmatrix = np.array([[n_to_n_covar[0,1], n_to_r_covar[0,1], n_to_t_covar[0,1]],\n",
    "                        [r_to_n_covar[0,1], r_to_r_covar[0,1], r_to_t_covar[0,1]],\n",
    "                        [t_to_n_covar[0,1], t_to_r_covar[0,1], t_to_t_covar[0,1]]])\n",
    "\n",
    "triple_valueatrisk = covarmatrix.dot(np.array([(1/3), (1/3), (1/3)]))\n",
    "triple_valueatrisk = triple_valueatrisk.dot(np.array([(1/3), (1/3), (1/3)]))\n",
    "\n",
    "print(f'Triple value at risk: {triple_valueatrisk:,.4f}')\n",
    "\n",
    "\n",
    "triple_std = np.sqrt(triple_valueatrisk)\n",
    "print(f'Triple standard deviation: {triple_std:,.4f}')"
   ]
  },
  {
   "cell_type": "markdown",
   "metadata": {},
   "source": [
    "### 1 Day Historical VaR"
   ]
  },
  {
   "cell_type": "code",
   "execution_count": 233,
   "metadata": {},
   "outputs": [
    {
     "name": "stdout",
     "output_type": "stream",
     "text": [
      "Historical value at risk (return) 1 day: 0.0191\n",
      "Historical value at risk( value) 1 day: $190,672.16\n"
     ]
    }
   ],
   "source": [
    "hvar_1day_asreturn = stats.norm.ppf(.95)*triple_std\n",
    "print(f'Historical value at risk (return) 1 day: {hvar_1day_asreturn:,.4f}')\n",
    "\n",
    "hvar_1day_asvalue = hvar_1day_asreturn * 10000000\n",
    "print(f'Historical value at risk( value) 1 day: ${hvar_1day_asvalue:,.2f}')"
   ]
  },
  {
   "cell_type": "markdown",
   "metadata": {},
   "source": [
    "### 5 Day Historical VaR"
   ]
  },
  {
   "cell_type": "code",
   "execution_count": 234,
   "metadata": {},
   "outputs": [
    {
     "name": "stdout",
     "output_type": "stream",
     "text": [
      "Historical value at risk (return) 5 days: 0.0426\n",
      "Historical value at risk( value) 5 days: $426,355.91\n"
     ]
    }
   ],
   "source": [
    "hvar_5day_asreturn = hvar_1day_asreturn * np.sqrt(5)\n",
    "print(f'Historical value at risk (return) 5 days: {hvar_5day_asreturn:,.4f}')\n",
    "\n",
    "hvar_5day_asvalue = hvar_5day_asreturn * 10000000\n",
    "print(f'Historical value at risk( value) 5 days: ${hvar_5day_asvalue:,.2f}')"
   ]
  },
  {
   "cell_type": "markdown",
   "metadata": {},
   "source": [
    "### Other historical VaR based on position?"
   ]
  },
  {
   "cell_type": "code",
   "execution_count": 253,
   "metadata": {},
   "outputs": [
    {
     "data": {
      "text/html": [
       "<div>\n",
       "<style scoped>\n",
       "    .dataframe tbody tr th:only-of-type {\n",
       "        vertical-align: middle;\n",
       "    }\n",
       "\n",
       "    .dataframe tbody tr th {\n",
       "        vertical-align: top;\n",
       "    }\n",
       "\n",
       "    .dataframe thead th {\n",
       "        text-align: right;\n",
       "    }\n",
       "</style>\n",
       "<table border=\"1\" class=\"dataframe\">\n",
       "  <thead>\n",
       "    <tr style=\"text-align: right;\">\n",
       "      <th></th>\n",
       "      <th>date</th>\n",
       "      <th>close</th>\n",
       "      <th>returns</th>\n",
       "    </tr>\n",
       "  </thead>\n",
       "  <tbody>\n",
       "    <tr>\n",
       "      <th>0</th>\n",
       "      <td>2023-02-21</td>\n",
       "      <td>192.651482</td>\n",
       "      <td>-0.044522</td>\n",
       "    </tr>\n",
       "    <tr>\n",
       "      <th>1</th>\n",
       "      <td>2023-02-22</td>\n",
       "      <td>190.493943</td>\n",
       "      <td>-0.041471</td>\n",
       "    </tr>\n",
       "    <tr>\n",
       "      <th>2</th>\n",
       "      <td>2023-02-24</td>\n",
       "      <td>187.620193</td>\n",
       "      <td>-0.038803</td>\n",
       "    </tr>\n",
       "    <tr>\n",
       "      <th>3</th>\n",
       "      <td>2023-02-27</td>\n",
       "      <td>187.765069</td>\n",
       "      <td>-0.011554</td>\n",
       "    </tr>\n",
       "    <tr>\n",
       "      <th>4</th>\n",
       "      <td>2023-02-28</td>\n",
       "      <td>186.024329</td>\n",
       "      <td>-0.035651</td>\n",
       "    </tr>\n",
       "    <tr>\n",
       "      <th>...</th>\n",
       "      <td>...</td>\n",
       "      <td>...</td>\n",
       "      <td>...</td>\n",
       "    </tr>\n",
       "    <tr>\n",
       "      <th>220</th>\n",
       "      <td>2024-02-08</td>\n",
       "      <td>263.687508</td>\n",
       "      <td>0.013057</td>\n",
       "    </tr>\n",
       "    <tr>\n",
       "      <th>221</th>\n",
       "      <td>2024-02-09</td>\n",
       "      <td>249.453384</td>\n",
       "      <td>-0.079424</td>\n",
       "    </tr>\n",
       "    <tr>\n",
       "      <th>222</th>\n",
       "      <td>2024-02-14</td>\n",
       "      <td>251.836248</td>\n",
       "      <td>0.036747</td>\n",
       "    </tr>\n",
       "    <tr>\n",
       "      <th>223</th>\n",
       "      <td>2024-02-15</td>\n",
       "      <td>253.014276</td>\n",
       "      <td>0.001006</td>\n",
       "    </tr>\n",
       "    <tr>\n",
       "      <th>224</th>\n",
       "      <td>2024-02-16</td>\n",
       "      <td>249.746261</td>\n",
       "      <td>-0.008875</td>\n",
       "    </tr>\n",
       "  </tbody>\n",
       "</table>\n",
       "<p>225 rows × 3 columns</p>\n",
       "</div>"
      ],
      "text/plain": [
       "           date       close   returns\n",
       "0    2023-02-21  192.651482 -0.044522\n",
       "1    2023-02-22  190.493943 -0.041471\n",
       "2    2023-02-24  187.620193 -0.038803\n",
       "3    2023-02-27  187.765069 -0.011554\n",
       "4    2023-02-28  186.024329 -0.035651\n",
       "..          ...         ...       ...\n",
       "220  2024-02-08  263.687508  0.013057\n",
       "221  2024-02-09  249.453384 -0.079424\n",
       "222  2024-02-14  251.836248  0.036747\n",
       "223  2024-02-15  253.014276  0.001006\n",
       "224  2024-02-16  249.746261 -0.008875\n",
       "\n",
       "[225 rows x 3 columns]"
      ]
     },
     "execution_count": 253,
     "metadata": {},
     "output_type": "execute_result"
    }
   ],
   "source": [
    "portfolio"
   ]
  },
  {
   "cell_type": "code",
   "execution_count": 256,
   "metadata": {},
   "outputs": [
    {
     "name": "stdout",
     "output_type": "stream",
     "text": [
      "Historical value at risk (value) 1 day: $-423,129.42\n"
     ]
    }
   ],
   "source": [
    "pos = round(portfolio.shape[0] * .05)\n",
    "oh_var = portfolio.loc[pos,'returns'] * 10000000\n",
    "print(f'Historical value at risk (value) 1 day: ${oh_var:,.2f}')"
   ]
  },
  {
   "cell_type": "markdown",
   "metadata": {},
   "source": [
    "### Guassian VaR"
   ]
  },
  {
   "cell_type": "code",
   "execution_count": 249,
   "metadata": {},
   "outputs": [
    {
     "name": "stdout",
     "output_type": "stream",
     "text": [
      "Gaussian value at risk: $-575,555.80\n"
     ]
    }
   ],
   "source": [
    "g_var = (-1.65 * protfolio_std) * 10000000\n",
    "print(f'Gaussian value at risk: ${g_var:,.2f}')\n"
   ]
  },
  {
   "cell_type": "markdown",
   "metadata": {},
   "source": [
    "### Log Normal"
   ]
  },
  {
   "cell_type": "code",
   "execution_count": 247,
   "metadata": {},
   "outputs": [
    {
     "data": {
      "text/plain": [
       "2.718281828459045"
      ]
     },
     "execution_count": 247,
     "metadata": {},
     "output_type": "execute_result"
    }
   ],
   "source": [
    "np.exp(1)"
   ]
  },
  {
   "cell_type": "code",
   "execution_count": 248,
   "metadata": {},
   "outputs": [
    {
     "name": "stdout",
     "output_type": "stream",
     "text": [
      "Log normal value at risk: $527,774.60\n"
     ]
    }
   ],
   "source": [
    "\n",
    "\n",
    "log_norm_var = 10_000_000 * (1- np.exp(1) ** (portfolio_mean - (1.645 * protfolio_std)))\n",
    "print(f'Log normal value at risk: ${log_norm_var:,.2f}')"
   ]
  },
  {
   "cell_type": "markdown",
   "metadata": {},
   "source": [
    "## Expected Shortfall"
   ]
  },
  {
   "cell_type": "code",
   "execution_count": 265,
   "metadata": {},
   "outputs": [],
   "source": [
    "es_df = portfolio.copy(deep=True)   \n",
    "es_df['returns_asc'] = es_df['returns'].sort_values(ascending=True)\n",
    "\n",
    "es_oh_var = es_df.loc[pos, 'returns']"
   ]
  },
  {
   "cell_type": "code",
   "execution_count": 266,
   "metadata": {},
   "outputs": [],
   "source": [
    "def tail_loss(x):\n",
    "    if x > es_oh_var:\n",
    "        return 0 \n",
    "    else:\n",
    "        return 1"
   ]
  },
  {
   "cell_type": "code",
   "execution_count": 267,
   "metadata": {},
   "outputs": [],
   "source": [
    "es_df['tail_loss'] = es_df['returns_asc'].apply(tail_loss)"
   ]
  },
  {
   "cell_type": "code",
   "execution_count": 268,
   "metadata": {},
   "outputs": [
    {
     "data": {
      "text/plain": [
       "tail_loss\n",
       "0    205\n",
       "1     20\n",
       "Name: count, dtype: int64"
      ]
     },
     "execution_count": 268,
     "metadata": {},
     "output_type": "execute_result"
    }
   ],
   "source": [
    "es_df['tail_loss'].value_counts()   "
   ]
  },
  {
   "cell_type": "code",
   "execution_count": 269,
   "metadata": {},
   "outputs": [
    {
     "name": "stdout",
     "output_type": "stream",
     "text": [
      "Expected shortfall: $-572,092.0533\n"
     ]
    }
   ],
   "source": [
    "es = es_df[es_df['tail_loss'] == 1]['returns_asc'].mean() * 10000000\n",
    "print(f'Expected shortfall: ${es:,.4f}')"
   ]
  }
 ],
 "metadata": {
  "kernelspec": {
   "display_name": "Python 3",
   "language": "python",
   "name": "python3"
  },
  "language_info": {
   "codemirror_mode": {
    "name": "ipython",
    "version": 3
   },
   "file_extension": ".py",
   "mimetype": "text/x-python",
   "name": "python",
   "nbconvert_exporter": "python",
   "pygments_lexer": "ipython3",
   "version": "3.12.1"
  }
 },
 "nbformat": 4,
 "nbformat_minor": 2
}
