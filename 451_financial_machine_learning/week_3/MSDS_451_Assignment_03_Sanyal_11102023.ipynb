{
  "cells": [
    {
      "cell_type": "markdown",
      "metadata": {
        "id": "6_2nuQPN3CWh"
      },
      "source": [
        "## Module 3 Coding Assignment: Creating features from a price series.\n",
        "We will explore creating features using price series.\n"
      ]
    },
    {
      "cell_type": "markdown",
      "metadata": {
        "id": "qC7NVxyvjec4"
      },
      "source": [
        "1.\t**Download USO.csv which contains the daily bars of the US Oil Fund. Use our provided functions getWeights_FFD, fractDiff.FFD, and findMinD, to find the minimum fractionaldimension d that will turn this price series into a stationary series.**"
      ]
    },
    {
      "cell_type": "code",
      "execution_count": 1,
      "metadata": {
        "id": "i0dETfAXwwvE"
      },
      "outputs": [],
      "source": [
        "import pandas as pd\n",
        "import numpy as np\n",
        "from statsmodels.tsa.stattools import adfuller\n",
        "import matplotlib.pyplot as plt"
      ]
    },
    {
      "cell_type": "code",
      "execution_count": 2,
      "metadata": {
        "id": "Pu1ecnc2w6ji"
      },
      "outputs": [],
      "source": [
        "def getWeights_FFD(d,thres):\n",
        "  w,k=[1.],1\n",
        "  while True:\n",
        "    w_=-w[-1]/k*(d-k+1)\n",
        "    if abs(w_)<thres:break\n",
        "    w.append(w_);k+=1\n",
        "  return np.array(w[::-1]).reshape(-1,1)"
      ]
    },
    {
      "cell_type": "code",
      "execution_count": 3,
      "metadata": {
        "id": "vDyNofh6yAED"
      },
      "outputs": [],
      "source": [
        "def fracDiff_FFD(series,d,thres=1e-5):\n",
        "# Constant width window (new solution)\n",
        "  w=getWeights_FFD(d,thres)\n",
        "  df={}\n",
        "  for name in series.columns:\n",
        "    df_=pd.Series(series[name].values,index=series.index).fillna(method='ffill').dropna()\n",
        "    x=pd.Series(0,index=df_.index)\n",
        "    for k in range(w.shape[0]):\n",
        "      x=x+w[k,0]*df_.shift(-k)\n",
        "  #df[name]=x.dropna().copy(deep=True)\n",
        "  df[name]=x.shift(k).copy(deep=True)\n",
        "  df=pd.concat(df,axis=1)\n",
        "  return df\n"
      ]
    },
    {
      "cell_type": "code",
      "execution_count": 4,
      "metadata": {
        "id": "G7OmhNGayY3O"
      },
      "outputs": [],
      "source": [
        "def findMinD(series):\n",
        "  for d in np.linspace(0,1,11):\n",
        "    df_=fracDiff_FFD(series,d,thres=0.01).dropna()\n",
        "    res=adfuller(df_.iloc[:,0].values,maxlag=1,regression='c',autolag=None)\n",
        "    if (res[0]<=res[4]['5%']):\n",
        "      return d\n",
        "  return 1.0"
      ]
    },
    {
      "cell_type": "code",
      "execution_count": 5,
      "metadata": {
        "id": "BjhEid_71KpC"
      },
      "outputs": [
        {
          "ename": "FileNotFoundError",
          "evalue": "[Errno 2] No such file or directory: '/content/USO.CSV'",
          "output_type": "error",
          "traceback": [
            "\u001b[1;31m---------------------------------------------------------------------------\u001b[0m",
            "\u001b[1;31mFileNotFoundError\u001b[0m                         Traceback (most recent call last)",
            "\u001b[1;32mc:\\Users\\tkkim\\OneDrive\\Desktop\\nw_msds\\451_financial_machine_learning\\week_3\\MSDS_451_Assignment_03_Sanyal_11102023.ipynb Cell 7\u001b[0m line \u001b[0;36m1\n\u001b[1;32m----> <a href='vscode-notebook-cell:/c%3A/Users/tkkim/OneDrive/Desktop/nw_msds/451_financial_machine_learning/week_3/MSDS_451_Assignment_03_Sanyal_11102023.ipynb#W6sZmlsZQ%3D%3D?line=0'>1</a>\u001b[0m df\u001b[39m=\u001b[39mpd\u001b[39m.\u001b[39;49mread_csv(\u001b[39m'\u001b[39;49m\u001b[39m/content/USO.CSV\u001b[39;49m\u001b[39m'\u001b[39;49m)\n\u001b[0;32m      <a href='vscode-notebook-cell:/c%3A/Users/tkkim/OneDrive/Desktop/nw_msds/451_financial_machine_learning/week_3/MSDS_451_Assignment_03_Sanyal_11102023.ipynb#W6sZmlsZQ%3D%3D?line=1'>2</a>\u001b[0m df\u001b[39m.\u001b[39mcolumns\u001b[39m=\u001b[39mdf\u001b[39m.\u001b[39mcolumns\u001b[39m.\u001b[39mstr\u001b[39m.\u001b[39mreplace(\u001b[39m'\u001b[39m\u001b[39m \u001b[39m\u001b[39m'\u001b[39m,\u001b[39m'\u001b[39m\u001b[39m'\u001b[39m)\n",
            "File \u001b[1;32mc:\\Users\\tkkim\\AppData\\Local\\Programs\\Python\\Python311\\Lib\\site-packages\\pandas\\io\\parsers\\readers.py:948\u001b[0m, in \u001b[0;36mread_csv\u001b[1;34m(filepath_or_buffer, sep, delimiter, header, names, index_col, usecols, dtype, engine, converters, true_values, false_values, skipinitialspace, skiprows, skipfooter, nrows, na_values, keep_default_na, na_filter, verbose, skip_blank_lines, parse_dates, infer_datetime_format, keep_date_col, date_parser, date_format, dayfirst, cache_dates, iterator, chunksize, compression, thousands, decimal, lineterminator, quotechar, quoting, doublequote, escapechar, comment, encoding, encoding_errors, dialect, on_bad_lines, delim_whitespace, low_memory, memory_map, float_precision, storage_options, dtype_backend)\u001b[0m\n\u001b[0;32m    935\u001b[0m kwds_defaults \u001b[39m=\u001b[39m _refine_defaults_read(\n\u001b[0;32m    936\u001b[0m     dialect,\n\u001b[0;32m    937\u001b[0m     delimiter,\n\u001b[1;32m   (...)\u001b[0m\n\u001b[0;32m    944\u001b[0m     dtype_backend\u001b[39m=\u001b[39mdtype_backend,\n\u001b[0;32m    945\u001b[0m )\n\u001b[0;32m    946\u001b[0m kwds\u001b[39m.\u001b[39mupdate(kwds_defaults)\n\u001b[1;32m--> 948\u001b[0m \u001b[39mreturn\u001b[39;00m _read(filepath_or_buffer, kwds)\n",
            "File \u001b[1;32mc:\\Users\\tkkim\\AppData\\Local\\Programs\\Python\\Python311\\Lib\\site-packages\\pandas\\io\\parsers\\readers.py:611\u001b[0m, in \u001b[0;36m_read\u001b[1;34m(filepath_or_buffer, kwds)\u001b[0m\n\u001b[0;32m    608\u001b[0m _validate_names(kwds\u001b[39m.\u001b[39mget(\u001b[39m\"\u001b[39m\u001b[39mnames\u001b[39m\u001b[39m\"\u001b[39m, \u001b[39mNone\u001b[39;00m))\n\u001b[0;32m    610\u001b[0m \u001b[39m# Create the parser.\u001b[39;00m\n\u001b[1;32m--> 611\u001b[0m parser \u001b[39m=\u001b[39m TextFileReader(filepath_or_buffer, \u001b[39m*\u001b[39;49m\u001b[39m*\u001b[39;49mkwds)\n\u001b[0;32m    613\u001b[0m \u001b[39mif\u001b[39;00m chunksize \u001b[39mor\u001b[39;00m iterator:\n\u001b[0;32m    614\u001b[0m     \u001b[39mreturn\u001b[39;00m parser\n",
            "File \u001b[1;32mc:\\Users\\tkkim\\AppData\\Local\\Programs\\Python\\Python311\\Lib\\site-packages\\pandas\\io\\parsers\\readers.py:1448\u001b[0m, in \u001b[0;36mTextFileReader.__init__\u001b[1;34m(self, f, engine, **kwds)\u001b[0m\n\u001b[0;32m   1445\u001b[0m     \u001b[39mself\u001b[39m\u001b[39m.\u001b[39moptions[\u001b[39m\"\u001b[39m\u001b[39mhas_index_names\u001b[39m\u001b[39m\"\u001b[39m] \u001b[39m=\u001b[39m kwds[\u001b[39m\"\u001b[39m\u001b[39mhas_index_names\u001b[39m\u001b[39m\"\u001b[39m]\n\u001b[0;32m   1447\u001b[0m \u001b[39mself\u001b[39m\u001b[39m.\u001b[39mhandles: IOHandles \u001b[39m|\u001b[39m \u001b[39mNone\u001b[39;00m \u001b[39m=\u001b[39m \u001b[39mNone\u001b[39;00m\n\u001b[1;32m-> 1448\u001b[0m \u001b[39mself\u001b[39m\u001b[39m.\u001b[39m_engine \u001b[39m=\u001b[39m \u001b[39mself\u001b[39;49m\u001b[39m.\u001b[39;49m_make_engine(f, \u001b[39mself\u001b[39;49m\u001b[39m.\u001b[39;49mengine)\n",
            "File \u001b[1;32mc:\\Users\\tkkim\\AppData\\Local\\Programs\\Python\\Python311\\Lib\\site-packages\\pandas\\io\\parsers\\readers.py:1705\u001b[0m, in \u001b[0;36mTextFileReader._make_engine\u001b[1;34m(self, f, engine)\u001b[0m\n\u001b[0;32m   1703\u001b[0m     \u001b[39mif\u001b[39;00m \u001b[39m\"\u001b[39m\u001b[39mb\u001b[39m\u001b[39m\"\u001b[39m \u001b[39mnot\u001b[39;00m \u001b[39min\u001b[39;00m mode:\n\u001b[0;32m   1704\u001b[0m         mode \u001b[39m+\u001b[39m\u001b[39m=\u001b[39m \u001b[39m\"\u001b[39m\u001b[39mb\u001b[39m\u001b[39m\"\u001b[39m\n\u001b[1;32m-> 1705\u001b[0m \u001b[39mself\u001b[39m\u001b[39m.\u001b[39mhandles \u001b[39m=\u001b[39m get_handle(\n\u001b[0;32m   1706\u001b[0m     f,\n\u001b[0;32m   1707\u001b[0m     mode,\n\u001b[0;32m   1708\u001b[0m     encoding\u001b[39m=\u001b[39;49m\u001b[39mself\u001b[39;49m\u001b[39m.\u001b[39;49moptions\u001b[39m.\u001b[39;49mget(\u001b[39m\"\u001b[39;49m\u001b[39mencoding\u001b[39;49m\u001b[39m\"\u001b[39;49m, \u001b[39mNone\u001b[39;49;00m),\n\u001b[0;32m   1709\u001b[0m     compression\u001b[39m=\u001b[39;49m\u001b[39mself\u001b[39;49m\u001b[39m.\u001b[39;49moptions\u001b[39m.\u001b[39;49mget(\u001b[39m\"\u001b[39;49m\u001b[39mcompression\u001b[39;49m\u001b[39m\"\u001b[39;49m, \u001b[39mNone\u001b[39;49;00m),\n\u001b[0;32m   1710\u001b[0m     memory_map\u001b[39m=\u001b[39;49m\u001b[39mself\u001b[39;49m\u001b[39m.\u001b[39;49moptions\u001b[39m.\u001b[39;49mget(\u001b[39m\"\u001b[39;49m\u001b[39mmemory_map\u001b[39;49m\u001b[39m\"\u001b[39;49m, \u001b[39mFalse\u001b[39;49;00m),\n\u001b[0;32m   1711\u001b[0m     is_text\u001b[39m=\u001b[39;49mis_text,\n\u001b[0;32m   1712\u001b[0m     errors\u001b[39m=\u001b[39;49m\u001b[39mself\u001b[39;49m\u001b[39m.\u001b[39;49moptions\u001b[39m.\u001b[39;49mget(\u001b[39m\"\u001b[39;49m\u001b[39mencoding_errors\u001b[39;49m\u001b[39m\"\u001b[39;49m, \u001b[39m\"\u001b[39;49m\u001b[39mstrict\u001b[39;49m\u001b[39m\"\u001b[39;49m),\n\u001b[0;32m   1713\u001b[0m     storage_options\u001b[39m=\u001b[39;49m\u001b[39mself\u001b[39;49m\u001b[39m.\u001b[39;49moptions\u001b[39m.\u001b[39;49mget(\u001b[39m\"\u001b[39;49m\u001b[39mstorage_options\u001b[39;49m\u001b[39m\"\u001b[39;49m, \u001b[39mNone\u001b[39;49;00m),\n\u001b[0;32m   1714\u001b[0m )\n\u001b[0;32m   1715\u001b[0m \u001b[39massert\u001b[39;00m \u001b[39mself\u001b[39m\u001b[39m.\u001b[39mhandles \u001b[39mis\u001b[39;00m \u001b[39mnot\u001b[39;00m \u001b[39mNone\u001b[39;00m\n\u001b[0;32m   1716\u001b[0m f \u001b[39m=\u001b[39m \u001b[39mself\u001b[39m\u001b[39m.\u001b[39mhandles\u001b[39m.\u001b[39mhandle\n",
            "File \u001b[1;32mc:\\Users\\tkkim\\AppData\\Local\\Programs\\Python\\Python311\\Lib\\site-packages\\pandas\\io\\common.py:863\u001b[0m, in \u001b[0;36mget_handle\u001b[1;34m(path_or_buf, mode, encoding, compression, memory_map, is_text, errors, storage_options)\u001b[0m\n\u001b[0;32m    858\u001b[0m \u001b[39melif\u001b[39;00m \u001b[39misinstance\u001b[39m(handle, \u001b[39mstr\u001b[39m):\n\u001b[0;32m    859\u001b[0m     \u001b[39m# Check whether the filename is to be opened in binary mode.\u001b[39;00m\n\u001b[0;32m    860\u001b[0m     \u001b[39m# Binary mode does not support 'encoding' and 'newline'.\u001b[39;00m\n\u001b[0;32m    861\u001b[0m     \u001b[39mif\u001b[39;00m ioargs\u001b[39m.\u001b[39mencoding \u001b[39mand\u001b[39;00m \u001b[39m\"\u001b[39m\u001b[39mb\u001b[39m\u001b[39m\"\u001b[39m \u001b[39mnot\u001b[39;00m \u001b[39min\u001b[39;00m ioargs\u001b[39m.\u001b[39mmode:\n\u001b[0;32m    862\u001b[0m         \u001b[39m# Encoding\u001b[39;00m\n\u001b[1;32m--> 863\u001b[0m         handle \u001b[39m=\u001b[39m \u001b[39mopen\u001b[39;49m(\n\u001b[0;32m    864\u001b[0m             handle,\n\u001b[0;32m    865\u001b[0m             ioargs\u001b[39m.\u001b[39;49mmode,\n\u001b[0;32m    866\u001b[0m             encoding\u001b[39m=\u001b[39;49mioargs\u001b[39m.\u001b[39;49mencoding,\n\u001b[0;32m    867\u001b[0m             errors\u001b[39m=\u001b[39;49merrors,\n\u001b[0;32m    868\u001b[0m             newline\u001b[39m=\u001b[39;49m\u001b[39m\"\u001b[39;49m\u001b[39m\"\u001b[39;49m,\n\u001b[0;32m    869\u001b[0m         )\n\u001b[0;32m    870\u001b[0m     \u001b[39melse\u001b[39;00m:\n\u001b[0;32m    871\u001b[0m         \u001b[39m# Binary mode\u001b[39;00m\n\u001b[0;32m    872\u001b[0m         handle \u001b[39m=\u001b[39m \u001b[39mopen\u001b[39m(handle, ioargs\u001b[39m.\u001b[39mmode)\n",
            "\u001b[1;31mFileNotFoundError\u001b[0m: [Errno 2] No such file or directory: '/content/USO.CSV'"
          ]
        }
      ],
      "source": [
        "df=pd.read_csv('./USO.CSV')\n",
        "df.columns=df.columns.str.replace(' ','')\n"
      ]
    },
    {
      "cell_type": "code",
      "execution_count": null,
      "metadata": {
        "id": "8-_cIGTW1Vzi"
      },
      "outputs": [],
      "source": [
        "logUSO=pd.DataFrame(np.log(df['Close'])) # Must use log prices for FD"
      ]
    },
    {
      "cell_type": "code",
      "execution_count": null,
      "metadata": {
        "colab": {
          "base_uri": "https://localhost:8080/"
        },
        "id": "tq1ikiTl1YSP",
        "outputId": "9730cb70-ab10-4223-c55c-e845eb4ea1ac"
      },
      "outputs": [
        {
          "data": {
            "text/plain": [
              "0.5"
            ]
          },
          "execution_count": 8,
          "metadata": {},
          "output_type": "execute_result"
        }
      ],
      "source": [
        "d=findMinD(logUSO)\n",
        "d"
      ]
    },
    {
      "cell_type": "markdown",
      "metadata": {
        "id": "SjpXRn3Mjjxv"
      },
      "source": [
        "2.\t**Using the d you found in part 1 to fractionally differentiate the USO daily price series. Use adfuller from statsmodels.tsa.stattools to determine the ADF statistics of theresulting time series. Can you conclude from these statistics that the fractionally differentiated time series is stationary?**"
      ]
    },
    {
      "cell_type": "code",
      "execution_count": 6,
      "metadata": {
        "colab": {
          "base_uri": "https://localhost:8080/",
          "height": 447
        },
        "id": "XSw_zbPj1c4z",
        "outputId": "a8a63d91-8ae0-41da-caf4-0809eb971524"
      },
      "outputs": [
        {
          "ename": "NameError",
          "evalue": "name 'logUSO' is not defined",
          "output_type": "error",
          "traceback": [
            "\u001b[1;31m---------------------------------------------------------------------------\u001b[0m",
            "\u001b[1;31mNameError\u001b[0m                                 Traceback (most recent call last)",
            "\u001b[1;32mc:\\Users\\tkkim\\OneDrive\\Desktop\\nw_msds\\451_financial_machine_learning\\week_3\\MSDS_451_Assignment_03_Sanyal_11102023.ipynb Cell 12\u001b[0m line \u001b[0;36m1\n\u001b[1;32m----> <a href='vscode-notebook-cell:/c%3A/Users/tkkim/OneDrive/Desktop/nw_msds/451_financial_machine_learning/week_3/MSDS_451_Assignment_03_Sanyal_11102023.ipynb#X13sZmlsZQ%3D%3D?line=0'>1</a>\u001b[0m logUSO_FD\u001b[39m=\u001b[39mfracDiff_FFD(logUSO,d,thres\u001b[39m=\u001b[39m\u001b[39m0.01\u001b[39m)\n\u001b[0;32m      <a href='vscode-notebook-cell:/c%3A/Users/tkkim/OneDrive/Desktop/nw_msds/451_financial_machine_learning/week_3/MSDS_451_Assignment_03_Sanyal_11102023.ipynb#X13sZmlsZQ%3D%3D?line=1'>2</a>\u001b[0m plt\u001b[39m.\u001b[39mplot(logUSO_FD)\n",
            "\u001b[1;31mNameError\u001b[0m: name 'logUSO' is not defined"
          ]
        }
      ],
      "source": [
        "logUSO_FD=fracDiff_FFD(logUSO,d,thres=0.01)\n",
        "plt.plot(logUSO_FD)"
      ]
    },
    {
      "cell_type": "code",
      "execution_count": null,
      "metadata": {
        "colab": {
          "base_uri": "https://localhost:8080/"
        },
        "id": "KORW3_Cu1hBL",
        "outputId": "9bbc408b-2e61-4f6d-ed7f-5f2b1ad51569"
      },
      "outputs": [
        {
          "name": "stdout",
          "output_type": "stream",
          "text": [
            "(-3.7566886200195397, 0.0033828660986459946, 1, 3297, {'1%': -3.4323349555967604, '5%': -2.862417036057391, '10%': -2.5672368644181542})\n"
          ]
        }
      ],
      "source": [
        "results=adfuller(np.array(logUSO_FD[logUSO_FD['Close'].notnull()]['Close']), maxlag=1, regression='c', autolag=None)\n",
        "print(results)\n"
      ]
    },
    {
      "cell_type": "markdown",
      "metadata": {
        "id": "aaGznvZ_joDd"
      },
      "source": [
        "**Solution**: Since 3.75 > 3.432 we confirm stationarity"
      ]
    },
    {
      "cell_type": "markdown",
      "metadata": {
        "id": "tredntPRjrjd"
      },
      "source": [
        "3.\t**Complete Execise 5.1 in AFML using the functions we provided.**\n",
        "Generate a time series from an IID Gaussian random process. This is a memoryless, stationary series:\n",
        "\n",
        "* Compute the ADF statistic on this series. What is the p-value?\n",
        "* Compute the cumulative sum of the observations. This is a non-stationary series without memory.\n",
        "** What is the order of integration of this cumulative series?\n",
        "Compute the ADF statistic on this series.\n",
        "** What is the p-value?\n",
        "*\tDifferentiate the series twice. What is the p-value of this over-differentiated series?\n"
      ]
    },
    {
      "cell_type": "code",
      "execution_count": null,
      "metadata": {
        "colab": {
          "base_uri": "https://localhost:8080/",
          "height": 447
        },
        "id": "U255PKOD1j8c",
        "outputId": "3bd9bbfd-219b-4836-8a45-e9192e82f532"
      },
      "outputs": [
        {
          "data": {
            "text/plain": [
              "<Axes: >"
            ]
          },
          "execution_count": 11,
          "metadata": {},
          "output_type": "execute_result"
        },
        {
          "data": {
            "image/png": "[encoded data removed]",
            "text/plain": [
              "<Figure size 640x480 with 1 Axes>"
            ]
          },
          "metadata": {},
          "output_type": "display_data"
        }
      ],
      "source": [
        "\n",
        "np.random.seed(0)\n",
        "N = 252*10\n",
        "s = pd.Series(np.random.randn(N))\n",
        "s.plot()\n"
      ]
    },
    {
      "cell_type": "code",
      "execution_count": null,
      "metadata": {
        "colab": {
          "base_uri": "https://localhost:8080/"
        },
        "id": "2dsCmPMv2ht4",
        "outputId": "e76b2b16-e59f-44d8-8450-277a046d786b"
      },
      "outputs": [
        {
          "name": "stdout",
          "output_type": "stream",
          "text": [
            "(-50.80332180276013, 0.0, 0, 2519, {'1%': -3.4329486408391174, '5%': -2.8626880695259413, '10%': -2.567381161224712}, 6950.968131407137)\n",
            "--------------\n",
            "0.0\n"
          ]
        }
      ],
      "source": [
        "# part (1)\n",
        "import statsmodels.api as sm\n",
        "adf = lambda s: sm.tsa.stattools.adfuller(s)\n",
        "p_val = lambda s: sm.tsa.stattools.adfuller(s)[1]\n",
        "res = adf(s); p = res[1]\n",
        "print(res)\n",
        "print(\"--------------\")\n",
        "print(p)\n"
      ]
    },
    {
      "cell_type": "code",
      "execution_count": null,
      "metadata": {
        "colab": {
          "base_uri": "https://localhost:8080/",
          "height": 447
        },
        "id": "kupmh8SI2mfm",
        "outputId": "f6f4e448-d2d6-40a3-b6c4-18f202957eb5"
      },
      "outputs": [
        {
          "data": {
            "text/plain": [
              "<Axes: >"
            ]
          },
          "execution_count": 13,
          "metadata": {},
          "output_type": "execute_result"
        },
        {
          "data": {
            "image/png": "[encoded data removed]",
            "text/plain": [
              "<Figure size 640x480 with 1 Axes>"
            ]
          },
          "metadata": {},
          "output_type": "display_data"
        }
      ],
      "source": [
        "# part (2)\n",
        "cmsm = pd.Series(s).cumsum()\n",
        "cmsm.plot()\n"
      ]
    },
    {
      "cell_type": "code",
      "execution_count": null,
      "metadata": {
        "colab": {
          "base_uri": "https://localhost:8080/"
        },
        "id": "ApOk5a3L2qCP",
        "outputId": "b8e60514-76c8-4d58-d97b-1a8a2bb83f1a"
      },
      "outputs": [
        {
          "name": "stdout",
          "output_type": "stream",
          "text": [
            "===========================\n",
            "order: 0, pVal: 0.5704444806659968\n",
            "===========================\n",
            "order: 1, pVal: 0.0\n",
            "===========================\n",
            "order: 2, pVal: 7.347529850651771e-30\n",
            "===========================\n",
            "order: 3, pVal: 0.0\n",
            "===========================\n",
            "order: 4, pVal: 0.0\n"
          ]
        }
      ],
      "source": [
        "# 2.1\n",
        "orders = [0, 1, 2, 3, 4]\n",
        "for o in orders:\n",
        " diff_ = np.diff(cmsm,o)\n",
        " print('='*27)\n",
        " print(f'order: {o}, pVal: {p_val(diff_)}')\n"
      ]
    },
    {
      "cell_type": "markdown",
      "metadata": {
        "id": "ZMGsSfZbkCSb"
      },
      "source": [
        "The concept of stationarity with p value is such that if p-value > 0.05: Fail to reject the null hypothesis (H0), the data has a unit root and is nonstationary. p-value <= 0.05: Reject the null hypothesis (H0), the data does not have a unit root and is stationary. Thus the order is 1 since the P value then becomes <=0.05"
      ]
    },
    {
      "cell_type": "code",
      "execution_count": null,
      "metadata": {
        "colab": {
          "base_uri": "https://localhost:8080/"
        },
        "id": "KH_0Rt_02vON",
        "outputId": "ed41a751-8a59-4c3d-e0d2-fd02667c5698"
      },
      "outputs": [
        {
          "data": {
            "text/plain": [
              "0.5704444806659968"
            ]
          },
          "execution_count": 15,
          "metadata": {},
          "output_type": "execute_result"
        }
      ],
      "source": [
        "# 2.2\n",
        "p_val(cmsm)\n"
      ]
    },
    {
      "cell_type": "code",
      "execution_count": null,
      "metadata": {
        "colab": {
          "base_uri": "https://localhost:8080/"
        },
        "id": "AMaHLipV2zJ5",
        "outputId": "adcf5164-3f3f-4ecf-a068-2fb161aa2e4f"
      },
      "outputs": [
        {
          "name": "stdout",
          "output_type": "stream",
          "text": [
            "Frac Differentiated d : 0.30000000000000004 and thus p_val of differentiated series : 0.34163805860028285\n",
            "Frac Differentiated d : 0.0 and thus p_val of differentiated series : 0.30001093226673525\n"
          ]
        }
      ],
      "source": [
        "# (3)\n",
        "d=findMinD(cmsm.to_frame())\n",
        "cmsm_FD=fracDiff_FFD(cmsm.to_frame(),d,thres=0.01)\n",
        "print(\"Frac Differentiated d : {} and thus p_val of differentiated series : {}\".format(d,p_val(cmsm_FD.dropna())) )\n",
        "d1=findMinD(cmsm_FD.dropna())\n",
        "cmsm_FD1=fracDiff_FFD(cmsm_FD.dropna(),d,thres=0.01)\n",
        "print(\"Frac Differentiated d : {} and thus p_val of differentiated series : {}\".format(d1,p_val(cmsm_FD1.dropna())) )\n"
      ]
    },
    {
      "cell_type": "markdown",
      "metadata": {
        "id": "R2H2sQkLkHvf"
      },
      "source": [
        "4. **Can you tell the difference between the functions we provided vs the ones provided in Chapter 5 of AFML? How much time do they take to run for parts 2) and 3) respectively?**"
      ]
    },
    {
      "cell_type": "markdown",
      "metadata": {
        "id": "OvUp235_kKue"
      },
      "source": [
        "In the function provided compared to the function in the Chap 5 of AFML we can find one place that is the for loop is changed where the .shift function is used rather than iterating over the each values with the iloc function as provided in the Chap 5 of AFML.\n",
        "\n",
        "Code Provided by Us:\n",
        "\n",
        "```\n",
        "for name in series.columns:\n",
        "        df_=pd.Series(series[name].values,index=series.index).fillna(method='ffill').dropna()         \n",
        "        x=pd.Series(0,index=df_.index)\n",
        "        for k in range(w.shape[0]):             \n",
        "          x=x+w[k,0]*df_.shift(-k)\n",
        "```\n",
        "   \n",
        "Code in AFML:\n",
        "\n",
        "```\n",
        "for name in series.columns:\n",
        "  seriesF,df_=series[[name]].fillna(method='ffill').dropna(),pd.Series()\n",
        "for iloc1 in range(width,seriesF.shape[0]):\n",
        "  loc0,loc1=seriesF.index[iloc1-width],seriesF.index[iloc1]\n",
        "if not np.isfinite(series.loc[loc1,name]):\n",
        "  continue # exclude NAs\n",
        "df_[loc1]=np.dot(w.T,seriesF.loc[loc0:loc1])[0,0]\n",
        "\n",
        "```\n",
        "The Code provided by Dr. Ernst P Chan and Dr. Roger Hunter does the calculation in seconds while the one in the book takes some time which could run into months or even years depending on the size of data.\n"
      ]
    }
  ],
  "metadata": {
    "colab": {
      "provenance": []
    },
    "kernelspec": {
      "display_name": "Python 3",
      "name": "python3"
    },
    "language_info": {
      "codemirror_mode": {
        "name": "ipython",
        "version": 3
      },
      "file_extension": ".py",
      "mimetype": "text/x-python",
      "name": "python",
      "nbconvert_exporter": "python",
      "pygments_lexer": "ipython3",
      "version": "3.11.5"
    }
  },
  "nbformat": 4,
  "nbformat_minor": 0
}
