{
 "cells": [
  {
   "cell_type": "markdown",
   "id": "93be0e64",
   "metadata": {},
   "source": [
    "# TK Module 3"
   ]
  },
  {
   "cell_type": "code",
   "execution_count": 2,
   "id": "c8743161",
   "metadata": {},
   "outputs": [],
   "source": [
    "# load libraries\n",
    "import pandas as pd\n",
    "import numpy as np\n",
    "from statsmodels.tsa.stattools import adfuller\n",
    "import matplotlib.pyplot as plt"
   ]
  },
  {
   "cell_type": "code",
   "execution_count": 3,
   "id": "d02d8629",
   "metadata": {},
   "outputs": [],
   "source": [
    "df = pd.read_csv('./USO.csv')"
   ]
  },
  {
   "cell_type": "code",
   "execution_count": 16,
   "id": "06fd9c71",
   "metadata": {},
   "outputs": [
    {
     "data": {
      "text/html": [
       "<div>\n",
       "<style scoped>\n",
       "    .dataframe tbody tr th:only-of-type {\n",
       "        vertical-align: middle;\n",
       "    }\n",
       "\n",
       "    .dataframe tbody tr th {\n",
       "        vertical-align: top;\n",
       "    }\n",
       "\n",
       "    .dataframe thead th {\n",
       "        text-align: right;\n",
       "    }\n",
       "</style>\n",
       "<table border=\"1\" class=\"dataframe\">\n",
       "  <thead>\n",
       "    <tr style=\"text-align: right;\">\n",
       "      <th></th>\n",
       "      <th>date</th>\n",
       "      <th>open</th>\n",
       "      <th>high</th>\n",
       "      <th>low</th>\n",
       "      <th>close</th>\n",
       "      <th>unadjustedclose</th>\n",
       "      <th>volume</th>\n",
       "      <th>log_close</th>\n",
       "    </tr>\n",
       "  </thead>\n",
       "  <tbody>\n",
       "    <tr>\n",
       "      <th>0</th>\n",
       "      <td>20060410</td>\n",
       "      <td>68.25</td>\n",
       "      <td>68.50</td>\n",
       "      <td>67.67</td>\n",
       "      <td>68.02</td>\n",
       "      <td>68.02</td>\n",
       "      <td>38779</td>\n",
       "      <td>4.219802</td>\n",
       "    </tr>\n",
       "    <tr>\n",
       "      <th>1</th>\n",
       "      <td>20060411</td>\n",
       "      <td>68.32</td>\n",
       "      <td>68.39</td>\n",
       "      <td>67.30</td>\n",
       "      <td>68.20</td>\n",
       "      <td>68.20</td>\n",
       "      <td>12971</td>\n",
       "      <td>4.222445</td>\n",
       "    </tr>\n",
       "    <tr>\n",
       "      <th>2</th>\n",
       "      <td>20060412</td>\n",
       "      <td>68.22</td>\n",
       "      <td>68.81</td>\n",
       "      <td>67.81</td>\n",
       "      <td>67.84</td>\n",
       "      <td>67.84</td>\n",
       "      <td>12483</td>\n",
       "      <td>4.217152</td>\n",
       "    </tr>\n",
       "    <tr>\n",
       "      <th>3</th>\n",
       "      <td>20060413</td>\n",
       "      <td>67.50</td>\n",
       "      <td>68.99</td>\n",
       "      <td>67.40</td>\n",
       "      <td>68.82</td>\n",
       "      <td>68.82</td>\n",
       "      <td>5607</td>\n",
       "      <td>4.231494</td>\n",
       "    </tr>\n",
       "    <tr>\n",
       "      <th>4</th>\n",
       "      <td>20060417</td>\n",
       "      <td>69.20</td>\n",
       "      <td>69.90</td>\n",
       "      <td>68.68</td>\n",
       "      <td>69.79</td>\n",
       "      <td>69.79</td>\n",
       "      <td>9177</td>\n",
       "      <td>4.245491</td>\n",
       "    </tr>\n",
       "  </tbody>\n",
       "</table>\n",
       "</div>"
      ],
      "text/plain": [
       "       date   open   high    low  close  unadjustedclose  volume  log_close\n",
       "0  20060410  68.25  68.50  67.67  68.02            68.02   38779   4.219802\n",
       "1  20060411  68.32  68.39  67.30  68.20            68.20   12971   4.222445\n",
       "2  20060412  68.22  68.81  67.81  67.84            67.84   12483   4.217152\n",
       "3  20060413  67.50  68.99  67.40  68.82            68.82    5607   4.231494\n",
       "4  20060417  69.20  69.90  68.68  69.79            69.79    9177   4.245491"
      ]
     },
     "execution_count": 16,
     "metadata": {},
     "output_type": "execute_result"
    }
   ],
   "source": [
    "df.head()"
   ]
  },
  {
   "cell_type": "code",
   "execution_count": 12,
   "id": "bdd7e047",
   "metadata": {},
   "outputs": [],
   "source": [
    "df.columns = df.columns.str.replace(' ', '') \n",
    "df.columns = df.columns.str.lower()"
   ]
  },
  {
   "cell_type": "code",
   "execution_count": 4,
   "id": "a749593f",
   "metadata": {},
   "outputs": [],
   "source": [
    "def getWeights_FFD(d,thres):\n",
    "    w,k=[1.],1\n",
    "    while True:\n",
    "        w_=-w[-1]/k*(d-k+1)\n",
    "        if abs(w_)<thres:break\n",
    "        w.append(w_);k+=1\n",
    "    return np.array(w[::-1]).reshape(-1,1)"
   ]
  },
  {
   "cell_type": "code",
   "execution_count": 5,
   "id": "09db8b08",
   "metadata": {},
   "outputs": [],
   "source": [
    "def fracDiff_FFD(series,d,thres=1e-5):\n",
    "    # Constant width window (new solution)\n",
    "    w=getWeights_FFD(d,thres)\n",
    "    df={}\n",
    "    for name in series.columns:\n",
    "        df_= pd.Series(series[name].values,index=series.index).fillna(method='ffill').dropna()\n",
    "        x = pd.Series(0,index=df_.index)\n",
    "        for k in range(w.shape[0]):\n",
    "            x = x+w[k,0]*df_.shift(-k)\n",
    "    #df[name]=x.dropna().copy(deep=True)\n",
    "    df[name]=x.shift(k).copy(deep=True)\n",
    "    df=pd.concat(df,axis=1)\n",
    "    return df"
   ]
  },
  {
   "cell_type": "code",
   "execution_count": 6,
   "id": "4595b793",
   "metadata": {},
   "outputs": [],
   "source": [
    "def findMinD(series):\n",
    "    for d in np.linspace(0,1,11):\n",
    "        df_=fracDiff_FFD(series,d,thres=0.01).dropna()\n",
    "        res=adfuller(df_.iloc[:,0].values,maxlag=1,regression='c',autolag=None)\n",
    "        if (res[0]<=res[4]['5%']):\n",
    "            return d\n",
    "    return 1.0"
   ]
  },
  {
   "cell_type": "markdown",
   "id": "df31ac09",
   "metadata": {},
   "source": [
    "## Question 1\n",
    "\n",
    "**find the minimum fractional dimension d that will turn this price series into a stationary series. (30 points)**\n",
    "\n"
   ]
  },
  {
   "cell_type": "code",
   "execution_count": 19,
   "id": "19c62ef3",
   "metadata": {},
   "outputs": [
    {
     "name": "stdout",
     "output_type": "stream",
     "text": [
      "log Min Dimensions: 0.5\n",
      "norm Min Dimensions: 0.4\n"
     ]
    }
   ],
   "source": [
    "log_mind = findMinD(df[['log_close']])\n",
    "norm_mind = findMinD(df[['close']])\n",
    "\n",
    "print(f'log Min Dimensions: {log_mind}')\n",
    "print(f'norm Min Dimensions: {norm_mind}')"
   ]
  },
  {
   "cell_type": "markdown",
   "id": "28ae6c3c",
   "metadata": {},
   "source": [
    "## Question 2\n",
    "\n",
    "**Using the d you found in part 1 to fractionally differentiate the USO daily price series, use adfuller from statsmodels.tsa.stattools to determine the ADF statistics of the resulting time series. Can you conclude from these statistics that the fractionally differentiated time series is stationary? (20 points)**"
   ]
  },
  {
   "cell_type": "code",
   "execution_count": 23,
   "id": "d9844057",
   "metadata": {},
   "outputs": [],
   "source": [
    "q2_norm_df = fracDiff_FFD(df[['close']], log_mind, thres=0.01).dropna()\n",
    "q2_log_df = fracDiff_FFD(df[['log_close']], log_mind, thres=0.01).dropna()"
   ]
  },
  {
   "cell_type": "code",
   "execution_count": 31,
   "id": "9375ef16",
   "metadata": {},
   "outputs": [],
   "source": [
    "q2_norm_adfuller = adfuller(q2_norm_df,maxlag=1,regression='c',autolag=None)\n",
    "q2_log_adfuller = adfuller(q2_log_df,maxlag=1,regression='c',autolag=None)"
   ]
  },
  {
   "cell_type": "code",
   "execution_count": 29,
   "id": "d8cdc978",
   "metadata": {},
   "outputs": [
    {
     "data": {
      "text/plain": [
       "(-4.910394309077451,\n",
       " 3.328556787885713e-05,\n",
       " 1,\n",
       " 3297,\n",
       " {'1%': -3.4323349555967604,\n",
       "  '5%': -2.862417036057391,\n",
       "  '10%': -2.5672368644181542})"
      ]
     },
     "execution_count": 29,
     "metadata": {},
     "output_type": "execute_result"
    }
   ],
   "source": [
    "q2_norm_adfuller"
   ]
  },
  {
   "cell_type": "code",
   "execution_count": 32,
   "id": "4452b33a",
   "metadata": {},
   "outputs": [
    {
     "data": {
      "text/plain": [
       "(-3.756688620019477,\n",
       " 0.0033828660986467266,\n",
       " 1,\n",
       " 3297,\n",
       " {'1%': -3.4323349555967604,\n",
       "  '5%': -2.862417036057391,\n",
       "  '10%': -2.5672368644181542})"
      ]
     },
     "execution_count": 32,
     "metadata": {},
     "output_type": "execute_result"
    }
   ],
   "source": [
    "q2_log_adfuller"
   ]
  }
 ],
 "metadata": {
  "kernelspec": {
   "display_name": "Python 3 (ipykernel)",
   "language": "python",
   "name": "python3"
  },
  "language_info": {
   "codemirror_mode": {
    "name": "ipython",
    "version": 3
   },
   "file_extension": ".py",
   "mimetype": "text/x-python",
   "name": "python",
   "nbconvert_exporter": "python",
   "pygments_lexer": "ipython3",
   "version": "3.9.10"
  }
 },
 "nbformat": 4,
 "nbformat_minor": 5
}
