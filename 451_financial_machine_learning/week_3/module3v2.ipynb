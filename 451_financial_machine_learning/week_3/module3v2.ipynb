{
 "cells": [
  {
   "cell_type": "markdown",
   "id": "93be0e64",
   "metadata": {},
   "source": [
    "# TK Module 3"
   ]
  },
  {
   "cell_type": "code",
   "execution_count": 1,
   "id": "c8743161",
   "metadata": {},
   "outputs": [],
   "source": [
    "# load libraries\n",
    "import pandas as pd\n",
    "import numpy as np\n",
    "from statsmodels.tsa.stattools import adfuller\n",
    "import matplotlib.pyplot as plt"
   ]
  },
  {
   "cell_type": "code",
   "execution_count": 2,
   "id": "d02d8629",
   "metadata": {},
   "outputs": [],
   "source": [
    "df = pd.read_csv('./USO.csv')"
   ]
  },
  {
   "cell_type": "code",
   "execution_count": 3,
   "id": "75fcabf4",
   "metadata": {},
   "outputs": [],
   "source": [
    "df.columns = df.columns.str.replace(' ', '') \n",
    "df.columns = df.columns.str.lower()"
   ]
  },
  {
   "cell_type": "code",
   "execution_count": 4,
   "id": "ae3d6d90",
   "metadata": {},
   "outputs": [],
   "source": [
    "df['log_close'] = np.log(df['close'])"
   ]
  },
  {
   "cell_type": "code",
   "execution_count": 5,
   "id": "a749593f",
   "metadata": {},
   "outputs": [],
   "source": [
    "def getWeights_FFD(d,thres):\n",
    "    w,k=[1.],1\n",
    "    while True:\n",
    "        w_=-w[-1]/k*(d-k+1)\n",
    "        if abs(w_)<thres:break\n",
    "        w.append(w_);k+=1\n",
    "    return np.array(w[::-1]).reshape(-1,1)"
   ]
  },
  {
   "cell_type": "code",
   "execution_count": 6,
   "id": "09db8b08",
   "metadata": {},
   "outputs": [],
   "source": [
    "def fracDiff_FFD(series,d,thres=1e-5):\n",
    "    # Constant width window (new solution)\n",
    "    w=getWeights_FFD(d,thres)\n",
    "    df={}\n",
    "    for name in series.columns:\n",
    "        df_= pd.Series(series[name].values,index=series.index).fillna(method='ffill').dropna()\n",
    "        x = pd.Series(0,index=df_.index)\n",
    "        for k in range(w.shape[0]):\n",
    "            x = x+w[k,0]*df_.shift(-k)\n",
    "    #df[name]=x.dropna().copy(deep=True)\n",
    "    df[name]=x.shift(k).copy(deep=True)\n",
    "    df=pd.concat(df,axis=1)\n",
    "    return df"
   ]
  },
  {
   "cell_type": "code",
   "execution_count": 7,
   "id": "4595b793",
   "metadata": {},
   "outputs": [],
   "source": [
    "def findMinD(series):\n",
    "    for d in np.linspace(0,1,11):\n",
    "        df_=fracDiff_FFD(series,d,thres=0.01).dropna()\n",
    "        res=adfuller(df_.iloc[:,0].values,maxlag=1,regression='c',autolag=None)\n",
    "        if (res[0]<=res[4]['5%']):\n",
    "            return d\n",
    "    return 1.0"
   ]
  },
  {
   "cell_type": "markdown",
   "id": "df31ac09",
   "metadata": {},
   "source": [
    "## Question 1\n",
    "\n",
    "**find the minimum fractional dimension d that will turn this price series into a stationary series. (30 points)**\n",
    "\n"
   ]
  },
  {
   "cell_type": "code",
   "execution_count": 8,
   "id": "19c62ef3",
   "metadata": {},
   "outputs": [
    {
     "name": "stdout",
     "output_type": "stream",
     "text": [
      "log Min Dimensions: 0.5\n",
      "norm Min Dimensions: 0.4\n"
     ]
    }
   ],
   "source": [
    "log_mind = findMinD(df[['log_close']])\n",
    "norm_mind = findMinD(df[['close']])\n",
    "\n",
    "print(f'log Min Dimensions: {log_mind}')\n",
    "print(f'norm Min Dimensions: {norm_mind}')"
   ]
  },
  {
   "cell_type": "markdown",
   "id": "28ae6c3c",
   "metadata": {},
   "source": [
    "## Question 2\n",
    "\n",
    "**Using the d you found in part 1 to fractionally differentiate the USO daily price series, use adfuller from statsmodels.tsa.stattools to determine the ADF statistics of the resulting time series. Can you conclude from these statistics that the fractionally differentiated time series is stationary? (20 points)**\n",
    "\n",
    "Looking at the results for both the normal closing price and the log price, we can definitely conclude that the null hypothesis can be rejected.\n",
    "\n",
    "For norm we get a critical value of -4.91 which is less than the T-values at 1, 5, and 10 percent confidence.\n",
    "\n",
    "For logs we get a crit value of -3.76 which is less than the t-values at 1, 5, and 10 percent confidence. \n",
    "\n",
    "The p-value is also quite small, which indicates significance at even .01, .05, and .10\n",
    "\n",
    "So we conclude that the fractionally differentiated time series is stationary."
   ]
  },
  {
   "cell_type": "code",
   "execution_count": 9,
   "id": "d9844057",
   "metadata": {},
   "outputs": [],
   "source": [
    "q2_norm_df = fracDiff_FFD(df[['close']], log_mind, thres=0.01).dropna()\n",
    "q2_log_df = fracDiff_FFD(df[['log_close']], log_mind, thres=0.01).dropna()"
   ]
  },
  {
   "cell_type": "code",
   "execution_count": 10,
   "id": "9375ef16",
   "metadata": {},
   "outputs": [],
   "source": [
    "q2_norm_adfuller = adfuller(q2_norm_df,maxlag=1,regression='c',autolag=None)\n",
    "q2_log_adfuller = adfuller(q2_log_df,maxlag=1,regression='c',autolag=None)"
   ]
  },
  {
   "cell_type": "code",
   "execution_count": 11,
   "id": "d8cdc978",
   "metadata": {},
   "outputs": [
    {
     "data": {
      "text/plain": [
       "(-4.910394309077451,\n",
       " 3.328556787885713e-05,\n",
       " 1,\n",
       " 3297,\n",
       " {'1%': -3.4323349555967604,\n",
       "  '5%': -2.862417036057391,\n",
       "  '10%': -2.5672368644181542})"
      ]
     },
     "execution_count": 11,
     "metadata": {},
     "output_type": "execute_result"
    }
   ],
   "source": [
    "q2_norm_adfuller"
   ]
  },
  {
   "cell_type": "code",
   "execution_count": 12,
   "id": "4452b33a",
   "metadata": {},
   "outputs": [
    {
     "data": {
      "text/plain": [
       "(-3.756688620019477,\n",
       " 0.0033828660986467266,\n",
       " 1,\n",
       " 3297,\n",
       " {'1%': -3.4323349555967604,\n",
       "  '5%': -2.862417036057391,\n",
       "  '10%': -2.5672368644181542})"
      ]
     },
     "execution_count": 12,
     "metadata": {},
     "output_type": "execute_result"
    }
   ],
   "source": [
    "q2_log_adfuller"
   ]
  },
  {
   "cell_type": "markdown",
   "id": "08a630dd",
   "metadata": {},
   "source": [
    "## Question 3\n",
    "\n",
    "Complete Exercise 5.1 in AFML using the functions that we provided. (Each part carries 10 points for a total of 30 points)\n",
    "\n",
    "**Generate a time series from an IID Gaussian random process. This is a memory-less, stationary series:**\n",
    "\n",
    "1. **Compute the ADF statistic on this series. What is the p-value?**\n",
    "\n",
    "    We get a p-value of 0.0 meaning there is 0% chance we do NOT reject the null hypothesis. \n",
    "\n",
    "2. **Compute the cumulative sum of the observations. This is a non-stationary series without memory.**\n",
    "    1. **What is the order of integration of this cumulative series?**\n",
    "    \n",
    "        .3\n",
    "\n",
    "    2. **Compute the ADF statistic on this series. What is the p-value?**\n",
    "\n",
    "        .44\n",
    "\n",
    "        \n",
    "3. **Differentiate the series twice. What is the p-value of this over-differentiated series?**\n",
    "\n",
    "    The over-differentiated series has a p-value of 0.\n"
   ]
  },
  {
   "cell_type": "code",
   "execution_count": 14,
   "id": "0ebd35ef",
   "metadata": {},
   "outputs": [],
   "source": [
    "# create the series\n",
    "example_series = pd.DataFrame(np.random.normal(0, 1, 10000), columns=['value'])"
   ]
  },
  {
   "cell_type": "code",
   "execution_count": 26,
   "id": "6dcd11b0",
   "metadata": {},
   "outputs": [
    {
     "data": {
      "image/png": "[encoded data removed]",
      "text/plain": [
       "<Figure size 432x288 with 1 Axes>"
      ]
     },
     "metadata": {
      "needs_background": "light"
     },
     "output_type": "display_data"
    }
   ],
   "source": [
    "example_series['value'].hist();"
   ]
  },
  {
   "cell_type": "code",
   "execution_count": 18,
   "id": "9ce81016",
   "metadata": {},
   "outputs": [
    {
     "data": {
      "text/plain": [
       "(-71.8617364514084,\n",
       " 0.0,\n",
       " 1,\n",
       " 9998,\n",
       " {'1%': -3.431004228818807,\n",
       "  '5%': -2.8618291302145686,\n",
       "  '10%': -2.566923898875394})"
      ]
     },
     "execution_count": 18,
     "metadata": {},
     "output_type": "execute_result"
    }
   ],
   "source": [
    "# pvalue = example_adf[1]\n",
    "example_adf = adfuller(example_series,maxlag=1,regression='c',autolag=None)\n",
    "example_adf"
   ]
  },
  {
   "cell_type": "code",
   "execution_count": 25,
   "id": "40a1f9b9",
   "metadata": {},
   "outputs": [],
   "source": [
    "# cumusum\n",
    "cumsum = example_series.cumsum()"
   ]
  },
  {
   "cell_type": "code",
   "execution_count": 24,
   "id": "22e9065f",
   "metadata": {},
   "outputs": [
    {
     "data": {
      "text/plain": [
       "0.30000000000000004"
      ]
     },
     "execution_count": 24,
     "metadata": {},
     "output_type": "execute_result"
    }
   ],
   "source": [
    "# order of integration\n",
    "example_mind = findMinD(cumsum)\n",
    "example_mind"
   ]
  },
  {
   "cell_type": "code",
   "execution_count": 28,
   "id": "ca5b67b4",
   "metadata": {},
   "outputs": [
    {
     "data": {
      "text/plain": [
       "(-1.5996220598387256,\n",
       " 0.483783319774026,\n",
       " 1,\n",
       " 9998,\n",
       " {'1%': -3.431004228818807,\n",
       "  '5%': -2.8618291302145686,\n",
       "  '10%': -2.566923898875394})"
      ]
     },
     "execution_count": 28,
     "metadata": {},
     "output_type": "execute_result"
    }
   ],
   "source": [
    "# adf of cumsum\n",
    "cumsum_adf = adfuller(cumsum,maxlag=1,regression='c',autolag=None)\n",
    "cumsum_adf"
   ]
  },
  {
   "cell_type": "code",
   "execution_count": 31,
   "id": "1ab84e24",
   "metadata": {},
   "outputs": [
    {
     "data": {
      "text/plain": [
       "(-28.236540523227088,\n",
       " 0.0,\n",
       " 1,\n",
       " 5450,\n",
       " {'1%': -3.4315504371879424,\n",
       "  '5%': -2.8620704730694992,\n",
       "  '10%': -2.5670523698005216})"
      ]
     },
     "execution_count": 31,
     "metadata": {},
     "output_type": "execute_result"
    }
   ],
   "source": [
    "# doublediff\n",
    "once = fracDiff_FFD(cumsum, .3).dropna()\n",
    "twice = fracDiff_FFD(once, .3).dropna()\n",
    "\n",
    "ddiff = adfuller(twice,maxlag=1,regression='c',autolag=None)\n",
    "ddiff"
   ]
  }
 ],
 "metadata": {
  "kernelspec": {
   "display_name": "Python 3 (ipykernel)",
   "language": "python",
   "name": "python3"
  },
  "language_info": {
   "codemirror_mode": {
    "name": "ipython",
    "version": 3
   },
   "file_extension": ".py",
   "mimetype": "text/x-python",
   "name": "python",
   "nbconvert_exporter": "python",
   "pygments_lexer": "ipython3",
   "version": "3.9.10"
  }
 },
 "nbformat": 4,
 "nbformat_minor": 5
}
