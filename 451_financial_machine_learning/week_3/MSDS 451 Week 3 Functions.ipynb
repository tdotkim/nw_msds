{
 "cells": [
  {
   "cell_type": "code",
   "execution_count": null,
   "id": "c8743161",
   "metadata": {},
   "outputs": [],
   "source": [
    "# load libraries\n",
    "import pandas as pd\n",
    "import numpy as np\n",
    "from statsmodels.tsa.stattools import adfuller\n",
    "import matplotlib.pyplot as plt"
   ]
  },
  {
   "cell_type": "code",
   "execution_count": null,
   "id": "a749593f",
   "metadata": {},
   "outputs": [],
   "source": [
    "def getWeights_FFD(d,thres):\n",
    "    w,k=[1.],1\n",
    "    while True:\n",
    "        w_=-w[-1]/k*(d-k+1)\n",
    "        if abs(w_)<thres:break\n",
    "        w.append(w_);k+=1\n",
    "    return np.array(w[::-1]).reshape(-1,1)"
   ]
  },
  {
   "cell_type": "code",
   "execution_count": null,
   "id": "09db8b08",
   "metadata": {},
   "outputs": [],
   "source": [
    "def fracDiff_FFD(series,d,thres=1e-5):\n",
    "    # Constant width window (new solution)\n",
    "    w=getWeights_FFD(d,thres)\n",
    "    df={}\n",
    "    for name in series.columns:\n",
    "        df_=pd.Series(series[name].values,index=series.index).fillna(method='ffill').dropna()\n",
    "        x=pd.Series(0,index=df_.index)\n",
    "        for k in range(w.shape[0]):\n",
    "            x=x+w[k,0]*df_.shift(-k)\n",
    "    #df[name]=x.dropna().copy(deep=True)\n",
    "    df[name]=x.shift(k).copy(deep=True)\n",
    "    df=pd.concat(df,axis=1)\n",
    "    return df"
   ]
  },
  {
   "cell_type": "code",
   "execution_count": null,
   "id": "4595b793",
   "metadata": {},
   "outputs": [],
   "source": [
    "def findMinD(series):\n",
    "    for d in np.linspace(0,1,11):\n",
    "        df_=fracDiff_FFD(series,d,thres=0.01).dropna()\n",
    "        res=adfuller(df_.iloc[:,0].values,maxlag=1,regression='c',autolag=None)\n",
    "        if (res[0]<=res[4]['5%']):\n",
    "            return d\n",
    "    return 1.0"
   ]
  }
 ],
 "metadata": {
  "kernelspec": {
   "display_name": "Python 3 (ipykernel)",
   "language": "python",
   "name": "python3"
  },
  "language_info": {
   "codemirror_mode": {
    "name": "ipython",
    "version": 3
   },
   "file_extension": ".py",
   "mimetype": "text/x-python",
   "name": "python",
   "nbconvert_exporter": "python",
   "pygments_lexer": "ipython3",
   "version": "3.9.12"
  }
 },
 "nbformat": 4,
 "nbformat_minor": 5
}
