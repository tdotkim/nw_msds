{
  "cells": [
    {
      "cell_type": "markdown",
      "metadata": {
        "id": "nPgpNuCPSefK"
      },
      "source": [
        "**Module 5 Coding Assignment: MDA on economic factors as predictors of S&P 500 index.**\n",
        "We will apply MDA feature selection (FS) to find the most important factors that predict the sign of the S&P index monthly returns.\n"
      ]
    },
    {
      "cell_type": "markdown",
      "metadata": {
        "id": "mK_ctZ0uUuv8"
      },
      "source": [
        "1. **Setting the random seed to 1, and using the same dataset as in the Module 5 assignment, compute the feature importance scores of each feature by applying the featImportance function (Snippet 8.8 in AFML) on the 10 cross validation sets within the train set defined there. Why can’t FS be applied to the train set as a whole? (Hint: see https://twitter.com/chanep/status/1056648839061520384?s=20) (2 pt)**"
      ]
    },
    {
      "cell_type": "markdown",
      "metadata": {
        "id": "8BTilP6sUxiQ"
      },
      "source": [
        "The feature importance score should be applied on the validation set because when we do the feature selection on the training set we could in a way overfit the model and if we calculate the feature importance score with the unseen test data on the the features from the training set we could get the featureImp score as zero.\n",
        "The features selected from training set could perform really bad on the unseen test data. When a model's error is measured on the same data on which it is trained the outcome is overly optimistic and that would mean the model seems to work much better than it would do in reality.\n"
      ]
    },
    {
      "cell_type": "code",
      "execution_count": 2,
      "metadata": {
        "id": "jOjjHe_Qt8LF"
      },
      "outputs": [],
      "source": [
        "import warnings\n",
        "warnings.simplefilter('ignore')"
      ]
    },
    {
      "cell_type": "code",
      "execution_count": 3,
      "metadata": {
        "id": "r_zHlBxMuCCp"
      },
      "outputs": [],
      "source": [
        "import pandas as pd\n",
        "import numpy as np"
      ]
    },
    {
      "cell_type": "code",
      "execution_count": 10,
      "metadata": {
        "id": "-X4LmvTEuDzs"
      },
      "outputs": [],
      "source": [
        "X_data = pd.read_csv('../week_4/X_processed_final.csv')\n",
        "Y_data = pd.read_csv('../week_4/y_final.csv')"
      ]
    },
    {
      "cell_type": "code",
      "execution_count": 11,
      "metadata": {
        "colab": {
          "base_uri": "https://localhost:8080/",
          "height": 313
        },
        "id": "k2cb8Rh4uGS3",
        "outputId": "2f8fa786-c465-4aec-9827-2fb66a4b35e5"
      },
      "outputs": [
        {
          "data": {
            "text/html": [
              "<div>\n",
              "<style scoped>\n",
              "    .dataframe tbody tr th:only-of-type {\n",
              "        vertical-align: middle;\n",
              "    }\n",
              "\n",
              "    .dataframe tbody tr th {\n",
              "        vertical-align: top;\n",
              "    }\n",
              "\n",
              "    .dataframe thead th {\n",
              "        text-align: right;\n",
              "    }\n",
              "</style>\n",
              "<table border=\"1\" class=\"dataframe\">\n",
              "  <thead>\n",
              "    <tr style=\"text-align: right;\">\n",
              "      <th></th>\n",
              "      <th>yyyymm</th>\n",
              "      <th>ntis</th>\n",
              "      <th>infl</th>\n",
              "      <th>ltr</th>\n",
              "      <th>corpr</th>\n",
              "      <th>svar</th>\n",
              "      <th>d/p</th>\n",
              "      <th>d/y</th>\n",
              "      <th>e/p</th>\n",
              "      <th>d/e</th>\n",
              "      <th>tms</th>\n",
              "      <th>dfy</th>\n",
              "      <th>dfr</th>\n",
              "      <th>b/m_FD</th>\n",
              "      <th>tbl_FD</th>\n",
              "      <th>lty_FD</th>\n",
              "    </tr>\n",
              "  </thead>\n",
              "  <tbody>\n",
              "    <tr>\n",
              "      <th>0</th>\n",
              "      <td>1945-12-01</td>\n",
              "      <td>0.025525</td>\n",
              "      <td>0.005525</td>\n",
              "      <td>0.0194</td>\n",
              "      <td>0.0133</td>\n",
              "      <td>0.001538</td>\n",
              "      <td>-3.269684</td>\n",
              "      <td>-3.337063</td>\n",
              "      <td>-2.894991</td>\n",
              "      <td>-0.374693</td>\n",
              "      <td>0.0161</td>\n",
              "      <td>0.0049</td>\n",
              "      <td>-0.0061</td>\n",
              "      <td>-0.216009</td>\n",
              "      <td>-2.99635</td>\n",
              "      <td>-1.507835</td>\n",
              "    </tr>\n",
              "    <tr>\n",
              "      <th>1</th>\n",
              "      <td>1946-01-01</td>\n",
              "      <td>0.027969</td>\n",
              "      <td>0.000000</td>\n",
              "      <td>0.0025</td>\n",
              "      <td>0.0128</td>\n",
              "      <td>0.002645</td>\n",
              "      <td>-3.327012</td>\n",
              "      <td>-3.255014</td>\n",
              "      <td>-2.983423</td>\n",
              "      <td>-0.343589</td>\n",
              "      <td>0.0161</td>\n",
              "      <td>0.0047</td>\n",
              "      <td>0.0103</td>\n",
              "      <td>-0.264780</td>\n",
              "      <td>-2.99635</td>\n",
              "      <td>-1.486065</td>\n",
              "    </tr>\n",
              "    <tr>\n",
              "      <th>2</th>\n",
              "      <td>1946-02-01</td>\n",
              "      <td>0.031091</td>\n",
              "      <td>-0.005495</td>\n",
              "      <td>0.0032</td>\n",
              "      <td>0.0034</td>\n",
              "      <td>0.005942</td>\n",
              "      <td>-3.245065</td>\n",
              "      <td>-3.290322</td>\n",
              "      <td>-2.932931</td>\n",
              "      <td>-0.312134</td>\n",
              "      <td>0.0160</td>\n",
              "      <td>0.0047</td>\n",
              "      <td>0.0002</td>\n",
              "      <td>-0.167204</td>\n",
              "      <td>-2.99635</td>\n",
              "      <td>-1.481915</td>\n",
              "    </tr>\n",
              "    <tr>\n",
              "      <th>3</th>\n",
              "      <td>1946-03-01</td>\n",
              "      <td>0.031188</td>\n",
              "      <td>0.011050</td>\n",
              "      <td>0.0010</td>\n",
              "      <td>0.0034</td>\n",
              "      <td>0.001497</td>\n",
              "      <td>-3.280469</td>\n",
              "      <td>-3.317389</td>\n",
              "      <td>-3.000167</td>\n",
              "      <td>-0.280302</td>\n",
              "      <td>0.0160</td>\n",
              "      <td>0.0047</td>\n",
              "      <td>0.0024</td>\n",
              "      <td>-0.190201</td>\n",
              "      <td>-2.99635</td>\n",
              "      <td>-1.474585</td>\n",
              "    </tr>\n",
              "    <tr>\n",
              "      <th>4</th>\n",
              "      <td>1946-04-01</td>\n",
              "      <td>0.031307</td>\n",
              "      <td>0.005464</td>\n",
              "      <td>-0.0135</td>\n",
              "      <td>-0.0043</td>\n",
              "      <td>0.001078</td>\n",
              "      <td>-3.317389</td>\n",
              "      <td>-3.339531</td>\n",
              "      <td>-3.059560</td>\n",
              "      <td>-0.257829</td>\n",
              "      <td>0.0169</td>\n",
              "      <td>0.0050</td>\n",
              "      <td>0.0092</td>\n",
              "      <td>-0.222940</td>\n",
              "      <td>-2.99635</td>\n",
              "      <td>-1.425691</td>\n",
              "    </tr>\n",
              "  </tbody>\n",
              "</table>\n",
              "</div>"
            ],
            "text/plain": [
              "       yyyymm      ntis      infl     ltr   corpr      svar       d/p  \\\n",
              "0  1945-12-01  0.025525  0.005525  0.0194  0.0133  0.001538 -3.269684   \n",
              "1  1946-01-01  0.027969  0.000000  0.0025  0.0128  0.002645 -3.327012   \n",
              "2  1946-02-01  0.031091 -0.005495  0.0032  0.0034  0.005942 -3.245065   \n",
              "3  1946-03-01  0.031188  0.011050  0.0010  0.0034  0.001497 -3.280469   \n",
              "4  1946-04-01  0.031307  0.005464 -0.0135 -0.0043  0.001078 -3.317389   \n",
              "\n",
              "        d/y       e/p       d/e     tms     dfy     dfr    b/m_FD   tbl_FD  \\\n",
              "0 -3.337063 -2.894991 -0.374693  0.0161  0.0049 -0.0061 -0.216009 -2.99635   \n",
              "1 -3.255014 -2.983423 -0.343589  0.0161  0.0047  0.0103 -0.264780 -2.99635   \n",
              "2 -3.290322 -2.932931 -0.312134  0.0160  0.0047  0.0002 -0.167204 -2.99635   \n",
              "3 -3.317389 -3.000167 -0.280302  0.0160  0.0047  0.0024 -0.190201 -2.99635   \n",
              "4 -3.339531 -3.059560 -0.257829  0.0169  0.0050  0.0092 -0.222940 -2.99635   \n",
              "\n",
              "     lty_FD  \n",
              "0 -1.507835  \n",
              "1 -1.486065  \n",
              "2 -1.481915  \n",
              "3 -1.474585  \n",
              "4 -1.425691  "
            ]
          },
          "execution_count": 11,
          "metadata": {},
          "output_type": "execute_result"
        }
      ],
      "source": [
        "X_data.head()"
      ]
    },
    {
      "cell_type": "code",
      "execution_count": 12,
      "metadata": {
        "colab": {
          "base_uri": "https://localhost:8080/",
          "height": 206
        },
        "id": "pYRpguAJuJur",
        "outputId": "a694ed1c-5d94-4c60-8afb-44ae9a6cbdd4"
      },
      "outputs": [],
      "source": [
        "Y_data = Y_data.merge(X_data['yyyymm'], left_index=True, right_index=True)"
      ]
    },
    {
      "cell_type": "code",
      "execution_count": 13,
      "metadata": {
        "colab": {
          "base_uri": "https://localhost:8080/",
          "height": 344
        },
        "id": "nOSzc_jLuLQl",
        "outputId": "56acff12-1452-4219-c9f3-6b5eba012d42"
      },
      "outputs": [
        {
          "data": {
            "text/html": [
              "<div>\n",
              "<style scoped>\n",
              "    .dataframe tbody tr th:only-of-type {\n",
              "        vertical-align: middle;\n",
              "    }\n",
              "\n",
              "    .dataframe tbody tr th {\n",
              "        vertical-align: top;\n",
              "    }\n",
              "\n",
              "    .dataframe thead th {\n",
              "        text-align: right;\n",
              "    }\n",
              "</style>\n",
              "<table border=\"1\" class=\"dataframe\">\n",
              "  <thead>\n",
              "    <tr style=\"text-align: right;\">\n",
              "      <th></th>\n",
              "      <th>ntis</th>\n",
              "      <th>infl</th>\n",
              "      <th>ltr</th>\n",
              "      <th>corpr</th>\n",
              "      <th>svar</th>\n",
              "      <th>d/p</th>\n",
              "      <th>d/y</th>\n",
              "      <th>e/p</th>\n",
              "      <th>d/e</th>\n",
              "      <th>tms</th>\n",
              "      <th>dfy</th>\n",
              "      <th>dfr</th>\n",
              "      <th>b/m_FD</th>\n",
              "      <th>tbl_FD</th>\n",
              "      <th>lty_FD</th>\n",
              "    </tr>\n",
              "    <tr>\n",
              "      <th>yyyymm</th>\n",
              "      <th></th>\n",
              "      <th></th>\n",
              "      <th></th>\n",
              "      <th></th>\n",
              "      <th></th>\n",
              "      <th></th>\n",
              "      <th></th>\n",
              "      <th></th>\n",
              "      <th></th>\n",
              "      <th></th>\n",
              "      <th></th>\n",
              "      <th></th>\n",
              "      <th></th>\n",
              "      <th></th>\n",
              "      <th></th>\n",
              "    </tr>\n",
              "  </thead>\n",
              "  <tbody>\n",
              "    <tr>\n",
              "      <th>1945-12-01</th>\n",
              "      <td>0.025525</td>\n",
              "      <td>0.005525</td>\n",
              "      <td>0.0194</td>\n",
              "      <td>0.0133</td>\n",
              "      <td>0.001538</td>\n",
              "      <td>-3.269684</td>\n",
              "      <td>-3.337063</td>\n",
              "      <td>-2.894991</td>\n",
              "      <td>-0.374693</td>\n",
              "      <td>0.0161</td>\n",
              "      <td>0.0049</td>\n",
              "      <td>-0.0061</td>\n",
              "      <td>-0.216009</td>\n",
              "      <td>-2.99635</td>\n",
              "      <td>-1.507835</td>\n",
              "    </tr>\n",
              "    <tr>\n",
              "      <th>1946-01-01</th>\n",
              "      <td>0.027969</td>\n",
              "      <td>0.000000</td>\n",
              "      <td>0.0025</td>\n",
              "      <td>0.0128</td>\n",
              "      <td>0.002645</td>\n",
              "      <td>-3.327012</td>\n",
              "      <td>-3.255014</td>\n",
              "      <td>-2.983423</td>\n",
              "      <td>-0.343589</td>\n",
              "      <td>0.0161</td>\n",
              "      <td>0.0047</td>\n",
              "      <td>0.0103</td>\n",
              "      <td>-0.264780</td>\n",
              "      <td>-2.99635</td>\n",
              "      <td>-1.486065</td>\n",
              "    </tr>\n",
              "    <tr>\n",
              "      <th>1946-02-01</th>\n",
              "      <td>0.031091</td>\n",
              "      <td>-0.005495</td>\n",
              "      <td>0.0032</td>\n",
              "      <td>0.0034</td>\n",
              "      <td>0.005942</td>\n",
              "      <td>-3.245065</td>\n",
              "      <td>-3.290322</td>\n",
              "      <td>-2.932931</td>\n",
              "      <td>-0.312134</td>\n",
              "      <td>0.0160</td>\n",
              "      <td>0.0047</td>\n",
              "      <td>0.0002</td>\n",
              "      <td>-0.167204</td>\n",
              "      <td>-2.99635</td>\n",
              "      <td>-1.481915</td>\n",
              "    </tr>\n",
              "    <tr>\n",
              "      <th>1946-03-01</th>\n",
              "      <td>0.031188</td>\n",
              "      <td>0.011050</td>\n",
              "      <td>0.0010</td>\n",
              "      <td>0.0034</td>\n",
              "      <td>0.001497</td>\n",
              "      <td>-3.280469</td>\n",
              "      <td>-3.317389</td>\n",
              "      <td>-3.000167</td>\n",
              "      <td>-0.280302</td>\n",
              "      <td>0.0160</td>\n",
              "      <td>0.0047</td>\n",
              "      <td>0.0024</td>\n",
              "      <td>-0.190201</td>\n",
              "      <td>-2.99635</td>\n",
              "      <td>-1.474585</td>\n",
              "    </tr>\n",
              "    <tr>\n",
              "      <th>1946-04-01</th>\n",
              "      <td>0.031307</td>\n",
              "      <td>0.005464</td>\n",
              "      <td>-0.0135</td>\n",
              "      <td>-0.0043</td>\n",
              "      <td>0.001078</td>\n",
              "      <td>-3.317389</td>\n",
              "      <td>-3.339531</td>\n",
              "      <td>-3.059560</td>\n",
              "      <td>-0.257829</td>\n",
              "      <td>0.0169</td>\n",
              "      <td>0.0050</td>\n",
              "      <td>0.0092</td>\n",
              "      <td>-0.222940</td>\n",
              "      <td>-2.99635</td>\n",
              "      <td>-1.425691</td>\n",
              "    </tr>\n",
              "  </tbody>\n",
              "</table>\n",
              "</div>"
            ],
            "text/plain": [
              "                ntis      infl     ltr   corpr      svar       d/p       d/y  \\\n",
              "yyyymm                                                                         \n",
              "1945-12-01  0.025525  0.005525  0.0194  0.0133  0.001538 -3.269684 -3.337063   \n",
              "1946-01-01  0.027969  0.000000  0.0025  0.0128  0.002645 -3.327012 -3.255014   \n",
              "1946-02-01  0.031091 -0.005495  0.0032  0.0034  0.005942 -3.245065 -3.290322   \n",
              "1946-03-01  0.031188  0.011050  0.0010  0.0034  0.001497 -3.280469 -3.317389   \n",
              "1946-04-01  0.031307  0.005464 -0.0135 -0.0043  0.001078 -3.317389 -3.339531   \n",
              "\n",
              "                 e/p       d/e     tms     dfy     dfr    b/m_FD   tbl_FD  \\\n",
              "yyyymm                                                                      \n",
              "1945-12-01 -2.894991 -0.374693  0.0161  0.0049 -0.0061 -0.216009 -2.99635   \n",
              "1946-01-01 -2.983423 -0.343589  0.0161  0.0047  0.0103 -0.264780 -2.99635   \n",
              "1946-02-01 -2.932931 -0.312134  0.0160  0.0047  0.0002 -0.167204 -2.99635   \n",
              "1946-03-01 -3.000167 -0.280302  0.0160  0.0047  0.0024 -0.190201 -2.99635   \n",
              "1946-04-01 -3.059560 -0.257829  0.0169  0.0050  0.0092 -0.222940 -2.99635   \n",
              "\n",
              "              lty_FD  \n",
              "yyyymm                \n",
              "1945-12-01 -1.507835  \n",
              "1946-01-01 -1.486065  \n",
              "1946-02-01 -1.481915  \n",
              "1946-03-01 -1.474585  \n",
              "1946-04-01 -1.425691  "
            ]
          },
          "execution_count": 13,
          "metadata": {},
          "output_type": "execute_result"
        }
      ],
      "source": [
        "X_data.set_index('yyyymm', inplace = True)\n",
        "Y_data.set_index('yyyymm', inplace = True)\n",
        "X_data.head()"
      ]
    },
    {
      "cell_type": "code",
      "execution_count": 14,
      "metadata": {
        "id": "TiYt5l-dvVe6"
      },
      "outputs": [],
      "source": [
        "np.random.seed(1)"
      ]
    },
    {
      "cell_type": "code",
      "execution_count": 15,
      "metadata": {
        "id": "dU15ke0YvV3z"
      },
      "outputs": [],
      "source": [
        "X_data_2 = X_data.copy(deep=True)\n",
        "y_data_2 = Y_data.copy(deep=True)"
      ]
    },
    {
      "cell_type": "code",
      "execution_count": 16,
      "metadata": {
        "id": "_kFeHnhRvZt5"
      },
      "outputs": [],
      "source": [
        "def train_valid_test_split(df, trainFraction, validFraction):\n",
        "  assert(trainFraction + validFraction < 1)\n",
        "  X = df.copy()\n",
        "  trainset=np.arange(np.round(trainFraction*X.shape[0]))\n",
        "  validset=np.arange(trainset[-1]+1,trainset[-1]+1+np.round(validFraction*X.shape[0]))\n",
        "  testset=np.arange(validset[-1]+1,X.shape[0])\n",
        "  X_train, X_valid, X_test = X.iloc[trainset,], X.iloc[validset,], X.iloc[testset,]\n",
        "  return X_train, X_valid, X_test\n",
        "\n",
        "trainFrac=0.7\n",
        "validFrac=0.2\n",
        "\n",
        "X_train_data, X_valid_data, X_test_data=train_valid_test_split(X_data, trainFrac, validFrac)\n",
        "Y_train_data, Y_valid_data, Y_test_data=train_valid_test_split(Y_data, trainFrac, validFrac)"
      ]
    },
    {
      "cell_type": "code",
      "execution_count": 51,
      "metadata": {},
      "outputs": [
        {
          "data": {
            "text/plain": [
              "(877, 15)"
            ]
          },
          "execution_count": 51,
          "metadata": {},
          "output_type": "execute_result"
        }
      ],
      "source": [
        "X_data.shape"
      ]
    },
    {
      "cell_type": "code",
      "execution_count": 17,
      "metadata": {
        "id": "sNf6RAk-zGT6"
      },
      "outputs": [],
      "source": [
        "#Derived from Advances in Financial Machine Learning, pp 116-117, Marcos Lopez de Prado\n",
        "from sklearn.model_selection._split import KFold\n",
        "import datetime as dt\n",
        "\n",
        "def featImpMDA_classify(clf,X,y,cv,scoring='neg_log_loss'):\n",
        "  # feat importance based on OOS score reduction\n",
        "  if scoring not in ['neg_log_loss', 'accuracy']:\n",
        "    raise Exception('wrong scoring method.')\n",
        "  print('start MDA',dt.datetime.now())\n",
        "\n",
        "  from sklearn.metrics import log_loss, accuracy_score\n",
        "\n",
        "  cvGen=KFold(n_splits=cv)\n",
        "  scr0,scr1=pd.Series(),pd.DataFrame(columns=X.columns)\n",
        "  for i,(train,test) in enumerate(cvGen.split(X=X)):\n",
        "    print(' Split',i+1)\n",
        "    X0,y0=X.iloc[train,:],y.iloc[train]\n",
        "    X1,y1=X.iloc[test,:],y.iloc[test]\n",
        "    fit=clf.fit(X=X0,y=y0)\n",
        "    if scoring=='neg_log_loss':\n",
        "      prob=fit.predict_proba(X1)\n",
        "      scr0.loc[i]=-log_loss(y1,prob,labels=clf.classes_)\n",
        "    else:\n",
        "      pred=fit.predict(X1)\n",
        "      scr0.loc[i]=accuracy_score(y1,pred)\n",
        "    for j in X.columns:\n",
        "      X1_=X1.copy(deep=True)\n",
        "      np.random.shuffle(X1_[j].values) # permutation of a single column\n",
        "      if scoring=='neg_log_loss':\n",
        "        prob=fit.predict_proba(X1_)\n",
        "        scr1.loc[i,j]=-log_loss(y1,prob,labels=clf.classes_)\n",
        "    else:\n",
        "      pred=fit.predict(X1_)\n",
        "      scr1.loc[i,j]=accuracy_score(y1,pred)\n",
        "  imp=(0-scr1).add(scr0,axis=0) #imp = scr1.add(scr0, axis = 0)\n",
        "  imp =imp/(0-scr1) #imp=imp/-scr1\n",
        "  imp=pd.concat({'mean':imp.mean(),'std':imp.std()*imp.shape[0]**-.5},axis=1)\n",
        "  print('end MDA',dt.datetime.now())\n",
        "  return imp\n"
      ]
    },
    {
      "cell_type": "code",
      "execution_count": 18,
      "metadata": {
        "id": "Y4Wcp6dezxyK"
      },
      "outputs": [],
      "source": [
        "\n",
        "from sklearn.tree import DecisionTreeClassifier\n",
        "from sklearn.ensemble import BaggingClassifier\n",
        "\n",
        "# featImpMDA_classify(clf,X,y,cv,scoring='neg_log_loss')\n",
        "\n",
        "def featImportance(trnsX,cont,n_estimators=1000,cv=10,max_samples=1,\n",
        "                   numThreads=24,pctEmbargo=0,scoring='accuracy',\n",
        "                   method='MDA',minWLeaf=0):\n",
        "  # feature importance from a random forest\n",
        "  n_jobs=(-1 if numThreads>1 else 1)\n",
        "  # run 1 thread with ht_helper in dirac1\n",
        "  #1) prepare classifier,cv. max_features=1, to prevent masking\n",
        "  clf=DecisionTreeClassifier(criterion='entropy',max_features=1,class_weight='balanced',min_weight_fraction_leaf=minWLeaf)\n",
        "\n",
        "  clf=BaggingClassifier(base_estimator=clf,n_estimators=n_estimators,max_features=1,max_samples=max_samples,oob_score=True,n_jobs=n_jobs)\n",
        "\n",
        "  fit=clf.fit(X=trnsX,y=cont)\n",
        "  oob=fit.oob_score_\n",
        "  imp,oos=featImpMDA_classify(clf,X=trnsX,y=cont,cv=cv,scoring=scoring)\n",
        "  return imp,oob,oos"
      ]
    },
    {
      "cell_type": "code",
      "execution_count": 19,
      "metadata": {
        "id": "JGjtzsGL0Hwg"
      },
      "outputs": [],
      "source": [
        "def plot_importances(df_importances, save=None, xrot=0, tickstep=3,label_fontsize=12,figsize=None, scalefig=(1.0, 1.0), show=True, show_cutoff=False):\n",
        "  \"\"\"\n",
        "  Given an array or data frame of importances, plot a horizontal bar chart\n",
        "  showing the importance values.\n",
        "  :param df_importances: A data frame with Feature, Importance columns\n",
        "  :type df_importances: pd.DataFrame\n",
        "  :param save: A filename identifying where to save the image.\n",
        "  :param xrot: Degrees to rotate importance (X axis) labels\n",
        "  :type xrot: int\n",
        "  :param tickstep: How many ticks to skip in X axis\n",
        "  :type tickstep: int\n",
        "  :param label_fontsize: The font size for the column names and x ticks\n",
        "  :type label_fontsize: int\n",
        "  :param figsize: Specify width and height of image (width,height)\n",
        "  :type figsize: 2-tuple of floats\n",
        "  :param scalefig: Scale width and height of image (widthscale,heightscale)\n",
        "  :type scalefig: 2-tuple of floats\n",
        "  :param show: Execute plt.show() if true (default is True). Sometimes\n",
        "  we want to draw multiple things before calling plt.show()\n",
        "  :type show: bool\n",
        "  :return: None\n",
        "  SAMPLE CODE\n",
        "  rf = RandomForestRegressor(n_estimators=100, n_jobs=-1, oob_score=True)\n",
        "  X_train, y_train = ..., ...\n",
        "  rf.fit(X_train, y_train)\n",
        "  imp = importances(rf, X_test, y_test)\n",
        "  plot_importances(imp)\n",
        "  \"\"\"\n",
        "  I = df_importances\n",
        "  if figsize:\n",
        "    fig = plt.figure(figsize=figsize)\n",
        "  elif scalefig:\n",
        "    fig = plt.figure()\n",
        "    w, h = fig.get_size_inches()\n",
        "    fig.set_size_inches(w * scalefig[0], h * scalefig[1], forward=True)\n",
        "  else:\n",
        "    fig = plt.figure()\n",
        "  ax = plt.gca()\n",
        "  labels = []\n",
        "  for col in I.index:\n",
        "    if isinstance(col, list):\n",
        "      labels.append('\\n'.join(col))\n",
        "    else:\n",
        "      labels.append(col)\n",
        "\n",
        "  for tick in ax.get_xticklabels():\n",
        "    tick.set_size(label_fontsize)\n",
        "  for tick in ax.get_yticklabels():\n",
        "    tick.set_size(label_fontsize)\n",
        "  ax.barh(np.arange(len(I.index)), I.Importance, height=0.6, tick_label=labels)\n",
        "  # rotate x-ticks\n",
        "  if xrot is not None:\n",
        "    plt.xticks(rotation=xrot)\n",
        "\n",
        "  # xticks freq\n",
        "  xticks = ax.get_xticks()\n",
        "  nticks = len(xticks)\n",
        "  new_ticks = xticks[np.arange(0, nticks, step=tickstep)]\n",
        "  ax.set_xticks(new_ticks)\n",
        "\n",
        "  if show_cutoff:\n",
        "    # Plot the cutoff importance as vertical dotted line as per Figure 8.2 of AFML\n",
        "    plt.axvline(1./df_importances.shape[0], linewidth = 1, color= 'r', linestyle = 'dotted')\n",
        "    print('importance cutoff=', 1./df_importances.shape[0])\n",
        "  if save:\n",
        "    plt.savefig(save, bbox_inches=\"tight\", pad_inches=0.03)\n",
        "  if show:\n",
        "    plt.show()"
      ]
    },
    {
      "cell_type": "code",
      "execution_count": 24,
      "metadata": {
        "colab": {
          "base_uri": "https://localhost:8080/"
        },
        "id": "hJrKffYa0utD",
        "outputId": "fbda7990-334a-4b33-c032-1cdccad28290"
      },
      "outputs": [
        {
          "name": "stdout",
          "output_type": "stream",
          "text": [
            "start MDA 2024-02-10 22:56:24.026676\n",
            " Split 1\n",
            " Split 2\n",
            " Split 3\n",
            " Split 4\n",
            " Split 5\n",
            " Split 6\n",
            " Split 7\n",
            " Split 8\n",
            " Split 9\n",
            " Split 10\n",
            "end MDA 2024-02-10 22:57:26.940227\n"
          ]
        }
      ],
      "source": [
        "clf=DecisionTreeClassifier(criterion='entropy',max_features=1,class_weight='balanced',min_weight_fraction_leaf=0, random_state=1)\n",
        "clf=BaggingClassifier(estimator=clf,n_estimators=1000,max_features=1,max_samples=1.,\n",
        "oob_score=True,n_jobs=-1,random_state=1)\n",
        "mda_imps=featImpMDA_classify(clf,X_train_data,Y_train_data,cv=10, scoring='neg_log_loss')"
      ]
    },
    {
      "cell_type": "code",
      "execution_count": 25,
      "metadata": {
        "colab": {
          "base_uri": "https://localhost:8080/"
        },
        "id": "sCNuavsu00lS",
        "outputId": "6a434855-af02-4b39-c9da-c7c98a60eb46"
      },
      "outputs": [
        {
          "name": "stdout",
          "output_type": "stream",
          "text": [
            "            mean       std\n",
            "ntis    0.005909  0.003109\n",
            "infl    0.003207  0.003049\n",
            "ltr     -0.00073  0.003092\n",
            "corpr   -0.00259  0.004087\n",
            "svar   -0.002095   0.00428\n",
            "d/p    -0.005802  0.001737\n",
            "d/y     0.001012  0.003146\n",
            "e/p    -0.000903  0.004213\n",
            "d/e    -0.002713  0.004224\n",
            "tms    -0.008117  0.003805\n",
            "dfy    -0.000186  0.003207\n",
            "dfr    -0.002275  0.002199\n",
            "b/m_FD -0.005493  0.004044\n",
            "tbl_FD  0.001622  0.002913\n",
            "lty_FD  2.373103  0.091368\n"
          ]
        }
      ],
      "source": [
        "type(mda_imps)\n",
        "print(mda_imps)\n"
      ]
    },
    {
      "cell_type": "code",
      "execution_count": 26,
      "metadata": {
        "id": "mdeYsEIS05A-"
      },
      "outputs": [],
      "source": [
        "import matplotlib.pyplot as plt"
      ]
    },
    {
      "cell_type": "code",
      "execution_count": 27,
      "metadata": {
        "colab": {
          "base_uri": "https://localhost:8080/",
          "height": 434
        },
        "id": "HyCVUOdB071W",
        "outputId": "9603069a-6f3b-4eb3-e189-8366366c8053"
      },
      "outputs": [
        {
          "data": {
            "image/png": "[encoded data removed]",
            "text/plain": [
              "<Figure size 960x480 with 1 Axes>"
            ]
          },
          "metadata": {},
          "output_type": "display_data"
        }
      ],
      "source": [
        "m_imps=mda_imps.reset_index().rename(index=int,columns={\"index\":\"Feature\",'mean':'Importance'}, inplace=False).set_index('Feature')\n",
        "m_imps=m_imps.sort_values(by='Importance')\n",
        "plot_importances(m_imps,scalefig=(1.5,1.0))"
      ]
    },
    {
      "cell_type": "code",
      "execution_count": 28,
      "metadata": {
        "colab": {
          "base_uri": "https://localhost:8080/",
          "height": 551
        },
        "id": "iocNUhP608_2",
        "outputId": "51097c8f-278e-4e09-931a-19a51f25a819"
      },
      "outputs": [
        {
          "data": {
            "text/html": [
              "<div>\n",
              "<style scoped>\n",
              "    .dataframe tbody tr th:only-of-type {\n",
              "        vertical-align: middle;\n",
              "    }\n",
              "\n",
              "    .dataframe tbody tr th {\n",
              "        vertical-align: top;\n",
              "    }\n",
              "\n",
              "    .dataframe thead th {\n",
              "        text-align: right;\n",
              "    }\n",
              "</style>\n",
              "<table border=\"1\" class=\"dataframe\">\n",
              "  <thead>\n",
              "    <tr style=\"text-align: right;\">\n",
              "      <th></th>\n",
              "      <th>Importance</th>\n",
              "      <th>std</th>\n",
              "    </tr>\n",
              "    <tr>\n",
              "      <th>Feature</th>\n",
              "      <th></th>\n",
              "      <th></th>\n",
              "    </tr>\n",
              "  </thead>\n",
              "  <tbody>\n",
              "    <tr>\n",
              "      <th>tms</th>\n",
              "      <td>-0.008117</td>\n",
              "      <td>0.003805</td>\n",
              "    </tr>\n",
              "    <tr>\n",
              "      <th>d/p</th>\n",
              "      <td>-0.005802</td>\n",
              "      <td>0.001737</td>\n",
              "    </tr>\n",
              "    <tr>\n",
              "      <th>b/m_FD</th>\n",
              "      <td>-0.005493</td>\n",
              "      <td>0.004044</td>\n",
              "    </tr>\n",
              "    <tr>\n",
              "      <th>d/e</th>\n",
              "      <td>-0.002713</td>\n",
              "      <td>0.004224</td>\n",
              "    </tr>\n",
              "    <tr>\n",
              "      <th>corpr</th>\n",
              "      <td>-0.00259</td>\n",
              "      <td>0.004087</td>\n",
              "    </tr>\n",
              "    <tr>\n",
              "      <th>dfr</th>\n",
              "      <td>-0.002275</td>\n",
              "      <td>0.002199</td>\n",
              "    </tr>\n",
              "    <tr>\n",
              "      <th>svar</th>\n",
              "      <td>-0.002095</td>\n",
              "      <td>0.00428</td>\n",
              "    </tr>\n",
              "    <tr>\n",
              "      <th>e/p</th>\n",
              "      <td>-0.000903</td>\n",
              "      <td>0.004213</td>\n",
              "    </tr>\n",
              "    <tr>\n",
              "      <th>ltr</th>\n",
              "      <td>-0.00073</td>\n",
              "      <td>0.003092</td>\n",
              "    </tr>\n",
              "    <tr>\n",
              "      <th>dfy</th>\n",
              "      <td>-0.000186</td>\n",
              "      <td>0.003207</td>\n",
              "    </tr>\n",
              "    <tr>\n",
              "      <th>d/y</th>\n",
              "      <td>0.001012</td>\n",
              "      <td>0.003146</td>\n",
              "    </tr>\n",
              "    <tr>\n",
              "      <th>tbl_FD</th>\n",
              "      <td>0.001622</td>\n",
              "      <td>0.002913</td>\n",
              "    </tr>\n",
              "    <tr>\n",
              "      <th>infl</th>\n",
              "      <td>0.003207</td>\n",
              "      <td>0.003049</td>\n",
              "    </tr>\n",
              "    <tr>\n",
              "      <th>ntis</th>\n",
              "      <td>0.005909</td>\n",
              "      <td>0.003109</td>\n",
              "    </tr>\n",
              "    <tr>\n",
              "      <th>lty_FD</th>\n",
              "      <td>2.373103</td>\n",
              "      <td>0.091368</td>\n",
              "    </tr>\n",
              "  </tbody>\n",
              "</table>\n",
              "</div>"
            ],
            "text/plain": [
              "        Importance       std\n",
              "Feature                     \n",
              "tms      -0.008117  0.003805\n",
              "d/p      -0.005802  0.001737\n",
              "b/m_FD   -0.005493  0.004044\n",
              "d/e      -0.002713  0.004224\n",
              "corpr     -0.00259  0.004087\n",
              "dfr      -0.002275  0.002199\n",
              "svar     -0.002095   0.00428\n",
              "e/p      -0.000903  0.004213\n",
              "ltr       -0.00073  0.003092\n",
              "dfy      -0.000186  0.003207\n",
              "d/y       0.001012  0.003146\n",
              "tbl_FD    0.001622  0.002913\n",
              "infl      0.003207  0.003049\n",
              "ntis      0.005909  0.003109\n",
              "lty_FD    2.373103  0.091368"
            ]
          },
          "execution_count": 28,
          "metadata": {},
          "output_type": "execute_result"
        }
      ],
      "source": [
        "m_imps"
      ]
    },
    {
      "cell_type": "markdown",
      "metadata": {
        "id": "q-CriX_CVVj9"
      },
      "source": [
        "**Before normalizing the data we need to drop feature columns with negative feature importance score**"
      ]
    },
    {
      "cell_type": "code",
      "execution_count": 29,
      "metadata": {
        "colab": {
          "base_uri": "https://localhost:8080/",
          "height": 269
        },
        "id": "lm7KYMnK1Awp",
        "outputId": "3c0dca66-f918-461e-8b47-e8f2ded27da6"
      },
      "outputs": [
        {
          "data": {
            "text/html": [
              "<div>\n",
              "<style scoped>\n",
              "    .dataframe tbody tr th:only-of-type {\n",
              "        vertical-align: middle;\n",
              "    }\n",
              "\n",
              "    .dataframe tbody tr th {\n",
              "        vertical-align: top;\n",
              "    }\n",
              "\n",
              "    .dataframe thead th {\n",
              "        text-align: right;\n",
              "    }\n",
              "</style>\n",
              "<table border=\"1\" class=\"dataframe\">\n",
              "  <thead>\n",
              "    <tr style=\"text-align: right;\">\n",
              "      <th></th>\n",
              "      <th>mean</th>\n",
              "      <th>std</th>\n",
              "    </tr>\n",
              "  </thead>\n",
              "  <tbody>\n",
              "    <tr>\n",
              "      <th>ntis</th>\n",
              "      <td>0.005909</td>\n",
              "      <td>0.003109</td>\n",
              "    </tr>\n",
              "    <tr>\n",
              "      <th>d/y</th>\n",
              "      <td>0.001012</td>\n",
              "      <td>0.003146</td>\n",
              "    </tr>\n",
              "    <tr>\n",
              "      <th>e/p</th>\n",
              "      <td>-0.000903</td>\n",
              "      <td>0.004213</td>\n",
              "    </tr>\n",
              "    <tr>\n",
              "      <th>d/e</th>\n",
              "      <td>-0.002713</td>\n",
              "      <td>0.004224</td>\n",
              "    </tr>\n",
              "    <tr>\n",
              "      <th>tms</th>\n",
              "      <td>-0.008117</td>\n",
              "      <td>0.003805</td>\n",
              "    </tr>\n",
              "    <tr>\n",
              "      <th>dfr</th>\n",
              "      <td>-0.002275</td>\n",
              "      <td>0.002199</td>\n",
              "    </tr>\n",
              "    <tr>\n",
              "      <th>lty_FD</th>\n",
              "      <td>2.373103</td>\n",
              "      <td>0.091368</td>\n",
              "    </tr>\n",
              "  </tbody>\n",
              "</table>\n",
              "</div>"
            ],
            "text/plain": [
              "            mean       std\n",
              "ntis    0.005909  0.003109\n",
              "d/y     0.001012  0.003146\n",
              "e/p    -0.000903  0.004213\n",
              "d/e    -0.002713  0.004224\n",
              "tms    -0.008117  0.003805\n",
              "dfr    -0.002275  0.002199\n",
              "lty_FD  2.373103  0.091368"
            ]
          },
          "execution_count": 29,
          "metadata": {},
          "output_type": "execute_result"
        }
      ],
      "source": [
        "mda_imps_2 = mda_imps.drop(['dfy', 'corpr', 'b/m_FD', 'infl', 'tbl_FD','svar','ltr','d/p'])\n",
        "mda_imps_2"
      ]
    },
    {
      "cell_type": "code",
      "execution_count": 30,
      "metadata": {
        "colab": {
          "base_uri": "https://localhost:8080/",
          "height": 269
        },
        "id": "XboLiA8s1C4V",
        "outputId": "f8e88e5b-e412-4fb6-8fa5-48896b4f172e"
      },
      "outputs": [
        {
          "data": {
            "text/html": [
              "<div>\n",
              "<style scoped>\n",
              "    .dataframe tbody tr th:only-of-type {\n",
              "        vertical-align: middle;\n",
              "    }\n",
              "\n",
              "    .dataframe tbody tr th {\n",
              "        vertical-align: top;\n",
              "    }\n",
              "\n",
              "    .dataframe thead th {\n",
              "        text-align: right;\n",
              "    }\n",
              "</style>\n",
              "<table border=\"1\" class=\"dataframe\">\n",
              "  <thead>\n",
              "    <tr style=\"text-align: right;\">\n",
              "      <th></th>\n",
              "      <th>mean</th>\n",
              "      <th>std</th>\n",
              "    </tr>\n",
              "  </thead>\n",
              "  <tbody>\n",
              "    <tr>\n",
              "      <th>ntis</th>\n",
              "      <td>0.002497</td>\n",
              "      <td>0.027747</td>\n",
              "    </tr>\n",
              "    <tr>\n",
              "      <th>d/y</th>\n",
              "      <td>0.000428</td>\n",
              "      <td>0.028077</td>\n",
              "    </tr>\n",
              "    <tr>\n",
              "      <th>e/p</th>\n",
              "      <td>-0.000381</td>\n",
              "      <td>0.037592</td>\n",
              "    </tr>\n",
              "    <tr>\n",
              "      <th>d/e</th>\n",
              "      <td>-0.001147</td>\n",
              "      <td>0.037692</td>\n",
              "    </tr>\n",
              "    <tr>\n",
              "      <th>tms</th>\n",
              "      <td>-0.003431</td>\n",
              "      <td>0.033956</td>\n",
              "    </tr>\n",
              "    <tr>\n",
              "      <th>dfr</th>\n",
              "      <td>-0.000961</td>\n",
              "      <td>0.019619</td>\n",
              "    </tr>\n",
              "    <tr>\n",
              "      <th>lty_FD</th>\n",
              "      <td>1.002995</td>\n",
              "      <td>0.815317</td>\n",
              "    </tr>\n",
              "  </tbody>\n",
              "</table>\n",
              "</div>"
            ],
            "text/plain": [
              "            mean       std\n",
              "ntis    0.002497  0.027747\n",
              "d/y     0.000428  0.028077\n",
              "e/p    -0.000381  0.037592\n",
              "d/e    -0.001147  0.037692\n",
              "tms    -0.003431  0.033956\n",
              "dfr    -0.000961  0.019619\n",
              "lty_FD  1.002995  0.815317"
            ]
          },
          "execution_count": 30,
          "metadata": {},
          "output_type": "execute_result"
        }
      ],
      "source": [
        "mda_imps_2=mda_imps_2/mda_imps_2.sum()\n",
        "mda_imps_2"
      ]
    },
    {
      "cell_type": "markdown",
      "metadata": {
        "id": "2hAscvxaVaPF"
      },
      "source": [
        "**2.\tIf you obtain a different FI score for a feature in each cross validation subset, how is the overall FI score computed? (1 pt)**"
      ]
    },
    {
      "cell_type": "markdown",
      "metadata": {
        "id": "cCwzn_HoVb-A"
      },
      "source": [
        "**Solution**: The mean value is taken of the different Feat Imp score in each CV subset."
      ]
    },
    {
      "cell_type": "markdown",
      "metadata": {
        "id": "pUES9V8_Vfw_"
      },
      "source": [
        "**3.\tWhat are the top 5 most important features? What are the features with above average FI scores?**"
      ]
    },
    {
      "cell_type": "markdown",
      "metadata": {
        "id": "Vf_KJi-kViZb"
      },
      "source": [
        "**Solution**: We can see that the top 5 imp features are 'lty_FD','Index_FD','corp','ltr','E12_FD'"
      ]
    },
    {
      "cell_type": "code",
      "execution_count": 31,
      "metadata": {
        "colab": {
          "base_uri": "https://localhost:8080/",
          "height": 451
        },
        "id": "IEovzraP1GZr",
        "outputId": "cfe5a1c0-8e10-4780-d96c-981d1a72bc00"
      },
      "outputs": [
        {
          "name": "stdout",
          "output_type": "stream",
          "text": [
            "importance cutoff= 0.14285714285714285\n"
          ]
        },
        {
          "data": {
            "image/png": "[encoded data removed]",
            "text/plain": [
              "<Figure size 960x480 with 1 Axes>"
            ]
          },
          "metadata": {},
          "output_type": "display_data"
        }
      ],
      "source": [
        "m_imps_2=mda_imps_2.reset_index().rename(index=int,columns={\"index\":\"Feature\",'mean':'Importance'}, inplace=False).set_index('Feature')\n",
        "m_imps_2=m_imps_2.sort_values(by='Importance')\n",
        "plot_importances(m_imps_2,scalefig=(1.5,1.0), show_cutoff=True)"
      ]
    },
    {
      "cell_type": "markdown",
      "metadata": {
        "id": "g_9MHKcDVxO2"
      },
      "source": [
        "**4.\tIf you use only those above-average features as input, and retrain a RF as in Module 4 assignment to predict the same labels, does any of the performance metrics improve?**"
      ]
    },
    {
      "cell_type": "code",
      "execution_count": 32,
      "metadata": {
        "id": "gK0GsYhw1L0C"
      },
      "outputs": [],
      "source": [
        "X_processed_seed1 = X_train_data[['lty_FD','d/e','tms']]\n",
        "X_processed_seed1.head()\n",
        "X_processed_test_seed1 = X_test_data[['lty_FD','d/e','tms']]"
      ]
    },
    {
      "cell_type": "code",
      "execution_count": 59,
      "metadata": {},
      "outputs": [
        {
          "data": {
            "text/plain": [
              "(88, 3)"
            ]
          },
          "execution_count": 59,
          "metadata": {},
          "output_type": "execute_result"
        }
      ],
      "source": [
        "X_processed_test_seed1.shape"
      ]
    },
    {
      "cell_type": "code",
      "execution_count": 60,
      "metadata": {},
      "outputs": [
        {
          "data": {
            "text/plain": [
              "(175, 15)"
            ]
          },
          "execution_count": 60,
          "metadata": {},
          "output_type": "execute_result"
        }
      ],
      "source": [
        "X_valid_data.shape"
      ]
    },
    {
      "cell_type": "code",
      "execution_count": 63,
      "metadata": {
        "colab": {
          "base_uri": "https://localhost:8080/"
        },
        "id": "OzvyQX5X1Px2",
        "outputId": "0788d2b4-0d7e-476a-a83e-54624771e848"
      },
      "outputs": [
        {
          "name": "stdout",
          "output_type": "stream",
          "text": [
            "The predictive stats on train data with top5 features\n",
            "Accuracy: 1.0\n",
            "F1 SCORE: 1.0\n",
            "AUC score: 1.0\n",
            "***************\n",
            "The predictive stats on test data with top5 features\n",
            "Accuracy: 0.45454545454545453\n",
            "F1 SCORE: 0.4782608695652174\n",
            "AUC score: 0.5136612021857924\n"
          ]
        }
      ],
      "source": [
        "from sklearn.ensemble import RandomForestClassifier\n",
        "#Create a Gaussian Classifier\n",
        "clf=RandomForestClassifier(n_estimators=100)\n",
        "#Train the model using the training sets y_pred=clf.predict(X_test)\n",
        "clf.fit(X_processed_seed1,Y_train_data.astype('int'))\n",
        "y_pred_seed1=clf.predict(X_processed_test_seed1)\n",
        "y_trainpred_seed1 = clf.predict(X_processed_seed1)\n",
        "#Import scikit-learn metrics module for accuracy calculation\n",
        "from sklearn import metrics\n",
        "# Model Accuracy, how often is the classifier correct?\n",
        "print('The predictive stats on train data with top5 features')\n",
        "print(\"Accuracy:\",metrics.accuracy_score(Y_train_data.astype('int'), y_trainpred_seed1))\n",
        "print(\"F1 SCORE:\",metrics.f1_score(Y_train_data.astype('int'),y_trainpred_seed1))\n",
        "print(\"AUC score:\",metrics.roc_auc_score(Y_train_data.astype('int'),y_trainpred_seed1))\n",
        "print(\"*\"*15)\n",
        "print('The predictive stats on test data with top5 features')\n",
        "# Model Accuracy, how often is the classifier correct?\n",
        "print(\"Accuracy:\",metrics.accuracy_score(Y_test_data.astype('int'), y_pred_seed1))\n",
        "print(\"F1 SCORE:\",metrics.f1_score(Y_test_data.astype('int'),y_pred_seed1))\n",
        "print(\"AUC score:\",metrics.roc_auc_score(Y_test_data.astype('int'),y_pred_seed1))"
      ]
    },
    {
      "cell_type": "code",
      "execution_count": 61,
      "metadata": {},
      "outputs": [
        {
          "data": {
            "text/plain": [
              "(175, 1)"
            ]
          },
          "execution_count": 61,
          "metadata": {},
          "output_type": "execute_result"
        }
      ],
      "source": [
        "Y_valid_data.shape"
      ]
    },
    {
      "cell_type": "code",
      "execution_count": 64,
      "metadata": {},
      "outputs": [],
      "source": [
        "seed1export_train = X_processed_seed1.merge(Y_train_data, left_index=True, right_index=True)\n",
        "seed1export_test = X_processed_test_seed1.merge(Y_test_data, left_index=True, right_index=True)\n",
        "seed1export_valid = X_valid_data.merge(Y_valid_data, left_index=True, right_index=True)\n",
        "\n",
        "\n",
        "seed1export_train['predicted'] = y_trainpred_seed1\n",
        "seed1export_test['predicted'] = y_pred_seed1\n",
        "seed1export_valid['predicted'] = clf.predict(X_valid_data[['lty_FD','d/e','tms']])\n",
        "\n",
        "seed1export = pd.concat([seed1export_train, seed1export_test, seed1export_valid],axis=0)\n",
        "\n",
        "seed1export.to_csv('seed1export.csv')"
      ]
    },
    {
      "cell_type": "code",
      "execution_count": 58,
      "metadata": {},
      "outputs": [],
      "source": [
        "seed2export = X_processed_seed2.merge(Y_train_data, left_index=True, right_index=True)\n",
        "\n",
        "seed2export['predicted'] = y_trainpred_seed2\n",
        "\n",
        "seed2export.to_csv('seed2export.csv')"
      ]
    },
    {
      "cell_type": "code",
      "execution_count": 57,
      "metadata": {},
      "outputs": [],
      "source": []
    },
    {
      "cell_type": "code",
      "execution_count": 35,
      "metadata": {
        "id": "zc7Jvzub1ah5"
      },
      "outputs": [],
      "source": [
        "import pickle\n",
        "filename = './top5featRF-seed1.sav'\n",
        "pickle.dump(clf, open(filename, 'wb'))"
      ]
    },
    {
      "cell_type": "markdown",
      "metadata": {
        "id": "3sRe_ATjV43L"
      },
      "source": [
        "**Solution**:\n",
        "Since there are only 14 features in the whole dataset we could argue feature selection wouldn;t really matter when the number of features are quite less as stated in the paper \"The best way to select features? Comparing MDA, LIME and SHAP\" - Ernst Chan and Xin Man where we can see Boston House Data model performance doesnt improve much since the given feature set itself is small (only 13 features.) The improved Stats are a bit change in Accuracy and a good improved in F1 score. The F1 score has improved though which could shows there are low false positives and low false negatives, so we are able to correctly identifying the profitable strategies which we were incorrectly leaving out in our Model(which wasnt optimized) and also able to reduce the chances of selecting the loss making strategies which were taken by our earlier model.\n"
      ]
    },
    {
      "cell_type": "markdown",
      "metadata": {
        "id": "hGvv3gyaV7at"
      },
      "source": [
        "**5. Now set the random seed to 2, and re-compute part 3. Are they different? (Hint: see Man, Xin and Chan, Ernest. 2020. “The best way to select features?“. The Journal of\n",
        "Financial Data Science, Vol 3, Issue 1, 2021.)**"
      ]
    },
    {
      "cell_type": "markdown",
      "metadata": {
        "id": "qwPc_9pRWBL-"
      },
      "source": [
        "**Solution**:\n",
        "\n",
        "We can see as stated in the paper \"Man, Xin and Chan, Ernest. 2020. “The best way to select features?“. The Journal of Financial Data Science, Vol 3, Issue 1, 2021.\" The feature importance score changes with a different seed.\n"
      ]
    },
    {
      "cell_type": "code",
      "execution_count": 65,
      "metadata": {
        "id": "Rc3iIB_M1fs-"
      },
      "outputs": [],
      "source": [
        "np.random.seed(2)"
      ]
    },
    {
      "cell_type": "code",
      "execution_count": 66,
      "metadata": {
        "id": "O01taIlc1mJG"
      },
      "outputs": [],
      "source": [
        "X_train_data_2, X_valid_data_2, X_test_data_2=train_valid_test_split(X_data_2, trainFrac, validFrac)\n",
        "Y_train_data_2, Y_valid_data_2, Y_test_data_2=train_valid_test_split(y_data_2, trainFrac, validFrac)"
      ]
    },
    {
      "cell_type": "code",
      "execution_count": 67,
      "metadata": {
        "colab": {
          "base_uri": "https://localhost:8080/"
        },
        "id": "HGvEujAv1pvo",
        "outputId": "cfaca657-5396-43f0-b2a0-9302cc045754"
      },
      "outputs": [
        {
          "name": "stdout",
          "output_type": "stream",
          "text": [
            "start MDA 2024-02-11 11:40:05.229040\n",
            " Split 1\n"
          ]
        },
        {
          "name": "stdout",
          "output_type": "stream",
          "text": [
            " Split 2\n",
            " Split 3\n",
            " Split 4\n",
            " Split 5\n",
            " Split 6\n",
            " Split 7\n",
            " Split 8\n",
            " Split 9\n",
            " Split 10\n",
            "end MDA 2024-02-11 11:41:16.472732\n"
          ]
        }
      ],
      "source": [
        "clf=DecisionTreeClassifier(criterion='entropy',max_features=1,class_weight='balanced',min_weight_fraction_leaf=0,random_state=2)\n",
        "clf=BaggingClassifier(estimator=clf,n_estimators=1000,max_features=1,max_samples=1.,oob_score=True,n_jobs=-1,random_state=2)\n",
        "mda_imps_seed2=featImpMDA_classify(clf,X_train_data_2,Y_train_data_2,cv=10, scoring='neg_log_loss')\n"
      ]
    },
    {
      "cell_type": "code",
      "execution_count": 68,
      "metadata": {
        "colab": {
          "base_uri": "https://localhost:8080/",
          "height": 434
        },
        "id": "ZCp03TF41yBs",
        "outputId": "77aa1530-b2af-429f-de55-ce9fc0ca56d9"
      },
      "outputs": [
        {
          "data": {
            "image/png": "[encoded data removed]",
            "text/plain": [
              "<Figure size 960x480 with 1 Axes>"
            ]
          },
          "metadata": {},
          "output_type": "display_data"
        }
      ],
      "source": [
        "m_imps_seed2=mda_imps_seed2.reset_index().rename(index=int,columns={\"index\":\"Feature\",'mean':'Importance'}, inplace=False).set_index('Feature')\n",
        "m_imps_seed2=m_imps_seed2.sort_values(by='Importance')\n",
        "plot_importances(m_imps_seed2,scalefig=(1.5,1.0))"
      ]
    },
    {
      "cell_type": "code",
      "execution_count": 69,
      "metadata": {
        "colab": {
          "base_uri": "https://localhost:8080/",
          "height": 551
        },
        "id": "xArasTmG16HY",
        "outputId": "d8377a7c-2b72-4841-b33b-41ad7045003b"
      },
      "outputs": [
        {
          "data": {
            "text/html": [
              "<div>\n",
              "<style scoped>\n",
              "    .dataframe tbody tr th:only-of-type {\n",
              "        vertical-align: middle;\n",
              "    }\n",
              "\n",
              "    .dataframe tbody tr th {\n",
              "        vertical-align: top;\n",
              "    }\n",
              "\n",
              "    .dataframe thead th {\n",
              "        text-align: right;\n",
              "    }\n",
              "</style>\n",
              "<table border=\"1\" class=\"dataframe\">\n",
              "  <thead>\n",
              "    <tr style=\"text-align: right;\">\n",
              "      <th></th>\n",
              "      <th>Importance</th>\n",
              "      <th>std</th>\n",
              "    </tr>\n",
              "    <tr>\n",
              "      <th>Feature</th>\n",
              "      <th></th>\n",
              "      <th></th>\n",
              "    </tr>\n",
              "  </thead>\n",
              "  <tbody>\n",
              "    <tr>\n",
              "      <th>svar</th>\n",
              "      <td>-0.005116</td>\n",
              "      <td>0.002606</td>\n",
              "    </tr>\n",
              "    <tr>\n",
              "      <th>d/e</th>\n",
              "      <td>-0.004101</td>\n",
              "      <td>0.004025</td>\n",
              "    </tr>\n",
              "    <tr>\n",
              "      <th>tms</th>\n",
              "      <td>-0.003185</td>\n",
              "      <td>0.002537</td>\n",
              "    </tr>\n",
              "    <tr>\n",
              "      <th>d/p</th>\n",
              "      <td>-0.002998</td>\n",
              "      <td>0.004217</td>\n",
              "    </tr>\n",
              "    <tr>\n",
              "      <th>dfy</th>\n",
              "      <td>-0.002021</td>\n",
              "      <td>0.003488</td>\n",
              "    </tr>\n",
              "    <tr>\n",
              "      <th>b/m_FD</th>\n",
              "      <td>-0.001162</td>\n",
              "      <td>0.004683</td>\n",
              "    </tr>\n",
              "    <tr>\n",
              "      <th>dfr</th>\n",
              "      <td>-0.001075</td>\n",
              "      <td>0.004273</td>\n",
              "    </tr>\n",
              "    <tr>\n",
              "      <th>e/p</th>\n",
              "      <td>0.000832</td>\n",
              "      <td>0.004516</td>\n",
              "    </tr>\n",
              "    <tr>\n",
              "      <th>corpr</th>\n",
              "      <td>0.001025</td>\n",
              "      <td>0.002479</td>\n",
              "    </tr>\n",
              "    <tr>\n",
              "      <th>tbl_FD</th>\n",
              "      <td>0.001866</td>\n",
              "      <td>0.004655</td>\n",
              "    </tr>\n",
              "    <tr>\n",
              "      <th>ltr</th>\n",
              "      <td>0.002156</td>\n",
              "      <td>0.003177</td>\n",
              "    </tr>\n",
              "    <tr>\n",
              "      <th>infl</th>\n",
              "      <td>0.002395</td>\n",
              "      <td>0.005278</td>\n",
              "    </tr>\n",
              "    <tr>\n",
              "      <th>d/y</th>\n",
              "      <td>0.004548</td>\n",
              "      <td>0.00312</td>\n",
              "    </tr>\n",
              "    <tr>\n",
              "      <th>ntis</th>\n",
              "      <td>0.005992</td>\n",
              "      <td>0.00294</td>\n",
              "    </tr>\n",
              "    <tr>\n",
              "      <th>lty_FD</th>\n",
              "      <td>2.516034</td>\n",
              "      <td>0.118358</td>\n",
              "    </tr>\n",
              "  </tbody>\n",
              "</table>\n",
              "</div>"
            ],
            "text/plain": [
              "        Importance       std\n",
              "Feature                     \n",
              "svar     -0.005116  0.002606\n",
              "d/e      -0.004101  0.004025\n",
              "tms      -0.003185  0.002537\n",
              "d/p      -0.002998  0.004217\n",
              "dfy      -0.002021  0.003488\n",
              "b/m_FD   -0.001162  0.004683\n",
              "dfr      -0.001075  0.004273\n",
              "e/p       0.000832  0.004516\n",
              "corpr     0.001025  0.002479\n",
              "tbl_FD    0.001866  0.004655\n",
              "ltr       0.002156  0.003177\n",
              "infl      0.002395  0.005278\n",
              "d/y       0.004548   0.00312\n",
              "ntis      0.005992   0.00294\n",
              "lty_FD    2.516034  0.118358"
            ]
          },
          "execution_count": 69,
          "metadata": {},
          "output_type": "execute_result"
        }
      ],
      "source": [
        "m_imps_seed2"
      ]
    },
    {
      "cell_type": "code",
      "execution_count": 70,
      "metadata": {
        "colab": {
          "base_uri": "https://localhost:8080/",
          "height": 300
        },
        "id": "FO5Cyl9c187-",
        "outputId": "8ca00dc9-359f-4396-861e-c119969c57ad"
      },
      "outputs": [
        {
          "data": {
            "text/html": [
              "<div>\n",
              "<style scoped>\n",
              "    .dataframe tbody tr th:only-of-type {\n",
              "        vertical-align: middle;\n",
              "    }\n",
              "\n",
              "    .dataframe tbody tr th {\n",
              "        vertical-align: top;\n",
              "    }\n",
              "\n",
              "    .dataframe thead th {\n",
              "        text-align: right;\n",
              "    }\n",
              "</style>\n",
              "<table border=\"1\" class=\"dataframe\">\n",
              "  <thead>\n",
              "    <tr style=\"text-align: right;\">\n",
              "      <th></th>\n",
              "      <th>mean</th>\n",
              "      <th>std</th>\n",
              "    </tr>\n",
              "  </thead>\n",
              "  <tbody>\n",
              "    <tr>\n",
              "      <th>ntis</th>\n",
              "      <td>0.005992</td>\n",
              "      <td>0.00294</td>\n",
              "    </tr>\n",
              "    <tr>\n",
              "      <th>infl</th>\n",
              "      <td>0.002395</td>\n",
              "      <td>0.005278</td>\n",
              "    </tr>\n",
              "    <tr>\n",
              "      <th>d/y</th>\n",
              "      <td>0.004548</td>\n",
              "      <td>0.00312</td>\n",
              "    </tr>\n",
              "    <tr>\n",
              "      <th>e/p</th>\n",
              "      <td>0.000832</td>\n",
              "      <td>0.004516</td>\n",
              "    </tr>\n",
              "    <tr>\n",
              "      <th>d/e</th>\n",
              "      <td>-0.004101</td>\n",
              "      <td>0.004025</td>\n",
              "    </tr>\n",
              "    <tr>\n",
              "      <th>dfr</th>\n",
              "      <td>-0.001075</td>\n",
              "      <td>0.004273</td>\n",
              "    </tr>\n",
              "    <tr>\n",
              "      <th>tbl_FD</th>\n",
              "      <td>0.001866</td>\n",
              "      <td>0.004655</td>\n",
              "    </tr>\n",
              "    <tr>\n",
              "      <th>lty_FD</th>\n",
              "      <td>2.516034</td>\n",
              "      <td>0.118358</td>\n",
              "    </tr>\n",
              "  </tbody>\n",
              "</table>\n",
              "</div>"
            ],
            "text/plain": [
              "            mean       std\n",
              "ntis    0.005992   0.00294\n",
              "infl    0.002395  0.005278\n",
              "d/y     0.004548   0.00312\n",
              "e/p     0.000832  0.004516\n",
              "d/e    -0.004101  0.004025\n",
              "dfr    -0.001075  0.004273\n",
              "tbl_FD  0.001866  0.004655\n",
              "lty_FD  2.516034  0.118358"
            ]
          },
          "execution_count": 70,
          "metadata": {},
          "output_type": "execute_result"
        }
      ],
      "source": [
        "mda_imps_seed2 = mda_imps_seed2.drop(['svar','corpr','d/p','ltr','b/m_FD','dfy','tms'])\n",
        "mda_imps_seed2"
      ]
    },
    {
      "cell_type": "code",
      "execution_count": 71,
      "metadata": {
        "colab": {
          "base_uri": "https://localhost:8080/",
          "height": 300
        },
        "id": "1yqLBuo21-7-",
        "outputId": "bd02843a-db5c-4bcf-9f65-a5835fe8c211"
      },
      "outputs": [
        {
          "data": {
            "text/html": [
              "<div>\n",
              "<style scoped>\n",
              "    .dataframe tbody tr th:only-of-type {\n",
              "        vertical-align: middle;\n",
              "    }\n",
              "\n",
              "    .dataframe tbody tr th {\n",
              "        vertical-align: top;\n",
              "    }\n",
              "\n",
              "    .dataframe thead th {\n",
              "        text-align: right;\n",
              "    }\n",
              "</style>\n",
              "<table border=\"1\" class=\"dataframe\">\n",
              "  <thead>\n",
              "    <tr style=\"text-align: right;\">\n",
              "      <th></th>\n",
              "      <th>mean</th>\n",
              "      <th>std</th>\n",
              "    </tr>\n",
              "  </thead>\n",
              "  <tbody>\n",
              "    <tr>\n",
              "      <th>ntis</th>\n",
              "      <td>0.002371</td>\n",
              "      <td>0.019976</td>\n",
              "    </tr>\n",
              "    <tr>\n",
              "      <th>infl</th>\n",
              "      <td>0.000948</td>\n",
              "      <td>0.035865</td>\n",
              "    </tr>\n",
              "    <tr>\n",
              "      <th>d/y</th>\n",
              "      <td>0.0018</td>\n",
              "      <td>0.021203</td>\n",
              "    </tr>\n",
              "    <tr>\n",
              "      <th>e/p</th>\n",
              "      <td>0.000329</td>\n",
              "      <td>0.030687</td>\n",
              "    </tr>\n",
              "    <tr>\n",
              "      <th>d/e</th>\n",
              "      <td>-0.001623</td>\n",
              "      <td>0.027353</td>\n",
              "    </tr>\n",
              "    <tr>\n",
              "      <th>dfr</th>\n",
              "      <td>-0.000426</td>\n",
              "      <td>0.029038</td>\n",
              "    </tr>\n",
              "    <tr>\n",
              "      <th>tbl_FD</th>\n",
              "      <td>0.000739</td>\n",
              "      <td>0.031631</td>\n",
              "    </tr>\n",
              "    <tr>\n",
              "      <th>lty_FD</th>\n",
              "      <td>0.995861</td>\n",
              "      <td>0.804247</td>\n",
              "    </tr>\n",
              "  </tbody>\n",
              "</table>\n",
              "</div>"
            ],
            "text/plain": [
              "            mean       std\n",
              "ntis    0.002371  0.019976\n",
              "infl    0.000948  0.035865\n",
              "d/y       0.0018  0.021203\n",
              "e/p     0.000329  0.030687\n",
              "d/e    -0.001623  0.027353\n",
              "dfr    -0.000426  0.029038\n",
              "tbl_FD  0.000739  0.031631\n",
              "lty_FD  0.995861  0.804247"
            ]
          },
          "execution_count": 71,
          "metadata": {},
          "output_type": "execute_result"
        }
      ],
      "source": [
        "mda_imps_seed2=mda_imps_seed2/mda_imps_seed2.sum()\n",
        "mda_imps_seed2"
      ]
    },
    {
      "cell_type": "markdown",
      "metadata": {
        "id": "_1b9IucQWJzj"
      },
      "source": [
        "**6. Retrain your RF model using the above-average features obtained in part 5). Does any of the performance metrics improve over the Module 4 results? How do these metrics compared to those in part 4 above?**"
      ]
    },
    {
      "cell_type": "code",
      "execution_count": 72,
      "metadata": {
        "colab": {
          "base_uri": "https://localhost:8080/",
          "height": 451
        },
        "id": "onUOQd3x2BcU",
        "outputId": "58e6edaa-069f-48e1-96a5-36368360cc05"
      },
      "outputs": [
        {
          "name": "stdout",
          "output_type": "stream",
          "text": [
            "importance cutoff= 0.125\n"
          ]
        },
        {
          "data": {
            "image/png": "[encoded data removed]",
            "text/plain": [
              "<Figure size 960x480 with 1 Axes>"
            ]
          },
          "metadata": {},
          "output_type": "display_data"
        }
      ],
      "source": [
        "m_imps_seed2=mda_imps_seed2.reset_index().rename(index=int,columns={\"index\":\"Feature\",'mean':'Importance'}, inplace=False).set_index('Feature')\n",
        "m_imps_seed2=m_imps_seed2.sort_values(by='Importance')\n",
        "plot_importances(m_imps_seed2,scalefig=(1.5,1.0), show_cutoff=True)\n"
      ]
    },
    {
      "cell_type": "code",
      "execution_count": 78,
      "metadata": {
        "id": "njWUafK62DYB"
      },
      "outputs": [],
      "source": [
        "X_processed_seed2 = X_train_data_2[['e/p','d/e','infl']]\n",
        "X_processed_seed2.head()\n",
        "X_processed_test_seed2 = X_test_data_2[['e/p','d/e','infl']]"
      ]
    },
    {
      "cell_type": "code",
      "execution_count": 79,
      "metadata": {
        "colab": {
          "base_uri": "https://localhost:8080/"
        },
        "id": "4xAMB5gC2GZT",
        "outputId": "1f68beb4-2ff9-4bcb-9be3-226f69c0c24f"
      },
      "outputs": [
        {
          "name": "stdout",
          "output_type": "stream",
          "text": [
            "The predictive stats on train data with top5 features\n",
            "Accuracy: 1.0\n",
            "F1 SCORE: 1.0\n",
            "AUC score: 1.0\n",
            "***************\n",
            "The predictive stats on test data with top5 features\n",
            "Accuracy: 0.5340909090909091\n",
            "F1 SCORE: 0.6306306306306306\n",
            "AUC score: 0.5091074681238615\n"
          ]
        }
      ],
      "source": [
        "from sklearn.model_selection import train_test_split\n",
        "# Split dataset into training set and test set\n",
        "# X_train, X_test, y_train, y_test = train_test_split(X_processed, y_train2, test_size=0.3) # 70% training and 30% test\n",
        "#Import Random Forest Model\n",
        "from sklearn.ensemble import RandomForestClassifier\n",
        "#Create a Gaussian Classifier\n",
        "clf=RandomForestClassifier(n_estimators=100)\n",
        "#Train the model using the training sets y_pred=clf.predict(X_test)\n",
        "clf.fit(X_processed_seed2,Y_train_data_2.astype('int'))\n",
        "y_trainpred_seed2 = clf.predict(X_processed_seed2)\n",
        "y_pred_seed2=clf.predict(X_processed_test_seed2)\n",
        "#Import scikit-learn metrics module for accuracy calculation\n",
        "from sklearn import metrics\n",
        "# Model Accuracy, how often is the classifier correct?\n",
        "print('The predictive stats on train data with top5 features')\n",
        "print(\"Accuracy:\",metrics.accuracy_score(Y_train_data_2.astype('int'), y_trainpred_seed2))\n",
        "print(\"F1 SCORE:\",metrics.f1_score(Y_train_data_2.astype('int'),y_trainpred_seed2))\n",
        "print(\"AUC score:\",metrics.roc_auc_score(Y_train_data_2.astype('int'),y_trainpred_seed2))\n",
        "print(\"*\"*15)\n",
        "print('The predictive stats on test data with top5 features')\n",
        "# Model Accuracy, how often is the classifier correct?\n",
        "print(\"Accuracy:\",metrics.accuracy_score(Y_test_data_2.astype('int'), y_pred_seed2))\n",
        "print(\"F1 SCORE:\",metrics.f1_score(Y_test_data_2.astype('int'),y_pred_seed2))\n",
        "print(\"AUC score:\",metrics.roc_auc_score(Y_test_data_2.astype('int'),y_pred_seed2))"
      ]
    },
    {
      "cell_type": "markdown",
      "metadata": {
        "id": "zDN3DdZdWOO4"
      },
      "source": [
        "**Solution**: Compared to the part 4 the performance doesnt show any significant change and shows no improvemnt and the model Performance in Module 4 is still better for which we can think about the less number of feature set available which wont increase much of the performance as seen in the Boston Dataset from the paper \"The best way to select features? Comparing MDA, LIME and SHAP\" - Ernst Chan and Xin Man Also with the training dataset we are still massively overfitting the dataset which we need to apply some cross validation"
      ]
    },
    {
      "cell_type": "code",
      "execution_count": 80,
      "metadata": {},
      "outputs": [],
      "source": [
        "seed2export_train = X_processed_seed2.merge(Y_train_data_2, left_index=True, right_index=True)\n",
        "seed2export_test = X_processed_test_seed2.merge(Y_test_data_2, left_index=True, right_index=True)\n",
        "seed2export_valid = X_valid_data.merge(Y_valid_data_2, left_index=True, right_index=True)\n",
        "\n",
        "\n",
        "seed2export_train['predicted'] = y_trainpred_seed2\n",
        "seed2export_test['predicted'] = y_pred_seed2\n",
        "seed2export_valid['predicted'] = clf.predict(X_valid_data[['e/p','d/e','infl']])\n",
        "\n",
        "seed2export = pd.concat([seed2export_train, seed2export_test, seed2export_valid],axis=0)\n",
        "\n",
        "seed2export.to_csv('seed2export.csv')"
      ]
    },
    {
      "cell_type": "code",
      "execution_count": 84,
      "metadata": {},
      "outputs": [
        {
          "data": {
            "text/html": [
              "<div>\n",
              "<style scoped>\n",
              "    .dataframe tbody tr th:only-of-type {\n",
              "        vertical-align: middle;\n",
              "    }\n",
              "\n",
              "    .dataframe tbody tr th {\n",
              "        vertical-align: top;\n",
              "    }\n",
              "\n",
              "    .dataframe thead th {\n",
              "        text-align: right;\n",
              "    }\n",
              "</style>\n",
              "<table border=\"1\" class=\"dataframe\">\n",
              "  <thead>\n",
              "    <tr style=\"text-align: right;\">\n",
              "      <th></th>\n",
              "      <th>ntis</th>\n",
              "      <th>infl</th>\n",
              "      <th>ltr</th>\n",
              "      <th>corpr</th>\n",
              "      <th>svar</th>\n",
              "      <th>d/p</th>\n",
              "      <th>d/y</th>\n",
              "      <th>e/p</th>\n",
              "      <th>d/e</th>\n",
              "      <th>tms</th>\n",
              "      <th>dfy</th>\n",
              "      <th>dfr</th>\n",
              "      <th>b/m_FD</th>\n",
              "      <th>tbl_FD</th>\n",
              "      <th>lty_FD</th>\n",
              "    </tr>\n",
              "    <tr>\n",
              "      <th>yyyymm</th>\n",
              "      <th></th>\n",
              "      <th></th>\n",
              "      <th></th>\n",
              "      <th></th>\n",
              "      <th></th>\n",
              "      <th></th>\n",
              "      <th></th>\n",
              "      <th></th>\n",
              "      <th></th>\n",
              "      <th></th>\n",
              "      <th></th>\n",
              "      <th></th>\n",
              "      <th></th>\n",
              "      <th></th>\n",
              "      <th></th>\n",
              "    </tr>\n",
              "  </thead>\n",
              "  <tbody>\n",
              "    <tr>\n",
              "      <th>1997-02-01</th>\n",
              "      <td>0.022885</td>\n",
              "      <td>0.003143</td>\n",
              "      <td>0.0005</td>\n",
              "      <td>0.0028</td>\n",
              "      <td>0.001475</td>\n",
              "      <td>-3.964642</td>\n",
              "      <td>-3.921094</td>\n",
              "      <td>-2.990796</td>\n",
              "      <td>-0.973846</td>\n",
              "      <td>0.0191</td>\n",
              "      <td>0.0063</td>\n",
              "      <td>0.0023</td>\n",
              "      <td>-0.650774</td>\n",
              "      <td>-1.603111</td>\n",
              "      <td>-0.982829</td>\n",
              "    </tr>\n",
              "    <tr>\n",
              "      <th>1997-03-01</th>\n",
              "      <td>0.021120</td>\n",
              "      <td>0.002506</td>\n",
              "      <td>-0.0252</td>\n",
              "      <td>-0.0221</td>\n",
              "      <td>0.002001</td>\n",
              "      <td>-3.917546</td>\n",
              "      <td>-3.974310</td>\n",
              "      <td>-2.934660</td>\n",
              "      <td>-0.982886</td>\n",
              "      <td>0.0222</td>\n",
              "      <td>0.0063</td>\n",
              "      <td>0.0031</td>\n",
              "      <td>-0.538060</td>\n",
              "      <td>-1.610061</td>\n",
              "      <td>-0.946224</td>\n",
              "    </tr>\n",
              "    <tr>\n",
              "      <th>1997-04-01</th>\n",
              "      <td>0.016916</td>\n",
              "      <td>0.001250</td>\n",
              "      <td>0.0255</td>\n",
              "      <td>0.0184</td>\n",
              "      <td>0.003005</td>\n",
              "      <td>-3.972054</td>\n",
              "      <td>-4.028980</td>\n",
              "      <td>-2.988859</td>\n",
              "      <td>-0.983195</td>\n",
              "      <td>0.0191</td>\n",
              "      <td>0.0061</td>\n",
              "      <td>-0.0071</td>\n",
              "      <td>-0.622905</td>\n",
              "      <td>-1.584506</td>\n",
              "      <td>-0.985164</td>\n",
              "    </tr>\n",
              "    <tr>\n",
              "      <th>1997-05-01</th>\n",
              "      <td>0.013265</td>\n",
              "      <td>-0.000624</td>\n",
              "      <td>0.0097</td>\n",
              "      <td>0.0128</td>\n",
              "      <td>0.002007</td>\n",
              "      <td>-4.026730</td>\n",
              "      <td>-4.069265</td>\n",
              "      <td>-3.043227</td>\n",
              "      <td>-0.983503</td>\n",
              "      <td>0.0185</td>\n",
              "      <td>0.0062</td>\n",
              "      <td>0.0031</td>\n",
              "      <td>-0.654076</td>\n",
              "      <td>-1.585723</td>\n",
              "      <td>-0.988148</td>\n",
              "    </tr>\n",
              "    <tr>\n",
              "      <th>1997-06-01</th>\n",
              "      <td>0.010847</td>\n",
              "      <td>0.001249</td>\n",
              "      <td>0.0195</td>\n",
              "      <td>0.0187</td>\n",
              "      <td>0.001974</td>\n",
              "      <td>-4.067019</td>\n",
              "      <td>-4.142241</td>\n",
              "      <td>-3.083210</td>\n",
              "      <td>-0.983809</td>\n",
              "      <td>0.0183</td>\n",
              "      <td>0.0061</td>\n",
              "      <td>-0.0008</td>\n",
              "      <td>-0.681309</td>\n",
              "      <td>-1.609926</td>\n",
              "      <td>-1.005384</td>\n",
              "    </tr>\n",
              "    <tr>\n",
              "      <th>...</th>\n",
              "      <td>...</td>\n",
              "      <td>...</td>\n",
              "      <td>...</td>\n",
              "      <td>...</td>\n",
              "      <td>...</td>\n",
              "      <td>...</td>\n",
              "      <td>...</td>\n",
              "      <td>...</td>\n",
              "      <td>...</td>\n",
              "      <td>...</td>\n",
              "      <td>...</td>\n",
              "      <td>...</td>\n",
              "      <td>...</td>\n",
              "      <td>...</td>\n",
              "      <td>...</td>\n",
              "    </tr>\n",
              "    <tr>\n",
              "      <th>2011-04-01</th>\n",
              "      <td>0.009363</td>\n",
              "      <td>0.006439</td>\n",
              "      <td>0.0199</td>\n",
              "      <td>0.0239</td>\n",
              "      <td>0.000637</td>\n",
              "      <td>-4.050968</td>\n",
              "      <td>-4.037375</td>\n",
              "      <td>-2.809182</td>\n",
              "      <td>-1.241786</td>\n",
              "      <td>0.0406</td>\n",
              "      <td>0.0086</td>\n",
              "      <td>0.0040</td>\n",
              "      <td>-0.431813</td>\n",
              "      <td>-3.863649</td>\n",
              "      <td>-1.179609</td>\n",
              "    </tr>\n",
              "    <tr>\n",
              "      <th>2011-05-01</th>\n",
              "      <td>0.009095</td>\n",
              "      <td>0.004704</td>\n",
              "      <td>0.0355</td>\n",
              "      <td>0.0257</td>\n",
              "      <td>0.000934</td>\n",
              "      <td>-4.024676</td>\n",
              "      <td>-4.006250</td>\n",
              "      <td>-2.785257</td>\n",
              "      <td>-1.239419</td>\n",
              "      <td>0.0385</td>\n",
              "      <td>0.0082</td>\n",
              "      <td>-0.0098</td>\n",
              "      <td>-0.400141</td>\n",
              "      <td>-4.312172</td>\n",
              "      <td>-1.236667</td>\n",
              "    </tr>\n",
              "    <tr>\n",
              "      <th>2011-06-01</th>\n",
              "      <td>0.011718</td>\n",
              "      <td>-0.001071</td>\n",
              "      <td>-0.0179</td>\n",
              "      <td>-0.0210</td>\n",
              "      <td>0.002295</td>\n",
              "      <td>-3.993710</td>\n",
              "      <td>-3.972001</td>\n",
              "      <td>-2.756604</td>\n",
              "      <td>-1.237106</td>\n",
              "      <td>0.0405</td>\n",
              "      <td>0.0076</td>\n",
              "      <td>-0.0031</td>\n",
              "      <td>-0.387314</td>\n",
              "      <td>-4.591252</td>\n",
              "      <td>-1.173694</td>\n",
              "    </tr>\n",
              "    <tr>\n",
              "      <th>2011-07-01</th>\n",
              "      <td>0.012368</td>\n",
              "      <td>0.000886</td>\n",
              "      <td>0.0422</td>\n",
              "      <td>0.0473</td>\n",
              "      <td>0.001831</td>\n",
              "      <td>-3.960564</td>\n",
              "      <td>-3.902096</td>\n",
              "      <td>-2.722611</td>\n",
              "      <td>-1.237953</td>\n",
              "      <td>0.0374</td>\n",
              "      <td>0.0083</td>\n",
              "      <td>0.0051</td>\n",
              "      <td>-0.367317</td>\n",
              "      <td>-4.452044</td>\n",
              "      <td>-1.260736</td>\n",
              "    </tr>\n",
              "    <tr>\n",
              "      <th>2011-08-01</th>\n",
              "      <td>0.012767</td>\n",
              "      <td>0.002758</td>\n",
              "      <td>0.0862</td>\n",
              "      <td>0.0240</td>\n",
              "      <td>0.019222</td>\n",
              "      <td>-3.890788</td>\n",
              "      <td>-3.816321</td>\n",
              "      <td>-2.652008</td>\n",
              "      <td>-1.238780</td>\n",
              "      <td>0.0311</td>\n",
              "      <td>0.0099</td>\n",
              "      <td>-0.0622</td>\n",
              "      <td>-0.328556</td>\n",
              "      <td>-4.382600</td>\n",
              "      <td>-1.423040</td>\n",
              "    </tr>\n",
              "  </tbody>\n",
              "</table>\n",
              "<p>175 rows × 15 columns</p>\n",
              "</div>"
            ],
            "text/plain": [
              "                ntis      infl     ltr   corpr      svar       d/p       d/y  \\\n",
              "yyyymm                                                                         \n",
              "1997-02-01  0.022885  0.003143  0.0005  0.0028  0.001475 -3.964642 -3.921094   \n",
              "1997-03-01  0.021120  0.002506 -0.0252 -0.0221  0.002001 -3.917546 -3.974310   \n",
              "1997-04-01  0.016916  0.001250  0.0255  0.0184  0.003005 -3.972054 -4.028980   \n",
              "1997-05-01  0.013265 -0.000624  0.0097  0.0128  0.002007 -4.026730 -4.069265   \n",
              "1997-06-01  0.010847  0.001249  0.0195  0.0187  0.001974 -4.067019 -4.142241   \n",
              "...              ...       ...     ...     ...       ...       ...       ...   \n",
              "2011-04-01  0.009363  0.006439  0.0199  0.0239  0.000637 -4.050968 -4.037375   \n",
              "2011-05-01  0.009095  0.004704  0.0355  0.0257  0.000934 -4.024676 -4.006250   \n",
              "2011-06-01  0.011718 -0.001071 -0.0179 -0.0210  0.002295 -3.993710 -3.972001   \n",
              "2011-07-01  0.012368  0.000886  0.0422  0.0473  0.001831 -3.960564 -3.902096   \n",
              "2011-08-01  0.012767  0.002758  0.0862  0.0240  0.019222 -3.890788 -3.816321   \n",
              "\n",
              "                 e/p       d/e     tms     dfy     dfr    b/m_FD    tbl_FD  \\\n",
              "yyyymm                                                                       \n",
              "1997-02-01 -2.990796 -0.973846  0.0191  0.0063  0.0023 -0.650774 -1.603111   \n",
              "1997-03-01 -2.934660 -0.982886  0.0222  0.0063  0.0031 -0.538060 -1.610061   \n",
              "1997-04-01 -2.988859 -0.983195  0.0191  0.0061 -0.0071 -0.622905 -1.584506   \n",
              "1997-05-01 -3.043227 -0.983503  0.0185  0.0062  0.0031 -0.654076 -1.585723   \n",
              "1997-06-01 -3.083210 -0.983809  0.0183  0.0061 -0.0008 -0.681309 -1.609926   \n",
              "...              ...       ...     ...     ...     ...       ...       ...   \n",
              "2011-04-01 -2.809182 -1.241786  0.0406  0.0086  0.0040 -0.431813 -3.863649   \n",
              "2011-05-01 -2.785257 -1.239419  0.0385  0.0082 -0.0098 -0.400141 -4.312172   \n",
              "2011-06-01 -2.756604 -1.237106  0.0405  0.0076 -0.0031 -0.387314 -4.591252   \n",
              "2011-07-01 -2.722611 -1.237953  0.0374  0.0083  0.0051 -0.367317 -4.452044   \n",
              "2011-08-01 -2.652008 -1.238780  0.0311  0.0099 -0.0622 -0.328556 -4.382600   \n",
              "\n",
              "              lty_FD  \n",
              "yyyymm                \n",
              "1997-02-01 -0.982829  \n",
              "1997-03-01 -0.946224  \n",
              "1997-04-01 -0.985164  \n",
              "1997-05-01 -0.988148  \n",
              "1997-06-01 -1.005384  \n",
              "...              ...  \n",
              "2011-04-01 -1.179609  \n",
              "2011-05-01 -1.236667  \n",
              "2011-06-01 -1.173694  \n",
              "2011-07-01 -1.260736  \n",
              "2011-08-01 -1.423040  \n",
              "\n",
              "[175 rows x 15 columns]"
            ]
          },
          "execution_count": 84,
          "metadata": {},
          "output_type": "execute_result"
        }
      ],
      "source": [
        "X_valid_data"
      ]
    },
    {
      "cell_type": "code",
      "execution_count": 81,
      "metadata": {
        "colab": {
          "base_uri": "https://localhost:8080/",
          "height": 74
        },
        "id": "Py9aINVg2KKf",
        "outputId": "9446d35b-181b-4cc4-a4db-832e33d70330"
      },
      "outputs": [
        {
          "data": {
            "text/html": [
              "<style>#sk-container-id-3 {\n",
              "  /* Definition of color scheme common for light and dark mode */\n",
              "  --sklearn-color-text: black;\n",
              "  --sklearn-color-line: gray;\n",
              "  /* Definition of color scheme for unfitted estimators */\n",
              "  --sklearn-color-unfitted-level-0: #fff5e6;\n",
              "  --sklearn-color-unfitted-level-1: #f6e4d2;\n",
              "  --sklearn-color-unfitted-level-2: #ffe0b3;\n",
              "  --sklearn-color-unfitted-level-3: chocolate;\n",
              "  /* Definition of color scheme for fitted estimators */\n",
              "  --sklearn-color-fitted-level-0: #f0f8ff;\n",
              "  --sklearn-color-fitted-level-1: #d4ebff;\n",
              "  --sklearn-color-fitted-level-2: #b3dbfd;\n",
              "  --sklearn-color-fitted-level-3: cornflowerblue;\n",
              "\n",
              "  /* Specific color for light theme */\n",
              "  --sklearn-color-text-on-default-background: var(--sg-text-color, var(--theme-code-foreground, var(--jp-content-font-color1, black)));\n",
              "  --sklearn-color-background: var(--sg-background-color, var(--theme-background, var(--jp-layout-color0, white)));\n",
              "  --sklearn-color-border-box: var(--sg-text-color, var(--theme-code-foreground, var(--jp-content-font-color1, black)));\n",
              "  --sklearn-color-icon: #696969;\n",
              "\n",
              "  @media (prefers-color-scheme: dark) {\n",
              "    /* Redefinition of color scheme for dark theme */\n",
              "    --sklearn-color-text-on-default-background: var(--sg-text-color, var(--theme-code-foreground, var(--jp-content-font-color1, white)));\n",
              "    --sklearn-color-background: var(--sg-background-color, var(--theme-background, var(--jp-layout-color0, #111)));\n",
              "    --sklearn-color-border-box: var(--sg-text-color, var(--theme-code-foreground, var(--jp-content-font-color1, white)));\n",
              "    --sklearn-color-icon: #878787;\n",
              "  }\n",
              "}\n",
              "\n",
              "#sk-container-id-3 {\n",
              "  color: var(--sklearn-color-text);\n",
              "}\n",
              "\n",
              "#sk-container-id-3 pre {\n",
              "  padding: 0;\n",
              "}\n",
              "\n",
              "#sk-container-id-3 input.sk-hidden--visually {\n",
              "  border: 0;\n",
              "  clip: rect(1px 1px 1px 1px);\n",
              "  clip: rect(1px, 1px, 1px, 1px);\n",
              "  height: 1px;\n",
              "  margin: -1px;\n",
              "  overflow: hidden;\n",
              "  padding: 0;\n",
              "  position: absolute;\n",
              "  width: 1px;\n",
              "}\n",
              "\n",
              "#sk-container-id-3 div.sk-dashed-wrapped {\n",
              "  border: 1px dashed var(--sklearn-color-line);\n",
              "  margin: 0 0.4em 0.5em 0.4em;\n",
              "  box-sizing: border-box;\n",
              "  padding-bottom: 0.4em;\n",
              "  background-color: var(--sklearn-color-background);\n",
              "}\n",
              "\n",
              "#sk-container-id-3 div.sk-container {\n",
              "  /* jupyter's `normalize.less` sets `[hidden] { display: none; }`\n",
              "     but bootstrap.min.css set `[hidden] { display: none !important; }`\n",
              "     so we also need the `!important` here to be able to override the\n",
              "     default hidden behavior on the sphinx rendered scikit-learn.org.\n",
              "     See: https://github.com/scikit-learn/scikit-learn/issues/21755 */\n",
              "  display: inline-block !important;\n",
              "  position: relative;\n",
              "}\n",
              "\n",
              "#sk-container-id-3 div.sk-text-repr-fallback {\n",
              "  display: none;\n",
              "}\n",
              "\n",
              "div.sk-parallel-item,\n",
              "div.sk-serial,\n",
              "div.sk-item {\n",
              "  /* draw centered vertical line to link estimators */\n",
              "  background-image: linear-gradient(var(--sklearn-color-text-on-default-background), var(--sklearn-color-text-on-default-background));\n",
              "  background-size: 2px 100%;\n",
              "  background-repeat: no-repeat;\n",
              "  background-position: center center;\n",
              "}\n",
              "\n",
              "/* Parallel-specific style estimator block */\n",
              "\n",
              "#sk-container-id-3 div.sk-parallel-item::after {\n",
              "  content: \"\";\n",
              "  width: 100%;\n",
              "  border-bottom: 2px solid var(--sklearn-color-text-on-default-background);\n",
              "  flex-grow: 1;\n",
              "}\n",
              "\n",
              "#sk-container-id-3 div.sk-parallel {\n",
              "  display: flex;\n",
              "  align-items: stretch;\n",
              "  justify-content: center;\n",
              "  background-color: var(--sklearn-color-background);\n",
              "  position: relative;\n",
              "}\n",
              "\n",
              "#sk-container-id-3 div.sk-parallel-item {\n",
              "  display: flex;\n",
              "  flex-direction: column;\n",
              "}\n",
              "\n",
              "#sk-container-id-3 div.sk-parallel-item:first-child::after {\n",
              "  align-self: flex-end;\n",
              "  width: 50%;\n",
              "}\n",
              "\n",
              "#sk-container-id-3 div.sk-parallel-item:last-child::after {\n",
              "  align-self: flex-start;\n",
              "  width: 50%;\n",
              "}\n",
              "\n",
              "#sk-container-id-3 div.sk-parallel-item:only-child::after {\n",
              "  width: 0;\n",
              "}\n",
              "\n",
              "/* Serial-specific style estimator block */\n",
              "\n",
              "#sk-container-id-3 div.sk-serial {\n",
              "  display: flex;\n",
              "  flex-direction: column;\n",
              "  align-items: center;\n",
              "  background-color: var(--sklearn-color-background);\n",
              "  padding-right: 1em;\n",
              "  padding-left: 1em;\n",
              "}\n",
              "\n",
              "\n",
              "/* Toggleable style: style used for estimator/Pipeline/ColumnTransformer box that is\n",
              "clickable and can be expanded/collapsed.\n",
              "- Pipeline and ColumnTransformer use this feature and define the default style\n",
              "- Estimators will overwrite some part of the style using the `sk-estimator` class\n",
              "*/\n",
              "\n",
              "/* Pipeline and ColumnTransformer style (default) */\n",
              "\n",
              "#sk-container-id-3 div.sk-toggleable {\n",
              "  /* Default theme specific background. It is overwritten whether we have a\n",
              "  specific estimator or a Pipeline/ColumnTransformer */\n",
              "  background-color: var(--sklearn-color-background);\n",
              "}\n",
              "\n",
              "/* Toggleable label */\n",
              "#sk-container-id-3 label.sk-toggleable__label {\n",
              "  cursor: pointer;\n",
              "  display: block;\n",
              "  width: 100%;\n",
              "  margin-bottom: 0;\n",
              "  padding: 0.5em;\n",
              "  box-sizing: border-box;\n",
              "  text-align: center;\n",
              "}\n",
              "\n",
              "#sk-container-id-3 label.sk-toggleable__label-arrow:before {\n",
              "  /* Arrow on the left of the label */\n",
              "  content: \"▸\";\n",
              "  float: left;\n",
              "  margin-right: 0.25em;\n",
              "  color: var(--sklearn-color-icon);\n",
              "}\n",
              "\n",
              "#sk-container-id-3 label.sk-toggleable__label-arrow:hover:before {\n",
              "  color: var(--sklearn-color-text);\n",
              "}\n",
              "\n",
              "/* Toggleable content - dropdown */\n",
              "\n",
              "#sk-container-id-3 div.sk-toggleable__content {\n",
              "  max-height: 0;\n",
              "  max-width: 0;\n",
              "  overflow: hidden;\n",
              "  text-align: left;\n",
              "  /* unfitted */\n",
              "  background-color: var(--sklearn-color-unfitted-level-0);\n",
              "}\n",
              "\n",
              "#sk-container-id-3 div.sk-toggleable__content.fitted {\n",
              "  /* fitted */\n",
              "  background-color: var(--sklearn-color-fitted-level-0);\n",
              "}\n",
              "\n",
              "#sk-container-id-3 div.sk-toggleable__content pre {\n",
              "  margin: 0.2em;\n",
              "  border-radius: 0.25em;\n",
              "  color: var(--sklearn-color-text);\n",
              "  /* unfitted */\n",
              "  background-color: var(--sklearn-color-unfitted-level-0);\n",
              "}\n",
              "\n",
              "#sk-container-id-3 div.sk-toggleable__content.fitted pre {\n",
              "  /* unfitted */\n",
              "  background-color: var(--sklearn-color-fitted-level-0);\n",
              "}\n",
              "\n",
              "#sk-container-id-3 input.sk-toggleable__control:checked~div.sk-toggleable__content {\n",
              "  /* Expand drop-down */\n",
              "  max-height: 200px;\n",
              "  max-width: 100%;\n",
              "  overflow: auto;\n",
              "}\n",
              "\n",
              "#sk-container-id-3 input.sk-toggleable__control:checked~label.sk-toggleable__label-arrow:before {\n",
              "  content: \"▾\";\n",
              "}\n",
              "\n",
              "/* Pipeline/ColumnTransformer-specific style */\n",
              "\n",
              "#sk-container-id-3 div.sk-label input.sk-toggleable__control:checked~label.sk-toggleable__label {\n",
              "  color: var(--sklearn-color-text);\n",
              "  background-color: var(--sklearn-color-unfitted-level-2);\n",
              "}\n",
              "\n",
              "#sk-container-id-3 div.sk-label.fitted input.sk-toggleable__control:checked~label.sk-toggleable__label {\n",
              "  background-color: var(--sklearn-color-fitted-level-2);\n",
              "}\n",
              "\n",
              "/* Estimator-specific style */\n",
              "\n",
              "/* Colorize estimator box */\n",
              "#sk-container-id-3 div.sk-estimator input.sk-toggleable__control:checked~label.sk-toggleable__label {\n",
              "  /* unfitted */\n",
              "  background-color: var(--sklearn-color-unfitted-level-2);\n",
              "}\n",
              "\n",
              "#sk-container-id-3 div.sk-estimator.fitted input.sk-toggleable__control:checked~label.sk-toggleable__label {\n",
              "  /* fitted */\n",
              "  background-color: var(--sklearn-color-fitted-level-2);\n",
              "}\n",
              "\n",
              "#sk-container-id-3 div.sk-label label.sk-toggleable__label,\n",
              "#sk-container-id-3 div.sk-label label {\n",
              "  /* The background is the default theme color */\n",
              "  color: var(--sklearn-color-text-on-default-background);\n",
              "}\n",
              "\n",
              "/* On hover, darken the color of the background */\n",
              "#sk-container-id-3 div.sk-label:hover label.sk-toggleable__label {\n",
              "  color: var(--sklearn-color-text);\n",
              "  background-color: var(--sklearn-color-unfitted-level-2);\n",
              "}\n",
              "\n",
              "/* Label box, darken color on hover, fitted */\n",
              "#sk-container-id-3 div.sk-label.fitted:hover label.sk-toggleable__label.fitted {\n",
              "  color: var(--sklearn-color-text);\n",
              "  background-color: var(--sklearn-color-fitted-level-2);\n",
              "}\n",
              "\n",
              "/* Estimator label */\n",
              "\n",
              "#sk-container-id-3 div.sk-label label {\n",
              "  font-family: monospace;\n",
              "  font-weight: bold;\n",
              "  display: inline-block;\n",
              "  line-height: 1.2em;\n",
              "}\n",
              "\n",
              "#sk-container-id-3 div.sk-label-container {\n",
              "  text-align: center;\n",
              "}\n",
              "\n",
              "/* Estimator-specific */\n",
              "#sk-container-id-3 div.sk-estimator {\n",
              "  font-family: monospace;\n",
              "  border: 1px dotted var(--sklearn-color-border-box);\n",
              "  border-radius: 0.25em;\n",
              "  box-sizing: border-box;\n",
              "  margin-bottom: 0.5em;\n",
              "  /* unfitted */\n",
              "  background-color: var(--sklearn-color-unfitted-level-0);\n",
              "}\n",
              "\n",
              "#sk-container-id-3 div.sk-estimator.fitted {\n",
              "  /* fitted */\n",
              "  background-color: var(--sklearn-color-fitted-level-0);\n",
              "}\n",
              "\n",
              "/* on hover */\n",
              "#sk-container-id-3 div.sk-estimator:hover {\n",
              "  /* unfitted */\n",
              "  background-color: var(--sklearn-color-unfitted-level-2);\n",
              "}\n",
              "\n",
              "#sk-container-id-3 div.sk-estimator.fitted:hover {\n",
              "  /* fitted */\n",
              "  background-color: var(--sklearn-color-fitted-level-2);\n",
              "}\n",
              "\n",
              "/* Specification for estimator info (e.g. \"i\" and \"?\") */\n",
              "\n",
              "/* Common style for \"i\" and \"?\" */\n",
              "\n",
              ".sk-estimator-doc-link,\n",
              "a:link.sk-estimator-doc-link,\n",
              "a:visited.sk-estimator-doc-link {\n",
              "  float: right;\n",
              "  font-size: smaller;\n",
              "  line-height: 1em;\n",
              "  font-family: monospace;\n",
              "  background-color: var(--sklearn-color-background);\n",
              "  border-radius: 1em;\n",
              "  height: 1em;\n",
              "  width: 1em;\n",
              "  text-decoration: none !important;\n",
              "  margin-left: 1ex;\n",
              "  /* unfitted */\n",
              "  border: var(--sklearn-color-unfitted-level-1) 1pt solid;\n",
              "  color: var(--sklearn-color-unfitted-level-1);\n",
              "}\n",
              "\n",
              ".sk-estimator-doc-link.fitted,\n",
              "a:link.sk-estimator-doc-link.fitted,\n",
              "a:visited.sk-estimator-doc-link.fitted {\n",
              "  /* fitted */\n",
              "  border: var(--sklearn-color-fitted-level-1) 1pt solid;\n",
              "  color: var(--sklearn-color-fitted-level-1);\n",
              "}\n",
              "\n",
              "/* On hover */\n",
              "div.sk-estimator:hover .sk-estimator-doc-link:hover,\n",
              ".sk-estimator-doc-link:hover,\n",
              "div.sk-label-container:hover .sk-estimator-doc-link:hover,\n",
              ".sk-estimator-doc-link:hover {\n",
              "  /* unfitted */\n",
              "  background-color: var(--sklearn-color-unfitted-level-3);\n",
              "  color: var(--sklearn-color-background);\n",
              "  text-decoration: none;\n",
              "}\n",
              "\n",
              "div.sk-estimator.fitted:hover .sk-estimator-doc-link.fitted:hover,\n",
              ".sk-estimator-doc-link.fitted:hover,\n",
              "div.sk-label-container:hover .sk-estimator-doc-link.fitted:hover,\n",
              ".sk-estimator-doc-link.fitted:hover {\n",
              "  /* fitted */\n",
              "  background-color: var(--sklearn-color-fitted-level-3);\n",
              "  color: var(--sklearn-color-background);\n",
              "  text-decoration: none;\n",
              "}\n",
              "\n",
              "/* Span, style for the box shown on hovering the info icon */\n",
              ".sk-estimator-doc-link span {\n",
              "  display: none;\n",
              "  z-index: 9999;\n",
              "  position: relative;\n",
              "  font-weight: normal;\n",
              "  right: .2ex;\n",
              "  padding: .5ex;\n",
              "  margin: .5ex;\n",
              "  width: min-content;\n",
              "  min-width: 20ex;\n",
              "  max-width: 50ex;\n",
              "  color: var(--sklearn-color-text);\n",
              "  box-shadow: 2pt 2pt 4pt #999;\n",
              "  /* unfitted */\n",
              "  background: var(--sklearn-color-unfitted-level-0);\n",
              "  border: .5pt solid var(--sklearn-color-unfitted-level-3);\n",
              "}\n",
              "\n",
              ".sk-estimator-doc-link.fitted span {\n",
              "  /* fitted */\n",
              "  background: var(--sklearn-color-fitted-level-0);\n",
              "  border: var(--sklearn-color-fitted-level-3);\n",
              "}\n",
              "\n",
              ".sk-estimator-doc-link:hover span {\n",
              "  display: block;\n",
              "}\n",
              "\n",
              "/* \"?\"-specific style due to the `<a>` HTML tag */\n",
              "\n",
              "#sk-container-id-3 a.estimator_doc_link {\n",
              "  float: right;\n",
              "  font-size: 1rem;\n",
              "  line-height: 1em;\n",
              "  font-family: monospace;\n",
              "  background-color: var(--sklearn-color-background);\n",
              "  border-radius: 1rem;\n",
              "  height: 1rem;\n",
              "  width: 1rem;\n",
              "  text-decoration: none;\n",
              "  /* unfitted */\n",
              "  color: var(--sklearn-color-unfitted-level-1);\n",
              "  border: var(--sklearn-color-unfitted-level-1) 1pt solid;\n",
              "}\n",
              "\n",
              "#sk-container-id-3 a.estimator_doc_link.fitted {\n",
              "  /* fitted */\n",
              "  border: var(--sklearn-color-fitted-level-1) 1pt solid;\n",
              "  color: var(--sklearn-color-fitted-level-1);\n",
              "}\n",
              "\n",
              "/* On hover */\n",
              "#sk-container-id-3 a.estimator_doc_link:hover {\n",
              "  /* unfitted */\n",
              "  background-color: var(--sklearn-color-unfitted-level-3);\n",
              "  color: var(--sklearn-color-background);\n",
              "  text-decoration: none;\n",
              "}\n",
              "\n",
              "#sk-container-id-3 a.estimator_doc_link.fitted:hover {\n",
              "  /* fitted */\n",
              "  background-color: var(--sklearn-color-fitted-level-3);\n",
              "}\n",
              "</style><div id=\"sk-container-id-3\" class=\"sk-top-container\"><div class=\"sk-text-repr-fallback\"><pre>RandomForestClassifier()</pre><b>In a Jupyter environment, please rerun this cell to show the HTML representation or trust the notebook. <br />On GitHub, the HTML representation is unable to render, please try loading this page with nbviewer.org.</b></div><div class=\"sk-container\" hidden><div class=\"sk-item\"><div class=\"sk-estimator fitted sk-toggleable\"><input class=\"sk-toggleable__control sk-hidden--visually\" id=\"sk-estimator-id-3\" type=\"checkbox\" checked><label for=\"sk-estimator-id-3\" class=\"sk-toggleable__label fitted sk-toggleable__label-arrow fitted\">&nbsp;&nbsp;RandomForestClassifier<a class=\"sk-estimator-doc-link fitted\" rel=\"noreferrer\" target=\"_blank\" href=\"https://scikit-learn.org/1.4/modules/generated/sklearn.ensemble.RandomForestClassifier.html\">?<span>Documentation for RandomForestClassifier</span></a><span class=\"sk-estimator-doc-link fitted\">i<span>Fitted</span></span></label><div class=\"sk-toggleable__content fitted\"><pre>RandomForestClassifier()</pre></div> </div></div></div></div>"
            ],
            "text/plain": [
              "RandomForestClassifier()"
            ]
          },
          "execution_count": 81,
          "metadata": {},
          "output_type": "execute_result"
        }
      ],
      "source": [
        "clf"
      ]
    },
    {
      "cell_type": "code",
      "execution_count": 82,
      "metadata": {
        "id": "psrYgjIs2LGF"
      },
      "outputs": [],
      "source": [
        "import pickle\n",
        "filename = 'top5featRF-seed2.sav'\n",
        "pickle.dump(clf, open(filename, 'wb'))"
      ]
    },
    {
      "cell_type": "code",
      "execution_count": 83,
      "metadata": {
        "id": "7fmdC65i2O7W"
      },
      "outputs": [],
      "source": [
        "# X_processed_seed2.to_csv('Data/train_seed2.csv')\n",
        "# Y_train_data_2.to_csv('Data/train_out_seed2.csv')\n",
        "# X_processed_test_seed2.to_csv('Data/test_seed2.csv')\n",
        "# Y_test_data_2.to_csv('Data/test_out_seed2.csv')\n",
        "# X_processed_seed1.to_csv('Data/train_seed1.csv')\n",
        "# Y_train_data.to_csv('Data/train_out_seed1.csv')\n",
        "# X_processed_test_seed1.to_csv('Data/test_seed1.csv')\n",
        "# Y_test_data.to_csv('Data/test_out_seed1.csv')"
      ]
    }
  ],
  "metadata": {
    "colab": {
      "provenance": []
    },
    "kernelspec": {
      "display_name": "Python 3",
      "name": "python3"
    },
    "language_info": {
      "codemirror_mode": {
        "name": "ipython",
        "version": 3
      },
      "file_extension": ".py",
      "mimetype": "text/x-python",
      "name": "python",
      "nbconvert_exporter": "python",
      "pygments_lexer": "ipython3",
      "version": "3.12.1"
    }
  },
  "nbformat": 4,
  "nbformat_minor": 0
}
