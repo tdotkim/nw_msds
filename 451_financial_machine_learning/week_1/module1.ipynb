{
 "cells": [
  {
   "cell_type": "markdown",
   "metadata": {},
   "source": [
    "# Module 1 - TK Kim"
   ]
  },
  {
   "cell_type": "markdown",
   "metadata": {},
   "source": [
    "## import"
   ]
  },
  {
   "cell_type": "code",
   "execution_count": 49,
   "metadata": {},
   "outputs": [],
   "source": [
    "import pandas as pd\n",
    "import numpy as np\n",
    "import matplotlib.pyplot as plt"
   ]
  },
  {
   "cell_type": "code",
   "execution_count": 4,
   "metadata": {},
   "outputs": [],
   "source": [
    "df = pd.read_pickle('./R3K_Daily.bz2', compression='bz2')"
   ]
  },
  {
   "cell_type": "code",
   "execution_count": 5,
   "metadata": {},
   "outputs": [
    {
     "data": {
      "text/html": [
       "<div>\n",
       "<style scoped>\n",
       "    .dataframe tbody tr th:only-of-type {\n",
       "        vertical-align: middle;\n",
       "    }\n",
       "\n",
       "    .dataframe tbody tr th {\n",
       "        vertical-align: top;\n",
       "    }\n",
       "\n",
       "    .dataframe thead th {\n",
       "        text-align: right;\n",
       "    }\n",
       "</style>\n",
       "<table border=\"1\" class=\"dataframe\">\n",
       "  <thead>\n",
       "    <tr style=\"text-align: right;\">\n",
       "      <th></th>\n",
       "      <th>Date</th>\n",
       "      <th>Open</th>\n",
       "      <th>High</th>\n",
       "      <th>Low</th>\n",
       "      <th>Close</th>\n",
       "      <th>UnAdjustedClose</th>\n",
       "      <th>Volume</th>\n",
       "      <th>Symbol</th>\n",
       "    </tr>\n",
       "  </thead>\n",
       "  <tbody>\n",
       "    <tr>\n",
       "      <th>0</th>\n",
       "      <td>2000-12-01</td>\n",
       "      <td>33.287973</td>\n",
       "      <td>34.388402</td>\n",
       "      <td>33.170070</td>\n",
       "      <td>33.327274</td>\n",
       "      <td>53.0000</td>\n",
       "      <td>36286</td>\n",
       "      <td>A</td>\n",
       "    </tr>\n",
       "    <tr>\n",
       "      <th>1</th>\n",
       "      <td>2000-12-04</td>\n",
       "      <td>32.737759</td>\n",
       "      <td>33.366575</td>\n",
       "      <td>31.755233</td>\n",
       "      <td>32.069641</td>\n",
       "      <td>51.0000</td>\n",
       "      <td>28951</td>\n",
       "      <td>A</td>\n",
       "    </tr>\n",
       "    <tr>\n",
       "      <th>2</th>\n",
       "      <td>2000-12-05</td>\n",
       "      <td>33.170070</td>\n",
       "      <td>35.017219</td>\n",
       "      <td>33.052167</td>\n",
       "      <td>34.624208</td>\n",
       "      <td>55.0625</td>\n",
       "      <td>54723</td>\n",
       "      <td>A</td>\n",
       "    </tr>\n",
       "    <tr>\n",
       "      <th>3</th>\n",
       "      <td>2000-12-06</td>\n",
       "      <td>34.742111</td>\n",
       "      <td>35.803239</td>\n",
       "      <td>32.698458</td>\n",
       "      <td>32.698458</td>\n",
       "      <td>52.0000</td>\n",
       "      <td>43669</td>\n",
       "      <td>A</td>\n",
       "    </tr>\n",
       "    <tr>\n",
       "      <th>4</th>\n",
       "      <td>2000-12-07</td>\n",
       "      <td>33.012866</td>\n",
       "      <td>34.506305</td>\n",
       "      <td>32.305447</td>\n",
       "      <td>33.956091</td>\n",
       "      <td>54.0000</td>\n",
       "      <td>30599</td>\n",
       "      <td>A</td>\n",
       "    </tr>\n",
       "  </tbody>\n",
       "</table>\n",
       "</div>"
      ],
      "text/plain": [
       "        Date       Open       High        Low      Close  UnAdjustedClose  \\\n",
       "0 2000-12-01  33.287973  34.388402  33.170070  33.327274          53.0000   \n",
       "1 2000-12-04  32.737759  33.366575  31.755233  32.069641          51.0000   \n",
       "2 2000-12-05  33.170070  35.017219  33.052167  34.624208          55.0625   \n",
       "3 2000-12-06  34.742111  35.803239  32.698458  32.698458          52.0000   \n",
       "4 2000-12-07  33.012866  34.506305  32.305447  33.956091          54.0000   \n",
       "\n",
       "  Volume Symbol  \n",
       "0  36286      A  \n",
       "1  28951      A  \n",
       "2  54723      A  \n",
       "3  43669      A  \n",
       "4  30599      A  "
      ]
     },
     "execution_count": 5,
     "metadata": {},
     "output_type": "execute_result"
    }
   ],
   "source": [
    "df.head()"
   ]
  },
  {
   "cell_type": "markdown",
   "metadata": {},
   "source": [
    "## Question 1"
   ]
  },
  {
   "cell_type": "markdown",
   "metadata": {},
   "source": [
    "**What is the advantage of the pickle format?**\n",
    "\n",
    "One advantage of the pickle format is that data is kept as is. What this means is that instead of manually setting datatypes on import or adjusting after each import of the dataset, the pickle file contains the type itself making loading/sharing data easy. \n",
    "\n",
    "Another advantage is the ability to pickle almost anything. Instead of devoting time figuring out how to save & share an object like in Go, a Python dev can pickle an object and another dev can quickly load that pickled object.\n",
    "\n",
    "**What is an advantage of DataFrames vs. Numpy arrays?**\n",
    "\n",
    "One advantage of DataFrames over Numpy arrays is that it's easier to work with for tabular data. A dataframe is extremely similar to a SQL table and similar operations can be done. DataFrames even offer the ability to write queries to explore the data. Numpy arrays are great abstract data structures but lack a lot of the user-friendliness of Pandas. Anything done in Pandas can be done in raw numpy since it's built on numpy but you sacrifice ease.\n",
    "\n",
    "\n",
    "\n"
   ]
  },
  {
   "cell_type": "markdown",
   "metadata": {},
   "source": [
    "## Question 2 \n",
    "\n",
    "**Give an example of a dual class stock contained in the data. (8 points)**\n",
    "\n",
    "One example of a dual class is BF (Brown Forman Corporation). In our data we have both the Class A and Class B stocks listed."
   ]
  },
  {
   "cell_type": "code",
   "execution_count": 20,
   "metadata": {},
   "outputs": [
    {
     "name": "stderr",
     "output_type": "stream",
     "text": [
      "C:\\Users\\tkkim\\AppData\\Local\\Temp\\ipykernel_7800\\1165994181.py:1: FutureWarning: In a future version of pandas all arguments of DataFrame.ffill will be keyword-only.\n",
      "  df['class'] = df['Symbol'].str.split('.', expand=True).ffill(1)[1]\n",
      "C:\\Users\\tkkim\\AppData\\Local\\Temp\\ipykernel_7800\\1165994181.py:2: FutureWarning: In a future version of pandas all arguments of DataFrame.ffill will be keyword-only.\n",
      "  df['clean_symbol'] = df['Symbol'].str.split('.', expand=True).ffill(1)[0]\n"
     ]
    }
   ],
   "source": [
    "df['class'] = df['Symbol'].str.split('.', expand=True).ffill(1)[1]\n",
    "df['clean_symbol'] = df['Symbol'].str.split('.', expand=True).ffill(1)[0]"
   ]
  },
  {
   "cell_type": "code",
   "execution_count": 21,
   "metadata": {},
   "outputs": [],
   "source": [
    "df['is_dual_class'] = np.where(df['class'] == df['Symbol'], 'no', 'yes')"
   ]
  },
  {
   "cell_type": "code",
   "execution_count": 27,
   "metadata": {},
   "outputs": [
    {
     "data": {
      "text/html": [
       "<div>\n",
       "<style scoped>\n",
       "    .dataframe tbody tr th:only-of-type {\n",
       "        vertical-align: middle;\n",
       "    }\n",
       "\n",
       "    .dataframe tbody tr th {\n",
       "        vertical-align: top;\n",
       "    }\n",
       "\n",
       "    .dataframe thead th {\n",
       "        text-align: right;\n",
       "    }\n",
       "</style>\n",
       "<table border=\"1\" class=\"dataframe\">\n",
       "  <thead>\n",
       "    <tr style=\"text-align: right;\">\n",
       "      <th></th>\n",
       "      <th></th>\n",
       "      <th>Close</th>\n",
       "    </tr>\n",
       "    <tr>\n",
       "      <th>clean_symbol</th>\n",
       "      <th>class</th>\n",
       "      <th></th>\n",
       "    </tr>\n",
       "  </thead>\n",
       "  <tbody>\n",
       "    <tr>\n",
       "      <th rowspan=\"2\" valign=\"top\">BF</th>\n",
       "      <th>A</th>\n",
       "      <td>3.062480</td>\n",
       "    </tr>\n",
       "    <tr>\n",
       "      <th>B</th>\n",
       "      <td>4.328404</td>\n",
       "    </tr>\n",
       "    <tr>\n",
       "      <th>BRK</th>\n",
       "      <th>B</th>\n",
       "      <td>40.000000</td>\n",
       "    </tr>\n",
       "    <tr>\n",
       "      <th>CRD</th>\n",
       "      <th>B</th>\n",
       "      <td>1.966798</td>\n",
       "    </tr>\n",
       "    <tr>\n",
       "      <th>FCE</th>\n",
       "      <th>A'</th>\n",
       "      <td>3.192518</td>\n",
       "    </tr>\n",
       "    <tr>\n",
       "      <th>HEI</th>\n",
       "      <th>A</th>\n",
       "      <td>0.977293</td>\n",
       "    </tr>\n",
       "    <tr>\n",
       "      <th>JW</th>\n",
       "      <th>A</th>\n",
       "      <td>13.756306</td>\n",
       "    </tr>\n",
       "    <tr>\n",
       "      <th>LEN</th>\n",
       "      <th>B</th>\n",
       "      <td>2.228309</td>\n",
       "    </tr>\n",
       "    <tr>\n",
       "      <th>MOG</th>\n",
       "      <th>A</th>\n",
       "      <td>7.537721</td>\n",
       "    </tr>\n",
       "  </tbody>\n",
       "</table>\n",
       "</div>"
      ],
      "text/plain": [
       "                        Close\n",
       "clean_symbol class           \n",
       "BF           A       3.062480\n",
       "             B       4.328404\n",
       "BRK          B      40.000000\n",
       "CRD          B       1.966798\n",
       "FCE          A'      3.192518\n",
       "HEI          A       0.977293\n",
       "JW           A      13.756306\n",
       "LEN          B       2.228309\n",
       "MOG          A       7.537721"
      ]
     },
     "execution_count": 27,
     "metadata": {},
     "output_type": "execute_result"
    }
   ],
   "source": [
    "df[df['is_dual_class'] == 'yes'].groupby(['clean_symbol','class']).agg({'Close':'min'})"
   ]
  },
  {
   "cell_type": "markdown",
   "metadata": {},
   "source": [
    "## Question 3\n",
    "\n",
    "**Answer the following questions:**\n",
    "**What is the Minimum Close price? (5 points)**\n",
    "\n",
    "$0.00889341\n",
    "\n",
    "**Which stock does that belong to? (5 points)**\n",
    "\n",
    "WETF\n",
    "\n",
    "**Is it really possible to trade a stock that is worth less than a cent? If not, what is the cause of such low prices? (8 points)**"
   ]
  },
  {
   "cell_type": "code",
   "execution_count": 28,
   "metadata": {},
   "outputs": [
    {
     "data": {
      "text/plain": [
       "0.00889341"
      ]
     },
     "execution_count": 28,
     "metadata": {},
     "output_type": "execute_result"
    }
   ],
   "source": [
    "df['Close'].min()"
   ]
  },
  {
   "cell_type": "code",
   "execution_count": 35,
   "metadata": {},
   "outputs": [
    {
     "data": {
      "text/html": [
       "<div>\n",
       "<style scoped>\n",
       "    .dataframe tbody tr th:only-of-type {\n",
       "        vertical-align: middle;\n",
       "    }\n",
       "\n",
       "    .dataframe tbody tr th {\n",
       "        vertical-align: top;\n",
       "    }\n",
       "\n",
       "    .dataframe thead th {\n",
       "        text-align: right;\n",
       "    }\n",
       "</style>\n",
       "<table border=\"1\" class=\"dataframe\">\n",
       "  <thead>\n",
       "    <tr style=\"text-align: right;\">\n",
       "      <th></th>\n",
       "      <th>Date</th>\n",
       "      <th>Open</th>\n",
       "      <th>High</th>\n",
       "      <th>Low</th>\n",
       "      <th>Close</th>\n",
       "      <th>UnAdjustedClose</th>\n",
       "      <th>Volume</th>\n",
       "      <th>Symbol</th>\n",
       "      <th>class</th>\n",
       "      <th>is_dual_class</th>\n",
       "      <th>clean_symbol</th>\n",
       "    </tr>\n",
       "  </thead>\n",
       "  <tbody>\n",
       "    <tr>\n",
       "      <th>0</th>\n",
       "      <td>2000-12-01</td>\n",
       "      <td>33.287973</td>\n",
       "      <td>34.388402</td>\n",
       "      <td>33.170070</td>\n",
       "      <td>33.327274</td>\n",
       "      <td>53.0000</td>\n",
       "      <td>36286</td>\n",
       "      <td>A</td>\n",
       "      <td>A</td>\n",
       "      <td>no</td>\n",
       "      <td>A</td>\n",
       "    </tr>\n",
       "    <tr>\n",
       "      <th>1</th>\n",
       "      <td>2000-12-04</td>\n",
       "      <td>32.737759</td>\n",
       "      <td>33.366575</td>\n",
       "      <td>31.755233</td>\n",
       "      <td>32.069641</td>\n",
       "      <td>51.0000</td>\n",
       "      <td>28951</td>\n",
       "      <td>A</td>\n",
       "      <td>A</td>\n",
       "      <td>no</td>\n",
       "      <td>A</td>\n",
       "    </tr>\n",
       "    <tr>\n",
       "      <th>2</th>\n",
       "      <td>2000-12-05</td>\n",
       "      <td>33.170070</td>\n",
       "      <td>35.017219</td>\n",
       "      <td>33.052167</td>\n",
       "      <td>34.624208</td>\n",
       "      <td>55.0625</td>\n",
       "      <td>54723</td>\n",
       "      <td>A</td>\n",
       "      <td>A</td>\n",
       "      <td>no</td>\n",
       "      <td>A</td>\n",
       "    </tr>\n",
       "    <tr>\n",
       "      <th>3</th>\n",
       "      <td>2000-12-06</td>\n",
       "      <td>34.742111</td>\n",
       "      <td>35.803239</td>\n",
       "      <td>32.698458</td>\n",
       "      <td>32.698458</td>\n",
       "      <td>52.0000</td>\n",
       "      <td>43669</td>\n",
       "      <td>A</td>\n",
       "      <td>A</td>\n",
       "      <td>no</td>\n",
       "      <td>A</td>\n",
       "    </tr>\n",
       "    <tr>\n",
       "      <th>4</th>\n",
       "      <td>2000-12-07</td>\n",
       "      <td>33.012866</td>\n",
       "      <td>34.506305</td>\n",
       "      <td>32.305447</td>\n",
       "      <td>33.956091</td>\n",
       "      <td>54.0000</td>\n",
       "      <td>30599</td>\n",
       "      <td>A</td>\n",
       "      <td>A</td>\n",
       "      <td>no</td>\n",
       "      <td>A</td>\n",
       "    </tr>\n",
       "  </tbody>\n",
       "</table>\n",
       "</div>"
      ],
      "text/plain": [
       "        Date       Open       High        Low      Close  UnAdjustedClose  \\\n",
       "0 2000-12-01  33.287973  34.388402  33.170070  33.327274          53.0000   \n",
       "1 2000-12-04  32.737759  33.366575  31.755233  32.069641          51.0000   \n",
       "2 2000-12-05  33.170070  35.017219  33.052167  34.624208          55.0625   \n",
       "3 2000-12-06  34.742111  35.803239  32.698458  32.698458          52.0000   \n",
       "4 2000-12-07  33.012866  34.506305  32.305447  33.956091          54.0000   \n",
       "\n",
       "  Volume Symbol class is_dual_class clean_symbol  \n",
       "0  36286      A     A            no            A  \n",
       "1  28951      A     A            no            A  \n",
       "2  54723      A     A            no            A  \n",
       "3  43669      A     A            no            A  \n",
       "4  30599      A     A            no            A  "
      ]
     },
     "execution_count": 35,
     "metadata": {},
     "output_type": "execute_result"
    }
   ],
   "source": [
    "df.head()"
   ]
  },
  {
   "cell_type": "code",
   "execution_count": 34,
   "metadata": {},
   "outputs": [
    {
     "data": {
      "text/plain": [
       "3707037    WETF\n",
       "Name: clean_symbol, dtype: object"
      ]
     },
     "execution_count": 34,
     "metadata": {},
     "output_type": "execute_result"
    }
   ],
   "source": [
    "df[df['Close'] == df['Close'].min()]['clean_symbol']"
   ]
  },
  {
   "cell_type": "markdown",
   "metadata": {},
   "source": [
    "## Question 4\n",
    "\n",
    "**Compare the price histories of KORS vs CPRI: do you notice anything strange? Read Michael Kors Holdings Limited to be renamed Capri Holdings Limited. Links to an external site. Capri. (2018, September 25), and explain how you would handle these price histories. (8 points)**\n",
    "\n",
    "It looks like KORS fully stops on 9/25/2018 and then the only new data is for CPRI. CPRI is also backfilled to dates that KORS was active. To better handle this data, we'd need to drop KORS or map a new column that is a multi-value field that holds a list of all previous names. We'll also most likely need one more helper column to identify a ticker as current. This would allow KORS to live in the dataset even though it's dead due to renaing and the second helper column would allow us to filter out older names of stocks.\n",
    "\n",
    "I think one possible negative effect of incuding both would be some bias in the data with two distinct stocks having the exact same numbers. Filtering only for the current name should remove this."
   ]
  },
  {
   "cell_type": "code",
   "execution_count": 50,
   "metadata": {},
   "outputs": [],
   "source": [
    "q4_df = df[(df['clean_symbol'].isin([ 'KORS', 'CPRI'])) & (df['Date'] > '2016-01-01')]"
   ]
  },
  {
   "cell_type": "code",
   "execution_count": 68,
   "metadata": {},
   "outputs": [
    {
     "data": {
      "text/html": [
       "<div>\n",
       "<style scoped>\n",
       "    .dataframe tbody tr th:only-of-type {\n",
       "        vertical-align: middle;\n",
       "    }\n",
       "\n",
       "    .dataframe tbody tr th {\n",
       "        vertical-align: top;\n",
       "    }\n",
       "\n",
       "    .dataframe thead th {\n",
       "        text-align: right;\n",
       "    }\n",
       "</style>\n",
       "<table border=\"1\" class=\"dataframe\">\n",
       "  <thead>\n",
       "    <tr style=\"text-align: right;\">\n",
       "      <th></th>\n",
       "      <th></th>\n",
       "      <th>Close</th>\n",
       "    </tr>\n",
       "    <tr>\n",
       "      <th>Date</th>\n",
       "      <th>Symbol</th>\n",
       "      <th></th>\n",
       "    </tr>\n",
       "  </thead>\n",
       "  <tbody>\n",
       "    <tr>\n",
       "      <th rowspan=\"2\" valign=\"top\">2016-01-04</th>\n",
       "      <th>CPRI</th>\n",
       "      <td>40.37</td>\n",
       "    </tr>\n",
       "    <tr>\n",
       "      <th>KORS</th>\n",
       "      <td>40.37</td>\n",
       "    </tr>\n",
       "    <tr>\n",
       "      <th rowspan=\"2\" valign=\"top\">2016-01-05</th>\n",
       "      <th>CPRI</th>\n",
       "      <td>40.72</td>\n",
       "    </tr>\n",
       "    <tr>\n",
       "      <th>KORS</th>\n",
       "      <td>40.72</td>\n",
       "    </tr>\n",
       "    <tr>\n",
       "      <th>2016-01-06</th>\n",
       "      <th>CPRI</th>\n",
       "      <td>39.76</td>\n",
       "    </tr>\n",
       "    <tr>\n",
       "      <th>...</th>\n",
       "      <th>...</th>\n",
       "      <td>...</td>\n",
       "    </tr>\n",
       "    <tr>\n",
       "      <th>2019-03-04</th>\n",
       "      <th>CPRI</th>\n",
       "      <td>45.07</td>\n",
       "    </tr>\n",
       "    <tr>\n",
       "      <th>2019-03-05</th>\n",
       "      <th>CPRI</th>\n",
       "      <td>45.17</td>\n",
       "    </tr>\n",
       "    <tr>\n",
       "      <th>2019-03-06</th>\n",
       "      <th>CPRI</th>\n",
       "      <td>46.00</td>\n",
       "    </tr>\n",
       "    <tr>\n",
       "      <th>2019-03-07</th>\n",
       "      <th>CPRI</th>\n",
       "      <td>44.70</td>\n",
       "    </tr>\n",
       "    <tr>\n",
       "      <th>2019-03-08</th>\n",
       "      <th>CPRI</th>\n",
       "      <td>43.58</td>\n",
       "    </tr>\n",
       "  </tbody>\n",
       "</table>\n",
       "<p>1554 rows × 1 columns</p>\n",
       "</div>"
      ],
      "text/plain": [
       "                   Close\n",
       "Date       Symbol       \n",
       "2016-01-04 CPRI    40.37\n",
       "           KORS    40.37\n",
       "2016-01-05 CPRI    40.72\n",
       "           KORS    40.72\n",
       "2016-01-06 CPRI    39.76\n",
       "...                  ...\n",
       "2019-03-04 CPRI    45.07\n",
       "2019-03-05 CPRI    45.17\n",
       "2019-03-06 CPRI    46.00\n",
       "2019-03-07 CPRI    44.70\n",
       "2019-03-08 CPRI    43.58\n",
       "\n",
       "[1554 rows x 1 columns]"
      ]
     },
     "execution_count": 68,
     "metadata": {},
     "output_type": "execute_result"
    }
   ],
   "source": [
    "q4_df.groupby(['Date','Symbol']).agg({'Close':'mean'})"
   ]
  },
  {
   "cell_type": "code",
   "execution_count": 67,
   "metadata": {},
   "outputs": [
    {
     "data": {
      "text/plain": [
       "[<matplotlib.lines.Line2D at 0x1f6ebe6c0d0>]"
      ]
     },
     "execution_count": 67,
     "metadata": {},
     "output_type": "execute_result"
    },
    {
     "data": {
      "image/png": "[encoded data removed]",
      "text/plain": [
       "<Figure size 864x504 with 1 Axes>"
      ]
     },
     "metadata": {
      "needs_background": "light"
     },
     "output_type": "display_data"
    }
   ],
   "source": [
    "fig, ax = plt.subplots(figsize = [12, 7])\n",
    "ax.plot('Date', 'Open', data=q4_df[q4_df['clean_symbol'] == 'KORS'], color='orange', marker='o', markersize=8)\n",
    "ax.plot('Date', 'Open', data=q4_df[q4_df['clean_symbol'] == 'CPRI'], color='blue', marker='v')"
   ]
  },
  {
   "cell_type": "markdown",
   "metadata": {},
   "source": [
    "## Question 5\n",
    "\n",
    "**Compare the price histories of GOOG vs GOOGL. Do you notice anything strange? Read the Alphabet, IncLinks to an external site.. Wikipedia page and explain how you would handle these price histories. (8 points)**\n",
    "\n",
    "Unlike KORS and CPRI, GOOG & GOOGL are both active. The wikipedia cites a restructuring from Google being the owner of Alphabet to Alphabet being the owner of Google. If you own GOOGL, you have Class A stocks and have voting rights. Class B is entirely held by the founders with 10x the voting rights of Class A. Class C is GOOG.\n",
    "\n",
    "Interestingly the difference is trending towards 0 between the two stocks. I think we leave as is with the data that we have. Taking a peak at the previous close on Jan 5, 2023 there's less than $2 difference with GOOG actually trading higher than GOOGL"
   ]
  },
  {
   "cell_type": "code",
   "execution_count": 76,
   "metadata": {},
   "outputs": [
    {
     "data": {
      "text/html": [
       "<div>\n",
       "<style scoped>\n",
       "    .dataframe tbody tr th:only-of-type {\n",
       "        vertical-align: middle;\n",
       "    }\n",
       "\n",
       "    .dataframe tbody tr th {\n",
       "        vertical-align: top;\n",
       "    }\n",
       "\n",
       "    .dataframe thead th {\n",
       "        text-align: right;\n",
       "    }\n",
       "</style>\n",
       "<table border=\"1\" class=\"dataframe\">\n",
       "  <thead>\n",
       "    <tr style=\"text-align: right;\">\n",
       "      <th>Symbol</th>\n",
       "      <th>Date</th>\n",
       "      <th>GOOG</th>\n",
       "      <th>GOOGL</th>\n",
       "      <th>diff</th>\n",
       "    </tr>\n",
       "  </thead>\n",
       "  <tbody>\n",
       "    <tr>\n",
       "      <th>0</th>\n",
       "      <td>2016-01-04</td>\n",
       "      <td>741.84</td>\n",
       "      <td>759.44</td>\n",
       "      <td>17.60</td>\n",
       "    </tr>\n",
       "    <tr>\n",
       "      <th>1</th>\n",
       "      <td>2016-01-05</td>\n",
       "      <td>742.58</td>\n",
       "      <td>761.53</td>\n",
       "      <td>18.95</td>\n",
       "    </tr>\n",
       "    <tr>\n",
       "      <th>2</th>\n",
       "      <td>2016-01-06</td>\n",
       "      <td>743.62</td>\n",
       "      <td>759.33</td>\n",
       "      <td>15.71</td>\n",
       "    </tr>\n",
       "    <tr>\n",
       "      <th>3</th>\n",
       "      <td>2016-01-07</td>\n",
       "      <td>726.39</td>\n",
       "      <td>741.00</td>\n",
       "      <td>14.61</td>\n",
       "    </tr>\n",
       "    <tr>\n",
       "      <th>4</th>\n",
       "      <td>2016-01-08</td>\n",
       "      <td>714.47</td>\n",
       "      <td>730.91</td>\n",
       "      <td>16.44</td>\n",
       "    </tr>\n",
       "    <tr>\n",
       "      <th>...</th>\n",
       "      <td>...</td>\n",
       "      <td>...</td>\n",
       "      <td>...</td>\n",
       "      <td>...</td>\n",
       "    </tr>\n",
       "    <tr>\n",
       "      <th>794</th>\n",
       "      <td>2019-03-04</td>\n",
       "      <td>1147.80</td>\n",
       "      <td>1153.42</td>\n",
       "      <td>5.62</td>\n",
       "    </tr>\n",
       "    <tr>\n",
       "      <th>795</th>\n",
       "      <td>2019-03-05</td>\n",
       "      <td>1162.03</td>\n",
       "      <td>1169.19</td>\n",
       "      <td>7.16</td>\n",
       "    </tr>\n",
       "    <tr>\n",
       "      <th>796</th>\n",
       "      <td>2019-03-06</td>\n",
       "      <td>1157.86</td>\n",
       "      <td>1164.94</td>\n",
       "      <td>7.08</td>\n",
       "    </tr>\n",
       "    <tr>\n",
       "      <th>797</th>\n",
       "      <td>2019-03-07</td>\n",
       "      <td>1143.30</td>\n",
       "      <td>1150.85</td>\n",
       "      <td>7.55</td>\n",
       "    </tr>\n",
       "    <tr>\n",
       "      <th>798</th>\n",
       "      <td>2019-03-08</td>\n",
       "      <td>1142.32</td>\n",
       "      <td>1149.97</td>\n",
       "      <td>7.65</td>\n",
       "    </tr>\n",
       "  </tbody>\n",
       "</table>\n",
       "<p>799 rows × 4 columns</p>\n",
       "</div>"
      ],
      "text/plain": [
       "Symbol       Date     GOOG    GOOGL   diff\n",
       "0      2016-01-04   741.84   759.44  17.60\n",
       "1      2016-01-05   742.58   761.53  18.95\n",
       "2      2016-01-06   743.62   759.33  15.71\n",
       "3      2016-01-07   726.39   741.00  14.61\n",
       "4      2016-01-08   714.47   730.91  16.44\n",
       "..            ...      ...      ...    ...\n",
       "794    2019-03-04  1147.80  1153.42   5.62\n",
       "795    2019-03-05  1162.03  1169.19   7.16\n",
       "796    2019-03-06  1157.86  1164.94   7.08\n",
       "797    2019-03-07  1143.30  1150.85   7.55\n",
       "798    2019-03-08  1142.32  1149.97   7.65\n",
       "\n",
       "[799 rows x 4 columns]"
      ]
     },
     "execution_count": 76,
     "metadata": {},
     "output_type": "execute_result"
    }
   ],
   "source": [
    "q5_df = df[(df['clean_symbol'].isin([ 'GOOG', 'GOOGL'])) & (df['Date'] > '2016-01-01')]\n",
    "q5_df_pivoted = q5_df.pivot_table(index='Date', columns='Symbol', values='Close').reset_index()\n",
    "q5_df_pivoted['diff'] = q5_df_pivoted['GOOGL'] - q5_df_pivoted['GOOG']\n",
    "q5_df_pivoted"
   ]
  },
  {
   "cell_type": "code",
   "execution_count": 78,
   "metadata": {},
   "outputs": [
    {
     "data": {
      "text/plain": [
       "[<matplotlib.lines.Line2D at 0x1f6ec479400>]"
      ]
     },
     "execution_count": 78,
     "metadata": {},
     "output_type": "execute_result"
    },
    {
     "data": {
      "image/png": "[encoded data removed]",
      "text/plain": [
       "<Figure size 864x504 with 1 Axes>"
      ]
     },
     "metadata": {
      "needs_background": "light"
     },
     "output_type": "display_data"
    }
   ],
   "source": [
    "fig, ax = plt.subplots(figsize = [12, 7])\n",
    "ax.plot('Date', 'diff', data=q5_df_pivoted, color='orange', marker='o', markersize=4)\n"
   ]
  },
  {
   "cell_type": "markdown",
   "metadata": {},
   "source": [
    "## Question 6\n",
    "\n",
    "**Compare the price histories of GOV vs OPI: do you notice anything odd? Read Government Properties Income Trust Announces the Completion of its Merger with Select Income REIT.Links to an external site. Business Wire. (2018, December 31), and spell out how you would handle these price histories. (10 pt)**\n",
    "\n",
    "This case is interesting. It differs from Q4 in that it's not a rename. It differs from Q5 in that there is a marked difference between the two stocks pre-post merger. \n",
    "\n",
    "Based on the lecture we should keep both of these to prevent survivorship bias. Each stock performed differently and since we have no way to guarantee predictions on merger success/fails, or which stocks will end up merging (without news), we should train our algorithm on both of these stocks.\n",
    "\n",
    "A neat way to remove this data would be to use more recent data but as the lecture said, that introduces it's own host of problems.\n",
    "\n",
    "All in all, for Q4,5,6 the use-case should determine how we clean this data."
   ]
  },
  {
   "cell_type": "code",
   "execution_count": 119,
   "metadata": {},
   "outputs": [
    {
     "data": {
      "text/html": [
       "<div>\n",
       "<style scoped>\n",
       "    .dataframe tbody tr th:only-of-type {\n",
       "        vertical-align: middle;\n",
       "    }\n",
       "\n",
       "    .dataframe tbody tr th {\n",
       "        vertical-align: top;\n",
       "    }\n",
       "\n",
       "    .dataframe thead th {\n",
       "        text-align: right;\n",
       "    }\n",
       "</style>\n",
       "<table border=\"1\" class=\"dataframe\">\n",
       "  <thead>\n",
       "    <tr style=\"text-align: right;\">\n",
       "      <th>Symbol</th>\n",
       "      <th>Date</th>\n",
       "      <th>GOV</th>\n",
       "      <th>OPI</th>\n",
       "      <th>diff</th>\n",
       "      <th>avg</th>\n",
       "    </tr>\n",
       "  </thead>\n",
       "  <tbody>\n",
       "    <tr>\n",
       "      <th>0</th>\n",
       "      <td>2016-01-04</td>\n",
       "      <td>11.246081</td>\n",
       "      <td>44.204084</td>\n",
       "      <td>32.958003</td>\n",
       "      <td>27.725082</td>\n",
       "    </tr>\n",
       "    <tr>\n",
       "      <th>1</th>\n",
       "      <td>2016-01-05</td>\n",
       "      <td>11.700320</td>\n",
       "      <td>45.989526</td>\n",
       "      <td>34.289206</td>\n",
       "      <td>28.844923</td>\n",
       "    </tr>\n",
       "    <tr>\n",
       "      <th>2</th>\n",
       "      <td>2016-01-06</td>\n",
       "      <td>11.495180</td>\n",
       "      <td>45.183197</td>\n",
       "      <td>33.688018</td>\n",
       "      <td>28.339189</td>\n",
       "    </tr>\n",
       "    <tr>\n",
       "      <th>3</th>\n",
       "      <td>2016-01-07</td>\n",
       "      <td>11.084899</td>\n",
       "      <td>43.570540</td>\n",
       "      <td>32.485641</td>\n",
       "      <td>27.327720</td>\n",
       "    </tr>\n",
       "    <tr>\n",
       "      <th>4</th>\n",
       "      <td>2016-01-08</td>\n",
       "      <td>10.718577</td>\n",
       "      <td>42.130668</td>\n",
       "      <td>31.412091</td>\n",
       "      <td>26.424623</td>\n",
       "    </tr>\n",
       "    <tr>\n",
       "      <th>...</th>\n",
       "      <td>...</td>\n",
       "      <td>...</td>\n",
       "      <td>...</td>\n",
       "      <td>...</td>\n",
       "      <td>...</td>\n",
       "    </tr>\n",
       "    <tr>\n",
       "      <th>795</th>\n",
       "      <td>2019-03-04</td>\n",
       "      <td>NaN</td>\n",
       "      <td>27.980000</td>\n",
       "      <td>NaN</td>\n",
       "      <td>NaN</td>\n",
       "    </tr>\n",
       "    <tr>\n",
       "      <th>796</th>\n",
       "      <td>2019-03-05</td>\n",
       "      <td>NaN</td>\n",
       "      <td>28.070000</td>\n",
       "      <td>NaN</td>\n",
       "      <td>NaN</td>\n",
       "    </tr>\n",
       "    <tr>\n",
       "      <th>797</th>\n",
       "      <td>2019-03-06</td>\n",
       "      <td>NaN</td>\n",
       "      <td>27.500000</td>\n",
       "      <td>NaN</td>\n",
       "      <td>NaN</td>\n",
       "    </tr>\n",
       "    <tr>\n",
       "      <th>798</th>\n",
       "      <td>2019-03-07</td>\n",
       "      <td>NaN</td>\n",
       "      <td>26.500000</td>\n",
       "      <td>NaN</td>\n",
       "      <td>NaN</td>\n",
       "    </tr>\n",
       "    <tr>\n",
       "      <th>799</th>\n",
       "      <td>2019-03-08</td>\n",
       "      <td>NaN</td>\n",
       "      <td>26.340000</td>\n",
       "      <td>NaN</td>\n",
       "      <td>NaN</td>\n",
       "    </tr>\n",
       "  </tbody>\n",
       "</table>\n",
       "<p>800 rows × 5 columns</p>\n",
       "</div>"
      ],
      "text/plain": [
       "Symbol       Date        GOV        OPI       diff        avg\n",
       "0      2016-01-04  11.246081  44.204084  32.958003  27.725082\n",
       "1      2016-01-05  11.700320  45.989526  34.289206  28.844923\n",
       "2      2016-01-06  11.495180  45.183197  33.688018  28.339189\n",
       "3      2016-01-07  11.084899  43.570540  32.485641  27.327720\n",
       "4      2016-01-08  10.718577  42.130668  31.412091  26.424623\n",
       "..            ...        ...        ...        ...        ...\n",
       "795    2019-03-04        NaN  27.980000        NaN        NaN\n",
       "796    2019-03-05        NaN  28.070000        NaN        NaN\n",
       "797    2019-03-06        NaN  27.500000        NaN        NaN\n",
       "798    2019-03-07        NaN  26.500000        NaN        NaN\n",
       "799    2019-03-08        NaN  26.340000        NaN        NaN\n",
       "\n",
       "[800 rows x 5 columns]"
      ]
     },
     "execution_count": 119,
     "metadata": {},
     "output_type": "execute_result"
    }
   ],
   "source": [
    "q6_df = df[(df['clean_symbol'].isin([ 'GOV', 'OPI'])) & (df['Date'] > '2016-01-01')]\n",
    "q6_df_pivoted = q6_df.pivot_table(index='Date', columns='Symbol', values='Close').reset_index()\n",
    "q6_df_pivoted['diff'] = q6_df_pivoted['OPI'] - q6_df_pivoted['GOV']\n",
    "q6_df_pivoted['avg'] = (q6_df_pivoted['OPI'] + q6_df_pivoted['GOV'])/2\n",
    "q6_df_pivoted"
   ]
  },
  {
   "cell_type": "code",
   "execution_count": 130,
   "metadata": {},
   "outputs": [],
   "source": [
    "#calc moving averages\n",
    "q6_df_pivoted['rolling_10dy_OPI'] = q6_df_pivoted['OPI'].rolling(10).mean()\n",
    "q6_df_pivoted['rolling_10dy_GOV'] = q6_df_pivoted['GOV'].rolling(10).mean()\n"
   ]
  },
  {
   "cell_type": "code",
   "execution_count": 132,
   "metadata": {},
   "outputs": [
    {
     "data": {
      "text/plain": [
       "[<matplotlib.lines.Line2D at 0x1f72f287ee0>]"
      ]
     },
     "execution_count": 132,
     "metadata": {},
     "output_type": "execute_result"
    },
    {
     "data": {
      "image/png": "[encoded data removed]",
      "text/plain": [
       "<Figure size 864x504 with 1 Axes>"
      ]
     },
     "metadata": {
      "needs_background": "light"
     },
     "output_type": "display_data"
    }
   ],
   "source": [
    "fig, ax = plt.subplots(figsize = [12, 7])\n",
    "ax.plot('Date', 'GOV', data=q6_df_pivoted, color='orange', marker='o', markersize=8)\n",
    "ax.plot('Date', 'OPI', data=q6_df_pivoted, color='blue', marker='v')\n",
    "ax.plot('Date', 'avg', data=q6_df_pivoted, color='red', marker='3')\n",
    "ax.plot('Date', 'rolling_10dy_OPI', data=q6_df_pivoted, color='red', marker='4')\n",
    "ax.plot('Date', 'rolling_10dy_GOV', data=q6_df_pivoted, color='purple', marker='4')"
   ]
  },
  {
   "cell_type": "markdown",
   "metadata": {},
   "source": [
    "## Question 7 \n",
    "\n",
    "**When you have a company that issues two classes of stocks (e.g., BF.A and BF.B), should you include both classes in your data? Discuss when it is a good idea to include them both and when you should not. (10 points)**\n",
    "\n",
    "Both should be included. Sometimes there might be a large price difference that warrants buying one share over another. Or there might be upcoming news that drastically affects the price. Like if Google announced their Class B shares are going to be up for sale or Class B shares will become Class A shares, then Class C shares would tank drastically I bet. \n",
    "\n",
    "If for some reason, the different classes are going to move in tandem forever, then it might not matter.\n",
    "\n",
    "If dividends matter then both should be included. \n",
    "\n",
    "If speed matters, both should be included. Trade speed (volume) for profit. "
   ]
  },
  {
   "cell_type": "markdown",
   "metadata": {},
   "source": [
    "## Question 8\n",
    "\n",
    "**What is “survivorship bias” with respect to a stock database? If I claim that this dataset represents US stocks with the top 1,000 market capitalization, does it have survivorship bias? Devise a simple method to find out. (10 points)**\n",
    "\n",
    "Survivorship bias with respect to a stock database would be a database consisting only of stocks still listed on the exchange.\n",
    "\n",
    "A simple method would be from the leture just check for dead stocks like Lehman or Enron.\n",
    "\n",
    "For this dataset it should be simple enough to check with the code below. Since it returns 127 dead stocks, we should be able to assume it doesn't have survivorship bias\n",
    "\n",
    "Another way would be to fire off a quick check for each ticker and see if any dead ones are included.\n"
   ]
  },
  {
   "cell_type": "code",
   "execution_count": 144,
   "metadata": {},
   "outputs": [
    {
     "data": {
      "text/html": [
       "<div>\n",
       "<style scoped>\n",
       "    .dataframe tbody tr th:only-of-type {\n",
       "        vertical-align: middle;\n",
       "    }\n",
       "\n",
       "    .dataframe tbody tr th {\n",
       "        vertical-align: top;\n",
       "    }\n",
       "\n",
       "    .dataframe thead th {\n",
       "        text-align: right;\n",
       "    }\n",
       "</style>\n",
       "<table border=\"1\" class=\"dataframe\">\n",
       "  <thead>\n",
       "    <tr style=\"text-align: right;\">\n",
       "      <th></th>\n",
       "      <th>Symbol</th>\n",
       "      <th>Stock_Max_Date</th>\n",
       "      <th>db_max_date</th>\n",
       "      <th>dead_or_alive</th>\n",
       "    </tr>\n",
       "  </thead>\n",
       "  <tbody>\n",
       "    <tr>\n",
       "      <th>8</th>\n",
       "      <td>ABCD'</td>\n",
       "      <td>2018-12-18</td>\n",
       "      <td>2019-03-08</td>\n",
       "      <td>Dead</td>\n",
       "    </tr>\n",
       "    <tr>\n",
       "      <th>19</th>\n",
       "      <td>ACTA'</td>\n",
       "      <td>2018-04-19</td>\n",
       "      <td>2019-03-08</td>\n",
       "      <td>Dead</td>\n",
       "    </tr>\n",
       "    <tr>\n",
       "      <th>20</th>\n",
       "      <td>ACXM'</td>\n",
       "      <td>2018-10-01</td>\n",
       "      <td>2019-03-08</td>\n",
       "      <td>Dead</td>\n",
       "    </tr>\n",
       "    <tr>\n",
       "      <th>30</th>\n",
       "      <td>AFSI'</td>\n",
       "      <td>2018-11-29</td>\n",
       "      <td>2019-03-08</td>\n",
       "      <td>Dead</td>\n",
       "    </tr>\n",
       "    <tr>\n",
       "      <th>34</th>\n",
       "      <td>AHL</td>\n",
       "      <td>2019-02-14</td>\n",
       "      <td>2019-03-08</td>\n",
       "      <td>Dead</td>\n",
       "    </tr>\n",
       "    <tr>\n",
       "      <th>...</th>\n",
       "      <td>...</td>\n",
       "      <td>...</td>\n",
       "      <td>...</td>\n",
       "      <td>...</td>\n",
       "    </tr>\n",
       "    <tr>\n",
       "      <th>1026</th>\n",
       "      <td>WR</td>\n",
       "      <td>2018-06-04</td>\n",
       "      <td>2019-03-08</td>\n",
       "      <td>Dead</td>\n",
       "    </tr>\n",
       "    <tr>\n",
       "      <th>1038</th>\n",
       "      <td>WYN</td>\n",
       "      <td>2018-05-31</td>\n",
       "      <td>2019-03-08</td>\n",
       "      <td>Dead</td>\n",
       "    </tr>\n",
       "    <tr>\n",
       "      <th>1042</th>\n",
       "      <td>XCRA'</td>\n",
       "      <td>2018-10-01</td>\n",
       "      <td>2019-03-08</td>\n",
       "      <td>Dead</td>\n",
       "    </tr>\n",
       "    <tr>\n",
       "      <th>1044</th>\n",
       "      <td>XL'</td>\n",
       "      <td>2018-09-13</td>\n",
       "      <td>2019-03-08</td>\n",
       "      <td>Dead</td>\n",
       "    </tr>\n",
       "    <tr>\n",
       "      <th>1047</th>\n",
       "      <td>XRM'</td>\n",
       "      <td>2018-10-16</td>\n",
       "      <td>2019-03-08</td>\n",
       "      <td>Dead</td>\n",
       "    </tr>\n",
       "  </tbody>\n",
       "</table>\n",
       "<p>127 rows × 4 columns</p>\n",
       "</div>"
      ],
      "text/plain": [
       "     Symbol Stock_Max_Date db_max_date dead_or_alive\n",
       "8     ABCD'     2018-12-18  2019-03-08          Dead\n",
       "19    ACTA'     2018-04-19  2019-03-08          Dead\n",
       "20    ACXM'     2018-10-01  2019-03-08          Dead\n",
       "30    AFSI'     2018-11-29  2019-03-08          Dead\n",
       "34      AHL     2019-02-14  2019-03-08          Dead\n",
       "...     ...            ...         ...           ...\n",
       "1026     WR     2018-06-04  2019-03-08          Dead\n",
       "1038    WYN     2018-05-31  2019-03-08          Dead\n",
       "1042  XCRA'     2018-10-01  2019-03-08          Dead\n",
       "1044    XL'     2018-09-13  2019-03-08          Dead\n",
       "1047   XRM'     2018-10-16  2019-03-08          Dead\n",
       "\n",
       "[127 rows x 4 columns]"
      ]
     },
     "execution_count": 144,
     "metadata": {},
     "output_type": "execute_result"
    }
   ],
   "source": [
    "grouped = df.groupby(['Symbol'])['Date'].max().reset_index()\n",
    "grouped.rename(columns={'Date':'Stock_Max_Date'}, inplace=True)\n",
    "grouped['db_max_date'] = df['Date'].max()\n",
    "grouped['dead_or_alive'] = np.where(grouped['Stock_Max_Date'] < grouped['db_max_date'],\n",
    "                                    \"Dead\",\n",
    "                                    \"Alive\")\n",
    "grouped[grouped['dead_or_alive'] == 'Dead']\n"
   ]
  }
 ],
 "metadata": {
  "kernelspec": {
   "display_name": "Python 3",
   "language": "python",
   "name": "python3"
  },
  "language_info": {
   "codemirror_mode": {
    "name": "ipython",
    "version": 3
   },
   "file_extension": ".py",
   "mimetype": "text/x-python",
   "name": "python",
   "nbconvert_exporter": "python",
   "pygments_lexer": "ipython3",
   "version": "3.9.10"
  }
 },
 "nbformat": 4,
 "nbformat_minor": 2
}
