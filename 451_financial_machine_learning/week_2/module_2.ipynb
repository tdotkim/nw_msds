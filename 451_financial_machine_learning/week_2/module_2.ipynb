{
 "cells": [
  {
   "cell_type": "markdown",
   "metadata": {},
   "source": [
    "# TK Module 2"
   ]
  },
  {
   "cell_type": "markdown",
   "metadata": {},
   "source": [
    "## Setup"
   ]
  },
  {
   "cell_type": "code",
   "execution_count": 221,
   "metadata": {},
   "outputs": [],
   "source": [
    "import pandas as pd\n",
    "import numpy as np\n",
    "import scipy.stats as stats\n",
    "import matplotlib.pyplot as plt\n",
    "import datetime as dt"
   ]
  },
  {
   "cell_type": "code",
   "execution_count": 222,
   "metadata": {},
   "outputs": [],
   "source": [
    "pd.set_option('display.float_format', lambda x: '%.3f' % x)\n"
   ]
  },
  {
   "cell_type": "markdown",
   "metadata": {},
   "source": [
    "## Bars\n",
    "\n",
    "Time-Bars, downsampled to every x interval of time. \n",
    "\n",
    "Ticks, price at transaction. If there's only one transation in the whole day, there is only row for that whole day. If there's thousands, you get thousands of records.\n",
    "\n",
    "Volume bar is sampled at a certain volume threshold. So if 10 shares are traded and the treshold is 10, then a record is produced. If 9 ticks occur for 1 share each, no record is produced. \n",
    "\n",
    "Dollar bar is very similar to volume but instead of being measured in number of shares traded, it's measured in amount of dollars traded. \n"
   ]
  },
  {
   "cell_type": "code",
   "execution_count": 223,
   "metadata": {},
   "outputs": [],
   "source": [
    "def normal_returns(dataframe, column = 'price'):\n",
    "    \"\"\"\n",
    "    gives returns without any transformations\n",
    "\n",
    "    Parameters\n",
    "    ----------\n",
    "    dataframe: give the dataframe you want to use\n",
    "    \n",
    "    column: give the name of the column \n",
    "    that holds the pricing data you want to use\n",
    "    \"\"\"\n",
    "    simple_returns = dataframe[column].pct_change().dropna()\n",
    "    return simple_returns\n",
    "\n",
    "def log_returns(dataframe, column = 'price'):\n",
    "    \"\"\"\n",
    "    gives returns without a log transform\n",
    "\n",
    "    Parameters\n",
    "    ----------\n",
    "    dataframe: give the dataframe you want to use\n",
    "    \n",
    "    column: give the name of the column \n",
    "    that holds the pricing data you want to use\n",
    "    \"\"\"\n",
    "    log_returns = np.log(dataframe[column] / dataframe[column].shift(1)).dropna()\n",
    "    return log_returns"
   ]
  },
  {
   "cell_type": "code",
   "execution_count": 224,
   "metadata": {},
   "outputs": [],
   "source": [
    "class BarType:\n",
    "    def __init__(self, name, colchoice = 'close'):\n",
    "        self.name = name\n",
    "        self.colchoice = colchoice\n",
    "        \n",
    "\n",
    "    def readCSV(self, filename):\n",
    "        self.dataframe = pd.read_csv(DATAPATH + filename, index_col=0, parse_dates=True)\n",
    "        self.dataframe = self.dataframe.sort_values(by='date_time', ascending=True)\n",
    "        self.norm_returns = normal_returns(self.dataframe, self.colchoice)\n",
    "        self.log_returns = log_returns(self.dataframe, self.colchoice)\n",
    "\n",
    "    def useDataframe(self, dataframe):\n",
    "        self.dataframe = dataframe.copy()\n",
    "        self.dataframe = self.dataframe.sort_values(by='date_time', ascending=True)\n",
    "        self.norm_returns = normal_returns(self.dataframe, self.colchoice)\n",
    "        self.log_returns = log_returns(self.dataframe, self.colchoice)\n",
    "\n",
    "    def giveQQ(self, choice='log', plotter = plt):\n",
    "        if choice == 'log':\n",
    "            stats.probplot(self.log_returns, dist='norm', plot=plotter)\n",
    "        elif choice == 'normal':\n",
    "            stats.probplot(self.norm_returns, dist='norm', plot=plotter)\n",
    "        else:\n",
    "            print('error, choose log or normal')\n",
    "            \n",
    "\n"
   ]
  },
  {
   "cell_type": "code",
   "execution_count": 225,
   "metadata": {},
   "outputs": [],
   "source": [
    "DATAPATH = 'C:/Users/tkkim/Desktop/nw_msds/451_financial_machine_learning/week_2/'"
   ]
  },
  {
   "cell_type": "code",
   "execution_count": 226,
   "metadata": {},
   "outputs": [],
   "source": [
    "aapl_1min = BarType('AAPL_1min_time_bars', 'price')\n",
    "aapl_1min.readCSV('AAPL_1min.csv')"
   ]
  },
  {
   "cell_type": "code",
   "execution_count": 227,
   "metadata": {},
   "outputs": [],
   "source": [
    "aapl_1min = BarType('AAPL_1min_time_bars', 'price')\n",
    "aapl_1min.readCSV('AAPL_1min.csv')"
   ]
  },
  {
   "cell_type": "code",
   "execution_count": 228,
   "metadata": {},
   "outputs": [],
   "source": [
    "aapl_dollar = BarType('AAPL_dollar_bars', 'close')\n",
    "aapl_dollar.readCSV('AAPL_dollar_bars_3300000.csv')"
   ]
  },
  {
   "cell_type": "code",
   "execution_count": 229,
   "metadata": {},
   "outputs": [],
   "source": [
    "aapl_tick = BarType('AAPL_tick_bars', 'close')\n",
    "aapl_tick.readCSV('AAPL_tick_bars_100.csv')"
   ]
  },
  {
   "cell_type": "code",
   "execution_count": 230,
   "metadata": {},
   "outputs": [],
   "source": [
    "aapl_volume = BarType('AAPL_volume_bars', 'close')\n",
    "aapl_volume.readCSV('AAPL_volume_bars_22000.csv')"
   ]
  },
  {
   "cell_type": "markdown",
   "metadata": {},
   "source": [
    "## Question 1 \n",
    "\n",
    "**How does bar data differ from tick data? (5 points)**\n",
    "\n",
    "Bar data aggregates raw tick data. Time bars aggregate based on intervals of time, Volume bars aggregate on the number of shares traded, and Dollar bars aggregate on the dollar amount traded.\n",
    "\n",
    "Tick data is every transaction for any amount of shares or dollars at any time."
   ]
  },
  {
   "cell_type": "markdown",
   "metadata": {},
   "source": [
    "## Question 2\n",
    "\n",
    "**What does “dollar bar” mean? Does it mean that the prices have moved a certain fixed dollar value in each bar? (5 points)**\n",
    "\n",
    "Dollar bar means that the ticks are aggregated and sampled only when a certain dollar threshold is met. If we assume a threshold of $500 and then if 100 ticks occur for 1 share each at $5 a pop, a record is generated at the $500 mark with a volume of 100.\n",
    "\n",
    "It does not mean that the prices have moved, they could be static like in the example above. It's purely based on volume * price."
   ]
  },
  {
   "cell_type": "code",
   "execution_count": 231,
   "metadata": {},
   "outputs": [],
   "source": [
    "raw_data = pd.read_pickle(DATAPATH + 'AAPL_raw_tick_data.bz2')"
   ]
  },
  {
   "cell_type": "code",
   "execution_count": 232,
   "metadata": {},
   "outputs": [
    {
     "data": {
      "text/plain": [
       "3214020.0"
      ]
     },
     "execution_count": 232,
     "metadata": {},
     "output_type": "execute_result"
    }
   ],
   "source": [
    "# guess the threshold\n",
    "(aapl_dollar.dataframe['close'] * aapl_dollar.dataframe['volume']).min()"
   ]
  },
  {
   "cell_type": "code",
   "execution_count": 233,
   "metadata": {},
   "outputs": [],
   "source": [
    "def make_dollar_bar(rawdat, threshold = 3214019):\n",
    "    bigholder = []\n",
    "    tempdf = rawdat.copy()\n",
    "    tempdf['total_traded'] = tempdf['price'] * tempdf['volume']\n",
    "    tempdf = tempdf.sort_values(by='date_time', ascending=True)\n",
    "    valholder = 0\n",
    "    ranger = 0\n",
    "    for i in range(len(tempdf)):\n",
    "        if valholder >= threshold:\n",
    "            smallholder = {}\n",
    "            minidf = tempdf.iloc[ranger:i]\n",
    "            smallholder['date_time'] = minidf['date_time'].max()\n",
    "            smallholder['open'] = minidf.iloc[[0]]['price'].values[0]\n",
    "            smallholder['high'] = minidf['price'].max()\n",
    "            smallholder['low'] = minidf['price'].min()\n",
    "            smallholder['close'] = minidf.iloc[[-1]]['price'].values[0]\n",
    "            smallholder['volume'] = minidf['volume'].sum()\n",
    "            smallholder['total_traded'] = valholder\n",
    "            bigholder.append(smallholder)\n",
    "            valholder = 0\n",
    "            ranger = i+1\n",
    "        else:\n",
    "            valholder += tempdf['total_traded'][i]\n",
    "\n",
    "    if i/len(tempdf) in [.1,.2,.3,.4,.5,.6,.7,.8,.9]:\n",
    "        print(f'percent done: {i/len(tempdf):.2%}')\n",
    "\n",
    "    smallholder = {}\n",
    "    minidf = tempdf.iloc[ranger:i+1]\n",
    "    smallholder['date_time'] = minidf['date_time'].max()\n",
    "    smallholder['open'] = minidf.iloc[[0]]['price'].values[0]\n",
    "    smallholder['high'] = minidf['price'].max()\n",
    "    smallholder['low'] = minidf['price'].min()\n",
    "    smallholder['close'] = minidf.iloc[[-1]]['price'].values[0]\n",
    "    smallholder['volume'] = minidf['volume'].sum()\n",
    "    smallholder['total_traded'] = valholder\n",
    "    bigholder.append(smallholder)\n",
    "    output = pd.DataFrame(bigholder)\n",
    "    return output\n",
    "    \n"
   ]
  },
  {
   "cell_type": "code",
   "execution_count": 234,
   "metadata": {},
   "outputs": [],
   "source": [
    "def make_volume_bar(rawdat, threshold = 3214019):\n",
    "    bigholder = []\n",
    "    tempdf = rawdat.copy()\n",
    "    tempdf = tempdf.sort_values(by='date_time', ascending=True)\n",
    "    valholder = 0\n",
    "    ranger = 0\n",
    "    for i in range(len(tempdf)):\n",
    "        if valholder >= threshold:\n",
    "            smallholder = {}\n",
    "            minidf = tempdf.iloc[ranger:i]\n",
    "            smallholder['date_time'] = minidf['date_time'].max()\n",
    "            smallholder['open'] = minidf.iloc[[0]]['price'].values[0]\n",
    "            smallholder['high'] = minidf['price'].max()\n",
    "            smallholder['low'] = minidf['price'].min()\n",
    "            smallholder['close'] = minidf.iloc[[-1]]['price'].values[0]\n",
    "            smallholder['volume'] = minidf['volume'].sum()\n",
    "            smallholder['total_volume'] = valholder\n",
    "            bigholder.append(smallholder)\n",
    "            valholder = 0\n",
    "            ranger = i+1\n",
    "        else:\n",
    "            valholder += tempdf['volume'][i]\n",
    "\n",
    "    if i/len(tempdf) in [.1,.2,.3,.4,.5,.6,.7,.8,.9]:\n",
    "        print(f'percent done: {i/len(tempdf):.2%}')\n",
    "\n",
    "    smallholder = {}\n",
    "    minidf = tempdf.iloc[ranger:i+1]\n",
    "    smallholder['date_time'] = minidf['date_time'].max()\n",
    "    smallholder['open'] = minidf.iloc[[0]]['price'].values[0]\n",
    "    smallholder['high'] = minidf['price'].max()\n",
    "    smallholder['low'] = minidf['price'].min()\n",
    "    smallholder['close'] = minidf.iloc[[-1]]['price'].values[0]\n",
    "    smallholder['volume'] = minidf['volume'].sum()\n",
    "    smallholder['total_volume'] = valholder\n",
    "    bigholder.append(smallholder)\n",
    "    output = pd.DataFrame(bigholder)\n",
    "    return output\n",
    "    \n"
   ]
  },
  {
   "cell_type": "code",
   "execution_count": null,
   "metadata": {},
   "outputs": [],
   "source": []
  },
  {
   "cell_type": "markdown",
   "metadata": {},
   "source": [
    "## Question 3\n",
    "\n",
    "**Compute the serial auto-correlation (at lag=1) of returns. Which type of bars have the highest serial auto-correlation? The lowest? Which trading strategy do you expect will benefit from the highest? From the lowest? (20 points)**\n",
    "\n",
    "Dollar bars have the highest auto-correlations.\n",
    "\n",
    "Tick bars have the lowest auto-correlations.\n",
    "\n",
    "I think any strategy that focuses on change in price benefits from high autocorrelation. In the example below, a strategy that simply bets more as the return increases period over period would benefit highly from this near perfect autocorrelation. Now this will rely on the lag being set well. In the hpp example, if we set lag to 3, it looks good. If we set it to 2 it looks terrible.\n",
    "\n",
    "Low auto correlation strategies must leverage something else and should not be dependent on patterns of change in the price"
   ]
  },
  {
   "cell_type": "code",
   "execution_count": 235,
   "metadata": {},
   "outputs": [
    {
     "data": {
      "text/plain": [
       "0.9958705948858223"
      ]
     },
     "execution_count": 235,
     "metadata": {},
     "output_type": "execute_result"
    }
   ],
   "source": [
    "simple_perfect_positive = [1,2,3,4,5]\n",
    "spp_return = pd.Series(simple_perfect_positive).pct_change().dropna()\n",
    "spp_autocorr = spp_return.autocorr(lag=1)\n",
    "spp_autocorr"
   ]
  },
  {
   "cell_type": "code",
   "execution_count": 236,
   "metadata": {},
   "outputs": [
    {
     "data": {
      "text/plain": [
       "-0.19841356549623806"
      ]
     },
     "execution_count": 236,
     "metadata": {},
     "output_type": "execute_result"
    }
   ],
   "source": [
    "harder_perfect_positive = [2,1,-2,5,1,-5,10,1,-10,20,1,-20]\n",
    "hpp_return = pd.Series(harder_perfect_positive).pct_change().dropna()\n",
    "hpp_autocorr = hpp_return.autocorr(lag=2)\n",
    "hpp_autocorr"
   ]
  },
  {
   "cell_type": "code",
   "execution_count": 237,
   "metadata": {},
   "outputs": [
    {
     "data": {
      "text/html": [
       "<div>\n",
       "<style scoped>\n",
       "    .dataframe tbody tr th:only-of-type {\n",
       "        vertical-align: middle;\n",
       "    }\n",
       "\n",
       "    .dataframe tbody tr th {\n",
       "        vertical-align: top;\n",
       "    }\n",
       "\n",
       "    .dataframe thead th {\n",
       "        text-align: right;\n",
       "    }\n",
       "</style>\n",
       "<table border=\"1\" class=\"dataframe\">\n",
       "  <thead>\n",
       "    <tr style=\"text-align: right;\">\n",
       "      <th></th>\n",
       "      <th>name</th>\n",
       "      <th>norm</th>\n",
       "      <th>log</th>\n",
       "    </tr>\n",
       "  </thead>\n",
       "  <tbody>\n",
       "    <tr>\n",
       "      <th>0</th>\n",
       "      <td>AAPL_1min_time_bars</td>\n",
       "      <td>-0.058</td>\n",
       "      <td>-0.058</td>\n",
       "    </tr>\n",
       "    <tr>\n",
       "      <th>1</th>\n",
       "      <td>AAPL_dollar_bars</td>\n",
       "      <td>-0.069</td>\n",
       "      <td>-0.069</td>\n",
       "    </tr>\n",
       "    <tr>\n",
       "      <th>2</th>\n",
       "      <td>AAPL_tick_bars</td>\n",
       "      <td>-0.013</td>\n",
       "      <td>-0.013</td>\n",
       "    </tr>\n",
       "    <tr>\n",
       "      <th>3</th>\n",
       "      <td>AAPL_volume_bars</td>\n",
       "      <td>-0.060</td>\n",
       "      <td>-0.059</td>\n",
       "    </tr>\n",
       "  </tbody>\n",
       "</table>\n",
       "</div>"
      ],
      "text/plain": [
       "                  name   norm    log\n",
       "0  AAPL_1min_time_bars -0.058 -0.058\n",
       "1     AAPL_dollar_bars -0.069 -0.069\n",
       "2       AAPL_tick_bars -0.013 -0.013\n",
       "3     AAPL_volume_bars -0.060 -0.059"
      ]
     },
     "execution_count": 237,
     "metadata": {},
     "output_type": "execute_result"
    }
   ],
   "source": [
    "autocorr_list = []\n",
    "objs = [aapl_1min, aapl_dollar, aapl_tick, aapl_volume ]\n",
    "\n",
    "for thing in objs:\n",
    "    autocorr_holder = {}\n",
    "    autocorr_holder['name'] = thing.name\n",
    "    autocorr_holder['norm'] = thing.norm_returns.autocorr(lag=1)\n",
    "    autocorr_holder['log'] = thing.log_returns.autocorr(lag=1)\n",
    "    autocorr_list.append(autocorr_holder)\n",
    "\n",
    "autocorr_df = pd.DataFrame(autocorr_list)\n",
    "\n",
    "autocorr_df"
   ]
  },
  {
   "cell_type": "markdown",
   "metadata": {},
   "source": [
    "## Question 4\n",
    "\n",
    "**Which type of return bars have the most normal (Gaussian) distribution of returns? Which type has the least? (15 points) (Hint: You can go back to your own/your peers' research in the discussion board to choose the test most suitable for this)**\n",
    "\n",
    "Using the Shapiro-Wilks test, we can see the scores below. Everything but the time bars are more normally distributed. Time bars for some reason look really bad. THe highest value is tick and the second highest is volume\n",
    "\n"
   ]
  },
  {
   "cell_type": "markdown",
   "metadata": {},
   "source": [
    "## Question 4\n",
    "\n",
    "**Which type of return bars have the most normal (Gaussian) distribution of returns? Which type has the least? (15 points) (Hint: You can go back to your own/your peers' research in the discussion board to choose the test most suitable for this)**\n",
    "\n",
    "Using the Shapiro-Wilks test, we can see the scores below. Everything but the time bars are more normally distributed. Time bars for some reason look really bad. THe highest value is tick and the scond highest is volume.\n",
    "\n",
    "Interestingly, while it gets a good Shapiro-Wilks score, other methods don't do as well and this might be due to the low variance. Most of the data around 97% is between 0.001 and -0.001 with a standard deviation of .0005 which is vastly different than a standard deviation of 1.\n",
    "\n"
   ]
  },
  {
   "cell_type": "code",
   "execution_count": 238,
   "metadata": {},
   "outputs": [
    {
     "data": {
      "text/plain": [
       "0.012739442480456942"
      ]
     },
     "execution_count": 238,
     "metadata": {},
     "output_type": "execute_result"
    }
   ],
   "source": [
    "aapl_dollar.norm_returns[aapl_dollar.norm_returns > 0.001].count()/aapl_dollar.norm_returns.shape[0]"
   ]
  },
  {
   "cell_type": "code",
   "execution_count": 239,
   "metadata": {},
   "outputs": [
    {
     "data": {
      "text/plain": [
       "0.01242646901918385"
      ]
     },
     "execution_count": 239,
     "metadata": {},
     "output_type": "execute_result"
    }
   ],
   "source": [
    "aapl_dollar.norm_returns[aapl_dollar.norm_returns < -0.001].count()/aapl_dollar.norm_returns.shape[0]"
   ]
  },
  {
   "cell_type": "code",
   "execution_count": 240,
   "metadata": {},
   "outputs": [
    {
     "name": "stderr",
     "output_type": "stream",
     "text": [
      "c:\\Users\\tkkim\\AppData\\Local\\Programs\\Python\\Python39\\lib\\site-packages\\scipy\\stats\\_morestats.py:1882: UserWarning: p-value may not be accurate for N > 5000.\n",
      "  warnings.warn(\"p-value may not be accurate for N > 5000.\")\n"
     ]
    },
    {
     "data": {
      "text/html": [
       "<div>\n",
       "<style scoped>\n",
       "    .dataframe tbody tr th:only-of-type {\n",
       "        vertical-align: middle;\n",
       "    }\n",
       "\n",
       "    .dataframe tbody tr th {\n",
       "        vertical-align: top;\n",
       "    }\n",
       "\n",
       "    .dataframe thead th {\n",
       "        text-align: right;\n",
       "    }\n",
       "</style>\n",
       "<table border=\"1\" class=\"dataframe\">\n",
       "  <thead>\n",
       "    <tr style=\"text-align: right;\">\n",
       "      <th></th>\n",
       "      <th>name</th>\n",
       "      <th>sw_norm</th>\n",
       "      <th>sw_log</th>\n",
       "      <th>sw_norm_p</th>\n",
       "      <th>sw_log_p</th>\n",
       "      <th>da_norm</th>\n",
       "      <th>da_log</th>\n",
       "      <th>da_norm_p</th>\n",
       "      <th>da_log_p</th>\n",
       "    </tr>\n",
       "  </thead>\n",
       "  <tbody>\n",
       "    <tr>\n",
       "      <th>0</th>\n",
       "      <td>AAPL_1min_time_bars</td>\n",
       "      <td>0.398</td>\n",
       "      <td>0.393</td>\n",
       "      <td>0.000</td>\n",
       "      <td>0.000</td>\n",
       "      <td>591057.891</td>\n",
       "      <td>618054.483</td>\n",
       "      <td>0.000</td>\n",
       "      <td>0.000</td>\n",
       "    </tr>\n",
       "    <tr>\n",
       "      <th>1</th>\n",
       "      <td>AAPL_dollar_bars</td>\n",
       "      <td>0.679</td>\n",
       "      <td>0.677</td>\n",
       "      <td>0.000</td>\n",
       "      <td>0.000</td>\n",
       "      <td>176921.419</td>\n",
       "      <td>188134.782</td>\n",
       "      <td>0.000</td>\n",
       "      <td>0.000</td>\n",
       "    </tr>\n",
       "    <tr>\n",
       "      <th>2</th>\n",
       "      <td>AAPL_tick_bars</td>\n",
       "      <td>0.697</td>\n",
       "      <td>0.694</td>\n",
       "      <td>0.000</td>\n",
       "      <td>0.000</td>\n",
       "      <td>215715.165</td>\n",
       "      <td>223307.043</td>\n",
       "      <td>0.000</td>\n",
       "      <td>0.000</td>\n",
       "    </tr>\n",
       "    <tr>\n",
       "      <th>3</th>\n",
       "      <td>AAPL_volume_bars</td>\n",
       "      <td>0.694</td>\n",
       "      <td>0.691</td>\n",
       "      <td>0.000</td>\n",
       "      <td>0.000</td>\n",
       "      <td>168663.730</td>\n",
       "      <td>175202.281</td>\n",
       "      <td>0.000</td>\n",
       "      <td>0.000</td>\n",
       "    </tr>\n",
       "  </tbody>\n",
       "</table>\n",
       "</div>"
      ],
      "text/plain": [
       "                  name  sw_norm  sw_log  sw_norm_p  sw_log_p    da_norm  \\\n",
       "0  AAPL_1min_time_bars    0.398   0.393      0.000     0.000 591057.891   \n",
       "1     AAPL_dollar_bars    0.679   0.677      0.000     0.000 176921.419   \n",
       "2       AAPL_tick_bars    0.697   0.694      0.000     0.000 215715.165   \n",
       "3     AAPL_volume_bars    0.694   0.691      0.000     0.000 168663.730   \n",
       "\n",
       "      da_log  da_norm_p  da_log_p  \n",
       "0 618054.483      0.000     0.000  \n",
       "1 188134.782      0.000     0.000  \n",
       "2 223307.043      0.000     0.000  \n",
       "3 175202.281      0.000     0.000  "
      ]
     },
     "execution_count": 240,
     "metadata": {},
     "output_type": "execute_result"
    }
   ],
   "source": [
    "score_list = []\n",
    "objs = [aapl_1min, aapl_dollar, aapl_tick, aapl_volume ]\n",
    "\n",
    "for thing in objs:\n",
    "    score_holder = {}\n",
    "    score_holder['name'] = thing.name\n",
    "    score_holder['sw_norm'] = stats.shapiro(thing.norm_returns).statistic\n",
    "    score_holder['sw_log'] = stats.shapiro(thing.log_returns).statistic\n",
    "    score_holder['sw_norm_p'] = stats.shapiro(thing.norm_returns).pvalue\n",
    "    score_holder['sw_log_p'] = stats.shapiro(thing.log_returns).pvalue\n",
    "    score_holder['da_norm'] = stats.normaltest(thing.norm_returns).statistic\n",
    "    score_holder['da_log'] = stats.normaltest(thing.log_returns).statistic\n",
    "    score_holder['da_norm_p'] = stats.normaltest(thing.norm_returns).pvalue\n",
    "    score_holder['da_log_p'] = stats.normaltest(thing.log_returns).pvalue\n",
    "    score_list.append(score_holder)\n",
    "\n",
    "score_df = pd.DataFrame(score_list)\n",
    "\n",
    "score_df"
   ]
  },
  {
   "cell_type": "code",
   "execution_count": 241,
   "metadata": {},
   "outputs": [
    {
     "data": {
      "text/plain": [
       "<Axes: >"
      ]
     },
     "execution_count": 241,
     "metadata": {},
     "output_type": "execute_result"
    },
    {
     "data": {
      "image/png": "[encoded data removed]",
      "text/plain": [
       "<Figure size 432x288 with 4 Axes>"
      ]
     },
     "metadata": {
      "needs_background": "light"
     },
     "output_type": "display_data"
    }
   ],
   "source": [
    "fig, axes = plt.subplots(nrows=2, ncols=2)\n",
    "\n",
    "aapl_1min.norm_returns.hist(ax=axes[0,0])\n",
    "aapl_dollar.norm_returns.hist(ax=axes[0,1])\n",
    "aapl_tick.norm_returns.hist(ax=axes[1,0])\n",
    "aapl_volume.norm_returns.hist(ax=axes[1,1])\n"
   ]
  },
  {
   "cell_type": "code",
   "execution_count": 242,
   "metadata": {},
   "outputs": [
    {
     "data": {
      "text/plain": [
       "((array([-4.38277084, -4.18558435, -4.0783895 , ...,  4.0783895 ,\n",
       "          4.18558435,  4.38277084]),\n",
       "  array([-0.04991133, -0.03247121, -0.02236195, ...,  0.0164067 ,\n",
       "          0.01660218,  0.02581155])),\n",
       " (0.00047132882575779805, 2.013445302176362e-06, 0.8325972015248408))"
      ]
     },
     "execution_count": 242,
     "metadata": {},
     "output_type": "execute_result"
    },
    {
     "data": {
      "image/png": "[encoded data removed]",
      "text/plain": [
       "<Figure size 432x288 with 4 Axes>"
      ]
     },
     "metadata": {
      "needs_background": "light"
     },
     "output_type": "display_data"
    }
   ],
   "source": [
    "fig2, axes2 = plt.subplots(nrows=2, ncols=2)\n",
    "stats.probplot(aapl_1min.norm_returns, dist='norm', plot=axes2[0,0])\n",
    "stats.probplot(aapl_dollar.norm_returns, dist='norm', plot=axes2[0,1])\n",
    "stats.probplot(aapl_tick.norm_returns, dist='norm', plot=axes2[1,0])\n",
    "stats.probplot(aapl_volume.norm_returns, dist='norm', plot=axes2[1,1])\n",
    "\n"
   ]
  },
  {
   "cell_type": "markdown",
   "metadata": {},
   "source": [
    "## Question 5\n",
    "\n",
    "**Download the raw tick data for AAPL from AAPL_raw_tick_data.bz2. Construct the “order flow” from this data.  You will need to read Chan, 2017, Machine Trading, Chapter 6 to understand order flow and answer this question. (35 points) .**\n",
    "\n",
    "\n",
    "The code below attempts to replicate the BVC from the text. \n",
    "\n",
    "First we'll take the raw data then convert it to volume bars. We use 22000 as the volume threshold based on the minimum volume from the volume dataset. \n",
    "\n",
    "Then we'll create our object with the info and then run some additional calculations.\n",
    "\n",
    "For this exercise, we'll just do a flag of buy if the net order flow calculation in the 'calced' column is > 0 and a flag of sell if <= 0. \n"
   ]
  },
  {
   "cell_type": "code",
   "execution_count": 243,
   "metadata": {},
   "outputs": [
    {
     "data": {
      "text/plain": [
       "22000"
      ]
     },
     "execution_count": 243,
     "metadata": {},
     "output_type": "execute_result"
    }
   ],
   "source": [
    "# guess the volume threshold\n",
    "aapl_volume.dataframe['volume'].min()"
   ]
  },
  {
   "cell_type": "code",
   "execution_count": 244,
   "metadata": {},
   "outputs": [
    {
     "data": {
      "text/html": [
       "<div>\n",
       "<style scoped>\n",
       "    .dataframe tbody tr th:only-of-type {\n",
       "        vertical-align: middle;\n",
       "    }\n",
       "\n",
       "    .dataframe tbody tr th {\n",
       "        vertical-align: top;\n",
       "    }\n",
       "\n",
       "    .dataframe thead th {\n",
       "        text-align: right;\n",
       "    }\n",
       "</style>\n",
       "<table border=\"1\" class=\"dataframe\">\n",
       "  <thead>\n",
       "    <tr style=\"text-align: right;\">\n",
       "      <th></th>\n",
       "      <th>date_time</th>\n",
       "      <th>open</th>\n",
       "      <th>high</th>\n",
       "      <th>low</th>\n",
       "      <th>close</th>\n",
       "      <th>total_volume</th>\n",
       "    </tr>\n",
       "  </thead>\n",
       "  <tbody>\n",
       "    <tr>\n",
       "      <th>0</th>\n",
       "      <td>2019-01-02 05:02:28</td>\n",
       "      <td>154.400</td>\n",
       "      <td>154.700</td>\n",
       "      <td>153.010</td>\n",
       "      <td>154.620</td>\n",
       "      <td>22012</td>\n",
       "    </tr>\n",
       "    <tr>\n",
       "      <th>1</th>\n",
       "      <td>2019-01-02 07:00:00</td>\n",
       "      <td>154.670</td>\n",
       "      <td>154.700</td>\n",
       "      <td>154.100</td>\n",
       "      <td>154.500</td>\n",
       "      <td>22063</td>\n",
       "    </tr>\n",
       "    <tr>\n",
       "      <th>2</th>\n",
       "      <td>2019-01-02 07:18:04</td>\n",
       "      <td>154.500</td>\n",
       "      <td>155.180</td>\n",
       "      <td>154.500</td>\n",
       "      <td>155.180</td>\n",
       "      <td>22551</td>\n",
       "    </tr>\n",
       "    <tr>\n",
       "      <th>3</th>\n",
       "      <td>2019-01-02 07:33:50</td>\n",
       "      <td>154.950</td>\n",
       "      <td>155.350</td>\n",
       "      <td>154.800</td>\n",
       "      <td>154.830</td>\n",
       "      <td>22073</td>\n",
       "    </tr>\n",
       "    <tr>\n",
       "      <th>4</th>\n",
       "      <td>2019-01-02 07:58:04</td>\n",
       "      <td>154.830</td>\n",
       "      <td>155.000</td>\n",
       "      <td>154.500</td>\n",
       "      <td>154.600</td>\n",
       "      <td>22044</td>\n",
       "    </tr>\n",
       "  </tbody>\n",
       "</table>\n",
       "</div>"
      ],
      "text/plain": [
       "            date_time    open    high     low   close  total_volume\n",
       "0 2019-01-02 05:02:28 154.400 154.700 153.010 154.620         22012\n",
       "1 2019-01-02 07:00:00 154.670 154.700 154.100 154.500         22063\n",
       "2 2019-01-02 07:18:04 154.500 155.180 154.500 155.180         22551\n",
       "3 2019-01-02 07:33:50 154.950 155.350 154.800 154.830         22073\n",
       "4 2019-01-02 07:58:04 154.830 155.000 154.500 154.600         22044"
      ]
     },
     "execution_count": 244,
     "metadata": {},
     "output_type": "execute_result"
    }
   ],
   "source": [
    "created_volume = make_volume_bar(raw_data, 22000)\n",
    "created_volume.drop('volume', axis=1, inplace=True)\n",
    "created_volume.head()"
   ]
  },
  {
   "cell_type": "code",
   "execution_count": 245,
   "metadata": {},
   "outputs": [
    {
     "data": {
      "text/html": [
       "<div>\n",
       "<style scoped>\n",
       "    .dataframe tbody tr th:only-of-type {\n",
       "        vertical-align: middle;\n",
       "    }\n",
       "\n",
       "    .dataframe tbody tr th {\n",
       "        vertical-align: top;\n",
       "    }\n",
       "\n",
       "    .dataframe thead th {\n",
       "        text-align: right;\n",
       "    }\n",
       "</style>\n",
       "<table border=\"1\" class=\"dataframe\">\n",
       "  <thead>\n",
       "    <tr style=\"text-align: right;\">\n",
       "      <th></th>\n",
       "      <th>open</th>\n",
       "      <th>high</th>\n",
       "      <th>low</th>\n",
       "      <th>close</th>\n",
       "      <th>volume</th>\n",
       "    </tr>\n",
       "    <tr>\n",
       "      <th>date_time</th>\n",
       "      <th></th>\n",
       "      <th></th>\n",
       "      <th></th>\n",
       "      <th></th>\n",
       "      <th></th>\n",
       "    </tr>\n",
       "  </thead>\n",
       "  <tbody>\n",
       "    <tr>\n",
       "      <th>2019-06-14 16:00:05</th>\n",
       "      <td>192.740</td>\n",
       "      <td>192.740</td>\n",
       "      <td>192.740</td>\n",
       "      <td>192.740</td>\n",
       "      <td>30363</td>\n",
       "    </tr>\n",
       "    <tr>\n",
       "      <th>2019-06-14 16:00:09</th>\n",
       "      <td>192.740</td>\n",
       "      <td>192.740</td>\n",
       "      <td>192.740</td>\n",
       "      <td>192.740</td>\n",
       "      <td>48053</td>\n",
       "    </tr>\n",
       "    <tr>\n",
       "      <th>2019-06-14 16:02:48</th>\n",
       "      <td>192.740</td>\n",
       "      <td>192.940</td>\n",
       "      <td>192.680</td>\n",
       "      <td>192.680</td>\n",
       "      <td>22597</td>\n",
       "    </tr>\n",
       "    <tr>\n",
       "      <th>2019-06-14 16:19:48</th>\n",
       "      <td>192.680</td>\n",
       "      <td>192.740</td>\n",
       "      <td>192.550</td>\n",
       "      <td>192.740</td>\n",
       "      <td>30746</td>\n",
       "    </tr>\n",
       "    <tr>\n",
       "      <th>2019-06-14 17:19:27</th>\n",
       "      <td>192.740</td>\n",
       "      <td>192.740</td>\n",
       "      <td>192.530</td>\n",
       "      <td>192.600</td>\n",
       "      <td>23900</td>\n",
       "    </tr>\n",
       "  </tbody>\n",
       "</table>\n",
       "</div>"
      ],
      "text/plain": [
       "                       open    high     low   close  volume\n",
       "date_time                                                  \n",
       "2019-06-14 16:00:05 192.740 192.740 192.740 192.740   30363\n",
       "2019-06-14 16:00:09 192.740 192.740 192.740 192.740   48053\n",
       "2019-06-14 16:02:48 192.740 192.940 192.680 192.680   22597\n",
       "2019-06-14 16:19:48 192.680 192.740 192.550 192.740   30746\n",
       "2019-06-14 17:19:27 192.740 192.740 192.530 192.600   23900"
      ]
     },
     "execution_count": 245,
     "metadata": {},
     "output_type": "execute_result"
    }
   ],
   "source": [
    "aapl_volume.dataframe.tail()"
   ]
  },
  {
   "cell_type": "code",
   "execution_count": 246,
   "metadata": {},
   "outputs": [
    {
     "data": {
      "text/html": [
       "<div>\n",
       "<style scoped>\n",
       "    .dataframe tbody tr th:only-of-type {\n",
       "        vertical-align: middle;\n",
       "    }\n",
       "\n",
       "    .dataframe tbody tr th {\n",
       "        vertical-align: top;\n",
       "    }\n",
       "\n",
       "    .dataframe thead th {\n",
       "        text-align: right;\n",
       "    }\n",
       "</style>\n",
       "<table border=\"1\" class=\"dataframe\">\n",
       "  <thead>\n",
       "    <tr style=\"text-align: right;\">\n",
       "      <th></th>\n",
       "      <th>date_time</th>\n",
       "      <th>open</th>\n",
       "      <th>high</th>\n",
       "      <th>low</th>\n",
       "      <th>close</th>\n",
       "      <th>total_volume</th>\n",
       "    </tr>\n",
       "  </thead>\n",
       "  <tbody>\n",
       "    <tr>\n",
       "      <th>116856</th>\n",
       "      <td>2019-06-14 16:00:09</td>\n",
       "      <td>192.740</td>\n",
       "      <td>192.740</td>\n",
       "      <td>192.740</td>\n",
       "      <td>192.740</td>\n",
       "      <td>44979</td>\n",
       "    </tr>\n",
       "    <tr>\n",
       "      <th>116857</th>\n",
       "      <td>2019-06-14 16:03:25</td>\n",
       "      <td>192.740</td>\n",
       "      <td>192.940</td>\n",
       "      <td>192.680</td>\n",
       "      <td>192.690</td>\n",
       "      <td>24708</td>\n",
       "    </tr>\n",
       "    <tr>\n",
       "      <th>116858</th>\n",
       "      <td>2019-06-14 16:19:48</td>\n",
       "      <td>192.690</td>\n",
       "      <td>192.740</td>\n",
       "      <td>192.550</td>\n",
       "      <td>192.740</td>\n",
       "      <td>24096</td>\n",
       "    </tr>\n",
       "    <tr>\n",
       "      <th>116859</th>\n",
       "      <td>2019-06-14 17:19:27</td>\n",
       "      <td>192.650</td>\n",
       "      <td>192.740</td>\n",
       "      <td>192.530</td>\n",
       "      <td>192.600</td>\n",
       "      <td>22100</td>\n",
       "    </tr>\n",
       "    <tr>\n",
       "      <th>116860</th>\n",
       "      <td>2019-06-14 17:32:34</td>\n",
       "      <td>192.580</td>\n",
       "      <td>192.580</td>\n",
       "      <td>192.580</td>\n",
       "      <td>192.580</td>\n",
       "      <td>1210</td>\n",
       "    </tr>\n",
       "  </tbody>\n",
       "</table>\n",
       "</div>"
      ],
      "text/plain": [
       "                 date_time    open    high     low   close  total_volume\n",
       "116856 2019-06-14 16:00:09 192.740 192.740 192.740 192.740         44979\n",
       "116857 2019-06-14 16:03:25 192.740 192.940 192.680 192.690         24708\n",
       "116858 2019-06-14 16:19:48 192.690 192.740 192.550 192.740         24096\n",
       "116859 2019-06-14 17:19:27 192.650 192.740 192.530 192.600         22100\n",
       "116860 2019-06-14 17:32:34 192.580 192.580 192.580 192.580          1210"
      ]
     },
     "execution_count": 246,
     "metadata": {},
     "output_type": "execute_result"
    }
   ],
   "source": [
    "created_volume.tail()"
   ]
  },
  {
   "cell_type": "code",
   "execution_count": 247,
   "metadata": {},
   "outputs": [],
   "source": [
    "q5 = BarType('q5_created_volume', 'close')\n",
    "q5.useDataframe(created_volume)"
   ]
  },
  {
   "cell_type": "code",
   "execution_count": 248,
   "metadata": {},
   "outputs": [],
   "source": [
    "q5.std = q5.log_returns.std()"
   ]
  },
  {
   "cell_type": "code",
   "execution_count": 249,
   "metadata": {},
   "outputs": [],
   "source": [
    "q5.dataframe['logdiff'] = np.log(q5.dataframe['close'] / q5.dataframe['close'].shift(1)).dropna()"
   ]
  },
  {
   "cell_type": "code",
   "execution_count": 250,
   "metadata": {},
   "outputs": [],
   "source": [
    "q5.dataframe['zscore'] = (q5.dataframe['logdiff'] - q5.dataframe['logdiff'].mean()) / (q5.std)"
   ]
  },
  {
   "cell_type": "code",
   "execution_count": 251,
   "metadata": {},
   "outputs": [],
   "source": [
    "q5.dataframe['calced'] = 22000*(2*stats.norm.cdf((q5.dataframe['logdiff']/q5.dataframe['zscore']))-1)"
   ]
  },
  {
   "cell_type": "code",
   "execution_count": 252,
   "metadata": {},
   "outputs": [
    {
     "data": {
      "text/plain": [
       "count   116860.000\n",
       "mean         9.777\n",
       "std          5.292\n",
       "min      -1179.185\n",
       "25%         10.229\n",
       "50%         10.296\n",
       "75%         10.389\n",
       "max        800.328\n",
       "Name: calced, dtype: float64"
      ]
     },
     "execution_count": 252,
     "metadata": {},
     "output_type": "execute_result"
    }
   ],
   "source": [
    "q5.dataframe['calced'].describe()"
   ]
  },
  {
   "cell_type": "code",
   "execution_count": 253,
   "metadata": {},
   "outputs": [],
   "source": [
    "q5.dataframe['sign'] = np.where(q5.dataframe['calced'] > 0, 'buy', 'sell')"
   ]
  },
  {
   "cell_type": "code",
   "execution_count": 257,
   "metadata": {},
   "outputs": [
    {
     "data": {
      "text/html": [
       "<div>\n",
       "<style scoped>\n",
       "    .dataframe tbody tr th:only-of-type {\n",
       "        vertical-align: middle;\n",
       "    }\n",
       "\n",
       "    .dataframe tbody tr th {\n",
       "        vertical-align: top;\n",
       "    }\n",
       "\n",
       "    .dataframe thead th {\n",
       "        text-align: right;\n",
       "    }\n",
       "</style>\n",
       "<table border=\"1\" class=\"dataframe\">\n",
       "  <thead>\n",
       "    <tr style=\"text-align: right;\">\n",
       "      <th></th>\n",
       "      <th>date_time</th>\n",
       "      <th>open</th>\n",
       "      <th>high</th>\n",
       "      <th>low</th>\n",
       "      <th>close</th>\n",
       "      <th>total_volume</th>\n",
       "      <th>logdiff</th>\n",
       "      <th>zscore</th>\n",
       "      <th>calced</th>\n",
       "      <th>sign</th>\n",
       "    </tr>\n",
       "  </thead>\n",
       "  <tbody>\n",
       "    <tr>\n",
       "      <th>0</th>\n",
       "      <td>2019-01-02 05:02:28</td>\n",
       "      <td>154.400</td>\n",
       "      <td>154.700</td>\n",
       "      <td>153.010</td>\n",
       "      <td>154.620</td>\n",
       "      <td>22012</td>\n",
       "      <td>NaN</td>\n",
       "      <td>NaN</td>\n",
       "      <td>NaN</td>\n",
       "      <td>sell</td>\n",
       "    </tr>\n",
       "    <tr>\n",
       "      <th>1</th>\n",
       "      <td>2019-01-02 07:00:00</td>\n",
       "      <td>154.670</td>\n",
       "      <td>154.700</td>\n",
       "      <td>154.100</td>\n",
       "      <td>154.500</td>\n",
       "      <td>22063</td>\n",
       "      <td>-0.001</td>\n",
       "      <td>-1.324</td>\n",
       "      <td>10.292</td>\n",
       "      <td>buy</td>\n",
       "    </tr>\n",
       "    <tr>\n",
       "      <th>2</th>\n",
       "      <td>2019-01-02 07:18:04</td>\n",
       "      <td>154.500</td>\n",
       "      <td>155.180</td>\n",
       "      <td>154.500</td>\n",
       "      <td>155.180</td>\n",
       "      <td>22551</td>\n",
       "      <td>0.004</td>\n",
       "      <td>7.469</td>\n",
       "      <td>10.321</td>\n",
       "      <td>buy</td>\n",
       "    </tr>\n",
       "    <tr>\n",
       "      <th>3</th>\n",
       "      <td>2019-01-02 07:33:50</td>\n",
       "      <td>154.950</td>\n",
       "      <td>155.350</td>\n",
       "      <td>154.800</td>\n",
       "      <td>154.830</td>\n",
       "      <td>22073</td>\n",
       "      <td>-0.002</td>\n",
       "      <td>-3.845</td>\n",
       "      <td>10.308</td>\n",
       "      <td>buy</td>\n",
       "    </tr>\n",
       "    <tr>\n",
       "      <th>4</th>\n",
       "      <td>2019-01-02 07:58:04</td>\n",
       "      <td>154.830</td>\n",
       "      <td>155.000</td>\n",
       "      <td>154.500</td>\n",
       "      <td>154.600</td>\n",
       "      <td>22044</td>\n",
       "      <td>-0.001</td>\n",
       "      <td>-2.533</td>\n",
       "      <td>10.304</td>\n",
       "      <td>buy</td>\n",
       "    </tr>\n",
       "  </tbody>\n",
       "</table>\n",
       "</div>"
      ],
      "text/plain": [
       "            date_time    open    high     low   close  total_volume  logdiff  \\\n",
       "0 2019-01-02 05:02:28 154.400 154.700 153.010 154.620         22012      NaN   \n",
       "1 2019-01-02 07:00:00 154.670 154.700 154.100 154.500         22063   -0.001   \n",
       "2 2019-01-02 07:18:04 154.500 155.180 154.500 155.180         22551    0.004   \n",
       "3 2019-01-02 07:33:50 154.950 155.350 154.800 154.830         22073   -0.002   \n",
       "4 2019-01-02 07:58:04 154.830 155.000 154.500 154.600         22044   -0.001   \n",
       "\n",
       "   zscore  calced  sign  \n",
       "0     NaN     NaN  sell  \n",
       "1  -1.324  10.292   buy  \n",
       "2   7.469  10.321   buy  \n",
       "3  -3.845  10.308   buy  \n",
       "4  -2.533  10.304   buy  "
      ]
     },
     "execution_count": 257,
     "metadata": {},
     "output_type": "execute_result"
    }
   ],
   "source": [
    "q5.dataframe.head()"
   ]
  }
 ],
 "metadata": {
  "kernelspec": {
   "display_name": "Python 3",
   "language": "python",
   "name": "python3"
  },
  "language_info": {
   "codemirror_mode": {
    "name": "ipython",
    "version": 3
   },
   "file_extension": ".py",
   "mimetype": "text/x-python",
   "name": "python",
   "nbconvert_exporter": "python",
   "pygments_lexer": "ipython3",
   "version": "3.9.10"
  }
 },
 "nbformat": 4,
 "nbformat_minor": 2
}
