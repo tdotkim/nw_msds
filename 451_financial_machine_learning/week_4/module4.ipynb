{
 "cells": [
  {
   "cell_type": "code",
   "execution_count": 5,
   "metadata": {},
   "outputs": [],
   "source": [
    "import pandas as pd\n",
    "import numpy as np\n",
    "from statsmodels.tsa.stattools import adfuller\n",
    "import matplotlib.pyplot as plt"
   ]
  },
  {
   "cell_type": "code",
   "execution_count": 6,
   "metadata": {},
   "outputs": [],
   "source": [
    "def getWeights_FFD(d,thres):\n",
    "    w,k=[1.],1\n",
    "    while True:\n",
    "        w_=-w[-1]/k*(d-k+1)\n",
    "        if abs(w_)<thres:break\n",
    "        w.append(w_);k+=1\n",
    "    return np.array(w[::-1]).reshape(-1,1)\n",
    "\n",
    "def fracDiff_FFD(series,d,thres=1e-5):\n",
    "    # Constant width window (new solution)\n",
    "    w=getWeights_FFD(d,thres)\n",
    "    df={}\n",
    "    for name in series.columns:\n",
    "        df_= pd.Series(series[name].values,index=series.index).fillna(method='ffill').dropna()\n",
    "        x = pd.Series(0,index=df_.index)\n",
    "        for k in range(w.shape[0]):\n",
    "            x = x+w[k,0]*df_.shift(-k)\n",
    "    #df[name]=x.dropna().copy(deep=True)\n",
    "    df[name]=x.shift(k).copy(deep=True)\n",
    "    df=pd.concat(df,axis=1)\n",
    "    return df\n",
    "\n",
    "def findMinD(series):\n",
    "    for d in np.linspace(0,1,11):\n",
    "        df_=fracDiff_FFD(series,d,thres=0.01).dropna()\n",
    "        res=adfuller(df_.iloc[:,0].values,maxlag=1,regression='c',autolag=None)\n",
    "        if (res[0]<=res[4]['5%']):\n",
    "            return d\n",
    "    return 1.0"
   ]
  },
  {
   "cell_type": "code",
   "execution_count": 3,
   "metadata": {},
   "outputs": [
    {
     "name": "stderr",
     "output_type": "stream",
     "text": [
      "c:\\Users\\tkkim\\AppData\\Local\\Programs\\Python\\Python39\\lib\\site-packages\\openpyxl\\worksheet\\header_footer.py:48: UserWarning: Cannot parse header or footer so it will be ignored\n",
      "  warn(\"\"\"Cannot parse header or footer so it will be ignored\"\"\")\n",
      "c:\\Users\\tkkim\\AppData\\Local\\Programs\\Python\\Python39\\lib\\site-packages\\openpyxl\\worksheet\\header_footer.py:48: UserWarning: Cannot parse header or footer so it will be ignored\n",
      "  warn(\"\"\"Cannot parse header or footer so it will be ignored\"\"\")\n",
      "c:\\Users\\tkkim\\AppData\\Local\\Programs\\Python\\Python39\\lib\\site-packages\\openpyxl\\worksheet\\header_footer.py:48: UserWarning: Cannot parse header or footer so it will be ignored\n",
      "  warn(\"\"\"Cannot parse header or footer so it will be ignored\"\"\")\n"
     ]
    }
   ],
   "source": [
    "monthlydf = pd.read_excel('./PredictorData2019.xlsx', sheet_name='Monthly')\n",
    "quarterlydf = pd.read_excel('./PredictorData2019.xlsx', sheet_name='Quarterly')\n",
    "annualdf = pd.read_excel('./PredictorData2019.xlsx', sheet_name='Annual')   "
   ]
  },
  {
   "cell_type": "code",
   "execution_count": 11,
   "metadata": {},
   "outputs": [
    {
     "data": {
      "text/plain": [
       "Index(['yyyy', 'Index', 'D12', 'E12', 'b/m', 'tbl', 'AAA', 'BAA', 'lty', 'cay',\n",
       "       'ntis', 'Rfree', 'infl', 'eqis', 'ltr', 'corpr', 'svar', 'csp', 'ik',\n",
       "       'CRSP_SPvw', 'CRSP_SPvwx'],\n",
       "      dtype='object')"
      ]
     },
     "execution_count": 11,
     "metadata": {},
     "output_type": "execute_result"
    }
   ],
   "source": [
    "annualdf.columns"
   ]
  },
  {
   "cell_type": "code",
   "execution_count": 12,
   "metadata": {},
   "outputs": [
    {
     "data": {
      "text/plain": [
       "Index(['yyyymm', 'Index', 'D12', 'E12', 'b/m', 'tbl', 'AAA', 'BAA', 'lty',\n",
       "       'ntis', 'Rfree', 'infl', 'ltr', 'corpr', 'svar', 'csp', 'CRSP_SPvw',\n",
       "       'CRSP_SPvwx'],\n",
       "      dtype='object')"
      ]
     },
     "execution_count": 12,
     "metadata": {},
     "output_type": "execute_result"
    }
   ],
   "source": [
    "monthlydf.columns"
   ]
  },
  {
   "cell_type": "code",
   "execution_count": 4,
   "metadata": {},
   "outputs": [
    {
     "data": {
      "text/html": [
       "<div>\n",
       "<style scoped>\n",
       "    .dataframe tbody tr th:only-of-type {\n",
       "        vertical-align: middle;\n",
       "    }\n",
       "\n",
       "    .dataframe tbody tr th {\n",
       "        vertical-align: top;\n",
       "    }\n",
       "\n",
       "    .dataframe thead th {\n",
       "        text-align: right;\n",
       "    }\n",
       "</style>\n",
       "<table border=\"1\" class=\"dataframe\">\n",
       "  <thead>\n",
       "    <tr style=\"text-align: right;\">\n",
       "      <th></th>\n",
       "      <th>yyyymm</th>\n",
       "      <th>Index</th>\n",
       "      <th>D12</th>\n",
       "      <th>E12</th>\n",
       "      <th>b/m</th>\n",
       "      <th>tbl</th>\n",
       "      <th>AAA</th>\n",
       "      <th>BAA</th>\n",
       "      <th>lty</th>\n",
       "      <th>ntis</th>\n",
       "      <th>Rfree</th>\n",
       "      <th>infl</th>\n",
       "      <th>ltr</th>\n",
       "      <th>corpr</th>\n",
       "      <th>svar</th>\n",
       "      <th>csp</th>\n",
       "      <th>CRSP_SPvw</th>\n",
       "      <th>CRSP_SPvwx</th>\n",
       "    </tr>\n",
       "  </thead>\n",
       "  <tbody>\n",
       "    <tr>\n",
       "      <th>0</th>\n",
       "      <td>187101</td>\n",
       "      <td>4.44</td>\n",
       "      <td>0.26</td>\n",
       "      <td>0.4</td>\n",
       "      <td>NaN</td>\n",
       "      <td>NaN</td>\n",
       "      <td>NaN</td>\n",
       "      <td>NaN</td>\n",
       "      <td>NaN</td>\n",
       "      <td>NaN</td>\n",
       "      <td>0.004967</td>\n",
       "      <td>NaN</td>\n",
       "      <td>NaN</td>\n",
       "      <td>NaN</td>\n",
       "      <td>NaN</td>\n",
       "      <td>NaN</td>\n",
       "      <td>NaN</td>\n",
       "      <td>NaN</td>\n",
       "    </tr>\n",
       "    <tr>\n",
       "      <th>1</th>\n",
       "      <td>187102</td>\n",
       "      <td>4.50</td>\n",
       "      <td>0.26</td>\n",
       "      <td>0.4</td>\n",
       "      <td>NaN</td>\n",
       "      <td>NaN</td>\n",
       "      <td>NaN</td>\n",
       "      <td>NaN</td>\n",
       "      <td>NaN</td>\n",
       "      <td>NaN</td>\n",
       "      <td>0.004525</td>\n",
       "      <td>NaN</td>\n",
       "      <td>NaN</td>\n",
       "      <td>NaN</td>\n",
       "      <td>NaN</td>\n",
       "      <td>NaN</td>\n",
       "      <td>NaN</td>\n",
       "      <td>NaN</td>\n",
       "    </tr>\n",
       "    <tr>\n",
       "      <th>2</th>\n",
       "      <td>187103</td>\n",
       "      <td>4.61</td>\n",
       "      <td>0.26</td>\n",
       "      <td>0.4</td>\n",
       "      <td>NaN</td>\n",
       "      <td>NaN</td>\n",
       "      <td>NaN</td>\n",
       "      <td>NaN</td>\n",
       "      <td>NaN</td>\n",
       "      <td>NaN</td>\n",
       "      <td>0.004252</td>\n",
       "      <td>NaN</td>\n",
       "      <td>NaN</td>\n",
       "      <td>NaN</td>\n",
       "      <td>NaN</td>\n",
       "      <td>NaN</td>\n",
       "      <td>NaN</td>\n",
       "      <td>NaN</td>\n",
       "    </tr>\n",
       "    <tr>\n",
       "      <th>3</th>\n",
       "      <td>187104</td>\n",
       "      <td>4.74</td>\n",
       "      <td>0.26</td>\n",
       "      <td>0.4</td>\n",
       "      <td>NaN</td>\n",
       "      <td>NaN</td>\n",
       "      <td>NaN</td>\n",
       "      <td>NaN</td>\n",
       "      <td>NaN</td>\n",
       "      <td>NaN</td>\n",
       "      <td>0.004643</td>\n",
       "      <td>NaN</td>\n",
       "      <td>NaN</td>\n",
       "      <td>NaN</td>\n",
       "      <td>NaN</td>\n",
       "      <td>NaN</td>\n",
       "      <td>NaN</td>\n",
       "      <td>NaN</td>\n",
       "    </tr>\n",
       "    <tr>\n",
       "      <th>4</th>\n",
       "      <td>187105</td>\n",
       "      <td>4.86</td>\n",
       "      <td>0.26</td>\n",
       "      <td>0.4</td>\n",
       "      <td>NaN</td>\n",
       "      <td>NaN</td>\n",
       "      <td>NaN</td>\n",
       "      <td>NaN</td>\n",
       "      <td>NaN</td>\n",
       "      <td>NaN</td>\n",
       "      <td>0.003698</td>\n",
       "      <td>NaN</td>\n",
       "      <td>NaN</td>\n",
       "      <td>NaN</td>\n",
       "      <td>NaN</td>\n",
       "      <td>NaN</td>\n",
       "      <td>NaN</td>\n",
       "      <td>NaN</td>\n",
       "    </tr>\n",
       "  </tbody>\n",
       "</table>\n",
       "</div>"
      ],
      "text/plain": [
       "   yyyymm  Index   D12  E12  b/m  tbl  AAA  BAA  lty  ntis     Rfree  infl  \\\n",
       "0  187101   4.44  0.26  0.4  NaN  NaN  NaN  NaN  NaN   NaN  0.004967   NaN   \n",
       "1  187102   4.50  0.26  0.4  NaN  NaN  NaN  NaN  NaN   NaN  0.004525   NaN   \n",
       "2  187103   4.61  0.26  0.4  NaN  NaN  NaN  NaN  NaN   NaN  0.004252   NaN   \n",
       "3  187104   4.74  0.26  0.4  NaN  NaN  NaN  NaN  NaN   NaN  0.004643   NaN   \n",
       "4  187105   4.86  0.26  0.4  NaN  NaN  NaN  NaN  NaN   NaN  0.003698   NaN   \n",
       "\n",
       "   ltr  corpr  svar  csp  CRSP_SPvw  CRSP_SPvwx  \n",
       "0  NaN    NaN   NaN  NaN        NaN         NaN  \n",
       "1  NaN    NaN   NaN  NaN        NaN         NaN  \n",
       "2  NaN    NaN   NaN  NaN        NaN         NaN  \n",
       "3  NaN    NaN   NaN  NaN        NaN         NaN  \n",
       "4  NaN    NaN   NaN  NaN        NaN         NaN  "
      ]
     },
     "execution_count": 4,
     "metadata": {},
     "output_type": "execute_result"
    }
   ],
   "source": [
    "monthlydf.head()"
   ]
  },
  {
   "cell_type": "code",
   "execution_count": 9,
   "metadata": {},
   "outputs": [
    {
     "data": {
      "text/plain": [
       "0      -2.837728\n",
       "1      -2.851151\n",
       "2      -2.875302\n",
       "3      -2.903111\n",
       "4      -2.928112\n",
       "          ...   \n",
       "1783   -3.941330\n",
       "1784   -3.951689\n",
       "1785   -3.965984\n",
       "1786   -3.993568\n",
       "1787   -4.015896\n",
       "Length: 1788, dtype: float64"
      ]
     },
     "execution_count": 9,
     "metadata": {},
     "output_type": "execute_result"
    }
   ],
   "source": [
    "#dividend price ratio\n",
    "monthlydf['dp'] = np.log(monthlydf['D12']) - np.log(monthlydf['Index'])\n",
    "\n",
    "#dividend yield\n",
    "monthlydf['dy'] = np.log(monthlydf['D12']) - np.log(monthlydf['Index'].shift(-1))\n",
    "\n",
    "#earnings price ratio\n",
    "monthlydf['ep'] = np.log(monthlydf['E12']) - np.log(monthlydf['Index'])\n",
    "\n",
    "#dividend payout ratio\n",
    "monthlydf['de'] = np.log(monthlydf['D12']) - np.log(monthlydf['E12'])\n",
    "\n",
    "#default yield spread\n",
    "monthlydf['dfy'] = monthlydf['BAA'] - monthlydf['AAA']\n",
    "\n",
    "#term spread\n",
    "monthlydf['tms'] = monthlydf['lty'] - monthlydf['tbl']\n",
    "\n",
    "#default return spread\n",
    "monthlydf['dfr'] = monthlydf['corpr'] - monthlydf['lty']\n",
    "\n",
    "\n"
   ]
  }
 ],
 "metadata": {
  "kernelspec": {
   "display_name": "Python 3",
   "language": "python",
   "name": "python3"
  },
  "language_info": {
   "codemirror_mode": {
    "name": "ipython",
    "version": 3
   },
   "file_extension": ".py",
   "mimetype": "text/x-python",
   "name": "python",
   "nbconvert_exporter": "python",
   "pygments_lexer": "ipython3",
   "version": "3.9.10"
  }
 },
 "nbformat": 4,
 "nbformat_minor": 2
}
