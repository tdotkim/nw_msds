{
 "cells": [
  {
   "cell_type": "markdown",
   "metadata": {},
   "source": [
    "##### Deliverables:\n",
    "\n",
    "- Submit files that have the name: <font color = 'red'>YourLastName_Exercise_4</font> that has the following files:\n",
    "\n",
    " 1. Your **HTML file** that has your Source code and output\n",
    " 2. Your **ipynb script** that has your Source code and output\n",
    "\n",
    "\n",
    "# Objectives:\n",
    "\n",
    "In this exercise, you will:\n",
    "\n",
    " - Construct hierarchical indexes\n",
    " - Select and group data to create pivot-tables\n",
    " - Use of lambda, map, pivot\n",
    "\n",
    " \n"
   ]
  },
  {
   "cell_type": "markdown",
   "metadata": {},
   "source": [
    "# Specifications and Requirements\n",
    "\n",
    "\n",
    "We're going to use the XYZ data again  to construct hierarchical indexes and select, modify, group, and reshape data in a wide variety of ways.  "
   ]
  },
  {
   "cell_type": "code",
   "execution_count": 1,
   "metadata": {},
   "outputs": [],
   "source": [
    "import pandas as pd \n",
    "import numpy as np   \n",
    "from pandas import Categorical \n",
    "from sqlalchemy import create_engine\n",
    "\n",
    "# set up notebook to display multiple output in one cell\n",
    "from IPython.core.interactiveshell import InteractiveShell\n",
    "InteractiveShell.ast_node_interactivity = \"all\""
   ]
  },
  {
   "cell_type": "code",
   "execution_count": 2,
   "metadata": {},
   "outputs": [],
   "source": [
    "engine = create_engine('sqlite:///xyz.db')"
   ]
  },
  {
   "cell_type": "code",
   "execution_count": 3,
   "metadata": {},
   "outputs": [
    {
     "name": "stdout",
     "output_type": "stream",
     "text": [
      "<class 'pandas.core.frame.DataFrame'>\n",
      "RangeIndex: 30179 entries, 0 to 30178\n",
      "Data columns (total 11 columns):\n",
      " #   Column                 Non-Null Count  Dtype  \n",
      "---  ------                 --------------  -----  \n",
      " 0   index                  30179 non-null  int64  \n",
      " 1   ACCTNO                 30179 non-null  object \n",
      " 2   ZIP                    30179 non-null  int64  \n",
      " 3   ZIP4                   30179 non-null  int64  \n",
      " 4   LTD_SALES              30179 non-null  float64\n",
      " 5   LTD_TRANSACTIONS       30179 non-null  int64  \n",
      " 6   YTD_SALES_2009         30179 non-null  float64\n",
      " 7   YTD_TRANSACTIONS_2009  30179 non-null  int64  \n",
      " 8   CHANNEL_ACQUISITION    30179 non-null  object \n",
      " 9   BUYER_STATUS           30179 non-null  object \n",
      " 10  ZIP9_SUPERCODE         30179 non-null  int64  \n",
      "dtypes: float64(2), int64(6), object(3)\n",
      "memory usage: 2.5+ MB\n"
     ]
    }
   ],
   "source": [
    "# .info gives same feedback as .dtype and .count\n",
    "xyznew = pd.read_sql_table('xyzcust',engine)\n",
    "xyznew.info()"
   ]
  },
  {
   "cell_type": "markdown",
   "metadata": {},
   "source": [
    "### What can we learn from sales?"
   ]
  },
  {
   "cell_type": "code",
   "execution_count": 4,
   "metadata": {},
   "outputs": [
    {
     "data": {
      "text/plain": [
       "count     30179.000000\n",
       "mean        236.283972\n",
       "std        2117.042293\n",
       "min           0.000000\n",
       "25%           0.000000\n",
       "50%           0.000000\n",
       "75%         207.000000\n",
       "max      351000.000000\n",
       "Name: YTD_SALES_2009, dtype: float64"
      ]
     },
     "execution_count": 4,
     "metadata": {},
     "output_type": "execute_result"
    }
   ],
   "source": [
    "# look at characteristics \n",
    "xyznew['YTD_SALES_2009'].describe()"
   ]
  },
  {
   "cell_type": "code",
   "execution_count": 5,
   "metadata": {},
   "outputs": [
    {
     "data": {
      "text/plain": [
       "BUYER_STATUS\n",
       "ACTIVE      7130814.0\n",
       "INACTIVE          0.0\n",
       "LAPSED            0.0\n",
       "Name: YTD_SALES_2009, dtype: float64"
      ]
     },
     "execution_count": 5,
     "metadata": {},
     "output_type": "execute_result"
    }
   ],
   "source": [
    "# We know there is more than one buyer status\n",
    "# Are Inactive and Lapsed buyers skewing the statistics\n",
    "temp = xyznew['YTD_SALES_2009'].groupby(xyznew['BUYER_STATUS']).sum()\n",
    "temp"
   ]
  },
  {
   "cell_type": "code",
   "execution_count": 6,
   "metadata": {},
   "outputs": [
    {
     "data": {
      "text/plain": [
       "count     13332.000000\n",
       "mean        534.864536\n",
       "std        3160.079031\n",
       "min           3.000000\n",
       "25%         114.000000\n",
       "50%         246.000000\n",
       "75%         558.000000\n",
       "max      351000.000000\n",
       "Name: YTD_SALES_2009, dtype: float64"
      ]
     },
     "execution_count": 6,
     "metadata": {},
     "output_type": "execute_result"
    }
   ],
   "source": [
    "# isolate only active customers\n",
    "temp = xyznew[xyznew['BUYER_STATUS'] == 'ACTIVE'] \n",
    "temp['YTD_SALES_2009'].describe()"
   ]
  },
  {
   "cell_type": "code",
   "execution_count": 7,
   "metadata": {},
   "outputs": [
    {
     "data": {
      "text/plain": [
       "count    13331.000000\n",
       "mean       508.575051\n",
       "std        878.588664\n",
       "min          3.000000\n",
       "25%        114.000000\n",
       "50%        246.000000\n",
       "75%        558.000000\n",
       "max      28002.000000\n",
       "Name: YTD_SALES_2009, dtype: float64"
      ]
     },
     "execution_count": 7,
     "metadata": {},
     "output_type": "execute_result"
    }
   ],
   "source": [
    "# the max number appears to be an outlier, but it is a confirmed sale\n",
    "# lets look at stats without it anyways\n",
    "temp = temp[temp['YTD_SALES_2009'] < 350000]\n",
    "temp['YTD_SALES_2009'].describe()"
   ]
  },
  {
   "cell_type": "code",
   "execution_count": 8,
   "metadata": {},
   "outputs": [],
   "source": [
    "# heavyCut will be used to slice/dice our customers into strong buyers\n",
    "# mean is $509\n",
    "# median is $246\n",
    "# sd is $879\n",
    "# let's try a cut number using the median\n",
    "heavyCut= 246"
   ]
  },
  {
   "cell_type": "code",
   "execution_count": 9,
   "metadata": {},
   "outputs": [
    {
     "data": {
      "text/html": [
       "<div>\n",
       "<style scoped>\n",
       "    .dataframe tbody tr th:only-of-type {\n",
       "        vertical-align: middle;\n",
       "    }\n",
       "\n",
       "    .dataframe tbody tr th {\n",
       "        vertical-align: top;\n",
       "    }\n",
       "\n",
       "    .dataframe thead th {\n",
       "        text-align: right;\n",
       "    }\n",
       "</style>\n",
       "<table border=\"1\" class=\"dataframe\">\n",
       "  <thead>\n",
       "    <tr style=\"text-align: right;\">\n",
       "      <th></th>\n",
       "      <th>counts</th>\n",
       "      <th>freqs</th>\n",
       "    </tr>\n",
       "    <tr>\n",
       "      <th>categories</th>\n",
       "      <th></th>\n",
       "      <th></th>\n",
       "    </tr>\n",
       "  </thead>\n",
       "  <tbody>\n",
       "    <tr>\n",
       "      <th>0</th>\n",
       "      <td>23543</td>\n",
       "      <td>0.780112</td>\n",
       "    </tr>\n",
       "    <tr>\n",
       "      <th>1</th>\n",
       "      <td>6636</td>\n",
       "      <td>0.219888</td>\n",
       "    </tr>\n",
       "  </tbody>\n",
       "</table>\n",
       "</div>"
      ],
      "text/plain": [
       "            counts     freqs\n",
       "categories                  \n",
       "0            23543  0.780112\n",
       "1             6636  0.219888"
      ]
     },
     "execution_count": 9,
     "metadata": {},
     "output_type": "execute_result"
    }
   ],
   "source": [
    "# creating a derived variable from existing data\n",
    "# create a categorial variable of either a 1 or 0 based upon the value of heavyCut\n",
    "# YTD_SALES_2009 greater than the heavyCut value will be assigned a 1\n",
    "heavyCat = Categorical(np.where(xyznew.YTD_SALES_2009 > heavyCut,1,0))\n",
    "heavyCat.describe()"
   ]
  },
  {
   "cell_type": "code",
   "execution_count": 10,
   "metadata": {},
   "outputs": [
    {
     "data": {
      "text/html": [
       "<div>\n",
       "<style scoped>\n",
       "    .dataframe tbody tr th:only-of-type {\n",
       "        vertical-align: middle;\n",
       "    }\n",
       "\n",
       "    .dataframe tbody tr th {\n",
       "        vertical-align: top;\n",
       "    }\n",
       "\n",
       "    .dataframe thead th {\n",
       "        text-align: right;\n",
       "    }\n",
       "</style>\n",
       "<table border=\"1\" class=\"dataframe\">\n",
       "  <thead>\n",
       "    <tr style=\"text-align: right;\">\n",
       "      <th></th>\n",
       "      <th>counts</th>\n",
       "      <th>freqs</th>\n",
       "    </tr>\n",
       "    <tr>\n",
       "      <th>categories</th>\n",
       "      <th></th>\n",
       "      <th></th>\n",
       "    </tr>\n",
       "  </thead>\n",
       "  <tbody>\n",
       "    <tr>\n",
       "      <th>regular</th>\n",
       "      <td>23543</td>\n",
       "      <td>0.780112</td>\n",
       "    </tr>\n",
       "    <tr>\n",
       "      <th>heavy</th>\n",
       "      <td>6636</td>\n",
       "      <td>0.219888</td>\n",
       "    </tr>\n",
       "  </tbody>\n",
       "</table>\n",
       "</div>"
      ],
      "text/plain": [
       "            counts     freqs\n",
       "categories                  \n",
       "regular      23543  0.780112\n",
       "heavy         6636  0.219888"
      ]
     },
     "execution_count": 10,
     "metadata": {},
     "output_type": "execute_result"
    }
   ],
   "source": [
    "# be more descriptive than a 1 or a 0\n",
    "heavyCat.rename_categories(['regular','heavy'],inplace=True)\n",
    "heavyCat.describe()"
   ]
  },
  {
   "cell_type": "code",
   "execution_count": 11,
   "metadata": {},
   "outputs": [
    {
     "data": {
      "text/plain": [
       "['regular', 'heavy', 'regular', 'regular', 'regular', 'regular', 'heavy', 'regular', 'regular', 'regular']\n",
       "Categories (2, object): ['regular', 'heavy']"
      ]
     },
     "execution_count": 11,
     "metadata": {},
     "output_type": "execute_result"
    },
    {
     "data": {
      "text/plain": [
       "pandas.core.arrays.categorical.Categorical"
      ]
     },
     "execution_count": 11,
     "metadata": {},
     "output_type": "execute_result"
    }
   ],
   "source": [
    "# look at the first ten records\n",
    "heavyCat[:10]\n",
    "type(heavyCat)"
   ]
  },
  {
   "cell_type": "code",
   "execution_count": 12,
   "metadata": {},
   "outputs": [
    {
     "data": {
      "text/html": [
       "<div>\n",
       "<style scoped>\n",
       "    .dataframe tbody tr th:only-of-type {\n",
       "        vertical-align: middle;\n",
       "    }\n",
       "\n",
       "    .dataframe tbody tr th {\n",
       "        vertical-align: top;\n",
       "    }\n",
       "\n",
       "    .dataframe thead th {\n",
       "        text-align: right;\n",
       "    }\n",
       "</style>\n",
       "<table border=\"1\" class=\"dataframe\">\n",
       "  <thead>\n",
       "    <tr style=\"text-align: right;\">\n",
       "      <th></th>\n",
       "      <th>index</th>\n",
       "      <th>ACCTNO</th>\n",
       "      <th>ZIP</th>\n",
       "      <th>ZIP4</th>\n",
       "      <th>LTD_SALES</th>\n",
       "      <th>LTD_TRANSACTIONS</th>\n",
       "      <th>YTD_SALES_2009</th>\n",
       "      <th>YTD_TRANSACTIONS_2009</th>\n",
       "      <th>CHANNEL_ACQUISITION</th>\n",
       "      <th>BUYER_STATUS</th>\n",
       "      <th>ZIP9_SUPERCODE</th>\n",
       "      <th>heavyCat</th>\n",
       "    </tr>\n",
       "  </thead>\n",
       "  <tbody>\n",
       "    <tr>\n",
       "      <th>0</th>\n",
       "      <td>0</td>\n",
       "      <td>WDQQLLDQL</td>\n",
       "      <td>60084</td>\n",
       "      <td>5016</td>\n",
       "      <td>90.0</td>\n",
       "      <td>1</td>\n",
       "      <td>0.0</td>\n",
       "      <td>0</td>\n",
       "      <td>IB</td>\n",
       "      <td>INACTIVE</td>\n",
       "      <td>600845016</td>\n",
       "      <td>regular</td>\n",
       "    </tr>\n",
       "    <tr>\n",
       "      <th>1</th>\n",
       "      <td>1</td>\n",
       "      <td>WQWAYHYLA</td>\n",
       "      <td>60091</td>\n",
       "      <td>1750</td>\n",
       "      <td>4227.0</td>\n",
       "      <td>9</td>\n",
       "      <td>1263.0</td>\n",
       "      <td>3</td>\n",
       "      <td>RT</td>\n",
       "      <td>ACTIVE</td>\n",
       "      <td>600911750</td>\n",
       "      <td>heavy</td>\n",
       "    </tr>\n",
       "    <tr>\n",
       "      <th>2</th>\n",
       "      <td>2</td>\n",
       "      <td>GSHAPLHAW</td>\n",
       "      <td>60067</td>\n",
       "      <td>900</td>\n",
       "      <td>420.0</td>\n",
       "      <td>3</td>\n",
       "      <td>129.0</td>\n",
       "      <td>1</td>\n",
       "      <td>RT</td>\n",
       "      <td>ACTIVE</td>\n",
       "      <td>600670900</td>\n",
       "      <td>regular</td>\n",
       "    </tr>\n",
       "    <tr>\n",
       "      <th>3</th>\n",
       "      <td>3</td>\n",
       "      <td>PGGYDYWAD</td>\n",
       "      <td>60068</td>\n",
       "      <td>3838</td>\n",
       "      <td>6552.0</td>\n",
       "      <td>6</td>\n",
       "      <td>0.0</td>\n",
       "      <td>0</td>\n",
       "      <td>RT</td>\n",
       "      <td>INACTIVE</td>\n",
       "      <td>600683838</td>\n",
       "      <td>regular</td>\n",
       "    </tr>\n",
       "    <tr>\n",
       "      <th>4</th>\n",
       "      <td>4</td>\n",
       "      <td>LWPSGPLLS</td>\n",
       "      <td>60090</td>\n",
       "      <td>3932</td>\n",
       "      <td>189.0</td>\n",
       "      <td>3</td>\n",
       "      <td>72.0</td>\n",
       "      <td>1</td>\n",
       "      <td>RT</td>\n",
       "      <td>ACTIVE</td>\n",
       "      <td>600903932</td>\n",
       "      <td>regular</td>\n",
       "    </tr>\n",
       "    <tr>\n",
       "      <th>5</th>\n",
       "      <td>5</td>\n",
       "      <td>LQGYDGSYQ</td>\n",
       "      <td>60085</td>\n",
       "      <td>8670</td>\n",
       "      <td>4278.0</td>\n",
       "      <td>12</td>\n",
       "      <td>102.0</td>\n",
       "      <td>1</td>\n",
       "      <td>RT</td>\n",
       "      <td>ACTIVE</td>\n",
       "      <td>600858670</td>\n",
       "      <td>regular</td>\n",
       "    </tr>\n",
       "    <tr>\n",
       "      <th>6</th>\n",
       "      <td>6</td>\n",
       "      <td>WGQWQDPDA</td>\n",
       "      <td>60091</td>\n",
       "      <td>3447</td>\n",
       "      <td>1869.0</td>\n",
       "      <td>5</td>\n",
       "      <td>495.0</td>\n",
       "      <td>1</td>\n",
       "      <td>RT</td>\n",
       "      <td>ACTIVE</td>\n",
       "      <td>600913447</td>\n",
       "      <td>heavy</td>\n",
       "    </tr>\n",
       "    <tr>\n",
       "      <th>7</th>\n",
       "      <td>7</td>\n",
       "      <td>LPASPGYLS</td>\n",
       "      <td>60091</td>\n",
       "      <td>1613</td>\n",
       "      <td>33.0</td>\n",
       "      <td>1</td>\n",
       "      <td>33.0</td>\n",
       "      <td>1</td>\n",
       "      <td>RT</td>\n",
       "      <td>ACTIVE</td>\n",
       "      <td>600911613</td>\n",
       "      <td>regular</td>\n",
       "    </tr>\n",
       "    <tr>\n",
       "      <th>8</th>\n",
       "      <td>8</td>\n",
       "      <td>GPGDSHGL</td>\n",
       "      <td>60068</td>\n",
       "      <td>3668</td>\n",
       "      <td>735.0</td>\n",
       "      <td>2</td>\n",
       "      <td>0.0</td>\n",
       "      <td>0</td>\n",
       "      <td>RT</td>\n",
       "      <td>INACTIVE</td>\n",
       "      <td>600683668</td>\n",
       "      <td>regular</td>\n",
       "    </tr>\n",
       "    <tr>\n",
       "      <th>9</th>\n",
       "      <td>9</td>\n",
       "      <td>PQHSWQSDQ</td>\n",
       "      <td>60091</td>\n",
       "      <td>0</td>\n",
       "      <td>468.0</td>\n",
       "      <td>2</td>\n",
       "      <td>0.0</td>\n",
       "      <td>0</td>\n",
       "      <td>RT</td>\n",
       "      <td>INACTIVE</td>\n",
       "      <td>600911759</td>\n",
       "      <td>regular</td>\n",
       "    </tr>\n",
       "  </tbody>\n",
       "</table>\n",
       "</div>"
      ],
      "text/plain": [
       "   index     ACCTNO    ZIP  ZIP4  LTD_SALES  LTD_TRANSACTIONS  YTD_SALES_2009  \\\n",
       "0      0  WDQQLLDQL  60084  5016       90.0                 1             0.0   \n",
       "1      1  WQWAYHYLA  60091  1750     4227.0                 9          1263.0   \n",
       "2      2  GSHAPLHAW  60067   900      420.0                 3           129.0   \n",
       "3      3  PGGYDYWAD  60068  3838     6552.0                 6             0.0   \n",
       "4      4  LWPSGPLLS  60090  3932      189.0                 3            72.0   \n",
       "5      5  LQGYDGSYQ  60085  8670     4278.0                12           102.0   \n",
       "6      6  WGQWQDPDA  60091  3447     1869.0                 5           495.0   \n",
       "7      7  LPASPGYLS  60091  1613       33.0                 1            33.0   \n",
       "8      8   GPGDSHGL  60068  3668      735.0                 2             0.0   \n",
       "9      9  PQHSWQSDQ  60091     0      468.0                 2             0.0   \n",
       "\n",
       "   YTD_TRANSACTIONS_2009 CHANNEL_ACQUISITION BUYER_STATUS  ZIP9_SUPERCODE  \\\n",
       "0                      0                  IB     INACTIVE       600845016   \n",
       "1                      3                  RT       ACTIVE       600911750   \n",
       "2                      1                  RT       ACTIVE       600670900   \n",
       "3                      0                  RT     INACTIVE       600683838   \n",
       "4                      1                  RT       ACTIVE       600903932   \n",
       "5                      1                  RT       ACTIVE       600858670   \n",
       "6                      1                  RT       ACTIVE       600913447   \n",
       "7                      1                  RT       ACTIVE       600911613   \n",
       "8                      0                  RT     INACTIVE       600683668   \n",
       "9                      0                  RT     INACTIVE       600911759   \n",
       "\n",
       "  heavyCat  \n",
       "0  regular  \n",
       "1    heavy  \n",
       "2  regular  \n",
       "3  regular  \n",
       "4  regular  \n",
       "5  regular  \n",
       "6    heavy  \n",
       "7  regular  \n",
       "8  regular  \n",
       "9  regular  "
      ]
     },
     "execution_count": 12,
     "metadata": {},
     "output_type": "execute_result"
    }
   ],
   "source": [
    "# create a new column with this variable\n",
    "xyznew['heavyCat'] = heavyCat\n",
    "xyznew.head(10)"
   ]
  },
  {
   "cell_type": "code",
   "execution_count": 13,
   "metadata": {},
   "outputs": [
    {
     "data": {
      "text/html": [
       "<div>\n",
       "<style scoped>\n",
       "    .dataframe tbody tr th:only-of-type {\n",
       "        vertical-align: middle;\n",
       "    }\n",
       "\n",
       "    .dataframe tbody tr th {\n",
       "        vertical-align: top;\n",
       "    }\n",
       "\n",
       "    .dataframe thead th {\n",
       "        text-align: right;\n",
       "    }\n",
       "</style>\n",
       "<table border=\"1\" class=\"dataframe\">\n",
       "  <thead>\n",
       "    <tr style=\"text-align: right;\">\n",
       "      <th>CHANNEL_ACQUISITION</th>\n",
       "      <th>CB</th>\n",
       "      <th>IB</th>\n",
       "      <th>RT</th>\n",
       "    </tr>\n",
       "    <tr>\n",
       "      <th>heavyCat</th>\n",
       "      <th></th>\n",
       "      <th></th>\n",
       "      <th></th>\n",
       "    </tr>\n",
       "  </thead>\n",
       "  <tbody>\n",
       "    <tr>\n",
       "      <th>regular</th>\n",
       "      <td>1353</td>\n",
       "      <td>3149</td>\n",
       "      <td>19041</td>\n",
       "    </tr>\n",
       "    <tr>\n",
       "      <th>heavy</th>\n",
       "      <td>509</td>\n",
       "      <td>1026</td>\n",
       "      <td>5101</td>\n",
       "    </tr>\n",
       "  </tbody>\n",
       "</table>\n",
       "</div>"
      ],
      "text/plain": [
       "CHANNEL_ACQUISITION    CB    IB     RT\n",
       "heavyCat                              \n",
       "regular              1353  3149  19041\n",
       "heavy                 509  1026   5101"
      ]
     },
     "execution_count": 13,
     "metadata": {},
     "output_type": "execute_result"
    }
   ],
   "source": [
    "# to see heavyCat with channel acquisition\n",
    "pd.crosstab(xyznew['heavyCat'], xyznew['CHANNEL_ACQUISITION'])"
   ]
  },
  {
   "cell_type": "code",
   "execution_count": 14,
   "metadata": {},
   "outputs": [
    {
     "data": {
      "text/html": [
       "<div>\n",
       "<style scoped>\n",
       "    .dataframe tbody tr th:only-of-type {\n",
       "        vertical-align: middle;\n",
       "    }\n",
       "\n",
       "    .dataframe tbody tr th {\n",
       "        vertical-align: top;\n",
       "    }\n",
       "\n",
       "    .dataframe thead th {\n",
       "        text-align: right;\n",
       "    }\n",
       "</style>\n",
       "<table border=\"1\" class=\"dataframe\">\n",
       "  <thead>\n",
       "    <tr style=\"text-align: right;\">\n",
       "      <th></th>\n",
       "      <th>regular</th>\n",
       "      <th>heavy</th>\n",
       "    </tr>\n",
       "  </thead>\n",
       "  <tbody>\n",
       "    <tr>\n",
       "      <th>0</th>\n",
       "      <td>1</td>\n",
       "      <td>0</td>\n",
       "    </tr>\n",
       "    <tr>\n",
       "      <th>1</th>\n",
       "      <td>0</td>\n",
       "      <td>1</td>\n",
       "    </tr>\n",
       "    <tr>\n",
       "      <th>2</th>\n",
       "      <td>1</td>\n",
       "      <td>0</td>\n",
       "    </tr>\n",
       "  </tbody>\n",
       "</table>\n",
       "</div>"
      ],
      "text/plain": [
       "   regular  heavy\n",
       "0        1      0\n",
       "1        0      1\n",
       "2        1      0"
      ]
     },
     "execution_count": 14,
     "metadata": {},
     "output_type": "execute_result"
    },
    {
     "data": {
      "text/plain": [
       "pandas.core.frame.DataFrame"
      ]
     },
     "execution_count": 14,
     "metadata": {},
     "output_type": "execute_result"
    }
   ],
   "source": [
    "# a dummy variable marks the field as either 1 or 0\n",
    "buyerType = pd.get_dummies(heavyCat)\n",
    "buyerType[:3]\n",
    "type(buyerType)"
   ]
  },
  {
   "cell_type": "code",
   "execution_count": 15,
   "metadata": {},
   "outputs": [
    {
     "data": {
      "text/plain": [
       "Index(['index', 'ACCTNO', 'ZIP', 'ZIP4', 'LTD_SALES', 'LTD_TRANSACTIONS',\n",
       "       'YTD_SALES_2009', 'YTD_TRANSACTIONS_2009', 'CHANNEL_ACQUISITION',\n",
       "       'BUYER_STATUS', 'ZIP9_SUPERCODE', 'heavyCat', 'typeReg', 'typeHeavy'],\n",
       "      dtype='object')"
      ]
     },
     "execution_count": 15,
     "metadata": {},
     "output_type": "execute_result"
    },
    {
     "data": {
      "text/plain": [
       "<bound method DataFrame.transpose of        index     ACCTNO    ZIP  ZIP4  LTD_SALES  LTD_TRANSACTIONS  \\\n",
       "22334  22552   DLDSLHLL  60093  3518     1650.0                18   \n",
       "16382  16548  PQQPADPHY  60084  5022      447.0                 1   \n",
       "28686  28968  AQQSGSAHS  60056  1432     1206.0                 6   \n",
       "9341    9436  WPLDAAPGP  60070  1028      345.0                 1   \n",
       "25956  26213  LPAWGAPLY  60093     0      876.0                 3   \n",
       "\n",
       "       YTD_SALES_2009  YTD_TRANSACTIONS_2009 CHANNEL_ACQUISITION BUYER_STATUS  \\\n",
       "22334            84.0                      1                  RT       ACTIVE   \n",
       "16382             0.0                      0                  IB       LAPSED   \n",
       "28686            84.0                      1                  RT       ACTIVE   \n",
       "9341              0.0                      0                  RT       LAPSED   \n",
       "25956             0.0                      0                  RT     INACTIVE   \n",
       "\n",
       "       ZIP9_SUPERCODE heavyCat  typeReg  typeHeavy  \n",
       "22334       600933518  regular        1          0  \n",
       "16382       600845022  regular        1          0  \n",
       "28686       600561432  regular        1          0  \n",
       "9341        600701028  regular        1          0  \n",
       "25956       600933441  regular        1          0  >"
      ]
     },
     "execution_count": 15,
     "metadata": {},
     "output_type": "execute_result"
    }
   ],
   "source": [
    "# create new columns\n",
    "xyznew['typeReg']=buyerType['regular']\n",
    "xyznew['typeHeavy']=buyerType['heavy']\n",
    "\n",
    "xyznew.columns\n",
    "\n",
    "# look at new variables\n",
    "xyznew.sample(5).transpose"
   ]
  },
  {
   "cell_type": "code",
   "execution_count": 16,
   "metadata": {},
   "outputs": [
    {
     "name": "stdout",
     "output_type": "stream",
     "text": [
      "<class 'pandas.core.frame.DataFrame'>\n",
      "RangeIndex: 62395 entries, 0 to 62394\n",
      "Data columns (total 9 columns):\n",
      " #   Column        Non-Null Count  Dtype  \n",
      "---  ------        --------------  -----  \n",
      " 0   index         62395 non-null  int64  \n",
      " 1   ACCTNO        62395 non-null  object \n",
      " 2   QTY           62395 non-null  int64  \n",
      " 3   TRANDATE      62395 non-null  object \n",
      " 4   TRAN_CHANNEL  62395 non-null  object \n",
      " 5   PRICE         62395 non-null  float64\n",
      " 6   TOTAMT        62395 non-null  float64\n",
      " 7   ORDERNO       62395 non-null  object \n",
      " 8   DEPTDESCR     62395 non-null  object \n",
      "dtypes: float64(2), int64(2), object(5)\n",
      "memory usage: 4.3+ MB\n"
     ]
    }
   ],
   "source": [
    "# read in xyztrans data\n",
    "\n",
    "xyztrans = pd.read_sql('xyztrans', engine)\n",
    "xyztrans.info()\n"
   ]
  },
  {
   "cell_type": "code",
   "execution_count": 17,
   "metadata": {},
   "outputs": [
    {
     "data": {
      "text/plain": [
       "Mobile Electronic Accessories    18007\n",
       "Small Appliances                 15641\n",
       "Mobile Electronics               13063\n",
       "Home Audio                        7257\n",
       "Portable Electronics              5691\n",
       "Cameras & Camcorder Accessori     2732\n",
       "Appliances                           4\n",
       "Name: DEPTDESCR, dtype: int64"
      ]
     },
     "execution_count": 17,
     "metadata": {},
     "output_type": "execute_result"
    }
   ],
   "source": [
    "# what is in dept description?\n",
    "xyztrans['DEPTDESCR'].value_counts()\n"
   ]
  },
  {
   "cell_type": "code",
   "execution_count": 18,
   "metadata": {},
   "outputs": [
    {
     "data": {
      "text/plain": [
       "pandas.core.series.Series"
      ]
     },
     "execution_count": 18,
     "metadata": {},
     "output_type": "execute_result"
    },
    {
     "name": "stdout",
     "output_type": "stream",
     "text": [
      "09 JUN 2009 09JUN2009\n"
     ]
    }
   ],
   "source": [
    "# for this exercises we need to create trCountsChrono object  \n",
    "# working with date fields\n",
    "\n",
    "trandate = xyztrans['TRANDATE'] # should be a Series\n",
    "type(trandate)\n",
    "\n",
    "daystr = trandate.str[0:2] # two digit date numbers slice\n",
    "\n",
    "mostr = trandate.str[2:5] # the three letter month abbreviations\n",
    "\n",
    "yearstr = trandate.str[5:] # four digit years\n",
    "\n",
    "# show deconstructed date and original date\n",
    "print(daystr[0],mostr[0],yearstr[0],xyztrans.TRANDATE[0])"
   ]
  },
  {
   "cell_type": "code",
   "execution_count": 19,
   "metadata": {},
   "outputs": [
    {
     "name": "stdout",
     "output_type": "stream",
     "text": [
      "2009-6-09\n"
     ]
    }
   ],
   "source": [
    "#create a dictionary for the months\n",
    "monums = {'JAN':'1', 'FEB':'2', 'MAR':'3', 'APR':'4', 'MAY':'5', 'JUN':'6', \n",
    "        'JUL':'7', 'AUG':'8', 'SEP':'9', 'OCT':'10', 'NOV':'11','DEC':'12'}\n",
    "#month\n",
    "monos = mostr.map(monums)\t# do a dict lookup for each value of mostr\n",
    "\n",
    "transtr = yearstr + '-' + monos + '-' + daystr\n",
    "\n",
    "# show reconstruction with month numbers\n",
    "print(transtr[0])"
   ]
  },
  {
   "cell_type": "raw",
   "metadata": {},
   "source": [
    "transtr should be a Series.  Now let's convert the string values in transtr into datetime values:"
   ]
  },
  {
   "cell_type": "code",
   "execution_count": 20,
   "metadata": {},
   "outputs": [
    {
     "data": {
      "text/plain": [
       "2009-12-19    877\n",
       "2009-12-21    836\n",
       "2009-12-12    782\n",
       "2009-12-23    765\n",
       "2009-12-20    744\n",
       "             ... \n",
       "2009-08-15     11\n",
       "2009-04-12     10\n",
       "2009-10-13     10\n",
       "2009-08-21      6\n",
       "2009-03-15      5\n",
       "Name: TRANDATE, Length: 365, dtype: int64"
      ]
     },
     "execution_count": 20,
     "metadata": {},
     "output_type": "execute_result"
    }
   ],
   "source": [
    "# convert to datetime values\n",
    "trDateTime = pd.to_datetime(transtr)\n",
    "\n",
    "# look at counts by date\n",
    "trCounts = trDateTime.value_counts()\n",
    "trCounts"
   ]
  },
  {
   "cell_type": "raw",
   "metadata": {},
   "source": [
    "The order of the counts in trDateTime is not chronological, so let's reorder them so that they go from earliest to most recent date."
   ]
  },
  {
   "cell_type": "code",
   "execution_count": 21,
   "metadata": {},
   "outputs": [
    {
     "name": "stdout",
     "output_type": "stream",
     "text": [
      "2009-01-01    176\n",
      "2009-01-02    305\n",
      "2009-01-03    365\n",
      "2009-01-04    231\n",
      "2009-01-05    144\n",
      "Freq: D, Name: TRANDATE, dtype: int64\n"
     ]
    }
   ],
   "source": [
    "# create a new index\n",
    "newIndex = pd.date_range(trCounts.index.min(),trCounts.index.max())\n",
    "\n",
    "# use the new index to change order\n",
    "trCountsChrono = trCounts.reindex(index=newIndex)\n",
    "print(trCountsChrono.head())"
   ]
  },
  {
   "cell_type": "code",
   "execution_count": 22,
   "metadata": {},
   "outputs": [
    {
     "data": {
      "text/plain": [
       "DatetimeIndex(['2009-01-01', '2009-01-02', '2009-01-03', '2009-01-04',\n",
       "               '2009-01-05', '2009-01-06', '2009-01-07', '2009-01-08',\n",
       "               '2009-01-09', '2009-01-10',\n",
       "               ...\n",
       "               '2009-12-22', '2009-12-23', '2009-12-24', '2009-12-25',\n",
       "               '2009-12-26', '2009-12-27', '2009-12-28', '2009-12-29',\n",
       "               '2009-12-30', '2009-12-31'],\n",
       "              dtype='datetime64[ns]', length=365, freq='D')"
      ]
     },
     "execution_count": 22,
     "metadata": {},
     "output_type": "execute_result"
    }
   ],
   "source": [
    "# when coming across new code, if you are unsure of what it is doing\n",
    "# deconstruct the code by printing out parts of the code\n",
    "newIndex"
   ]
  },
  {
   "cell_type": "raw",
   "metadata": {},
   "source": [
    "One of the very handy things you can do with pandas DataFrames and Series is that you can create what are called hierarchical indexes.  These are multi-level indexes (the are in fact called MultiIndexes).  They make it easier to select, modify, group, and reshape data in a wide variety of ways.  They make it possible to work with high dimensional data in data structures that are in just one or two dimensions.\n",
    "\n",
    "Let's change trCountsChrono a bit to produce a first simple example of a Series with a hierarchical index.  First, let's put the Series into a DataFrame and then rename the columns:\n"
   ]
  },
  {
   "cell_type": "code",
   "execution_count": 23,
   "metadata": {},
   "outputs": [],
   "source": [
    "# initialize a dataframe\n",
    "trDF = pd.DataFrame()"
   ]
  },
  {
   "cell_type": "code",
   "execution_count": 24,
   "metadata": {},
   "outputs": [
    {
     "data": {
      "text/plain": [
       "Index(['date', 'transactions'], dtype='object')"
      ]
     },
     "execution_count": 24,
     "metadata": {},
     "output_type": "execute_result"
    },
    {
     "name": "stdout",
     "output_type": "stream",
     "text": [
      "<class 'pandas.core.frame.DataFrame'>\n",
      "RangeIndex: 365 entries, 0 to 364\n",
      "Data columns (total 2 columns):\n",
      " #   Column        Non-Null Count  Dtype         \n",
      "---  ------        --------------  -----         \n",
      " 0   date          365 non-null    datetime64[ns]\n",
      " 1   transactions  365 non-null    int64         \n",
      "dtypes: datetime64[ns](1), int64(1)\n",
      "memory usage: 5.8 KB\n"
     ]
    },
    {
     "data": {
      "text/html": [
       "<div>\n",
       "<style scoped>\n",
       "    .dataframe tbody tr th:only-of-type {\n",
       "        vertical-align: middle;\n",
       "    }\n",
       "\n",
       "    .dataframe tbody tr th {\n",
       "        vertical-align: top;\n",
       "    }\n",
       "\n",
       "    .dataframe thead th {\n",
       "        text-align: right;\n",
       "    }\n",
       "</style>\n",
       "<table border=\"1\" class=\"dataframe\">\n",
       "  <thead>\n",
       "    <tr style=\"text-align: right;\">\n",
       "      <th></th>\n",
       "      <th>date</th>\n",
       "      <th>transactions</th>\n",
       "    </tr>\n",
       "  </thead>\n",
       "  <tbody>\n",
       "    <tr>\n",
       "      <th>0</th>\n",
       "      <td>2009-01-01</td>\n",
       "      <td>176</td>\n",
       "    </tr>\n",
       "    <tr>\n",
       "      <th>1</th>\n",
       "      <td>2009-01-02</td>\n",
       "      <td>305</td>\n",
       "    </tr>\n",
       "    <tr>\n",
       "      <th>2</th>\n",
       "      <td>2009-01-03</td>\n",
       "      <td>365</td>\n",
       "    </tr>\n",
       "    <tr>\n",
       "      <th>3</th>\n",
       "      <td>2009-01-04</td>\n",
       "      <td>231</td>\n",
       "    </tr>\n",
       "    <tr>\n",
       "      <th>4</th>\n",
       "      <td>2009-01-05</td>\n",
       "      <td>144</td>\n",
       "    </tr>\n",
       "  </tbody>\n",
       "</table>\n",
       "</div>"
      ],
      "text/plain": [
       "        date  transactions\n",
       "0 2009-01-01           176\n",
       "1 2009-01-02           305\n",
       "2 2009-01-03           365\n",
       "3 2009-01-04           231\n",
       "4 2009-01-05           144"
      ]
     },
     "execution_count": 24,
     "metadata": {},
     "output_type": "execute_result"
    }
   ],
   "source": [
    "# load dataframe with 2 columns\n",
    "trDF['date'] = trCountsChrono.index\n",
    "trDF['transactions'] = trCountsChrono.values\n",
    "\n",
    "# what was created\n",
    "trDF.columns\n",
    "trDF.info()\n",
    "trDF.head()"
   ]
  },
  {
   "cell_type": "raw",
   "metadata": {},
   "source": [
    "Now, let's create a new column that indicates whether the number of daily transactions are heavy or light depending on whether the are equal to or greater than the median number of transactions, or less than the median number.  There are more succinct ways to do this, but this is transparent, if not efficient:\n"
   ]
  },
  {
   "cell_type": "code",
   "execution_count": 25,
   "metadata": {},
   "outputs": [
    {
     "data": {
      "text/plain": [
       "136.0"
      ]
     },
     "execution_count": 25,
     "metadata": {},
     "output_type": "execute_result"
    }
   ],
   "source": [
    "# create a constant based on the median\n",
    "trMed = trDF['transactions'].median() \n",
    "trMed"
   ]
  },
  {
   "cell_type": "code",
   "execution_count": null,
   "metadata": {},
   "outputs": [],
   "source": [
    "# ------------- lambda -----------------------------------\n",
    "# 4.7.6 in the following documentation\n",
    "# https://docs.python.org/3/tutorial/controlflow.html\n",
    "# --------------------------------------------------------\n",
    "# if the value is greater than or equal to the median, then heavy\n",
    "heavyLight = lambda x  : x >= trMed and 'heavy' or 'light'   "
   ]
  },
  {
   "attachments": {
    "image.png": {
     "image/png": "[encoded data removed]"
    }
   },
   "cell_type": "markdown",
   "metadata": {},
   "source": [
    "https://docs.python.org/3/library/functions.html#map\n",
    "![image.png](attachment:image.png)"
   ]
  },
  {
   "cell_type": "code",
   "execution_count": null,
   "metadata": {},
   "outputs": [],
   "source": [
    "# use map to call lambda\n",
    "trDF['vol'] = trDF['transactions'].map(heavyLight) # 'vol' is the heavy/light column\n",
    "trDF.head(10)"
   ]
  },
  {
   "cell_type": "raw",
   "metadata": {},
   "source": [
    "Note that this lambda would stumble if trMed wasn't known at the time lambda was called by the map method.\n",
    "\n",
    "Next we're going to create, monum, a variable indicating the month of the calendar year that each day falls into:\n"
   ]
  },
  {
   "cell_type": "code",
   "execution_count": null,
   "metadata": {},
   "outputs": [],
   "source": [
    "# extract the month from our date\n",
    "trDF['monum'] = trDF.date.dt.month "
   ]
  },
  {
   "cell_type": "raw",
   "metadata": {},
   "source": [
    "Next, we're going to collapse the daily transaction counts into monthly counts.  When we do this we'll keep the heavy versus light daily volume distinction.  First we're going to drop the 'date' column because we no longer need it.  To be safe we'll copy the result to a new DataFrame just in case something goes wrong:"
   ]
  },
  {
   "cell_type": "code",
   "execution_count": null,
   "metadata": {},
   "outputs": [],
   "source": [
    "# making a copy of trDF while also dropping date as a column\n",
    "# axis=1 means here a column is selected to drop\n",
    "trDFnd = trDF.drop('date',axis=1)\n",
    "trDFnd.head()"
   ]
  },
  {
   "cell_type": "code",
   "execution_count": null,
   "metadata": {},
   "outputs": [],
   "source": [
    "# remember that drop gave us a whole new copy of the dataframe\n",
    "id(trDF)\n",
    "id(trDFnd)"
   ]
  },
  {
   "cell_type": "raw",
   "metadata": {},
   "source": [
    "Now using this DataFrame's groupby() method,  sum up the transactions within month by heavy volume days and light volume days:"
   ]
  },
  {
   "cell_type": "code",
   "execution_count": null,
   "metadata": {},
   "outputs": [],
   "source": [
    "trDFgrouped = trDFnd.groupby(['monum','vol']).sum()\n",
    "trDFgrouped.head()\n",
    "trDFgrouped.info() #notice the multi index on the dataframe"
   ]
  },
  {
   "cell_type": "code",
   "execution_count": null,
   "metadata": {},
   "outputs": [],
   "source": [
    "# check out the indexes\n",
    "trDFgrouped.index.levels"
   ]
  },
  {
   "cell_type": "raw",
   "metadata": {},
   "source": [
    "Now if you look at this DataFrame you'll see that it has two levels of indexing, monum, and within the levels of monum, vol.   If you enter trDFgrouped.index you'll get back a MultiIndex object.  Also, try trDFgrouped.index.levels to see what you get.\n",
    " \n",
    "pandas has pretty seamlessly created this index for you, but you can construct MultiIndexes manually by combining equal length arrays (using MultiIndex.from_arrays) of index levels, or by using tuples (with MultiIndex.from_tuples).  In both cases all combinations of the levels need to be included.  Or, you can use MultiIndex.from_product to get a cross set of the values of iterables.   \n",
    "\n",
    "Note that if you look at trDFgrouped you may see here and there that for a particular month, the number of heavy day transactions is less than the number of light day transactions.  How do you think that could happen?\n",
    "\n",
    "You can use MultiIndexes to select and subset DataFrames and Series in many of the same ways you can use simple indexes.  For example, to get the heavy days transaction count data for November, you can do:\n"
   ]
  },
  {
   "cell_type": "code",
   "execution_count": null,
   "metadata": {},
   "outputs": [],
   "source": [
    "# with indexes you can reference specific data easily\n",
    "trDFgrouped.loc[11,'heavy']"
   ]
  },
  {
   "cell_type": "code",
   "execution_count": null,
   "metadata": {},
   "outputs": [],
   "source": [
    "# first six months of data\n",
    "trDFgrouped.loc[list(range(1,7))]"
   ]
  },
  {
   "attachments": {
    "image.png": {
     "image/png": "[encoded data removed]"
    }
   },
   "cell_type": "markdown",
   "metadata": {},
   "source": [
    "![image.png](attachment:image.png)"
   ]
  },
  {
   "cell_type": "code",
   "execution_count": null,
   "metadata": {},
   "outputs": [],
   "source": [
    "# or the first 6 rows of data:\n",
    "trDFgrouped.iloc[0:6] # .iloc here, but .loc above."
   ]
  },
  {
   "cell_type": "raw",
   "metadata": {},
   "source": [
    "The data starting from the March light day counts to the July heavy counts:"
   ]
  },
  {
   "cell_type": "code",
   "execution_count": null,
   "metadata": {},
   "outputs": [],
   "source": [
    "trDFgrouped[(3,'light'):(7,'heavy')]"
   ]
  },
  {
   "cell_type": "raw",
   "metadata": {},
   "source": [
    "The above uses a range defined by a slice of tuples.  So does:"
   ]
  },
  {
   "cell_type": "code",
   "execution_count": null,
   "metadata": {},
   "outputs": [],
   "source": [
    "trDFgrouped[(3,'light'):6]"
   ]
  },
  {
   "cell_type": "raw",
   "metadata": {},
   "source": [
    "Try selecting some data and slicing a few times yourself.  It takes a little practice to get the hang of getting what you want.\n",
    "\n",
    "There are many other ways to slice using MultiIndexes.  One other you might find interesting is the cross-section method .xs. Here's an example that picks out data for the light days:\n"
   ]
  },
  {
   "cell_type": "code",
   "execution_count": null,
   "metadata": {},
   "outputs": [],
   "source": [
    "# pandas xs returns a cross section from Series/DataFrame\n",
    "trDFgrouped.xs('light',level='vol')"
   ]
  },
  {
   "cell_type": "raw",
   "metadata": {},
   "source": [
    "As you probably know, DataFrames have a transpose method, .T:"
   ]
  },
  {
   "cell_type": "code",
   "execution_count": null,
   "metadata": {},
   "outputs": [],
   "source": [
    "trDFgrouped.xs('light',level='vol').T # the transpose of the above"
   ]
  },
  {
   "cell_type": "raw",
   "metadata": {},
   "source": [
    "Did you get a table of transactions with cells labeled by monum across the top?\n"
   ]
  },
  {
   "cell_type": "code",
   "execution_count": null,
   "metadata": {},
   "outputs": [],
   "source": [
    "# remember we read in xyznew from xyz.db\n",
    "# lets slice out three columns\n",
    "xyzdata = xyznew[['BUYER_STATUS','heavyCat','CHANNEL_ACQUISITION']]"
   ]
  },
  {
   "cell_type": "raw",
   "metadata": {},
   "source": [
    "Use xyzdata because it's just easier.  It has just the three columns we're now going to work with."
   ]
  },
  {
   "cell_type": "code",
   "execution_count": null,
   "metadata": {},
   "outputs": [],
   "source": [
    "xyzgrouped = xyzdata.groupby(['BUYER_STATUS','heavyCat','CHANNEL_ACQUISITION'])\n"
   ]
  },
  {
   "cell_type": "code",
   "execution_count": null,
   "metadata": {},
   "outputs": [],
   "source": [
    "xyzCountData = xyzgrouped.size() # a MultiIndexed Series of counts\n",
    "xyzCountData"
   ]
  },
  {
   "cell_type": "code",
   "execution_count": null,
   "metadata": {},
   "outputs": [],
   "source": [
    "print(xyzCountData.unstack())"
   ]
  },
  {
   "cell_type": "raw",
   "metadata": {},
   "source": [
    "The pandas melt() method provides some similar functionality.  You can use it to turn a short and wide DataFrame into a taller, narrower one by identifying columns that contain values to be used as record identifiers.   Let's go back to the xyznew data and select a few columns from it to do some melting on:\n",
    "\n"
   ]
  },
  {
   "cell_type": "code",
   "execution_count": null,
   "metadata": {},
   "outputs": [],
   "source": [
    "xyzcust = xyznew[['BUYER_STATUS','heavyCat','LTD_SALES']].copy()"
   ]
  },
  {
   "cell_type": "raw",
   "metadata": {},
   "source": [
    "Now, let's melt xyzcust so that BUYER_STATUS and heavyCat become identifiers:"
   ]
  },
  {
   "cell_type": "code",
   "execution_count": null,
   "metadata": {},
   "outputs": [],
   "source": [
    "xyzcustm = pd.melt(xyzcust,id_vars=['BUYER_STATUS','heavyCat'],var_name=\"LTD_SALES\")\n",
    "\n",
    "type(xyzcustm)\n",
    "print(xyzcustm)"
   ]
  },
  {
   "cell_type": "raw",
   "metadata": {},
   "source": [
    "You'll probably realize that the leftmost column is a simple numerical index that this pandas method created.  There's a pandas method called wide_to_long that works similarly, but can be a little easier to use. Give it a try using xyzcust or the DataFrame of your choice.\n",
    "\n",
    "So at this point we've pivoted, grouped, and reshaped.  The pivoting example we did was pretty simple.  pandas also provides a method called pivot_table that provides considerable flexibility in terms of how data can be reorganized and summarized.  Let's consider the xyznew data once again.  Suppose we want to average YTD_SALES_2009 by BUYER_STATUS, CHANNEL_ACQUISITION, and heavyCAT.  WE could do:\n"
   ]
  },
  {
   "cell_type": "code",
   "execution_count": null,
   "metadata": {},
   "outputs": [],
   "source": [
    "pd.pivot_table(xyznew,values='YTD_SALES_2009',index=['BUYER_STATUS','heavyCat'],columns=['CHANNEL_ACQUISITION'])\n"
   ]
  },
  {
   "cell_type": "raw",
   "metadata": {},
   "source": [
    "Do you see some rows in the result that only have zeros?  Why are they there?\n",
    "\n",
    "Or, try doing:\n"
   ]
  },
  {
   "cell_type": "code",
   "execution_count": null,
   "metadata": {},
   "outputs": [],
   "source": [
    "pd.pivot_table(xyznew,values='YTD_SALES_2009',index=['BUYER_STATUS'],columns=['heavyCat','CHANNEL_ACQUISITION'])\n"
   ]
  },
  {
   "cell_type": "raw",
   "metadata": {},
   "source": [
    "Why are there NaN's?\n",
    "\n",
    "pivot_table defaults to taking the mean (using np.mean) of the groups it defines.  If you want some other aggregation instead, you can define it as a keyword parameter, e.g. aggfunc=np.sum:\n"
   ]
  },
  {
   "cell_type": "code",
   "execution_count": null,
   "metadata": {},
   "outputs": [],
   "source": [
    "pd.pivot_table(xyznew,values='YTD_SALES_2009',\n",
    "               index=['BUYER_STATUS'],columns=['heavyCat','CHANNEL_ACQUISITION'],aggfunc=np.sum)\n"
   ]
  },
  {
   "cell_type": "raw",
   "metadata": {},
   "source": [
    "You can also add margins to pivot_tables by using the margins=True option.  For example, to get row and column totals:"
   ]
  },
  {
   "cell_type": "code",
   "execution_count": null,
   "metadata": {},
   "outputs": [],
   "source": [
    "pd.pivot_table(xyznew,values='YTD_SALES_2009',\n",
    "               index=['BUYER_STATUS'],columns=['heavyCat','CHANNEL_ACQUISITION'],aggfunc=np.sum,margins=True)\n"
   ]
  },
  {
   "cell_type": "raw",
   "metadata": {},
   "source": [
    "Should give you the same table as above but with row and column totals added.\n",
    "\n",
    "It has probably dawned on you that you can manipulate data objects in many different ways to group them and to apply descriptive statistics to them.   Let's group xyz customers using BUYER_STATUS and heavyCat:\n"
   ]
  },
  {
   "cell_type": "code",
   "execution_count": null,
   "metadata": {},
   "outputs": [],
   "source": [
    "xyzGrouper=xyznew.groupby(['BUYER_STATUS','heavyCat'])"
   ]
  },
  {
   "cell_type": "raw",
   "metadata": {},
   "source": [
    "groupby can apply conventional as well as custom functions to aggregated data.  For example:"
   ]
  },
  {
   "cell_type": "code",
   "execution_count": null,
   "metadata": {},
   "outputs": [],
   "source": [
    "xyzGrouper.agg({'YTD_SALES_2009': [np.mean, np.std],'LTD_SALES':[np.mean,np.std]})\n"
   ]
  },
  {
   "cell_type": "raw",
   "metadata": {},
   "source": [
    "calculates the mean and standard deviation of YTD_SALES_2009 and LTD_SALES for each of the groups defined in xyzGrouper.  Note the little dict with a couple of key/value pairs there in the curly brackets, the {}.\n",
    "\n",
    "Try using a version of this command to get statistics for the columns YTD_TRANSACTIONS_2009 and LTD_TRANSACTIONS.  These are both count variables.  What descriptive statistics do you think are appropriate for summarizing them?\n",
    "\n",
    "Note that you can apply custom functions to data aggregates.  Suppose we wanted to compute the coefficient of variation,,”CV,” for data.  The CV is a standardized measure of dispersion, and is the ratio of the standard deviation to to the mean.  It's estimated by the ratio  of the estimates of these two statistics.  We could write our own function do do this:\n"
   ]
  },
  {
   "cell_type": "code",
   "execution_count": null,
   "metadata": {},
   "outputs": [],
   "source": [
    "def coefV(x):                       # a baby CV function that accepts a sequence\n",
    "    return np.std(x)/np.mean(x)\n"
   ]
  },
  {
   "cell_type": "raw",
   "metadata": {},
   "source": [
    "This will work assuming that the mean and std numpy methods are available in this function's namespace, of course.  Note that our baby function doesn't do anything smart regarding missing values and other inconveniences, but it's good enough to demonstrate what we want, here.  What do you think it means if what it produces is negative?  How could that happen?\n",
    "\n",
    "We can apply this function to selected groups.  Here we apply it to customers grouped by BUYER_STATUS.  Let's first get a simpler DataFrame to fiddle with:\n"
   ]
  },
  {
   "cell_type": "code",
   "execution_count": null,
   "metadata": {},
   "outputs": [],
   "source": [
    "buyerStats=xyznew[['BUYER_STATUS','LTD_SALES','LTD_TRANSACTIONS']]\n",
    "buyerGrouper=buyerStats.groupby(['BUYER_STATUS'])\n",
    "buyerGrouper.agg(coefV)"
   ]
  },
  {
   "cell_type": "raw",
   "metadata": {},
   "source": [
    "Did you get a table of CV's?  \n",
    "\n",
    "We could combine our own function or functions with existing functions and apply them on a group by group basis.  Let's play with a function that returns 5th and 95th percentiles of some data:\n"
   ]
  },
  {
   "cell_type": "code",
   "execution_count": null,
   "metadata": {},
   "outputs": [],
   "source": [
    "def ptiles(x):\n",
    "    p5=np.percentile(x,5)\n",
    "    p95=np.percentile(x,95)\n",
    "    return p5, p95\n"
   ]
  },
  {
   "cell_type": "raw",
   "metadata": {},
   "source": [
    "There's our toy function.   coefV, it may break with “bad” data.  (So, watch out.)\n",
    "\n",
    "What kind of object does ptiles return?\n",
    "\n",
    "Now, applying np.mean and ptiles:\n"
   ]
  },
  {
   "cell_type": "code",
   "execution_count": null,
   "metadata": {},
   "outputs": [],
   "source": [
    "buyerGrouper.agg([np.mean, ptiles])"
   ]
  },
  {
   "cell_type": "raw",
   "metadata": {},
   "source": [
    "What kind of object is the above command printing out for you?\n",
    "\n",
    "You can select particular results from this, of course, e.g.:\n"
   ]
  },
  {
   "cell_type": "code",
   "execution_count": null,
   "metadata": {},
   "outputs": [],
   "source": [
    "buyerGrouper.agg([np.mean,ptiles]).loc['ACTIVE','LTD_SALES']"
   ]
  },
  {
   "cell_type": "raw",
   "metadata": {},
   "source": [
    "As a quick little exercise to do on you own, write a tiny function that calculates the “interquartile range,” or IQR, for data, and then apply it to the above data.  The IQR is the difference between the 75th and the 25th percentile values.\n",
    "\n",
    "Well, that wraps it up for this, and last, Python Practice.  No surprisingly, there's a lot more to data management using Python and packages like Pandas, and there's something new all the time. \n",
    "\n",
    "If you're an R user, and you use it on Linux or OS X, you'll want to check out the package rpy2, which provides some capability for transferring data between R and Python.  It's under development, and the plan is that it will eventually allow doing things like calling R functions from within Python.  It is apparently pretty tough to install and use from in Windows at the present time.\n"
   ]
  },
  {
   "cell_type": "markdown",
   "metadata": {},
   "source": [
    "<div class=\"alert alert-block alert-warning\">\n",
    "\n",
    "# Requirements :\n",
    "\n",
    "Answer your homework questions below; add as many cells as needed.\n",
    "</div>"
   ]
  },
  {
   "cell_type": "markdown",
   "metadata": {},
   "source": [
    "## Requirement 1 (7 points)\n",
    "\n",
    "a) Of the Active customers only, show a crosstab of heavyCat and channel acquisition.  <br>\n",
    "b) Of the non-Active customers, show a crosstab of heavyCat and channel acquisition."
   ]
  },
  {
   "cell_type": "code",
   "execution_count": null,
   "metadata": {},
   "outputs": [],
   "source": []
  },
  {
   "cell_type": "markdown",
   "metadata": {},
   "source": [
    "## Requirement 2 (7 points)\n",
    "\n",
    "a) Create a dataframe with LTD Sales, 2009 Sales, Channel Acquistion and heavyCat for all customers. <br>\n",
    "b) Using Groupby, show mean LTD Sales and 2009 Sales by Channel Acquistion and heavyCat."
   ]
  },
  {
   "cell_type": "code",
   "execution_count": null,
   "metadata": {},
   "outputs": [],
   "source": []
  },
  {
   "cell_type": "markdown",
   "metadata": {},
   "source": [
    "## Requirement 3 (7 points)\n",
    "\n",
    "Consider the multi-indexed file trDFgrouped. <br>\n",
    "a) Show the values of May for both heavy and light without using .loc or .iloc <br>\n",
    "b) use .loc to show the values of June heavy/light through July heavy/light <br>\n",
    "c) use .iloc to show the values of June heavy/light through July heavy/light <br>"
   ]
  },
  {
   "cell_type": "code",
   "execution_count": null,
   "metadata": {},
   "outputs": [],
   "source": []
  },
  {
   "cell_type": "markdown",
   "metadata": {},
   "source": [
    "## Requirement 4 (14 points)\n",
    "\n",
    "a) Create a dataframe with xyztrans data of department description, total amount and trans date month (not the full trandate field). It is okay to leave the month as the three letter abbreviation or you can convert to a number.   <br>\n",
    "b) Create a pivot from the dataframe to show total amount totals (not means, but totals) by Month and by department description   <br>\n",
    "c) The pivot shows NaN's.  Explain why the NaN's show up in the pivot, but did not show in the your starting dataframe.  Show how you came up with your answer.  "
   ]
  },
  {
   "cell_type": "code",
   "execution_count": null,
   "metadata": {},
   "outputs": [],
   "source": []
  },
  {
   "cell_type": "markdown",
   "metadata": {},
   "source": [
    "## Requirement 5 (5 points)\n",
    "\n",
    "Take the pivot from Requirement 4 and represent the NaN's as zeroes."
   ]
  },
  {
   "cell_type": "code",
   "execution_count": null,
   "metadata": {},
   "outputs": [],
   "source": []
  }
 ],
 "metadata": {
  "kernelspec": {
   "display_name": "Python 3",
   "language": "python",
   "name": "python3"
  },
  "language_info": {
   "codemirror_mode": {
    "name": "ipython",
    "version": 3
   },
   "file_extension": ".py",
   "mimetype": "text/x-python",
   "name": "python",
   "nbconvert_exporter": "python",
   "pygments_lexer": "ipython3",
   "version": "3.8.3"
  }
 },
 "nbformat": 4,
 "nbformat_minor": 1
}
