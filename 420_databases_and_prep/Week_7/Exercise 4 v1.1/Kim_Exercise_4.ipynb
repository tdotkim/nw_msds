{
 "cells": [
  {
   "cell_type": "markdown",
   "metadata": {},
   "source": [
    "##### Deliverables:\n",
    "\n",
    "- Submit files that have the name: <font color = 'red'>YourLastName_Exercise_4</font> that has the following files:\n",
    "\n",
    " 1. Your **HTML file** that has your Source code and output\n",
    " 2. Your **ipynb script** that has your Source code and output\n",
    "\n",
    "\n",
    "# Objectives:\n",
    "\n",
    "In this exercise, you will:\n",
    "\n",
    " - Construct hierarchical indexes\n",
    " - Select and group data to create pivot-tables\n",
    " - Use of lambda, map, pivot\n",
    "\n",
    " \n"
   ]
  },
  {
   "cell_type": "markdown",
   "metadata": {},
   "source": [
    "# Specifications and Requirements\n",
    "\n",
    "\n",
    "We're going to use the XYZ data again  to construct hierarchical indexes and select, modify, group, and reshape data in a wide variety of ways.  "
   ]
  },
  {
   "cell_type": "code",
   "execution_count": 1,
   "metadata": {},
   "outputs": [],
   "source": [
    "import pandas as pd \n",
    "import numpy as np   \n",
    "from pandas import Categorical \n",
    "from sqlalchemy import create_engine\n",
    "\n",
    "# set up notebook to display multiple output in one cell\n",
    "from IPython.core.interactiveshell import InteractiveShell\n",
    "InteractiveShell.ast_node_interactivity = \"all\""
   ]
  },
  {
   "cell_type": "code",
   "execution_count": 2,
   "metadata": {},
   "outputs": [],
   "source": [
    "engine = create_engine('sqlite:///xyz.db')"
   ]
  },
  {
   "cell_type": "code",
   "execution_count": 3,
   "metadata": {},
   "outputs": [
    {
     "name": "stdout",
     "output_type": "stream",
     "text": [
      "<class 'pandas.core.frame.DataFrame'>\n",
      "RangeIndex: 30179 entries, 0 to 30178\n",
      "Data columns (total 11 columns):\n",
      " #   Column                 Non-Null Count  Dtype  \n",
      "---  ------                 --------------  -----  \n",
      " 0   index                  30179 non-null  int64  \n",
      " 1   ACCTNO                 30179 non-null  object \n",
      " 2   ZIP                    30179 non-null  int64  \n",
      " 3   ZIP4                   30179 non-null  int64  \n",
      " 4   LTD_SALES              30179 non-null  float64\n",
      " 5   LTD_TRANSACTIONS       30179 non-null  int64  \n",
      " 6   YTD_SALES_2009         30179 non-null  float64\n",
      " 7   YTD_TRANSACTIONS_2009  30179 non-null  int64  \n",
      " 8   CHANNEL_ACQUISITION    30179 non-null  object \n",
      " 9   BUYER_STATUS           30179 non-null  object \n",
      " 10  ZIP9_SUPERCODE         30179 non-null  int64  \n",
      "dtypes: float64(2), int64(6), object(3)\n",
      "memory usage: 2.5+ MB\n"
     ]
    }
   ],
   "source": [
    "# .info gives same feedback as .dtype and .count\n",
    "xyznew = pd.read_sql_table('xyzcust',engine)\n",
    "xyznew.info()"
   ]
  },
  {
   "cell_type": "markdown",
   "metadata": {},
   "source": [
    "### What can we learn from sales?"
   ]
  },
  {
   "cell_type": "code",
   "execution_count": 4,
   "metadata": {},
   "outputs": [
    {
     "data": {
      "text/plain": [
       "count     30179.000000\n",
       "mean        236.283972\n",
       "std        2117.042293\n",
       "min           0.000000\n",
       "25%           0.000000\n",
       "50%           0.000000\n",
       "75%         207.000000\n",
       "max      351000.000000\n",
       "Name: YTD_SALES_2009, dtype: float64"
      ]
     },
     "execution_count": 4,
     "metadata": {},
     "output_type": "execute_result"
    }
   ],
   "source": [
    "# look at characteristics \n",
    "xyznew['YTD_SALES_2009'].describe()"
   ]
  },
  {
   "cell_type": "code",
   "execution_count": 5,
   "metadata": {},
   "outputs": [
    {
     "data": {
      "text/plain": [
       "BUYER_STATUS\n",
       "ACTIVE      7130814.0\n",
       "INACTIVE          0.0\n",
       "LAPSED            0.0\n",
       "Name: YTD_SALES_2009, dtype: float64"
      ]
     },
     "execution_count": 5,
     "metadata": {},
     "output_type": "execute_result"
    }
   ],
   "source": [
    "# We know there is more than one buyer status\n",
    "# Are Inactive and Lapsed buyers skewing the statistics\n",
    "temp = xyznew['YTD_SALES_2009'].groupby(xyznew['BUYER_STATUS']).sum()\n",
    "temp"
   ]
  },
  {
   "cell_type": "code",
   "execution_count": 6,
   "metadata": {},
   "outputs": [
    {
     "data": {
      "text/plain": [
       "count     13332.000000\n",
       "mean        534.864536\n",
       "std        3160.079031\n",
       "min           3.000000\n",
       "25%         114.000000\n",
       "50%         246.000000\n",
       "75%         558.000000\n",
       "max      351000.000000\n",
       "Name: YTD_SALES_2009, dtype: float64"
      ]
     },
     "execution_count": 6,
     "metadata": {},
     "output_type": "execute_result"
    }
   ],
   "source": [
    "# isolate only active customers\n",
    "temp = xyznew[xyznew['BUYER_STATUS'] == 'ACTIVE'] \n",
    "temp['YTD_SALES_2009'].describe()"
   ]
  },
  {
   "cell_type": "code",
   "execution_count": 7,
   "metadata": {},
   "outputs": [
    {
     "data": {
      "text/plain": [
       "count    13331.000000\n",
       "mean       508.575051\n",
       "std        878.588664\n",
       "min          3.000000\n",
       "25%        114.000000\n",
       "50%        246.000000\n",
       "75%        558.000000\n",
       "max      28002.000000\n",
       "Name: YTD_SALES_2009, dtype: float64"
      ]
     },
     "execution_count": 7,
     "metadata": {},
     "output_type": "execute_result"
    }
   ],
   "source": [
    "# the max number appears to be an outlier, but it is a confirmed sale\n",
    "# lets look at stats without it anyways\n",
    "temp = temp[temp['YTD_SALES_2009'] < 350000]\n",
    "temp['YTD_SALES_2009'].describe()"
   ]
  },
  {
   "cell_type": "code",
   "execution_count": 8,
   "metadata": {},
   "outputs": [],
   "source": [
    "# heavyCut will be used to slice/dice our customers into strong buyers\n",
    "# mean is $509\n",
    "# median is $246\n",
    "# sd is $879\n",
    "# let's try a cut number using the median\n",
    "heavyCut= 246"
   ]
  },
  {
   "cell_type": "code",
   "execution_count": 9,
   "metadata": {},
   "outputs": [
    {
     "data": {
      "text/html": [
       "<div>\n",
       "<style scoped>\n",
       "    .dataframe tbody tr th:only-of-type {\n",
       "        vertical-align: middle;\n",
       "    }\n",
       "\n",
       "    .dataframe tbody tr th {\n",
       "        vertical-align: top;\n",
       "    }\n",
       "\n",
       "    .dataframe thead th {\n",
       "        text-align: right;\n",
       "    }\n",
       "</style>\n",
       "<table border=\"1\" class=\"dataframe\">\n",
       "  <thead>\n",
       "    <tr style=\"text-align: right;\">\n",
       "      <th></th>\n",
       "      <th>counts</th>\n",
       "      <th>freqs</th>\n",
       "    </tr>\n",
       "    <tr>\n",
       "      <th>categories</th>\n",
       "      <th></th>\n",
       "      <th></th>\n",
       "    </tr>\n",
       "  </thead>\n",
       "  <tbody>\n",
       "    <tr>\n",
       "      <th>0</th>\n",
       "      <td>23543</td>\n",
       "      <td>0.780112</td>\n",
       "    </tr>\n",
       "    <tr>\n",
       "      <th>1</th>\n",
       "      <td>6636</td>\n",
       "      <td>0.219888</td>\n",
       "    </tr>\n",
       "  </tbody>\n",
       "</table>\n",
       "</div>"
      ],
      "text/plain": [
       "            counts     freqs\n",
       "categories                  \n",
       "0            23543  0.780112\n",
       "1             6636  0.219888"
      ]
     },
     "execution_count": 9,
     "metadata": {},
     "output_type": "execute_result"
    }
   ],
   "source": [
    "# creating a derived variable from existing data\n",
    "# create a categorial variable of either a 1 or 0 based upon the value of heavyCut\n",
    "# YTD_SALES_2009 greater than the heavyCut value will be assigned a 1\n",
    "heavyCat = Categorical(np.where(xyznew.YTD_SALES_2009 > heavyCut,1,0))\n",
    "heavyCat.describe()"
   ]
  },
  {
   "cell_type": "code",
   "execution_count": 10,
   "metadata": {},
   "outputs": [
    {
     "name": "stderr",
     "output_type": "stream",
     "text": [
      "C:\\Users\\TK\\AppData\\Local\\Temp\\ipykernel_32764\\3950609777.py:2: FutureWarning: The `inplace` parameter in pandas.Categorical.rename_categories is deprecated and will be removed in a future version. Removing unused categories will always return a new Categorical object.\n",
      "  heavyCat.rename_categories(['regular','heavy'],inplace=True)\n"
     ]
    },
    {
     "data": {
      "text/html": [
       "<div>\n",
       "<style scoped>\n",
       "    .dataframe tbody tr th:only-of-type {\n",
       "        vertical-align: middle;\n",
       "    }\n",
       "\n",
       "    .dataframe tbody tr th {\n",
       "        vertical-align: top;\n",
       "    }\n",
       "\n",
       "    .dataframe thead th {\n",
       "        text-align: right;\n",
       "    }\n",
       "</style>\n",
       "<table border=\"1\" class=\"dataframe\">\n",
       "  <thead>\n",
       "    <tr style=\"text-align: right;\">\n",
       "      <th></th>\n",
       "      <th>counts</th>\n",
       "      <th>freqs</th>\n",
       "    </tr>\n",
       "    <tr>\n",
       "      <th>categories</th>\n",
       "      <th></th>\n",
       "      <th></th>\n",
       "    </tr>\n",
       "  </thead>\n",
       "  <tbody>\n",
       "    <tr>\n",
       "      <th>regular</th>\n",
       "      <td>23543</td>\n",
       "      <td>0.780112</td>\n",
       "    </tr>\n",
       "    <tr>\n",
       "      <th>heavy</th>\n",
       "      <td>6636</td>\n",
       "      <td>0.219888</td>\n",
       "    </tr>\n",
       "  </tbody>\n",
       "</table>\n",
       "</div>"
      ],
      "text/plain": [
       "            counts     freqs\n",
       "categories                  \n",
       "regular      23543  0.780112\n",
       "heavy         6636  0.219888"
      ]
     },
     "execution_count": 10,
     "metadata": {},
     "output_type": "execute_result"
    }
   ],
   "source": [
    "# be more descriptive than a 1 or a 0\n",
    "heavyCat.rename_categories(['regular','heavy'],inplace=True)\n",
    "heavyCat.describe()"
   ]
  },
  {
   "cell_type": "code",
   "execution_count": 11,
   "metadata": {},
   "outputs": [
    {
     "data": {
      "text/plain": [
       "['regular', 'heavy', 'regular', 'regular', 'regular', 'regular', 'heavy', 'regular', 'regular', 'regular']\n",
       "Categories (2, object): ['regular', 'heavy']"
      ]
     },
     "execution_count": 11,
     "metadata": {},
     "output_type": "execute_result"
    },
    {
     "data": {
      "text/plain": [
       "pandas.core.arrays.categorical.Categorical"
      ]
     },
     "execution_count": 11,
     "metadata": {},
     "output_type": "execute_result"
    }
   ],
   "source": [
    "# look at the first ten records\n",
    "heavyCat[:10]\n",
    "type(heavyCat)"
   ]
  },
  {
   "cell_type": "code",
   "execution_count": 12,
   "metadata": {},
   "outputs": [
    {
     "data": {
      "text/html": [
       "<div>\n",
       "<style scoped>\n",
       "    .dataframe tbody tr th:only-of-type {\n",
       "        vertical-align: middle;\n",
       "    }\n",
       "\n",
       "    .dataframe tbody tr th {\n",
       "        vertical-align: top;\n",
       "    }\n",
       "\n",
       "    .dataframe thead th {\n",
       "        text-align: right;\n",
       "    }\n",
       "</style>\n",
       "<table border=\"1\" class=\"dataframe\">\n",
       "  <thead>\n",
       "    <tr style=\"text-align: right;\">\n",
       "      <th></th>\n",
       "      <th>index</th>\n",
       "      <th>ACCTNO</th>\n",
       "      <th>ZIP</th>\n",
       "      <th>ZIP4</th>\n",
       "      <th>LTD_SALES</th>\n",
       "      <th>LTD_TRANSACTIONS</th>\n",
       "      <th>YTD_SALES_2009</th>\n",
       "      <th>YTD_TRANSACTIONS_2009</th>\n",
       "      <th>CHANNEL_ACQUISITION</th>\n",
       "      <th>BUYER_STATUS</th>\n",
       "      <th>ZIP9_SUPERCODE</th>\n",
       "      <th>heavyCat</th>\n",
       "    </tr>\n",
       "  </thead>\n",
       "  <tbody>\n",
       "    <tr>\n",
       "      <th>0</th>\n",
       "      <td>0</td>\n",
       "      <td>WDQQLLDQL</td>\n",
       "      <td>60084</td>\n",
       "      <td>5016</td>\n",
       "      <td>90.0</td>\n",
       "      <td>1</td>\n",
       "      <td>0.0</td>\n",
       "      <td>0</td>\n",
       "      <td>IB</td>\n",
       "      <td>INACTIVE</td>\n",
       "      <td>600845016</td>\n",
       "      <td>regular</td>\n",
       "    </tr>\n",
       "    <tr>\n",
       "      <th>1</th>\n",
       "      <td>1</td>\n",
       "      <td>WQWAYHYLA</td>\n",
       "      <td>60091</td>\n",
       "      <td>1750</td>\n",
       "      <td>4227.0</td>\n",
       "      <td>9</td>\n",
       "      <td>1263.0</td>\n",
       "      <td>3</td>\n",
       "      <td>RT</td>\n",
       "      <td>ACTIVE</td>\n",
       "      <td>600911750</td>\n",
       "      <td>heavy</td>\n",
       "    </tr>\n",
       "    <tr>\n",
       "      <th>2</th>\n",
       "      <td>2</td>\n",
       "      <td>GSHAPLHAW</td>\n",
       "      <td>60067</td>\n",
       "      <td>900</td>\n",
       "      <td>420.0</td>\n",
       "      <td>3</td>\n",
       "      <td>129.0</td>\n",
       "      <td>1</td>\n",
       "      <td>RT</td>\n",
       "      <td>ACTIVE</td>\n",
       "      <td>600670900</td>\n",
       "      <td>regular</td>\n",
       "    </tr>\n",
       "    <tr>\n",
       "      <th>3</th>\n",
       "      <td>3</td>\n",
       "      <td>PGGYDYWAD</td>\n",
       "      <td>60068</td>\n",
       "      <td>3838</td>\n",
       "      <td>6552.0</td>\n",
       "      <td>6</td>\n",
       "      <td>0.0</td>\n",
       "      <td>0</td>\n",
       "      <td>RT</td>\n",
       "      <td>INACTIVE</td>\n",
       "      <td>600683838</td>\n",
       "      <td>regular</td>\n",
       "    </tr>\n",
       "    <tr>\n",
       "      <th>4</th>\n",
       "      <td>4</td>\n",
       "      <td>LWPSGPLLS</td>\n",
       "      <td>60090</td>\n",
       "      <td>3932</td>\n",
       "      <td>189.0</td>\n",
       "      <td>3</td>\n",
       "      <td>72.0</td>\n",
       "      <td>1</td>\n",
       "      <td>RT</td>\n",
       "      <td>ACTIVE</td>\n",
       "      <td>600903932</td>\n",
       "      <td>regular</td>\n",
       "    </tr>\n",
       "    <tr>\n",
       "      <th>5</th>\n",
       "      <td>5</td>\n",
       "      <td>LQGYDGSYQ</td>\n",
       "      <td>60085</td>\n",
       "      <td>8670</td>\n",
       "      <td>4278.0</td>\n",
       "      <td>12</td>\n",
       "      <td>102.0</td>\n",
       "      <td>1</td>\n",
       "      <td>RT</td>\n",
       "      <td>ACTIVE</td>\n",
       "      <td>600858670</td>\n",
       "      <td>regular</td>\n",
       "    </tr>\n",
       "    <tr>\n",
       "      <th>6</th>\n",
       "      <td>6</td>\n",
       "      <td>WGQWQDPDA</td>\n",
       "      <td>60091</td>\n",
       "      <td>3447</td>\n",
       "      <td>1869.0</td>\n",
       "      <td>5</td>\n",
       "      <td>495.0</td>\n",
       "      <td>1</td>\n",
       "      <td>RT</td>\n",
       "      <td>ACTIVE</td>\n",
       "      <td>600913447</td>\n",
       "      <td>heavy</td>\n",
       "    </tr>\n",
       "    <tr>\n",
       "      <th>7</th>\n",
       "      <td>7</td>\n",
       "      <td>LPASPGYLS</td>\n",
       "      <td>60091</td>\n",
       "      <td>1613</td>\n",
       "      <td>33.0</td>\n",
       "      <td>1</td>\n",
       "      <td>33.0</td>\n",
       "      <td>1</td>\n",
       "      <td>RT</td>\n",
       "      <td>ACTIVE</td>\n",
       "      <td>600911613</td>\n",
       "      <td>regular</td>\n",
       "    </tr>\n",
       "    <tr>\n",
       "      <th>8</th>\n",
       "      <td>8</td>\n",
       "      <td>GPGDSHGL</td>\n",
       "      <td>60068</td>\n",
       "      <td>3668</td>\n",
       "      <td>735.0</td>\n",
       "      <td>2</td>\n",
       "      <td>0.0</td>\n",
       "      <td>0</td>\n",
       "      <td>RT</td>\n",
       "      <td>INACTIVE</td>\n",
       "      <td>600683668</td>\n",
       "      <td>regular</td>\n",
       "    </tr>\n",
       "    <tr>\n",
       "      <th>9</th>\n",
       "      <td>9</td>\n",
       "      <td>PQHSWQSDQ</td>\n",
       "      <td>60091</td>\n",
       "      <td>0</td>\n",
       "      <td>468.0</td>\n",
       "      <td>2</td>\n",
       "      <td>0.0</td>\n",
       "      <td>0</td>\n",
       "      <td>RT</td>\n",
       "      <td>INACTIVE</td>\n",
       "      <td>600911759</td>\n",
       "      <td>regular</td>\n",
       "    </tr>\n",
       "  </tbody>\n",
       "</table>\n",
       "</div>"
      ],
      "text/plain": [
       "   index     ACCTNO    ZIP  ZIP4  LTD_SALES  LTD_TRANSACTIONS  YTD_SALES_2009  \\\n",
       "0      0  WDQQLLDQL  60084  5016       90.0                 1             0.0   \n",
       "1      1  WQWAYHYLA  60091  1750     4227.0                 9          1263.0   \n",
       "2      2  GSHAPLHAW  60067   900      420.0                 3           129.0   \n",
       "3      3  PGGYDYWAD  60068  3838     6552.0                 6             0.0   \n",
       "4      4  LWPSGPLLS  60090  3932      189.0                 3            72.0   \n",
       "5      5  LQGYDGSYQ  60085  8670     4278.0                12           102.0   \n",
       "6      6  WGQWQDPDA  60091  3447     1869.0                 5           495.0   \n",
       "7      7  LPASPGYLS  60091  1613       33.0                 1            33.0   \n",
       "8      8   GPGDSHGL  60068  3668      735.0                 2             0.0   \n",
       "9      9  PQHSWQSDQ  60091     0      468.0                 2             0.0   \n",
       "\n",
       "   YTD_TRANSACTIONS_2009 CHANNEL_ACQUISITION BUYER_STATUS  ZIP9_SUPERCODE  \\\n",
       "0                      0                  IB     INACTIVE       600845016   \n",
       "1                      3                  RT       ACTIVE       600911750   \n",
       "2                      1                  RT       ACTIVE       600670900   \n",
       "3                      0                  RT     INACTIVE       600683838   \n",
       "4                      1                  RT       ACTIVE       600903932   \n",
       "5                      1                  RT       ACTIVE       600858670   \n",
       "6                      1                  RT       ACTIVE       600913447   \n",
       "7                      1                  RT       ACTIVE       600911613   \n",
       "8                      0                  RT     INACTIVE       600683668   \n",
       "9                      0                  RT     INACTIVE       600911759   \n",
       "\n",
       "  heavyCat  \n",
       "0  regular  \n",
       "1    heavy  \n",
       "2  regular  \n",
       "3  regular  \n",
       "4  regular  \n",
       "5  regular  \n",
       "6    heavy  \n",
       "7  regular  \n",
       "8  regular  \n",
       "9  regular  "
      ]
     },
     "execution_count": 12,
     "metadata": {},
     "output_type": "execute_result"
    }
   ],
   "source": [
    "# create a new column with this variable\n",
    "xyznew['heavyCat'] = heavyCat\n",
    "xyznew.head(10)"
   ]
  },
  {
   "cell_type": "code",
   "execution_count": 13,
   "metadata": {},
   "outputs": [
    {
     "data": {
      "text/html": [
       "<div>\n",
       "<style scoped>\n",
       "    .dataframe tbody tr th:only-of-type {\n",
       "        vertical-align: middle;\n",
       "    }\n",
       "\n",
       "    .dataframe tbody tr th {\n",
       "        vertical-align: top;\n",
       "    }\n",
       "\n",
       "    .dataframe thead th {\n",
       "        text-align: right;\n",
       "    }\n",
       "</style>\n",
       "<table border=\"1\" class=\"dataframe\">\n",
       "  <thead>\n",
       "    <tr style=\"text-align: right;\">\n",
       "      <th>CHANNEL_ACQUISITION</th>\n",
       "      <th>CB</th>\n",
       "      <th>IB</th>\n",
       "      <th>RT</th>\n",
       "    </tr>\n",
       "    <tr>\n",
       "      <th>heavyCat</th>\n",
       "      <th></th>\n",
       "      <th></th>\n",
       "      <th></th>\n",
       "    </tr>\n",
       "  </thead>\n",
       "  <tbody>\n",
       "    <tr>\n",
       "      <th>regular</th>\n",
       "      <td>1353</td>\n",
       "      <td>3149</td>\n",
       "      <td>19041</td>\n",
       "    </tr>\n",
       "    <tr>\n",
       "      <th>heavy</th>\n",
       "      <td>509</td>\n",
       "      <td>1026</td>\n",
       "      <td>5101</td>\n",
       "    </tr>\n",
       "  </tbody>\n",
       "</table>\n",
       "</div>"
      ],
      "text/plain": [
       "CHANNEL_ACQUISITION    CB    IB     RT\n",
       "heavyCat                              \n",
       "regular              1353  3149  19041\n",
       "heavy                 509  1026   5101"
      ]
     },
     "execution_count": 13,
     "metadata": {},
     "output_type": "execute_result"
    }
   ],
   "source": [
    "# to see heavyCat with channel acquisition\n",
    "pd.crosstab(xyznew['heavyCat'], xyznew['CHANNEL_ACQUISITION'])"
   ]
  },
  {
   "cell_type": "code",
   "execution_count": 14,
   "metadata": {},
   "outputs": [
    {
     "data": {
      "text/html": [
       "<div>\n",
       "<style scoped>\n",
       "    .dataframe tbody tr th:only-of-type {\n",
       "        vertical-align: middle;\n",
       "    }\n",
       "\n",
       "    .dataframe tbody tr th {\n",
       "        vertical-align: top;\n",
       "    }\n",
       "\n",
       "    .dataframe thead th {\n",
       "        text-align: right;\n",
       "    }\n",
       "</style>\n",
       "<table border=\"1\" class=\"dataframe\">\n",
       "  <thead>\n",
       "    <tr style=\"text-align: right;\">\n",
       "      <th></th>\n",
       "      <th>regular</th>\n",
       "      <th>heavy</th>\n",
       "    </tr>\n",
       "  </thead>\n",
       "  <tbody>\n",
       "    <tr>\n",
       "      <th>0</th>\n",
       "      <td>1</td>\n",
       "      <td>0</td>\n",
       "    </tr>\n",
       "    <tr>\n",
       "      <th>1</th>\n",
       "      <td>0</td>\n",
       "      <td>1</td>\n",
       "    </tr>\n",
       "    <tr>\n",
       "      <th>2</th>\n",
       "      <td>1</td>\n",
       "      <td>0</td>\n",
       "    </tr>\n",
       "  </tbody>\n",
       "</table>\n",
       "</div>"
      ],
      "text/plain": [
       "   regular  heavy\n",
       "0        1      0\n",
       "1        0      1\n",
       "2        1      0"
      ]
     },
     "execution_count": 14,
     "metadata": {},
     "output_type": "execute_result"
    },
    {
     "data": {
      "text/plain": [
       "pandas.core.frame.DataFrame"
      ]
     },
     "execution_count": 14,
     "metadata": {},
     "output_type": "execute_result"
    }
   ],
   "source": [
    "# a dummy variable marks the field as either 1 or 0\n",
    "buyerType = pd.get_dummies(heavyCat)\n",
    "buyerType[:3]\n",
    "type(buyerType)"
   ]
  },
  {
   "cell_type": "code",
   "execution_count": 15,
   "metadata": {},
   "outputs": [
    {
     "data": {
      "text/plain": [
       "Index(['index', 'ACCTNO', 'ZIP', 'ZIP4', 'LTD_SALES', 'LTD_TRANSACTIONS',\n",
       "       'YTD_SALES_2009', 'YTD_TRANSACTIONS_2009', 'CHANNEL_ACQUISITION',\n",
       "       'BUYER_STATUS', 'ZIP9_SUPERCODE', 'heavyCat', 'typeReg', 'typeHeavy'],\n",
       "      dtype='object')"
      ]
     },
     "execution_count": 15,
     "metadata": {},
     "output_type": "execute_result"
    },
    {
     "data": {
      "text/plain": [
       "<bound method DataFrame.transpose of        index     ACCTNO    ZIP  ZIP4  LTD_SALES  LTD_TRANSACTIONS  \\\n",
       "18707  18893  WPYSGDASP  60061  1057      117.0                 1   \n",
       "25864  26118  WAPPSHHHS  60093  3619     2370.0                 8   \n",
       "5894    5945  APYHDPAQY  60091  9999       66.0                 1   \n",
       "12222  12348  LSDADDPLS  60067  8677     2472.0                10   \n",
       "29633  29925  WPLLSSLWD  60074  7206      789.0                 4   \n",
       "\n",
       "       YTD_SALES_2009  YTD_TRANSACTIONS_2009 CHANNEL_ACQUISITION BUYER_STATUS  \\\n",
       "18707             0.0                      0                  RT     INACTIVE   \n",
       "25864           615.0                      2                  RT       ACTIVE   \n",
       "5894              0.0                      0                  RT     INACTIVE   \n",
       "12222          1578.0                      5                  RT       ACTIVE   \n",
       "29633           327.0                      1                  RT       ACTIVE   \n",
       "\n",
       "       ZIP9_SUPERCODE heavyCat  typeReg  typeHeavy  \n",
       "18707       600611057  regular        1          0  \n",
       "25864       600933619    heavy        0          1  \n",
       "5894        600919999  regular        1          0  \n",
       "12222       600678677    heavy        0          1  \n",
       "29633       600747206    heavy        0          1  >"
      ]
     },
     "execution_count": 15,
     "metadata": {},
     "output_type": "execute_result"
    }
   ],
   "source": [
    "# create new columns\n",
    "xyznew['typeReg']=buyerType['regular']\n",
    "xyznew['typeHeavy']=buyerType['heavy']\n",
    "\n",
    "xyznew.columns\n",
    "\n",
    "# look at new variables\n",
    "xyznew.sample(5).transpose"
   ]
  },
  {
   "cell_type": "code",
   "execution_count": 16,
   "metadata": {},
   "outputs": [
    {
     "name": "stdout",
     "output_type": "stream",
     "text": [
      "<class 'pandas.core.frame.DataFrame'>\n",
      "RangeIndex: 62395 entries, 0 to 62394\n",
      "Data columns (total 9 columns):\n",
      " #   Column        Non-Null Count  Dtype  \n",
      "---  ------        --------------  -----  \n",
      " 0   index         62395 non-null  int64  \n",
      " 1   ACCTNO        62395 non-null  object \n",
      " 2   QTY           62395 non-null  int64  \n",
      " 3   TRANDATE      62395 non-null  object \n",
      " 4   TRAN_CHANNEL  62395 non-null  object \n",
      " 5   PRICE         62395 non-null  float64\n",
      " 6   TOTAMT        62395 non-null  float64\n",
      " 7   ORDERNO       62395 non-null  object \n",
      " 8   DEPTDESCR     62395 non-null  object \n",
      "dtypes: float64(2), int64(2), object(5)\n",
      "memory usage: 4.3+ MB\n"
     ]
    }
   ],
   "source": [
    "# read in xyztrans data\n",
    "\n",
    "xyztrans = pd.read_sql('xyztrans', engine)\n",
    "xyztrans.info()\n"
   ]
  },
  {
   "cell_type": "code",
   "execution_count": 17,
   "metadata": {},
   "outputs": [
    {
     "data": {
      "text/plain": [
       "Mobile Electronic Accessories    18007\n",
       "Small Appliances                 15641\n",
       "Mobile Electronics               13063\n",
       "Home Audio                        7257\n",
       "Portable Electronics              5691\n",
       "Cameras & Camcorder Accessori     2732\n",
       "Appliances                           4\n",
       "Name: DEPTDESCR, dtype: int64"
      ]
     },
     "execution_count": 17,
     "metadata": {},
     "output_type": "execute_result"
    }
   ],
   "source": [
    "# what is in dept description?\n",
    "xyztrans['DEPTDESCR'].value_counts()\n"
   ]
  },
  {
   "cell_type": "code",
   "execution_count": 18,
   "metadata": {},
   "outputs": [
    {
     "data": {
      "text/plain": [
       "pandas.core.series.Series"
      ]
     },
     "execution_count": 18,
     "metadata": {},
     "output_type": "execute_result"
    },
    {
     "name": "stdout",
     "output_type": "stream",
     "text": [
      "09 JUN 2009 09JUN2009\n"
     ]
    }
   ],
   "source": [
    "# for this exercises we need to create trCountsChrono object  \n",
    "# working with date fields\n",
    "\n",
    "trandate = xyztrans['TRANDATE'] # should be a Series\n",
    "type(trandate)\n",
    "\n",
    "daystr = trandate.str[0:2] # two digit date numbers slice\n",
    "\n",
    "mostr = trandate.str[2:5] # the three letter month abbreviations\n",
    "\n",
    "yearstr = trandate.str[5:] # four digit years\n",
    "\n",
    "# show deconstructed date and original date\n",
    "print(daystr[0],mostr[0],yearstr[0],xyztrans.TRANDATE[0])"
   ]
  },
  {
   "cell_type": "code",
   "execution_count": 19,
   "metadata": {},
   "outputs": [
    {
     "name": "stdout",
     "output_type": "stream",
     "text": [
      "2009-6-09\n"
     ]
    }
   ],
   "source": [
    "#create a dictionary for the months\n",
    "monums = {'JAN':'1', 'FEB':'2', 'MAR':'3', 'APR':'4', 'MAY':'5', 'JUN':'6', \n",
    "        'JUL':'7', 'AUG':'8', 'SEP':'9', 'OCT':'10', 'NOV':'11','DEC':'12'}\n",
    "#month\n",
    "monos = mostr.map(monums)\t# do a dict lookup for each value of mostr\n",
    "\n",
    "transtr = yearstr + '-' + monos + '-' + daystr\n",
    "\n",
    "# show reconstruction with month numbers\n",
    "print(transtr[0])"
   ]
  },
  {
   "cell_type": "raw",
   "metadata": {},
   "source": [
    "transtr should be a Series.  Now let's convert the string values in transtr into datetime values:"
   ]
  },
  {
   "cell_type": "code",
   "execution_count": 20,
   "metadata": {},
   "outputs": [
    {
     "data": {
      "text/plain": [
       "2009-12-19    877\n",
       "2009-12-21    836\n",
       "2009-12-12    782\n",
       "2009-12-23    765\n",
       "2009-12-20    744\n",
       "             ... \n",
       "2009-12-25     11\n",
       "2009-04-12     10\n",
       "2009-10-13     10\n",
       "2009-08-21      6\n",
       "2009-03-15      5\n",
       "Name: TRANDATE, Length: 365, dtype: int64"
      ]
     },
     "execution_count": 20,
     "metadata": {},
     "output_type": "execute_result"
    }
   ],
   "source": [
    "# convert to datetime values\n",
    "trDateTime = pd.to_datetime(transtr)\n",
    "\n",
    "# look at counts by date\n",
    "trCounts = trDateTime.value_counts()\n",
    "trCounts"
   ]
  },
  {
   "cell_type": "raw",
   "metadata": {},
   "source": [
    "The order of the counts in trDateTime is not chronological, so let's reorder them so that they go from earliest to most recent date."
   ]
  },
  {
   "cell_type": "code",
   "execution_count": 21,
   "metadata": {},
   "outputs": [
    {
     "name": "stdout",
     "output_type": "stream",
     "text": [
      "2009-01-01    176\n",
      "2009-01-02    305\n",
      "2009-01-03    365\n",
      "2009-01-04    231\n",
      "2009-01-05    144\n",
      "Freq: D, Name: TRANDATE, dtype: int64\n"
     ]
    }
   ],
   "source": [
    "# create a new index\n",
    "newIndex = pd.date_range(trCounts.index.min(),trCounts.index.max())\n",
    "\n",
    "# use the new index to change order\n",
    "trCountsChrono = trCounts.reindex(index=newIndex)\n",
    "print(trCountsChrono.head())"
   ]
  },
  {
   "cell_type": "code",
   "execution_count": 22,
   "metadata": {},
   "outputs": [
    {
     "data": {
      "text/plain": [
       "DatetimeIndex(['2009-01-01', '2009-01-02', '2009-01-03', '2009-01-04',\n",
       "               '2009-01-05', '2009-01-06', '2009-01-07', '2009-01-08',\n",
       "               '2009-01-09', '2009-01-10',\n",
       "               ...\n",
       "               '2009-12-22', '2009-12-23', '2009-12-24', '2009-12-25',\n",
       "               '2009-12-26', '2009-12-27', '2009-12-28', '2009-12-29',\n",
       "               '2009-12-30', '2009-12-31'],\n",
       "              dtype='datetime64[ns]', length=365, freq='D')"
      ]
     },
     "execution_count": 22,
     "metadata": {},
     "output_type": "execute_result"
    }
   ],
   "source": [
    "# when coming across new code, if you are unsure of what it is doing\n",
    "# deconstruct the code by printing out parts of the code\n",
    "newIndex"
   ]
  },
  {
   "cell_type": "raw",
   "metadata": {},
   "source": [
    "One of the very handy things you can do with pandas DataFrames and Series is that you can create what are called hierarchical indexes.  These are multi-level indexes (the are in fact called MultiIndexes).  They make it easier to select, modify, group, and reshape data in a wide variety of ways.  They make it possible to work with high dimensional data in data structures that are in just one or two dimensions.\n",
    "\n",
    "Let's change trCountsChrono a bit to produce a first simple example of a Series with a hierarchical index.  First, let's put the Series into a DataFrame and then rename the columns:\n"
   ]
  },
  {
   "cell_type": "code",
   "execution_count": 23,
   "metadata": {},
   "outputs": [],
   "source": [
    "# initialize a dataframe\n",
    "trDF = pd.DataFrame()"
   ]
  },
  {
   "cell_type": "code",
   "execution_count": 24,
   "metadata": {},
   "outputs": [
    {
     "data": {
      "text/plain": [
       "Index(['date', 'transactions'], dtype='object')"
      ]
     },
     "execution_count": 24,
     "metadata": {},
     "output_type": "execute_result"
    },
    {
     "name": "stdout",
     "output_type": "stream",
     "text": [
      "<class 'pandas.core.frame.DataFrame'>\n",
      "RangeIndex: 365 entries, 0 to 364\n",
      "Data columns (total 2 columns):\n",
      " #   Column        Non-Null Count  Dtype         \n",
      "---  ------        --------------  -----         \n",
      " 0   date          365 non-null    datetime64[ns]\n",
      " 1   transactions  365 non-null    int64         \n",
      "dtypes: datetime64[ns](1), int64(1)\n",
      "memory usage: 5.8 KB\n"
     ]
    },
    {
     "data": {
      "text/html": [
       "<div>\n",
       "<style scoped>\n",
       "    .dataframe tbody tr th:only-of-type {\n",
       "        vertical-align: middle;\n",
       "    }\n",
       "\n",
       "    .dataframe tbody tr th {\n",
       "        vertical-align: top;\n",
       "    }\n",
       "\n",
       "    .dataframe thead th {\n",
       "        text-align: right;\n",
       "    }\n",
       "</style>\n",
       "<table border=\"1\" class=\"dataframe\">\n",
       "  <thead>\n",
       "    <tr style=\"text-align: right;\">\n",
       "      <th></th>\n",
       "      <th>date</th>\n",
       "      <th>transactions</th>\n",
       "    </tr>\n",
       "  </thead>\n",
       "  <tbody>\n",
       "    <tr>\n",
       "      <th>0</th>\n",
       "      <td>2009-01-01</td>\n",
       "      <td>176</td>\n",
       "    </tr>\n",
       "    <tr>\n",
       "      <th>1</th>\n",
       "      <td>2009-01-02</td>\n",
       "      <td>305</td>\n",
       "    </tr>\n",
       "    <tr>\n",
       "      <th>2</th>\n",
       "      <td>2009-01-03</td>\n",
       "      <td>365</td>\n",
       "    </tr>\n",
       "    <tr>\n",
       "      <th>3</th>\n",
       "      <td>2009-01-04</td>\n",
       "      <td>231</td>\n",
       "    </tr>\n",
       "    <tr>\n",
       "      <th>4</th>\n",
       "      <td>2009-01-05</td>\n",
       "      <td>144</td>\n",
       "    </tr>\n",
       "  </tbody>\n",
       "</table>\n",
       "</div>"
      ],
      "text/plain": [
       "        date  transactions\n",
       "0 2009-01-01           176\n",
       "1 2009-01-02           305\n",
       "2 2009-01-03           365\n",
       "3 2009-01-04           231\n",
       "4 2009-01-05           144"
      ]
     },
     "execution_count": 24,
     "metadata": {},
     "output_type": "execute_result"
    }
   ],
   "source": [
    "# load dataframe with 2 columns\n",
    "trDF['date'] = trCountsChrono.index\n",
    "trDF['transactions'] = trCountsChrono.values\n",
    "\n",
    "# what was created\n",
    "trDF.columns\n",
    "trDF.info()\n",
    "trDF.head()"
   ]
  },
  {
   "cell_type": "raw",
   "metadata": {},
   "source": [
    "Now, let's create a new column that indicates whether the number of daily transactions are heavy or light depending on whether the are equal to or greater than the median number of transactions, or less than the median number.  There are more succinct ways to do this, but this is transparent, if not efficient:\n"
   ]
  },
  {
   "cell_type": "code",
   "execution_count": 25,
   "metadata": {},
   "outputs": [
    {
     "data": {
      "text/plain": [
       "136.0"
      ]
     },
     "execution_count": 25,
     "metadata": {},
     "output_type": "execute_result"
    }
   ],
   "source": [
    "# create a constant based on the median\n",
    "trMed = trDF['transactions'].median() \n",
    "trMed"
   ]
  },
  {
   "cell_type": "code",
   "execution_count": 26,
   "metadata": {},
   "outputs": [],
   "source": [
    "# ------------- lambda -----------------------------------\n",
    "# 4.7.6 in the following documentation\n",
    "# https://docs.python.org/3/tutorial/controlflow.html\n",
    "# --------------------------------------------------------\n",
    "# if the value is greater than or equal to the median, then heavy\n",
    "heavyLight = lambda x  : x >= trMed and 'heavy' or 'light'   "
   ]
  },
  {
   "attachments": {
    "image.png": {
     "image/png": "[encoded data removed]"
    }
   },
   "cell_type": "markdown",
   "metadata": {},
   "source": [
    "https://docs.python.org/3/library/functions.html#map\n",
    "![image.png](attachment:image.png)"
   ]
  },
  {
   "cell_type": "code",
   "execution_count": 27,
   "metadata": {},
   "outputs": [
    {
     "data": {
      "text/html": [
       "<div>\n",
       "<style scoped>\n",
       "    .dataframe tbody tr th:only-of-type {\n",
       "        vertical-align: middle;\n",
       "    }\n",
       "\n",
       "    .dataframe tbody tr th {\n",
       "        vertical-align: top;\n",
       "    }\n",
       "\n",
       "    .dataframe thead th {\n",
       "        text-align: right;\n",
       "    }\n",
       "</style>\n",
       "<table border=\"1\" class=\"dataframe\">\n",
       "  <thead>\n",
       "    <tr style=\"text-align: right;\">\n",
       "      <th></th>\n",
       "      <th>date</th>\n",
       "      <th>transactions</th>\n",
       "      <th>vol</th>\n",
       "    </tr>\n",
       "  </thead>\n",
       "  <tbody>\n",
       "    <tr>\n",
       "      <th>0</th>\n",
       "      <td>2009-01-01</td>\n",
       "      <td>176</td>\n",
       "      <td>heavy</td>\n",
       "    </tr>\n",
       "    <tr>\n",
       "      <th>1</th>\n",
       "      <td>2009-01-02</td>\n",
       "      <td>305</td>\n",
       "      <td>heavy</td>\n",
       "    </tr>\n",
       "    <tr>\n",
       "      <th>2</th>\n",
       "      <td>2009-01-03</td>\n",
       "      <td>365</td>\n",
       "      <td>heavy</td>\n",
       "    </tr>\n",
       "    <tr>\n",
       "      <th>3</th>\n",
       "      <td>2009-01-04</td>\n",
       "      <td>231</td>\n",
       "      <td>heavy</td>\n",
       "    </tr>\n",
       "    <tr>\n",
       "      <th>4</th>\n",
       "      <td>2009-01-05</td>\n",
       "      <td>144</td>\n",
       "      <td>heavy</td>\n",
       "    </tr>\n",
       "    <tr>\n",
       "      <th>5</th>\n",
       "      <td>2009-01-06</td>\n",
       "      <td>188</td>\n",
       "      <td>heavy</td>\n",
       "    </tr>\n",
       "    <tr>\n",
       "      <th>6</th>\n",
       "      <td>2009-01-07</td>\n",
       "      <td>166</td>\n",
       "      <td>heavy</td>\n",
       "    </tr>\n",
       "    <tr>\n",
       "      <th>7</th>\n",
       "      <td>2009-01-08</td>\n",
       "      <td>52</td>\n",
       "      <td>light</td>\n",
       "    </tr>\n",
       "    <tr>\n",
       "      <th>8</th>\n",
       "      <td>2009-01-09</td>\n",
       "      <td>194</td>\n",
       "      <td>heavy</td>\n",
       "    </tr>\n",
       "    <tr>\n",
       "      <th>9</th>\n",
       "      <td>2009-01-10</td>\n",
       "      <td>166</td>\n",
       "      <td>heavy</td>\n",
       "    </tr>\n",
       "  </tbody>\n",
       "</table>\n",
       "</div>"
      ],
      "text/plain": [
       "        date  transactions    vol\n",
       "0 2009-01-01           176  heavy\n",
       "1 2009-01-02           305  heavy\n",
       "2 2009-01-03           365  heavy\n",
       "3 2009-01-04           231  heavy\n",
       "4 2009-01-05           144  heavy\n",
       "5 2009-01-06           188  heavy\n",
       "6 2009-01-07           166  heavy\n",
       "7 2009-01-08            52  light\n",
       "8 2009-01-09           194  heavy\n",
       "9 2009-01-10           166  heavy"
      ]
     },
     "execution_count": 27,
     "metadata": {},
     "output_type": "execute_result"
    }
   ],
   "source": [
    "# use map to call lambda\n",
    "trDF['vol'] = trDF['transactions'].map(heavyLight) # 'vol' is the heavy/light column\n",
    "trDF.head(10)"
   ]
  },
  {
   "cell_type": "raw",
   "metadata": {},
   "source": [
    "Note that this lambda would stumble if trMed wasn't known at the time lambda was called by the map method.\n",
    "\n",
    "Next we're going to create, monum, a variable indicating the month of the calendar year that each day falls into:\n"
   ]
  },
  {
   "cell_type": "code",
   "execution_count": 28,
   "metadata": {},
   "outputs": [],
   "source": [
    "# extract the month from our date\n",
    "trDF['monum'] = trDF.date.dt.month "
   ]
  },
  {
   "cell_type": "raw",
   "metadata": {},
   "source": [
    "Next, we're going to collapse the daily transaction counts into monthly counts.  When we do this we'll keep the heavy versus light daily volume distinction.  First we're going to drop the 'date' column because we no longer need it.  To be safe we'll copy the result to a new DataFrame just in case something goes wrong:"
   ]
  },
  {
   "cell_type": "code",
   "execution_count": 29,
   "metadata": {},
   "outputs": [
    {
     "data": {
      "text/html": [
       "<div>\n",
       "<style scoped>\n",
       "    .dataframe tbody tr th:only-of-type {\n",
       "        vertical-align: middle;\n",
       "    }\n",
       "\n",
       "    .dataframe tbody tr th {\n",
       "        vertical-align: top;\n",
       "    }\n",
       "\n",
       "    .dataframe thead th {\n",
       "        text-align: right;\n",
       "    }\n",
       "</style>\n",
       "<table border=\"1\" class=\"dataframe\">\n",
       "  <thead>\n",
       "    <tr style=\"text-align: right;\">\n",
       "      <th></th>\n",
       "      <th>transactions</th>\n",
       "      <th>vol</th>\n",
       "      <th>monum</th>\n",
       "    </tr>\n",
       "  </thead>\n",
       "  <tbody>\n",
       "    <tr>\n",
       "      <th>0</th>\n",
       "      <td>176</td>\n",
       "      <td>heavy</td>\n",
       "      <td>1</td>\n",
       "    </tr>\n",
       "    <tr>\n",
       "      <th>1</th>\n",
       "      <td>305</td>\n",
       "      <td>heavy</td>\n",
       "      <td>1</td>\n",
       "    </tr>\n",
       "    <tr>\n",
       "      <th>2</th>\n",
       "      <td>365</td>\n",
       "      <td>heavy</td>\n",
       "      <td>1</td>\n",
       "    </tr>\n",
       "    <tr>\n",
       "      <th>3</th>\n",
       "      <td>231</td>\n",
       "      <td>heavy</td>\n",
       "      <td>1</td>\n",
       "    </tr>\n",
       "    <tr>\n",
       "      <th>4</th>\n",
       "      <td>144</td>\n",
       "      <td>heavy</td>\n",
       "      <td>1</td>\n",
       "    </tr>\n",
       "  </tbody>\n",
       "</table>\n",
       "</div>"
      ],
      "text/plain": [
       "   transactions    vol  monum\n",
       "0           176  heavy      1\n",
       "1           305  heavy      1\n",
       "2           365  heavy      1\n",
       "3           231  heavy      1\n",
       "4           144  heavy      1"
      ]
     },
     "execution_count": 29,
     "metadata": {},
     "output_type": "execute_result"
    }
   ],
   "source": [
    "# making a copy of trDF while also dropping date as a column\n",
    "# axis=1 means here a column is selected to drop\n",
    "trDFnd = trDF.drop('date',axis=1)\n",
    "trDFnd.head()"
   ]
  },
  {
   "cell_type": "code",
   "execution_count": 30,
   "metadata": {},
   "outputs": [
    {
     "data": {
      "text/plain": [
       "2984030419024"
      ]
     },
     "execution_count": 30,
     "metadata": {},
     "output_type": "execute_result"
    },
    {
     "data": {
      "text/plain": [
       "2984075441536"
      ]
     },
     "execution_count": 30,
     "metadata": {},
     "output_type": "execute_result"
    }
   ],
   "source": [
    "# remember that drop gave us a whole new copy of the dataframe\n",
    "id(trDF)\n",
    "id(trDFnd)"
   ]
  },
  {
   "cell_type": "raw",
   "metadata": {},
   "source": [
    "Now using this DataFrame's groupby() method,  sum up the transactions within month by heavy volume days and light volume days:"
   ]
  },
  {
   "cell_type": "code",
   "execution_count": 31,
   "metadata": {},
   "outputs": [
    {
     "data": {
      "text/html": [
       "<div>\n",
       "<style scoped>\n",
       "    .dataframe tbody tr th:only-of-type {\n",
       "        vertical-align: middle;\n",
       "    }\n",
       "\n",
       "    .dataframe tbody tr th {\n",
       "        vertical-align: top;\n",
       "    }\n",
       "\n",
       "    .dataframe thead th {\n",
       "        text-align: right;\n",
       "    }\n",
       "</style>\n",
       "<table border=\"1\" class=\"dataframe\">\n",
       "  <thead>\n",
       "    <tr style=\"text-align: right;\">\n",
       "      <th></th>\n",
       "      <th></th>\n",
       "      <th>transactions</th>\n",
       "    </tr>\n",
       "    <tr>\n",
       "      <th>monum</th>\n",
       "      <th>vol</th>\n",
       "      <th></th>\n",
       "    </tr>\n",
       "  </thead>\n",
       "  <tbody>\n",
       "    <tr>\n",
       "      <th rowspan=\"2\" valign=\"top\">1</th>\n",
       "      <th>heavy</th>\n",
       "      <td>5255</td>\n",
       "    </tr>\n",
       "    <tr>\n",
       "      <th>light</th>\n",
       "      <td>572</td>\n",
       "    </tr>\n",
       "    <tr>\n",
       "      <th rowspan=\"2\" valign=\"top\">2</th>\n",
       "      <th>heavy</th>\n",
       "      <td>761</td>\n",
       "    </tr>\n",
       "    <tr>\n",
       "      <th>light</th>\n",
       "      <td>1625</td>\n",
       "    </tr>\n",
       "    <tr>\n",
       "      <th>3</th>\n",
       "      <th>heavy</th>\n",
       "      <td>1130</td>\n",
       "    </tr>\n",
       "  </tbody>\n",
       "</table>\n",
       "</div>"
      ],
      "text/plain": [
       "             transactions\n",
       "monum vol                \n",
       "1     heavy          5255\n",
       "      light           572\n",
       "2     heavy           761\n",
       "      light          1625\n",
       "3     heavy          1130"
      ]
     },
     "execution_count": 31,
     "metadata": {},
     "output_type": "execute_result"
    },
    {
     "name": "stdout",
     "output_type": "stream",
     "text": [
      "<class 'pandas.core.frame.DataFrame'>\n",
      "MultiIndex: 24 entries, (1, 'heavy') to (12, 'light')\n",
      "Data columns (total 1 columns):\n",
      " #   Column        Non-Null Count  Dtype\n",
      "---  ------        --------------  -----\n",
      " 0   transactions  24 non-null     int64\n",
      "dtypes: int64(1)\n",
      "memory usage: 458.0+ bytes\n"
     ]
    }
   ],
   "source": [
    "trDFgrouped = trDFnd.groupby(['monum','vol']).sum()\n",
    "trDFgrouped.head()\n",
    "trDFgrouped.info() #notice the multi index on the dataframe"
   ]
  },
  {
   "cell_type": "code",
   "execution_count": 32,
   "metadata": {},
   "outputs": [
    {
     "data": {
      "text/plain": [
       "FrozenList([[1, 2, 3, 4, 5, 6, 7, 8, 9, 10, 11, 12], ['heavy', 'light']])"
      ]
     },
     "execution_count": 32,
     "metadata": {},
     "output_type": "execute_result"
    }
   ],
   "source": [
    "# check out the indexes\n",
    "trDFgrouped.index.levels"
   ]
  },
  {
   "cell_type": "raw",
   "metadata": {},
   "source": [
    "Now if you look at this DataFrame you'll see that it has two levels of indexing, monum, and within the levels of monum, vol.   If you enter trDFgrouped.index you'll get back a MultiIndex object.  Also, try trDFgrouped.index.levels to see what you get.\n",
    " \n",
    "pandas has pretty seamlessly created this index for you, but you can construct MultiIndexes manually by combining equal length arrays (using MultiIndex.from_arrays) of index levels, or by using tuples (with MultiIndex.from_tuples).  In both cases all combinations of the levels need to be included.  Or, you can use MultiIndex.from_product to get a cross set of the values of iterables.   \n",
    "\n",
    "Note that if you look at trDFgrouped you may see here and there that for a particular month, the number of heavy day transactions is less than the number of light day transactions.  How do you think that could happen?\n",
    "\n",
    "You can use MultiIndexes to select and subset DataFrames and Series in many of the same ways you can use simple indexes.  For example, to get the heavy days transaction count data for November, you can do:\n"
   ]
  },
  {
   "cell_type": "code",
   "execution_count": 33,
   "metadata": {},
   "outputs": [
    {
     "data": {
      "text/plain": [
       "transactions    8402\n",
       "Name: (11, heavy), dtype: int64"
      ]
     },
     "execution_count": 33,
     "metadata": {},
     "output_type": "execute_result"
    }
   ],
   "source": [
    "# with indexes you can reference specific data easily\n",
    "trDFgrouped.loc[11,'heavy']"
   ]
  },
  {
   "cell_type": "code",
   "execution_count": 34,
   "metadata": {},
   "outputs": [
    {
     "data": {
      "text/html": [
       "<div>\n",
       "<style scoped>\n",
       "    .dataframe tbody tr th:only-of-type {\n",
       "        vertical-align: middle;\n",
       "    }\n",
       "\n",
       "    .dataframe tbody tr th {\n",
       "        vertical-align: top;\n",
       "    }\n",
       "\n",
       "    .dataframe thead th {\n",
       "        text-align: right;\n",
       "    }\n",
       "</style>\n",
       "<table border=\"1\" class=\"dataframe\">\n",
       "  <thead>\n",
       "    <tr style=\"text-align: right;\">\n",
       "      <th></th>\n",
       "      <th></th>\n",
       "      <th>transactions</th>\n",
       "    </tr>\n",
       "    <tr>\n",
       "      <th>monum</th>\n",
       "      <th>vol</th>\n",
       "      <th></th>\n",
       "    </tr>\n",
       "  </thead>\n",
       "  <tbody>\n",
       "    <tr>\n",
       "      <th rowspan=\"2\" valign=\"top\">1</th>\n",
       "      <th>heavy</th>\n",
       "      <td>5255</td>\n",
       "    </tr>\n",
       "    <tr>\n",
       "      <th>light</th>\n",
       "      <td>572</td>\n",
       "    </tr>\n",
       "    <tr>\n",
       "      <th rowspan=\"2\" valign=\"top\">2</th>\n",
       "      <th>heavy</th>\n",
       "      <td>761</td>\n",
       "    </tr>\n",
       "    <tr>\n",
       "      <th>light</th>\n",
       "      <td>1625</td>\n",
       "    </tr>\n",
       "    <tr>\n",
       "      <th rowspan=\"2\" valign=\"top\">3</th>\n",
       "      <th>heavy</th>\n",
       "      <td>1130</td>\n",
       "    </tr>\n",
       "    <tr>\n",
       "      <th>light</th>\n",
       "      <td>1664</td>\n",
       "    </tr>\n",
       "    <tr>\n",
       "      <th rowspan=\"2\" valign=\"top\">4</th>\n",
       "      <th>heavy</th>\n",
       "      <td>2327</td>\n",
       "    </tr>\n",
       "    <tr>\n",
       "      <th>light</th>\n",
       "      <td>1727</td>\n",
       "    </tr>\n",
       "    <tr>\n",
       "      <th rowspan=\"2\" valign=\"top\">5</th>\n",
       "      <th>heavy</th>\n",
       "      <td>2172</td>\n",
       "    </tr>\n",
       "    <tr>\n",
       "      <th>light</th>\n",
       "      <td>2076</td>\n",
       "    </tr>\n",
       "    <tr>\n",
       "      <th rowspan=\"2\" valign=\"top\">6</th>\n",
       "      <th>heavy</th>\n",
       "      <td>2878</td>\n",
       "    </tr>\n",
       "    <tr>\n",
       "      <th>light</th>\n",
       "      <td>1495</td>\n",
       "    </tr>\n",
       "  </tbody>\n",
       "</table>\n",
       "</div>"
      ],
      "text/plain": [
       "             transactions\n",
       "monum vol                \n",
       "1     heavy          5255\n",
       "      light           572\n",
       "2     heavy           761\n",
       "      light          1625\n",
       "3     heavy          1130\n",
       "      light          1664\n",
       "4     heavy          2327\n",
       "      light          1727\n",
       "5     heavy          2172\n",
       "      light          2076\n",
       "6     heavy          2878\n",
       "      light          1495"
      ]
     },
     "execution_count": 34,
     "metadata": {},
     "output_type": "execute_result"
    }
   ],
   "source": [
    "# first six months of data\n",
    "trDFgrouped.loc[list(range(1,7))]"
   ]
  },
  {
   "attachments": {
    "image.png": {
     "image/png": "[encoded data removed]"
    }
   },
   "cell_type": "markdown",
   "metadata": {},
   "source": [
    "![image.png](attachment:image.png)"
   ]
  },
  {
   "cell_type": "code",
   "execution_count": 35,
   "metadata": {},
   "outputs": [
    {
     "data": {
      "text/html": [
       "<div>\n",
       "<style scoped>\n",
       "    .dataframe tbody tr th:only-of-type {\n",
       "        vertical-align: middle;\n",
       "    }\n",
       "\n",
       "    .dataframe tbody tr th {\n",
       "        vertical-align: top;\n",
       "    }\n",
       "\n",
       "    .dataframe thead th {\n",
       "        text-align: right;\n",
       "    }\n",
       "</style>\n",
       "<table border=\"1\" class=\"dataframe\">\n",
       "  <thead>\n",
       "    <tr style=\"text-align: right;\">\n",
       "      <th></th>\n",
       "      <th></th>\n",
       "      <th>transactions</th>\n",
       "    </tr>\n",
       "    <tr>\n",
       "      <th>monum</th>\n",
       "      <th>vol</th>\n",
       "      <th></th>\n",
       "    </tr>\n",
       "  </thead>\n",
       "  <tbody>\n",
       "    <tr>\n",
       "      <th rowspan=\"2\" valign=\"top\">1</th>\n",
       "      <th>heavy</th>\n",
       "      <td>5255</td>\n",
       "    </tr>\n",
       "    <tr>\n",
       "      <th>light</th>\n",
       "      <td>572</td>\n",
       "    </tr>\n",
       "    <tr>\n",
       "      <th rowspan=\"2\" valign=\"top\">2</th>\n",
       "      <th>heavy</th>\n",
       "      <td>761</td>\n",
       "    </tr>\n",
       "    <tr>\n",
       "      <th>light</th>\n",
       "      <td>1625</td>\n",
       "    </tr>\n",
       "    <tr>\n",
       "      <th rowspan=\"2\" valign=\"top\">3</th>\n",
       "      <th>heavy</th>\n",
       "      <td>1130</td>\n",
       "    </tr>\n",
       "    <tr>\n",
       "      <th>light</th>\n",
       "      <td>1664</td>\n",
       "    </tr>\n",
       "  </tbody>\n",
       "</table>\n",
       "</div>"
      ],
      "text/plain": [
       "             transactions\n",
       "monum vol                \n",
       "1     heavy          5255\n",
       "      light           572\n",
       "2     heavy           761\n",
       "      light          1625\n",
       "3     heavy          1130\n",
       "      light          1664"
      ]
     },
     "execution_count": 35,
     "metadata": {},
     "output_type": "execute_result"
    }
   ],
   "source": [
    "# or the first 6 rows of data:\n",
    "trDFgrouped.iloc[0:6] # .iloc here, but .loc above."
   ]
  },
  {
   "cell_type": "raw",
   "metadata": {},
   "source": [
    "The data starting from the March light day counts to the July heavy counts:"
   ]
  },
  {
   "cell_type": "code",
   "execution_count": 36,
   "metadata": {},
   "outputs": [
    {
     "data": {
      "text/html": [
       "<div>\n",
       "<style scoped>\n",
       "    .dataframe tbody tr th:only-of-type {\n",
       "        vertical-align: middle;\n",
       "    }\n",
       "\n",
       "    .dataframe tbody tr th {\n",
       "        vertical-align: top;\n",
       "    }\n",
       "\n",
       "    .dataframe thead th {\n",
       "        text-align: right;\n",
       "    }\n",
       "</style>\n",
       "<table border=\"1\" class=\"dataframe\">\n",
       "  <thead>\n",
       "    <tr style=\"text-align: right;\">\n",
       "      <th></th>\n",
       "      <th></th>\n",
       "      <th>transactions</th>\n",
       "    </tr>\n",
       "    <tr>\n",
       "      <th>monum</th>\n",
       "      <th>vol</th>\n",
       "      <th></th>\n",
       "    </tr>\n",
       "  </thead>\n",
       "  <tbody>\n",
       "    <tr>\n",
       "      <th>3</th>\n",
       "      <th>light</th>\n",
       "      <td>1664</td>\n",
       "    </tr>\n",
       "    <tr>\n",
       "      <th rowspan=\"2\" valign=\"top\">4</th>\n",
       "      <th>heavy</th>\n",
       "      <td>2327</td>\n",
       "    </tr>\n",
       "    <tr>\n",
       "      <th>light</th>\n",
       "      <td>1727</td>\n",
       "    </tr>\n",
       "    <tr>\n",
       "      <th rowspan=\"2\" valign=\"top\">5</th>\n",
       "      <th>heavy</th>\n",
       "      <td>2172</td>\n",
       "    </tr>\n",
       "    <tr>\n",
       "      <th>light</th>\n",
       "      <td>2076</td>\n",
       "    </tr>\n",
       "    <tr>\n",
       "      <th rowspan=\"2\" valign=\"top\">6</th>\n",
       "      <th>heavy</th>\n",
       "      <td>2878</td>\n",
       "    </tr>\n",
       "    <tr>\n",
       "      <th>light</th>\n",
       "      <td>1495</td>\n",
       "    </tr>\n",
       "    <tr>\n",
       "      <th>7</th>\n",
       "      <th>heavy</th>\n",
       "      <td>4440</td>\n",
       "    </tr>\n",
       "  </tbody>\n",
       "</table>\n",
       "</div>"
      ],
      "text/plain": [
       "             transactions\n",
       "monum vol                \n",
       "3     light          1664\n",
       "4     heavy          2327\n",
       "      light          1727\n",
       "5     heavy          2172\n",
       "      light          2076\n",
       "6     heavy          2878\n",
       "      light          1495\n",
       "7     heavy          4440"
      ]
     },
     "execution_count": 36,
     "metadata": {},
     "output_type": "execute_result"
    }
   ],
   "source": [
    "trDFgrouped[(3,'light'):(7,'heavy')]"
   ]
  },
  {
   "cell_type": "raw",
   "metadata": {},
   "source": [
    "The above uses a range defined by a slice of tuples.  So does:"
   ]
  },
  {
   "cell_type": "code",
   "execution_count": 37,
   "metadata": {},
   "outputs": [
    {
     "data": {
      "text/html": [
       "<div>\n",
       "<style scoped>\n",
       "    .dataframe tbody tr th:only-of-type {\n",
       "        vertical-align: middle;\n",
       "    }\n",
       "\n",
       "    .dataframe tbody tr th {\n",
       "        vertical-align: top;\n",
       "    }\n",
       "\n",
       "    .dataframe thead th {\n",
       "        text-align: right;\n",
       "    }\n",
       "</style>\n",
       "<table border=\"1\" class=\"dataframe\">\n",
       "  <thead>\n",
       "    <tr style=\"text-align: right;\">\n",
       "      <th></th>\n",
       "      <th></th>\n",
       "      <th>transactions</th>\n",
       "    </tr>\n",
       "    <tr>\n",
       "      <th>monum</th>\n",
       "      <th>vol</th>\n",
       "      <th></th>\n",
       "    </tr>\n",
       "  </thead>\n",
       "  <tbody>\n",
       "    <tr>\n",
       "      <th>3</th>\n",
       "      <th>light</th>\n",
       "      <td>1664</td>\n",
       "    </tr>\n",
       "    <tr>\n",
       "      <th rowspan=\"2\" valign=\"top\">4</th>\n",
       "      <th>heavy</th>\n",
       "      <td>2327</td>\n",
       "    </tr>\n",
       "    <tr>\n",
       "      <th>light</th>\n",
       "      <td>1727</td>\n",
       "    </tr>\n",
       "    <tr>\n",
       "      <th rowspan=\"2\" valign=\"top\">5</th>\n",
       "      <th>heavy</th>\n",
       "      <td>2172</td>\n",
       "    </tr>\n",
       "    <tr>\n",
       "      <th>light</th>\n",
       "      <td>2076</td>\n",
       "    </tr>\n",
       "    <tr>\n",
       "      <th rowspan=\"2\" valign=\"top\">6</th>\n",
       "      <th>heavy</th>\n",
       "      <td>2878</td>\n",
       "    </tr>\n",
       "    <tr>\n",
       "      <th>light</th>\n",
       "      <td>1495</td>\n",
       "    </tr>\n",
       "  </tbody>\n",
       "</table>\n",
       "</div>"
      ],
      "text/plain": [
       "             transactions\n",
       "monum vol                \n",
       "3     light          1664\n",
       "4     heavy          2327\n",
       "      light          1727\n",
       "5     heavy          2172\n",
       "      light          2076\n",
       "6     heavy          2878\n",
       "      light          1495"
      ]
     },
     "execution_count": 37,
     "metadata": {},
     "output_type": "execute_result"
    }
   ],
   "source": [
    "trDFgrouped[(3,'light'):6]"
   ]
  },
  {
   "cell_type": "raw",
   "metadata": {},
   "source": [
    "Try selecting some data and slicing a few times yourself.  It takes a little practice to get the hang of getting what you want.\n",
    "\n",
    "There are many other ways to slice using MultiIndexes.  One other you might find interesting is the cross-section method .xs. Here's an example that picks out data for the light days:\n"
   ]
  },
  {
   "cell_type": "code",
   "execution_count": 38,
   "metadata": {},
   "outputs": [
    {
     "data": {
      "text/html": [
       "<div>\n",
       "<style scoped>\n",
       "    .dataframe tbody tr th:only-of-type {\n",
       "        vertical-align: middle;\n",
       "    }\n",
       "\n",
       "    .dataframe tbody tr th {\n",
       "        vertical-align: top;\n",
       "    }\n",
       "\n",
       "    .dataframe thead th {\n",
       "        text-align: right;\n",
       "    }\n",
       "</style>\n",
       "<table border=\"1\" class=\"dataframe\">\n",
       "  <thead>\n",
       "    <tr style=\"text-align: right;\">\n",
       "      <th></th>\n",
       "      <th>transactions</th>\n",
       "    </tr>\n",
       "    <tr>\n",
       "      <th>monum</th>\n",
       "      <th></th>\n",
       "    </tr>\n",
       "  </thead>\n",
       "  <tbody>\n",
       "    <tr>\n",
       "      <th>1</th>\n",
       "      <td>572</td>\n",
       "    </tr>\n",
       "    <tr>\n",
       "      <th>2</th>\n",
       "      <td>1625</td>\n",
       "    </tr>\n",
       "    <tr>\n",
       "      <th>3</th>\n",
       "      <td>1664</td>\n",
       "    </tr>\n",
       "    <tr>\n",
       "      <th>4</th>\n",
       "      <td>1727</td>\n",
       "    </tr>\n",
       "    <tr>\n",
       "      <th>5</th>\n",
       "      <td>2076</td>\n",
       "    </tr>\n",
       "    <tr>\n",
       "      <th>6</th>\n",
       "      <td>1495</td>\n",
       "    </tr>\n",
       "    <tr>\n",
       "      <th>7</th>\n",
       "      <td>564</td>\n",
       "    </tr>\n",
       "    <tr>\n",
       "      <th>8</th>\n",
       "      <td>1938</td>\n",
       "    </tr>\n",
       "    <tr>\n",
       "      <th>9</th>\n",
       "      <td>1942</td>\n",
       "    </tr>\n",
       "    <tr>\n",
       "      <th>10</th>\n",
       "      <td>2241</td>\n",
       "    </tr>\n",
       "    <tr>\n",
       "      <th>11</th>\n",
       "      <td>49</td>\n",
       "    </tr>\n",
       "    <tr>\n",
       "      <th>12</th>\n",
       "      <td>257</td>\n",
       "    </tr>\n",
       "  </tbody>\n",
       "</table>\n",
       "</div>"
      ],
      "text/plain": [
       "       transactions\n",
       "monum              \n",
       "1               572\n",
       "2              1625\n",
       "3              1664\n",
       "4              1727\n",
       "5              2076\n",
       "6              1495\n",
       "7               564\n",
       "8              1938\n",
       "9              1942\n",
       "10             2241\n",
       "11               49\n",
       "12              257"
      ]
     },
     "execution_count": 38,
     "metadata": {},
     "output_type": "execute_result"
    }
   ],
   "source": [
    "# pandas xs returns a cross section from Series/DataFrame\n",
    "trDFgrouped.xs('light',level='vol')"
   ]
  },
  {
   "cell_type": "raw",
   "metadata": {},
   "source": [
    "As you probably know, DataFrames have a transpose method, .T:"
   ]
  },
  {
   "cell_type": "code",
   "execution_count": 39,
   "metadata": {},
   "outputs": [
    {
     "data": {
      "text/html": [
       "<div>\n",
       "<style scoped>\n",
       "    .dataframe tbody tr th:only-of-type {\n",
       "        vertical-align: middle;\n",
       "    }\n",
       "\n",
       "    .dataframe tbody tr th {\n",
       "        vertical-align: top;\n",
       "    }\n",
       "\n",
       "    .dataframe thead th {\n",
       "        text-align: right;\n",
       "    }\n",
       "</style>\n",
       "<table border=\"1\" class=\"dataframe\">\n",
       "  <thead>\n",
       "    <tr style=\"text-align: right;\">\n",
       "      <th>monum</th>\n",
       "      <th>1</th>\n",
       "      <th>2</th>\n",
       "      <th>3</th>\n",
       "      <th>4</th>\n",
       "      <th>5</th>\n",
       "      <th>6</th>\n",
       "      <th>7</th>\n",
       "      <th>8</th>\n",
       "      <th>9</th>\n",
       "      <th>10</th>\n",
       "      <th>11</th>\n",
       "      <th>12</th>\n",
       "    </tr>\n",
       "  </thead>\n",
       "  <tbody>\n",
       "    <tr>\n",
       "      <th>transactions</th>\n",
       "      <td>572</td>\n",
       "      <td>1625</td>\n",
       "      <td>1664</td>\n",
       "      <td>1727</td>\n",
       "      <td>2076</td>\n",
       "      <td>1495</td>\n",
       "      <td>564</td>\n",
       "      <td>1938</td>\n",
       "      <td>1942</td>\n",
       "      <td>2241</td>\n",
       "      <td>49</td>\n",
       "      <td>257</td>\n",
       "    </tr>\n",
       "  </tbody>\n",
       "</table>\n",
       "</div>"
      ],
      "text/plain": [
       "monum          1     2     3     4     5     6    7     8     9     10  11  \\\n",
       "transactions  572  1625  1664  1727  2076  1495  564  1938  1942  2241  49   \n",
       "\n",
       "monum          12  \n",
       "transactions  257  "
      ]
     },
     "execution_count": 39,
     "metadata": {},
     "output_type": "execute_result"
    }
   ],
   "source": [
    "trDFgrouped.xs('light',level='vol').T # the transpose of the above"
   ]
  },
  {
   "cell_type": "raw",
   "metadata": {},
   "source": [
    "Did you get a table of transactions with cells labeled by monum across the top?\n"
   ]
  },
  {
   "cell_type": "code",
   "execution_count": 40,
   "metadata": {},
   "outputs": [],
   "source": [
    "# remember we read in xyznew from xyz.db\n",
    "# lets slice out three columns\n",
    "xyzdata = xyznew[['BUYER_STATUS','heavyCat','CHANNEL_ACQUISITION']]"
   ]
  },
  {
   "cell_type": "raw",
   "metadata": {},
   "source": [
    "Use xyzdata because it's just easier.  It has just the three columns we're now going to work with."
   ]
  },
  {
   "cell_type": "code",
   "execution_count": 41,
   "metadata": {},
   "outputs": [],
   "source": [
    "xyzgrouped = xyzdata.groupby(['BUYER_STATUS','heavyCat','CHANNEL_ACQUISITION'])\n"
   ]
  },
  {
   "cell_type": "code",
   "execution_count": 42,
   "metadata": {},
   "outputs": [
    {
     "data": {
      "text/plain": [
       "BUYER_STATUS  heavyCat  CHANNEL_ACQUISITION\n",
       "ACTIVE        regular   CB                      290\n",
       "                        IB                      789\n",
       "                        RT                     5617\n",
       "              heavy     CB                      509\n",
       "                        IB                     1026\n",
       "                        RT                     5101\n",
       "INACTIVE      regular   CB                      691\n",
       "                        IB                     1249\n",
       "                        RT                     7056\n",
       "              heavy     CB                        0\n",
       "                        IB                        0\n",
       "                        RT                        0\n",
       "LAPSED        regular   CB                      372\n",
       "                        IB                     1111\n",
       "                        RT                     6368\n",
       "              heavy     CB                        0\n",
       "                        IB                        0\n",
       "                        RT                        0\n",
       "dtype: int64"
      ]
     },
     "execution_count": 42,
     "metadata": {},
     "output_type": "execute_result"
    }
   ],
   "source": [
    "xyzCountData = xyzgrouped.size() # a MultiIndexed Series of counts\n",
    "xyzCountData"
   ]
  },
  {
   "cell_type": "code",
   "execution_count": 43,
   "metadata": {},
   "outputs": [
    {
     "name": "stdout",
     "output_type": "stream",
     "text": [
      "CHANNEL_ACQUISITION     CB    IB    RT\n",
      "BUYER_STATUS heavyCat                 \n",
      "ACTIVE       regular   290   789  5617\n",
      "             heavy     509  1026  5101\n",
      "INACTIVE     regular   691  1249  7056\n",
      "             heavy       0     0     0\n",
      "LAPSED       regular   372  1111  6368\n",
      "             heavy       0     0     0\n"
     ]
    }
   ],
   "source": [
    "print(xyzCountData.unstack())"
   ]
  },
  {
   "cell_type": "raw",
   "metadata": {},
   "source": [
    "The pandas melt() method provides some similar functionality.  You can use it to turn a short and wide DataFrame into a taller, narrower one by identifying columns that contain values to be used as record identifiers.   Let's go back to the xyznew data and select a few columns from it to do some melting on:\n",
    "\n"
   ]
  },
  {
   "cell_type": "code",
   "execution_count": 44,
   "metadata": {},
   "outputs": [],
   "source": [
    "xyzcust = xyznew[['BUYER_STATUS','heavyCat','LTD_SALES']].copy()"
   ]
  },
  {
   "cell_type": "raw",
   "metadata": {},
   "source": [
    "Now, let's melt xyzcust so that BUYER_STATUS and heavyCat become identifiers:"
   ]
  },
  {
   "cell_type": "code",
   "execution_count": 45,
   "metadata": {},
   "outputs": [
    {
     "data": {
      "text/plain": [
       "pandas.core.frame.DataFrame"
      ]
     },
     "execution_count": 45,
     "metadata": {},
     "output_type": "execute_result"
    },
    {
     "name": "stdout",
     "output_type": "stream",
     "text": [
      "      BUYER_STATUS heavyCat  LTD_SALES   value\n",
      "0         INACTIVE  regular  LTD_SALES    90.0\n",
      "1           ACTIVE    heavy  LTD_SALES  4227.0\n",
      "2           ACTIVE  regular  LTD_SALES   420.0\n",
      "3         INACTIVE  regular  LTD_SALES  6552.0\n",
      "4           ACTIVE  regular  LTD_SALES   189.0\n",
      "...            ...      ...        ...     ...\n",
      "30174       ACTIVE  regular  LTD_SALES  2736.0\n",
      "30175       ACTIVE  regular  LTD_SALES  2412.0\n",
      "30176     INACTIVE  regular  LTD_SALES   429.0\n",
      "30177     INACTIVE  regular  LTD_SALES   651.0\n",
      "30178       ACTIVE    heavy  LTD_SALES  4527.0\n",
      "\n",
      "[30179 rows x 4 columns]\n"
     ]
    }
   ],
   "source": [
    "xyzcustm = pd.melt(xyzcust,id_vars=['BUYER_STATUS','heavyCat'],var_name=\"LTD_SALES\")\n",
    "\n",
    "type(xyzcustm)\n",
    "print(xyzcustm)"
   ]
  },
  {
   "attachments": {},
   "cell_type": "markdown",
   "metadata": {},
   "source": [
    "You'll probably realize that the leftmost column is a simple numerical index that this pandas method created.  There's a pandas method called wide_to_long that works similarly, but can be a little easier to use. Give it a try using xyzcust or the DataFrame of your choice.\n",
    "\n",
    "So at this point we've pivoted, grouped, and reshaped.  The pivoting example we did was pretty simple.  pandas also provides a method called pivot_table that provides considerable flexibility in terms of how data can be reorganized and summarized.  Let's consider the xyznew data once again.  Suppose we want to average YTD_SALES_2009 by BUYER_STATUS, CHANNEL_ACQUISITION, and heavyCAT.  WE could do:\n"
   ]
  },
  {
   "cell_type": "code",
   "execution_count": 46,
   "metadata": {},
   "outputs": [
    {
     "data": {
      "text/html": [
       "<div>\n",
       "<style scoped>\n",
       "    .dataframe tbody tr th:only-of-type {\n",
       "        vertical-align: middle;\n",
       "    }\n",
       "\n",
       "    .dataframe tbody tr th {\n",
       "        vertical-align: top;\n",
       "    }\n",
       "\n",
       "    .dataframe thead th {\n",
       "        text-align: right;\n",
       "    }\n",
       "</style>\n",
       "<table border=\"1\" class=\"dataframe\">\n",
       "  <thead>\n",
       "    <tr style=\"text-align: right;\">\n",
       "      <th></th>\n",
       "      <th>CHANNEL_ACQUISITION</th>\n",
       "      <th>CB</th>\n",
       "      <th>IB</th>\n",
       "      <th>RT</th>\n",
       "    </tr>\n",
       "    <tr>\n",
       "      <th>BUYER_STATUS</th>\n",
       "      <th>heavyCat</th>\n",
       "      <th></th>\n",
       "      <th></th>\n",
       "      <th></th>\n",
       "    </tr>\n",
       "  </thead>\n",
       "  <tbody>\n",
       "    <tr>\n",
       "      <th rowspan=\"2\" valign=\"top\">ACTIVE</th>\n",
       "      <th>regular</th>\n",
       "      <td>138.527586</td>\n",
       "      <td>135.657795</td>\n",
       "      <td>117.957629</td>\n",
       "    </tr>\n",
       "    <tr>\n",
       "      <th>heavy</th>\n",
       "      <td>1776.695481</td>\n",
       "      <td>960.289474</td>\n",
       "      <td>868.740247</td>\n",
       "    </tr>\n",
       "    <tr>\n",
       "      <th>INACTIVE</th>\n",
       "      <th>regular</th>\n",
       "      <td>0.000000</td>\n",
       "      <td>0.000000</td>\n",
       "      <td>0.000000</td>\n",
       "    </tr>\n",
       "    <tr>\n",
       "      <th>LAPSED</th>\n",
       "      <th>regular</th>\n",
       "      <td>0.000000</td>\n",
       "      <td>0.000000</td>\n",
       "      <td>0.000000</td>\n",
       "    </tr>\n",
       "  </tbody>\n",
       "</table>\n",
       "</div>"
      ],
      "text/plain": [
       "CHANNEL_ACQUISITION             CB          IB          RT\n",
       "BUYER_STATUS heavyCat                                     \n",
       "ACTIVE       regular    138.527586  135.657795  117.957629\n",
       "             heavy     1776.695481  960.289474  868.740247\n",
       "INACTIVE     regular      0.000000    0.000000    0.000000\n",
       "LAPSED       regular      0.000000    0.000000    0.000000"
      ]
     },
     "execution_count": 46,
     "metadata": {},
     "output_type": "execute_result"
    }
   ],
   "source": [
    "pd.pivot_table(xyznew,values='YTD_SALES_2009',index=['BUYER_STATUS','heavyCat'],columns=['CHANNEL_ACQUISITION'])\n"
   ]
  },
  {
   "attachments": {},
   "cell_type": "markdown",
   "metadata": {},
   "source": [
    "Do you see some rows in the result that only have zeros?  Why are they there?\n",
    "\n",
    "Or, try doing:\n"
   ]
  },
  {
   "cell_type": "code",
   "execution_count": 47,
   "metadata": {},
   "outputs": [
    {
     "data": {
      "text/html": [
       "<div>\n",
       "<style scoped>\n",
       "    .dataframe tbody tr th:only-of-type {\n",
       "        vertical-align: middle;\n",
       "    }\n",
       "\n",
       "    .dataframe tbody tr th {\n",
       "        vertical-align: top;\n",
       "    }\n",
       "\n",
       "    .dataframe thead tr th {\n",
       "        text-align: left;\n",
       "    }\n",
       "\n",
       "    .dataframe thead tr:last-of-type th {\n",
       "        text-align: right;\n",
       "    }\n",
       "</style>\n",
       "<table border=\"1\" class=\"dataframe\">\n",
       "  <thead>\n",
       "    <tr>\n",
       "      <th>heavyCat</th>\n",
       "      <th colspan=\"3\" halign=\"left\">regular</th>\n",
       "      <th colspan=\"3\" halign=\"left\">heavy</th>\n",
       "    </tr>\n",
       "    <tr>\n",
       "      <th>CHANNEL_ACQUISITION</th>\n",
       "      <th>CB</th>\n",
       "      <th>IB</th>\n",
       "      <th>RT</th>\n",
       "      <th>CB</th>\n",
       "      <th>IB</th>\n",
       "      <th>RT</th>\n",
       "    </tr>\n",
       "    <tr>\n",
       "      <th>BUYER_STATUS</th>\n",
       "      <th></th>\n",
       "      <th></th>\n",
       "      <th></th>\n",
       "      <th></th>\n",
       "      <th></th>\n",
       "      <th></th>\n",
       "    </tr>\n",
       "  </thead>\n",
       "  <tbody>\n",
       "    <tr>\n",
       "      <th>ACTIVE</th>\n",
       "      <td>138.527586</td>\n",
       "      <td>135.657795</td>\n",
       "      <td>117.957629</td>\n",
       "      <td>1776.695481</td>\n",
       "      <td>960.289474</td>\n",
       "      <td>868.740247</td>\n",
       "    </tr>\n",
       "    <tr>\n",
       "      <th>INACTIVE</th>\n",
       "      <td>0.000000</td>\n",
       "      <td>0.000000</td>\n",
       "      <td>0.000000</td>\n",
       "      <td>NaN</td>\n",
       "      <td>NaN</td>\n",
       "      <td>NaN</td>\n",
       "    </tr>\n",
       "    <tr>\n",
       "      <th>LAPSED</th>\n",
       "      <td>0.000000</td>\n",
       "      <td>0.000000</td>\n",
       "      <td>0.000000</td>\n",
       "      <td>NaN</td>\n",
       "      <td>NaN</td>\n",
       "      <td>NaN</td>\n",
       "    </tr>\n",
       "  </tbody>\n",
       "</table>\n",
       "</div>"
      ],
      "text/plain": [
       "heavyCat                regular                                heavy  \\\n",
       "CHANNEL_ACQUISITION          CB          IB          RT           CB   \n",
       "BUYER_STATUS                                                           \n",
       "ACTIVE               138.527586  135.657795  117.957629  1776.695481   \n",
       "INACTIVE               0.000000    0.000000    0.000000          NaN   \n",
       "LAPSED                 0.000000    0.000000    0.000000          NaN   \n",
       "\n",
       "heavyCat                                     \n",
       "CHANNEL_ACQUISITION          IB          RT  \n",
       "BUYER_STATUS                                 \n",
       "ACTIVE               960.289474  868.740247  \n",
       "INACTIVE                    NaN         NaN  \n",
       "LAPSED                      NaN         NaN  "
      ]
     },
     "execution_count": 47,
     "metadata": {},
     "output_type": "execute_result"
    }
   ],
   "source": [
    "pd.pivot_table(xyznew,values='YTD_SALES_2009',index=['BUYER_STATUS'],columns=['heavyCat','CHANNEL_ACQUISITION'])\n"
   ]
  },
  {
   "attachments": {},
   "cell_type": "markdown",
   "metadata": {},
   "source": [
    "Why are there NaN's?\n",
    "\n",
    "pivot_table defaults to taking the mean (using np.mean) of the groups it defines.  If you want some other aggregation instead, you can define it as a keyword parameter, e.g. aggfunc=np.sum:\n"
   ]
  },
  {
   "cell_type": "code",
   "execution_count": 48,
   "metadata": {},
   "outputs": [
    {
     "data": {
      "text/html": [
       "<div>\n",
       "<style scoped>\n",
       "    .dataframe tbody tr th:only-of-type {\n",
       "        vertical-align: middle;\n",
       "    }\n",
       "\n",
       "    .dataframe tbody tr th {\n",
       "        vertical-align: top;\n",
       "    }\n",
       "\n",
       "    .dataframe thead tr th {\n",
       "        text-align: left;\n",
       "    }\n",
       "\n",
       "    .dataframe thead tr:last-of-type th {\n",
       "        text-align: right;\n",
       "    }\n",
       "</style>\n",
       "<table border=\"1\" class=\"dataframe\">\n",
       "  <thead>\n",
       "    <tr>\n",
       "      <th>heavyCat</th>\n",
       "      <th colspan=\"3\" halign=\"left\">regular</th>\n",
       "      <th colspan=\"3\" halign=\"left\">heavy</th>\n",
       "    </tr>\n",
       "    <tr>\n",
       "      <th>CHANNEL_ACQUISITION</th>\n",
       "      <th>CB</th>\n",
       "      <th>IB</th>\n",
       "      <th>RT</th>\n",
       "      <th>CB</th>\n",
       "      <th>IB</th>\n",
       "      <th>RT</th>\n",
       "    </tr>\n",
       "    <tr>\n",
       "      <th>BUYER_STATUS</th>\n",
       "      <th></th>\n",
       "      <th></th>\n",
       "      <th></th>\n",
       "      <th></th>\n",
       "      <th></th>\n",
       "      <th></th>\n",
       "    </tr>\n",
       "  </thead>\n",
       "  <tbody>\n",
       "    <tr>\n",
       "      <th>ACTIVE</th>\n",
       "      <td>40173.0</td>\n",
       "      <td>107034.0</td>\n",
       "      <td>662568.0</td>\n",
       "      <td>904338.0</td>\n",
       "      <td>985257.0</td>\n",
       "      <td>4431444.0</td>\n",
       "    </tr>\n",
       "    <tr>\n",
       "      <th>INACTIVE</th>\n",
       "      <td>0.0</td>\n",
       "      <td>0.0</td>\n",
       "      <td>0.0</td>\n",
       "      <td>0.0</td>\n",
       "      <td>0.0</td>\n",
       "      <td>0.0</td>\n",
       "    </tr>\n",
       "    <tr>\n",
       "      <th>LAPSED</th>\n",
       "      <td>0.0</td>\n",
       "      <td>0.0</td>\n",
       "      <td>0.0</td>\n",
       "      <td>0.0</td>\n",
       "      <td>0.0</td>\n",
       "      <td>0.0</td>\n",
       "    </tr>\n",
       "  </tbody>\n",
       "</table>\n",
       "</div>"
      ],
      "text/plain": [
       "heavyCat             regular                         heavy            \\\n",
       "CHANNEL_ACQUISITION       CB        IB        RT        CB        IB   \n",
       "BUYER_STATUS                                                           \n",
       "ACTIVE               40173.0  107034.0  662568.0  904338.0  985257.0   \n",
       "INACTIVE                 0.0       0.0       0.0       0.0       0.0   \n",
       "LAPSED                   0.0       0.0       0.0       0.0       0.0   \n",
       "\n",
       "heavyCat                        \n",
       "CHANNEL_ACQUISITION         RT  \n",
       "BUYER_STATUS                    \n",
       "ACTIVE               4431444.0  \n",
       "INACTIVE                   0.0  \n",
       "LAPSED                     0.0  "
      ]
     },
     "execution_count": 48,
     "metadata": {},
     "output_type": "execute_result"
    }
   ],
   "source": [
    "pd.pivot_table(xyznew,values='YTD_SALES_2009',\n",
    "               index=['BUYER_STATUS'],columns=['heavyCat','CHANNEL_ACQUISITION'],aggfunc=np.sum)\n"
   ]
  },
  {
   "attachments": {},
   "cell_type": "markdown",
   "metadata": {},
   "source": [
    "You can also add margins to pivot_tables by using the margins=True option.  For example, to get row and column totals:"
   ]
  },
  {
   "cell_type": "code",
   "execution_count": 49,
   "metadata": {},
   "outputs": [
    {
     "data": {
      "text/html": [
       "<div>\n",
       "<style scoped>\n",
       "    .dataframe tbody tr th:only-of-type {\n",
       "        vertical-align: middle;\n",
       "    }\n",
       "\n",
       "    .dataframe tbody tr th {\n",
       "        vertical-align: top;\n",
       "    }\n",
       "\n",
       "    .dataframe thead tr th {\n",
       "        text-align: left;\n",
       "    }\n",
       "\n",
       "    .dataframe thead tr:last-of-type th {\n",
       "        text-align: right;\n",
       "    }\n",
       "</style>\n",
       "<table border=\"1\" class=\"dataframe\">\n",
       "  <thead>\n",
       "    <tr>\n",
       "      <th>heavyCat</th>\n",
       "      <th colspan=\"3\" halign=\"left\">regular</th>\n",
       "      <th colspan=\"3\" halign=\"left\">heavy</th>\n",
       "      <th>All</th>\n",
       "    </tr>\n",
       "    <tr>\n",
       "      <th>CHANNEL_ACQUISITION</th>\n",
       "      <th>CB</th>\n",
       "      <th>IB</th>\n",
       "      <th>RT</th>\n",
       "      <th>CB</th>\n",
       "      <th>IB</th>\n",
       "      <th>RT</th>\n",
       "      <th></th>\n",
       "    </tr>\n",
       "    <tr>\n",
       "      <th>BUYER_STATUS</th>\n",
       "      <th></th>\n",
       "      <th></th>\n",
       "      <th></th>\n",
       "      <th></th>\n",
       "      <th></th>\n",
       "      <th></th>\n",
       "      <th></th>\n",
       "    </tr>\n",
       "  </thead>\n",
       "  <tbody>\n",
       "    <tr>\n",
       "      <th>ACTIVE</th>\n",
       "      <td>40173.0</td>\n",
       "      <td>107034.0</td>\n",
       "      <td>662568.0</td>\n",
       "      <td>904338.0</td>\n",
       "      <td>985257.0</td>\n",
       "      <td>4431444.0</td>\n",
       "      <td>7130814.0</td>\n",
       "    </tr>\n",
       "    <tr>\n",
       "      <th>INACTIVE</th>\n",
       "      <td>0.0</td>\n",
       "      <td>0.0</td>\n",
       "      <td>0.0</td>\n",
       "      <td>0.0</td>\n",
       "      <td>0.0</td>\n",
       "      <td>0.0</td>\n",
       "      <td>0.0</td>\n",
       "    </tr>\n",
       "    <tr>\n",
       "      <th>LAPSED</th>\n",
       "      <td>0.0</td>\n",
       "      <td>0.0</td>\n",
       "      <td>0.0</td>\n",
       "      <td>0.0</td>\n",
       "      <td>0.0</td>\n",
       "      <td>0.0</td>\n",
       "      <td>0.0</td>\n",
       "    </tr>\n",
       "    <tr>\n",
       "      <th>All</th>\n",
       "      <td>40173.0</td>\n",
       "      <td>107034.0</td>\n",
       "      <td>662568.0</td>\n",
       "      <td>904338.0</td>\n",
       "      <td>985257.0</td>\n",
       "      <td>4431444.0</td>\n",
       "      <td>7130814.0</td>\n",
       "    </tr>\n",
       "  </tbody>\n",
       "</table>\n",
       "</div>"
      ],
      "text/plain": [
       "heavyCat             regular                         heavy            \\\n",
       "CHANNEL_ACQUISITION       CB        IB        RT        CB        IB   \n",
       "BUYER_STATUS                                                           \n",
       "ACTIVE               40173.0  107034.0  662568.0  904338.0  985257.0   \n",
       "INACTIVE                 0.0       0.0       0.0       0.0       0.0   \n",
       "LAPSED                   0.0       0.0       0.0       0.0       0.0   \n",
       "All                  40173.0  107034.0  662568.0  904338.0  985257.0   \n",
       "\n",
       "heavyCat                              All  \n",
       "CHANNEL_ACQUISITION         RT             \n",
       "BUYER_STATUS                               \n",
       "ACTIVE               4431444.0  7130814.0  \n",
       "INACTIVE                   0.0        0.0  \n",
       "LAPSED                     0.0        0.0  \n",
       "All                  4431444.0  7130814.0  "
      ]
     },
     "execution_count": 49,
     "metadata": {},
     "output_type": "execute_result"
    }
   ],
   "source": [
    "pd.pivot_table(xyznew,values='YTD_SALES_2009',\n",
    "               index=['BUYER_STATUS'],columns=['heavyCat','CHANNEL_ACQUISITION'],aggfunc=np.sum,margins=True)\n"
   ]
  },
  {
   "attachments": {},
   "cell_type": "markdown",
   "metadata": {},
   "source": [
    "Should give you the same table as above but with row and column totals added.\n",
    "\n",
    "It has probably dawned on you that you can manipulate data objects in many different ways to group them and to apply descriptive statistics to them.   Let's group xyz customers using BUYER_STATUS and heavyCat:\n"
   ]
  },
  {
   "cell_type": "code",
   "execution_count": 50,
   "metadata": {},
   "outputs": [],
   "source": [
    "xyzGrouper=xyznew.groupby(['BUYER_STATUS','heavyCat'])"
   ]
  },
  {
   "attachments": {},
   "cell_type": "markdown",
   "metadata": {},
   "source": [
    "groupby can apply conventional as well as custom functions to aggregated data.  For example:"
   ]
  },
  {
   "cell_type": "code",
   "execution_count": 51,
   "metadata": {},
   "outputs": [
    {
     "data": {
      "text/html": [
       "<div>\n",
       "<style scoped>\n",
       "    .dataframe tbody tr th:only-of-type {\n",
       "        vertical-align: middle;\n",
       "    }\n",
       "\n",
       "    .dataframe tbody tr th {\n",
       "        vertical-align: top;\n",
       "    }\n",
       "\n",
       "    .dataframe thead tr th {\n",
       "        text-align: left;\n",
       "    }\n",
       "\n",
       "    .dataframe thead tr:last-of-type th {\n",
       "        text-align: right;\n",
       "    }\n",
       "</style>\n",
       "<table border=\"1\" class=\"dataframe\">\n",
       "  <thead>\n",
       "    <tr>\n",
       "      <th></th>\n",
       "      <th></th>\n",
       "      <th colspan=\"2\" halign=\"left\">YTD_SALES_2009</th>\n",
       "      <th colspan=\"2\" halign=\"left\">LTD_SALES</th>\n",
       "    </tr>\n",
       "    <tr>\n",
       "      <th></th>\n",
       "      <th></th>\n",
       "      <th>mean</th>\n",
       "      <th>std</th>\n",
       "      <th>mean</th>\n",
       "      <th>std</th>\n",
       "    </tr>\n",
       "    <tr>\n",
       "      <th>BUYER_STATUS</th>\n",
       "      <th>heavyCat</th>\n",
       "      <th></th>\n",
       "      <th></th>\n",
       "      <th></th>\n",
       "      <th></th>\n",
       "    </tr>\n",
       "  </thead>\n",
       "  <tbody>\n",
       "    <tr>\n",
       "      <th rowspan=\"2\" valign=\"top\">ACTIVE</th>\n",
       "      <th>regular</th>\n",
       "      <td>120.934140</td>\n",
       "      <td>62.877303</td>\n",
       "      <td>842.158154</td>\n",
       "      <td>1301.147675</td>\n",
       "    </tr>\n",
       "    <tr>\n",
       "      <th>heavy</th>\n",
       "      <td>952.537523</td>\n",
       "      <td>4439.890533</td>\n",
       "      <td>3207.213834</td>\n",
       "      <td>27852.422903</td>\n",
       "    </tr>\n",
       "    <tr>\n",
       "      <th rowspan=\"2\" valign=\"top\">INACTIVE</th>\n",
       "      <th>regular</th>\n",
       "      <td>0.000000</td>\n",
       "      <td>0.000000</td>\n",
       "      <td>568.014784</td>\n",
       "      <td>850.966479</td>\n",
       "    </tr>\n",
       "    <tr>\n",
       "      <th>heavy</th>\n",
       "      <td>NaN</td>\n",
       "      <td>NaN</td>\n",
       "      <td>NaN</td>\n",
       "      <td>NaN</td>\n",
       "    </tr>\n",
       "    <tr>\n",
       "      <th rowspan=\"2\" valign=\"top\">LAPSED</th>\n",
       "      <th>regular</th>\n",
       "      <td>0.000000</td>\n",
       "      <td>0.000000</td>\n",
       "      <td>841.467329</td>\n",
       "      <td>1374.447756</td>\n",
       "    </tr>\n",
       "    <tr>\n",
       "      <th>heavy</th>\n",
       "      <td>NaN</td>\n",
       "      <td>NaN</td>\n",
       "      <td>NaN</td>\n",
       "      <td>NaN</td>\n",
       "    </tr>\n",
       "  </tbody>\n",
       "</table>\n",
       "</div>"
      ],
      "text/plain": [
       "                      YTD_SALES_2009                 LTD_SALES              \n",
       "                                mean          std         mean           std\n",
       "BUYER_STATUS heavyCat                                                       \n",
       "ACTIVE       regular      120.934140    62.877303   842.158154   1301.147675\n",
       "             heavy        952.537523  4439.890533  3207.213834  27852.422903\n",
       "INACTIVE     regular        0.000000     0.000000   568.014784    850.966479\n",
       "             heavy               NaN          NaN          NaN           NaN\n",
       "LAPSED       regular        0.000000     0.000000   841.467329   1374.447756\n",
       "             heavy               NaN          NaN          NaN           NaN"
      ]
     },
     "execution_count": 51,
     "metadata": {},
     "output_type": "execute_result"
    }
   ],
   "source": [
    "xyzGrouper.agg({'YTD_SALES_2009': [np.mean, np.std],'LTD_SALES':[np.mean,np.std]})\n"
   ]
  },
  {
   "attachments": {},
   "cell_type": "markdown",
   "metadata": {},
   "source": [
    "calculates the mean and standard deviation of YTD_SALES_2009 and LTD_SALES for each of the groups defined in xyzGrouper.  Note the little dict with a couple of key/value pairs there in the curly brackets, the {}.\n",
    "\n",
    "Try using a version of this command to get statistics for the columns YTD_TRANSACTIONS_2009 and LTD_TRANSACTIONS.  These are both count variables.  What descriptive statistics do you think are appropriate for summarizing them?\n",
    "\n",
    "Note that you can apply custom functions to data aggregates.  Suppose we wanted to compute the coefficient of variation,,”CV,” for data.  The CV is a standardized measure of dispersion, and is the ratio of the standard deviation to to the mean.  It's estimated by the ratio  of the estimates of these two statistics.  We could write our own function do do this:\n"
   ]
  },
  {
   "cell_type": "code",
   "execution_count": 52,
   "metadata": {},
   "outputs": [],
   "source": [
    "def coefV(x):                       # a baby CV function that accepts a sequence\n",
    "    return np.std(x)/np.mean(x)\n"
   ]
  },
  {
   "attachments": {},
   "cell_type": "markdown",
   "metadata": {},
   "source": [
    "This will work assuming that the mean and std numpy methods are available in this function's namespace, of course.  Note that our baby function doesn't do anything smart regarding missing values and other inconveniences, but it's good enough to demonstrate what we want, here.  What do you think it means if what it produces is negative?  How could that happen?\n",
    "\n",
    "We can apply this function to selected groups.  Here we apply it to customers grouped by BUYER_STATUS.  Let's first get a simpler DataFrame to fiddle with:\n"
   ]
  },
  {
   "cell_type": "code",
   "execution_count": 53,
   "metadata": {},
   "outputs": [
    {
     "data": {
      "text/html": [
       "<div>\n",
       "<style scoped>\n",
       "    .dataframe tbody tr th:only-of-type {\n",
       "        vertical-align: middle;\n",
       "    }\n",
       "\n",
       "    .dataframe tbody tr th {\n",
       "        vertical-align: top;\n",
       "    }\n",
       "\n",
       "    .dataframe thead th {\n",
       "        text-align: right;\n",
       "    }\n",
       "</style>\n",
       "<table border=\"1\" class=\"dataframe\">\n",
       "  <thead>\n",
       "    <tr style=\"text-align: right;\">\n",
       "      <th></th>\n",
       "      <th>LTD_SALES</th>\n",
       "      <th>LTD_TRANSACTIONS</th>\n",
       "    </tr>\n",
       "    <tr>\n",
       "      <th>BUYER_STATUS</th>\n",
       "      <th></th>\n",
       "      <th></th>\n",
       "    </tr>\n",
       "  </thead>\n",
       "  <tbody>\n",
       "    <tr>\n",
       "      <th>ACTIVE</th>\n",
       "      <td>9.758480</td>\n",
       "      <td>1.153501</td>\n",
       "    </tr>\n",
       "    <tr>\n",
       "      <th>INACTIVE</th>\n",
       "      <td>1.498058</td>\n",
       "      <td>0.784441</td>\n",
       "    </tr>\n",
       "    <tr>\n",
       "      <th>LAPSED</th>\n",
       "      <td>1.633290</td>\n",
       "      <td>0.987139</td>\n",
       "    </tr>\n",
       "  </tbody>\n",
       "</table>\n",
       "</div>"
      ],
      "text/plain": [
       "              LTD_SALES  LTD_TRANSACTIONS\n",
       "BUYER_STATUS                             \n",
       "ACTIVE         9.758480          1.153501\n",
       "INACTIVE       1.498058          0.784441\n",
       "LAPSED         1.633290          0.987139"
      ]
     },
     "execution_count": 53,
     "metadata": {},
     "output_type": "execute_result"
    }
   ],
   "source": [
    "buyerStats=xyznew[['BUYER_STATUS','LTD_SALES','LTD_TRANSACTIONS']]\n",
    "buyerGrouper=buyerStats.groupby(['BUYER_STATUS'])\n",
    "buyerGrouper.agg(coefV)"
   ]
  },
  {
   "cell_type": "raw",
   "metadata": {},
   "source": [
    "Did you get a table of CV's?  \n",
    "\n",
    "We could combine our own function or functions with existing functions and apply them on a group by group basis.  Let's play with a function that returns 5th and 95th percentiles of some data:\n"
   ]
  },
  {
   "cell_type": "code",
   "execution_count": 54,
   "metadata": {},
   "outputs": [],
   "source": [
    "def ptiles(x):\n",
    "    p5=np.percentile(x,5)\n",
    "    p95=np.percentile(x,95)\n",
    "    return p5, p95\n"
   ]
  },
  {
   "cell_type": "raw",
   "metadata": {},
   "source": [
    "There's our toy function.   coefV, it may break with “bad” data.  (So, watch out.)\n",
    "\n",
    "What kind of object does ptiles return?\n",
    "\n",
    "Now, applying np.mean and ptiles:\n"
   ]
  },
  {
   "cell_type": "code",
   "execution_count": 55,
   "metadata": {},
   "outputs": [
    {
     "data": {
      "text/html": [
       "<div>\n",
       "<style scoped>\n",
       "    .dataframe tbody tr th:only-of-type {\n",
       "        vertical-align: middle;\n",
       "    }\n",
       "\n",
       "    .dataframe tbody tr th {\n",
       "        vertical-align: top;\n",
       "    }\n",
       "\n",
       "    .dataframe thead tr th {\n",
       "        text-align: left;\n",
       "    }\n",
       "\n",
       "    .dataframe thead tr:last-of-type th {\n",
       "        text-align: right;\n",
       "    }\n",
       "</style>\n",
       "<table border=\"1\" class=\"dataframe\">\n",
       "  <thead>\n",
       "    <tr>\n",
       "      <th></th>\n",
       "      <th colspan=\"2\" halign=\"left\">LTD_SALES</th>\n",
       "      <th colspan=\"2\" halign=\"left\">LTD_TRANSACTIONS</th>\n",
       "    </tr>\n",
       "    <tr>\n",
       "      <th></th>\n",
       "      <th>mean</th>\n",
       "      <th>ptiles</th>\n",
       "      <th>mean</th>\n",
       "      <th>ptiles</th>\n",
       "    </tr>\n",
       "    <tr>\n",
       "      <th>BUYER_STATUS</th>\n",
       "      <th></th>\n",
       "      <th></th>\n",
       "      <th></th>\n",
       "      <th></th>\n",
       "    </tr>\n",
       "  </thead>\n",
       "  <tbody>\n",
       "    <tr>\n",
       "      <th>ACTIVE</th>\n",
       "      <td>2019.364086</td>\n",
       "      <td>(81.0, 6544.349999999997)</td>\n",
       "      <td>6.935794</td>\n",
       "      <td>(1.0, 20.0)</td>\n",
       "    </tr>\n",
       "    <tr>\n",
       "      <th>INACTIVE</th>\n",
       "      <td>568.014784</td>\n",
       "      <td>(60.0, 1776.0)</td>\n",
       "      <td>2.263895</td>\n",
       "      <td>(1.0, 6.0)</td>\n",
       "    </tr>\n",
       "    <tr>\n",
       "      <th>LAPSED</th>\n",
       "      <td>841.467329</td>\n",
       "      <td>(63.0, 2904.0)</td>\n",
       "      <td>3.498280</td>\n",
       "      <td>(1.0, 9.0)</td>\n",
       "    </tr>\n",
       "  </tbody>\n",
       "</table>\n",
       "</div>"
      ],
      "text/plain": [
       "                LTD_SALES                            LTD_TRANSACTIONS  \\\n",
       "                     mean                     ptiles             mean   \n",
       "BUYER_STATUS                                                            \n",
       "ACTIVE        2019.364086  (81.0, 6544.349999999997)         6.935794   \n",
       "INACTIVE       568.014784             (60.0, 1776.0)         2.263895   \n",
       "LAPSED         841.467329             (63.0, 2904.0)         3.498280   \n",
       "\n",
       "                           \n",
       "                   ptiles  \n",
       "BUYER_STATUS               \n",
       "ACTIVE        (1.0, 20.0)  \n",
       "INACTIVE       (1.0, 6.0)  \n",
       "LAPSED         (1.0, 9.0)  "
      ]
     },
     "execution_count": 55,
     "metadata": {},
     "output_type": "execute_result"
    }
   ],
   "source": [
    "buyerGrouper.agg([np.mean, ptiles])"
   ]
  },
  {
   "cell_type": "raw",
   "metadata": {},
   "source": [
    "What kind of object is the above command printing out for you?\n",
    "\n",
    "You can select particular results from this, of course, e.g.:\n"
   ]
  },
  {
   "cell_type": "code",
   "execution_count": 56,
   "metadata": {},
   "outputs": [
    {
     "data": {
      "text/plain": [
       "mean                    2019.364086\n",
       "ptiles    (81.0, 6544.349999999997)\n",
       "Name: ACTIVE, dtype: object"
      ]
     },
     "execution_count": 56,
     "metadata": {},
     "output_type": "execute_result"
    }
   ],
   "source": [
    "buyerGrouper.agg([np.mean,ptiles]).loc['ACTIVE','LTD_SALES']"
   ]
  },
  {
   "cell_type": "raw",
   "metadata": {},
   "source": [
    "As a quick little exercise to do on you own, write a tiny function that calculates the “interquartile range,” or IQR, for data, and then apply it to the above data.  The IQR is the difference between the 75th and the 25th percentile values.\n",
    "\n",
    "Well, that wraps it up for this, and last, Python Practice.  No surprisingly, there's a lot more to data management using Python and packages like Pandas, and there's something new all the time. \n",
    "\n",
    "If you're an R user, and you use it on Linux or OS X, you'll want to check out the package rpy2, which provides some capability for transferring data between R and Python.  It's under development, and the plan is that it will eventually allow doing things like calling R functions from within Python.  It is apparently pretty tough to install and use from in Windows at the present time.\n"
   ]
  },
  {
   "cell_type": "markdown",
   "metadata": {},
   "source": [
    "<div class=\"alert alert-block alert-warning\">\n",
    "\n",
    "# Requirements :\n",
    "\n",
    "Answer your homework questions below; add as many cells as needed.\n",
    "</div>"
   ]
  },
  {
   "cell_type": "markdown",
   "metadata": {},
   "source": [
    "## Requirement 1 (7 points)\n",
    "\n",
    "a) Of the Active customers only, show a crosstab of heavyCat and channel acquisition.  <br>\n",
    "b) Of the non-Active customers, show a crosstab of heavyCat and channel acquisition."
   ]
  },
  {
   "cell_type": "code",
   "execution_count": 57,
   "metadata": {},
   "outputs": [
    {
     "data": {
      "text/html": [
       "<div>\n",
       "<style scoped>\n",
       "    .dataframe tbody tr th:only-of-type {\n",
       "        vertical-align: middle;\n",
       "    }\n",
       "\n",
       "    .dataframe tbody tr th {\n",
       "        vertical-align: top;\n",
       "    }\n",
       "\n",
       "    .dataframe thead th {\n",
       "        text-align: right;\n",
       "    }\n",
       "</style>\n",
       "<table border=\"1\" class=\"dataframe\">\n",
       "  <thead>\n",
       "    <tr style=\"text-align: right;\">\n",
       "      <th>CHANNEL_ACQUISITION</th>\n",
       "      <th>CB</th>\n",
       "      <th>IB</th>\n",
       "      <th>RT</th>\n",
       "    </tr>\n",
       "    <tr>\n",
       "      <th>heavyCat</th>\n",
       "      <th></th>\n",
       "      <th></th>\n",
       "      <th></th>\n",
       "    </tr>\n",
       "  </thead>\n",
       "  <tbody>\n",
       "    <tr>\n",
       "      <th>regular</th>\n",
       "      <td>290</td>\n",
       "      <td>789</td>\n",
       "      <td>5617</td>\n",
       "    </tr>\n",
       "    <tr>\n",
       "      <th>heavy</th>\n",
       "      <td>509</td>\n",
       "      <td>1026</td>\n",
       "      <td>5101</td>\n",
       "    </tr>\n",
       "  </tbody>\n",
       "</table>\n",
       "</div>"
      ],
      "text/plain": [
       "CHANNEL_ACQUISITION   CB    IB    RT\n",
       "heavyCat                            \n",
       "regular              290   789  5617\n",
       "heavy                509  1026  5101"
      ]
     },
     "execution_count": 57,
     "metadata": {},
     "output_type": "execute_result"
    }
   ],
   "source": [
    "#part a\n",
    "active_cust = xyznew[xyznew['BUYER_STATUS'] == 'ACTIVE']\n",
    "crosstaba = pd.crosstab(active_cust['heavyCat'],active_cust['CHANNEL_ACQUISITION'])\n",
    "crosstaba"
   ]
  },
  {
   "cell_type": "code",
   "execution_count": 58,
   "metadata": {},
   "outputs": [
    {
     "data": {
      "text/html": [
       "<div>\n",
       "<style scoped>\n",
       "    .dataframe tbody tr th:only-of-type {\n",
       "        vertical-align: middle;\n",
       "    }\n",
       "\n",
       "    .dataframe tbody tr th {\n",
       "        vertical-align: top;\n",
       "    }\n",
       "\n",
       "    .dataframe thead th {\n",
       "        text-align: right;\n",
       "    }\n",
       "</style>\n",
       "<table border=\"1\" class=\"dataframe\">\n",
       "  <thead>\n",
       "    <tr style=\"text-align: right;\">\n",
       "      <th>CHANNEL_ACQUISITION</th>\n",
       "      <th>CB</th>\n",
       "      <th>IB</th>\n",
       "      <th>RT</th>\n",
       "    </tr>\n",
       "    <tr>\n",
       "      <th>heavyCat</th>\n",
       "      <th></th>\n",
       "      <th></th>\n",
       "      <th></th>\n",
       "    </tr>\n",
       "  </thead>\n",
       "  <tbody>\n",
       "    <tr>\n",
       "      <th>regular</th>\n",
       "      <td>691</td>\n",
       "      <td>1249</td>\n",
       "      <td>7056</td>\n",
       "    </tr>\n",
       "  </tbody>\n",
       "</table>\n",
       "</div>"
      ],
      "text/plain": [
       "CHANNEL_ACQUISITION   CB    IB    RT\n",
       "heavyCat                            \n",
       "regular              691  1249  7056"
      ]
     },
     "execution_count": 58,
     "metadata": {},
     "output_type": "execute_result"
    }
   ],
   "source": [
    "#part b\n",
    "inactive_cust = xyznew[xyznew['BUYER_STATUS'] == 'INACTIVE']\n",
    "crosstabb = pd.crosstab(inactive_cust['heavyCat'],inactive_cust['CHANNEL_ACQUISITION'])\n",
    "crosstabb"
   ]
  },
  {
   "cell_type": "code",
   "execution_count": 59,
   "metadata": {},
   "outputs": [
    {
     "data": {
      "text/html": [
       "<div>\n",
       "<style scoped>\n",
       "    .dataframe tbody tr th:only-of-type {\n",
       "        vertical-align: middle;\n",
       "    }\n",
       "\n",
       "    .dataframe tbody tr th {\n",
       "        vertical-align: top;\n",
       "    }\n",
       "\n",
       "    .dataframe thead th {\n",
       "        text-align: right;\n",
       "    }\n",
       "</style>\n",
       "<table border=\"1\" class=\"dataframe\">\n",
       "  <thead>\n",
       "    <tr style=\"text-align: right;\">\n",
       "      <th></th>\n",
       "      <th>index</th>\n",
       "      <th>ACCTNO</th>\n",
       "      <th>ZIP</th>\n",
       "      <th>ZIP4</th>\n",
       "      <th>LTD_SALES</th>\n",
       "      <th>LTD_TRANSACTIONS</th>\n",
       "      <th>YTD_SALES_2009</th>\n",
       "      <th>YTD_TRANSACTIONS_2009</th>\n",
       "      <th>CHANNEL_ACQUISITION</th>\n",
       "      <th>BUYER_STATUS</th>\n",
       "      <th>ZIP9_SUPERCODE</th>\n",
       "      <th>heavyCat</th>\n",
       "      <th>typeReg</th>\n",
       "      <th>typeHeavy</th>\n",
       "    </tr>\n",
       "  </thead>\n",
       "  <tbody>\n",
       "    <tr>\n",
       "      <th>1</th>\n",
       "      <td>1</td>\n",
       "      <td>WQWAYHYLA</td>\n",
       "      <td>60091</td>\n",
       "      <td>1750</td>\n",
       "      <td>4227.0</td>\n",
       "      <td>9</td>\n",
       "      <td>1263.0</td>\n",
       "      <td>3</td>\n",
       "      <td>RT</td>\n",
       "      <td>ACTIVE</td>\n",
       "      <td>600911750</td>\n",
       "      <td>heavy</td>\n",
       "      <td>0</td>\n",
       "      <td>1</td>\n",
       "    </tr>\n",
       "    <tr>\n",
       "      <th>2</th>\n",
       "      <td>2</td>\n",
       "      <td>GSHAPLHAW</td>\n",
       "      <td>60067</td>\n",
       "      <td>900</td>\n",
       "      <td>420.0</td>\n",
       "      <td>3</td>\n",
       "      <td>129.0</td>\n",
       "      <td>1</td>\n",
       "      <td>RT</td>\n",
       "      <td>ACTIVE</td>\n",
       "      <td>600670900</td>\n",
       "      <td>regular</td>\n",
       "      <td>1</td>\n",
       "      <td>0</td>\n",
       "    </tr>\n",
       "    <tr>\n",
       "      <th>4</th>\n",
       "      <td>4</td>\n",
       "      <td>LWPSGPLLS</td>\n",
       "      <td>60090</td>\n",
       "      <td>3932</td>\n",
       "      <td>189.0</td>\n",
       "      <td>3</td>\n",
       "      <td>72.0</td>\n",
       "      <td>1</td>\n",
       "      <td>RT</td>\n",
       "      <td>ACTIVE</td>\n",
       "      <td>600903932</td>\n",
       "      <td>regular</td>\n",
       "      <td>1</td>\n",
       "      <td>0</td>\n",
       "    </tr>\n",
       "    <tr>\n",
       "      <th>5</th>\n",
       "      <td>5</td>\n",
       "      <td>LQGYDGSYQ</td>\n",
       "      <td>60085</td>\n",
       "      <td>8670</td>\n",
       "      <td>4278.0</td>\n",
       "      <td>12</td>\n",
       "      <td>102.0</td>\n",
       "      <td>1</td>\n",
       "      <td>RT</td>\n",
       "      <td>ACTIVE</td>\n",
       "      <td>600858670</td>\n",
       "      <td>regular</td>\n",
       "      <td>1</td>\n",
       "      <td>0</td>\n",
       "    </tr>\n",
       "    <tr>\n",
       "      <th>6</th>\n",
       "      <td>6</td>\n",
       "      <td>WGQWQDPDA</td>\n",
       "      <td>60091</td>\n",
       "      <td>3447</td>\n",
       "      <td>1869.0</td>\n",
       "      <td>5</td>\n",
       "      <td>495.0</td>\n",
       "      <td>1</td>\n",
       "      <td>RT</td>\n",
       "      <td>ACTIVE</td>\n",
       "      <td>600913447</td>\n",
       "      <td>heavy</td>\n",
       "      <td>0</td>\n",
       "      <td>1</td>\n",
       "    </tr>\n",
       "  </tbody>\n",
       "</table>\n",
       "</div>"
      ],
      "text/plain": [
       "   index     ACCTNO    ZIP  ZIP4  LTD_SALES  LTD_TRANSACTIONS  YTD_SALES_2009  \\\n",
       "1      1  WQWAYHYLA  60091  1750     4227.0                 9          1263.0   \n",
       "2      2  GSHAPLHAW  60067   900      420.0                 3           129.0   \n",
       "4      4  LWPSGPLLS  60090  3932      189.0                 3            72.0   \n",
       "5      5  LQGYDGSYQ  60085  8670     4278.0                12           102.0   \n",
       "6      6  WGQWQDPDA  60091  3447     1869.0                 5           495.0   \n",
       "\n",
       "   YTD_TRANSACTIONS_2009 CHANNEL_ACQUISITION BUYER_STATUS  ZIP9_SUPERCODE  \\\n",
       "1                      3                  RT       ACTIVE       600911750   \n",
       "2                      1                  RT       ACTIVE       600670900   \n",
       "4                      1                  RT       ACTIVE       600903932   \n",
       "5                      1                  RT       ACTIVE       600858670   \n",
       "6                      1                  RT       ACTIVE       600913447   \n",
       "\n",
       "  heavyCat  typeReg  typeHeavy  \n",
       "1    heavy        0          1  \n",
       "2  regular        1          0  \n",
       "4  regular        1          0  \n",
       "5  regular        1          0  \n",
       "6    heavy        0          1  "
      ]
     },
     "execution_count": 59,
     "metadata": {},
     "output_type": "execute_result"
    }
   ],
   "source": [
    "active_cust.head()"
   ]
  },
  {
   "cell_type": "markdown",
   "metadata": {},
   "source": [
    "## Requirement 2 (7 points)\n",
    "\n",
    "a) Create a dataframe with LTD Sales, 2009 Sales, Channel Acquistion and heavyCat for all customers. <br>\n",
    "b) Using Groupby, show mean LTD Sales and 2009 Sales by Channel Acquistion and heavyCat."
   ]
  },
  {
   "cell_type": "code",
   "execution_count": 60,
   "metadata": {},
   "outputs": [
    {
     "data": {
      "text/html": [
       "<div>\n",
       "<style scoped>\n",
       "    .dataframe tbody tr th:only-of-type {\n",
       "        vertical-align: middle;\n",
       "    }\n",
       "\n",
       "    .dataframe tbody tr th {\n",
       "        vertical-align: top;\n",
       "    }\n",
       "\n",
       "    .dataframe thead th {\n",
       "        text-align: right;\n",
       "    }\n",
       "</style>\n",
       "<table border=\"1\" class=\"dataframe\">\n",
       "  <thead>\n",
       "    <tr style=\"text-align: right;\">\n",
       "      <th></th>\n",
       "      <th>LTD_SALES</th>\n",
       "      <th>YTD_SALES_2009</th>\n",
       "      <th>CHANNEL_ACQUISITION</th>\n",
       "      <th>heavyCat</th>\n",
       "    </tr>\n",
       "  </thead>\n",
       "  <tbody>\n",
       "    <tr>\n",
       "      <th>1</th>\n",
       "      <td>4227.0</td>\n",
       "      <td>1263.0</td>\n",
       "      <td>RT</td>\n",
       "      <td>heavy</td>\n",
       "    </tr>\n",
       "    <tr>\n",
       "      <th>2</th>\n",
       "      <td>420.0</td>\n",
       "      <td>129.0</td>\n",
       "      <td>RT</td>\n",
       "      <td>regular</td>\n",
       "    </tr>\n",
       "    <tr>\n",
       "      <th>4</th>\n",
       "      <td>189.0</td>\n",
       "      <td>72.0</td>\n",
       "      <td>RT</td>\n",
       "      <td>regular</td>\n",
       "    </tr>\n",
       "    <tr>\n",
       "      <th>5</th>\n",
       "      <td>4278.0</td>\n",
       "      <td>102.0</td>\n",
       "      <td>RT</td>\n",
       "      <td>regular</td>\n",
       "    </tr>\n",
       "    <tr>\n",
       "      <th>6</th>\n",
       "      <td>1869.0</td>\n",
       "      <td>495.0</td>\n",
       "      <td>RT</td>\n",
       "      <td>heavy</td>\n",
       "    </tr>\n",
       "  </tbody>\n",
       "</table>\n",
       "</div>"
      ],
      "text/plain": [
       "   LTD_SALES  YTD_SALES_2009 CHANNEL_ACQUISITION heavyCat\n",
       "1     4227.0          1263.0                  RT    heavy\n",
       "2      420.0           129.0                  RT  regular\n",
       "4      189.0            72.0                  RT  regular\n",
       "5     4278.0           102.0                  RT  regular\n",
       "6     1869.0           495.0                  RT    heavy"
      ]
     },
     "execution_count": 60,
     "metadata": {},
     "output_type": "execute_result"
    }
   ],
   "source": [
    "#part a\n",
    "req2_df = active_cust[['LTD_SALES','YTD_SALES_2009','CHANNEL_ACQUISITION','heavyCat']]\n",
    "req2_df.head()"
   ]
  },
  {
   "cell_type": "code",
   "execution_count": 61,
   "metadata": {},
   "outputs": [
    {
     "data": {
      "text/html": [
       "<div>\n",
       "<style scoped>\n",
       "    .dataframe tbody tr th:only-of-type {\n",
       "        vertical-align: middle;\n",
       "    }\n",
       "\n",
       "    .dataframe tbody tr th {\n",
       "        vertical-align: top;\n",
       "    }\n",
       "\n",
       "    .dataframe thead th {\n",
       "        text-align: right;\n",
       "    }\n",
       "</style>\n",
       "<table border=\"1\" class=\"dataframe\">\n",
       "  <thead>\n",
       "    <tr style=\"text-align: right;\">\n",
       "      <th></th>\n",
       "      <th></th>\n",
       "      <th>LTD_SALES</th>\n",
       "      <th>YTD_SALES_2009</th>\n",
       "    </tr>\n",
       "    <tr>\n",
       "      <th>CHANNEL_ACQUISITION</th>\n",
       "      <th>heavyCat</th>\n",
       "      <th></th>\n",
       "      <th></th>\n",
       "    </tr>\n",
       "  </thead>\n",
       "  <tbody>\n",
       "    <tr>\n",
       "      <th rowspan=\"2\" valign=\"top\">CB</th>\n",
       "      <th>regular</th>\n",
       "      <td>1502.027586</td>\n",
       "      <td>138.527586</td>\n",
       "    </tr>\n",
       "    <tr>\n",
       "      <th>heavy</th>\n",
       "      <td>8913.907662</td>\n",
       "      <td>1776.695481</td>\n",
       "    </tr>\n",
       "    <tr>\n",
       "      <th rowspan=\"2\" valign=\"top\">IB</th>\n",
       "      <th>regular</th>\n",
       "      <td>897.414449</td>\n",
       "      <td>135.657795</td>\n",
       "    </tr>\n",
       "    <tr>\n",
       "      <th>heavy</th>\n",
       "      <td>3009.538012</td>\n",
       "      <td>960.289474</td>\n",
       "    </tr>\n",
       "    <tr>\n",
       "      <th rowspan=\"2\" valign=\"top\">RT</th>\n",
       "      <th>regular</th>\n",
       "      <td>800.328111</td>\n",
       "      <td>117.957629</td>\n",
       "    </tr>\n",
       "    <tr>\n",
       "      <th>heavy</th>\n",
       "      <td>2677.534993</td>\n",
       "      <td>868.740247</td>\n",
       "    </tr>\n",
       "  </tbody>\n",
       "</table>\n",
       "</div>"
      ],
      "text/plain": [
       "                                LTD_SALES  YTD_SALES_2009\n",
       "CHANNEL_ACQUISITION heavyCat                             \n",
       "CB                  regular   1502.027586      138.527586\n",
       "                    heavy     8913.907662     1776.695481\n",
       "IB                  regular    897.414449      135.657795\n",
       "                    heavy     3009.538012      960.289474\n",
       "RT                  regular    800.328111      117.957629\n",
       "                    heavy     2677.534993      868.740247"
      ]
     },
     "execution_count": 61,
     "metadata": {},
     "output_type": "execute_result"
    }
   ],
   "source": [
    "#part b\n",
    "req2_df.groupby(['CHANNEL_ACQUISITION','heavyCat']).mean()[['LTD_SALES','YTD_SALES_2009']]"
   ]
  },
  {
   "cell_type": "markdown",
   "metadata": {},
   "source": [
    "## Requirement 3 (7 points)\n",
    "\n",
    "Consider the multi-indexed file trDFgrouped. <br>\n",
    "a) Show the values of May for both heavy and light without using .loc or .iloc <br>\n",
    "b) use .loc to show the values of June heavy/light through July heavy/light <br>\n",
    "c) use .iloc to show the values of June heavy/light through July heavy/light <br>"
   ]
  },
  {
   "cell_type": "code",
   "execution_count": 62,
   "metadata": {},
   "outputs": [
    {
     "data": {
      "text/html": [
       "<div>\n",
       "<style scoped>\n",
       "    .dataframe tbody tr th:only-of-type {\n",
       "        vertical-align: middle;\n",
       "    }\n",
       "\n",
       "    .dataframe tbody tr th {\n",
       "        vertical-align: top;\n",
       "    }\n",
       "\n",
       "    .dataframe thead th {\n",
       "        text-align: right;\n",
       "    }\n",
       "</style>\n",
       "<table border=\"1\" class=\"dataframe\">\n",
       "  <thead>\n",
       "    <tr style=\"text-align: right;\">\n",
       "      <th></th>\n",
       "      <th></th>\n",
       "      <th>transactions</th>\n",
       "    </tr>\n",
       "    <tr>\n",
       "      <th>monum</th>\n",
       "      <th>vol</th>\n",
       "      <th></th>\n",
       "    </tr>\n",
       "  </thead>\n",
       "  <tbody>\n",
       "    <tr>\n",
       "      <th rowspan=\"2\" valign=\"top\">1</th>\n",
       "      <th>heavy</th>\n",
       "      <td>5255</td>\n",
       "    </tr>\n",
       "    <tr>\n",
       "      <th>light</th>\n",
       "      <td>572</td>\n",
       "    </tr>\n",
       "    <tr>\n",
       "      <th rowspan=\"2\" valign=\"top\">2</th>\n",
       "      <th>heavy</th>\n",
       "      <td>761</td>\n",
       "    </tr>\n",
       "    <tr>\n",
       "      <th>light</th>\n",
       "      <td>1625</td>\n",
       "    </tr>\n",
       "    <tr>\n",
       "      <th>3</th>\n",
       "      <th>heavy</th>\n",
       "      <td>1130</td>\n",
       "    </tr>\n",
       "  </tbody>\n",
       "</table>\n",
       "</div>"
      ],
      "text/plain": [
       "             transactions\n",
       "monum vol                \n",
       "1     heavy          5255\n",
       "      light           572\n",
       "2     heavy           761\n",
       "      light          1625\n",
       "3     heavy          1130"
      ]
     },
     "execution_count": 62,
     "metadata": {},
     "output_type": "execute_result"
    }
   ],
   "source": [
    "trDFgrouped.head()"
   ]
  },
  {
   "cell_type": "code",
   "execution_count": 63,
   "metadata": {},
   "outputs": [
    {
     "data": {
      "text/html": [
       "<div>\n",
       "<style scoped>\n",
       "    .dataframe tbody tr th:only-of-type {\n",
       "        vertical-align: middle;\n",
       "    }\n",
       "\n",
       "    .dataframe tbody tr th {\n",
       "        vertical-align: top;\n",
       "    }\n",
       "\n",
       "    .dataframe thead th {\n",
       "        text-align: right;\n",
       "    }\n",
       "</style>\n",
       "<table border=\"1\" class=\"dataframe\">\n",
       "  <thead>\n",
       "    <tr style=\"text-align: right;\">\n",
       "      <th></th>\n",
       "      <th></th>\n",
       "      <th>transactions</th>\n",
       "    </tr>\n",
       "    <tr>\n",
       "      <th>monum</th>\n",
       "      <th>vol</th>\n",
       "      <th></th>\n",
       "    </tr>\n",
       "  </thead>\n",
       "  <tbody>\n",
       "    <tr>\n",
       "      <th rowspan=\"2\" valign=\"top\">5</th>\n",
       "      <th>heavy</th>\n",
       "      <td>2172</td>\n",
       "    </tr>\n",
       "    <tr>\n",
       "      <th>light</th>\n",
       "      <td>2076</td>\n",
       "    </tr>\n",
       "  </tbody>\n",
       "</table>\n",
       "</div>"
      ],
      "text/plain": [
       "             transactions\n",
       "monum vol                \n",
       "5     heavy          2172\n",
       "      light          2076"
      ]
     },
     "execution_count": 63,
     "metadata": {},
     "output_type": "execute_result"
    }
   ],
   "source": [
    "#part a\n",
    "trDFgrouped[trDFgrouped.index.get_level_values(0) == 5]"
   ]
  },
  {
   "cell_type": "code",
   "execution_count": 64,
   "metadata": {},
   "outputs": [
    {
     "data": {
      "text/html": [
       "<div>\n",
       "<style scoped>\n",
       "    .dataframe tbody tr th:only-of-type {\n",
       "        vertical-align: middle;\n",
       "    }\n",
       "\n",
       "    .dataframe tbody tr th {\n",
       "        vertical-align: top;\n",
       "    }\n",
       "\n",
       "    .dataframe thead th {\n",
       "        text-align: right;\n",
       "    }\n",
       "</style>\n",
       "<table border=\"1\" class=\"dataframe\">\n",
       "  <thead>\n",
       "    <tr style=\"text-align: right;\">\n",
       "      <th></th>\n",
       "      <th></th>\n",
       "      <th>transactions</th>\n",
       "    </tr>\n",
       "    <tr>\n",
       "      <th>monum</th>\n",
       "      <th>vol</th>\n",
       "      <th></th>\n",
       "    </tr>\n",
       "  </thead>\n",
       "  <tbody>\n",
       "    <tr>\n",
       "      <th rowspan=\"2\" valign=\"top\">6</th>\n",
       "      <th>heavy</th>\n",
       "      <td>2878</td>\n",
       "    </tr>\n",
       "    <tr>\n",
       "      <th>light</th>\n",
       "      <td>1495</td>\n",
       "    </tr>\n",
       "    <tr>\n",
       "      <th rowspan=\"2\" valign=\"top\">7</th>\n",
       "      <th>heavy</th>\n",
       "      <td>4440</td>\n",
       "    </tr>\n",
       "    <tr>\n",
       "      <th>light</th>\n",
       "      <td>564</td>\n",
       "    </tr>\n",
       "  </tbody>\n",
       "</table>\n",
       "</div>"
      ],
      "text/plain": [
       "             transactions\n",
       "monum vol                \n",
       "6     heavy          2878\n",
       "      light          1495\n",
       "7     heavy          4440\n",
       "      light           564"
      ]
     },
     "execution_count": 64,
     "metadata": {},
     "output_type": "execute_result"
    }
   ],
   "source": [
    "#part b\n",
    "trDFgrouped.loc[6:7]"
   ]
  },
  {
   "cell_type": "code",
   "execution_count": 65,
   "metadata": {},
   "outputs": [
    {
     "data": {
      "text/html": [
       "<div>\n",
       "<style scoped>\n",
       "    .dataframe tbody tr th:only-of-type {\n",
       "        vertical-align: middle;\n",
       "    }\n",
       "\n",
       "    .dataframe tbody tr th {\n",
       "        vertical-align: top;\n",
       "    }\n",
       "\n",
       "    .dataframe thead th {\n",
       "        text-align: right;\n",
       "    }\n",
       "</style>\n",
       "<table border=\"1\" class=\"dataframe\">\n",
       "  <thead>\n",
       "    <tr style=\"text-align: right;\">\n",
       "      <th></th>\n",
       "      <th></th>\n",
       "      <th>transactions</th>\n",
       "    </tr>\n",
       "    <tr>\n",
       "      <th>monum</th>\n",
       "      <th>vol</th>\n",
       "      <th></th>\n",
       "    </tr>\n",
       "  </thead>\n",
       "  <tbody>\n",
       "    <tr>\n",
       "      <th rowspan=\"2\" valign=\"top\">6</th>\n",
       "      <th>heavy</th>\n",
       "      <td>2878</td>\n",
       "    </tr>\n",
       "    <tr>\n",
       "      <th>light</th>\n",
       "      <td>1495</td>\n",
       "    </tr>\n",
       "    <tr>\n",
       "      <th rowspan=\"2\" valign=\"top\">7</th>\n",
       "      <th>heavy</th>\n",
       "      <td>4440</td>\n",
       "    </tr>\n",
       "    <tr>\n",
       "      <th>light</th>\n",
       "      <td>564</td>\n",
       "    </tr>\n",
       "  </tbody>\n",
       "</table>\n",
       "</div>"
      ],
      "text/plain": [
       "             transactions\n",
       "monum vol                \n",
       "6     heavy          2878\n",
       "      light          1495\n",
       "7     heavy          4440\n",
       "      light           564"
      ]
     },
     "execution_count": 65,
     "metadata": {},
     "output_type": "execute_result"
    }
   ],
   "source": [
    "#part c\n",
    "trDFgrouped.iloc[10:14]"
   ]
  },
  {
   "cell_type": "markdown",
   "metadata": {},
   "source": [
    "## Requirement 4 (14 points)\n",
    "\n",
    "a) Create a dataframe with xyztrans data of department description, total amount and trans date month (not the full trandate field). It is okay to leave the month as the three letter abbreviation or you can convert to a number.   <br>\n",
    "b) Create a pivot from the dataframe to show total amount totals (not means, but totals) by Month and by department description   <br>\n",
    "c) The pivot shows NaN's.  Explain why the NaN's show up in the pivot, but did not show in the your starting dataframe.  Show how you came up with your answer.  "
   ]
  },
  {
   "cell_type": "code",
   "execution_count": 66,
   "metadata": {},
   "outputs": [
    {
     "data": {
      "text/html": [
       "<div>\n",
       "<style scoped>\n",
       "    .dataframe tbody tr th:only-of-type {\n",
       "        vertical-align: middle;\n",
       "    }\n",
       "\n",
       "    .dataframe tbody tr th {\n",
       "        vertical-align: top;\n",
       "    }\n",
       "\n",
       "    .dataframe thead th {\n",
       "        text-align: right;\n",
       "    }\n",
       "</style>\n",
       "<table border=\"1\" class=\"dataframe\">\n",
       "  <thead>\n",
       "    <tr style=\"text-align: right;\">\n",
       "      <th></th>\n",
       "      <th>index</th>\n",
       "      <th>ACCTNO</th>\n",
       "      <th>QTY</th>\n",
       "      <th>TRANDATE</th>\n",
       "      <th>TRAN_CHANNEL</th>\n",
       "      <th>PRICE</th>\n",
       "      <th>TOTAMT</th>\n",
       "      <th>ORDERNO</th>\n",
       "      <th>DEPTDESCR</th>\n",
       "    </tr>\n",
       "  </thead>\n",
       "  <tbody>\n",
       "    <tr>\n",
       "      <th>0</th>\n",
       "      <td>0</td>\n",
       "      <td>WGDQLA</td>\n",
       "      <td>1</td>\n",
       "      <td>09JUN2009</td>\n",
       "      <td>RT</td>\n",
       "      <td>599.85</td>\n",
       "      <td>599.85</td>\n",
       "      <td>CCXXNNXXXXUX</td>\n",
       "      <td>Home Audio</td>\n",
       "    </tr>\n",
       "    <tr>\n",
       "      <th>1</th>\n",
       "      <td>1</td>\n",
       "      <td>WGDQLA</td>\n",
       "      <td>1</td>\n",
       "      <td>09JUN2009</td>\n",
       "      <td>RT</td>\n",
       "      <td>39.00</td>\n",
       "      <td>39.00</td>\n",
       "      <td>CCXXNNXXXXUX</td>\n",
       "      <td>Small Appliances</td>\n",
       "    </tr>\n",
       "    <tr>\n",
       "      <th>2</th>\n",
       "      <td>2</td>\n",
       "      <td>WGDQLA</td>\n",
       "      <td>1</td>\n",
       "      <td>28NOV2009</td>\n",
       "      <td>RT</td>\n",
       "      <td>15.00</td>\n",
       "      <td>15.00</td>\n",
       "      <td>CCXNXXKXXXRI</td>\n",
       "      <td>Small Appliances</td>\n",
       "    </tr>\n",
       "    <tr>\n",
       "      <th>3</th>\n",
       "      <td>3</td>\n",
       "      <td>WGDQLA</td>\n",
       "      <td>1</td>\n",
       "      <td>28NOV2009</td>\n",
       "      <td>RT</td>\n",
       "      <td>69.00</td>\n",
       "      <td>69.00</td>\n",
       "      <td>CCXNXXKXXXRI</td>\n",
       "      <td>Small Appliances</td>\n",
       "    </tr>\n",
       "    <tr>\n",
       "      <th>4</th>\n",
       "      <td>4</td>\n",
       "      <td>WGDQLA</td>\n",
       "      <td>1</td>\n",
       "      <td>28NOV2009</td>\n",
       "      <td>RT</td>\n",
       "      <td>84.00</td>\n",
       "      <td>84.00</td>\n",
       "      <td>CCXNXXKXXXRI</td>\n",
       "      <td>Small Appliances</td>\n",
       "    </tr>\n",
       "  </tbody>\n",
       "</table>\n",
       "</div>"
      ],
      "text/plain": [
       "   index  ACCTNO  QTY   TRANDATE TRAN_CHANNEL   PRICE  TOTAMT       ORDERNO  \\\n",
       "0      0  WGDQLA    1  09JUN2009           RT  599.85  599.85  CCXXNNXXXXUX   \n",
       "1      1  WGDQLA    1  09JUN2009           RT   39.00   39.00  CCXXNNXXXXUX   \n",
       "2      2  WGDQLA    1  28NOV2009           RT   15.00   15.00  CCXNXXKXXXRI   \n",
       "3      3  WGDQLA    1  28NOV2009           RT   69.00   69.00  CCXNXXKXXXRI   \n",
       "4      4  WGDQLA    1  28NOV2009           RT   84.00   84.00  CCXNXXKXXXRI   \n",
       "\n",
       "          DEPTDESCR  \n",
       "0        Home Audio  \n",
       "1  Small Appliances  \n",
       "2  Small Appliances  \n",
       "3  Small Appliances  \n",
       "4  Small Appliances  "
      ]
     },
     "execution_count": 66,
     "metadata": {},
     "output_type": "execute_result"
    }
   ],
   "source": [
    "xyztrans.head()"
   ]
  },
  {
   "cell_type": "code",
   "execution_count": 67,
   "metadata": {},
   "outputs": [
    {
     "name": "stderr",
     "output_type": "stream",
     "text": [
      "C:\\Users\\TK\\AppData\\Local\\Temp\\ipykernel_32764\\1169373652.py:3: SettingWithCopyWarning: \n",
      "A value is trying to be set on a copy of a slice from a DataFrame.\n",
      "Try using .loc[row_indexer,col_indexer] = value instead\n",
      "\n",
      "See the caveats in the documentation: https://pandas.pydata.org/pandas-docs/stable/user_guide/indexing.html#returning-a-view-versus-a-copy\n",
      "  req4_df['TRANDATE'] = pd.to_datetime(req4_df['TRANDATE'], format='%d%b%Y')\n",
      "C:\\Users\\TK\\AppData\\Local\\Temp\\ipykernel_32764\\1169373652.py:4: SettingWithCopyWarning: \n",
      "A value is trying to be set on a copy of a slice from a DataFrame.\n",
      "Try using .loc[row_indexer,col_indexer] = value instead\n",
      "\n",
      "See the caveats in the documentation: https://pandas.pydata.org/pandas-docs/stable/user_guide/indexing.html#returning-a-view-versus-a-copy\n",
      "  req4_df['month'] = pd.DatetimeIndex(req4_df['TRANDATE']).month_name()\n"
     ]
    },
    {
     "data": {
      "text/html": [
       "<div>\n",
       "<style scoped>\n",
       "    .dataframe tbody tr th:only-of-type {\n",
       "        vertical-align: middle;\n",
       "    }\n",
       "\n",
       "    .dataframe tbody tr th {\n",
       "        vertical-align: top;\n",
       "    }\n",
       "\n",
       "    .dataframe thead th {\n",
       "        text-align: right;\n",
       "    }\n",
       "</style>\n",
       "<table border=\"1\" class=\"dataframe\">\n",
       "  <thead>\n",
       "    <tr style=\"text-align: right;\">\n",
       "      <th></th>\n",
       "      <th>DEPTDESCR</th>\n",
       "      <th>TOTAMT</th>\n",
       "      <th>TRANDATE</th>\n",
       "      <th>month</th>\n",
       "    </tr>\n",
       "  </thead>\n",
       "  <tbody>\n",
       "    <tr>\n",
       "      <th>0</th>\n",
       "      <td>Home Audio</td>\n",
       "      <td>599.85</td>\n",
       "      <td>2009-06-09</td>\n",
       "      <td>June</td>\n",
       "    </tr>\n",
       "    <tr>\n",
       "      <th>1</th>\n",
       "      <td>Small Appliances</td>\n",
       "      <td>39.00</td>\n",
       "      <td>2009-06-09</td>\n",
       "      <td>June</td>\n",
       "    </tr>\n",
       "    <tr>\n",
       "      <th>2</th>\n",
       "      <td>Small Appliances</td>\n",
       "      <td>15.00</td>\n",
       "      <td>2009-11-28</td>\n",
       "      <td>November</td>\n",
       "    </tr>\n",
       "    <tr>\n",
       "      <th>3</th>\n",
       "      <td>Small Appliances</td>\n",
       "      <td>69.00</td>\n",
       "      <td>2009-11-28</td>\n",
       "      <td>November</td>\n",
       "    </tr>\n",
       "    <tr>\n",
       "      <th>4</th>\n",
       "      <td>Small Appliances</td>\n",
       "      <td>84.00</td>\n",
       "      <td>2009-11-28</td>\n",
       "      <td>November</td>\n",
       "    </tr>\n",
       "  </tbody>\n",
       "</table>\n",
       "</div>"
      ],
      "text/plain": [
       "          DEPTDESCR  TOTAMT   TRANDATE     month\n",
       "0        Home Audio  599.85 2009-06-09      June\n",
       "1  Small Appliances   39.00 2009-06-09      June\n",
       "2  Small Appliances   15.00 2009-11-28  November\n",
       "3  Small Appliances   69.00 2009-11-28  November\n",
       "4  Small Appliances   84.00 2009-11-28  November"
      ]
     },
     "execution_count": 67,
     "metadata": {},
     "output_type": "execute_result"
    }
   ],
   "source": [
    "#part a\n",
    "req4_df = xyztrans[['DEPTDESCR','TOTAMT','TRANDATE']]\n",
    "req4_df['TRANDATE'] = pd.to_datetime(req4_df['TRANDATE'], format='%d%b%Y')\n",
    "req4_df['month'] = pd.DatetimeIndex(req4_df['TRANDATE']).month_name()\n",
    "req4_df.head()"
   ]
  },
  {
   "cell_type": "code",
   "execution_count": 68,
   "metadata": {},
   "outputs": [
    {
     "data": {
      "text/html": [
       "<div>\n",
       "<style scoped>\n",
       "    .dataframe tbody tr th:only-of-type {\n",
       "        vertical-align: middle;\n",
       "    }\n",
       "\n",
       "    .dataframe tbody tr th {\n",
       "        vertical-align: top;\n",
       "    }\n",
       "\n",
       "    .dataframe thead th {\n",
       "        text-align: right;\n",
       "    }\n",
       "</style>\n",
       "<table border=\"1\" class=\"dataframe\">\n",
       "  <thead>\n",
       "    <tr style=\"text-align: right;\">\n",
       "      <th>DEPTDESCR</th>\n",
       "      <th>Appliances</th>\n",
       "      <th>Cameras &amp; Camcorder Accessori</th>\n",
       "      <th>Home Audio</th>\n",
       "      <th>Mobile Electronic Accessories</th>\n",
       "      <th>Mobile Electronics</th>\n",
       "      <th>Portable Electronics</th>\n",
       "      <th>Small Appliances</th>\n",
       "    </tr>\n",
       "    <tr>\n",
       "      <th>month</th>\n",
       "      <th></th>\n",
       "      <th></th>\n",
       "      <th></th>\n",
       "      <th></th>\n",
       "      <th></th>\n",
       "      <th></th>\n",
       "      <th></th>\n",
       "    </tr>\n",
       "  </thead>\n",
       "  <tbody>\n",
       "    <tr>\n",
       "      <th>April</th>\n",
       "      <td>1170.00</td>\n",
       "      <td>406.22</td>\n",
       "      <td>335.56</td>\n",
       "      <td>42.55</td>\n",
       "      <td>64.49</td>\n",
       "      <td>155.64</td>\n",
       "      <td>67.66</td>\n",
       "    </tr>\n",
       "    <tr>\n",
       "      <th>August</th>\n",
       "      <td>NaN</td>\n",
       "      <td>128.36</td>\n",
       "      <td>409.67</td>\n",
       "      <td>43.12</td>\n",
       "      <td>64.38</td>\n",
       "      <td>174.96</td>\n",
       "      <td>73.62</td>\n",
       "    </tr>\n",
       "    <tr>\n",
       "      <th>December</th>\n",
       "      <td>NaN</td>\n",
       "      <td>163.91</td>\n",
       "      <td>329.91</td>\n",
       "      <td>52.59</td>\n",
       "      <td>65.25</td>\n",
       "      <td>150.54</td>\n",
       "      <td>69.45</td>\n",
       "    </tr>\n",
       "    <tr>\n",
       "      <th>February</th>\n",
       "      <td>569.85</td>\n",
       "      <td>414.34</td>\n",
       "      <td>409.51</td>\n",
       "      <td>42.88</td>\n",
       "      <td>70.65</td>\n",
       "      <td>192.03</td>\n",
       "      <td>68.60</td>\n",
       "    </tr>\n",
       "    <tr>\n",
       "      <th>January</th>\n",
       "      <td>NaN</td>\n",
       "      <td>143.97</td>\n",
       "      <td>319.17</td>\n",
       "      <td>34.94</td>\n",
       "      <td>46.17</td>\n",
       "      <td>111.98</td>\n",
       "      <td>59.78</td>\n",
       "    </tr>\n",
       "    <tr>\n",
       "      <th>July</th>\n",
       "      <td>1050.00</td>\n",
       "      <td>238.09</td>\n",
       "      <td>360.42</td>\n",
       "      <td>36.73</td>\n",
       "      <td>54.50</td>\n",
       "      <td>128.50</td>\n",
       "      <td>60.93</td>\n",
       "    </tr>\n",
       "    <tr>\n",
       "      <th>June</th>\n",
       "      <td>NaN</td>\n",
       "      <td>147.19</td>\n",
       "      <td>417.27</td>\n",
       "      <td>39.55</td>\n",
       "      <td>72.98</td>\n",
       "      <td>157.78</td>\n",
       "      <td>73.27</td>\n",
       "    </tr>\n",
       "    <tr>\n",
       "      <th>March</th>\n",
       "      <td>NaN</td>\n",
       "      <td>148.94</td>\n",
       "      <td>312.94</td>\n",
       "      <td>48.08</td>\n",
       "      <td>70.72</td>\n",
       "      <td>189.24</td>\n",
       "      <td>70.37</td>\n",
       "    </tr>\n",
       "    <tr>\n",
       "      <th>May</th>\n",
       "      <td>NaN</td>\n",
       "      <td>171.24</td>\n",
       "      <td>396.87</td>\n",
       "      <td>41.24</td>\n",
       "      <td>71.16</td>\n",
       "      <td>169.78</td>\n",
       "      <td>71.89</td>\n",
       "    </tr>\n",
       "    <tr>\n",
       "      <th>November</th>\n",
       "      <td>NaN</td>\n",
       "      <td>785.63</td>\n",
       "      <td>351.52</td>\n",
       "      <td>44.48</td>\n",
       "      <td>78.82</td>\n",
       "      <td>156.40</td>\n",
       "      <td>65.52</td>\n",
       "    </tr>\n",
       "    <tr>\n",
       "      <th>October</th>\n",
       "      <td>NaN</td>\n",
       "      <td>674.16</td>\n",
       "      <td>353.85</td>\n",
       "      <td>42.42</td>\n",
       "      <td>71.13</td>\n",
       "      <td>182.96</td>\n",
       "      <td>69.42</td>\n",
       "    </tr>\n",
       "    <tr>\n",
       "      <th>September</th>\n",
       "      <td>NaN</td>\n",
       "      <td>990.38</td>\n",
       "      <td>360.04</td>\n",
       "      <td>43.35</td>\n",
       "      <td>69.36</td>\n",
       "      <td>154.54</td>\n",
       "      <td>75.73</td>\n",
       "    </tr>\n",
       "  </tbody>\n",
       "</table>\n",
       "</div>"
      ],
      "text/plain": [
       "DEPTDESCR  Appliances  Cameras & Camcorder Accessori  Home Audio  \\\n",
       "month                                                              \n",
       "April         1170.00                         406.22      335.56   \n",
       "August            NaN                         128.36      409.67   \n",
       "December          NaN                         163.91      329.91   \n",
       "February       569.85                         414.34      409.51   \n",
       "January           NaN                         143.97      319.17   \n",
       "July          1050.00                         238.09      360.42   \n",
       "June              NaN                         147.19      417.27   \n",
       "March             NaN                         148.94      312.94   \n",
       "May               NaN                         171.24      396.87   \n",
       "November          NaN                         785.63      351.52   \n",
       "October           NaN                         674.16      353.85   \n",
       "September         NaN                         990.38      360.04   \n",
       "\n",
       "DEPTDESCR  Mobile Electronic Accessories  Mobile Electronics  \\\n",
       "month                                                          \n",
       "April                              42.55               64.49   \n",
       "August                             43.12               64.38   \n",
       "December                           52.59               65.25   \n",
       "February                           42.88               70.65   \n",
       "January                            34.94               46.17   \n",
       "July                               36.73               54.50   \n",
       "June                               39.55               72.98   \n",
       "March                              48.08               70.72   \n",
       "May                                41.24               71.16   \n",
       "November                           44.48               78.82   \n",
       "October                            42.42               71.13   \n",
       "September                          43.35               69.36   \n",
       "\n",
       "DEPTDESCR  Portable Electronics  Small Appliances  \n",
       "month                                              \n",
       "April                    155.64             67.66  \n",
       "August                   174.96             73.62  \n",
       "December                 150.54             69.45  \n",
       "February                 192.03             68.60  \n",
       "January                  111.98             59.78  \n",
       "July                     128.50             60.93  \n",
       "June                     157.78             73.27  \n",
       "March                    189.24             70.37  \n",
       "May                      169.78             71.89  \n",
       "November                 156.40             65.52  \n",
       "October                  182.96             69.42  \n",
       "September                154.54             75.73  "
      ]
     },
     "execution_count": 68,
     "metadata": {},
     "output_type": "execute_result"
    }
   ],
   "source": [
    "#part b\n",
    "partb = pd.pivot_table(req4_df,values='TOTAMT',index=['month'],columns=['DEPTDESCR'])\n",
    "partb.round(2)"
   ]
  },
  {
   "cell_type": "code",
   "execution_count": 69,
   "metadata": {},
   "outputs": [
    {
     "data": {
      "text/html": [
       "<div>\n",
       "<style scoped>\n",
       "    .dataframe tbody tr th:only-of-type {\n",
       "        vertical-align: middle;\n",
       "    }\n",
       "\n",
       "    .dataframe tbody tr th {\n",
       "        vertical-align: top;\n",
       "    }\n",
       "\n",
       "    .dataframe thead th {\n",
       "        text-align: right;\n",
       "    }\n",
       "</style>\n",
       "<table border=\"1\" class=\"dataframe\">\n",
       "  <thead>\n",
       "    <tr style=\"text-align: right;\">\n",
       "      <th></th>\n",
       "      <th>DEPTDESCR</th>\n",
       "      <th>TOTAMT</th>\n",
       "      <th>TRANDATE</th>\n",
       "      <th>month</th>\n",
       "    </tr>\n",
       "  </thead>\n",
       "  <tbody>\n",
       "    <tr>\n",
       "      <th>1211</th>\n",
       "      <td>Appliances</td>\n",
       "      <td>569.85</td>\n",
       "      <td>2009-02-20</td>\n",
       "      <td>February</td>\n",
       "    </tr>\n",
       "    <tr>\n",
       "      <th>29711</th>\n",
       "      <td>Appliances</td>\n",
       "      <td>1170.00</td>\n",
       "      <td>2009-04-11</td>\n",
       "      <td>April</td>\n",
       "    </tr>\n",
       "    <tr>\n",
       "      <th>48145</th>\n",
       "      <td>Appliances</td>\n",
       "      <td>1125.00</td>\n",
       "      <td>2009-07-11</td>\n",
       "      <td>July</td>\n",
       "    </tr>\n",
       "    <tr>\n",
       "      <th>48146</th>\n",
       "      <td>Appliances</td>\n",
       "      <td>975.00</td>\n",
       "      <td>2009-07-11</td>\n",
       "      <td>July</td>\n",
       "    </tr>\n",
       "  </tbody>\n",
       "</table>\n",
       "</div>"
      ],
      "text/plain": [
       "        DEPTDESCR   TOTAMT   TRANDATE     month\n",
       "1211   Appliances   569.85 2009-02-20  February\n",
       "29711  Appliances  1170.00 2009-04-11     April\n",
       "48145  Appliances  1125.00 2009-07-11      July\n",
       "48146  Appliances   975.00 2009-07-11      July"
      ]
     },
     "execution_count": 69,
     "metadata": {},
     "output_type": "execute_result"
    }
   ],
   "source": [
    "req4_df[req4_df['DEPTDESCR'] == 'Appliances']"
   ]
  },
  {
   "attachments": {},
   "cell_type": "markdown",
   "metadata": {},
   "source": [
    "NaN's show up in the pivot because the pivot fully creates columns for each month (1-12). NaN's are not seen in the initial DF because not every month exsts for appliances. So As shown in the filtered df, we only see 2,4,7 for months for appliances. Months 1,3,5,6,8,9,10,11,12 aren't input as null records, they just don't exist at all. "
   ]
  },
  {
   "cell_type": "markdown",
   "metadata": {},
   "source": [
    "## Requirement 5 (5 points)\n",
    "\n",
    "Take the pivot from Requirement 4 and represent the NaN's as zeroes."
   ]
  },
  {
   "cell_type": "code",
   "execution_count": 70,
   "metadata": {},
   "outputs": [
    {
     "data": {
      "text/html": [
       "<div>\n",
       "<style scoped>\n",
       "    .dataframe tbody tr th:only-of-type {\n",
       "        vertical-align: middle;\n",
       "    }\n",
       "\n",
       "    .dataframe tbody tr th {\n",
       "        vertical-align: top;\n",
       "    }\n",
       "\n",
       "    .dataframe thead th {\n",
       "        text-align: right;\n",
       "    }\n",
       "</style>\n",
       "<table border=\"1\" class=\"dataframe\">\n",
       "  <thead>\n",
       "    <tr style=\"text-align: right;\">\n",
       "      <th>DEPTDESCR</th>\n",
       "      <th>Appliances</th>\n",
       "      <th>Cameras &amp; Camcorder Accessori</th>\n",
       "      <th>Home Audio</th>\n",
       "      <th>Mobile Electronic Accessories</th>\n",
       "      <th>Mobile Electronics</th>\n",
       "      <th>Portable Electronics</th>\n",
       "      <th>Small Appliances</th>\n",
       "    </tr>\n",
       "    <tr>\n",
       "      <th>month</th>\n",
       "      <th></th>\n",
       "      <th></th>\n",
       "      <th></th>\n",
       "      <th></th>\n",
       "      <th></th>\n",
       "      <th></th>\n",
       "      <th></th>\n",
       "    </tr>\n",
       "  </thead>\n",
       "  <tbody>\n",
       "    <tr>\n",
       "      <th>April</th>\n",
       "      <td>1170.00</td>\n",
       "      <td>406.217755</td>\n",
       "      <td>335.556255</td>\n",
       "      <td>42.545802</td>\n",
       "      <td>64.493718</td>\n",
       "      <td>155.638203</td>\n",
       "      <td>67.664501</td>\n",
       "    </tr>\n",
       "    <tr>\n",
       "      <th>August</th>\n",
       "      <td>0.00</td>\n",
       "      <td>128.361290</td>\n",
       "      <td>409.674698</td>\n",
       "      <td>43.115035</td>\n",
       "      <td>64.381721</td>\n",
       "      <td>174.957704</td>\n",
       "      <td>73.615651</td>\n",
       "    </tr>\n",
       "    <tr>\n",
       "      <th>December</th>\n",
       "      <td>0.00</td>\n",
       "      <td>163.910785</td>\n",
       "      <td>329.909486</td>\n",
       "      <td>52.585866</td>\n",
       "      <td>65.250556</td>\n",
       "      <td>150.542075</td>\n",
       "      <td>69.447090</td>\n",
       "    </tr>\n",
       "    <tr>\n",
       "      <th>February</th>\n",
       "      <td>569.85</td>\n",
       "      <td>414.342321</td>\n",
       "      <td>409.506475</td>\n",
       "      <td>42.883590</td>\n",
       "      <td>70.649881</td>\n",
       "      <td>192.027787</td>\n",
       "      <td>68.603333</td>\n",
       "    </tr>\n",
       "    <tr>\n",
       "      <th>January</th>\n",
       "      <td>0.00</td>\n",
       "      <td>143.972759</td>\n",
       "      <td>319.172000</td>\n",
       "      <td>34.938518</td>\n",
       "      <td>46.173637</td>\n",
       "      <td>111.980080</td>\n",
       "      <td>59.777776</td>\n",
       "    </tr>\n",
       "    <tr>\n",
       "      <th>July</th>\n",
       "      <td>1050.00</td>\n",
       "      <td>238.087385</td>\n",
       "      <td>360.422640</td>\n",
       "      <td>36.730588</td>\n",
       "      <td>54.495532</td>\n",
       "      <td>128.503173</td>\n",
       "      <td>60.927307</td>\n",
       "    </tr>\n",
       "    <tr>\n",
       "      <th>June</th>\n",
       "      <td>0.00</td>\n",
       "      <td>147.189077</td>\n",
       "      <td>417.273974</td>\n",
       "      <td>39.546408</td>\n",
       "      <td>72.976679</td>\n",
       "      <td>157.778673</td>\n",
       "      <td>73.268419</td>\n",
       "    </tr>\n",
       "    <tr>\n",
       "      <th>March</th>\n",
       "      <td>0.00</td>\n",
       "      <td>148.940137</td>\n",
       "      <td>312.941627</td>\n",
       "      <td>48.078274</td>\n",
       "      <td>70.724547</td>\n",
       "      <td>189.240127</td>\n",
       "      <td>70.365679</td>\n",
       "    </tr>\n",
       "    <tr>\n",
       "      <th>May</th>\n",
       "      <td>0.00</td>\n",
       "      <td>171.244747</td>\n",
       "      <td>396.872308</td>\n",
       "      <td>41.243205</td>\n",
       "      <td>71.163161</td>\n",
       "      <td>169.778020</td>\n",
       "      <td>71.890735</td>\n",
       "    </tr>\n",
       "    <tr>\n",
       "      <th>November</th>\n",
       "      <td>0.00</td>\n",
       "      <td>785.633284</td>\n",
       "      <td>351.520342</td>\n",
       "      <td>44.481224</td>\n",
       "      <td>78.819813</td>\n",
       "      <td>156.399531</td>\n",
       "      <td>65.517089</td>\n",
       "    </tr>\n",
       "    <tr>\n",
       "      <th>October</th>\n",
       "      <td>0.00</td>\n",
       "      <td>674.159109</td>\n",
       "      <td>353.850563</td>\n",
       "      <td>42.419492</td>\n",
       "      <td>71.128041</td>\n",
       "      <td>182.956230</td>\n",
       "      <td>69.424903</td>\n",
       "    </tr>\n",
       "    <tr>\n",
       "      <th>September</th>\n",
       "      <td>0.00</td>\n",
       "      <td>990.381781</td>\n",
       "      <td>360.036458</td>\n",
       "      <td>43.350819</td>\n",
       "      <td>69.358523</td>\n",
       "      <td>154.539279</td>\n",
       "      <td>75.727421</td>\n",
       "    </tr>\n",
       "  </tbody>\n",
       "</table>\n",
       "</div>"
      ],
      "text/plain": [
       "DEPTDESCR  Appliances  Cameras & Camcorder Accessori  Home Audio  \\\n",
       "month                                                              \n",
       "April         1170.00                     406.217755  335.556255   \n",
       "August           0.00                     128.361290  409.674698   \n",
       "December         0.00                     163.910785  329.909486   \n",
       "February       569.85                     414.342321  409.506475   \n",
       "January          0.00                     143.972759  319.172000   \n",
       "July          1050.00                     238.087385  360.422640   \n",
       "June             0.00                     147.189077  417.273974   \n",
       "March            0.00                     148.940137  312.941627   \n",
       "May              0.00                     171.244747  396.872308   \n",
       "November         0.00                     785.633284  351.520342   \n",
       "October          0.00                     674.159109  353.850563   \n",
       "September        0.00                     990.381781  360.036458   \n",
       "\n",
       "DEPTDESCR  Mobile Electronic Accessories  Mobile Electronics  \\\n",
       "month                                                          \n",
       "April                          42.545802           64.493718   \n",
       "August                         43.115035           64.381721   \n",
       "December                       52.585866           65.250556   \n",
       "February                       42.883590           70.649881   \n",
       "January                        34.938518           46.173637   \n",
       "July                           36.730588           54.495532   \n",
       "June                           39.546408           72.976679   \n",
       "March                          48.078274           70.724547   \n",
       "May                            41.243205           71.163161   \n",
       "November                       44.481224           78.819813   \n",
       "October                        42.419492           71.128041   \n",
       "September                      43.350819           69.358523   \n",
       "\n",
       "DEPTDESCR  Portable Electronics  Small Appliances  \n",
       "month                                              \n",
       "April                155.638203         67.664501  \n",
       "August               174.957704         73.615651  \n",
       "December             150.542075         69.447090  \n",
       "February             192.027787         68.603333  \n",
       "January              111.980080         59.777776  \n",
       "July                 128.503173         60.927307  \n",
       "June                 157.778673         73.268419  \n",
       "March                189.240127         70.365679  \n",
       "May                  169.778020         71.890735  \n",
       "November             156.399531         65.517089  \n",
       "October              182.956230         69.424903  \n",
       "September            154.539279         75.727421  "
      ]
     },
     "execution_count": 70,
     "metadata": {},
     "output_type": "execute_result"
    }
   ],
   "source": [
    "req5 = partb.fillna(0)\n",
    "req5"
   ]
  }
 ],
 "metadata": {
  "kernelspec": {
   "display_name": "base",
   "language": "python",
   "name": "python3"
  },
  "language_info": {
   "codemirror_mode": {
    "name": "ipython",
    "version": 3
   },
   "file_extension": ".py",
   "mimetype": "text/x-python",
   "name": "python",
   "nbconvert_exporter": "python",
   "pygments_lexer": "ipython3",
   "version": "3.9.13"
  },
  "vscode": {
   "interpreter": {
    "hash": "c988922956a37c878919d38cef178e7a9486793be5d341e6a2f55e77a02d25a7"
   }
  }
 },
 "nbformat": 4,
 "nbformat_minor": 1
}
