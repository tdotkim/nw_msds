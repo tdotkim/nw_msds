{
 "cells": [
  {
   "cell_type": "markdown",
   "metadata": {},
   "source": [
    "# Kim Assignment 3"
   ]
  },
  {
   "cell_type": "markdown",
   "metadata": {},
   "source": [
    "## Problem 1"
   ]
  },
  {
   "cell_type": "code",
   "execution_count": 4,
   "metadata": {},
   "outputs": [
    {
     "ename": "ValueError",
     "evalue": "Model objective (obj) contains nonlinear terms that cannot be written to LP format",
     "output_type": "error",
     "traceback": [
      "\u001b[1;31m---------------------------------------------------------------------------\u001b[0m",
      "\u001b[1;31mValueError\u001b[0m                                Traceback (most recent call last)",
      "\u001b[1;32m~\\AppData\\Local\\Temp\\ipykernel_26108\\3769570673.py\u001b[0m in \u001b[0;36m<module>\u001b[1;34m\u001b[0m\n\u001b[0;32m     18\u001b[0m \u001b[1;33m\u001b[0m\u001b[0m\n\u001b[0;32m     19\u001b[0m \u001b[0msolver\u001b[0m \u001b[1;33m=\u001b[0m \u001b[0mSolverFactory\u001b[0m\u001b[1;33m(\u001b[0m\u001b[1;34m'glpk'\u001b[0m\u001b[1;33m)\u001b[0m\u001b[1;33m\u001b[0m\u001b[1;33m\u001b[0m\u001b[0m\n\u001b[1;32m---> 20\u001b[1;33m \u001b[0msolver\u001b[0m\u001b[1;33m.\u001b[0m\u001b[0msolve\u001b[0m\u001b[1;33m(\u001b[0m\u001b[0mmodel\u001b[0m\u001b[1;33m,\u001b[0m \u001b[0mtee\u001b[0m\u001b[1;33m=\u001b[0m\u001b[1;32mTrue\u001b[0m\u001b[1;33m)\u001b[0m\u001b[1;33m\u001b[0m\u001b[1;33m\u001b[0m\u001b[0m\n\u001b[0m\u001b[0;32m     21\u001b[0m \u001b[1;33m\u001b[0m\u001b[0m\n\u001b[0;32m     22\u001b[0m \u001b[1;33m\u001b[0m\u001b[0m\n",
      "\u001b[1;32mc:\\Users\\TK\\Anaconda3\\lib\\site-packages\\pyomo\\opt\\base\\solvers.py\u001b[0m in \u001b[0;36msolve\u001b[1;34m(self, *args, **kwds)\u001b[0m\n\u001b[0;32m    595\u001b[0m             \u001b[0minitial_time\u001b[0m \u001b[1;33m=\u001b[0m \u001b[0mtime\u001b[0m\u001b[1;33m.\u001b[0m\u001b[0mtime\u001b[0m\u001b[1;33m(\u001b[0m\u001b[1;33m)\u001b[0m\u001b[1;33m\u001b[0m\u001b[1;33m\u001b[0m\u001b[0m\n\u001b[0;32m    596\u001b[0m \u001b[1;33m\u001b[0m\u001b[0m\n\u001b[1;32m--> 597\u001b[1;33m             \u001b[0mself\u001b[0m\u001b[1;33m.\u001b[0m\u001b[0m_presolve\u001b[0m\u001b[1;33m(\u001b[0m\u001b[1;33m*\u001b[0m\u001b[0margs\u001b[0m\u001b[1;33m,\u001b[0m \u001b[1;33m**\u001b[0m\u001b[0mkwds\u001b[0m\u001b[1;33m)\u001b[0m\u001b[1;33m\u001b[0m\u001b[1;33m\u001b[0m\u001b[0m\n\u001b[0m\u001b[0;32m    598\u001b[0m \u001b[1;33m\u001b[0m\u001b[0m\n\u001b[0;32m    599\u001b[0m             \u001b[0mpresolve_completion_time\u001b[0m \u001b[1;33m=\u001b[0m \u001b[0mtime\u001b[0m\u001b[1;33m.\u001b[0m\u001b[0mtime\u001b[0m\u001b[1;33m(\u001b[0m\u001b[1;33m)\u001b[0m\u001b[1;33m\u001b[0m\u001b[1;33m\u001b[0m\u001b[0m\n",
      "\u001b[1;32mc:\\Users\\TK\\Anaconda3\\lib\\site-packages\\pyomo\\opt\\solver\\shellcmd.py\u001b[0m in \u001b[0;36m_presolve\u001b[1;34m(self, *args, **kwds)\u001b[0m\n\u001b[0;32m    222\u001b[0m         \u001b[0mself\u001b[0m\u001b[1;33m.\u001b[0m\u001b[0m_define_signal_handlers\u001b[0m \u001b[1;33m=\u001b[0m \u001b[0mkwds\u001b[0m\u001b[1;33m.\u001b[0m\u001b[0mpop\u001b[0m\u001b[1;33m(\u001b[0m\u001b[1;34m'use_signal_handling'\u001b[0m\u001b[1;33m,\u001b[0m \u001b[1;32mNone\u001b[0m\u001b[1;33m)\u001b[0m\u001b[1;33m\u001b[0m\u001b[1;33m\u001b[0m\u001b[0m\n\u001b[0;32m    223\u001b[0m \u001b[1;33m\u001b[0m\u001b[0m\n\u001b[1;32m--> 224\u001b[1;33m         \u001b[0mOptSolver\u001b[0m\u001b[1;33m.\u001b[0m\u001b[0m_presolve\u001b[0m\u001b[1;33m(\u001b[0m\u001b[0mself\u001b[0m\u001b[1;33m,\u001b[0m \u001b[1;33m*\u001b[0m\u001b[0margs\u001b[0m\u001b[1;33m,\u001b[0m \u001b[1;33m**\u001b[0m\u001b[0mkwds\u001b[0m\u001b[1;33m)\u001b[0m\u001b[1;33m\u001b[0m\u001b[1;33m\u001b[0m\u001b[0m\n\u001b[0m\u001b[0;32m    225\u001b[0m \u001b[1;33m\u001b[0m\u001b[0m\n\u001b[0;32m    226\u001b[0m         \u001b[1;31m#\u001b[0m\u001b[1;33m\u001b[0m\u001b[1;33m\u001b[0m\u001b[0m\n",
      "\u001b[1;32mc:\\Users\\TK\\Anaconda3\\lib\\site-packages\\pyomo\\opt\\base\\solvers.py\u001b[0m in \u001b[0;36m_presolve\u001b[1;34m(self, *args, **kwds)\u001b[0m\n\u001b[0;32m    704\u001b[0m                 \u001b[0mself\u001b[0m\u001b[1;33m.\u001b[0m\u001b[0m_problem_format\u001b[0m\u001b[1;33m,\u001b[0m\u001b[1;33m\u001b[0m\u001b[1;33m\u001b[0m\u001b[0m\n\u001b[0;32m    705\u001b[0m                 \u001b[0mself\u001b[0m\u001b[1;33m.\u001b[0m\u001b[0m_smap_id\u001b[0m\u001b[1;33m,\u001b[0m\u001b[1;33m\u001b[0m\u001b[1;33m\u001b[0m\u001b[0m\n\u001b[1;32m--> 706\u001b[1;33m             \u001b[1;33m)\u001b[0m \u001b[1;33m=\u001b[0m \u001b[0mself\u001b[0m\u001b[1;33m.\u001b[0m\u001b[0m_convert_problem\u001b[0m\u001b[1;33m(\u001b[0m\u001b[1;33m\u001b[0m\u001b[1;33m\u001b[0m\u001b[0m\n\u001b[0m\u001b[0;32m    707\u001b[0m                 \u001b[0margs\u001b[0m\u001b[1;33m,\u001b[0m \u001b[0mself\u001b[0m\u001b[1;33m.\u001b[0m\u001b[0m_problem_format\u001b[0m\u001b[1;33m,\u001b[0m \u001b[0mself\u001b[0m\u001b[1;33m.\u001b[0m\u001b[0m_valid_problem_formats\u001b[0m\u001b[1;33m,\u001b[0m \u001b[1;33m**\u001b[0m\u001b[0mkwds\u001b[0m\u001b[1;33m\u001b[0m\u001b[1;33m\u001b[0m\u001b[0m\n\u001b[0;32m    708\u001b[0m             )\n",
      "\u001b[1;32mc:\\Users\\TK\\Anaconda3\\lib\\site-packages\\pyomo\\opt\\base\\solvers.py\u001b[0m in \u001b[0;36m_convert_problem\u001b[1;34m(self, args, problem_format, valid_problem_formats, **kwds)\u001b[0m\n\u001b[0;32m    755\u001b[0m \u001b[1;33m\u001b[0m\u001b[0m\n\u001b[0;32m    756\u001b[0m     \u001b[1;32mdef\u001b[0m \u001b[0m_convert_problem\u001b[0m\u001b[1;33m(\u001b[0m\u001b[0mself\u001b[0m\u001b[1;33m,\u001b[0m \u001b[0margs\u001b[0m\u001b[1;33m,\u001b[0m \u001b[0mproblem_format\u001b[0m\u001b[1;33m,\u001b[0m \u001b[0mvalid_problem_formats\u001b[0m\u001b[1;33m,\u001b[0m \u001b[1;33m**\u001b[0m\u001b[0mkwds\u001b[0m\u001b[1;33m)\u001b[0m\u001b[1;33m:\u001b[0m\u001b[1;33m\u001b[0m\u001b[1;33m\u001b[0m\u001b[0m\n\u001b[1;32m--> 757\u001b[1;33m         return convert_problem(\n\u001b[0m\u001b[0;32m    758\u001b[0m             \u001b[0margs\u001b[0m\u001b[1;33m,\u001b[0m \u001b[0mproblem_format\u001b[0m\u001b[1;33m,\u001b[0m \u001b[0mvalid_problem_formats\u001b[0m\u001b[1;33m,\u001b[0m \u001b[0mself\u001b[0m\u001b[1;33m.\u001b[0m\u001b[0mhas_capability\u001b[0m\u001b[1;33m,\u001b[0m \u001b[1;33m**\u001b[0m\u001b[0mkwds\u001b[0m\u001b[1;33m\u001b[0m\u001b[1;33m\u001b[0m\u001b[0m\n\u001b[0;32m    759\u001b[0m         )\n",
      "\u001b[1;32mc:\\Users\\TK\\Anaconda3\\lib\\site-packages\\pyomo\\opt\\base\\convert.py\u001b[0m in \u001b[0;36mconvert_problem\u001b[1;34m(args, target_problem_type, valid_problem_types, has_capability, **kwds)\u001b[0m\n\u001b[0;32m     97\u001b[0m                     \u001b[0mtmpkw\u001b[0m \u001b[1;33m=\u001b[0m \u001b[0mkwds\u001b[0m\u001b[1;33m\u001b[0m\u001b[1;33m\u001b[0m\u001b[0m\n\u001b[0;32m     98\u001b[0m                     \u001b[0mtmpkw\u001b[0m\u001b[1;33m[\u001b[0m\u001b[1;34m'capabilities'\u001b[0m\u001b[1;33m]\u001b[0m \u001b[1;33m=\u001b[0m \u001b[0mhas_capability\u001b[0m\u001b[1;33m\u001b[0m\u001b[1;33m\u001b[0m\u001b[0m\n\u001b[1;32m---> 99\u001b[1;33m                     \u001b[0mproblem_files\u001b[0m\u001b[1;33m,\u001b[0m \u001b[0msymbol_map\u001b[0m \u001b[1;33m=\u001b[0m \u001b[0mconverter\u001b[0m\u001b[1;33m.\u001b[0m\u001b[0mapply\u001b[0m\u001b[1;33m(\u001b[0m\u001b[1;33m*\u001b[0m\u001b[0mtmp\u001b[0m\u001b[1;33m,\u001b[0m \u001b[1;33m**\u001b[0m\u001b[0mtmpkw\u001b[0m\u001b[1;33m)\u001b[0m\u001b[1;33m\u001b[0m\u001b[1;33m\u001b[0m\u001b[0m\n\u001b[0m\u001b[0;32m    100\u001b[0m                     \u001b[1;32mreturn\u001b[0m \u001b[0mproblem_files\u001b[0m\u001b[1;33m,\u001b[0m \u001b[0mptype\u001b[0m\u001b[1;33m,\u001b[0m \u001b[0msymbol_map\u001b[0m\u001b[1;33m\u001b[0m\u001b[1;33m\u001b[0m\u001b[0m\n\u001b[0;32m    101\u001b[0m \u001b[1;33m\u001b[0m\u001b[0m\n",
      "\u001b[1;32mc:\\Users\\TK\\Anaconda3\\lib\\site-packages\\pyomo\\solvers\\plugins\\converter\\model.py\u001b[0m in \u001b[0;36mapply\u001b[1;34m(self, *args, **kwds)\u001b[0m\n\u001b[0;32m     76\u001b[0m                     )\n\u001b[0;32m     77\u001b[0m                 \u001b[1;32melse\u001b[0m\u001b[1;33m:\u001b[0m\u001b[1;33m\u001b[0m\u001b[1;33m\u001b[0m\u001b[0m\n\u001b[1;32m---> 78\u001b[1;33m                     (problem_filename, symbol_map_id) = instance.write(\n\u001b[0m\u001b[0;32m     79\u001b[0m                         \u001b[0mfilename\u001b[0m\u001b[1;33m=\u001b[0m\u001b[0mproblem_filename\u001b[0m\u001b[1;33m,\u001b[0m\u001b[1;33m\u001b[0m\u001b[1;33m\u001b[0m\u001b[0m\n\u001b[0;32m     80\u001b[0m                         \u001b[0mformat\u001b[0m\u001b[1;33m=\u001b[0m\u001b[0mProblemFormat\u001b[0m\u001b[1;33m.\u001b[0m\u001b[0mcpxlp\u001b[0m\u001b[1;33m,\u001b[0m\u001b[1;33m\u001b[0m\u001b[1;33m\u001b[0m\u001b[0m\n",
      "\u001b[1;32mc:\\Users\\TK\\Anaconda3\\lib\\site-packages\\pyomo\\core\\base\\block.py\u001b[0m in \u001b[0;36mwrite\u001b[1;34m(self, filename, format, solver_capability, io_options)\u001b[0m\n\u001b[0;32m   1981\u001b[0m                 \u001b[1;32mreturn\u001b[0m \u001b[1;32mTrue\u001b[0m\u001b[1;33m\u001b[0m\u001b[1;33m\u001b[0m\u001b[0m\n\u001b[0;32m   1982\u001b[0m \u001b[1;33m\u001b[0m\u001b[0m\n\u001b[1;32m-> 1983\u001b[1;33m         \u001b[1;33m(\u001b[0m\u001b[0mfilename\u001b[0m\u001b[1;33m,\u001b[0m \u001b[0msmap\u001b[0m\u001b[1;33m)\u001b[0m \u001b[1;33m=\u001b[0m \u001b[0mproblem_writer\u001b[0m\u001b[1;33m(\u001b[0m\u001b[0mself\u001b[0m\u001b[1;33m,\u001b[0m \u001b[0mfilename\u001b[0m\u001b[1;33m,\u001b[0m \u001b[0msolver_capability\u001b[0m\u001b[1;33m,\u001b[0m \u001b[0mio_options\u001b[0m\u001b[1;33m)\u001b[0m\u001b[1;33m\u001b[0m\u001b[1;33m\u001b[0m\u001b[0m\n\u001b[0m\u001b[0;32m   1984\u001b[0m         \u001b[0msmap_id\u001b[0m \u001b[1;33m=\u001b[0m \u001b[0mid\u001b[0m\u001b[1;33m(\u001b[0m\u001b[0msmap\u001b[0m\u001b[1;33m)\u001b[0m\u001b[1;33m\u001b[0m\u001b[1;33m\u001b[0m\u001b[0m\n\u001b[0;32m   1985\u001b[0m         \u001b[1;32mif\u001b[0m \u001b[1;32mnot\u001b[0m \u001b[0mhasattr\u001b[0m\u001b[1;33m(\u001b[0m\u001b[0mself\u001b[0m\u001b[1;33m,\u001b[0m \u001b[1;34m'solutions'\u001b[0m\u001b[1;33m)\u001b[0m\u001b[1;33m:\u001b[0m\u001b[1;33m\u001b[0m\u001b[1;33m\u001b[0m\u001b[0m\n",
      "\u001b[1;32mc:\\Users\\TK\\Anaconda3\\lib\\site-packages\\pyomo\\repn\\plugins\\lp_writer.py\u001b[0m in \u001b[0;36m__call__\u001b[1;34m(self, model, filename, solver_capability, io_options)\u001b[0m\n\u001b[0;32m    205\u001b[0m \u001b[1;33m\u001b[0m\u001b[0m\n\u001b[0;32m    206\u001b[0m         \u001b[1;32mwith\u001b[0m \u001b[0mopen\u001b[0m\u001b[1;33m(\u001b[0m\u001b[0mfilename\u001b[0m\u001b[1;33m,\u001b[0m \u001b[1;34m'w'\u001b[0m\u001b[1;33m,\u001b[0m \u001b[0mnewline\u001b[0m\u001b[1;33m=\u001b[0m\u001b[1;34m''\u001b[0m\u001b[1;33m)\u001b[0m \u001b[1;32mas\u001b[0m \u001b[0mFILE\u001b[0m\u001b[1;33m:\u001b[0m\u001b[1;33m\u001b[0m\u001b[1;33m\u001b[0m\u001b[0m\n\u001b[1;32m--> 207\u001b[1;33m             \u001b[0minfo\u001b[0m \u001b[1;33m=\u001b[0m \u001b[0mself\u001b[0m\u001b[1;33m.\u001b[0m\u001b[0mwrite\u001b[0m\u001b[1;33m(\u001b[0m\u001b[0mmodel\u001b[0m\u001b[1;33m,\u001b[0m \u001b[0mFILE\u001b[0m\u001b[1;33m,\u001b[0m \u001b[1;33m**\u001b[0m\u001b[0mio_options\u001b[0m\u001b[1;33m)\u001b[0m\u001b[1;33m\u001b[0m\u001b[1;33m\u001b[0m\u001b[0m\n\u001b[0m\u001b[0;32m    208\u001b[0m         \u001b[1;32mreturn\u001b[0m \u001b[0mfilename\u001b[0m\u001b[1;33m,\u001b[0m \u001b[0minfo\u001b[0m\u001b[1;33m.\u001b[0m\u001b[0msymbol_map\u001b[0m\u001b[1;33m\u001b[0m\u001b[1;33m\u001b[0m\u001b[0m\n\u001b[0;32m    209\u001b[0m \u001b[1;33m\u001b[0m\u001b[0m\n",
      "\u001b[1;32mc:\\Users\\TK\\Anaconda3\\lib\\site-packages\\pyomo\\repn\\plugins\\lp_writer.py\u001b[0m in \u001b[0;36mwrite\u001b[1;34m(self, model, ostream, **options)\u001b[0m\n\u001b[0;32m    238\u001b[0m         \u001b[1;31m# small objects.\u001b[0m\u001b[1;33m\u001b[0m\u001b[1;33m\u001b[0m\u001b[0m\n\u001b[0;32m    239\u001b[0m         \u001b[1;32mwith\u001b[0m \u001b[0mPauseGC\u001b[0m\u001b[1;33m(\u001b[0m\u001b[1;33m)\u001b[0m\u001b[1;33m:\u001b[0m\u001b[1;33m\u001b[0m\u001b[1;33m\u001b[0m\u001b[0m\n\u001b[1;32m--> 240\u001b[1;33m             \u001b[1;32mreturn\u001b[0m \u001b[0m_LPWriter_impl\u001b[0m\u001b[1;33m(\u001b[0m\u001b[0mostream\u001b[0m\u001b[1;33m,\u001b[0m \u001b[0mconfig\u001b[0m\u001b[1;33m)\u001b[0m\u001b[1;33m.\u001b[0m\u001b[0mwrite\u001b[0m\u001b[1;33m(\u001b[0m\u001b[0mmodel\u001b[0m\u001b[1;33m)\u001b[0m\u001b[1;33m\u001b[0m\u001b[1;33m\u001b[0m\u001b[0m\n\u001b[0m\u001b[0;32m    241\u001b[0m \u001b[1;33m\u001b[0m\u001b[0m\n\u001b[0;32m    242\u001b[0m \u001b[1;33m\u001b[0m\u001b[0m\n",
      "\u001b[1;32mc:\\Users\\TK\\Anaconda3\\lib\\site-packages\\pyomo\\repn\\plugins\\lp_writer.py\u001b[0m in \u001b[0;36mwrite\u001b[1;34m(self, model)\u001b[0m\n\u001b[0;32m    350\u001b[0m         \u001b[0mrepn\u001b[0m \u001b[1;33m=\u001b[0m \u001b[0mobjective_visitor\u001b[0m\u001b[1;33m.\u001b[0m\u001b[0mwalk_expression\u001b[0m\u001b[1;33m(\u001b[0m\u001b[0mobj\u001b[0m\u001b[1;33m.\u001b[0m\u001b[0mexpr\u001b[0m\u001b[1;33m)\u001b[0m\u001b[1;33m\u001b[0m\u001b[1;33m\u001b[0m\u001b[0m\n\u001b[0;32m    351\u001b[0m         \u001b[1;32mif\u001b[0m \u001b[0mrepn\u001b[0m\u001b[1;33m.\u001b[0m\u001b[0mnonlinear\u001b[0m \u001b[1;32mis\u001b[0m \u001b[1;32mnot\u001b[0m \u001b[1;32mNone\u001b[0m\u001b[1;33m:\u001b[0m\u001b[1;33m\u001b[0m\u001b[1;33m\u001b[0m\u001b[0m\n\u001b[1;32m--> 352\u001b[1;33m             raise ValueError(\n\u001b[0m\u001b[0;32m    353\u001b[0m                 \u001b[1;34mf\"Model objective ({obj.name}) contains nonlinear terms that \"\u001b[0m\u001b[1;33m\u001b[0m\u001b[1;33m\u001b[0m\u001b[0m\n\u001b[0;32m    354\u001b[0m                 \u001b[1;34m\"cannot be written to LP format\"\u001b[0m\u001b[1;33m\u001b[0m\u001b[1;33m\u001b[0m\u001b[0m\n",
      "\u001b[1;31mValueError\u001b[0m: Model objective (obj) contains nonlinear terms that cannot be written to LP format"
     ]
    }
   ],
   "source": [
    "from pyomo.environ import *\n",
    "\n",
    "model = ConcreteModel()\n",
    "\n",
    "model.x1 = Var()\n",
    "model.x2 = Var()\n",
    "\n",
    "def objfunc(m):\n",
    "    return (4*m.x1 + 2*m.x2 - 0.5*m.x1**2 - 0.25*m.x2**2)\n",
    "\n",
    "model.obj = Objective(rule=objfunc, sense=maximize)\n",
    "\n",
    "def constraint1(m):\n",
    "    return (model.x1*8000 + model.x2*5000 <= 40000)\n",
    "\n",
    "\n",
    "model.constraint1 = Constraint(rule=constraint1)\n",
    "\n",
    "solver = SolverFactory('glpk')\n",
    "solver.solve(model, tee=True)\n",
    "\n",
    "\n",
    "print('*** Solution *** :')\n",
    "print('x:', value(model.x))\n",
    "print('y:', value(model.y))"
   ]
  },
  {
   "cell_type": "code",
   "execution_count": 1,
   "metadata": {},
   "outputs": [],
   "source": [
    "from pulp import LpVariable, LpProblem, LpMaximize, LpStatus, value, LpMinimize, GUROBI_CMD"
   ]
  },
  {
   "cell_type": "code",
   "execution_count": 2,
   "metadata": {},
   "outputs": [
    {
     "name": "stdout",
     "output_type": "stream",
     "text": [
      "Status: Optimal\n",
      "Bedroom = 0.0\n",
      "Dining_Room = 1.0\n",
      "Gaming_Computer = 0.0\n",
      "Sofa = 1.0\n",
      "TV = 0.0\n",
      "Objective 79.0\n",
      "\n"
     ]
    },
    {
     "name": "stderr",
     "output_type": "stream",
     "text": [
      "c:\\Users\\TK\\Anaconda3\\lib\\site-packages\\pulp\\pulp.py:1352: UserWarning: Spaces are not permitted in the name. Converted to '_'\n",
      "  warnings.warn(\"Spaces are not permitted in the name. Converted to '_'\")\n"
     ]
    }
   ],
   "source": [
    "# variables\n",
    "b = LpVariable(\"Bedroom\", 0, 1, cat = 'Integer')\n",
    "d = LpVariable(\"Dining Room\", 0, 1, cat = 'Integer')\n",
    "g = LpVariable(\"Gaming Computer\", 0, 1, cat = 'Integer')\n",
    "s = LpVariable(\"Sofa\", 0, 1, cat = 'Integer')\n",
    "t = LpVariable(\"TV\", 0, 1, cat = 'Integer')\n",
    "\n",
    "# init\n",
    "prob = LpProblem(\"module 5\", LpMaximize)\n",
    "\n",
    "# obj\n",
    "prob += 60*b + 48*d + 14*g + 31*s + 10*t\n",
    "\n",
    "# constraints\n",
    "prob += 800*b + 600*d + 300*g + 400*s + 200*t <= 1100 # 1100 max volume\n",
    "\n",
    "prob.writeLP(\"module5.lp\")\n",
    "prob.solve(GUROBI_CMD())\n",
    "print (\"Status:\", LpStatus[prob.status])\n",
    "\n",
    "for v in prob.variables():\n",
    "    print(v.name, \"=\", v.varValue)\n",
    "\n",
    "print (\"Objective\", value(prob.objective))\n",
    "print (\"\")"
   ]
  },
  {
   "cell_type": "markdown",
   "metadata": {},
   "source": [
    "# Pure Gurobi"
   ]
  },
  {
   "cell_type": "code",
   "execution_count": 4,
   "metadata": {},
   "outputs": [],
   "source": [
    "import gurobipy as gb"
   ]
  },
  {
   "cell_type": "code",
   "execution_count": 8,
   "metadata": {},
   "outputs": [
    {
     "name": "stdout",
     "output_type": "stream",
     "text": [
      "Set parameter PoolSearchMode to value 2\n",
      "Gurobi Optimizer version 10.0.2 build v10.0.2rc0 (win64)\n",
      "\n",
      "CPU model: AMD Ryzen 9 3900X 12-Core Processor, instruction set [SSE2|AVX|AVX2]\n",
      "Thread count: 12 physical cores, 24 logical processors, using up to 24 threads\n",
      "\n",
      "Optimize a model with 1 rows, 5 columns and 5 nonzeros\n",
      "Model fingerprint: 0x3a5b852b\n",
      "Variable types: 0 continuous, 5 integer (5 binary)\n",
      "Coefficient statistics:\n",
      "  Matrix range     [2e+02, 8e+02]\n",
      "  Objective range  [1e+01, 6e+01]\n",
      "  Bounds range     [1e+00, 1e+00]\n",
      "  RHS range        [1e+03, 1e+03]\n",
      "Found heuristic solution: objective 74.0000000\n",
      "Presolve time: 0.00s\n",
      "Presolved: 1 rows, 5 columns, 5 nonzeros\n",
      "Variable types: 0 continuous, 5 integer (5 binary)\n",
      "\n",
      "Root relaxation: objective 7.900000e+01, 1 iterations, 0.00 seconds (0.00 work units)\n",
      "\n",
      "    Nodes    |    Current Node    |     Objective Bounds      |     Work\n",
      " Expl Unexpl |  Obj  Depth IntInf | Incumbent    BestBd   Gap | It/Node Time\n",
      "\n",
      "*    0     0               0      79.0000000   79.00000  0.00%     -    0s\n",
      "\n",
      "Optimal solution found at node 0 - now completing solution pool...\n",
      "\n",
      "    Nodes    |    Current Node    |      Pool Obj. Bounds     |     Work\n",
      "             |                    |   Worst                   |\n",
      " Expl Unexpl |  Obj  Depth IntInf | Incumbent    BestBd   Gap | It/Node Time\n",
      "\n",
      "     0     0          -    0               -   79.00000      -     -    0s\n",
      "     0     0          -    0               -   79.00000      -     -    0s\n",
      "     0     2          -    0               -   79.00000      -     -    0s\n",
      "\n",
      "Explored 29 nodes (8 simplex iterations) in 0.03 seconds (0.00 work units)\n",
      "Thread count was 24 (of 24 available processors)\n",
      "\n",
      "Solution count 10: 79 74 72 ... 45\n",
      "No other solutions better than 45\n",
      "\n",
      "Optimal solution found (tolerance 1.00e-04)\n",
      "Best objective 7.900000000000e+01, best bound 7.900000000000e+01, gap 0.0000%\n",
      "Bedroom: 0\n",
      "Dining_Room: 1\n",
      "Gaming_Computer: -0\n",
      "Sofa: 1\n",
      "TV: -0\n"
     ]
    }
   ],
   "source": [
    "# set lists\n",
    "\n",
    "volumes = [800, 600, 300, 400, 200]\n",
    "values = [60, 48, 14, 31, 10]\n",
    "names = ['Bedroom','Dining_Room','Gaming_Computer','Sofa','TV']\n",
    "max = 1100\n",
    "n = len(volumes)\n",
    "\n",
    "# init model\n",
    "mod5_model = gb.Model('Knapsack')\n",
    "\n",
    "\n",
    "# add decision variables\n",
    "x = mod5_model.addVars(n, vtype = gb.GRB.BINARY, name = names)\n",
    "\n",
    "# define the objective function\n",
    "# value * variable summed in a loop\n",
    "obj_func = sum(values[i] * x[i] for i in range(n))\n",
    "\n",
    "# assign the obj func\n",
    "mod5_model.setObjective(obj_func, gb.GRB.MAXIMIZE)\n",
    "\n",
    "# create & add the constraint\n",
    "# volume * variable summed in a loop\n",
    "mod5_model.addConstr(sum(volumes[i]*x[i] for i in range(n)) <= max) \n",
    "\n",
    "# solve\n",
    "mod5_model.setParam(gb.GRB.Param.PoolSearchMode, 2)\n",
    "mod5_model.optimize()\n",
    "nSolutions = mod5_model.SolCount\n",
    "\n",
    "\n",
    "# output\n",
    "for v in mod5_model.getVars():\n",
    "    print('%s: %g' % (v.varName, v.x))"
   ]
  },
  {
   "cell_type": "code",
   "execution_count": 35,
   "metadata": {},
   "outputs": [
    {
     "name": "stdout",
     "output_type": "stream",
     "text": [
      "Solution 0 - 79.0\n",
      "Bedroom: 0\n",
      "Dining_Room: 1\n",
      "Gaming_Computer: -0\n",
      "Sofa: 1\n",
      "TV: -0\n",
      "-------------\n",
      "Solution 1 - 74.0\n",
      "Bedroom: 1\n",
      "Dining_Room: -0\n",
      "Gaming_Computer: 1\n",
      "Sofa: -0\n",
      "TV: -0\n",
      "-------------\n",
      "Solution 2 - 72.0\n",
      "Bedroom: -0\n",
      "Dining_Room: 1\n",
      "Gaming_Computer: 1\n",
      "Sofa: -0\n",
      "TV: 1\n",
      "-------------\n",
      "Solution 3 - 70.0\n",
      "Bedroom: 1\n",
      "Dining_Room: -0\n",
      "Gaming_Computer: -0\n",
      "Sofa: -0\n",
      "TV: 1\n",
      "-------------\n",
      "Solution 4 - 62.0\n",
      "Bedroom: -0\n",
      "Dining_Room: 1\n",
      "Gaming_Computer: 1\n",
      "Sofa: -0\n",
      "TV: -0\n",
      "-------------\n",
      "Solution 5 - 60.0\n",
      "Bedroom: 1\n",
      "Dining_Room: -0\n",
      "Gaming_Computer: -0\n",
      "Sofa: -0\n",
      "TV: -0\n",
      "-------------\n",
      "Solution 6 - 58.0\n",
      "Bedroom: -0\n",
      "Dining_Room: 1\n",
      "Gaming_Computer: 0\n",
      "Sofa: 0\n",
      "TV: 1\n",
      "-------------\n",
      "Solution 7 - 55.0\n",
      "Bedroom: -0\n",
      "Dining_Room: -0\n",
      "Gaming_Computer: 1\n",
      "Sofa: 1\n",
      "TV: 1\n",
      "-------------\n",
      "Solution 8 - 48.0\n",
      "Bedroom: -0\n",
      "Dining_Room: 1\n",
      "Gaming_Computer: 0\n",
      "Sofa: 0\n",
      "TV: 0\n",
      "-------------\n",
      "Solution 9 - 45.0\n",
      "Bedroom: -0\n",
      "Dining_Room: -0\n",
      "Gaming_Computer: 1\n",
      "Sofa: 1\n",
      "TV: 0\n",
      "-------------\n"
     ]
    }
   ],
   "source": [
    "for sol in range(nSolutions):\n",
    "    \n",
    "    mod5_model.setParam(gb.GRB.Param.SolutionNumber, sol)\n",
    "    \n",
    "    alt_values = mod5_model.Xn\n",
    "    print(f'Solution {sol} - {mod5_model.PoolObjVal}')\n",
    "    #print(alt_values)\n",
    "    q = 0\n",
    "    for v in mod5_model.getVars():\n",
    "        print('%s: %g' % (v.varName, alt_values[q]))\n",
    "        q += 1\n",
    "    print('-------------')"
   ]
  }
 ],
 "metadata": {
  "kernelspec": {
   "display_name": "base",
   "language": "python",
   "name": "python3"
  },
  "language_info": {
   "codemirror_mode": {
    "name": "ipython",
    "version": 3
   },
   "file_extension": ".py",
   "mimetype": "text/x-python",
   "name": "python",
   "nbconvert_exporter": "python",
   "pygments_lexer": "ipython3",
   "version": "3.9.13"
  },
  "orig_nbformat": 4
 },
 "nbformat": 4,
 "nbformat_minor": 2
}
