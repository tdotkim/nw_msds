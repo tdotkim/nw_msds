{
 "cells": [
  {
   "attachments": {},
   "cell_type": "markdown",
   "metadata": {},
   "source": [
    "# Week 1 - LP\n",
    "I am setting up a healthcare clinic and need to determine FTE staffing requirements for the providers. I can take fractional FTEs. I will be choosing from primary care physicians (MDs) who average $150K, nurse practitioners (NPs) who average $110K, and physician assistants (PAs) who average $100K. \n",
    "\n",
    "I need at least 10 providers to meet demand. \n",
    "I need at least 1.5 NP for each PA.\n",
    "Physicians can only supervise 2 non-physicians (NPs and PAs). \n",
    "\n",
    "$ 150000*md + 110000*np + 100000*pa$\n",
    "\n",
    "$md + np + pa \\ge 10$\n",
    "\n",
    "$1.5*np \\ge pa$\n",
    "\n",
    "$ (np + pa)/2 \\le md$\n",
    "\n",
    "\n",
    "\n",
    "\n"
   ]
  },
  {
   "cell_type": "code",
   "execution_count": 3,
   "metadata": {},
   "outputs": [
    {
     "name": "stdout",
     "output_type": "stream",
     "text": [
      "Pulp Solutions for md, np, and pa\n",
      "md  = 3.33333\n",
      "np = 4.0\n",
      "pa = 2.66667\n",
      "cost = 1206666.5\n"
     ]
    }
   ],
   "source": [
    "from pulp import LpVariable, LpProblem, LpMaximize, LpStatus, value, LpMinimize\n",
    "\n",
    "# defines the problem\n",
    "prob = LpProblem(\"problem\", LpMinimize)\n",
    "\n",
    "# declare your variables\n",
    "md = LpVariable(\"md\", 0, None) # PCP\n",
    "np = LpVariable(\"np\", 0, None) # NP\n",
    "pa = LpVariable(\"pa\", 0, None) # PA\n",
    "\n",
    "# defines the objective function\n",
    "prob += 150000*md + 110000*np + 100000*pa\n",
    "\n",
    "# defines the constraints\n",
    "# need at least 10 providers\n",
    "prob += md + np + pa >= 10\n",
    "\n",
    "# need at least 1.5 nurse practitioners for each PA\n",
    "prob += np >= 1.5*pa\n",
    "\n",
    "# a md can supervise a maximum of 2 np+pa\n",
    "prob += (np + pa) <= 2* md\n",
    "\n",
    "# solve the problem\n",
    "status = prob.solve()\n",
    "LpStatus[status]\n",
    "# print the results\n",
    "print(\"Pulp Solutions for md, np, and pa\")\n",
    "print('md  =' , value(md))\n",
    "print('np =' , value(np))\n",
    "print('pa =' , value(pa))\n",
    "print('cost =', (150000*value(md))+(110000*value(np))+(100000*value(pa)))"
   ]
  },
  {
   "cell_type": "code",
   "execution_count": null,
   "metadata": {},
   "outputs": [],
   "source": [
    "rhs = [141, 191, 129]\n",
    "rhs = np.matrix(rhs)\n",
    "rhs = np.transpose(rhs)\n",
    "print('\\nRight Hand Side of Equation')\n",
    "print(rhs)\n",
    "\n",
    "A = [[43, 7, 35],\n",
    "     [0, 12, 73],\n",
    "     [3, 18, 27]]\n",
    "A = np.matrix(A)\n",
    "print('\\nMatrix A')\n",
    "print(A)\n",
    "IA = np.linalg.inv(A)\n",
    "\n",
    "result = np.dot(IA, rhs)\n",
    "result = np.rint(result)\n",
    "result"
   ]
  }
 ],
 "metadata": {
  "kernelspec": {
   "display_name": "base",
   "language": "python",
   "name": "python3"
  },
  "language_info": {
   "codemirror_mode": {
    "name": "ipython",
    "version": 3
   },
   "file_extension": ".py",
   "mimetype": "text/x-python",
   "name": "python",
   "nbconvert_exporter": "python",
   "pygments_lexer": "ipython3",
   "version": "3.9.13"
  },
  "orig_nbformat": 4
 },
 "nbformat": 4,
 "nbformat_minor": 2
}
