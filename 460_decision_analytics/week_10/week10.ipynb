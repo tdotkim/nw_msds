{
 "cells": [
  {
   "cell_type": "code",
   "execution_count": 6,
   "metadata": {},
   "outputs": [],
   "source": [
    "import numpy as np\n",
    "import pandas as np\n",
    "import random\n",
    "import math"
   ]
  },
  {
   "cell_type": "code",
   "execution_count": 74,
   "metadata": {},
   "outputs": [],
   "source": [
    "class mm1_bank:\n",
    "    def __init__(self, arrivals = 3, service_rate = 4, servers = 1):\n",
    "        self.arrivals_rate = arrivals\n",
    "        self.service_rate = service_rate\n",
    "        self.servers = servers\n",
    "        self.server_utilization = self.arrivals_rate/(self.service_rate * self.servers)\n",
    "\n",
    "        \n",
    "        \n",
    "        self.sum = 1\n",
    "        for i in range(1, self.servers):\n",
    "            self.sum += (pow((self.arrivals_rate/self.service_rate), i) / math.factorial(i))\n",
    "            #print((pow((self.arrivals_rate/self.service_rate), i) / math.factorial(i)))\n",
    "        self.sum += (1/math.factorial(self.servers)) * ((self.arrivals_rate/self.service_rate)**self.servers) * ((self.servers*self.service_rate)/((self.servers*self.service_rate)-self.arrivals_rate))\n",
    "\n",
    "        #print(self.sum)\n",
    "        self.probzero = 1 / self.sum\n",
    "        self.queue_size = (self.probzero*((self.arrivals_rate/self.service_rate)**self.servers)*self.server_utilization)/((math.factorial(servers))*(1-self.server_utilization)**2)\n",
    "        self.system_size = self.queue_size + self.arrivals_rate/self.service_rate\n",
    "        self.avg_wait = self.queue_size/self.arrivals_rate\n",
    "        self.system_time = self.avg_wait + (1/service_rate)\n",
    "\n",
    "\n",
    "\n",
    "\n"
   ]
  },
  {
   "cell_type": "code",
   "execution_count": null,
   "metadata": {},
   "outputs": [],
   "source": [
    "def P0(self):\n",
    "        sum = 1.0\n",
    "        for i in range(2, self.servers+1):\n",
    "            sum += (pow((self.arrivals_rate/self.service_rate), i) / math.factorial(i))\n",
    "        sum += (1/math.factorial(self.servers)) * ((self.arrivals_rate/self.service_rate)**self.servers) * ((self.servers*self.service_rate)/((self.servers*self.service_rate)-self.arrival_rate))\n",
    "        return 1 / self.serversum"
   ]
  },
  {
   "cell_type": "code",
   "execution_count": 2,
   "metadata": {},
   "outputs": [
    {
     "name": "stdout",
     "output_type": "stream",
     "text": [
      "1\n",
      "2\n"
     ]
    }
   ],
   "source": [
    "for i in range (1,3):\n",
    "    print(i)"
   ]
  },
  {
   "cell_type": "code",
   "execution_count": 76,
   "metadata": {},
   "outputs": [
    {
     "name": "stdout",
     "output_type": "stream",
     "text": [
      "Avg Server Util : 0.8333333333333334\n",
      "Avg queue size : 4.166666666666669\n",
      "Avg system size : 5.000000000000002\n",
      "Avg queue time : 0.8333333333333337\n",
      "Avg system time : 1.0000000000000004\n"
     ]
    }
   ],
   "source": [
    "test1 = mm1_bank(5,6,1)\n",
    "print(f'Avg Server Util : {test1.server_utilization}')\n",
    "print(f'Avg queue size : {test1.queue_size}')\n",
    "print(f'Avg system size : {test1.system_size}')\n",
    "print(f'Avg queue time : {test1.avg_wait}')\n",
    "print(f'Avg system time : {test1.system_time}')\n"
   ]
  },
  {
   "cell_type": "code",
   "execution_count": 75,
   "metadata": {},
   "outputs": [
    {
     "name": "stdout",
     "output_type": "stream",
     "text": [
      "Avg Server Util : 0.4166666666666667\n",
      "Avg queue size : 0.17507002801120458\n",
      "Avg system size : 1.008403361344538\n",
      "Avg queue time : 0.03501400560224092\n",
      "Avg system time : 0.20168067226890757\n"
     ]
    }
   ],
   "source": [
    "test2 = mm1_bank(5,6,2)\n",
    "print(f'Avg Server Util : {test2.server_utilization}')\n",
    "print(f'Avg queue size : {test2.queue_size}')\n",
    "print(f'Avg system size : {test2.system_size}')\n",
    "print(f'Avg queue time : {test2.avg_wait}')\n",
    "print(f'Avg system time : {test2.system_time}')"
   ]
  }
 ],
 "metadata": {
  "kernelspec": {
   "display_name": "base",
   "language": "python",
   "name": "python3"
  },
  "language_info": {
   "codemirror_mode": {
    "name": "ipython",
    "version": 3
   },
   "file_extension": ".py",
   "mimetype": "text/x-python",
   "name": "python",
   "nbconvert_exporter": "python",
   "pygments_lexer": "ipython3",
   "version": "3.9.13"
  },
  "orig_nbformat": 4
 },
 "nbformat": 4,
 "nbformat_minor": 2
}
