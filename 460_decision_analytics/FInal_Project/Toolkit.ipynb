{
 "cells": [
  {
   "cell_type": "markdown",
   "metadata": {},
   "source": [
    "## Production\n",
    "\n",
    "Product_Plant_Period"
   ]
  },
  {
   "cell_type": "markdown",
   "metadata": {},
   "source": [
    "### Shorthand"
   ]
  },
  {
   "cell_type": "code",
   "execution_count": 1,
   "metadata": {},
   "outputs": [
    {
     "name": "stdout",
     "output_type": "stream",
     "text": [
      "['W_A_1', 'W_A_2', 'W_A_3', 'W_A_4', 'W_A_5', 'W_B_1', 'W_B_2', 'W_B_3', 'W_B_4', 'W_B_5', 'G_A_1', 'G_A_2', 'G_A_3', 'G_A_4', 'G_A_5', 'G_B_1', 'G_B_2', 'G_B_3', 'G_B_4', 'G_B_5', 'F_A_1', 'F_A_2', 'F_A_3', 'F_A_4', 'F_A_5', 'F_B_1', 'F_B_2', 'F_B_3', 'F_B_4', 'F_B_5']\n",
      "Total Vars = 30\n",
      "\n",
      "Copyable Below\n",
      "W_A_1, W_A_2, W_A_3, W_A_4, W_A_5, W_B_1, W_B_2, W_B_3, W_B_4, W_B_5, G_A_1, G_A_2, G_A_3, G_A_4, G_A_5, G_B_1, G_B_2, G_B_3, G_B_4, G_B_5, F_A_1, F_A_2, F_A_3, F_A_4, F_A_5, F_B_1, F_B_2, F_B_3, F_B_4, F_B_5\n"
     ]
    }
   ],
   "source": [
    "tools = ['W','G','F']\n",
    "plants = ['A','B']\n",
    "period = [1,2,3,4,5]\n",
    "\n",
    "prod_short = []\n",
    "\n",
    "for i in tools:\n",
    "    for j in plants:\n",
    "        for k in period:\n",
    "            q = i + '_' + j + '_' + str(k)\n",
    "            prod_short.append(q)\n",
    "\n",
    "print(prod_short)\n",
    "print(f'Total Vars = {len(prod_short)}')\n",
    "print('\\nCopyable Below')\n",
    "print (*prod_short, sep =', ')"
   ]
  },
  {
   "cell_type": "markdown",
   "metadata": {},
   "source": [
    "### Long"
   ]
  },
  {
   "cell_type": "code",
   "execution_count": 2,
   "metadata": {},
   "outputs": [
    {
     "name": "stdout",
     "output_type": "stream",
     "text": [
      "['Widgets_Plant-A_1', 'Widgets_Plant-A_2', 'Widgets_Plant-A_3', 'Widgets_Plant-A_4', 'Widgets_Plant-A_5', 'Widgets_Plant-B_1', 'Widgets_Plant-B_2', 'Widgets_Plant-B_3', 'Widgets_Plant-B_4', 'Widgets_Plant-B_5', 'Gadgets_Plant-A_1', 'Gadgets_Plant-A_2', 'Gadgets_Plant-A_3', 'Gadgets_Plant-A_4', 'Gadgets_Plant-A_5', 'Gadgets_Plant-B_1', 'Gadgets_Plant-B_2', 'Gadgets_Plant-B_3', 'Gadgets_Plant-B_4', 'Gadgets_Plant-B_5', 'Flugels_Plant-A_1', 'Flugels_Plant-A_2', 'Flugels_Plant-A_3', 'Flugels_Plant-A_4', 'Flugels_Plant-A_5', 'Flugels_Plant-B_1', 'Flugels_Plant-B_2', 'Flugels_Plant-B_3', 'Flugels_Plant-B_4', 'Flugels_Plant-B_5']\n",
      "Total Vars = 30\n",
      "\n",
      "Copyable Below\n",
      "Widgets_Plant-A_1, Widgets_Plant-A_2, Widgets_Plant-A_3, Widgets_Plant-A_4, Widgets_Plant-A_5, Widgets_Plant-B_1, Widgets_Plant-B_2, Widgets_Plant-B_3, Widgets_Plant-B_4, Widgets_Plant-B_5, Gadgets_Plant-A_1, Gadgets_Plant-A_2, Gadgets_Plant-A_3, Gadgets_Plant-A_4, Gadgets_Plant-A_5, Gadgets_Plant-B_1, Gadgets_Plant-B_2, Gadgets_Plant-B_3, Gadgets_Plant-B_4, Gadgets_Plant-B_5, Flugels_Plant-A_1, Flugels_Plant-A_2, Flugels_Plant-A_3, Flugels_Plant-A_4, Flugels_Plant-A_5, Flugels_Plant-B_1, Flugels_Plant-B_2, Flugels_Plant-B_3, Flugels_Plant-B_4, Flugels_Plant-B_5\n"
     ]
    }
   ],
   "source": [
    "tools = ['Widgets','Gadgets','Flugels']\n",
    "plants = ['Plant-A','Plant-B']\n",
    "period = [1,2,3,4,5]\n",
    "\n",
    "prod_long = []\n",
    "\n",
    "for i in tools:\n",
    "    for j in plants:\n",
    "        for k in period:\n",
    "            q = i + '_' + j + '_'+ str(k)\n",
    "            prod_long.append(q)\n",
    "\n",
    "print(prod_long)\n",
    "print(f'Total Vars = {len(prod_long)}')\n",
    "print('\\nCopyable Below')\n",
    "print (*prod_long, sep =', ')"
   ]
  },
  {
   "cell_type": "markdown",
   "metadata": {},
   "source": [
    "## Raw Mats\n",
    "\n",
    "Material_Plant_Period"
   ]
  },
  {
   "cell_type": "markdown",
   "metadata": {},
   "source": [
    "### Short"
   ]
  },
  {
   "cell_type": "code",
   "execution_count": 3,
   "metadata": {},
   "outputs": [
    {
     "name": "stdout",
     "output_type": "stream",
     "text": [
      "['RM1_A_1', 'RM1_A_2', 'RM1_A_3', 'RM1_A_4', 'RM1_A_5', 'RM1_B_1', 'RM1_B_2', 'RM1_B_3', 'RM1_B_4', 'RM1_B_5', 'RM2_A_1', 'RM2_A_2', 'RM2_A_3', 'RM2_A_4', 'RM2_A_5', 'RM2_B_1', 'RM2_B_2', 'RM2_B_3', 'RM2_B_4', 'RM2_B_5']\n",
      "Total Vars = 20\n",
      "\n",
      "Copyable Below\n",
      "RM1_A_1, RM1_A_2, RM1_A_3, RM1_A_4, RM1_A_5, RM1_B_1, RM1_B_2, RM1_B_3, RM1_B_4, RM1_B_5, RM2_A_1, RM2_A_2, RM2_A_3, RM2_A_4, RM2_A_5, RM2_B_1, RM2_B_2, RM2_B_3, RM2_B_4, RM2_B_5\n"
     ]
    }
   ],
   "source": [
    "materials = ['RM1','RM2']\n",
    "plants = ['A','B']\n",
    "period = [1,2,3,4,5]\n",
    "\n",
    "raw_short = []\n",
    "\n",
    "for i in materials:\n",
    "    for j in plants:\n",
    "        for k in period:\n",
    "            q = i + '_' + j + '_'+ str(k)\n",
    "            raw_short.append(q)\n",
    "    \n",
    "print(raw_short)\n",
    "print(f'Total Vars = {len(raw_short)}')\n",
    "print('\\nCopyable Below')\n",
    "print (*raw_short, sep =', ')"
   ]
  },
  {
   "cell_type": "markdown",
   "metadata": {},
   "source": [
    "### Long"
   ]
  },
  {
   "cell_type": "code",
   "execution_count": 4,
   "metadata": {},
   "outputs": [
    {
     "name": "stdout",
     "output_type": "stream",
     "text": [
      "['Raw-Material-1_A_1', 'Raw-Material-1_A_2', 'Raw-Material-1_A_3', 'Raw-Material-1_A_4', 'Raw-Material-1_A_5', 'Raw-Material-1_B_1', 'Raw-Material-1_B_2', 'Raw-Material-1_B_3', 'Raw-Material-1_B_4', 'Raw-Material-1_B_5', 'Raw-Material-2_A_1', 'Raw-Material-2_A_2', 'Raw-Material-2_A_3', 'Raw-Material-2_A_4', 'Raw-Material-2_A_5', 'Raw-Material-2_B_1', 'Raw-Material-2_B_2', 'Raw-Material-2_B_3', 'Raw-Material-2_B_4', 'Raw-Material-2_B_5']\n",
      "Total Vars = 20\n",
      "\n",
      "Copyable Below\n",
      "Raw-Material-1_A_1, Raw-Material-1_A_2, Raw-Material-1_A_3, Raw-Material-1_A_4, Raw-Material-1_A_5, Raw-Material-1_B_1, Raw-Material-1_B_2, Raw-Material-1_B_3, Raw-Material-1_B_4, Raw-Material-1_B_5, Raw-Material-2_A_1, Raw-Material-2_A_2, Raw-Material-2_A_3, Raw-Material-2_A_4, Raw-Material-2_A_5, Raw-Material-2_B_1, Raw-Material-2_B_2, Raw-Material-2_B_3, Raw-Material-2_B_4, Raw-Material-2_B_5\n"
     ]
    }
   ],
   "source": [
    "materials = ['Raw-Material-1','Raw-Material-2']\n",
    "period = [1,2,3,4,5]\n",
    "\n",
    "raw_long = []\n",
    "\n",
    "for i in materials:\n",
    "    for j in plants:\n",
    "        for k in period:\n",
    "            q = i + '_' + j + '_'+ str(k)\n",
    "            raw_long.append(q)\n",
    "    \n",
    "print(raw_long)\n",
    "print(f'Total Vars = {len(raw_long)}')\n",
    "print('\\nCopyable Below')\n",
    "print (*raw_long, sep =', ')"
   ]
  },
  {
   "cell_type": "markdown",
   "metadata": {},
   "source": [
    "## Labor\n",
    "\n",
    "Plant_PayType_Period"
   ]
  },
  {
   "cell_type": "markdown",
   "metadata": {},
   "source": [
    "### Short"
   ]
  },
  {
   "cell_type": "code",
   "execution_count": 5,
   "metadata": {},
   "outputs": [
    {
     "name": "stdout",
     "output_type": "stream",
     "text": [
      "['A_R_1', 'A_R_2', 'A_R_3', 'A_R_4', 'A_R_5', 'A_O_1', 'A_O_2', 'A_O_3', 'A_O_4', 'A_O_5', 'B_R_1', 'B_R_2', 'B_R_3', 'B_R_4', 'B_R_5', 'B_O_1', 'B_O_2', 'B_O_3', 'B_O_4', 'B_O_5']\n",
      "Total Vars = 20\n",
      "\n",
      "Copyable Below\n",
      "A_R_1, A_R_2, A_R_3, A_R_4, A_R_5, A_O_1, A_O_2, A_O_3, A_O_4, A_O_5, B_R_1, B_R_2, B_R_3, B_R_4, B_R_5, B_O_1, B_O_2, B_O_3, B_O_4, B_O_5\n"
     ]
    }
   ],
   "source": [
    "plants = ['A','B']\n",
    "labor = ['R','O']\n",
    "period = [1,2,3,4,5]\n",
    "\n",
    "labor_short = []\n",
    "\n",
    "for i in plants:\n",
    "    for j in labor:\n",
    "        for k in period:\n",
    "            q = i + '_' + j + '_'+ str(k)\n",
    "            labor_short.append(q)\n",
    "    \n",
    "print(labor_short)\n",
    "print(f'Total Vars = {len(labor_short)}')\n",
    "print('\\nCopyable Below')\n",
    "print (*labor_short, sep =', ')"
   ]
  },
  {
   "cell_type": "markdown",
   "metadata": {},
   "source": [
    "### Long"
   ]
  },
  {
   "cell_type": "code",
   "execution_count": 6,
   "metadata": {},
   "outputs": [
    {
     "name": "stdout",
     "output_type": "stream",
     "text": [
      "['Plant-A_Regular_1', 'Plant-A_Regular_2', 'Plant-A_Regular_3', 'Plant-A_Regular_4', 'Plant-A_Regular_5', 'Plant-A_Overtime_1', 'Plant-A_Overtime_2', 'Plant-A_Overtime_3', 'Plant-A_Overtime_4', 'Plant-A_Overtime_5', 'Plant-B_Regular_1', 'Plant-B_Regular_2', 'Plant-B_Regular_3', 'Plant-B_Regular_4', 'Plant-B_Regular_5', 'Plant-B_Overtime_1', 'Plant-B_Overtime_2', 'Plant-B_Overtime_3', 'Plant-B_Overtime_4', 'Plant-B_Overtime_5']\n",
      "Total Vars = 20\n",
      "\n",
      "Copyable Below\n",
      "Plant-A_Regular_1, Plant-A_Regular_2, Plant-A_Regular_3, Plant-A_Regular_4, Plant-A_Regular_5, Plant-A_Overtime_1, Plant-A_Overtime_2, Plant-A_Overtime_3, Plant-A_Overtime_4, Plant-A_Overtime_5, Plant-B_Regular_1, Plant-B_Regular_2, Plant-B_Regular_3, Plant-B_Regular_4, Plant-B_Regular_5, Plant-B_Overtime_1, Plant-B_Overtime_2, Plant-B_Overtime_3, Plant-B_Overtime_4, Plant-B_Overtime_5\n"
     ]
    }
   ],
   "source": [
    "plants = ['Plant-A','Plant-B']\n",
    "labor = ['Regular','Overtime']\n",
    "period = [1,2,3,4,5]\n",
    "\n",
    "labor_long = []\n",
    "\n",
    "for i in plants:\n",
    "    for j in labor:\n",
    "        for k in period:\n",
    "            q = i + '_' + j + '_'+ str(k)\n",
    "            labor_long.append(q)\n",
    "    \n",
    "print(labor_long)\n",
    "print(f'Total Vars = {len(labor_long)}')\n",
    "print('\\nCopyable Below')\n",
    "print (*labor_long, sep =', ')"
   ]
  },
  {
   "cell_type": "markdown",
   "metadata": {},
   "source": [
    "## Marketing\n",
    "\n",
    "Marketing-Product_Period"
   ]
  },
  {
   "cell_type": "markdown",
   "metadata": {},
   "source": [
    "### Short"
   ]
  },
  {
   "cell_type": "code",
   "execution_count": 7,
   "metadata": {},
   "outputs": [
    {
     "name": "stdout",
     "output_type": "stream",
     "text": [
      "['M-W_1', 'M-W_2', 'M-W_3', 'M-W_4', 'M-G_1', 'M-G_2', 'M-G_3', 'M-G_4', 'M-F_1', 'M-F_2', 'M-F_3', 'M-F_4']\n",
      "Total Vars = 12\n",
      "\n",
      "Copyable Below\n",
      "M-W_1, M-W_2, M-W_3, M-W_4, M-G_1, M-G_2, M-G_3, M-G_4, M-F_1, M-F_2, M-F_3, M-F_4\n"
     ]
    }
   ],
   "source": [
    "marketing = ['M-W','M-G','M-F']\n",
    "#period = [1,2,3,4,5]\n",
    "period = [1,2,3,4]\n",
    "\n",
    "marketing_short = []\n",
    "\n",
    "for i in marketing:\n",
    "    for j in period:\n",
    "            q = i + '_' + str(j)\n",
    "            marketing_short.append(q)\n",
    "\n",
    "print(marketing_short)\n",
    "print(f'Total Vars = {len(marketing_short)}')\n",
    "print('\\nCopyable Below')\n",
    "print (*marketing_short, sep =', ')"
   ]
  },
  {
   "cell_type": "markdown",
   "metadata": {},
   "source": [
    "### Long"
   ]
  },
  {
   "cell_type": "code",
   "execution_count": 8,
   "metadata": {},
   "outputs": [
    {
     "name": "stdout",
     "output_type": "stream",
     "text": [
      "['Marketing-Widgets_1', 'Marketing-Widgets_2', 'Marketing-Widgets_3', 'Marketing-Widgets_4', 'Marketing-Gadgets_1', 'Marketing-Gadgets_2', 'Marketing-Gadgets_3', 'Marketing-Gadgets_4', 'Marketing-Flugels_1', 'Marketing-Flugels_2', 'Marketing-Flugels_3', 'Marketing-Flugels_4']\n",
      "Total Vars = 12\n",
      "\n",
      "Copyable Below\n",
      "Marketing-Widgets_1, Marketing-Widgets_2, Marketing-Widgets_3, Marketing-Widgets_4, Marketing-Gadgets_1, Marketing-Gadgets_2, Marketing-Gadgets_3, Marketing-Gadgets_4, Marketing-Flugels_1, Marketing-Flugels_2, Marketing-Flugels_3, Marketing-Flugels_4\n"
     ]
    }
   ],
   "source": [
    "marketing = ['Marketing-Widgets','Marketing-Gadgets','Marketing-Flugels']\n",
    "#period = [1,2,3,4,5]\n",
    "period = [1,2,3,4]\n",
    "\n",
    "marketing_long = []\n",
    "\n",
    "for i in marketing:\n",
    "    for j in period:\n",
    "            q = i + '_' + str(j)\n",
    "            marketing_long.append(q)\n",
    "\n",
    "print(marketing_long)\n",
    "print(f'Total Vars = {len(marketing_long)}')\n",
    "print('\\nCopyable Below')\n",
    "print (*marketing_long, sep =', ')"
   ]
  },
  {
   "cell_type": "markdown",
   "metadata": {},
   "source": [
    "## Inventory\n",
    "\n",
    "Product-Inventory_Plant_Period"
   ]
  },
  {
   "cell_type": "markdown",
   "metadata": {},
   "source": [
    "### Short"
   ]
  },
  {
   "cell_type": "code",
   "execution_count": 9,
   "metadata": {},
   "outputs": [
    {
     "name": "stdout",
     "output_type": "stream",
     "text": [
      "['W-Inventory_A_1', 'W-Inventory_A_2', 'W-Inventory_A_3', 'W-Inventory_A_4', 'W-Inventory_B_1', 'W-Inventory_B_2', 'W-Inventory_B_3', 'W-Inventory_B_4', 'G-Inventory_A_1', 'G-Inventory_A_2', 'G-Inventory_A_3', 'G-Inventory_A_4', 'G-Inventory_B_1', 'G-Inventory_B_2', 'G-Inventory_B_3', 'G-Inventory_B_4', 'F-Inventory_A_1', 'F-Inventory_A_2', 'F-Inventory_A_3', 'F-Inventory_A_4', 'F-Inventory_B_1', 'F-Inventory_B_2', 'F-Inventory_B_3', 'F-Inventory_B_4']\n",
      "Total Vars = 24\n",
      "\n",
      "Copyable Below\n",
      "W-Inventory_A_1, W-Inventory_A_2, W-Inventory_A_3, W-Inventory_A_4, W-Inventory_B_1, W-Inventory_B_2, W-Inventory_B_3, W-Inventory_B_4, G-Inventory_A_1, G-Inventory_A_2, G-Inventory_A_3, G-Inventory_A_4, G-Inventory_B_1, G-Inventory_B_2, G-Inventory_B_3, G-Inventory_B_4, F-Inventory_A_1, F-Inventory_A_2, F-Inventory_A_3, F-Inventory_A_4, F-Inventory_B_1, F-Inventory_B_2, F-Inventory_B_3, F-Inventory_B_4\n"
     ]
    }
   ],
   "source": [
    "product = ['W-Inventory','G-Inventory','F-Inventory']\n",
    "plants = ['A','B']\n",
    "#period = [1,2,3,4,5]\n",
    "period = [1,2,3,4]\n",
    "\n",
    "inventory_short = []\n",
    "\n",
    "for i in product:\n",
    "    for j in plants:\n",
    "        for k in period:\n",
    "            q = i + '_' + j + '_' + str(k)\n",
    "            inventory_short.append(q)\n",
    "\n",
    "print(inventory_short)\n",
    "print(f'Total Vars = {len(inventory_short)}')\n",
    "print('\\nCopyable Below')\n",
    "print (*inventory_short, sep =', ')"
   ]
  },
  {
   "cell_type": "markdown",
   "metadata": {},
   "source": [
    "### Long"
   ]
  },
  {
   "cell_type": "code",
   "execution_count": 10,
   "metadata": {},
   "outputs": [
    {
     "name": "stdout",
     "output_type": "stream",
     "text": [
      "['Widgets-Inventory_A_1', 'Widgets-Inventory_A_2', 'Widgets-Inventory_A_3', 'Widgets-Inventory_A_4', 'Widgets-Inventory_B_1', 'Widgets-Inventory_B_2', 'Widgets-Inventory_B_3', 'Widgets-Inventory_B_4', 'Gadgets-Inventory_A_1', 'Gadgets-Inventory_A_2', 'Gadgets-Inventory_A_3', 'Gadgets-Inventory_A_4', 'Gadgets-Inventory_B_1', 'Gadgets-Inventory_B_2', 'Gadgets-Inventory_B_3', 'Gadgets-Inventory_B_4', 'Flugels-Inventory_A_1', 'Flugels-Inventory_A_2', 'Flugels-Inventory_A_3', 'Flugels-Inventory_A_4', 'Flugels-Inventory_B_1', 'Flugels-Inventory_B_2', 'Flugels-Inventory_B_3', 'Flugels-Inventory_B_4']\n",
      "Total Vars = 24\n",
      "\n",
      "Copyable Below\n",
      "Widgets-Inventory_A_1, Widgets-Inventory_A_2, Widgets-Inventory_A_3, Widgets-Inventory_A_4, Widgets-Inventory_B_1, Widgets-Inventory_B_2, Widgets-Inventory_B_3, Widgets-Inventory_B_4, Gadgets-Inventory_A_1, Gadgets-Inventory_A_2, Gadgets-Inventory_A_3, Gadgets-Inventory_A_4, Gadgets-Inventory_B_1, Gadgets-Inventory_B_2, Gadgets-Inventory_B_3, Gadgets-Inventory_B_4, Flugels-Inventory_A_1, Flugels-Inventory_A_2, Flugels-Inventory_A_3, Flugels-Inventory_A_4, Flugels-Inventory_B_1, Flugels-Inventory_B_2, Flugels-Inventory_B_3, Flugels-Inventory_B_4\n"
     ]
    }
   ],
   "source": [
    "product = ['Widgets-Inventory','Gadgets-Inventory','Flugels-Inventory']\n",
    "plants = ['A','B']\n",
    "#period = [1,2,3,4,5]\n",
    "period = [1,2,3,4]\n",
    "\n",
    "inventory_long = []\n",
    "\n",
    "for i in product:\n",
    "    for j in plants:\n",
    "        for k in period:\n",
    "            q = i + '_' + j + '_' + str(k)\n",
    "            inventory_long.append(q)\n",
    "\n",
    "print(inventory_long)\n",
    "print(f'Total Vars = {len(inventory_long)}')\n",
    "print('\\nCopyable Below')\n",
    "print (*inventory_long, sep =', ')"
   ]
  },
  {
   "cell_type": "markdown",
   "metadata": {},
   "source": [
    "## Transportation\n",
    "\n",
    "Item_Plant_Period"
   ]
  },
  {
   "cell_type": "markdown",
   "metadata": {},
   "source": [
    "### Short"
   ]
  },
  {
   "cell_type": "code",
   "execution_count": 11,
   "metadata": {},
   "outputs": [
    {
     "name": "stdout",
     "output_type": "stream",
     "text": [
      "['WT_A_1', 'WT_A_2', 'WT_A_3', 'WT_A_4', 'WT_A_5', 'WT_B_1', 'WT_B_2', 'WT_B_3', 'WT_B_4', 'WT_B_5', 'GT_A_1', 'GT_A_2', 'GT_A_3', 'GT_A_4', 'GT_A_5', 'GT_B_1', 'GT_B_2', 'GT_B_3', 'GT_B_4', 'GT_B_5', 'FT_A_1', 'FT_A_2', 'FT_A_3', 'FT_A_4', 'FT_A_5', 'FT_B_1', 'FT_B_2', 'FT_B_3', 'FT_B_4', 'FT_B_5']\n",
      "Total Vars = 30\n",
      "\n",
      "Copyable Below\n",
      "WT_A_1, WT_A_2, WT_A_3, WT_A_4, WT_A_5, WT_B_1, WT_B_2, WT_B_3, WT_B_4, WT_B_5, GT_A_1, GT_A_2, GT_A_3, GT_A_4, GT_A_5, GT_B_1, GT_B_2, GT_B_3, GT_B_4, GT_B_5, FT_A_1, FT_A_2, FT_A_3, FT_A_4, FT_A_5, FT_B_1, FT_B_2, FT_B_3, FT_B_4, FT_B_5\n"
     ]
    }
   ],
   "source": [
    "product = ['WT','GT','FT']\n",
    "plants = ['A','B']\n",
    "period = [1,2,3,4,5]\n",
    "\n",
    "\n",
    "transpo_short = []\n",
    "\n",
    "for i in product:\n",
    "    for j in plants:\n",
    "        for k in period:\n",
    "            q = i + '_' + j + '_' + str(k)\n",
    "            transpo_short.append(q)\n",
    "\n",
    "print(transpo_short)\n",
    "print(f'Total Vars = {len(transpo_short)}')\n",
    "print('\\nCopyable Below')\n",
    "print (*transpo_short, sep =', ')"
   ]
  },
  {
   "cell_type": "markdown",
   "metadata": {},
   "source": [
    "### Long"
   ]
  },
  {
   "cell_type": "code",
   "execution_count": 12,
   "metadata": {},
   "outputs": [
    {
     "name": "stdout",
     "output_type": "stream",
     "text": [
      "['Widgets-Transportation_A_1', 'Widgets-Transportation_A_2', 'Widgets-Transportation_A_3', 'Widgets-Transportation_A_4', 'Widgets-Transportation_A_5', 'Widgets-Transportation_B_1', 'Widgets-Transportation_B_2', 'Widgets-Transportation_B_3', 'Widgets-Transportation_B_4', 'Widgets-Transportation_B_5', 'Gadgets-Transportation_A_1', 'Gadgets-Transportation_A_2', 'Gadgets-Transportation_A_3', 'Gadgets-Transportation_A_4', 'Gadgets-Transportation_A_5', 'Gadgets-Transportation_B_1', 'Gadgets-Transportation_B_2', 'Gadgets-Transportation_B_3', 'Gadgets-Transportation_B_4', 'Gadgets-Transportation_B_5', 'Flugels-Transportation_A_1', 'Flugels-Transportation_A_2', 'Flugels-Transportation_A_3', 'Flugels-Transportation_A_4', 'Flugels-Transportation_A_5', 'Flugels-Transportation_B_1', 'Flugels-Transportation_B_2', 'Flugels-Transportation_B_3', 'Flugels-Transportation_B_4', 'Flugels-Transportation_B_5']\n",
      "Total Vars = 30\n",
      "\n",
      "Copyable Below\n",
      "Widgets-Transportation_A_1, Widgets-Transportation_A_2, Widgets-Transportation_A_3, Widgets-Transportation_A_4, Widgets-Transportation_A_5, Widgets-Transportation_B_1, Widgets-Transportation_B_2, Widgets-Transportation_B_3, Widgets-Transportation_B_4, Widgets-Transportation_B_5, Gadgets-Transportation_A_1, Gadgets-Transportation_A_2, Gadgets-Transportation_A_3, Gadgets-Transportation_A_4, Gadgets-Transportation_A_5, Gadgets-Transportation_B_1, Gadgets-Transportation_B_2, Gadgets-Transportation_B_3, Gadgets-Transportation_B_4, Gadgets-Transportation_B_5, Flugels-Transportation_A_1, Flugels-Transportation_A_2, Flugels-Transportation_A_3, Flugels-Transportation_A_4, Flugels-Transportation_A_5, Flugels-Transportation_B_1, Flugels-Transportation_B_2, Flugels-Transportation_B_3, Flugels-Transportation_B_4, Flugels-Transportation_B_5\n"
     ]
    }
   ],
   "source": [
    "product = ['Widgets-Transportation','Gadgets-Transportation','Flugels-Transportation']\n",
    "plants = ['A','B']\n",
    "period = [1,2,3,4,5]\n",
    "\n",
    "transpo_long = []\n",
    "\n",
    "for i in product:\n",
    "    for j in plants:\n",
    "        for k in period:\n",
    "            q = i + '_' + j + '_' + str(k)\n",
    "            transpo_long.append(q)\n",
    "\n",
    "print(transpo_long)\n",
    "print(f'Total Vars = {len(transpo_long)}')\n",
    "print('\\nCopyable Below')\n",
    "print (*transpo_long, sep =', ')"
   ]
  },
  {
   "cell_type": "markdown",
   "metadata": {},
   "source": [
    "## Verification"
   ]
  },
  {
   "cell_type": "code",
   "execution_count": 13,
   "metadata": {},
   "outputs": [
    {
     "name": "stdout",
     "output_type": "stream",
     "text": [
      "136\n"
     ]
    }
   ],
   "source": [
    "shorts = [prod_short,raw_short,labor_short,marketing_short,inventory_short,transpo_short]\n",
    "\n",
    "holder = 0\n",
    "for short in shorts:\n",
    "    holder += len(short)\n",
    "\n",
    "print(holder)"
   ]
  },
  {
   "cell_type": "code",
   "execution_count": 14,
   "metadata": {},
   "outputs": [
    {
     "name": "stdout",
     "output_type": "stream",
     "text": [
      "136\n"
     ]
    }
   ],
   "source": [
    "longs = [prod_long,raw_long,labor_long,marketing_long,inventory_long,transpo_long]\n",
    "\n",
    "holder = 0\n",
    "for long in longs:\n",
    "    holder += len(long)\n",
    "\n",
    "print(holder)"
   ]
  }
 ],
 "metadata": {
  "kernelspec": {
   "display_name": "base",
   "language": "python",
   "name": "python3"
  },
  "language_info": {
   "codemirror_mode": {
    "name": "ipython",
    "version": 3
   },
   "file_extension": ".py",
   "mimetype": "text/x-python",
   "name": "python",
   "nbconvert_exporter": "python",
   "pygments_lexer": "ipython3",
   "version": "3.9.13"
  },
  "orig_nbformat": 4
 },
 "nbformat": 4,
 "nbformat_minor": 2
}
