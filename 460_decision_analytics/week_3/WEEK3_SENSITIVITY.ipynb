{
 "cells": [
  {
   "attachments": {},
   "cell_type": "markdown",
   "metadata": {},
   "source": [
    "# Week 2 - LP\n",
    "Electro-Poly is a leading maker of slip-rings. A $750,000 order has just been received and must be filled.  Constraints in filling the order are based on hours for wiring each unit and hours for harnessing each unit. \n",
    "\n",
    "||Model 1|Model 2|Model 3|\n",
    "|---|---|---|---|\n",
    "|Ordered|3000|2000|900|\n",
    "|Hours for Wiring / Unit|2|1.5|3|\n",
    "|Hours of Harnessing / Unit\t|1|2|1|\n",
    "|Cost to Make\t|50|\t83|\t130|\n",
    "|Cost to Buy\t|61\t|97\t|145|\n",
    "\n",
    "\n",
    "The company has 10,000 hours of wiring capacity and 5,000 hours of harnessing capacity. It must either make or buy the various models to meet the demand.  Formulate this LP and solve using R, Python, GAMS, or Excel.  Provide your complete code and share with your colleagues."
   ]
  },
  {
   "cell_type": "code",
   "execution_count": 17,
   "metadata": {},
   "outputs": [
    {
     "name": "stdout",
     "output_type": "stream",
     "text": [
      "m1b = 0.0\n",
      "m1m = 3000.0\n",
      "m2b = 1450.0\n",
      "m2m = 550.0\n",
      "m3b = 0.0\n",
      "m3m = 900.0\n",
      "Objective = $453300.0\n",
      "\n"
     ]
    }
   ],
   "source": [
    "from pulp import LpVariable, LpProblem, LpMaximize, LpStatus, value, LpMinimize\n",
    "\n",
    "# defines the problem\n",
    "prob = LpProblem(\"problem\", LpMinimize)\n",
    "\n",
    "# declare your variables\n",
    "br = LpVariable(\"br\", 0, None) # model 1 make\n",
    "ic = LpVariable(\"ic\", 0, None) # model 1 buy\n",
    "cola = LpVariable(\"cola\", 0, None) # model 2 make\n",
    "pc = LpVariable(\"pc\", 0, None) # model 2 buy\n",
    "\n",
    "# Objective function\n",
    "# assume we want to minimize cost. $750,000 - total cost = total profit so minimizing cost maximizes our profit\n",
    "prob += 50*br + \n",
    "\n",
    "# Constraints \n",
    "# need 3000 model 1\n",
    "prob += m1m + m1b == 3000\n",
    "\n",
    "# need 2000 model 2\n",
    "prob += m2m + m2b == 2000\n",
    "\n",
    "# need 900 model 3\n",
    "prob += m3m + m3b == 900\n",
    "\n",
    "# wiring constraint for making models\n",
    "prob += (m1m * 2) + (m2m * 1.5) + (m3m * 3) <= 10000\n",
    "\n",
    "# harnessing constraint for making models\n",
    "prob += (m1m * 1) + (m2m * 2) + (m3m * 1) <= 5000\n",
    "\n",
    "# solve the problem\n",
    "status = prob.solve()\n",
    "LpStatus[status]\n",
    "\n",
    "# print the results\n",
    "for variable in prob.variables():\n",
    "    print(f\"{variable.name} = {variable.varValue}\")\n",
    "    \n",
    "print(f\"Objective = ${value(prob.objective)}\")\n",
    "print(f\"\")"
   ]
  },
  {
   "cell_type": "code",
   "execution_count": null,
   "metadata": {},
   "outputs": [],
   "source": []
  }
 ],
 "metadata": {
  "kernelspec": {
   "display_name": "base",
   "language": "python",
   "name": "python3"
  },
  "language_info": {
   "codemirror_mode": {
    "name": "ipython",
    "version": 3
   },
   "file_extension": ".py",
   "mimetype": "text/x-python",
   "name": "python",
   "nbconvert_exporter": "python",
   "pygments_lexer": "ipython3",
   "version": "3.9.13"
  },
  "orig_nbformat": 4
 },
 "nbformat": 4,
 "nbformat_minor": 2
}
