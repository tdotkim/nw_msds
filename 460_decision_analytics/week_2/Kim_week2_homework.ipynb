{
 "cells": [
  {
   "attachments": {},
   "cell_type": "markdown",
   "metadata": {},
   "source": [
    "# Week 2 - Homework 1"
   ]
  },
  {
   "attachments": {},
   "cell_type": "markdown",
   "metadata": {},
   "source": [
    "## Question 1 - Minimizing Steel Mill Costs\n",
    "\n",
    "SteelCo should manufacture the following monthly:\n",
    "\n",
    "||Steel 1|Steel 2|Steel 3|\n",
    "|---|---|---|---|\n",
    "|Mill 1|400|250|0|\n",
    "|Mill 2|0|250|300|\n",
    "\n",
    "This meets their production quota of 400 for Steel 1, 500 for Steel 2, and 300 for Steel 3.\n",
    "\n",
    "The total cost for this will be $12,000.00.\n",
    "\n",
    "Runtimes for both Mills will be at 13,500 minutes."
   ]
  },
  {
   "cell_type": "code",
   "execution_count": 4,
   "metadata": {},
   "outputs": [
    {
     "name": "stdout",
     "output_type": "stream",
     "text": [
      "Mill_1_Steel_1 = 400.0\n",
      "Mill_1_Steel_2 = 250.0\n",
      "Mill_1_Steel_3 = 0.0\n",
      "Mill_2_Steel_1 = 0.0\n",
      "Mill_2_Steel_2 = 250.0\n",
      "Mill_2_Steel_3 = 300.0\n",
      "Objective = $12000.0\n",
      "total run time for mill 1 13500.0\n",
      "total run time for mill 2 13500.0\n"
     ]
    }
   ],
   "source": [
    "from pulp import LpVariable, LpProblem, LpMaximize, LpStatus, value, LpMinimize\n",
    "\n",
    "# defines the problem\n",
    "prob = LpProblem(\"problem\", LpMinimize)\n",
    "\n",
    "# declare your variables\n",
    "m1s1 = LpVariable(\"Mill 1 Steel 1\", 0, None) # Mill 1 Steel 1\n",
    "m1s2 = LpVariable(\"Mill 1 Steel 2\", 0, None) # Mill 1 Steel 2\n",
    "m1s3 = LpVariable(\"Mill 1 Steel 3\", 0, None) # Mill 1 Steel 3\n",
    "m2s1 = LpVariable(\"Mill 2 Steel 1\", 0, None) # Mill 2 Steel 1\n",
    "m2s2 = LpVariable(\"Mill 2 Steel 2\", 0, None) # Mill 2 Steel 2\n",
    "m2s3 = LpVariable(\"Mill 2 Steel 3\", 0, None) # Mill 2 Steel 3\n",
    "\n",
    "# Objective function\n",
    "# minimize cost of Steel 1,2,3 from Mills 1,2\n",
    "prob += 10*m1s1 + 11*m1s2 + 14*m1s3 + 12*m2s1 + 9*m2s2 + 10*m2s3 \n",
    "\n",
    "# Constraints \n",
    "# need at least 400 Steel 1\n",
    "prob += m1s1 + m2s1 >= 400\n",
    "\n",
    "# need at least 500 Steel 2\n",
    "prob += m1s2 + m2s2 >= 500\n",
    "\n",
    "# need at least 300 Steel 3\n",
    "prob += m1s3 + m2s3 >= 300\n",
    "\n",
    "# total amount of steel 2 must be lesser than or equal to Steel 1 + Steel 3\n",
    "prob += m1s2 + m2s2 <= m1s1 + m2s1 + m1s3 + m2s3\n",
    "\n",
    "# blast time constraint\n",
    "# mill 1 run time must be equal to mill 2 run time\n",
    "prob += 20*m1s1 + 22*m1s2 + 28*m1s3 == 24*m2s1 + 18*m2s2 + 30*m2s3\n",
    "\n",
    "\n",
    "# solve the problem\n",
    "status = prob.solve()\n",
    "LpStatus[status]\n",
    "\n",
    "# print the results\n",
    "for variable in prob.variables():\n",
    "    print(f\"{variable.name} = {variable.varValue}\")\n",
    "    \n",
    "print(f\"Objective = ${value(prob.objective)}\")\n",
    "\n",
    "#print total run time to check\n",
    "print(f'total run time for mill 1 {20 * value(m1s1) + 22 * value(m1s2) + 28 * value(m1s3)}')\n",
    "print(f'total run time for mill 2 {24 * value(m2s1) + 18 * value(m2s2) + 30 * value(m2s3)}')"
   ]
  },
  {
   "attachments": {},
   "cell_type": "markdown",
   "metadata": {},
   "source": [
    "## Question 2 "
   ]
  },
  {
   "attachments": {},
   "cell_type": "markdown",
   "metadata": {},
   "source": [
    "### Converting to Standard Form\n",
    "\n",
    "Original\n",
    "\n",
    "$\\text{Max Z} = -4x1 + 2x2$\n",
    "\n",
    "$ \\text{subject to} =   \\left\\{\n",
    "\\begin{array}{ll}\n",
    "      -2x_{1} + 2x_{2} \\le 7 \\\\\n",
    "      x_{1}\\ge 2 \\\\\n",
    "      x_{1} - 4x_{2} \\le 0  \\\\\n",
    "      2x_{1} + 2x_{2} \\ge 10  \\\\\n",
    "      x_{1},x_{2} \\ge 0 \\\\\n",
    "\\end{array} \n",
    "\\right.  $\n"
   ]
  },
  {
   "attachments": {},
   "cell_type": "markdown",
   "metadata": {},
   "source": [
    "We have 4 inequality constraints that are going to need slack variables. We'll call these $s_{1},s_{2},s_{3},s_{4}$"
   ]
  },
  {
   "attachments": {},
   "cell_type": "markdown",
   "metadata": {},
   "source": [
    "#### Step 1\n",
    "First up is: $-2x_{1} + 2x_{2} \\le 7$. We need to make this $=$ \n",
    "\n",
    "We'll add in the slack variables so we get $-2x_{1} + 2x_{2} + s_{1} + 0s_{2} + 0s_{3} + 0s_{4} = 7$\n",
    "\n",
    "We can clean this up to $-2x_{1} + 2x_{2} + s_{1} = 7$\n"
   ]
  },
  {
   "attachments": {},
   "cell_type": "markdown",
   "metadata": {},
   "source": [
    "#### Step 2\n",
    "*A tricky note here is that we subtract our helper variable because it's a surplus (how much is the left hand side greater than the right hand side)*\n",
    "\n",
    "Second up is: $x_{1} \\ge 2$. We need to make this $=$ \n",
    "\n",
    "We'll add in the slack variables so we get $x_{1} + 0s_{1} - s_{2} + 0s_{3} + 0s_{4} = 2$\n",
    "\n",
    "We can clean this up to $x_{1} - s_{2} = 2$"
   ]
  },
  {
   "attachments": {},
   "cell_type": "markdown",
   "metadata": {},
   "source": [
    "#### Step 3\n",
    "Second up is: $x_{1} - 4x_{2} \\le 0$. We need to make this $=$ \n",
    "\n",
    "We'll add in the slack variables so we get $x_{1} - 4x_{2} + 0s_{1} + 0s_{2} + s_{3} + 0s_{4} = 0$\n",
    "\n",
    "We can clean this up to $x_{1} - 4x_{2} + s_{3} = 0$"
   ]
  },
  {
   "attachments": {},
   "cell_type": "markdown",
   "metadata": {},
   "source": [
    "#### Step 4\n",
    "Third up is: $2x_{1} + 2x_{2} \\ge 10$. We need to make this $= $\n",
    "\n",
    "We'll add in the slack variables so we get $2x_{1} + 2x_{2} + 0s_{1} + 0s_{2} + 0s_{3} - s_{4} = 10$\n",
    "\n",
    "We can clean this up to $2x_{1} + 2x_{2} - s_{4} = 10$"
   ]
  },
  {
   "attachments": {},
   "cell_type": "markdown",
   "metadata": {},
   "source": [
    "#### Final Output\n",
    "\n",
    "$\\text{Max Z} = -4x1 + 2x2$\n",
    "\n",
    "$ \\text{subject to} =   \\left\\{\n",
    "\\begin{array}{ll}\n",
    "      -2x_{1} + 2x_{2} + s_{1} = 7 \\\\\n",
    "      x_{1} - s_{2} = 2 \\\\\n",
    "      x_{1} - 4x_{2} + s_{3} = 0 \\\\\n",
    "      2x_{1} + 2x_{2} - s_{4} = 10\\\\\n",
    "      x_{1},x_{2},s_{1},s_{2},s_{3},s_{4} \\ge 0\n",
    "\\end{array} \n",
    "\\right.  $"
   ]
  },
  {
   "attachments": {},
   "cell_type": "markdown",
   "metadata": {},
   "source": [
    "### Solving it graphically\n",
    "\n",
    "We can see the three vertices are (x1 = 2, x2 = 5.5), (x1 = 2, x2 = 3), (x1 = 4, x2 = 1)\n",
    "\n",
    "The optimal solution to maximize is (x1 = 2, x2 = 5.5) which returns 3 for the maximized function. (x1 = 2, x2 = 3) returns -2 and (x1 = 4, x2 = 1) returns -14"
   ]
  },
  {
   "cell_type": "code",
   "execution_count": 39,
   "metadata": {},
   "outputs": [
    {
     "data": {
      "text/plain": [
       "Text(2.5, 5.5, '(x1 = 2, x2 = 5.5) z = 3')"
      ]
     },
     "execution_count": 39,
     "metadata": {},
     "output_type": "execute_result"
    },
    {
     "data": {
      "image/png": "[encoded data removed]",
      "text/plain": [
       "<Figure size 640x480 with 1 Axes>"
      ]
     },
     "metadata": {},
     "output_type": "display_data"
    }
   ],
   "source": [
    "import matplotlib.pyplot as plt\n",
    "import numpy as np\n",
    "%matplotlib inline\n",
    "\n",
    "# set xrange\n",
    "x1 = np.linspace(0,15)\n",
    "\n",
    "#convert everything in terms of x1 as x\n",
    "\n",
    "c0 = 3.5 + x1\n",
    "c1 = 2\n",
    "c2 = .25*x1\n",
    "c3 = 5 - x1\n",
    "\n",
    "plt.xlim(0,15)\n",
    "plt.ylim(0,10)\n",
    "\n",
    "plt.xlabel('x1-axis')\n",
    "plt.ylabel('x2-axis')\n",
    "\n",
    "plt.plot(x1,c0,color='r')\n",
    "plt.axvline(x=2,color='g')\n",
    "plt.plot(x1,c2,color='b')\n",
    "plt.plot(x1,c3,color='y')\n",
    "plt.legend(['-2x1 + 2x2 <= 7', 'x1 >= 2','x1 -4x2 <= 0', '2x1+2x2 >= 10'])\n",
    "x= [ 2.0, 2.0, 6.5, 15, 15, 4.0, 2.0]\n",
    "y= [ 3.0, 5.5, 10.0, 10.0, 3.7, 1, 3.0]\n",
    "plt.fill_betweenx(y, x, max(x))\n",
    "\n",
    "plt.plot(2,5.5,'ro')\n",
    "\n",
    "plt.annotate('(x1 = 2, x2 = 5.5) z = 3',(2,5.5), xytext= (2.5,5.5))"
   ]
  },
  {
   "cell_type": "code",
   "execution_count": 31,
   "metadata": {},
   "outputs": [
    {
     "name": "stdout",
     "output_type": "stream",
     "text": [
      "x1 = 2.0\n",
      "x2 = 5.5\n",
      "Objective = 3.0\n"
     ]
    }
   ],
   "source": [
    "from pulp import LpVariable, LpProblem, LpMaximize, LpStatus, value, LpMinimize\n",
    "\n",
    "# defines the problem\n",
    "prob = LpProblem(\"problem\", LpMaximize)\n",
    "\n",
    "# declare your variables\n",
    "x1 = LpVariable(\"x1\", 0, None) \n",
    "x2 = LpVariable(\"x2\", 0, None) \n",
    "\n",
    "# Objective function\n",
    "prob += -4*x1 + 2*x2\n",
    "\n",
    "# Constraints \n",
    "prob += -2*x1 + 2*x2 <= 7\n",
    "prob += x1 >= 2\n",
    "prob += x1 - 4*x2 <= 0\n",
    "prob += 2*x1 + 2*x2 >= 10\n",
    "prob += x2 >= 0\n",
    "\n",
    "\n",
    "\n",
    "# solve the problem\n",
    "status = prob.solve()\n",
    "LpStatus[status]\n",
    "\n",
    "# print the results\n",
    "for variable in prob.variables():\n",
    "    print(f\"{variable.name} = {variable.varValue}\")\n",
    "    \n",
    "print(f\"Objective = {value(prob.objective)}\")\n"
   ]
  },
  {
   "attachments": {},
   "cell_type": "markdown",
   "metadata": {},
   "source": [
    "## Question 3"
   ]
  },
  {
   "attachments": {},
   "cell_type": "markdown",
   "metadata": {},
   "source": [
    "The optimal investment strategy for finco is the following. \n",
    "\n",
    "In month one they have $200 to invest. They should invest in month 1 the entirety of the $200 surplus into a 4 month investment to give the most return on the 5th month\n",
    "\n",
    "In month two they take the return + the leftover money and split it. 199.8 goes to a 1 month investment to cover the $200 deficit in month 3. 100.2 goes to a 3-month investment to mature at month 5\n",
    "\n",
    "In month three the invest nothing to since they're at net 0 dollars. \n",
    "\n",
    "Then in month four they do the same and invest all of their money into they take the return + the leftover money and invest all $50 into a 1 month investment\n",
    "\n",
    "This should return $369.26 for the start of month 5 when everything matures."
   ]
  },
  {
   "cell_type": "code",
   "execution_count": 29,
   "metadata": {},
   "outputs": [
    {
     "name": "stdout",
     "output_type": "stream",
     "text": [
      "Month_1_Investment_1_Month = 0.0\n",
      "Month_1_Investment_2_Months = 0.0\n",
      "Month_1_Investment_3_Months = 0.0\n",
      "Month_1_Investment_4_Months = 200.0\n",
      "Month_2_Investment_1_Month = 199.8\n",
      "Month_2_Investment_2_Months = 0.0\n",
      "Month_2_Investment_3_Months = 100.2\n",
      "Month_3_Investment_1_Month = 0.0\n",
      "Month_3_Investment_2_Months = 0.0\n",
      "Month_4_Investment_1_Month = 50.0\n",
      "Objective = $369.2558\n"
     ]
    }
   ],
   "source": [
    "from pulp import LpVariable, LpProblem, LpMaximize, LpStatus, value, LpMinimize\n",
    "\n",
    "# defines the problem\n",
    "# maximize investment for return on month 5\n",
    "prob = LpProblem(\"problem\", LpMaximize)\n",
    "\n",
    "# declare your variables\n",
    "# simplified due to month 4 - 4 month investment not being possible to have cash on hand at month 5 since 4+4 > 5\n",
    "m11 = LpVariable(\"Month 1 Investment 1 Month\", 0, None) \n",
    "m12 = LpVariable(\"Month 1 Investment 2 Months\", 0, None) \n",
    "m13 = LpVariable(\"Month 1 Investment 3 Months\", 0, None) \n",
    "m14 = LpVariable(\"Month 1 Investment 4 Months\", 0, None)\n",
    "m21 = LpVariable(\"Month 2 Investment 1 Month\", 0, None) \n",
    "m22 = LpVariable(\"Month 2 Investment 2 Months\", 0, None) \n",
    "m23 = LpVariable(\"Month 2 Investment 3 Months\", 0, None) \n",
    "m31 = LpVariable(\"Month 3 Investment 1 Month\", 0, None) \n",
    "m32 = LpVariable(\"Month 3 Investment 2 Months\", 0, None) \n",
    "m41 = LpVariable(\"Month 4 Investment 1 Month\", 0, None) \n",
    "\n",
    "\n",
    "\n",
    "# Objective function\n",
    "# all possible investment returns - the actual investment + (all rev - all costs)\n",
    "prob += 1.08*m14 + 1.03*m13 + 1.03*m23 + 1.01*m12 + 1.01*m22 + 1.01*m32 + 1.001*m11 + 1.001*m21 + 1.001*m31 + 1.001*m41 - (m11 + m12 + m13 + m14) - (m21 + m22 + m23) - (m31 + m32) - (m41) +350\n",
    "\n",
    "\n",
    "# Constraints \n",
    "# can invest at most 200 in month 1\n",
    "prob += m11 + m12 + m13 + m14 == 200 \n",
    "\n",
    "# can invest at most x in month 2\n",
    "# month 2 rev - bill = 300 + any return from m1 investment\n",
    "prob+= 800 + 1.001*m11 - 500 == (m21 + m22 + m23) \n",
    "\n",
    "# can invest at most x in month 3\n",
    "# month 3 rev - bill = -200 + any return from m12/m21 investment\n",
    "prob+= 300 + 1.01*m12 + 1.001*m21 - (m31+m32) >= 500\n",
    "\n",
    "# can invest at most x in month 4\n",
    "# month 4 rev - bill = 50 + any return from m13/m22/m31 investment\n",
    "prob+= 300 + 1.03*m13 + 1.01*m22 + 1.001*m31 - 250 >= (m41)\n",
    "\n",
    "\n",
    "\n",
    "\n",
    "# solve the problem\n",
    "status = prob.solve()\n",
    "LpStatus[status]\n",
    "\n",
    "# print the results\n",
    "for variable in prob.variables():\n",
    "    print(f\"{variable.name} = {variable.varValue}\")\n",
    "    \n",
    "print(f\"Objective = ${value(prob.objective)}\")\n",
    "\n"
   ]
  },
  {
   "attachments": {},
   "cell_type": "markdown",
   "metadata": {},
   "source": [
    "## Question 4"
   ]
  },
  {
   "cell_type": "code",
   "execution_count": 42,
   "metadata": {},
   "outputs": [
    {
     "data": {
      "text/plain": [
       "0.7"
      ]
     },
     "execution_count": 42,
     "metadata": {},
     "output_type": "execute_result"
    }
   ],
   "source": [
    "35/50"
   ]
  },
  {
   "cell_type": "code",
   "execution_count": 43,
   "metadata": {},
   "outputs": [
    {
     "data": {
      "text/plain": [
       "0.6"
      ]
     },
     "execution_count": 43,
     "metadata": {},
     "output_type": "execute_result"
    }
   ],
   "source": [
    "18/30"
   ]
  },
  {
   "attachments": {},
   "cell_type": "markdown",
   "metadata": {},
   "source": [
    "Dark_Meat___Cutlet_1 = 15.0\n",
    "Dark_Meat___Cutlet_2 = 12.0\n",
    "Turkey_1 = 8.66667\n",
    "Turkey_2 = 3.22222\n",
    "White_Meat___Cutlet_1 = 35.0\n",
    "White_Meat___Cutlet_2 = 18.0\n",
    "Objective = $177.55554\n",
    "\n",
    "TurkeyCo should buy 8.66667 Turkey type 1s and 3.22222 Turkey type 2s. \n",
    "\n",
    "We sell a total of 50 pounds of Cutlet 1 and 30 pounts of Cutlet 2 meaning we need a minimum of 80 pounds of meat to blend. \n",
    "\n",
    "We have $(8.66667*5) + (3.22222*3) = 53lbs$ total white meat. \n",
    "\n",
    "We have $(8.66667*2) + (3.22222*3) = 27lbs$ total dark meat.\n",
    "\n",
    "For formulating the cutlets Cutlet 1 we maintain a white/dark ratio of .7.\n",
    "\n",
    "For formulating the cutlets Cutlet 2 we maintain a white/dark ratio of .6. \n",
    "\n",
    "The total revenue comes to (50lbs * Cutlet 1) + (30lbs * Cutlet 2) = $290.\n",
    "\n",
    "The total cost is (9 turkey 1s * $10) + (3 turkey 2s * $8) = $112.44446\n",
    "\n",
    "Total profit is $290 - $112.44446 = $177.56"
   ]
  },
  {
   "cell_type": "code",
   "execution_count": 40,
   "metadata": {},
   "outputs": [
    {
     "name": "stdout",
     "output_type": "stream",
     "text": [
      "Dark_Meat___Cutlet_1 = 15.0\n",
      "Dark_Meat___Cutlet_2 = 12.0\n",
      "Turkey_1 = 8.66667\n",
      "Turkey_2 = 3.22222\n",
      "White_Meat___Cutlet_1 = 35.0\n",
      "White_Meat___Cutlet_2 = 18.0\n",
      "Objective = $177.55554\n"
     ]
    }
   ],
   "source": [
    "from pulp import LpVariable, LpProblem, LpMaximize, LpStatus, value, LpMinimize\n",
    "\n",
    "# defines the problem\n",
    "prob = LpProblem(\"problem\", LpMaximize)\n",
    "\n",
    "# declare your variables\n",
    "c1w = LpVariable(\"White Meat - Cutlet 1\", 0, None)\n",
    "c1d = LpVariable(\"Dark Meat - Cutlet 1\", 0, None)\n",
    "c2w = LpVariable(\"White Meat - Cutlet 2\", 0, None)\n",
    "c2d = LpVariable(\"Dark Meat - Cutlet 2\", 0, None)\n",
    "#t1 = LpVariable(\"Turkey 1\", 0, cat= 'Integer') #uncomment for integer\n",
    "#t2 = LpVariable(\"Turkey 2\", 0, cat= 'Integer') #uncomment for integer\n",
    "t1 = LpVariable(\"Turkey 1\", 0, None) #uncomment for integer\n",
    "t2 = LpVariable(\"Turkey 2\", 0, None) #uncomment for integer\n",
    "\n",
    "# Objective function\n",
    "# maximize profits for the cutlets against cost of turkeys\n",
    "prob += 4*(c1w + c1d) + 3*(c2w + c2d) - (10*t1 + 8*t2)\n",
    "\n",
    "# Constraints \n",
    "# can only sell 50lbs of Cutlet 1\n",
    "prob += c1w + c1d <= 50\n",
    "\n",
    "# can only sell 30lbs of Cutlet 2\n",
    "prob += c2w + c2d <= 30\n",
    "\n",
    "# white meat from Turkey 1 + 2 to meet white meat needs\n",
    "# turkey 1 gives 5 and turkey 2 gives 3\n",
    "prob += c1w + c2w <= 5*t1 + 3*t2\n",
    "\n",
    "# dark  meat from Turkey 1 + 2 to meet white meat needs\n",
    "# turkey 1 gives 2 and turkey 2 gives 3\n",
    "prob += c1d + c2d <= 2*t1 + 3*t2\n",
    "\n",
    "# cutlet 1 mix requirements\n",
    "# white meat >= 70%\n",
    "prob += c1w >= 0.7*(c1w + c1d)\n",
    "\n",
    "# cutlet 2 mix requirements\n",
    "# white meat >= 60%\n",
    "prob += c2w >= 0.6*(c2w + c2d)\n",
    "\n",
    "\n",
    "# solve the problem\n",
    "status = prob.solve()\n",
    "LpStatus[status]\n",
    "\n",
    "# print the results\n",
    "for variable in prob.variables():\n",
    "    print(f\"{variable.name} = {variable.varValue}\")\n",
    "    \n",
    "print(f\"Objective = ${value(prob.objective)}\")\n",
    "\n"
   ]
  },
  {
   "attachments": {},
   "cell_type": "markdown",
   "metadata": {},
   "source": [
    "## Question 5"
   ]
  },
  {
   "attachments": {},
   "cell_type": "markdown",
   "metadata": {},
   "source": [
    "For the company's year long production and storage solution.\n",
    "\n",
    "In Q1 they should produce 140 units. They'll store 10 units. \n",
    "\n",
    "In Q2 they should produce 200 units. They'll store 40 units. \n",
    "\n",
    "In Q3 they should produce 200 units and consume the 50 units in storage\n",
    "\n",
    "In Q4 they should product 150 units. \n",
    "\n",
    "This minizes storage and production costs to result in $11,490.00 of spend. \n",
    "\n",
    "Q1_Production = 140.0\n",
    "Q1_Stored = 10.0\n",
    "Q2_Production = 200.0\n",
    "Q2_Stored = 50.0\n",
    "Q3_Production = 200.0\n",
    "Q3_Stored = 0.0\n",
    "Q4_Production = 150.0\n",
    "Q4_Stored = 0.0\n",
    "Objective = $11490.0"
   ]
  },
  {
   "cell_type": "code",
   "execution_count": 46,
   "metadata": {},
   "outputs": [
    {
     "name": "stdout",
     "output_type": "stream",
     "text": [
      "Q1_Production = 140.0\n",
      "Q1_Stored = 10.0\n",
      "Q2_Production = 200.0\n",
      "Q2_Stored = 50.0\n",
      "Q3_Production = 200.0\n",
      "Q3_Stored = 0.0\n",
      "Q4_Production = 150.0\n",
      "Q4_Stored = 0.0\n",
      "Objective = $11490.0\n"
     ]
    }
   ],
   "source": [
    "from pulp import LpVariable, LpProblem, LpMaximize, LpStatus, value, LpMinimize\n",
    "\n",
    "# defines the problem\n",
    "prob = LpProblem(\"problem\", LpMinimize)\n",
    "\n",
    "# declare your variables\n",
    "q1p = LpVariable(\"Q1 Production\", 0, None)\n",
    "q2p = LpVariable(\"Q2 Production\", 0, None)\n",
    "q3p = LpVariable(\"Q3 Production\", 0, None)\n",
    "q4p = LpVariable(\"Q4 Production\", 0, None)\n",
    "q1s = LpVariable(\"Q1 Stored\", 0, None)\n",
    "q2s = LpVariable(\"Q2 Stored\", 0, None)\n",
    "q3s = LpVariable(\"Q3 Stored\", 0, None)\n",
    "q4s = LpVariable(\"Q4 Stored\", 0, None)\n",
    "\n",
    "\n",
    "\n",
    "# Objective function\n",
    "# quarterly production + quarterly storage\n",
    "prob += 15*q1p + 16*q2p + 17*q3p + 18*q4p + 1.5*q1s + 1.5*q2s + 1.5*q3s\n",
    "\n",
    "# Constraints \n",
    "# can only store 60 units total\n",
    "prob += q1s <= 60\n",
    "prob += q2s <= 60\n",
    "prob += q3s <= 60\n",
    "\n",
    "# storage = production plus storage minus quota\n",
    "prob += q1s == q1p - 130 \n",
    "prob += q2s == (q2p + q1s) - 160\n",
    "prob += q3s == (q3p + q2s) - 250\n",
    "prob += q4s == (q4p + q3s) - 150\n",
    "\n",
    "\n",
    "# can only make 200 units per quarter\n",
    "prob += q1p <= 200\n",
    "prob += q2p <= 200\n",
    "prob += q3p <= 200\n",
    "prob += q4p <= 200\n",
    "\n",
    "\n",
    "\n",
    "\n",
    "# solve the problem\n",
    "status = prob.solve()\n",
    "LpStatus[status]\n",
    "\n",
    "# print the results\n",
    "for variable in prob.variables():\n",
    "    print(f\"{variable.name} = {variable.varValue}\")\n",
    "    \n",
    "print(f\"Objective = ${value(prob.objective)}\")\n",
    "\n"
   ]
  }
 ],
 "metadata": {
  "kernelspec": {
   "display_name": "base",
   "language": "python",
   "name": "python3"
  },
  "language_info": {
   "codemirror_mode": {
    "name": "ipython",
    "version": 3
   },
   "file_extension": ".py",
   "mimetype": "text/x-python",
   "name": "python",
   "nbconvert_exporter": "python",
   "pygments_lexer": "ipython3",
   "version": "3.9.13"
  },
  "orig_nbformat": 4
 },
 "nbformat": 4,
 "nbformat_minor": 2
}
