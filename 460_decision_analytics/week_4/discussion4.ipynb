{
 "cells": [
  {
   "cell_type": "markdown",
   "metadata": {},
   "source": [
    "# Kim Week 4 - Assignment 2"
   ]
  },
  {
   "cell_type": "markdown",
   "metadata": {},
   "source": [
    "Total Cost of Transportation =  22350.0\n",
    "\n",
    "- Route_(1,_2) = 120.0\n",
    "- Route_(1,_4) = 80.0\n",
    "- Route_(2,_3) = 20.0\n",
    "- Route_(3,_5) = 0.0\n",
    "- Route_(5,_3) = 40.0\n",
    "- Route_(5,_4) = 0.0\n",
    "- Route_(5,_6) = 0.0\n",
    "- Route_(6,_5) = 0.0\n",
    "- Route_(7,_4) = 0.0\n",
    "- Route_(7,_5) = 210.0\n",
    "- Route_(7,_6) = 70.0\n",
    "\n",
    "\n",
    "From the sensitivity report (the dual problem):\n",
    "\n",
    "Total Cost of Transportation =  22350.0\n"
   ]
  },
  {
   "cell_type": "code",
   "execution_count": 4,
   "metadata": {},
   "outputs": [
    {
     "name": "stdout",
     "output_type": "stream",
     "text": [
      "Gurobi Optimizer version 10.0.2 build v10.0.2rc0 (win64)\n",
      "\n",
      "CPU model: AMD Ryzen 9 3900X 12-Core Processor, instruction set [SSE2|AVX|AVX2]\n",
      "Thread count: 12 physical cores, 24 logical processors, using up to 24 threads\n",
      "\n",
      "Optimize a model with 7 rows, 11 columns and 22 nonzeros\n",
      "Model fingerprint: 0xe9c20c25\n",
      "Coefficient statistics:\n",
      "  Matrix range     [1e+00, 1e+00]\n",
      "  Objective range  [3e+01, 5e+01]\n",
      "  Bounds range     [2e+02, 3e+02]\n",
      "  RHS range        [6e+01, 3e+02]\n",
      "Presolve removed 1 rows and 1 columns\n",
      "Presolve time: 0.00s\n",
      "Presolved: 6 rows, 10 columns, 20 nonzeros\n",
      "\n",
      "Iteration    Objective       Primal Inf.    Dual Inf.      Time\n",
      "       0    3.0000000e+03   4.750000e+01   0.000000e+00      0s\n",
      "       6    2.2350000e+04   0.000000e+00   0.000000e+00      0s\n",
      "\n",
      "Solved in 6 iterations and 0.01 seconds (0.00 work units)\n",
      "Optimal objective  2.235000000e+04\n",
      "Gurobi status= 2\n",
      "Total Cost of Transportation =  22350.0\n",
      "Route_(1,_2) = 120.0\n",
      "Route_(1,_4) = 80.0\n",
      "Route_(2,_3) = 20.0\n",
      "Route_(3,_5) = 0.0\n",
      "Route_(5,_3) = 40.0\n",
      "Route_(5,_4) = 0.0\n",
      "Route_(5,_6) = 0.0\n",
      "Route_(6,_5) = 0.0\n",
      "Route_(7,_4) = 0.0\n",
      "Route_(7,_5) = 210.0\n",
      "Route_(7,_6) = 70.0\n",
      "Status: Optimal\n"
     ]
    }
   ],
   "source": [
    "import pandas as pd\n",
    "from pulp import LpProblem, splitDict, LpVariable,LpContinuous,lpSum,GLPK,value, LpMinimize, GUROBI, LpStatus\n",
    "\n",
    "nodes = [1,2,3,4,5,6,7]\n",
    "\n",
    "node_data = {\n",
    "    1:[200,0],\n",
    "    2:[0,100],\n",
    "    3:[0,60],\n",
    "    4:[0,80],\n",
    "    5:[0,170],\n",
    "    6:[0,70],\n",
    "    7:[300,0],\n",
    "}\n",
    "\n",
    "# make sure you have 11 arcs\n",
    "arcs = {\n",
    "    (1,2), (1,4), \n",
    "    (2,3), \n",
    "    (3,5), \n",
    "    (5,3), (5,4), (5,6),\n",
    "    (6,5),\n",
    "    (7,4), (7,5), (7,6) \n",
    "}\n",
    "\n",
    "arc_data = {\n",
    "    (1,2): [30,0,200], \n",
    "    (1,4): [40,0,200], \n",
    "    (2,3): [50,0,200], \n",
    "    (3,5): [35,0,200], \n",
    "    (5,3): [40,0,200], \n",
    "    (5,4): [30,0,200], \n",
    "    (5,6): [35,0,200],\n",
    "    (6,5): [25,0,200],\n",
    "    (7,4): [50,0,300], \n",
    "    (7,5): [45,0,300], \n",
    "    (7,6): [50,0,300], \n",
    "}\n",
    "\n",
    "(supply, demand) = splitDict(node_data)\n",
    "(costs, mins, maxs) = splitDict(arc_data)\n",
    "\n",
    "vars = LpVariable.dicts(\"Route\",arcs,None,None,LpContinuous)\n",
    "\n",
    "for a in arcs:\n",
    "    vars[a].bounds(mins[a], maxs[a])\n",
    "\n",
    "\n",
    "prob = LpProblem(\"problem\",LpMinimize)\n",
    "\n",
    "prob += lpSum([vars[a]* costs[a] for a in arcs])\n",
    "\n",
    "for n in nodes:\n",
    "    prob += (supply[n]+ lpSum([vars[(i,j)] for (i,j) in arcs if j == n]) >=\n",
    "             demand[n]+ lpSum([vars[(i,j)] for (i,j) in arcs if i == n])), \\\n",
    "            \"Constraint %s\"%n\n",
    "    \n",
    "\n",
    "prob.writeLP(\"discussion4v2.lp\")\n",
    "\n",
    "prob.solve(GUROBI(mip=False))\n",
    "\n",
    "# un-comment for first run to get GLPK sen report\n",
    "#prob4.solve(GLPK(options=['--ranges discussion4v2.sen']))\n",
    "\n",
    "\n",
    "print(\"Total Cost of Transportation = \", value(prob.objective))\n",
    "\n",
    "for v in prob.variables():\n",
    "    print(v.name, \"=\", v.varValue)\n",
    "\n",
    "print (\"Status:\", LpStatus[prob.status])"
   ]
  },
  {
   "cell_type": "code",
   "execution_count": null,
   "metadata": {},
   "outputs": [
    {
     "name": "stdout",
     "output_type": "stream",
     "text": [
      "           name  value  shadow price  slack  lowerbound upperbound\n",
      "0  Constraint_1    0.0           5.0    0.0        -200       None\n",
      "1  Constraint_2    0.0          35.0    0.0         100       None\n",
      "2  Constraint_3    0.0          85.0    0.0          60       None\n",
      "3  Constraint_4    0.0          45.0    0.0          80       None\n",
      "4  Constraint_5    0.0          45.0    0.0         170       None\n",
      "5  Constraint_6    0.0          50.0    0.0          70       None\n",
      "6  Constraint_7   20.0           0.0  -20.0        -300       None\n"
     ]
    }
   ],
   "source": [
    "\n",
    "o = [{'name':name,'value':c.value(),'shadow price':c.pi,'slack': c.slack, 'lowerbound':c.getLb(), 'upperbound':c.getUb()} for name, c in prob.constraints.items()]\n",
    "\n",
    "print(pd.DataFrame(o))"
   ]
  }
 ],
 "metadata": {
  "kernelspec": {
   "display_name": "base",
   "language": "python",
   "name": "python3"
  },
  "language_info": {
   "codemirror_mode": {
    "name": "ipython",
    "version": 3
   },
   "file_extension": ".py",
   "mimetype": "text/x-python",
   "name": "python",
   "nbconvert_exporter": "python",
   "pygments_lexer": "ipython3",
   "version": "3.9.13"
  },
  "orig_nbformat": 4
 },
 "nbformat": 4,
 "nbformat_minor": 2
}
