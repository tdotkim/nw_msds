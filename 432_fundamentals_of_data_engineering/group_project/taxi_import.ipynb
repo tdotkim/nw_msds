{
 "cells": [
  {
   "cell_type": "code",
   "execution_count": 112,
   "metadata": {},
   "outputs": [],
   "source": [
    "#imports\n",
    "import requests\n",
    "import pandas as pd\n",
    "from datetime import datetime"
   ]
  },
  {
   "cell_type": "code",
   "execution_count": 3,
   "metadata": {},
   "outputs": [],
   "source": [
    "token = '85GaAh9i4LaVP9BRVhapXCPao'"
   ]
  },
  {
   "cell_type": "code",
   "execution_count": 118,
   "metadata": {},
   "outputs": [],
   "source": [
    "desti_folder = 'C:/Users/TK/Desktop/nw_msds/432_fundamentals_of_data_engineering/group_project/taxi_data/taxico_data/'"
   ]
  },
  {
   "cell_type": "code",
   "execution_count": 116,
   "metadata": {},
   "outputs": [
    {
     "data": {
      "text/plain": [
       "'2023-05-09-23-32-52'"
      ]
     },
     "execution_count": 116,
     "metadata": {},
     "output_type": "execute_result"
    }
   ],
   "source": [
    "timestamp = datetime.now()\n",
    "timestamp = timestamp.strftime(\"%Y-%m-%d-%H-%M-%S\")"
   ]
  },
  {
   "cell_type": "code",
   "execution_count": 119,
   "metadata": {},
   "outputs": [
    {
     "name": "stdout",
     "output_type": "stream",
     "text": [
      "0\n",
      "1\n",
      "2\n",
      "3\n"
     ]
    }
   ],
   "source": [
    "# some key info\n",
    "taxi_api = 'wrvz-psew'\n",
    "limit = 500000\n",
    "i = 0\n",
    "offset_counter = 0\n",
    "pickle = True\n",
    "\n",
    "# dict for logging\n",
    "log_dict = {}\n",
    "\n",
    "# base url for the request\n",
    "baseurl = (\"https://data.cityofchicago.org/resource/\"\n",
    "        f\"{taxi_api}.json?\")\n",
    "\n",
    "while pickle:\n",
    "    #set our params\n",
    "    params = (\n",
    "            f\"$where=trip_start_timestamp%20%3E%20%272020-12-31T23%3A59%3A59.000%27&\"\n",
    "            f\"$order=trip_start_timestamp&\"\n",
    "            f\"$limit={limit}&\"\n",
    "            f\"$offset={offset_counter}&\"\n",
    "            f\"$$app_token={token}\")\n",
    "    \n",
    "    # make the request \n",
    "    taxico_r = requests.get(baseurl+params)\n",
    "\n",
    "    # convert to json\n",
    "    taxico_data = taxico_r.json()\n",
    "\n",
    "    # make it a df\n",
    "    df = pd.json_normalize(taxico_data)\n",
    "\n",
    "    # write df\n",
    "    df.to_json(f'{desti_folder}taxico_chunk_{i}.json')\n",
    "    \n",
    "    # log\n",
    "    minilog = {}\n",
    "    minilog['records'] = df.shape[0]\n",
    "    minilog['chunk'] = i\n",
    "    minilog['status'] = taxico_r.status_code\n",
    "    minilog['offset'] = offset_counter\n",
    "    log_dict[f'run_{i}'] = minilog\n",
    "    log_df = pd.DataFrame.from_dict(log_dict,orient='index')\n",
    "    log_df.to_csv(f'C:/Users/TK/Desktop/nw_msds/432_fundamentals_of_data_engineering/group_project/taxi_data/taxico_data/taxico_run_{timestamp}_log.csv')\n",
    "\n",
    "    # increment the chunk count\n",
    "    print(i)\n",
    "    i += 1\n",
    "\n",
    "    # increment the offset\n",
    "    offset_counter += limit\n",
    "\n",
    "    # check if we need to end the loop\n",
    "    if taxico_r.status_code == 200:\n",
    "        pickle = True\n",
    "    else: \n",
    "        pickle = False\n",
    "        print(taxico_r.status_code)\n",
    "\n"
   ]
  }
 ],
 "metadata": {
  "kernelspec": {
   "display_name": "base",
   "language": "python",
   "name": "python3"
  },
  "language_info": {
   "codemirror_mode": {
    "name": "ipython",
    "version": 3
   },
   "file_extension": ".py",
   "mimetype": "text/x-python",
   "name": "python",
   "nbconvert_exporter": "python",
   "pygments_lexer": "ipython3",
   "version": "3.9.13"
  },
  "orig_nbformat": 4
 },
 "nbformat": 4,
 "nbformat_minor": 2
}
