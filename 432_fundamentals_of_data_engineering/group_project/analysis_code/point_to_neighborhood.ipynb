{
 "cells": [
  {
   "cell_type": "code",
   "execution_count": 1,
   "metadata": {},
   "outputs": [],
   "source": [
    "import pandas as pd\n",
    "import numpy as np\n",
    "from shapely.geometry  import shape, Point\n",
    "import json"
   ]
  },
  {
   "cell_type": "code",
   "execution_count": 2,
   "metadata": {},
   "outputs": [],
   "source": [
    "taxico_pickup = pd.read_csv('taxio_pickup.csv')\n",
    "taxico_dropoff = pd.read_csv('taxio_dropoff.csv')\n",
    "tnp_pickup = pd.read_csv('tnp_pickup.csv')\n",
    "tnp_dropoff = pd.read_csv('tnp_dropoff.csv')\n",
    "permits = pd.read_csv('permits_latlong.csv')"
   ]
  },
  {
   "cell_type": "code",
   "execution_count": 3,
   "metadata": {},
   "outputs": [],
   "source": [
    "with open('Boundaries - Neighborhoods.geojson') as f:\n",
    "    js = json.load(f)"
   ]
  },
  {
   "cell_type": "code",
   "execution_count": 5,
   "metadata": {},
   "outputs": [
    {
     "name": "stderr",
     "output_type": "stream",
     "text": [
      "C:\\Users\\TK\\AppData\\Local\\Temp\\ipykernel_4640\\4201710010.py:6: SettingWithCopyWarning: \n",
      "A value is trying to be set on a copy of a slice from a DataFrame\n",
      "\n",
      "See the caveats in the documentation: https://pandas.pydata.org/pandas-docs/stable/user_guide/indexing.html#returning-a-view-versus-a-copy\n",
      "  taxico_pickup['pickup_neighborhood'][row] = feature['properties']['pri_neigh']\n",
      "c:\\Users\\TK\\Anaconda3\\lib\\site-packages\\shapely\\predicates.py:540: RuntimeWarning: invalid value encountered in contains\n",
      "  return lib.contains(a, b, **kwargs)\n"
     ]
    }
   ],
   "source": [
    "taxico_pickup['pickup_neighborhood']=''\n",
    "for row in taxico_pickup.index:\n",
    "    point = Point(taxico_pickup['pickup_centroid_longitude'][row],taxico_pickup['pickup_centroid_latitude'][row])\n",
    "    for feature in js['features']:\n",
    "        polygon = shape(feature['geometry'])\n",
    "        if polygon.contains(point):\n",
    "            taxico_pickup['pickup_neighborhood'][row] = feature['properties']['pri_neigh']\n"
   ]
  },
  {
   "cell_type": "code",
   "execution_count": 6,
   "metadata": {},
   "outputs": [
    {
     "name": "stderr",
     "output_type": "stream",
     "text": [
      "c:\\Users\\TK\\Anaconda3\\lib\\site-packages\\shapely\\predicates.py:540: RuntimeWarning: invalid value encountered in contains\n",
      "  return lib.contains(a, b, **kwargs)\n",
      "C:\\Users\\TK\\AppData\\Local\\Temp\\ipykernel_4640\\1283349546.py:7: SettingWithCopyWarning: \n",
      "A value is trying to be set on a copy of a slice from a DataFrame\n",
      "\n",
      "See the caveats in the documentation: https://pandas.pydata.org/pandas-docs/stable/user_guide/indexing.html#returning-a-view-versus-a-copy\n",
      "  taxico_dropoff['dropoff_neighborhood'][row] = feature['properties']['pri_neigh']\n"
     ]
    }
   ],
   "source": [
    "taxico_dropoff['dropoff_neighborhood']=''\n",
    "for row in taxico_dropoff.index:\n",
    "    point = Point(taxico_dropoff['dropoff_centroid_longitude'][row],taxico_dropoff['dropoff_centroid_latitude'][row])\n",
    "    for feature in js['features']:\n",
    "        polygon = shape(feature['geometry'])\n",
    "        if polygon.contains(point):\n",
    "            taxico_dropoff['dropoff_neighborhood'][row] = feature['properties']['pri_neigh']\n"
   ]
  },
  {
   "cell_type": "code",
   "execution_count": 7,
   "metadata": {},
   "outputs": [
    {
     "name": "stderr",
     "output_type": "stream",
     "text": [
      "C:\\Users\\TK\\AppData\\Local\\Temp\\ipykernel_4640\\1176820410.py:7: SettingWithCopyWarning: \n",
      "A value is trying to be set on a copy of a slice from a DataFrame\n",
      "\n",
      "See the caveats in the documentation: https://pandas.pydata.org/pandas-docs/stable/user_guide/indexing.html#returning-a-view-versus-a-copy\n",
      "  tnp_pickup['pickup_neighborhood'][row] = feature['properties']['pri_neigh']\n",
      "c:\\Users\\TK\\Anaconda3\\lib\\site-packages\\shapely\\predicates.py:540: RuntimeWarning: invalid value encountered in contains\n",
      "  return lib.contains(a, b, **kwargs)\n"
     ]
    }
   ],
   "source": [
    "tnp_pickup['pickup_neighborhood']=''\n",
    "for row in tnp_pickup.index:\n",
    "    point = Point(tnp_pickup['pickup_centroid_longitude'][row],tnp_pickup['pickup_centroid_latitude'][row])\n",
    "    for feature in js['features']:\n",
    "        polygon = shape(feature['geometry'])\n",
    "        if polygon.contains(point):\n",
    "            tnp_pickup['pickup_neighborhood'][row] = feature['properties']['pri_neigh']\n"
   ]
  },
  {
   "cell_type": "code",
   "execution_count": 8,
   "metadata": {},
   "outputs": [
    {
     "name": "stderr",
     "output_type": "stream",
     "text": [
      "C:\\Users\\TK\\AppData\\Local\\Temp\\ipykernel_4640\\194034504.py:7: SettingWithCopyWarning: \n",
      "A value is trying to be set on a copy of a slice from a DataFrame\n",
      "\n",
      "See the caveats in the documentation: https://pandas.pydata.org/pandas-docs/stable/user_guide/indexing.html#returning-a-view-versus-a-copy\n",
      "  tnp_dropoff['dropoff_neighborhood'][row] = feature['properties']['pri_neigh']\n",
      "c:\\Users\\TK\\Anaconda3\\lib\\site-packages\\shapely\\predicates.py:540: RuntimeWarning: invalid value encountered in contains\n",
      "  return lib.contains(a, b, **kwargs)\n"
     ]
    }
   ],
   "source": [
    "tnp_dropoff['dropoff_neighborhood']=''\n",
    "for row in tnp_dropoff.index:\n",
    "    point = Point(tnp_dropoff['dropoff_centroid_longitude'][row],tnp_dropoff['dropoff_centroid_latitude'][row])\n",
    "    for feature in js['features']:\n",
    "        polygon = shape(feature['geometry'])\n",
    "        if polygon.contains(point):\n",
    "            tnp_dropoff['dropoff_neighborhood'][row] = feature['properties']['pri_neigh']\n"
   ]
  },
  {
   "cell_type": "code",
   "execution_count": 9,
   "metadata": {},
   "outputs": [],
   "source": [
    "taxico_pickup.to_csv('taxico_pickup_neighborhoods.csv',index=False)\n",
    "taxico_dropoff.to_csv('taxico_dropoff_neighborhoods.csv',index=False)\n",
    "tnp_pickup.to_csv('tnp_pickup_neighborhoods.csv',index=False)\n",
    "tnp_dropoff.to_csv('tnp_dropoff_neighborhoods.csv',index=False)\n",
    "permits.to_csv('permits_neighborhoods.csv',index=False)"
   ]
  }
 ],
 "metadata": {
  "kernelspec": {
   "display_name": "base",
   "language": "python",
   "name": "python3"
  },
  "language_info": {
   "codemirror_mode": {
    "name": "ipython",
    "version": 3
   },
   "file_extension": ".py",
   "mimetype": "text/x-python",
   "name": "python",
   "nbconvert_exporter": "python",
   "pygments_lexer": "ipython3",
   "version": "3.9.13"
  },
  "orig_nbformat": 4
 },
 "nbformat": 4,
 "nbformat_minor": 2
}
