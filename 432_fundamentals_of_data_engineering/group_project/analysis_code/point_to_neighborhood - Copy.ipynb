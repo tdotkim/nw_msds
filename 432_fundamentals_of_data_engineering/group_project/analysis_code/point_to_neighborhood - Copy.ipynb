{
 "cells": [
  {
   "cell_type": "code",
   "execution_count": 1,
   "metadata": {},
   "outputs": [],
   "source": [
    "import pandas as pd\n",
    "import numpy as np\n",
    "from shapely.geometry  import shape, Point\n",
    "import json"
   ]
  },
  {
   "cell_type": "code",
   "execution_count": 2,
   "metadata": {},
   "outputs": [],
   "source": [
    "taxico_pickup = pd.read_csv('taxio_pickup.csv')\n",
    "taxico_dropoff = pd.read_csv('taxio_dropoff.csv')\n",
    "tnp_pickup = pd.read_csv('tnp_pickup.csv')\n",
    "tnp_dropoff = pd.read_csv('tnp_dropoff.csv')\n",
    "permits = pd.read_csv('permits_latlong.csv')"
   ]
  },
  {
   "cell_type": "code",
   "execution_count": 3,
   "metadata": {},
   "outputs": [],
   "source": [
    "with open('Boundaries - Neighborhoods.geojson') as f:\n",
    "    js = json.load(f)"
   ]
  },
  {
   "cell_type": "code",
   "execution_count": 5,
   "metadata": {},
   "outputs": [
    {
     "name": "stderr",
     "output_type": "stream",
     "text": [
      "C:\\Users\\TK\\AppData\\Local\\Temp\\ipykernel_4640\\4201710010.py:6: SettingWithCopyWarning: \n",
      "A value is trying to be set on a copy of a slice from a DataFrame\n",
      "\n",
      "See the caveats in the documentation: https://pandas.pydata.org/pandas-docs/stable/user_guide/indexing.html#returning-a-view-versus-a-copy\n",
      "  taxico_pickup['pickup_neighborhood'][row] = feature['properties']['pri_neigh']\n",
      "c:\\Users\\TK\\Anaconda3\\lib\\site-packages\\shapely\\predicates.py:540: RuntimeWarning: invalid value encountered in contains\n",
      "  return lib.contains(a, b, **kwargs)\n"
     ]
    }
   ],
   "source": [
    "taxico_pickup['pickup_neighborhood']=''\n",
    "for row in taxico_pickup.index:\n",
    "    point = Point(taxico_pickup['pickup_centroid_longitude'][row],taxico_pickup['pickup_centroid_latitude'][row])\n",
    "    for feature in js['features']:\n",
    "        polygon = shape(feature['geometry'])\n",
    "        if polygon.contains(point):\n",
    "            taxico_pickup['pickup_neighborhood'][row] = feature['properties']['pri_neigh']\n"
   ]
  },
  {
   "cell_type": "code",
   "execution_count": 6,
   "metadata": {},
   "outputs": [
    {
     "name": "stderr",
     "output_type": "stream",
     "text": [
      "c:\\Users\\TK\\Anaconda3\\lib\\site-packages\\shapely\\predicates.py:540: RuntimeWarning: invalid value encountered in contains\n",
      "  return lib.contains(a, b, **kwargs)\n",
      "C:\\Users\\TK\\AppData\\Local\\Temp\\ipykernel_4640\\1283349546.py:7: SettingWithCopyWarning: \n",
      "A value is trying to be set on a copy of a slice from a DataFrame\n",
      "\n",
      "See the caveats in the documentation: https://pandas.pydata.org/pandas-docs/stable/user_guide/indexing.html#returning-a-view-versus-a-copy\n",
      "  taxico_dropoff['dropoff_neighborhood'][row] = feature['properties']['pri_neigh']\n"
     ]
    }
   ],
   "source": [
    "taxico_dropoff['dropoff_neighborhood']=''\n",
    "for row in taxico_dropoff.index:\n",
    "    point = Point(taxico_dropoff['dropoff_centroid_longitude'][row],taxico_dropoff['dropoff_centroid_latitude'][row])\n",
    "    for feature in js['features']:\n",
    "        polygon = shape(feature['geometry'])\n",
    "        if polygon.contains(point):\n",
    "            taxico_dropoff['dropoff_neighborhood'][row] = feature['properties']['pri_neigh']\n"
   ]
  },
  {
   "cell_type": "code",
   "execution_count": 7,
   "metadata": {},
   "outputs": [
    {
     "name": "stderr",
     "output_type": "stream",
     "text": [
      "C:\\Users\\TK\\AppData\\Local\\Temp\\ipykernel_4640\\1176820410.py:7: SettingWithCopyWarning: \n",
      "A value is trying to be set on a copy of a slice from a DataFrame\n",
      "\n",
      "See the caveats in the documentation: https://pandas.pydata.org/pandas-docs/stable/user_guide/indexing.html#returning-a-view-versus-a-copy\n",
      "  tnp_pickup['pickup_neighborhood'][row] = feature['properties']['pri_neigh']\n",
      "c:\\Users\\TK\\Anaconda3\\lib\\site-packages\\shapely\\predicates.py:540: RuntimeWarning: invalid value encountered in contains\n",
      "  return lib.contains(a, b, **kwargs)\n"
     ]
    }
   ],
   "source": [
    "tnp_pickup['pickup_neighborhood']=''\n",
    "for row in tnp_pickup.index:\n",
    "    point = Point(tnp_pickup['pickup_centroid_longitude'][row],tnp_pickup['pickup_centroid_latitude'][row])\n",
    "    for feature in js['features']:\n",
    "        polygon = shape(feature['geometry'])\n",
    "        if polygon.contains(point):\n",
    "            tnp_pickup['pickup_neighborhood'][row] = feature['properties']['pri_neigh']\n"
   ]
  },
  {
   "cell_type": "code",
   "execution_count": 8,
   "metadata": {},
   "outputs": [
    {
     "name": "stderr",
     "output_type": "stream",
     "text": [
      "C:\\Users\\TK\\AppData\\Local\\Temp\\ipykernel_4640\\194034504.py:7: SettingWithCopyWarning: \n",
      "A value is trying to be set on a copy of a slice from a DataFrame\n",
      "\n",
      "See the caveats in the documentation: https://pandas.pydata.org/pandas-docs/stable/user_guide/indexing.html#returning-a-view-versus-a-copy\n",
      "  tnp_dropoff['dropoff_neighborhood'][row] = feature['properties']['pri_neigh']\n",
      "c:\\Users\\TK\\Anaconda3\\lib\\site-packages\\shapely\\predicates.py:540: RuntimeWarning: invalid value encountered in contains\n",
      "  return lib.contains(a, b, **kwargs)\n"
     ]
    }
   ],
   "source": [
    "tnp_dropoff['dropoff_neighborhood']=''\n",
    "for row in tnp_dropoff.index:\n",
    "    point = Point(tnp_dropoff['dropoff_centroid_longitude'][row],tnp_dropoff['dropoff_centroid_latitude'][row])\n",
    "    for feature in js['features']:\n",
    "        polygon = shape(feature['geometry'])\n",
    "        if polygon.contains(point):\n",
    "            tnp_dropoff['dropoff_neighborhood'][row] = feature['properties']['pri_neigh']\n"
   ]
  },
  {
   "cell_type": "code",
   "execution_count": 9,
   "metadata": {},
   "outputs": [],
   "source": [
    "taxico_pickup.to_csv('taxico_pickup_neighborhoods.csv',index=False)\n",
    "taxico_dropoff.to_csv('taxico_dropoff_neighborhoods.csv',index=False)\n",
    "tnp_pickup.to_csv('tnp_pickup_neighborhoods.csv',index=False)\n",
    "tnp_dropoff.to_csv('tnp_dropoff_neighborhoods.csv',index=False)\n",
    "permits.to_csv('permits_neighborhoods.csv',index=False)"
   ]
  },
  {
   "cell_type": "code",
   "execution_count": 4,
   "metadata": {},
   "outputs": [
    {
     "name": "stderr",
     "output_type": "stream",
     "text": [
      "C:\\Users\\TK\\AppData\\Local\\Temp\\ipykernel_5476\\3840027647.py:7: SettingWithCopyWarning: \n",
      "A value is trying to be set on a copy of a slice from a DataFrame\n",
      "\n",
      "See the caveats in the documentation: https://pandas.pydata.org/pandas-docs/stable/user_guide/indexing.html#returning-a-view-versus-a-copy\n",
      "  permits['permits_neighborhood'][row] = feature['properties']['pri_neigh']\n"
     ]
    }
   ],
   "source": [
    "permits['permits_neighborhood']=''\n",
    "for row in permits.index:\n",
    "    point = Point(permits['LONGITUDE'][row],permits['LATITUDE'][row])\n",
    "    for feature in js['features']:\n",
    "        polygon = shape(feature['geometry'])\n",
    "        if polygon.contains(point):\n",
    "            permits['permits_neighborhood'][row] = feature['properties']['pri_neigh']\n",
    "    break"
   ]
  },
  {
   "cell_type": "code",
   "execution_count": 5,
   "metadata": {},
   "outputs": [
    {
     "data": {
      "text/html": [
       "<div>\n",
       "<style scoped>\n",
       "    .dataframe tbody tr th:only-of-type {\n",
       "        vertical-align: middle;\n",
       "    }\n",
       "\n",
       "    .dataframe tbody tr th {\n",
       "        vertical-align: top;\n",
       "    }\n",
       "\n",
       "    .dataframe thead th {\n",
       "        text-align: right;\n",
       "    }\n",
       "</style>\n",
       "<table border=\"1\" class=\"dataframe\">\n",
       "  <thead>\n",
       "    <tr style=\"text-align: right;\">\n",
       "      <th></th>\n",
       "      <th>LONGITUDE</th>\n",
       "      <th>LATITUDE</th>\n",
       "      <th>permits_neighborhood</th>\n",
       "    </tr>\n",
       "  </thead>\n",
       "  <tbody>\n",
       "    <tr>\n",
       "      <th>0</th>\n",
       "      <td>-87.604109</td>\n",
       "      <td>41.705742</td>\n",
       "      <td>Pullman</td>\n",
       "    </tr>\n",
       "    <tr>\n",
       "      <th>1</th>\n",
       "      <td>-87.643397</td>\n",
       "      <td>41.904663</td>\n",
       "      <td></td>\n",
       "    </tr>\n",
       "    <tr>\n",
       "      <th>2</th>\n",
       "      <td>-87.626338</td>\n",
       "      <td>41.897974</td>\n",
       "      <td></td>\n",
       "    </tr>\n",
       "    <tr>\n",
       "      <th>3</th>\n",
       "      <td>-87.668819</td>\n",
       "      <td>41.950903</td>\n",
       "      <td></td>\n",
       "    </tr>\n",
       "    <tr>\n",
       "      <th>4</th>\n",
       "      <td>-87.656903</td>\n",
       "      <td>41.985613</td>\n",
       "      <td></td>\n",
       "    </tr>\n",
       "    <tr>\n",
       "      <th>...</th>\n",
       "      <td>...</td>\n",
       "      <td>...</td>\n",
       "      <td>...</td>\n",
       "    </tr>\n",
       "    <tr>\n",
       "      <th>247929</th>\n",
       "      <td>-87.552164</td>\n",
       "      <td>41.712105</td>\n",
       "      <td></td>\n",
       "    </tr>\n",
       "    <tr>\n",
       "      <th>247930</th>\n",
       "      <td>-87.552898</td>\n",
       "      <td>41.708100</td>\n",
       "      <td></td>\n",
       "    </tr>\n",
       "    <tr>\n",
       "      <th>247931</th>\n",
       "      <td>-87.535430</td>\n",
       "      <td>41.701406</td>\n",
       "      <td></td>\n",
       "    </tr>\n",
       "    <tr>\n",
       "      <th>247932</th>\n",
       "      <td>-87.530304</td>\n",
       "      <td>41.700579</td>\n",
       "      <td></td>\n",
       "    </tr>\n",
       "    <tr>\n",
       "      <th>247933</th>\n",
       "      <td>-87.540955</td>\n",
       "      <td>41.654159</td>\n",
       "      <td></td>\n",
       "    </tr>\n",
       "  </tbody>\n",
       "</table>\n",
       "<p>247934 rows × 3 columns</p>\n",
       "</div>"
      ],
      "text/plain": [
       "        LONGITUDE   LATITUDE permits_neighborhood\n",
       "0      -87.604109  41.705742              Pullman\n",
       "1      -87.643397  41.904663                     \n",
       "2      -87.626338  41.897974                     \n",
       "3      -87.668819  41.950903                     \n",
       "4      -87.656903  41.985613                     \n",
       "...           ...        ...                  ...\n",
       "247929 -87.552164  41.712105                     \n",
       "247930 -87.552898  41.708100                     \n",
       "247931 -87.535430  41.701406                     \n",
       "247932 -87.530304  41.700579                     \n",
       "247933 -87.540955  41.654159                     \n",
       "\n",
       "[247934 rows x 3 columns]"
      ]
     },
     "execution_count": 5,
     "metadata": {},
     "output_type": "execute_result"
    }
   ],
   "source": [
    "permits"
   ]
  }
 ],
 "metadata": {
  "kernelspec": {
   "display_name": "base",
   "language": "python",
   "name": "python3"
  },
  "language_info": {
   "codemirror_mode": {
    "name": "ipython",
    "version": 3
   },
   "file_extension": ".py",
   "mimetype": "text/x-python",
   "name": "python",
   "nbconvert_exporter": "python",
   "pygments_lexer": "ipython3",
   "version": "3.9.13"
  },
  "orig_nbformat": 4
 },
 "nbformat": 4,
 "nbformat_minor": 2
}
