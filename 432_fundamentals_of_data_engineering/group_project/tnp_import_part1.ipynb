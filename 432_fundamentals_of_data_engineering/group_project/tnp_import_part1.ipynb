{
 "cells": [
  {
   "cell_type": "code",
   "execution_count": 1,
   "metadata": {},
   "outputs": [],
   "source": [
    "#imports\n",
    "import requests\n",
    "import pandas as pd\n",
    "from datetime import datetime"
   ]
  },
  {
   "cell_type": "code",
   "execution_count": 2,
   "metadata": {},
   "outputs": [],
   "source": [
    "token = '85GaAh9i4LaVP9BRVhapXCPao'"
   ]
  },
  {
   "cell_type": "code",
   "execution_count": 3,
   "metadata": {},
   "outputs": [],
   "source": [
    "desti_folder = './data_folder/tnp_data'"
   ]
  },
  {
   "cell_type": "code",
   "execution_count": 4,
   "metadata": {},
   "outputs": [],
   "source": [
    "timestamp = datetime.now()\n",
    "timestamp = timestamp.strftime(\"%Y-%m-%d-%H-%M-%S\")"
   ]
  },
  {
   "cell_type": "code",
   "execution_count": 5,
   "metadata": {},
   "outputs": [
    {
     "name": "stdout",
     "output_type": "stream",
     "text": [
      "0\n",
      "1\n",
      "2\n",
      "3\n",
      "408\n"
     ]
    }
   ],
   "source": [
    "# some key info\n",
    "taxi_api = 'm6dm-c72p'\n",
    "limit = 500000\n",
    "i = 0\n",
    "offset_counter = 0\n",
    "    \n",
    "pickle = True\n",
    "\n",
    "# dict for logging\n",
    "log_dict = {}\n",
    "\n",
    "# base url for the request\n",
    "baseurl = (\"https://data.cityofchicago.org/resource/\"\n",
    "        f\"{taxi_api}.json?\")\n",
    "\n",
    "while pickle:\n",
    "    #set our params\n",
    "    params = (\n",
    "            f\"$where=trip_start_timestamp%20%3E%20%272020-12-31T23%3A59%3A59.000%27&\"\n",
    "            f\"$order=trip_start_timestamp&\"\n",
    "            f\"$limit={limit}&\"\n",
    "            f\"$offset={offset_counter}&\"\n",
    "            f\"$$app_token={token}\")\n",
    "    \n",
    "    # make the request \n",
    "    tnp_r = requests.get(baseurl+params,timeout=5000)\n",
    "\n",
    "    # convert to json\n",
    "    tnp_data = tnp_r.json()\n",
    "\n",
    "    # make it a df\n",
    "    df = pd.json_normalize(tnp_data)\n",
    "\n",
    "    # write df\n",
    "    df.to_json(f'{desti_folder}/tnp_chunk_{i}.json',orient='records', lines=True)\n",
    "    \n",
    "    # log\n",
    "    minilog = {}\n",
    "    minilog['records'] = df.shape[0]\n",
    "    minilog['chunk'] = i\n",
    "    minilog['status'] = tnp_r.status_code\n",
    "    minilog['offset'] = offset_counter\n",
    "    log_dict[f'run_{i}'] = minilog\n",
    "    log_df = pd.DataFrame.from_dict(log_dict,orient='index')\n",
    "    log_df.to_csv(f'{desti_folder}/tnp_run_{timestamp}_log.csv')\n",
    "\n",
    "    # increment the chunk count\n",
    "    print(i)\n",
    "    i += 1\n",
    "\n",
    "    # increment the offset\n",
    "    offset_counter += limit\n",
    "\n",
    "    # check if we need to end the loop\n",
    "    if tnp_r.status_code == 200:\n",
    "        pickle = True\n",
    "    else: \n",
    "        pickle = False\n",
    "        print(tnp_r.status_code)\n",
    "\n"
   ]
  },
  {
   "cell_type": "code",
   "execution_count": 6,
   "metadata": {},
   "outputs": [
    {
     "ename": "NameError",
     "evalue": "name 'taxico_r' is not defined",
     "output_type": "error",
     "traceback": [
      "\u001b[1;31m---------------------------------------------------------------------------\u001b[0m",
      "\u001b[1;31mNameError\u001b[0m                                 Traceback (most recent call last)",
      "\u001b[1;32m~\\AppData\\Local\\Temp\\ipykernel_84748\\1506344466.py\u001b[0m in \u001b[0;36m<module>\u001b[1;34m\u001b[0m\n\u001b[1;32m----> 1\u001b[1;33m \u001b[0mtaxico_r\u001b[0m\u001b[1;33m\u001b[0m\u001b[1;33m\u001b[0m\u001b[0m\n\u001b[0m",
      "\u001b[1;31mNameError\u001b[0m: name 'taxico_r' is not defined"
     ]
    }
   ],
   "source": [
    "taxico_r"
   ]
  },
  {
   "cell_type": "code",
   "execution_count": 8,
   "metadata": {},
   "outputs": [
    {
     "data": {
      "text/plain": [
       "13"
      ]
     },
     "execution_count": 8,
     "metadata": {},
     "output_type": "execute_result"
    }
   ],
   "source": [
    "num_list = [21,13,19,3,11,5,18]\n",
    "num_list.sort()\n",
    "num_list[len(num_list) // 2]"
   ]
  },
  {
   "cell_type": "code",
   "execution_count": 9,
   "metadata": {},
   "outputs": [
    {
     "data": {
      "text/plain": [
       "[3, 5, 11, 13, 18, 19, 21]"
      ]
     },
     "execution_count": 9,
     "metadata": {},
     "output_type": "execute_result"
    }
   ],
   "source": [
    "num_list"
   ]
  },
  {
   "cell_type": "code",
   "execution_count": 11,
   "metadata": {},
   "outputs": [
    {
     "data": {
      "text/plain": [
       "4"
      ]
     },
     "execution_count": 11,
     "metadata": {},
     "output_type": "execute_result"
    }
   ],
   "source": [
    "x = \"stuff;things;junk;\"\n",
    "y = x.split(';')\n",
    "len(y)"
   ]
  },
  {
   "cell_type": "code",
   "execution_count": 10,
   "metadata": {},
   "outputs": [
    {
     "name": "stdout",
     "output_type": "stream",
     "text": [
      "[1, 3, 4, 5]\n"
     ]
    }
   ],
   "source": [
    "x = [1,2,3,4,5]\n",
    "x.remove(2)\n",
    "print(x)"
   ]
  },
  {
   "cell_type": "code",
   "execution_count": 12,
   "metadata": {},
   "outputs": [],
   "source": [
    "import numpy as np"
   ]
  },
  {
   "cell_type": "code",
   "execution_count": 13,
   "metadata": {},
   "outputs": [],
   "source": [
    "a = np.array([1,2,3])\n",
    "b = np.array([4,5,6])\n",
    "c = a * b\n",
    "d = np.dot(a,b)"
   ]
  },
  {
   "cell_type": "code",
   "execution_count": 14,
   "metadata": {},
   "outputs": [
    {
     "data": {
      "text/plain": [
       "array([ 4, 10, 18])"
      ]
     },
     "execution_count": 14,
     "metadata": {},
     "output_type": "execute_result"
    }
   ],
   "source": [
    "c"
   ]
  },
  {
   "cell_type": "code",
   "execution_count": 15,
   "metadata": {},
   "outputs": [
    {
     "data": {
      "text/plain": [
       "32"
      ]
     },
     "execution_count": 15,
     "metadata": {},
     "output_type": "execute_result"
    }
   ],
   "source": [
    "d"
   ]
  }
 ],
 "metadata": {
  "kernelspec": {
   "display_name": "base",
   "language": "python",
   "name": "python3"
  },
  "language_info": {
   "codemirror_mode": {
    "name": "ipython",
    "version": 3
   },
   "file_extension": ".py",
   "mimetype": "text/x-python",
   "name": "python",
   "nbconvert_exporter": "python",
   "pygments_lexer": "ipython3",
   "version": "3.9.13"
  },
  "orig_nbformat": 4
 },
 "nbformat": 4,
 "nbformat_minor": 2
}
