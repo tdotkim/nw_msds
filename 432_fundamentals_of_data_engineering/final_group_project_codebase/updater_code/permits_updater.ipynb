{
 "cells": [
  {
   "cell_type": "code",
   "execution_count": 70,
   "metadata": {},
   "outputs": [],
   "source": [
    "#imports\n",
    "import requests\n",
    "import pandas as pd\n",
    "from datetime import datetime\n",
    "from google.cloud import bigquery,storage"
   ]
  },
  {
   "cell_type": "code",
   "execution_count": 71,
   "metadata": {},
   "outputs": [],
   "source": [
    "# plug the path to your credentials json here\n",
    "gcpcreds = \"C:/Users/TK/Desktop/neat-geode-386415-ca51a6c03e2f.json\"\n",
    "\n",
    "# init the clients\n",
    "client = bigquery.Client.from_service_account_json(json_credentials_path=gcpcreds)\n",
    "storageclient = storage.Client.from_service_account_json(json_credentials_path=gcpcreds)\n",
    "\n",
    "bucket = storageclient.get_bucket('msds432_project_data')\n",
    "\n",
    "# write your query here\n",
    "job = client.query('SELECT MAX(APPLICATION_START_DATE)  FROM `neat-geode-386415.data.building_permit_data`')"
   ]
  },
  {
   "cell_type": "code",
   "execution_count": 72,
   "metadata": {},
   "outputs": [],
   "source": [
    "for row in job.result():\n",
    "    currentmaxdate = row[0]\n",
    "\n",
    "currentmaxdate = currentmaxdate.strftime(\"%Y-%m-%d\")"
   ]
  },
  {
   "cell_type": "code",
   "execution_count": 73,
   "metadata": {},
   "outputs": [
    {
     "data": {
      "text/plain": [
       "'2023-05-12'"
      ]
     },
     "execution_count": 73,
     "metadata": {},
     "output_type": "execute_result"
    }
   ],
   "source": [
    "currentmaxdate"
   ]
  },
  {
   "cell_type": "code",
   "execution_count": 74,
   "metadata": {},
   "outputs": [],
   "source": [
    "# add your SODA token here\n",
    "soda_token = '85GaAh9i4LaVP9BRVhapXCPao'"
   ]
  },
  {
   "cell_type": "code",
   "execution_count": 75,
   "metadata": {},
   "outputs": [],
   "source": [
    "timestamp = datetime.now()\n",
    "timestamp = timestamp.strftime(\"%Y-%m-%d-%H-%M-%S\")"
   ]
  },
  {
   "cell_type": "code",
   "execution_count": 85,
   "metadata": {},
   "outputs": [],
   "source": [
    "columns_to_keep = ['id',\n",
    " 'permit_',\n",
    " 'permit_type',\n",
    " 'review_type',\n",
    " 'application_start_date',\n",
    " 'issue_date',\n",
    " 'processing_time',\n",
    " 'street_number',\n",
    " 'street_direction',\n",
    " 'street_name',\n",
    " 'suffix',\n",
    " 'work_description',\n",
    " 'building_fee_paid',\n",
    " 'zoning_fee_paid',\n",
    " 'other_fee_paid',\n",
    " 'subtotal_paid',\n",
    " 'building_fee_unpaid',\n",
    " 'zoning_fee_unpaid',\n",
    " 'other_fee_unpaid',\n",
    " 'subtotal_unpaid',\n",
    " 'building_fee_waived',\n",
    " 'zoning_fee_waived',\n",
    " 'other_fee_waived',\n",
    " 'subtotal_waived',\n",
    " 'total_fee',\n",
    " 'reported_cost',\n",
    " 'community_area',\n",
    " 'census_tract',\n",
    " 'ward',\n",
    " 'xcoordinate',\n",
    " 'ycoordinate',\n",
    " 'latitude',\n",
    " 'longitude']"
   ]
  },
  {
   "cell_type": "code",
   "execution_count": 86,
   "metadata": {},
   "outputs": [],
   "source": [
    "floatcols = ['processing_time',\n",
    "             'building_fee_paid',\n",
    "            'zoning_fee_paid',\n",
    "            'other_fee_paid',\n",
    "            'subtotal_paid',\n",
    "            'building_fee_unpaid',\n",
    "            'zoning_fee_unpaid',\n",
    "            'other_fee_unpaid',\n",
    "            'subtotal_unpaid',\n",
    "            'building_fee_waived',\n",
    "            'zoning_fee_waived',\n",
    "            'other_fee_waived',\n",
    "            'subtotal_waived',\n",
    "            'total_fee',\n",
    "            'reported_cost',\n",
    "            'ward',\n",
    "            'xcoordinate',\n",
    "            'ycoordinate',\n",
    "            'latitude',\n",
    "            'longitude']"
   ]
  },
  {
   "cell_type": "code",
   "execution_count": 96,
   "metadata": {},
   "outputs": [],
   "source": [
    "# some key info\n",
    "nameof = 'permits'\n",
    "web_api = 'ydr8-5enu'\n",
    "limit = 500000\n",
    "i = 0\n",
    "offset_counter = 0\n",
    "pickle = True\n",
    "\n",
    "\n",
    "# dict for logging\n",
    "log_dict = {}\n",
    "\n",
    "# base url for the request\n",
    "baseurl = (\"https://data.cityofchicago.org/resource/\"\n",
    "        f\"{web_api}.json?\")\n",
    "\n",
    "while pickle:\n",
    "    #set our params\n",
    "    params = (\n",
    "            f\"$where=application_start_date%20%3E%3D%20%27{currentmaxdate}%27&\"\n",
    "            f\"$limit={limit}&\"\n",
    "            f\"$offset={offset_counter}&\"\n",
    "            f\"$$app_token={soda_token}\")\n",
    "    \n",
    "    # make the request \n",
    "    api_response = requests.get(baseurl+params)\n",
    "    if api_response.status_code == 200:\n",
    "        try:\n",
    "            # convert to json\n",
    "            response_data = api_response.json()\n",
    "            if response_data:\n",
    "            # make it a df\n",
    "                df = pd.json_normalize(response_data)\n",
    "                df = df[columns_to_keep]\n",
    "                df['application_start_date'] = pd.to_datetime(df['application_start_date']).dt.date\n",
    "                df['issue_date'] = pd.to_datetime(df['issue_date']).dt.date\n",
    "                df[floatcols] = df[floatcols].apply(pd.to_numeric,errors='coerce',downcast=\"float\")\n",
    "                df.rename(columns={'permit_':'permit_num'},inplace=True)\n",
    "                # write df\n",
    "                df.to_json(f'./data/{nameof}_{timestamp}_{i}.json',orient='records', lines=True)\n",
    "\n",
    "                # log\n",
    "                minilog = {}\n",
    "                minilog['records'] = df.shape[0]\n",
    "                minilog['chunk'] = i\n",
    "                minilog['status'] = api_response.status_code\n",
    "                minilog['offset'] = offset_counter\n",
    "                minilog['success'] = True\n",
    "                minilog['mindate'] = df['application_start_date'].min()\n",
    "                minilog['maxdate'] = df['application_start_date'].max()\n",
    "                log_dict[f'run_{i}'] = minilog\n",
    "                log_df = pd.DataFrame.from_dict(log_dict,orient='index')\n",
    "                log_df.to_csv(f'./logs/{nameof}_{timestamp}_log.csv')\n",
    "                \n",
    "                # increment the chunk count\n",
    "                i += 1\n",
    "\n",
    "                # increment the offset\n",
    "                offset_counter += limit\n",
    "\n",
    "            else:\n",
    "                pickle = False\n",
    "\n",
    "\n",
    "        except:\n",
    "            pickle = False\n",
    "\n",
    "    else:\n",
    "        pickle = False\n",
    "        minilog = {}\n",
    "        minilog['records'] = 0\n",
    "        minilog['chunk'] = i\n",
    "        minilog['status'] = api_response.status_code\n",
    "        minilog['offset'] = offset_counter\n",
    "        minilog['success'] = False\n",
    "        minilog['mindate'] = df['application_start_date'].min()\n",
    "        minilog['maxdate'] = df['application_start_date'].max()\n",
    "        log_dict[f'run_{i}'] = minilog\n",
    "        log_df = pd.DataFrame.from_dict(log_dict,orient='index')\n",
    "        log_df.to_csv(f'./logs/{nameof}_{timestamp}_log.csv')\n",
    "\n",
    "\n",
    "\n"
   ]
  },
  {
   "cell_type": "code",
   "execution_count": 80,
   "metadata": {},
   "outputs": [],
   "source": [
    "df[floatcols] = df[floatcols].apply(pd.to_numeric,errors='coerce',downcast=\"float\")"
   ]
  },
  {
   "cell_type": "code",
   "execution_count": 97,
   "metadata": {},
   "outputs": [
    {
     "data": {
      "text/plain": [
       "Index(['id', 'permit_num', 'permit_type', 'review_type',\n",
       "       'application_start_date', 'issue_date', 'processing_time',\n",
       "       'street_number', 'street_direction', 'street_name', 'suffix',\n",
       "       'work_description', 'building_fee_paid', 'zoning_fee_paid',\n",
       "       'other_fee_paid', 'subtotal_paid', 'building_fee_unpaid',\n",
       "       'zoning_fee_unpaid', 'other_fee_unpaid', 'subtotal_unpaid',\n",
       "       'building_fee_waived', 'zoning_fee_waived', 'other_fee_waived',\n",
       "       'subtotal_waived', 'total_fee', 'reported_cost', 'community_area',\n",
       "       'census_tract', 'ward', 'xcoordinate', 'ycoordinate', 'latitude',\n",
       "       'longitude'],\n",
       "      dtype='object')"
      ]
     },
     "execution_count": 97,
     "metadata": {},
     "output_type": "execute_result"
    }
   ],
   "source": [
    "df.columns"
   ]
  },
  {
   "cell_type": "code",
   "execution_count": 91,
   "metadata": {},
   "outputs": [],
   "source": [
    "object_name_in_gcs_bucket = bucket.blob(f'permit_update_logs/{nameof}_{timestamp}_log.csv')\n",
    "object_name_in_gcs_bucket.upload_from_filename(f'./logs/{nameof}_{timestamp}_log.csv')"
   ]
  },
  {
   "cell_type": "code",
   "execution_count": 98,
   "metadata": {},
   "outputs": [],
   "source": [
    "job_config = bigquery.LoadJobConfig(schema=[\n",
    "    bigquery.SchemaField(\"my_string\", \"STRING\"),\n",
    "])\n",
    "job = client.load_table_from_dataframe(df,'neat-geode-386415.data.building_permit_data')"
   ]
  }
 ],
 "metadata": {
  "kernelspec": {
   "display_name": "base",
   "language": "python",
   "name": "python3"
  },
  "language_info": {
   "codemirror_mode": {
    "name": "ipython",
    "version": 3
   },
   "file_extension": ".py",
   "mimetype": "text/x-python",
   "name": "python",
   "nbconvert_exporter": "python",
   "pygments_lexer": "ipython3",
   "version": "3.9.13"
  },
  "orig_nbformat": 4
 },
 "nbformat": 4,
 "nbformat_minor": 2
}
