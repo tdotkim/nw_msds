{
 "cells": [
  {
   "cell_type": "markdown",
   "metadata": {},
   "source": [
    "# TK's Math Solvers"
   ]
  },
  {
   "cell_type": "markdown",
   "metadata": {},
   "source": [
    "## General helpers"
   ]
  },
  {
   "cell_type": "markdown",
   "metadata": {},
   "source": [
    "### convert fraction to float"
   ]
  },
  {
   "cell_type": "code",
   "execution_count": null,
   "metadata": {},
   "outputs": [
    {
     "name": "stdout",
     "output_type": "stream",
     "text": [
      "0.6346153846153846\n",
      "0.028846153846153848\n"
     ]
    }
   ],
   "source": [
    "from fractions import Fraction\n",
    "\n",
    "def make_float(num,den):\n",
    "    holder = Fraction(num,den)\n",
    "    print(float(holder))\n",
    "\n",
    "make_float(33,52)\n",
    "make_float(3,104)\n",
    "\n"
   ]
  },
  {
   "cell_type": "markdown",
   "metadata": {},
   "source": [
    "## Module 1 Algebra"
   ]
  },
  {
   "cell_type": "code",
   "execution_count": 75,
   "metadata": {},
   "outputs": [
    {
     "data": {
      "text/plain": [
       "-35"
      ]
     },
     "execution_count": 75,
     "metadata": {},
     "output_type": "execute_result"
    }
   ],
   "source": [
    "#basic algebra solvers\n",
    "import numpy as np\n",
    "from sympy import Symbol, lambdify\n",
    "\n",
    "x = Symbol('x', real=True)\n",
    "f_x = 1-4*x\n",
    "funcx = lambdify(x,f_x)\n",
    "\n",
    "funcx(9)"
   ]
  },
  {
   "cell_type": "code",
   "execution_count": 78,
   "metadata": {},
   "outputs": [
    {
     "data": {
      "image/png": "[encoded data removed]",
      "text/plain": [
       "<Figure size 640x480 with 1 Axes>"
      ]
     },
     "metadata": {},
     "output_type": "display_data"
    }
   ],
   "source": [
    "#basic algebra grapher\n",
    "import matplotlib.pyplot as plt\n",
    "import numpy as np\n",
    "%matplotlib inline\n",
    "\n",
    "#plt.style.use('seaborn-whitegrid')\n",
    "\n",
    "# The Data\n",
    "x = np.linspace(-5,5,10)\n",
    "\n",
    "y = -2*x + 1\n",
    "\n",
    "# Create the figure and axes objects\n",
    "fig = plt.figure()\n",
    "ax = plt.axes()\n",
    "\n",
    "fig.suptitle('y=-2x+1')\n",
    "\n",
    "# Plot the data\n",
    "ax.plot(x,y,color='red')\n",
    "\n",
    "plt.show()"
   ]
  },
  {
   "cell_type": "code",
   "execution_count": 86,
   "metadata": {},
   "outputs": [
    {
     "name": "stdout",
     "output_type": "stream",
     "text": [
      "2*x - 5\n"
     ]
    }
   ],
   "source": [
    "#find slope-intercept form for linear functions\n",
    "#y−y1=m(x−x1)\n",
    "\n",
    "import numpy as np\n",
    "from sympy import Symbol, lambdify, simplify\n",
    "\n",
    "#x = Symbol('x', real=True)\n",
    "#f_x = 1-4*x\n",
    "#funcx = lambdify(x,f_x)\n",
    "\n",
    "def solver1(slope,x1,y1):\n",
    "    slope_part = slope\n",
    "    x = Symbol('x', real=True)\n",
    "    f_x = slope * (x - x1) + y1\n",
    "    return f_x\n",
    "\n",
    "print(solver1(2,-2,-9))\n"
   ]
  },
  {
   "cell_type": "code",
   "execution_count": 88,
   "metadata": {},
   "outputs": [
    {
     "name": "stdout",
     "output_type": "stream",
     "text": [
      "24.0 - 3.5*x\n"
     ]
    }
   ],
   "source": [
    "#find slope-intercept form for two points\n",
    "#y−y1=m(x−x1)\n",
    "\n",
    "import numpy as np\n",
    "from sympy import Symbol, lambdify, simplify\n",
    "\n",
    "#x = Symbol('x', real=True)\n",
    "#f_x = 1-4*x\n",
    "#funcx = lambdify(x,f_x)\n",
    "\n",
    "def slopesolver(x1,x2,y1,y2):\n",
    "    rise = y2 - y1\n",
    "    run = x2 - x1\n",
    "    slope = rise/run\n",
    "    return slope\n",
    "\n",
    "def solver1(slope,x1,y1):\n",
    "    slope_part = slope\n",
    "    x = Symbol('x', real=True)\n",
    "    f_x = slope * (x - x1) + y1\n",
    "    return f_x\n",
    "\n",
    "slope_to_pass = slopesolver(6,8,3,-4)\n",
    "print(solver1(slope_to_pass,6,3))\n"
   ]
  },
  {
   "cell_type": "code",
   "execution_count": 91,
   "metadata": {},
   "outputs": [
    {
     "data": {
      "text/plain": [
       "[625/18]"
      ]
     },
     "execution_count": 91,
     "metadata": {},
     "output_type": "execute_result"
    }
   ],
   "source": [
    "from sympy.solvers import solve\n",
    "from sympy import Symbol\n",
    "x = Symbol('x')\n",
    "solve(79*x - 7*x - 2500, x)\n"
   ]
  },
  {
   "cell_type": "code",
   "execution_count": 1,
   "metadata": {},
   "outputs": [
    {
     "name": "stdout",
     "output_type": "stream",
     "text": [
      "\n",
      "(b)\n",
      "y =  -2.185 x  51.334\n"
     ]
    }
   ],
   "source": [
    "#correlation coefficient\n",
    "from scipy.stats import pearsonr\n",
    "import scipy.stats as st\n",
    "import numpy as np\n",
    "import matplotlib.pyplot as plt\n",
    "\n",
    "x = np.array([3,4,5,6,7,8,9,10,11,12,13,14,15,16])\n",
    "y = np.array([45.9,42,40.4,39.4,35.3,33.5,30.1,29.4,28,25.2,22,20.8,18.9,17.1])\n",
    "\n",
    "corr_np = np.corrcoef(x, y)[0, 1]\n",
    "f\"Correlation Coefficient using numpy:{round(corr_np,3)}\"\n",
    "\n",
    "corr_sci = pearsonr(x, y)[0]\n",
    "f\"Correlation Coefficient using scipy:{round(corr_sci,3)}\"\n",
    "\n",
    "slope,intercept,rvalue,pvalue,stderr = st.linregress(x,y)\n",
    "\n",
    "print('\\n(b)')\n",
    "print('y = ',round(slope,3),'x ',round(intercept,3))"
   ]
  },
  {
   "cell_type": "markdown",
   "metadata": {},
   "source": [
    "## Module 2 System of Equations"
   ]
  },
  {
   "cell_type": "markdown",
   "metadata": {},
   "source": [
    "### Solve 2/3 equations"
   ]
  },
  {
   "cell_type": "markdown",
   "metadata": {},
   "source": [
    "#### Find the solution to two equations"
   ]
  },
  {
   "cell_type": "code",
   "execution_count": 92,
   "metadata": {},
   "outputs": [
    {
     "name": "stdout",
     "output_type": "stream",
     "text": [
      "The solution is x:1 and y:-5\n"
     ]
    }
   ],
   "source": [
    "import sympy as sym\n",
    "# Use sympy package to display the equation\n",
    "sym.init_printing()\n",
    "x,y = sym.symbols('x,y')\n",
    "\n",
    "sollns = sym.solve([\n",
    "    -2 * x + 5 * y + 27,\n",
    "    -3 * x + 6 * y + 33],\n",
    "    [x, y])\n",
    "print(f\"The solution is x:{sollns[x]} and y:{sollns[y]}\")"
   ]
  },
  {
   "cell_type": "markdown",
   "metadata": {},
   "source": [
    "#### another solution to two equations\n",
    "In 1982, the US Mint changed the composition of pennies from all copper to zinc with copper coating. Pennies made prior to 1982 weigh  \n",
    "3.1\n",
    "  grams. Pennies made since 1982 weight  \n",
    "2.5\n",
    "  grams. Suppose you have a bag of  \n",
    "1370\n",
    "  pennies, and the bag weighs  \n",
    "3837.8\n",
    "  grams.\n",
    "\n",
    "Let  \n",
    "x\n",
    "  represent the number of pennies made prior to 1982 and let  \n",
    "y\n",
    "  represent the number of pennies made after 1982. Set up the system of equations.\n",
    "\n",
    "Write the equation that represents the total number of pennies."
   ]
  },
  {
   "cell_type": "code",
   "execution_count": 93,
   "metadata": {},
   "outputs": [
    {
     "name": "stdout",
     "output_type": "stream",
     "text": [
      "There are 688 old pennies and 682 new pennies\n"
     ]
    }
   ],
   "source": [
    "import sympy as sym\n",
    "# Use sympy package to display the equation\n",
    "sym.init_printing()\n",
    "\n",
    "# X is old pennies, Y is new pennies\n",
    "x,y = sym.symbols('x,y')\n",
    "\n",
    "solns = sym.solve([\n",
    "    3.1*x + 2.5*y - 3837.8,   #weight of old + weight of new - total\n",
    "    x + y - 1370],  #old + new - total count\n",
    "    [x, y])\n",
    "print(f\"There are {int(solns[x])} old pennies and {int(solns[y])} new pennies\")"
   ]
  },
  {
   "cell_type": "markdown",
   "metadata": {},
   "source": [
    "### three equations"
   ]
  },
  {
   "cell_type": "code",
   "execution_count": 94,
   "metadata": {},
   "outputs": [
    {
     "name": "stdout",
     "output_type": "stream",
     "text": [
      "The solution is x:3 and y:3 and z:-2\n"
     ]
    }
   ],
   "source": [
    "import sympy as sym\n",
    "# Use sympy package to display the equation\n",
    "sym.init_printing()\n",
    "x,y,z = sym.symbols('x,y,z')\n",
    "\n",
    "sollns = sym.solve([\n",
    "    x -2 * y + z + 5,\n",
    "    y + 2 * z + 1,\n",
    "    x + y + 3 * z + 0],\n",
    "    [x, y, z])\n",
    "print(f\"The solution is x:{sollns[x]} and y:{sollns[y]} and z:{sollns[z]}\")"
   ]
  },
  {
   "cell_type": "markdown",
   "metadata": {},
   "source": [
    "#### proportions and system of equations\n",
    "\n",
    "A startup company spent $173154 on a combination of 168 tablets, laptops, and desktop computers. Each tablet cost $544, each laptop cost $1412, and each desktop computer cost $1838. Based on the structure of the company, they purchased twice as many tablets as laptops.\n",
    "\n",
    "Let x be the number of tablets purchased, y the number of laptops purchased, and z the number of desktops purchased. Set up the system of equations."
   ]
  },
  {
   "cell_type": "code",
   "execution_count": 95,
   "metadata": {},
   "outputs": [
    {
     "name": "stdout",
     "output_type": "stream",
     "text": [
      "\n",
      "Right Hand Side of Equation\n",
      "[[   182]\n",
      " [126736]\n",
      " [     0]]\n",
      "\n",
      "Matrix A\n",
      "[[   1    1    1]\n",
      " [ 334  959 1280]\n",
      " [   1   -2    0]]\n"
     ]
    },
    {
     "data": {
      "text/plain": [
       "matrix([[96.],\n",
       "        [48.],\n",
       "        [38.]])"
      ]
     },
     "execution_count": 95,
     "metadata": {},
     "output_type": "execute_result"
    }
   ],
   "source": [
    "rhs = [182, 126736, 0]\n",
    "rhs = np.matrix(rhs)\n",
    "rhs = np.transpose(rhs)\n",
    "print('\\nRight Hand Side of Equation')\n",
    "print(rhs)\n",
    "\n",
    "A = [[1, 1, 1],\n",
    "     [334, 959, 1280],\n",
    "     [1, -2, 0]]\n",
    "A = np.matrix(A)\n",
    "print('\\nMatrix A')\n",
    "print(A)\n",
    "IA = np.linalg.inv(A)\n",
    "\n",
    "result = np.dot(IA, rhs)\n",
    "result = np.rint(result)\n",
    "result"
   ]
  },
  {
   "cell_type": "markdown",
   "metadata": {},
   "source": [
    "A brass manufacturer makes three different type of wholesale brass blocks from copper and zinc according to the following matrix.\n",
    "\n",
    "||high brass|muntz metal|gilding metal|\n",
    "|---|---|---|---|\n",
    "|copper|65%|60%|95%|\n",
    "|zinc|35%|40%|5%|\n",
    "\n",
    "\n",
    "In addition, the demand (in thousands of pounds) from Plant 1 is 9 High Brass, 5 Muntz metal, and 25 Gilding metal, and the demand from Plant 2 is is 11 High Brass, 4 Muntz metal, and 27 Gilding metal."
   ]
  },
  {
   "cell_type": "code",
   "execution_count": 98,
   "metadata": {},
   "outputs": [
    {
     "name": "stdout",
     "output_type": "stream",
     "text": [
      "\n",
      "Matrix A\n",
      "[[0.65 0.6  0.95]\n",
      " [0.35 0.4  0.05]]\n",
      "\n",
      "Matrix B\n",
      "[[15  9]\n",
      " [ 2  2]\n",
      " [25 31]]\n",
      "\n",
      "Product\n",
      "[[34.7 36.5]\n",
      " [ 7.3  5.5]]\n",
      "\n",
      "Cost\n",
      "plant 1/2 =  [[153553. 160015.]]\n"
     ]
    }
   ],
   "source": [
    "blends = [[.65, .6, .95], \n",
    "          [.35, .4, .05]]\n",
    "A = np.matrix(blends)\n",
    "print('\\nMatrix A')\n",
    "print(A)\n",
    "\n",
    "\n",
    "print('\\nMatrix B')\n",
    "demands = [[15, 9],\n",
    "           [2, 2],\n",
    "           [25, 31]]\n",
    "\n",
    "B = np.matrix(demands)\n",
    "print(B)\n",
    "\n",
    "prod = np.dot(A, B)\n",
    "print('\\nProduct')\n",
    "print(prod)\n",
    "\n",
    "# Because these are in thousands of pounds\n",
    "thous_prod = 1000 * prod\n",
    "\n",
    "prices = [4.28, 0.69]\n",
    "cost = np.dot(prices, thous_prod)\n",
    "print(\"\\nCost\")\n",
    "print('plant 1/2 = ',cost)"
   ]
  },
  {
   "cell_type": "markdown",
   "metadata": {},
   "source": [
    "#### bigger matrix\n",
    "A new website allows consumers to purchase various automobiles via the internet and then take delivery at a local dealer. The following table shows the retail price of the cars on the website.\n",
    "\n",
    "||Brand A|Brand B|\n",
    "|---|---|---|\n",
    "|compact|13,000|11,000|\n",
    "|midsize|22,000|21,000|\n",
    "|luxury|29,000|35,000|\n",
    "|pickup|58,000|61,000|\n",
    "\n",
    "The dealers makes the following profit:\n",
    "On compact cars they make 13%\n",
    "On midsize cars they make 14%\n",
    "On luxury cars they make 12%\n",
    "On pickup trucks they make 19%\n",
    "\n",
    "Use the following matrix and multiply to the price matrix to find a matrix of profit per car.\n",
    "\n",
    "|compact|midsize|luxury|pickup|\n",
    "|---|---|---|---|\n",
    "|0.13|0|0|0|\n",
    "|0|0.14|0|0|\n",
    "|0|0|0.12|0|\n",
    "|0|0|0|0.19|\n",
    "\n"
   ]
  },
  {
   "cell_type": "code",
   "execution_count": 99,
   "metadata": {},
   "outputs": [
    {
     "name": "stdout",
     "output_type": "stream",
     "text": [
      "\n",
      "Matrix A\n",
      "[[6 8 1]\n",
      " [6 4 1]\n",
      " [5 7 1]]\n",
      "\n",
      "Matrix B\n",
      "[[4 3]\n",
      " [4 5]\n",
      " [2 2]]\n",
      "\n",
      "Profit\n",
      "[[58000 60000]\n",
      " [42000 40000]\n",
      " [50000 52000]]\n",
      "\n",
      "Three Brand A Luxury Car Profits\n",
      "150000\n"
     ]
    }
   ],
   "source": [
    "markups = [[.07, 0, 0, 0],\n",
    "           [0, .09, 0, 0], \n",
    "           [0, 0, .11, 0], \n",
    "           [0, 0 , 0, .18]]\n",
    "           \n",
    "A = np.matrix(markups)\n",
    "print('\\nMatrix A')\n",
    "print(A)\n",
    "\n",
    "\n",
    "print('\\nMatrix B')\n",
    "prices  = [[17, 11],\n",
    "           [23, 20],\n",
    "           [34, 32],\n",
    "           [50, 64]]\n",
    "\n",
    "B = np.matrix(prices)\n",
    "print(B)\n",
    "\n",
    "profit = A * B \n",
    "profit_thou = profit * 1000\n",
    "print('\\nProfit')\n",
    "print(profit_thou)\n",
    "\n",
    "lux_a_three_prof = profit_thou[2, 0] * 3\n",
    "print('\\nThree Brand A Luxury Car Profits')\n",
    "print(lux_a_three_prof)\n"
   ]
  },
  {
   "cell_type": "markdown",
   "metadata": {},
   "source": [
    "### find the inverse matrix and coefficient matrix\n",
    "\n",
    "$3x -13y = -3$\n",
    "\n",
    "$-x+5y=2$"
   ]
  },
  {
   "cell_type": "code",
   "execution_count": 100,
   "metadata": {},
   "outputs": [
    {
     "name": "stdout",
     "output_type": "stream",
     "text": [
      "Coefficient Matrix\n",
      "[[  5 -30]\n",
      " [ -1   7]]\n",
      "Inverse of it is\n",
      "[[1.4 6. ]\n",
      " [0.2 1. ]]\n",
      "The solutions are [[19.4  3.2]]\n"
     ]
    }
   ],
   "source": [
    "lhs = np.matrix([[5, -30], [-1, 7]])\n",
    "rhs = [1, 3]\n",
    "\n",
    "print(\"Coefficient Matrix\")\n",
    "print(lhs)\n",
    "\n",
    "print(\"Inverse of it is\")\n",
    "inv_lhs = np.linalg.inv(lhs)\n",
    "print(inv_lhs)\n",
    "\n",
    "sol = np.dot(inv_lhs, rhs)\n",
    "print(f\"The solutions are {sol}\")"
   ]
  },
  {
   "cell_type": "markdown",
   "metadata": {},
   "source": [
    "### 3 system of equations\n",
    "Harrison is trying to plan a meal to meet specific nutritional goals. He wants to prepare a meal containing rice, tofu, and peanuts that will provide 252252 grams of carbohydrates, 140 grams of fat, and 104 grams of protein. He knows that each cup of rice provides 4545 grams of carbohydrates, 00 grams of fat, and 55 grams of protein. Each cup of tofu provides 66 grams of carbohydrates, 55 grams of fat, and 1616 grams of protein. Finally, each cup of peanuts provides 3030 grams of carbohydrates, 6565 grams of fat, and 2626 grams of protein.\n",
    "\n",
    "Let rr be the number of cups of rice, tt the number of cups of tofu, and pp the number of cups of peanuts. Set up the system of equations.\n",
    "\n",
    "Write the equation for the amount of carbohydrates in his meal.\n"
   ]
  },
  {
   "cell_type": "code",
   "execution_count": null,
   "metadata": {},
   "outputs": [],
   "source": [
    "rhs = [141, 191, 129]\n",
    "rhs = np.matrix(rhs)\n",
    "rhs = np.transpose(rhs)\n",
    "print('\\nRight Hand Side of Equation')\n",
    "print(rhs)\n",
    "\n",
    "A = [[43, 7, 35],\n",
    "     [0, 12, 73],\n",
    "     [3, 18, 27]]\n",
    "A = np.matrix(A)\n",
    "print('\\nMatrix A')\n",
    "print(A)\n",
    "IA = np.linalg.inv(A)\n",
    "\n",
    "result = np.dot(IA, rhs)\n",
    "result = np.rint(result)\n",
    "result"
   ]
  },
  {
   "cell_type": "markdown",
   "metadata": {},
   "source": [
    "### Cramers Rule\n"
   ]
  },
  {
   "cell_type": "markdown",
   "metadata": {},
   "source": [
    "#### 2x2\n",
    "$-4x-y=-27$\n",
    "\n",
    "$5x-3y=11$"
   ]
  },
  {
   "cell_type": "code",
   "execution_count": 103,
   "metadata": {},
   "outputs": [
    {
     "name": "stdout",
     "output_type": "stream",
     "text": [
      "D is 17\n",
      "Dx is 68\n",
      "Dy is 51\n",
      "The solution is (4.0, 3.0)\n"
     ]
    }
   ],
   "source": [
    "a1 = -4 #x from equation 1\n",
    "a2 = 5 #x from equation 2\n",
    "b1 = -1 #y from equation 1\n",
    "b2 = -3 #y from equation 2\n",
    "c1 = -19 # rhs from equation 1\n",
    "c2 = 11 #rhs from equation 2\n",
    "\n",
    "D = (a1 * b2) - (a2 * b1)\n",
    "print(f'D is {D}')\n",
    "\n",
    "Dx = (c1 * b2) - (c2 * b1)\n",
    "Dy = (a1 * c2) - (a2 * c1)\n",
    "print(f'Dx is {Dx}')\n",
    "print(f'Dy is {Dy}')\n",
    "\n",
    "x = Dx/D\n",
    "y = Dy/D\n",
    "print(f\"The solution is ({x}, {y})\")"
   ]
  },
  {
   "cell_type": "markdown",
   "metadata": {},
   "source": [
    "#### Cramer's 3x3\n",
    "$4x-4y-2z=-4$\n",
    "\n",
    "$-x-6y+5z=5$\n",
    "\n",
    "$x-5y+6z=17$"
   ]
  },
  {
   "cell_type": "code",
   "execution_count": 112,
   "metadata": {},
   "outputs": [
    {
     "name": "stdout",
     "output_type": "stream",
     "text": [
      "D is -110\n",
      "Dx is -330\n",
      "Dy is -220\n",
      "Dz is -440\n",
      "The solution is (3.0, 2.0, 4.0)\n"
     ]
    }
   ],
   "source": [
    "x1 = 4 #x from equation 1\n",
    "x2 = -1 #x from equation 2\n",
    "x3 = 1 #x from equation 3\n",
    "y1 = -4 #y from equation 1\n",
    "y2 = -6 #y from equation 2\n",
    "y3 = -5 #y from equation 3\n",
    "z1 = -2 #z from equation 1\n",
    "z2 = 5 #z from equation 2\n",
    "z3 = 6 #z from equation 3\n",
    "r1 = -4 #rhs from equation 1\n",
    "r2 = 5 #rhs from equation 2\n",
    "r3 = 17 #rhs from equation 3\n",
    "\n",
    "part1 = x1 * ((y2 * z3) - (z2 * y3))\n",
    "part2 = y1 * ((x2 * z3) - (z2 * x3))\n",
    "part3 = z1 * ((x2 * y3) - (y2 * x3))\n",
    "\n",
    "Denom = part1 - part2 + part3\n",
    "\n",
    "print(f'D is {Denom}')\n",
    "\n",
    "Dxp1 = r1 * ((y2 * z3) - (z2 * y3))\n",
    "Dxp2 = y1 * ((r2 * z3) - (z2 * r3))\n",
    "Dxp3 = z1 * ((r2 * y3) - (y2 * r3))\n",
    "Dx = Dxp1 - Dxp2 + Dxp3\n",
    "\n",
    "Dyp1 = x1 * ((r2 * z3) - (z2 * r3))\n",
    "Dyp2 = r1 * ((x2 * z3) - (z2 * x3))\n",
    "Dyp3 = z1 * ((x2 * r3) - (r2 * x3))\n",
    "Dy = Dyp1 - Dyp2 + Dyp3\n",
    "\n",
    "Dzp1 = x1 * ((y2 * r3) - (r2 * y3))\n",
    "Dzp2 = y1 * ((x2 * r3) - (r2 * x3))\n",
    "Dzp3 = r1 * ((x2 * y3) - (y2 * x3))\n",
    "Dz = Dzp1 - Dzp2 + Dzp3\n",
    "\n",
    "print(f'Dx is {Dx}')\n",
    "print(f'Dy is {Dy}')\n",
    "print(f'Dz is {Dz}')\n",
    "\n",
    "x = Dx/Denom\n",
    "y = Dy/Denom\n",
    "z = Dz/Denom\n",
    "print(f\"The solution is ({x}, {y}, {z})\")"
   ]
  },
  {
   "cell_type": "markdown",
   "metadata": {},
   "source": [
    "## Module 3 more systems of equations"
   ]
  },
  {
   "cell_type": "markdown",
   "metadata": {},
   "source": [
    "### graphing systems of equations\n",
    "    x + y ≤ 5\n",
    "    x − y ≤ − 2\n",
    "    6x + y ≥ 0"
   ]
  },
  {
   "cell_type": "code",
   "execution_count": 124,
   "metadata": {},
   "outputs": [
    {
     "name": "stdout",
     "output_type": "stream",
     "text": [
      "The simplest approach for filling a polygon is to locate thecorner points. Matplotlib will fill within these points.\n"
     ]
    },
    {
     "data": {
      "image/png": "[encoded data removed]",
      "text/plain": [
       "<Figure size 640x480 with 1 Axes>"
      ]
     },
     "metadata": {},
     "output_type": "display_data"
    }
   ],
   "source": [
    "%matplotlib inline\n",
    "\n",
    "import matplotlib.pyplot \n",
    "from matplotlib.pyplot import *\n",
    "import numpy \n",
    "from numpy import arange\n",
    "\n",
    "figure()\n",
    "x= arange(-10,10.1,1)\n",
    "y1= x+4\n",
    "y2= (6/5)*x + 6\n",
    "#y3=-6*x\n",
    "\n",
    "xlim(-10,10)\n",
    "ylim(-10,5)\n",
    "hlines(0,-10,10,color='k')\n",
    "vlines(0,-10,10,color='k')\n",
    "grid(True)\n",
    "\n",
    "xlabel('x-axis')\n",
    "ylabel('y-axis')\n",
    "title ('Shaded Area Shows the Feasible Region')\n",
    "\n",
    "plot(x,y1,color='b')\n",
    "plot(x,y2,color='r')\n",
    "#plot(x,y3,color='g')\n",
    "legend(['x+y=5','x-y=-2','6x+y=0'])\n",
    "print(\"The simplest approach for filling a polygon is to locate the\\\n",
    "corner points. Matplotlib will fill within these points.\")\n",
    "\n",
    "show()"
   ]
  },
  {
   "cell_type": "markdown",
   "metadata": {},
   "source": [
    "### revenue & constraints\n",
    "X is white chocolate blizzards\n",
    "Y is white chocolate caramel twists\n",
    "\n",
    "$z = 2.02x + 1.95y$\n",
    "\n",
    "$16 \\le x \\le 56$\n",
    "\n",
    "$17 \\le y \\le 33$\n",
    "\n",
    "$3x+4y \\le 240$\n",
    "\n",
    "$x,y \\ge 0$\n",
    "\n"
   ]
  },
  {
   "cell_type": "code",
   "execution_count": 1,
   "metadata": {},
   "outputs": [
    {
     "name": "stdout",
     "output_type": "stream",
     "text": [
      "Pulp Solutions for y1, y2, and y3\n",
      "total lemon puckers 56.0\n",
      "total mint breeze 18.0\n",
      "max revenue 148.22\n"
     ]
    }
   ],
   "source": [
    "from pulp import LpVariable, LpProblem, LpMaximize, LpStatus, value, LpMinimize\n",
    "\n",
    "\n",
    "#y3 = LpVariable(\"y3\", 0, None) # y3>=0\n",
    "# defines the problem\n",
    "prob = LpProblem(\"problem\", LpMaximize)\n",
    "\n",
    "# declare your variables\n",
    "# set your upper and lower bounds for 17 < y < 33. Lower = 17, upper = 33\n",
    "x = LpVariable(\"x\", lowBound=16, upBound=56) # y1>=0\n",
    "y = LpVariable(\"y\", lowBound=17, upBound=33) # y2>=0\n",
    "\n",
    "# defines the objective function to maximize\n",
    "prob += 2.02*x + 1.95*y, \"Revenue\"\n",
    "\n",
    "# defines the constraints\n",
    "#only one constraint here for sugar <=240\n",
    "prob += 3*x + 4*y <= 240\n",
    "\n",
    "# solve the problem\n",
    "status = prob.solve()\n",
    "LpStatus[status]\n",
    "\n",
    "# print the results\n",
    "print(\"Pulp Solutions for y1, y2, and y3\")\n",
    "print('total lemon puckers', value(x))\n",
    "print('total mint breeze', value(y))\n",
    "print('max revenue', (2.02*value(x))+(1.95*value(y)))\n"
   ]
  },
  {
   "cell_type": "markdown",
   "metadata": {},
   "source": [
    "### simplex tableau\n",
    "\n",
    "Maximize \n",
    "$P = 17x_{1} + 4x_{2}$\n",
    "subject to\n",
    "\n",
    "$18x_{1}+29x_{2} \\le 60$\n",
    "\n",
    "$24{1}+28{2} \\le 34$\n",
    "\n",
    "$x_{1} \\ge 0$\n",
    "\n",
    "$x_{2} \\ge 0$\n",
    "\n",
    "$\\rule{4cm}{0.4pt}$\n",
    "\n",
    "$P = 17x_{1} + 4x_{2}$ becomes $ - 17x_{1} - 4x_{2} + P = 0$\n",
    "\n",
    "Now we add 1 slack variable per constraint\n",
    "\n",
    "$18x_{1}+29x_{2} \\le 60$ becomes $18x_{1}+29x_{2}+ 1s_{1} + 0s_{2} \\le 60$\n",
    "\n",
    "$24x_{1}+28x_{2} \\le 34$ becomes $24x_{1}+28x_{2}+ 0s_{1} + 1s_{2} \\le 34$\n",
    "\n",
    "Far right column is made up of the right hand side of the equations\n",
    "\n",
    "Bottom row is made up of the objevtive function\n",
    "\n",
    "$\\rule{4cm}{0.4pt}$\n",
    "\n",
    "|$x_{1}$|$x_{2}$|$s_{1}$|$s_{2}$|$P$|$C$|\n",
    "|:-----:|:-----:|:-----:|:-----:|:-:|:-:|\n",
    "|18     |29     |1      |0      |0  |60 |\n",
    "|24     |28     |0      |1      |0  |34 |\n",
    "|-17    |-4     |0      |0      |1  |0  |\n",
    "\n",
    "$\\rule{4cm}{0.4pt}$\n",
    "\n",
    "The most negative entry in the bottom row determines the pivot column so column 1 is the pivot\n",
    "\n",
    "Now using column $C$, divide it by the pivot column. The smallest quotient is the pivot row. So 60/18 vs 34/24 we get 34/24 is the smallest so row 2 is the pivot row. "
   ]
  },
  {
   "cell_type": "markdown",
   "metadata": {},
   "source": [
    "### Coffe Blends Problem\n",
    "Albion Coffee Shop sells two basic blends: Ristretto and CafeLake.\n",
    "They use two types of coffee to produce the blends: Tontarica and Sagada.\n",
    "\n",
    "Ristretto sells for $6.50 per pound and requires at least 45% Tontarica.\n",
    "CafeLake sells for $5.25 per pound and requires no more than 40% Sagada.\n",
    "\n",
    "The shop has 80 pounds of Tontarica and 120 pounds of Sagada. Tontarica costs $3.50 per pound while Sagada costs $3.00 per pound.\n",
    "\n",
    "Objective function becomes:\n",
    "\n",
    "(Ristretto Revenue - Ristretto Tontarica Cost) + (Ristretto Revenue - Ristretto Sagada Cost) + (CafeLake Revenue - CafeLake Tontarica Cost) + (CafeLake Revenue - CafeLake Sagada Cost)\n",
    "\n",
    "$3x_{RT}+ 3.5x_{RS} + 1.65x_{CT}  + 2.25x_{CS}$"
   ]
  },
  {
   "cell_type": "markdown",
   "metadata": {},
   "source": [
    "### two variable maximization\n",
    "A company has $8,850 available per month for advertising. Newspaper ads cost $110 each and can't run more than 25 times per month. Radio ads cost $300 each and can't run more than 33 times per month at this price.\n",
    "\n",
    "Each newspaper ad reaches 6750 potential customers, and each radio ad reaches 7350 potential customers. The company wants to maximize the number of ad exposures to potential customers.\n",
    "\n",
    "Use $n$ for number of Newspaper advertisements and $r$ for number of Radio advertisements. Set up the linear programming model."
   ]
  },
  {
   "cell_type": "code",
   "execution_count": 3,
   "metadata": {},
   "outputs": [
    {
     "name": "stdout",
     "output_type": "stream",
     "text": [
      "Pulp Solutions for y1, y2, and y3\n",
      "x = 25.0\n",
      "y = 20.0\n",
      "max exposure =  315750.0\n"
     ]
    }
   ],
   "source": [
    "from pulp import LpVariable, LpProblem, LpMaximize, LpStatus, value, LpMinimize\n",
    "\n",
    "# defines the problem\n",
    "prob = LpProblem(\"problem\", LpMaximize)\n",
    "\n",
    "# declare your variables\n",
    "# limit to integer because you can't run .x of an ad\n",
    "x = LpVariable(\"x\", lowBound=0, upBound=25, cat= 'Integer') # x = newspaper \n",
    "y = LpVariable(\"y\", lowBound=0, upBound=33, cat= 'Integer') # y = radio\n",
    "\n",
    "# defines the objective function to maximize\n",
    "prob += 6750*x + 7350*y,\"Revenue\"\n",
    "\n",
    "# defines the constraints\n",
    "prob += 110*x + 300*y <= 8850 #cost of news + radio <= 8850, our budget\n",
    "\n",
    "# solve the problem\n",
    "status = prob.solve()\n",
    "LpStatus[status]\n",
    "\n",
    "# print the results\n",
    "print(\"Pulp Solutions for y1, y2, and y3\")\n",
    "print('x =' , value(x))\n",
    "print('y =' , value(y))\n",
    "print('max exposure = ', 6750*value(x) + 7350*value(y))\n"
   ]
  },
  {
   "cell_type": "markdown",
   "metadata": {},
   "source": [
    "### 3 variable minimization\n",
    "A lawn seed mixture contains three types of seed: bluegrass, rye, and Bermuda. The costs per pound of the three types of seed are 12 cents, 15 cents, and 3 cents, respectively. In each batch there must be at least 25% bluegrass seed, and the amount of Bermuda must be no more than 2/3 the amount of rye. To fill current orders, the company must make at least 8000 pounds of the mixture. How much of each kind of seed should be used to minimize cost? Round your answers to two decimals as needed."
   ]
  },
  {
   "cell_type": "code",
   "execution_count": 7,
   "metadata": {},
   "outputs": [
    {
     "name": "stdout",
     "output_type": "stream",
     "text": [
      "Pulp Solutions for y1, y2, and y3\n",
      "x = 2000.0\n",
      "y = 3600.0\n",
      "z = 2400.0\n",
      "cost = 852.0\n"
     ]
    }
   ],
   "source": [
    "from pulp import LpVariable, LpProblem, LpMaximize, LpStatus, value, LpMinimize\n",
    "\n",
    "# defines the problem\n",
    "prob = LpProblem(\"problem\", LpMinimize)\n",
    "\n",
    "# declare your variables\n",
    "x = LpVariable(\"x\", 0, None) # bluegrass\n",
    "y = LpVariable(\"y\", 0, None) # rye\n",
    "z = LpVariable(\"z\", 0, None) # bermuda\n",
    "\n",
    "# defines the objective function\n",
    "prob += .12*x + .15*y + .03*z\n",
    "\n",
    "# defines the constraints\n",
    "# need to make at least 8000 pounds of the mix\n",
    "prob += x + y + z >= 8000\n",
    "# need at least 25% bluegrass 'x'\n",
    "prob += x >= (1/4)*(x + y + z)\n",
    "# need bermuda to be NOT more than 2/3 rye\n",
    "prob += z <= (2/3)*y\n",
    "\n",
    "# solve the problem\n",
    "status = prob.solve()\n",
    "LpStatus[status]\n",
    "# print the results\n",
    "print(\"Pulp Solutions for y1, y2, and y3\")\n",
    "print('x =' , value(x))\n",
    "print('y =' , value(y))\n",
    "print('z =' , value(z))\n",
    "print('cost =', (.12*value(x))+(.15*value(y))+(.03*value(z)))\n"
   ]
  },
  {
   "cell_type": "markdown",
   "metadata": {},
   "source": [
    "## Module 4 Probability"
   ]
  },
  {
   "cell_type": "markdown",
   "metadata": {},
   "source": [
    "### Simple probability of 2x3\n",
    "\n",
    "||A|B|C|TOTAL|\n",
    "|:-:|:-:|:-:|:-:|:-:|\n",
    "|MALE|20|2|14|36|\n",
    "|FEMALE|13|8|4|35|\n",
    "|TOTAL|33|20|18|71|\n",
    "\n",
    "If one student was chosen at random, find the following:\n",
    "\n",
    "The probability that the student was female. \n",
    "\n",
    "The probability that the student got a C. \n",
    "  "
   ]
  },
  {
   "cell_type": "code",
   "execution_count": 10,
   "metadata": {},
   "outputs": [
    {
     "name": "stdout",
     "output_type": "stream",
     "text": [
      "chance of being female 0.49295774647887325\n",
      "chance of having a c 0.2535211267605634\n"
     ]
    }
   ],
   "source": [
    "prob_is_female = 35/71\n",
    "print('chance of being female', prob_is_female)\n",
    "\n",
    "prob_got_c = 18/71\n",
    "print('chance of having a c', prob_got_c)"
   ]
  },
  {
   "cell_type": "markdown",
   "metadata": {},
   "source": [
    "### Probability of a given b of 2x3\n",
    "\n",
    "||A|B|C|TOTAL|\n",
    "|:-:|:-:|:-:|:-:|:-:|\n",
    "|MALE|2|13|17|32|\n",
    "|FEMALE|9|18|10|37|\n",
    "|TOTAL|11|31|27|69|\n",
    "\n",
    "If one student was chosen at random, find the following:\n",
    "\n",
    "Find the probability that a randomly selected student earned a grade of 'C' given that the student is male. \n",
    "  "
   ]
  },
  {
   "cell_type": "code",
   "execution_count": 18,
   "metadata": {},
   "outputs": [
    {
     "name": "stdout",
     "output_type": "stream",
     "text": [
      "prob of c given is male =  0.53125\n"
     ]
    }
   ],
   "source": [
    "#prob(A|B)\n",
    "prob_of_C_given_is_Male = 17/32\n",
    "print('prob of c given is male = ', prob_of_C_given_is_Male)"
   ]
  },
  {
   "cell_type": "markdown",
   "metadata": {},
   "source": [
    "### Probability of a given b of 4x2\n",
    "\n",
    "||Proportion of all Drivers|Prob of at least 1 collision|\n",
    "|:-:|:-:|:-:|\n",
    "|teen|.07|.19|\n",
    "|young adult|.2|.07|\n",
    "|middle aged|.5|.05|\n",
    "|senior|.23|.08|\n",
    "\n",
    "\n",
    "Find the probability that a driver with at least one collision in the past year is a teen driver.\n",
    "  "
   ]
  },
  {
   "cell_type": "code",
   "execution_count": 29,
   "metadata": {},
   "outputs": [
    {
     "name": "stdout",
     "output_type": "stream",
     "text": [
      "prob of teen given at least 1 collision =  0.18811881188118812\n"
     ]
    }
   ],
   "source": [
    "#multiply by 1000 to get a sample going\n",
    "prob_of_teen = .07 * 1000\n",
    "prob_of_ya = .2 * 1000\n",
    "prob_of_ma = .5 * 1000\n",
    "prob_of_sr = .23 * 1000\n",
    "#then multiply prob of collision by the same size\n",
    "prob_of_teen_collision = .19 * prob_of_teen\n",
    "prob_of_ya_collision = .07 * prob_of_ya\n",
    "prob_of_ma_collision = .05 * prob_of_ma\n",
    "prob_of_sr_collision = .08 * prob_of_sr\n",
    "#sum all people who have collided\n",
    "total_collisions = (prob_of_teen_collision+prob_of_ya_collision+prob_of_ma_collision+prob_of_sr_collision)\n",
    "#get the prob of a teen given at least one collision P(A|B)\n",
    "prob_teen_given_atleast_one_collision = prob_of_teen_collision / total_collisions\n",
    "\n",
    "print('prob of teen given at least 1 collision = ', prob_teen_given_atleast_one_collision)"
   ]
  },
  {
   "cell_type": "markdown",
   "metadata": {},
   "source": [
    "### Probability of NOT MUTUALLY EXCLUSIVE A OR B and conditional A given B 3x4\n",
    "||18-24|25-34|35-55|55+|TOTAL|\n",
    "|:-:|:-:|:-:|:-:|:-:|:-:|\n",
    "|Liked crunch|23|18|9|33|83|\n",
    "|Disliked crunch|26|41|8|52|127|\n",
    "|no pref|26|6|21|37|90|\n",
    "|TOTAL|75|65|38|122|300|"
   ]
  },
  {
   "cell_type": "code",
   "execution_count": 35,
   "metadata": {},
   "outputs": [
    {
     "name": "stdout",
     "output_type": "stream",
     "text": [
      "P(18-24|Disliked) =  (26, 127)\n",
      "P(Disliked) =  (127, 300)\n",
      "P(35-55 OR Likes) =  (28, 75)\n",
      "P(liked|70) =  (33, 122)\n"
     ]
    }
   ],
   "source": [
    "from fractions import Fraction\n",
    "prob_18to24_given_disliked = Fraction(26,127)\n",
    "print('P(18-24|Disliked) = ',prob_18to24_given_disliked.as_integer_ratio())\n",
    "\n",
    "prob_disliked = Fraction(127,300)\n",
    "print('P(Disliked) = ',prob_disliked.as_integer_ratio())\n",
    "\n",
    "#prob of a or b is prob of a + prob of b - prof of a AND b\n",
    "#P(A or B) not mutually exlusive = P(A) + P(B) - P(A and B)\n",
    "prob_35to55_or_liked = Fraction(38,300) + Fraction(83,300) - Fraction(9,300) \n",
    "print('P(35-55 OR Likes) = ',prob_35to55_or_liked.as_integer_ratio())\n",
    "\n",
    "#P(liked|70) = P(liked and 55+)/P(55+)\n",
    "prob_liked_given_is70 = Fraction(33,122)\n",
    "print('P(liked|70) = ',prob_liked_given_is70.as_integer_ratio())"
   ]
  },
  {
   "cell_type": "markdown",
   "metadata": {},
   "source": [
    "### Probability of things\n"
   ]
  },
  {
   "cell_type": "markdown",
   "metadata": {},
   "source": [
    "#### probability of at least one wrong\n",
    "On a 6 question multiple-choice test, where each question has 2 choices, what is the probability of getting at least one question wrong if the student randomly selects one answer to each question?\n",
    "\n",
    "Give your answer as a simplified fraction."
   ]
  },
  {
   "cell_type": "code",
   "execution_count": 13,
   "metadata": {},
   "outputs": [
    {
     "name": "stdout",
     "output_type": "stream",
     "text": [
      "(63, 64)\n"
     ]
    }
   ],
   "source": [
    "prob_rightanswer = .5\n",
    "questions_count = 6\n",
    "\n",
    "p_all_correct = prob_rightanswer ** questions_count\n",
    "p_at_least_one_wrong = 1 - p_all_correct\n",
    "\n",
    "print(p_at_least_one_wrong.as_integer_ratio())"
   ]
  },
  {
   "cell_type": "markdown",
   "metadata": {},
   "source": [
    "#### probability of two in a row being right\n",
    "Suppose that 18% of people own dogs in the US. If you pick 2 people at random, what is the probability that they each own a dog?\n"
   ]
  },
  {
   "cell_type": "code",
   "execution_count": 14,
   "metadata": {},
   "outputs": [
    {
     "name": "stdout",
     "output_type": "stream",
     "text": [
      "0.0324\n"
     ]
    }
   ],
   "source": [
    "prob_havingdog = .18\n",
    "number_of_picks = 2\n",
    "\n",
    "prob_both_having_dogs = prob_havingdog ** number_of_picks\n",
    "print(prob_both_having_dogs)"
   ]
  },
  {
   "cell_type": "markdown",
   "metadata": {},
   "source": [
    "#### probability with an OR or AND statement\n",
    "Suppose you roll a special balanced 23-sided die numbered 1 through 23. What is the probability that the number rolled is a \"1\" or a \"2\"?\n",
    "\n",
    "Now suppose you roll two balanced 18-sided dice numbered 1 through 18. What is the probability that the number on the first die is a \"3\" and the number on the second die is a \"5\"?"
   ]
  },
  {
   "cell_type": "code",
   "execution_count": 15,
   "metadata": {},
   "outputs": [
    {
     "name": "stdout",
     "output_type": "stream",
     "text": [
      "1 or 2 =  0.08695652173913043\n",
      "3 and 5 =  0.0030864197530864196\n"
     ]
    }
   ],
   "source": [
    "dice_sides1 = 23\n",
    "prob_of_1 = 1/dice_sides1\n",
    "prob_of_2 = 1/dice_sides1\n",
    "prob_of_1_or_2 = prob_of_1+prob_of_2\n",
    "print('1 or 2 = ', prob_of_1_or_2)\n",
    "\n",
    "dice_sides2 = 18\n",
    "prob_of_3 = 1/dice_sides2\n",
    "prob_of_5 = 1/dice_sides2\n",
    "prob_of_3_and_5 = prob_of_3*prob_of_5\n",
    "print('3 and 5 = ', prob_of_3_and_5)\n",
    "\n"
   ]
  },
  {
   "cell_type": "markdown",
   "metadata": {},
   "source": [
    "#### probability with NOT and subsets\n",
    "According to Masterfoods, the company that manufactures M&M’s, 12% of peanut M&M’s are brown, 15% are yellow, 12% are red, 23% are blue, 23% are orange and 15% are green. Complete the following problems and round your answers to three decimal places as needed."
   ]
  },
  {
   "cell_type": "code",
   "execution_count": 17,
   "metadata": {},
   "outputs": [
    {
     "name": "stdout",
     "output_type": "stream",
     "text": [
      "prob of not orange =  0.77\n",
      "prob of green or brown =  0.27\n",
      "prob of 3 orange =  0.012167\n",
      "prob of pick 4 but none are brown =  0.59969536\n",
      "prob of pick 4 but at least 1 is brown =  0.40030464\n"
     ]
    }
   ],
   "source": [
    "prob_brown = .12\n",
    "prob_yellow = .15\n",
    "prob_red = .12\n",
    "prob_blue = .23\n",
    "prob_orange = .23\n",
    "prob_green = .15\n",
    "\n",
    "prob_not_orange = 1 - prob_orange\n",
    "print('prob of not orange = ',prob_not_orange)\n",
    "\n",
    "prob_green_or_brown = prob_green + prob_brown\n",
    "print('prob of green or brown = ',prob_green_or_brown)\n",
    "\n",
    "prob_three_are_orange = prob_orange ** 3\n",
    "print('prob of 3 orange = ',prob_three_are_orange)\n",
    "\n",
    "prob_four_none_brown = (1-prob_brown)**4\n",
    "print('prob of pick 4 but none are brown = ',prob_four_none_brown)\n",
    "\n",
    "#1 minus the probability of none brown\n",
    "prob_four_at_least_one_brown = 1-((1-prob_brown)**4)\n",
    "print('prob of pick 4 but at least 1 is brown = ',prob_four_at_least_one_brown)\n",
    "\n",
    "\n",
    "\n"
   ]
  },
  {
   "cell_type": "markdown",
   "metadata": {},
   "source": [
    "### Bayesian Probability\n"
   ]
  },
  {
   "cell_type": "markdown",
   "metadata": {},
   "source": [
    "#### Simple bayes\n",
    "\n",
    "The probability that a person with certain symptoms has COVD-19 is 0.83. One test being used to confirm this diagnosis gives positive results for 96% of people with the virus and 5% of those without the virus. What is the probability that an individual has these symptoms and tests positively actually has COVID-19?"
   ]
  },
  {
   "cell_type": "code",
   "execution_count": 36,
   "metadata": {},
   "outputs": [
    {
     "name": "stdout",
     "output_type": "stream",
     "text": [
      "probability that an individual has these symptoms and tests positively actually has COVID-19 =  0.9894449273562648\n"
     ]
    }
   ],
   "source": [
    "#P(COVID|Symptoms+TestsPositive)=\n",
    "#P(COVID)*P(Symptoms+TestPositive|COVID) divided by \n",
    "#P(COVID)*P(Symptoms+TestPositive|COVID) + P(notCOVID)*P(Symptoms+TestPositive|notcovid)\n",
    "\n",
    "prob_of_covid_given_symptoms = .83\n",
    "prob_of_NOT_covid_given_symptoms = 1-prob_of_covid_given_symptoms\n",
    "prob_of_positive_given_covid = .96\n",
    "prob_of_positive_given_nocovid = .05\n",
    "\n",
    "#P(COVID)*P(Symptoms+TestPositive|COVID)\n",
    "# chance of having symptons and covid * chance of positive test with virus\n",
    "#.83 * 96\n",
    "tophalf = prob_of_covid_given_symptoms*prob_of_positive_given_covid\n",
    "\n",
    "#P(COVID)*P(Symptoms+TestPositive|COVID) + P(notCOVID)*P(Symptoms+TestPositive|notcovid)\n",
    "#chance of tophalf + chance of incorrect\n",
    "#chance of incorrect is probability of not having covid with those symptons\n",
    "#which is 1 - .83\n",
    "#multiplied by the false positive chance P(positive test|no covid)\n",
    "#which is .05\n",
    "bottomhalf = tophalf + (prob_of_NOT_covid_given_symptoms*prob_of_positive_given_nocovid)\n",
    "prob_of_covid_given_test_positive = tophalf/bottomhalf\n",
    "print('probability that an individual has these symptoms and tests positively actually has COVID-19 = ', prob_of_covid_given_test_positive)\n"
   ]
  },
  {
   "cell_type": "markdown",
   "metadata": {},
   "source": [
    "In the general population, only 0.5% have undiagnosed colorectal cancer. The hemoccult test is used in the detection of colorectal cancer is less expensive and much less invasive alternative to colonoscopy. However it is also much less accurate. The test is positive 51% of the time if the patient has the disease, and will be positive 3% of the time if the patient does not have the disease. What is the probability that a patient has colorectal cancer given that the test is negative? Round your answer to 4 decimal places as needed.\n",
    "\n",
    "$$P(A|B)=\\frac{P(A)\\cdot P(B|A)}{P(A)\\cdot P(B|A)+P(A')\\cdot P(B|A')}$$"
   ]
  },
  {
   "cell_type": "code",
   "execution_count": 29,
   "metadata": {},
   "outputs": [
    {
     "name": "stdout",
     "output_type": "stream",
     "text": [
      "probability that an individual has these symptoms and tests positively actually has COVID-19 =  0.002004008016032064\n"
     ]
    }
   ],
   "source": [
    "#undiagnosed cancer as P(A)\n",
    "prob_a = .004\n",
    "\n",
    "#diagnosed cancer as P(A')\n",
    "prob_not_a = 1 - prob_a\n",
    "\n",
    "#we know the probability of positive test, given diagnosed cancer = .51\n",
    "#that gives us P(B'|A')\n",
    "#so to get P(B|A) we do 1 - P(B'|A')\n",
    "prob_b_given_a = 1 - .52\n",
    "\n",
    "\n",
    "#we know that the probability of positive test, given undiagnosed cancer = .03\n",
    "#that gives us P(B'|A)\n",
    "#so we can do 1-P(B'|A) to get our P(B|A')\n",
    "prob_of_b_given_not_a = 1-.04\n",
    "\n",
    "tophalf = prob_a*prob_b_given_a\n",
    "\n",
    "bottomhalf = tophalf + (prob_not_a*prob_of_b_given_not_a)\n",
    "prob_of_covid_given_test_positive = tophalf/bottomhalf\n",
    "print('probability that an individual has these symptoms and tests positively actually has COVID-19 = ', prob_of_covid_given_test_positive)\n"
   ]
  },
  {
   "cell_type": "code",
   "execution_count": 45,
   "metadata": {},
   "outputs": [
    {
     "name": "stdout",
     "output_type": "stream",
     "text": [
      "total with cancer = 9960.0\n",
      "total without cancer = 40.0\n",
      "cancer and positive = 5179.2\n",
      "cancer and negative = 4780.8\n",
      "no cancer and positive = 1.6\n",
      "no cancer and negative = 38.4\n",
      "all positives = 5180.8\n",
      "all negatives = 4819.2\n",
      "0.0038399999999999997\n"
     ]
    }
   ],
   "source": [
    "#alternative bayes solution\n",
    "\n",
    "sample = 10000\n",
    "\n",
    "prob_undiagnosed = .004\n",
    "prob_positive_given_cancer = .52\n",
    "prob_positive_given_nocancer = .04\n",
    "\n",
    "total_with_cancer = sample * (1-prob_undiagnosed)\n",
    "total_without_cancer = sample - total_with_cancer\n",
    "\n",
    "print(f'total with cancer = {total_with_cancer}')\n",
    "print(f'total without cancer = {total_without_cancer}')\n",
    "\n",
    "#prob(positive|diagnosed cancer)\n",
    "#prob of testing positive, given diagnosed cancer\n",
    "cancer_and_positive = prob_positive_given_cancer * total_with_cancer\n",
    "print(f'cancer and positive = {cancer_and_positive}')\n",
    "\n",
    "#aprob(negative|diagnosed cancer)\n",
    "#prob of testing negative, given diagnosed cancer\n",
    "cancer_and_negative = total_with_cancer - cancer_and_positive\n",
    "print(f'cancer and negative = {cancer_and_negative}')\n",
    "\n",
    "#prob(positive|undiagnosed cancer)\n",
    "nocancer_and_positive = prob_positive_given_nocancer * total_without_cancer\n",
    "print(f'no cancer and positive = {nocancer_and_positive}')\n",
    "#prob(negative|undiagnosed cancer)\n",
    "nocancer_and_negative = total_without_cancer - nocancer_and_positive\n",
    "print(f'no cancer and negative = {nocancer_and_negative}')\n",
    "\n",
    "total_with_positive = cancer_and_positive + nocancer_and_positive\n",
    "print(f'all positives = {total_with_positive}')\n",
    "\n",
    "total_with_negative = cancer_and_negative + nocancer_and_negative\n",
    "print(f'all negatives = {total_with_negative}')\n",
    "\n",
    "#now if the probability of a P(A|B) is\n",
    "#probability of undiagnosed cancer, given a negative test\n",
    "# we can look for 'undiagnosed_and_negative\n",
    "print(nocancer_and_negative/sample)\n"
   ]
  },
  {
   "cell_type": "code",
   "execution_count": 55,
   "metadata": {},
   "outputs": [
    {
     "data": {
      "text/plain": [
       "1.0361600000000002"
      ]
     },
     "execution_count": 55,
     "metadata": {},
     "output_type": "execute_result"
    }
   ],
   "source": [
    "5180.8*.0002"
   ]
  },
  {
   "cell_type": "markdown",
   "metadata": {},
   "source": [
    "| |postive test |negative test |\n",
    "|:-:|:-:|:-:|\n",
    "|has cancer||50|\n",
    "|does not have cancer|1|1|"
   ]
  },
  {
   "cell_type": "markdown",
   "metadata": {},
   "source": [
    "#### more complex bayes\n",
    "\n",
    "A study showed that 66% of occupants involved in a fatal car crash wore seat belts. Of those in a fatal car crash who wore seat belts, 17% were ejected from the vehicle. For those not wearing seat belts, 49% were ejected from the vehicle. Determine the following probabilities. Round your answers to four decimal places as needed.\n",
    "\n",
    "Find the probability that a randomly selected person in a fatal car crash who was ejected from the vehicle was wearing a seat belt.\n",
    "\n",
    "Find the probability that a randomly selected person in a fatal car crash who was not ejected from the vehicle was not wearing a seatbelt."
   ]
  },
  {
   "cell_type": "code",
   "execution_count": 43,
   "metadata": {},
   "outputs": [
    {
     "name": "stdout",
     "output_type": "stream",
     "text": [
      "in a fatal car crash who was ejected from the vehicle was wearing a seat belt 0.4024390243902439\n",
      "in a fatal car crash who was not ejected from the vehicle was not wearing a seatbelt 0.24043261231281196\n"
     ]
    }
   ],
   "source": [
    "#probability of fatal crash and seat belt\n",
    "prob_seatbelt = .66\n",
    "prob_noseatbelt = 1-prob_seatbelt\n",
    "prob_seatbelt_and_ejected = .17\n",
    "prob_noseatbelt_and_ejected = .49\n",
    "\n",
    "#probability of ejection\n",
    "prob_ejected=(prob_seatbelt*prob_seatbelt_and_ejected)+(prob_noseatbelt*prob_noseatbelt_and_ejected)\n",
    "\n",
    "#probability of no ejection\n",
    "prob_not_ejected = 1 - prob_ejected\n",
    "\n",
    "#probability of wearing seatbelt given ejected\n",
    "#P(seatbelt|ejected) = \n",
    "#P(seatbelt)*P(ejected|seatbelt)\n",
    "#divided by\n",
    "#P(seatbelt)*P(ejected|seatbelt) + P(noSeatBelt)*P(ejected|noSeatbelt)\n",
    "tophalf = prob_seatbelt * prob_seatbelt_and_ejected\n",
    "bottomhalf = tophalf + (prob_noseatbelt * prob_noseatbelt_and_ejected)\n",
    "prob_seatbelt_given_ejected = tophalf/bottomhalf\n",
    "print('in a fatal car crash who was ejected from the vehicle was wearing a seat belt',prob_seatbelt_given_ejected)\n",
    "\n",
    "#probability of NOT wearing seatbelt given NOT ejected\n",
    "#P(noseatbelt|notejected) = \n",
    "#P(noseatbelt)*P(notejected|noseatbelt)\n",
    "#divided by\n",
    "#PP(noseatbelt)*P(notejected|noseatbelt) + P(SeatBelt)*P(ejected|Seatbelt)\n",
    "tophalf1 = prob_noseatbelt * (1-prob_noseatbelt_and_ejected)\n",
    "bottomhalf1 = prob_not_ejected\n",
    "prob_noseatbelt_given_notejected = tophalf1/prob_not_ejected\n",
    "print('in a fatal car crash who was not ejected from the vehicle was not wearing a seatbelt',prob_noseatbelt_given_notejected)\n",
    "\n",
    "\n",
    "\n",
    "\n"
   ]
  },
  {
   "cell_type": "markdown",
   "metadata": {},
   "source": [
    "### Counting\n",
    "\n"
   ]
  },
  {
   "cell_type": "markdown",
   "metadata": {},
   "source": [
    "#### with repetition\n",
    "Standard automobile license plates in a country display 1 numbers, followed by 2 letters, followed by 4 numbers. How many different standard plates are possible in this country? (Assume repetitions of letters and numbers are allowed.)"
   ]
  },
  {
   "cell_type": "code",
   "execution_count": 45,
   "metadata": {},
   "outputs": [
    {
     "name": "stdout",
     "output_type": "stream",
     "text": [
      "total combinations =  67600000\n"
     ]
    }
   ],
   "source": [
    "possibilities=10*26*26*10*10*10*10\n",
    "print('total combinations = ', possibilities)"
   ]
  },
  {
   "cell_type": "markdown",
   "metadata": {},
   "source": [
    "#### order matters\n",
    "\n",
    "You own 15 CDs with different titles. You want to randomly arrange 5 of them in a CD rack. What is the probability that the rack ends up in alphabetical order by title?\n",
    "\n",
    "The probability that the CDs are in alphabetical order is"
   ]
  },
  {
   "cell_type": "code",
   "execution_count": 70,
   "metadata": {},
   "outputs": [
    {
     "name": "stdout",
     "output_type": "stream",
     "text": [
      "The probability that the CDs are in alphabetical order is =  0.00138889\n"
     ]
    }
   ],
   "source": [
    "def factorial(n):\n",
    "    if n == 0:\n",
    "        return 1\n",
    "    else:\n",
    "        recurse = factorial(n - 1)\n",
    "        result = n * recurse\n",
    "        return result\n",
    "\n",
    "possible_combos = factorial(6)\n",
    "right_combo = 1\n",
    "odds = right_combo/possible_combos\n",
    "print('The probability that the CDs are in alphabetical order is = ',format(odds, '.8f'))"
   ]
  },
  {
   "cell_type": "markdown",
   "metadata": {},
   "source": [
    "#### pick x, match y\n",
    "In a particular lottery game, a player picks 9 numbers from 1 to 47. If 8 of the 9 numbers match those drawn, the player wins $100,000. What is the probability of winning $100,000?"
   ]
  },
  {
   "cell_type": "code",
   "execution_count": 86,
   "metadata": {},
   "outputs": [
    {
     "name": "stdout",
     "output_type": "stream",
     "text": [
      "342\n",
      "odds of winning are =  (342, 1362649145)\n"
     ]
    }
   ],
   "source": [
    "from fractions import Fraction\n",
    "def factorial(n):\n",
    "    if n == 0:\n",
    "        return 1\n",
    "    else:\n",
    "        recurse = factorial(n - 1)\n",
    "        result = n * recurse\n",
    "        return result\n",
    "\n",
    "\n",
    "def perm(n, k):\n",
    "    if n == 0:\n",
    "        return 1\n",
    "    if k > n:\n",
    "        return -1\n",
    "    else:\n",
    "        return (factorial(n)) / factorial(n - k)\n",
    "\n",
    "\n",
    "def comb(n, k):\n",
    "    result = perm(n, k)\n",
    "    result = result / factorial(k)\n",
    "    result = int(result)\n",
    "    return result\n",
    "\n",
    "total_numbers = 47\n",
    "numbs_to_choose = 9\n",
    "numbs_to_win = numbs_to_choose - 1\n",
    "losing_numbers = total_numbers - numbs_to_choose\n",
    "combs_of_groups = comb(total_numbers,numbs_to_choose)\n",
    "combs_of_winner = comb(numbs_to_choose,numbs_to_win)*comb(losing_numbers,1)\n",
    "print(combs_of_winner)\n",
    "odds_of_winning = Fraction(combs_of_winner,combs_of_groups)\n",
    "print('odds of winning are = ', odds_of_winning.as_integer_ratio())"
   ]
  },
  {
   "cell_type": "markdown",
   "metadata": {},
   "source": [
    "### Expected Value\n",
    "\n",
    "|probability|scores|\n",
    "|:-:|:-:|\n",
    "|.05|0|\n",
    "|.1|1|\n",
    "|.15|5|\n",
    "|.35|6|\n",
    "|.25|9|\n",
    "|.05|10|\n",
    "|.05|13|"
   ]
  },
  {
   "cell_type": "code",
   "execution_count": 89,
   "metadata": {},
   "outputs": [
    {
     "name": "stdout",
     "output_type": "stream",
     "text": [
      "6.35\n"
     ]
    }
   ],
   "source": [
    "import numpy as np\n",
    "\n",
    "def expected_value(values, weights):\n",
    "    values = np.asarray(values)\n",
    "    weights = np.asarray(weights)\n",
    "    return (values * weights).sum() / weights.sum()\n",
    "\n",
    "scores = [0,1,5,6,9,10,13]\n",
    "probability = [.05,.1,.15,.35,.25,.05,.05]\n",
    "\n",
    "ev = expected_value(scores,probability)\n",
    "print(ev)"
   ]
  },
  {
   "cell_type": "markdown",
   "metadata": {},
   "source": [
    "#### ev of warranty\n",
    "A company estimates that 0.8% of their products will fail after the original warranty period but within 2 years of the purchase, with a replacement cost of $350.\n",
    "\n",
    "If they offer a 2 year extended warranty for $24, what is the company's expected value of each warranty sold?"
   ]
  },
  {
   "cell_type": "code",
   "execution_count": 101,
   "metadata": {},
   "outputs": [
    {
     "name": "stdout",
     "output_type": "stream",
     "text": [
      "32.0\n"
     ]
    }
   ],
   "source": [
    "prob_failure = .005\n",
    "prob_nofail = 1 - prob_failure\n",
    "replacement = 400\n",
    "warranty = 34\n",
    "exp_val = (warranty)-(prob_failure * replacement)\n",
    "print(exp_val)\n"
   ]
  },
  {
   "cell_type": "markdown",
   "metadata": {},
   "source": [
    "## Module 5: Graphs"
   ]
  },
  {
   "cell_type": "markdown",
   "metadata": {},
   "source": [
    "### Basics\n",
    "vertex = how many lines come out\n",
    "\n",
    "connected = every vertice is connected\n",
    "\n",
    "unconnected = if at least two vertices are not connected by a path\n",
    "\n",
    "eulers path = A graph will contain an Euler path if it contains at most two vertices of odd degree.\n",
    "\n",
    "eulers circuit = A graph will contain an Euler circuit if all vertices have even degree\n",
    "\n",
    "eulerize = If a graph has 20 vertices with odd degree (valence), what is the smallest number of edges that would need be duplicated to eulerize the graph? divide by 2\n",
    "\n",
    "eulerize most efficient = find odd vertexes. make cheapest connection directly between them (weight = shortest path)\n",
    "\n",
    "Hamiltonian Circuits and Paths A Hamiltonian circuit is a circuit that visits every vertex once with no repeats. Being a circuit, it must start and end at the same vertex. A Hamiltonian path also visits every vertex once with no repeats, but does not have to start and end at the same vertex\n",
    "\n",
    "Nearest Neighbor Algorithm (NNA) \n",
    "\n",
    "1. Select a starting point. \n",
    "\n",
    "2. Move to the nearest unvisited vertex (the edge with smallest weight). \n",
    "\n",
    "3. Repeat until the circuit is complete.\n",
    "\n",
    "Sorted Edges Algorithm (a.k.a. Cheapest Link Algorithm)  \n",
    "1. Select the cheapest unused edge in the graph. \n",
    "2. Repeat step 1, adding the cheapest unused edge to the circuit, unless: a. adding the edge would create a circuit that doesn’t contain all vertices, or b. adding the edge would give a vertex degree 3. \n",
    "3. Repeat until a circuit containing all vertices is formed\n",
    "\n",
    "\n",
    "Spanning Tree\n",
    "\n",
    "A spanning tree is a connected graph using all vertices in which there are no circuits.\n",
    "\n",
    "In other words, there is a path from any vertex to any other vertex, but no circuits. \n",
    "\n",
    "Kruskal’s Algorithm\n",
    "1. Select the cheapest unused edge in the graph.\n",
    "2. Repeat step 1, adding the cheapest unused edge, unless:\n",
    "a. adding the edge would create a circuit\n",
    "3. Repeat until a spanning tree is formed"
   ]
  },
  {
   "cell_type": "markdown",
   "metadata": {},
   "source": [
    "### shortest path\n",
    "![alt text](graphimage.png \"Title\")\n",
    "\n",
    "Find the shortest path from vertex A to vertex L. Give your answer as a sequence of vertexes, like ABCFIL"
   ]
  },
  {
   "cell_type": "code",
   "execution_count": 2,
   "metadata": {},
   "outputs": [],
   "source": [
    "import string\n",
    "\n",
    "class Node(object):\n",
    "    '''\n",
    "    This is a class that represents a node. The functions of a class are called methods. Instantiations of this class\n",
    "    will create objects that have access to the methods. \n",
    "    \n",
    "    Each method begins with an argument of \"self\" which lets the methos know which object it belongs to.\n",
    "    \n",
    "    For the Node object, we care about the name of the node and a dictionary naming the adjacent nodes. The adjacent\n",
    "    dictionary keys will be the name's of adjacent nodes and the value will be the weight of that edge.\n",
    "    '''\n",
    "    def __init__(self, name):\n",
    "        # The init method is magic python method that get's called when an object is instantiated. \n",
    "        self.name = name  # Take the name given at instantiation and assign it to the object\n",
    "        self.adjacent = {}  # When we create the node, we don't know about any adjacent nodes. Create a placeholder\n",
    "        \n",
    "    def __str__(self):\n",
    "        # When printing a node, format it like this:\n",
    "        return \"Node {}: {}\".format(self.name, self.adjacent)\n",
    "    \n",
    "    def __repr__(self):\n",
    "        # When representing this object, use the str method\n",
    "        return self.__str__()\n",
    "\n",
    "class Graph(object):\n",
    "    '''\n",
    "    This class represents a graph. The graph is consists of a collection of nodes. \n",
    "    '''\n",
    "    def __init__(self, adjacency_matrix=None):\n",
    "        '''\n",
    "        When the graph is instantiated it will not know about any of its member nodes. There is an optional \n",
    "        `adjacency_matrix` argument that defaults to None. If an adjacency_matrix is provided, then we can \n",
    "        create the member nodes, their relationships, and add them to this graph.\n",
    "        '''\n",
    "        self.nodes = {}\n",
    "        if adjacency_matrix:\n",
    "            # We were provided an adjacency matrix\n",
    "            self._create_member_nodes_from_adjacency_matrix(adjacency_matrix)\n",
    "            \n",
    "    def __str__(self):\n",
    "        return '\\n'.join([str(n) for n in self.nodes.values()])\n",
    "    \n",
    "    def __repr__(self):\n",
    "        return self.__str__()\n",
    "    \n",
    "    def _create_member_nodes_from_adjacency_matrix(self, adjacency_matrix):\n",
    "        # A preceeding underscore indicetes a method that is only called within the class. \n",
    "        # Create nodes and weights from an adjacency matrix (list of lists) and assign them to this graph\n",
    "        letters = list(string.ascii_lowercase)  # Get a list of letters to assign to the nodes we create\n",
    "        needed_letters = len(adjacency_matrix)\n",
    "        if needed_letters > len(letters):\n",
    "            # Give the user an error that the input matrix is too large to have \n",
    "            raise ValueError(\"The matrix is too large to create from 26 letters. Please manually assign names to nodes and then add them to the graph.\")\n",
    "        \n",
    "        for i, row in enumerate(adjacency_matrix):  # get an index of the row and the contentx of the row\n",
    "            letter_name = letters[i]\n",
    "            node = Node(letter_name)\n",
    "            for j, column_value in enumerate(row):\n",
    "                if column_value != 0:  # There is an adjacent node here\n",
    "                    adjacent_letter_name = letters[j]\n",
    "                    node.adjacent[adjacent_letter_name] = column_value\n",
    "            self.nodes[letter_name] = node\n",
    "            \n",
    "    def get_distance_of_path(self, path):\n",
    "        # Given a list of node names within the graph, find its distance using the node adjacency measures\n",
    "        distance = 0\n",
    "        for i, node_name in enumerate(path[:-1]):\n",
    "            # Gets the index and node name for each in the path except for the last one\n",
    "            this_node = self.nodes[node_name]\n",
    "            next_node = self.nodes[path[i+1]]\n",
    "            distance += this_node.adjacent[next_node.name]  # Get the distance from this_node to next node\n",
    "        \n",
    "        return distance\n",
    "    \n",
    "    def find_all_paths_between(self, a, b, path=None):\n",
    "        if not path:\n",
    "            # No path list provided, create one\n",
    "            path = []\n",
    "\n",
    "        path = path + [a] # Add a to the path\n",
    "\n",
    "        if a == b:  # This is a path to itself, at the end of a path\n",
    "            return [path]\n",
    "        if a not in self.nodes:  # a could not be found in the graph\n",
    "            return []\n",
    "        paths = []\n",
    "        for node in self.nodes[a].adjacent:  # look to adjacent nodes of a\n",
    "            if node not in path:\n",
    "                newpaths = self.find_all_paths_between(node, b, path)  # Recursivly go down another level\n",
    "                for newpath in newpaths:\n",
    "                    paths.append(newpath)\n",
    "        return paths\n",
    "    \n",
    "    def shortest_path(self, a, b):\n",
    "        # Get the distance of each weighted path and return the shortest\n",
    "        all_paths = self.find_all_paths_between(a, b)\n",
    "        \n",
    "        if not all_paths:\n",
    "            return []\n",
    "        \n",
    "        # The shortest path will be the first path in the list\n",
    "        shortest_path = None\n",
    "        shortest_distance = None\n",
    "        \n",
    "        for path in all_paths:\n",
    "            p_distance = self.get_distance_of_path(path)\n",
    "            if not shortest_distance or p_distance < shortest_distance:\n",
    "                # This path is shorter\n",
    "                shortest_path = path\n",
    "                shortest_distance = p_distance\n",
    "                \n",
    "        return shortest_path\n",
    "    \n",
    "    def is_tree(self):\n",
    "        # returns True if the graph is a tree, otherwise False\n",
    "        \n",
    "        node_names = list(self.nodes.keys())\n",
    "        first = node_names[0]  # Make sure the first node has a path to all other nodes\n",
    "        second = node_names[1]  # Used to determine if acyclic\n",
    "        \n",
    "        for node in node_names:\n",
    "            if node == first:\n",
    "                continue  # Don't compare it against itself\n",
    "            if not self.find_all_paths_between(first, node):\n",
    "                return False  # No path was found between first and node, this must not be a tree\n",
    "            \n",
    "        # Check if cyclic. Trees must be acyclic.\n",
    "        paths_back = self.find_all_paths_between(first, second)\n",
    "        adjacent = [first, second] in paths_back\n",
    "        for p in paths_back:\n",
    "            if set(p) == set(node_names) and adjacent:\n",
    "                # This path contains each node and returns to itself. It is cyclic\n",
    "                return False\n",
    "        \n",
    "        return True\n",
    "        "
   ]
  },
  {
   "cell_type": "code",
   "execution_count": null,
   "metadata": {},
   "outputs": [],
   "source": [
    "matrix = [\n",
    "    # Distance to \n",
    "    # A   B   C   D   E   F   G   H   I   J   K   L\n",
    "    [ 0,  12, 0,   1, 0,  0,  0,  0,  0,  0,  0,  0],  # Node A distances to [A, B, C, D, E, F, G, G, I, J, K]\n",
    "    [ 9,  0,  13, 0,  12, 0,  0,  0,  0,  0,  0,  0],  # B\n",
    "    [ 0,  13, 0,  0,  0,  24, 0,  0,  0,  0,  0,  0],  # C\n",
    "    [ 14, 0,  0,  0,  10, 0,  8,  0,  0,  0,  0,  0],  # D\n",
    "    [ 0,  12, 0,  10, 0,  30, 0,  20, 0,  0,  0,  0],  # E\n",
    "    [ 0,  0,  24, 0,  30, 0,  0,  0,  23, 0,  0,  0],  # F\n",
    "    [ 0,  0,  0,  8,  0,  0,  0,  29, 0,  22, 0,  0],  # G\n",
    "    [ 0,  0,  0,  0,  20, 0,  29, 0,  2,  0,  15, 0],  # H\n",
    "    [ 0,  0,  0,  0,  0,  23, 0,  2,  0,  0,  0,  1],  # I\n",
    "    [ 0,  0,  0,  0,  0,  0,  22, 0,  0,  0,  4,  0],  # J\n",
    "    [ 0,  0,  0,  0,  0,  0,  0,  15, 0,  4,  0,  17],  # K\n",
    "    [ 0,  0,  0,  0,  0,  0,  0,  0,  1,  0,  17, 0],  # L\n",
    "] \n",
    "\n",
    "g = Graph(matrix)\n",
    "g.shortest_path('a', 'l')"
   ]
  },
  {
   "cell_type": "code",
   "execution_count": 123,
   "metadata": {},
   "outputs": [
    {
     "name": "stdout",
     "output_type": "stream",
     "text": [
      "12\n",
      "[0, 12, 0, 1, 0, 0, 0, 0, 0, 0, 0, 0] 12\n",
      "[12, 0, 22, 0, 13, 0, 0, 0, 0, 0, 0, 0] 12\n",
      "[0, 22, 0, 0, 0, 9, 0, 0, 0, 0, 0, 0] 12\n",
      "[1, 0, 0, 0, 29, 0, 19, 0, 0, 0, 0, 0] 12\n",
      "[0, 13, 0, 29, 0, 27, 0, 21, 0, 0, 0, 0] 12\n",
      "[0, 0, 9, 0, 27, 0, 0, 0, 3, 0, 0, 0] 12\n",
      "[0, 0, 0, 19, 0, 0, 0, 30, 0, 5, 0, 0] 12\n",
      "[0, 0, 0, 0, 21, 0, 30, 0, 15, 0, 0, 0] 12\n",
      "[0, 0, 0, 0, 0, 3, 0, 15, 0, 0, 0, 17] 12\n",
      "[0, 0, 0, 0, 0, 0, 5, 0, 0, 0, 25, 0] 12\n",
      "[0, 0, 0, 0, 0, 0, 0, 2, 0, 25, 0, 26] 12\n",
      "[0, 0, 0, 0, 0, 0, 0, 0, 17, 0, 26, 0] 12\n"
     ]
    },
    {
     "data": {
      "text/plain": [
       "['a', 'b', 'c', 'f', 'i', 'l']"
      ]
     },
     "execution_count": 123,
     "metadata": {},
     "output_type": "execute_result"
    }
   ],
   "source": [
    "a_connectors = [0,12,0,1,0,0,0,0,0,0,0,0]\n",
    "b_connectors = [12,0,22,0,13,0,0,0,0,0,0,0]\n",
    "c_connectors = [0,22,0,0,0,9,0,0,0,0,0,0]\n",
    "d_connectors = [1,0,0,0,29,0,19,0,0,0,0,0]\n",
    "e_connectors = [0,13,0,29,0,27,0,21,0,0,0,0]\n",
    "f_connectors = [0,0,9,0,27,0,0,0,3,0,0,0]\n",
    "g_connectors = [0,0,0,19,0,0,0,30,0,5,0,0]\n",
    "h_connectors = [0,0,0,0,21,0,30,0,15,0,0,0]\n",
    "i_connectors = [0,0,0,0,0,3,0,15,0,0,0,17]\n",
    "j_connectors = [0,0,0,0,0,0,5,0,0,0,25,0]\n",
    "k_connectors = [0,0,0,0,0,0,0,2,0,25,0,26]\n",
    "l_connectors = [0,0,0,0,0,0,0,0,17,0,26,0]\n",
    "#use the checker below to make sure your matrix has the right length of 12\n",
    "#print(len(b_connectors))\n",
    "matrix = [a_connectors,b_connectors,c_connectors,d_connectors,e_connectors,f_connectors,g_connectors,h_connectors,i_connectors,j_connectors,k_connectors,l_connectors]\n",
    "#check that you have 12 sets of connected vertices\n",
    "print(len(matrix))\n",
    "#check that each has 12\n",
    "for i in matrix:\n",
    "    print(i,len(i))\n",
    "\n",
    "g = Graph(matrix)\n",
    "g.shortest_path('a', 'l')"
   ]
  },
  {
   "cell_type": "markdown",
   "metadata": {},
   "source": [
    "#### more shortest path\n",
    "![alt text](graph2.png \"Title\")"
   ]
  },
  {
   "cell_type": "code",
   "execution_count": 2,
   "metadata": {},
   "outputs": [
    {
     "name": "stdout",
     "output_type": "stream",
     "text": [
      "The shortest way from A -> B is via ['a', 'c', 'd', 'b'] with a distance of 26\n"
     ]
    }
   ],
   "source": [
    "# This time we instantiate the Node and Graph without the matrix\n",
    "a, b, c, d, e = Node('a'), Node('b'), Node('c'), Node('d'), Node('e')\n",
    "a.adjacent = {'c': 6, 'd': 19, 'e': 14}\n",
    "b.adjacent = {'c': 25, 'd':15, 'e': 21}\n",
    "c.adjacent = {'a': 6, 'b': 25, 'd': 5, 'e': 4}\n",
    "d.adjacent = {'a': 19, 'b': 15, 'c': 5, 'e': 20}\n",
    "e.adjacent = {'a': 14, 'b': 21, 'c': 4, 'd': 20}\n",
    "\n",
    "g = Graph()\n",
    "g.nodes = {n.name: n for n in [a, b, c, d, e]}\n",
    "\n",
    "path = g.shortest_path('a', 'b')\n",
    "distance = g.get_distance_of_path(path)\n",
    "\n",
    "print(f\"The shortest way from A -> B is via {path} with a distance of {distance}\")"
   ]
  },
  {
   "cell_type": "markdown",
   "metadata": {},
   "source": [
    "#### no repeat\n",
    "![alt text](doorwaysgraph.png \"Title\")"
   ]
  },
  {
   "cell_type": "code",
   "execution_count": 5,
   "metadata": {},
   "outputs": [
    {
     "name": "stdout",
     "output_type": "stream",
     "text": [
      "[['f']]\n"
     ]
    }
   ],
   "source": [
    "# This time we instantiate the Node and Graph without the matrix\n",
    "a, b, c, d, e, f = Node('a'), Node('b'), Node('c'), Node('d'), Node('e'), Node('f')\n",
    "a.adjacent = {'d': 1, 'f': 1}\n",
    "b.adjacent = {'e':1, 'f': 1}\n",
    "c.adjacent = {'d': 1, 'f': 1}\n",
    "d.adjacent = {'a': 1, 'c': 1, 'f': 1, 'f': 1}\n",
    "e.adjacent = {'b': 1, 'f': 1}\n",
    "f.adjacent = {'a': 1, 'b': 1, 'c': 1, 'd': 1, 'd': 1, 'e': 1, 'e': 1}\n",
    "\n",
    "g = Graph()\n",
    "g.nodes = {n.name: n for n in [a, b, c, d, e, f]}\n",
    "\n",
    "path = g.find_all_paths_between('f', 'f')\n",
    "print(path)\n"
   ]
  },
  {
   "cell_type": "markdown",
   "metadata": {},
   "source": [
    "## Module 6: Limits and Derivatives"
   ]
  },
  {
   "cell_type": "markdown",
   "metadata": {},
   "source": [
    "### Single Limit\n",
    "Find the following limit:\n",
    "    \n",
    "$$\\lim_{x \\to 8} \\frac{x^3 - 6x^2 - 17x + 8}{x-8}$$ \n",
    "    \n"
   ]
  },
  {
   "cell_type": "code",
   "execution_count": 16,
   "metadata": {},
   "outputs": [
    {
     "name": "stdout",
     "output_type": "stream",
     "text": [
      "79\n"
     ]
    }
   ],
   "source": [
    "from sympy import Symbol, limit\n",
    "\n",
    "#define the symbol being used\n",
    "x = Symbol('x')\n",
    "\n",
    "#define the actual function\n",
    "f_x = (x**3 - 6*x**2 - 17*x + 8) / (x-8)\n",
    "\n",
    "#find the limit\n",
    "#limit(function,symbol,the number approached)\n",
    "#function below is saying for f_x, as x approaches 8 what is the limit\n",
    "li = limit(f_x, x, 8)\n",
    "print(li)"
   ]
  },
  {
   "cell_type": "markdown",
   "metadata": {},
   "source": [
    "### Piecewise Limit\n",
    "\n",
    "$$ f(x)=   \\left\\{\n",
    "\\begin{array}{ll}\n",
    "      -\\frac{12}{x+3} & x<-1 \\\\\n",
    "      -6 & x=-1 \\\\\n",
    "      \\frac{6}{x} & x>-1 \\\\\n",
    "\\end{array} \n",
    "\\right.  $$\n",
    "\n",
    "Rules to remember:\n",
    "\n",
    "If all three are defined & equal for $x$, then $f(x)$ is continuous at the given $x$\n",
    "\n",
    "$f$ is not continuous where denom = 0"
   ]
  },
  {
   "cell_type": "code",
   "execution_count": 4,
   "metadata": {},
   "outputs": [
    {
     "data": {
      "image/png": "[encoded data removed]",
      "text/plain": [
       "<Figure size 640x480 with 1 Axes>"
      ]
     },
     "metadata": {},
     "output_type": "display_data"
    },
    {
     "name": "stdout",
     "output_type": "stream",
     "text": [
      "from - -6\n",
      "from + -6\n",
      "-6\n",
      "Approaching from negative infinity -6\n",
      "Approaching from positive infinity -6\n"
     ]
    }
   ],
   "source": [
    "#\n",
    "from sympy import Symbol, limit, Piecewise\n",
    "from sympy.plotting import plot\n",
    "\n",
    "#define the symbol\n",
    "x = Symbol('x')\n",
    "\n",
    "#define the piecewise function\n",
    "#it should be input as Piecewise((function1,constraint),(function2,constraint2))\n",
    "f_x = Piecewise((-1*(12/(x+3)), x < -1),(-6, x == 1),(6/x,  x > -1))\n",
    "\n",
    "#figure out how to get the plot to actually work\n",
    "plot(f_x, ylim = (-10, 7))\n",
    "print('from -',f_x.limit(x, -1, '+'))\n",
    "print('from +',f_x.limit(x, -1, '-'))\n",
    "\n",
    "#print the limit\n",
    "print(f_x.limit(x, -1))\n",
    "print(\"Approaching from negative infinity\", limit(f_x,x,-1,\"-\"))\n",
    "print(\"Approaching from positive infinity\", limit(f_x,x,-1,\"+\"))\n"
   ]
  },
  {
   "cell_type": "markdown",
   "metadata": {},
   "source": [
    "### find the derviative"
   ]
  },
  {
   "cell_type": "code",
   "execution_count": null,
   "metadata": {},
   "outputs": [],
   "source": [
    "from sympy import Symbol, diff, lambdify\n",
    "from IPython.display import display\n",
    "\n",
    "t = Symbol('t')\n",
    "p = 2*t**3 + 27*t**2 + 120*t + 6\n",
    "der_f = p.diff(t)\n",
    "func_der_f = lambdify(t, der_f)\n",
    "\n",
    "\n",
    "display(der_f)\n",
    "\n",
    "print(\"The rate of change at t=7 is \",func_der_f(3))\n"
   ]
  },
  {
   "cell_type": "markdown",
   "metadata": {},
   "source": [
    "### Average Velocity\n",
    "\n",
    "A ball is thrown into the air with an initial velocity of 64 ft/s. Its height in feet after t seconds is given by $y = 64 t − 16 t^{2} .$ \n",
    "\n",
    "(a) Find the average velocity for the time period beginning at 2 seconds and lasting for the following number of seconds (round your answers to four decimals as needed):\n",
    "\n",
    "(b) Estimate the instanteneous velocity when  t=2\n",
    " "
   ]
  },
  {
   "cell_type": "code",
   "execution_count": 5,
   "metadata": {},
   "outputs": [
    {
     "data": {
      "text/latex": [
       "$\\displaystyle 64 - 32 t$"
      ],
      "text/plain": [
       "64 - 32*t"
      ]
     },
     "metadata": {},
     "output_type": "display_data"
    },
    {
     "name": "stdout",
     "output_type": "stream",
     "text": [
      "the velocity at 2.01 is -0.1599999999999966\n",
      "the velocity at 2.005 is -0.0799999999999983\n",
      "the velocity at 2.002 is -0.031999999999996476\n",
      "the velocity at 2.001 is -0.015999999999998238\n"
     ]
    }
   ],
   "source": [
    "from sympy import Symbol, diff, lambdify\n",
    "from IPython.display import display\n",
    "\n",
    "t = Symbol('t')\n",
    "y = 64*t - 16*t**2\n",
    "der_y = y.diff(t)\n",
    "func_der_y = lambdify(t, der_y)\n",
    "\n",
    "times_for_vel = [2.01,2.005,2.002,2.001]\n",
    "\n",
    "zerotime = 2\n",
    "\n",
    "display(der_y)\n",
    "\n",
    "for i in times_for_vel:\n",
    "    base_answer = func_der_y(i)\n",
    "    base_speed = func_der_y(2)\n",
    "    #use base time of 2 because two speeds, answer speed and base speed of 0\n",
    "    base_time = 2\n",
    "    answer = (base_answer - base_speed)/base_time\n",
    "    print(f'the velocity at {i} is {answer}')\n"
   ]
  },
  {
   "cell_type": "markdown",
   "metadata": {},
   "source": [
    "### Bacterial Growth\n",
    "\n",
    "An antibiotic is applied to a culture of bacteria. The number of bacteria cells remaining in the culture is given by $p(t) = \\frac{13000}{5 t^{2} + 4}$ , for t ≥ 0 where t represents elapsed time in seconds.\n",
    "\n",
    "Determine the rate of change with respect to time: \n",
    " \n",
    "$p'(t)=$ ____\n",
    "\n",
    "Determine the rate of change at t=3:"
   ]
  },
  {
   "cell_type": "code",
   "execution_count": 7,
   "metadata": {},
   "outputs": [
    {
     "data": {
      "text/latex": [
       "$\\displaystyle - \\frac{130000 t}{\\left(5 t^{2} + 4\\right)^{2}}$"
      ],
      "text/plain": [
       "-130000*t/(5*t**2 + 4)**2"
      ]
     },
     "metadata": {},
     "output_type": "display_data"
    },
    {
     "name": "stdout",
     "output_type": "stream",
     "text": [
      "The rate of change at t=3 is  -162.4323198667222\n",
      "The rate of change at t=100 is  -0.005199168099829351\n"
     ]
    }
   ],
   "source": [
    "from sympy import Symbol, diff, lambdify\n",
    "from IPython.display import display\n",
    "\n",
    "t = Symbol('t')\n",
    "p = 13000/(5*t**2 + 4)\n",
    "der_f = p.diff(t)\n",
    "func_der_f = lambdify(t, der_f)\n",
    "\n",
    "\n",
    "display(der_f)\n",
    "\n",
    "print(\"The rate of change at t=3 is \",func_der_f(3))\n",
    "print(\"The rate of change at t=100 is \",func_der_f(100))"
   ]
  },
  {
   "cell_type": "markdown",
   "metadata": {},
   "source": [
    "### Marginal Revenue\n",
    "\n",
    "Winter Fun© has determined that the total revenue (in dollars) for its west coast factory from the sale of x Blazing Blue snowmobiles is given by\n",
    "\n",
    "\\begin{equation}\n",
    "R(x) = \\frac{2500x}{ln(5x+5)}\n",
    "\\end{equation}\n",
    "\n",
    "Find the marginal revenue when 150 Blazing Blue snowmobiles are sold.\n",
    "\n",
    "a)  R'(150)=\n",
    "\n",
    "b) interpret the answer from part a\n",
    "Revenue will _____ by $___ for ____ more snowmobiles sold when the number of snowmobiles produced and sold is _____"
   ]
  },
  {
   "cell_type": "code",
   "execution_count": 11,
   "metadata": {},
   "outputs": [
    {
     "data": {
      "text/latex": [
       "$\\displaystyle - \\frac{12500 x}{\\left(5 x + 5\\right) \\log{\\left(5 x + 5 \\right)}^{2}} + \\frac{2500}{\\log{\\left(5 x + 5 \\right)}}$"
      ],
      "text/plain": [
       "-12500*x/((5*x + 5)*log(5*x + 5)**2) + 2500/log(5*x + 5)"
      ]
     },
     "metadata": {},
     "output_type": "display_data"
    },
    {
     "name": "stdout",
     "output_type": "stream",
     "text": [
      "Marginal Revenue when 150 Blazing Blue snowmobiles are produced = 320.71\n",
      "Marginal Revenue when 300 Blazing Blue snowmobiles are produced = 295.15\n",
      "Revenue will increase by $320.71 for 1 more snowmobiles sold when the number of snowmobiles produced and sold is 150\n"
     ]
    }
   ],
   "source": [
    "from sympy import symbols, diff, lambdify, log\n",
    "from IPython.display import display\n",
    "\n",
    "x = symbols('x')\n",
    "R = (2500 * x) / log(5*x + 5)\n",
    "R_p = R.diff(x)\n",
    "func_R_p = lambdify(x,R_p)\n",
    "# a)\n",
    "display(R_p)\n",
    "\n",
    "# b)\n",
    "numb_to_make = 150\n",
    "ans_1 = round(func_R_p(numb_to_make),2)\n",
    "numb_to_test = 300\n",
    "ans_2 =  round(func_R_p(numb_to_test),2)\n",
    "\n",
    "tester = 'decrease'\n",
    "if ans_1 > 0:\n",
    "    tester = 'increase'\n",
    "\n",
    "\n",
    "print(f\"Marginal Revenue when {numb_to_make} Blazing Blue snowmobiles are produced = {ans_1}\")\n",
    "print(f\"Marginal Revenue when {numb_to_test} Blazing Blue snowmobiles are produced = {ans_2}\")\n",
    "print(f'Revenue will {tester} by ${ans_1} for 1 more snowmobiles sold when the number of snowmobiles produced and sold is {numb_to_make}')"
   ]
  },
  {
   "cell_type": "markdown",
   "metadata": {},
   "source": [
    "### Swallow's Velocity and Height\n",
    "\n",
    "A swallow is sitting on a tree branch a certain height above the ground and decides to fly away. Its height (in meters) above the ground can be modeled by the function $h ( t ) = − 3 t^{2} + 3 t + 60 $, where t is elapsed time in seconds after the swallow takes flight.\n",
    "\n",
    "Find the height above the ground of the swallow before taking flight: \n",
    "\n",
    "Find the height above the ground of the swallow at t = 3.57 seconds:\n",
    "\n",
    "Find the initial velocity of the swallow: \n",
    "\n",
    "Find the velocity of the swallow at t = 3.57 seconds:\n",
    "\n",
    "Find the initial acceleration of the swallow: \n",
    "\n",
    "Find the acceleration of the swallow at t = 3.57 seconds:"
   ]
  },
  {
   "cell_type": "code",
   "execution_count": 14,
   "metadata": {},
   "outputs": [
    {
     "name": "stdout",
     "output_type": "stream",
     "text": [
      "height at t=0 is 60\n",
      "height at t=3.57 is 32.475300000000004\n",
      "vel at t=0 is 3\n",
      "vel at t=3.57 is -18.419999999999998\n",
      "vel at t=0 is -6\n",
      "vel at t=3.57 is -6\n"
     ]
    }
   ],
   "source": [
    "from sympy import symbols, diff, lambdify\n",
    "from IPython.display import display\n",
    "\n",
    "t = symbols('t')\n",
    "#height aka position\n",
    "h = -3*t**2 + 3*t + 60\n",
    "h_func = lambdify(t,h)\n",
    "\n",
    "#velocity, the derivative of position with respect to time\n",
    "deriv_h = h.diff(t)\n",
    "deriv_h_func = lambdify(t,deriv_h)\n",
    "\n",
    "#acceleration, the derivative of velocity with respect to time\n",
    "dub_deriv_h = deriv_h.diff(t)\n",
    "dub_deriv_h_func = lambdify(t,dub_deriv_h)\n",
    "\n",
    "time1 = 0\n",
    "time2 = 3.57\n",
    "\n",
    "#answers\n",
    "height_t_0 = h_func(time1)\n",
    "print(f'height at t={time1} is {height_t_0}')\n",
    "\n",
    "height_t_part2 = h_func(time2)\n",
    "print(f'height at t={time2} is {height_t_part2}')\n",
    "\n",
    "init_velocity = deriv_h_func(time1)\n",
    "print(f'vel at t={time1} is {init_velocity}')\n",
    "\n",
    "part2_velocity = deriv_h_func(time2)\n",
    "print(f'vel at t={time2} is {part2_velocity}')\n",
    "\n",
    "init_accel = dub_deriv_h_func(time1)\n",
    "print(f'vel at t={time1} is {init_accel}')\n",
    "\n",
    "part2_accel = dub_deriv_h_func(time1)\n",
    "print(f'vel at t={time2} is {part2_accel}')"
   ]
  },
  {
   "cell_type": "markdown",
   "metadata": {},
   "source": [
    "### rate of change \n",
    "\n",
    "The amount of funds available for a particular endowment fund (in thousands of dollars) after t years is given by: \n",
    "\n",
    "$f ( t ) = e^{0.47 t + 5}$\n",
    "\n",
    "Find the rate of change in the endowment fund after 8 years. $_____"
   ]
  },
  {
   "cell_type": "code",
   "execution_count": 21,
   "metadata": {},
   "outputs": [
    {
     "data": {
      "text/latex": [
       "$\\displaystyle e^{0.47 t + 5}$"
      ],
      "text/plain": [
       "exp(0.47*t + 5)"
      ]
     },
     "metadata": {},
     "output_type": "display_data"
    },
    {
     "name": "stdout",
     "output_type": "stream",
     "text": [
      "roc at 8 years in is $2995832.44\n"
     ]
    }
   ],
   "source": [
    "from sympy import symbols, diff, lambdify, exp\n",
    "from IPython.display import display\n",
    "\n",
    "t = symbols('t')\n",
    "#height aka position\n",
    "funds = exp(0.47*t +5)\n",
    "funds_diff = funds.diff(t)\n",
    "funds_diff_func = lambdify(t,funds_diff)\n",
    "\n",
    "display(funds)\n",
    "\n",
    "year_in_fund = 8\n",
    "answer_fund_roc = funds_diff_func(year_in_fund)\n",
    "\n",
    "print(f'roc at {year_in_fund} years in is ${round(answer_fund_roc*1000,2)}')"
   ]
  },
  {
   "cell_type": "markdown",
   "metadata": {},
   "source": [
    "The number of per capita cumulative cases of COVID-19 in a particular country can be modeled by $g ( t ) = ln ( 8 t^3 )$ , where t represents the number of days after the first 100 days."
   ]
  },
  {
   "cell_type": "code",
   "execution_count": 32,
   "metadata": {},
   "outputs": [
    {
     "data": {
      "text/latex": [
       "$\\displaystyle \\frac{3}{t}$"
      ],
      "text/plain": [
       "3/t"
      ]
     },
     "metadata": {},
     "output_type": "display_data"
    },
    {
     "name": "stdout",
     "output_type": "stream",
     "text": [
      "roc at 181 days in is 0.037\n"
     ]
    }
   ],
   "source": [
    "from sympy import symbols, diff, lambdify, exp, log\n",
    "from IPython.display import display\n",
    "\n",
    "t = symbols('t')\n",
    "#height aka position\n",
    "covids = (log(8*t**3))\n",
    "covids_diff = covids.diff(t)\n",
    "covids_diff_func = lambdify(t,covids_diff)\n",
    "\n",
    "display(covids_diff)\n",
    "\n",
    "daysincovid = 181\n",
    "afternum = 100\n",
    "days = daysincovid - afternum\n",
    "covidanswer = covids_diff_func(days)\n",
    "\n",
    "print(f'roc at {daysincovid} days in is {round(covidanswer,4)}')"
   ]
  },
  {
   "cell_type": "markdown",
   "metadata": {},
   "source": [
    "The depth (in feet) of water at a dock changes with the rise and fall of tides. The depth is modeled by the function\n",
    "\n",
    "$D(t)=3sin(\\frac{\\pi}{4}t+\\frac{7\\pi}{4})+5$"
   ]
  },
  {
   "cell_type": "code",
   "execution_count": 34,
   "metadata": {},
   "outputs": [
    {
     "data": {
      "text/latex": [
       "$\\displaystyle \\frac{3 \\pi \\sin{\\left(\\frac{\\pi t}{4} + \\frac{\\pi}{4} \\right)}}{4}$"
      ],
      "text/plain": [
       "3*pi*sin(pi*t/4 + pi/4)/4"
      ]
     },
     "metadata": {},
     "output_type": "display_data"
    },
    {
     "name": "stdout",
     "output_type": "stream",
     "text": [
      "roc at 1 hours in is 2.3562\n"
     ]
    }
   ],
   "source": [
    "from sympy import symbols, diff, lambdify, exp, log, sin, pi\n",
    "from IPython.display import display\n",
    "\n",
    "t = symbols('t')\n",
    "#height aka position\n",
    "Dfun = 3*sin((pi/4)*t+((7*pi)/4))+5\n",
    "d_diff = Dfun.diff(t)\n",
    "d_diff_func = lambdify(t,d_diff)\n",
    "\n",
    "display(d_diff)\n",
    "\n",
    "hours_after_midnight = 1\n",
    "depth_answer = d_diff_func(hours_after_midnight)\n",
    "\n",
    "print(f'roc at {hours_after_midnight} hours in is {round(depth_answer,4)}')"
   ]
  },
  {
   "cell_type": "markdown",
   "metadata": {},
   "source": [
    "### chain rule\n",
    "\n",
    "Use the chain rule to find the derivative of $f ( x ) = 8 ( 2 x^{6} + 3 x^{3} )^{-\\frac{1}{2}}$"
   ]
  },
  {
   "cell_type": "code",
   "execution_count": 24,
   "metadata": {},
   "outputs": [
    {
     "data": {
      "text/latex": [
       "$\\displaystyle \\frac{8 \\left(- 6 x^{5} - \\frac{9 x^{2}}{2}\\right)}{\\left(2 x^{6} + 3 x^{3}\\right)^{\\frac{3}{2}}}$"
      ],
      "text/plain": [
       "8*(-6*x**5 - 9*x**2/2)/(2*x**6 + 3*x**3)**(3/2)"
      ]
     },
     "metadata": {},
     "output_type": "display_data"
    }
   ],
   "source": [
    "from sympy import symbols, diff, lambdify\n",
    "from fractions import Fraction\n",
    "from IPython.display import display\n",
    "\n",
    "x = symbols('x')\n",
    "#height aka position\n",
    "base = 8*(2*x**6 + 3*x**3)**Fraction(-1,2)\n",
    "base_diff = base.diff(x)\n",
    "\n",
    "display(base_diff)\n"
   ]
  },
  {
   "cell_type": "markdown",
   "metadata": {},
   "source": [
    "chain rule on graph\n",
    "\n",
    "![alt text](chain_rule_graph.png \"Title\")\n",
    "\n",
    "$f(x)=g(h(x))$\n",
    "\n",
    "then $f'(x)=g'(h(x))\\cdot h'(x)$\n",
    "\n"
   ]
  },
  {
   "cell_type": "code",
   "execution_count": null,
   "metadata": {},
   "outputs": [],
   "source": [
    "#h'(2) we can estimate to be the rise/run\n",
    "#so we can take 0,2.5 and 2.5,5 so 2.5/2.5 = 1\n",
    "\n",
    "#h(2) we can estimate to be bout 4.5\n",
    "\n",
    "#so for g'(4.5) we can estimate again to be the rise/run\n",
    "#we cab yse 0,9 and 4,1 so -8/4 = -2\n",
    "\n",
    "#then multipling g'(4.5) and h'(2) we get -2 * 1 to get -2"
   ]
  },
  {
   "cell_type": "markdown",
   "metadata": {},
   "source": [
    "multiple rules\n",
    "\n",
    "|x|1|2|3|4|\n",
    "|:-:|:-:|:-:|:-:|:-:|\n",
    "|f(x)|2|3|1|4|\n",
    "|f'(x)|4|2|3|1|\n",
    "|g(x)|4|3|1|2|\n",
    "|g'(x)|3|4|1|2|\n",
    "\n",
    "Find $h'(3)$ if $h(x)=f(x) \\cdot g(x)$\n",
    "\n",
    "$h(x)=f(x) \\cdot g(x)$ converts to $h'(x)=f(x)g'(x)+g(x)f'(x)$\n",
    "\n",
    "Find $h'(3)$ if $h(x)=\\frac {f(x)}{g(x)}$\n",
    "\n",
    "$h(x)=\\frac {f(x)}{g(x)}$ converts to $\\frac {f'(x)g(x)-g'(x)f(x)}{f^2(x)}$\n",
    "\n",
    "Find $h'(3)$ if $h(x)=f(g(x))$\n",
    "\n",
    "$h(x)=f(g(x))$ converts to $f'(g(x)) \\cdot g'(x)$\n",
    "\n",
    "power rule = $f(x)=x^{n}$ them $f'(x)=nx^{n-1}$\n",
    "\n",
    "sum rule = $f(x)+g(x) = f'(x)+g'(x)$\n",
    "\n",
    "difference rule $f(x)-g(x) = f'(x)-g'(x)$\n",
    "\n",
    "constant rule = $k \\cdot f(x) = k \\cdot f'(x)$"
   ]
  },
  {
   "cell_type": "code",
   "execution_count": null,
   "metadata": {},
   "outputs": [],
   "source": [
    "#1 = 3\n",
    "\n",
    "#2 is (1*1) - 3 / 1"
   ]
  },
  {
   "cell_type": "markdown",
   "metadata": {},
   "source": [
    "### Marginal Cost\n",
    "\n",
    "The cost (in hundreds of dollars) to produce $x$ units of a product is $\\frac{6x-7}{4x^{2}+x}$ Find the marginal cost to produce 6 units. Round your answer to the nearest cent.\n"
   ]
  },
  {
   "cell_type": "code",
   "execution_count": 58,
   "metadata": {},
   "outputs": [
    {
     "name": "stdout",
     "output_type": "stream",
     "text": [
      "Marginal cost to produce 10 units is $ -2.32\n"
     ]
    }
   ],
   "source": [
    "import sympy\n",
    "\n",
    "x = sympy.Symbol('x')\n",
    "\n",
    "cost = (6*x-7)/(4*x**2 + x)\n",
    "\n",
    "marginal_cost = cost.diff(x)\n",
    "\n",
    "print(\"Marginal cost to produce 10 units is $\",round(marginal_cost.subs(x,6)*100,2))"
   ]
  },
  {
   "cell_type": "markdown",
   "metadata": {},
   "source": [
    "The labor costs to produce luxury yachts can be modeled by $f ( x ) = ( x^{2} + 7 x + 6 )^3 $, where x represents the number of yachts produced."
   ]
  },
  {
   "cell_type": "code",
   "execution_count": 25,
   "metadata": {},
   "outputs": [
    {
     "name": "stdout",
     "output_type": "stream",
     "text": [
      "Marginal cost to produce 10 units is $ 2509056\n",
      "Marginal cost to produce 20 units is $ 42034356\n"
     ]
    }
   ],
   "source": [
    "import sympy\n",
    "\n",
    "x = sympy.Symbol('x')\n",
    "\n",
    "cost = (x**2 + 7*x +6)**3\n",
    "\n",
    "marginal_cost = cost.diff(x)\n",
    "\n",
    "print(\"Marginal cost to produce 10 units is $\",round(marginal_cost.subs(x,10),2))\n",
    "print(\"Marginal cost to produce 20 units is $\",round(marginal_cost.subs(x,20),2))"
   ]
  },
  {
   "cell_type": "markdown",
   "metadata": {},
   "source": [
    "## Module 7: minmax"
   ]
  },
  {
   "cell_type": "markdown",
   "metadata": {},
   "source": [
    "### finding absolute min max\n",
    "\n",
    "$f(x)=x^{4}−32x^{2}+6$\n",
    "\n",
    "$−3≤x≤9.$"
   ]
  },
  {
   "cell_type": "code",
   "execution_count": 39,
   "metadata": {},
   "outputs": [
    {
     "name": "stdout",
     "output_type": "stream",
     "text": [
      "The extrema for this equation are {-4, 0, 4}\n",
      "After -4 years the value is -250\n",
      "After 0 years the value is 6\n",
      "After 4 years the value is -250\n"
     ]
    }
   ],
   "source": [
    "import sympy\n",
    "x = sympy.Symbol('x')\n",
    "f = x**4 - 32*x**2 + 6\n",
    "\n",
    "f_t = sympy.lambdify(x, f)\n",
    "f_diff = f.diff(x)\n",
    "\n",
    "roots = sympy.solveset(sympy.Eq(f_diff,0), x)\n",
    "print(f\"The extrema for this equation are {roots}\")\n",
    "\n",
    "for root in roots:\n",
    "    val_at_root = f_t(root)\n",
    "    print(f\"After {root} years the value is {val_at_root}\")\n",
    "\n",
    "# The value of the U.S. dollar in Canadian dollars is reached its minimum during 2011 [2010 + 1.7]\n",
    "# The minimum value of the U.S. dollar in Canadian dollars during this period was $ 0.98"
   ]
  },
  {
   "cell_type": "code",
   "execution_count": 41,
   "metadata": {},
   "outputs": [
    {
     "data": {
      "image/png": "[encoded data removed]",
      "text/plain": [
       "<Figure size 640x480 with 1 Axes>"
      ]
     },
     "metadata": {},
     "output_type": "display_data"
    },
    {
     "name": "stdout",
     "output_type": "stream",
     "text": [
      "(x,y) max =  8.999999999989797 , 3974.999999976124\n",
      "(x,y) min =  3.999959999994048 , -249.999999897601\n"
     ]
    }
   ],
   "source": [
    "import numpy as np\n",
    "import matplotlib.pyplot as plt\n",
    "\n",
    "def extrema(a, b, c):\n",
    "    x = max(a, b, c)\n",
    "    z = min(a, b, c)\n",
    "    epsilon = 0.0000001  # This is a safeguard against minor differences.\n",
    "    result = False\n",
    "    if abs(b - x) < epsilon:\n",
    "        result = True\n",
    "    if abs(b - z) < epsilon:\n",
    "        result = True\n",
    "    return result\n",
    "\n",
    "def f(x):\n",
    "    y = (x ** 4) - (32 * x ** 2) + 6\n",
    "    return y\n",
    "\n",
    "#xmin\n",
    "xa = -3\n",
    "#xmax\n",
    "xb = 9\n",
    "\n",
    "n = 100000\n",
    "delta = (xb - xa) / n\n",
    "x = np.arange(xa, xb + delta, delta)\n",
    "y = f(x)\n",
    "\n",
    "value = [False]  # This defines the list value which will contain Boolean values.\n",
    "value = value * len(x)  # This expands the list to the length of x.\n",
    "\n",
    "L = len(x)\n",
    "value[0] = True  # This will correspond to one endpoint.\n",
    "value[L - 1] = True  # This corresponds to the other.\n",
    "\n",
    "for x_index in range(L - 2):\n",
    "    first_x = x[x_index]\n",
    "    second_x = x[x_index + 1]\n",
    "    third_x = x[x_index + 2]\n",
    "    a = f(first_x)\n",
    "    b = f(second_x)\n",
    "    c = f(third_x)\n",
    "    is_second_x_extrema = extrema(a, b, c)\n",
    "    value[x_index + 1] = is_second_x_extrema\n",
    "\n",
    "for k in range(L - 2):\n",
    "    value[k + 1] = extrema(f(x[k]), f(x[k + 1]), f(x[k + 2]))\n",
    "\n",
    "max_value = max(y)  # We check the list to find the global maxima.\n",
    "min_value = min(y)  # We check the list to find the global minima.\n",
    "\n",
    "error = 0.0000001  # The error parameter guards against roundoff error.\n",
    "# The code which follows assigns colors to maxima and minima and plots them.\n",
    "\n",
    "plt.figure()\n",
    "for k in range(L):\n",
    "    if value[k] is True:\n",
    "        plt.scatter(x[k], y[k], s=60, c='y')\n",
    "        if abs(max_value - y[k]) < error:\n",
    "            plt.scatter(x[k], y[k], s=60, c='r')\n",
    "            xmax = x[k]\n",
    "            ymax = y[k]\n",
    "        if abs(min_value - y[k]) < error:\n",
    "            plt.scatter(x[k], y[k], s=60, c='b')\n",
    "            xmin = x[k]\n",
    "            ymin = y[k]\n",
    "            \n",
    "\n",
    "plt.plot(x, y, c='k')  # This plots the line on the chart.\n",
    "plt.xlabel('x-axis')\n",
    "plt.ylabel('y-axis')\n",
    "plt.title('Plot Showing Absolute and Relative Extrema')\n",
    "plt.show()\n",
    "\n",
    "print('(x,y) max = ',xmax,',',max_value)\n",
    "print('(x,y) min = ',xmin,',',min_value)"
   ]
  },
  {
   "cell_type": "markdown",
   "metadata": {},
   "source": [
    "The below function has one local max and one local min. Use the first derivative test to find where they occur. \n",
    "\n",
    "$f ( x ) = 2 x^{3} − 15 x^{2} + 24 x − 4$"
   ]
  },
  {
   "cell_type": "code",
   "execution_count": 45,
   "metadata": {},
   "outputs": [
    {
     "data": {
      "image/png": "[encoded data removed]",
      "text/plain": [
       "<Figure size 640x480 with 1 Axes>"
      ]
     },
     "metadata": {},
     "output_type": "display_data"
    },
    {
     "name": "stdout",
     "output_type": "stream",
     "text": [
      "local extrema = [[-5.0, -749.0], [0.9998999999860168, 6.999999909997975], [0.9999999999860165, 7.0], [1.0000999999860163, 6.999999910002025], [3.999899999979025, -19.99999991000196], [3.999999999979025, -20.0], [4.0000999999790245, -19.999999909998053], [4.999999999976694, -9.00000000055934]]\n",
      "(x,y) max =  1.0000999999860163 , 7.0\n",
      "(x,y) min =  -5.0 , -749.0\n"
     ]
    }
   ],
   "source": [
    "import numpy as np\n",
    "import matplotlib.pyplot as plt\n",
    "\n",
    "def extrema(a, b, c):\n",
    "    x = max(a, b, c)\n",
    "    z = min(a, b, c)\n",
    "    epsilon = 0.0000001  # This is a safeguard against minor differences.\n",
    "    result = False\n",
    "    if abs(b - x) < epsilon:\n",
    "        result = True\n",
    "    if abs(b - z) < epsilon:\n",
    "        result = True\n",
    "    return result\n",
    "\n",
    "def f(x):\n",
    "    y = 2*x**3 - 15*x**2 + 24*x -4\n",
    "    return y\n",
    "\n",
    "#xmin\n",
    "xa = -5\n",
    "#xmax\n",
    "xb = 5\n",
    "\n",
    "n = 100000\n",
    "delta = (xb - xa) / n\n",
    "x = np.arange(xa, xb + delta, delta)\n",
    "y = f(x)\n",
    "\n",
    "value = [False]  # This defines the list value which will contain Boolean values.\n",
    "value = value * len(x)  # This expands the list to the length of x.\n",
    "\n",
    "L = len(x)\n",
    "value[0] = True  # This will correspond to one endpoint.\n",
    "value[L - 1] = True  # This corresponds to the other.\n",
    "\n",
    "for x_index in range(L - 2):\n",
    "    first_x = x[x_index]\n",
    "    second_x = x[x_index + 1]\n",
    "    third_x = x[x_index + 2]\n",
    "    a = f(first_x)\n",
    "    b = f(second_x)\n",
    "    c = f(third_x)\n",
    "    is_second_x_extrema = extrema(a, b, c)\n",
    "    value[x_index + 1] = is_second_x_extrema\n",
    "\n",
    "for k in range(L - 2):\n",
    "    value[k + 1] = extrema(f(x[k]), f(x[k + 1]), f(x[k + 2]))\n",
    "\n",
    "max_value = max(y)  # We check the list to find the global maxima.\n",
    "min_value = min(y)  # We check the list to find the global minima.\n",
    "\n",
    "error = 0.0000001  # The error parameter guards against roundoff error.\n",
    "# The code which follows assigns colors to maxima and minima and plots them.\n",
    "\n",
    "local_extrema=[]\n",
    "\n",
    "plt.figure()\n",
    "for k in range(L):\n",
    "    if value[k] is True:\n",
    "        plt.scatter(x[k], y[k], s=60, c='y')\n",
    "        local_extrema.append([x[k],y[k]])\n",
    "        if abs(max_value - y[k]) < error:\n",
    "            plt.scatter(x[k], y[k], s=60, c='r')\n",
    "            xmax = x[k]\n",
    "            ymax = y[k]\n",
    "        if abs(min_value - y[k]) < error:\n",
    "            plt.scatter(x[k], y[k], s=60, c='b')\n",
    "            xmin = x[k]\n",
    "            ymin = y[k]\n",
    "            \n",
    "\n",
    "plt.plot(x, y, c='k')  # This plots the line on the chart.\n",
    "plt.xlabel('x-axis')\n",
    "plt.ylabel('y-axis')\n",
    "plt.title('Plot Showing Absolute and Relative Extrema')\n",
    "plt.show()\n",
    "\n",
    "print(f'local extrema = {local_extrema}')\n",
    "print('(x,y) max = ',xmax,',',max_value)\n",
    "print('(x,y) min = ',xmin,',',min_value)"
   ]
  },
  {
   "cell_type": "markdown",
   "metadata": {},
   "source": [
    "### Finding the extrema\n",
    "\n",
    "The U.S. and Canadian exchange rate changes daily. The value of the U.S. dollar (in Canadian dollars) between 2010 and 2014 can be approximated by the function $f ( t ) = − 0.002691 t^{3} + 0.03614 t^{2} − 0.1005 t + 1.0643$ where t is the number of years since 2010 . Based on this approximation, in what year during this period did the value of the U.S. dollar reach its absolute minimum? What is the minimum value of the U.S. dollar during this period?\n",
    "\n",
    "(a) The value of the U.S. dollar in Canadian dollars reached its absolute minimum during the year\n",
    "\n",
    "(b) The minimum value of the U.S. dollar in Canadian dollars during this period was $_____\n",
    " "
   ]
  },
  {
   "cell_type": "code",
   "execution_count": 61,
   "metadata": {},
   "outputs": [
    {
     "name": "stdout",
     "output_type": "stream",
     "text": [
      "The extrema for this equation are {1.72138351386544, 7.23191761334873}\n",
      "After 1.72138351386544 years the value is 0.984663519848793\n",
      "After 7.23191761334873 years the value is 1.20980980447789\n"
     ]
    }
   ],
   "source": [
    "import sympy\n",
    "t = sympy.Symbol('t')\n",
    "f = -0.002691*t**3 + 0.03614*t**2 - 0.1005*t + 1.0643\n",
    "\n",
    "f_t = sympy.lambdify(t, f)\n",
    "f_diff = f.diff(t)\n",
    "\n",
    "roots = sympy.solveset(sympy.Eq(f_diff, 0), t)\n",
    "print(f\"The extrema for this equation are {roots}\")\n",
    "\n",
    "for root in roots:\n",
    "    val_at_root = f_t(root)\n",
    "    print(f\"After {root} years the value is {val_at_root}\")\n",
    "\n",
    "# The value of the U.S. dollar in Canadian dollars is reached its minimum during 2011 [2010 + 1.7]\n",
    "# The minimum value of the U.S. dollar in Canadian dollars during this period was $ 0.98"
   ]
  },
  {
   "cell_type": "markdown",
   "metadata": {},
   "source": [
    "### 1 local max, 1 local min"
   ]
  },
  {
   "cell_type": "code",
   "execution_count": 19,
   "metadata": {},
   "outputs": [
    {
     "name": "stdout",
     "output_type": "stream",
     "text": [
      "Extreme values are {-5, -4} at y values of [-169, -170] respectively\n"
     ]
    }
   ],
   "source": [
    "# 2\n",
    "from sympy import Symbol, solveset, lambdify, Interval, oo  # oo is sympys representation of Infinity\n",
    "from sympy.plotting import plot\n",
    "from math import floor\n",
    "\n",
    "x = Symbol('x')  # Set a symbol\n",
    "P = 2*x**3 + 27*x**2 + 120*x + 6   # Equation for rents\n",
    "P_fun = lambdify(x, P)\n",
    "der_P = P.diff(x)  # derivitive of F\n",
    "\n",
    "dRoots = solveset(der_P, x, Interval(-5, 5)) # Find the roots of our derivitive where x is between -5 and 5\n",
    "y_vals = [P_fun(r) for r in dRoots]\n",
    "print(f\"Extreme values are {dRoots} at y values of {y_vals} respectively\") # gives a set with a single extrema, this is our answer\n"
   ]
  },
  {
   "cell_type": "markdown",
   "metadata": {},
   "source": [
    "### Rolle's theorem\n",
    "\n",
    "if a function crosses a y point 2x, like a parabola, at some point there is a place where $f'(x)=0$\n",
    "\n",
    "Consider the function $ f ( x ) = − x^{2} − 10 x + 5$ on the interval [ − 10 , 0 ] . Evaluate this function at the endpoints of the interval."
   ]
  },
  {
   "cell_type": "code",
   "execution_count": 46,
   "metadata": {},
   "outputs": [
    {
     "data": {
      "text/latex": [
       "$\\displaystyle - 2 x - 10$"
      ],
      "text/plain": [
       "-2*x - 10"
      ]
     },
     "metadata": {},
     "output_type": "display_data"
    },
    {
     "name": "stdout",
     "output_type": "stream",
     "text": [
      "The vaue at t=-10 is  5\n",
      "The vaue at t=0 is  5\n"
     ]
    },
    {
     "data": {
      "text/plain": [
       "[-5]"
      ]
     },
     "execution_count": 46,
     "metadata": {},
     "output_type": "execute_result"
    }
   ],
   "source": [
    "from sympy import Symbol, diff, lambdify, solve\n",
    "from IPython.display import display\n",
    "\n",
    "x = Symbol('x')\n",
    "y = -x**2 - 10*x + 5\n",
    "der_f = y.diff(x)\n",
    "func_der_f = lambdify(x, der_f)\n",
    "funct = lambdify(x,y)\n",
    "\n",
    "\n",
    "display(der_f)\n",
    "\n",
    "print(\"The vaue at t=-10 is \",funct(-10))\n",
    "print(\"The vaue at t=0 is \",funct(0))\n",
    "\n",
    "#where f'(x) = 0\n",
    "solve(der_f)\n"
   ]
  },
  {
   "cell_type": "markdown",
   "metadata": {},
   "source": [
    "### General Mean Value Theorem\n",
    "\n",
    "$$f'(c) = \\frac{f(b) - f(a)}{b - a}$$ \n",
    "\n",
    "\n",
    "Consider the function $f ( x ) = 6 \\sqrt x + 6$ on the interval [ 2 , 6 ] . Find the average or mean slope of the function on this interval."
   ]
  },
  {
   "cell_type": "code",
   "execution_count": 47,
   "metadata": {},
   "outputs": [
    {
     "name": "stdout",
     "output_type": "stream",
     "text": [
      "c =  [3.73205080756890]\n",
      "slope =  1.5529142706151235\n"
     ]
    }
   ],
   "source": [
    "from sympy import Symbol, diff, lambdify, solve, sqrt\n",
    "from IPython.display import display\n",
    "\n",
    "#for a sqrt func\n",
    "\n",
    "x = Symbol('x')\n",
    "y = 6*sqrt(x) + 6\n",
    "der_f = y.diff(x)\n",
    "\n",
    "yfunc = lambdify(x,y)\n",
    "\n",
    "#interval low bound\n",
    "xa = 2\n",
    "#interval up bound\n",
    "xb = 6\n",
    "\n",
    "fb = yfunc(xb)\n",
    "fa = yfunc(xa)\n",
    "\n",
    "ydiff_equals = (fb-fa)/(xb-xa)\n",
    "\n",
    "newfunct = der_f - ydiff_equals\n",
    "\n",
    "\n",
    "print('c = ', solve(newfunct))\n",
    "print('slope = ',ydiff_equals)\n",
    "\n",
    "\n",
    "\n",
    "#display(der_f)\n",
    "\n",
    "#solve(der_f,ydiff_equals)\n"
   ]
  },
  {
   "cell_type": "markdown",
   "metadata": {},
   "source": [
    "Consider the function $f ( x ) = 3 x^{3} − 5 x$ on the closed interval [ 1 , 3 ] . Find the exact value of the slope of the secant line connecting $( 1 , f ( 1 ) ) and ( 3 , f ( 3 ) )$ ."
   ]
  },
  {
   "cell_type": "code",
   "execution_count": 48,
   "metadata": {},
   "outputs": [
    {
     "name": "stdout",
     "output_type": "stream",
     "text": [
      "c =  [-2.08166599946613, 2.08166599946613]\n",
      "slope =  34.0\n"
     ]
    }
   ],
   "source": [
    "from sympy import Symbol, diff, lambdify, solve, sqrt\n",
    "from IPython.display import display\n",
    "\n",
    "#for a expo func\n",
    "\n",
    "x = Symbol('x')\n",
    "y = 3*x**3 - 5*x\n",
    "der_f = y.diff(x)\n",
    "\n",
    "yfunc = lambdify(x,y)\n",
    "\n",
    "xa = 1\n",
    "xb = 3\n",
    "\n",
    "fb = yfunc(xb)\n",
    "fa = yfunc(xa)\n",
    "\n",
    "ydiff_equals = (fb-fa)/(xb-xa)\n",
    "\n",
    "newfunct = der_f - ydiff_equals\n",
    "\n",
    "\n",
    "print('c = ', solve(newfunct))\n",
    "print('slope = ',ydiff_equals)\n",
    "\n",
    "\n",
    "#display(der_f)\n",
    "\n",
    "#solve(der_f,ydiff_equals)\n"
   ]
  },
  {
   "cell_type": "code",
   "execution_count": 31,
   "metadata": {},
   "outputs": [
    {
     "data": {
      "image/png": "[encoded data removed]",
      "text/plain": [
       "<Figure size 640x480 with 1 Axes>"
      ]
     },
     "metadata": {},
     "output_type": "display_data"
    },
    {
     "name": "stdout",
     "output_type": "stream",
     "text": [
      "(x,y) max =  -5.999799999986896 , 77.0\n",
      "(x,y) min =  -3.999999999973795 , 68.99999999979036\n"
     ]
    }
   ],
   "source": [
    "import numpy as np\n",
    "import matplotlib.pyplot as plt\n",
    "\n",
    "def extrema(a, b, c):\n",
    "    x = max(a, b, c)\n",
    "    z = min(a, b, c)\n",
    "    epsilon = 0.0000001  # This is a safeguard against minor differences.\n",
    "    result = False\n",
    "    if abs(b - x) < epsilon:\n",
    "        result = True\n",
    "    if abs(b - z) < epsilon:\n",
    "        result = True\n",
    "    return result\n",
    "\n",
    "def f(x):\n",
    "    y = -2*x**2 - 24*x + 5\n",
    "    return y\n",
    "\n",
    "xa = -8\n",
    "xb = -4\n",
    "\n",
    "n = 100000\n",
    "delta = (xb - xa) / n\n",
    "x = np.arange(xa, xb + delta, delta)\n",
    "y = f(x)\n",
    "\n",
    "value = [False]  # This defines the list value which will contain Boolean values.\n",
    "value = value * len(x)  # This expands the list to the length of x.\n",
    "\n",
    "L = len(x)\n",
    "value[0] = True  # This will correspond to one endpoint.\n",
    "value[L - 1] = True  # This corresponds to the other.\n",
    "\n",
    "for x_index in range(L - 2):\n",
    "    first_x = x[x_index]\n",
    "    second_x = x[x_index + 1]\n",
    "    third_x = x[x_index + 2]\n",
    "    a = f(first_x)\n",
    "    b = f(second_x)\n",
    "    c = f(third_x)\n",
    "    is_second_x_extrema = extrema(a, b, c)\n",
    "    value[x_index + 1] = is_second_x_extrema\n",
    "\n",
    "for k in range(L - 2):\n",
    "    value[k + 1] = extrema(f(x[k]), f(x[k + 1]), f(x[k + 2]))\n",
    "\n",
    "max_value = max(y)  # We check the list to find the global maxima.\n",
    "min_value = min(y)  # We check the list to find the global minima.\n",
    "\n",
    "error = 0.0000001  # The error parameter guards against roundoff error.\n",
    "# The code which follows assigns colors to maxima and minima and plots them.\n",
    "\n",
    "plt.figure()\n",
    "for k in range(L):\n",
    "    if value[k] is True:\n",
    "        plt.scatter(x[k], y[k], s=60, c='y')\n",
    "        if abs(max_value - y[k]) < error:\n",
    "            plt.scatter(x[k], y[k], s=60, c='r')\n",
    "            xmax = x[k]\n",
    "            ymax = y[k]\n",
    "        if abs(min_value - y[k]) < error:\n",
    "            plt.scatter(x[k], y[k], s=60, c='b')\n",
    "            xmin = x[k]\n",
    "            ymin = y[k]\n",
    "            \n",
    "\n",
    "plt.plot(x, y, c='k')  # This plots the line on the chart.\n",
    "plt.xlabel('x-axis')\n",
    "plt.ylabel('y-axis')\n",
    "plt.title('Plot Showing Absolute and Relative Extrema')\n",
    "plt.show()\n",
    "\n",
    "print('(x,y) max = ',xmax,',',max_value)\n",
    "print('(x,y) min = ',xmin,',',min_value)"
   ]
  },
  {
   "cell_type": "markdown",
   "metadata": {},
   "source": [
    "### Second Deriv and Visually determining concave up or down and local min/max"
   ]
  },
  {
   "cell_type": "code",
   "execution_count": 58,
   "metadata": {},
   "outputs": [
    {
     "name": "stdout",
     "output_type": "stream",
     "text": [
      "First derivitive is 12*x**2 + 24*x - 96\n",
      "Second derivitive is 24*x + 24\n",
      "g''(-5) = -72\n"
     ]
    },
    {
     "data": {
      "image/png": "[encoded data removed]",
      "text/plain": [
       "<Figure size 640x480 with 1 Axes>"
      ]
     },
     "metadata": {},
     "output_type": "display_data"
    },
    {
     "name": "stdout",
     "output_type": "stream",
     "text": [
      "We can visually verify our interpretation of concave down and a maxima\n"
     ]
    }
   ],
   "source": [
    "# 7\n",
    "from sympy import Symbol, lambdify, plotting\n",
    "\n",
    "x = Symbol('x')\n",
    "g = 4 * x **3 + 12 * x**2 - 96 * x\n",
    "g_first = g.diff(x)\n",
    "g_second = g_first.diff(x)\n",
    "\n",
    "print(f\"First derivitive is {g_first}\")\n",
    "print(f\"Second derivitive is {g_second}\")\n",
    "\n",
    "g_first_f = lambdify(x, g_first)\n",
    "g_second_f = lambdify(x, g_second)\n",
    "\n",
    "p1 = g_second_f(-4)\n",
    "\n",
    "print(f\"g''(-5) = {p1}\")\n",
    "\n",
    "gp = plotting.plot(g, show=False, ylim=(-1000, 1000), line_color='b', label='g', legend=True)\n",
    "gp1 = plotting.plot(g_first, show=False, line_color='r', label=\"g'\")\n",
    "gp2 = plotting.plot(g_second, show=False, line_color='g', label=\"g''\")\n",
    "\n",
    "gp.append(gp1[0])\n",
    "gp.append(gp2[0])\n",
    "gp.show()\n",
    "\n",
    "print(\"We can visually verify our interpretation of concave down and a maxima\")"
   ]
  },
  {
   "cell_type": "markdown",
   "metadata": {},
   "source": [
    "### four intervals\n",
    "\n",
    "consider $f(x) = 2x + 2x^{-1}$\n",
    "\n",
    "$(-\\infty, A)$, $(A,B)$,$(B,C)$,$(C,\\infty)$\n",
    "\n",
    "where $A$ and $C$ are critical numbers and the function is not defined at $B$\n"
   ]
  },
  {
   "cell_type": "code",
   "execution_count": 64,
   "metadata": {},
   "outputs": [
    {
     "name": "stdout",
     "output_type": "stream",
     "text": [
      "Extreme values are {-1, 1} at y values of [-4, 4] respectively\n"
     ]
    },
    {
     "data": {
      "image/png": "[encoded data removed]",
      "text/plain": [
       "<Figure size 640x480 with 1 Axes>"
      ]
     },
     "metadata": {},
     "output_type": "display_data"
    }
   ],
   "source": [
    "from sympy import Symbol, lambdify, plotting, Interval, oo\n",
    "from sympy.plotting import plot\n",
    "from math import floor\n",
    "\n",
    "x = Symbol('x')\n",
    "fx = 2*x + 2*x**-1\n",
    "\n",
    "func = lambdify(x,fx)\n",
    "fder = fx.diff(x)\n",
    "\n",
    "dRoots = solveset(fder, x, Interval(-oo, oo)) # Find the roots of our derivitive where x is between -5 and 5\n",
    "y_vals = [func(r) for r in dRoots]\n",
    "print(f\"Extreme values are {dRoots} at y values of {y_vals} respectively\") # gives a set with a single extrema, this is our answer\n",
    "\n",
    "gp = plotting.plot(fx, show=False, ylim=(-10, 10), line_color='b', label='f', legend=True)\n",
    "gp1 = plotting.plot(fder, show=False, line_color='r', label=\"f'\")\n",
    "\n",
    "gp.append(gp1[0])\n",
    "gp.show()\n"
   ]
  },
  {
   "cell_type": "markdown",
   "metadata": {},
   "source": [
    "### find critical number and plotting it\n",
    "\n",
    "consider $$f(x)=8(x-5)^\\frac{2}{3}$$"
   ]
  },
  {
   "cell_type": "code",
   "execution_count": 78,
   "metadata": {},
   "outputs": [
    {
     "name": "stdout",
     "output_type": "stream",
     "text": [
      "Extreme values are EmptySet at y values of [] respectively\n"
     ]
    },
    {
     "name": "stderr",
     "output_type": "stream",
     "text": [
      "<string>:1: RuntimeWarning: invalid value encountered in double_scalars\n"
     ]
    },
    {
     "data": {
      "image/png": "[encoded data removed]",
      "text/plain": [
       "<Figure size 640x480 with 1 Axes>"
      ]
     },
     "metadata": {},
     "output_type": "display_data"
    }
   ],
   "source": [
    "from sympy import Symbol, lambdify, plotting, Interval, oo, solve\n",
    "from sympy.plotting import plot\n",
    "from math import floor\n",
    "\n",
    "x = Symbol('x')\n",
    "fx = 8*(x-5)**(2/3)\n",
    "\n",
    "func = lambdify(x,fx)\n",
    "fder = fx.diff(x)\n",
    "\n",
    "\n",
    "#Roots = solve(func)\n",
    "dRoots = solveset(fder, x, Interval(-5, 5)) # Find the roots of our derivitive where x is between -5 and 5\n",
    "y_vals = [func(r) for r in dRoots]\n",
    "print(f\"Extreme values are {dRoots} at y values of {y_vals} respectively\") # gives a set with a single extrema, this is our answer\n",
    "\n",
    "gp = plotting.plot(fx, show=False, xlim= (-10,10),ylim=(-10, 10), line_color='b', label='f', legend=True)\n",
    "#gp1 = plotting.plot(fder, show=False, line_color='r', label=\"f'\")\n",
    "\n",
    "#gp.append(gp1[0])\n",
    "gp.show()\n"
   ]
  },
  {
   "cell_type": "markdown",
   "metadata": {},
   "source": [
    "### Graphing Asymptotes for a Rational Function\n",
    "\n",
    "The horizontal asymptote of a rational function can be determined by looking at the degrees of the numerator and denominator.\n",
    "\n",
    "If N is the degree of the numerator and D is the degree of the denominator, and…\n",
    "\n",
    "N < D, then the horizontal asymptote is y = 0.\n",
    "\n",
    "N = D, then the horizontal asymptote is y = ratio of leading coefficients.\n",
    "\n",
    "N > D, then there is no horizontal asymptote.\n"
   ]
  },
  {
   "cell_type": "markdown",
   "metadata": {},
   "source": [
    "### limit from infinity"
   ]
  },
  {
   "cell_type": "code",
   "execution_count": 82,
   "metadata": {},
   "outputs": [
    {
     "name": "stdout",
     "output_type": "stream",
     "text": [
      "0\n"
     ]
    }
   ],
   "source": [
    "from sympy import Symbol, limit, oo\n",
    "\n",
    "#define the symbol being used\n",
    "x = Symbol('x')\n",
    "\n",
    "#define the actual function\n",
    "f_x = -1/(x-3)\n",
    "\n",
    "#find the limit\n",
    "#limit(function,symbol,the number approached)\n",
    "#function below is saying for f_x, as x approaches 8 what is the limit\n",
    "li = limit(f_x, x, oo)\n",
    "print(li)"
   ]
  },
  {
   "cell_type": "code",
   "execution_count": 2,
   "metadata": {},
   "outputs": [
    {
     "name": "stdout",
     "output_type": "stream",
     "text": [
      "-1/7\n"
     ]
    }
   ],
   "source": [
    "from sympy import Symbol, limit, oo\n",
    "\n",
    "#define the symbol being used\n",
    "x = Symbol('x')\n",
    "\n",
    "#define the actual function\n",
    "f_x = (-1*x-7)/(7*x-9)\n",
    "\n",
    "#find the limit\n",
    "#limit(function,symbol,the number approached)\n",
    "#function below is saying for f_x, as x approaches 8 what is the limit\n",
    "li = limit(f_x, x, oo)\n",
    "print(li)"
   ]
  },
  {
   "cell_type": "markdown",
   "metadata": {},
   "source": [
    "### minimize cost\n",
    "\n",
    "consider $$f(x)=3x+81000x^{-1}+40500$$\n",
    "\n",
    "What lot size should Glorious Gadgets order to minimize their total inventory costs? \n",
    "\n",
    "What is their minimum total inventory cost? "
   ]
  },
  {
   "cell_type": "code",
   "execution_count": 7,
   "metadata": {},
   "outputs": [
    {
     "name": "stderr",
     "output_type": "stream",
     "text": [
      "C:\\Users\\TK\\AppData\\Local\\Temp\\ipykernel_320192\\3765085950.py:16: RuntimeWarning: divide by zero encountered in divide\n",
      "  y = 3*x + 81000/x +40500\n",
      "C:\\Users\\TK\\AppData\\Local\\Temp\\ipykernel_320192\\3765085950.py:16: RuntimeWarning: divide by zero encountered in double_scalars\n",
      "  y = 3*x + 81000/x +40500\n",
      "C:\\Users\\TK\\AppData\\Local\\Temp\\ipykernel_320192\\3765085950.py:57: RuntimeWarning: invalid value encountered in double_scalars\n",
      "  if abs(max_value - y[k]) < error:\n"
     ]
    },
    {
     "data": {
      "image/png": "[encoded data removed]",
      "text/plain": [
       "<Figure size 640x480 with 1 Axes>"
      ]
     },
     "metadata": {},
     "output_type": "display_data"
    },
    {
     "name": "stdout",
     "output_type": "stream",
     "text": [
      "(x,y) max =  -8.0 , inf\n",
      "(x,y) min =  164.0 , 41485.90243902439\n"
     ]
    }
   ],
   "source": [
    "import numpy as np\n",
    "import matplotlib.pyplot as plt\n",
    "\n",
    "def extrema(a, b, c):\n",
    "    x = max(a, b, c)\n",
    "    z = min(a, b, c)\n",
    "    epsilon = 0.0000001  # This is a safeguard against minor differences.\n",
    "    result = False\n",
    "    if abs(b - x) < epsilon:\n",
    "        result = True\n",
    "    if abs(b - z) < epsilon:\n",
    "        result = True\n",
    "    return result\n",
    "\n",
    "def f(x):\n",
    "    y = 3*x + 81000/x +40500\n",
    "    return y\n",
    "\n",
    "xa = 0\n",
    "xb = 1000\n",
    "\n",
    "n = 1000\n",
    "delta = (xb - xa) / n\n",
    "x = np.arange(xa, xb + delta, delta)\n",
    "y = f(x)\n",
    "\n",
    "value = [False]  # This defines the list value which will contain Boolean values.\n",
    "value = value * len(x)  # This expands the list to the length of x.\n",
    "\n",
    "L = len(x)\n",
    "value[0] = True  # This will correspond to one endpoint.\n",
    "value[L - 1] = True  # This corresponds to the other.\n",
    "\n",
    "for x_index in range(L - 2):\n",
    "    first_x = x[x_index]\n",
    "    second_x = x[x_index + 1]\n",
    "    third_x = x[x_index + 2]\n",
    "    a = f(first_x)\n",
    "    b = f(second_x)\n",
    "    c = f(third_x)\n",
    "    is_second_x_extrema = extrema(a, b, c)\n",
    "    value[x_index + 1] = is_second_x_extrema\n",
    "\n",
    "for k in range(L - 2):\n",
    "    value[k + 1] = extrema(f(x[k]), f(x[k + 1]), f(x[k + 2]))\n",
    "\n",
    "max_value = max(y)  # We check the list to find the global maxima.\n",
    "min_value = min(y)  # We check the list to find the global minima.\n",
    "\n",
    "error = 0.0000001  # The error parameter guards against roundoff error.\n",
    "# The code which follows assigns colors to maxima and minima and plots them.\n",
    "\n",
    "plt.figure()\n",
    "for k in range(L):\n",
    "    if value[k] is True:\n",
    "        plt.scatter(x[k], y[k], s=60, c='y')\n",
    "        if abs(max_value - y[k]) < error:\n",
    "            plt.scatter(x[k], y[k], s=60, c='r')\n",
    "            xmax = x[k]\n",
    "            ymax = y[k]\n",
    "        if abs(min_value - y[k]) < error:\n",
    "            plt.scatter(x[k], y[k], s=60, c='b')\n",
    "            xmin = x[k]\n",
    "            ymin = y[k]\n",
    "            \n",
    "\n",
    "plt.plot(x, y, c='k')  # This plots the line on the chart.\n",
    "plt.xlabel('x-axis')\n",
    "plt.ylabel('y-axis')\n",
    "plt.title('Plot Showing Absolute and Relative Extrema')\n",
    "plt.show()\n",
    "\n",
    "print('(x,y) max = ',xmax,',',max_value)\n",
    "print('(x,y) min = ',xmin,',',min_value)"
   ]
  },
  {
   "cell_type": "code",
   "execution_count": 55,
   "metadata": {},
   "outputs": [
    {
     "name": "stdout",
     "output_type": "stream",
     "text": [
      "Sales Plot\n"
     ]
    },
    {
     "data": {
      "image/png": "[encoded data removed]",
      "text/plain": [
       "<Figure size 640x480 with 1 Axes>"
      ]
     },
     "metadata": {},
     "output_type": "display_data"
    },
    {
     "name": "stdout",
     "output_type": "stream",
     "text": [
      "Extreme values are {98.1980506061966}\n",
      "{98.1980506061966}\n",
      "Maximum profit is 23187.3863542434 and occurs at 98.1980506061966\n"
     ]
    }
   ],
   "source": [
    "#alternative solution for the above\n",
    "from sympy import Symbol, lambdify, solve, plotting, oo, solveset, Interval\n",
    "\n",
    "x = Symbol('x')\n",
    "mainf = 3.5*x + 33750*x**-1 + 22500\n",
    "mainf_deriv = mainf.diff(x)\n",
    "\n",
    "print(\"Sales Plot\")\n",
    "plotting.plot(mainf, xlim=(0, 5000), ylim=(0, 5000))\n",
    "\n",
    "\n",
    "dRoots = solveset(mainf_deriv, x, Interval(0, oo)) # Find the roots of our derivitive where x is between 0 and infinity\n",
    "print(f\"Extreme values are {dRoots}\") # gives a set with a single extrema, this is our answer\n",
    "\n",
    "mainf_func = lambdify(x, mainf)  # Turn the symbolic equation into a callable function so we can find the S(t) for our found t value\n",
    "max_val = mainf_func(dRoots.args[0])\n",
    "print(dRoots)\n",
    "print(f\"Maximum profit is {max_val} and occurs at {dRoots.args[0]}\")\n"
   ]
  },
  {
   "cell_type": "markdown",
   "metadata": {},
   "source": [
    "A company that produces cell phones has a cost function of $C ( x ) = 3 x^{2} − 6 x + 226$ , where C is the cost in thousands of dollars and x is the number of cell phones produced (in thousands)."
   ]
  },
  {
   "cell_type": "code",
   "execution_count": 67,
   "metadata": {},
   "outputs": [
    {
     "name": "stdout",
     "output_type": "stream",
     "text": [
      "Sales Plot\n"
     ]
    },
    {
     "data": {
      "image/png": "[encoded data removed]",
      "text/plain": [
       "<Figure size 640x480 with 1 Axes>"
      ]
     },
     "metadata": {},
     "output_type": "display_data"
    },
    {
     "name": "stdout",
     "output_type": "stream",
     "text": [
      "Extreme values are {1}\n",
      "{1}\n",
      "Maximum profit is 223000 and occurs at 1000\n"
     ]
    }
   ],
   "source": [
    "#alternative solution for the above\n",
    "from sympy import Symbol, lambdify, solve, plotting, oo, solveset, Interval\n",
    "\n",
    "x = Symbol('x')\n",
    "mainf = 3*x**2 - 6*x + 226\n",
    "mainf_deriv = mainf.diff(x)\n",
    "\n",
    "print(\"Sales Plot\")\n",
    "plotting.plot(mainf, xlim=(0.1, 100), ylim=(0.1, 500))\n",
    "\n",
    "\n",
    "dRoots = solveset(mainf_deriv, x, Interval(0, oo)) # Find the roots of our derivitive where x is between 0 and infinity\n",
    "print(f\"Extreme values are {dRoots}\") # gives a set with a single extrema, this is our answer\n",
    "\n",
    "mainf_func = lambdify(x, mainf)  # Turn the symbolic equation into a callable function so we can find the S(t) for our found t value\n",
    "max_val = mainf_func(dRoots.args[0])\n",
    "print(dRoots)\n",
    "print(f\"Maximum profit is {max_val*1000} and occurs at {dRoots.args[0]*1000}\")\n"
   ]
  },
  {
   "cell_type": "markdown",
   "metadata": {},
   "source": [
    "### maximize\n",
    "\n",
    "consider $$S=\\frac{200t}{(t+3)^2},        t >= 0$$"
   ]
  },
  {
   "cell_type": "code",
   "execution_count": null,
   "metadata": {},
   "outputs": [],
   "source": [
    "# 14\n",
    "from sympy import Symbol, lambdify, solve, plotting, oo, solveset, Interval\n",
    "\n",
    "t = Symbol('t')\n",
    "S = (200 * t) / (t + 3)**2\n",
    "\n",
    "S_prime = S.diff(t)\n",
    "\n",
    "print(\"Sales Plot\")\n",
    "plotting.plot(S, xlim=(0, 15), ylim=(0, 100))\n",
    "\n",
    "\n",
    "dRoots = solveset(S_prime, t, Interval(0, oo)) # Find the roots of our derivitive where x is between 0 and infinity\n",
    "print(f\"Extreme values are {dRoots}\") # gives a set with a single extrema, this is our answer\n",
    "\n",
    "S_func = lambdify(t, S)  # Turn the symbolic equation into a callable function so we can find the S(t) for our found t value\n",
    "max_val = S_func(dRoots.args[0])\n",
    "print(f\"Maximum profit is {max_val * 1000} and occurs at {dRoots.args[0]}\")\n"
   ]
  },
  {
   "cell_type": "code",
   "execution_count": 12,
   "metadata": {},
   "outputs": [
    {
     "data": {
      "image/png": "[encoded data removed]",
      "text/plain": [
       "<Figure size 640x480 with 1 Axes>"
      ]
     },
     "metadata": {},
     "output_type": "display_data"
    },
    {
     "name": "stdout",
     "output_type": "stream",
     "text": [
      "(x,y) max =  10.0 , 626.0\n",
      "(x,y) min =  1.1 , 229.95\n"
     ]
    }
   ],
   "source": [
    "import numpy as np\n",
    "import matplotlib.pyplot as plt\n",
    "\n",
    "def extrema(a, b, c):\n",
    "    x = max(a, b, c)\n",
    "    z = min(a, b, c)\n",
    "    epsilon = 0.0000001  # This is a safeguard against minor differences.\n",
    "    result = False\n",
    "    if abs(b - x) < epsilon:\n",
    "        result = True\n",
    "    if abs(b - z) < epsilon:\n",
    "        result = True\n",
    "    return result\n",
    "\n",
    "def f(x):\n",
    "    y = (5*x**2)-(11*x)+236\n",
    "    return y\n",
    "\n",
    "xa = 0\n",
    "xb = 10\n",
    "\n",
    "n = 100\n",
    "delta = (xb - xa) / n\n",
    "x = np.arange(xa, xb + delta, delta)\n",
    "y = f(x)\n",
    "\n",
    "value = [False]  # This defines the list value which will contain Boolean values.\n",
    "value = value * len(x)  # This expands the list to the length of x.\n",
    "\n",
    "L = len(x)\n",
    "value[0] = True  # This will correspond to one endpoint.\n",
    "value[L - 1] = True  # This corresponds to the other.\n",
    "\n",
    "for x_index in range(L - 2):\n",
    "    first_x = x[x_index]\n",
    "    second_x = x[x_index + 1]\n",
    "    third_x = x[x_index + 2]\n",
    "    a = f(first_x)\n",
    "    b = f(second_x)\n",
    "    c = f(third_x)\n",
    "    is_second_x_extrema = extrema(a, b, c)\n",
    "    value[x_index + 1] = is_second_x_extrema\n",
    "\n",
    "for k in range(L - 2):\n",
    "    value[k + 1] = extrema(f(x[k]), f(x[k + 1]), f(x[k + 2]))\n",
    "\n",
    "max_value = max(y)  # We check the list to find the global maxima.\n",
    "min_value = min(y)  # We check the list to find the global minima.\n",
    "\n",
    "error = 0.0000001  # The error parameter guards against roundoff error.\n",
    "# The code which follows assigns colors to maxima and minima and plots them.\n",
    "\n",
    "plt.figure()\n",
    "for k in range(L):\n",
    "    if value[k] is True:\n",
    "        plt.scatter(x[k], y[k], s=60, c='y')\n",
    "        if abs(max_value - y[k]) < error:\n",
    "            plt.scatter(x[k], y[k], s=60, c='r')\n",
    "            xmax = x[k]\n",
    "            ymax = y[k]\n",
    "        if abs(min_value - y[k]) < error:\n",
    "            plt.scatter(x[k], y[k], s=60, c='b')\n",
    "            xmin = x[k]\n",
    "            ymin = y[k]\n",
    "            \n",
    "\n",
    "plt.plot(x, y, c='k')  # This plots the line on the chart.\n",
    "plt.xlabel('x-axis')\n",
    "plt.ylabel('y-axis')\n",
    "plt.title('Plot Showing Absolute and Relative Extrema')\n",
    "plt.show()\n",
    "\n",
    "print('(x,y) max = ',xmax,',',max_value)\n",
    "print('(x,y) min = ',xmin,',',min_value)"
   ]
  },
  {
   "cell_type": "markdown",
   "metadata": {},
   "source": [
    "## Module 8: Integrals & Distribution"
   ]
  },
  {
   "cell_type": "markdown",
   "metadata": {},
   "source": [
    "### Riemann Sums\n",
    "\n",
    "Speedometer readings for a vehicle (in motion) at 6-second intervals are given in the table.\n",
    "\n",
    "|t (sec)|0|6|12|18|24|30|36|\n",
    "|:-:|:-:|:-:|:-:|:-:|:-:|:-:|:-:|\n",
    "|v (ft/s)|0|9|32|57|73|70|52|\n",
    "\n",
    "$L_6 =$\n",
    "\n",
    "$R_6 =$\n",
    "\n",
    "$M_3 =$"
   ]
  },
  {
   "cell_type": "code",
   "execution_count": 11,
   "metadata": {},
   "outputs": [
    {
     "name": "stdout",
     "output_type": "stream",
     "text": [
      "[13, 13, 13, 13, 13, 13]\n",
      "[0, 9, 32, 57, 73, 70]\n",
      "L6 sum = 3133\n",
      "[9, 32, 57, 73, 70, 52]\n",
      "R6 sum = 3809\n",
      "[0, 26, 26, 26]\n",
      "test 9\n",
      "test 57\n",
      "test 70\n",
      "[0, 9, 57, 70]\n",
      "m3 i = 0, m3 j = 0\n",
      "m3 i = 26, m3 j = 9\n",
      "m3 i = 26, m3 j = 57\n",
      "m3 i = 26, m3 j = 70\n",
      "m3 sum = 3536\n"
     ]
    }
   ],
   "source": [
    "#with table\n",
    "\n",
    "x = [0, 13, 26, 39, 52, 65, 78]\n",
    "y = [0, 9, 32, 57, 73, 70, 52]\n",
    "ln = 6\n",
    "rn = 6\n",
    "mn = 3\n",
    "\n",
    "\n",
    "x_adjusted = []\n",
    "x_m_adjusted=[]\n",
    "\n",
    "y_ln = []\n",
    "y_rn = []\n",
    "y_mn = [0]\n",
    "\n",
    "#get the intervals\n",
    "for i,j in zip(x,x[1:]):\n",
    "    x_adjusted.append(j-i)\n",
    "\n",
    "print(x_adjusted)\n",
    "\n",
    "#get the left adjusted y values for L6\n",
    "\n",
    "for i in y[:-1]:\n",
    "    y_ln.append(i)\n",
    "\n",
    "print(y_ln)\n",
    "\n",
    "#do the riemann sum for L6\n",
    "ln_sum = 0\n",
    "for i,j in zip(x_adjusted,y_ln):\n",
    "    ln_sum += i * j\n",
    "\n",
    "print(f'L6 sum = {ln_sum}')\n",
    "\n",
    "\n",
    "#get the left adjusted y values for R6\n",
    "\n",
    "for i in y[1:]:\n",
    "    y_rn.append(i)\n",
    "\n",
    "print(y_rn)\n",
    "\n",
    "#do the riemann sum for R6\n",
    "rn_sum = 0\n",
    "for i,j in zip(x_adjusted,y_rn):\n",
    "    rn_sum += i * j\n",
    "\n",
    "print(f'R6 sum = {rn_sum}')\n",
    "\n",
    "#get the intervals for m3\n",
    "#manually set qqq\n",
    "qqq = [0,0,26,52]\n",
    "for i,j in zip(qqq,x[::2]):\n",
    "    #print(i,j)\n",
    "    x_m_adjusted.append(j-i)\n",
    "\n",
    "print(x_m_adjusted)\n",
    "\n",
    "#get the left adjusted y values for m3\n",
    "\n",
    "for i in y[1::2]:\n",
    "    print('test',i)\n",
    "    y_mn.append(i)\n",
    "\n",
    "print(y_mn)\n",
    "\n",
    "#do the riemann sum for m3\n",
    "mn_sum = 0\n",
    "for i,j in zip(x_m_adjusted,y_mn):\n",
    "    print(f'm3 i = {i}, m3 j = {j}')\n",
    "    mn_sum += i * j\n",
    "\n",
    "print(f'm3 sum = {mn_sum}')\n",
    "\n",
    "\n",
    "\n",
    "\n",
    "\n",
    "\n",
    "\n"
   ]
  },
  {
   "cell_type": "markdown",
   "metadata": {},
   "source": [
    "### looking at a graph, intrepret the integral\n",
    "\n",
    "The marginal cost of producing x thousand computer chips is given by $C ' ( x ) = 147 x^{2} − 3200 x + 17500$ dollars per thousand chips, whose graph is shown above\n",
    "\n",
    "Interpret $\\int_{6}^{21} ( 147 x^{2} − 3200 x + 17500 ) d t = 57705$.\n",
    "\n",
    "ANSWER = The cost of increasing production from 6000 to 21000 chips is $57705."
   ]
  },
  {
   "cell_type": "markdown",
   "metadata": {},
   "source": [
    "### upper bound variable derivative\n",
    "\n",
    "Use part I of the Fundamental Theorem of Calculus to find the derivative of\n",
    "\n",
    "$f(x) = \\int_{-1}^{x} \\sqrt{t^{3}+1^{3}}dt$\n",
    "\n",
    "$f'(x) = $ ____"
   ]
  },
  {
   "cell_type": "code",
   "execution_count": 18,
   "metadata": {},
   "outputs": [
    {
     "data": {
      "text/latex": [
       "$\\displaystyle \\frac{3 x^{2}}{2 \\sqrt{x^{3} + 64}}$"
      ],
      "text/plain": [
       "3*x**2/(2*sqrt(x**3 + 64))"
      ]
     },
     "metadata": {},
     "output_type": "display_data"
    }
   ],
   "source": [
    "\n",
    "from sympy import Symbol, lambdify, solve, plotting, oo, solveset, Interval, sqrt\n",
    "\n",
    "x = Symbol('x')\n",
    "mainf = sqrt(x**3 + 4**3)\n",
    "mainf_deriv = mainf.diff(x).doit()\n",
    "\n",
    "display(mainf_deriv)\n",
    "\n",
    "#the answer is the bottom part without the constant\n"
   ]
  },
  {
   "cell_type": "markdown",
   "metadata": {},
   "source": [
    "### definite integral\n",
    "The traffic flow rate (cars per hour) across an intersection is modeled  \n",
    "$r(t)=500+1000t−210t2$, where  $t$  represents the number of hours since 6 am. How many cars pass through the intersection between 6 am and 8 am?\n"
   ]
  },
  {
   "cell_type": "code",
   "execution_count": 11,
   "metadata": {},
   "outputs": [
    {
     "name": "stdout",
     "output_type": "stream",
     "text": [
      "2440 cars\n"
     ]
    }
   ],
   "source": [
    "from sympy import Symbol, integrate\n",
    "# https://docs.sympy.org/latest/tutorial/calculus.html?highlight=calculus#integrals\n",
    "t = Symbol('t')\n",
    "r_t = 500 + 1000*t - 210*t**2\n",
    "\n",
    "# integrate(function, (x,lower_limit,upper_limit))\n",
    "flow_rate = integrate(r_t, (t,0,2))\n",
    "# a = integrate(r_prime, (t, 0, 1))\n",
    "print(f\"{flow_rate} cars\")"
   ]
  },
  {
   "cell_type": "markdown",
   "metadata": {},
   "source": [
    "### integrate with constant\n",
    "\n",
    "You are memorizing words for a vocabulary test. You studied a few days ago, and you know 16 words already. It is the night before the test, and you sit down to finish studying the words. Suppose that the rate of memorizing is given by  \n",
    "$M'(t)=−0.006t^{2}+0.2t$, where $M'(t)$\n",
    "  is the memory rate, in words per minute. What is the total number of words you have memorized after 10 minutes of studying?"
   ]
  },
  {
   "cell_type": "code",
   "execution_count": null,
   "metadata": {},
   "outputs": [
    {
     "name": "stdout",
     "output_type": "stream",
     "text": [
      "-0.002*t**3 + 0.1*t**2 + 16\n",
      "24 words\n"
     ]
    }
   ],
   "source": [
    "from sympy import Symbol, integrate, lambdify, solve, plotting, oo, solveset, Interval, sqrt\n",
    "\n",
    "t = Symbol('t')\n",
    "M_prime = -0.006*t**2 + 0.2*t\n",
    "\n",
    "# We will first find M(t) and add the constant for what you already know (ie the 16 words from the problem)\n",
    "M_t = integrate(M_prime, t) + 16\n",
    "\n",
    "#insert what t should be here\n",
    "words_memorized = M_t.evalf(subs={t:10})\n",
    "\n",
    "print(M_t)\n",
    "print(f\"{round(words_memorized)} words\")"
   ]
  },
  {
   "cell_type": "markdown",
   "metadata": {},
   "source": [
    "### integrate in parts to get integral for two sections\n",
    "\n",
    "The rate of reaction for a certain drug in the appropriate units is given by\n",
    "\n",
    "$R'(t)=\\frac{6}{t+1} + \\frac{4}{\\sqrt{t+1}}$\n",
    "\n",
    "where t is time (in hours) after the drug is administered. Find the total reaction to the drug over the following time periods. Round your answers to three decimal places as needed.\n",
    "\n",
    "From t=1 hour to t=6 hours, the total reaction of the drug is units.\n",
    "\n",
    "From t=6 hours to t=24 hours, the total reaction of the drug is units."
   ]
  },
  {
   "cell_type": "code",
   "execution_count": null,
   "metadata": {},
   "outputs": [
    {
     "name": "stdout",
     "output_type": "stream",
     "text": [
      "17.369\n",
      "26.472\n"
     ]
    }
   ],
   "source": [
    "from sympy import Symbol, integrate, lambdify, solve, plotting, oo, solveset, Interval, sqrt\n",
    "\n",
    "t = Symbol('t')\n",
    "R_prime = (6/(t+1)) + (4/((t+1)**(1/2)))\n",
    "\n",
    "# From t=1 hour to t=9 hours, the total reaction of the drug is units.\n",
    "#f\"{round(integrate(R_prime,(t,1,6)).evalf(),3)}\"\n",
    "print(round(integrate(R_prime,(t,1,6)).evalf(),3))\n",
    "\n",
    "# From t=9 hours to t=23 hours, the total reaction of the drug is units.\n",
    "#f\"{round(integrate(R_prime,(t,6,24)).evalf(),3)}\"\n",
    "print(round(integrate(R_prime,(t,6,24)).evalf(),3))"
   ]
  },
  {
   "cell_type": "markdown",
   "metadata": {},
   "source": [
    "### integrate in parts\n",
    "\n",
    "u-substitution\n",
    "\n",
    "$\\int f'(g(x))g'(x)dx = f(g(x))+C$\n",
    "\n",
    "common formulas\n",
    "\n",
    "$\\int u^{r}du = \\frac{u^{r+1}}{r+1} + C, r \\neq 1$\n",
    "\n",
    "$\\int e^{u}du = e^{u} + C$\n",
    "\n",
    "$\\int \\frac{1}{u}du = ln|u|+c$\n",
    "\n",
    "1. Choose a substitution $u = g(x)$. best to choose innepart of a composite function, such as a quantity raised to a power\n",
    "2. Compute $du = g'(x)\\cdot dx$\n",
    "3. Rewrite integral in terms of the variable u\n",
    "4. find the resulting integral in terms of u\n",
    "5. replace u by (gx) to obtain an antiderivative in terms of x\n",
    "6. check your answer by differentiating\n",
    "\n",
    "For example:\n",
    "\n",
    "$\\int_{0}^{2} 2x(x^{2}+4)^{2}dx$\n",
    "\n",
    "We want to set $u = x^{2}+4$. Then do get $du$ we take the derivative of $u$\n",
    "\n",
    "$du = 2xdx$\n",
    "\n",
    "Then we isolate dx\n",
    "\n",
    "$\\frac{du}{2x}=dx$\n",
    "\n",
    "Now we go back and substitute $u$ & $dx$ \n",
    "\n",
    "$\\int 2x(u)^{2}\\frac{du}{2x}$\n",
    "\n",
    "The $2x$ cancels out leaving us $u^2 \\cdot du$\n",
    "\n",
    "We also need to adjust the limits of the integral by using $u$.\n",
    "\n",
    "We plug back into $u$ the lower and upper limit\n",
    "\n",
    "$u = 0^2 + 4 = 6$ and $u = 2^2 + 4 = 8$\n",
    "\n",
    "This gives us the new func:\n",
    "\n",
    "$\\int_{4}^{8} u^2 \\cdot du$\n",
    "\n",
    "Using the power rule from above $\\int u^{r}du = \\frac{u^{r+1}}{r+1} + C, r \\neq 1$\n",
    "\n",
    "we know that $n = 2$ so $x^{n+1}$ is $x^{2+1}$ and the denom is going to be $(n+1)$ --> $(2+1)$\n",
    "\n",
    "The end result is $\\frac{u^3}{3}$ and we can plug in 8 and 4 (the upper and lower limits)\n",
    "\n",
    "$\\frac{8^3}{3}$ - $\\frac{4^3}{3}$ which gives us $\\frac{512}{3} -\\frac{64}{3} = \\frac{448}{3}$ "
   ]
  },
  {
   "cell_type": "code",
   "execution_count": 1,
   "metadata": {},
   "outputs": [
    {
     "data": {
      "text/latex": [
       "$\\displaystyle 2 x$"
      ],
      "text/plain": [
       "2*x"
      ]
     },
     "metadata": {},
     "output_type": "display_data"
    },
    {
     "name": "stdout",
     "output_type": "stream",
     "text": [
      "5.00000000000000\n",
      "20.0000000000000\n"
     ]
    }
   ],
   "source": [
    "from sympy import Symbol, integrate, lambdify, solve, plotting, oo, solveset, Interval, sqrt, simplify, expand, factor\n",
    "\n",
    "\n",
    "x = Symbol('x')\n",
    "base_function = 2*x*(x**2 + 4)**2\n",
    "u = x**2 + 4\n",
    "\n",
    "lower_lim = 0\n",
    "upper_lim = 2\n",
    "\n",
    "u_deriv = u.diff(x)\n",
    "display(u_deriv)\n",
    "\n",
    "u_deriv.factor()\n",
    "\n",
    "u_lower = u.evalf(subs={x:1})\n",
    "u_upper = u.evalf(subs={x:4})\n",
    "\n",
    "print(u_lower)\n",
    "print(u_upper)\n",
    "\n",
    "#https://www.youtube.com/watch?v=F5yggVESMOA timestamp 3:28"
   ]
  },
  {
   "cell_type": "markdown",
   "metadata": {},
   "source": [
    "Consider the definite integral $\\int_{0}^{1} \\frac{x^{6}}{(x^{7}+9)^{7}}$\n",
    "\n",
    "Here we'll set $u$ = $x^{7}+9$\n",
    "\n",
    "the derivate of this is $7x^6$\n",
    "\n",
    "so $du = 7x^6dx$\n",
    "\n",
    "isolating for dx we have $\\frac{du}{7x^6} = dx$\n",
    "\n",
    "then for the new integral limits we plug in 0 and 1 giving us 9 and 10\n",
    "\n",
    "so $\\int_{9}^{10} \\frac {x^6}{u^7} \\cdot \\frac{du}{7x^6}$ we can further simplify this to:\n",
    "\n",
    "$\\frac{x^6 \\cdot du}{u^7 \\cdot 7x^6}$\n",
    "\n",
    "cancel out the ${x^6}$\n",
    "\n",
    "$\\frac{du}{u^7 \\cdot 7}$\n",
    "\n",
    "Now we move $du$ to the side to get the right format of $\\int \\frac{1}{u}du = ln|u|+c$\n",
    "\n",
    "so $\\frac{1}{7} \\cdot \\frac{1}{u^7}du$"
   ]
  },
  {
   "cell_type": "code",
   "execution_count": 28,
   "metadata": {},
   "outputs": [
    {
     "data": {
      "text/latex": [
       "$\\displaystyle 2 x + 8$"
      ],
      "text/plain": [
       "2*x + 8"
      ]
     },
     "metadata": {},
     "output_type": "display_data"
    },
    {
     "name": "stdout",
     "output_type": "stream",
     "text": [
      "21.0000000000000\n",
      "60.0000000000000\n"
     ]
    }
   ],
   "source": [
    "from sympy import Symbol, integrate, lambdify, solve, plotting, oo, solveset, Interval, sqrt, simplify, expand, factor\n",
    "\n",
    "\n",
    "x = Symbol('x')\n",
    "base_function = (x+4)/(x**2 + 8*x + 12)\n",
    "u = (x**2 + 8*x + 12)\n",
    "\n",
    "lower_lim = 1\n",
    "upper_lim = 4\n",
    "\n",
    "u_deriv = u.diff(x)\n",
    "display(u_deriv)\n",
    "\n",
    "u_deriv.factor()\n",
    "\n",
    "u_lower = u.evalf(subs={x:1})\n",
    "u_upper = u.evalf(subs={x:4})\n",
    "\n",
    "print(u_lower)\n",
    "print(u_upper)\n",
    "\n",
    "#https://www.youtube.com/watch?v=F5yggVESMOA timestamp 3:28"
   ]
  },
  {
   "cell_type": "markdown",
   "metadata": {},
   "source": [
    "### Simple Integrals\n",
    "Compute the given integral.\n",
    "\n",
    "$\\int x^3(x^4-4)^7 \\ dx$ = ____ + $C$"
   ]
  },
  {
   "cell_type": "code",
   "execution_count": null,
   "metadata": {},
   "outputs": [
    {
     "name": "stdout",
     "output_type": "stream",
     "text": [
      "x**32/32 - x**28 + 14*x**24 - 112*x**20 + 560*x**16 - 1792*x**12 + 3584*x**8 - 4096*x**4 + C\n"
     ]
    }
   ],
   "source": [
    "from sympy import Symbol, integrate, exp\n",
    "import math\n",
    "# https://docs.sympy.org/latest/tutorial/calculus.html?highlight=calculus#integrals\n",
    "x = Symbol('x')\n",
    "f_x = (x**3)*((x**4)-4)**7\n",
    "\n",
    "val = integrate(f_x, x)\n",
    "print(f\"{val} + C\")"
   ]
  },
  {
   "cell_type": "markdown",
   "metadata": {},
   "source": [
    "Computer the given integral:\n",
    "\n",
    "$\\int xe^{5x^2}dx = + C$"
   ]
  },
  {
   "cell_type": "code",
   "execution_count": null,
   "metadata": {},
   "outputs": [],
   "source": [
    "from sympy import Symbol, integrate, exp\n",
    "import math\n",
    "# https://docs.sympy.org/latest/tutorial/calculus.html?highlight=calculus#integrals\n",
    "x = Symbol('x')\n",
    "f_x = x*exp(5*x**2)\n",
    "\n",
    "val = integrate(f_x, x)\n",
    "print(f\"{val} + C\")"
   ]
  },
  {
   "cell_type": "markdown",
   "metadata": {},
   "source": [
    "### Density Curve / Continuous Random Variable / Normal Distribution\n",
    "\n",
    "given a density curve like this \n",
    "\n",
    "![alt text](density_curve.png \"Title\")\n",
    "\n",
    "Find $P(X \\leq 10)$\n",
    "\n",
    "Find $P(X > 11)$\n",
    "\n",
    "Calculate the following:\n",
    "\n",
    "Q1 = \n",
    "\n",
    "Median = \n",
    "\n",
    "Q3 = \n",
    "\n",
    "IQR = "
   ]
  },
  {
   "cell_type": "code",
   "execution_count": 13,
   "metadata": {},
   "outputs": [
    {
     "name": "stdout",
     "output_type": "stream",
     "text": [
      "[8, 9, 10, 11, 12, 13]\n",
      "range = 5\n",
      "total area = 1.0\n",
      "q1 = 9.25\n",
      "median = 10.5\n",
      "q3 = 11.75\n",
      "iqr = 2.5\n"
     ]
    }
   ],
   "source": [
    "import numpy as np\n",
    "\n",
    "x_values = [*range(8,14)]\n",
    "print(x_values)\n",
    "x_max = x_values[-1]\n",
    "x_min = x_values[0]\n",
    "\n",
    "\n",
    "x_range = x_max-x_min\n",
    "print(f'range = {x_range}')\n",
    "\n",
    "y_value = .2\n",
    "\n",
    "total_area_curve = y_value * x_range\n",
    "print(f'total area = {total_area_curve}')\n",
    "\n",
    "\n",
    "q1 = np.quantile(x_values,.25)\n",
    "q3 = np.quantile(x_values,.75)\n",
    "median = np.median(x_values)\n",
    "iqr = q3 - q1\n",
    "\n",
    "print(f'q1 = {q1}')\n",
    "print(f'median = {median}')\n",
    "print(f'q3 = {q3}')\n",
    "print(f'iqr = {iqr}')"
   ]
  },
  {
   "cell_type": "markdown",
   "metadata": {},
   "source": [
    "### Expected Value / Exponential Distribution\n",
    "\n",
    "The lifetime of a printer costing $120 is exponentially distributed with mean 4 years. The manufacturer agrees to pay a full refund to a buyer if the printer fails during the first half year following its purchase and a one-half refund if it fails during the second half year.\n",
    "\n",
    "If the manufacturer sells 370 printers, how much should it expect to pay in refunds?"
   ]
  },
  {
   "cell_type": "code",
   "execution_count": 14,
   "metadata": {},
   "outputs": [
    {
     "name": "stdout",
     "output_type": "stream",
     "text": [
      "total cost 10146.4792635300\n"
     ]
    }
   ],
   "source": [
    "from sympy import Symbol, integrate, exp\n",
    "import math\n",
    "\n",
    "#set your mean value\n",
    "mean_val = 2.67\n",
    "#set your decay rate which is 1/mean\n",
    "decay_rate = 1/mean_val\n",
    "\n",
    "#total number of things to sell\n",
    "comps = 300\n",
    "\n",
    "#price per item\n",
    "price = 140\n",
    "\n",
    "#make x a symbol\n",
    "x = Symbol('x')\n",
    "\n",
    "#write your function for probability density\n",
    "# which is me^(-mx)\n",
    "f_x = decay_rate * exp(-decay_rate*x)\n",
    "\n",
    "#since the first interval is half year, we're setting lower limit to 0, upper limit to .5\n",
    "firsthalf = integrate(f_x,(x,0,.5))\n",
    "\n",
    "#same as above but from .5 to 1 to make our second interval (half-refund)\n",
    "secondhalf = integrate(f_x,(x,.5,1))\n",
    "\n",
    "#2-steps here, 1 is get the number of things that fall into this interval\n",
    "#which is prob of failure * total number of printers sold\n",
    "fhalf_comps = firsthalf*comps\n",
    "#step 2 is then just calculating the $$$ based on full refund * number of dead printers \n",
    "# aka what we did above (prob of dead * number of printers)\n",
    "fhalf_cost = fhalf_comps*price\n",
    "\n",
    "#now do the same but for the second interval\n",
    "shalf_comps = secondhalf*comps\n",
    "shalf_cost = shalf_comps*price*.5\n",
    "\n",
    "#add the two parts and we're done\n",
    "finaltotal = shalf_cost + fhalf_cost\n",
    "print('total cost',finaltotal)"
   ]
  },
  {
   "cell_type": "code",
   "execution_count": null,
   "metadata": {},
   "outputs": [
    {
     "name": "stdout",
     "output_type": "stream",
     "text": [
      "Total refunds =  $7,519.19\n"
     ]
    }
   ],
   "source": [
    "#above but as a function\n",
    "\n",
    "prods_sold = 370\n",
    "full_price = 120\n",
    "half_price = 60\n",
    "mean_ytf = 4\n",
    "\n",
    "def calc_ref_cost(number_of_products,price,mean,lower,upper):\n",
    "    decay_rate = 1/mean\n",
    "    #write your function for probability density\n",
    "    # which is me^(-mx)\n",
    "    f_x = decay_rate * exp(-decay_rate*x)\n",
    "\n",
    "    #since the first interval is half year, we're setting lower limit to 0, upper limit to .5\n",
    "    probability_of = integrate(f_x,(x,lower,upper))\n",
    "\n",
    "    #same as above but from .5 to 1 to make our second interval (half-refund)\n",
    "    totalcost = probability_of*number_of_products*price\n",
    "    return totalcost\n",
    "\n",
    "fullrefunds = calc_ref_cost(prods_sold,full_price,mean_ytf,0,.5)\n",
    "halfrefunds = calc_ref_cost(prods_sold,half_price,mean_ytf,.5,1)\n",
    "totalrefunds = fullrefunds+halfrefunds\n",
    "\n",
    "print('Total refunds = ',\"${:,.2f}\".format(totalrefunds))\n",
    "\n",
    "\n"
   ]
  },
  {
   "cell_type": "markdown",
   "metadata": {},
   "source": [
    "### Integral Probability\n",
    "Suppose it is known that, on average, 3 customers per minute visit your website. This being the case, you know that the integral below will calculate the probability that you will have a customer visit in the next m minutes.\n",
    "$$\\int_{0}^{m} 3e^{-3t} \\ dt$$"
   ]
  },
  {
   "cell_type": "code",
   "execution_count": 15,
   "metadata": {},
   "outputs": [
    {
     "data": {
      "text/plain": [
       "'96.98%'"
      ]
     },
     "execution_count": 15,
     "metadata": {},
     "output_type": "execute_result"
    }
   ],
   "source": [
    "from sympy import Symbol, integrate, exp\n",
    "t = Symbol('t')\n",
    "prob = integrate((3*exp(-3*t)),(t,0,70/60))\n",
    "f\"{round(prob*100,2)}%\""
   ]
  },
  {
   "cell_type": "code",
   "execution_count": 16,
   "metadata": {},
   "outputs": [
    {
     "data": {
      "text/plain": [
       "'100%'"
      ]
     },
     "execution_count": 16,
     "metadata": {},
     "output_type": "execute_result"
    }
   ],
   "source": [
    "from sympy import Symbol, integrate, exp\n",
    "t = Symbol('t')\n",
    "prob = integrate((3*exp(-3*t)),(t,0,math.inf))\n",
    "f\"{round(prob*100,2)}%\""
   ]
  },
  {
   "cell_type": "markdown",
   "metadata": {},
   "source": [
    "### Empirical Rule\n",
    "\n",
    "About 68% of the x values lie between –1σ and +1σ of the mean µ (within one standard deviation of the mean).\n",
    "\n",
    "About 95% of the x values lie between –2σ and +2σ of the mean µ (within two standard deviations of the mean).\n",
    "\n",
    "About 99.7% of the x values lie between –3σ and +3σ of the mean µ (within three standard deviations of the mean). Notice that almost all the x values lie within three standard deviations of the mean.\n",
    "\n",
    "The z-scores for +1σ and –1σ are +1 and –1, respectively.\n",
    "\n",
    "The z-scores for +2σ and –2σ are +2 and –2, respectively.\n",
    "\n",
    "The z-scores for +3σ and –3σ are +3 and –3 respectively.\n",
    "\n",
    "The physical plant at the main campus of a large state university recieves daily requests to replace florecent lightbulbs. The distribution of the number of daily requests is approximately normal and has a mean of 62 and a standard deviation of 9. Using the empirical rule, what is the approximate percentage of lightbulb replacement requests numbering between 62 and 71?\n",
    "\n",
    "$71-62 = 9$ if std is 9 then the question is looking for 1 standard deviation in one direction from the mean (62) to 71(+ from mean). So 68% covers +/-, divide that by two to get one direction is 34%"
   ]
  },
  {
   "cell_type": "markdown",
   "metadata": {},
   "source": [
    "### zscore\n",
    "\n",
    "The heights of adult men in America are normally distributed, with a mean of 69.6 inches and a standard deviation of 2.62 inches. The heights of adult women in America are also normally distributed, but with a mean of 64.3 inches and a standard deviation of 2.53 inches.\n",
    "\n",
    "a) If a man is 6 feet 3 inches tall, what is his z-score (to two decimal places)?\n",
    "\n",
    "b) What percentage of men are SHORTER than 6 feet 3 inches? Round to nearest tenth of a percent.\n",
    "\n",
    "c) If a woman is 5 feet 11 inches tall, what is her z-score (to two decimal places)?\n",
    "\n",
    "d) What percentage of women are TALLER than 5 feet 11 inches? Round to nearest tenth of a percent."
   ]
  },
  {
   "cell_type": "code",
   "execution_count": 21,
   "metadata": {},
   "outputs": [
    {
     "name": "stdout",
     "output_type": "stream",
     "text": [
      "a -  2.06\n",
      "b -  98.0\n",
      "c -  2.65\n",
      "d -  0.4\n",
      "0.004045826328828883\n"
     ]
    }
   ],
   "source": [
    "import scipy.stats as st\n",
    "\n",
    "men_mean_value = 69.6\n",
    "men_std_dev = 2.62\n",
    "\n",
    "women_mean_value = 64.3\n",
    "women_std_dev = 2.53\n",
    "\n",
    "a_ans = ((6*12+3) - men_mean_value)/men_std_dev\n",
    "\n",
    "print('a - ',round(a_ans,2))\n",
    "\n",
    "b_ans = st.norm.cdf(a_ans)\n",
    "print('b - ', round(b_ans * 100,1))\n",
    "\n",
    "c_ans = ((5*12+11) - women_mean_value)/women_std_dev\n",
    "\n",
    "print('c - ',round(c_ans,2))\n",
    "\n",
    "d_ans = st.norm.cdf(c_ans)\n",
    "print('d - ', round((1-d_ans)*100,1))\n",
    "print(1-d_ans)\n"
   ]
  },
  {
   "cell_type": "markdown",
   "metadata": {},
   "source": [
    "Suppose that the distance of fly balls hit to the outfield (in baseball) is normally distributed with a mean of 250 feet and a standard deviation of 41 feet.\n",
    "Use your graphing calculator to answer the following questions. Write your answers in percent form. Round your answers to the nearest tenth of a percent.\n",
    "a) If one fly ball is randomly chosen from this distribution, what is the probability that this ball traveled fewer than 192 feet?\n",
    "\n",
    "P(fewer than 192 feet) =\n",
    "\n",
    "b) If one fly ball is randomly chosen from this distribution, what is the probability that this ball traveled more than 216 feet?\n",
    "\n",
    "P(more than 216 feet) ="
   ]
  },
  {
   "cell_type": "code",
   "execution_count": null,
   "metadata": {},
   "outputs": [
    {
     "name": "stdout",
     "output_type": "stream",
     "text": [
      "zscore -  -1.4146341463414633\n",
      "prob of a -  7.858789585721864\n",
      "zscore -  -0.8292682926829268\n",
      "prob of b -  79.65236957450115\n"
     ]
    }
   ],
   "source": [
    "import scipy.stats as st\n",
    "\n",
    "mean_value = 250\n",
    "std_dev = 41\n",
    "\n",
    "a_zscore = (192 - mean_value)/std_dev\n",
    "print('zscore - ',a_zscore)\n",
    "\n",
    "a_ans = st.norm.cdf(a_zscore)\n",
    "print('prob of a - ', a_ans * 100)\n",
    "\n",
    "b_zscore = (216 - mean_value)/std_dev\n",
    "print('zscore - ',b_zscore)\n",
    "\n",
    "b_ans = st.norm.cdf(b_zscore)\n",
    "print('prob of b - ', (1-b_ans) * 100)\n",
    "\n",
    "\n",
    "\n",
    "\n"
   ]
  },
  {
   "cell_type": "markdown",
   "metadata": {},
   "source": [
    "### integrals for instanteous rate of change\n",
    "\n",
    "\n",
    "\n",
    "The projected population (in thousands) of a certain ethnic group can be approximated by $p ( t ) = 35.02 e^{0.56t} $ where t = 0 corresponds to the year 2010 and 0 ≤ t ≤ 50 . What was the instantaneous rate of change in the population in the year 2018 ? Round to the nearest whole number."
   ]
  },
  {
   "cell_type": "code",
   "execution_count": 59,
   "metadata": {},
   "outputs": [
    {
     "name": "stdout",
     "output_type": "stream",
     "text": [
      "1730387 people per year\n"
     ]
    }
   ],
   "source": [
    "import sympy\n",
    "\n",
    "t = sympy.Symbol('t')\n",
    "\n",
    "f = 35.02 * sympy.exp(0.56*t)\n",
    "\n",
    "df = f.diff(t)\n",
    "\n",
    "print(int(df.subs(t,8)*1000), \"people per year\")"
   ]
  },
  {
   "cell_type": "markdown",
   "metadata": {},
   "source": [
    "### Second Level Derivative\n",
    "\n",
    "Since the creation of a social program, the percent of persons 65 years and over with a family income below the proverty level has declined. The percent can be approximated by the function $P ( t ) = 30.6 − 5.78 ln ( t ) $, where t is the number of years since 1965 ."
   ]
  },
  {
   "cell_type": "code",
   "execution_count": 60,
   "metadata": {},
   "outputs": [
    {
     "name": "stdout",
     "output_type": "stream",
     "text": [
      "In 1970 the percent of persons over 65 in poverty was 21.2974 and the rate of change was -1.1560\n",
      "In 1989 the percent of persons over 65 in poverty was 12.2308 and the rate of change was -0.2408\n",
      "In 2012 the percent of persons over 65 in poverty was 8.3461 and the rate of change was -0.1230\n"
     ]
    }
   ],
   "source": [
    "import sympy\n",
    "\n",
    "t = sympy.Symbol('t')\n",
    "\n",
    "f = 30.6 - 5.78 * sympy.ln(t)\n",
    "f_diff = f.diff(t)\n",
    "\n",
    "f_l = sympy.lambdify(t, f)\n",
    "f_diff_l = sympy.lambdify(t, f_diff)\n",
    "\n",
    "base = 1965\n",
    "years = [1970, 1989, 2012]\n",
    "\n",
    "for year in years:\n",
    "    pct = f_l(year-base)\n",
    "    rate = f_diff_l(year-base)\n",
    "    print(f\"In {year} the percent of persons over 65 in poverty was {pct:.4f} and the rate of change was {rate:.4f}\")\n"
   ]
  },
  {
   "cell_type": "code",
   "execution_count": null,
   "metadata": {},
   "outputs": [
    {
     "data": {
      "image/png": "[encoded data removed]",
      "text/plain": [
       "<Figure size 640x480 with 1 Axes>"
      ]
     },
     "metadata": {},
     "output_type": "display_data"
    },
    {
     "name": "stdout",
     "output_type": "stream",
     "text": [
      "Final Estimate of Area with %r subdivisions = 250\n"
     ]
    }
   ],
   "source": [
    "import matplotlib.pyplot as plt\n",
    "import math\n",
    "\n",
    "# An example function:\n",
    "\n",
    "def f(x):\n",
    "    return (math.pow(x, 2) + 100) * math.log(x + 2)  # Students can supply their functions at this point.\n",
    "\n",
    "def integrate(a, b, n):\n",
    "    total = 0.0\n",
    "    delta = (b - a) / n\n",
    "    i = 0\n",
    "    while i < n:\n",
    "        total = total + delta * (f(a + delta * (i + 1)) + f(a + delta * i)) / 2.0\n",
    "        i = i + 1\n",
    "    return total\n",
    "\n",
    "# This shows list manipulations resulting in a plot\n",
    "y = []\n",
    "x = []\n",
    "b = 4.0\n",
    "a = 0.0\n",
    "rng = [10, 20, 30, 40, 50, 100, 250]\n",
    "\n",
    "for n in rng:\n",
    "    area = integrate(a, b, n)\n",
    "    x = x + [n]\n",
    "    y = y + [area]\n",
    "\n",
    "plt.xlim(0, max(x) + 60)\n",
    "plt.ylim(min(y) - 0.5, max(y) + 0.5)\n",
    "\n",
    "plt.plot(x, y)\n",
    "plt.scatter(x, y, s=30, c='r')\n",
    "plt.scatter(300, 64.0, c='y')  # This plots the limiting value for the area.\n",
    "\n",
    "plt.xlabel('Number of Subintervals')\n",
    "plt.ylabel('Estimated Area')\n",
    "plt.title('Plot Showing Numerical Integration Convergence')\n",
    "plt.show()\n",
    "\n",
    "area = float(format(y[-1], '0.3f'))\n",
    "print(\"Final Estimate of Area with %r subdivisions = {}\".format(x[-1], area))"
   ]
  },
  {
   "cell_type": "code",
   "execution_count": 35,
   "metadata": {},
   "outputs": [
    {
     "name": "stdout",
     "output_type": "stream",
     "text": [
      "x**108/108 - 5*x**99/9 + 275*x**90/18 - 6875*x**81/27 + 34375*x**72/12 - 68750*x**63/3 + 1203125*x**54/9 - 1718750*x**45/3 + 21484375*x**36/12 - 107421875*x**27/27 + 107421875*x**18/18 - 48828125*x**9/9 + C\n",
      "x**9*(x**9 - 10)*(x**18 - 15*x**9 + 75)*(x**18 - 10*x**9 + 50)*(x**18 - 5*x**9 + 25)*(x**36 - 20*x**27 + 125*x**18 - 250*x**9 + 625)/108\n",
      "(1/108, [(x, 9), (x**9 - 10, 1), (x**18 - 15*x**9 + 75, 1), (x**18 - 10*x**9 + 50, 1), (x**18 - 5*x**9 + 25, 1), (x**36 - 20*x**27 + 125*x**18 - 250*x**9 + 625, 1)])\n"
     ]
    }
   ],
   "source": [
    "from sympy import Symbol, integrate, exp, factor_list, factor, oo\n",
    "import math\n",
    "# https://docs.sympy.org/latest/tutorial/calculus.html?highlight=calculus#integrals\n",
    "x = Symbol('x')\n",
    "f_x = (x**8)*(((x**9)-5)**11)\n",
    "\n",
    "val = integrate(f_x, x)\n",
    "vf = factor(val)\n",
    "vfl = factor_list(val)\n",
    "print(f\"{val} + C\")\n",
    "print(vf)\n",
    "print(vfl)"
   ]
  },
  {
   "cell_type": "markdown",
   "metadata": {},
   "source": [
    "## Module 9 Multivariate Calculus"
   ]
  },
  {
   "cell_type": "markdown",
   "metadata": {},
   "source": [
    "### Solving given x,y\n",
    "\n",
    "Let $f ( x , y ) = 2 x − 5 y + 6$. Find the following values of $f ( x , y )$ for the given coordinates."
   ]
  },
  {
   "cell_type": "code",
   "execution_count": null,
   "metadata": {},
   "outputs": [],
   "source": [
    "from sympy import symbols\n",
    "\n",
    "# declare the symbols\n",
    "x, y = symbols('x y')\n",
    "\n",
    "# define the expression\n",
    "f = 2*x - 5*y + 6\n",
    "\n",
    "# Use the subs function to substitute the values for the x and y symbols\n",
    "print(\"a) f(-4,7) =\",f.subs({x:-4, y:7}))\n",
    "print(\"b) f(-3,6) =\",f.subs({x:-3,y:6}))\n",
    "print(\"c) f(0,2) =\",f.subs({x:0,y:2}))\n",
    "print(\"d) f(-1,-2) =\",f.subs({x:-1,y:-2}))"
   ]
  },
  {
   "cell_type": "markdown",
   "metadata": {},
   "source": [
    "### Testing domains\n",
    "Let $f(x,y)= \\sqrt{y−x}$\n",
    "\n",
    "![alt text](domaintesting.png \"Title\")"
   ]
  },
  {
   "cell_type": "code",
   "execution_count": 2,
   "metadata": {},
   "outputs": [
    {
     "name": "stdout",
     "output_type": "stream",
     "text": [
      "region a test 1\n",
      "region b test = I\n",
      "region c test = I\n",
      "region d test = 1\n"
     ]
    }
   ],
   "source": [
    "from sympy import symbols, sqrt\n",
    "\n",
    "# declare the symbols\n",
    "x, y = symbols('x y')\n",
    "\n",
    "# define the expression\n",
    "f = sqrt((y)-(x))\n",
    "\n",
    "# Use the subs function to substitute the values for the x and y symbols\n",
    "print(\"region a test\",f.subs({x:0, y:1}))\n",
    "print(\"region b test =\",f.subs({x:1, y:0}))\n",
    "print(\"region c test =\",f.subs({x:0, y:-1}))\n",
    "print(\"region d test =\",f.subs({x:-1, y:0}))\n"
   ]
  },
  {
   "cell_type": "markdown",
   "metadata": {},
   "source": [
    "### Multivariate Limits\n",
    "\n",
    "$$\\lim_{(x,y) \\to (0,0)} \\ \\frac{x^2y}{x^2+4y^2}$$ "
   ]
  },
  {
   "cell_type": "code",
   "execution_count": 4,
   "metadata": {},
   "outputs": [
    {
     "name": "stdout",
     "output_type": "stream",
     "text": [
      "0\n",
      "0\n"
     ]
    }
   ],
   "source": [
    "from sympy import symbols, limit\n",
    "\n",
    "#define the symbol being used\n",
    "x,y = symbols('x y')\n",
    "\n",
    "#define the actual function\n",
    "f_x = ((x**2) * y) / ((x**2)+(4*y**2))\n",
    "\n",
    "#find the limit\n",
    "#limit(function,symbol,the number approached)\n",
    "#function below is saying for f_x, as x approaches 8 what is the limit\n",
    "li = limit(f_x, x, 0)\n",
    "li2 = limit(f_x, y, 0)\n",
    "print(li)\n",
    "print(li2)"
   ]
  },
  {
   "cell_type": "code",
   "execution_count": 3,
   "metadata": {},
   "outputs": [
    {
     "data": {
      "text/plain": [
       "<function matplotlib.pyplot.show(close=None, block=None)>"
      ]
     },
     "execution_count": 3,
     "metadata": {},
     "output_type": "execute_result"
    },
    {
     "data": {
      "image/png": "[encoded data removed]",
      "text/plain": [
       "<Figure size 640x480 with 1 Axes>"
      ]
     },
     "metadata": {},
     "output_type": "display_data"
    }
   ],
   "source": [
    "#graph form\n",
    "import matplotlib.pyplot as plt\n",
    "import numpy as np\n",
    "x = np.linspace(-10,10)\n",
    "y = np.linspace(-10,10)\n",
    "x,y = np.meshgrid(x,y)\n",
    "z = ((x**2) * y) / ((x**2)+(4*y**2))\n",
    "cs = plt.contour(x,y,z)\n",
    "plt.clabel(cs, inline = 1, fontsize = 10, colors = 'r')\n",
    "plt.grid(True)\n",
    "plt.show"
   ]
  },
  {
   "cell_type": "markdown",
   "metadata": {},
   "source": [
    "### partial derivatives\n",
    "Given f ( x , y ) = y ln ( 3 x + 6 y ) , \n",
    "\n",
    "find:\n",
    "\n",
    "$f_x (x,y) =$\n",
    "\n",
    "$f_y (x,y) =$"
   ]
  },
  {
   "cell_type": "code",
   "execution_count": 8,
   "metadata": {},
   "outputs": [
    {
     "name": "stdout",
     "output_type": "stream",
     "text": [
      "f_x_xy = 4*y/(4*x - 3*y)\n",
      "f_y_xy = -3*y/(4*x - 3*y) + log(4*x - 3*y)\n"
     ]
    }
   ],
   "source": [
    "from sympy import symbols, Derivative, log\n",
    "\n",
    "x,y= symbols('x y')\n",
    "\n",
    "# declare the function z\n",
    "fxy = y*log(4*x-3*y)\n",
    "\n",
    "# derivative expression of function f(x,y) with respect to x\n",
    "partialderiv = Derivative(fxy, x)\n",
    "\n",
    "# The derivative is evaluated by using the doit() function\n",
    "pd_fxy_x = partialderiv.doit()\n",
    "\n",
    "print(\"f_x_xy =\", pd_fxy_x)\n",
    "\n",
    "# derivative expression of function f(x,y) with respect to y\n",
    "partialderiv = Derivative(fxy, y)\n",
    "\n",
    "# The derivative is evaluated by using the doit() function\n",
    "pd_fxy_y = partialderiv.doit()\n",
    "\n",
    "print(\"f_y_xy =\", pd_fxy_y)"
   ]
  },
  {
   "cell_type": "markdown",
   "metadata": {},
   "source": [
    "### Partial Derivatives and Levels of Differentiation\n",
    "Suppose that the manufacturing cost of a particular item is approximated by  $M(x,y)=-x^6+5x^2 y^4+4y^3$ , where 𝑥 is the cost of materials and 𝑦 is the cost of labor. Find the following:\n",
    "\n",
    "$M_{x}(x,y)$\n",
    "\n",
    "$M_{y}{(x,y)}$\n",
    "\n",
    "$M_{xx}(x,y)$ \n",
    "\n",
    "$M_{xy}(x,y)$\n",
    "\n"
   ]
  },
  {
   "cell_type": "code",
   "execution_count": 9,
   "metadata": {},
   "outputs": [
    {
     "name": "stdout",
     "output_type": "stream",
     "text": [
      "Mx =  24*x**3 + 10*x*y**5\n",
      "My =  25*x**2*y**4 + 3*y**2\n",
      "Mxx =  2*(36*x**2 + 5*y**5)\n",
      "Mxy =  50*x*y**4\n"
     ]
    }
   ],
   "source": [
    "from sympy import symbols, Derivative\n",
    "\n",
    "x,y= symbols('x y')\n",
    "\n",
    "M = 6*x**4 + 5*x**2*y**5 + y**3\n",
    "\n",
    "# The third parameter in the Derivative function '2' specifies the degree of differentiation. \n",
    "# The default is the '1' degree of differentiation\n",
    "Mx = Derivative(M,x).doit()\n",
    "print(\"Mx = \",Mx)\n",
    "My = Derivative(M,y).doit()\n",
    "print(\"My = \",My)\n",
    "Mxx = Derivative(M,x,2).doit()\n",
    "print(\"Mxx = \",Mxx)\n",
    "Mxy = Derivative(Derivative(M,y),x).doit()\n",
    "print(\"Mxy = \",Mxy)"
   ]
  },
  {
   "cell_type": "markdown",
   "metadata": {},
   "source": [
    "### tangent plane\n",
    "\n",
    "Find the tangent plane to the equation $z = 6 e^{x^{2} − 2y}$ at the point $( 4 , 8 , 6 )$"
   ]
  },
  {
   "cell_type": "code",
   "execution_count": 23,
   "metadata": {},
   "outputs": [
    {
     "name": "stdout",
     "output_type": "stream",
     "text": [
      "Mx =  -48\n",
      "My =  12\n",
      "Mz =  1\n",
      "-48*x + 12*y + z + 90\n",
      "tangent plane equation is  z =  [48*x - 12*y - 90]\n"
     ]
    }
   ],
   "source": [
    "#move the z to the right side\n",
    "#F(x,y,z) = 6ex**(2-4y) - z\n",
    "#F(x)=7e**(x**2 -)\n",
    "from sympy import symbols, Derivative,exp, solve\n",
    "import math\n",
    "\n",
    "x,y,z= symbols('x y z')\n",
    "\n",
    "xpoint = 4\n",
    "ypoint = 8\n",
    "zpoint = 6\n",
    "\n",
    "M = z - 6*exp(x**2-2*y)\n",
    "\n",
    "Mx = Derivative(M,x).doit()\n",
    "MxSub = Mx.subs({x:xpoint, y:ypoint, z:zpoint})\n",
    "print(\"Mx = \",MxSub)\n",
    "\n",
    "My = Derivative(M,y).doit()\n",
    "MySub = My.subs({x:xpoint, y:ypoint, z:zpoint})\n",
    "print(\"My = \",MySub)\n",
    "\n",
    "Mz = Derivative(M,z).doit()\n",
    "MzSub = Mz.subs({x:xpoint, y:ypoint, z:zpoint})\n",
    "print(\"Mz = \",MzSub)\n",
    "\n",
    "#print(MxSub,'x+',MySub,'y+',MzSub,'z')\n",
    "\n",
    "newfunc = MxSub*(x-xpoint) + MySub*(y-ypoint) + MzSub*(z-zpoint)\n",
    "print(newfunc)\n",
    "\n",
    "qqq = solve(newfunc,z)\n",
    "print('tangent plane equation is  z = ',qqq)"
   ]
  },
  {
   "cell_type": "markdown",
   "metadata": {},
   "source": [
    "### linear approximation\n",
    "\n",
    "find the linear approximation to $f(x,y) = 4\\sqrt\\frac{xy}{12}$ at the point (8,6,8) and use it to approximate $f(8.21,6.23)$\n",
    "\n",
    "lin approx of f(x,y) at (a,b) is\n",
    "\n",
    "$f(x,y) \\approx L(x,y) = f(a,b) + f_x(a,b)(x-a)+f_y(a,b)(y-b)$"
   ]
  },
  {
   "cell_type": "code",
   "execution_count": 35,
   "metadata": {},
   "outputs": [
    {
     "name": "stdout",
     "output_type": "stream",
     "text": [
      "F({a},{b}) =  8\n",
      "Mx({a},{b}) =  1/2\n",
      "My({a},{b}) =  2/3\n",
      "x/2 + 2*y/3\n",
      "f(8.21,6.23) ≅  8.25833333333333\n"
     ]
    }
   ],
   "source": [
    "from sympy import symbols, Derivative,exp, solve, sqrt\n",
    "import math\n",
    "\n",
    "a = 8\n",
    "b = 6\n",
    "a_approx = 8.21\n",
    "b_approx = 6.23\n",
    "\n",
    "x,y,z= symbols('x y z')\n",
    "\n",
    "#write base formula here\n",
    "M = 4*sqrt((x*y)/12)\n",
    "\n",
    "Mbase = M.subs({x:a,y:b})\n",
    "print(\"F({a},{b}) = \", Mbase)\n",
    "\n",
    "Mx = Derivative(M,x).doit()\n",
    "MxSub = Mx.subs({x:a,y:b})\n",
    "print(\"Mx({a},{b}) = \",MxSub)\n",
    "\n",
    "My = Derivative(M,y).doit()\n",
    "MySub = My.subs({x:a,y:b})\n",
    "print(\"My({a},{b}) = \",MySub)\n",
    "\n",
    "#Mz = Derivative(M,z).doit()\n",
    "#MzSub = Mz.subs({x:8, y:16, z:6})\n",
    "#print(\"Mz = \",MzSub)\n",
    "\n",
    "#print(MxSub,'x+',MySub,'y+',MzSub,'z')\n",
    "\n",
    "#this is the linapprox formulation\n",
    "newfunc = Mbase + MxSub*(x-a) + MySub*(y-b)\n",
    "print(newfunc)\n",
    "\n",
    "newfuncapproxed = newfunc.subs({x:a_approx,y:b_approx})\n",
    "\n",
    "print('f(8.21,6.23) ≅ ',newfuncapproxed)"
   ]
  },
  {
   "cell_type": "markdown",
   "metadata": {},
   "source": [
    "### Chain rule for one indepedent variable\n",
    "\n",
    "$$\\frac{dz}{dt} = \\frac{\\partial z}{\\partial x} \\cdot \\frac{dx}{dt} + \\frac{\\partial z}{\\partial y} \\cdot \\frac{dy}{dt}$$\n",
    "\n",
    "Find $\\frac{dz}{dt}$ given:\n",
    "\n",
    "$z = xe^{3y}, x = t^{6}, y= -3 +4t$"
   ]
  },
  {
   "cell_type": "code",
   "execution_count": 24,
   "metadata": {},
   "outputs": [
    {
     "name": "stdout",
     "output_type": "stream",
     "text": [
      "main deriv respect to x = exp(3*y)\n",
      "main deriv respect to y = 3*x*exp(3*y)\n",
      "x deriv =  6*t**5\n",
      "y deriv =  4\n",
      "new =  6*t**5*exp(3*y) + 12*x*exp(3*y)\n",
      "dz/dt  =  12*t**6*exp(12*t - 9) + 6*t**5*exp(12*t - 9)\n"
     ]
    }
   ],
   "source": [
    "from sympy import symbols, Derivative,exp, solve, sqrt\n",
    "import math\n",
    "\n",
    "x, y, z ,t = symbols('x y z t')\n",
    "\n",
    "mainfunc = x*exp(3*y)\n",
    "\n",
    "xfunc = t**6\n",
    "\n",
    "yfunc = -3 + 4*t\n",
    "\n",
    "mainfunc_deriv_x = Derivative(mainfunc,x).doit()\n",
    "print('main deriv respect to x =', mainfunc_deriv_x)\n",
    "mainfunc_deriv_y = Derivative(mainfunc,y).doit()\n",
    "print('main deriv respect to y =', mainfunc_deriv_y)\n",
    "\n",
    "xfunc_deriv = xfunc.diff(t)\n",
    "print('x deriv = ', xfunc_deriv)\n",
    "yfunc_deriv = yfunc.diff(t)\n",
    "print('y deriv = ', yfunc_deriv)\n",
    "\n",
    "newfunc = mainfunc_deriv_x * xfunc_deriv + mainfunc_deriv_y * yfunc_deriv\n",
    "print('new = ', newfunc)\n",
    "newfunc_subbed = newfunc.subs({x:xfunc,y:yfunc})\n",
    "print('dz/dt  = ', newfunc_subbed)\n",
    "\n",
    "\n",
    "\n",
    "\n",
    "\n"
   ]
  },
  {
   "cell_type": "markdown",
   "metadata": {},
   "source": [
    "### Chain Rule Pressure Volume\n",
    "\n",
    "The pressure P (in kilopascals), volume V (in liters), and temperature T (in kelvins) of a mole of an ideal gas are related by the equation P V = 8.31 T , where P , V , and T are all functions of time (in seconds). \n",
    "\n",
    "At some point in time the temperature is 320 K and increasing at a rate of 0.2 K/s and the pressure is 27 and increasing at a rate of 0.08 kPa/s. Find the rate at which the volume is changing at that time.\n",
    "\n",
    "$$\\frac{dV}{ds} = \\frac{\\partial V}{\\partial t} \\cdot \\frac{dT}{dt} + \\frac{\\partial V}{\\partial P} \\cdot \\frac{dP}{dt}$$"
   ]
  },
  {
   "cell_type": "code",
   "execution_count": 10,
   "metadata": {},
   "outputs": [
    {
     "name": "stdout",
     "output_type": "stream",
     "text": [
      "main deriv respect to temp = 8.31/p\n",
      "main deriv respect to pressure = -8.31*t/p**2\n",
      "dT/dt deriv =  0.0500000000000000\n",
      "dP/dt deriv =  0.0800000000000000\n",
      "new =  0.4155/p - 0.6648*t/p**2\n",
      "dV/dt  =  -0.484558171745152\n"
     ]
    }
   ],
   "source": [
    "from sympy import symbols, Derivative,exp, solve, sqrt\n",
    "import math\n",
    "\n",
    "p, v, t, s = symbols('p v t s')\n",
    "\n",
    "#need to find rate of change for volume so dV/dt (change in volume/change in time)\n",
    "\n",
    "#p * v = 8.31 * t\n",
    "#new formula solving for v\n",
    "v = (8.31 * t) / p\n",
    "\n",
    "current_temp = 275\n",
    "temp_change = .05\n",
    "temp_formula = current_temp + temp_change * t\n",
    "\n",
    "current_pressure = 19\n",
    "pressure_change = .08\n",
    "press_formula = current_pressure + pressure_change * t\n",
    "\n",
    "\n",
    "#partial derivatives\n",
    "#derivative with respect to TEMP\n",
    "mainfunc_deriv_t = Derivative(v,t).doit()\n",
    "print('main deriv respect to temp =', mainfunc_deriv_t)\n",
    "#derivative with respect to Pressure\n",
    "mainfunc_deriv_p = Derivative(v,p).doit()\n",
    "print('main deriv respect to pressure =', mainfunc_deriv_p)\n",
    "\n",
    "#full derivatives of one variable functions\n",
    "dT_dt = temp_formula.diff(t)\n",
    "print('dT/dt deriv = ', dT_dt)\n",
    "dP_dt = press_formula.diff(t)\n",
    "print('dP/dt deriv = ', dP_dt)\n",
    "\n",
    "#chain rule\n",
    "#dV_dt = ((8.31/current_pressure)*dT_dt)-(((8.31*current_temp)/current_pressure**2)*dP_dt)\n",
    "#print('dV_dt = ',dV_dt)\n",
    "\n",
    "#make the new function\n",
    "newfunc = mainfunc_deriv_t * dT_dt + mainfunc_deriv_p * dP_dt\n",
    "print('new = ', newfunc)\n",
    "\n",
    "#sub in the (x,y)\n",
    "#in this case it's the current temp and the current pressure\n",
    "newfunc_subbed = newfunc.subs({t:current_temp,p:current_pressure})\n",
    "print('dV/dt  = ', format(newfunc_subbed,'f'))\n",
    "\n",
    "\n",
    "\n"
   ]
  },
  {
   "cell_type": "markdown",
   "metadata": {},
   "source": [
    "### Min, Max, Saddle"
   ]
  },
  {
   "cell_type": "markdown",
   "metadata": {},
   "source": [
    "Suppose that $f ( x , y ) = x^4 + y^4 − 2x y$.\n",
    "\n",
    "Then the minimum value of $f$ is ____\n",
    "\n",
    "D=$f_{xx}(x_0,y_0)f_{yy}(x_0,y_0)−(f_{xy}(x_0,y_0))^2$.\n",
    "\n",
    "1. If $D>0$ and $f_{xx}(x_0,y_0)>0$, then $f$ has a local minimum at $(x_0,y_0)$. \n",
    "2. If $D>0$ and $f_{xx}(x_0,y_0)<0$, then $f$ has a local maximum at $(x_0,y_0)$.\n",
    "3. If $D<0$, then $f$ has a saddle point at $(x_0,y_0)$.\n",
    "4. If $D=0$, then the test is inconclusive.\n"
   ]
  },
  {
   "cell_type": "code",
   "execution_count": 39,
   "metadata": {},
   "outputs": [
    {
     "name": "stdout",
     "output_type": "stream",
     "text": [
      "sols array =  [(0, 0), (-sqrt(2)/2, -sqrt(2)/2), (sqrt(2)/2, sqrt(2)/2)]\n",
      "solution 1 for main function =  0\n",
      "solution 2 for main function =  -1/2\n",
      "solution 3 for main function =  -1/2\n",
      "d for solution 1 =  -4\n",
      "d for solution 2 =  32\n",
      "d for solution 3 =  32\n",
      "for dsol0 saddlepoint at x:0 and y:0 which results in f(xy) = 0\n",
      "for dsol1 relative minimum at x:-sqrt(2)/2 and y:-sqrt(2)/2 which results in f(xy) = -1/2\n",
      "for dsol2 relative minimum at x:sqrt(2)/2 and y:sqrt(2)/2 which results in f(xy) = -1/2\n"
     ]
    }
   ],
   "source": [
    "from sympy import symbols, Derivative,exp, solve, sqrt\n",
    "import math\n",
    "\n",
    "x,y = symbols('x y',real=True)\n",
    "\n",
    "#adjust your main func here\n",
    "mainfunc = x**4 + y**4 - 2*x*y\n",
    "\n",
    "#dont touch anything below this really\n",
    "\n",
    "#first level for x\n",
    "f_x = Derivative(mainfunc,x).doit()\n",
    "#second level for x\n",
    "f_xx = Derivative(f_x,x).doit()\n",
    "\n",
    "#first level for y\n",
    "f_y = Derivative(mainfunc,y).doit()\n",
    "#second level for y\n",
    "f_yy = Derivative(f_y,y).doit()\n",
    "\n",
    "#first level for xy\n",
    "f_xy = Derivative(mainfunc, x, y).doit()\n",
    "\n",
    "#solve f_x & f_y system of equations for zero\n",
    "f_x_and_f_y_zeroed = solve([f_x,f_y],[x, y])\n",
    "x_sol_0 = f_x_and_f_y_zeroed[0][0]\n",
    "x_sol_1 = f_x_and_f_y_zeroed[1][0]\n",
    "x_sol_2 = f_x_and_f_y_zeroed[2][0]\n",
    "y_sol_0 = f_x_and_f_y_zeroed[0][1]\n",
    "y_sol_1 = f_x_and_f_y_zeroed[1][1]\n",
    "y_sol_2 = f_x_and_f_y_zeroed[2][1]\n",
    "\n",
    "#use this print to check how many total solutions we actually have\n",
    "print('sols array = ',f_x_and_f_y_zeroed)\n",
    "\n",
    "mainfunc_sol0 = mainfunc.subs({x:x_sol_0,y:y_sol_0})\n",
    "mainfunc_sol1 = mainfunc.subs({x:x_sol_1,y:y_sol_1})\n",
    "mainfunc_sol2 = mainfunc.subs({x:x_sol_2,y:y_sol_2})\n",
    "\n",
    "print('solution 1 for main function = ', mainfunc_sol0)\n",
    "print('solution 2 for main function = ', mainfunc_sol1)\n",
    "print('solution 3 for main function = ', mainfunc_sol2)\n",
    "\n",
    "d_func = (f_xx*f_yy) - (f_xy**2)\n",
    "\n",
    "d_sol0 = d_func.subs({x:x_sol_0,y:y_sol_0})\n",
    "d_sol1 = d_func.subs({x:x_sol_1,y:y_sol_1})\n",
    "d_sol2 = d_func.subs({x:x_sol_2,y:y_sol_2})\n",
    "\n",
    "print('d for solution 1 = ', d_sol0)\n",
    "print('d for solution 2 = ', d_sol1)\n",
    "print('d for solution 3 = ', d_sol2)\n",
    "\n",
    "f_xx_sol0 = f_xx.subs({x:x_sol_0,y:y_sol_0})\n",
    "f_xx_sol1 = f_xx.subs({x:x_sol_1,y:y_sol_1})\n",
    "f_xx_sol2 = f_xx.subs({x:x_sol_2,y:y_sol_2})\n",
    "\n",
    "#make checker\n",
    "if d_sol0 > 0 and f_xx_sol0 > 0:\n",
    "    print(f'for dsol0 relative minimum at x:{x_sol_0} and y:{y_sol_0} which results in f(xy) = {mainfunc_sol0}')\n",
    "elif d_sol0 > 0 and f_xx_sol0 < 0:\n",
    "    print(f'for dsol0 relative maximum at x:{x_sol_0} and y:{y_sol_0} which results in f(xy) = {mainfunc_sol0}')\n",
    "elif d_sol0 < 0:\n",
    "    print(f'for dsol0 saddlepoint at x:{x_sol_0} and y:{y_sol_0} which results in f(xy) = {mainfunc_sol0}')\n",
    "else:\n",
    "    print(f'for dsol0 inconclusive')\n",
    "\n",
    "if d_sol1 > 0 and f_xx_sol1 > 0:\n",
    "    print(f'for dsol1 relative minimum at x:{x_sol_1} and y:{y_sol_1} which results in f(xy) = {mainfunc_sol1}')\n",
    "elif d_sol1 > 0 and f_xx_sol1 < 0:\n",
    "    print(f'for dsol1 relative maximum at x:{x_sol_1} and y:{y_sol_1} which results in f(xy) = {mainfunc_sol1}')\n",
    "elif d_sol1 < 0:\n",
    "    print(f'for dsol1 saddlepoint at x:{x_sol_1} and y:{y_sol_1} which results in f(xy) = {mainfunc_sol1}')\n",
    "else:\n",
    "    print(f'for dsol1 inconclusive')\n",
    "\n",
    "if d_sol2 > 0 and f_xx_sol2 > 0:\n",
    "    print(f'for dsol2 relative minimum at x:{x_sol_2} and y:{y_sol_2} which results in f(xy) = {mainfunc_sol2}')\n",
    "elif d_sol2 > 0 and f_xx_sol2 < 0:\n",
    "    print(f'for dsol2 relative maximum at x:{x_sol_2} and y:{y_sol_2} which results in f(xy) = {mainfunc_sol2}')\n",
    "elif d_sol2 < 0:\n",
    "    print(f'for dsol2 saddlepoint at x:{x_sol_2} and y:{y_sol_2} which results in f(xy) = {mainfunc_sol2}')\n",
    "else:\n",
    "    print(f'for dsol2 inconclusive')"
   ]
  },
  {
   "cell_type": "markdown",
   "metadata": {},
   "source": [
    "Suppose that $f ( x , y ) = x^3 + y^3 + 12x^2 -15y^2 − 1$.\n",
    "\n",
    "Find saddle points\n",
    "\n",
    "Find local min at\n",
    "\n",
    "FInd local min value\n",
    "\n",
    "Find local max at\n",
    "\n",
    "Find local max value\n",
    "\n",
    "D=$f_{xx}(x_0,y_0)f_{yy}(x_0,y_0)−(f_{xy}(x_0,y_0))^2$.\n",
    "\n",
    "1. If $D>0$ and $f_{xx}(x_0,y_0)>0$, then $f$ has a local minimum at $(x_0,y_0)$. \n",
    "2. If $D>0$ and $f_{xx}(x_0,y_0)<0$, then $f$ has a local maximum at $(x_0,y_0)$.\n",
    "3. If $D<0$, then $f$ has a saddle point at $(x_0,y_0)$.\n",
    "4. If $D=0$, then the test is inconclusive.\n"
   ]
  },
  {
   "cell_type": "code",
   "execution_count": 51,
   "metadata": {},
   "outputs": [
    {
     "name": "stdout",
     "output_type": "stream",
     "text": [
      "sols array =  [{x: -8, y: 0}, {x: -8, y: 10}, {x: 0, y: 0}, {x: 0, y: 10}]\n",
      "relative maximum at x:-8 and y:0 which results in f(xy) = 255\n",
      "saddlepoint at x:-8 and y:10 which results in f(xy) = -245\n",
      "saddlepoint at x:0 and y:0 which results in f(xy) = -1\n",
      "relative minimum at x:0 and y:10 which results in f(xy) = -501\n"
     ]
    }
   ],
   "source": [
    "from sympy import symbols, Derivative,exp, solve, sqrt\n",
    "import math\n",
    "\n",
    "x,y = symbols('x y',real=True)\n",
    "\n",
    "#adjust your main func here\n",
    "mainfunc = x**3 + y**3 + 12*x**2 - 15*y**2 - 1\n",
    "\n",
    "#dont touch anything below this really\n",
    "\n",
    "#first level for x\n",
    "f_x = Derivative(mainfunc,x).doit()\n",
    "#second level for x\n",
    "f_xx = Derivative(f_x,x).doit()\n",
    "\n",
    "#first level for y\n",
    "f_y = Derivative(mainfunc,y).doit()\n",
    "#second level for y\n",
    "f_yy = Derivative(f_y,y).doit()\n",
    "\n",
    "#first level for xy\n",
    "f_xy = Derivative(mainfunc, x, y).doit()\n",
    "\n",
    "#solve f_x & f_y system of equations for zero\n",
    "f_x_and_f_y_zeroed = solve([f_x,f_y],[x, y],dict=True)\n",
    "\n",
    "#use this print to check how many total solutions we actually have\n",
    "print('sols array = ',f_x_and_f_y_zeroed)\n",
    "\n",
    "#d = (f_xx*f_yy) - (f_xy**2)\n",
    "d_func = (f_xx*f_yy) - (f_xy**2)\n",
    "\n",
    "#get your values with this function\n",
    "def mainfunc_sols(func,xpoint,ypoint):\n",
    "    holder = func.subs({x:xpoint,y:ypoint})\n",
    "    return holder\n",
    "\n",
    "#get your d vals with this one\n",
    "def d_sols(func,xpoint,ypoint):\n",
    "    holder = func.subs({x:xpoint,y:ypoint})\n",
    "    return holder\n",
    "\n",
    "#solve for second deriv of f in terms of x\n",
    "def f_xx_sols(func,xpoint,ypoint):\n",
    "    holder = func.subs({x:xpoint,y:ypoint})\n",
    "    return holder\n",
    "\n",
    "#run the rules here\n",
    "def checker(name,dsol,fxxsol,xsol,ysol,mainfuncsol):\n",
    "    if dsol > 0 and fxxsol > 0:\n",
    "        print(f'relative minimum at x:{xsol} and y:{ysol} which results in f(xy) = {mainfuncsol}')\n",
    "    elif dsol > 0 and fxxsol < 0:\n",
    "        print(f'relative maximum at x:{xsol} and y:{ysol} which results in f(xy) = {mainfuncsol}')\n",
    "    elif dsol < 0:\n",
    "        print(f'saddlepoint at x:{xsol} and y:{ysol} which results in f(xy) = {mainfuncsol}')\n",
    "    else:\n",
    "        print(f'inconclusive')\n",
    "\n",
    "\n",
    "#the loop that runs everything\n",
    "for i in f_x_and_f_y_zeroed:\n",
    "    x_sol = i[x]\n",
    "    y_sol = i[y]\n",
    "    mainfunc_solve = mainfunc_sols(mainfunc,x_sol,y_sol)\n",
    "    d_solve = d_sols(d_func,x_sol,y_sol)\n",
    "    f_xx_solve = f_xx_sols(f_xx,x_sol,y_sol)\n",
    "    checker(i,d_solve,f_xx_solve,x_sol,y_sol,mainfunc_solve)"
   ]
  },
  {
   "cell_type": "markdown",
   "metadata": {},
   "source": [
    "Suppose that $s ( x , y ) = 9x + 3y - 7x^2 -8y^2 - 4xy$\n",
    "\n",
    "Find the first partial derivative of $S$\n",
    "\n",
    "$S_x(x,y) = $\n",
    "$S_y(x,y) = $\n",
    "\n",
    "Find the values of $x,y$ that maximize $S$\n",
    "\n",
    "D=$f_{xx}(x_0,y_0)f_{yy}(x_0,y_0)−(f_{xy}(x_0,y_0))^2$.\n",
    "\n",
    "1. If $D>0$ and $f_{xx}(x_0,y_0)>0$, then $f$ has a local minimum at $(x_0,y_0)$. \n",
    "2. If $D>0$ and $f_{xx}(x_0,y_0)<0$, then $f$ has a local maximum at $(x_0,y_0)$.\n",
    "3. If $D<0$, then $f$ has a saddle point at $(x_0,y_0)$.\n",
    "4. If $D=0$, then the test is inconclusive.\n"
   ]
  },
  {
   "cell_type": "code",
   "execution_count": 61,
   "metadata": {},
   "outputs": [
    {
     "name": "stdout",
     "output_type": "stream",
     "text": [
      "f_x =  -14*x - 4*y + 9\n",
      "f_xx =  -14\n",
      "f_y =  -4*x - 16*y + 3\n",
      "f_yy =  -16\n",
      "f_xy =  -4\n",
      "sols array =  [{x: 33/52, y: 3/104}]\n",
      "d_func =  208\n",
      "relative maximum at x:33/52 and y:3/104 which results in f(xy) = 603/208\n"
     ]
    }
   ],
   "source": [
    "from sympy import symbols, Derivative,exp, solve, sqrt\n",
    "import math\n",
    "\n",
    "x,y = symbols('x y',real=True)\n",
    "\n",
    "#adjust your main func here\n",
    "mainfunc = 9*x + 3*y - 7*x**2 - 8*y**2 - 4*x*y\n",
    "\n",
    "#dont touch anything below this really\n",
    "\n",
    "#first level for x\n",
    "f_x = Derivative(mainfunc,x).doit()\n",
    "print('f_x = ',f_x)\n",
    "#second level for x\n",
    "f_xx = Derivative(f_x,x).doit()\n",
    "print('f_xx = ',f_xx)\n",
    "\n",
    "#first level for y\n",
    "f_y = Derivative(mainfunc,y).doit()\n",
    "print('f_y = ',f_y)\n",
    "#second level for y\n",
    "f_yy = Derivative(f_y,y).doit()\n",
    "print('f_yy = ',f_yy)\n",
    "\n",
    "#first level for xy\n",
    "f_xy = Derivative(mainfunc, x, y).doit()\n",
    "print('f_xy = ',f_xy)\n",
    "\n",
    "#solve f_x & f_y system of equations for zero\n",
    "f_x_and_f_y_zeroed = solve([f_x,f_y],[x, y],dict=True)\n",
    "\n",
    "#use this print to check how many total solutions we actually have\n",
    "print('sols array = ',f_x_and_f_y_zeroed)\n",
    "\n",
    "#d = (f_xx*f_yy) - (f_xy**2)\n",
    "d_func = (f_xx*f_yy) - (f_xy**2)\n",
    "print('d_func = ',d_func)\n",
    "\n",
    "#get your values with this function\n",
    "def mainfunc_sols(func,xpoint,ypoint):\n",
    "    holder = func.subs({x:xpoint,y:ypoint})\n",
    "    return holder\n",
    "\n",
    "#get your d vals with this one\n",
    "def d_sols(func,xpoint,ypoint):\n",
    "    holder = func.subs({x:xpoint,y:ypoint})\n",
    "    return holder\n",
    "\n",
    "#solve for second deriv of f in terms of x\n",
    "def f_xx_sols(func,xpoint,ypoint):\n",
    "    holder = func.subs({x:xpoint,y:ypoint})\n",
    "    return holder\n",
    "\n",
    "#run the rules here\n",
    "def checker(name,dsol,fxxsol,xsol,ysol,mainfuncsol):\n",
    "    if dsol > 0 and fxxsol > 0:\n",
    "        print(f'relative minimum at x:{xsol} and y:{ysol} which results in f(xy) = {mainfuncsol}')\n",
    "    elif dsol > 0 and fxxsol < 0:\n",
    "        print(f'relative maximum at x:{xsol} and y:{ysol} which results in f(xy) = {mainfuncsol}')\n",
    "    elif dsol < 0:\n",
    "        print(f'saddlepoint at x:{xsol} and y:{ysol} which results in f(xy) = {mainfuncsol}')\n",
    "    else:\n",
    "        print(f'inconclusive')\n",
    "\n",
    "\n",
    "#the loop that runs everything\n",
    "for i in f_x_and_f_y_zeroed:\n",
    "    x_sol = i[x]\n",
    "    y_sol = i[y]\n",
    "    mainfunc_solve = mainfunc_sols(mainfunc,x_sol,y_sol)\n",
    "    d_solve = d_sols(d_func,x_sol,y_sol)\n",
    "    f_xx_solve = f_xx_sols(f_xx,x_sol,y_sol)\n",
    "    checker(i,d_solve,f_xx_solve,x_sol,y_sol,mainfunc_solve)"
   ]
  },
  {
   "cell_type": "markdown",
   "metadata": {},
   "source": [
    "### MinMax problem 3 variables\n",
    "\n",
    "An open-top rectangular box is being constructed to hold a volume of 250 in3. The base of the box is made from a material costing 8 cents/in2. The front of the box must be decorated, and will cost 11 cents/in2. The remainder of the sides will cost 3 cents/in $^2$.\n",
    "\n",
    "Find the dimensions that will minimize the cost of constructing this box. Round your answers to two decimal places as needed."
   ]
  },
  {
   "cell_type": "code",
   "execution_count": 112,
   "metadata": {},
   "outputs": [
    {
     "name": "stdout",
     "output_type": "stream",
     "text": [
      "area =  x*y + 2*x*z + 2*y*z\n",
      "cost formula =  0.08*x*y + 0.14*x*z + 0.06*y*z\n",
      "with subs =  0.08*x*y + 35.0/y + 15.0/x\n",
      "f_x =  0.08*y - 15.0/x**2\n",
      "f_xx =  30.0/x**3\n",
      "f_y =  0.08*x - 35.0/y**2\n",
      "f_yy =  70.0/y**3\n",
      "f_xy =  0.0800000000000000\n",
      "sols array =  [{x: 4.31527186998591, y: 10.0689676966338}]\n",
      "d_func =  -0.0064 + 2100.0/(x**3*y**3)\n",
      "43.4503330610806\n",
      "relative minimum at x:4.31527186998591 and y:10.0689676966338 which results in f(xy) = 10.4280799346593\n",
      "5.75369582664788\n"
     ]
    }
   ],
   "source": [
    "from sympy import symbols, Derivative,exp, solve, sqrt,lambdify\n",
    "import math\n",
    "\n",
    "x,y,z= symbols('x y z',real=True)\n",
    "\n",
    "#adjust your main func here\n",
    "#open top = 5 sides\n",
    "#base, front, back, side1, side 2\n",
    "\n",
    "base_area = x * y\n",
    "front_area = x * z\n",
    "rest_area = x * z + 2*(y * z)\n",
    "total_area = base_area + front_area + rest_area\n",
    "print('area = ', total_area)\n",
    "\n",
    "\n",
    "#funcx = lambdify(x,f_x)\n",
    "\n",
    "#costs in terms of cents\n",
    "base_cost = base_area * .08\n",
    "front_cost = front_area * .11\n",
    "rest_cost =  rest_area * .03\n",
    "#8xy + 11xz + 3(xz+2xy)\n",
    "#8xy + 11xz + 3xz + 6xy\n",
    "#14xy + 14xz\n",
    "#sub in for z\n",
    "#14xy + 14x(250/xy)\n",
    "\n",
    "total_cost = base_cost + front_cost + rest_cost\n",
    "print('cost formula = ', total_cost)\n",
    "\n",
    "#max volume is 250in^3\n",
    "#total_volume = x*y*z\n",
    "#250 = xyz\n",
    "zfunc = 250/(x*y)\n",
    "\n",
    "\n",
    "mainfunc = total_cost.subs({z:zfunc})\n",
    "print('with subs = ', mainfunc)\n",
    "\n",
    "#first level for x\n",
    "f_x = Derivative(mainfunc,x).doit()\n",
    "print('f_x = ',f_x)\n",
    "#second level for x\n",
    "f_xx = Derivative(f_x,x).doit()\n",
    "print('f_xx = ',f_xx)\n",
    "\n",
    "#first level for y\n",
    "f_y = Derivative(mainfunc,y).doit()\n",
    "print('f_y = ',f_y)\n",
    "#second level for y\n",
    "f_yy = Derivative(f_y,y).doit()\n",
    "print('f_yy = ',f_yy)\n",
    "\n",
    "#first level for xy\n",
    "f_xy = Derivative(mainfunc, x, y).doit()\n",
    "print('f_xy = ',f_xy)\n",
    "\n",
    "#solve f_x & f_y system of equations for zero\n",
    "f_x_and_f_y_zeroed = solve([f_x,f_y],[x, y],dict=True)\n",
    "\n",
    "#use this print to check how many total solutions we actually have\n",
    "print('sols array = ',f_x_and_f_y_zeroed)\n",
    "\n",
    "#d = (f_xx*f_yy) - (f_xy**2)\n",
    "d_func = (f_xx*f_yy) - (f_xy**2)\n",
    "print('d_func = ',d_func)\n",
    "\n",
    "#get your values with this function\n",
    "def mainfunc_sols(func,xpoint,ypoint):\n",
    "    holder = func.subs({x:xpoint,y:ypoint})\n",
    "    return holder\n",
    "\n",
    "#get your d vals with this one\n",
    "def d_sols(func,xpoint,ypoint):\n",
    "    holder = func.subs({x:xpoint,y:ypoint})\n",
    "    return holder\n",
    "\n",
    "#solve for second deriv of f in terms of x\n",
    "def f_xx_sols(func,xpoint,ypoint):\n",
    "    holder = func.subs({x:xpoint,y:ypoint})\n",
    "    return holder\n",
    "\n",
    "#run the rules here\n",
    "def checker(name,dsol,fxxsol,xsol,ysol,mainfuncsol):\n",
    "    if dsol > 0 and fxxsol > 0:\n",
    "        print(f'relative minimum at x:{xsol} and y:{ysol} which results in f(xy) = {mainfuncsol}')\n",
    "    elif dsol > 0 and fxxsol < 0:\n",
    "        print(f'relative maximum at x:{xsol} and y:{ysol} which results in f(xy) = {mainfuncsol}')\n",
    "    elif dsol < 0:\n",
    "        print(f'saddlepoint at x:{xsol} and y:{ysol} which results in f(xy) = {mainfuncsol}')\n",
    "    else:\n",
    "        print(f'inconclusive')\n",
    "\n",
    "\n",
    "#the loop that runs everything\n",
    "for i in f_x_and_f_y_zeroed:\n",
    "    x_sol = i[x]\n",
    "    y_sol = i[y]\n",
    "    x_times_y = x_sol * y_sol\n",
    "    print(x_times_y)\n",
    "    mainfunc_solve = mainfunc_sols(mainfunc,x_sol,y_sol)\n",
    "    d_solve = d_sols(d_func,x_sol,y_sol)\n",
    "    f_xx_solve = f_xx_sols(f_xx,x_sol,y_sol)\n",
    "    checker(i,d_solve,f_xx_solve,x_sol,y_sol,mainfunc_solve)\n",
    "    zval = 250/x_times_y\n",
    "    print('actual z val = ',zval)\n"
   ]
  },
  {
   "cell_type": "markdown",
   "metadata": {},
   "source": [
    "\n",
    "A firm manufactures a commodity at two different factories, Factory X and Factory Y. The total cost (in dollars) of manufacturing depends on the quantities, x and y produced at each factory, respectively, and is expressed by the joint cost function:\n",
    "\n",
    "$C(x,y)=1x^2+xy+4y^2+1200$\n",
    "\n",
    "A) If the company's objective is to produce 1,900 units per month while minimizing the total monthly cost of production, how many units should be produced at each factory? (Round your answer to whole units, i.e. no decimal places.)\n",
    "\n",
    "To minimize costs, the company should produce:\n",
    "\n",
    "at Factory X\n",
    "\n",
    "at Factory Y\n",
    "\n",
    "B) For this combination of units, their minimal costs will be dollars. (Do not enter any commas in your answer.)"
   ]
  },
  {
   "cell_type": "code",
   "execution_count": 114,
   "metadata": {},
   "outputs": [
    {
     "name": "stdout",
     "output_type": "stream",
     "text": [
      "4*y**2 + y*(1900 - y) + (1900 - y)**2 + 1200\n",
      "8*y - 1900\n",
      "y = 238\n",
      "x = 1662\n",
      "Minimal costs will be $ 3385575\n"
     ]
    }
   ],
   "source": [
    "from sympy import symbols, Derivative\n",
    "from sympy.solvers import solve \n",
    "from mpmath import pi\n",
    "\n",
    "x, y = symbols('x y')\n",
    "# x + y = 1900\n",
    "xfunc = 1900 - y\n",
    "\n",
    "mainfunc = x**2 + x*y + 4*y**2 + 1200\n",
    "\n",
    "mainfunc_subbed = mainfunc.subs({x:xfunc})\n",
    "print(mainfunc_subbed)\n",
    "\n",
    "\n",
    "#do y stuff here\n",
    "mainfunc_subbed_y = Derivative(mainfunc_subbed,y).doit()\n",
    "print(mainfunc_subbed_y)\n",
    "\n",
    "y_val = solve(mainfunc_subbed_y,y)\n",
    "print(\"y =\", round(y_val[0]))\n",
    "\n",
    "#do x stuff here\n",
    "x_val = xfunc.subs({y:y_val[0]})\n",
    "print(\"x =\", round(x_val))\n",
    "\n",
    "\n",
    "#total cost\n",
    "C_value = mainfunc_subbed.subs({y:y_val[0]})\n",
    "#print(\"C = \",round(C_value[0]))\n",
    "print(\"Minimal costs will be $\",C_value)"
   ]
  },
  {
   "cell_type": "markdown",
   "metadata": {},
   "source": [
    "### Lagrange Multipliers\n",
    "A chemical manufacturing plant can produce z units of chemical Z given p units of chemical P and r units of chemical R, where:\n",
    "\n",
    "\n",
    "$z=100p^{.8} r^{.2} $\n",
    "\n",
    "\n",
    "Chemical P costs $200 a unit and chemical R costs $800 a unit. The company wants to produce as many units of chemical Z as possible with a total budget of $160,000.\n",
    "\n",
    "A) How many units each chemical (P and R) should be \"purchased\" to maximize production of chemical Z subject to the budgetary constraint?\n",
    "\n",
    "Units of chemical P, p =\n",
    "\n",
    "Units of chemical R, r =\n",
    "\n",
    "B) What is the maximum number of units of chemical Z under the given budgetary conditions? (Round your answer to the nearest whole unit.)\n",
    "\n",
    "Max production, z = units\n",
    "\n",
    "lagrange stuff\n",
    "\n",
    "$\\nabla f = \\lambda \\nabla g$\n",
    "\n",
    "$f_x(x,y) = \\lambda g_x(x,y)$\n",
    "\n",
    "$f_y(x,y) = \\lambda g_y(x,y)$\n",
    "\n",
    "$g(x,y) = 0$\n"
   ]
  },
  {
   "cell_type": "code",
   "execution_count": 135,
   "metadata": {},
   "outputs": [
    {
     "name": "stdout",
     "output_type": "stream",
     "text": [
      "200\n",
      "800\n",
      "80.0*y**0.2/x**0.2\n",
      "20.0*x**0.8/y**0.8\n",
      "lambda x 0.4*y**0.2/x**0.2\n",
      "lambda y 0.025*x**0.8/y**0.8\n",
      "[0.0]\n",
      "[]\n"
     ]
    }
   ],
   "source": [
    "#### do not use this, use the one below\n",
    "from sympy import symbols, Derivative\n",
    "from sympy.solvers import solve \n",
    "from mpmath import pi\n",
    "\n",
    "x, y = symbols('x y')\n",
    "\n",
    "budget = 160000\n",
    "#cost per chemical P\n",
    "x_cost = 200\n",
    "#cost per chemical R\n",
    "y_cost = 800\n",
    "\n",
    "#constraint: 200x + 800y = 160,000\n",
    "#so g = 200x + 800y - 160,000 = 0\n",
    "g_func = x_cost * x + y_cost * y - budget\n",
    "\n",
    "g_x = Derivative(g_func,x).doit()\n",
    "g_y = Derivative(g_func,y).doit()\n",
    "print(g_x)\n",
    "print(g_y)\n",
    "\n",
    "mainfunc = 100 * x **.8 * y ** .2\n",
    "\n",
    "mainfunc_x = Derivative(mainfunc,x).doit()\n",
    "mainfunc_y = Derivative(mainfunc,y).doit()\n",
    "\n",
    "print(mainfunc_x)\n",
    "print(mainfunc_y)\n",
    "\n",
    "lambda_x = mainfunc_x/g_x\n",
    "lambda_y = mainfunc_y/g_y\n",
    "\n",
    "print('lambda x',lambda_x)\n",
    "print('lambda y',lambda_y)\n",
    "\n",
    "lambda_x_derivx = Derivative(lambda_x,x).doit()\n",
    "\n",
    "\n",
    "#lambda_subbed_l = lambda_x.subs({x:lambda_y})\n",
    "#print(lambda_subbed_l)\n",
    "solved_y = solve(lambda_x,(x))\n",
    "solved_x = solve(lambda_x,(y))\n",
    "print(solved_x)\n",
    "print(solved_y)\n"
   ]
  },
  {
   "cell_type": "code",
   "execution_count": 182,
   "metadata": {},
   "outputs": [
    {
     "name": "stdout",
     "output_type": "stream",
     "text": [
      "g_x =  9\n",
      "18\n",
      "mainfunc_x =  27.0*y**0.1/x**0.1\n",
      "mainfunc_y =  3.0*x**0.9/y**0.9\n",
      "lambda x 3.0*y**0.1/x**0.1\n",
      "lambda y 0.166666666666667*x**0.9/y**0.9\n",
      "lambda x in terms of y = []\n",
      "lhs =  486.0*y\n",
      "rhs =  27.0*x\n",
      "x in terms of y 18.0*y\n",
      "180.0*y - 10800\n",
      "[60.0000000000000]\n",
      "1080.00000000000\n",
      "min cost =  24267.0932899225\n"
     ]
    }
   ],
   "source": [
    "from sympy import symbols, Derivative, simplify\n",
    "from sympy.solvers import solve \n",
    "from mpmath import pi\n",
    "from fractions import Fraction\n",
    "\n",
    "x, y = symbols('x y')\n",
    "\n",
    "budget = 10800\n",
    "#cost per chemical P\n",
    "x_cost = 9\n",
    "#cost per chemical R\n",
    "y_cost = 18\n",
    "\n",
    "#constraint: 200x + 800y = 160,000\n",
    "#so g = 200x + 800y - 160,000 = 0\n",
    "g_func = x_cost * x + y_cost * y - budget\n",
    "\n",
    "g_x = g_func.diff(x)\n",
    "g_y = Derivative(g_func,y).doit()\n",
    "print('g_x = ', g_x)\n",
    "print('g_y = ',g_y)\n",
    "\n",
    "#mainfunc = 30 * x ** .9 * y ** .1\n",
    "mainfunc = 30 * x ** .9 * y ** .1\n",
    "\n",
    "mainfunc_x = mainfunc.diff(x)\n",
    "mainfunc_y = mainfunc.diff(y)\n",
    "\n",
    "print('mainfunc_x = ',mainfunc_x)\n",
    "print('mainfunc_y = ', mainfunc_y)\n",
    "\n",
    "lambda_x = mainfunc_x/g_x\n",
    "lambda_y = mainfunc_y/g_y\n",
    "\n",
    "print('lambda x',lambda_x)\n",
    "print('lambda y',lambda_y)\n",
    "\n",
    "print('lambda x in terms of y =',solved_y)\n",
    "\n",
    "lambda_x_derivx = Derivative(lambda_x,x).doit()\n",
    "\n",
    "\n",
    "#lambda_subbed_l = lambda_x.subs({x:lambda_y})\n",
    "#print(lambda_subbed_l)\n",
    "#solved_y = solve(lambda_x,(x))\n",
    "#solved_x = solve(lambda_x,(y))\n",
    "#print(solved_x)\n",
    "\n",
    "\n",
    "#manually input numerator of mainfunc_x * (g_y * denominator of mainfunc_y) as new1\n",
    "#manually input numerator of mainfunc_y * (g_x * denominator of mainfunc_x) as new2\n",
    "new1 = 27.0*y**Fraction(1,10) * 18*y**Fraction(9,10)\n",
    "new2 = 3.0*x**Fraction(9,10) * 9*x**Fraction(1,10)\n",
    "\n",
    "print('lhs = ', new1)\n",
    "print('rhs = ', new2)\n",
    "\n",
    "x_in_terms_of_y = new1/27\n",
    "print('x in terms of y', x_in_terms_of_y)\n",
    "x_in_terms_of_y = (x_in_terms_of_y)\n",
    "\n",
    "g_func_subbed_y = g_func.subs({x:x_in_terms_of_y})\n",
    "print(g_func_subbed_y)\n",
    "\n",
    "g_func_subbed_solved_y = solve(g_func_subbed_y,y)\n",
    "print(g_func_subbed_solved_y)\n",
    "\n",
    "g_func_subbed_solved_x = x_in_terms_of_y.subs({y:g_func_subbed_solved_y[0]})\n",
    "print(g_func_subbed_solved_x)\n",
    "\n",
    "mainfunc_solved = mainfunc.subs({x:g_func_subbed_solved_x,y:g_func_subbed_solved_y[0]})\n",
    "print('min cost = ',mainfunc_solved)\n"
   ]
  },
  {
   "cell_type": "code",
   "execution_count": 186,
   "metadata": {},
   "outputs": [
    {
     "name": "stdout",
     "output_type": "stream",
     "text": [
      "g_x =  200\n",
      "800\n",
      "mainfunc_x =  80.0*y**0.2/x**0.2\n",
      "mainfunc_y =  20.0*x**0.8/y**0.8\n",
      "lambda x 0.4*y**0.2/x**0.2\n",
      "lambda y 0.025*x**0.8/y**0.8\n",
      "lambda x in terms of y = []\n",
      "lhs =  64000*y\n",
      "rhs =  4000*x\n",
      "x in terms of y 16*y\n",
      "4000*y - 160000\n",
      "y (R) =  [40]\n",
      "x (P) =  640\n",
      "min cost =  36758.3473599051\n"
     ]
    }
   ],
   "source": [
    "from sympy import symbols, Derivative, simplify\n",
    "from sympy.solvers import solve \n",
    "from mpmath import pi\n",
    "from fractions import Fraction\n",
    "\n",
    "x, y = symbols('x y')\n",
    "\n",
    "budget = 160000\n",
    "#cost per chemical P\n",
    "x_cost = 200\n",
    "#cost per chemical R\n",
    "y_cost = 800\n",
    "\n",
    "#constraint: 200x + 800y = 160,000\n",
    "#so g = 200x + 800y - 160,000 = 0\n",
    "g_func = x_cost * x + y_cost * y - budget\n",
    "\n",
    "g_x = g_func.diff(x)\n",
    "g_y = Derivative(g_func,y).doit()\n",
    "print('g_x = ', g_x)\n",
    "print(g_y)\n",
    "\n",
    "#mainfunc = 30 * x ** .9 * y ** .1\n",
    "mainfunc = 100 * x ** .8 * y ** .2\n",
    "\n",
    "mainfunc_x = mainfunc.diff(x)\n",
    "mainfunc_y = mainfunc.diff(y)\n",
    "\n",
    "print('mainfunc_x = ',mainfunc_x)\n",
    "print('mainfunc_y = ', mainfunc_y)\n",
    "\n",
    "lambda_x = mainfunc_x/g_x\n",
    "lambda_y = mainfunc_y/g_y\n",
    "\n",
    "print('lambda x',lambda_x)\n",
    "print('lambda y',lambda_y)\n",
    "\n",
    "print('lambda x in terms of y =',solved_y)\n",
    "\n",
    "lambda_x_derivx = Derivative(lambda_x,x).doit()\n",
    "\n",
    "\n",
    "#lambda_subbed_l = lambda_x.subs({x:lambda_y})\n",
    "#print(lambda_subbed_l)\n",
    "#solved_y = solve(lambda_x,(x))\n",
    "#solved_x = solve(lambda_x,(y))\n",
    "#print(solved_x)\n",
    "\n",
    "#manually input numerator of mainfunc_x * (g_y * denominator of mainfunc_y) as new1\n",
    "#manually input numerator of mainfunc_y * (g_x * denominator of mainfunc_x) as new2\n",
    "new1 = 80*y**Fraction(2,10) * 800*y**Fraction(8,10)\n",
    "new2 = 20*x**Fraction(8,10) * 200*x**Fraction(2,10)\n",
    "\n",
    "print('lhs = ', new1)\n",
    "print('rhs = ', new2)\n",
    "\n",
    "x_in_terms_of_y = new1/4000\n",
    "print('x in terms of y', x_in_terms_of_y)\n",
    "x_in_terms_of_y = (x_in_terms_of_y)\n",
    "\n",
    "g_func_subbed_y = g_func.subs({x:x_in_terms_of_y})\n",
    "print(g_func_subbed_y)\n",
    "\n",
    "g_func_subbed_solved_y = solve(g_func_subbed_y,y)\n",
    "print('y (R) = ',g_func_subbed_solved_y)\n",
    "\n",
    "g_func_subbed_solved_x = x_in_terms_of_y.subs({y:g_func_subbed_solved_y[0]})\n",
    "print('x (P) = ',g_func_subbed_solved_x)\n",
    "\n",
    "mainfunc_solved = mainfunc.subs({x:g_func_subbed_solved_x,y:g_func_subbed_solved_y[0]})\n",
    "print('min cost = ',mainfunc_solved)\n"
   ]
  },
  {
   "cell_type": "markdown",
   "metadata": {},
   "source": [
    "## Practice Final"
   ]
  },
  {
   "cell_type": "markdown",
   "metadata": {},
   "source": [
    "### Problem 1: Simple Algebra\n",
    "\n",
    "A manufacturer sells engine belts for $18 per belt. The fixed costs are $192, and the variable costs are $10 per unit.\n",
    "\n",
    "a) Write the cost function. $C ( x )$ =\n",
    "\n",
    "b) Write the revenue function. $R ( x )$ =\n",
    "\n",
    "c) Write the profit function. $P ( x )$ =\n",
    "\n",
    "d) The number of engine belts that the manufacture must sell to break even is ___ belts"
   ]
  },
  {
   "cell_type": "code",
   "execution_count": 32,
   "metadata": {},
   "outputs": [
    {
     "data": {
      "text/latex": [
       "$\\displaystyle 8 x - 192$"
      ],
      "text/plain": [
       "8*x - 192"
      ]
     },
     "metadata": {},
     "output_type": "display_data"
    },
    {
     "name": "stdout",
     "output_type": "stream",
     "text": [
      "break even is at [24]\n"
     ]
    }
   ],
   "source": [
    "import sympy\n",
    "from IPython.display import display\n",
    "\n",
    "x = sympy.Symbol('x')\n",
    "cost_func = 192 + 10*x\n",
    "rev_func = 18*x\n",
    "profit_func = rev_func - cost_func\n",
    "display(profit_func)\n",
    "#profit_func_lambd = lambdify(x,profit_func)\n",
    "\n",
    "p1_answer = solve(profit_func,x)\n",
    "print(f'break even is at {p1_answer}')\n"
   ]
  },
  {
   "cell_type": "markdown",
   "metadata": {},
   "source": [
    "### Problem 2: Correlation Coefficient and Least Squares Line\n",
    "\n",
    "Based on the data shown below, calculate the correlation coefficient and the equation of the least squares line. Round all numerical values to three decimal places as needed.\n",
    "\n",
    "|x|y|\n",
    "|:-:|:-:|\n",
    "|5|14.82|\n",
    "|6|17.06|\n",
    "|7|14.1|\n",
    "|8|14.34|\n",
    "|9|15.38|\n",
    "|10|13.12|\n",
    "|11|12.66|\n",
    "|12|15|"
   ]
  },
  {
   "cell_type": "code",
   "execution_count": 35,
   "metadata": {},
   "outputs": [
    {
     "name": "stdout",
     "output_type": "stream",
     "text": [
      "\n",
      "(a)\n",
      "Option 1: Correlation Coefficient (corrcoef):  -0.482\n",
      "Option 2: Correlation Coefficient (pearsonr):  -0.482\n",
      "\n",
      "(b)\n",
      "y =  -0.27 x  16.851\n"
     ]
    }
   ],
   "source": [
    "%matplotlib inline\n",
    "\n",
    "# Packages we can use\n",
    "from scipy.stats import pearsonr\n",
    "import scipy.stats as st\n",
    "import numpy as np\n",
    "import matplotlib.pyplot as plt\n",
    "\n",
    "'''\n",
    "a. Draw a scatterplot. \n",
    "Use numpy arrays to store x and y\n",
    "'''\n",
    "x = np.arange(5,13)\n",
    "y = np.array([14.82,17.06,14.1,14.34,15.38,13.12,12.66,15])\n",
    "\n",
    "'''\n",
    "b. Calculate the correlation coefficient. \n",
    "\n",
    "Two options- using the corrcoef function from numpy or pearsonr function\n",
    "'''\n",
    "\n",
    "print(\"\\n(a)\")\n",
    "\n",
    "corr_np = np.corrcoef(x, y)[0, 1]\n",
    "corr_sci = pearsonr(x, y)[0]\n",
    "print(\"Option 1: Correlation Coefficient (corrcoef): \",round(corr_np,3))\n",
    "print(\"Option 2: Correlation Coefficient (pearsonr): \",round(corr_sci,3))\n",
    "\n",
    "'''\n",
    "c. Calculate the least squares line and graph it on the scatterplot. \n",
    "'''\n",
    "'''\n",
    "For deeper exploration of pyplot visit:\n",
    "http://matplotlib.org/api/pyplot_api.html#matplotlib.pyplot\n",
    "'''\n",
    "\n",
    "# For details of the following step see part (d) below\n",
    "slope,intercept,rvalue,pvalue,stderr = st.linregress(x,y)\n",
    "\n",
    "print('\\n(b)')\n",
    "print('y = ',round(slope,3),'x ',round(intercept,3))\n"
   ]
  },
  {
   "cell_type": "markdown",
   "metadata": {},
   "source": [
    "### Problem 3: System of Equations\n",
    "\n",
    "Solve the the following system of equations.\n",
    "\n",
    "$x + 2y + 6z = 38$\n",
    "\n",
    "$-5x + y -4z = -45$\n",
    "\n",
    "$-x -4y -2z = -12$\n",
    "\n",
    "\n"
   ]
  },
  {
   "cell_type": "code",
   "execution_count": 37,
   "metadata": {},
   "outputs": [
    {
     "name": "stdout",
     "output_type": "stream",
     "text": [
      "[ 4. -1.  6.]\n"
     ]
    }
   ],
   "source": [
    "import numpy as np\n",
    "\n",
    "#left hand side\n",
    "lhs = np.array([[1, 2, 6], [-5, 1, -4], [-1, -4, -2]])\n",
    "rhs = np.array([38, -45, -12])\n",
    "p3_ans = np.linalg.inv(lhs).dot(rhs)\n",
    "\n",
    "print(p3_ans)"
   ]
  },
  {
   "cell_type": "markdown",
   "metadata": {},
   "source": [
    "### Problem 4: Another system of equations with substition\n",
    "\n",
    "Admission to a Museum is $30 for adults and $20 for students. The freshman class is attending a field trip with teacher chaperones. Mr. Frees collects $6220 total from teachers and students, and 305 total people go on the field trip. How many students and teachers attended?\n",
    "\n",
    "Use  s for the number of students and t for the number of teachers to write the equations.\n",
    "\n",
    "(a) Write the equation representing the total number of people who went to the museum\n",
    "\n",
    "(b) Write the equation representing the total amount of money collected\n",
    "\n",
    "(c) How many students were in attendance?\n",
    "\n",
    "(d) How many teachers were in attendance? "
   ]
  },
  {
   "cell_type": "code",
   "execution_count": 38,
   "metadata": {},
   "outputs": [
    {
     "name": "stdout",
     "output_type": "stream",
     "text": [
      "(c) Number of students = 278.0\n",
      "(d) Number of teachers = 10.0\n"
     ]
    }
   ],
   "source": [
    "import numpy as np\n",
    "\n",
    "A = np.array([[1, 1], [30, 20]])\n",
    "B = np.array([288, 5860])\n",
    "X = np.linalg.inv(A).dot(B)\n",
    "\n",
    "print(\"(c) Number of students =\",round(X[1],0))\n",
    "\n",
    "print(\"(d) Number of teachers =\",round(X[0],0))\n"
   ]
  },
  {
   "cell_type": "markdown",
   "metadata": {},
   "source": [
    "### Problem 5: Maximize\n",
    "\n",
    "\n",
    "Kathryn manages a store that sells MP3 players. Each Master Blaster takes 6 hours to create the plastic pieces, 2 hours to create the electronics, and 8 hours of labor to assemble the final product. Each XL2000 requires 2 hours to create the plastic pieces, 4 hours to create the electronics, and 13 hours of labor to assemble the final product. The factory has 570 hours to create the plastic pieces, 320 hours to create the electronics, and 1070 hours of labor to assemble the final product each week. If each Master Blaster generates $9 in profit, and each XL2000 generates $2, how many of each of the MP3 players should Kathryn have the store sell each week to maximize profit?\n",
    "\n",
    "Number of Master Blaster MP3 players to sell = \n",
    "\n",
    "Number of XL2000 MP3 players to sell = \n",
    "\n",
    "Maximum profit = "
   ]
  },
  {
   "cell_type": "code",
   "execution_count": 39,
   "metadata": {},
   "outputs": [
    {
     "name": "stdout",
     "output_type": "stream",
     "text": [
      "Answers\n",
      "Total Master Blasters =  95\n",
      "Total XL200s =  0\n",
      "max revenue 855\n"
     ]
    }
   ],
   "source": [
    "from pulp import LpVariable, LpProblem, LpMaximize, LpStatus, value, LpMinimize\n",
    "\n",
    "# defines the problem\n",
    "prob = LpProblem(\"problem\", LpMaximize)\n",
    "\n",
    "# declare your variables\n",
    "#master blaster\n",
    "x = LpVariable(\"x\", lowBound=0, cat='Integer') # \n",
    "#xl2000\n",
    "y = LpVariable(\"y\", lowBound=0, cat='Integer') \n",
    "\n",
    "# defines the objective function to maximize\n",
    "prob += 9*x + 2*y, \"Revenue\"\n",
    "\n",
    "# defines the constraints\n",
    "# first constraint is plastic creation\n",
    "prob += 6*x + 2*y <= 570\n",
    "# second is the electronics creaiton\n",
    "prob += 2*x + 4*y <= 320\n",
    "# third constraint is assembly\n",
    "prob += 8*x + 13*y <= 1070\n",
    "\n",
    "# solve the problem\n",
    "status = prob.solve()\n",
    "LpStatus[status]\n",
    "\n",
    "# print the results\n",
    "print(\"Answers\")\n",
    "print('Total Master Blasters = ', value(x))\n",
    "print('Total XL200s = ', value(y))\n",
    "print('max revenue', (9*value(x))+(2*value(y)))\n"
   ]
  },
  {
   "cell_type": "markdown",
   "metadata": {},
   "source": [
    "### Problem 6: Minimize\n",
    "Johnson Family Orchards owns three apple orchards and has three different types of apples that are harvested. For each type of apple, the number of bushels harvested per hour from each orchard and the minimum number of bushels required to fill orders are given in the following table. How many hours should each orchard operate in order to minimize costs?\n",
    "\n",
    "![alt text](orchards.png \"Title\")\n",
    "\n",
    "Let x, y, and z represent the number of hours to operate Orchards 1, 2, and 3 respectively.\n",
    "\n",
    "Type the objective function and the left hand side of each constraint in the following answer boxes.\n",
    "\n",
    "Minimize Cost =\n",
    "\n",
    "subject to:\n",
    "\n",
    "Solve the linear program and enter the solution below. Round your answers to two decimal places as needed.\n",
    "\n",
    "Number of hours to operate Orchard 1 is \n",
    "\n",
    "Number of hours to operate Orchard 2 is\n",
    "\n",
    "Number of hours to operate Orchard 3 is \n",
    "\n",
    "Minimum cost is  $"
   ]
  },
  {
   "cell_type": "code",
   "execution_count": 41,
   "metadata": {},
   "outputs": [
    {
     "name": "stdout",
     "output_type": "stream",
     "text": [
      "Answers\n",
      "orchard 1 =  0.0\n",
      "orchard 2 =  20.0\n",
      "orchard 3 =  16.6667\n",
      "min cost 22300.019\n"
     ]
    }
   ],
   "source": [
    "from pulp import LpVariable, LpProblem, LpMaximize, LpStatus, value, LpMinimize\n",
    "\n",
    "# defines the problem\n",
    "prob = LpProblem(\"problem\", LpMinimize)\n",
    "\n",
    "# declare your variables\n",
    "#orchard 1\n",
    "x = LpVariable(\"x\", lowBound=0, cat='Continuous') # \n",
    "#orchard 2\n",
    "y = LpVariable(\"y\", lowBound=0, cat='Continuous') \n",
    "#orchard 3\n",
    "z = LpVariable(\"z\", lowBound=0, cat='Continuous') \n",
    "\n",
    "# costs to minimize\n",
    "prob += 600*x + 640*y + 570*z, \"Revenue\"\n",
    "\n",
    "# defines the constraints\n",
    "# first constraint is fujis\n",
    "prob += 10*x + 40*y + 20*z >= 1130\n",
    "# second is pinks\n",
    "prob += 0*x + 10*y + 15*z >=450\n",
    "# third is honeycrips\n",
    "prob += 10*x + 25*y + 0*z >=500\n",
    "\n",
    "# solve the problem\n",
    "status = prob.solve()\n",
    "LpStatus[status]\n",
    "\n",
    "# print the results\n",
    "print(\"Answers\")\n",
    "print('orchard 1 = ', value(x))\n",
    "print('orchard 2 = ', value(y))\n",
    "print('orchard 3 = ', value(z))\n",
    "print('min cost', (600*value(x))+(640*value(y))+(570*value(z)))\n"
   ]
  },
  {
   "cell_type": "markdown",
   "metadata": {},
   "source": [
    "### Problem 7: Bayesian\n",
    "\n",
    "In the general population, only 0.4% have undiagnosed colorectal cancer. The hemoccult test is used in the detection of colorectal cancer is less expensive and much less invasive alternative to colonoscopy. However it is also much less accurate. The test is positive 52% of the time if the patient has the disease, and will be positive 4% of the time if the patient does not have the disease. What is the probability that a patient has colorectal cancer given that the test is negative? Round your answer to 4 decimal places as needed.\n",
    "\n",
    "$$P(A|B)=\\frac{P(A)\\cdot P(B|A)}{P(A)\\cdot P(B|A)+P(A')\\cdot P(B|A')}$$\n"
   ]
  },
  {
   "cell_type": "code",
   "execution_count": 44,
   "metadata": {},
   "outputs": [
    {
     "name": "stdout",
     "output_type": "stream",
     "text": [
      "0.0022\n"
     ]
    }
   ],
   "source": [
    "P_cancer = 0.004\n",
    "\n",
    "P_positive_cancer = 0.52\n",
    "P_negative_cancer = 1 - P_positive_cancer\n",
    "P_positive_no_cancer = 0.04\n",
    "P_negative_no_cancer = 1 - P_positive_no_cancer\n",
    "\n",
    "# Using law of total probability\n",
    "\n",
    "P_negative = P_negative_cancer * P_cancer + P_negative_no_cancer*(1-P_cancer)\n",
    "\n",
    "# Using bayes theorem\n",
    "\n",
    "P_cancer_negative = P_positive_cancer*P_cancer/P_negative\n",
    "\n",
    "print(round(P_cancer_negative,4))"
   ]
  },
  {
   "cell_type": "code",
   "execution_count": 53,
   "metadata": {},
   "outputs": [
    {
     "name": "stdout",
     "output_type": "stream",
     "text": [
      "total with cancer = 99500.0\n",
      "total without cancer = 500.0\n",
      "cancer and positive = 53730.0\n",
      "cancer and negative = 45770.0\n",
      "no cancer and positive = 25.0\n",
      "no cancer and negative = 475.0\n",
      "all positives = 53755.0\n",
      "all negatives = 46245.0\n",
      "0.002565\n",
      "0.00475\n"
     ]
    }
   ],
   "source": [
    "#alternative bayes solution\n",
    "\n",
    "sample = 100000\n",
    "\n",
    "prob_undiagnosed = .005\n",
    "prob_positive_given_cancer = .54\n",
    "prob_positive_given_nocancer = .05\n",
    "\n",
    "total_with_cancer = sample * (1-prob_undiagnosed)\n",
    "total_without_cancer = sample - total_with_cancer\n",
    "\n",
    "print(f'total with cancer = {total_with_cancer}')\n",
    "print(f'total without cancer = {total_without_cancer}')\n",
    "\n",
    "#prob(positive|diagnosed cancer)\n",
    "#prob of testing positive, given diagnosed cancer\n",
    "cancer_and_positive = prob_positive_given_cancer * total_with_cancer\n",
    "print(f'cancer and positive = {cancer_and_positive}')\n",
    "\n",
    "#aprob(negative|diagnosed cancer)\n",
    "#prob of testing negative, given diagnosed cancer\n",
    "cancer_and_negative = total_with_cancer - cancer_and_positive\n",
    "print(f'cancer and negative = {cancer_and_negative}')\n",
    "\n",
    "#prob(positive|undiagnosed cancer)\n",
    "nocancer_and_positive = prob_positive_given_nocancer * total_without_cancer\n",
    "print(f'no cancer and positive = {nocancer_and_positive}')\n",
    "#prob(negative|undiagnosed cancer)\n",
    "nocancer_and_negative = total_without_cancer - nocancer_and_positive\n",
    "print(f'no cancer and negative = {nocancer_and_negative}')\n",
    "\n",
    "total_with_positive = cancer_and_positive + nocancer_and_positive\n",
    "print(f'all positives = {total_with_positive}')\n",
    "\n",
    "total_with_negative = cancer_and_negative + nocancer_and_negative\n",
    "print(f'all negatives = {total_with_negative}')\n",
    "\n",
    "#now if the probability of a P(A|B) is\n",
    "#probability of undiagnosed cancer, given a negative test\n",
    "# we can look for 'undiagnosed_and_negative\n",
    "print(nocancer_and_negative*prob_positive_given_cancer/sample)\n",
    "print(nocancer_and_negative/sample)\n"
   ]
  },
  {
   "cell_type": "code",
   "execution_count": 56,
   "metadata": {},
   "outputs": [
    {
     "name": "stdout",
     "output_type": "stream",
     "text": [
      "0.9475499999999999\n",
      "0.0028\n",
      "0.002848251490057493\n"
     ]
    }
   ],
   "source": [
    "P_cancer = 0.005\n",
    "\n",
    "P_positive_cancer = 0.54\n",
    "P_negative_cancer = 1 - P_positive_cancer\n",
    "P_positive_no_cancer = 0.05\n",
    "P_negative_no_cancer = 1 - P_positive_no_cancer\n",
    "\n",
    "# Using law of total probability\n",
    "\n",
    "P_negative = P_negative_cancer * P_cancer + P_negative_no_cancer*(1-P_cancer)\n",
    "print(P_negative)\n",
    "\n",
    "# Using bayes theorem\n",
    "\n",
    "P_cancer_negative = 0.54*0.005/P_negative\n",
    "\n",
    "print(round(P_cancer_negative,4))\n",
    "\n",
    "\n",
    "nrsgdrg = (P_cancer * P_positive_cancer)/((P_cancer * P_positive_cancer)+((1-P_cancer)*(1-P_positive_no_cancer)))\n",
    "print(nrsgdrg)"
   ]
  },
  {
   "cell_type": "markdown",
   "metadata": {},
   "source": [
    "### Problem 8: Expected Value\n",
    "\n",
    "An insurance company has written 300 policies for $100,000 as well as 600 policies for $50,000, and 1100 policies for $10,000 for people of age 20. If experience shows that the probability that a person will die at age 20, is 0.0014, how much money can the company expect to pay out during the year the policies were written?"
   ]
  },
  {
   "cell_type": "code",
   "execution_count": 57,
   "metadata": {},
   "outputs": [
    {
     "name": "stdout",
     "output_type": "stream",
     "text": [
      "99400.0\n"
     ]
    }
   ],
   "source": [
    "prob_failure = .0014\n",
    "prob_nofail = 1 - prob_failure\n",
    "replacement = 300*100000 + 600*50000 + 1100*10000\n",
    "\n",
    "exp_val = (prob_failure * replacement)\n",
    "print(exp_val)\n"
   ]
  },
  {
   "cell_type": "markdown",
   "metadata": {},
   "source": [
    "### Problem 9: Marginal Cost\n",
    "\n",
    "The cost (in hundreds of dollars) to produce x units of a product is $\\frac{6 x − 7}{4x^{2} + x} $. Find the marginal cost to produce 6 units. Round your answer to the nearest cent."
   ]
  },
  {
   "cell_type": "code",
   "execution_count": 58,
   "metadata": {},
   "outputs": [
    {
     "name": "stdout",
     "output_type": "stream",
     "text": [
      "Marginal cost to produce 6 units is $ -2.32\n"
     ]
    }
   ],
   "source": [
    "import sympy\n",
    "\n",
    "x = sympy.Symbol('x')\n",
    "\n",
    "cost = (6*x-7)/(4*x**2 + x)\n",
    "\n",
    "marginal_cost = cost.diff(x)\n",
    "\n",
    "print(\"Marginal cost to produce 6 units is $\",round(marginal_cost.subs(x,6)*100,2))"
   ]
  },
  {
   "cell_type": "markdown",
   "metadata": {},
   "source": [
    "### Problem 10: Instantaneous Rate of Change\n",
    "\n",
    "The projected population (in thousands) of a certain ethnic group can be approximated by $p ( t ) = 35.02 e^{0.56t} $ where t = 0 corresponds to the year 2010 and 0 ≤ t ≤ 50 . What was the instantaneous rate of change in the population in the year 2018 ? Round to the nearest whole number."
   ]
  },
  {
   "cell_type": "code",
   "execution_count": 59,
   "metadata": {},
   "outputs": [
    {
     "name": "stdout",
     "output_type": "stream",
     "text": [
      "1730387 people per year\n"
     ]
    }
   ],
   "source": [
    "import sympy\n",
    "\n",
    "t = sympy.Symbol('t')\n",
    "\n",
    "f = 35.02 * sympy.exp(0.56*t)\n",
    "\n",
    "df = f.diff(t)\n",
    "\n",
    "print(int(df.subs(t,8)*1000), \"people per year\")"
   ]
  },
  {
   "cell_type": "markdown",
   "metadata": {},
   "source": [
    "### Problem 11: Second Level Derivative\n",
    "\n",
    "Since the creation of a social program, the percent of persons 65 years and over with a family income below the proverty level has declined. The percent can be approximated by the function $P ( t ) = 30.6 − 5.78 ln ( t ) $, where t is the number of years since 1965 ."
   ]
  },
  {
   "cell_type": "code",
   "execution_count": null,
   "metadata": {},
   "outputs": [
    {
     "name": "stdout",
     "output_type": "stream",
     "text": [
      "In 1970 the percent of persons over 65 in poverty was 21.2974 and the rate of change was -1.1560\n",
      "In 1989 the percent of persons over 65 in poverty was 12.2308 and the rate of change was -0.2408\n",
      "In 2012 the percent of persons over 65 in poverty was 8.3461 and the rate of change was -0.1230\n"
     ]
    }
   ],
   "source": [
    "import sympy\n",
    "\n",
    "t = sympy.Symbol('t')\n",
    "\n",
    "f = 30.6 - 5.78 * sympy.ln(t)\n",
    "f_diff = f.diff(t)\n",
    "\n",
    "f_l = sympy.lambdify(t, f)\n",
    "f_diff_l = sympy.lambdify(t, f_diff)\n",
    "\n",
    "base = 1965\n",
    "years = [1970, 1989, 2012]\n",
    "\n",
    "for year in years:\n",
    "    pct = f_l(year-base)\n",
    "    rate = f_diff_l(year-base)\n",
    "    print(f\"In {year} the percent of persons over 65 in poverty was {pct:.4f} and the rate of change was {rate:.4f}\")\n"
   ]
  },
  {
   "cell_type": "markdown",
   "metadata": {},
   "source": [
    "### Problem 12: Finding the extrema\n",
    "\n",
    "The U.S. and Canadian exchange rate changes daily. The value of the U.S. dollar (in Canadian dollars) between 2010 and 2014 can be approximated by the function $f ( t ) = − 0.002691 t^{3} + 0.03614 t^{2} − 0.1005 t + 1.0643$ where t is the number of years since 2010 . Based on this approximation, in what year during this period did the value of the U.S. dollar reach its absolute minimum? What is the minimum value of the U.S. dollar during this period?\n",
    "\n",
    "(a) The value of the U.S. dollar in Canadian dollars reached its absolute minimum during the year\n",
    "\n",
    "(b) The minimum value of the U.S. dollar in Canadian dollars during this period was $_____\n",
    " "
   ]
  },
  {
   "cell_type": "code",
   "execution_count": null,
   "metadata": {},
   "outputs": [
    {
     "name": "stdout",
     "output_type": "stream",
     "text": [
      "The extrema for this equation are {1.72138351386544, 7.23191761334873}\n",
      "After 1.72138351386544 years the value is 0.984663519848793\n",
      "After 7.23191761334873 years the value is 1.20980980447789\n"
     ]
    }
   ],
   "source": [
    "import sympy\n",
    "t = sympy.Symbol('t')\n",
    "f = -0.002691*t**3 + 0.03614*t**2 - 0.1005*t + 1.0643\n",
    "\n",
    "f_t = sympy.lambdify(t, f)\n",
    "f_diff = f.diff(t)\n",
    "\n",
    "roots = sympy.solveset(sympy.Eq(f_diff, 0), t)\n",
    "print(f\"The extrema for this equation are {roots}\")\n",
    "\n",
    "for root in roots:\n",
    "    val_at_root = f_t(root)\n",
    "    print(f\"After {root} years the value is {val_at_root}\")\n",
    "\n",
    "# The value of the U.S. dollar in Canadian dollars is reached its minimum during 2011 [2010 + 1.7]\n",
    "# The minimum value of the U.S. dollar in Canadian dollars during this period was $ 0.98"
   ]
  },
  {
   "cell_type": "markdown",
   "metadata": {},
   "source": [
    "### Problem 13: Integrate\n",
    "\n",
    "An oil tanker is leaking oil at a rate given in barrels per hours by the function shown below:\n",
    "\n",
    "$L'(t) = \\frac{80ln(t+1)}{t+1}$\n",
    "\n",
    "where t is the time (in hours) after the tanker hits a hidden rock (when t = 0 ).\n",
    "\n",
    "(a) Find the total number of barrels that the ship will leak on the first day.\n",
    "\n",
    "(b) Find the total number of barrels that the ship will leak on the second day.\n",
    "\n",
    "(c) What is happening over the long run to the amount of oil leaking per day?"
   ]
  },
  {
   "cell_type": "code",
   "execution_count": 69,
   "metadata": {},
   "outputs": [
    {
     "name": "stdout",
     "output_type": "stream",
     "text": [
      "The total number of barrels that the ship will leak on the first day = 414\n",
      "The total number of barrels that the ship will leak on the second day = 191\n"
     ]
    }
   ],
   "source": [
    "import sympy\n",
    "from math import floor\n",
    "t = sympy.Symbol('t')\n",
    "function = (80*sympy.ln(t+1))/(t+1) \n",
    "\n",
    "num_barrels_day_1 = floor(sympy.integrate(function, (t,0,24)))\n",
    "\n",
    "print (\"The total number of barrels that the ship will leak on the first day =\",num_barrels_day_1)\n",
    "\n",
    "num_barrels_day_2 = floor(sympy.integrate(function, (t,24,48)))\n",
    "\n",
    "print (\"The total number of barrels that the ship will leak on the second day =\",num_barrels_day_2)"
   ]
  },
  {
   "cell_type": "markdown",
   "metadata": {},
   "source": [
    "### Problem 14: Integrate w/o floor\n",
    "\n",
    "A small company of science writers found that its rate of profit (in thousands of dollars) after t years of operation is given by $P ' ( t ) = ( 4 t + 4 ) ( t^{2} + 2 t + 2 )^{\\frac{1}{3}}$ . Round your answers to the nearest dollar.\n",
    "\n",
    "(a) Find the total profit in the first three years. \n",
    "\n",
    "(b) Find the profit in the fourth year.  \n",
    "\n",
    "(c) What is happening to the annual profit over the long run?"
   ]
  },
  {
   "cell_type": "code",
   "execution_count": 73,
   "metadata": {},
   "outputs": [
    {
     "name": "stdout",
     "output_type": "stream",
     "text": [
      "The total number of barrels that the ship will leak on the first day = 61788\n",
      "The total number of barrels that the ship will leak on the second day = 49970\n"
     ]
    }
   ],
   "source": [
    "import sympy\n",
    "from math import floor\n",
    "t = sympy.Symbol('t')\n",
    "function = (4*t +4)*(t**2 + 2*t +2)**(1/3)\n",
    "\n",
    "y1_prof = sympy.integrate(function, (t,0,3))\n",
    "\n",
    "print (\"The total number of barrels that the ship will leak on the first day =\",round(y1_prof*1000))\n",
    "\n",
    "y2_prof = sympy.integrate(function, (t,3,4))\n",
    "\n",
    "print (\"The total number of barrels that the ship will leak on the second day =\",round(y2_prof*1000))"
   ]
  },
  {
   "cell_type": "markdown",
   "metadata": {},
   "source": [
    "### Problem 15: Continuous Random Variable\n",
    "\n",
    "The life span of a certain insect (in days) is uniformly distributed over the interval [ 20 , 34 ] .\n",
    "\n",
    "(a) What is the expected life of this insect?\n",
    "\n",
    "(b) Find the probability that one of these insects, selected randomly, lives longer than 30 days"
   ]
  },
  {
   "cell_type": "code",
   "execution_count": 81,
   "metadata": {},
   "outputs": [
    {
     "name": "stdout",
     "output_type": "stream",
     "text": [
      "(a) 27.0\n",
      "(b) 0.7142857142857143\n",
      "[20, 21, 22, 23, 24, 25, 26, 27, 28, 29, 30, 31, 32, 33, 34]\n",
      "range = 14\n",
      "total area = 1.0\n",
      "probability of insect living longer than 30 is 0.286\n"
     ]
    }
   ],
   "source": [
    "import numpy as np\n",
    "\n",
    "#lower interval bound\n",
    "low_end = 20\n",
    "#upper interval bound\n",
    "high_end = 34\n",
    "\n",
    "#calc the range\n",
    "life_range = high_end - low_end\n",
    "\n",
    "#to get expected life\n",
    "# (min + max) / 2\n",
    "a = (low_end + high_end) / 2\n",
    "\n",
    "print(f\"(a) {a}\")\n",
    "\n",
    "b = (life_range - 4) / life_range\n",
    "\n",
    "print(f\"(b) {b}\")\n",
    "\n",
    "x_values = [*range(low_end,high_end+1)]\n",
    "print(x_values)\n",
    "x_max = x_values[-1]\n",
    "x_min = x_values[0]\n",
    "\n",
    "\n",
    "x_range = x_max-x_min\n",
    "print(f'range = {x_range}')\n",
    "\n",
    "y_value = 1/x_range\n",
    "\n",
    "total_area_curve = y_value * x_range\n",
    "print(f'total area = {total_area_curve}')\n",
    "\n",
    "\n",
    "#find the probability x > 30\n",
    "daytobeat = 30\n",
    "d2b_answ = (x_max - daytobeat)*y_value\n",
    "print(f'probability of insect living longer than {daytobeat} is {round(d2b_answ,3)}')"
   ]
  },
  {
   "cell_type": "markdown",
   "metadata": {},
   "source": [
    "### Problem 16: Exponential Distribution\n",
    "\n",
    "A swarm of bees is released from a certain point. The proportion of the swarm located at least 2 meters from the point of release after 1 hour is a random variable that is exponentially distributed with a = 2 .\n",
    "\n",
    "(a) Find the expected proportion under the given conditions.\n",
    "\n",
    "(b) Find the probability that fewer than 40 % of the bees are located at least 2 meters from the release point after 1 hour."
   ]
  },
  {
   "cell_type": "code",
   "execution_count": 82,
   "metadata": {},
   "outputs": [
    {
     "name": "stdout",
     "output_type": "stream",
     "text": [
      "The expected proportion of an exponential distribution, in this case the bee dispersal, is 0.5\n",
      "The probability that fewer than 35% are located within 2 meters is 0.5507\n"
     ]
    }
   ],
   "source": [
    "import sympy\n",
    "\n",
    "x = sympy.Symbol('x')\n",
    "l = 2\n",
    "\n",
    "expected_value = 1 / l  # Expected value formula for exponential distribution\n",
    "print(f\"The expected proportion of an exponential distribution, in this case the bee dispersal, is {expected_value}\")\n",
    "\n",
    "#write your function for cumulative distribution function (CDF)\n",
    "#which gives us the area to the left (within 2 meters so <=2)\n",
    "# 1 - e^(-mx)\n",
    "cdf_exp = 1 - sympy.exp(-l * x)\n",
    "\n",
    "#don't forget that getting the area to the right is the opposite\n",
    "#prob(>=2 meters) the prob of being outside of 2 meters is\n",
    "#1 - prob(<=2)\n",
    "#so \n",
    "#1 - (1 - e^(-mx))\n",
    "\n",
    "\n",
    "cdf_exp_func = sympy.lambdify(x, cdf_exp)\n",
    "\n",
    "print(f\"The probability that fewer than 35% are located within 2 meters is {cdf_exp_func(.40):.04}\")\n"
   ]
  },
  {
   "cell_type": "markdown",
   "metadata": {},
   "source": [
    "### Problem 17: 2 Variable Diff Minimization\n",
    "\n",
    "The time (in hours) that a branch of a large corporation needs to spend to meet the quota set by the main office can be approximated by $T ( x , y ) = x^{4} + 16 y^{4} − 32 x y + 40$ ,\n",
    "\n",
    "where x represents how many thousands of dollars the factory spends on quality control and  \n",
    "y represents how many thousands of dollars they spend on consulting. Find the amount of money they should spend on quality control and on consulting to minimize the time spent, and find the minimum number of hours.\n",
    "\n",
    "What is the amount of money they should spend on quality control? $\n",
    "\n",
    "What is the amount of money they should spend on consulting? $\n",
    "\n",
    "What is the minimum number of hours they should spend to meet their quota? "
   ]
  },
  {
   "cell_type": "code",
   "execution_count": 100,
   "metadata": {},
   "outputs": [
    {
     "name": "stdout",
     "output_type": "stream",
     "text": [
      "f_x_xy = 4*x**3 - 32*y\n",
      "pd of x solved is y = [x**3/8]\n",
      "f_y_xy = -32*x + 64*y**3\n",
      "pd of y solved is x = [2*y**3]\n",
      "y = y**9\n",
      "y sols 0 = {0}\n",
      "x = x**9/256\n",
      "subbed function = x**12/256 - 3*x**4 + 40\n",
      "the main func subbed with y = 0\n"
     ]
    },
    {
     "ename": "IndexError",
     "evalue": "list index out of range",
     "output_type": "error",
     "traceback": [
      "\u001b[1;31m---------------------------------------------------------------------------\u001b[0m",
      "\u001b[1;31mIndexError\u001b[0m                                Traceback (most recent call last)",
      "\u001b[1;32m~\\AppData\\Local\\Temp\\ipykernel_17916\\2521631195.py\u001b[0m in \u001b[0;36m<module>\u001b[1;34m\u001b[0m\n\u001b[0;32m     66\u001b[0m \u001b[1;33m\u001b[0m\u001b[0m\n\u001b[0;32m     67\u001b[0m \u001b[0my_val\u001b[0m \u001b[1;33m=\u001b[0m \u001b[0msolve\u001b[0m\u001b[1;33m(\u001b[0m\u001b[0mmainfunc_subbed_y\u001b[0m\u001b[1;33m,\u001b[0m\u001b[0my\u001b[0m\u001b[1;33m)\u001b[0m\u001b[1;33m\u001b[0m\u001b[1;33m\u001b[0m\u001b[0m\n\u001b[1;32m---> 68\u001b[1;33m \u001b[0mprint\u001b[0m\u001b[1;33m(\u001b[0m\u001b[1;34m\"y =\"\u001b[0m\u001b[1;33m,\u001b[0m \u001b[0my_val\u001b[0m\u001b[1;33m[\u001b[0m\u001b[1;36m0\u001b[0m\u001b[1;33m]\u001b[0m\u001b[1;33m)\u001b[0m\u001b[1;33m\u001b[0m\u001b[1;33m\u001b[0m\u001b[0m\n\u001b[0m\u001b[0;32m     69\u001b[0m \u001b[1;33m\u001b[0m\u001b[0m\n\u001b[0;32m     70\u001b[0m \u001b[1;31m#do x stuff here\u001b[0m\u001b[1;33m\u001b[0m\u001b[1;33m\u001b[0m\u001b[0m\n",
      "\u001b[1;31mIndexError\u001b[0m: list index out of range"
     ]
    }
   ],
   "source": [
    "from sympy import symbols, Derivative\n",
    "from sympy.solvers import solve \n",
    "from mpmath import pi\n",
    "\n",
    "x, y = symbols('x y')\n",
    "# x + y = 1900\n",
    "#xfunc = 1900 - y\n",
    "\n",
    "mainfunc = x**4 + 16*y**4 - 32*x*y + 40\n",
    "\n",
    "\n",
    "#this section will handle partial deriv of x\n",
    "# derivative expression of function f(x,y) with respect to x\n",
    "partialderivx = Derivative(mainfunc, x)\n",
    "\n",
    "# The derivative is evaluated by using the doit() function\n",
    "pd_fxy_x = partialderivx.doit()\n",
    "\n",
    "print(\"f_x_xy =\", pd_fxy_x)\n",
    "\n",
    "# now lets solve this to get it in y = format so we can sub it in\n",
    "solved_pd_fxy_x = solve(pd_fxy_x,y)\n",
    "\n",
    "print(f'pd of x solved is y = {solved_pd_fxy_x}')\n",
    "\n",
    "\n",
    "##################################\n",
    "#this section will handle partial deriv of y\n",
    "\n",
    "# derivative expression of function f(x,y) with respect to y\n",
    "partialderivy = Derivative(mainfunc, y)\n",
    "\n",
    "# The derivative is evaluated by using the doit() function\n",
    "pd_fxy_y = partialderivy.doit()\n",
    "\n",
    "print(\"f_y_xy =\", pd_fxy_y)\n",
    "\n",
    "# now lets solve this to get it in x = format so we can sub it in\n",
    "solved_pd_fxy_y = solve(pd_fxy_y,x)\n",
    "\n",
    "print(f'pd of y solved is x = {solved_pd_fxy_y}')\n",
    "\n",
    "\n",
    "\n",
    "################################\n",
    "#this section we'll sub the values into each\n",
    "# sub x into y\n",
    "x_subbed = solved_pd_fxy_x[0].subs({x:solved_pd_fxy_y[0]})\n",
    "print(f'y = {x_subbed}')\n",
    "\n",
    "x_roots = sympy.solveset(sympy.Eq(x_subbed,0), y)\n",
    "print(f'y sols 0 = {x_roots}')\n",
    "\n",
    "y_subbed = solved_pd_fxy_y[0].subs({y:solved_pd_fxy_x[0]})\n",
    "print(f'x = {y_subbed}')\n",
    "\n",
    "#################################\n",
    "#solve f_x & f_y system of equations for zero\n",
    "f_x_and_f_y_zeroed = solve([f_x,f_y],[x, y],dict=True)\n",
    "\n",
    "#use this print to check how many total solutions we actually have\n",
    "print('sols array = ',f_x_and_f_y_zeroed)\n",
    "\n",
    "#d = (f_xx*f_yy) - (f_xy**2)\n",
    "d_func = (f_xx*f_yy) - (f_xy**2)\n",
    "print('d_func = ',d_func)\n",
    "\n",
    "#get your values with this function\n",
    "def mainfunc_sols(func,xpoint,ypoint):\n",
    "    holder = func.subs({x:xpoint,y:ypoint})\n",
    "    return holder\n",
    "\n",
    "#get your d vals with this one\n",
    "def d_sols(func,xpoint,ypoint):\n",
    "    holder = func.subs({x:xpoint,y:ypoint})\n",
    "    return holder\n",
    "\n",
    "#solve for second deriv of f in terms of x\n",
    "def f_xx_sols(func,xpoint,ypoint):\n",
    "    holder = func.subs({x:xpoint,y:ypoint})\n",
    "    return holder\n",
    "\n",
    "#run the rules here\n",
    "def checker(name,dsol,fxxsol,xsol,ysol,mainfuncsol):\n",
    "    if dsol > 0 and fxxsol > 0:\n",
    "        print(f'relative minimum at x:{xsol} and y:{ysol} which results in f(xy) = {mainfuncsol}')\n",
    "    elif dsol > 0 and fxxsol < 0:\n",
    "        print(f'relative maximum at x:{xsol} and y:{ysol} which results in f(xy) = {mainfuncsol}')\n",
    "    elif dsol < 0:\n",
    "        print(f'saddlepoint at x:{xsol} and y:{ysol} which results in f(xy) = {mainfuncsol}')\n",
    "    else:\n",
    "        print(f'inconclusive')\n",
    "\n",
    "\n",
    "#the loop that runs everything\n",
    "for i in f_x_and_f_y_zeroed:\n",
    "    x_sol = i[x]\n",
    "    y_sol = i[y]\n",
    "    x_times_y = x_sol * y_sol\n",
    "    print(x_times_y)\n",
    "    mainfunc_solve = mainfunc_sols(mainfunc,x_sol,y_sol)\n",
    "    d_solve = d_sols(d_func,x_sol,y_sol)\n",
    "    f_xx_solve = f_xx_sols(f_xx,x_sol,y_sol)\n",
    "    checker(i,d_solve,f_xx_solve,x_sol,y_sol,mainfunc_solve)\n",
    "    zval = 250/x_times_y\n",
    "    print('actual z val = ',zval)\n",
    "#################################\n",
    "\n",
    "mainfunc_subbed = mainfunc.subs({y:solved_pd_fxy_x[0]})\n",
    "print(f'subbed function = {mainfunc_subbed}')\n",
    "\n",
    "\n",
    "#do y stuff here\n",
    "mainfunc_subbed_y = Derivative(mainfunc_subbed,y).doit()\n",
    "print(f'the main func subbed with y = {mainfunc_subbed_y}')\n",
    "\n",
    "y_val = solve(mainfunc_subbed_y,y)\n",
    "print(\"y =\", y_val[0])\n",
    "\n",
    "#do x stuff here\n",
    "x_val = xfunc.subs({y:y_val[0]})\n",
    "print(\"x =\", x_val)\n",
    "\n",
    "\n",
    "#total cost\n",
    "C_value = mainfunc_subbed.subs({y:y_val[0]})\n",
    "#print(\"C = \",round(C_value[0]))\n",
    "print(\"Minimal costs will be $\",C_value)"
   ]
  },
  {
   "cell_type": "code",
   "execution_count": 101,
   "metadata": {},
   "outputs": [
    {
     "name": "stdout",
     "output_type": "stream",
     "text": [
      "sols array =  [(-2, -1), (0, 0), (2, 1)]\n",
      "solution 1 for main function =  8\n",
      "solution 2 for main function =  40\n",
      "solution 3 for main function =  8\n",
      "d for solution 1 =  8192\n",
      "d for solution 2 =  -1024\n",
      "d for solution 3 =  8192\n",
      "for dsol0 relative minimum at x:-2 and y:-1 which results in f(xy) = 8\n",
      "for dsol1 saddlepoint at x:0 and y:0 which results in f(xy) = 40\n",
      "for dsol2 relative minimum at x:2 and y:1 which results in f(xy) = 8\n"
     ]
    }
   ],
   "source": [
    "from sympy import symbols, Derivative,exp, solve, sqrt\n",
    "import math\n",
    "\n",
    "x,y = symbols('x y',real=True)\n",
    "\n",
    "#adjust your main func here\n",
    "mainfunc = x**4 + 16*y**4 - 32*x*y + 40\n",
    "\n",
    "#dont touch anything below this really\n",
    "\n",
    "#first level for x\n",
    "f_x = Derivative(mainfunc,x).doit()\n",
    "#second level for x\n",
    "f_xx = Derivative(f_x,x).doit()\n",
    "\n",
    "#first level for y\n",
    "f_y = Derivative(mainfunc,y).doit()\n",
    "#second level for y\n",
    "f_yy = Derivative(f_y,y).doit()\n",
    "\n",
    "#first level for xy\n",
    "f_xy = Derivative(mainfunc, x, y).doit()\n",
    "\n",
    "#solve f_x & f_y system of equations for zero\n",
    "f_x_and_f_y_zeroed = solve([f_x,f_y],[x, y])\n",
    "x_sol_0 = f_x_and_f_y_zeroed[0][0]\n",
    "x_sol_1 = f_x_and_f_y_zeroed[1][0]\n",
    "x_sol_2 = f_x_and_f_y_zeroed[2][0]\n",
    "y_sol_0 = f_x_and_f_y_zeroed[0][1]\n",
    "y_sol_1 = f_x_and_f_y_zeroed[1][1]\n",
    "y_sol_2 = f_x_and_f_y_zeroed[2][1]\n",
    "\n",
    "#use this print to check how many total solutions we actually have\n",
    "print('sols array = ',f_x_and_f_y_zeroed)\n",
    "\n",
    "mainfunc_sol0 = mainfunc.subs({x:x_sol_0,y:y_sol_0})\n",
    "mainfunc_sol1 = mainfunc.subs({x:x_sol_1,y:y_sol_1})\n",
    "mainfunc_sol2 = mainfunc.subs({x:x_sol_2,y:y_sol_2})\n",
    "\n",
    "print('solution 1 for main function = ', mainfunc_sol0)\n",
    "print('solution 2 for main function = ', mainfunc_sol1)\n",
    "print('solution 3 for main function = ', mainfunc_sol2)\n",
    "\n",
    "d_func = (f_xx*f_yy) - (f_xy**2)\n",
    "\n",
    "d_sol0 = d_func.subs({x:x_sol_0,y:y_sol_0})\n",
    "d_sol1 = d_func.subs({x:x_sol_1,y:y_sol_1})\n",
    "d_sol2 = d_func.subs({x:x_sol_2,y:y_sol_2})\n",
    "\n",
    "print('d for solution 1 = ', d_sol0)\n",
    "print('d for solution 2 = ', d_sol1)\n",
    "print('d for solution 3 = ', d_sol2)\n",
    "\n",
    "f_xx_sol0 = f_xx.subs({x:x_sol_0,y:y_sol_0})\n",
    "f_xx_sol1 = f_xx.subs({x:x_sol_1,y:y_sol_1})\n",
    "f_xx_sol2 = f_xx.subs({x:x_sol_2,y:y_sol_2})\n",
    "\n",
    "#make checker\n",
    "if d_sol0 > 0 and f_xx_sol0 > 0:\n",
    "    print(f'for dsol0 relative minimum at x:{x_sol_0} and y:{y_sol_0} which results in f(xy) = {mainfunc_sol0}')\n",
    "elif d_sol0 > 0 and f_xx_sol0 < 0:\n",
    "    print(f'for dsol0 relative maximum at x:{x_sol_0} and y:{y_sol_0} which results in f(xy) = {mainfunc_sol0}')\n",
    "elif d_sol0 < 0:\n",
    "    print(f'for dsol0 saddlepoint at x:{x_sol_0} and y:{y_sol_0} which results in f(xy) = {mainfunc_sol0}')\n",
    "else:\n",
    "    print(f'for dsol0 inconclusive')\n",
    "\n",
    "if d_sol1 > 0 and f_xx_sol1 > 0:\n",
    "    print(f'for dsol1 relative minimum at x:{x_sol_1} and y:{y_sol_1} which results in f(xy) = {mainfunc_sol1}')\n",
    "elif d_sol1 > 0 and f_xx_sol1 < 0:\n",
    "    print(f'for dsol1 relative maximum at x:{x_sol_1} and y:{y_sol_1} which results in f(xy) = {mainfunc_sol1}')\n",
    "elif d_sol1 < 0:\n",
    "    print(f'for dsol1 saddlepoint at x:{x_sol_1} and y:{y_sol_1} which results in f(xy) = {mainfunc_sol1}')\n",
    "else:\n",
    "    print(f'for dsol1 inconclusive')\n",
    "\n",
    "if d_sol2 > 0 and f_xx_sol2 > 0:\n",
    "    print(f'for dsol2 relative minimum at x:{x_sol_2} and y:{y_sol_2} which results in f(xy) = {mainfunc_sol2}')\n",
    "elif d_sol2 > 0 and f_xx_sol2 < 0:\n",
    "    print(f'for dsol2 relative maximum at x:{x_sol_2} and y:{y_sol_2} which results in f(xy) = {mainfunc_sol2}')\n",
    "elif d_sol2 < 0:\n",
    "    print(f'for dsol2 saddlepoint at x:{x_sol_2} and y:{y_sol_2} which results in f(xy) = {mainfunc_sol2}')\n",
    "else:\n",
    "    print(f'for dsol2 inconclusive')"
   ]
  },
  {
   "cell_type": "code",
   "execution_count": null,
   "metadata": {},
   "outputs": [],
   "source": [
    "#from the above, let's work with only the positive solutions since we can't spend negative monies\n",
    "\n",
    "#taking 2,1 where x=2, and y = 1\n",
    "#total x spend is 2*1000 since the problem is given in terms of thousands of dollars\n",
    "#total y spend is 1*1000\n",
    "\n",
    "#total hours is the relative minimum at 8 for 2,1"
   ]
  },
  {
   "cell_type": "code",
   "execution_count": null,
   "metadata": {},
   "outputs": [],
   "source": [
    "from sympy import symbols, Derivative,exp, solve, sqrt\n",
    "import math\n",
    "\n",
    "x,y = symbols('x y',real=True)\n",
    "\n",
    "#adjust your main func here\n",
    "mainfunc = x**4 + 16*y**4 - 32*x*y + 40\n",
    "\n",
    "#dont touch anything below this really\n",
    "\n",
    "#first level for x\n",
    "f_x = Derivative(mainfunc,x).doit()\n",
    "#second level for x\n",
    "f_xx = Derivative(f_x,x).doit()\n",
    "\n",
    "#first level for y\n",
    "f_y = Derivative(mainfunc,y).doit()\n",
    "#second level for y\n",
    "f_yy = Derivative(f_y,y).doit()\n",
    "\n",
    "#first level for xy\n",
    "f_xy = Derivative(mainfunc, x, y).doit()\n",
    "\n",
    "#solve f_x & f_y system of equations for zero\n",
    "f_x_and_f_y_zeroed = solve([f_x,f_y],[x, y])\n",
    "x_sol_0 = f_x_and_f_y_zeroed[0][0]\n",
    "x_sol_1 = f_x_and_f_y_zeroed[1][0]\n",
    "x_sol_2 = f_x_and_f_y_zeroed[2][0]\n",
    "y_sol_0 = f_x_and_f_y_zeroed[0][1]\n",
    "y_sol_1 = f_x_and_f_y_zeroed[1][1]\n",
    "y_sol_2 = f_x_and_f_y_zeroed[2][1]\n",
    "\n",
    "#use this print to check how many total solutions we actually have\n",
    "print('sols array = ',f_x_and_f_y_zeroed)\n",
    "\n",
    "mainfunc_sol0 = mainfunc.subs({x:x_sol_0,y:y_sol_0})\n",
    "mainfunc_sol1 = mainfunc.subs({x:x_sol_1,y:y_sol_1})\n",
    "mainfunc_sol2 = mainfunc.subs({x:x_sol_2,y:y_sol_2})\n",
    "\n",
    "print('solution 1 for main function = ', mainfunc_sol0)\n",
    "print('solution 2 for main function = ', mainfunc_sol1)\n",
    "print('solution 3 for main function = ', mainfunc_sol2)\n",
    "\n",
    "d_func = (f_xx*f_yy) - (f_xy**2)\n",
    "\n",
    "d_sol0 = d_func.subs({x:x_sol_0,y:y_sol_0})\n",
    "d_sol1 = d_func.subs({x:x_sol_1,y:y_sol_1})\n",
    "d_sol2 = d_func.subs({x:x_sol_2,y:y_sol_2})\n",
    "\n",
    "print('d for solution 1 = ', d_sol0)\n",
    "print('d for solution 2 = ', d_sol1)\n",
    "print('d for solution 3 = ', d_sol2)\n",
    "\n",
    "f_xx_sol0 = f_xx.subs({x:x_sol_0,y:y_sol_0})\n",
    "f_xx_sol1 = f_xx.subs({x:x_sol_1,y:y_sol_1})\n",
    "f_xx_sol2 = f_xx.subs({x:x_sol_2,y:y_sol_2})\n",
    "\n",
    "#make checker\n",
    "if d_sol0 > 0 and f_xx_sol0 > 0:\n",
    "    print(f'for dsol0 relative minimum at x:{x_sol_0} and y:{y_sol_0} which results in f(xy) = {mainfunc_sol0}')\n",
    "elif d_sol0 > 0 and f_xx_sol0 < 0:\n",
    "    print(f'for dsol0 relative maximum at x:{x_sol_0} and y:{y_sol_0} which results in f(xy) = {mainfunc_sol0}')\n",
    "elif d_sol0 < 0:\n",
    "    print(f'for dsol0 saddlepoint at x:{x_sol_0} and y:{y_sol_0} which results in f(xy) = {mainfunc_sol0}')\n",
    "else:\n",
    "    print(f'for dsol0 inconclusive')\n",
    "\n",
    "if d_sol1 > 0 and f_xx_sol1 > 0:\n",
    "    print(f'for dsol1 relative minimum at x:{x_sol_1} and y:{y_sol_1} which results in f(xy) = {mainfunc_sol1}')\n",
    "elif d_sol1 > 0 and f_xx_sol1 < 0:\n",
    "    print(f'for dsol1 relative maximum at x:{x_sol_1} and y:{y_sol_1} which results in f(xy) = {mainfunc_sol1}')\n",
    "elif d_sol1 < 0:\n",
    "    print(f'for dsol1 saddlepoint at x:{x_sol_1} and y:{y_sol_1} which results in f(xy) = {mainfunc_sol1}')\n",
    "else:\n",
    "    print(f'for dsol1 inconclusive')\n",
    "\n",
    "if d_sol2 > 0 and f_xx_sol2 > 0:\n",
    "    print(f'for dsol2 relative minimum at x:{x_sol_2} and y:{y_sol_2} which results in f(xy) = {mainfunc_sol2}')\n",
    "elif d_sol2 > 0 and f_xx_sol2 < 0:\n",
    "    print(f'for dsol2 relative maximum at x:{x_sol_2} and y:{y_sol_2} which results in f(xy) = {mainfunc_sol2}')\n",
    "elif d_sol2 < 0:\n",
    "    print(f'for dsol2 saddlepoint at x:{x_sol_2} and y:{y_sol_2} which results in f(xy) = {mainfunc_sol2}')\n",
    "else:\n",
    "    print(f'for dsol2 inconclusive')"
   ]
  },
  {
   "cell_type": "markdown",
   "metadata": {},
   "source": [
    "### Problem 18: \n",
    "\n",
    "The total cost to produce x large jewelry-making kits and y small ones is given by \n",
    "\n",
    "$C ( x , y ) = 2 x^{2} + 6 y^{2} + 4 x y + 10$ . \n",
    "\n",
    "If a total of ten kits must be made, how should production be allocated so that total cost is minimized? What is the minimum cost?\n",
    "\n",
    "form the Lagrange function $F(x,y,\\lambda)=C(x,y)-\\lambda\\cdot g(x,y)$"
   ]
  },
  {
   "cell_type": "code",
   "execution_count": 119,
   "metadata": {},
   "outputs": [
    {
     "name": "stdout",
     "output_type": "stream",
     "text": [
      "-q*(x + y - 10) + 2*x**2 + 4*x*y + 6*y**2 + 10\n",
      "-q + 4*x + 4*y\n",
      "-q + 4*x + 12*y\n",
      "-x - y + 10\n",
      "[4*x + 4*y]\n",
      "[4*x + 12*y]\n",
      "EmptySet\n"
     ]
    }
   ],
   "source": [
    "from sympy import symbols, Derivative, simplify\n",
    "from sympy.solvers import solve \n",
    "from sympy.solvers.solveset import linsolve\n",
    "from mpmath import pi\n",
    "from fractions import Fraction\n",
    "\n",
    "x, y, q = symbols('x y q')\n",
    "\n",
    "budget = 10\n",
    "#cost per chemical P\n",
    "x_cost = 1\n",
    "#cost per chemical R\n",
    "y_cost = 1\n",
    "\n",
    "#constraint: x + y = 10\n",
    "#so g = x + y - 10 = 0\n",
    "g_func = x_cost * x + y_cost * y - budget\n",
    "\n",
    "#mainfunc = 30 * x ** .9 * y ** .1\n",
    "mainfunc = 2*x**2 + 6*y**2 + 4*x*y + 10\n",
    "\n",
    "combinedfunc = mainfunc - (q*g_func)\n",
    "\n",
    "####################\n",
    "#get partial derivs for x,y,lambda\n",
    "print(combinedfunc)\n",
    "\n",
    "mainfunc_deriv_x = Derivative(combinedfunc,x).doit()\n",
    "print(mainfunc_deriv_x)\n",
    "\n",
    "mainfunc_deriv_y = Derivative(combinedfunc,y).doit()\n",
    "print(mainfunc_deriv_y)\n",
    "\n",
    "mainfunc_deriv_lambda = Derivative(combinedfunc,q).doit()\n",
    "print(mainfunc_deriv_lambda)\n",
    "\n",
    "#########################\n",
    "#make a system of equations\n",
    "mainfunc_deriv_x_solvedq = solve(mainfunc_deriv_x,[q])\n",
    "print(mainfunc_deriv_x_solvedq)\n",
    "\n",
    "mainfunc_deriv_y_solvedq = solve(mainfunc_deriv_y,[q])\n",
    "print(mainfunc_deriv_y_solvedq)\n",
    "\n",
    "xy_solved = linsolve([mainfunc_deriv_x_solvedq[0],mainfunc_deriv_y_solvedq[0]],(y))\n",
    "print(xy_solved)"
   ]
  },
  {
   "cell_type": "code",
   "execution_count": 150,
   "metadata": {},
   "outputs": [
    {
     "name": "stdout",
     "output_type": "stream",
     "text": [
      "fx = y*exp(x*y)\n",
      "fy = x*exp(x*y)\n",
      "gx = 3*q*x**2\n",
      "gy = 3*q*y**2\n",
      "[y*exp(x*y)/(3*x**2)]\n",
      "[x*exp(x*y)/(3*y**2)]\n",
      "combined solved = [y, y*(-1 + sqrt(3)*I)/2, -y*(1 + sqrt(3)*I)/2]\n",
      "gfunc subbed solved = 2\n"
     ]
    }
   ],
   "source": [
    "from sympy import symbols, Derivative, simplify, exp, Eq\n",
    "from sympy.solvers import solve \n",
    "from sympy.solvers.solveset import linsolve\n",
    "from mpmath import pi\n",
    "from fractions import Fraction\n",
    "\n",
    "x, y, q = symbols('x y q')\n",
    "\n",
    "gfunc = x**3 + y**3 - 16\n",
    "\n",
    "mainfunc = exp(x*y)\n",
    "\n",
    "gfunc_lambda = q*gfunc\n",
    "\n",
    "#get base derivs\n",
    "\n",
    "f_x = Derivative(mainfunc,x).doit()\n",
    "print(f'fx = {f_x}')\n",
    "f_y = Derivative(mainfunc,y).doit()\n",
    "print(f'fy = {f_y}')\n",
    "g_x = Derivative(gfunc_lambda,x).doit()\n",
    "print(f'gx = {g_x}')\n",
    "g_y = Derivative(gfunc_lambda,y).doit()\n",
    "print(f'gy = {g_y}')\n",
    "\n",
    "\n",
    "#solve for lambda x\n",
    "f_x_g_x_eq = Eq(f_x,g_x)\n",
    "f_x_g_x_solved = solve(f_x_g_x_eq,q)\n",
    "print(f_x_g_x_solved)\n",
    "\n",
    "#solve for lambda y\n",
    "f_y_g_y_eq = Eq(f_y,g_y)\n",
    "f_y_g_y_solved = solve(f_y_g_y_eq,q)\n",
    "print(f_y_g_y_solved)\n",
    "\n",
    "#set lambda x = lambda y, solve for x\n",
    "combined_eq = Eq(f_x_g_x_solved[0],f_y_g_y_solved[0])\n",
    "combined_solved = solve(combined_eq,x)\n",
    "print(f'combined solved = {combined_solved}')\n",
    "\n",
    "\n",
    "#sub 1\n",
    "#sub the combined solved into the gfunc\n",
    "gfunc_subbed = gfunc.subs({x:(combined_solved[0])})\n",
    "gfunc_subbed_solved = solve(gfunc_subbed,y)\n",
    "print(f'gfunc subbed solved, y = {gfunc_subbed_solved[0]}')\n"
   ]
  },
  {
   "cell_type": "code",
   "execution_count": 159,
   "metadata": {},
   "outputs": [
    {
     "name": "stdout",
     "output_type": "stream",
     "text": [
      "fx = 4*x + 4*y\n",
      "fy = 4*x + 12*y\n",
      "gx = q\n",
      "gy = q\n",
      "[4*x + 4*y]\n",
      "[4*x + 12*y]\n",
      "combined solved = []\n",
      "gfunc subbed solved, y = [10 - x]\n",
      "fanswer = 210\n"
     ]
    }
   ],
   "source": [
    "from sympy import symbols, Derivative, simplify, exp, Eq\n",
    "from sympy.solvers import solve \n",
    "from sympy.solvers.solveset import linsolve\n",
    "from mpmath import pi\n",
    "from fractions import Fraction\n",
    "\n",
    "x, y, q = symbols('x y q')\n",
    "\n",
    "gfunc = x + y - 10\n",
    "mainfunc = 2*x**2 + 6*y**2 + 4*x*y + 10\n",
    "\n",
    "gfunc_lambda = q*gfunc\n",
    "\n",
    "#get base derivs\n",
    "\n",
    "f_x = Derivative(mainfunc,x).doit()\n",
    "print(f'fx = {f_x}')\n",
    "f_y = Derivative(mainfunc,y).doit()\n",
    "print(f'fy = {f_y}')\n",
    "g_x = Derivative(gfunc_lambda,x).doit()\n",
    "print(f'gx = {g_x}')\n",
    "g_y = Derivative(gfunc_lambda,y).doit()\n",
    "print(f'gy = {g_y}')\n",
    "\n",
    "\n",
    "#solve for lambda x\n",
    "f_x_g_x_eq = Eq(f_x,g_x)\n",
    "f_x_g_x_solved = solve(f_x_g_x_eq,q)\n",
    "print(f_x_g_x_solved)\n",
    "\n",
    "#solve for lambda y\n",
    "f_y_g_y_eq = Eq(f_y,g_y)\n",
    "f_y_g_y_solved = solve(f_y_g_y_eq,q)\n",
    "print(f_y_g_y_solved)\n",
    "\n",
    "#set lambda x = lambda y, solve for x\n",
    "combined_eq = Eq(f_x_g_x_solved[0],f_y_g_y_solved[0])\n",
    "combined_solved = solve(combined_eq,x)\n",
    "print(f'combined solved = {combined_solved}')\n",
    "\n",
    "\n",
    "#sub 1\n",
    "#sub the combined solved into the gfunc\n",
    "gfunc_subbed = gfunc.subs({x:(combined_solved)})\n",
    "gfunc_subbed_solved = solve(gfunc_subbed,y)\n",
    "print(f'gfunc subbed solved, y = {gfunc_subbed_solved}')\n",
    "\n",
    "#answer to last part \n",
    "fanswer = mainfunc.subs({x:10,y:0})\n",
    "print(f'fanswer = {fanswer}')\n"
   ]
  },
  {
   "cell_type": "markdown",
   "metadata": {},
   "source": [
    "### Question 19\n",
    "\n",
    "The map below shows the location of several garbage bins in a city. A garbage collector wants to drive past each bin and return to his starting point without retracing his steps. He plans to model this problem using a graph.\n",
    "\n",
    "![p19.png](p19.png)"
   ]
  },
  {
   "cell_type": "code",
   "execution_count": 120,
   "metadata": {},
   "outputs": [
    {
     "name": "stdout",
     "output_type": "stream",
     "text": [
      "The number of verticies is odd: True\n"
     ]
    }
   ],
   "source": [
    "block1_verticies = 5\n",
    "block2_verticies = 11\n",
    "block3_verticies = 15\n",
    "block4_verticies = 7\n",
    "block5_verticies = 7\n",
    "block6_verticies = 0\n",
    "\n",
    "total_verticies = sum([\n",
    "    block1_verticies,\n",
    "    block2_verticies,\n",
    "    block3_verticies,\n",
    "    block4_verticies,\n",
    "    block5_verticies,\n",
    "    block6_verticies\n",
    "])\n",
    "\n",
    "is_odd = 1 == total_verticies % 2  # is true if a number divided by 2 has a remainder of 1\n",
    "\n",
    "print(f\"The number of verticies is odd: {is_odd}\")"
   ]
  },
  {
   "cell_type": "markdown",
   "metadata": {},
   "source": [
    "### Problem 20: Kruskal's \n",
    "![p20.png](p20.png)"
   ]
  },
  {
   "cell_type": "code",
   "execution_count": 220,
   "metadata": {},
   "outputs": [
    {
     "name": "stdout",
     "output_type": "stream",
     "text": [
      "The selected graph edges for the minimum tree is ['a-f', 'c-f', 'b-f', 'c-d', 'c-e']\n"
     ]
    }
   ],
   "source": [
    "# This is a copy/paste of the Node and Graph class from the Graph Theory Notebook. \n",
    "# The kruskal method on the Graph class is the only thing added here.\n",
    "import string\n",
    "\n",
    "class Node(object):\n",
    "    '''\n",
    "    This is a class that represents a node. The functions of a class are called methods. Instantiations of this class\n",
    "    will create objects that have access to the methods. \n",
    "    \n",
    "    Each method begins with an argument of \"self\" which lets the methos know which object it belongs to.\n",
    "    \n",
    "    For the Node object, we care about the name of the node and a dictionary naming the adjacent nodes. The adjacent\n",
    "    dictionary keys will be the name's of adjacent nodes and the value will be the weight of that edge.\n",
    "    '''\n",
    "    def __init__(self, name):\n",
    "        # The init method is magic python method that get's called when an object is instantiated. \n",
    "        self.name = name  # Take the name given at instantiation and assign it to the object\n",
    "        self.adjacent = {}  # When we create the node, we don't know about any adjacent nodes. Create a placeholder\n",
    "        \n",
    "    def __str__(self):\n",
    "        # When printing a node, format it like this:\n",
    "        return \"Node {}: {}\".format(self.name, self.adjacent)\n",
    "    \n",
    "    def __repr__(self):\n",
    "        # When representing this object, use the str method\n",
    "        return self.__str__()\n",
    "    \n",
    "class Graph(object):\n",
    "    '''\n",
    "    This class represents a graph. The graph is consists of a collection of nodes. \n",
    "    '''\n",
    "    def __init__(self, adjacency_matrix=None):\n",
    "        '''\n",
    "        When the graph is instantiated it will not know about any of its member nodes. There is an optional \n",
    "        `adjacency_matrix` argument that defaults to None. If an adjacency_matrix is provided, then we can \n",
    "        create the member nodes, their relationships, and add them to this graph.\n",
    "        '''\n",
    "        self.nodes = {}\n",
    "        if adjacency_matrix:\n",
    "            # We were provided an adjacency matrix\n",
    "            self._create_member_nodes_from_adjacency_matrix(adjacency_matrix)\n",
    "            \n",
    "    def __str__(self):\n",
    "        return '\\n'.join([str(n) for n in self.nodes.values()])\n",
    "    \n",
    "    def __repr__(self):\n",
    "        return self.__str__()\n",
    "    \n",
    "    def _create_member_nodes_from_adjacency_matrix(self, adjacency_matrix):\n",
    "        # A preceeding underscore indicates a method that is only called within the class. \n",
    "        # Create nodes and weights from an adjacency matrix (list of lists) and assign them to this graph\n",
    "        letters = list(string.ascii_lowercase)  # Get a list of letters to assign to the nodes we create\n",
    "        needed_letters = len(adjacency_matrix)\n",
    "        if needed_letters > len(letters):\n",
    "            # Give the user an error that the input matrix is too large to have \n",
    "            raise ValueError(\"The matrix is too large to create from 26 letters. Please manually assign names to nodes and then add them to the graph.\")\n",
    "        \n",
    "        for i, row in enumerate(adjacency_matrix):  # get an index of the row and the contentx of the row\n",
    "            letter_name = letters[i]\n",
    "            node = Node(letter_name)\n",
    "            for j, column_value in enumerate(row):\n",
    "                if column_value != 0:  # There is an adjacent node here\n",
    "                    adjacent_letter_name = letters[j]\n",
    "                    node.adjacent[adjacent_letter_name] = column_value\n",
    "            self.nodes[letter_name] = node\n",
    "            \n",
    "    def get_distance_of_path(self, path):\n",
    "        # Given a list of node names within the graph, find its distance using the node adjacency measures\n",
    "        distance = 0\n",
    "        for i, node_name in enumerate(path[:-1]):\n",
    "            # Gets the index and node name for each in the path except for the last one\n",
    "            this_node = self.nodes[node_name]\n",
    "            next_node = self.nodes[path[i+1]]\n",
    "            distance += this_node.adjacent[next_node.name]  # Get the distance from this_node to next node\n",
    "        \n",
    "        return distance\n",
    "    \n",
    "    def find_all_paths_between(self, a, b, path=None):\n",
    "        if not path:\n",
    "            # No path list provided, create one\n",
    "            path = []\n",
    "\n",
    "        path = path + [a] # Add a to the path\n",
    "\n",
    "        if a == b:  # This is a path to itself, at the end of a path\n",
    "            return [path]\n",
    "        if a not in self.nodes:  # a could not be found in the graph\n",
    "            return []\n",
    "        paths = []\n",
    "        for node in self.nodes[a].adjacent:  # look to adjacent nodes of a\n",
    "            if node not in path:\n",
    "                newpaths = self.find_all_paths_between(node, b, path)  # Recursivly go down another level\n",
    "                for newpath in newpaths:\n",
    "                    paths.append(newpath)\n",
    "        return paths\n",
    "    \n",
    "    def shortest_path(self, a, b):\n",
    "        # Get the distance of each weighted path and return the shortest\n",
    "        all_paths = self.find_all_paths_between(a, b)\n",
    "        \n",
    "        if not all_paths:\n",
    "            return []\n",
    "        \n",
    "        # The shortest path will be the first path in the list\n",
    "        shortest_path = None\n",
    "        shortest_distance = None\n",
    "        \n",
    "        for path in all_paths:\n",
    "            p_distance = self.get_distance_of_path(path)\n",
    "            if not shortest_distance or p_distance < shortest_distance:\n",
    "                # This path is shorter\n",
    "                shortest_path = path\n",
    "                shortest_distance = p_distance\n",
    "                \n",
    "        return shortest_path\n",
    "    \n",
    "    def is_tree(self):\n",
    "        # returns True if the graph is a tree, otherwise False\n",
    "        \n",
    "        node_names = list(self.nodes.keys())\n",
    "        first = node_names[0]  # Make sure the first node has a path to all other nodes\n",
    "        \n",
    "        for node in node_names:\n",
    "            if node == first:\n",
    "                continue  # Don't compare it against itself\n",
    "            if not self.find_all_paths_between(first, node):\n",
    "                return False  # No path was found between first and node, this must not be a tree\n",
    "        \n",
    "        return True\n",
    "    \n",
    "    \n",
    "    def kruskal(self):\n",
    "        # Find the minimum cost spanning tree on the graph using Kruskal's algorithm\n",
    "        \n",
    "        # Loop through the graph to get a deduplicated list of edges\n",
    "        unique_edge_lenghts = dict()\n",
    "        for node, connections in self.nodes.items():\n",
    "            for connected, edge_length in connections.adjacent.items():\n",
    "                alpha_edge = sorted([node, connected])\n",
    "\n",
    "                edge_name = \"-\".join(alpha_edge)  # keeps nodes alphabetical to dedupe\n",
    "                unique_edge_lenghts[edge_name] = edge_length\n",
    "                \n",
    "        # This sorts the edges by their lengths desc\n",
    "        sorted_unique_edge_lengths = dict(sorted(unique_edge_lenghts.items(), key=lambda x:x[1]))\n",
    "        \n",
    "        # proceed through the sorted list and add the edge if it contains a new node.\n",
    "        selected_nodes = set()\n",
    "        selected_edges = list()\n",
    "        for edge in sorted_unique_edge_lengths.keys():\n",
    "            a, b = edge.split('-')\n",
    "            if a in selected_nodes and b in selected_nodes:\n",
    "                continue  # No circuits here\n",
    "            selected_nodes.add(a)\n",
    "            selected_nodes.add(b)\n",
    "            selected_edges.append(edge)\n",
    "        \n",
    "        return selected_edges\n",
    "    \n",
    "matrix = [\n",
    "    #A   B   C  D   E   F\n",
    "    [0,  0,  0, 10, 13, 2],  # A\n",
    "    [0,  0,  0, 15, 14, 6],  # B\n",
    "    [0,  0,  0,  7, 12, 4],  # C\n",
    "    [10, 15, 7,  0, 0,  0],  # D\n",
    "    [13, 14, 12, 0, 0,  0],  # E\n",
    "    [2,  6,  4,  0, 0,  0]   # F\n",
    "]\n",
    "\n",
    "g = Graph(matrix)\n",
    "\n",
    "print(f\"The selected graph edges for the minimum tree is {g.kruskal()}\")    "
   ]
  },
  {
   "cell_type": "markdown",
   "metadata": {},
   "source": [
    "# Actual Final"
   ]
  },
  {
   "cell_type": "markdown",
   "metadata": {},
   "source": [
    "## Q1\n",
    "\n",
    "The data below was collected from manufacturer advertisements listing the horsepower of their vehicles and corresponding highway gas mileage (in miles per gallon). Use this data to answer the following questions.\n",
    "\n",
    "|horsepower(x)|158|250|340|349|390|191|220|\n",
    "|:-:|:-:|:-:|:-:|:-:|:-:|:-:|:-:|\n",
    "|Gas Mileage(y)|33.9|28.2|13|16|10.1|35.5|42.9|\n",
    "\n",
    "(a) Calculate the correlation coefficient. Round your final answer to four decimal places as needed.\n",
    "\n",
    "(b) What does the correlation coefficient tell us about the data in terms of this problem?\n",
    "\n",
    "(c) Write the equation of the least squares line. Round all numbers to four decimal places as needed.\n",
    "\n",
    "(d) Interpret the slope of the least squares line in terms of this problem.\n",
    "\n",
    "(e) Use the rounded version of the least squares line from part (c) to determine the horsepower of a vehicle that gets 30 highway miles per gallon. Round your answer to the nearest integer as needed."
   ]
  },
  {
   "cell_type": "code",
   "execution_count": 160,
   "metadata": {},
   "outputs": [
    {
     "name": "stdout",
     "output_type": "stream",
     "text": [
      "\n",
      "(a)\n",
      "Option 1: Correlation Coefficient (corrcoef):  -0.9085\n",
      "Option 2: Correlation Coefficient (pearsonr):  -0.9085\n",
      "\n",
      "(b)\n",
      "y =  -0.13 x  60.8561\n"
     ]
    }
   ],
   "source": [
    "%matplotlib inline\n",
    "\n",
    "# Packages we can use\n",
    "from scipy.stats import pearsonr\n",
    "import scipy.stats as st\n",
    "import numpy as np\n",
    "import matplotlib.pyplot as plt\n",
    "\n",
    "'''\n",
    "a. Draw a scatterplot. \n",
    "Use numpy arrays to store x and y\n",
    "'''\n",
    "x = np.array([158,250,340,349,390,191,220])\n",
    "y = np.array([33.9,28.2,13,16,10.1,35.5,42.9])\n",
    "\n",
    "'''\n",
    "b. Calculate the correlation coefficient. \n",
    "\n",
    "Two options- using the corrcoef function from numpy or pearsonr function\n",
    "'''\n",
    "\n",
    "print(\"\\n(a)\")\n",
    "\n",
    "corr_np = np.corrcoef(x, y)[0, 1]\n",
    "corr_sci = pearsonr(x, y)[0]\n",
    "print(\"Option 1: Correlation Coefficient (corrcoef): \",round(corr_np,4))\n",
    "print(\"Option 2: Correlation Coefficient (pearsonr): \",round(corr_sci,4))\n",
    "\n",
    "'''\n",
    "c. Calculate the least squares line and graph it on the scatterplot. \n",
    "'''\n",
    "'''\n",
    "For deeper exploration of pyplot visit:\n",
    "http://matplotlib.org/api/pyplot_api.html#matplotlib.pyplot\n",
    "'''\n",
    "\n",
    "# For details of the following step see part (d) below\n",
    "slope,intercept,rvalue,pvalue,stderr = st.linregress(x,y)\n",
    "\n",
    "print('\\n(b)')\n",
    "print('y = ',round(slope,3),'x ',round(intercept,4))\n"
   ]
  },
  {
   "cell_type": "code",
   "execution_count": 161,
   "metadata": {},
   "outputs": [
    {
     "name": "stdout",
     "output_type": "stream",
     "text": [
      "56.9561000000000\n"
     ]
    }
   ],
   "source": [
    "from sympy import symbols, Derivative, simplify, exp, Eq\n",
    "from sympy.solvers import solve \n",
    "from sympy.solvers.solveset import linsolve\n",
    "from mpmath import pi\n",
    "from fractions import Fraction\n",
    "\n",
    "x = symbols('x')\n",
    "funcq1 = -0.13*x + 60.8561\n",
    "\n",
    "answer = funcq1.subs({x:30})\n",
    "print(answer)"
   ]
  },
  {
   "cell_type": "code",
   "execution_count": 162,
   "metadata": {},
   "outputs": [
    {
     "data": {
      "text/plain": [
       "-30.856099999999998"
      ]
     },
     "execution_count": 162,
     "metadata": {},
     "output_type": "execute_result"
    }
   ],
   "source": [
    "30-60.8561"
   ]
  },
  {
   "cell_type": "code",
   "execution_count": null,
   "metadata": {},
   "outputs": [],
   "source": [
    "-30.8561 = -0.13x"
   ]
  },
  {
   "cell_type": "code",
   "execution_count": 163,
   "metadata": {},
   "outputs": [
    {
     "data": {
      "text/plain": [
       "237.35461538461539"
      ]
     },
     "execution_count": 163,
     "metadata": {},
     "output_type": "execute_result"
    }
   ],
   "source": [
    "-30.8561/-0.13"
   ]
  },
  {
   "cell_type": "markdown",
   "metadata": {},
   "source": [
    "## Q2\n",
    "\n",
    "A small company took out three different loans totaling $36000 to expand their business. The annual simple interest rates on each of the loans was 5%,6 %, and 7 %. \n",
    "\n",
    "They borrowed $1000 more at 6% than they borrowed at 7% and the total annual interest on the loans was $2110 . \n",
    "\n",
    "Let x , y , and z represent the amounts borrowed at 5 %, 6 %, and 7 %, respectively. \n",
    "\n",
    "Write the equation that represents the total amount borrowed."
   ]
  },
  {
   "cell_type": "code",
   "execution_count": 169,
   "metadata": {},
   "outputs": [
    {
     "name": "stdout",
     "output_type": "stream",
     "text": [
      "\n",
      "Right Hand Side of Equation\n",
      "[[36000]\n",
      " [ 1000]\n",
      " [ 2110]]\n",
      "\n",
      "Matrix A\n",
      "[[ 1.    1.    1.  ]\n",
      " [ 0.    1.   -1.  ]\n",
      " [ 0.05  0.06  0.07]]\n"
     ]
    },
    {
     "data": {
      "text/plain": [
       "matrix([[15000.],\n",
       "        [11000.],\n",
       "        [10000.]])"
      ]
     },
     "execution_count": 169,
     "metadata": {},
     "output_type": "execute_result"
    }
   ],
   "source": [
    "rhs = [36000, 1000, 2110]\n",
    "rhs = np.matrix(rhs)\n",
    "rhs = np.transpose(rhs)\n",
    "print('\\nRight Hand Side of Equation')\n",
    "print(rhs)\n",
    "\n",
    "A = [[1, 1, 1],\n",
    "     [0, 1, -1],\n",
    "     [.05, .06, .07]]\n",
    "A = np.matrix(A)\n",
    "print('\\nMatrix A')\n",
    "print(A)\n",
    "IA = np.linalg.inv(A)\n",
    "\n",
    "result = np.dot(IA, rhs)\n",
    "result = np.rint(result)\n",
    "result"
   ]
  },
  {
   "cell_type": "code",
   "execution_count": 170,
   "metadata": {},
   "outputs": [
    {
     "data": {
      "image/png": "[encoded data removed]",
      "text/latex": [
       "$\\displaystyle 2110.0$"
      ],
      "text/plain": [
       "2110.0"
      ]
     },
     "execution_count": 170,
     "metadata": {},
     "output_type": "execute_result"
    }
   ],
   "source": [
    "15000*.05 + 11000*.06 + 10000*.07"
   ]
  },
  {
   "cell_type": "markdown",
   "metadata": {},
   "source": [
    "## Q3\n",
    "\n",
    "A bakery gets milk from two dairies then blends the milk to get the desired amount of butterfat for use in the company's best selling product. Milk from dairy I costs $2.40 per gallon, and milk from dairy II costs $0.80 per gallon. The company has at most $143 available for purchasing milk. Dairy I can supply at most 52 gallons of milk averaging 3.9% butterfat and dairy II can supply at most 81 gallons of milk averaging 3.1% butterfat. The blend can contain no more than  \n",
    "100 gallons of milk and should contain the maximum amount of butterfat.\n",
    "\n",
    "(a) Let x be the number of gallons of milk from dairy I and let y be the number of gallons of milk from dairy II. State the objective function.\n",
    "\n",
    "\n",
    "(b) Excluding nonnegativity constraints, how many constraints are needed for this model?\n",
    "\n",
    "(b) How much milk from each dairy should the bakery use? Round your answers to the nearest integer as needed.\n",
    "\n",
    "(c) What is the maximum amount of butterfat? Round your answer to two decimal places as needed.\n"
   ]
  },
  {
   "cell_type": "code",
   "execution_count": 179,
   "metadata": {},
   "outputs": [
    {
     "name": "stdout",
     "output_type": "stream",
     "text": [
      "Pulp Solutions for y1, y2, and y3\n",
      "x = 39\n",
      "y = 61\n"
     ]
    }
   ],
   "source": [
    "from pulp import LpVariable, LpProblem, LpMaximize, LpStatus, value, LpMinimize\n",
    "\n",
    "# defines the problem\n",
    "prob = LpProblem(\"problem\", LpMaximize)\n",
    "\n",
    "# declare your variables\n",
    "# limit to integer because you can't run .x of an ad\n",
    "x = LpVariable(\"x\", lowBound=0, upBound=52, cat= 'Integer') # x = newspaper \n",
    "y = LpVariable(\"y\", lowBound=0, upBound=81, cat= 'Integer') # y = radio\n",
    "\n",
    "# defines the objective function to maximize\n",
    "prob += .039*x + .031*y,\"fat\"\n",
    "\n",
    "# defines the constraints\n",
    "#prob += 110*x + 300*y <= 8850 #cost of news + radio <= 8850, our budget\n",
    "prob += 2.40*x + 0.80*y <= 143\n",
    "prob += x + y <= 100\n",
    "\n",
    "# solve the problem\n",
    "status = prob.solve()\n",
    "LpStatus[status]\n",
    "\n",
    "# print the results\n",
    "print(\"Pulp Solutions for y1, y2, and y3\")\n",
    "print('x =' , value(x))\n",
    "print('y =' , value(y))\n",
    "\n"
   ]
  },
  {
   "cell_type": "code",
   "execution_count": 180,
   "metadata": {},
   "outputs": [
    {
     "data": {
      "image/png": "[encoded data removed]",
      "text/latex": [
       "$\\displaystyle 0.03412$"
      ],
      "text/plain": [
       "0.03412"
      ]
     },
     "execution_count": 180,
     "metadata": {},
     "output_type": "execute_result"
    }
   ],
   "source": [
    "(39*.039 + 61*.031)/100"
   ]
  },
  {
   "cell_type": "code",
   "execution_count": 181,
   "metadata": {},
   "outputs": [
    {
     "data": {
      "image/png": "[encoded data removed]",
      "text/latex": [
       "$\\displaystyle 3.412$"
      ],
      "text/plain": [
       "3.412"
      ]
     },
     "execution_count": 181,
     "metadata": {},
     "output_type": "execute_result"
    }
   ],
   "source": [
    ".03412*100\n"
   ]
  },
  {
   "cell_type": "markdown",
   "metadata": {},
   "source": [
    "## Q4\n",
    "\n",
    "An artist buys 80% of her canvases from supplier A and 20% of her canvases from supplier B. A total of 90% of the canvases from supplier A arrive undamaged, while 85% of the canvases from supplier B arrive undamaged. The events are defined as follows:\n",
    "\n",
    "A =  the event the canvas is from supplier A\n",
    "\n",
    "B = the event the canvas is from supplier  B\n",
    "\n",
    "D = the event the canvas is damaged.\n",
    "\n",
    "U = the event the canvas is undamaged.\n",
    "\n",
    "(a) Which of the following is the correct translation of:\n",
    "\n",
    "\"Determine the probability that a damaged canvas is from supplier A\"?\n"
   ]
  },
  {
   "cell_type": "code",
   "execution_count": 185,
   "metadata": {},
   "outputs": [
    {
     "name": "stdout",
     "output_type": "stream",
     "text": [
      "supplier a = 80000.0\n",
      "supplier b = 20000.0\n",
      "suppler a and undamaged = 72000.0\n",
      "supplier a and damaged = 8000.0\n",
      "supplier b and undamaged = 17000.0\n",
      "supplier b and damaged = 3000.0\n",
      "all positives = 89000.0\n",
      "all negatives = 11000.0\n",
      "0.027\n",
      "0.03\n"
     ]
    }
   ],
   "source": [
    "#alternative bayes solution\n",
    "\n",
    "sample = 100000\n",
    "\n",
    "prob_undiagnosed = .2\n",
    "prob_positive_given_cancer = .90\n",
    "prob_positive_given_nocancer = .85\n",
    "\n",
    "total_with_cancer = sample * (1-prob_undiagnosed)\n",
    "total_without_cancer = sample - total_with_cancer\n",
    "\n",
    "print(f'supplier a = {total_with_cancer}')\n",
    "print(f'supplier b = {total_without_cancer}')\n",
    "\n",
    "#prob(positive|diagnosed cancer)\n",
    "#prob of testing positive, given diagnosed cancer\n",
    "cancer_and_positive = prob_positive_given_cancer * total_with_cancer\n",
    "print(f'suppler a and undamaged = {cancer_and_positive}')\n",
    "\n",
    "#aprob(negative|diagnosed cancer)\n",
    "#prob of testing negative, given diagnosed cancer\n",
    "cancer_and_negative = total_with_cancer - cancer_and_positive\n",
    "print(f'supplier a and damaged = {cancer_and_negative}')\n",
    "\n",
    "#prob(positive|undiagnosed cancer)\n",
    "nocancer_and_positive = prob_positive_given_nocancer * total_without_cancer\n",
    "print(f'supplier b and undamaged = {nocancer_and_positive}')\n",
    "#prob(negative|undiagnosed cancer)\n",
    "nocancer_and_negative = total_without_cancer - nocancer_and_positive\n",
    "print(f'supplier b and damaged = {nocancer_and_negative}')\n",
    "\n",
    "total_with_positive = cancer_and_positive + nocancer_and_positive\n",
    "print(f'all positives = {total_with_positive}')\n",
    "\n",
    "total_with_negative = cancer_and_negative + nocancer_and_negative\n",
    "print(f'all negatives = {total_with_negative}')\n",
    "\n",
    "#now if the probability of a P(A|B) is\n",
    "#probability of undiagnosed cancer, given a negative test\n",
    "# we can look for 'undiagnosed_and_negative\n",
    "print(nocancer_and_negative*prob_positive_given_cancer/sample)\n",
    "print(nocancer_and_negative/sample)\n"
   ]
  },
  {
   "cell_type": "markdown",
   "metadata": {},
   "source": [
    "\n",
    "## Q5\n",
    "The amount (in grams) of a sample of a particular mineral present after t years is given by \n",
    "\n",
    "$A ( t ) = 505 e^{− 0.35 t} .$"
   ]
  },
  {
   "cell_type": "code",
   "execution_count": 199,
   "metadata": {},
   "outputs": [
    {
     "name": "stdout",
     "output_type": "stream",
     "text": [
      "-87.7714524451316 people per year\n",
      "-30.7145445048662 people per year\n",
      "-1.04233692678576e-1520030686659 people per year\n",
      "0.0\n"
     ]
    }
   ],
   "source": [
    "import sympy\n",
    "\n",
    "t = sympy.Symbol('t')\n",
    "\n",
    "f = 505 * sympy.exp(-0.35*t)\n",
    "\n",
    "df = f.diff(t)\n",
    "\n",
    "print((df.subs(t,2)), \"people per year\")\n",
    "\n",
    "print((df.subs(t,5)), \"people per year\")\n",
    "\n",
    "print((df.subs(t,9999999999999)), \"people per year\")\n",
    "\n",
    "f_lam = sym.lambdify(t,f)\n",
    "print(f_lam(9999999))"
   ]
  },
  {
   "cell_type": "markdown",
   "metadata": {},
   "source": [
    "## Q6\n",
    "\n",
    "A region used for agricultural drainage has become contaminated with a mineral. Flushing the region with water will reduce the amount of the mineral for a while, but it will then begin to build up again. The model of the percent of the mineral present in the soil  \n",
    "t months after the flushing begins is given by\n",
    "\n",
    "$M(t) = \\frac{t^{2}+25}{4t}, 1\\leq t \\leq 12$\n",
    "\n",
    "(a) What value(s) of t should be used to test for the minimum amount of mineral?\n",
    "\n",
    "(b) When will the amount of the mineral be reduced to a minimum?\n",
    "\n",
    "(c) What is the minimum percent of the mineral?\n"
   ]
  },
  {
   "cell_type": "code",
   "execution_count": 201,
   "metadata": {},
   "outputs": [
    {
     "data": {
      "image/png": "[encoded data removed]",
      "text/plain": [
       "<Figure size 640x480 with 1 Axes>"
      ]
     },
     "metadata": {},
     "output_type": "display_data"
    },
    {
     "name": "stdout",
     "output_type": "stream",
     "text": [
      "local extrema = [[1.0, 6.5], [12.00000000000545, 507.00000000062266]]\n",
      "(x,y) max =  12.00000000000545 , 507.00000000062266\n",
      "(x,y) min =  1.0 , 6.5\n"
     ]
    }
   ],
   "source": [
    "import numpy as np\n",
    "import matplotlib.pyplot as plt\n",
    "\n",
    "def extrema(a, b, c):\n",
    "    x = max(a, b, c)\n",
    "    z = min(a, b, c)\n",
    "    epsilon = 0.0000001  # This is a safeguard against minor differences.\n",
    "    result = False\n",
    "    if abs(b - x) < epsilon:\n",
    "        result = True\n",
    "    if abs(b - z) < epsilon:\n",
    "        result = True\n",
    "    return result\n",
    "\n",
    "def f(x):\n",
    "    y = (x**2 + 25) / 4*x\n",
    "    return y\n",
    "\n",
    "#xmin\n",
    "xa = 1\n",
    "#xmax\n",
    "xb = 12\n",
    "\n",
    "n = 100000\n",
    "delta = (xb - xa) / n\n",
    "x = np.arange(xa, xb + delta, delta)\n",
    "y = f(x)\n",
    "\n",
    "value = [False]  # This defines the list value which will contain Boolean values.\n",
    "value = value * len(x)  # This expands the list to the length of x.\n",
    "\n",
    "L = len(x)\n",
    "value[0] = True  # This will correspond to one endpoint.\n",
    "value[L - 1] = True  # This corresponds to the other.\n",
    "\n",
    "for x_index in range(L - 2):\n",
    "    first_x = x[x_index]\n",
    "    second_x = x[x_index + 1]\n",
    "    third_x = x[x_index + 2]\n",
    "    a = f(first_x)\n",
    "    b = f(second_x)\n",
    "    c = f(third_x)\n",
    "    is_second_x_extrema = extrema(a, b, c)\n",
    "    value[x_index + 1] = is_second_x_extrema\n",
    "\n",
    "for k in range(L - 2):\n",
    "    value[k + 1] = extrema(f(x[k]), f(x[k + 1]), f(x[k + 2]))\n",
    "\n",
    "max_value = max(y)  # We check the list to find the global maxima.\n",
    "min_value = min(y)  # We check the list to find the global minima.\n",
    "\n",
    "error = 0.0000001  # The error parameter guards against roundoff error.\n",
    "# The code which follows assigns colors to maxima and minima and plots them.\n",
    "\n",
    "local_extrema=[]\n",
    "\n",
    "plt.figure()\n",
    "for k in range(L):\n",
    "    if value[k] is True:\n",
    "        plt.scatter(x[k], y[k], s=60, c='y')\n",
    "        local_extrema.append([x[k],y[k]])\n",
    "        if abs(max_value - y[k]) < error:\n",
    "            plt.scatter(x[k], y[k], s=60, c='r')\n",
    "            xmax = x[k]\n",
    "            ymax = y[k]\n",
    "        if abs(min_value - y[k]) < error:\n",
    "            plt.scatter(x[k], y[k], s=60, c='b')\n",
    "            xmin = x[k]\n",
    "            ymin = y[k]\n",
    "            \n",
    "\n",
    "plt.plot(x, y, c='k')  # This plots the line on the chart.\n",
    "plt.xlabel('x-axis')\n",
    "plt.ylabel('y-axis')\n",
    "plt.title('Plot Showing Absolute and Relative Extrema')\n",
    "plt.show()\n",
    "\n",
    "print(f'local extrema = {local_extrema}')\n",
    "print('(x,y) max = ',xmax,',',max_value)\n",
    "print('(x,y) min = ',xmin,',',min_value)"
   ]
  },
  {
   "cell_type": "code",
   "execution_count": 202,
   "metadata": {},
   "outputs": [
    {
     "name": "stdout",
     "output_type": "stream",
     "text": [
      "In 1 the percent of persons over 65 in poverty was 6.5000 and the rate of change was 7.0000\n",
      "In 2 the percent of persons over 65 in poverty was 14.5000 and the rate of change was 9.2500\n",
      "In 3 the percent of persons over 65 in poverty was 25.5000 and the rate of change was 13.0000\n",
      "In 4 the percent of persons over 65 in poverty was 41.0000 and the rate of change was 18.2500\n",
      "In 5 the percent of persons over 65 in poverty was 62.5000 and the rate of change was 25.0000\n",
      "In 6 the percent of persons over 65 in poverty was 91.5000 and the rate of change was 33.2500\n",
      "In 7 the percent of persons over 65 in poverty was 129.5000 and the rate of change was 43.0000\n",
      "In 8 the percent of persons over 65 in poverty was 178.0000 and the rate of change was 54.2500\n",
      "In 9 the percent of persons over 65 in poverty was 238.5000 and the rate of change was 67.0000\n",
      "In 10 the percent of persons over 65 in poverty was 312.5000 and the rate of change was 81.2500\n",
      "In 11 the percent of persons over 65 in poverty was 401.5000 and the rate of change was 97.0000\n",
      "In 12 the percent of persons over 65 in poverty was 507.0000 and the rate of change was 114.2500\n"
     ]
    }
   ],
   "source": [
    "import sympy\n",
    "\n",
    "t = sympy.Symbol('t')\n",
    "\n",
    "f = (t**2 + 25)/ 4*t\n",
    "f_diff = f.diff(t)\n",
    "\n",
    "f_l = sympy.lambdify(t, f)\n",
    "f_diff_l = sympy.lambdify(t, f_diff)\n",
    "\n",
    "base = 0\n",
    "years = [1,2,3,4,5,6,7,8,9,10,11,12]\n",
    "\n",
    "for year in years:\n",
    "    pct = f_l(year-base)\n",
    "    rate = f_diff_l(year-base)\n",
    "    print(f\"In {year} the percent of persons over 65 in poverty was {pct:.4f} and the rate of change was {rate:.4f}\")\n"
   ]
  },
  {
   "cell_type": "markdown",
   "metadata": {},
   "source": [
    "## Q7\n",
    "\n",
    "For a certain region in the world, the age distribution of the population is approximately modeled (in millions) by the function $f ( x ) = 40.1 + 3.6 x − 0.893 x^2$ where x varies from 0 to 9 decades. (a) Evaluate the integral over the interval [ 0 , 8 ] . Round to the nearest integer as needed."
   ]
  },
  {
   "cell_type": "code",
   "execution_count": 205,
   "metadata": {},
   "outputs": [
    {
     "name": "stdout",
     "output_type": "stream",
     "text": [
      "284 cars\n"
     ]
    }
   ],
   "source": [
    "from sympy import Symbol, integrate\n",
    "# https://docs.sympy.org/latest/tutorial/calculus.html?highlight=calculus#integrals\n",
    "t = Symbol('t')\n",
    "r_t = 40.1 + 3.6*t - 0.893*t**2\n",
    "\n",
    "# integrate(function, (x,lower_limit,upper_limit))\n",
    "flow_rate = integrate(r_t, (t,0,8))\n",
    "# a = integrate(r_prime, (t, 0, 1))\n",
    "print(f\"{round(flow_rate)} cars\")"
   ]
  },
  {
   "cell_type": "markdown",
   "metadata": {},
   "source": [
    "## Q8\n",
    "The time, t , between calls (in seconds) on the busiest day of the month for the customer service department at Friendly Bank can be approximated by an exponential distribution with  \n",
    "\n",
    "μ = 80\n",
    "\n",
    "\n",
    "(a) Give the probability density function for this distribution.\n",
    "\n",
    "(b) Determine the standard deviation.\n",
    "\n",
    "(c) Find the probability (not percentage) that the time between calls is no more than 64 seconds. Round your answer to four decimal places as needed.\n",
    "\n",
    "(d) Find the probability (not percentage) that the time between calls is 499 seconds or more. Round your answer to four decimal places as needed."
   ]
  },
  {
   "cell_type": "code",
   "execution_count": 207,
   "metadata": {},
   "outputs": [
    {
     "name": "stdout",
     "output_type": "stream",
     "text": [
      "The expected proportion of an exponential distribution, in this case the bee dispersal, is 0.0125\n",
      "The probability that fewer than 64 seconds  is 1.0\n",
      "The probability that greather than 499 seconds  is 1.0\n"
     ]
    }
   ],
   "source": [
    "import sympy\n",
    "\n",
    "x = sympy.Symbol('x')\n",
    "l = 80\n",
    "\n",
    "expected_value = 1 / l  # Expected value formula for exponential distribution\n",
    "print(f\"The expected proportion of an exponential distribution, in this case the bee dispersal, is {expected_value}\")\n",
    "\n",
    "#write your function for cumulative distribution function (CDF)\n",
    "#which gives us the area to the left (within 2 meters so <=2)\n",
    "# 1 - e^(-mx)\n",
    "cdf_exp = 1 - sympy.exp(-l * x)\n",
    "\n",
    "#don't forget that getting the area to the right is the opposite\n",
    "#prob(>=2 meters) the prob of being outside of 2 meters is\n",
    "#1 - prob(<=2)\n",
    "#so \n",
    "#1 - (1 - e^(-mx))\n",
    "cdf_gexp = 1 - cdf_exp\n",
    "\n",
    "\n",
    "cdf_exp_func = sympy.lambdify(x, cdf_exp)\n",
    "cdf_exp_func2 = sympy.lambdify(x, cdf_gexp)\n",
    "print(f\"The probability that fewer than 64 seconds  is {cdf_exp_func(64):.04}\")\n",
    "\n",
    "print(f\"The probability that greather than 499 seconds  is {cdf_exp_func(499):.04}\")\n",
    "\n",
    "\n"
   ]
  },
  {
   "cell_type": "code",
   "execution_count": 208,
   "metadata": {},
   "outputs": [
    {
     "name": "stdout",
     "output_type": "stream",
     "text": [
      "less than 64 = 0.550671035882778\n"
     ]
    },
    {
     "data": {
      "text/plain": [
       "'more than 499 = 0.00195473626003162'"
      ]
     },
     "execution_count": 208,
     "metadata": {},
     "output_type": "execute_result"
    }
   ],
   "source": [
    "from sympy import Symbol, integrate, exp\n",
    "import math\n",
    "\n",
    "#set your mean value\n",
    "mean_val = 80\n",
    "#set your decay rate which is 1/mean\n",
    "decay_rate = 1/mean_val\n",
    "\n",
    "#total number of things to sell\n",
    "comps = 300\n",
    "\n",
    "#price per item\n",
    "price = 140\n",
    "\n",
    "#make x a symbol\n",
    "x = Symbol('x')\n",
    "\n",
    "#write your function for probability density\n",
    "# which is me^(-mx)\n",
    "f_x = decay_rate * exp(-decay_rate*x)\n",
    "\n",
    "#since the first interval is half year, we're setting lower limit to 0, upper limit to .5\n",
    "firsthalf = integrate(f_x,(x,0,64))\n",
    "print(f'less than 64 = {firsthalf}')\n",
    "\n",
    "#same as above but from .5 to 1 to make our second interval (half-refund)\n",
    "secondhalf = 1 - integrate(f_x,(x,0,499))\n",
    "(f'more than 499 = {secondhalf}')\n"
   ]
  },
  {
   "cell_type": "markdown",
   "metadata": {},
   "source": [
    "## Q9\n",
    "\n",
    "The profit (in hundreds of dollars) from the sale of x sets of car tires and y sets of truck tires is given by $P ( x , y ) = − x^2 − y^2 + 6 x + 10 y$ . Find the values for x and y that will generate the maximum profit and the maximum profit, if the company must produce 8 sets of tires."
   ]
  },
  {
   "cell_type": "code",
   "execution_count": 217,
   "metadata": {},
   "outputs": [
    {
     "name": "stdout",
     "output_type": "stream",
     "text": [
      "fx = 6 - 2*x\n",
      "fy = 10 - 2*y\n",
      "gx = q\n",
      "gy = q\n",
      "[6 - 2*x]\n",
      "[10 - 2*y]\n",
      "combined solved = [y - 2]\n",
      "gfunc subbed solved, y = [8 - y]\n",
      "fanswer = 30\n"
     ]
    }
   ],
   "source": [
    "from sympy import symbols, Derivative, simplify, exp, Eq\n",
    "from sympy.solvers import solve \n",
    "from sympy.solvers.solveset import linsolve\n",
    "from mpmath import pi\n",
    "from fractions import Fraction\n",
    "\n",
    "x, y, q = symbols('x y q')\n",
    "\n",
    "gfunc = x + y - 8\n",
    "mainfunc = -x**2 - y**2 + 6*x + 10*y\n",
    "\n",
    "gfunc_lambda = q*gfunc\n",
    "\n",
    "#get base derivs\n",
    "\n",
    "f_x = Derivative(mainfunc,x).doit()\n",
    "print(f'fx = {f_x}')\n",
    "f_y = Derivative(mainfunc,y).doit()\n",
    "print(f'fy = {f_y}')\n",
    "g_x = Derivative(gfunc_lambda,x).doit()\n",
    "print(f'gx = {g_x}')\n",
    "g_y = Derivative(gfunc_lambda,y).doit()\n",
    "print(f'gy = {g_y}')\n",
    "\n",
    "\n",
    "#solve for lambda x\n",
    "f_x_g_x_eq = Eq(f_x,g_x)\n",
    "f_x_g_x_solved = solve(f_x_g_x_eq,q)\n",
    "print(f_x_g_x_solved)\n",
    "\n",
    "#solve for lambda y\n",
    "f_y_g_y_eq = Eq(f_y,g_y)\n",
    "f_y_g_y_solved = solve(f_y_g_y_eq,q)\n",
    "print(f_y_g_y_solved)\n",
    "\n",
    "#set lambda x = lambda y, solve for x\n",
    "combined_eq = Eq(f_x_g_x_solved[0],f_y_g_y_solved[0])\n",
    "combined_solved = solve(combined_eq,x)\n",
    "print(f'combined solved = {combined_solved}')\n",
    "\n",
    "\n",
    "#sub 1\n",
    "#sub the combined solved into the gfunc\n",
    "gfunc_subbed = gfunc.subs({x:(combined_solved)})\n",
    "gfunc_subbed_solved = solve(gfunc_subbed,x)\n",
    "print(f'gfunc subbed solved, y = {gfunc_subbed_solved}')\n",
    "\n",
    "#answer to last part \n",
    "fanswer = mainfunc.subs({x:5,y:5})\n",
    "print(f'fanswer = {fanswer}')\n"
   ]
  },
  {
   "cell_type": "markdown",
   "metadata": {},
   "source": [
    "## Q10 Kruskals"
   ]
  },
  {
   "cell_type": "code",
   "execution_count": 221,
   "metadata": {},
   "outputs": [
    {
     "name": "stdout",
     "output_type": "stream",
     "text": [
      "The selected graph edges for the minimum tree is ['d-e', 'b-c', 'a-e']\n"
     ]
    }
   ],
   "source": [
    "# This is a copy/paste of the Node and Graph class from the Graph Theory Notebook. \n",
    "# The kruskal method on the Graph class is the only thing added here.\n",
    "import string\n",
    "\n",
    "class Node(object):\n",
    "    '''\n",
    "    This is a class that represents a node. The functions of a class are called methods. Instantiations of this class\n",
    "    will create objects that have access to the methods. \n",
    "    \n",
    "    Each method begins with an argument of \"self\" which lets the methos know which object it belongs to.\n",
    "    \n",
    "    For the Node object, we care about the name of the node and a dictionary naming the adjacent nodes. The adjacent\n",
    "    dictionary keys will be the name's of adjacent nodes and the value will be the weight of that edge.\n",
    "    '''\n",
    "    def __init__(self, name):\n",
    "        # The init method is magic python method that get's called when an object is instantiated. \n",
    "        self.name = name  # Take the name given at instantiation and assign it to the object\n",
    "        self.adjacent = {}  # When we create the node, we don't know about any adjacent nodes. Create a placeholder\n",
    "        \n",
    "    def __str__(self):\n",
    "        # When printing a node, format it like this:\n",
    "        return \"Node {}: {}\".format(self.name, self.adjacent)\n",
    "    \n",
    "    def __repr__(self):\n",
    "        # When representing this object, use the str method\n",
    "        return self.__str__()\n",
    "    \n",
    "class Graph(object):\n",
    "    '''\n",
    "    This class represents a graph. The graph is consists of a collection of nodes. \n",
    "    '''\n",
    "    def __init__(self, adjacency_matrix=None):\n",
    "        '''\n",
    "        When the graph is instantiated it will not know about any of its member nodes. There is an optional \n",
    "        `adjacency_matrix` argument that defaults to None. If an adjacency_matrix is provided, then we can \n",
    "        create the member nodes, their relationships, and add them to this graph.\n",
    "        '''\n",
    "        self.nodes = {}\n",
    "        if adjacency_matrix:\n",
    "            # We were provided an adjacency matrix\n",
    "            self._create_member_nodes_from_adjacency_matrix(adjacency_matrix)\n",
    "            \n",
    "    def __str__(self):\n",
    "        return '\\n'.join([str(n) for n in self.nodes.values()])\n",
    "    \n",
    "    def __repr__(self):\n",
    "        return self.__str__()\n",
    "    \n",
    "    def _create_member_nodes_from_adjacency_matrix(self, adjacency_matrix):\n",
    "        # A preceeding underscore indicates a method that is only called within the class. \n",
    "        # Create nodes and weights from an adjacency matrix (list of lists) and assign them to this graph\n",
    "        letters = list(string.ascii_lowercase)  # Get a list of letters to assign to the nodes we create\n",
    "        needed_letters = len(adjacency_matrix)\n",
    "        if needed_letters > len(letters):\n",
    "            # Give the user an error that the input matrix is too large to have \n",
    "            raise ValueError(\"The matrix is too large to create from 26 letters. Please manually assign names to nodes and then add them to the graph.\")\n",
    "        \n",
    "        for i, row in enumerate(adjacency_matrix):  # get an index of the row and the contentx of the row\n",
    "            letter_name = letters[i]\n",
    "            node = Node(letter_name)\n",
    "            for j, column_value in enumerate(row):\n",
    "                if column_value != 0:  # There is an adjacent node here\n",
    "                    adjacent_letter_name = letters[j]\n",
    "                    node.adjacent[adjacent_letter_name] = column_value\n",
    "            self.nodes[letter_name] = node\n",
    "            \n",
    "    def get_distance_of_path(self, path):\n",
    "        # Given a list of node names within the graph, find its distance using the node adjacency measures\n",
    "        distance = 0\n",
    "        for i, node_name in enumerate(path[:-1]):\n",
    "            # Gets the index and node name for each in the path except for the last one\n",
    "            this_node = self.nodes[node_name]\n",
    "            next_node = self.nodes[path[i+1]]\n",
    "            distance += this_node.adjacent[next_node.name]  # Get the distance from this_node to next node\n",
    "        \n",
    "        return distance\n",
    "    \n",
    "    def find_all_paths_between(self, a, b, path=None):\n",
    "        if not path:\n",
    "            # No path list provided, create one\n",
    "            path = []\n",
    "\n",
    "        path = path + [a] # Add a to the path\n",
    "\n",
    "        if a == b:  # This is a path to itself, at the end of a path\n",
    "            return [path]\n",
    "        if a not in self.nodes:  # a could not be found in the graph\n",
    "            return []\n",
    "        paths = []\n",
    "        for node in self.nodes[a].adjacent:  # look to adjacent nodes of a\n",
    "            if node not in path:\n",
    "                newpaths = self.find_all_paths_between(node, b, path)  # Recursivly go down another level\n",
    "                for newpath in newpaths:\n",
    "                    paths.append(newpath)\n",
    "        return paths\n",
    "    \n",
    "    def shortest_path(self, a, b):\n",
    "        # Get the distance of each weighted path and return the shortest\n",
    "        all_paths = self.find_all_paths_between(a, b)\n",
    "        \n",
    "        if not all_paths:\n",
    "            return []\n",
    "        \n",
    "        # The shortest path will be the first path in the list\n",
    "        shortest_path = None\n",
    "        shortest_distance = None\n",
    "        \n",
    "        for path in all_paths:\n",
    "            p_distance = self.get_distance_of_path(path)\n",
    "            if not shortest_distance or p_distance < shortest_distance:\n",
    "                # This path is shorter\n",
    "                shortest_path = path\n",
    "                shortest_distance = p_distance\n",
    "                \n",
    "        return shortest_path\n",
    "    \n",
    "    def is_tree(self):\n",
    "        # returns True if the graph is a tree, otherwise False\n",
    "        \n",
    "        node_names = list(self.nodes.keys())\n",
    "        first = node_names[0]  # Make sure the first node has a path to all other nodes\n",
    "        \n",
    "        for node in node_names:\n",
    "            if node == first:\n",
    "                continue  # Don't compare it against itself\n",
    "            if not self.find_all_paths_between(first, node):\n",
    "                return False  # No path was found between first and node, this must not be a tree\n",
    "        \n",
    "        return True\n",
    "    \n",
    "    \n",
    "    def kruskal(self):\n",
    "        # Find the minimum cost spanning tree on the graph using Kruskal's algorithm\n",
    "        \n",
    "        # Loop through the graph to get a deduplicated list of edges\n",
    "        unique_edge_lenghts = dict()\n",
    "        for node, connections in self.nodes.items():\n",
    "            for connected, edge_length in connections.adjacent.items():\n",
    "                alpha_edge = sorted([node, connected])\n",
    "\n",
    "                edge_name = \"-\".join(alpha_edge)  # keeps nodes alphabetical to dedupe\n",
    "                unique_edge_lenghts[edge_name] = edge_length\n",
    "                \n",
    "        # This sorts the edges by their lengths desc\n",
    "        sorted_unique_edge_lengths = dict(sorted(unique_edge_lenghts.items(), key=lambda x:x[1]))\n",
    "        \n",
    "        # proceed through the sorted list and add the edge if it contains a new node.\n",
    "        selected_nodes = set()\n",
    "        selected_edges = list()\n",
    "        for edge in sorted_unique_edge_lengths.keys():\n",
    "            a, b = edge.split('-')\n",
    "            if a in selected_nodes and b in selected_nodes:\n",
    "                continue  # No circuits here\n",
    "            selected_nodes.add(a)\n",
    "            selected_nodes.add(b)\n",
    "            selected_edges.append(edge)\n",
    "        \n",
    "        return selected_edges\n",
    "    \n",
    "matrix = [\n",
    "    #A   B   C   D   E\n",
    "    #L   R   D   P   M\n",
    "    [0,  44,  41, 36, 32],  # L\n",
    "    [44,  0,  28, 40, 37],  # R\n",
    "    [41,  28,  0,  30, 37],  # D\n",
    "    [36, 40, 30,  0, 25],  # P\n",
    "    [32, 37, 35,25, 0],  # M\n",
    "]\n",
    "\n",
    "g = Graph(matrix)\n",
    "\n",
    "print(f\"The selected graph edges for the minimum tree is {g.kruskal()}\")    "
   ]
  },
  {
   "cell_type": "code",
   "execution_count": 222,
   "metadata": {},
   "outputs": [
    {
     "data": {
      "image/png": "[encoded data removed]",
      "text/latex": [
       "$\\displaystyle 115$"
      ],
      "text/plain": [
       "115"
      ]
     },
     "execution_count": 222,
     "metadata": {},
     "output_type": "execute_result"
    }
   ],
   "source": [
    "32+30+28+25"
   ]
  },
  {
   "cell_type": "code",
   "execution_count": 223,
   "metadata": {},
   "outputs": [
    {
     "data": {
      "image/png": "[encoded data removed]",
      "text/latex": [
       "$\\displaystyle 2530$"
      ],
      "text/plain": [
       "2530"
      ]
     },
     "execution_count": 223,
     "metadata": {},
     "output_type": "execute_result"
    }
   ],
   "source": [
    "115*22"
   ]
  }
 ],
 "metadata": {
  "kernelspec": {
   "display_name": "Python 3.9.13",
   "language": "python",
   "name": "python3"
  },
  "language_info": {
   "codemirror_mode": {
    "name": "ipython",
    "version": 3
   },
   "file_extension": ".py",
   "mimetype": "text/x-python",
   "name": "python",
   "nbconvert_exporter": "python",
   "pygments_lexer": "ipython3",
   "version": "3.9.13"
  },
  "orig_nbformat": 4,
  "vscode": {
   "interpreter": {
    "hash": "c988922956a37c878919d38cef178e7a9486793be5d341e6a2f55e77a02d25a7"
   }
  }
 },
 "nbformat": 4,
 "nbformat_minor": 2
}
