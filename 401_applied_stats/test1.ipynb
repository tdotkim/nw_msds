{
 "cells": [
  {
   "cell_type": "code",
   "execution_count": 3,
   "metadata": {},
   "outputs": [],
   "source": [
    "import numpy as np\n",
    "import scipy as sci"
   ]
  },
  {
   "cell_type": "code",
   "execution_count": 2,
   "metadata": {},
   "outputs": [
    {
     "data": {
      "text/plain": [
       "3.55"
      ]
     },
     "execution_count": 2,
     "metadata": {},
     "output_type": "execute_result"
    }
   ],
   "source": [
    "list1 = [3.8, 1.8, 2.4, 3.7, 4.1, 3.9, 1.2, 3.6, 4.2, 3.4, 3.7, 2.2, 1.6, 4.2, 3.5, 2.6, 0.4, 3.7, 2.0, 3.6]\n",
    "\n",
    "np.median(list1)"
   ]
  },
  {
   "cell_type": "code",
   "execution_count": 5,
   "metadata": {},
   "outputs": [],
   "source": [
    "list2 = [80, 121, 132, 145, 151, 119, 133, 134, 200, 195, 90, 121, 132, 123, 145, 151, 119, 133, 134, 151, 168]"
   ]
  },
  {
   "cell_type": "code",
   "execution_count": 7,
   "metadata": {},
   "outputs": [],
   "source": [
    "q75, q25 = np.percentile(list2, [75 ,25])\n",
    "iqr = q75 - q25"
   ]
  },
  {
   "cell_type": "code",
   "execution_count": 10,
   "metadata": {},
   "outputs": [
    {
     "data": {
      "text/plain": [
       "226.5"
      ]
     },
     "execution_count": 10,
     "metadata": {},
     "output_type": "execute_result"
    }
   ],
   "source": [
    "up_bound = q75 * 1.5\n",
    "up_bound"
   ]
  },
  {
   "cell_type": "code",
   "execution_count": 11,
   "metadata": {},
   "outputs": [],
   "source": [
    "res_a = [120,67,89,97,124,68,72,96]\n",
    "res_b = [115,126,49,56,98,76,78,95]"
   ]
  },
  {
   "cell_type": "code",
   "execution_count": 14,
   "metadata": {},
   "outputs": [
    {
     "data": {
      "text/plain": [
       "57"
      ]
     },
     "execution_count": 14,
     "metadata": {},
     "output_type": "execute_result"
    }
   ],
   "source": [
    "np.max(res_a) - np.min(res_a)"
   ]
  },
  {
   "cell_type": "code",
   "execution_count": 16,
   "metadata": {},
   "outputs": [
    {
     "data": {
      "text/plain": [
       "432.234375"
      ]
     },
     "execution_count": 16,
     "metadata": {},
     "output_type": "execute_result"
    }
   ],
   "source": [
    "np.var(res_a)"
   ]
  },
  {
   "cell_type": "code",
   "execution_count": 19,
   "metadata": {},
   "outputs": [
    {
     "data": {
      "text/plain": [
       "20.790247112528508"
      ]
     },
     "execution_count": 19,
     "metadata": {},
     "output_type": "execute_result"
    }
   ],
   "source": [
    "np.std(res_a)"
   ]
  },
  {
   "cell_type": "code",
   "execution_count": 15,
   "metadata": {},
   "outputs": [
    {
     "data": {
      "text/plain": [
       "77"
      ]
     },
     "execution_count": 15,
     "metadata": {},
     "output_type": "execute_result"
    }
   ],
   "source": [
    "np.max(res_b) - np.min(res_b)"
   ]
  },
  {
   "cell_type": "code",
   "execution_count": 17,
   "metadata": {},
   "outputs": [
    {
     "data": {
      "text/plain": [
       "636.984375"
      ]
     },
     "execution_count": 17,
     "metadata": {},
     "output_type": "execute_result"
    }
   ],
   "source": [
    "np.var(res_b)"
   ]
  },
  {
   "cell_type": "code",
   "execution_count": 20,
   "metadata": {},
   "outputs": [
    {
     "data": {
      "text/plain": [
       "25.23854938382949"
      ]
     },
     "execution_count": 20,
     "metadata": {},
     "output_type": "execute_result"
    }
   ],
   "source": [
    "np.std(res_b)"
   ]
  },
  {
   "cell_type": "code",
   "execution_count": 26,
   "metadata": {},
   "outputs": [],
   "source": [
    "midpoint_5059 = np.mean([50,59])\n",
    "midpoint_6069 = np.mean([60,69])\n",
    "midpoint_7079 = np.mean([70,79])\n",
    "midpoint_8089 = np.mean([80,89])\n",
    "midpoint_9099 = np.mean([90,99])\n"
   ]
  },
  {
   "cell_type": "code",
   "execution_count": 30,
   "metadata": {},
   "outputs": [
    {
     "name": "stdout",
     "output_type": "stream",
     "text": [
      "14500.0\n"
     ]
    }
   ],
   "source": [
    "lol = [midpoint_5059,midpoint_5059,midpoint_7079,midpoint_8089,midpoint_9099]\n",
    "\n",
    "sum_freq = sum([5,7,9,10,9])\n",
    "sum_lol = sum(lol*sum_freq)\n",
    "print(sum_lol)\n",
    "mu = sum_lol/sum_freq\n",
    "\n",
    "sigmasquared = sum_freq*()"
   ]
  },
  {
   "cell_type": "code",
   "execution_count": 32,
   "metadata": {},
   "outputs": [
    {
     "data": {
      "text/plain": [
       "65.16666666666667"
      ]
     },
     "execution_count": 32,
     "metadata": {},
     "output_type": "execute_result"
    }
   ],
   "source": [
    "trim_list = [69, 68, 64, 61, 65, 64, 71, 67, 62, 63, 61, 64, 75, 67, 60, 59, 64, 69, 65, 72]\n",
    "trimmed = sci.stats.trim_mean(trim_list,.2)\n",
    "trimmed"
   ]
  },
  {
   "cell_type": "code",
   "execution_count": 36,
   "metadata": {},
   "outputs": [
    {
     "name": "stdout",
     "output_type": "stream",
     "text": [
      "1.999999999999998\n",
      "2.0\n"
     ]
    }
   ],
   "source": [
    "std_dev = 3.5\n",
    "height_mean = 67.1\n",
    "height_min = 60.1\n",
    "height_max = 74.1\n",
    "lower = (height_mean - height_min)/std_dev\n",
    "upper = (height_max - height_mean)/std_dev\n",
    "print(lower)\n",
    "print(upper)"
   ]
  },
  {
   "cell_type": "code",
   "execution_count": 40,
   "metadata": {},
   "outputs": [
    {
     "name": "stdout",
     "output_type": "stream",
     "text": [
      "5.790293602227783\n",
      "20\n"
     ]
    }
   ],
   "source": [
    "list3 = [29, 26, 13, 23, 23, 25, 17, 22, 17, 19, 12, 26, 30, 30, 18, 14, 12, 26, 17, 18]\n",
    "act_std = np.std(list3)\n",
    "print(act_std)\n",
    "print(len(list3))"
   ]
  },
  {
   "cell_type": "code",
   "execution_count": 46,
   "metadata": {},
   "outputs": [
    {
     "name": "stdout",
     "output_type": "stream",
     "text": [
      "20.85\n",
      "0\n",
      "20\n"
     ]
    }
   ],
   "source": [
    "list_mean = np.mean(list3)\n",
    "print(list_mean)\n",
    "holder = 0\n",
    "h2 = 0\n",
    "for i in list3:\n",
    "    if i > list_mean + act_std*2:\n",
    "        holder+=1\n",
    "    elif i < list_mean - act_std*2:\n",
    "        holder+=1\n",
    "    else:\n",
    "        h2+=1\n",
    "print(holder)\n",
    "print(sum([holder,h2]))"
   ]
  }
 ],
 "metadata": {
  "kernelspec": {
   "display_name": "base",
   "language": "python",
   "name": "python3"
  },
  "language_info": {
   "codemirror_mode": {
    "name": "ipython",
    "version": 3
   },
   "file_extension": ".py",
   "mimetype": "text/x-python",
   "name": "python",
   "nbconvert_exporter": "python",
   "pygments_lexer": "ipython3",
   "version": "3.9.13 (main, Aug 25 2022, 23:51:50) [MSC v.1916 64 bit (AMD64)]"
  },
  "orig_nbformat": 4,
  "vscode": {
   "interpreter": {
    "hash": "c988922956a37c878919d38cef178e7a9486793be5d341e6a2f55e77a02d25a7"
   }
  }
 },
 "nbformat": 4,
 "nbformat_minor": 2
}
