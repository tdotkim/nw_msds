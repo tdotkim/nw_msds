{
 "cells": [
  {
   "cell_type": "markdown",
   "metadata": {},
   "source": [
    "# MSDS 400 Basic Calculations   \n",
    "\n",
    "\n",
    "To follow along it is handy to refer to the associated assignment page which\n",
    "has the output printed out."
   ]
  },
  {
   "cell_type": "markdown",
   "metadata": {},
   "source": [
    "### Integer Calculations\n",
    "The first examples deal with integer calculations.  For integer division calculations you \n",
    "will have to use // and for floating point division you will have to use /. \n",
    "The % operator will produce the remainder.  Note that z//y = 0 and z%y = 3.  \n",
    "The statement x=-2 is called an assignment statement."
   ]
  },
  {
   "cell_type": "code",
   "execution_count": 2,
   "metadata": {},
   "outputs": [
    {
     "name": "stdout",
     "output_type": "stream",
     "text": [
      "2 -8 -2 0 -1.5 0.75 -1 3\n"
     ]
    }
   ],
   "source": [
    "x=-2\n",
    "y=4\n",
    "z=3\n",
    "print (x+y, x*y, z//x, z//y, z/x, z/y, z%x, z%y)"
   ]
  },
  {
   "cell_type": "markdown",
   "metadata": {},
   "source": [
    "### Floating point calculations and conversions\n",
    "We repeat with floating point calculations using \"float\" which is a \n",
    "built-in Python function that converts integers to floating point numbers.\n",
    "Also shown is \"int\" which converts floating point numbers to integers. Note\n",
    "that when an integer and floating point number are involved in the same\n",
    "calculation, the result is a floating point number."
   ]
  },
  {
   "cell_type": "code",
   "execution_count": 10,
   "metadata": {},
   "outputs": [
    {
     "name": "stdout",
     "output_type": "stream",
     "text": [
      "-2.0 4.0 3.0\n",
      "-1.5 0.75 0\n",
      "Integer -1\n"
     ]
    },
    {
     "data": {
      "text/plain": [
       "-1"
      ]
     },
     "execution_count": 10,
     "metadata": {},
     "output_type": "execute_result"
    }
   ],
   "source": [
    "x = float(x)\n",
    "y = float(y)\n",
    "z = float(z)\n",
    "print (x, y, z)\n",
    "print (z/x, z/y, int(z/y))\n",
    "\n",
    "k=int((z/x)*(1))\n",
    "print('Integer {}'.format(k))      # This produces an integer.\n",
    "l=int((z/x)*(1.0))     # This produces a floating point number.\n",
    "l"
   ]
  },
  {
   "cell_type": "markdown",
   "metadata": {},
   "source": [
    "### Order of Operations calculations\n",
    "Whenever there is doubt about a variable's type, the interpreter can be used.\n",
    "For any variable such as x, enter type(x) in the interpreter and the type of\n",
    "variable will be displayed.  The order of operations can be remembered using\n",
    "the acronym PEMDAS.  Note the difference between * and **.  "
   ]
  },
  {
   "cell_type": "code",
   "execution_count": 11,
   "metadata": {},
   "outputs": [
    {
     "name": "stdout",
     "output_type": "stream",
     "text": [
      "11 15 1.4142135623730951\n",
      "-8.0 -2.0 0.0625\n"
     ]
    }
   ],
   "source": [
    "print (1+2*5, (1+2)*5, (4-2)**0.5)\n",
    "print  (y*x, y*(1/x), y**x)"
   ]
  },
  {
   "cell_type": "markdown",
   "metadata": {},
   "source": [
    "### Combinations of Functions and Operations\n",
    "Functions and operations can be combined.  Note the use of % and int(). The  \n",
    "absolute value function is abs().  Round() will round a number to a specific\n",
    "number of decimal places.  Round(12.345,2)= 12.35."
   ]
  },
  {
   "cell_type": "code",
   "execution_count": 12,
   "metadata": {},
   "outputs": [
    {
     "name": "stdout",
     "output_type": "stream",
     "text": [
      "1\n",
      "-4.0\n"
     ]
    },
    {
     "data": {
      "text/plain": [
       "-4"
      ]
     },
     "execution_count": 12,
     "metadata": {},
     "output_type": "execute_result"
    }
   ],
   "source": [
    "m = int((4-2)**0.5)\n",
    "print (m)\n",
    "print (y*(1%x))             # Note that -2.0 does not divide 1 so 1%(-2.0)=-1.0. \n",
    "n = int(y*(1%x))\n",
    "n"
   ]
  },
  {
   "cell_type": "markdown",
   "metadata": {},
   "source": [
    "### Strings\n",
    "A string is a sequence of characters.  If the sequence involves numbers,\n",
    "they are treated as characters.  The built-in function len() tells us the\n",
    "length of the string.  The first character in a string is indexed by the\n",
    "number zero.  A negative index can be used.  This starts the counting from \n",
    "end of the string.  All indexes are placed within brackets as shown below.\n",
    "Python is memoryless.  The variables x, y and z can be defined as strings\n",
    "even though they were initially integers and then floating point numbers."
   ]
  },
  {
   "cell_type": "code",
   "execution_count": 13,
   "metadata": {},
   "outputs": [
    {
     "name": "stdout",
     "output_type": "stream",
     "text": [
      "a x 3 aaxaaxaaxaaxaax 15\n",
      "\n",
      "Examples of concatenation and use of len() and indexing:\n",
      "aaxbbb aaxbbb123123 12 1 1\n"
     ]
    }
   ],
   "source": [
    "x='aax'\n",
    "y='bbb'\n",
    "z='123'\n",
    "print (x[0], x[2], z[-1], x*5, len(x*5))\n",
    "\n",
    "print('\\nExamples of concatenation and use of len() and indexing:')\n",
    "print (x+y, (x+y+z*2), len(x+y+z*2), (x+y+z*2)[6], (x+y+z*2)[-6])"
   ]
  },
  {
   "cell_type": "markdown",
   "metadata": {},
   "source": [
    "### Quadratic Formula\n",
    "\n",
    "Polynomials and other equations may be coded and Python used as a calculator.\n",
    "Solve x<sup>2</sup> - 4x - 5 = 0 using the quadratic formula. "
   ]
  },
  {
   "cell_type": "code",
   "execution_count": 14,
   "metadata": {},
   "outputs": [
    {
     "name": "stdout",
     "output_type": "stream",
     "text": [
      "Root_1= 5.0\n",
      "Root_2= -1.0\n"
     ]
    },
    {
     "data": {
      "text/plain": [
       "'3.14159 rounded to two decimal places is 3.14'"
      ]
     },
     "execution_count": 14,
     "metadata": {},
     "output_type": "execute_result"
    }
   ],
   "source": [
    "a=1.0\n",
    "b=-4.0\n",
    "c=-5.0\n",
    "root_1=(-b+(b**2-4*a*c)**0.5)/(2*a)\n",
    "root_2=(-b-(b**2-4*a*c)**0.5)/(2*a)\n",
    "print ('Root_1=', root_1)   # %root_1 indicates a variable will be printed.\n",
    "print ('Root_2=', root_2)   # %root_2 indicates root_2 is to be printed.\n",
    "\n",
    "# A handy function is round().  It rounds to an specified number of decimal\n",
    "# places.  For example round(3.14159,2)=3.14.  Check the output.\n",
    "\n",
    "'3.14159 rounded to two decimal places is {}'.format(round(3.14159,2))"
   ]
  },
  {
   "cell_type": "code",
   "execution_count": 0,
   "metadata": {},
   "outputs": [],
   "source": []
  }
 ],
 "metadata": {
  "kernelspec": {
   "display_name": "Python 3",
   "language": "python",
   "name": "python3"
  },
  "language_info": {
   "codemirror_mode": {
    "name": "ipython",
    "version": 3
   },
   "file_extension": ".py",
   "mimetype": "text/x-python",
   "name": "python",
   "nbconvert_exporter": "python",
   "pygments_lexer": "ipython3",
   "version": "3.7.7"
  },
  "varInspector": {
   "cols": {
    "lenName": 16,
    "lenType": 16,
    "lenVar": 40
   },
   "kernels_config": {
    "python": {
     "delete_cmd_postfix": "",
     "delete_cmd_prefix": "del ",
     "library": "var_list.py",
     "varRefreshCmd": "print(var_dic_list())"
    },
    "r": {
     "delete_cmd_postfix": ") ",
     "delete_cmd_prefix": "rm(",
     "library": "var_list.r",
     "varRefreshCmd": "cat(var_dic_list()) "
    }
   },
   "types_to_exclude": [
    "module",
    "function",
    "builtin_function_or_method",
    "instance",
    "_Feature"
   ],
   "window_display": false
  }
 },
 "nbformat": 4,
 "nbformat_minor": 1
}
