{
 "cells": [
  {
   "cell_type": "markdown",
   "metadata": {},
   "source": [
    "# MSDS 400 Solving LP Models Using Pulp or SciPy"
   ]
  },
  {
   "cell_type": "markdown",
   "metadata": {},
   "source": [
    "**Maximize** \n",
    "z = 10x1 + 15x2 + 10x3 + 5x4\n",
    "\n",
    "**Subject to:**<br>\n",
    "x1 + x2 + x3 + x4 ≤ 300<br>\n",
    "x1 + 2x2 + 3x3 + x4 ≤ 360<br>\n",
    "x1 ≥ 0, x2 ≥ 0, x3 ≥ 0, x4 ≥ 0\n"
   ]
  },
  {
   "cell_type": "markdown",
   "metadata": {},
   "source": [
    "**Solution:**  Maximum is 3300 when x1 = 240, x2 = 60, x3 = 0, x4 = 0"
   ]
  },
  {
   "cell_type": "markdown",
   "metadata": {},
   "source": [
    "#### Python Code:\n",
    "** Note: ** *The optimize.linprog function minimizes the target function as a default. If the problem is a maximization one, convert it to minimize −f(x)*\n"
   ]
  },
  {
   "cell_type": "code",
   "execution_count": 12,
   "metadata": {},
   "outputs": [
    {
     "name": "stdout",
     "output_type": "stream",
     "text": [
      "Scipy Optimize Optimal value: -3300.0 \n",
      " x1, x2, x3, x4 : [240.  60.   0.   0.]\n",
      "\n",
      "\n"
     ]
    }
   ],
   "source": [
    "# Solution using linprog from Scipy.optimize\n",
    "# https://docs.scipy.org/doc/scipy-0.15.1/reference/generated/scipy.optimize.linprog.html\n",
    "\n",
    "from scipy.optimize import linprog\n",
    "\n",
    "# coefficients of objective function\n",
    "z = [-10, -15, -10, -5] \n",
    "\n",
    "# coefficients of the left-hand side of the inequalities\n",
    "lhs = [[1, 1, 1, 1], [1, 2, 3, 1]]\n",
    "\n",
    "# coefficients of the right-hand side of the inequalities\n",
    "rhs = [300, 360]\n",
    "\n",
    "# set the bounds for the variables\n",
    "x1_bounds = (0, None)\n",
    "x2_bounds = (0, None)\n",
    "x3_bounds = (0, None)\n",
    "x4_bounds = (0, None)\n",
    "\n",
    "method='simplex'\n",
    "\n",
    "res = linprog(c=z, A_ub=lhs, b_ub=rhs,  bounds=(x1_bounds,x2_bounds, x3_bounds, x4_bounds))\n",
    "\n",
    "# See scipy documentation for additional details about scipy.optimize.OptimizeResult \n",
    "# https://docs.scipy.org/doc/scipy-0.15.1/reference/generated/scipy.optimize.linprog.html\n",
    "\n",
    "# Print optimal values of x1, x2, x3 and x4 \n",
    "print('Scipy Optimize Optimal value:', res.fun, '\\n x1, x2, x3, x4 :', res.x)\n",
    "print('\\n')"
   ]
  },
  {
   "cell_type": "markdown",
   "metadata": {},
   "source": [
    "### Alternative Solution using Pulp Python package\n",
    "#### Note: The use of pulp to solve maximization/minimization problems is optional.\n",
    "#### ** Instructions for installing pulp package **\n",
    "##### http://pythonhosted.org/PuLP/main/installing_pulp_at_home.html\n",
    "\n"
   ]
  },
  {
   "cell_type": "code",
   "execution_count": 1,
   "metadata": {},
   "outputs": [
    {
     "name": "stdout",
     "output_type": "stream",
     "text": [
      "Requirement already satisfied: pulp in c:\\users\\d40835891\\appdata\\local\\continuum\\anaconda3\\lib\\site-packages (1.6.8)\n",
      "Requirement already satisfied: pyparsing>=2.0.1 in c:\\users\\d40835891\\appdata\\local\\continuum\\anaconda3\\lib\\site-packages (from pulp) (2.2.0)\n"
     ]
    }
   ],
   "source": [
    "!pip install pulp"
   ]
  },
  {
   "cell_type": "code",
   "execution_count": 13,
   "metadata": {},
   "outputs": [
    {
     "name": "stdout",
     "output_type": "stream",
     "text": [
      "Pulp Solution for x1, x2, x3 and x4\n",
      "240.0\n",
      "60.0\n",
      "0.0\n",
      "0.0\n"
     ]
    }
   ],
   "source": [
    "from pulp import LpVariable, LpProblem, LpMaximize, LpStatus, value, LpMinimize\n",
    "\n",
    "# declare your variables\n",
    "x1 = LpVariable(\"x1\", 0, None) # x1>=0\n",
    "x2 = LpVariable(\"x2\", 0, None) # x2>=0\n",
    "x3 = LpVariable(\"x3\", 0, None) # x3>=0\n",
    "x4 = LpVariable(\"x4\", 0, None) # x4>=0\n",
    "\n",
    "\n",
    "# defines the problem\n",
    "prob = LpProblem(\"problem\", LpMaximize)\n",
    "\n",
    "# defines the constraints\n",
    "prob += x1 + x2 + x3 + x4 <= 300\n",
    "prob += x1 + 2*x2 + 3*x3 +x4 <= 360\n",
    "\n",
    "# defines the objective function to maximize\n",
    "prob += 10*x1 + 15*x2+ 10*x3 + 5*x4\n",
    "\n",
    "# solve the problem\n",
    "status = prob.solve()\n",
    "LpStatus[status]\n",
    "\n",
    "# print the results\n",
    "print(\"Pulp Solution for x1, x2, x3 and x4\")\n",
    "print(value(x1))\n",
    "print(value(x2))\n",
    "print(value(x3))\n",
    "print(value(x4))"
   ]
  },
  {
   "cell_type": "markdown",
   "metadata": {},
   "source": [
    "#### Example 2: \n",
    "**Minimize** \n",
    "w = 22y1 + 44y2 + 33y3\n",
    "\n",
    "**Subject to:**<br>\n",
    "y1 + 2y2 + y3 ≥ 3<br> \n",
    "y1 + y3 ≥ 3<br> \n",
    "3y1 + 2y2 + 2y3 ≥ 8<br>\n",
    "y1 ≥ 0, y2 ≥ 0, y3 ≥ 0"
   ]
  },
  {
   "cell_type": "code",
   "execution_count": 14,
   "metadata": {},
   "outputs": [
    {
     "name": "stdout",
     "output_type": "stream",
     "text": [
      "\n",
      "\n",
      "Scipy Optimize Optimal value: 66.0 \n",
      " y1, y2, y3: [3. 0. 0.]\n",
      "\n",
      "\n"
     ]
    }
   ],
   "source": [
    "from scipy.optimize import linprog\n",
    "\n",
    "w = [22, 44, 33] \n",
    "lhs = [[-1, -2, -1], [-1, 0,-1],[-3, -2, -2]]\n",
    "rhs = [-3, -3, -8]\n",
    "y1_bounds = (0, None)\n",
    "y2_bounds = (0, None)\n",
    "y3_bounds = (0, None)\n",
    "\n",
    "res = linprog(c=w, A_ub=lhs, b_ub=rhs, \n",
    "bounds=(y1_bounds,y2_bounds, y3_bounds))\n",
    "print('\\n')\n",
    "print('Scipy Optimize Optimal value:', res.fun, '\\n y1, y2, y3:', res.x)\n",
    "print('\\n')"
   ]
  },
  {
   "cell_type": "markdown",
   "metadata": {},
   "source": [
    "### Alternative Solution using Pulp Python package\n",
    "#### Note: The use of pulp to solve maximization/minimization problems is optional."
   ]
  },
  {
   "cell_type": "code",
   "execution_count": 15,
   "metadata": {},
   "outputs": [
    {
     "name": "stdout",
     "output_type": "stream",
     "text": [
      "Pulp Solutions for y1, y2, and y3\n",
      "3.0\n",
      "0.0\n",
      "0.0\n"
     ]
    }
   ],
   "source": [
    "from pulp import LpVariable, LpProblem, LpMaximize, LpStatus, value, LpMinimize\n",
    "\n",
    "# declare your variables\n",
    "y1 = LpVariable(\"y1\", 0, None) # y1>=0\n",
    "y2 = LpVariable(\"y2\", 0, None) # y2>=0\n",
    "y3 = LpVariable(\"y3\", 0, None) # y3>=0\n",
    "# defines the problem\n",
    "prob = LpProblem(\"problem\", LpMinimize)\n",
    "# defines the constraints\n",
    "prob += y1 + 2*y2 + y3 >= 3\n",
    "prob += y1 + y3 >= 3\n",
    "prob += 3*y1 + 2*y2 + 2*y3 >= 8\n",
    "\n",
    "# defines the objective function to maximize\n",
    "prob += 22*y1 + 44*y2+ 33*y3\n",
    "# solve the problem\n",
    "status = prob.solve()\n",
    "LpStatus[status]\n",
    "# print the results\n",
    "print(\"Pulp Solutions for y1, y2, and y3\")\n",
    "print(value(y1))\n",
    "print(value(y2))\n",
    "print(value(y3))\n"
   ]
  }
 ],
 "metadata": {
  "kernelspec": {
   "display_name": "Python 3",
   "language": "python",
   "name": "python3"
  },
  "language_info": {
   "codemirror_mode": {
    "name": "ipython",
    "version": 3
   },
   "file_extension": ".py",
   "mimetype": "text/x-python",
   "name": "python",
   "nbconvert_exporter": "python",
   "pygments_lexer": "ipython3",
   "version": "3.7.7"
  },
  "varInspector": {
   "cols": {
    "lenName": 16,
    "lenType": 16,
    "lenVar": 40
   },
   "kernels_config": {
    "python": {
     "delete_cmd_postfix": "",
     "delete_cmd_prefix": "del ",
     "library": "var_list.py",
     "varRefreshCmd": "print(var_dic_list())"
    },
    "r": {
     "delete_cmd_postfix": ") ",
     "delete_cmd_prefix": "rm(",
     "library": "var_list.r",
     "varRefreshCmd": "cat(var_dic_list()) "
    }
   },
   "types_to_exclude": [
    "module",
    "function",
    "builtin_function_or_method",
    "instance",
    "_Feature"
   ],
   "window_display": false
  }
 },
 "nbformat": 4,
 "nbformat_minor": 1
}
