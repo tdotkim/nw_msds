{
 "cells": [
  {
   "cell_type": "markdown",
   "metadata": {},
   "source": [
    "# Module 2 Discussion Notebook"
   ]
  },
  {
   "cell_type": "markdown",
   "metadata": {},
   "source": [
    "## Revenue Optimization Scenario 1\n",
    "\n",
    "A creative development team has three products they can sell.\n",
    "\n",
    "A static HTML5 ad for $2,5000. We'll call this *s*.\n",
    "\n",
    "An animated HTML5 ad for $4,000. We'll call this *a*\n",
    "\n",
    "A dynamic HTML5 ad for $9,500. We'll call this *d*\n",
    "\n",
    "We know we'll need a designer, a developer, and a project manager for every project. \n",
    "\n",
    "| Project  | Designer Hours  | Dev Hours  | PM Hours |\n",
    "|----------|:---------------:|:----------:|:--------:|\n",
    "| Static   | 5               | 8          | 2        | \n",
    "| Animated | 10              | 16         | 4        |\n",
    "| Dynamic  | 10              | 28         | 5        |\n",
    "\n",
    "\n",
    "For this upcoming quarter we know we have this many pooled hours to use per position\n",
    "\n",
    "|Position | Hours |\n",
    "|---------|:-----:|\n",
    "|Designer | 425   |\n",
    "|Dev      | 380   |\n",
    "|PM       | 480   |"
   ]
  },
  {
   "cell_type": "code",
   "execution_count": 125,
   "metadata": {},
   "outputs": [],
   "source": [
    "#Let's get started with loading up pulp and getting everything setup\n",
    "from pulp import LpVariable, LpProblem, LpMaximize, LpStatus, value, LpMinimize"
   ]
  },
  {
   "cell_type": "markdown",
   "metadata": {},
   "source": [
    "Now that we've got the adjustable variables built. We can start building the actual solver\n",
    "\n",
    "We'll begin with creating the three variables for the problem and the objective function."
   ]
  },
  {
   "cell_type": "code",
   "execution_count": 126,
   "metadata": {},
   "outputs": [],
   "source": [
    "#LpMaximize your conversions\n",
    "prob = LpProblem(\"problem\", LpMaximize)\n",
    "\n",
    "#we'll set our variables here\n",
    "#lowBound=0 because we can't have negative projects\n",
    "#cat=Integer because you can't sell part of a project\n",
    "s = LpVariable(\"s\", lowBound=0, cat='Integer')\n",
    "a = LpVariable(\"a\", lowBound=0, cat='Integer') \n",
    "d = LpVariable(\"d\", lowBound=0, cat='Integer') \n",
    "\n",
    "#objective function here\n",
    "#we're going to maximize our total revenue\n",
    "prob += 2500*s + 4000*a + 9500*d"
   ]
  },
  {
   "cell_type": "markdown",
   "metadata": {},
   "source": [
    "Time to fill in the constraints"
   ]
  },
  {
   "cell_type": "code",
   "execution_count": 130,
   "metadata": {},
   "outputs": [],
   "source": [
    "#lets get our constraints going\n",
    "#first constraint is our designer hours available\n",
    "prob += 5*s + 10*a + 10*d <= 425\n",
    "\n",
    "#second constraint is our dev hours\n",
    "prob += 8*s + 16*a + 28*d <= 380\n",
    "\n",
    "#third constraint is our pm hours\n",
    "prob += 2*s + 4*a + 5*d <= 480"
   ]
  },
  {
   "cell_type": "markdown",
   "metadata": {},
   "source": [
    "Run the solver + print our results"
   ]
  },
  {
   "cell_type": "code",
   "execution_count": 133,
   "metadata": {},
   "outputs": [
    {
     "name": "stdout",
     "output_type": "stream",
     "text": [
      "Pulp Status = Optimal\n",
      "Optimal # of Projects this Quarter\n",
      "Static Projects = 2\n",
      "Animated Projects = 0\n",
      "Dynamic Projects = 13\n"
     ]
    }
   ],
   "source": [
    "#solve the problem\n",
    "status = prob.solve()\n",
    "\n",
    "#check our status. \n",
    "print(\"Pulp Status =\", LpStatus[status])\n",
    "\n",
    "#print the results\n",
    "print(\"Optimal # of Projects this Quarter\")\n",
    "print('Static Projects =' , value(s))\n",
    "print('Animated Projects =' , value(a))\n",
    "print('Dynamic Projects =' , value(d))\n"
   ]
  },
  {
   "cell_type": "markdown",
   "metadata": {},
   "source": [
    "## Understanding the results\n",
    "\n",
    "Based on the results, we know that there the optimal scenario involves 13 dynamic projects and 2 static projects.\n",
    "\n",
    "Understanding this in a business context where there are a lot more variables in play including a range of hours available that are influenced by other factors, we can take this data directionally.\n",
    "\n",
    "The creative development team needs to focus on selling the big ticket dynamic creatives. \n",
    "\n",
    "Any misses on dynamic sells means the fill needs to come from static projects because it takes the least amount of hours for the most revenue.\n",
    "\n",
    "Animated projects sit in an odd middle ground and don't provide a great hours/revenue ratio. \n",
    "\n",
    "\n"
   ]
  },
  {
   "cell_type": "markdown",
   "metadata": {},
   "source": [
    "## Scipy edition"
   ]
  },
  {
   "cell_type": "code",
   "execution_count": 1,
   "metadata": {},
   "outputs": [
    {
     "name": "stdout",
     "output_type": "stream",
     "text": [
      "Scipy Optimize Optimal value: -128928.57142857142 \n",
      " s,a,d : [ 0.          0.         13.57142857]\n",
      "\n",
      "\n"
     ]
    }
   ],
   "source": [
    "#version 1, using the version from the module 3 notebooks\n",
    "#in this version there are no limits to the type of variable\n",
    "#like continous or integer\n",
    "#this just is continuous so you can get a non-integer answer\n",
    "from scipy.optimize import linprog\n",
    "\n",
    "#objective function\n",
    "#translated from above: 2500*s + 4000*a + 9500*d\n",
    "#remember we have to do f(x)*-1 because linprog only does minimize\n",
    "z = [-2500, -4500, -9500] \n",
    "\n",
    "#coefficients of the left hand side of the inequalities\n",
    "#lets get our constraints going\n",
    "#first constraint is our designer hours available\n",
    "#prob += 5*s + 10*a + 10*d <= 425 translated to 5,10,10 left hand side\n",
    "#second constraint is our dev hours\n",
    "#prob += 8*s + 16*a + 28*d <= 380 translated to 8,16,28 left hand side\n",
    "#third constraint is our pm hours\n",
    "#prob += 2*s + 4*a + 5*d <= 480 translated to 2,4,5 left hand side\n",
    "# coefficients of the left-hand side of the inequalities\n",
    "lhs = [[5, 10, 10], [8, 16, 28], [2, 4, 5]]\n",
    "\n",
    "#coefficients of the right hand side\n",
    "#top to bottom\n",
    "rhs = [425, 380, 480]\n",
    "\n",
    "#set the bounds\n",
    "#(min,max) and none = to infinity\n",
    "#default = (min = 0, max = infinity)\n",
    "s = (0, None)\n",
    "a = (0, None)\n",
    "d = (0, None)\n",
    "\n",
    "#note regarding methods, I used the default: HiGHS because other stuff is going to be deprecated \n",
    "#and to use the default, we just don't specify.\n",
    "#but you should specify for best practice (be explicit)\n",
    "#c=z just uses the z list to fill the objective coefficients\n",
    "#A_ub coefs for the left hand side, use list 'lhs'\n",
    "#b_ib coefs for the right hand side, use list 'rhs'\n",
    "res = linprog(c=z, A_ub=lhs, b_ub=rhs, method='highs', bounds=(s, a, d))\n",
    "\n",
    "\n",
    "#print results\n",
    "print('Scipy Optimize Optimal value:', res.fun, '\\n s,a,d :', res.x)\n",
    "print('\\n')"
   ]
  },
  {
   "cell_type": "code",
   "execution_count": 1,
   "metadata": {},
   "outputs": [
    {
     "name": "stdout",
     "output_type": "stream",
     "text": [
      "Scipy Optimize Optimal value: -128500.0 \n",
      " s,a,d : [ 2.  0. 13.]\n",
      "\n",
      "\n"
     ]
    }
   ],
   "source": [
    "#version 2, using milp in scipy\n",
    "#in this version there you can set the type of variable\n",
    "#integer or continous\n",
    "import numpy as np\n",
    "import scipy.optimize\n",
    "\n",
    "#objective function\n",
    "#translated from above: 2500*s + 4000*a + 9500*d\n",
    "#remember we have to do f(x)*-1 because linprog only does minimize\n",
    "z = -np.array([2500, 4500, 9500])\n",
    "\n",
    "#coefficients of the left hand side of the inequalities\n",
    "#lets get our constraints going\n",
    "#first constraint is our designer hours available\n",
    "#prob += 5*s + 10*a + 10*d <= 425 translated to 5,10,10 left hand side\n",
    "#second constraint is our dev hours\n",
    "#prob += 8*s + 16*a + 28*d <= 380 translated to 8,16,28 left hand side\n",
    "#third constraint is our pm hours\n",
    "#prob += 2*s + 4*a + 5*d <= 480 translated to 2,4,5 left hand side\n",
    "# coefficients of the left-hand side of the inequalities\n",
    "lhs = np.array([[5, 10, 10], [8, 16, 28], [2, 4, 5]])\n",
    "\n",
    "#coefficients of the right hand side\n",
    "#top to bottom\n",
    "rhs = np.array([425, 380, 480])\n",
    "\n",
    "#full_like gives us an array the same shape as rhs\n",
    "#filled with negative infinity\n",
    "boundlimit = np.full_like(rhs, -np.inf)\n",
    "\n",
    "#set that we use integers only\n",
    "#returns an array of 1s\n",
    "integrality = np.ones_like(z)\n",
    "\n",
    "#now that we setup the above, turn into a constraint\n",
    "#this means lhs coefs = lhs\n",
    "#lowerbound = boundlimit\n",
    "#ubberbound = rhs\n",
    "constraints = scipy.optimize.LinearConstraint(lhs, boundlimit, rhs)\n",
    "\n",
    "#note regarding methods, I used the default: HiGHS because other stuff is going to be deprecated \n",
    "#and to use the default, we just don't specify.\n",
    "#but you should specify for best practice (be explicit)\n",
    "#c=z just uses the z list to fill the objective coefficients\n",
    "#A_ub coefs for the left hand side, use list 'lhs'\n",
    "#b_ib coefs for the right hand side, use list 'rhs'\n",
    "res = scipy.optimize.milp(c=z, constraints=constraints, integrality=integrality)\n",
    "\n",
    "#print results\n",
    "print('Scipy Optimize Optimal value:', res.fun, '\\n s,a,d :', res.x)\n",
    "print('\\n')"
   ]
  }
 ],
 "metadata": {
  "kernelspec": {
   "display_name": "Python 3.9.10 64-bit",
   "language": "python",
   "name": "python3"
  },
  "language_info": {
   "codemirror_mode": {
    "name": "ipython",
    "version": 3
   },
   "file_extension": ".py",
   "mimetype": "text/x-python",
   "name": "python",
   "nbconvert_exporter": "python",
   "pygments_lexer": "ipython3",
   "version": "3.9.10"
  },
  "orig_nbformat": 4,
  "vscode": {
   "interpreter": {
    "hash": "7e635ebd5e894ce6932c9fecec4614be624e832c6d0d70f4fc521f89e00115f5"
   }
  }
 },
 "nbformat": 4,
 "nbformat_minor": 2
}
