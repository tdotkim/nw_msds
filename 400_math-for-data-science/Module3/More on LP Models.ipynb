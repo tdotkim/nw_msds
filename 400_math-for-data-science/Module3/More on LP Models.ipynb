{
 "cells": [
  {
   "cell_type": "markdown",
   "metadata": {},
   "source": [
    "# MSDS 400 More on LP Models"
   ]
  },
  {
   "cell_type": "code",
   "execution_count": 9,
   "metadata": {},
   "outputs": [],
   "source": [
    "import matplotlib.pyplot \n",
    "from matplotlib.pyplot import *\n",
    "import numpy \n",
    "from numpy import *"
   ]
  },
  {
   "cell_type": "markdown",
   "metadata": {},
   "source": [
    "This is a minimization problem. One objective is to demonstrate plotting an unbounded region. There are four inequalities: \n",
    "\n",
    "x + 3y ≥ 15<br>\n",
    "3x+y ≥ 10<br>\n",
    "x >= 0, y >= 0. \n",
    "\n",
    "The objective function is z = 2x + 3y. The feasible region will be graphed and filled. Matrix methods will be used to evaluate the objective function at each corner."
   ]
  },
  {
   "cell_type": "code",
   "execution_count": 10,
   "metadata": {},
   "outputs": [],
   "source": [
    "x= arange(0,20.1,0.1)\n",
    "y0= arange(0,20.1,0.1)\n",
    "y1= 10.0-3.0*x\n",
    "y2= 5.0-x/3.0\n",
    "y3 = 20+0.0*x  # The definition of y3 will allow filling the unbounded region in the plot."
   ]
  },
  {
   "cell_type": "markdown",
   "metadata": {},
   "source": [
    "The filling will be between y3 and the maximum of y1 and y2.  Need to define \n",
    "a new array y4 which will be that maximum."
   ]
  },
  {
   "cell_type": "code",
   "execution_count": 11,
   "metadata": {},
   "outputs": [],
   "source": [
    "y4 = list()  # Start as an empty list and add the greater of y1/y2 to it for each point\n",
    "for y1_val, y2_val in zip(y1, y2):\n",
    "    # Zip allows us to loop over both lists at the same time.\n",
    "    y4_val = max([y1_val, y2_val])  # Get the greater of the two\n",
    "    y4.append(y4_val)  # Add it to our list\n",
    "    \n",
    "y5= 5.5-2.0*x/3.0  # This is the objective function plotted for illustration."
   ]
  },
  {
   "cell_type": "code",
   "execution_count": 12,
   "metadata": {},
   "outputs": [
    {
     "data": {
      "image/png": "[encoded data removed]",
      "text/plain": [
       "<matplotlib.figure.Figure at 0x10a2b9748>"
      ]
     },
     "metadata": {},
     "output_type": "display_data"
    }
   ],
   "source": [
    "xlim(0,20)\n",
    "ylim(0,20)\n",
    "xlabel('x-axis')\n",
    "ylabel('y-axis')\n",
    "title('Shaded Area Shows the Feasible Region')\n",
    "plot(x,y2,color='b', label='x+3y >= 15')\n",
    "plot(x,y1,color='r', label='3x+y >= 10')\n",
    "plot(x,y5,'k--', label='16.5 = 2x+3y')\n",
    "legend()\n",
    "fill_between(x,y3,y4, color='grey',alpha=0.2)\n",
    "show()"
   ]
  },
  {
   "cell_type": "markdown",
   "metadata": {},
   "source": [
    "Corner points for evaluation using the objective function."
   ]
  },
  {
   "cell_type": "code",
   "execution_count": 13,
   "metadata": {},
   "outputs": [],
   "source": [
    "x= [0, 1.5, 15]\n",
    "y= [10, 4.5, 0]"
   ]
  },
  {
   "cell_type": "markdown",
   "metadata": {},
   "source": [
    "This next step shows how to use matrix calculations to evaluate\n",
    "the objective function at each corner point and find the maximum."
   ]
  },
  {
   "cell_type": "code",
   "execution_count": 14,
   "metadata": {},
   "outputs": [
    {
     "name": "stdout",
     "output_type": "stream",
     "text": [
      "Value of Objective Function at Each Corner Point\n",
      " [[30. ]\n",
      " [16.5]\n",
      " [30. ]]\n"
     ]
    }
   ],
   "source": [
    "obj= matrix([2.0,3.0])\n",
    "obj= transpose(obj)\n",
    "corners= matrix([x,y])\n",
    "corners= transpose(corners)\n",
    "result= dot(corners,obj)\n",
    "print ('Value of Objective Function at Each Corner Point\\n', result)"
   ]
  }
 ],
 "metadata": {
  "kernelspec": {
   "display_name": "Python 3",
   "language": "python",
   "name": "python3"
  },
  "language_info": {
   "codemirror_mode": {
    "name": "ipython",
    "version": 3
   },
   "file_extension": ".py",
   "mimetype": "text/x-python",
   "name": "python",
   "nbconvert_exporter": "python",
   "pygments_lexer": "ipython3",
   "version": "3.7.7"
  },
  "varInspector": {
   "cols": {
    "lenName": 16,
    "lenType": 16,
    "lenVar": 40
   },
   "kernels_config": {
    "python": {
     "delete_cmd_postfix": "",
     "delete_cmd_prefix": "del ",
     "library": "var_list.py",
     "varRefreshCmd": "print(var_dic_list())"
    },
    "r": {
     "delete_cmd_postfix": ") ",
     "delete_cmd_prefix": "rm(",
     "library": "var_list.r",
     "varRefreshCmd": "cat(var_dic_list()) "
    }
   },
   "types_to_exclude": [
    "module",
    "function",
    "builtin_function_or_method",
    "instance",
    "_Feature"
   ],
   "window_display": false
  }
 },
 "nbformat": 4,
 "nbformat_minor": 2
}
