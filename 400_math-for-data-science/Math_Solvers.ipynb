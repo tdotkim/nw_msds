{
 "cells": [
  {
   "cell_type": "markdown",
   "metadata": {},
   "source": [
    "# TK's Math Solvers"
   ]
  },
  {
   "cell_type": "markdown",
   "metadata": {},
   "source": [
    "## Module 1 Algebra"
   ]
  },
  {
   "cell_type": "code",
   "execution_count": 75,
   "metadata": {},
   "outputs": [
    {
     "data": {
      "text/plain": [
       "-35"
      ]
     },
     "execution_count": 75,
     "metadata": {},
     "output_type": "execute_result"
    }
   ],
   "source": [
    "#basic algebra solvers\n",
    "import numpy as np\n",
    "from sympy import Symbol, lambdify\n",
    "\n",
    "x = Symbol('x', real=True)\n",
    "f_x = 1-4*x\n",
    "funcx = lambdify(x,f_x)\n",
    "\n",
    "funcx(9)"
   ]
  },
  {
   "cell_type": "code",
   "execution_count": 78,
   "metadata": {},
   "outputs": [
    {
     "data": {
      "image/png": "[encoded data removed]",
      "text/plain": [
       "<Figure size 640x480 with 1 Axes>"
      ]
     },
     "metadata": {},
     "output_type": "display_data"
    }
   ],
   "source": [
    "#basic algebra grapher\n",
    "import matplotlib.pyplot as plt\n",
    "import numpy as np\n",
    "%matplotlib inline\n",
    "\n",
    "#plt.style.use('seaborn-whitegrid')\n",
    "\n",
    "# The Data\n",
    "x = np.linspace(-5,5,10)\n",
    "\n",
    "y = -2*x + 1\n",
    "\n",
    "# Create the figure and axes objects\n",
    "fig = plt.figure()\n",
    "ax = plt.axes()\n",
    "\n",
    "fig.suptitle('y=-2x+1')\n",
    "\n",
    "# Plot the data\n",
    "ax.plot(x,y,color='red')\n",
    "\n",
    "plt.show()"
   ]
  },
  {
   "cell_type": "code",
   "execution_count": 86,
   "metadata": {},
   "outputs": [
    {
     "name": "stdout",
     "output_type": "stream",
     "text": [
      "2*x - 5\n"
     ]
    }
   ],
   "source": [
    "#find slope-intercept form for linear functions\n",
    "#y−y1=m(x−x1)\n",
    "\n",
    "import numpy as np\n",
    "from sympy import Symbol, lambdify, simplify\n",
    "\n",
    "#x = Symbol('x', real=True)\n",
    "#f_x = 1-4*x\n",
    "#funcx = lambdify(x,f_x)\n",
    "\n",
    "def solver1(slope,x1,y1):\n",
    "    slope_part = slope\n",
    "    x = Symbol('x', real=True)\n",
    "    f_x = slope * (x - x1) + y1\n",
    "    return f_x\n",
    "\n",
    "print(solver1(2,-2,-9))\n"
   ]
  },
  {
   "cell_type": "code",
   "execution_count": 88,
   "metadata": {},
   "outputs": [
    {
     "name": "stdout",
     "output_type": "stream",
     "text": [
      "24.0 - 3.5*x\n"
     ]
    }
   ],
   "source": [
    "#find slope-intercept form for two points\n",
    "#y−y1=m(x−x1)\n",
    "\n",
    "import numpy as np\n",
    "from sympy import Symbol, lambdify, simplify\n",
    "\n",
    "#x = Symbol('x', real=True)\n",
    "#f_x = 1-4*x\n",
    "#funcx = lambdify(x,f_x)\n",
    "\n",
    "def slopesolver(x1,x2,y1,y2):\n",
    "    rise = y2 - y1\n",
    "    run = x2 - x1\n",
    "    slope = rise/run\n",
    "    return slope\n",
    "\n",
    "def solver1(slope,x1,y1):\n",
    "    slope_part = slope\n",
    "    x = Symbol('x', real=True)\n",
    "    f_x = slope * (x - x1) + y1\n",
    "    return f_x\n",
    "\n",
    "slope_to_pass = slopesolver(6,8,3,-4)\n",
    "print(solver1(slope_to_pass,6,3))\n"
   ]
  },
  {
   "cell_type": "code",
   "execution_count": 91,
   "metadata": {},
   "outputs": [
    {
     "data": {
      "text/plain": [
       "[625/18]"
      ]
     },
     "execution_count": 91,
     "metadata": {},
     "output_type": "execute_result"
    }
   ],
   "source": [
    "from sympy.solvers import solve\n",
    "from sympy import Symbol\n",
    "x = Symbol('x')\n",
    "solve(79*x - 7*x - 2500, x)\n"
   ]
  },
  {
   "cell_type": "code",
   "execution_count": 90,
   "metadata": {},
   "outputs": [
    {
     "data": {
      "text/plain": [
       "'Correlation Coefficient using scipy:-0.996'"
      ]
     },
     "execution_count": 90,
     "metadata": {},
     "output_type": "execute_result"
    }
   ],
   "source": [
    "#correlation coefficient\n",
    "from scipy.stats import pearsonr\n",
    "import scipy.stats as st\n",
    "import numpy as np\n",
    "import matplotlib.pyplot as plt\n",
    "\n",
    "x = np.array([3,4,5,6,7,8,9,10,11,12,13,14,15,16])\n",
    "y = np.array([45.9,42,40.4,39.4,35.3,33.5,30.1,29.4,28,25.2,22,20.8,18.9,17.1])\n",
    "\n",
    "corr_np = np.corrcoef(x, y)[0, 1]\n",
    "f\"Correlation Coefficient using numpy:{round(corr_np,3)}\"\n",
    "\n",
    "corr_sci = pearsonr(x, y)[0]\n",
    "f\"Correlation Coefficient using scipy:{round(corr_sci,3)}\""
   ]
  },
  {
   "cell_type": "markdown",
   "metadata": {},
   "source": [
    "## Module 2 System of Equations"
   ]
  },
  {
   "cell_type": "markdown",
   "metadata": {},
   "source": [
    "### Solve 2/3 equations"
   ]
  },
  {
   "cell_type": "markdown",
   "metadata": {},
   "source": [
    "#### Find the solution to two equations"
   ]
  },
  {
   "cell_type": "code",
   "execution_count": 92,
   "metadata": {},
   "outputs": [
    {
     "name": "stdout",
     "output_type": "stream",
     "text": [
      "The solution is x:1 and y:-5\n"
     ]
    }
   ],
   "source": [
    "import sympy as sym\n",
    "# Use sympy package to display the equation\n",
    "sym.init_printing()\n",
    "x,y = sym.symbols('x,y')\n",
    "\n",
    "sollns = sym.solve([\n",
    "    -2 * x + 5 * y + 27,\n",
    "    -3 * x + 6 * y + 33],\n",
    "    [x, y])\n",
    "print(f\"The solution is x:{sollns[x]} and y:{sollns[y]}\")"
   ]
  },
  {
   "cell_type": "markdown",
   "metadata": {},
   "source": [
    "#### another solution to two equations\n",
    "In 1982, the US Mint changed the composition of pennies from all copper to zinc with copper coating. Pennies made prior to 1982 weigh  \n",
    "3.1\n",
    "  grams. Pennies made since 1982 weight  \n",
    "2.5\n",
    "  grams. Suppose you have a bag of  \n",
    "1370\n",
    "  pennies, and the bag weighs  \n",
    "3837.8\n",
    "  grams.\n",
    "\n",
    "Let  \n",
    "x\n",
    "  represent the number of pennies made prior to 1982 and let  \n",
    "y\n",
    "  represent the number of pennies made after 1982. Set up the system of equations.\n",
    "\n",
    "Write the equation that represents the total number of pennies."
   ]
  },
  {
   "cell_type": "code",
   "execution_count": 93,
   "metadata": {},
   "outputs": [
    {
     "name": "stdout",
     "output_type": "stream",
     "text": [
      "There are 688 old pennies and 682 new pennies\n"
     ]
    }
   ],
   "source": [
    "import sympy as sym\n",
    "# Use sympy package to display the equation\n",
    "sym.init_printing()\n",
    "\n",
    "# X is old pennies, Y is new pennies\n",
    "x,y = sym.symbols('x,y')\n",
    "\n",
    "solns = sym.solve([\n",
    "    3.1*x + 2.5*y - 3837.8,   #weight of old + weight of new - total\n",
    "    x + y - 1370],  #old + new - total count\n",
    "    [x, y])\n",
    "print(f\"There are {int(solns[x])} old pennies and {int(solns[y])} new pennies\")"
   ]
  },
  {
   "cell_type": "markdown",
   "metadata": {},
   "source": [
    "### three equations"
   ]
  },
  {
   "cell_type": "code",
   "execution_count": 94,
   "metadata": {},
   "outputs": [
    {
     "name": "stdout",
     "output_type": "stream",
     "text": [
      "The solution is x:3 and y:3 and z:-2\n"
     ]
    }
   ],
   "source": [
    "import sympy as sym\n",
    "# Use sympy package to display the equation\n",
    "sym.init_printing()\n",
    "x,y,z = sym.symbols('x,y,z')\n",
    "\n",
    "sollns = sym.solve([\n",
    "    x -2 * y + z + 5,\n",
    "    y + 2 * z + 1,\n",
    "    x + y + 3 * z + 0],\n",
    "    [x, y, z])\n",
    "print(f\"The solution is x:{sollns[x]} and y:{sollns[y]} and z:{sollns[z]}\")"
   ]
  },
  {
   "cell_type": "markdown",
   "metadata": {},
   "source": [
    "#### proportions and system of equations\n",
    "\n",
    "A startup company spent $173154 on a combination of 168 tablets, laptops, and desktop computers. Each tablet cost $544, each laptop cost $1412, and each desktop computer cost $1838. Based on the structure of the company, they purchased twice as many tablets as laptops.\n",
    "\n",
    "Let x be the number of tablets purchased, y the number of laptops purchased, and z the number of desktops purchased. Set up the system of equations."
   ]
  },
  {
   "cell_type": "code",
   "execution_count": 95,
   "metadata": {},
   "outputs": [
    {
     "name": "stdout",
     "output_type": "stream",
     "text": [
      "\n",
      "Right Hand Side of Equation\n",
      "[[   182]\n",
      " [126736]\n",
      " [     0]]\n",
      "\n",
      "Matrix A\n",
      "[[   1    1    1]\n",
      " [ 334  959 1280]\n",
      " [   1   -2    0]]\n"
     ]
    },
    {
     "data": {
      "text/plain": [
       "matrix([[96.],\n",
       "        [48.],\n",
       "        [38.]])"
      ]
     },
     "execution_count": 95,
     "metadata": {},
     "output_type": "execute_result"
    }
   ],
   "source": [
    "rhs = [182, 126736, 0]\n",
    "rhs = np.matrix(rhs)\n",
    "rhs = np.transpose(rhs)\n",
    "print('\\nRight Hand Side of Equation')\n",
    "print(rhs)\n",
    "\n",
    "A = [[1, 1, 1],\n",
    "     [334, 959, 1280],\n",
    "     [1, -2, 0]]\n",
    "A = np.matrix(A)\n",
    "print('\\nMatrix A')\n",
    "print(A)\n",
    "IA = np.linalg.inv(A)\n",
    "\n",
    "result = np.dot(IA, rhs)\n",
    "result = np.rint(result)\n",
    "result"
   ]
  },
  {
   "cell_type": "markdown",
   "metadata": {},
   "source": [
    "A brass manufacturer makes three different type of wholesale brass blocks from copper and zinc according to the following matrix.\n",
    "\n",
    "||high brass|muntz metal|gilding metal|\n",
    "|---|---|---|---|\n",
    "|copper|65%|60%|95%|\n",
    "|zinc|35%|40%|5%|\n",
    "\n",
    "\n",
    "In addition, the demand (in thousands of pounds) from Plant 1 is 9 High Brass, 5 Muntz metal, and 25 Gilding metal, and the demand from Plant 2 is is 11 High Brass, 4 Muntz metal, and 27 Gilding metal."
   ]
  },
  {
   "cell_type": "code",
   "execution_count": 98,
   "metadata": {},
   "outputs": [
    {
     "name": "stdout",
     "output_type": "stream",
     "text": [
      "\n",
      "Matrix A\n",
      "[[0.65 0.6  0.95]\n",
      " [0.35 0.4  0.05]]\n",
      "\n",
      "Matrix B\n",
      "[[15  9]\n",
      " [ 2  2]\n",
      " [25 31]]\n",
      "\n",
      "Product\n",
      "[[34.7 36.5]\n",
      " [ 7.3  5.5]]\n",
      "\n",
      "Cost\n",
      "plant 1/2 =  [[153553. 160015.]]\n"
     ]
    }
   ],
   "source": [
    "blends = [[.65, .6, .95], \n",
    "          [.35, .4, .05]]\n",
    "A = np.matrix(blends)\n",
    "print('\\nMatrix A')\n",
    "print(A)\n",
    "\n",
    "\n",
    "print('\\nMatrix B')\n",
    "demands = [[15, 9],\n",
    "           [2, 2],\n",
    "           [25, 31]]\n",
    "\n",
    "B = np.matrix(demands)\n",
    "print(B)\n",
    "\n",
    "prod = np.dot(A, B)\n",
    "print('\\nProduct')\n",
    "print(prod)\n",
    "\n",
    "# Because these are in thousands of pounds\n",
    "thous_prod = 1000 * prod\n",
    "\n",
    "prices = [4.28, 0.69]\n",
    "cost = np.dot(prices, thous_prod)\n",
    "print(\"\\nCost\")\n",
    "print('plant 1/2 = ',cost)"
   ]
  },
  {
   "cell_type": "markdown",
   "metadata": {},
   "source": [
    "#### bigger matrix\n",
    "A new website allows consumers to purchase various automobiles via the internet and then take delivery at a local dealer. The following table shows the retail price of the cars on the website.\n",
    "\n",
    "||Brand A|Brand B|\n",
    "|---|---|---|\n",
    "|compact|13,000|11,000|\n",
    "|midsize|22,000|21,000|\n",
    "|luxury|29,000|35,000|\n",
    "|pickup|58,000|61,000|\n",
    "\n",
    "The dealers makes the following profit:\n",
    "On compact cars they make 13%\n",
    "On midsize cars they make 14%\n",
    "On luxury cars they make 12%\n",
    "On pickup trucks they make 19%\n",
    "\n",
    "Use the following matrix and multiply to the price matrix to find a matrix of profit per car.\n",
    "\n",
    "|compact|midsize|luxury|pickup|\n",
    "|---|---|---|---|\n",
    "|0.13|0|0|0|\n",
    "|0|0.14|0|0|\n",
    "|0|0|0.12|0|\n",
    "|0|0|0|0.19|\n",
    "\n"
   ]
  },
  {
   "cell_type": "code",
   "execution_count": 99,
   "metadata": {},
   "outputs": [
    {
     "name": "stdout",
     "output_type": "stream",
     "text": [
      "\n",
      "Matrix A\n",
      "[[6 8 1]\n",
      " [6 4 1]\n",
      " [5 7 1]]\n",
      "\n",
      "Matrix B\n",
      "[[4 3]\n",
      " [4 5]\n",
      " [2 2]]\n",
      "\n",
      "Profit\n",
      "[[58000 60000]\n",
      " [42000 40000]\n",
      " [50000 52000]]\n",
      "\n",
      "Three Brand A Luxury Car Profits\n",
      "150000\n"
     ]
    }
   ],
   "source": [
    "markups = [[.07, 0, 0, 0],\n",
    "           [0, .09, 0, 0], \n",
    "           [0, 0, .11, 0], \n",
    "           [0, 0 , 0, .18]]\n",
    "           \n",
    "A = np.matrix(markups)\n",
    "print('\\nMatrix A')\n",
    "print(A)\n",
    "\n",
    "\n",
    "print('\\nMatrix B')\n",
    "prices  = [[17, 11],\n",
    "           [23, 20],\n",
    "           [34, 32],\n",
    "           [50, 64]]\n",
    "\n",
    "B = np.matrix(prices)\n",
    "print(B)\n",
    "\n",
    "profit = A * B \n",
    "profit_thou = profit * 1000\n",
    "print('\\nProfit')\n",
    "print(profit_thou)\n",
    "\n",
    "lux_a_three_prof = profit_thou[2, 0] * 3\n",
    "print('\\nThree Brand A Luxury Car Profits')\n",
    "print(lux_a_three_prof)\n"
   ]
  },
  {
   "cell_type": "markdown",
   "metadata": {},
   "source": [
    "### find the inverse matrix and coefficient matrix\n",
    "\n",
    "$3x -13y = -3$\n",
    "\n",
    "$-x+5y=2$"
   ]
  },
  {
   "cell_type": "code",
   "execution_count": 100,
   "metadata": {},
   "outputs": [
    {
     "name": "stdout",
     "output_type": "stream",
     "text": [
      "Coefficient Matrix\n",
      "[[  5 -30]\n",
      " [ -1   7]]\n",
      "Inverse of it is\n",
      "[[1.4 6. ]\n",
      " [0.2 1. ]]\n",
      "The solutions are [[19.4  3.2]]\n"
     ]
    }
   ],
   "source": [
    "lhs = np.matrix([[5, -30], [-1, 7]])\n",
    "rhs = [1, 3]\n",
    "\n",
    "print(\"Coefficient Matrix\")\n",
    "print(lhs)\n",
    "\n",
    "print(\"Inverse of it is\")\n",
    "inv_lhs = np.linalg.inv(lhs)\n",
    "print(inv_lhs)\n",
    "\n",
    "sol = np.dot(inv_lhs, rhs)\n",
    "print(f\"The solutions are {sol}\")"
   ]
  },
  {
   "cell_type": "markdown",
   "metadata": {},
   "source": [
    "### 3 system of equations\n",
    "Harrison is trying to plan a meal to meet specific nutritional goals. He wants to prepare a meal containing rice, tofu, and peanuts that will provide 252252 grams of carbohydrates, 140 grams of fat, and 104 grams of protein. He knows that each cup of rice provides 4545 grams of carbohydrates, 00 grams of fat, and 55 grams of protein. Each cup of tofu provides 66 grams of carbohydrates, 55 grams of fat, and 1616 grams of protein. Finally, each cup of peanuts provides 3030 grams of carbohydrates, 6565 grams of fat, and 2626 grams of protein.\n",
    "\n",
    "Let rr be the number of cups of rice, tt the number of cups of tofu, and pp the number of cups of peanuts. Set up the system of equations.\n",
    "\n",
    "Write the equation for the amount of carbohydrates in his meal.\n"
   ]
  },
  {
   "cell_type": "code",
   "execution_count": null,
   "metadata": {},
   "outputs": [],
   "source": [
    "rhs = [141, 191, 129]\n",
    "rhs = np.matrix(rhs)\n",
    "rhs = np.transpose(rhs)\n",
    "print('\\nRight Hand Side of Equation')\n",
    "print(rhs)\n",
    "\n",
    "A = [[43, 7, 35],\n",
    "     [0, 12, 73],\n",
    "     [3, 18, 27]]\n",
    "A = np.matrix(A)\n",
    "print('\\nMatrix A')\n",
    "print(A)\n",
    "IA = np.linalg.inv(A)\n",
    "\n",
    "result = np.dot(IA, rhs)\n",
    "result = np.rint(result)\n",
    "result"
   ]
  },
  {
   "cell_type": "markdown",
   "metadata": {},
   "source": [
    "### Cramers Rule\n"
   ]
  },
  {
   "cell_type": "markdown",
   "metadata": {},
   "source": [
    "#### 2x2\n",
    "$-4x-y=-27$\n",
    "\n",
    "$5x-3y=11$"
   ]
  },
  {
   "cell_type": "code",
   "execution_count": 103,
   "metadata": {},
   "outputs": [
    {
     "name": "stdout",
     "output_type": "stream",
     "text": [
      "D is 17\n",
      "Dx is 68\n",
      "Dy is 51\n",
      "The solution is (4.0, 3.0)\n"
     ]
    }
   ],
   "source": [
    "a1 = -4 #x from equation 1\n",
    "a2 = 5 #x from equation 2\n",
    "b1 = -1 #y from equation 1\n",
    "b2 = -3 #y from equation 2\n",
    "c1 = -19 # rhs from equation 1\n",
    "c2 = 11 #rhs from equation 2\n",
    "\n",
    "D = (a1 * b2) - (a2 * b1)\n",
    "print(f'D is {D}')\n",
    "\n",
    "Dx = (c1 * b2) - (c2 * b1)\n",
    "Dy = (a1 * c2) - (a2 * c1)\n",
    "print(f'Dx is {Dx}')\n",
    "print(f'Dy is {Dy}')\n",
    "\n",
    "x = Dx/D\n",
    "y = Dy/D\n",
    "print(f\"The solution is ({x}, {y})\")"
   ]
  },
  {
   "cell_type": "markdown",
   "metadata": {},
   "source": [
    "#### Cramer's 3x3\n",
    "$4x-4y-2z=-4$\n",
    "\n",
    "$-x-6y+5z=5$\n",
    "\n",
    "$x-5y+6z=17$"
   ]
  },
  {
   "cell_type": "code",
   "execution_count": 112,
   "metadata": {},
   "outputs": [
    {
     "name": "stdout",
     "output_type": "stream",
     "text": [
      "D is -110\n",
      "Dx is -330\n",
      "Dy is -220\n",
      "Dz is -440\n",
      "The solution is (3.0, 2.0, 4.0)\n"
     ]
    }
   ],
   "source": [
    "x1 = 4 #x from equation 1\n",
    "x2 = -1 #x from equation 2\n",
    "x3 = 1 #x from equation 3\n",
    "y1 = -4 #y from equation 1\n",
    "y2 = -6 #y from equation 2\n",
    "y3 = -5 #y from equation 3\n",
    "z1 = -2 #z from equation 1\n",
    "z2 = 5 #z from equation 2\n",
    "z3 = 6 #z from equation 3\n",
    "r1 = -4 #rhs from equation 1\n",
    "r2 = 5 #rhs from equation 2\n",
    "r3 = 17 #rhs from equation 3\n",
    "\n",
    "part1 = x1 * ((y2 * z3) - (z2 * y3))\n",
    "part2 = y1 * ((x2 * z3) - (z2 * x3))\n",
    "part3 = z1 * ((x2 * y3) - (y2 * x3))\n",
    "\n",
    "Denom = part1 - part2 + part3\n",
    "\n",
    "print(f'D is {Denom}')\n",
    "\n",
    "Dxp1 = r1 * ((y2 * z3) - (z2 * y3))\n",
    "Dxp2 = y1 * ((r2 * z3) - (z2 * r3))\n",
    "Dxp3 = z1 * ((r2 * y3) - (y2 * r3))\n",
    "Dx = Dxp1 - Dxp2 + Dxp3\n",
    "\n",
    "Dyp1 = x1 * ((r2 * z3) - (z2 * r3))\n",
    "Dyp2 = r1 * ((x2 * z3) - (z2 * x3))\n",
    "Dyp3 = z1 * ((x2 * r3) - (r2 * x3))\n",
    "Dy = Dyp1 - Dyp2 + Dyp3\n",
    "\n",
    "Dzp1 = x1 * ((y2 * r3) - (r2 * y3))\n",
    "Dzp2 = y1 * ((x2 * r3) - (r2 * x3))\n",
    "Dzp3 = r1 * ((x2 * y3) - (y2 * x3))\n",
    "Dz = Dzp1 - Dzp2 + Dzp3\n",
    "\n",
    "print(f'Dx is {Dx}')\n",
    "print(f'Dy is {Dy}')\n",
    "print(f'Dz is {Dz}')\n",
    "\n",
    "x = Dx/Denom\n",
    "y = Dy/Denom\n",
    "z = Dz/Denom\n",
    "print(f\"The solution is ({x}, {y}, {z})\")"
   ]
  },
  {
   "cell_type": "markdown",
   "metadata": {},
   "source": [
    "## Module 3 more systems of equations"
   ]
  },
  {
   "cell_type": "markdown",
   "metadata": {},
   "source": [
    "### graphing systems of equations\n",
    "    x + y ≤ 5\n",
    "    x − y ≤ − 2\n",
    "    6x + y ≥ 0"
   ]
  },
  {
   "cell_type": "code",
   "execution_count": 124,
   "metadata": {},
   "outputs": [
    {
     "name": "stdout",
     "output_type": "stream",
     "text": [
      "The simplest approach for filling a polygon is to locate thecorner points. Matplotlib will fill within these points.\n"
     ]
    },
    {
     "data": {
      "image/png": "[encoded data removed]",
      "text/plain": [
       "<Figure size 640x480 with 1 Axes>"
      ]
     },
     "metadata": {},
     "output_type": "display_data"
    }
   ],
   "source": [
    "%matplotlib inline\n",
    "\n",
    "import matplotlib.pyplot \n",
    "from matplotlib.pyplot import *\n",
    "import numpy \n",
    "from numpy import arange\n",
    "\n",
    "figure()\n",
    "x= arange(-10,10.1,1)\n",
    "y1= x+4\n",
    "y2= (6/5)*x + 6\n",
    "#y3=-6*x\n",
    "\n",
    "xlim(-10,10)\n",
    "ylim(-10,5)\n",
    "hlines(0,-10,10,color='k')\n",
    "vlines(0,-10,10,color='k')\n",
    "grid(True)\n",
    "\n",
    "xlabel('x-axis')\n",
    "ylabel('y-axis')\n",
    "title ('Shaded Area Shows the Feasible Region')\n",
    "\n",
    "plot(x,y1,color='b')\n",
    "plot(x,y2,color='r')\n",
    "#plot(x,y3,color='g')\n",
    "legend(['x+y=5','x-y=-2','6x+y=0'])\n",
    "print(\"The simplest approach for filling a polygon is to locate the\\\n",
    "corner points. Matplotlib will fill within these points.\")\n",
    "\n",
    "show()"
   ]
  },
  {
   "cell_type": "markdown",
   "metadata": {},
   "source": [
    "### revenue & constraints\n",
    "X is white chocolate blizzards\n",
    "Y is white chocolate caramel twists\n",
    "\n",
    "$z = 2.02x + 1.95y$\n",
    "\n",
    "$16 \\le x \\le 56$\n",
    "\n",
    "$17 \\le y \\le 33$\n",
    "\n",
    "$3x+4y \\le 240$\n",
    "\n",
    "$x,y \\ge 0$\n",
    "\n"
   ]
  },
  {
   "cell_type": "code",
   "execution_count": 1,
   "metadata": {},
   "outputs": [
    {
     "name": "stdout",
     "output_type": "stream",
     "text": [
      "Pulp Solutions for y1, y2, and y3\n",
      "total lemon puckers 56.0\n",
      "total mint breeze 18.0\n",
      "max revenue 148.22\n"
     ]
    }
   ],
   "source": [
    "from pulp import LpVariable, LpProblem, LpMaximize, LpStatus, value, LpMinimize\n",
    "\n",
    "\n",
    "#y3 = LpVariable(\"y3\", 0, None) # y3>=0\n",
    "# defines the problem\n",
    "prob = LpProblem(\"problem\", LpMaximize)\n",
    "\n",
    "# declare your variables\n",
    "# set your upper and lower bounds for 17 < y < 33. Lower = 17, upper = 33\n",
    "x = LpVariable(\"x\", lowBound=16, upBound=56) # y1>=0\n",
    "y = LpVariable(\"y\", lowBound=17, upBound=33) # y2>=0\n",
    "\n",
    "# defines the objective function to maximize\n",
    "prob += 2.02*x + 1.95*y, \"Revenue\"\n",
    "\n",
    "# defines the constraints\n",
    "#only one constraint here for sugar <=240\n",
    "prob += 3*x + 4*y <= 240\n",
    "\n",
    "# solve the problem\n",
    "status = prob.solve()\n",
    "LpStatus[status]\n",
    "\n",
    "# print the results\n",
    "print(\"Pulp Solutions for y1, y2, and y3\")\n",
    "print('total lemon puckers', value(x))\n",
    "print('total mint breeze', value(y))\n",
    "print('max revenue', (2.02*value(x))+(1.95*value(y)))\n"
   ]
  },
  {
   "cell_type": "markdown",
   "metadata": {},
   "source": [
    "### simplex tableau\n",
    "\n",
    "Maximize \n",
    "$P = 17x_{1} + 4x_{2}$\n",
    "subject to\n",
    "\n",
    "$18x_{1}+29x_{2} \\le 60$\n",
    "\n",
    "$24{1}+28{2} \\le 34$\n",
    "\n",
    "$x_{1} \\ge 0$\n",
    "\n",
    "$x_{2} \\ge 0$\n",
    "\n",
    "$\\rule{4cm}{0.4pt}$\n",
    "\n",
    "$P = 17x_{1} + 4x_{2}$ becomes $ - 17x_{1} - 4x_{2} + P = 0$\n",
    "\n",
    "Now we add 1 slack variable per constraint\n",
    "\n",
    "$18x_{1}+29x_{2} \\le 60$ becomes $18x_{1}+29x_{2}+ 1s_{1} + 0s_{2} \\le 60$\n",
    "\n",
    "$24x_{1}+28x_{2} \\le 34$ becomes $24x_{1}+28x_{2}+ 0s_{1} + 1s_{2} \\le 34$\n",
    "\n",
    "Far right column is made up of the right hand side of the equations\n",
    "\n",
    "Bottom row is made up of the objevtive function\n",
    "\n",
    "$\\rule{4cm}{0.4pt}$\n",
    "\n",
    "|$x_{1}$|$x_{2}$|$s_{1}$|$s_{2}$|$P$|$C$|\n",
    "|:-----:|:-----:|:-----:|:-----:|:-:|:-:|\n",
    "|18     |29     |1      |0      |0  |60 |\n",
    "|24     |28     |0      |1      |0  |34 |\n",
    "|-17    |-4     |0      |0      |1  |0  |\n",
    "\n",
    "$\\rule{4cm}{0.4pt}$\n",
    "\n",
    "The most negative entry in the bottom row determines the pivot column so column 1 is the pivot\n",
    "\n",
    "Now using column $C$, divide it by the pivot column. The smallest quotient is the pivot row. So 60/18 vs 34/24 we get 34/24 is the smallest so row 2 is the pivot row. "
   ]
  },
  {
   "cell_type": "markdown",
   "metadata": {},
   "source": [
    "### Coffe Blends Problem\n",
    "Albion Coffee Shop sells two basic blends: Ristretto and CafeLake.\n",
    "They use two types of coffee to produce the blends: Tontarica and Sagada.\n",
    "\n",
    "Ristretto sells for $6.50 per pound and requires at least 45% Tontarica.\n",
    "CafeLake sells for $5.25 per pound and requires no more than 40% Sagada.\n",
    "\n",
    "The shop has 80 pounds of Tontarica and 120 pounds of Sagada. Tontarica costs $3.50 per pound while Sagada costs $3.00 per pound.\n",
    "\n",
    "Objective function becomes:\n",
    "\n",
    "(Ristretto Revenue - Ristretto Tontarica Cost) + (Ristretto Revenue - Ristretto Sagada Cost) + (CafeLake Revenue - CafeLake Tontarica Cost) + (CafeLake Revenue - CafeLake Sagada Cost)\n",
    "\n",
    "$3x_{RT}+ 3.5x_{RS} + 1.65x_{CT}  + 2.25x_{CS}$"
   ]
  },
  {
   "cell_type": "markdown",
   "metadata": {},
   "source": [
    "#### two variable maximization\n",
    "A company has $8,850 available per month for advertising. Newspaper ads cost $110 each and can't run more than 25 times per month. Radio ads cost $300 each and can't run more than 33 times per month at this price.\n",
    "\n",
    "Each newspaper ad reaches 6750 potential customers, and each radio ad reaches 7350 potential customers. The company wants to maximize the number of ad exposures to potential customers.\n",
    "\n",
    "Use $n$ for number of Newspaper advertisements and $r$ for number of Radio advertisements. Set up the linear programming model."
   ]
  },
  {
   "cell_type": "code",
   "execution_count": 3,
   "metadata": {},
   "outputs": [
    {
     "name": "stdout",
     "output_type": "stream",
     "text": [
      "Pulp Solutions for y1, y2, and y3\n",
      "x = 25.0\n",
      "y = 20.0\n",
      "max exposure =  315750.0\n"
     ]
    }
   ],
   "source": [
    "from pulp import LpVariable, LpProblem, LpMaximize, LpStatus, value, LpMinimize\n",
    "\n",
    "# defines the problem\n",
    "prob = LpProblem(\"problem\", LpMaximize)\n",
    "\n",
    "# declare your variables\n",
    "# limit to integer because you can't run .x of an ad\n",
    "x = LpVariable(\"x\", lowBound=0, upBound=25, cat= 'Integer') # x = newspaper \n",
    "y = LpVariable(\"y\", lowBound=0, upBound=33, cat= 'Integer') # y = radio\n",
    "\n",
    "# defines the objective function to maximize\n",
    "prob += 6750*x + 7350*y,\"Revenue\"\n",
    "\n",
    "# defines the constraints\n",
    "prob += 110*x + 300*y <= 8850 #cost of news + radio <= 8850, our budget\n",
    "\n",
    "# solve the problem\n",
    "status = prob.solve()\n",
    "LpStatus[status]\n",
    "\n",
    "# print the results\n",
    "print(\"Pulp Solutions for y1, y2, and y3\")\n",
    "print('x =' , value(x))\n",
    "print('y =' , value(y))\n",
    "print('max exposure = ', 6750*value(x) + 7350*value(y))\n"
   ]
  },
  {
   "cell_type": "markdown",
   "metadata": {},
   "source": [
    "#### 3 variable minimization\n",
    "A lawn seed mixture contains three types of seed: bluegrass, rye, and Bermuda. The costs per pound of the three types of seed are 12 cents, 15 cents, and 3 cents, respectively. In each batch there must be at least 25% bluegrass seed, and the amount of Bermuda must be no more than 2/3 the amount of rye. To fill current orders, the company must make at least 8000 pounds of the mixture. How much of each kind of seed should be used to minimize cost? Round your answers to two decimals as needed."
   ]
  },
  {
   "cell_type": "code",
   "execution_count": 7,
   "metadata": {},
   "outputs": [
    {
     "name": "stdout",
     "output_type": "stream",
     "text": [
      "Pulp Solutions for y1, y2, and y3\n",
      "x = 2000.0\n",
      "y = 3600.0\n",
      "z = 2400.0\n",
      "cost = 852.0\n"
     ]
    }
   ],
   "source": [
    "from pulp import LpVariable, LpProblem, LpMaximize, LpStatus, value, LpMinimize\n",
    "\n",
    "# defines the problem\n",
    "prob = LpProblem(\"problem\", LpMinimize)\n",
    "\n",
    "# declare your variables\n",
    "x = LpVariable(\"x\", 0, None) # bluegrass\n",
    "y = LpVariable(\"y\", 0, None) # rye\n",
    "z = LpVariable(\"z\", 0, None) # bermuda\n",
    "\n",
    "# defines the objective function\n",
    "prob += .12*x + .15*y + .03*z\n",
    "\n",
    "# defines the constraints\n",
    "# need to make at least 8000 pounds of the mix\n",
    "prob += x + y + z >= 8000\n",
    "# need at least 25% bluegrass 'x'\n",
    "prob += x >= (1/4)*(x + y + z)\n",
    "# need bermuda to be NOT more than 2/3 rye\n",
    "prob += z <= (2/3)*y\n",
    "\n",
    "# solve the problem\n",
    "status = prob.solve()\n",
    "LpStatus[status]\n",
    "# print the results\n",
    "print(\"Pulp Solutions for y1, y2, and y3\")\n",
    "print('x =' , value(x))\n",
    "print('y =' , value(y))\n",
    "print('z =' , value(z))\n",
    "print('cost =', (.12*value(x))+(.15*value(y))+(.03*value(z)))\n"
   ]
  },
  {
   "cell_type": "markdown",
   "metadata": {},
   "source": [
    "## Module 4 Probability"
   ]
  },
  {
   "cell_type": "markdown",
   "metadata": {},
   "source": [
    "### Simple probability of 2x3\n",
    "\n",
    "||A|B|C|TOTAL|\n",
    "|:-:|:-:|:-:|:-:|:-:|\n",
    "|MALE|20|2|14|36|\n",
    "|FEMALE|13|8|4|35|\n",
    "|TOTAL|33|20|18|71|\n",
    "\n",
    "If one student was chosen at random, find the following:\n",
    "\n",
    "The probability that the student was female. \n",
    "\n",
    "The probability that the student got a C. \n",
    "  "
   ]
  },
  {
   "cell_type": "code",
   "execution_count": 10,
   "metadata": {},
   "outputs": [
    {
     "name": "stdout",
     "output_type": "stream",
     "text": [
      "chance of being female 0.49295774647887325\n",
      "chance of having a c 0.2535211267605634\n"
     ]
    }
   ],
   "source": [
    "prob_is_female = 35/71\n",
    "print('chance of being female', prob_is_female)\n",
    "\n",
    "prob_got_c = 18/71\n",
    "print('chance of having a c', prob_got_c)"
   ]
  },
  {
   "cell_type": "markdown",
   "metadata": {},
   "source": [
    "### Probability of a given b of 2x3\n",
    "\n",
    "||A|B|C|TOTAL|\n",
    "|:-:|:-:|:-:|:-:|:-:|\n",
    "|MALE|2|13|17|32|\n",
    "|FEMALE|9|18|10|37|\n",
    "|TOTAL|11|31|27|69|\n",
    "\n",
    "If one student was chosen at random, find the following:\n",
    "\n",
    "Find the probability that a randomly selected student earned a grade of 'C' given that the student is male. \n",
    "  "
   ]
  },
  {
   "cell_type": "code",
   "execution_count": 18,
   "metadata": {},
   "outputs": [
    {
     "name": "stdout",
     "output_type": "stream",
     "text": [
      "prob of c given is male =  0.53125\n"
     ]
    }
   ],
   "source": [
    "#prob(A|B)\n",
    "prob_of_C_given_is_Male = 17/32\n",
    "print('prob of c given is male = ', prob_of_C_given_is_Male)"
   ]
  },
  {
   "cell_type": "markdown",
   "metadata": {},
   "source": [
    "### Probability of a given b of 4x2\n",
    "\n",
    "||Proportion of all Drivers|Prob of at least 1 collision|\n",
    "|:-:|:-:|:-:|\n",
    "|teen|.07|.19|\n",
    "|young adult|.2|.07|\n",
    "|middle aged|.5|.05|\n",
    "|senior|.23|.08|\n",
    "\n",
    "\n",
    "Find the probability that a driver with at least one collision in the past year is a teen driver.\n",
    "  "
   ]
  },
  {
   "cell_type": "code",
   "execution_count": 29,
   "metadata": {},
   "outputs": [
    {
     "name": "stdout",
     "output_type": "stream",
     "text": [
      "prob of teen given at least 1 collision =  0.18811881188118812\n"
     ]
    }
   ],
   "source": [
    "#multiply by 1000 to get a sample going\n",
    "prob_of_teen = .07 * 1000\n",
    "prob_of_ya = .2 * 1000\n",
    "prob_of_ma = .5 * 1000\n",
    "prob_of_sr = .23 * 1000\n",
    "#then multiply prob of collision by the same size\n",
    "prob_of_teen_collision = .19 * prob_of_teen\n",
    "prob_of_ya_collision = .07 * prob_of_ya\n",
    "prob_of_ma_collision = .05 * prob_of_ma\n",
    "prob_of_sr_collision = .08 * prob_of_sr\n",
    "#sum all people who have collided\n",
    "total_collisions = (prob_of_teen_collision+prob_of_ya_collision+prob_of_ma_collision+prob_of_sr_collision)\n",
    "#get the prob of a teen given at least one collision P(A|B)\n",
    "prob_teen_given_atleast_one_collision = prob_of_teen_collision / total_collisions\n",
    "\n",
    "print('prob of teen given at least 1 collision = ', prob_teen_given_atleast_one_collision)"
   ]
  },
  {
   "cell_type": "markdown",
   "metadata": {},
   "source": [
    "### Probability of NOT MUTUALLY EXCLUSIVE A OR B and conditional A given B 3x4\n",
    "||18-24|25-34|35-55|55+|TOTAL|\n",
    "|:-:|:-:|:-:|:-:|:-:|:-:|\n",
    "|Liked crunch|23|18|9|33|83|\n",
    "|Disliked crunch|26|41|8|52|127|\n",
    "|no pref|26|6|21|37|90|\n",
    "|TOTAL|75|65|38|122|300|"
   ]
  },
  {
   "cell_type": "code",
   "execution_count": 35,
   "metadata": {},
   "outputs": [
    {
     "name": "stdout",
     "output_type": "stream",
     "text": [
      "P(18-24|Disliked) =  (26, 127)\n",
      "P(Disliked) =  (127, 300)\n",
      "P(35-55 OR Likes) =  (28, 75)\n",
      "P(liked|70) =  (33, 122)\n"
     ]
    }
   ],
   "source": [
    "from fractions import Fraction\n",
    "prob_18to24_given_disliked = Fraction(26,127)\n",
    "print('P(18-24|Disliked) = ',prob_18to24_given_disliked.as_integer_ratio())\n",
    "\n",
    "prob_disliked = Fraction(127,300)\n",
    "print('P(Disliked) = ',prob_disliked.as_integer_ratio())\n",
    "\n",
    "#prob of a or b is prob of a + prob of b - prof of a AND b\n",
    "#P(A or B) not mutually exlusive = P(A) + P(B) - P(A and B)\n",
    "prob_35to55_or_liked = Fraction(38,300) + Fraction(83,300) - Fraction(9,300) \n",
    "print('P(35-55 OR Likes) = ',prob_35to55_or_liked.as_integer_ratio())\n",
    "\n",
    "#P(liked|70) = P(liked and 55+)/P(55+)\n",
    "prob_liked_given_is70 = Fraction(33,122)\n",
    "print('P(liked|70) = ',prob_liked_given_is70.as_integer_ratio())"
   ]
  },
  {
   "cell_type": "markdown",
   "metadata": {},
   "source": [
    "### Probability of things\n"
   ]
  },
  {
   "cell_type": "markdown",
   "metadata": {},
   "source": [
    "#### probability of at least one wrong\n",
    "On a 6 question multiple-choice test, where each question has 2 choices, what is the probability of getting at least one question wrong if the student randomly selects one answer to each question?\n",
    "\n",
    "Give your answer as a simplified fraction."
   ]
  },
  {
   "cell_type": "code",
   "execution_count": 13,
   "metadata": {},
   "outputs": [
    {
     "name": "stdout",
     "output_type": "stream",
     "text": [
      "(63, 64)\n"
     ]
    }
   ],
   "source": [
    "prob_rightanswer = .5\n",
    "questions_count = 6\n",
    "\n",
    "p_all_correct = prob_rightanswer ** questions_count\n",
    "p_at_least_one_wrong = 1 - p_all_correct\n",
    "\n",
    "print(p_at_least_one_wrong.as_integer_ratio())"
   ]
  },
  {
   "cell_type": "markdown",
   "metadata": {},
   "source": [
    "#### probability of two in a row being right\n",
    "Suppose that 18% of people own dogs in the US. If you pick 2 people at random, what is the probability that they each own a dog?\n"
   ]
  },
  {
   "cell_type": "code",
   "execution_count": 14,
   "metadata": {},
   "outputs": [
    {
     "name": "stdout",
     "output_type": "stream",
     "text": [
      "0.0324\n"
     ]
    }
   ],
   "source": [
    "prob_havingdog = .18\n",
    "number_of_picks = 2\n",
    "\n",
    "prob_both_having_dogs = prob_havingdog ** number_of_picks\n",
    "print(prob_both_having_dogs)"
   ]
  },
  {
   "cell_type": "markdown",
   "metadata": {},
   "source": [
    "#### probability with an OR or AND statement\n",
    "Suppose you roll a special balanced 23-sided die numbered 1 through 23. What is the probability that the number rolled is a \"1\" or a \"2\"?\n",
    "\n",
    "Now suppose you roll two balanced 18-sided dice numbered 1 through 18. What is the probability that the number on the first die is a \"3\" and the number on the second die is a \"5\"?"
   ]
  },
  {
   "cell_type": "code",
   "execution_count": 15,
   "metadata": {},
   "outputs": [
    {
     "name": "stdout",
     "output_type": "stream",
     "text": [
      "1 or 2 =  0.08695652173913043\n",
      "3 and 5 =  0.0030864197530864196\n"
     ]
    }
   ],
   "source": [
    "dice_sides1 = 23\n",
    "prob_of_1 = 1/dice_sides1\n",
    "prob_of_2 = 1/dice_sides1\n",
    "prob_of_1_or_2 = prob_of_1+prob_of_2\n",
    "print('1 or 2 = ', prob_of_1_or_2)\n",
    "\n",
    "dice_sides2 = 18\n",
    "prob_of_3 = 1/dice_sides2\n",
    "prob_of_5 = 1/dice_sides2\n",
    "prob_of_3_and_5 = prob_of_3*prob_of_5\n",
    "print('3 and 5 = ', prob_of_3_and_5)\n",
    "\n"
   ]
  },
  {
   "cell_type": "markdown",
   "metadata": {},
   "source": [
    "#### probability with NOT and subsets\n",
    "According to Masterfoods, the company that manufactures M&M’s, 12% of peanut M&M’s are brown, 15% are yellow, 12% are red, 23% are blue, 23% are orange and 15% are green. Complete the following problems and round your answers to three decimal places as needed."
   ]
  },
  {
   "cell_type": "code",
   "execution_count": 17,
   "metadata": {},
   "outputs": [
    {
     "name": "stdout",
     "output_type": "stream",
     "text": [
      "prob of not orange =  0.77\n",
      "prob of green or brown =  0.27\n",
      "prob of 3 orange =  0.012167\n",
      "prob of pick 4 but none are brown =  0.59969536\n",
      "prob of pick 4 but at least 1 is brown =  0.40030464\n"
     ]
    }
   ],
   "source": [
    "prob_brown = .12\n",
    "prob_yellow = .15\n",
    "prob_red = .12\n",
    "prob_blue = .23\n",
    "prob_orange = .23\n",
    "prob_green = .15\n",
    "\n",
    "prob_not_orange = 1 - prob_orange\n",
    "print('prob of not orange = ',prob_not_orange)\n",
    "\n",
    "prob_green_or_brown = prob_green + prob_brown\n",
    "print('prob of green or brown = ',prob_green_or_brown)\n",
    "\n",
    "prob_three_are_orange = prob_orange ** 3\n",
    "print('prob of 3 orange = ',prob_three_are_orange)\n",
    "\n",
    "prob_four_none_brown = (1-prob_brown)**4\n",
    "print('prob of pick 4 but none are brown = ',prob_four_none_brown)\n",
    "\n",
    "#1 minus the probability of none brown\n",
    "prob_four_at_least_one_brown = 1-((1-prob_brown)**4)\n",
    "print('prob of pick 4 but at least 1 is brown = ',prob_four_at_least_one_brown)\n",
    "\n",
    "\n",
    "\n"
   ]
  },
  {
   "cell_type": "markdown",
   "metadata": {},
   "source": [
    "### Bayesian Probability\n"
   ]
  },
  {
   "cell_type": "markdown",
   "metadata": {},
   "source": [
    "#### Simple bayes\n",
    "\n",
    "The probability that a person with certain symptoms has COVD-19 is 0.83. One test being used to confirm this diagnosis gives positive results for 96% of people with the virus and 5% of those without the virus. What is the probability that an individual has these symptoms and tests positively actually has COVID-19?"
   ]
  },
  {
   "cell_type": "code",
   "execution_count": 36,
   "metadata": {},
   "outputs": [
    {
     "name": "stdout",
     "output_type": "stream",
     "text": [
      "probability that an individual has these symptoms and tests positively actually has COVID-19 =  0.9894449273562648\n"
     ]
    }
   ],
   "source": [
    "#P(COVID|Symptoms+TestsPositive)=\n",
    "#P(COVID)*P(Symptoms+TestPositive|COVID) divided by \n",
    "#P(COVID)*P(Symptoms+TestPositive|COVID) + P(notCOVID)*P(Symptoms+TestPositive|notcovid)\n",
    "\n",
    "prob_of_covid_given_symptoms = .83\n",
    "prob_of_NOT_covid_given_symptoms = 1-prob_of_covid_given_symptoms\n",
    "prob_of_positive_given_covid = .96\n",
    "prob_of_positive_given_nocovid = .05\n",
    "\n",
    "#P(COVID)*P(Symptoms+TestPositive|COVID)\n",
    "# chance of having symptons and covid * chance of positive test with virus\n",
    "#.83 * 96\n",
    "tophalf = prob_of_covid_given_symptoms*prob_of_positive_given_covid\n",
    "\n",
    "#P(COVID)*P(Symptoms+TestPositive|COVID) + P(notCOVID)*P(Symptoms+TestPositive|notcovid)\n",
    "#chance of tophalf + chance of incorrect\n",
    "#chance of incorrect is probability of not having covid with those symptons\n",
    "#which is 1 - .83\n",
    "#multiplied by the false positive chance P(positive test|no covid)\n",
    "#which is .05\n",
    "bottomhalf = tophalf + (prob_of_NOT_covid_given_symptoms*prob_of_positive_given_nocovid)\n",
    "prob_of_covid_given_test_positive = tophalf/bottomhalf\n",
    "print('probability that an individual has these symptoms and tests positively actually has COVID-19 = ', prob_of_covid_given_test_positive)\n"
   ]
  },
  {
   "cell_type": "markdown",
   "metadata": {},
   "source": [
    "#### more complex bayes\n",
    "\n",
    "A study showed that 66% of occupants involved in a fatal car crash wore seat belts. Of those in a fatal car crash who wore seat belts, 17% were ejected from the vehicle. For those not wearing seat belts, 49% were ejected from the vehicle. Determine the following probabilities. Round your answers to four decimal places as needed.\n",
    "\n",
    "Find the probability that a randomly selected person in a fatal car crash who was ejected from the vehicle was wearing a seat belt.\n",
    "\n",
    "Find the probability that a randomly selected person in a fatal car crash who was not ejected from the vehicle was not wearing a seatbelt."
   ]
  },
  {
   "cell_type": "code",
   "execution_count": 43,
   "metadata": {},
   "outputs": [
    {
     "name": "stdout",
     "output_type": "stream",
     "text": [
      "in a fatal car crash who was ejected from the vehicle was wearing a seat belt 0.4024390243902439\n",
      "in a fatal car crash who was not ejected from the vehicle was not wearing a seatbelt 0.24043261231281196\n"
     ]
    }
   ],
   "source": [
    "#probability of fatal crash and seat belt\n",
    "prob_seatbelt = .66\n",
    "prob_noseatbelt = 1-prob_seatbelt\n",
    "prob_seatbelt_and_ejected = .17\n",
    "prob_noseatbelt_and_ejected = .49\n",
    "\n",
    "#probability of ejection\n",
    "prob_ejected=(prob_seatbelt*prob_seatbelt_and_ejected)+(prob_noseatbelt*prob_noseatbelt_and_ejected)\n",
    "\n",
    "#probability of no ejection\n",
    "prob_not_ejected = 1 - prob_ejected\n",
    "\n",
    "#probability of wearing seatbelt given ejected\n",
    "#P(seatbelt|ejected) = \n",
    "#P(seatbelt)*P(ejected|seatbelt)\n",
    "#divided by\n",
    "#P(seatbelt)*P(ejected|seatbelt) + P(noSeatBelt)*P(ejected|noSeatbelt)\n",
    "tophalf = prob_seatbelt * prob_seatbelt_and_ejected\n",
    "bottomhalf = tophalf + (prob_noseatbelt * prob_noseatbelt_and_ejected)\n",
    "prob_seatbelt_given_ejected = tophalf/bottomhalf\n",
    "print('in a fatal car crash who was ejected from the vehicle was wearing a seat belt',prob_seatbelt_given_ejected)\n",
    "\n",
    "#probability of NOT wearing seatbelt given NOT ejected\n",
    "#P(noseatbelt|notejected) = \n",
    "#P(noseatbelt)*P(notejected|noseatbelt)\n",
    "#divided by\n",
    "#PP(noseatbelt)*P(notejected|noseatbelt) + P(SeatBelt)*P(ejected|Seatbelt)\n",
    "tophalf1 = prob_noseatbelt * (1-prob_noseatbelt_and_ejected)\n",
    "bottomhalf1 = prob_not_ejected\n",
    "prob_noseatbelt_given_notejected = tophalf1/prob_not_ejected\n",
    "print('in a fatal car crash who was not ejected from the vehicle was not wearing a seatbelt',prob_noseatbelt_given_notejected)\n",
    "\n",
    "\n",
    "\n",
    "\n"
   ]
  },
  {
   "cell_type": "markdown",
   "metadata": {},
   "source": [
    "### Counting\n",
    "\n"
   ]
  },
  {
   "cell_type": "markdown",
   "metadata": {},
   "source": [
    "#### with repetition\n",
    "Standard automobile license plates in a country display 1 numbers, followed by 2 letters, followed by 4 numbers. How many different standard plates are possible in this country? (Assume repetitions of letters and numbers are allowed.)"
   ]
  },
  {
   "cell_type": "code",
   "execution_count": 45,
   "metadata": {},
   "outputs": [
    {
     "name": "stdout",
     "output_type": "stream",
     "text": [
      "total combinations =  67600000\n"
     ]
    }
   ],
   "source": [
    "possibilities=10*26*26*10*10*10*10\n",
    "print('total combinations = ', possibilities)"
   ]
  },
  {
   "cell_type": "markdown",
   "metadata": {},
   "source": [
    "#### order matters\n",
    "\n",
    "You own 15 CDs with different titles. You want to randomly arrange 5 of them in a CD rack. What is the probability that the rack ends up in alphabetical order by title?\n",
    "\n",
    "The probability that the CDs are in alphabetical order is"
   ]
  },
  {
   "cell_type": "code",
   "execution_count": 70,
   "metadata": {},
   "outputs": [
    {
     "name": "stdout",
     "output_type": "stream",
     "text": [
      "The probability that the CDs are in alphabetical order is =  0.00138889\n"
     ]
    }
   ],
   "source": [
    "def factorial(n):\n",
    "    if n == 0:\n",
    "        return 1\n",
    "    else:\n",
    "        recurse = factorial(n - 1)\n",
    "        result = n * recurse\n",
    "        return result\n",
    "\n",
    "possible_combos = factorial(6)\n",
    "right_combo = 1\n",
    "odds = right_combo/possible_combos\n",
    "print('The probability that the CDs are in alphabetical order is = ',format(odds, '.8f'))"
   ]
  },
  {
   "cell_type": "markdown",
   "metadata": {},
   "source": [
    "#### pick x, match y\n",
    "In a particular lottery game, a player picks 9 numbers from 1 to 47. If 8 of the 9 numbers match those drawn, the player wins $100,000. What is the probability of winning $100,000?"
   ]
  },
  {
   "cell_type": "code",
   "execution_count": 86,
   "metadata": {},
   "outputs": [
    {
     "name": "stdout",
     "output_type": "stream",
     "text": [
      "342\n",
      "odds of winning are =  (342, 1362649145)\n"
     ]
    }
   ],
   "source": [
    "from fractions import Fraction\n",
    "def factorial(n):\n",
    "    if n == 0:\n",
    "        return 1\n",
    "    else:\n",
    "        recurse = factorial(n - 1)\n",
    "        result = n * recurse\n",
    "        return result\n",
    "\n",
    "\n",
    "def perm(n, k):\n",
    "    if n == 0:\n",
    "        return 1\n",
    "    if k > n:\n",
    "        return -1\n",
    "    else:\n",
    "        return (factorial(n)) / factorial(n - k)\n",
    "\n",
    "\n",
    "def comb(n, k):\n",
    "    result = perm(n, k)\n",
    "    result = result / factorial(k)\n",
    "    result = int(result)\n",
    "    return result\n",
    "\n",
    "total_numbers = 47\n",
    "numbs_to_choose = 9\n",
    "numbs_to_win = numbs_to_choose - 1\n",
    "losing_numbers = total_numbers - numbs_to_choose\n",
    "combs_of_groups = comb(total_numbers,numbs_to_choose)\n",
    "combs_of_winner = comb(numbs_to_choose,numbs_to_win)*comb(losing_numbers,1)\n",
    "print(combs_of_winner)\n",
    "odds_of_winning = Fraction(combs_of_winner,combs_of_groups)\n",
    "print('odds of winning are = ', odds_of_winning.as_integer_ratio())"
   ]
  },
  {
   "cell_type": "markdown",
   "metadata": {},
   "source": [
    "### Expected Value\n",
    "\n",
    "|probability|scores|\n",
    "|:-:|:-:|\n",
    "|.05|0|\n",
    "|.1|1|\n",
    "|.15|5|\n",
    "|.35|6|\n",
    "|.25|9|\n",
    "|.05|10|\n",
    "|.05|13|"
   ]
  },
  {
   "cell_type": "code",
   "execution_count": 89,
   "metadata": {},
   "outputs": [
    {
     "name": "stdout",
     "output_type": "stream",
     "text": [
      "6.35\n"
     ]
    }
   ],
   "source": [
    "import numpy as np\n",
    "\n",
    "def expected_value(values, weights):\n",
    "    values = np.asarray(values)\n",
    "    weights = np.asarray(weights)\n",
    "    return (values * weights).sum() / weights.sum()\n",
    "\n",
    "scores = [0,1,5,6,9,10,13]\n",
    "probability = [.05,.1,.15,.35,.25,.05,.05]\n",
    "\n",
    "ev = expected_value(scores,probability)\n",
    "print(ev)"
   ]
  },
  {
   "cell_type": "markdown",
   "metadata": {},
   "source": [
    "#### ev of warranty\n",
    "A company estimates that 0.8% of their products will fail after the original warranty period but within 2 years of the purchase, with a replacement cost of $350.\n",
    "\n",
    "If they offer a 2 year extended warranty for $24, what is the company's expected value of each warranty sold?"
   ]
  },
  {
   "cell_type": "code",
   "execution_count": 101,
   "metadata": {},
   "outputs": [
    {
     "name": "stdout",
     "output_type": "stream",
     "text": [
      "32.0\n"
     ]
    }
   ],
   "source": [
    "prob_failure = .005\n",
    "prob_nofail = 1 - prob_failure\n",
    "replacement = 400\n",
    "warranty = 34\n",
    "exp_val = (warranty)-(prob_failure * replacement)\n",
    "print(exp_val)\n"
   ]
  },
  {
   "cell_type": "markdown",
   "metadata": {},
   "source": [
    "## Module 5: Graphs"
   ]
  },
  {
   "cell_type": "markdown",
   "metadata": {},
   "source": [
    "### Basics\n",
    "vertex = how many lines come out\n",
    "\n",
    "connected = every vertice is connected\n",
    "\n",
    "unconnected = if at least two vertices are not connected by a path\n",
    "\n",
    "eulers path = A graph will contain an Euler path if it contains at most two vertices of odd degree.\n",
    "\n",
    "eulers circuit = A graph will contain an Euler circuit if all vertices have even degree\n",
    "\n",
    "eulerize = If a graph has 20 vertices with odd degree (valence), what is the smallest number of edges that would need be duplicated to eulerize the graph? divide by 2\n",
    "\n",
    "eulerize most efficient = find odd vertexes. make cheapest connection directly between them (weight = shortest path)\n",
    "\n",
    "Hamiltonian Circuits and Paths A Hamiltonian circuit is a circuit that visits every vertex once with no repeats. Being a circuit, it must start and end at the same vertex. A Hamiltonian path also visits every vertex once with no repeats, but does not have to start and end at the same vertex\n",
    "\n",
    "Nearest Neighbor Algorithm (NNA) \n",
    "\n",
    "1. Select a starting point. \n",
    "\n",
    "2. Move to the nearest unvisited vertex (the edge with smallest weight). \n",
    "\n",
    "3. Repeat until the circuit is complete.\n",
    "\n",
    "Sorted Edges Algorithm (a.k.a. Cheapest Link Algorithm)  \n",
    "1. Select the cheapest unused edge in the graph. \n",
    "2. Repeat step 1, adding the cheapest unused edge to the circuit, unless: a. adding the edge would create a circuit that doesn’t contain all vertices, or b. adding the edge would give a vertex degree 3. \n",
    "3. Repeat until a circuit containing all vertices is formed\n",
    "\n",
    "\n",
    "Spanning Tree\n",
    "\n",
    "A spanning tree is a connected graph using all vertices in which there are no circuits.\n",
    "\n",
    "In other words, there is a path from any vertex to any other vertex, but no circuits. \n",
    "\n",
    "Kruskal’s Algorithm\n",
    "1. Select the cheapest unused edge in the graph.\n",
    "2. Repeat step 1, adding the cheapest unused edge, unless:\n",
    "a. adding the edge would create a circuit\n",
    "3. Repeat until a spanning tree is formed"
   ]
  },
  {
   "cell_type": "markdown",
   "metadata": {},
   "source": [
    "### shortest path\n",
    "![alt text](graphimage.png \"Title\")\n",
    "\n",
    "Find the shortest path from vertex A to vertex L. Give your answer as a sequence of vertexes, like ABCFIL"
   ]
  },
  {
   "cell_type": "code",
   "execution_count": 2,
   "metadata": {},
   "outputs": [],
   "source": [
    "import string\n",
    "\n",
    "class Node(object):\n",
    "    '''\n",
    "    This is a class that represents a node. The functions of a class are called methods. Instantiations of this class\n",
    "    will create objects that have access to the methods. \n",
    "    \n",
    "    Each method begins with an argument of \"self\" which lets the methos know which object it belongs to.\n",
    "    \n",
    "    For the Node object, we care about the name of the node and a dictionary naming the adjacent nodes. The adjacent\n",
    "    dictionary keys will be the name's of adjacent nodes and the value will be the weight of that edge.\n",
    "    '''\n",
    "    def __init__(self, name):\n",
    "        # The init method is magic python method that get's called when an object is instantiated. \n",
    "        self.name = name  # Take the name given at instantiation and assign it to the object\n",
    "        self.adjacent = {}  # When we create the node, we don't know about any adjacent nodes. Create a placeholder\n",
    "        \n",
    "    def __str__(self):\n",
    "        # When printing a node, format it like this:\n",
    "        return \"Node {}: {}\".format(self.name, self.adjacent)\n",
    "    \n",
    "    def __repr__(self):\n",
    "        # When representing this object, use the str method\n",
    "        return self.__str__()\n",
    "\n",
    "class Graph(object):\n",
    "    '''\n",
    "    This class represents a graph. The graph is consists of a collection of nodes. \n",
    "    '''\n",
    "    def __init__(self, adjacency_matrix=None):\n",
    "        '''\n",
    "        When the graph is instantiated it will not know about any of its member nodes. There is an optional \n",
    "        `adjacency_matrix` argument that defaults to None. If an adjacency_matrix is provided, then we can \n",
    "        create the member nodes, their relationships, and add them to this graph.\n",
    "        '''\n",
    "        self.nodes = {}\n",
    "        if adjacency_matrix:\n",
    "            # We were provided an adjacency matrix\n",
    "            self._create_member_nodes_from_adjacency_matrix(adjacency_matrix)\n",
    "            \n",
    "    def __str__(self):\n",
    "        return '\\n'.join([str(n) for n in self.nodes.values()])\n",
    "    \n",
    "    def __repr__(self):\n",
    "        return self.__str__()\n",
    "    \n",
    "    def _create_member_nodes_from_adjacency_matrix(self, adjacency_matrix):\n",
    "        # A preceeding underscore indicetes a method that is only called within the class. \n",
    "        # Create nodes and weights from an adjacency matrix (list of lists) and assign them to this graph\n",
    "        letters = list(string.ascii_lowercase)  # Get a list of letters to assign to the nodes we create\n",
    "        needed_letters = len(adjacency_matrix)\n",
    "        if needed_letters > len(letters):\n",
    "            # Give the user an error that the input matrix is too large to have \n",
    "            raise ValueError(\"The matrix is too large to create from 26 letters. Please manually assign names to nodes and then add them to the graph.\")\n",
    "        \n",
    "        for i, row in enumerate(adjacency_matrix):  # get an index of the row and the contentx of the row\n",
    "            letter_name = letters[i]\n",
    "            node = Node(letter_name)\n",
    "            for j, column_value in enumerate(row):\n",
    "                if column_value != 0:  # There is an adjacent node here\n",
    "                    adjacent_letter_name = letters[j]\n",
    "                    node.adjacent[adjacent_letter_name] = column_value\n",
    "            self.nodes[letter_name] = node\n",
    "            \n",
    "    def get_distance_of_path(self, path):\n",
    "        # Given a list of node names within the graph, find its distance using the node adjacency measures\n",
    "        distance = 0\n",
    "        for i, node_name in enumerate(path[:-1]):\n",
    "            # Gets the index and node name for each in the path except for the last one\n",
    "            this_node = self.nodes[node_name]\n",
    "            next_node = self.nodes[path[i+1]]\n",
    "            distance += this_node.adjacent[next_node.name]  # Get the distance from this_node to next node\n",
    "        \n",
    "        return distance\n",
    "    \n",
    "    def find_all_paths_between(self, a, b, path=None):\n",
    "        if not path:\n",
    "            # No path list provided, create one\n",
    "            path = []\n",
    "\n",
    "        path = path + [a] # Add a to the path\n",
    "\n",
    "        if a == b:  # This is a path to itself, at the end of a path\n",
    "            return [path]\n",
    "        if a not in self.nodes:  # a could not be found in the graph\n",
    "            return []\n",
    "        paths = []\n",
    "        for node in self.nodes[a].adjacent:  # look to adjacent nodes of a\n",
    "            if node not in path:\n",
    "                newpaths = self.find_all_paths_between(node, b, path)  # Recursivly go down another level\n",
    "                for newpath in newpaths:\n",
    "                    paths.append(newpath)\n",
    "        return paths\n",
    "    \n",
    "    def shortest_path(self, a, b):\n",
    "        # Get the distance of each weighted path and return the shortest\n",
    "        all_paths = self.find_all_paths_between(a, b)\n",
    "        \n",
    "        if not all_paths:\n",
    "            return []\n",
    "        \n",
    "        # The shortest path will be the first path in the list\n",
    "        shortest_path = None\n",
    "        shortest_distance = None\n",
    "        \n",
    "        for path in all_paths:\n",
    "            p_distance = self.get_distance_of_path(path)\n",
    "            if not shortest_distance or p_distance < shortest_distance:\n",
    "                # This path is shorter\n",
    "                shortest_path = path\n",
    "                shortest_distance = p_distance\n",
    "                \n",
    "        return shortest_path\n",
    "    \n",
    "    def is_tree(self):\n",
    "        # returns True if the graph is a tree, otherwise False\n",
    "        \n",
    "        node_names = list(self.nodes.keys())\n",
    "        first = node_names[0]  # Make sure the first node has a path to all other nodes\n",
    "        second = node_names[1]  # Used to determine if acyclic\n",
    "        \n",
    "        for node in node_names:\n",
    "            if node == first:\n",
    "                continue  # Don't compare it against itself\n",
    "            if not self.find_all_paths_between(first, node):\n",
    "                return False  # No path was found between first and node, this must not be a tree\n",
    "            \n",
    "        # Check if cyclic. Trees must be acyclic.\n",
    "        paths_back = self.find_all_paths_between(first, second)\n",
    "        adjacent = [first, second] in paths_back\n",
    "        for p in paths_back:\n",
    "            if set(p) == set(node_names) and adjacent:\n",
    "                # This path contains each node and returns to itself. It is cyclic\n",
    "                return False\n",
    "        \n",
    "        return True\n",
    "        "
   ]
  },
  {
   "cell_type": "code",
   "execution_count": null,
   "metadata": {},
   "outputs": [],
   "source": [
    "matrix = [\n",
    "    # Distance to \n",
    "    # A   B   C   D   E   F   G   H   I   J   K   L\n",
    "    [ 0,  12, 0,   1, 0,  0,  0,  0,  0,  0,  0,  0],  # Node A distances to [A, B, C, D, E, F, G, G, I, J, K]\n",
    "    [ 9,  0,  13, 0,  12, 0,  0,  0,  0,  0,  0,  0],  # B\n",
    "    [ 0,  13, 0,  0,  0,  24, 0,  0,  0,  0,  0,  0],  # C\n",
    "    [ 14, 0,  0,  0,  10, 0,  8,  0,  0,  0,  0,  0],  # D\n",
    "    [ 0,  12, 0,  10, 0,  30, 0,  20, 0,  0,  0,  0],  # E\n",
    "    [ 0,  0,  24, 0,  30, 0,  0,  0,  23, 0,  0,  0],  # F\n",
    "    [ 0,  0,  0,  8,  0,  0,  0,  29, 0,  22, 0,  0],  # G\n",
    "    [ 0,  0,  0,  0,  20, 0,  29, 0,  2,  0,  15, 0],  # H\n",
    "    [ 0,  0,  0,  0,  0,  23, 0,  2,  0,  0,  0,  1],  # I\n",
    "    [ 0,  0,  0,  0,  0,  0,  22, 0,  0,  0,  4,  0],  # J\n",
    "    [ 0,  0,  0,  0,  0,  0,  0,  15, 0,  4,  0,  17],  # K\n",
    "    [ 0,  0,  0,  0,  0,  0,  0,  0,  1,  0,  17, 0],  # L\n",
    "] \n",
    "\n",
    "g = Graph(matrix)\n",
    "g.shortest_path('a', 'l')"
   ]
  },
  {
   "cell_type": "code",
   "execution_count": 123,
   "metadata": {},
   "outputs": [
    {
     "name": "stdout",
     "output_type": "stream",
     "text": [
      "12\n",
      "[0, 12, 0, 1, 0, 0, 0, 0, 0, 0, 0, 0] 12\n",
      "[12, 0, 22, 0, 13, 0, 0, 0, 0, 0, 0, 0] 12\n",
      "[0, 22, 0, 0, 0, 9, 0, 0, 0, 0, 0, 0] 12\n",
      "[1, 0, 0, 0, 29, 0, 19, 0, 0, 0, 0, 0] 12\n",
      "[0, 13, 0, 29, 0, 27, 0, 21, 0, 0, 0, 0] 12\n",
      "[0, 0, 9, 0, 27, 0, 0, 0, 3, 0, 0, 0] 12\n",
      "[0, 0, 0, 19, 0, 0, 0, 30, 0, 5, 0, 0] 12\n",
      "[0, 0, 0, 0, 21, 0, 30, 0, 15, 0, 0, 0] 12\n",
      "[0, 0, 0, 0, 0, 3, 0, 15, 0, 0, 0, 17] 12\n",
      "[0, 0, 0, 0, 0, 0, 5, 0, 0, 0, 25, 0] 12\n",
      "[0, 0, 0, 0, 0, 0, 0, 2, 0, 25, 0, 26] 12\n",
      "[0, 0, 0, 0, 0, 0, 0, 0, 17, 0, 26, 0] 12\n"
     ]
    },
    {
     "data": {
      "text/plain": [
       "['a', 'b', 'c', 'f', 'i', 'l']"
      ]
     },
     "execution_count": 123,
     "metadata": {},
     "output_type": "execute_result"
    }
   ],
   "source": [
    "a_connectors = [0,12,0,1,0,0,0,0,0,0,0,0]\n",
    "b_connectors = [12,0,22,0,13,0,0,0,0,0,0,0]\n",
    "c_connectors = [0,22,0,0,0,9,0,0,0,0,0,0]\n",
    "d_connectors = [1,0,0,0,29,0,19,0,0,0,0,0]\n",
    "e_connectors = [0,13,0,29,0,27,0,21,0,0,0,0]\n",
    "f_connectors = [0,0,9,0,27,0,0,0,3,0,0,0]\n",
    "g_connectors = [0,0,0,19,0,0,0,30,0,5,0,0]\n",
    "h_connectors = [0,0,0,0,21,0,30,0,15,0,0,0]\n",
    "i_connectors = [0,0,0,0,0,3,0,15,0,0,0,17]\n",
    "j_connectors = [0,0,0,0,0,0,5,0,0,0,25,0]\n",
    "k_connectors = [0,0,0,0,0,0,0,2,0,25,0,26]\n",
    "l_connectors = [0,0,0,0,0,0,0,0,17,0,26,0]\n",
    "#use the checker below to make sure your matrix has the right length of 12\n",
    "#print(len(b_connectors))\n",
    "matrix = [a_connectors,b_connectors,c_connectors,d_connectors,e_connectors,f_connectors,g_connectors,h_connectors,i_connectors,j_connectors,k_connectors,l_connectors]\n",
    "#check that you have 12 sets of connected vertices\n",
    "print(len(matrix))\n",
    "#check that each has 12\n",
    "for i in matrix:\n",
    "    print(i,len(i))\n",
    "\n",
    "g = Graph(matrix)\n",
    "g.shortest_path('a', 'l')"
   ]
  },
  {
   "cell_type": "markdown",
   "metadata": {},
   "source": [
    "#### more shortest path\n",
    "![alt text](graph2.png \"Title\")"
   ]
  },
  {
   "cell_type": "code",
   "execution_count": 2,
   "metadata": {},
   "outputs": [
    {
     "name": "stdout",
     "output_type": "stream",
     "text": [
      "The shortest way from A -> B is via ['a', 'c', 'd', 'b'] with a distance of 26\n"
     ]
    }
   ],
   "source": [
    "# This time we instantiate the Node and Graph without the matrix\n",
    "a, b, c, d, e = Node('a'), Node('b'), Node('c'), Node('d'), Node('e')\n",
    "a.adjacent = {'c': 6, 'd': 19, 'e': 14}\n",
    "b.adjacent = {'c': 25, 'd':15, 'e': 21}\n",
    "c.adjacent = {'a': 6, 'b': 25, 'd': 5, 'e': 4}\n",
    "d.adjacent = {'a': 19, 'b': 15, 'c': 5, 'e': 20}\n",
    "e.adjacent = {'a': 14, 'b': 21, 'c': 4, 'd': 20}\n",
    "\n",
    "g = Graph()\n",
    "g.nodes = {n.name: n for n in [a, b, c, d, e]}\n",
    "\n",
    "path = g.shortest_path('a', 'b')\n",
    "distance = g.get_distance_of_path(path)\n",
    "\n",
    "print(f\"The shortest way from A -> B is via {path} with a distance of {distance}\")"
   ]
  },
  {
   "cell_type": "markdown",
   "metadata": {},
   "source": [
    "#### no repeat\n",
    "![alt text](doorwaysgraph.png \"Title\")"
   ]
  },
  {
   "cell_type": "code",
   "execution_count": 5,
   "metadata": {},
   "outputs": [
    {
     "name": "stdout",
     "output_type": "stream",
     "text": [
      "[['f']]\n"
     ]
    }
   ],
   "source": [
    "# This time we instantiate the Node and Graph without the matrix\n",
    "a, b, c, d, e, f = Node('a'), Node('b'), Node('c'), Node('d'), Node('e'), Node('f')\n",
    "a.adjacent = {'d': 1, 'f': 1}\n",
    "b.adjacent = {'e':1, 'f': 1}\n",
    "c.adjacent = {'d': 1, 'f': 1}\n",
    "d.adjacent = {'a': 1, 'c': 1, 'f': 1, 'f': 1}\n",
    "e.adjacent = {'b': 1, 'f': 1}\n",
    "f.adjacent = {'a': 1, 'b': 1, 'c': 1, 'd': 1, 'd': 1, 'e': 1, 'e': 1}\n",
    "\n",
    "g = Graph()\n",
    "g.nodes = {n.name: n for n in [a, b, c, d, e, f]}\n",
    "\n",
    "path = g.find_all_paths_between('f', 'f')\n",
    "print(path)\n"
   ]
  },
  {
   "cell_type": "markdown",
   "metadata": {},
   "source": [
    "## Calculus"
   ]
  },
  {
   "cell_type": "markdown",
   "metadata": {},
   "source": [
    "### Single Limit\n",
    "Find the following limit:\n",
    "    \n",
    "$$\\lim_{x \\to 8} \\frac{x^3 - 6x^2 - 17x + 8}{x-8}$$ \n",
    "    \n"
   ]
  },
  {
   "cell_type": "code",
   "execution_count": 16,
   "metadata": {},
   "outputs": [
    {
     "name": "stdout",
     "output_type": "stream",
     "text": [
      "79\n"
     ]
    }
   ],
   "source": [
    "from sympy import Symbol, limit\n",
    "\n",
    "#define the symbol being used\n",
    "x = Symbol('x')\n",
    "\n",
    "#define the actual function\n",
    "f_x = (x**3 - 6*x**2 - 17*x + 8) / (x-8)\n",
    "\n",
    "#find the limit\n",
    "#limit(function,symbol,the number approached)\n",
    "#function below is saying for f_x, as x approaches 8 what is the limit\n",
    "li = limit(f_x, x, 8)\n",
    "print(li)"
   ]
  },
  {
   "cell_type": "markdown",
   "metadata": {},
   "source": [
    "### Piecewise Limit\n",
    "\n",
    "$$ f(x)=   \\left\\{\n",
    "\\begin{array}{ll}\n",
    "      -\\frac{12}{x+3} & x<-1 \\\\\n",
    "      -6 & x=-1 \\\\\n",
    "      \\frac{6}{x} & x>-1 \\\\\n",
    "\\end{array} \n",
    "\\right.  $$\n",
    "\n",
    "Rules to remember:\n",
    "\n",
    "If all three are defined & equal for $x$, then $f(x)$ is continuous at the given $x$"
   ]
  },
  {
   "cell_type": "code",
   "execution_count": 4,
   "metadata": {},
   "outputs": [
    {
     "data": {
      "image/png": "[encoded data removed]",
      "text/plain": [
       "<Figure size 640x480 with 1 Axes>"
      ]
     },
     "metadata": {},
     "output_type": "display_data"
    },
    {
     "name": "stdout",
     "output_type": "stream",
     "text": [
      "from - -6\n",
      "from + -6\n",
      "-6\n",
      "Approaching from negative infinity -6\n",
      "Approaching from positive infinity -6\n"
     ]
    }
   ],
   "source": [
    "#\n",
    "from sympy import Symbol, limit, Piecewise\n",
    "from sympy.plotting import plot\n",
    "\n",
    "#define the symbol\n",
    "x = Symbol('x')\n",
    "\n",
    "#define the piecewise function\n",
    "#it should be input as Piecewise((function1,constraint),(function2,constraint2))\n",
    "f_x = Piecewise((-1*(12/(x+3)), x < -1),(-6, x == 1),(6/x,  x > -1))\n",
    "\n",
    "#figure out how to get the plot to actually work\n",
    "plot(f_x, ylim = (-10, 7))\n",
    "print('from -',f_x.limit(x, -1, '+'))\n",
    "print('from +',f_x.limit(x, -1, '-'))\n",
    "\n",
    "#print the limit\n",
    "print(f_x.limit(x, -1))\n",
    "print(\"Approaching from negative infinity\", limit(f_x,x,-1,\"-\"))\n",
    "print(\"Approaching from positive infinity\", limit(f_x,x,-1,\"+\"))\n"
   ]
  },
  {
   "cell_type": "markdown",
   "metadata": {},
   "source": [
    "### find the derviative"
   ]
  },
  {
   "cell_type": "code",
   "execution_count": null,
   "metadata": {},
   "outputs": [],
   "source": [
    "from sympy import Symbol, diff, lambdify\n",
    "from IPython.display import display\n",
    "\n",
    "t = Symbol('t')\n",
    "p = 2*t**3 + 27*t**2 + 120*t + 6\n",
    "der_f = p.diff(t)\n",
    "func_der_f = lambdify(t, der_f)\n",
    "\n",
    "\n",
    "display(der_f)\n",
    "\n",
    "print(\"The rate of change at t=7 is \",func_der_f(3))\n"
   ]
  },
  {
   "cell_type": "markdown",
   "metadata": {},
   "source": [
    "### finding absolute min max"
   ]
  },
  {
   "cell_type": "code",
   "execution_count": 18,
   "metadata": {},
   "outputs": [
    {
     "data": {
      "image/png": "[encoded data removed]",
      "text/plain": [
       "<Figure size 640x480 with 1 Axes>"
      ]
     },
     "metadata": {},
     "output_type": "display_data"
    },
    {
     "name": "stdout",
     "output_type": "stream",
     "text": [
      "(x,y) max =  13.000000000029104 , 16398.000000201282\n",
      "(x,y) min =  5.999980000017786 , -1290.9999999424003\n"
     ]
    }
   ],
   "source": [
    "import numpy as np\n",
    "import matplotlib.pyplot as plt\n",
    "\n",
    "def extrema(a, b, c):\n",
    "    x = max(a, b, c)\n",
    "    z = min(a, b, c)\n",
    "    epsilon = 0.0000001  # This is a safeguard against minor differences.\n",
    "    result = False\n",
    "    if abs(b - x) < epsilon:\n",
    "        result = True\n",
    "    if abs(b - z) < epsilon:\n",
    "        result = True\n",
    "    return result\n",
    "\n",
    "def f(x):\n",
    "    y = (x ** 4) - (72 * x ** 2) + 5\n",
    "    return y\n",
    "\n",
    "xa = -5.0\n",
    "xb = +13.0\n",
    "\n",
    "n = 100000\n",
    "delta = (xb - xa) / n\n",
    "x = np.arange(xa, xb + delta, delta)\n",
    "y = f(x)\n",
    "\n",
    "value = [False]  # This defines the list value which will contain Boolean values.\n",
    "value = value * len(x)  # This expands the list to the length of x.\n",
    "\n",
    "L = len(x)\n",
    "value[0] = True  # This will correspond to one endpoint.\n",
    "value[L - 1] = True  # This corresponds to the other.\n",
    "\n",
    "for x_index in range(L - 2):\n",
    "    first_x = x[x_index]\n",
    "    second_x = x[x_index + 1]\n",
    "    third_x = x[x_index + 2]\n",
    "    a = f(first_x)\n",
    "    b = f(second_x)\n",
    "    c = f(third_x)\n",
    "    is_second_x_extrema = extrema(a, b, c)\n",
    "    value[x_index + 1] = is_second_x_extrema\n",
    "\n",
    "for k in range(L - 2):\n",
    "    value[k + 1] = extrema(f(x[k]), f(x[k + 1]), f(x[k + 2]))\n",
    "\n",
    "max_value = max(y)  # We check the list to find the global maxima.\n",
    "min_value = min(y)  # We check the list to find the global minima.\n",
    "\n",
    "error = 0.0000001  # The error parameter guards against roundoff error.\n",
    "# The code which follows assigns colors to maxima and minima and plots them.\n",
    "\n",
    "plt.figure()\n",
    "for k in range(L):\n",
    "    if value[k] is True:\n",
    "        plt.scatter(x[k], y[k], s=60, c='y')\n",
    "        if abs(max_value - y[k]) < error:\n",
    "            plt.scatter(x[k], y[k], s=60, c='r')\n",
    "            xmax = x[k]\n",
    "            ymax = y[k]\n",
    "        if abs(min_value - y[k]) < error:\n",
    "            plt.scatter(x[k], y[k], s=60, c='b')\n",
    "            xmin = x[k]\n",
    "            ymin = y[k]\n",
    "            \n",
    "\n",
    "plt.plot(x, y, c='k')  # This plots the line on the chart.\n",
    "plt.xlabel('x-axis')\n",
    "plt.ylabel('y-axis')\n",
    "plt.title('Plot Showing Absolute and Relative Extrema')\n",
    "plt.show()\n",
    "\n",
    "print('(x,y) max = ',xmax,',',max_value)\n",
    "print('(x,y) min = ',xmin,',',min_value)"
   ]
  },
  {
   "cell_type": "markdown",
   "metadata": {},
   "source": [
    "### 1 local max, 1 local min"
   ]
  },
  {
   "cell_type": "code",
   "execution_count": 19,
   "metadata": {},
   "outputs": [
    {
     "name": "stdout",
     "output_type": "stream",
     "text": [
      "Extreme values are {-5, -4} at y values of [-169, -170] respectively\n"
     ]
    }
   ],
   "source": [
    "# 2\n",
    "from sympy import Symbol, solveset, lambdify, Interval, oo  # oo is sympys representation of Infinity\n",
    "from sympy.plotting import plot\n",
    "from math import floor\n",
    "\n",
    "x = Symbol('x')  # Set a symbol\n",
    "P = 2*x**3 + 27*x**2 + 120*x + 6   # Equation for rents\n",
    "P_fun = lambdify(x, P)\n",
    "der_P = P.diff(x)  # derivitive of F\n",
    "\n",
    "dRoots = solveset(der_P, x, Interval(-5, 5)) # Find the roots of our derivitive where x is between -5 and 5\n",
    "y_vals = [P_fun(r) for r in dRoots]\n",
    "print(f\"Extreme values are {dRoots} at y values of {y_vals} respectively\") # gives a set with a single extrema, this is our answer\n"
   ]
  },
  {
   "cell_type": "markdown",
   "metadata": {},
   "source": [
    "### Rolle's theorem\n",
    "\n",
    "if a function crosses a y point 2x, like a parabola, at some point there is a place where $f'(x)=0$"
   ]
  },
  {
   "cell_type": "code",
   "execution_count": 41,
   "metadata": {},
   "outputs": [
    {
     "data": {
      "text/latex": [
       "$\\displaystyle 6 x + 18$"
      ],
      "text/plain": [
       "6*x + 18"
      ]
     },
     "metadata": {},
     "output_type": "display_data"
    },
    {
     "name": "stdout",
     "output_type": "stream",
     "text": [
      "The vaue at t=-6 is  53\n",
      "The vaue at t=-0 is  53\n"
     ]
    }
   ],
   "source": [
    "from sympy import Symbol, diff, lambdify, solve\n",
    "from IPython.display import display\n",
    "\n",
    "x = Symbol('x')\n",
    "y = 3*x**2 + 18*x + 5\n",
    "der_f = y.diff(x)\n",
    "func_der_f = lambdify(x, der_f)\n",
    "funct = lambdify(x,y)\n",
    "\n",
    "\n",
    "display(der_f)\n",
    "\n",
    "print(\"The vaue at t=-6 is \",funct(-8))\n",
    "print(\"The vaue at t=-0 is \",funct(2))\n",
    "\n",
    "solve(der_f)\n"
   ]
  },
  {
   "cell_type": "markdown",
   "metadata": {},
   "source": [
    "### General Mean Value Theorem\n",
    "\n",
    "$$f'(c) = \\frac{f(b) - f(a)}{b - a}$$ "
   ]
  },
  {
   "cell_type": "code",
   "execution_count": 53,
   "metadata": {},
   "outputs": [
    {
     "name": "stdout",
     "output_type": "stream",
     "text": [
      "c =  [2.61803398874989]\n",
      "slope =  0.6180339887498949\n"
     ]
    }
   ],
   "source": [
    "from sympy import Symbol, diff, lambdify, solve, sqrt\n",
    "from IPython.display import display\n",
    "\n",
    "#for a sqrt func\n",
    "\n",
    "x = Symbol('x')\n",
    "y = 2*sqrt(x) + 6\n",
    "der_f = y.diff(x)\n",
    "\n",
    "yfunc = lambdify(x,y)\n",
    "\n",
    "xa = 1\n",
    "xb = 5\n",
    "\n",
    "fb = yfunc(xb)\n",
    "fa = yfunc(xa)\n",
    "\n",
    "ydiff_equals = (fb-fa)/(xb-xa)\n",
    "\n",
    "newfunct = der_f - ydiff_equals\n",
    "\n",
    "\n",
    "print('c = ', solve(newfunct))\n",
    "print('slope = ',ydiff_equals)\n",
    "\n",
    "\n",
    "\n",
    "#display(der_f)\n",
    "\n",
    "#solve(der_f,ydiff_equals)\n"
   ]
  },
  {
   "cell_type": "code",
   "execution_count": 55,
   "metadata": {},
   "outputs": [
    {
     "name": "stdout",
     "output_type": "stream",
     "text": [
      "c =  [-2.64575131106459, 2.64575131106459]\n",
      "slope =  17.0\n"
     ]
    },
    {
     "data": {
      "text/plain": [
       "[-2.64575131106459, 2.64575131106459]"
      ]
     },
     "metadata": {},
     "output_type": "display_data"
    }
   ],
   "source": [
    "from sympy import Symbol, diff, lambdify, solve, sqrt\n",
    "from IPython.display import display\n",
    "\n",
    "#for a expo func\n",
    "\n",
    "x = Symbol('x')\n",
    "y = x**3 - 4*x\n",
    "der_f = y.diff(x)\n",
    "\n",
    "yfunc = lambdify(x,y)\n",
    "\n",
    "xa = 1\n",
    "xb = 4\n",
    "\n",
    "fb = yfunc(xb)\n",
    "fa = yfunc(xa)\n",
    "\n",
    "ydiff_equals = (fb-fa)/(xb-xa)\n",
    "\n",
    "newfunct = der_f - ydiff_equals\n",
    "\n",
    "\n",
    "print('c = ', solve(newfunct))\n",
    "print('slope = ',ydiff_equals)\n",
    "\n",
    "\n",
    "#display(der_f)\n",
    "\n",
    "#solve(der_f,ydiff_equals)\n"
   ]
  },
  {
   "cell_type": "code",
   "execution_count": 31,
   "metadata": {},
   "outputs": [
    {
     "data": {
      "image/png": "[encoded data removed]",
      "text/plain": [
       "<Figure size 640x480 with 1 Axes>"
      ]
     },
     "metadata": {},
     "output_type": "display_data"
    },
    {
     "name": "stdout",
     "output_type": "stream",
     "text": [
      "(x,y) max =  -5.999799999986896 , 77.0\n",
      "(x,y) min =  -3.999999999973795 , 68.99999999979036\n"
     ]
    }
   ],
   "source": [
    "import numpy as np\n",
    "import matplotlib.pyplot as plt\n",
    "\n",
    "def extrema(a, b, c):\n",
    "    x = max(a, b, c)\n",
    "    z = min(a, b, c)\n",
    "    epsilon = 0.0000001  # This is a safeguard against minor differences.\n",
    "    result = False\n",
    "    if abs(b - x) < epsilon:\n",
    "        result = True\n",
    "    if abs(b - z) < epsilon:\n",
    "        result = True\n",
    "    return result\n",
    "\n",
    "def f(x):\n",
    "    y = -2*x**2 - 24*x + 5\n",
    "    return y\n",
    "\n",
    "xa = -8\n",
    "xb = -4\n",
    "\n",
    "n = 100000\n",
    "delta = (xb - xa) / n\n",
    "x = np.arange(xa, xb + delta, delta)\n",
    "y = f(x)\n",
    "\n",
    "value = [False]  # This defines the list value which will contain Boolean values.\n",
    "value = value * len(x)  # This expands the list to the length of x.\n",
    "\n",
    "L = len(x)\n",
    "value[0] = True  # This will correspond to one endpoint.\n",
    "value[L - 1] = True  # This corresponds to the other.\n",
    "\n",
    "for x_index in range(L - 2):\n",
    "    first_x = x[x_index]\n",
    "    second_x = x[x_index + 1]\n",
    "    third_x = x[x_index + 2]\n",
    "    a = f(first_x)\n",
    "    b = f(second_x)\n",
    "    c = f(third_x)\n",
    "    is_second_x_extrema = extrema(a, b, c)\n",
    "    value[x_index + 1] = is_second_x_extrema\n",
    "\n",
    "for k in range(L - 2):\n",
    "    value[k + 1] = extrema(f(x[k]), f(x[k + 1]), f(x[k + 2]))\n",
    "\n",
    "max_value = max(y)  # We check the list to find the global maxima.\n",
    "min_value = min(y)  # We check the list to find the global minima.\n",
    "\n",
    "error = 0.0000001  # The error parameter guards against roundoff error.\n",
    "# The code which follows assigns colors to maxima and minima and plots them.\n",
    "\n",
    "plt.figure()\n",
    "for k in range(L):\n",
    "    if value[k] is True:\n",
    "        plt.scatter(x[k], y[k], s=60, c='y')\n",
    "        if abs(max_value - y[k]) < error:\n",
    "            plt.scatter(x[k], y[k], s=60, c='r')\n",
    "            xmax = x[k]\n",
    "            ymax = y[k]\n",
    "        if abs(min_value - y[k]) < error:\n",
    "            plt.scatter(x[k], y[k], s=60, c='b')\n",
    "            xmin = x[k]\n",
    "            ymin = y[k]\n",
    "            \n",
    "\n",
    "plt.plot(x, y, c='k')  # This plots the line on the chart.\n",
    "plt.xlabel('x-axis')\n",
    "plt.ylabel('y-axis')\n",
    "plt.title('Plot Showing Absolute and Relative Extrema')\n",
    "plt.show()\n",
    "\n",
    "print('(x,y) max = ',xmax,',',max_value)\n",
    "print('(x,y) min = ',xmin,',',min_value)"
   ]
  },
  {
   "cell_type": "markdown",
   "metadata": {},
   "source": [
    "### Visually determining concave up or down and local min/max"
   ]
  },
  {
   "cell_type": "code",
   "execution_count": 58,
   "metadata": {},
   "outputs": [
    {
     "name": "stdout",
     "output_type": "stream",
     "text": [
      "First derivitive is 12*x**2 + 24*x - 96\n",
      "Second derivitive is 24*x + 24\n",
      "g''(-5) = -72\n"
     ]
    },
    {
     "data": {
      "image/png": "[encoded data removed]",
      "text/plain": [
       "<Figure size 640x480 with 1 Axes>"
      ]
     },
     "metadata": {},
     "output_type": "display_data"
    },
    {
     "name": "stdout",
     "output_type": "stream",
     "text": [
      "We can visually verify our interpretation of concave down and a maxima\n"
     ]
    }
   ],
   "source": [
    "# 7\n",
    "from sympy import Symbol, lambdify, plotting\n",
    "\n",
    "x = Symbol('x')\n",
    "g = 4 * x **3 + 12 * x**2 - 96 * x\n",
    "g_first = g.diff(x)\n",
    "g_second = g_first.diff(x)\n",
    "\n",
    "print(f\"First derivitive is {g_first}\")\n",
    "print(f\"Second derivitive is {g_second}\")\n",
    "\n",
    "g_first_f = lambdify(x, g_first)\n",
    "g_second_f = lambdify(x, g_second)\n",
    "\n",
    "p1 = g_second_f(-4)\n",
    "\n",
    "print(f\"g''(-5) = {p1}\")\n",
    "\n",
    "gp = plotting.plot(g, show=False, ylim=(-1000, 1000), line_color='b', label='g', legend=True)\n",
    "gp1 = plotting.plot(g_first, show=False, line_color='r', label=\"g'\")\n",
    "gp2 = plotting.plot(g_second, show=False, line_color='g', label=\"g''\")\n",
    "\n",
    "gp.append(gp1[0])\n",
    "gp.append(gp2[0])\n",
    "gp.show()\n",
    "\n",
    "print(\"We can visually verify our interpretation of concave down and a maxima\")"
   ]
  },
  {
   "cell_type": "markdown",
   "metadata": {},
   "source": [
    "### four intervals\n",
    "\n",
    "consider $f(x) = 2x + 2x^{-1}$\n",
    "\n",
    "$(-\\infty, A)$, $(A,B)$,$(B,C)$,$(C,\\infty)$\n",
    "\n",
    "where $A$ and $C$ are critical numbers and the function is not defined at $B$\n"
   ]
  },
  {
   "cell_type": "code",
   "execution_count": 64,
   "metadata": {},
   "outputs": [
    {
     "name": "stdout",
     "output_type": "stream",
     "text": [
      "Extreme values are {-1, 1} at y values of [-4, 4] respectively\n"
     ]
    },
    {
     "data": {
      "image/png": "[encoded data removed]",
      "text/plain": [
       "<Figure size 640x480 with 1 Axes>"
      ]
     },
     "metadata": {},
     "output_type": "display_data"
    }
   ],
   "source": [
    "from sympy import Symbol, lambdify, plotting, Interval, oo\n",
    "from sympy.plotting import plot\n",
    "from math import floor\n",
    "\n",
    "x = Symbol('x')\n",
    "fx = 2*x + 2*x**-1\n",
    "\n",
    "func = lambdify(x,fx)\n",
    "fder = fx.diff(x)\n",
    "\n",
    "dRoots = solveset(fder, x, Interval(-oo, oo)) # Find the roots of our derivitive where x is between -5 and 5\n",
    "y_vals = [func(r) for r in dRoots]\n",
    "print(f\"Extreme values are {dRoots} at y values of {y_vals} respectively\") # gives a set with a single extrema, this is our answer\n",
    "\n",
    "gp = plotting.plot(fx, show=False, ylim=(-10, 10), line_color='b', label='f', legend=True)\n",
    "gp1 = plotting.plot(fder, show=False, line_color='r', label=\"f'\")\n",
    "\n",
    "gp.append(gp1[0])\n",
    "gp.show()\n"
   ]
  },
  {
   "cell_type": "markdown",
   "metadata": {},
   "source": [
    "### find critical number and plotting it\n",
    "\n",
    "consider $$f(x)=8(x-5)^\\frac{2}{3}$$"
   ]
  },
  {
   "cell_type": "code",
   "execution_count": 78,
   "metadata": {},
   "outputs": [
    {
     "name": "stdout",
     "output_type": "stream",
     "text": [
      "Extreme values are EmptySet at y values of [] respectively\n"
     ]
    },
    {
     "name": "stderr",
     "output_type": "stream",
     "text": [
      "<string>:1: RuntimeWarning: invalid value encountered in double_scalars\n"
     ]
    },
    {
     "data": {
      "image/png": "[encoded data removed]",
      "text/plain": [
       "<Figure size 640x480 with 1 Axes>"
      ]
     },
     "metadata": {},
     "output_type": "display_data"
    }
   ],
   "source": [
    "from sympy import Symbol, lambdify, plotting, Interval, oo, solve\n",
    "from sympy.plotting import plot\n",
    "from math import floor\n",
    "\n",
    "x = Symbol('x')\n",
    "fx = 8*(x-5)**(2/3)\n",
    "\n",
    "func = lambdify(x,fx)\n",
    "fder = fx.diff(x)\n",
    "\n",
    "\n",
    "#Roots = solve(func)\n",
    "dRoots = solveset(fder, x, Interval(-5, 5)) # Find the roots of our derivitive where x is between -5 and 5\n",
    "y_vals = [func(r) for r in dRoots]\n",
    "print(f\"Extreme values are {dRoots} at y values of {y_vals} respectively\") # gives a set with a single extrema, this is our answer\n",
    "\n",
    "gp = plotting.plot(fx, show=False, xlim= (-10,10),ylim=(-10, 10), line_color='b', label='f', legend=True)\n",
    "#gp1 = plotting.plot(fder, show=False, line_color='r', label=\"f'\")\n",
    "\n",
    "#gp.append(gp1[0])\n",
    "gp.show()\n"
   ]
  },
  {
   "cell_type": "markdown",
   "metadata": {},
   "source": [
    "### limit from infinity"
   ]
  },
  {
   "cell_type": "code",
   "execution_count": 82,
   "metadata": {},
   "outputs": [
    {
     "name": "stdout",
     "output_type": "stream",
     "text": [
      "0\n"
     ]
    }
   ],
   "source": [
    "from sympy import Symbol, limit, oo\n",
    "\n",
    "#define the symbol being used\n",
    "x = Symbol('x')\n",
    "\n",
    "#define the actual function\n",
    "f_x = -1/(x-3)\n",
    "\n",
    "#find the limit\n",
    "#limit(function,symbol,the number approached)\n",
    "#function below is saying for f_x, as x approaches 8 what is the limit\n",
    "li = limit(f_x, x, oo)\n",
    "print(li)"
   ]
  },
  {
   "cell_type": "code",
   "execution_count": 2,
   "metadata": {},
   "outputs": [
    {
     "name": "stdout",
     "output_type": "stream",
     "text": [
      "-1/7\n"
     ]
    }
   ],
   "source": [
    "from sympy import Symbol, limit, oo\n",
    "\n",
    "#define the symbol being used\n",
    "x = Symbol('x')\n",
    "\n",
    "#define the actual function\n",
    "f_x = (-1*x-7)/(7*x-9)\n",
    "\n",
    "#find the limit\n",
    "#limit(function,symbol,the number approached)\n",
    "#function below is saying for f_x, as x approaches 8 what is the limit\n",
    "li = limit(f_x, x, oo)\n",
    "print(li)"
   ]
  },
  {
   "cell_type": "markdown",
   "metadata": {},
   "source": [
    "### minimize cost\n",
    "\n",
    "consider $$f(x)=3x+81000x^{-1}+40500$$\n",
    "\n",
    "What lot size should Glorious Gadgets order to minimize their total inventory costs? \n",
    "\n",
    "What is their minimum total inventory cost? "
   ]
  },
  {
   "cell_type": "code",
   "execution_count": 7,
   "metadata": {},
   "outputs": [
    {
     "name": "stderr",
     "output_type": "stream",
     "text": [
      "C:\\Users\\TK\\AppData\\Local\\Temp\\ipykernel_320192\\3765085950.py:16: RuntimeWarning: divide by zero encountered in divide\n",
      "  y = 3*x + 81000/x +40500\n",
      "C:\\Users\\TK\\AppData\\Local\\Temp\\ipykernel_320192\\3765085950.py:16: RuntimeWarning: divide by zero encountered in double_scalars\n",
      "  y = 3*x + 81000/x +40500\n",
      "C:\\Users\\TK\\AppData\\Local\\Temp\\ipykernel_320192\\3765085950.py:57: RuntimeWarning: invalid value encountered in double_scalars\n",
      "  if abs(max_value - y[k]) < error:\n"
     ]
    },
    {
     "data": {
      "image/png": "[encoded data removed]",
      "text/plain": [
       "<Figure size 640x480 with 1 Axes>"
      ]
     },
     "metadata": {},
     "output_type": "display_data"
    },
    {
     "name": "stdout",
     "output_type": "stream",
     "text": [
      "(x,y) max =  -8.0 , inf\n",
      "(x,y) min =  164.0 , 41485.90243902439\n"
     ]
    }
   ],
   "source": [
    "import numpy as np\n",
    "import matplotlib.pyplot as plt\n",
    "\n",
    "def extrema(a, b, c):\n",
    "    x = max(a, b, c)\n",
    "    z = min(a, b, c)\n",
    "    epsilon = 0.0000001  # This is a safeguard against minor differences.\n",
    "    result = False\n",
    "    if abs(b - x) < epsilon:\n",
    "        result = True\n",
    "    if abs(b - z) < epsilon:\n",
    "        result = True\n",
    "    return result\n",
    "\n",
    "def f(x):\n",
    "    y = 3*x + 81000/x +40500\n",
    "    return y\n",
    "\n",
    "xa = 0\n",
    "xb = 1000\n",
    "\n",
    "n = 1000\n",
    "delta = (xb - xa) / n\n",
    "x = np.arange(xa, xb + delta, delta)\n",
    "y = f(x)\n",
    "\n",
    "value = [False]  # This defines the list value which will contain Boolean values.\n",
    "value = value * len(x)  # This expands the list to the length of x.\n",
    "\n",
    "L = len(x)\n",
    "value[0] = True  # This will correspond to one endpoint.\n",
    "value[L - 1] = True  # This corresponds to the other.\n",
    "\n",
    "for x_index in range(L - 2):\n",
    "    first_x = x[x_index]\n",
    "    second_x = x[x_index + 1]\n",
    "    third_x = x[x_index + 2]\n",
    "    a = f(first_x)\n",
    "    b = f(second_x)\n",
    "    c = f(third_x)\n",
    "    is_second_x_extrema = extrema(a, b, c)\n",
    "    value[x_index + 1] = is_second_x_extrema\n",
    "\n",
    "for k in range(L - 2):\n",
    "    value[k + 1] = extrema(f(x[k]), f(x[k + 1]), f(x[k + 2]))\n",
    "\n",
    "max_value = max(y)  # We check the list to find the global maxima.\n",
    "min_value = min(y)  # We check the list to find the global minima.\n",
    "\n",
    "error = 0.0000001  # The error parameter guards against roundoff error.\n",
    "# The code which follows assigns colors to maxima and minima and plots them.\n",
    "\n",
    "plt.figure()\n",
    "for k in range(L):\n",
    "    if value[k] is True:\n",
    "        plt.scatter(x[k], y[k], s=60, c='y')\n",
    "        if abs(max_value - y[k]) < error:\n",
    "            plt.scatter(x[k], y[k], s=60, c='r')\n",
    "            xmax = x[k]\n",
    "            ymax = y[k]\n",
    "        if abs(min_value - y[k]) < error:\n",
    "            plt.scatter(x[k], y[k], s=60, c='b')\n",
    "            xmin = x[k]\n",
    "            ymin = y[k]\n",
    "            \n",
    "\n",
    "plt.plot(x, y, c='k')  # This plots the line on the chart.\n",
    "plt.xlabel('x-axis')\n",
    "plt.ylabel('y-axis')\n",
    "plt.title('Plot Showing Absolute and Relative Extrema')\n",
    "plt.show()\n",
    "\n",
    "print('(x,y) max = ',xmax,',',max_value)\n",
    "print('(x,y) min = ',xmin,',',min_value)"
   ]
  },
  {
   "cell_type": "markdown",
   "metadata": {},
   "source": [
    "### maximize\n",
    "\n",
    "consider $$S=\\frac{200t}{(t+3)^2},        t >= 0$$"
   ]
  },
  {
   "cell_type": "code",
   "execution_count": null,
   "metadata": {},
   "outputs": [],
   "source": [
    "# 14\n",
    "from sympy import Symbol, lambdify, solve, plotting, oo, solveset, Interval\n",
    "\n",
    "t = Symbol('t')\n",
    "S = (200 * t) / (t + 3)**2\n",
    "\n",
    "S_prime = S.diff(t)\n",
    "\n",
    "print(\"Sales Plot\")\n",
    "plotting.plot(S, xlim=(0, 15), ylim=(0, 100))\n",
    "\n",
    "\n",
    "dRoots = solveset(S_prime, t, Interval(0, oo)) # Find the roots of our derivitive where x is between 0 and infinity\n",
    "print(f\"Extreme values are {dRoots}\") # gives a set with a single extrema, this is our answer\n",
    "\n",
    "S_func = lambdify(t, S)  # Turn the symbolic equation into a callable function so we can find the S(t) for our found t value\n",
    "max_val = S_func(dRoots.args[0])\n",
    "print(f\"Maximum profit is {max_val * 1000} and occurs at {dRoots.args[0]}\")\n"
   ]
  },
  {
   "cell_type": "code",
   "execution_count": 12,
   "metadata": {},
   "outputs": [
    {
     "data": {
      "image/png": "[encoded data removed]",
      "text/plain": [
       "<Figure size 640x480 with 1 Axes>"
      ]
     },
     "metadata": {},
     "output_type": "display_data"
    },
    {
     "name": "stdout",
     "output_type": "stream",
     "text": [
      "(x,y) max =  10.0 , 626.0\n",
      "(x,y) min =  1.1 , 229.95\n"
     ]
    }
   ],
   "source": [
    "import numpy as np\n",
    "import matplotlib.pyplot as plt\n",
    "\n",
    "def extrema(a, b, c):\n",
    "    x = max(a, b, c)\n",
    "    z = min(a, b, c)\n",
    "    epsilon = 0.0000001  # This is a safeguard against minor differences.\n",
    "    result = False\n",
    "    if abs(b - x) < epsilon:\n",
    "        result = True\n",
    "    if abs(b - z) < epsilon:\n",
    "        result = True\n",
    "    return result\n",
    "\n",
    "def f(x):\n",
    "    y = (5*x**2)-(11*x)+236\n",
    "    return y\n",
    "\n",
    "xa = 0\n",
    "xb = 10\n",
    "\n",
    "n = 100\n",
    "delta = (xb - xa) / n\n",
    "x = np.arange(xa, xb + delta, delta)\n",
    "y = f(x)\n",
    "\n",
    "value = [False]  # This defines the list value which will contain Boolean values.\n",
    "value = value * len(x)  # This expands the list to the length of x.\n",
    "\n",
    "L = len(x)\n",
    "value[0] = True  # This will correspond to one endpoint.\n",
    "value[L - 1] = True  # This corresponds to the other.\n",
    "\n",
    "for x_index in range(L - 2):\n",
    "    first_x = x[x_index]\n",
    "    second_x = x[x_index + 1]\n",
    "    third_x = x[x_index + 2]\n",
    "    a = f(first_x)\n",
    "    b = f(second_x)\n",
    "    c = f(third_x)\n",
    "    is_second_x_extrema = extrema(a, b, c)\n",
    "    value[x_index + 1] = is_second_x_extrema\n",
    "\n",
    "for k in range(L - 2):\n",
    "    value[k + 1] = extrema(f(x[k]), f(x[k + 1]), f(x[k + 2]))\n",
    "\n",
    "max_value = max(y)  # We check the list to find the global maxima.\n",
    "min_value = min(y)  # We check the list to find the global minima.\n",
    "\n",
    "error = 0.0000001  # The error parameter guards against roundoff error.\n",
    "# The code which follows assigns colors to maxima and minima and plots them.\n",
    "\n",
    "plt.figure()\n",
    "for k in range(L):\n",
    "    if value[k] is True:\n",
    "        plt.scatter(x[k], y[k], s=60, c='y')\n",
    "        if abs(max_value - y[k]) < error:\n",
    "            plt.scatter(x[k], y[k], s=60, c='r')\n",
    "            xmax = x[k]\n",
    "            ymax = y[k]\n",
    "        if abs(min_value - y[k]) < error:\n",
    "            plt.scatter(x[k], y[k], s=60, c='b')\n",
    "            xmin = x[k]\n",
    "            ymin = y[k]\n",
    "            \n",
    "\n",
    "plt.plot(x, y, c='k')  # This plots the line on the chart.\n",
    "plt.xlabel('x-axis')\n",
    "plt.ylabel('y-axis')\n",
    "plt.title('Plot Showing Absolute and Relative Extrema')\n",
    "plt.show()\n",
    "\n",
    "print('(x,y) max = ',xmax,',',max_value)\n",
    "print('(x,y) min = ',xmin,',',min_value)"
   ]
  },
  {
   "cell_type": "markdown",
   "metadata": {},
   "source": [
    "## Riemann Sums"
   ]
  },
  {
   "cell_type": "code",
   "execution_count": 9,
   "metadata": {},
   "outputs": [
    {
     "name": "stdout",
     "output_type": "stream",
     "text": [
      "start =  0\n",
      "value =  13\n",
      "start =  13\n",
      "value =  13\n",
      "start =  26\n",
      "value =  13\n",
      "start =  39\n",
      "value =  13\n",
      "start =  52\n",
      "value =  13\n",
      "start =  65\n",
      "value =  13\n",
      "[13, 13, 13, 13, 13, 13]\n"
     ]
    }
   ],
   "source": [
    "#with table\n",
    "\n",
    "x = [0, 13, 26, 39, 52, 65, 78]\n",
    "y = [0, 9, 33, 59, 75, 72, 53]\n",
    "ln = 6\n",
    "rn = 6\n",
    "mn = 3\n",
    "\n",
    "\n",
    "def getwidths(list,n):\n",
    "    widths = []\n",
    "    holder = list[0]\n",
    "    for j in list[1:]:   \n",
    "        #print('start = ',holder)\n",
    "        value = j - holder\n",
    "        #print('value = ',value)\n",
    "        holder = j\n",
    "        widths.append(value)\n",
    "    return widths\n",
    "\n",
    "\n",
    "six_intervals = getwidths(x,6)\n",
    "\n",
    "three_intervals = [26,26,26]\n",
    "\n",
    "def getareas(widths,heights):\n",
    "    \n",
    "\n",
    "left_hand_area = \n",
    "\n"
   ]
  },
  {
   "cell_type": "code",
   "execution_count": null,
   "metadata": {},
   "outputs": [],
   "source": [
    "left_area_list = []\n",
    "def approx(height, width, n):\n",
    "    total = 0.0    \n",
    "    i = 0\n",
    "    while i < n:\n",
    "        total = total + ()\n",
    "        i+=1\n",
    "\n",
    "for height,width in x,y[0:6]:\n",
    "    left_area_list.append()\n",
    "\n",
    "\n",
    "\n",
    "def integrate(a, b, n):\n",
    "    total = 0.0\n",
    "    delta = (b - a) / n\n",
    "    i = 0\n",
    "    while i < n:\n",
    "        total = total + delta * (f(a + delta * (i + 1)) + f(a + delta * i)) / 2.0\n",
    "        i = i + 1\n",
    "    return total\n",
    "\n",
    "for i in x:\n",
    "    integrate()"
   ]
  },
  {
   "cell_type": "code",
   "execution_count": 71,
   "metadata": {},
   "outputs": [
    {
     "data": {
      "image/png": "[encoded data removed]",
      "text/plain": [
       "<Figure size 640x480 with 1 Axes>"
      ]
     },
     "metadata": {},
     "output_type": "display_data"
    },
    {
     "name": "stdout",
     "output_type": "stream",
     "text": [
      "Final Estimate of Area with %r subdivisions = 250\n"
     ]
    }
   ],
   "source": [
    "import matplotlib.pyplot as plt\n",
    "import math\n",
    "\n",
    "# An example function:\n",
    "\n",
    "def f(x):\n",
    "    return (math.pow(x, 2) + 100) * math.log(x + 2)  # Students can supply their functions at this point.\n",
    "\n",
    "def integrate(a, b, n):\n",
    "    total = 0.0\n",
    "    delta = (b - a) / n\n",
    "    i = 0\n",
    "    while i < n:\n",
    "        total = total + delta * (f(a + delta * (i + 1)) + f(a + delta * i)) / 2.0\n",
    "        i = i + 1\n",
    "    return total\n",
    "\n",
    "# This shows list manipulations resulting in a plot\n",
    "y = []\n",
    "x = []\n",
    "b = 4.0\n",
    "a = 0.0\n",
    "rng = [10, 20, 30, 40, 50, 100, 250]\n",
    "\n",
    "for n in rng:\n",
    "    area = integrate(a, b, n)\n",
    "    x = x + [n]\n",
    "    y = y + [area]\n",
    "\n",
    "plt.xlim(0, max(x) + 60)\n",
    "plt.ylim(min(y) - 0.5, max(y) + 0.5)\n",
    "\n",
    "plt.plot(x, y)\n",
    "plt.scatter(x, y, s=30, c='r')\n",
    "plt.scatter(300, 64.0, c='y')  # This plots the limiting value for the area.\n",
    "\n",
    "plt.xlabel('Number of Subintervals')\n",
    "plt.ylabel('Estimated Area')\n",
    "plt.title('Plot Showing Numerical Integration Convergence')\n",
    "plt.show()\n",
    "\n",
    "area = float(format(y[-1], '0.3f'))\n",
    "print(\"Final Estimate of Area with %r subdivisions = {}\".format(x[-1], area))"
   ]
  },
  {
   "cell_type": "code",
   "execution_count": 73,
   "metadata": {},
   "outputs": [
    {
     "name": "stdout",
     "output_type": "stream",
     "text": [
      "[570.2521362468045, 570.4145860513385, 570.4447843209994, 570.4553622920724, 570.4602598906928, 570.4667915094652, 570.4686206675274]\n"
     ]
    }
   ],
   "source": [
    "print(y)"
   ]
  },
  {
   "cell_type": "markdown",
   "metadata": {},
   "source": [
    "## integrals\n"
   ]
  },
  {
   "cell_type": "markdown",
   "metadata": {},
   "source": [
    "The traffic flow rate (cars per hour) across an intersection is modeled  \n",
    "$r(t)=500+1000t−210t2$, where  $t$  represents the number of hours since 6 am. How many cars pass through the intersection between 6 am and 8 am?\n"
   ]
  },
  {
   "cell_type": "code",
   "execution_count": 11,
   "metadata": {},
   "outputs": [
    {
     "name": "stdout",
     "output_type": "stream",
     "text": [
      "2440 cars\n"
     ]
    }
   ],
   "source": [
    "from sympy import Symbol, integrate\n",
    "# https://docs.sympy.org/latest/tutorial/calculus.html?highlight=calculus#integrals\n",
    "t = Symbol('t')\n",
    "r_t = 500 + 1000*t - 210*t**2\n",
    "\n",
    "# integrate(function, (x,lower_limit,upper_limit))\n",
    "flow_rate = integrate(r_t, (t,0,2))\n",
    "# a = integrate(r_prime, (t, 0, 1))\n",
    "print(f\"{flow_rate} cars\")"
   ]
  },
  {
   "cell_type": "markdown",
   "metadata": {},
   "source": [
    "You are memorizing words for a vocabulary test. You studied a few days ago, and you know 16 words already. It is the night before the test, and you sit down to finish studying the words. Suppose that the rate of memorizing is given by  \n",
    "$M'(t)=−0.006t^{2}+0.2t$, where $M'(t)$\n",
    "  is the memory rate, in words per minute. What is the total number of words you have memorized after 10 minutes of studying?"
   ]
  },
  {
   "cell_type": "code",
   "execution_count": 11,
   "metadata": {},
   "outputs": [
    {
     "name": "stdout",
     "output_type": "stream",
     "text": [
      "-0.002*t**3 + 0.1*t**2 + 16\n",
      "24 words\n"
     ]
    }
   ],
   "source": [
    "from sympy import Symbol, integrate\n",
    "# https://docs.sympy.org/latest/tutorial/calculus.html?highlight=calculus#integrals\n",
    "t = Symbol('t')\n",
    "M_prime = -0.006*t**2 + 0.2*t\n",
    "\n",
    "# We will first find M(t) and add the constant for what you already know (ie the 16 words from the problem)\n",
    "M_t = integrate(M_prime, t) + 16\n",
    "\n",
    "#insert what t should be here\n",
    "words_memorized = M_t.evalf(subs={t:10})\n",
    "\n",
    "print(M_t)\n",
    "print(f\"{round(words_memorized)} words\")"
   ]
  },
  {
   "cell_type": "markdown",
   "metadata": {},
   "source": [
    "The rate of reaction for a certain drug in the appropriate units is given by\n",
    "\n",
    "$R'(t)=\\frac{6}{t+1} + \\frac{4}{\\sqrt{t+1}}$\n",
    "\n",
    "where t is time (in hours) after the drug is administered. Find the total reaction to the drug over the following time periods. Round your answers to three decimal places as needed.\n",
    "\n",
    "From t=1 hour to t=6 hours, the total reaction of the drug is units.\n",
    "\n",
    "From t=6 hours to t=24 hours, the total reaction of the drug is units."
   ]
  },
  {
   "cell_type": "code",
   "execution_count": 4,
   "metadata": {},
   "outputs": [
    {
     "name": "stdout",
     "output_type": "stream",
     "text": [
      "17.369\n",
      "26.472\n"
     ]
    }
   ],
   "source": [
    "from sympy import Symbol, integrate\n",
    "# https://docs.sympy.org/latest/tutorial/calculus.html?highlight=calculus#integrals\n",
    "t = Symbol('t')\n",
    "R_prime = (6/(t+1)) + (4/((t+1)**(1/2)))\n",
    "\n",
    "# From t=1 hour to t=9 hours, the total reaction of the drug is units.\n",
    "#f\"{round(integrate(R_prime,(t,1,6)).evalf(),3)}\"\n",
    "print(round(integrate(R_prime,(t,1,6)).evalf(),3))\n",
    "\n",
    "# From t=9 hours to t=23 hours, the total reaction of the drug is units.\n",
    "#f\"{round(integrate(R_prime,(t,6,24)).evalf(),3)}\"\n",
    "print(round(integrate(R_prime,(t,6,24)).evalf(),3))"
   ]
  },
  {
   "cell_type": "markdown",
   "metadata": {},
   "source": [
    "Compute the given integral.\n",
    "\n",
    "$\\int x^3(x^4-4)^7 \\ dx$ = ____ + $C$"
   ]
  },
  {
   "cell_type": "code",
   "execution_count": 15,
   "metadata": {},
   "outputs": [
    {
     "name": "stdout",
     "output_type": "stream",
     "text": [
      "x**32/32 - x**28 + 14*x**24 - 112*x**20 + 560*x**16 - 1792*x**12 + 3584*x**8 - 4096*x**4 + C\n"
     ]
    }
   ],
   "source": [
    "from sympy import Symbol, integrate, exp\n",
    "import math\n",
    "# https://docs.sympy.org/latest/tutorial/calculus.html?highlight=calculus#integrals\n",
    "x = Symbol('x')\n",
    "f_x = (x**3)*((x**4)-4)**7\n",
    "\n",
    "val = integrate(f_x, x)\n",
    "print(f\"{val} + C\")"
   ]
  },
  {
   "cell_type": "code",
   "execution_count": 35,
   "metadata": {},
   "outputs": [
    {
     "name": "stdout",
     "output_type": "stream",
     "text": [
      "x**108/108 - 5*x**99/9 + 275*x**90/18 - 6875*x**81/27 + 34375*x**72/12 - 68750*x**63/3 + 1203125*x**54/9 - 1718750*x**45/3 + 21484375*x**36/12 - 107421875*x**27/27 + 107421875*x**18/18 - 48828125*x**9/9 + C\n",
      "x**9*(x**9 - 10)*(x**18 - 15*x**9 + 75)*(x**18 - 10*x**9 + 50)*(x**18 - 5*x**9 + 25)*(x**36 - 20*x**27 + 125*x**18 - 250*x**9 + 625)/108\n",
      "(1/108, [(x, 9), (x**9 - 10, 1), (x**18 - 15*x**9 + 75, 1), (x**18 - 10*x**9 + 50, 1), (x**18 - 5*x**9 + 25, 1), (x**36 - 20*x**27 + 125*x**18 - 250*x**9 + 625, 1)])\n"
     ]
    }
   ],
   "source": [
    "from sympy import Symbol, integrate, exp, factor_list, factor, oo\n",
    "import math\n",
    "# https://docs.sympy.org/latest/tutorial/calculus.html?highlight=calculus#integrals\n",
    "x = Symbol('x')\n",
    "f_x = (x**8)*(((x**9)-5)**11)\n",
    "\n",
    "val = integrate(f_x, x)\n",
    "vf = factor(val)\n",
    "vfl = factor_list(val)\n",
    "print(f\"{val} + C\")\n",
    "print(vf)\n",
    "print(vfl)"
   ]
  },
  {
   "cell_type": "markdown",
   "metadata": {},
   "source": [
    "## Continous Probability"
   ]
  },
  {
   "cell_type": "markdown",
   "metadata": {},
   "source": [
    "Consider a density curve for 18 through 23 where y = .2 across it\n"
   ]
  },
  {
   "cell_type": "code",
   "execution_count": 37,
   "metadata": {},
   "outputs": [
    {
     "name": "stdout",
     "output_type": "stream",
     "text": [
      "3\n"
     ]
    }
   ],
   "source": [
    "p_x = .2\n",
    "range_of_x = [18, 19, 20, 21, 22, 23]\n",
    "rangex = [0,1,2,3,4]\n",
    "\n",
    "print(range_of_x.index(20)+1)"
   ]
  },
  {
   "cell_type": "markdown",
   "metadata": {},
   "source": [
    "The lifetime of a printer costing $120 is exponentially distributed with mean 4 years. The manufacturer agrees to pay a full refund to a buyer if the printer fails during the first half year following its purchase and a one-half refund if it fails during the second half year.\n",
    "\n",
    "If the manufacturer sells 370 printers, how much should it expect to pay in refunds?"
   ]
  },
  {
   "cell_type": "code",
   "execution_count": 57,
   "metadata": {},
   "outputs": [
    {
     "name": "stdout",
     "output_type": "stream",
     "text": [
      "total cost 7519.19137843679\n"
     ]
    }
   ],
   "source": [
    "from sympy import Symbol, integrate, exp\n",
    "import math\n",
    "\n",
    "#set your mean value\n",
    "mean_val = 4\n",
    "#set your decay rate which is 1/mean\n",
    "decay_rate = 1/mean_val\n",
    "\n",
    "#total number of things to sell\n",
    "comps = 370\n",
    "\n",
    "#price per item\n",
    "price = 120\n",
    "\n",
    "#make x a symbol\n",
    "x = Symbol('x')\n",
    "\n",
    "#write your function for probability density\n",
    "# which is me^(-mx)\n",
    "f_x = decay_rate * exp(-decay_rate*x)\n",
    "\n",
    "#since the first interval is half year, we're setting lower limit to 0, upper limit to .5\n",
    "firsthalf = integrate(f_x,(x,0,.5))\n",
    "\n",
    "#same as above but from .5 to 1 to make our second interval (half-refund)\n",
    "secondhalf = integrate(f_x,(x,.5,1))\n",
    "\n",
    "#2-steps here, 1 is get the number of things that fall into this interval\n",
    "#which is prob of failure * total number of printers sold\n",
    "fhalf_comps = firsthalf*comps\n",
    "#step 2 is then just calculating the $$$ based on full refund * number of dead printers \n",
    "# aka what we did above (prob of dead * number of printers)\n",
    "fhalf_cost = fhalf_comps*price\n",
    "\n",
    "#now do the same but for the second interval\n",
    "shalf_comps = secondhalf*comps\n",
    "shalf_cost = shalf_comps*price*.5\n",
    "\n",
    "#add the two parts and we're done\n",
    "finaltotal = shalf_cost + fhalf_cost\n",
    "print('total cost',finaltotal)"
   ]
  },
  {
   "cell_type": "code",
   "execution_count": 70,
   "metadata": {},
   "outputs": [
    {
     "name": "stdout",
     "output_type": "stream",
     "text": [
      "Total refunds =  $7,519.19\n"
     ]
    }
   ],
   "source": [
    "#above but as a function\n",
    "\n",
    "prods_sold = 370\n",
    "full_price = 120\n",
    "half_price = 60\n",
    "mean_ytf = 4\n",
    "\n",
    "def calc_ref_cost(number_of_products,price,mean,lower,upper):\n",
    "    decay_rate = 1/mean\n",
    "    #write your function for probability density\n",
    "    # which is me^(-mx)\n",
    "    f_x = decay_rate * exp(-decay_rate*x)\n",
    "\n",
    "    #since the first interval is half year, we're setting lower limit to 0, upper limit to .5\n",
    "    probability_of = integrate(f_x,(x,lower,upper))\n",
    "\n",
    "    #same as above but from .5 to 1 to make our second interval (half-refund)\n",
    "    totalcost = probability_of*number_of_products*price\n",
    "    return totalcost\n",
    "\n",
    "fullrefunds = calc_ref_cost(prods_sold,full_price,mean_ytf,0,.5)\n",
    "halfrefunds = calc_ref_cost(prods_sold,half_price,mean_ytf,.5,1)\n",
    "totalrefunds = fullrefunds+halfrefunds\n",
    "\n",
    "print('Total refunds = ',\"${:,.2f}\".format(totalrefunds))\n",
    "\n",
    "\n"
   ]
  },
  {
   "cell_type": "markdown",
   "metadata": {},
   "source": [
    "Suppose it is known that, on average, 3 customers per minute visit your website. This being the case, you know that the integral below will calculate the probability that you will have a customer visit in the next m minutes.\n",
    "$$\\int_{0}^{m} 3e^{-3t} \\ dt$$"
   ]
  },
  {
   "cell_type": "code",
   "execution_count": 60,
   "metadata": {},
   "outputs": [
    {
     "data": {
      "text/plain": [
       "'96.98%'"
      ]
     },
     "execution_count": 60,
     "metadata": {},
     "output_type": "execute_result"
    }
   ],
   "source": [
    "from sympy import Symbol, integrate, exp\n",
    "prob = integrate((3*exp(-3*t)),(t,0,70/60))\n",
    "f\"{round(prob*100,2)}%\""
   ]
  },
  {
   "cell_type": "code",
   "execution_count": 59,
   "metadata": {},
   "outputs": [
    {
     "data": {
      "text/plain": [
       "'100%'"
      ]
     },
     "execution_count": 59,
     "metadata": {},
     "output_type": "execute_result"
    }
   ],
   "source": [
    "from sympy import Symbol, integrate, exp\n",
    "t = Symbol('t')\n",
    "prob = integrate((3*exp(-3*t)),(t,0,math.inf))\n",
    "f\"{round(prob*100,2)}%\""
   ]
  },
  {
   "cell_type": "markdown",
   "metadata": {},
   "source": [
    "### zscore\n",
    "\n",
    "The heights of adult men in America are normally distributed, with a mean of 69.6 inches and a standard deviation of 2.62 inches. The heights of adult women in America are also normally distributed, but with a mean of 64.3 inches and a standard deviation of 2.53 inches.\n",
    "\n",
    "a) If a man is 6 feet 3 inches tall, what is his z-score (to two decimal places)?\n",
    "\n",
    "b) What percentage of men are SHORTER than 6 feet 3 inches? Round to nearest tenth of a percent.\n",
    "\n",
    "c) If a woman is 5 feet 11 inches tall, what is her z-score (to two decimal places)?\n",
    "\n",
    "d) What percentage of women are TALLER than 5 feet 11 inches? Round to nearest tenth of a percent."
   ]
  },
  {
   "cell_type": "code",
   "execution_count": 65,
   "metadata": {},
   "outputs": [
    {
     "name": "stdout",
     "output_type": "stream",
     "text": [
      "a -  2.061068702290078\n",
      "b -  98.03517569064365\n",
      "c -  2.648221343873519\n",
      "d -  0.4045826328828883\n"
     ]
    }
   ],
   "source": [
    "import scipy.stats as st\n",
    "\n",
    "men_mean_value = 69.6\n",
    "men_std_dev = 2.62\n",
    "\n",
    "women_mean_value = 64.3\n",
    "women_std_dev = 2.53\n",
    "\n",
    "a_ans = ((6*12+3) - men_mean_value)/men_std_dev\n",
    "\n",
    "print('a - ',a_ans)\n",
    "\n",
    "b_ans = st.norm.cdf(a_ans)\n",
    "print('b - ', b_ans * 100)\n",
    "\n",
    "c_ans = ((5*12+11) - women_mean_value)/women_std_dev\n",
    "\n",
    "print('c - ',c_ans)\n",
    "\n",
    "d_ans = st.norm.cdf(c_ans)\n",
    "print('d - ', (1-d_ans)*100)\n",
    "\n"
   ]
  },
  {
   "cell_type": "markdown",
   "metadata": {},
   "source": [
    "Suppose that the distance of fly balls hit to the outfield (in baseball) is normally distributed with a mean of 250 feet and a standard deviation of 41 feet.\n",
    "Use your graphing calculator to answer the following questions. Write your answers in percent form. Round your answers to the nearest tenth of a percent.\n",
    "a) If one fly ball is randomly chosen from this distribution, what is the probability that this ball traveled fewer than 192 feet?\n",
    "\n",
    "P(fewer than 192 feet) =\n",
    "\n",
    "b) If one fly ball is randomly chosen from this distribution, what is the probability that this ball traveled more than 216 feet?\n",
    "\n",
    "P(more than 216 feet) ="
   ]
  },
  {
   "cell_type": "code",
   "execution_count": 67,
   "metadata": {},
   "outputs": [
    {
     "name": "stdout",
     "output_type": "stream",
     "text": [
      "zscore -  -1.4146341463414633\n",
      "prob of a -  7.858789585721864\n",
      "zscore -  -0.8292682926829268\n",
      "prob of b -  79.65236957450115\n"
     ]
    }
   ],
   "source": [
    "import scipy.stats as st\n",
    "\n",
    "mean_value = 250\n",
    "std_dev = 41\n",
    "\n",
    "a_zscore = (192 - mean_value)/std_dev\n",
    "print('zscore - ',a_zscore)\n",
    "\n",
    "a_ans = st.norm.cdf(a_zscore)\n",
    "print('prob of a - ', a_ans * 100)\n",
    "\n",
    "b_zscore = (216 - mean_value)/std_dev\n",
    "print('zscore - ',b_zscore)\n",
    "\n",
    "b_ans = st.norm.cdf(b_zscore)\n",
    "print('prob of b - ', (1-b_ans) * 100)\n",
    "\n",
    "\n",
    "\n",
    "\n"
   ]
  },
  {
   "cell_type": "markdown",
   "metadata": {},
   "source": [
    "## Module 10 Multivariate Calculus"
   ]
  },
  {
   "cell_type": "markdown",
   "metadata": {},
   "source": [
    "### Solving given x,y\n",
    "\n",
    "Let $f ( x , y ) = 2 x − 5 y + 6$. Find the following values of $f ( x , y )$ for the given coordinates."
   ]
  },
  {
   "cell_type": "code",
   "execution_count": null,
   "metadata": {},
   "outputs": [],
   "source": [
    "from sympy import symbols\n",
    "\n",
    "# declare the symbols\n",
    "x, y = symbols('x y')\n",
    "\n",
    "# define the expression\n",
    "f = 2*x - 5*y + 6\n",
    "\n",
    "# Use the subs function to substitute the values for the x and y symbols\n",
    "print(\"a) f(-4,7) =\",f.subs({x:-4, y:7}))\n",
    "print(\"b) f(-3,6) =\",f.subs({x:-3,y:6}))\n",
    "print(\"c) f(0,2) =\",f.subs({x:0,y:2}))\n",
    "print(\"d) f(-1,-2) =\",f.subs({x:-1,y:-2}))"
   ]
  }
 ],
 "metadata": {
  "kernelspec": {
   "display_name": "Python 3.10.7 64-bit",
   "language": "python",
   "name": "python3"
  },
  "language_info": {
   "codemirror_mode": {
    "name": "ipython",
    "version": 3
   },
   "file_extension": ".py",
   "mimetype": "text/x-python",
   "name": "python",
   "nbconvert_exporter": "python",
   "pygments_lexer": "ipython3",
   "version": "3.10.7"
  },
  "orig_nbformat": 4,
  "vscode": {
   "interpreter": {
    "hash": "eef647685e78448f8b454a5350bc1929191057813a1c43ff6b863716fb83e770"
   }
  }
 },
 "nbformat": 4,
 "nbformat_minor": 2
}
