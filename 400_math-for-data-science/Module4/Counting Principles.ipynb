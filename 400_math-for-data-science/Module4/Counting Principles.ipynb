{
 "cells": [
  {
   "cell_type": "markdown",
   "metadata": {},
   "source": [
    "# MSDS 400 Counting Principles\n",
    "\n",
    "The following is an example creates three functions used in counting principles."
   ]
  },
  {
   "cell_type": "code",
   "execution_count": 1,
   "metadata": {},
   "outputs": [],
   "source": [
    "def factorial(n):\n",
    "    if n == 0:\n",
    "        return 1\n",
    "    else:\n",
    "        recurse = factorial(n - 1)\n",
    "        result = n * recurse\n",
    "        return result\n",
    "\n",
    "\n",
    "def perm(n, k):\n",
    "    if n == 0:\n",
    "        return 1\n",
    "    if k > n:\n",
    "        return -1\n",
    "    else:\n",
    "        return (factorial(n)) / factorial(n - k)\n",
    "\n",
    "\n",
    "def comb(n, k):\n",
    "    result = perm(n, k)\n",
    "    result = result / factorial(k)\n",
    "    result = int(result)\n",
    "    return result"
   ]
  },
  {
   "cell_type": "markdown",
   "metadata": {},
   "source": [
    "Blewo you are prompted to enter an integer when you run the cell.\n",
    "\n",
    "Enter a positive integer to obtain the factorial value.<br>\n",
    "Enter a negative integer to stop.<br>\n",
    "In either case, hit enter or the code will not work.\n",
    "\n",
    "The statement `input()` accepts keyboard input and produces a string which must be converted to a numeric variable for further calculations."
   ]
  },
  {
   "cell_type": "code",
   "execution_count": 2,
   "metadata": {},
   "outputs": [
    {
     "name": "stdout",
     "output_type": "stream",
     "text": [
      "What number should we get thr factorial for?13\n",
      "Factorial of 13 is equal to 6227020800\n"
     ]
    }
   ],
   "source": [
    "inp1 = input(\"What number should we get the factorial for?\")\n",
    "int_inp1 = int(inp1)\n",
    "\n",
    "if int_inp1 > 0:\n",
    "    fact_of_inp = factorial(int_inp1)\n",
    "    print('Factorial of {} is equal to {}'.format(int_inp1, fact_of_inp))\n",
    "else:\n",
    "    print('No calculation.')"
   ]
  },
  {
   "cell_type": "code",
   "execution_count": 13,
   "metadata": {},
   "outputs": [
    {
     "name": "stdout",
     "output_type": "stream",
     "text": [
      "Permutation of 10 elements taken 5 at a time =30240.0\n",
      "Combination of 10 elements taken 5 at a time = 252\n"
     ]
    }
   ],
   "source": [
    "# Example calculations follow.\n",
    "permutation = perm(10, 5)\n",
    "print('Permutation of 10 elements taken 5 at a time ={}'.format(permutation))\n",
    "\n",
    "combination = comb(10, 5)\n",
    "print('Combination of 10 elements taken 5 at a time = {}'.format(combination))"
   ]
  },
  {
   "cell_type": "markdown",
   "metadata": {},
   "source": [
    "In the code which follows, note the type conversions from string to integer, integer to floating point and back.\\\n",
    "\n",
    "In each instance, hit enter after submitting the requested number. Enter a positive integer for the number of repeated trials."
   ]
  },
  {
   "cell_type": "code",
   "execution_count": 14,
   "metadata": {},
   "outputs": [
    {
     "name": "stdout",
     "output_type": "stream",
     "text": [
      "Number of Trials:10\n",
      "Number of Successes:4\n",
      "Probability of Success:.5\n",
      "Binomial probability with n = 10, k= 4, p= 0.5 is 0.205078125\n",
      "\n"
     ]
    }
   ],
   "source": [
    "inp = input(\"Number of Trials:\")\n",
    "int_inp = int(inp)  # This converts n from a string to an integer.\n",
    "\n",
    "success = input(\"Number of Successes:\")\n",
    "int_success_int = int(success)\n",
    "\n",
    "prob_of_s = input(\"Probability of Success:\")\n",
    "int_prob_of_s = float(prob_of_s)  # This converts p from a string to a floating point number.\n",
    "\n",
    "prob = (comb(int_inp, int_success_int)) *\\\n",
    "       (int_prob_of_s ** int_success_int) * \\\n",
    "       ((1.0 - int_prob_of_s) ** (int_inp - int_success_int))\n",
    "print('Binomial probability with n = {}, k= {}, p= {} is {}\\n'.format(int_inp, int_success_int, int_prob_of_s, prob))"
   ]
  },
  {
   "cell_type": "markdown",
   "metadata": {},
   "source": [
    "The following example shows how to calculate a binomial distribution\n",
    "and print the result.  First a binomial function will be defined.  The\n",
    "values previously entered for the number of repeated trials, the\n",
    "number of successes and the probability of success will be used."
   ]
  },
  {
   "cell_type": "code",
   "execution_count": 15,
   "metadata": {},
   "outputs": [
    {
     "name": "stdout",
     "output_type": "stream",
     "text": [
      "Binomial distribution with 10 trials and p=0.5 follows\n",
      "# of successes = 0 probability = 0.00\n",
      "# of successes = 1 probability = 0.01\n",
      "# of successes = 2 probability = 0.04\n",
      "# of successes = 3 probability = 0.12\n",
      "# of successes = 4 probability = 0.21\n",
      "# of successes = 5 probability = 0.25\n",
      "# of successes = 6 probability = 0.21\n",
      "# of successes = 7 probability = 0.12\n",
      "# of successes = 8 probability = 0.04\n",
      "# of successes = 9 probability = 0.01\n",
      "# of successes = 10 probability = 0.00\n"
     ]
    }
   ],
   "source": [
    "def binomial(n, k, p):\n",
    "    return (comb(n, k)) * (p ** k) * ((1.0 - p) ** (n - k))\n",
    "\n",
    "\n",
    "print('Binomial distribution with {} trials and p={} follows'.format(int_inp, int_prob_of_s))\n",
    "distribution = []\n",
    "for i in range(0, int_inp + 1):\n",
    "    prob = binomial(int_inp, i, int_prob_of_s)\n",
    "    print('# of successes = {} probability = {:2.2f}'.format(i, prob))\n",
    "    distribution = distribution + [prob]\n",
    "\n",
    "x = range(0, int_inp + 1, 1)  # x and y are both lists with the same number of elements.\n",
    "y = distribution"
   ]
  },
  {
   "cell_type": "markdown",
   "metadata": {},
   "source": [
    "The plot is produced in layers.  bar() places the red bars of width 0.4\n",
    "centered on x values. The heigth is determined by y.  The plot()\n",
    "statement places the line plot on the chart.  With only one show()\n",
    "statement, the figure() statement is unnecessary."
   ]
  },
  {
   "cell_type": "code",
   "execution_count": 16,
   "metadata": {},
   "outputs": [
    {
     "data": {
      "image/png": "[encoded data removed]",
      "text/plain": [
       "<matplotlib.figure.Figure at 0x10f657550>"
      ]
     },
     "metadata": {},
     "output_type": "display_data"
    }
   ],
   "source": [
    "import matplotlib.pyplot as plt\n",
    "plt.figure()\n",
    "plt.bar(x, y, width=0.4, align='center', color='r')\n",
    "plt.plot(x, y)\n",
    "plt.xlabel('Total Number of Trials')\n",
    "plt.ylabel('Probability of Success')\n",
    "plt.title('Binomial Probabilities ')\n",
    "plt.show()"
   ]
  }
 ],
 "metadata": {
  "kernelspec": {
   "display_name": "Python 3",
   "language": "python",
   "name": "python3"
  },
  "language_info": {
   "codemirror_mode": {
    "name": "ipython",
    "version": 3
   },
   "file_extension": ".py",
   "mimetype": "text/x-python",
   "name": "python",
   "nbconvert_exporter": "python",
   "pygments_lexer": "ipython3",
   "version": "3.7.7"
  }
 },
 "nbformat": 4,
 "nbformat_minor": 2
}
