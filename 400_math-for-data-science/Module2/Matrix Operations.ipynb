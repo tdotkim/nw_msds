{
 "cells": [
  {
   "cell_type": "markdown",
   "metadata": {},
   "source": [
    "# MSDS 400 Matrix Operations"
   ]
  },
  {
   "cell_type": "code",
   "execution_count": 2,
   "metadata": {},
   "outputs": [],
   "source": [
    "from numpy import array, absolute"
   ]
  },
  {
   "cell_type": "markdown",
   "metadata": {},
   "source": [
    "**Module Objective:** demonstrate numpy list and array operations.\n",
    "(Numpy Lists and arrays are useful data structures that serve multiple\n",
    "purposes. For matrix calculations, arrays must be converted into\n",
    "matrices. Array manipulations are valuable for preparing data for\n",
    "linear algebra. Matrix calculations are shown in Session 2 Module 3.\n",
    "\n",
    "This example defines a list called t, and shows how elements 1 and 3\n",
    "can be located.  The first element in t is indexed as 0."
   ]
  },
  {
   "cell_type": "code",
   "execution_count": 3,
   "metadata": {},
   "outputs": [
    {
     "name": "stdout",
     "output_type": "stream",
     "text": [
      "\n",
      "Value at first location:  1\n",
      "Value at third location:  3\n",
      "Value located using negative index:  2 \n",
      "\n"
     ]
    }
   ],
   "source": [
    "t = [1, 2, 3]\n",
    "print('\\nValue at first location:  {}'.format(t[0]))\n",
    "print('Value at third location:  {}'.format(t[2]))\n",
    "print('Value located using negative index:  {} \\n'.format(t[-2]))"
   ]
  },
  {
   "cell_type": "markdown",
   "metadata": {},
   "source": [
    "The next two examples demonstrate the difference between concantenation\n",
    "and forming an array. `result2` is a list of lists or an array."
   ]
  },
  {
   "cell_type": "code",
   "execution_count": 4,
   "metadata": {},
   "outputs": [
    {
     "name": "stdout",
     "output_type": "stream",
     "text": [
      "Comparison of a concatenated list with an array \n",
      "r= [4, 5, 6] and t= [1, 2, 3] \n",
      "\n",
      "Concatenation example using t and r lists. [1, 2, 3, 4, 5, 6]\n",
      "\n",
      " Comparison of concatenation with array([t,r]).\n",
      "[[1 2 3]\n",
      " [4 5 6]]\n"
     ]
    }
   ],
   "source": [
    "print('Comparison of a concatenated list with an array ')\n",
    "r = [4, 5, 6]\n",
    "print('r= {} and t= {} \\n'.format(r, t))\n",
    "result1 = t + r\n",
    "print('Concatenation example using t and r lists. {}'.format(result1))\n",
    "result2 = array([t, r])\n",
    "print('\\n Comparison of concatenation with array([t,r]).')\n",
    "print(result2)"
   ]
  },
  {
   "cell_type": "markdown",
   "metadata": {},
   "source": [
    "**Note:** Different results are produced by indexing for a list and an array."
   ]
  },
  {
   "cell_type": "code",
   "execution_count": 5,
   "metadata": {},
   "outputs": [
    {
     "name": "stdout",
     "output_type": "stream",
     "text": [
      "\n",
      " The second element of the preceding list and array\n",
      "2\n",
      "[4 5 6]\n"
     ]
    }
   ],
   "source": [
    "print('\\n The second element of the preceding list and array')\n",
    "print(result1[1])\n",
    "print(result2[1])"
   ]
  },
  {
   "cell_type": "markdown",
   "metadata": {},
   "source": [
    "Array slicing is demonstrated briefly with two examples.  The first shows\n",
    "how to produce a single element.  The second and third show how to produce\n",
    "a reduced array from the original array. Array slicing goes beyond the\n",
    "scope of this course.  It is an essential tool for array operations."
   ]
  },
  {
   "cell_type": "code",
   "execution_count": 6,
   "metadata": {},
   "outputs": [
    {
     "name": "stdout",
     "output_type": "stream",
     "text": [
      "\n",
      " Slicing to produce an element, a column and a row of the array\n",
      "2\n",
      "[2 5]\n",
      "[4 5 6]\n"
     ]
    }
   ],
   "source": [
    "print('\\n Slicing to produce an element, a column and a row of the array')\n",
    "print(result2[0, 1])\n",
    "print(result2[:, 1])  # Note the horizontal output of a column.\n",
    "print(result2[1, :])"
   ]
  },
  {
   "cell_type": "markdown",
   "metadata": {},
   "source": [
    "The next series of examples demonstrates simple array operations.  Arrays may\n",
    "be operated on prior to conversion to a matrix for matrix operations.\n",
    "Arrays can be constructed directly from lists of data."
   ]
  },
  {
   "cell_type": "code",
   "execution_count": 8,
   "metadata": {},
   "outputs": [
    {
     "name": "stdout",
     "output_type": "stream",
     "text": [
      "\n",
      " Arrays in order: m , n and m+n\n",
      "[[10 12  5]\n",
      " [15 20  8]]\n",
      "[[45 35 20]\n",
      " [65 40 35]]\n",
      "[[55 47 25]\n",
      " [80 60 43]]\n",
      "\n",
      " Subtraction of n from m equals q\n",
      "[[-35 -23 -15]\n",
      " [-50 -20 -27]]\n",
      "\n",
      " Multiplication of q by a scalar 2.0\n",
      "[[ -70.  -46.  -30.]\n",
      " [-100.  -40.  -54.]]\n",
      "\n",
      " Functions can be applied to an array such as absolute value\n",
      "[[ 70.  46.  30.]\n",
      " [100.  40.  54.]]\n"
     ]
    }
   ],
   "source": [
    "m = array([[10, 12, 5], [15, 20, 8]])\n",
    "n = array([[45, 35, 20], [65, 40, 35]])\n",
    "q = m + n\n",
    "print('\\n Arrays in order: m , n and m+n')\n",
    "print(m)\n",
    "print(n)  # Note that context determines the purpose of \"n\".\n",
    "print(q)\n",
    "\n",
    "print('\\n Subtraction of n from m equals q')\n",
    "q = m - n\n",
    "print(q)\n",
    "\n",
    "s = 2.0\n",
    "print('\\n Multiplication of q by a scalar {}'.format(s))\n",
    "q = s*q\n",
    "print(q)\n",
    "\n",
    "print('\\n Functions can be applied to an array such as absolute value')\n",
    "q = absolute(q)\n",
    "print(q)"
   ]
  },
  {
   "cell_type": "code",
   "execution_count": 0,
   "metadata": {},
   "outputs": [],
   "source": []
  }
 ],
 "metadata": {
  "kernelspec": {
   "display_name": "Python 3",
   "language": "python",
   "name": "python3"
  },
  "language_info": {
   "codemirror_mode": {
    "name": "ipython",
    "version": 3
   },
   "file_extension": ".py",
   "mimetype": "text/x-python",
   "name": "python",
   "nbconvert_exporter": "python",
   "pygments_lexer": "ipython3",
   "version": "3.7.7"
  },
  "varInspector": {
   "cols": {
    "lenName": 16,
    "lenType": 16,
    "lenVar": 40
   },
   "kernels_config": {
    "python": {
     "delete_cmd_postfix": "",
     "delete_cmd_prefix": "del ",
     "library": "var_list.py",
     "varRefreshCmd": "print(var_dic_list())"
    },
    "r": {
     "delete_cmd_postfix": ") ",
     "delete_cmd_prefix": "rm(",
     "library": "var_list.r",
     "varRefreshCmd": "cat(var_dic_list()) "
    }
   },
   "types_to_exclude": [
    "module",
    "function",
    "builtin_function_or_method",
    "instance",
    "_Feature"
   ],
   "window_display": false
  }
 },
 "nbformat": 4,
 "nbformat_minor": 1
}
