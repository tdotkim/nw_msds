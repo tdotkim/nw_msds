{
 "cells": [
  {
   "cell_type": "markdown",
   "metadata": {},
   "source": [
    "# Module 2 Discussion Notebook"
   ]
  },
  {
   "cell_type": "markdown",
   "metadata": {},
   "source": [
    "## The Problem"
   ]
  },
  {
   "cell_type": "markdown",
   "metadata": {},
   "source": [
    "I've not sure if I've encountered a system of equations involving more than two linear equations + more than two variables.\n",
    "\n",
    "One hypothetical situation would be if there potentially a contracting situation in advertising where you had three similar products in place and the budget needs to be balanced for them on three variables: CPM (cost per mille, the fee for every 1,000 impressions[the views of an ad], fee, User fee, and data fees.\n",
    "\n",
    "__Let's assume that we have the following:__\n",
    "\n",
    "__1.25x+100y+1300z = $1,000,000 (Product A)__\n",
    "\n",
    "__1.5x+250y+1100z = $1,000,000 (Product B)__\n",
    "\n",
    "__1.15x+175y+1250z = $1,000,000 (Product C)__\n",
    "\n",
    "CPM fees are $1.25, $1.50, $1.15\n",
    "\n",
    "Fees per user are $100, $250, $175 per license.\n",
    "\n",
    "Cost per million rows is $1,300, $1,100, and $1,250\n",
    "\n",
    "Based on the wisdom of those above, we're to balance the budget between the three products.\n",
    "\n",
    "Using the inverse method of solving we can do the following:"
   ]
  },
  {
   "cell_type": "markdown",
   "metadata": {},
   "source": [
    "## The Solution"
   ]
  },
  {
   "cell_type": "code",
   "execution_count": 1,
   "metadata": {},
   "outputs": [
    {
     "name": "stdout",
     "output_type": "stream",
     "text": [
      "[132743.36283186    575.22123894    597.34513274]\n"
     ]
    }
   ],
   "source": [
    "#first step is to import numpy so we can do some math\n",
    "import numpy as np\n",
    "\n",
    "#now let's convert our system of equations into something python can ingest\n",
    "#we'll do a list of lists. three lists that are our equations in a list fed to numpy\n",
    "#first list is 1.25x+100y+1300z as [1.25,100,1300]\n",
    "#second list is 1.5x+250y+1100z as [1.5,250,1100]\n",
    "#third list is 1.15x+175y+1250z as [1.15,175,1250]\n",
    "#We're going to to then plug this into np.array since python natively does not support arrays, only lists\n",
    "#and python can't do maths on lists without calling each element in a list\n",
    "A = np.array([[1.25,100,1300],[1.5,250,1100],[1.15,175,1250]])\n",
    "\n",
    "#the above might be visually confusing since it's horizontal.\n",
    "#you can do the below as well using spaces to line them up vertically\n",
    "#don't forget your commas when you do this!\n",
    "#functionally, it's still just a 1-dimensional list\n",
    "# A = np.array([\n",
    "#              [1.25,100,1300], equation1\n",
    "#              [1.5,250,1100], equation2\n",
    "#              [1.15,175,1250] equation 3\n",
    "#              ] -enclosing bracket for list of equations\n",
    "#              ) -enclosing parenthesis for function np.array\n",
    "\n",
    "#now we'll make the right hand side of the equation\n",
    "#since the powers that be have decreed the budgets must be equal\n",
    "#we can just do another list of [1000000,1000000,1000000]\n",
    "B = [1000000,1000000,1000000]\n",
    "\n",
    "#now we're going to use numpys built int functions and do our math\n",
    "#step one is to call numpy via 'np'\n",
    "#step two is call linalg.inv which gives us the inverse\n",
    "#step three is also doing .dot which does the dot product for us\n",
    "#note in step three np.linalg.inv and np.dot are two separate functions\n",
    "#by doing it like this we save some space\n",
    "#alternate is below:\n",
    "#step1 = np.linalg.inv(A)\n",
    "#step2 = step1.dot(B)\n",
    "#print(step2)\n",
    "\n",
    "X = np.linalg.inv(A).dot(B)\n",
    "\n",
    "#print the answer!\n",
    "print(X)"
   ]
  },
  {
   "cell_type": "markdown",
   "metadata": {},
   "source": [
    "## The verbose and formatted solution"
   ]
  },
  {
   "cell_type": "code",
   "execution_count": 31,
   "metadata": {},
   "outputs": [
    {
     "name": "stdout",
     "output_type": "stream",
     "text": [
      "[80. 40. 35.]\n"
     ]
    },
    {
     "ename": "",
     "evalue": "",
     "output_type": "error",
     "traceback": [
      "\u001b[1;31mThe Kernel crashed while executing code in the the current cell or a previous cell. Please review the code in the cell(s) to identify a possible cause of the failure. Click <a href='https://aka.ms/vscodeJupyterKernelCrash'>here</a> for more info. View Jupyter <a href='command:jupyter.viewOutput'>log</a> for further details."
     ]
    }
   ],
   "source": [
    "A = np.array([\n",
    "             [1,1,1], #equation1\n",
    "             [394,1463,1684], #equation2\n",
    "             [1,-2,0] #equation 3\n",
    "             ] #enclosing bracket for list of equations\n",
    "             ) #enclosing parenthesis for function np.array\n",
    "\n",
    "B = [155,148980,0]\n",
    "\n",
    "step1 = np.linalg.inv(A)\n",
    "step2 = step1.dot(B)\n",
    "print(step2)"
   ]
  },
  {
   "cell_type": "code",
   "execution_count": 11,
   "metadata": {},
   "outputs": [
    {
     "name": "stdout",
     "output_type": "stream",
     "text": [
      "[ 14.78868863 115.42262275]\n"
     ]
    }
   ],
   "source": [
    "A = np.array([\n",
    "             [2,1], #equation1\n",
    "             [503,1056], #equation2\n",
    "             #[1.15,175,1250] #equation 3\n",
    "             ] #enclosing bracket for list of equations\n",
    "             ) #enclosing parenthesis for function np.array\n",
    "\n",
    "B = [145,129325]\n",
    "\n",
    "X = np.linalg.inv(A).dot(B)\n",
    "print(X)"
   ]
  },
  {
   "cell_type": "code",
   "execution_count": null,
   "metadata": {},
   "outputs": [],
   "source": [
    "A = np.array([\n",
    "             [2,1,1], #equation1\n",
    "             [503,1056,1489], #equation2\n",
    "             [2,-1,0] #equation 3\n",
    "             ] #enclosing bracket for list of equations\n",
    "             ) #enclosing parenthesis for function np.array\n",
    "\n",
    "B = [145,129325,0]\n",
    "\n",
    "step1 = np.linalg.inv(A)\n",
    "step2 = step1.dot(B)\n",
    "print(step2)"
   ]
  },
  {
   "cell_type": "code",
   "execution_count": 24,
   "metadata": {},
   "outputs": [
    {
     "name": "stdout",
     "output_type": "stream",
     "text": [
      "[[  980.  2090.  3150. 11000.]\n",
      " [ 1190.  2310.  2430. 12320.]]\n"
     ]
    }
   ],
   "source": [
    "arr1=np.array([[14000,19000,35000,50000],[17000,21000,27000,56000]])\n",
    "arr2=np.array([[0.07,0,0,0],[0,0.11,0,0],[0,0,0.09,0],[0,0,0,0.22]])\n",
    "answer=np.dot(arr1,arr2)\n",
    "print(answer)\n"
   ]
  },
  {
   "cell_type": "code",
   "execution_count": 26,
   "metadata": {},
   "outputs": [
    {
     "name": "stdout",
     "output_type": "stream",
     "text": [
      "[7. 2.]\n"
     ]
    }
   ],
   "source": [
    "t1=np.array([[3,-10],[-1,5]])\n",
    "invt1=np.linalg.inv(t1)\n",
    "rhs=np.array([1,3])\n",
    "answer1=np.linalg.inv(t1).dot(rhs)\n",
    "print(answer1)"
   ]
  },
  {
   "cell_type": "code",
   "execution_count": 29,
   "metadata": {},
   "outputs": [
    {
     "name": "stdout",
     "output_type": "stream",
     "text": [
      "[ 0.  2. -2.]\n"
     ]
    }
   ],
   "source": [
    "rhs=np.array([20,-6,-20])\n",
    "soe=np.array([[-1,5,-5],[2,-2,1],[3,-4,6]])\n",
    "answer2=np.linalg.inv(soe).dot(rhs)\n",
    "print(answer2)"
   ]
  }
 ],
 "metadata": {
  "kernelspec": {
   "display_name": "Python 3.9.7 ('base')",
   "language": "python",
   "name": "python3"
  },
  "language_info": {
   "codemirror_mode": {
    "name": "ipython",
    "version": 3
   },
   "file_extension": ".py",
   "mimetype": "text/x-python",
   "name": "python",
   "nbconvert_exporter": "python",
   "pygments_lexer": "ipython3",
   "version": "3.9.7"
  },
  "orig_nbformat": 4,
  "vscode": {
   "interpreter": {
    "hash": "c988922956a37c878919d38cef178e7a9486793be5d341e6a2f55e77a02d25a7"
   }
  }
 },
 "nbformat": 4,
 "nbformat_minor": 2
}
