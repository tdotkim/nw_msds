{
 "cells": [
  {
   "cell_type": "markdown",
   "metadata": {},
   "source": [
    "# MSDS 400 Matrix Inverses"
   ]
  },
  {
   "cell_type": "code",
   "execution_count": 2,
   "metadata": {},
   "outputs": [],
   "source": [
    "import numpy as np\n",
    "from numpy.linalg import linalg, inv"
   ]
  },
  {
   "cell_type": "markdown",
   "metadata": {},
   "source": [
    "**Module Objective:** demonstrate numpy matrix calculations.  For\n",
    "matrix calculations, arrays must be converted into numpy matrices.\n",
    "\n",
    "With numpy matrices, you can add, subtract, multiply, find the transpose\n",
    "find the inverse, solve systems of linear equations and much more.\n",
    "\n",
    "Solve a system of consistent linear equations.\n",
    "\n",
    "Right hand side of system of equations has data entered as a list\n",
    "and converted to 3x1 matrix and then a 1x3 matrix using the transpose\n",
    "function. Similar steps are taken for the matrix A."
   ]
  },
  {
   "cell_type": "code",
   "execution_count": 3,
   "metadata": {},
   "outputs": [
    {
     "name": "stdout",
     "output_type": "stream",
     "text": [
      "\n",
      "Right Hand Side of Equation\n",
      "[[96]\n",
      " [87]\n",
      " [74]]\n",
      "\n",
      "Matrix A\n",
      "[[1 3 4]\n",
      " [2 1 3]\n",
      " [4 2 1]]\n"
     ]
    }
   ],
   "source": [
    "rhs = [96, 87, 74]\n",
    "rhs = np.matrix(rhs)\n",
    "rhs = np.transpose(rhs)\n",
    "print('\\nRight Hand Side of Equation')\n",
    "print(rhs)\n",
    "\n",
    "A = [[1, 3, 4], [2, 1, 3], [4, 2, 1]]\n",
    "A = np.matrix(A)\n",
    "print('\\nMatrix A')\n",
    "print(A)"
   ]
  },
  {
   "cell_type": "markdown",
   "metadata": {},
   "source": [
    "Numpy has various functions to perform matrix calculations.  The inverse\n",
    "function inv() is one of those.\n",
    "\n",
    "Find inverse of A."
   ]
  },
  {
   "cell_type": "code",
   "execution_count": 4,
   "metadata": {},
   "outputs": [
    {
     "name": "stdout",
     "output_type": "stream",
     "text": [
      "\n",
      "Inverse of A\n",
      "[[-0.2  0.2  0.2]\n",
      " [ 0.4 -0.6  0.2]\n",
      " [ 0.   0.4 -0.2]]\n"
     ]
    }
   ],
   "source": [
    "print('\\nInverse of A')\n",
    "IA = inv(A)\n",
    "print(IA)"
   ]
  },
  {
   "cell_type": "markdown",
   "metadata": {},
   "source": [
    "In what follows, I am converting matrices with floating point numbers  to\n",
    "matrices with integer numbers.  This is optional and being done to show\n",
    "that it is possible to do so with numpy matrices.\n",
    "\n",
    "Note that the function np.dot() performs matrix multiplication.\n",
    "Verify inverse by multiplying matrix A and its inverse IA."
   ]
  },
  {
   "cell_type": "code",
   "execution_count": 5,
   "metadata": {},
   "outputs": [
    {
     "name": "stdout",
     "output_type": "stream",
     "text": [
      "\n",
      "Identity Matrix\n",
      "[[ 1. -0. -0.]\n",
      " [ 0.  1.  0.]\n",
      " [ 0.  0.  1.]]\n"
     ]
    }
   ],
   "source": [
    "print('\\nIdentity Matrix')\n",
    "I = np.dot(IA, A)\n",
    "I = np.rint(I)               # This converts floating point to integer.\n",
    "print(I)"
   ]
  },
  {
   "cell_type": "markdown",
   "metadata": {},
   "source": [
    "Solve the system of equations and convert to integer values. With numpy it is necessary to use np.dot() for the product."
   ]
  },
  {
   "cell_type": "code",
   "execution_count": 8,
   "metadata": {},
   "outputs": [
    {
     "name": "stdout",
     "output_type": "stream",
     "text": [
      "\n",
      " Solution to Problem\n",
      "[[13.]\n",
      " [ 1.]\n",
      " [20.]]\n"
     ]
    }
   ],
   "source": [
    "result = np.dot(IA, rhs)\n",
    "result = np.rint(result)    # This converts floating point to integer.\n",
    "print('\\n Solution to Problem')\n",
    "print(result)"
   ]
  },
  {
   "cell_type": "markdown",
   "metadata": {},
   "source": [
    "**Note:** There is a more efficient way to do this with the linalg.solve() function."
   ]
  },
  {
   "cell_type": "code",
   "execution_count": 9,
   "metadata": {},
   "outputs": [
    {
     "name": "stdout",
     "output_type": "stream",
     "text": [
      "\n",
      "Illustration of solution with linalg.solve(,) function\n",
      "[[13.]\n",
      " [ 1.]\n",
      " [20.]]\n"
     ]
    }
   ],
   "source": [
    "print('\\Illustration of solution with linalg.solve(,) function')\n",
    "result2 = linalg.solve(A, rhs)\n",
    "print(np.rint(raesult2))    # This converts floating point to integer."
   ]
  },
  {
   "cell_type": "markdown",
   "metadata": {},
   "source": [
    "Some square matrices do not have inverses. The following example shows\n",
    "how this is handled with numpy.  Note the magnitude of the elements."
   ]
  },
  {
   "cell_type": "code",
   "execution_count": 10,
   "metadata": {},
   "outputs": [
    {
     "name": "stdout",
     "output_type": "stream",
     "text": [
      "\n",
      "Example of an inverse matrix for inconsistent equations\n",
      "[[-3.37769972e+15 -3.37769972e+15  6.75539944e+15]\n",
      " [ 6.75539944e+15  6.75539944e+15 -1.35107989e+16]\n",
      " [-3.37769972e+15 -3.37769972e+15  6.75539944e+15]]\n"
     ]
    }
   ],
   "source": [
    "print('\\nExample of an inverse matrix for inconsistent equations')\n",
    "A = [[1, 2, 3], [-3, -2, -1], [-1, 0, 1]]\n",
    "A = np.array(A)\n",
    "IA = inv(A)\n",
    "print(IA)"
   ]
  },
  {
   "cell_type": "code",
   "execution_count": 0,
   "metadata": {},
   "outputs": [],
   "source": []
  }
 ],
 "metadata": {
  "kernelspec": {
   "display_name": "Python 3",
   "language": "python",
   "name": "python3"
  },
  "language_info": {
   "codemirror_mode": {
    "name": "ipython",
    "version": 3
   },
   "file_extension": ".py",
   "mimetype": "text/x-python",
   "name": "python",
   "nbconvert_exporter": "python",
   "pygments_lexer": "ipython3",
   "version": "3.7.7"
  },
  "varInspector": {
   "cols": {
    "lenName": 16,
    "lenType": 16,
    "lenVar": 40
   },
   "kernels_config": {
    "python": {
     "delete_cmd_postfix": "",
     "delete_cmd_prefix": "del ",
     "library": "var_list.py",
     "varRefreshCmd": "print(var_dic_list())"
    },
    "r": {
     "delete_cmd_postfix": ") ",
     "delete_cmd_prefix": "rm(",
     "library": "var_list.r",
     "varRefreshCmd": "cat(var_dic_list()) "
    }
   },
   "types_to_exclude": [
    "module",
    "function",
    "builtin_function_or_method",
    "instance",
    "_Feature"
   ],
   "window_display": false
  }
 },
 "nbformat": 4,
 "nbformat_minor": 1
}
