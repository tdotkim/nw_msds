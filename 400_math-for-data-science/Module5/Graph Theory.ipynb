{
 "cells": [
  {
   "cell_type": "markdown",
   "metadata": {},
   "source": [
    "# MSDS 400 Graph Theory\n",
    "\n",
    "Python is an object oriented language. This allows us to create abstract classes, and then instantiate them into objects so that each object has the functionality of the class built into it. \n",
    "\n",
    "One of the best ways to explore graph theory in python is through classes. We will create classes to repreesent the overall graph and then a class to represent a node. The objects created from these classes will have very helpful functions, such as finding the distance between two nodes. "
   ]
  },
  {
   "cell_type": "code",
   "execution_count": 1,
   "metadata": {},
   "outputs": [],
   "source": [
    "# We are going to need a few libraries for this exercise\n",
    "import string"
   ]
  },
  {
   "cell_type": "code",
   "execution_count": 2,
   "metadata": {},
   "outputs": [],
   "source": [
    "class Node(object):\n",
    "    '''\n",
    "    This is a class that represents a node. The functions of a class are called methods. Instantiations of this class\n",
    "    will create objects that have access to the methods. \n",
    "    \n",
    "    Each method begins with an argument of \"self\" which lets the methos know which object it belongs to.\n",
    "    \n",
    "    For the Node object, we care about the name of the node and a dictionary naming the adjacent nodes. The adjacent\n",
    "    dictionary keys will be the name's of adjacent nodes and the value will be the weight of that edge.\n",
    "    '''\n",
    "    def __init__(self, name):\n",
    "        # The init method is magic python method that get's called when an object is instantiated. \n",
    "        self.name = name  # Take the name given at instantiation and assign it to the object\n",
    "        self.adjacent = {}  # When we create the node, we don't know about any adjacent nodes. Create a placeholder\n",
    "        \n",
    "    def __str__(self):\n",
    "        # When printing a node, format it like this:\n",
    "        return \"Node {}: {}\".format(self.name, self.adjacent)\n",
    "    \n",
    "    def __repr__(self):\n",
    "        # When representing this object, use the str method\n",
    "        return self.__str__()\n",
    "        "
   ]
  },
  {
   "cell_type": "markdown",
   "metadata": {},
   "source": [
    "Now, we can instantiate two nodes a and b. These two nodes share a weighted edge of 2"
   ]
  },
  {
   "cell_type": "code",
   "execution_count": 3,
   "metadata": {},
   "outputs": [
    {
     "name": "stdout",
     "output_type": "stream",
     "text": [
      "Node a: {'b': 2}\n",
      "Node a is adjacent to the following nodes {'b': 2}\n",
      "Node b is adjacent to the following nodes {'a': 2}\n"
     ]
    },
    {
     "data": {
      "text/plain": [
       "Node b: {'a': 2}"
      ]
     },
     "execution_count": 3,
     "metadata": {},
     "output_type": "execute_result"
    }
   ],
   "source": [
    "node_a = Node(name='a')\n",
    "node_b = Node(name='b')\n",
    "\n",
    "node_a.adjacent['b'] = 2\n",
    "node_b.adjacent['a'] = 2\n",
    "print(node_a)\n",
    "\n",
    "print(\"Node {} is adjacent to the following nodes {}\".format(node_a.name, node_a.adjacent))\n",
    "print(\"Node {} is adjacent to the following nodes {}\".format(node_b.name, node_b.adjacent))\n",
    "node_b"
   ]
  },
  {
   "cell_type": "markdown",
   "metadata": {},
   "source": [
    "The way that we join these nodes together is through a graph. The graph class will have many of the useful methods we care about."
   ]
  },
  {
   "cell_type": "code",
   "execution_count": 4,
   "metadata": {},
   "outputs": [],
   "source": [
    "class Graph(object):\n",
    "    '''\n",
    "    This class represents a graph. The graph is consists of a collection of nodes. \n",
    "    '''\n",
    "    def __init__(self, adjacency_matrix=None):\n",
    "        '''\n",
    "        When the graph is instantiated it will not know about any of its member nodes. There is an optional \n",
    "        `adjacency_matrix` argument that defaults to None. If an adjacency_matrix is provided, then we can \n",
    "        create the member nodes, their relationships, and add them to this graph.\n",
    "        '''\n",
    "        self.nodes = {}\n",
    "        if adjacency_matrix:\n",
    "            # We were provided an adjacency matrix\n",
    "            self._create_member_nodes_from_adjacency_matrix(adjacency_matrix)\n",
    "            \n",
    "    def __str__(self):\n",
    "        return '\\n'.join([str(n) for n in self.nodes.values()])\n",
    "    \n",
    "    def __repr__(self):\n",
    "        return self.__str__()\n",
    "    \n",
    "    def _create_member_nodes_from_adjacency_matrix(self, adjacency_matrix):\n",
    "        # A preceeding underscore indicates a method that is only called within the class. \n",
    "        # Create nodes and weights from an adjacency matrix (list of lists) and assign them to this graph\n",
    "        letters = list(string.ascii_lowercase)  # Get a list of letters to assign to the nodes we create\n",
    "        needed_letters = len(adjacency_matrix)\n",
    "        if needed_letters > len(letters):\n",
    "            # Give the user an error that the input matrix is too large to have \n",
    "            raise ValueError(\"The matrix is too large to create from 26 letters. Please manually assign names to nodes and then add them to the graph.\")\n",
    "        \n",
    "        for i, row in enumerate(adjacency_matrix):  # get an index of the row and the contentx of the row\n",
    "            letter_name = letters[i]\n",
    "            node = Node(letter_name)\n",
    "            for j, column_value in enumerate(row):\n",
    "                if column_value != 0:  # There is an adjacent node here\n",
    "                    adjacent_letter_name = letters[j]\n",
    "                    node.adjacent[adjacent_letter_name] = column_value\n",
    "            self.nodes[letter_name] = node\n",
    "            \n",
    "    def get_distance_of_path(self, path):\n",
    "        # Given a list of node names within the graph, find its distance using the node adjacency measures\n",
    "        distance = 0\n",
    "        for i, node_name in enumerate(path[:-1]):\n",
    "            # Gets the index and node name for each in the path except for the last one\n",
    "            this_node = self.nodes[node_name]\n",
    "            next_node = self.nodes[path[i+1]]\n",
    "            distance += this_node.adjacent[next_node.name]  # Get the distance from this_node to next node\n",
    "        \n",
    "        return distance\n",
    "    \n",
    "    def find_all_paths_between(self, a, b, path=None):\n",
    "        if not path:\n",
    "            # No path list provided, create one\n",
    "            path = []\n",
    "\n",
    "        path = path + [a] # Add a to the path\n",
    "\n",
    "        if a == b:  # This is a path to itself, at the end of a path\n",
    "            return [path]\n",
    "        if a not in self.nodes:  # a could not be found in the graph\n",
    "            return []\n",
    "        paths = []\n",
    "        for node in self.nodes[a].adjacent:  # look to adjacent nodes of a\n",
    "            if node not in path:\n",
    "                newpaths = self.find_all_paths_between(node, b, path)  # Recursivly go down another level\n",
    "                for newpath in newpaths:\n",
    "                    paths.append(newpath)\n",
    "        return paths\n",
    "    \n",
    "    def shortest_path(self, a, b):\n",
    "        # Get the distance of each weighted path and return the shortest\n",
    "        all_paths = self.find_all_paths_between(a, b)\n",
    "        \n",
    "        if not all_paths:\n",
    "            return []\n",
    "        \n",
    "        # The shortest path will be the first path in the list\n",
    "        shortest_path = None\n",
    "        shortest_distance = None\n",
    "        \n",
    "        for path in all_paths:\n",
    "            p_distance = self.get_distance_of_path(path)\n",
    "            if not shortest_distance or p_distance < shortest_distance:\n",
    "                # This path is shorter\n",
    "                shortest_path = path\n",
    "                shortest_distance = p_distance\n",
    "                \n",
    "        return shortest_path\n",
    "    \n",
    "    def is_tree(self):\n",
    "        # returns True if the graph is a tree, otherwise False\n",
    "        \n",
    "        node_names = list(self.nodes.keys())\n",
    "        first = node_names[0]  # Make sure the first node has a path to all other nodes\n",
    "        \n",
    "        for node in node_names:\n",
    "            if node == first:\n",
    "                continue  # Don't compare it against itself\n",
    "            if not self.find_all_paths_between(first, node):\n",
    "                return False  # No path was found between first and node, this must not be a tree\n",
    "        \n",
    "        return True\n",
    "        "
   ]
  },
  {
   "cell_type": "markdown",
   "metadata": {},
   "source": [
    "With the Graph class now, we can instantiate some graphs using adjacency matricies. Here is an unweighted square graph."
   ]
  },
  {
   "cell_type": "code",
   "execution_count": 5,
   "metadata": {},
   "outputs": [],
   "source": [
    "matrix = [\n",
    "    [0, 1, 0, 1],\n",
    "    [1, 0, 1, 0],\n",
    "    [0, 1, 0, 1],\n",
    "    [1, 0, 1, 0]\n",
    "]\n",
    "square_graph = Graph(matrix)"
   ]
  },
  {
   "cell_type": "markdown",
   "metadata": {},
   "source": [
    "We can see that the graph is an instance of the Graph class we created and that it has four nodes and the adjacencies of those nodes."
   ]
  },
  {
   "cell_type": "code",
   "execution_count": 6,
   "metadata": {},
   "outputs": [
    {
     "data": {
      "text/plain": [
       "Node a: {'b': 1, 'd': 1}\n",
       "Node b: {'a': 1, 'c': 1}\n",
       "Node c: {'b': 1, 'd': 1}\n",
       "Node d: {'a': 1, 'c': 1}"
      ]
     },
     "execution_count": 6,
     "metadata": {},
     "output_type": "execute_result"
    }
   ],
   "source": [
    "square_graph"
   ]
  },
  {
   "cell_type": "code",
   "execution_count": 7,
   "metadata": {},
   "outputs": [
    {
     "name": "stdout",
     "output_type": "stream",
     "text": [
      "The graph is a tree: True\n"
     ]
    }
   ],
   "source": [
    "print(\"The graph is a tree: {}\".format(square_graph.is_tree()))"
   ]
  },
  {
   "cell_type": "markdown",
   "metadata": {},
   "source": [
    "Looking at a weighted square graph we can now look at distances between nodes."
   ]
  },
  {
   "cell_type": "code",
   "execution_count": 8,
   "metadata": {},
   "outputs": [
    {
     "data": {
      "text/plain": [
       "Node a: {'b': 5, 'd': 1}\n",
       "Node b: {'a': 5, 'c': 6}\n",
       "Node c: {'b': 6, 'd': -3}\n",
       "Node d: {'a': 1, 'c': -3}"
      ]
     },
     "execution_count": 8,
     "metadata": {},
     "output_type": "execute_result"
    }
   ],
   "source": [
    "another_matrix = [\n",
    "    [0, 5, 0, 1],\n",
    "    [5, 0, 6, 0],\n",
    "    [0, 6, 0, -3],\n",
    "    [1, 0, -3, 0]\n",
    "]\n",
    "weighted_graph = Graph(another_matrix)\n",
    "weighted_graph"
   ]
  },
  {
   "cell_type": "markdown",
   "metadata": {},
   "source": [
    "This is another square graph, and we can see multiple paths from points a to c. We can also use the weights to find the shortest path."
   ]
  },
  {
   "cell_type": "code",
   "execution_count": 9,
   "metadata": {},
   "outputs": [
    {
     "data": {
      "text/plain": [
       "[['a', 'b', 'c'], ['a', 'd', 'c']]"
      ]
     },
     "execution_count": 9,
     "metadata": {},
     "output_type": "execute_result"
    }
   ],
   "source": [
    "weighted_graph.find_all_paths_between('a', 'c')"
   ]
  },
  {
   "cell_type": "code",
   "execution_count": 10,
   "metadata": {},
   "outputs": [
    {
     "data": {
      "text/plain": [
       "['a', 'd', 'c']"
      ]
     },
     "execution_count": 10,
     "metadata": {},
     "output_type": "execute_result"
    }
   ],
   "source": [
    "weighted_graph.shortest_path('a', 'c')"
   ]
  },
  {
   "cell_type": "markdown",
   "metadata": {},
   "source": [
    "We can add another node to this graph, but it is not adjacent to any of the previous nodes"
   ]
  },
  {
   "cell_type": "code",
   "execution_count": 11,
   "metadata": {},
   "outputs": [
    {
     "data": {
      "text/plain": [
       "Node a: {'b': 5, 'd': 1}\n",
       "Node b: {'a': 5, 'c': 6}\n",
       "Node c: {'b': 6, 'd': -3}\n",
       "Node d: {'a': 1, 'c': -3}\n",
       "Node e: {}"
      ]
     },
     "execution_count": 11,
     "metadata": {},
     "output_type": "execute_result"
    }
   ],
   "source": [
    "weighted_graph.nodes['e'] = (Node('e'))\n",
    "weighted_graph"
   ]
  },
  {
   "cell_type": "code",
   "execution_count": 12,
   "metadata": {},
   "outputs": [
    {
     "data": {
      "text/plain": [
       "False"
      ]
     },
     "execution_count": 12,
     "metadata": {},
     "output_type": "execute_result"
    }
   ],
   "source": [
    "weighted_graph.is_tree()"
   ]
  },
  {
   "cell_type": "code",
   "execution_count": null,
   "metadata": {},
   "outputs": [],
   "source": []
  }
 ],
 "metadata": {
  "kernelspec": {
   "display_name": "Python 3",
   "language": "python",
   "name": "python3"
  },
  "language_info": {
   "codemirror_mode": {
    "name": "ipython",
    "version": 3
   },
   "file_extension": ".py",
   "mimetype": "text/x-python",
   "name": "python",
   "nbconvert_exporter": "python",
   "pygments_lexer": "ipython3",
   "version": "3.7.7"
  },
  "varInspector": {
   "cols": {
    "lenName": 16,
    "lenType": 16,
    "lenVar": 40
   },
   "kernels_config": {
    "python": {
     "delete_cmd_postfix": "",
     "delete_cmd_prefix": "del ",
     "library": "var_list.py",
     "varRefreshCmd": "print(var_dic_list())"
    },
    "r": {
     "delete_cmd_postfix": ") ",
     "delete_cmd_prefix": "rm(",
     "library": "var_list.r",
     "varRefreshCmd": "cat(var_dic_list()) "
    }
   },
   "types_to_exclude": [
    "module",
    "function",
    "builtin_function_or_method",
    "instance",
    "_Feature"
   ],
   "window_display": false
  }
 },
 "nbformat": 4,
 "nbformat_minor": 2
}
