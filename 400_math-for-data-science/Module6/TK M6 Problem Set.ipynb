{
 "cells": [
  {
   "cell_type": "markdown",
   "metadata": {},
   "source": [
    "<div class=\"alert alert-block alert-success\"><b>Problem 2:</b> Find the following limit: <br/>\n",
    "    \n",
    "$$\\lim_{x \\to 7} \\frac{x^3 - 9x^2 + 9x + 35}{x-7}$$ \n",
    "    \n",
    "<br/>\n",
    "</div>\n"
   ]
  },
  {
   "cell_type": "code",
   "execution_count": 1,
   "metadata": {},
   "outputs": [],
   "source": [
    "from sympy import Symbol, limit"
   ]
  },
  {
   "cell_type": "code",
   "execution_count": 2,
   "metadata": {},
   "outputs": [
    {
     "name": "stdout",
     "output_type": "stream",
     "text": [
      "79\n"
     ]
    }
   ],
   "source": [
    "from sympy import Symbol, limit\n",
    "\n",
    "x = Symbol('x')\n",
    "f_x = (x**3 - 6*x**2 - 17*x + 8) / (x-8)\n",
    "li = limit(f_x, x, 8)\n",
    "print(li)"
   ]
  },
  {
   "cell_type": "code",
   "execution_count": 7,
   "metadata": {},
   "outputs": [
    {
     "data": {
      "image/png": "[encoded data removed]",
      "text/plain": [
       "<Figure size 640x480 with 1 Axes>"
      ]
     },
     "metadata": {},
     "output_type": "display_data"
    },
    {
     "name": "stdout",
     "output_type": "stream",
     "text": [
      "from - -6\n",
      "from + -6\n",
      "-6\n"
     ]
    }
   ],
   "source": [
    "#\n",
    "from sympy import Symbol, limit, Piecewise\n",
    "from sympy.plotting import plot\n",
    "\n",
    "x = Symbol('x')\n",
    "f_x = Piecewise((-1*(12/(x+3)), x < -1),(-6, x == 1),(6/x,  x > -1))\n",
    "plot(f_x, ylim = (-10, 7))\n",
    "print('from -',f_x.limit(x, -1, '+'))\n",
    "print('from +',f_x.limit(x, -1, '-'))\n",
    "print(f_x.limit(x, -1))\n"
   ]
  },
  {
   "cell_type": "markdown",
   "metadata": {},
   "source": [
    "<div class=\"alert alert-block alert-success\"><b>Problem 6:</b> \n",
    "    \n",
    "An antibiotic is applied to a culture of bacteria. The number of bacteria cells remaining in the culture is given \n",
    "by $$ p(t)=\\frac{13500}{7t^2+3} $$ \n",
    "    (t≥0 where t represents elapsed time in seconds.)\n",
    "    <br/>\n",
    "<br/>\n",
    "Determine the rate of change with respect to time: p'(t)=\n",
    "    \n",
    "Determine the rate of change at t=7 : cells per second. (Round your answer to 4 decimals as needed.)\n",
    "<br/>\n",
    "</div>"
   ]
  },
  {
   "cell_type": "code",
   "execution_count": 4,
   "metadata": {},
   "outputs": [
    {
     "data": {
      "text/latex": [
       "$\\displaystyle - \\frac{68000 t}{\\left(2 t^{2} + 6\\right)^{2}}$"
      ],
      "text/plain": [
       "-68000*t/(2*t**2 + 6)**2"
      ]
     },
     "metadata": {},
     "output_type": "display_data"
    },
    {
     "name": "stdout",
     "output_type": "stream",
     "text": [
      "The rate of change at t=7 is  -354.1666666666667\n"
     ]
    }
   ],
   "source": [
    "from sympy import Symbol, diff, lambdify\n",
    "from IPython.display import display\n",
    "\n",
    "t = Symbol('t')\n",
    "p = 17000/(2*t**2 + 6)\n",
    "der_f = p.diff(t)\n",
    "func_der_f = lambdify(t, der_f)\n",
    "\n",
    "\n",
    "display(der_f)\n",
    "\n",
    "print(\"The rate of change at t=7 is \",func_der_f(3))\n"
   ]
  },
  {
   "cell_type": "code",
   "execution_count": 11,
   "metadata": {},
   "outputs": [
    {
     "data": {
      "text/latex": [
       "$\\displaystyle 5 - 8 t$"
      ],
      "text/plain": [
       "5 - 8*t"
      ]
     },
     "metadata": {},
     "output_type": "display_data"
    },
    {
     "name": "stdout",
     "output_type": "stream",
     "text": [
      "The avg velocity at .01 -19.08\n",
      "The avg velocity at .005 -19.04\n",
      "The avg velocity at .002 -19.016\n",
      "The avg velocity at .001 -19.008\n",
      "The avg velocity at 0 5\n"
     ]
    }
   ],
   "source": [
    "from sympy import Symbol, diff, lambdify\n",
    "from IPython.display import display\n",
    "\n",
    "t = Symbol('t')\n",
    "p = (-4*(t**2)) + (5*t) + 67\n",
    "der_f = p.diff(t)\n",
    "func_der_f = lambdify(t, der_f)\n",
    "\n",
    "\n",
    "display(der_f)\n",
    "\n",
    "print(\"The avg velocity at .01\",func_der_f(3.01))\n",
    "print(\"The avg velocity at .005\",func_der_f(3.005))\n",
    "print(\"The avg velocity at .002\",func_der_f(3.002))\n",
    "print(\"The avg velocity at .001\",float(func_der_f(3.001)))\n",
    "print(\"The avg velocity at 0\",func_der_f(0))\n"
   ]
  },
  {
   "cell_type": "code",
   "execution_count": 18,
   "metadata": {},
   "outputs": [
    {
     "data": {
      "text/latex": [
       "$\\displaystyle \\frac{d}{d t} \\left(- 16 t^{2} + 32 t\\right)$"
      ],
      "text/plain": [
       "Derivative(-16*t**2 + 32*t, t)"
      ]
     },
     "metadata": {},
     "output_type": "display_data"
    },
    {
     "ename": "NameError",
     "evalue": "name 'Derivative' is not defined",
     "output_type": "error",
     "traceback": [
      "\u001b[1;31m---------------------------------------------------------------------------\u001b[0m",
      "\u001b[1;31mNameError\u001b[0m                                 Traceback (most recent call last)",
      "Cell \u001b[1;32mIn [18], line 12\u001b[0m\n\u001b[0;32m      7\u001b[0m func_der_f \u001b[39m=\u001b[39m lambdify(t, der_f)\n\u001b[0;32m     10\u001b[0m display(der_f)\n\u001b[1;32m---> 12\u001b[0m \u001b[39mprint\u001b[39m(\u001b[39m\"\u001b[39m\u001b[39mThe avg velocity at .01\u001b[39m\u001b[39m\"\u001b[39m,func_der_f(\u001b[39m.01\u001b[39;49m))\n\u001b[0;32m     13\u001b[0m \u001b[39mprint\u001b[39m(\u001b[39m\"\u001b[39m\u001b[39mThe avg velocity at .005\u001b[39m\u001b[39m\"\u001b[39m,func_der_f(\u001b[39m.005\u001b[39m))\n\u001b[0;32m     14\u001b[0m \u001b[39mprint\u001b[39m(\u001b[39m\"\u001b[39m\u001b[39mThe avg velocity at .002\u001b[39m\u001b[39m\"\u001b[39m,func_der_f(\u001b[39m.002\u001b[39m))\n",
      "File \u001b[1;32m<lambdifygenerated-8>:4\u001b[0m, in \u001b[0;36m_lambdifygenerated\u001b[1;34m(t)\u001b[0m\n\u001b[0;32m      1\u001b[0m \u001b[39mdef\u001b[39;00m \u001b[39m_lambdifygenerated\u001b[39m(t):\n\u001b[0;32m      2\u001b[0m     \u001b[39mreturn\u001b[39;00m (  \u001b[39m# Not supported in Python with SciPy and NumPy:\u001b[39;00m\n\u001b[0;32m      3\u001b[0m   \u001b[39m# Derivative\u001b[39;00m\n\u001b[1;32m----> 4\u001b[0m Derivative(\u001b[39m-\u001b[39m\u001b[39m16\u001b[39m\u001b[39m*\u001b[39mt\u001b[39m*\u001b[39m\u001b[39m*\u001b[39m\u001b[39m2\u001b[39m \u001b[39m+\u001b[39m \u001b[39m32\u001b[39m\u001b[39m*\u001b[39mt, t))\n",
      "\u001b[1;31mNameError\u001b[0m: name 'Derivative' is not defined"
     ]
    }
   ],
   "source": [
    "from sympy import Symbol, diff, lambdify,Derivative\n",
    "from IPython.display import display\n",
    "\n",
    "t = Symbol('t')\n",
    "p = (32*t) - 16*(t**2)\n",
    "der_f = Derivative(p,t)\n",
    "func_der_f = lambdify(t, der_f)\n",
    "\n",
    "\n",
    "display(der_f)\n",
    "\n",
    "print(\"The avg velocity at .01\",func_der_f(.01))\n",
    "print(\"The avg velocity at .005\",func_der_f(.005))\n",
    "print(\"The avg velocity at .002\",func_der_f(.002))\n",
    "print(\"The avg velocity at .001\",func_der_f(.001))\n",
    "print(\"The avg velocity at .01\",func_der_f(0))"
   ]
  },
  {
   "cell_type": "markdown",
   "metadata": {},
   "source": [
    "<div class=\"alert alert-block alert-success\"><b>Problem 7:</b> \n",
    "Winter Fun© has determined that the total revenue (in dollars) for its west coast factory from the sale of x Blazing Blue snowmobiles is given by\n",
    "\n",
    "$$ R(x)=2500x / {ln(5x+5)} $$\n",
    "\n",
    "Find the Marginal Revenue. Simplify as needed.\n",
    "<br/>\n",
    "\n",
    "a) R'(x)=\n",
    "<br/>\n",
    "<br/>\n",
    "Find the Marginal Revenue when 175 Blazing Blue snowmobiles are produced.\n",
    "<br/><br/>\n",
    "b) R'(175)= Round to two decimals as needed.<br/>\n",
    "</div>"
   ]
  },
  {
   "cell_type": "code",
   "execution_count": 9,
   "metadata": {},
   "outputs": [
    {
     "data": {
      "text/latex": [
       "$\\displaystyle - \\frac{14000 x}{\\left(10 x + 10\\right) \\log{\\left(10 x + 10 \\right)}^{2}} + \\frac{1400}{\\log{\\left(10 x + 10 \\right)}}$"
      ],
      "text/plain": [
       "-14000*x/((10*x + 10)*log(10*x + 10)**2) + 1400/log(10*x + 10)"
      ]
     },
     "metadata": {},
     "output_type": "display_data"
    },
    {
     "name": "stdout",
     "output_type": "stream",
     "text": [
      "Marginal Revenue when 175 Blazing Blue snowmobiles are produced = 157.91\n"
     ]
    }
   ],
   "source": [
    "from sympy import symbols, diff, lambdify, log\n",
    "from IPython.display import display\n",
    "\n",
    "x = symbols('x')\n",
    "R = (1400 * x) / log(10*x + 10)\n",
    "R_p = R.diff(x)\n",
    "func_R_p = lambdify(x,R_p)\n",
    "# a)\n",
    "display(R_p)\n",
    "\n",
    "# b)\n",
    "\n",
    "print(\"Marginal Revenue when 175 Blazing Blue snowmobiles are produced =\", round(func_R_p(225),2))\n",
    "# a = round(bmi_f(215, 6*12+2))\n",
    "# print(f\"a. BMI = {a}\")\n",
    "\n",
    "# targ_weight = (25.2 * (6*12+2)**2)/703\n",
    "# weight_loss = round(215 - targ_weight)\n",
    "# print(f\"b. The person would have to  lose {weight_loss} pounds\")\n",
    "\n",
    "# bmi_128 = (703 * 128) / h**2\n",
    "# bmi_128_der = bmi_128.diff(h)\n",
    "# print(f\"c. The rate of change with respect to height is {bmi_128_der}\")\n",
    "\n",
    "# bmi_128_der_f = lambdify(h, bmi_128_der)\n",
    "# print(f\"d. f\\'(64) = {bmi_128_der_f(64):.2f}\")  # The :.2f tells the print statement to format the value as a float with 2 decimal places."
   ]
  },
  {
   "cell_type": "code",
   "execution_count": 22,
   "metadata": {},
   "outputs": [
    {
     "name": "stdout",
     "output_type": "stream",
     "text": [
      "initial height 70\n",
      "height at new time 42.8425\n",
      "velocity of swallot at 3.45 seconds =  -18.299999999999997\n",
      "initial velocity =  3\n",
      "initial acceleration =  -6\n",
      "final acceleration2 =  -6\n"
     ]
    }
   ],
   "source": [
    "#8\n",
    "from sympy import symbols, diff, lambdify, log, Symbol\n",
    "from IPython.display import display\n",
    "\n",
    "\n",
    "#h(t)=-4t^2 + 5t + 67\n",
    "time0=0\n",
    "time2=3.55\n",
    "\n",
    "#height above ground @ 0\n",
    "h1 = -3*time0**2 + 3*time0 + 70\n",
    "print('initial height',h1)\n",
    "\n",
    "#height above ground @ 3.76\n",
    "h2 = -3*time2**2 + 3*time2 + 70\n",
    "print('height at new time',h2)\n",
    "\n",
    "t = Symbol('t')\n",
    "f = -3*t**2 + 3*t + 70\n",
    "f_diff = f.diff(t)\n",
    "equation = lambdify(t, f_diff)\n",
    "\n",
    "accel = f_diff.diff(t)\n",
    "accel_equation = lambdify(t, accel)\n",
    "\n",
    "\n",
    "\n",
    "v_time0=equation(time0)\n",
    "v_time2=equation(time2)\n",
    "\n",
    "initial_accel = accel_equation(time0)\n",
    "final_accel = accel_equation(time2)\n",
    "\n",
    "print(\"velocity of swallot at 3.45 seconds = \",(v_time2))\n",
    "print(\"initial velocity = \",(v_time0))\n",
    "print(\"initial acceleration = \",initial_accel)\n",
    "print(\"final acceleration2 = \", final_accel)\n"
   ]
  },
  {
   "cell_type": "markdown",
   "metadata": {},
   "source": [
    "<div class=\"alert alert-block alert-success\"><b>Problem 9:</b> The amount of funds available for a particular endowment fund (in thousands of dollars) after t years is given by:\n",
    "\n",
    "$$ f(t)=e^{(0.5t+5)} $$\n",
    "\n",
    "<br/>\n",
    "Find the rate of change in the endowment fund after 4 years. $\n",
    "<br/>\n",
    "Round your answer to two decimals as needed.\n",
    "<br/>\n",
    "<br/></div>"
   ]
  },
  {
   "cell_type": "code",
   "execution_count": 9,
   "metadata": {},
   "outputs": [
    {
     "name": "stdout",
     "output_type": "stream",
     "text": [
      "The rate of change in the endowment fund after 4 years (in thousands) = 472672.08454118884\n"
     ]
    }
   ],
   "source": [
    "from sympy import Symbol, diff, lambdify, exp\n",
    "\n",
    "t = Symbol('t')\n",
    "f = exp(0.41 * t + 5)\n",
    "f_prime = f.diff(t)\n",
    "P_prime_f = lambdify(t, f_prime)\n",
    "\n",
    "print(\"The rate of change in the endowment fund after 4 years (in thousands) =\",1000*(P_prime_f(5)))"
   ]
  },
  {
   "cell_type": "markdown",
   "metadata": {},
   "source": [
    "<div class=\"alert alert-block alert-success\"><b>Problem 11:</b> \n",
    "    The labor costs to produce luxury yachts can be modeled by: \n",
    "    $$ f(x)=(x^2+7x+4)^2 $$ \n",
    "    (x represents the number of yachts produced)\n",
    "<br/>\n",
    "Find the marginal cost to produce 10 yachts \\$\n",
    "\n",
    "<br/>\n",
    "Find the marginal cost to produce 20 yachts \\$\n",
    "<br/>\n",
    "\n",
    "    \n",
    "</div>\n"
   ]
  },
  {
   "cell_type": "code",
   "execution_count": 10,
   "metadata": {},
   "outputs": [
    {
     "name": "stdout",
     "output_type": "stream",
     "text": [
      "Marginal cost to produce 10 yachts $51136\n",
      "Marginal cost to produce 20 yachts $327816\n"
     ]
    }
   ],
   "source": [
    "from sympy import symbols, diff, lambdify, log\n",
    "from IPython.display import display\n",
    "\n",
    "x = symbols('x')\n",
    "f = (x**2 + 7*x + 4)**2\n",
    "f_x = f.diff(x)\n",
    "func_f_x = lambdify(x,f_x)\n",
    "# a)\n",
    "print(\"Marginal cost to produce 10 yachts $\",func_f_x(20),sep=\"\")\n",
    "print(\"Marginal cost to produce 20 yachts $\",func_f_x(40),sep=\"\")\n",
    "# b)\n",
    "\n",
    "#print(\"Marginal Revenue when 175 Blazing Blue snowmobiles are produced =\", round(func_R_p(175),2))"
   ]
  },
  {
   "cell_type": "markdown",
   "metadata": {},
   "source": [
    "<div class=\"alert alert-block alert-success\"><b>Problem 14:</b> \n",
    "    The number of per capita cumulative cases of COVID-19 in a particular country can be modeled by the following where t represents the number of days after the first 100 cases. \n",
    "    $$ g(t)=ln(3t^5 ) $$ \n",
    "    (x represents the number of yachts produced)\n",
    "<br/>\n",
    "    \n",
    "a) Find g'(t) .\n",
    "\n",
    "b) Determine the rate of change in the number of cases after 156 days.\n",
    "\n",
    "<br/>\n",
    "\n",
    "    \n",
    "</div>\n"
   ]
  },
  {
   "cell_type": "code",
   "execution_count": 5,
   "metadata": {},
   "outputs": [
    {
     "data": {
      "text/latex": [
       "$\\displaystyle \\frac{4}{t}$"
      ],
      "text/plain": [
       "4/t"
      ]
     },
     "metadata": {},
     "output_type": "display_data"
    },
    {
     "name": "stdout",
     "output_type": "stream",
     "text": [
      "Cases per day 0.05405405405405406\n"
     ]
    }
   ],
   "source": [
    "from sympy import symbols, diff, lambdify, log\n",
    "from IPython.display import display\n",
    "\n",
    "t = symbols('t')\n",
    "g = (log(9*t**4))\n",
    "g_t = g.diff(t)\n",
    "func_g_t = lambdify(t,g_t)\n",
    "display(g_t)\n",
    "# a)\n",
    "print(\"Cases per day \",func_g_t(74),sep=\"\")\n",
    "# b)\n",
    "\n",
    "#print(\"Marginal Revenue when 175 Blazing Blue snowmobiles are produced =\", round(func_R_p(175),2))"
   ]
  },
  {
   "cell_type": "markdown",
   "metadata": {},
   "source": [
    "<div class=\"alert alert-block alert-success\"><b>Problem 15:</b> \n",
    "The depth (in feet) of water at a dock changes with the rise and fall of tides. The depth is modeled by the following function where t is the number of hours after midnight. \n",
    "<br/>\n",
    "    $$ D(t)=4 sin(π/6 t+7π/6)+3 $$ \n",
    "Find the rate at which the depth is changing at 1 a.m.  Round your answer to 4 decimal places.\n",
    "\n",
    "<br/>\n",
    "\n",
    "    \n",
    "</div>\n",
    "\n",
    "\n"
   ]
  },
  {
   "cell_type": "code",
   "execution_count": 6,
   "metadata": {},
   "outputs": [
    {
     "name": "stdout",
     "output_type": "stream",
     "text": [
      "Rate at which the depth is changing at 1 a.m =2.0944\n"
     ]
    }
   ],
   "source": [
    "from sympy import symbols, diff, lambdify, log, sin, pi, cos\n",
    "from IPython.display import display\n",
    "\n",
    "t = symbols('t')\n",
    "d = 4*(cos((pi/6)*t + (5*pi/6)))+5\n",
    "d_prime = d.diff(t)\n",
    "func_d_prime = lambdify(t,d_prime)\n",
    "# a)\n",
    "print(\"Rate at which the depth is changing at 1 a.m =\",round(func_d_prime(4),4),sep=\"\")\n",
    "# b)\n",
    "\n",
    "#print(\"Marginal Revenue when 175 Blazing Blue snowmobiles are produced =\", round(func_R_p(175),2))"
   ]
  }
 ],
 "metadata": {
  "kernelspec": {
   "display_name": "Python 3.10.7 64-bit",
   "language": "python",
   "name": "python3"
  },
  "language_info": {
   "codemirror_mode": {
    "name": "ipython",
    "version": 3
   },
   "file_extension": ".py",
   "mimetype": "text/x-python",
   "name": "python",
   "nbconvert_exporter": "python",
   "pygments_lexer": "ipython3",
   "version": "3.10.7"
  },
  "vscode": {
   "interpreter": {
    "hash": "eef647685e78448f8b454a5350bc1929191057813a1c43ff6b863716fb83e770"
   }
  }
 },
 "nbformat": 4,
 "nbformat_minor": 1
}
