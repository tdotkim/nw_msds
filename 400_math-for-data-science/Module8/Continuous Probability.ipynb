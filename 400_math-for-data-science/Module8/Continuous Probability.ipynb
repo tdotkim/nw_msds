{
 "cells": [
  {
   "cell_type": "markdown",
   "metadata": {},
   "source": [
    "# MSDS 400 Continuous Probability"
   ]
  },
  {
   "cell_type": "code",
   "execution_count": 91,
   "metadata": {},
   "outputs": [],
   "source": [
    "from numpy import random, arange, array, swapaxes\n",
    "import matplotlib.pyplot as plt"
   ]
  },
  {
   "cell_type": "code",
   "execution_count": 92,
   "metadata": {},
   "outputs": [
    {
     "data": {
      "text/plain": [
       "10.0"
      ]
     },
     "execution_count": 92,
     "metadata": {},
     "output_type": "execute_result"
    }
   ],
   "source": [
    "nsamples = 100\n",
    "sample = random.random(nsamples)  # This draws a random sample.\n",
    "\n",
    "nbins = 10  # This defines the number of subintervals for the histogram.\n",
    "bns = float(nbins)\n",
    "bns"
   ]
  },
  {
   "cell_type": "markdown",
   "metadata": {},
   "source": [
    "For a uniform distribution, the proportions in each subinterval are expected to be the same.  With ten subintervals, this amounts to 0.1 in each.  With 20 subintervals it amounts to 0.05."
   ]
  },
  {
   "cell_type": "code",
   "execution_count": 93,
   "metadata": {},
   "outputs": [
    {
     "data": {
      "text/plain": [
       "{0: 0, 1: 0, 2: 0, 3: 0, 4: 0, 5: 0, 6: 0, 7: 0, 8: 0, 9: 0}"
      ]
     },
     "execution_count": 93,
     "metadata": {},
     "output_type": "execute_result"
    }
   ],
   "source": [
    "expected = 1.0 / bns  # This defines the expected subinterval proportion.\n",
    "\n",
    "ind = arange(nbins)  # This sets ind to serve as a range of indices.\n",
    "h = [0] * nbins  # This prepares h to serve as a list of the proper length.\n",
    "histogram = {}  # This defines histogram as a void dictionary.\n",
    "\n",
    "for k in ind:\n",
    "    histogram[k] = 0  # This initializes the dictionary with zero counts.\n",
    "histogram"
   ]
  },
  {
   "cell_type": "markdown",
   "metadata": {},
   "source": [
    "In the for loop we run v across all randomly generated values and categorize them according to which bin they fall in.  The count for each bin is accumulated in the dictionary histogram[&nbsp;] indexed according to ind[&nbsp;]."
   ]
  },
  {
   "cell_type": "code",
   "execution_count": 94,
   "metadata": {},
   "outputs": [
    {
     "data": {
      "text/plain": [
       "{0: 9, 1: 11, 2: 10, 3: 3, 4: 11, 5: 5, 6: 12, 7: 11, 8: 18, 9: 10}"
      ]
     },
     "execution_count": 94,
     "metadata": {},
     "output_type": "execute_result"
    }
   ],
   "source": [
    "for v in sample:\n",
    "    for k in ind:\n",
    "        xk = float(k)\n",
    "        if xk / bns <= v < (xk + 1) / bns:\n",
    "            histogram[k] += 1\n",
    "histogram"
   ]
  },
  {
   "cell_type": "markdown",
   "metadata": {},
   "source": [
    "The following for loop converts each count to a proportion and stores the proportions in the list h[&nbsp;] and the dictionary histogram[&nbsp;].  The list h[&nbsp;] will be used for plotting and the dictionary histogram[&nbsp;] for computing."
   ]
  },
  {
   "cell_type": "code",
   "execution_count": 95,
   "metadata": {},
   "outputs": [
    {
     "data": {
      "text/plain": [
       "{0: 0.09,\n",
       " 1: 0.11,\n",
       " 2: 0.1,\n",
       " 3: 0.03,\n",
       " 4: 0.11,\n",
       " 5: 0.05,\n",
       " 6: 0.12,\n",
       " 7: 0.11,\n",
       " 8: 0.18,\n",
       " 9: 0.1}"
      ]
     },
     "execution_count": 95,
     "metadata": {},
     "output_type": "execute_result"
    }
   ],
   "source": [
    "for k in ind:\n",
    "    x = histogram[k]\n",
    "    x = x / float(nsamples)\n",
    "    h[k] = [x]\n",
    "    histogram[k] = x\n",
    "histogram"
   ]
  },
  {
   "cell_type": "markdown",
   "metadata": {},
   "source": [
    "Measuring the degree of convergence of the histogram to the limiting uniform distribution can be done in various ways.  Here we use the sum of absolute differences between the expected proportion and the observed proportion."
   ]
  },
  {
   "cell_type": "code",
   "execution_count": 96,
   "metadata": {},
   "outputs": [
    {
     "name": "stdout",
     "output_type": "stream",
     "text": [
      "Sum of Absolute Differences= 2.6000e-01\n"
     ]
    },
    {
     "data": {
      "image/png": "[encoded data removed]",
      "text/plain": [
       "<matplotlib.figure.Figure at 0x115a575c0>"
      ]
     },
     "metadata": {},
     "output_type": "display_data"
    }
   ],
   "source": [
    "total = 0.0\n",
    "for k in ind:\n",
    "    total = total + abs(expected - histogram[k])\n",
    "total = format(total, '0.4e')\n",
    "print('Sum of Absolute Differences= {}'.format(total))\n",
    "\n",
    "h = swapaxes(h, 0, 1)[0]  # Swapping x/y axes for pyplot\n",
    "cell = ind + 0.5  # This will center the bar in the middle of the subinterval.\n",
    "plt.figure()\n",
    "plt.bar(cell, h, width=0.5, align='center', color='r')\n",
    "plt.plot(cell, h)\n",
    "\n",
    "# The following statements are used to form the title for the plot.\n",
    "# Note how computational information is being included in the title.\n",
    "\n",
    "string = str(nsamples) + '   Absolute Difference= ' + str(sum)\n",
    "plt.title('Histogram   n=' + string)\n",
    "\n",
    "plt.ylabel('Proportions')\n",
    "plt.xlabel('Subintervals')\n",
    "plt.show()"
   ]
  }
 ],
 "metadata": {
  "kernelspec": {
   "display_name": "Python 3",
   "language": "python",
   "name": "python3"
  },
  "language_info": {
   "codemirror_mode": {
    "name": "ipython",
    "version": 3
   },
   "file_extension": ".py",
   "mimetype": "text/x-python",
   "name": "python",
   "nbconvert_exporter": "python",
   "pygments_lexer": "ipython3",
   "version": "3.7.7"
  },
  "varInspector": {
   "cols": {
    "lenName": 16,
    "lenType": 16,
    "lenVar": 40
   },
   "kernels_config": {
    "python": {
     "delete_cmd_postfix": "",
     "delete_cmd_prefix": "del ",
     "library": "var_list.py",
     "varRefreshCmd": "print(var_dic_list())"
    },
    "r": {
     "delete_cmd_postfix": ") ",
     "delete_cmd_prefix": "rm(",
     "library": "var_list.r",
     "varRefreshCmd": "cat(var_dic_list()) "
    }
   },
   "types_to_exclude": [
    "module",
    "function",
    "builtin_function_or_method",
    "instance",
    "_Feature"
   ],
   "window_display": false
  }
 },
 "nbformat": 4,
 "nbformat_minor": 2
}
