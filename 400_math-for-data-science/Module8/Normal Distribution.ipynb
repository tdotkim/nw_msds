{
 "cells": [
  {
   "cell_type": "markdown",
   "metadata": {},
   "source": [
    "# MSDS 400 Normal Distribution"
   ]
  },
  {
   "cell_type": "code",
   "execution_count": 1,
   "metadata": {},
   "outputs": [],
   "source": [
    "from numpy import linspace, math\n",
    "import matplotlib.pyplot as plt"
   ]
  },
  {
   "cell_type": "markdown",
   "metadata": {},
   "source": [
    "This particular module takes a few seconds to load.  Be patient. Using the\n",
    "NumPy math library does speed things up somewhat.  When the prompt asks for a\n",
    "value, enter it and a plot will appear.\n",
    "\n",
    "The program will ask for a user supplied value to be entered at the prompt.\n",
    "The integration will use the standard normal density function to find the\n",
    "probability that a standard normal random variable will be <= the value\n",
    "specified by the user  A plot will show the area integrated, the user\n",
    "supplied value and the area under the curve."
   ]
  },
  {
   "cell_type": "code",
   "execution_count": 2,
   "metadata": {},
   "outputs": [],
   "source": [
    "# This is the density function for a standard normal distribution.\n",
    "def f(inp):\n",
    "    return (math.exp(-inp * inp / 2)) / math.sqrt(2.0 * math.pi)\n",
    "\n",
    "# Simpson's rule is used to integrate over [a,b].\n",
    "def integrate(a, b, delta):  \n",
    "    total = 0.0\n",
    "    i = 0\n",
    "    n = int(float((b - a) / delta))\n",
    "    if b == a:\n",
    "        return\n",
    "    else:\n",
    "        while i < n:\n",
    "            x0 = a + delta * i\n",
    "            x1 = x0 + delta / 2\n",
    "            x2 = x0 + delta\n",
    "            total = total + delta * (f(x0) + 4.0 * f(x1) + f(x2)) / 6\n",
    "            i = i + 1\n",
    "        return total"
   ]
  },
  {
   "cell_type": "markdown",
   "metadata": {},
   "source": [
    "The following values determine the total interval considered and also\n",
    "the increment used for numerical integration.  We are dividing 12 standard\n",
    "deviations into 1200 subintervals thus defining delta."
   ]
  },
  {
   "cell_type": "code",
   "execution_count": 3,
   "metadata": {},
   "outputs": [
    {
     "name": "stdout",
     "output_type": "stream",
     "text": [
      "Value of the variable x for integration=?5\n",
      "Area with x= 5.0 equals 1.0\n"
     ]
    },
    {
     "data": {
      "image/png": "[encoded data removed]",
      "text/plain": [
       "<matplotlib.figure.Figure at 0x10b9e0320>"
      ]
     },
     "metadata": {},
     "output_type": "display_data"
    }
   ],
   "source": [
    "xa = -6.0\n",
    "xb = 6.0\n",
    "num = 1200\n",
    "delta_calc = float((xb - xa) / num)\n",
    "\n",
    "x = linspace(xa, xb, num)\n",
    "y = []\n",
    "cdf = []\n",
    "\n",
    "for z in x:\n",
    "    y = y + [f(z)]\n",
    "    cdf = cdf + [integrate(xa, z, delta_calc)]\n",
    "\n",
    "value = float(input('Value of the variable x for integration?'))\n",
    "\n",
    "fvalue = integrate(-6, value, delta_calc)\n",
    "fvalue = round(fvalue, 4)\n",
    "print('Area with x= {} equals {}'.format(value, fvalue))\n",
    "\n",
    "plt.xlim(xa - 1, xb + 1)\n",
    "plt.ylim(0, 1)\n",
    "\n",
    "string = ' with x = ' + str(value) + ' and area = ' + str(fvalue)\n",
    "plt.title('Normal Density and CDF with x = {} and area = {}'.format(value, fvalue))\n",
    "plt.xlabel('x-axis')\n",
    "\n",
    "plt.plot(x, y, 'b', label='Density')\n",
    "plt.plot(x, cdf, 'r', label='CDF')\n",
    "plt.legend()\n",
    "\n",
    "plt.fill_between(x, y, where=(x <= value), color='grey', alpha='0.3')\n",
    "plt.scatter(value, fvalue, s=30, c='r', marker='o')\n",
    "plt.show()"
   ]
  }
 ],
 "metadata": {
  "kernelspec": {
   "display_name": "Python 3",
   "language": "python",
   "name": "python3"
  },
  "language_info": {
   "codemirror_mode": {
    "name": "ipython",
    "version": 3
   },
   "file_extension": ".py",
   "mimetype": "text/x-python",
   "name": "python",
   "nbconvert_exporter": "python",
   "pygments_lexer": "ipython3",
   "version": "3.7.7"
  },
  "varInspector": {
   "cols": {
    "lenName": 16,
    "lenType": 16,
    "lenVar": 40
   },
   "kernels_config": {
    "python": {
     "delete_cmd_postfix": "",
     "delete_cmd_prefix": "del ",
     "library": "var_list.py",
     "varRefreshCmd": "print(var_dic_list())"
    },
    "r": {
     "delete_cmd_postfix": ") ",
     "delete_cmd_prefix": "rm(",
     "library": "var_list.r",
     "varRefreshCmd": "cat(var_dic_list()) "
    }
   },
   "types_to_exclude": [
    "module",
    "function",
    "builtin_function_or_method",
    "instance",
    "_Feature"
   ],
   "window_display": false
  }
 },
 "nbformat": 4,
 "nbformat_minor": 2
}
