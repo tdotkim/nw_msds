{
 "cells": [
  {
   "cell_type": "markdown",
   "metadata": {},
   "source": [
    "The lifetime of a printer costing $120 is exponentially distributed with mean 4 years. The manufacturer agrees to pay a full refund to a buyer if the printer fails during the first half year following its purchase and a one-half refund if it fails during the second half year.\n",
    "\n",
    "If the manufacturer sells 370 printers, how much should it expect to pay in refunds?"
   ]
  },
  {
   "cell_type": "code",
   "execution_count": null,
   "metadata": {},
   "outputs": [],
   "source": [
    "from sympy import Symbol, integrate, exp\n",
    "import math\n",
    "\n",
    "#set your mean value\n",
    "mean_val = 4\n",
    "#set your decay rate which is 1/mean\n",
    "decay_rate = 1/mean_val\n",
    "\n",
    "#total number of things to sell\n",
    "comps = 370\n",
    "\n",
    "#price per item\n",
    "price = 120\n",
    "\n",
    "#make x a symbol\n",
    "x = Symbol('x')\n",
    "\n",
    "#write your function for probability density\n",
    "# which is me^(-mx)\n",
    "f_x = decay_rate * exp(-decay_rate*x)\n",
    "\n",
    "#since the first interval is half year, we're setting lower limit to 0, upper limit to .5\n",
    "firsthalf = integrate(f_x,(x,0,.5))\n",
    "\n",
    "#same as above but from .5 to 1 to make our second interval (half-refund)\n",
    "secondhalf = integrate(f_x,(x,.5,1))\n",
    "\n",
    "#2-steps here, 1 is get the number of things that fall into this interval\n",
    "#which is prob of failure * total number of printers sold\n",
    "fhalf_comps = firsthalf*comps\n",
    "#step 2 is then just calculating the $$$ based on full refund * number of dead printers \n",
    "# aka what we did above (prob of dead * number of printers)\n",
    "fhalf_cost = fhalf_comps*price\n",
    "\n",
    "#now do the same but for the second interval\n",
    "shalf_comps = secondhalf*comps\n",
    "shalf_cost = shalf_comps*price*.5\n",
    "\n",
    "#add the two parts and we're done\n",
    "finaltotal = shalf_cost + fhalf_cost\n",
    "print('total cost',finaltotal)"
   ]
  },
  {
   "cell_type": "code",
   "execution_count": 2,
   "metadata": {},
   "outputs": [
    {
     "name": "stdout",
     "output_type": "stream",
     "text": [
      "Total refunds =  $7,519.19\n"
     ]
    }
   ],
   "source": [
    "#above but as a function\n",
    "from sympy import Symbol, integrate, exp\n",
    "import math\n",
    "\n",
    "prods_sold = 370\n",
    "full_price = 120\n",
    "half_price = 60\n",
    "mean_ytf = 4\n",
    "\n",
    "def calc_ref_cost(number_of_products,price,mean,lower,upper):\n",
    "    decay_rate = 1/mean\n",
    "    #write your function for probability density\n",
    "    # which is me^(-mx)\n",
    "    x = Symbol('x')\n",
    "    f_x = decay_rate * exp(-decay_rate*x)\n",
    "\n",
    "    #integrate using our bounds\n",
    "    probability_of = integrate(f_x,(x,lower,upper))\n",
    "\n",
    "    #calc the total cost\n",
    "    totalcost = probability_of*number_of_products*price\n",
    "    return totalcost\n",
    "\n",
    "fullrefunds = calc_ref_cost(prods_sold,full_price,mean_ytf,0,.5)\n",
    "halfrefunds = calc_ref_cost(prods_sold,half_price,mean_ytf,.5,1)\n",
    "totalrefunds = fullrefunds+halfrefunds\n",
    "\n",
    "print('Total refunds = ',\"${:,.2f}\".format(totalrefunds))\n",
    "\n",
    "\n"
   ]
  }
 ],
 "metadata": {
  "kernelspec": {
   "display_name": "Python 3.10.7 64-bit",
   "language": "python",
   "name": "python3"
  },
  "language_info": {
   "codemirror_mode": {
    "name": "ipython",
    "version": 3
   },
   "file_extension": ".py",
   "mimetype": "text/x-python",
   "name": "python",
   "nbconvert_exporter": "python",
   "pygments_lexer": "ipython3",
   "version": "3.10.7"
  },
  "orig_nbformat": 4,
  "vscode": {
   "interpreter": {
    "hash": "eef647685e78448f8b454a5350bc1929191057813a1c43ff6b863716fb83e770"
   }
  }
 },
 "nbformat": 4,
 "nbformat_minor": 2
}
