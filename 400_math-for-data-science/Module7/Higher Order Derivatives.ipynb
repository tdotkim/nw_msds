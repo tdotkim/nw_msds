{
 "cells": [
  {
   "cell_type": "markdown",
   "metadata": {},
   "source": [
    "# MSDS 400 Higher Order Derivatives"
   ]
  },
  {
   "cell_type": "code",
   "execution_count": 1,
   "metadata": {},
   "outputs": [],
   "source": [
    "import matplotlib.pyplot as plt\n",
    "from numpy import poly1d, linspace"
   ]
  },
  {
   "cell_type": "markdown",
   "metadata": {},
   "source": [
    "The first example shows how to generate and print a second degree\n",
    "polynomial with coefficients, 1, -2 and 4.  The software is not limited\n",
    "to second degree polynomials.  Higher order can be generated.  The critical\n",
    "thing is to have all the coefficients in the right sequence.\n",
    "\n",
    "Second Degree Polynomial"
   ]
  },
  {
   "cell_type": "code",
   "execution_count": 2,
   "metadata": {},
   "outputs": [
    {
     "data": {
      "text/plain": [
       "poly1d([ 5, -3,  2])"
      ]
     },
     "execution_count": 2,
     "metadata": {},
     "output_type": "execute_result"
    }
   ],
   "source": [
    "p = poly1d([5, -3, 2])\n",
    "p"
   ]
  },
  {
   "cell_type": "markdown",
   "metadata": {},
   "source": [
    "Fourth Degree Polynomial"
   ]
  },
  {
   "cell_type": "code",
   "execution_count": 3,
   "metadata": {},
   "outputs": [
    {
     "data": {
      "text/plain": [
       "poly1d([ 2,  1,  4, -2,  3])"
      ]
     },
     "execution_count": 3,
     "metadata": {},
     "output_type": "execute_result"
    }
   ],
   "source": [
    "q = poly1d([2, 1, 4, -2, 3])\n",
    "q"
   ]
  },
  {
   "cell_type": "markdown",
   "metadata": {},
   "source": [
    "It is possible to combine p and q algebraically."
   ]
  },
  {
   "cell_type": "code",
   "execution_count": 4,
   "metadata": {},
   "outputs": [
    {
     "data": {
      "text/plain": [
       "poly1d([ 10,  -1,  21, -20,  34, -16,   8])"
      ]
     },
     "execution_count": 4,
     "metadata": {},
     "output_type": "execute_result"
    }
   ],
   "source": [
    "g = p + p*q\n",
    "g"
   ]
  },
  {
   "cell_type": "markdown",
   "metadata": {},
   "source": [
    "Derivatives of different orders may be calculated.  This next section will\n",
    "show determination of the first and second derivatives of p."
   ]
  },
  {
   "cell_type": "code",
   "execution_count": 5,
   "metadata": {},
   "outputs": [
    {
     "name": "stdout",
     "output_type": "stream",
     "text": [
      " \n",
      "10 x - 3\n"
     ]
    },
    {
     "data": {
      "text/plain": [
       "array([0.3])"
      ]
     },
     "execution_count": 5,
     "metadata": {},
     "output_type": "execute_result"
    }
   ],
   "source": [
    "h = p.deriv(m=1)  # First derivative with m=1.\n",
    "print(h)\n",
    "h.roots"
   ]
  },
  {
   "cell_type": "markdown",
   "metadata": {},
   "source": [
    "Second Derivative"
   ]
  },
  {
   "cell_type": "code",
   "execution_count": 6,
   "metadata": {},
   "outputs": [
    {
     "name": "stdout",
     "output_type": "stream",
     "text": [
      " \n",
      "10\n"
     ]
    },
    {
     "data": {
      "text/plain": [
       "array([], dtype=float64)"
      ]
     },
     "execution_count": 6,
     "metadata": {},
     "output_type": "execute_result"
    }
   ],
   "source": [
    "t = p.deriv(m=2)  # Second derivative with m=2.\n",
    "print(t)\n",
    "t.roots"
   ]
  },
  {
   "cell_type": "markdown",
   "metadata": {},
   "source": [
    "Using t, the original function p can be restored if the missing\n",
    "coefficients -2 and 4 are supplied.  "
   ]
  },
  {
   "cell_type": "code",
   "execution_count": 7,
   "metadata": {},
   "outputs": [
    {
     "name": "stdout",
     "output_type": "stream",
     "text": [
      "   2\n",
      "5 x - 3 x + 2\n"
     ]
    },
    {
     "data": {
      "text/plain": [
       "array([ 5., -3.,  2.])"
      ]
     },
     "execution_count": 7,
     "metadata": {},
     "output_type": "execute_result"
    }
   ],
   "source": [
    "w = t.integ(m=2, k=[-3, 2])\n",
    "print(w)\n",
    "w.coeffs"
   ]
  },
  {
   "cell_type": "markdown",
   "metadata": {},
   "source": [
    "Different coefficients would result in a different function instead of the original p."
   ]
  },
  {
   "cell_type": "code",
   "execution_count": 8,
   "metadata": {},
   "outputs": [
    {
     "name": "stdout",
     "output_type": "stream",
     "text": [
      "   2\n",
      "5 x - 2 x + 4\n"
     ]
    },
    {
     "data": {
      "text/plain": [
       "poly1d([10., -2.])"
      ]
     },
     "execution_count": 8,
     "metadata": {},
     "output_type": "execute_result"
    }
   ],
   "source": [
    "new = t.integ(m=2, k=[-2, 4])\n",
    "print(new)\n",
    "new.deriv(m=1)"
   ]
  },
  {
   "cell_type": "markdown",
   "metadata": {},
   "source": [
    "Roots may also be found.  This is useful when locating the maxima, minima and inflection points of a function from the first and second derivatives."
   ]
  },
  {
   "cell_type": "code",
   "execution_count": 9,
   "metadata": {},
   "outputs": [
    {
     "data": {
      "text/plain": [
       "array([0.3+0.55677644j, 0.3-0.55677644j])"
      ]
     },
     "execution_count": 9,
     "metadata": {},
     "output_type": "execute_result"
    }
   ],
   "source": [
    "w.roots"
   ]
  },
  {
   "cell_type": "markdown",
   "metadata": {},
   "source": [
    "Plotting requires defining a domain for the polynomial.  The linspace function is used to set boundaries and define the number of points used for calculation. A new polynomial p will be defined."
   ]
  },
  {
   "cell_type": "code",
   "execution_count": 10,
   "metadata": {},
   "outputs": [],
   "source": [
    "p = poly1d([.3333, 0, -1, 5])"
   ]
  },
  {
   "cell_type": "markdown",
   "metadata": {},
   "source": [
    "As a final example, we will find the first and second derivatives of the polynomial p, find the roots of the derivatives and plot the functions."
   ]
  },
  {
   "cell_type": "code",
   "execution_count": 11,
   "metadata": {},
   "outputs": [
    {
     "name": "stdout",
     "output_type": "stream",
     "text": [
      "\n",
      "Roots of First Derivative\n",
      "[ 1.00005 -1.00005]\n",
      "\n",
      "Roots of Second Derivative\n",
      "[0.]\n"
     ]
    }
   ],
   "source": [
    "g = p.deriv(m=1)\n",
    "\n",
    "print('\\nRoots of First Derivative')\n",
    "print(g.roots)\n",
    "\n",
    "print('\\nRoots of Second Derivative')\n",
    "q = p.deriv(m=2)\n",
    "print(q.roots)\n",
    "\n",
    "x = linspace(-4, 4, 101)\n",
    "y = p(x)\n",
    "yg = g(x)  # These statements define points for plotting.\n",
    "yq = q(x)\n",
    "y0 = 0*x   # This statement defines the y axis for plotting."
   ]
  },
  {
   "cell_type": "markdown",
   "metadata": {},
   "source": [
    "What is shown below is a different way to legends using a label.  Python will pick the colors to assign to the labels and the plotted points."
   ]
  },
  {
   "cell_type": "code",
   "execution_count": 12,
   "metadata": {},
   "outputs": [
    {
     "data": {
      "image/png": "[encoded data removed]",
      "text/plain": [
       "<matplotlib.figure.Figure at 0x1138e6f60>"
      ]
     },
     "metadata": {},
     "output_type": "display_data"
    }
   ],
   "source": [
    "plt.figure()\n",
    "plt.plot(x, y, label='y=p(x)')\n",
    "plt.plot(x, yg, label='First Derivative')\n",
    "plt.plot(x, yq, label='Second Derivative')\n",
    "plt.legend(loc='best')\n",
    "\n",
    "plt.plot(x, y0)\n",
    "plt.xlabel('x-axis')\n",
    "plt.ylabel('y-axis')\n",
    "plt.title('Plot Showing Function, First and Second Derivatives')\n",
    "plt.show()"
   ]
  },
  {
   "cell_type": "markdown",
   "metadata": {},
   "source": [
    "This next example calculates and plots the higher order derivatives for f(x) = 3x<sup>4</sup> - 4x<sup>3</sup> - 12x<sup>2</sup> + 2."
   ]
  },
  {
   "cell_type": "code",
   "execution_count": 13,
   "metadata": {},
   "outputs": [
    {
     "name": "stdout",
     "output_type": "stream",
     "text": [
      "\n",
      "Fourth Degree Polynomial\n",
      "   4     3      2\n",
      "3 x - 4 x - 12 x + 2\n",
      "\n",
      "First Derivative\n",
      "    3      2\n",
      "12 x - 12 x - 24 x\n",
      "\n",
      "Second Derivative\n",
      "    2\n",
      "36 x - 24 x - 24\n"
     ]
    },
    {
     "data": {
      "image/png": "[encoded data removed]",
      "text/plain": [
       "<matplotlib.figure.Figure at 0x11391e588>"
      ]
     },
     "metadata": {},
     "output_type": "display_data"
    }
   ],
   "source": [
    "plt.figure()\n",
    "p = poly1d([3, -4, -12, 0, 2])\n",
    "print('\\nFourth Degree Polynomial')\n",
    "print(p)\n",
    "print('\\nFirst Derivative')\n",
    "g = p.deriv(m=1)  # First derivative with m=1.\n",
    "print(g)\n",
    "print('\\nSecond Derivative')\n",
    "q = p.deriv(m=2)  # Second derivative with m=2.\n",
    "print(q)\n",
    "x = linspace(-2, 3, 101)\n",
    "y = p(x)\n",
    "yg = g(x)  # These statements define points for plotting.\n",
    "yq = q(x)\n",
    "y0 = 0*x  # This statement defines the y axis for plotting.\n",
    "plt.plot(x, y, label='y=p(x)')\n",
    "plt.plot(x, yg, label='First Derivative')\n",
    "plt.plot(x, yq, label='Second Derivative')\n",
    "plt.legend(loc='best')\n",
    "\n",
    "plt.plot(x, y0)\n",
    "plt.xlabel('x-axis')\n",
    "plt.ylabel('y-axis')\n",
    "plt.title('Plot Showing Function, First and Second Derivatives')\n",
    "plt.show()"
   ]
  }
 ],
 "metadata": {
  "kernelspec": {
   "display_name": "Python 3",
   "language": "python",
   "name": "python3"
  },
  "language_info": {
   "codemirror_mode": {
    "name": "ipython",
    "version": 3
   },
   "file_extension": ".py",
   "mimetype": "text/x-python",
   "name": "python",
   "nbconvert_exporter": "python",
   "pygments_lexer": "ipython3",
   "version": "3.7.7"
  },
  "varInspector": {
   "cols": {
    "lenName": 16,
    "lenType": 16,
    "lenVar": 40
   },
   "kernels_config": {
    "python": {
     "delete_cmd_postfix": "",
     "delete_cmd_prefix": "del ",
     "library": "var_list.py",
     "varRefreshCmd": "print(var_dic_list())"
    },
    "r": {
     "delete_cmd_postfix": ") ",
     "delete_cmd_prefix": "rm(",
     "library": "var_list.r",
     "varRefreshCmd": "cat(var_dic_list()) "
    }
   },
   "types_to_exclude": [
    "module",
    "function",
    "builtin_function_or_method",
    "instance",
    "_Feature"
   ],
   "window_display": false
  }
 },
 "nbformat": 4,
 "nbformat_minor": 2
}
