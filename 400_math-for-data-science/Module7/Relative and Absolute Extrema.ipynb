{
 "cells": [
  {
   "cell_type": "markdown",
   "metadata": {},
   "source": [
    "# MSDS 400 Relative and Absolute Extrema"
   ]
  },
  {
   "cell_type": "code",
   "execution_count": 1,
   "metadata": {},
   "outputs": [],
   "source": [
    "import numpy as np\n",
    "import matplotlib.pyplot as plt"
   ]
  },
  {
   "cell_type": "markdown",
   "metadata": {},
   "source": [
    "`extrema()` is a classification function used to evaluate a trio of points. The function will evaluate the middle point of trio to determine if it represents a relative maxima or minima for the trio. The result will be a boolean value True or False which will be used later. Note that if the middle point is not an extrema, the value False will be returned."
   ]
  },
  {
   "cell_type": "code",
   "execution_count": 2,
   "metadata": {},
   "outputs": [],
   "source": [
    "def extrema(a, b, c):\n",
    "    x = max(a, b, c)\n",
    "    z = min(a, b, c)\n",
    "    epsilon = 0.0000001  # This is a safeguard against minor differences.\n",
    "    result = False\n",
    "    if abs(b - x) < epsilon:\n",
    "        result = True\n",
    "    if abs(b - z) < epsilon:\n",
    "        result = True\n",
    "    return result"
   ]
  },
  {
   "cell_type": "markdown",
   "metadata": {},
   "source": [
    "This is a user supplied function, f(x) = (x - 1)<sup>2/3</sup>"
   ]
  },
  {
   "cell_type": "code",
   "execution_count": 3,
   "metadata": {},
   "outputs": [],
   "source": [
    "def f(x):\n",
    "    y = (x ** 8) ** .333 - 16.0 * (x ** 2) ** .33\n",
    "    return y"
   ]
  },
  {
   "cell_type": "markdown",
   "metadata": {},
   "source": [
    "The following extrema evaluation will be over a defined interval. Grid points\n",
    "will be defined and the function extreme() will compare trios of values.\n",
    "\n",
    "Define interval endpoints for a closed interval [xa,xb]."
   ]
  },
  {
   "cell_type": "code",
   "execution_count": 4,
   "metadata": {},
   "outputs": [],
   "source": [
    "xa = -1.0\n",
    "xb = +9.0"
   ]
  },
  {
   "cell_type": "markdown",
   "metadata": {},
   "source": [
    "n = number of grid points.  The interval [xa,xb] will be subdivided.\n",
    "Adding delta to xb insures xb is included in the array generated.  For this\n",
    "purpose, np.arange() will be used to create a numpy array of floating point\n",
    "values to be used in subsequent calculations."
   ]
  },
  {
   "cell_type": "code",
   "execution_count": 5,
   "metadata": {},
   "outputs": [],
   "source": [
    "n = 1000\n",
    "delta = (xb - xa) / n\n",
    "x = np.arange(xa, xb + delta, delta)\n",
    "y = f(x)\n",
    "\n",
    "value = [False]  # This defines the list value which will contain Boolean values.\n",
    "value = value * len(x)  # This expands the list to the length of x."
   ]
  },
  {
   "cell_type": "markdown",
   "metadata": {},
   "source": [
    "We are going to check each trio of points during the grid search.\n",
    "If a local extrema is found, the boolean value will be set to True.\n",
    "Otherwise it will remain False. The interval endpoints are always local\n",
    "extrema so we define their boolean values first."
   ]
  },
  {
   "cell_type": "code",
   "execution_count": 7,
   "metadata": {},
   "outputs": [],
   "source": [
    "L = len(x)\n",
    "value[0] = True  # This will correspond to one endpoint.\n",
    "value[L - 1] = True  # This corresponds to the other."
   ]
  },
  {
   "cell_type": "markdown",
   "metadata": {},
   "source": [
    "The for loop will check each consecutive trios of f values with the function\n",
    "extrema() to identify local extrema.  Only when an extrema is found will the\n",
    "boolean value in the list value be changed to True."
   ]
  },
  {
   "cell_type": "code",
   "execution_count": 8,
   "metadata": {},
   "outputs": [],
   "source": [
    "for x_index in range(L - 2):\n",
    "    first_x = x[x_index]\n",
    "    second_x = x[x_index + 1]\n",
    "    third_x = x[x_index + 2]\n",
    "    a = f(first_x)\n",
    "    b = f(second_x)\n",
    "    c = f(third_x)\n",
    "    is_second_x_extrema = extrema(a, b, c)\n",
    "    value[x_index + 1] = is_second_x_extrema\n",
    "\n",
    "for k in range(L - 2):\n",
    "    value[k + 1] = extrema(f(x[k]), f(x[k + 1]), f(x[k + 2]))\n",
    "\n",
    "max_value = max(y)  # We check the list to find the global maxima.\n",
    "min_value = min(y)  # We check the list to find the global minima."
   ]
  },
  {
   "cell_type": "markdown",
   "metadata": {},
   "source": [
    "The following for loop checks the boolean value for each point. If the value\n",
    "is True, that point will be plotted yellow.  The global maximum is plotted as\n",
    "red and the minimum is plotted as green. We follow this up by plotting the\n",
    "values of x and y."
   ]
  },
  {
   "cell_type": "code",
   "execution_count": 9,
   "metadata": {},
   "outputs": [
    {
     "data": {
      "image/png": "[encoded data removed]",
      "text/plain": [
       "<matplotlib.figure.Figure at 0x10f910080>"
      ]
     },
     "metadata": {},
     "output_type": "display_data"
    }
   ],
   "source": [
    "error = 0.0000001  # The error parameter guards against roundoff error.\n",
    "# The code which follows assigns colors to maxima and minima and plots them.\n",
    "\n",
    "plt.figure()\n",
    "for k in range(L):\n",
    "    if value[k] is True:\n",
    "        plt.scatter(x[k], y[k], s=60, c='y')\n",
    "        if abs(max_value - y[k]) < error:\n",
    "            plt.scatter(x[k], y[k], s=60, c='r')\n",
    "        if abs(min_value - y[k]) < error:\n",
    "            plt.scatter(x[k], y[k], s=60, c='b')\n",
    "\n",
    "plt.plot(x, y, c='k')  # This plots the line on the chart.\n",
    "plt.xlabel('x-axis')\n",
    "plt.ylabel('y-axis')\n",
    "plt.title('Plot Showing Absolute and Relative Extrema')\n",
    "plt.show()"
   ]
  },
  {
   "cell_type": "code",
   "execution_count": null,
   "metadata": {},
   "outputs": [],
   "source": []
  }
 ],
 "metadata": {
  "kernelspec": {
   "display_name": "Python 3",
   "language": "python",
   "name": "python3"
  },
  "language_info": {
   "codemirror_mode": {
    "name": "ipython",
    "version": 3
   },
   "file_extension": ".py",
   "mimetype": "text/x-python",
   "name": "python",
   "nbconvert_exporter": "python",
   "pygments_lexer": "ipython3",
   "version": "3.7.7"
  },
  "varInspector": {
   "cols": {
    "lenName": 16,
    "lenType": 16,
    "lenVar": 40
   },
   "kernels_config": {
    "python": {
     "delete_cmd_postfix": "",
     "delete_cmd_prefix": "del ",
     "library": "var_list.py",
     "varRefreshCmd": "print(var_dic_list())"
    },
    "r": {
     "delete_cmd_postfix": ") ",
     "delete_cmd_prefix": "rm(",
     "library": "var_list.r",
     "varRefreshCmd": "cat(var_dic_list()) "
    }
   },
   "types_to_exclude": [
    "module",
    "function",
    "builtin_function_or_method",
    "instance",
    "_Feature"
   ],
   "window_display": false
  }
 },
 "nbformat": 4,
 "nbformat_minor": 2
}
