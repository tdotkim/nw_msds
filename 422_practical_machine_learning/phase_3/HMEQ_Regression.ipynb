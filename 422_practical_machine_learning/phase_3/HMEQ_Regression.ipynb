{
 "cells": [
  {
   "cell_type": "code",
   "execution_count": 3,
   "metadata": {},
   "outputs": [],
   "source": [
    "import math\n",
    "import pandas as pd\n",
    "import numpy as np\n",
    "import matplotlib.pyplot as plt\n",
    "import seaborn as sns\n",
    "from sklearn.model_selection import train_test_split\n",
    "from sklearn.linear_model import LinearRegression\n",
    "from sklearn import metrics\n",
    "from scipy import stats\n",
    "\n",
    "from mlxtend.feature_selection import SequentialFeatureSelector as SFS\n",
    "from mlxtend.plotting import plot_sequential_feature_selection as plot_sfs\n"
   ]
  },
  {
   "cell_type": "code",
   "execution_count": 4,
   "metadata": {},
   "outputs": [],
   "source": [
    "sns.set()"
   ]
  },
  {
   "cell_type": "code",
   "execution_count": 5,
   "metadata": {},
   "outputs": [],
   "source": [
    "#df = pd.read_csv('imputed.csv')"
   ]
  },
  {
   "attachments": {},
   "cell_type": "markdown",
   "metadata": {},
   "source": [
    "## Impute + 1 hot encode"
   ]
  },
  {
   "cell_type": "code",
   "execution_count": 6,
   "metadata": {},
   "outputs": [],
   "source": [
    "initial_df = pd.read_csv('HMEQ_Loss.csv')"
   ]
  },
  {
   "cell_type": "code",
   "execution_count": 7,
   "metadata": {},
   "outputs": [],
   "source": [
    "#break into groups for initial run\n",
    "numerical_columns = []\n",
    "categorical_columns = []\n",
    "other_cols = []\n",
    "\n",
    "dt=initial_df.dtypes\n",
    "\n",
    "TARGET_F = 'TARGET_BAD_FLAG'\n",
    "TARGET_A = 'TARGET_LOSS_AMT'\n",
    "\n",
    "for i in dt.index:\n",
    "    if i in ([TARGET_A,TARGET_F]):\n",
    "        continue\n",
    "    elif dt[i] in ([\"object\"]) : \n",
    "        categorical_columns.append(i)\n",
    "    elif dt[i] in ([\"float64\"]) : \n",
    "        numerical_columns.append(i)\n",
    "    elif dt[i] in ([\"int64\"]) : \n",
    "        numerical_columns.append(i)\n",
    "    else:\n",
    "        other_cols.append(i)\n"
   ]
  },
  {
   "cell_type": "code",
   "execution_count": 8,
   "metadata": {},
   "outputs": [
    {
     "name": "stdout",
     "output_type": "stream",
     "text": [
      "variable REASON  has this many missing 252\n",
      "variable IMP_REASON  has this many missing 0 \n",
      "\n",
      "IMP_REASON\n",
      "DebtCon    4180\n",
      "HomeImp    1780\n",
      "Name: IMP_REASON, dtype: int64\n",
      "\n",
      "\n",
      "\n",
      "variable JOB  has this many missing 279\n",
      "variable IMP_JOB  has this many missing 0 \n",
      "\n",
      "IMP_JOB\n",
      "Mgr         767\n",
      "Office      948\n",
      "Other      2667\n",
      "ProfExe    1276\n",
      "Sales       109\n",
      "Self        193\n",
      "Name: IMP_JOB, dtype: int64\n",
      "\n",
      "\n",
      "\n"
     ]
    }
   ],
   "source": [
    "#impute the categorical columns\n",
    "#drop the originals\n",
    "imputed_df = initial_df.copy()\n",
    "for i in categorical_columns :\n",
    "    if imputed_df[i].isna().sum() == 0: \n",
    "        continue\n",
    "    NAME = \"IMP_\"+i\n",
    "    imputed_df[NAME] = imputed_df[i]\n",
    "    imputed_df[NAME] = imputed_df[NAME].fillna(imputed_df[NAME].mode()[0])\n",
    "    print(\"variable\",i,\" has this many missing\", imputed_df[i].isna().sum())\n",
    "    print(\"variable\",NAME,\" has this many missing\", imputed_df[NAME].isna().sum() ,'\\n')\n",
    "    g = imputed_df.groupby(NAME)\n",
    "    print(g[NAME].count())\n",
    "    print(\"\\n\\n\")\n",
    "    imputed_df = imputed_df.drop(i, axis=1)"
   ]
  },
  {
   "cell_type": "code",
   "execution_count": 9,
   "metadata": {},
   "outputs": [],
   "source": [
    "#impute the numerical columns\n",
    "#drop the originals\n",
    "missing_flag_cols = []\n",
    "\n",
    "for i in numerical_columns:\n",
    "    if imputed_df[i].isna().sum() == 0:\n",
    "        continue\n",
    "    FLAG = 'M_' + i\n",
    "    IMP = 'IMP_' + i\n",
    "    imputed_df[FLAG] = imputed_df[i].isna() + 0\n",
    "    missing_flag_cols.append(FLAG)\n",
    "    imputed_df[IMP] = imputed_df[i]\n",
    "    imputed_df.loc[imputed_df[IMP].isna(),IMP] = imputed_df[i].median()\n",
    "    imputed_df = imputed_df.drop(i, axis=1)"
   ]
  },
  {
   "cell_type": "code",
   "execution_count": 10,
   "metadata": {},
   "outputs": [],
   "source": [
    "#break into groups again with the dropped cols\n",
    "imp_numerical_columns = []\n",
    "imp_categorical_columns = []\n",
    "imp_other_cols = []\n",
    "\n",
    "dt=imputed_df.dtypes\n",
    "\n",
    "TARGET_F = 'TARGET_BAD_FLAG'\n",
    "TARGET_A = 'TARGET_LOSS_AMT'\n",
    "\n",
    "for i in dt.index:\n",
    "    if i in ([TARGET_A,TARGET_F]):\n",
    "        continue\n",
    "    elif dt[i] in (missing_flag_cols):\n",
    "        imp_other_cols.append(i)\n",
    "    elif dt[i] in ([\"object\"]) : \n",
    "        imp_categorical_columns.append(i)\n",
    "    elif dt[i] in ([\"float64\"]) : \n",
    "        imp_numerical_columns.append(i)\n",
    "    elif dt[i] in ([\"int64\"]) : \n",
    "        imp_numerical_columns.append(i)\n",
    "    else:\n",
    "        imp_other_cols.append(i)"
   ]
  },
  {
   "cell_type": "code",
   "execution_count": 11,
   "metadata": {},
   "outputs": [],
   "source": [
    "#now one hot encode the categorical columns\n",
    "for i in imp_categorical_columns:\n",
    "    prefix_name = 'z_' + i\n",
    "    y = pd.get_dummies(imputed_df[i],prefix=prefix_name,drop_first=True)\n",
    "    imputed_df = pd.concat([imputed_df,y],axis=1)\n",
    "    imputed_df = imputed_df.drop(i,axis=1)\n"
   ]
  },
  {
   "attachments": {},
   "cell_type": "markdown",
   "metadata": {},
   "source": [
    "## Remove the outliers from the dataset\n"
   ]
  },
  {
   "cell_type": "code",
   "execution_count": 12,
   "metadata": {},
   "outputs": [
    {
     "data": {
      "image/png": "[encoded data removed]",
      "text/plain": [
       "<Figure size 640x480 with 1 Axes>"
      ]
     },
     "metadata": {},
     "output_type": "display_data"
    }
   ],
   "source": [
    "# from the imputed DF, let's keep only things within 3 standard deviations\n",
    "# we'll use the scipy stats package to get the zscore\n",
    "outlier_vis = imputed_df.copy()\n",
    "outlier_vis['zscore'] = stats.zscore(outlier_vis[TARGET_A],nan_policy='omit')\n",
    "\n",
    "# histogram of zscore\n",
    "plot1 = sns.histplot(x=outlier_vis['zscore'], data=outlier_vis)\n",
    "fig = plot1.get_figure()\n",
    "fig.savefig('zscore_hist.png', bbox_inches='tight')\n",
    "# get the absolute value of the zscore so we don't have to do > & < to get both upper and lower\n",
    "# then save that as another df to use later on\n",
    "# super important here is the or statement in filtering the df\n",
    "# if you don't use the or part, you end up dropping all the nondefaults\n",
    "imputed_no_outlier = imputed_df[(np.abs(stats.zscore(imputed_df[TARGET_A],nan_policy='omit')) < 3)\\\n",
    "                                 | ~imputed_df[TARGET_F].isna()].copy()"
   ]
  },
  {
   "attachments": {},
   "cell_type": "markdown",
   "metadata": {},
   "source": [
    "## Split the Data Into Test & Train"
   ]
  },
  {
   "cell_type": "code",
   "execution_count": 13,
   "metadata": {},
   "outputs": [
    {
     "name": "stdout",
     "output_type": "stream",
     "text": [
      "Training =  (4768, 16)\n",
      "Testing =  (1192, 16)\n"
     ]
    }
   ],
   "source": [
    "# drop the targets\n",
    "# keep the predictors\n",
    "# drop the missing flags as well\n",
    "# uncomment to use no outlier\n",
    "X = imputed_no_outlier.copy()\n",
    "#X = imputed_df.copy()\n",
    "X = X.drop(TARGET_F,axis=1)\n",
    "X = X.drop(TARGET_A,axis=1)\n",
    "\n",
    "for column in imputed_no_outlier.columns.values:\n",
    "    if \"M_\" in column:\n",
    "        X.drop(column,axis=1,inplace=True)\n",
    "\n",
    "# the target we're predicting\n",
    "Y = imputed_no_outlier[[TARGET_F,TARGET_A]]\n",
    "\n",
    "# keep 80% for training\n",
    "# keep 20% for testing\n",
    "# use random_state=1 if you need the results to be the same (this sets our seed)\n",
    "# X_train and Y_train should match up on the index\n",
    "# X_test and Y_test should match up on the index\n",
    "X_train, X_test, Y_train, Y_test = train_test_split(X,Y, \\\n",
    "                                                    train_size=0.8, \\\n",
    "                                                    test_size=.2) #random_state=1\n",
    "\n",
    "print(\"Training = \", X_train.shape)\n",
    "print(\"Testing = \", X_test.shape)"
   ]
  },
  {
   "attachments": {},
   "cell_type": "markdown",
   "metadata": {},
   "source": [
    "## Feature Selection"
   ]
  },
  {
   "attachments": {},
   "cell_type": "markdown",
   "metadata": {},
   "source": [
    "### Stepwise"
   ]
  },
  {
   "cell_type": "code",
   "execution_count": 14,
   "metadata": {},
   "outputs": [],
   "source": [
    "# create a list of the columns\n",
    "varNames = list(X.columns.values)\n",
    "\n",
    "# define the max number of columns as the max number of current columns\n",
    "maxCols = X.shape[1]"
   ]
  },
  {
   "cell_type": "code",
   "execution_count": null,
   "metadata": {},
   "outputs": [],
   "source": [
    "sfs = SFS(LinearRegression(),\n",
    "          k_features = (1, maxCols),\n",
    "          forward = True,\n",
    "          floating = False,\n",
    "          scoring = 'r2',\n",
    "          cv = 5)\n",
    "sfs.fit(X.values,Y.values)"
   ]
  }
 ],
 "metadata": {
  "kernelspec": {
   "display_name": "base",
   "language": "python",
   "name": "python3"
  },
  "language_info": {
   "codemirror_mode": {
    "name": "ipython",
    "version": 3
   },
   "file_extension": ".py",
   "mimetype": "text/x-python",
   "name": "python",
   "nbconvert_exporter": "python",
   "pygments_lexer": "ipython3",
   "version": "3.9.13"
  },
  "orig_nbformat": 4
 },
 "nbformat": 4,
 "nbformat_minor": 2
}
