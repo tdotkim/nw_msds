{
 "cells": [
  {
   "attachments": {},
   "cell_type": "markdown",
   "metadata": {},
   "source": [
    "# Import Python Libraries"
   ]
  },
  {
   "cell_type": "code",
   "execution_count": 1,
   "metadata": {},
   "outputs": [],
   "source": [
    "import numpy as np\n",
    "import time\n",
    "import random"
   ]
  },
  {
   "cell_type": "code",
   "execution_count": 2,
   "metadata": {},
   "outputs": [],
   "source": [
    "from sklearn.ensemble import RandomForestClassifier \n",
    "import sklearn.metrics as metrics"
   ]
  },
  {
   "cell_type": "code",
   "execution_count": 3,
   "metadata": {},
   "outputs": [
    {
     "name": "stdout",
     "output_type": "stream",
     "text": [
      "2.10.0\n"
     ]
    }
   ],
   "source": [
    "import tensorflow as tf\n",
    "import matplotlib.pyplot as plt\n",
    "\n",
    "print( tf.__version__ )"
   ]
  },
  {
   "cell_type": "raw",
   "metadata": {},
   "source": []
  },
  {
   "attachments": {},
   "cell_type": "markdown",
   "metadata": {},
   "source": [
    "# FASHION data"
   ]
  },
  {
   "cell_type": "raw",
   "metadata": {},
   "source": [
    "Label   Class\n",
    "0       T-shirt/top\n",
    "1       Trouser\n",
    "2       Pullover\n",
    "3       Dress\n",
    "4       Coat\n",
    "5       Sandal\n",
    "6       Shirt\n",
    "7       Sneaker\n",
    "8       Bag\n",
    "9       Ankle boot\n"
   ]
  },
  {
   "cell_type": "code",
   "execution_count": 4,
   "metadata": {},
   "outputs": [],
   "source": [
    "# Loan in Fashion Data\n",
    "#mnist = tf.keras.datasets.fashion_mnist # 28x28 Fashion Image Data\n",
    "\n",
    "#class_names = ['T-shirt/top', 'Trouser', 'Pullover', 'Dress', 'Coat', \n",
    "#               'Sandal', 'Shirt', 'Sneaker', 'Bag', 'Ankle boot' ]\n"
   ]
  },
  {
   "attachments": {},
   "cell_type": "markdown",
   "metadata": {},
   "source": [
    "# NUMBER data"
   ]
  },
  {
   "cell_type": "code",
   "execution_count": 5,
   "metadata": {},
   "outputs": [],
   "source": [
    "#Load in Data\n",
    "mnist = tf.keras.datasets.mnist # 28x28 Handwritten Digits 0-9"
   ]
  },
  {
   "cell_type": "code",
   "execution_count": 6,
   "metadata": {},
   "outputs": [],
   "source": [
    "\n",
    "\n",
    "(x_train, y_train), (x_test, y_test) = mnist.load_data()\n",
    "\n",
    "# Normalize the Data\n",
    "#x_train = tf.keras.utils.normalize( x_train, axis=1 )\n",
    "#x_test = tf.keras.utils.normalize( x_test, axis=1 )\n",
    "\n",
    "x_train = x_train / 255 \n",
    "x_test = x_test / 255 \n",
    "\n"
   ]
  },
  {
   "cell_type": "code",
   "execution_count": 7,
   "metadata": {},
   "outputs": [
    {
     "name": "stdout",
     "output_type": "stream",
     "text": [
      "<class 'numpy.ndarray'>\n",
      "(60000, 28, 28)\n",
      "<class 'numpy.ndarray'>\n",
      "(60000,)\n"
     ]
    }
   ],
   "source": [
    "\n",
    "print( type( x_train ) )\n",
    "print( x_train.shape )\n",
    "\n",
    "print( type( y_train ) )\n",
    "print( y_train.shape )\n"
   ]
  },
  {
   "cell_type": "code",
   "execution_count": 8,
   "metadata": {},
   "outputs": [
    {
     "name": "stdout",
     "output_type": "stream",
     "text": [
      "Shape =  (28, 28)\n",
      "TOTAL SIZE =  784\n"
     ]
    }
   ],
   "source": [
    "INPUT_SHAPE = x_train[0].shape\n",
    "print(\"Shape = \", INPUT_SHAPE )\n",
    "\n",
    "TOTAL_SIZE = INPUT_SHAPE[0] * INPUT_SHAPE[1]\n",
    "print(\"TOTAL SIZE = \", TOTAL_SIZE)\n"
   ]
  },
  {
   "cell_type": "code",
   "execution_count": 9,
   "metadata": {},
   "outputs": [],
   "source": [
    "def getRandomIndex( DATA ) :\n",
    "    return random.randint(0, DATA.shape[0] )"
   ]
  },
  {
   "cell_type": "code",
   "execution_count": 10,
   "metadata": {
    "scrolled": true
   },
   "outputs": [
    {
     "name": "stdout",
     "output_type": "stream",
     "text": [
      "who= 54778\n",
      "4\n"
     ]
    },
    {
     "data": {
      "text/plain": [
       "<matplotlib.image.AxesImage at 0x21861af8160>"
      ]
     },
     "execution_count": 10,
     "metadata": {},
     "output_type": "execute_result"
    },
    {
     "data": {
      "image/png": "[encoded data removed]",
      "text/plain": [
       "<Figure size 640x480 with 1 Axes>"
      ]
     },
     "metadata": {},
     "output_type": "display_data"
    }
   ],
   "source": [
    "\n",
    "who=0\n",
    "who=getRandomIndex( x_train )\n",
    "\n",
    "print(\"who=\", who)\n",
    "\n",
    "print( y_train[who])\n",
    "#print( x_train[who])\n",
    "plt.imshow(x_train[who], plt.cm.binary) \n",
    "#plt.imshow(x_train[who] ) \n"
   ]
  },
  {
   "cell_type": "raw",
   "metadata": {},
   "source": []
  },
  {
   "attachments": {},
   "cell_type": "markdown",
   "metadata": {},
   "source": [
    "# SOLVE USING RANDOM FORESTS"
   ]
  },
  {
   "cell_type": "code",
   "execution_count": 11,
   "metadata": {},
   "outputs": [
    {
     "name": "stdout",
     "output_type": "stream",
     "text": [
      "(60000, 28, 28)\n",
      "(60000, 784)\n"
     ]
    }
   ],
   "source": [
    "new_x_train = []\n",
    "for i in x_train :\n",
    "    new_x_train.append( i.flatten() )\n",
    "new_x_train = np.array( new_x_train )\n",
    "\n",
    "new_x_test = []\n",
    "for i in x_test :\n",
    "    new_x_test.append( i.flatten() )\n",
    "new_x_test = np.array( new_x_test )\n",
    "\n",
    "print( x_train.shape )\n",
    "print( new_x_train.shape )"
   ]
  },
  {
   "cell_type": "code",
   "execution_count": 12,
   "metadata": {},
   "outputs": [
    {
     "name": "stdout",
     "output_type": "stream",
     "text": [
      "This might take a while ... maybe 15+ minutes ...depends on your computer.\n",
      "Execution Time In Seconds =  883.0\n",
      "Execution Time In Minutes =  14.7\n"
     ]
    }
   ],
   "source": [
    "print(\"This might take a while ... maybe 15+ minutes ...depends on your computer.\")\n",
    "start_time = time.time()\n",
    "\n",
    "theTrees = int( 2*TOTAL_SIZE )\n",
    "\n",
    "clf = RandomForestClassifier( n_estimators = theTrees )\n",
    "clf.fit( new_x_train, y_train )\n",
    "\n",
    "Time_In_Seconds = round( time.time()-start_time, 0 )\n",
    "Time_In_Minutes = round( Time_In_Seconds / 60, 1 )\n",
    "print(\"Execution Time In Seconds = \", Time_In_Seconds )\n",
    "print(\"Execution Time In Minutes = \", Time_In_Minutes )\n"
   ]
  },
  {
   "cell_type": "code",
   "execution_count": 13,
   "metadata": {},
   "outputs": [
    {
     "name": "stdout",
     "output_type": "stream",
     "text": [
      "5\n",
      "train accuracy 1.0\n",
      "7\n",
      "test accuracy 0.9714\n"
     ]
    }
   ],
   "source": [
    "pred_train = clf.predict( new_x_train )\n",
    "print( pred_train[0] )\n",
    "RF_acc_train = metrics.accuracy_score(y_train, pred_train )\n",
    "print( \"train accuracy\", RF_acc_train )\n",
    "\n",
    "pred_test = clf.predict( new_x_test )\n",
    "print( pred_test[0] )\n",
    "RF_acc = metrics.accuracy_score(y_test, pred_test )\n",
    "print( \"test accuracy\", RF_acc )\n"
   ]
  },
  {
   "cell_type": "raw",
   "metadata": {},
   "source": []
  },
  {
   "attachments": {},
   "cell_type": "markdown",
   "metadata": {},
   "source": [
    "# SOLVE USING TENSOR FLOW NEURAL NETWORKS"
   ]
  },
  {
   "cell_type": "code",
   "execution_count": 14,
   "metadata": {},
   "outputs": [],
   "source": [
    "theEpochs = 2\n",
    "\n",
    "theActivation = tf.keras.activations.relu\n",
    "\n",
    "\n",
    "units_01 = int( 2*TOTAL_SIZE )\n",
    "units_02 = units_01\n",
    "\n",
    "DENSE_LAYER_01 = tf.keras.layers.Dense( units=units_01, activation=theActivation )\n",
    "DENSE_LAYER_02 = tf.keras.layers.Dense( units=units_02, activation=theActivation )\n",
    "DENSE_LAYER_XX = tf.keras.layers.Dense(10, activation=tf.nn.softmax )\n",
    "\n",
    "DROPOUT_LAYER = tf.keras.layers.Dropout( 0.2 )\n",
    "\n",
    "\n",
    "theOptimizer = tf.keras.optimizers.Adam()\n",
    "theLossMetric = tf.keras.losses.SparseCategoricalCrossentropy()\n",
    "\n",
    "theSplit = 0.2\n",
    "theBatchSize = 32\n",
    "verboseFlag = True\n",
    "\n",
    "theTensorFlowSaveFile = \"TF_Number_Model\""
   ]
  },
  {
   "cell_type": "code",
   "execution_count": 15,
   "metadata": {
    "scrolled": false,
    "slideshow": {
     "slide_type": "slide"
    }
   },
   "outputs": [
    {
     "name": "stdout",
     "output_type": "stream",
     "text": [
      "This might take a while ... maybe 15+ minutes ...depends on your computer.\n",
      "Epoch 1/2\n",
      "1500/1500 [==============================] - 32s 21ms/step - loss: 0.2126 - accuracy: 0.9351 - val_loss: 0.1344 - val_accuracy: 0.9599\n",
      "Epoch 2/2\n",
      "1500/1500 [==============================] - 32s 22ms/step - loss: 0.1091 - accuracy: 0.9667 - val_loss: 0.1321 - val_accuracy: 0.9603\n",
      "Execution Time In Seconds =  65.0\n",
      "Execution Time In Minutes =  1.1\n"
     ]
    }
   ],
   "source": [
    "\n",
    "# Build the Model\n",
    "\n",
    "print(\"This might take a while ... maybe 15+ minutes ...depends on your computer.\")\n",
    "start_time = time.time()\n",
    "\n",
    "model = tf.keras.models.Sequential()\n",
    "model.add( tf.keras.layers.Flatten( input_shape=INPUT_SHAPE ) )\n",
    "model.add( DENSE_LAYER_01 )\n",
    "model.add( DROPOUT_LAYER )\n",
    "model.add( DENSE_LAYER_02 )\n",
    "model.add( DENSE_LAYER_XX )\n",
    "#model.compile( optimizer=theOptimizer, loss=theLossMetric )\n",
    "model.compile( optimizer=theOptimizer, loss=theLossMetric, metrics=['accuracy'] )\n",
    "#model.fit(x_train, y_train, epochs=theEpochs, verbose = verboseFlag )\n",
    "model.fit(x_train, y_train, epochs=theEpochs, validation_split=theSplit, batch_size=theBatchSize, verbose = verboseFlag )\n",
    "\n",
    "\n",
    "Time_In_Seconds = round( time.time()-start_time, 0 )\n",
    "Time_In_Minutes = round( Time_In_Seconds / 60, 1 )\n",
    "print(\"Execution Time In Seconds = \", Time_In_Seconds )\n",
    "print(\"Execution Time In Minutes = \", Time_In_Minutes )\n",
    "\n"
   ]
  },
  {
   "cell_type": "code",
   "execution_count": 16,
   "metadata": {},
   "outputs": [
    {
     "name": "stdout",
     "output_type": "stream",
     "text": [
      "313/313 [==============================] - 2s 6ms/step\n",
      "WHO =  2895  Predicte = 8  Actual =  8\n",
      "WHO =  3284  Predicte = 8  Actual =  8\n",
      "WHO =  8769  Predicte = 6  Actual =  6\n",
      "WHO =  4369  Predicte = 9  Actual =  9\n",
      "WHO =  5723  Predicte = 2  Actual =  2\n",
      " --------- \n",
      "accuracy =  0.9644\n"
     ]
    }
   ],
   "source": [
    "probs = model.predict( x_test )\n",
    "\n",
    "pred_list = []\n",
    "for p in probs :\n",
    "    pred_list.append( np.argmax( p ) )\n",
    "pred = np.array( pred_list )\n",
    "acc_score = metrics.accuracy_score( y_test, pred)\n",
    "\n",
    "for i in range(5) :\n",
    "    who = getRandomIndex( x_test )\n",
    "    print(\"WHO = \", who, \" Predicte =\", pred[who], \" Actual = \", y_test[who] )\n",
    "\n",
    "print(\" --------- \")\n",
    "print(\"accuracy = \", acc_score)\n"
   ]
  },
  {
   "cell_type": "code",
   "execution_count": 17,
   "metadata": {},
   "outputs": [
    {
     "name": "stdout",
     "output_type": "stream",
     "text": [
      "313/313 [==============================] - 2s 6ms/step - loss: 0.1129 - accuracy: 0.9644\n",
      "loss= 0.11287658661603928\n",
      "accuracy 0.9643999934196472\n"
     ]
    }
   ],
   "source": [
    "NN_loss, NN_acc = model.evaluate( x_test, y_test )\n",
    "print(\"loss=\",NN_loss)\n",
    "print(\"accuracy\",NN_acc)"
   ]
  },
  {
   "cell_type": "code",
   "execution_count": 18,
   "metadata": {},
   "outputs": [
    {
     "name": "stdout",
     "output_type": "stream",
     "text": [
      "INFO:tensorflow:Assets written to: TF_Number_Model\\assets\n"
     ]
    }
   ],
   "source": [
    "model.save( theTensorFlowSaveFile )"
   ]
  },
  {
   "cell_type": "code",
   "execution_count": 19,
   "metadata": {},
   "outputs": [],
   "source": [
    "new_model= tf.keras.models.load_model( theTensorFlowSaveFile )"
   ]
  },
  {
   "cell_type": "code",
   "execution_count": 20,
   "metadata": {},
   "outputs": [
    {
     "name": "stdout",
     "output_type": "stream",
     "text": [
      "313/313 [==============================] - 2s 6ms/step\n"
     ]
    }
   ],
   "source": [
    "predictions = new_model.predict( x_test ) "
   ]
  },
  {
   "cell_type": "code",
   "execution_count": 21,
   "metadata": {},
   "outputs": [
    {
     "name": "stdout",
     "output_type": "stream",
     "text": [
      "[5.3399107e-03 9.8218894e-05 7.7309534e-02 2.2346001e-04 5.3141721e-02\n",
      " 3.5912912e-05 8.6377341e-01 2.5478628e-05 1.6971568e-05 3.5458383e-05]\n",
      "predict= 6 actual= 4\n"
     ]
    },
    {
     "data": {
      "text/plain": [
       "<matplotlib.image.AxesImage at 0x218811c6a00>"
      ]
     },
     "execution_count": 21,
     "metadata": {},
     "output_type": "execute_result"
    },
    {
     "data": {
      "image/png": "[encoded data removed]",
      "text/plain": [
       "<Figure size 640x480 with 1 Axes>"
      ]
     },
     "metadata": {},
     "output_type": "display_data"
    }
   ],
   "source": [
    "who=getRandomIndex( x_test )\n",
    "print( predictions[who]) # probability score\n",
    "result = np.argmax( list(predictions[who]) )\n",
    "print(\"predict=\",result,\"actual=\",y_test[who])\n",
    "plt.imshow( x_test[who], plt.cm.binary )\n",
    "#plt.show()"
   ]
  },
  {
   "cell_type": "raw",
   "metadata": {},
   "source": []
  },
  {
   "attachments": {},
   "cell_type": "markdown",
   "metadata": {},
   "source": [
    "# Accuracy of RANDOM FOREST and NEURAL NETWORK"
   ]
  },
  {
   "cell_type": "code",
   "execution_count": 22,
   "metadata": {},
   "outputs": [
    {
     "name": "stdout",
     "output_type": "stream",
     "text": [
      "RF accuracy 0.9714\n",
      "NN accuracy 0.9643999934196472\n"
     ]
    }
   ],
   "source": [
    "print(\"RF accuracy\", RF_acc )\n",
    "print(\"NN accuracy\",NN_acc)"
   ]
  },
  {
   "cell_type": "code",
   "execution_count": null,
   "metadata": {},
   "outputs": [],
   "source": []
  }
 ],
 "metadata": {
  "kernelspec": {
   "display_name": "Python 3 (ipykernel)",
   "language": "python",
   "name": "python3"
  },
  "language_info": {
   "codemirror_mode": {
    "name": "ipython",
    "version": 3
   },
   "file_extension": ".py",
   "mimetype": "text/x-python",
   "name": "python",
   "nbconvert_exporter": "python",
   "pygments_lexer": "ipython3",
   "version": "3.9.13"
  }
 },
 "nbformat": 4,
 "nbformat_minor": 2
}
