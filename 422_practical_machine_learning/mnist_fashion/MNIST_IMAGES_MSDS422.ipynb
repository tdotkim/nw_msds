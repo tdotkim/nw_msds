{
  "cells": [
    {
      "attachments": {},
      "cell_type": "markdown",
      "metadata": {
        "id": "ZXIJ15fwrqPd"
      },
      "source": [
        "# MNIST Fashion - TF"
      ]
    },
    {
      "attachments": {},
      "cell_type": "markdown",
      "metadata": {
        "id": "PlrOQOyfrumq"
      },
      "source": [
        "## Imports"
      ]
    },
    {
      "cell_type": "code",
      "execution_count": 1,
      "metadata": {
        "id": "pVGSs_HVrZfY"
      },
      "outputs": [],
      "source": [
        "import numpy as np\n",
        "import time\n",
        "import random\n",
        "from sklearn.ensemble import RandomForestClassifier\n",
        "from sklearn.linear_model import LogisticRegression\n",
        "import sklearn.metrics as metrics\n",
        "import tensorflow as tf\n",
        "import matplotlib.pyplot as plt"
      ]
    },
    {
      "cell_type": "code",
      "execution_count": 2,
      "metadata": {
        "id": "GUzY1n58sbYC"
      },
      "outputs": [],
      "source": [
        "mnist = tf.keras.datasets.fashion_mnist # 28x28 Fashion Image Data\n",
        "\n",
        "class_names = ['T-shirt/top', 'Trouser', 'Pullover', 'Dress', 'Coat', \n",
        "               'Sandal', 'Shirt', 'Sneaker', 'Bag', 'Ankle boot' ]\n"
      ]
    },
    {
      "attachments": {},
      "cell_type": "markdown",
      "metadata": {
        "id": "jRYBlbgMsub9"
      },
      "source": [
        "## Preprocess the data"
      ]
    },
    {
      "cell_type": "code",
      "execution_count": 3,
      "metadata": {
        "colab": {
          "base_uri": "https://localhost:8080/"
        },
        "id": "9ltMnTEnswX5",
        "outputId": "1800db0c-c717-4880-e500-b79623d3f347"
      },
      "outputs": [],
      "source": [
        "# load the data into train/test split\n",
        "(x_train, y_train), (x_test, y_test) = mnist.load_data()\n",
        "\n",
        "x_train = tf.keras.utils.normalize( x_train, axis=1 )\n",
        "x_test = tf.keras.utils.normalize( x_test, axis=1 )"
      ]
    },
    {
      "cell_type": "code",
      "execution_count": 4,
      "metadata": {
        "colab": {
          "base_uri": "https://localhost:8080/"
        },
        "id": "C82JEXhKtUyj",
        "outputId": "c52729cd-2ec7-43ec-8a4a-0a01988fd9a0"
      },
      "outputs": [
        {
          "name": "stdout",
          "output_type": "stream",
          "text": [
            "Shape =  (28, 28)\n",
            "TOTAL SIZE =  784\n"
          ]
        }
      ],
      "source": [
        "# save the image shape\n",
        "# 28 by 28 pixels = 784 pixels\n",
        "input_shape = x_train[0].shape\n",
        "print(\"Shape = \", input_shape )\n",
        "\n",
        "total_size = input_shape[0] * input_shape[1]\n",
        "print(\"TOTAL SIZE = \", total_size)\n"
      ]
    },
    {
      "attachments": {},
      "cell_type": "markdown",
      "metadata": {
        "id": "i5O5oymFt7vv"
      },
      "source": [
        "## Preview of an image"
      ]
    },
    {
      "cell_type": "code",
      "execution_count": 5,
      "metadata": {
        "id": "fadNCpyut92J"
      },
      "outputs": [],
      "source": [
        "def getRandomIndex( DATA ) :\n",
        "    return random.randint(0, DATA.shape[0] )"
      ]
    },
    {
      "cell_type": "code",
      "execution_count": 6,
      "metadata": {
        "colab": {
          "base_uri": "https://localhost:8080/",
          "height": 482
        },
        "id": "nWb8Qczyt-ox",
        "outputId": "074fb93c-8dfb-4eae-a41e-047cad396f44"
      },
      "outputs": [
        {
          "name": "stdout",
          "output_type": "stream",
          "text": [
            "who = 7838\n",
            "classed as = Trouser\n"
          ]
        },
        {
          "data": {
            "text/plain": [
              "<matplotlib.image.AxesImage at 0x1a6d0f72e80>"
            ]
          },
          "execution_count": 6,
          "metadata": {},
          "output_type": "execute_result"
        },
        {
          "data": {
            "image/png": "[encoded data removed]",
            "text/plain": [
              "<Figure size 640x480 with 1 Axes>"
            ]
          },
          "metadata": {},
          "output_type": "display_data"
        }
      ],
      "source": [
        "who=0\n",
        "who=getRandomIndex( x_train )\n",
        "\n",
        "print(\"who =\", who)\n",
        "\n",
        "print(\"classed as =\", class_names[y_train[who]])\n",
        "#print( x_train[who])\n",
        "plt.imshow(x_train[who], plt.cm.binary) \n",
        "#plt.imshow(x_train[who] ) \n"
      ]
    },
    {
      "attachments": {},
      "cell_type": "markdown",
      "metadata": {
        "id": "lEYLseHxvGm3"
      },
      "source": [
        "## Random Forest"
      ]
    },
    {
      "attachments": {},
      "cell_type": "markdown",
      "metadata": {
        "id": "TNCUGK69vJcC"
      },
      "source": [
        "### Flatten the data"
      ]
    },
    {
      "cell_type": "code",
      "execution_count": 7,
      "metadata": {
        "colab": {
          "base_uri": "https://localhost:8080/"
        },
        "id": "ExANjDtyvI6k",
        "outputId": "12de7046-5fd2-4b40-a1b3-72c56ba1acd3"
      },
      "outputs": [
        {
          "name": "stdout",
          "output_type": "stream",
          "text": [
            "(60000, 28, 28)\n",
            "(60000, 784)\n"
          ]
        }
      ],
      "source": [
        "new_x_train = []\n",
        "for i in x_train :\n",
        "    new_x_train.append( i.flatten() )\n",
        "new_x_train = np.array( new_x_train )\n",
        "\n",
        "new_x_test = []\n",
        "for i in x_test :\n",
        "    new_x_test.append( i.flatten() )\n",
        "new_x_test = np.array( new_x_test )\n",
        "\n",
        "print( x_train.shape )\n",
        "print( new_x_train.shape )"
      ]
    },
    {
      "attachments": {},
      "cell_type": "markdown",
      "metadata": {
        "id": "i9rpw2_4vqk2"
      },
      "source": [
        "### Fit the data"
      ]
    },
    {
      "cell_type": "code",
      "execution_count": 8,
      "metadata": {
        "colab": {
          "base_uri": "https://localhost:8080/"
        },
        "id": "VixvhJhhvtBB",
        "outputId": "caa8095f-2f4e-45c9-c741-c3a66c47b2a7"
      },
      "outputs": [
        {
          "name": "stdout",
          "output_type": "stream",
          "text": [
            "Execution Time In Seconds =  2649.0\n",
            "Execution Time In Minutes =  44.1\n"
          ]
        }
      ],
      "source": [
        "start_time = time.time()\n",
        "\n",
        "theTrees = int( 2*total_size )\n",
        "\n",
        "clf = RandomForestClassifier( n_estimators = theTrees )\n",
        "clf.fit( new_x_train, y_train )\n",
        "\n",
        "Time_In_Seconds = round( time.time()-start_time, 0 )\n",
        "Time_In_Minutes = round( Time_In_Seconds / 60, 1 )\n",
        "print(\"Execution Time In Seconds = \", Time_In_Seconds )\n",
        "print(\"Execution Time In Minutes = \", Time_In_Minutes )\n"
      ]
    },
    {
      "cell_type": "code",
      "execution_count": 9,
      "metadata": {
        "colab": {
          "base_uri": "https://localhost:8080/"
        },
        "id": "tY8KoJ_H605m",
        "outputId": "c3ed47b1-ae9f-4575-8333-72f411a63d85"
      },
      "outputs": [
        {
          "name": "stdout",
          "output_type": "stream",
          "text": [
            "9\n",
            "train accuracy 1.0\n",
            "9\n",
            "test accuracy 0.8799\n"
          ]
        }
      ],
      "source": [
        "pred_train = clf.predict( new_x_train )\n",
        "print( pred_train[0] )\n",
        "RF_acc_train = metrics.accuracy_score(y_train, pred_train )\n",
        "print( \"train accuracy\", RF_acc_train )\n",
        "\n",
        "pred_test = clf.predict( new_x_test )\n",
        "print( pred_test[0] )\n",
        "RF_acc = metrics.accuracy_score(y_test, pred_test )\n",
        "print( \"test accuracy\", RF_acc )\n"
      ]
    },
    {
      "attachments": {},
      "cell_type": "markdown",
      "metadata": {
        "id": "Ct5u1rm8Ai6U"
      },
      "source": [
        "## Log Model Attempt"
      ]
    },
    {
      "cell_type": "code",
      "execution_count": 10,
      "metadata": {
        "colab": {
          "base_uri": "https://localhost:8080/",
          "height": 214
        },
        "id": "Iq-ZaECi7Rzx",
        "outputId": "08a528f0-3edf-42d6-cb13-0178ba6e98dd"
      },
      "outputs": [
        {
          "name": "stderr",
          "output_type": "stream",
          "text": [
            "c:\\Users\\TK\\Anaconda3\\envs\\tf\\lib\\site-packages\\sklearn\\linear_model\\_logistic.py:458: ConvergenceWarning: lbfgs failed to converge (status=1):\n",
            "STOP: TOTAL NO. of ITERATIONS REACHED LIMIT.\n",
            "\n",
            "Increase the number of iterations (max_iter) or scale the data as shown in:\n",
            "    https://scikit-learn.org/stable/modules/preprocessing.html\n",
            "Please also refer to the documentation for alternative solver options:\n",
            "    https://scikit-learn.org/stable/modules/linear_model.html#logistic-regression\n",
            "  n_iter_i = _check_optimize_result(\n"
          ]
        },
        {
          "data": {
            "text/html": [
              "<style>#sk-container-id-1 {color: black;background-color: white;}#sk-container-id-1 pre{padding: 0;}#sk-container-id-1 div.sk-toggleable {background-color: white;}#sk-container-id-1 label.sk-toggleable__label {cursor: pointer;display: block;width: 100%;margin-bottom: 0;padding: 0.3em;box-sizing: border-box;text-align: center;}#sk-container-id-1 label.sk-toggleable__label-arrow:before {content: \"▸\";float: left;margin-right: 0.25em;color: #696969;}#sk-container-id-1 label.sk-toggleable__label-arrow:hover:before {color: black;}#sk-container-id-1 div.sk-estimator:hover label.sk-toggleable__label-arrow:before {color: black;}#sk-container-id-1 div.sk-toggleable__content {max-height: 0;max-width: 0;overflow: hidden;text-align: left;background-color: #f0f8ff;}#sk-container-id-1 div.sk-toggleable__content pre {margin: 0.2em;color: black;border-radius: 0.25em;background-color: #f0f8ff;}#sk-container-id-1 input.sk-toggleable__control:checked~div.sk-toggleable__content {max-height: 200px;max-width: 100%;overflow: auto;}#sk-container-id-1 input.sk-toggleable__control:checked~label.sk-toggleable__label-arrow:before {content: \"▾\";}#sk-container-id-1 div.sk-estimator input.sk-toggleable__control:checked~label.sk-toggleable__label {background-color: #d4ebff;}#sk-container-id-1 div.sk-label input.sk-toggleable__control:checked~label.sk-toggleable__label {background-color: #d4ebff;}#sk-container-id-1 input.sk-hidden--visually {border: 0;clip: rect(1px 1px 1px 1px);clip: rect(1px, 1px, 1px, 1px);height: 1px;margin: -1px;overflow: hidden;padding: 0;position: absolute;width: 1px;}#sk-container-id-1 div.sk-estimator {font-family: monospace;background-color: #f0f8ff;border: 1px dotted black;border-radius: 0.25em;box-sizing: border-box;margin-bottom: 0.5em;}#sk-container-id-1 div.sk-estimator:hover {background-color: #d4ebff;}#sk-container-id-1 div.sk-parallel-item::after {content: \"\";width: 100%;border-bottom: 1px solid gray;flex-grow: 1;}#sk-container-id-1 div.sk-label:hover label.sk-toggleable__label {background-color: #d4ebff;}#sk-container-id-1 div.sk-serial::before {content: \"\";position: absolute;border-left: 1px solid gray;box-sizing: border-box;top: 0;bottom: 0;left: 50%;z-index: 0;}#sk-container-id-1 div.sk-serial {display: flex;flex-direction: column;align-items: center;background-color: white;padding-right: 0.2em;padding-left: 0.2em;position: relative;}#sk-container-id-1 div.sk-item {position: relative;z-index: 1;}#sk-container-id-1 div.sk-parallel {display: flex;align-items: stretch;justify-content: center;background-color: white;position: relative;}#sk-container-id-1 div.sk-item::before, #sk-container-id-1 div.sk-parallel-item::before {content: \"\";position: absolute;border-left: 1px solid gray;box-sizing: border-box;top: 0;bottom: 0;left: 50%;z-index: -1;}#sk-container-id-1 div.sk-parallel-item {display: flex;flex-direction: column;z-index: 1;position: relative;background-color: white;}#sk-container-id-1 div.sk-parallel-item:first-child::after {align-self: flex-end;width: 50%;}#sk-container-id-1 div.sk-parallel-item:last-child::after {align-self: flex-start;width: 50%;}#sk-container-id-1 div.sk-parallel-item:only-child::after {width: 0;}#sk-container-id-1 div.sk-dashed-wrapped {border: 1px dashed gray;margin: 0 0.4em 0.5em 0.4em;box-sizing: border-box;padding-bottom: 0.4em;background-color: white;}#sk-container-id-1 div.sk-label label {font-family: monospace;font-weight: bold;display: inline-block;line-height: 1.2em;}#sk-container-id-1 div.sk-label-container {text-align: center;}#sk-container-id-1 div.sk-container {/* jupyter's `normalize.less` sets `[hidden] { display: none; }` but bootstrap.min.css set `[hidden] { display: none !important; }` so we also need the `!important` here to be able to override the default hidden behavior on the sphinx rendered scikit-learn.org. See: https://github.com/scikit-learn/scikit-learn/issues/21755 */display: inline-block !important;position: relative;}#sk-container-id-1 div.sk-text-repr-fallback {display: none;}</style><div id=\"sk-container-id-1\" class=\"sk-top-container\"><div class=\"sk-text-repr-fallback\"><pre>LogisticRegression()</pre><b>In a Jupyter environment, please rerun this cell to show the HTML representation or trust the notebook. <br />On GitHub, the HTML representation is unable to render, please try loading this page with nbviewer.org.</b></div><div class=\"sk-container\" hidden><div class=\"sk-item\"><div class=\"sk-estimator sk-toggleable\"><input class=\"sk-toggleable__control sk-hidden--visually\" id=\"sk-estimator-id-1\" type=\"checkbox\" checked><label for=\"sk-estimator-id-1\" class=\"sk-toggleable__label sk-toggleable__label-arrow\">LogisticRegression</label><div class=\"sk-toggleable__content\"><pre>LogisticRegression()</pre></div></div></div></div></div>"
            ],
            "text/plain": [
              "LogisticRegression()"
            ]
          },
          "execution_count": 10,
          "metadata": {},
          "output_type": "execute_result"
        }
      ],
      "source": [
        "logmodel = LogisticRegression()\n",
        "logmodel.fit( new_x_train, y_train )"
      ]
    },
    {
      "cell_type": "code",
      "execution_count": 11,
      "metadata": {
        "colab": {
          "base_uri": "https://localhost:8080/"
        },
        "id": "YRKMr6m874g3",
        "outputId": "cdfa3b71-d9f0-4df7-c8a0-62c91acb3e4b"
      },
      "outputs": [
        {
          "name": "stdout",
          "output_type": "stream",
          "text": [
            "9\n",
            "train accuracy 0.8721333333333333\n",
            "9\n",
            "test accuracy 0.8528\n"
          ]
        }
      ],
      "source": [
        "log_pred_train = logmodel.predict( new_x_train )\n",
        "print( log_pred_train[0] )\n",
        "log_acc_train = metrics.accuracy_score(y_train, log_pred_train )\n",
        "print( \"train accuracy\", log_acc_train )\n",
        "\n",
        "log_pred_test = logmodel.predict( new_x_test )\n",
        "print( pred_test[0] )\n",
        "log_acc = metrics.accuracy_score(y_test, log_pred_test )\n",
        "print( \"test accuracy\", log_acc )\n"
      ]
    },
    {
      "attachments": {},
      "cell_type": "markdown",
      "metadata": {
        "id": "1peSMAMJAksy"
      },
      "source": [
        "## Neural Network"
      ]
    },
    {
      "cell_type": "code",
      "execution_count": 12,
      "metadata": {
        "id": "aEvO2-V6AonD"
      },
      "outputs": [],
      "source": [
        "theEpochs = 2\n",
        "\n",
        "theActivation = tf.keras.activations.relu\n",
        "\n",
        "\n",
        "units_01 = int( 2*total_size )\n",
        "units_02 = units_01\n",
        "\n",
        "DENSE_LAYER_01 = tf.keras.layers.Dense( units=units_01, activation=theActivation )\n",
        "DENSE_LAYER_02 = tf.keras.layers.Dense( units=units_02, activation=theActivation )\n",
        "DENSE_LAYER_XX = tf.keras.layers.Dense(10, activation=tf.nn.softmax )\n",
        "\n",
        "DROPOUT_LAYER = tf.keras.layers.Dropout( 0.2 )\n",
        "\n",
        "\n",
        "theOptimizer = tf.keras.optimizers.Adam()\n",
        "theLossMetric = tf.keras.losses.SparseCategoricalCrossentropy()\n",
        "\n",
        "theSplit = 0.2\n",
        "theBatchSize = 32\n",
        "verboseFlag = True\n",
        "\n",
        "theTensorFlowSaveFile = \"TF_Number_Model\""
      ]
    },
    {
      "cell_type": "code",
      "execution_count": 13,
      "metadata": {
        "colab": {
          "base_uri": "https://localhost:8080/"
        },
        "id": "6jFvD6MNAr_x",
        "outputId": "0a31dc2d-9de3-418a-8c13-ada2ba39f0e4"
      },
      "outputs": [
        {
          "name": "stdout",
          "output_type": "stream",
          "text": [
            "This might take a while ... maybe 15+ minutes ...depends on your computer.\n",
            "Epoch 1/2\n",
            "1500/1500 [==============================] - 44s 29ms/step - loss: 0.4931 - accuracy: 0.8159 - val_loss: 0.3711 - val_accuracy: 0.8663\n",
            "Epoch 2/2\n",
            "1500/1500 [==============================] - 44s 29ms/step - loss: 0.3833 - accuracy: 0.8567 - val_loss: 0.3757 - val_accuracy: 0.8582\n",
            "Execution Time In Seconds =  89.0\n",
            "Execution Time In Minutes =  1.5\n"
          ]
        }
      ],
      "source": [
        "\n",
        "# Build the Model\n",
        "\n",
        "print(\"This might take a while ... maybe 15+ minutes ...depends on your computer.\")\n",
        "start_time = time.time()\n",
        "\n",
        "nn_model = tf.keras.models.Sequential()\n",
        "nn_model.add( tf.keras.layers.Flatten( input_shape=input_shape ) )\n",
        "nn_model.add( DENSE_LAYER_01 )\n",
        "nn_model.add( DROPOUT_LAYER )\n",
        "nn_model.add( DENSE_LAYER_02 )\n",
        "nn_model.add( DENSE_LAYER_XX )\n",
        "#model.compile( optimizer=theOptimizer, loss=theLossMetric )\n",
        "nn_model.compile( optimizer=theOptimizer, loss=theLossMetric, metrics=['accuracy'] )\n",
        "#model.fit(x_train, y_train, epochs=theEpochs, verbose = verboseFlag )\n",
        "nn_model.fit(x_train, y_train, epochs=theEpochs, validation_split=theSplit, batch_size=theBatchSize, verbose = verboseFlag )\n",
        "\n",
        "\n",
        "Time_In_Seconds = round( time.time()-start_time, 0 )\n",
        "Time_In_Minutes = round( Time_In_Seconds / 60, 1 )\n",
        "print(\"Execution Time In Seconds = \", Time_In_Seconds )\n",
        "print(\"Execution Time In Minutes = \", Time_In_Minutes )\n",
        "\n"
      ]
    },
    {
      "cell_type": "code",
      "execution_count": 14,
      "metadata": {
        "colab": {
          "base_uri": "https://localhost:8080/"
        },
        "id": "fwQIaMSTAwmh",
        "outputId": "1c301f6c-7fb0-4733-f0d6-bd90483c9743"
      },
      "outputs": [
        {
          "name": "stdout",
          "output_type": "stream",
          "text": [
            "313/313 [==============================] - 2s 5ms/step\n",
            "WHO =  5227  Predicted = 1  Actual =  1\n",
            "WHO =  8615  Predicted = 3  Actual =  3\n",
            "WHO =  6273  Predicted = 4  Actual =  6\n",
            "WHO =  4745  Predicted = 1  Actual =  1\n",
            "WHO =  3187  Predicted = 2  Actual =  2\n",
            " --------- \n",
            "accuracy =  0.8509\n"
          ]
        }
      ],
      "source": [
        "probs = nn_model.predict( x_test )\n",
        "\n",
        "pred_list = []\n",
        "for p in probs :\n",
        "    pred_list.append( np.argmax( p ) )\n",
        "nn_pred = np.array( pred_list )\n",
        "nn_acc_score = metrics.accuracy_score( y_test, nn_pred)\n",
        "\n",
        "for i in range(5) :\n",
        "    who = getRandomIndex( x_test )\n",
        "    print(\"WHO = \", who, \" Predicted =\", nn_pred[who], \" Actual = \", y_test[who] )\n",
        "\n",
        "print(\" --------- \")\n",
        "print(\"accuracy = \", nn_acc_score)\n"
      ]
    },
    {
      "attachments": {},
      "cell_type": "markdown",
      "metadata": {
        "id": "rKJ5P3RCB_j1"
      },
      "source": [
        "## NN optimization"
      ]
    },
    {
      "cell_type": "code",
      "execution_count": 15,
      "metadata": {
        "colab": {
          "base_uri": "https://localhost:8080/"
        },
        "id": "Z3MdLMpLEGI2",
        "outputId": "e3f7d857-19ad-493c-e4fc-da3c02106bea"
      },
      "outputs": [
        {
          "data": {
            "text/plain": [
              "1568"
            ]
          },
          "execution_count": 15,
          "metadata": {},
          "output_type": "execute_result"
        }
      ],
      "source": [
        "int( 2*total_size )"
      ]
    },
    {
      "cell_type": "code",
      "execution_count": 16,
      "metadata": {
        "id": "rFqbvgwlCBYD"
      },
      "outputs": [],
      "source": [
        "import keras_tuner as kt"
      ]
    },
    {
      "cell_type": "code",
      "execution_count": 17,
      "metadata": {
        "id": "L6g9SQ5QCsfK"
      },
      "outputs": [],
      "source": [
        "def create_model(hp):\n",
        "    nn_model = tf.keras.models.Sequential()\n",
        "\n",
        "    # Allow kerastuner to decide which activation function to use in hidden layers\n",
        "    activation = hp.Choice('activation',['relu','sigmoid','selu','softmax'])\n",
        "    optimizers = ['adam','SGD','AdamW']\n",
        "    lr_min, lr_max = 1e-4, 1e-1\n",
        "\n",
        "    optimizer = hp.Choice('optimizer', optimizers)\n",
        "    lr = hp.Float('learning_rate', min_value=lr_min, max_value=lr_max, sampling='log')\n",
        "    nn_model.add( tf.keras.layers.Flatten( input_shape=input_shape ) )\n",
        "    # Allow kerastuner to decide number of neurons in first layer\n",
        "    nn_model.add(tf.keras.layers.Dense(units=hp.Int('first_units',\n",
        "        min_value=int( 2*total_size ),\n",
        "        max_value=1800,\n",
        "        step=50), activation=activation)) #, input_dim=X_train_scaled.shape[1]\n",
        "\n",
        "    # Allow kerastuner to decide number of hidden layers and neurons in hidden layers\n",
        "    for i in range(hp.Int('num_layers', 1, 3)):\n",
        "        nn_model.add(tf.keras.layers.Dense(units=hp.Int('units_' + str(i),\n",
        "            min_value=100,\n",
        "            max_value=1800,\n",
        "            step=400),\n",
        "            activation=activation))\n",
        "    \n",
        "    nn_model.add(tf.keras.layers.Dense(units=10, activation=\"softmax\"))\n",
        "\n",
        "    if optimizer == \"adam\":\n",
        "        optimizer = tf.keras.optimizers.Adam(learning_rate=lr)\n",
        "    elif optimizer == \"SGD\":\n",
        "        optimizer = tf.keras.optimizers.SGD(learning_rate=lr)\n",
        "    elif optimizer == \"AdamW\":\n",
        "        optimizer = tf.keras.optimizers.AdamW(learning_rate=lr)\n",
        "    else:\n",
        "        raise(\"Not supported optimizer\")\n",
        "\n",
        "    # Compile the model\n",
        "    nn_model.compile(loss=\"SparseCategoricalCrossentropy\", optimizer=optimizer, metrics=[\"accuracy\"])\n",
        "    \n",
        "    return nn_model"
      ]
    },
    {
      "cell_type": "code",
      "execution_count": 26,
      "metadata": {
        "id": "-kXyZPm7CvAT"
      },
      "outputs": [],
      "source": [
        "tunerx = kt.Hyperband(create_model, \n",
        "                     objective=\"val_accuracy\",\n",
        "                     max_epochs=3,\n",
        "                     hyperband_iterations=2,\n",
        "                     overwrite=True,\n",
        "                     project_name='1111')"
      ]
    },
    {
      "cell_type": "code",
      "execution_count": 27,
      "metadata": {
        "id": "haRqe9aUCzVz"
      },
      "outputs": [
        {
          "name": "stdout",
          "output_type": "stream",
          "text": [
            "Trial 12 Complete [00h 03m 28s]\n",
            "val_accuracy: 0.10000000149011612\n",
            "\n",
            "Best val_accuracy So Far: 0.8730999827384949\n",
            "Total elapsed time: 00h 24m 13s\n",
            "INFO:tensorflow:Oracle triggered exit\n"
          ]
        }
      ],
      "source": [
        "tunerx.search(x_train, y_train,epochs=3,validation_data=(x_test,y_test))"
      ]
    },
    {
      "cell_type": "code",
      "execution_count": 20,
      "metadata": {
        "id": "gXUQmO3JGvKC"
      },
      "outputs": [
        {
          "ename": "NameError",
          "evalue": "name 'tuner2' is not defined",
          "output_type": "error",
          "traceback": [
            "\u001b[1;31m---------------------------------------------------------------------------\u001b[0m",
            "\u001b[1;31mNameError\u001b[0m                                 Traceback (most recent call last)",
            "Cell \u001b[1;32mIn[20], line 1\u001b[0m\n\u001b[1;32m----> 1\u001b[0m best_model \u001b[39m=\u001b[39m tuner2\u001b[39m.\u001b[39mget_best_models(\u001b[39m1\u001b[39m)[\u001b[39m0\u001b[39m]\n\u001b[0;32m      2\u001b[0m nn_model_loss, nn_model_accuracy \u001b[39m=\u001b[39m best_model\u001b[39m.\u001b[39mevaluate(x_test,y_test,verbose\u001b[39m=\u001b[39m\u001b[39m2\u001b[39m)\n\u001b[0;32m      3\u001b[0m \u001b[39mprint\u001b[39m(\u001b[39mf\u001b[39m\u001b[39m\"\u001b[39m\u001b[39mLoss: \u001b[39m\u001b[39m{\u001b[39;00mnn_model_loss\u001b[39m}\u001b[39;00m\u001b[39m, Accuracy: \u001b[39m\u001b[39m{\u001b[39;00mnn_model_accuracy\u001b[39m}\u001b[39;00m\u001b[39m\"\u001b[39m)\n",
            "\u001b[1;31mNameError\u001b[0m: name 'tuner2' is not defined"
          ]
        }
      ],
      "source": [
        "best_model = tuner2.get_best_models(1)[0]\n",
        "nn_model_loss, nn_model_accuracy = best_model.evaluate(x_test,y_test,verbose=2)\n",
        "print(f\"Loss: {nn_model_loss}, Accuracy: {nn_model_accuracy}\")"
      ]
    },
    {
      "cell_type": "code",
      "execution_count": null,
      "metadata": {
        "id": "TVAuDuHVHAJV"
      },
      "outputs": [],
      "source": [
        "best_model.save('bestmodel')"
      ]
    },
    {
      "attachments": {},
      "cell_type": "markdown",
      "metadata": {
        "id": "KYvum6yvHL6o"
      },
      "source": [
        "## Testing our saved model"
      ]
    },
    {
      "cell_type": "code",
      "execution_count": null,
      "metadata": {
        "id": "ofgfsV3PHOv3"
      },
      "outputs": [],
      "source": [
        "new_model = tf.keras.models.load_model( 'bestmodel' )"
      ]
    },
    {
      "cell_type": "code",
      "execution_count": null,
      "metadata": {
        "id": "Nm3OA-9fHQ6C"
      },
      "outputs": [],
      "source": [
        "newest_pred = new_model.predict( x_test ) "
      ]
    },
    {
      "cell_type": "code",
      "execution_count": null,
      "metadata": {
        "id": "YvOhGWhrHYEx"
      },
      "outputs": [],
      "source": [
        "who=getRandomIndex( x_test )\n",
        "print( newest_pred[who]) # probability score\n",
        "result = np.argmax( list(newest_pred[who]) )\n",
        "print(\"predict=\",result,\"actual=\",y_test[who])\n",
        "plt.imshow( x_test[who], plt.cm.binary )"
      ]
    }
  ],
  "metadata": {
    "colab": {
      "provenance": []
    },
    "kernelspec": {
      "display_name": "Python 3",
      "name": "python3"
    },
    "language_info": {
      "codemirror_mode": {
        "name": "ipython",
        "version": 3
      },
      "file_extension": ".py",
      "mimetype": "text/x-python",
      "name": "python",
      "nbconvert_exporter": "python",
      "pygments_lexer": "ipython3",
      "version": "3.9.16"
    }
  },
  "nbformat": 4,
  "nbformat_minor": 0
}
