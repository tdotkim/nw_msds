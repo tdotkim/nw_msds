{
 "cells": [
  {
   "attachments": {},
   "cell_type": "markdown",
   "metadata": {},
   "source": [
    "# Data Normalization & Standardization"
   ]
  },
  {
   "attachments": {},
   "cell_type": "markdown",
   "metadata": {},
   "source": [
    "## Imports"
   ]
  },
  {
   "cell_type": "code",
   "execution_count": 157,
   "metadata": {},
   "outputs": [],
   "source": [
    "import pandas as pd\n",
    "import numpy as np\n",
    "from sklearn.preprocessing import MinMaxScaler, StandardScaler, OneHotEncoder\n",
    "from sklearn import set_config\n",
    "import seaborn as sns\n",
    "import matplotlib.pyplot as plt"
   ]
  },
  {
   "attachments": {},
   "cell_type": "markdown",
   "metadata": {},
   "source": [
    "We'll configure scikit-learn to output in a pandas dataframe to save us having to marry columns to numpy arrays to get DF's again"
   ]
  },
  {
   "cell_type": "code",
   "execution_count": 120,
   "metadata": {},
   "outputs": [],
   "source": [
    "set_config(transform_output=\"pandas\")"
   ]
  },
  {
   "attachments": {},
   "cell_type": "markdown",
   "metadata": {},
   "source": [
    "Remove the target variables"
   ]
  },
  {
   "cell_type": "code",
   "execution_count": 121,
   "metadata": {},
   "outputs": [],
   "source": [
    "initial_df = pd.read_csv('HMEQ_Loss.csv')\n",
    "no_targets_df = initial_df.drop(['TARGET_BAD_FLAG','TARGET_LOSS_AMT'],axis=1)"
   ]
  },
  {
   "attachments": {},
   "cell_type": "markdown",
   "metadata": {},
   "source": [
    "Split our dataset into categorical and numerical"
   ]
  },
  {
   "cell_type": "code",
   "execution_count": 123,
   "metadata": {},
   "outputs": [],
   "source": [
    "# cat only\n",
    "categorical_columns = no_targets_df.select_dtypes('object')\n",
    "\n",
    "# num only\n",
    "numerical_columns = no_targets_df.select_dtypes(exclude='object')\n"
   ]
  },
  {
   "attachments": {},
   "cell_type": "markdown",
   "metadata": {},
   "source": [
    "## Impute missing  values"
   ]
  },
  {
   "attachments": {},
   "cell_type": "markdown",
   "metadata": {},
   "source": [
    "For numerical, we can use the median to fill in the missing values"
   ]
  },
  {
   "cell_type": "code",
   "execution_count": 124,
   "metadata": {},
   "outputs": [],
   "source": [
    "# for our numerical friends\n",
    "dropholder = []\n",
    "for col in numerical_columns:  \n",
    "    if numerical_columns[col].isna().mean() > 0:\n",
    "        numerical_columns['imp_'+col] = numerical_columns[col].fillna(numerical_columns[col].median())\n",
    "        dropholder.append(col)\n",
    "    else:\n",
    "        continue\n",
    "\n",
    "numerical_columns.drop(dropholder,axis=1,inplace=True)"
   ]
  },
  {
   "attachments": {},
   "cell_type": "markdown",
   "metadata": {},
   "source": [
    "For categorical, we can use the mode (aka the most frequently appearing value)"
   ]
  },
  {
   "cell_type": "code",
   "execution_count": 127,
   "metadata": {},
   "outputs": [],
   "source": [
    "# for our categorical friends\n",
    "dropholder = []\n",
    "for col in categorical_columns:  \n",
    "    if categorical_columns[col].isna().mean() > 0:\n",
    "        colmode = categorical_columns[col].value_counts().index[0]\n",
    "        categorical_columns['imp_'+col] = categorical_columns[col].fillna(colmode)\n",
    "        dropholder.append(col)\n",
    "    else:\n",
    "        continue\n",
    "\n",
    "categorical_columns.drop(dropholder,axis=1,inplace=True)"
   ]
  },
  {
   "attachments": {},
   "cell_type": "markdown",
   "metadata": {},
   "source": [
    "## Normalization"
   ]
  },
  {
   "attachments": {},
   "cell_type": "markdown",
   "metadata": {},
   "source": [
    "Normalization through scikit learn uses MinMaxScaler().\n",
    "\n",
    "The formula it uses is below:\n",
    "\n",
    "X_std = (X - X.min(axis=0)) / (X.max(axis=0) - X.min(axis=0))\n",
    "\n",
    "X_scaled = X_std * (max - min) + min"
   ]
  },
  {
   "attachments": {},
   "cell_type": "markdown",
   "metadata": {},
   "source": [
    "Step 1 is to instantiate the MinMax Scaler"
   ]
  },
  {
   "cell_type": "code",
   "execution_count": 128,
   "metadata": {},
   "outputs": [
    {
     "data": {
      "text/html": [
       "<style>#sk-container-id-15 {color: black;background-color: white;}#sk-container-id-15 pre{padding: 0;}#sk-container-id-15 div.sk-toggleable {background-color: white;}#sk-container-id-15 label.sk-toggleable__label {cursor: pointer;display: block;width: 100%;margin-bottom: 0;padding: 0.3em;box-sizing: border-box;text-align: center;}#sk-container-id-15 label.sk-toggleable__label-arrow:before {content: \"▸\";float: left;margin-right: 0.25em;color: #696969;}#sk-container-id-15 label.sk-toggleable__label-arrow:hover:before {color: black;}#sk-container-id-15 div.sk-estimator:hover label.sk-toggleable__label-arrow:before {color: black;}#sk-container-id-15 div.sk-toggleable__content {max-height: 0;max-width: 0;overflow: hidden;text-align: left;background-color: #f0f8ff;}#sk-container-id-15 div.sk-toggleable__content pre {margin: 0.2em;color: black;border-radius: 0.25em;background-color: #f0f8ff;}#sk-container-id-15 input.sk-toggleable__control:checked~div.sk-toggleable__content {max-height: 200px;max-width: 100%;overflow: auto;}#sk-container-id-15 input.sk-toggleable__control:checked~label.sk-toggleable__label-arrow:before {content: \"▾\";}#sk-container-id-15 div.sk-estimator input.sk-toggleable__control:checked~label.sk-toggleable__label {background-color: #d4ebff;}#sk-container-id-15 div.sk-label input.sk-toggleable__control:checked~label.sk-toggleable__label {background-color: #d4ebff;}#sk-container-id-15 input.sk-hidden--visually {border: 0;clip: rect(1px 1px 1px 1px);clip: rect(1px, 1px, 1px, 1px);height: 1px;margin: -1px;overflow: hidden;padding: 0;position: absolute;width: 1px;}#sk-container-id-15 div.sk-estimator {font-family: monospace;background-color: #f0f8ff;border: 1px dotted black;border-radius: 0.25em;box-sizing: border-box;margin-bottom: 0.5em;}#sk-container-id-15 div.sk-estimator:hover {background-color: #d4ebff;}#sk-container-id-15 div.sk-parallel-item::after {content: \"\";width: 100%;border-bottom: 1px solid gray;flex-grow: 1;}#sk-container-id-15 div.sk-label:hover label.sk-toggleable__label {background-color: #d4ebff;}#sk-container-id-15 div.sk-serial::before {content: \"\";position: absolute;border-left: 1px solid gray;box-sizing: border-box;top: 0;bottom: 0;left: 50%;z-index: 0;}#sk-container-id-15 div.sk-serial {display: flex;flex-direction: column;align-items: center;background-color: white;padding-right: 0.2em;padding-left: 0.2em;position: relative;}#sk-container-id-15 div.sk-item {position: relative;z-index: 1;}#sk-container-id-15 div.sk-parallel {display: flex;align-items: stretch;justify-content: center;background-color: white;position: relative;}#sk-container-id-15 div.sk-item::before, #sk-container-id-15 div.sk-parallel-item::before {content: \"\";position: absolute;border-left: 1px solid gray;box-sizing: border-box;top: 0;bottom: 0;left: 50%;z-index: -1;}#sk-container-id-15 div.sk-parallel-item {display: flex;flex-direction: column;z-index: 1;position: relative;background-color: white;}#sk-container-id-15 div.sk-parallel-item:first-child::after {align-self: flex-end;width: 50%;}#sk-container-id-15 div.sk-parallel-item:last-child::after {align-self: flex-start;width: 50%;}#sk-container-id-15 div.sk-parallel-item:only-child::after {width: 0;}#sk-container-id-15 div.sk-dashed-wrapped {border: 1px dashed gray;margin: 0 0.4em 0.5em 0.4em;box-sizing: border-box;padding-bottom: 0.4em;background-color: white;}#sk-container-id-15 div.sk-label label {font-family: monospace;font-weight: bold;display: inline-block;line-height: 1.2em;}#sk-container-id-15 div.sk-label-container {text-align: center;}#sk-container-id-15 div.sk-container {/* jupyter's `normalize.less` sets `[hidden] { display: none; }` but bootstrap.min.css set `[hidden] { display: none !important; }` so we also need the `!important` here to be able to override the default hidden behavior on the sphinx rendered scikit-learn.org. See: https://github.com/scikit-learn/scikit-learn/issues/21755 */display: inline-block !important;position: relative;}#sk-container-id-15 div.sk-text-repr-fallback {display: none;}</style><div id=\"sk-container-id-15\" class=\"sk-top-container\"><div class=\"sk-text-repr-fallback\"><pre>MinMaxScaler()</pre><b>In a Jupyter environment, please rerun this cell to show the HTML representation or trust the notebook. <br />On GitHub, the HTML representation is unable to render, please try loading this page with nbviewer.org.</b></div><div class=\"sk-container\" hidden><div class=\"sk-item\"><div class=\"sk-estimator sk-toggleable\"><input class=\"sk-toggleable__control sk-hidden--visually\" id=\"sk-estimator-id-15\" type=\"checkbox\" checked><label for=\"sk-estimator-id-15\" class=\"sk-toggleable__label sk-toggleable__label-arrow\">MinMaxScaler</label><div class=\"sk-toggleable__content\"><pre>MinMaxScaler()</pre></div></div></div></div></div>"
      ],
      "text/plain": [
       "MinMaxScaler()"
      ]
     },
     "execution_count": 128,
     "metadata": {},
     "output_type": "execute_result"
    }
   ],
   "source": [
    "normalizer = MinMaxScaler()\n",
    "normalizer.fit(numerical_columns)"
   ]
  },
  {
   "attachments": {},
   "cell_type": "markdown",
   "metadata": {},
   "source": [
    "Step 2 is to transform our numerical columns into a new dataframe called normalized"
   ]
  },
  {
   "cell_type": "code",
   "execution_count": 129,
   "metadata": {},
   "outputs": [
    {
     "data": {
      "text/html": [
       "<div>\n",
       "<style scoped>\n",
       "    .dataframe tbody tr th:only-of-type {\n",
       "        vertical-align: middle;\n",
       "    }\n",
       "\n",
       "    .dataframe tbody tr th {\n",
       "        vertical-align: top;\n",
       "    }\n",
       "\n",
       "    .dataframe thead th {\n",
       "        text-align: right;\n",
       "    }\n",
       "</style>\n",
       "<table border=\"1\" class=\"dataframe\">\n",
       "  <thead>\n",
       "    <tr style=\"text-align: right;\">\n",
       "      <th></th>\n",
       "      <th>nor_LOAN</th>\n",
       "      <th>nor_imp_MORTDUE</th>\n",
       "      <th>nor_imp_VALUE</th>\n",
       "      <th>nor_imp_YOJ</th>\n",
       "      <th>nor_imp_DEROG</th>\n",
       "      <th>nor_imp_DELINQ</th>\n",
       "      <th>nor_imp_CLAGE</th>\n",
       "      <th>nor_imp_NINQ</th>\n",
       "      <th>nor_imp_CLNO</th>\n",
       "      <th>nor_imp_DEBTINC</th>\n",
       "    </tr>\n",
       "  </thead>\n",
       "  <tbody>\n",
       "    <tr>\n",
       "      <th>0</th>\n",
       "      <td>0.000000</td>\n",
       "      <td>0.059869</td>\n",
       "      <td>0.036590</td>\n",
       "      <td>0.256098</td>\n",
       "      <td>0.0</td>\n",
       "      <td>0.000000</td>\n",
       "      <td>0.080777</td>\n",
       "      <td>0.058824</td>\n",
       "      <td>0.126761</td>\n",
       "      <td>0.169112</td>\n",
       "    </tr>\n",
       "    <tr>\n",
       "      <th>1</th>\n",
       "      <td>0.002252</td>\n",
       "      <td>0.171050</td>\n",
       "      <td>0.071234</td>\n",
       "      <td>0.170732</td>\n",
       "      <td>0.0</td>\n",
       "      <td>0.133333</td>\n",
       "      <td>0.104289</td>\n",
       "      <td>0.000000</td>\n",
       "      <td>0.197183</td>\n",
       "      <td>0.169112</td>\n",
       "    </tr>\n",
       "    <tr>\n",
       "      <th>2</th>\n",
       "      <td>0.004505</td>\n",
       "      <td>0.028773</td>\n",
       "      <td>0.010261</td>\n",
       "      <td>0.097561</td>\n",
       "      <td>0.0</td>\n",
       "      <td>0.000000</td>\n",
       "      <td>0.127942</td>\n",
       "      <td>0.058824</td>\n",
       "      <td>0.140845</td>\n",
       "      <td>0.169112</td>\n",
       "    </tr>\n",
       "    <tr>\n",
       "      <th>3</th>\n",
       "      <td>0.004505</td>\n",
       "      <td>0.158385</td>\n",
       "      <td>0.095807</td>\n",
       "      <td>0.170732</td>\n",
       "      <td>0.0</td>\n",
       "      <td>0.000000</td>\n",
       "      <td>0.148486</td>\n",
       "      <td>0.058824</td>\n",
       "      <td>0.281690</td>\n",
       "      <td>0.169112</td>\n",
       "    </tr>\n",
       "    <tr>\n",
       "      <th>4</th>\n",
       "      <td>0.006757</td>\n",
       "      <td>0.240856</td>\n",
       "      <td>0.122655</td>\n",
       "      <td>0.073171</td>\n",
       "      <td>0.0</td>\n",
       "      <td>0.000000</td>\n",
       "      <td>0.079893</td>\n",
       "      <td>0.000000</td>\n",
       "      <td>0.197183</td>\n",
       "      <td>0.169112</td>\n",
       "    </tr>\n",
       "  </tbody>\n",
       "</table>\n",
       "</div>"
      ],
      "text/plain": [
       "   nor_LOAN  nor_imp_MORTDUE  nor_imp_VALUE  nor_imp_YOJ  nor_imp_DEROG  \\\n",
       "0  0.000000         0.059869       0.036590     0.256098            0.0   \n",
       "1  0.002252         0.171050       0.071234     0.170732            0.0   \n",
       "2  0.004505         0.028773       0.010261     0.097561            0.0   \n",
       "3  0.004505         0.158385       0.095807     0.170732            0.0   \n",
       "4  0.006757         0.240856       0.122655     0.073171            0.0   \n",
       "\n",
       "   nor_imp_DELINQ  nor_imp_CLAGE  nor_imp_NINQ  nor_imp_CLNO  nor_imp_DEBTINC  \n",
       "0        0.000000       0.080777      0.058824      0.126761         0.169112  \n",
       "1        0.133333       0.104289      0.000000      0.197183         0.169112  \n",
       "2        0.000000       0.127942      0.058824      0.140845         0.169112  \n",
       "3        0.000000       0.148486      0.058824      0.281690         0.169112  \n",
       "4        0.000000       0.079893      0.000000      0.197183         0.169112  "
      ]
     },
     "execution_count": 129,
     "metadata": {},
     "output_type": "execute_result"
    }
   ],
   "source": [
    "normalized = normalizer.transform(numerical_columns)\n",
    "normalized = normalized.add_prefix('nor_')\n",
    "normalized.head()"
   ]
  },
  {
   "attachments": {},
   "cell_type": "markdown",
   "metadata": {},
   "source": [
    "Step 3 is to validate the normalization with a manually calculated column"
   ]
  },
  {
   "cell_type": "code",
   "execution_count": 130,
   "metadata": {},
   "outputs": [
    {
     "data": {
      "text/html": [
       "<div>\n",
       "<style scoped>\n",
       "    .dataframe tbody tr th:only-of-type {\n",
       "        vertical-align: middle;\n",
       "    }\n",
       "\n",
       "    .dataframe tbody tr th {\n",
       "        vertical-align: top;\n",
       "    }\n",
       "\n",
       "    .dataframe thead th {\n",
       "        text-align: right;\n",
       "    }\n",
       "</style>\n",
       "<table border=\"1\" class=\"dataframe\">\n",
       "  <thead>\n",
       "    <tr style=\"text-align: right;\">\n",
       "      <th></th>\n",
       "      <th>loan_check</th>\n",
       "      <th>nor_LOAN</th>\n",
       "    </tr>\n",
       "  </thead>\n",
       "  <tbody>\n",
       "    <tr>\n",
       "      <th>0</th>\n",
       "      <td>0.000000</td>\n",
       "      <td>0.000000</td>\n",
       "    </tr>\n",
       "    <tr>\n",
       "      <th>1</th>\n",
       "      <td>0.002252</td>\n",
       "      <td>0.002252</td>\n",
       "    </tr>\n",
       "    <tr>\n",
       "      <th>2</th>\n",
       "      <td>0.004505</td>\n",
       "      <td>0.004505</td>\n",
       "    </tr>\n",
       "    <tr>\n",
       "      <th>3</th>\n",
       "      <td>0.004505</td>\n",
       "      <td>0.004505</td>\n",
       "    </tr>\n",
       "    <tr>\n",
       "      <th>4</th>\n",
       "      <td>0.006757</td>\n",
       "      <td>0.006757</td>\n",
       "    </tr>\n",
       "    <tr>\n",
       "      <th>...</th>\n",
       "      <td>...</td>\n",
       "      <td>...</td>\n",
       "    </tr>\n",
       "    <tr>\n",
       "      <th>5955</th>\n",
       "      <td>0.988739</td>\n",
       "      <td>0.988739</td>\n",
       "    </tr>\n",
       "    <tr>\n",
       "      <th>5956</th>\n",
       "      <td>0.989865</td>\n",
       "      <td>0.989865</td>\n",
       "    </tr>\n",
       "    <tr>\n",
       "      <th>5957</th>\n",
       "      <td>0.992117</td>\n",
       "      <td>0.992117</td>\n",
       "    </tr>\n",
       "    <tr>\n",
       "      <th>5958</th>\n",
       "      <td>0.998874</td>\n",
       "      <td>0.998874</td>\n",
       "    </tr>\n",
       "    <tr>\n",
       "      <th>5959</th>\n",
       "      <td>1.000000</td>\n",
       "      <td>1.000000</td>\n",
       "    </tr>\n",
       "  </tbody>\n",
       "</table>\n",
       "<p>5960 rows × 2 columns</p>\n",
       "</div>"
      ],
      "text/plain": [
       "      loan_check  nor_LOAN\n",
       "0       0.000000  0.000000\n",
       "1       0.002252  0.002252\n",
       "2       0.004505  0.004505\n",
       "3       0.004505  0.004505\n",
       "4       0.006757  0.006757\n",
       "...          ...       ...\n",
       "5955    0.988739  0.988739\n",
       "5956    0.989865  0.989865\n",
       "5957    0.992117  0.992117\n",
       "5958    0.998874  0.998874\n",
       "5959    1.000000  1.000000\n",
       "\n",
       "[5960 rows x 2 columns]"
      ]
     },
     "execution_count": 130,
     "metadata": {},
     "output_type": "execute_result"
    }
   ],
   "source": [
    "normalized['loan_check'] = (numerical_columns['LOAN']-numerical_columns['LOAN'].min())/(numerical_columns['LOAN'].max()-numerical_columns['LOAN'].min())\n",
    "normalized[['loan_check','nor_LOAN']]\n"
   ]
  },
  {
   "attachments": {},
   "cell_type": "markdown",
   "metadata": {},
   "source": [
    "You can see in the chart below the overall shape is maintained during this but the x-axis changes drastically limiting the range of values from 0 to 1."
   ]
  },
  {
   "cell_type": "code",
   "execution_count": 168,
   "metadata": {},
   "outputs": [
    {
     "data": {
      "text/plain": [
       "<AxesSubplot:xlabel='nor_LOAN', ylabel='Count'>"
      ]
     },
     "execution_count": 168,
     "metadata": {},
     "output_type": "execute_result"
    },
    {
     "data": {
      "image/png": "[encoded data removed]",
      "text/plain": [
       "<Figure size 640x480 with 2 Axes>"
      ]
     },
     "metadata": {},
     "output_type": "display_data"
    }
   ],
   "source": [
    "# visualizing the difference between the two\n",
    "fig, axs = plt.subplots(ncols=2,sharex=False)\n",
    "sns.histplot(initial_df,x='LOAN',ax=axs[0])\n",
    "sns.histplot(normalized,x='nor_LOAN',ax=axs[1])"
   ]
  },
  {
   "attachments": {},
   "cell_type": "markdown",
   "metadata": {},
   "source": [
    "## Standardization"
   ]
  },
  {
   "attachments": {},
   "cell_type": "markdown",
   "metadata": {},
   "source": [
    "For standardization we use StandardScaler().\n",
    "\n",
    "The formula is below:\n",
    "\n",
    "z = (x - u) / s"
   ]
  },
  {
   "attachments": {},
   "cell_type": "markdown",
   "metadata": {},
   "source": [
    "Step 1 is to instantiate the Standard Scaler"
   ]
  },
  {
   "cell_type": "code",
   "execution_count": 131,
   "metadata": {},
   "outputs": [
    {
     "data": {
      "text/html": [
       "<style>#sk-container-id-16 {color: black;background-color: white;}#sk-container-id-16 pre{padding: 0;}#sk-container-id-16 div.sk-toggleable {background-color: white;}#sk-container-id-16 label.sk-toggleable__label {cursor: pointer;display: block;width: 100%;margin-bottom: 0;padding: 0.3em;box-sizing: border-box;text-align: center;}#sk-container-id-16 label.sk-toggleable__label-arrow:before {content: \"▸\";float: left;margin-right: 0.25em;color: #696969;}#sk-container-id-16 label.sk-toggleable__label-arrow:hover:before {color: black;}#sk-container-id-16 div.sk-estimator:hover label.sk-toggleable__label-arrow:before {color: black;}#sk-container-id-16 div.sk-toggleable__content {max-height: 0;max-width: 0;overflow: hidden;text-align: left;background-color: #f0f8ff;}#sk-container-id-16 div.sk-toggleable__content pre {margin: 0.2em;color: black;border-radius: 0.25em;background-color: #f0f8ff;}#sk-container-id-16 input.sk-toggleable__control:checked~div.sk-toggleable__content {max-height: 200px;max-width: 100%;overflow: auto;}#sk-container-id-16 input.sk-toggleable__control:checked~label.sk-toggleable__label-arrow:before {content: \"▾\";}#sk-container-id-16 div.sk-estimator input.sk-toggleable__control:checked~label.sk-toggleable__label {background-color: #d4ebff;}#sk-container-id-16 div.sk-label input.sk-toggleable__control:checked~label.sk-toggleable__label {background-color: #d4ebff;}#sk-container-id-16 input.sk-hidden--visually {border: 0;clip: rect(1px 1px 1px 1px);clip: rect(1px, 1px, 1px, 1px);height: 1px;margin: -1px;overflow: hidden;padding: 0;position: absolute;width: 1px;}#sk-container-id-16 div.sk-estimator {font-family: monospace;background-color: #f0f8ff;border: 1px dotted black;border-radius: 0.25em;box-sizing: border-box;margin-bottom: 0.5em;}#sk-container-id-16 div.sk-estimator:hover {background-color: #d4ebff;}#sk-container-id-16 div.sk-parallel-item::after {content: \"\";width: 100%;border-bottom: 1px solid gray;flex-grow: 1;}#sk-container-id-16 div.sk-label:hover label.sk-toggleable__label {background-color: #d4ebff;}#sk-container-id-16 div.sk-serial::before {content: \"\";position: absolute;border-left: 1px solid gray;box-sizing: border-box;top: 0;bottom: 0;left: 50%;z-index: 0;}#sk-container-id-16 div.sk-serial {display: flex;flex-direction: column;align-items: center;background-color: white;padding-right: 0.2em;padding-left: 0.2em;position: relative;}#sk-container-id-16 div.sk-item {position: relative;z-index: 1;}#sk-container-id-16 div.sk-parallel {display: flex;align-items: stretch;justify-content: center;background-color: white;position: relative;}#sk-container-id-16 div.sk-item::before, #sk-container-id-16 div.sk-parallel-item::before {content: \"\";position: absolute;border-left: 1px solid gray;box-sizing: border-box;top: 0;bottom: 0;left: 50%;z-index: -1;}#sk-container-id-16 div.sk-parallel-item {display: flex;flex-direction: column;z-index: 1;position: relative;background-color: white;}#sk-container-id-16 div.sk-parallel-item:first-child::after {align-self: flex-end;width: 50%;}#sk-container-id-16 div.sk-parallel-item:last-child::after {align-self: flex-start;width: 50%;}#sk-container-id-16 div.sk-parallel-item:only-child::after {width: 0;}#sk-container-id-16 div.sk-dashed-wrapped {border: 1px dashed gray;margin: 0 0.4em 0.5em 0.4em;box-sizing: border-box;padding-bottom: 0.4em;background-color: white;}#sk-container-id-16 div.sk-label label {font-family: monospace;font-weight: bold;display: inline-block;line-height: 1.2em;}#sk-container-id-16 div.sk-label-container {text-align: center;}#sk-container-id-16 div.sk-container {/* jupyter's `normalize.less` sets `[hidden] { display: none; }` but bootstrap.min.css set `[hidden] { display: none !important; }` so we also need the `!important` here to be able to override the default hidden behavior on the sphinx rendered scikit-learn.org. See: https://github.com/scikit-learn/scikit-learn/issues/21755 */display: inline-block !important;position: relative;}#sk-container-id-16 div.sk-text-repr-fallback {display: none;}</style><div id=\"sk-container-id-16\" class=\"sk-top-container\"><div class=\"sk-text-repr-fallback\"><pre>StandardScaler()</pre><b>In a Jupyter environment, please rerun this cell to show the HTML representation or trust the notebook. <br />On GitHub, the HTML representation is unable to render, please try loading this page with nbviewer.org.</b></div><div class=\"sk-container\" hidden><div class=\"sk-item\"><div class=\"sk-estimator sk-toggleable\"><input class=\"sk-toggleable__control sk-hidden--visually\" id=\"sk-estimator-id-16\" type=\"checkbox\" checked><label for=\"sk-estimator-id-16\" class=\"sk-toggleable__label sk-toggleable__label-arrow\">StandardScaler</label><div class=\"sk-toggleable__content\"><pre>StandardScaler()</pre></div></div></div></div></div>"
      ],
      "text/plain": [
       "StandardScaler()"
      ]
     },
     "execution_count": 131,
     "metadata": {},
     "output_type": "execute_result"
    }
   ],
   "source": [
    "standardizer = StandardScaler()\n",
    "standardizer.fit(numerical_columns)"
   ]
  },
  {
   "attachments": {},
   "cell_type": "markdown",
   "metadata": {},
   "source": [
    "Step 2 is to transform our numerical columns into a new dataframe called standardized"
   ]
  },
  {
   "cell_type": "code",
   "execution_count": 132,
   "metadata": {},
   "outputs": [
    {
     "data": {
      "text/html": [
       "<div>\n",
       "<style scoped>\n",
       "    .dataframe tbody tr th:only-of-type {\n",
       "        vertical-align: middle;\n",
       "    }\n",
       "\n",
       "    .dataframe tbody tr th {\n",
       "        vertical-align: top;\n",
       "    }\n",
       "\n",
       "    .dataframe thead th {\n",
       "        text-align: right;\n",
       "    }\n",
       "</style>\n",
       "<table border=\"1\" class=\"dataframe\">\n",
       "  <thead>\n",
       "    <tr style=\"text-align: right;\">\n",
       "      <th></th>\n",
       "      <th>std_LOAN</th>\n",
       "      <th>std_imp_MORTDUE</th>\n",
       "      <th>std_imp_VALUE</th>\n",
       "      <th>std_imp_YOJ</th>\n",
       "      <th>std_imp_DEROG</th>\n",
       "      <th>std_imp_DELINQ</th>\n",
       "      <th>std_imp_CLAGE</th>\n",
       "      <th>std_imp_NINQ</th>\n",
       "      <th>std_imp_CLNO</th>\n",
       "      <th>std_imp_DEBTINC</th>\n",
       "    </tr>\n",
       "  </thead>\n",
       "  <tbody>\n",
       "    <tr>\n",
       "      <th>0</th>\n",
       "      <td>-1.562299</td>\n",
       "      <td>-1.107920</td>\n",
       "      <td>-1.099371</td>\n",
       "      <td>0.240237</td>\n",
       "      <td>-0.280976</td>\n",
       "      <td>-0.375943</td>\n",
       "      <td>-1.018026</td>\n",
       "      <td>-0.102879</td>\n",
       "      <td>-1.230878</td>\n",
       "      <td>0.106963</td>\n",
       "    </tr>\n",
       "    <tr>\n",
       "      <th>1</th>\n",
       "      <td>-1.544453</td>\n",
       "      <td>-0.069286</td>\n",
       "      <td>-0.582794</td>\n",
       "      <td>-0.241936</td>\n",
       "      <td>-0.280976</td>\n",
       "      <td>1.477341</td>\n",
       "      <td>-0.689350</td>\n",
       "      <td>-0.707574</td>\n",
       "      <td>-0.728389</td>\n",
       "      <td>0.106963</td>\n",
       "    </tr>\n",
       "    <tr>\n",
       "      <th>2</th>\n",
       "      <td>-1.526606</td>\n",
       "      <td>-1.398407</td>\n",
       "      <td>-1.491970</td>\n",
       "      <td>-0.655226</td>\n",
       "      <td>-0.280976</td>\n",
       "      <td>-0.375943</td>\n",
       "      <td>-0.358680</td>\n",
       "      <td>-0.102879</td>\n",
       "      <td>-1.130380</td>\n",
       "      <td>0.106963</td>\n",
       "    </tr>\n",
       "    <tr>\n",
       "      <th>3</th>\n",
       "      <td>-1.526606</td>\n",
       "      <td>-0.187596</td>\n",
       "      <td>-0.216389</td>\n",
       "      <td>-0.241936</td>\n",
       "      <td>-0.280976</td>\n",
       "      <td>-0.375943</td>\n",
       "      <td>-0.071488</td>\n",
       "      <td>-0.102879</td>\n",
       "      <td>-0.125403</td>\n",
       "      <td>0.106963</td>\n",
       "    </tr>\n",
       "    <tr>\n",
       "      <th>4</th>\n",
       "      <td>-1.508759</td>\n",
       "      <td>0.582831</td>\n",
       "      <td>0.183939</td>\n",
       "      <td>-0.792990</td>\n",
       "      <td>-0.280976</td>\n",
       "      <td>-0.375943</td>\n",
       "      <td>-1.030391</td>\n",
       "      <td>-0.707574</td>\n",
       "      <td>-0.728389</td>\n",
       "      <td>0.106963</td>\n",
       "    </tr>\n",
       "  </tbody>\n",
       "</table>\n",
       "</div>"
      ],
      "text/plain": [
       "   std_LOAN  std_imp_MORTDUE  std_imp_VALUE  std_imp_YOJ  std_imp_DEROG  \\\n",
       "0 -1.562299        -1.107920      -1.099371     0.240237      -0.280976   \n",
       "1 -1.544453        -0.069286      -0.582794    -0.241936      -0.280976   \n",
       "2 -1.526606        -1.398407      -1.491970    -0.655226      -0.280976   \n",
       "3 -1.526606        -0.187596      -0.216389    -0.241936      -0.280976   \n",
       "4 -1.508759         0.582831       0.183939    -0.792990      -0.280976   \n",
       "\n",
       "   std_imp_DELINQ  std_imp_CLAGE  std_imp_NINQ  std_imp_CLNO  std_imp_DEBTINC  \n",
       "0       -0.375943      -1.018026     -0.102879     -1.230878         0.106963  \n",
       "1        1.477341      -0.689350     -0.707574     -0.728389         0.106963  \n",
       "2       -0.375943      -0.358680     -0.102879     -1.130380         0.106963  \n",
       "3       -0.375943      -0.071488     -0.102879     -0.125403         0.106963  \n",
       "4       -0.375943      -1.030391     -0.707574     -0.728389         0.106963  "
      ]
     },
     "execution_count": 132,
     "metadata": {},
     "output_type": "execute_result"
    }
   ],
   "source": [
    "standardized = standardizer.transform(numerical_columns)\n",
    "standardized = standardized.add_prefix('std_')\n",
    "standardized.head()"
   ]
  },
  {
   "attachments": {},
   "cell_type": "markdown",
   "metadata": {},
   "source": [
    "Step 3 is to validate the standardization with a manually calculated column\n",
    "\n",
    "Interesting note here is the on the backend the StandardScaler() function leverages NumPy's std(). This uses a default degree of freedom = 0. Pandas' buit in std() function uses degree of freedom 1. I'll leave it as the Pandas one to show the difference in the below cell"
   ]
  },
  {
   "cell_type": "code",
   "execution_count": 133,
   "metadata": {},
   "outputs": [
    {
     "data": {
      "text/html": [
       "<div>\n",
       "<style scoped>\n",
       "    .dataframe tbody tr th:only-of-type {\n",
       "        vertical-align: middle;\n",
       "    }\n",
       "\n",
       "    .dataframe tbody tr th {\n",
       "        vertical-align: top;\n",
       "    }\n",
       "\n",
       "    .dataframe thead th {\n",
       "        text-align: right;\n",
       "    }\n",
       "</style>\n",
       "<table border=\"1\" class=\"dataframe\">\n",
       "  <thead>\n",
       "    <tr style=\"text-align: right;\">\n",
       "      <th></th>\n",
       "      <th>loan_check</th>\n",
       "      <th>std_LOAN</th>\n",
       "    </tr>\n",
       "  </thead>\n",
       "  <tbody>\n",
       "    <tr>\n",
       "      <th>0</th>\n",
       "      <td>-1.562168</td>\n",
       "      <td>-1.562299</td>\n",
       "    </tr>\n",
       "    <tr>\n",
       "      <th>1</th>\n",
       "      <td>-1.544323</td>\n",
       "      <td>-1.544453</td>\n",
       "    </tr>\n",
       "    <tr>\n",
       "      <th>2</th>\n",
       "      <td>-1.526478</td>\n",
       "      <td>-1.526606</td>\n",
       "    </tr>\n",
       "    <tr>\n",
       "      <th>3</th>\n",
       "      <td>-1.526478</td>\n",
       "      <td>-1.526606</td>\n",
       "    </tr>\n",
       "    <tr>\n",
       "      <th>4</th>\n",
       "      <td>-1.508633</td>\n",
       "      <td>-1.508759</td>\n",
       "    </tr>\n",
       "    <tr>\n",
       "      <th>...</th>\n",
       "      <td>...</td>\n",
       "      <td>...</td>\n",
       "    </tr>\n",
       "    <tr>\n",
       "      <th>5955</th>\n",
       "      <td>6.271885</td>\n",
       "      <td>6.272411</td>\n",
       "    </tr>\n",
       "    <tr>\n",
       "      <th>5956</th>\n",
       "      <td>6.280808</td>\n",
       "      <td>6.281335</td>\n",
       "    </tr>\n",
       "    <tr>\n",
       "      <th>5957</th>\n",
       "      <td>6.298653</td>\n",
       "      <td>6.299181</td>\n",
       "    </tr>\n",
       "    <tr>\n",
       "      <th>5958</th>\n",
       "      <td>6.352189</td>\n",
       "      <td>6.352722</td>\n",
       "    </tr>\n",
       "    <tr>\n",
       "      <th>5959</th>\n",
       "      <td>6.361111</td>\n",
       "      <td>6.361645</td>\n",
       "    </tr>\n",
       "  </tbody>\n",
       "</table>\n",
       "<p>5960 rows × 2 columns</p>\n",
       "</div>"
      ],
      "text/plain": [
       "      loan_check  std_LOAN\n",
       "0      -1.562168 -1.562299\n",
       "1      -1.544323 -1.544453\n",
       "2      -1.526478 -1.526606\n",
       "3      -1.526478 -1.526606\n",
       "4      -1.508633 -1.508759\n",
       "...          ...       ...\n",
       "5955    6.271885  6.272411\n",
       "5956    6.280808  6.281335\n",
       "5957    6.298653  6.299181\n",
       "5958    6.352189  6.352722\n",
       "5959    6.361111  6.361645\n",
       "\n",
       "[5960 rows x 2 columns]"
      ]
     },
     "execution_count": 133,
     "metadata": {},
     "output_type": "execute_result"
    }
   ],
   "source": [
    "standardized['loan_check'] = (numerical_columns['LOAN']-numerical_columns['LOAN'].mean())/numerical_columns['LOAN'].std()\n",
    "standardized[['loan_check','std_LOAN']]\n"
   ]
  },
  {
   "attachments": {},
   "cell_type": "markdown",
   "metadata": {},
   "source": [
    "Here I manually set the degrees of freedom to 0 to match numpy.std() in the column loan_checknumpy"
   ]
  },
  {
   "cell_type": "code",
   "execution_count": 134,
   "metadata": {},
   "outputs": [
    {
     "data": {
      "text/html": [
       "<div>\n",
       "<style scoped>\n",
       "    .dataframe tbody tr th:only-of-type {\n",
       "        vertical-align: middle;\n",
       "    }\n",
       "\n",
       "    .dataframe tbody tr th {\n",
       "        vertical-align: top;\n",
       "    }\n",
       "\n",
       "    .dataframe thead th {\n",
       "        text-align: right;\n",
       "    }\n",
       "</style>\n",
       "<table border=\"1\" class=\"dataframe\">\n",
       "  <thead>\n",
       "    <tr style=\"text-align: right;\">\n",
       "      <th></th>\n",
       "      <th>loan_check</th>\n",
       "      <th>loan_checknumpy</th>\n",
       "      <th>std_LOAN</th>\n",
       "    </tr>\n",
       "  </thead>\n",
       "  <tbody>\n",
       "    <tr>\n",
       "      <th>0</th>\n",
       "      <td>-1.562168</td>\n",
       "      <td>-1.562299</td>\n",
       "      <td>-1.562299</td>\n",
       "    </tr>\n",
       "    <tr>\n",
       "      <th>1</th>\n",
       "      <td>-1.544323</td>\n",
       "      <td>-1.544453</td>\n",
       "      <td>-1.544453</td>\n",
       "    </tr>\n",
       "    <tr>\n",
       "      <th>2</th>\n",
       "      <td>-1.526478</td>\n",
       "      <td>-1.526606</td>\n",
       "      <td>-1.526606</td>\n",
       "    </tr>\n",
       "    <tr>\n",
       "      <th>3</th>\n",
       "      <td>-1.526478</td>\n",
       "      <td>-1.526606</td>\n",
       "      <td>-1.526606</td>\n",
       "    </tr>\n",
       "    <tr>\n",
       "      <th>4</th>\n",
       "      <td>-1.508633</td>\n",
       "      <td>-1.508759</td>\n",
       "      <td>-1.508759</td>\n",
       "    </tr>\n",
       "    <tr>\n",
       "      <th>...</th>\n",
       "      <td>...</td>\n",
       "      <td>...</td>\n",
       "      <td>...</td>\n",
       "    </tr>\n",
       "    <tr>\n",
       "      <th>5955</th>\n",
       "      <td>6.271885</td>\n",
       "      <td>6.272411</td>\n",
       "      <td>6.272411</td>\n",
       "    </tr>\n",
       "    <tr>\n",
       "      <th>5956</th>\n",
       "      <td>6.280808</td>\n",
       "      <td>6.281335</td>\n",
       "      <td>6.281335</td>\n",
       "    </tr>\n",
       "    <tr>\n",
       "      <th>5957</th>\n",
       "      <td>6.298653</td>\n",
       "      <td>6.299181</td>\n",
       "      <td>6.299181</td>\n",
       "    </tr>\n",
       "    <tr>\n",
       "      <th>5958</th>\n",
       "      <td>6.352189</td>\n",
       "      <td>6.352722</td>\n",
       "      <td>6.352722</td>\n",
       "    </tr>\n",
       "    <tr>\n",
       "      <th>5959</th>\n",
       "      <td>6.361111</td>\n",
       "      <td>6.361645</td>\n",
       "      <td>6.361645</td>\n",
       "    </tr>\n",
       "  </tbody>\n",
       "</table>\n",
       "<p>5960 rows × 3 columns</p>\n",
       "</div>"
      ],
      "text/plain": [
       "      loan_check  loan_checknumpy  std_LOAN\n",
       "0      -1.562168        -1.562299 -1.562299\n",
       "1      -1.544323        -1.544453 -1.544453\n",
       "2      -1.526478        -1.526606 -1.526606\n",
       "3      -1.526478        -1.526606 -1.526606\n",
       "4      -1.508633        -1.508759 -1.508759\n",
       "...          ...              ...       ...\n",
       "5955    6.271885         6.272411  6.272411\n",
       "5956    6.280808         6.281335  6.281335\n",
       "5957    6.298653         6.299181  6.299181\n",
       "5958    6.352189         6.352722  6.352722\n",
       "5959    6.361111         6.361645  6.361645\n",
       "\n",
       "[5960 rows x 3 columns]"
      ]
     },
     "execution_count": 134,
     "metadata": {},
     "output_type": "execute_result"
    }
   ],
   "source": [
    "standardized['loan_checknumpy'] = (numerical_columns['LOAN']-numerical_columns['LOAN'].mean())/numerical_columns['LOAN'].std(ddof=0)\n",
    "standardized[['loan_check','loan_checknumpy','std_LOAN']]"
   ]
  },
  {
   "attachments": {},
   "cell_type": "markdown",
   "metadata": {},
   "source": [
    "In the chart below you can see the shape is maintained but the x-axis scale goes from -1 to 6. In a normally distributed data set you'll see the data go from -3 to 3 (3 standard deviations each way from 0)."
   ]
  },
  {
   "cell_type": "code",
   "execution_count": 169,
   "metadata": {},
   "outputs": [
    {
     "data": {
      "image/png": "[encoded data removed]",
      "text/plain": [
       "<Figure size 640x480 with 2 Axes>"
      ]
     },
     "metadata": {},
     "output_type": "display_data"
    }
   ],
   "source": [
    "# visualizing the difference between the two\n",
    "fig2, axs2 = plt.subplots(ncols=2,sharex=False)\n",
    "\n",
    "sns.histplot(initial_df,x='LOAN',ax=axs2[0])\n",
    "sns.histplot(standardized,x='std_LOAN',ax=axs2[1])\n",
    "axs2[1].set_xticks(range(-1,7));"
   ]
  },
  {
   "attachments": {},
   "cell_type": "markdown",
   "metadata": {},
   "source": [
    "## Categorical One-Hot"
   ]
  },
  {
   "attachments": {},
   "cell_type": "markdown",
   "metadata": {},
   "source": [
    "Step 1 is to instantiate the onehotencoder just like the above sections"
   ]
  },
  {
   "cell_type": "code",
   "execution_count": 135,
   "metadata": {},
   "outputs": [
    {
     "data": {
      "text/html": [
       "<style>#sk-container-id-17 {color: black;background-color: white;}#sk-container-id-17 pre{padding: 0;}#sk-container-id-17 div.sk-toggleable {background-color: white;}#sk-container-id-17 label.sk-toggleable__label {cursor: pointer;display: block;width: 100%;margin-bottom: 0;padding: 0.3em;box-sizing: border-box;text-align: center;}#sk-container-id-17 label.sk-toggleable__label-arrow:before {content: \"▸\";float: left;margin-right: 0.25em;color: #696969;}#sk-container-id-17 label.sk-toggleable__label-arrow:hover:before {color: black;}#sk-container-id-17 div.sk-estimator:hover label.sk-toggleable__label-arrow:before {color: black;}#sk-container-id-17 div.sk-toggleable__content {max-height: 0;max-width: 0;overflow: hidden;text-align: left;background-color: #f0f8ff;}#sk-container-id-17 div.sk-toggleable__content pre {margin: 0.2em;color: black;border-radius: 0.25em;background-color: #f0f8ff;}#sk-container-id-17 input.sk-toggleable__control:checked~div.sk-toggleable__content {max-height: 200px;max-width: 100%;overflow: auto;}#sk-container-id-17 input.sk-toggleable__control:checked~label.sk-toggleable__label-arrow:before {content: \"▾\";}#sk-container-id-17 div.sk-estimator input.sk-toggleable__control:checked~label.sk-toggleable__label {background-color: #d4ebff;}#sk-container-id-17 div.sk-label input.sk-toggleable__control:checked~label.sk-toggleable__label {background-color: #d4ebff;}#sk-container-id-17 input.sk-hidden--visually {border: 0;clip: rect(1px 1px 1px 1px);clip: rect(1px, 1px, 1px, 1px);height: 1px;margin: -1px;overflow: hidden;padding: 0;position: absolute;width: 1px;}#sk-container-id-17 div.sk-estimator {font-family: monospace;background-color: #f0f8ff;border: 1px dotted black;border-radius: 0.25em;box-sizing: border-box;margin-bottom: 0.5em;}#sk-container-id-17 div.sk-estimator:hover {background-color: #d4ebff;}#sk-container-id-17 div.sk-parallel-item::after {content: \"\";width: 100%;border-bottom: 1px solid gray;flex-grow: 1;}#sk-container-id-17 div.sk-label:hover label.sk-toggleable__label {background-color: #d4ebff;}#sk-container-id-17 div.sk-serial::before {content: \"\";position: absolute;border-left: 1px solid gray;box-sizing: border-box;top: 0;bottom: 0;left: 50%;z-index: 0;}#sk-container-id-17 div.sk-serial {display: flex;flex-direction: column;align-items: center;background-color: white;padding-right: 0.2em;padding-left: 0.2em;position: relative;}#sk-container-id-17 div.sk-item {position: relative;z-index: 1;}#sk-container-id-17 div.sk-parallel {display: flex;align-items: stretch;justify-content: center;background-color: white;position: relative;}#sk-container-id-17 div.sk-item::before, #sk-container-id-17 div.sk-parallel-item::before {content: \"\";position: absolute;border-left: 1px solid gray;box-sizing: border-box;top: 0;bottom: 0;left: 50%;z-index: -1;}#sk-container-id-17 div.sk-parallel-item {display: flex;flex-direction: column;z-index: 1;position: relative;background-color: white;}#sk-container-id-17 div.sk-parallel-item:first-child::after {align-self: flex-end;width: 50%;}#sk-container-id-17 div.sk-parallel-item:last-child::after {align-self: flex-start;width: 50%;}#sk-container-id-17 div.sk-parallel-item:only-child::after {width: 0;}#sk-container-id-17 div.sk-dashed-wrapped {border: 1px dashed gray;margin: 0 0.4em 0.5em 0.4em;box-sizing: border-box;padding-bottom: 0.4em;background-color: white;}#sk-container-id-17 div.sk-label label {font-family: monospace;font-weight: bold;display: inline-block;line-height: 1.2em;}#sk-container-id-17 div.sk-label-container {text-align: center;}#sk-container-id-17 div.sk-container {/* jupyter's `normalize.less` sets `[hidden] { display: none; }` but bootstrap.min.css set `[hidden] { display: none !important; }` so we also need the `!important` here to be able to override the default hidden behavior on the sphinx rendered scikit-learn.org. See: https://github.com/scikit-learn/scikit-learn/issues/21755 */display: inline-block !important;position: relative;}#sk-container-id-17 div.sk-text-repr-fallback {display: none;}</style><div id=\"sk-container-id-17\" class=\"sk-top-container\"><div class=\"sk-text-repr-fallback\"><pre>OneHotEncoder(sparse_output=False)</pre><b>In a Jupyter environment, please rerun this cell to show the HTML representation or trust the notebook. <br />On GitHub, the HTML representation is unable to render, please try loading this page with nbviewer.org.</b></div><div class=\"sk-container\" hidden><div class=\"sk-item\"><div class=\"sk-estimator sk-toggleable\"><input class=\"sk-toggleable__control sk-hidden--visually\" id=\"sk-estimator-id-17\" type=\"checkbox\" checked><label for=\"sk-estimator-id-17\" class=\"sk-toggleable__label sk-toggleable__label-arrow\">OneHotEncoder</label><div class=\"sk-toggleable__content\"><pre>OneHotEncoder(sparse_output=False)</pre></div></div></div></div></div>"
      ],
      "text/plain": [
       "OneHotEncoder(sparse_output=False)"
      ]
     },
     "execution_count": 135,
     "metadata": {},
     "output_type": "execute_result"
    }
   ],
   "source": [
    "ohe = OneHotEncoder(sparse_output=False)\n",
    "ohe.fit(categorical_columns)"
   ]
  },
  {
   "attachments": {},
   "cell_type": "markdown",
   "metadata": {},
   "source": [
    "Step 2 is to transform our columns"
   ]
  },
  {
   "cell_type": "code",
   "execution_count": 136,
   "metadata": {},
   "outputs": [],
   "source": [
    "encoded = ohe.transform(categorical_columns)\n",
    "encoded = encoded.add_prefix('ohe_')"
   ]
  },
  {
   "attachments": {},
   "cell_type": "markdown",
   "metadata": {},
   "source": [
    "Step 3 is to validate"
   ]
  },
  {
   "attachments": {},
   "cell_type": "markdown",
   "metadata": {},
   "source": [
    "We -1 here to get rid of the nan value"
   ]
  },
  {
   "cell_type": "code",
   "execution_count": 149,
   "metadata": {},
   "outputs": [
    {
     "data": {
      "text/plain": [
       "8"
      ]
     },
     "execution_count": 149,
     "metadata": {},
     "output_type": "execute_result"
    }
   ],
   "source": [
    "(len(initial_df['JOB'].unique())-1) + (len(initial_df['REASON'].unique())-1)"
   ]
  },
  {
   "attachments": {},
   "cell_type": "markdown",
   "metadata": {},
   "source": [
    "It should be equal to the below"
   ]
  },
  {
   "cell_type": "code",
   "execution_count": 150,
   "metadata": {},
   "outputs": [
    {
     "data": {
      "text/plain": [
       "8"
      ]
     },
     "execution_count": 150,
     "metadata": {},
     "output_type": "execute_result"
    }
   ],
   "source": [
    "encoded.iloc[0].shape[0]"
   ]
  },
  {
   "attachments": {},
   "cell_type": "markdown",
   "metadata": {},
   "source": [
    "## Recompile"
   ]
  },
  {
   "attachments": {},
   "cell_type": "markdown",
   "metadata": {},
   "source": [
    "### One big dataset with everything"
   ]
  },
  {
   "cell_type": "code",
   "execution_count": 152,
   "metadata": {},
   "outputs": [
    {
     "data": {
      "text/html": [
       "<div>\n",
       "<style scoped>\n",
       "    .dataframe tbody tr th:only-of-type {\n",
       "        vertical-align: middle;\n",
       "    }\n",
       "\n",
       "    .dataframe tbody tr th {\n",
       "        vertical-align: top;\n",
       "    }\n",
       "\n",
       "    .dataframe thead th {\n",
       "        text-align: right;\n",
       "    }\n",
       "</style>\n",
       "<table border=\"1\" class=\"dataframe\">\n",
       "  <thead>\n",
       "    <tr style=\"text-align: right;\">\n",
       "      <th></th>\n",
       "      <th>ohe_imp_REASON_DebtCon</th>\n",
       "      <th>ohe_imp_REASON_HomeImp</th>\n",
       "      <th>ohe_imp_JOB_Mgr</th>\n",
       "      <th>ohe_imp_JOB_Office</th>\n",
       "      <th>ohe_imp_JOB_Other</th>\n",
       "      <th>ohe_imp_JOB_ProfExe</th>\n",
       "      <th>ohe_imp_JOB_Sales</th>\n",
       "      <th>ohe_imp_JOB_Self</th>\n",
       "      <th>nor_LOAN</th>\n",
       "      <th>nor_imp_MORTDUE</th>\n",
       "      <th>...</th>\n",
       "      <th>std_imp_VALUE</th>\n",
       "      <th>std_imp_YOJ</th>\n",
       "      <th>std_imp_DEROG</th>\n",
       "      <th>std_imp_DELINQ</th>\n",
       "      <th>std_imp_CLAGE</th>\n",
       "      <th>std_imp_NINQ</th>\n",
       "      <th>std_imp_CLNO</th>\n",
       "      <th>std_imp_DEBTINC</th>\n",
       "      <th>loan_check</th>\n",
       "      <th>loan_checknumpy</th>\n",
       "    </tr>\n",
       "  </thead>\n",
       "  <tbody>\n",
       "    <tr>\n",
       "      <th>0</th>\n",
       "      <td>0.0</td>\n",
       "      <td>1.0</td>\n",
       "      <td>0.0</td>\n",
       "      <td>0.0</td>\n",
       "      <td>1.0</td>\n",
       "      <td>0.0</td>\n",
       "      <td>0.0</td>\n",
       "      <td>0.0</td>\n",
       "      <td>0.000000</td>\n",
       "      <td>0.059869</td>\n",
       "      <td>...</td>\n",
       "      <td>-1.099371</td>\n",
       "      <td>0.240237</td>\n",
       "      <td>-0.280976</td>\n",
       "      <td>-0.375943</td>\n",
       "      <td>-1.018026</td>\n",
       "      <td>-0.102879</td>\n",
       "      <td>-1.230878</td>\n",
       "      <td>0.106963</td>\n",
       "      <td>-1.562168</td>\n",
       "      <td>-1.562299</td>\n",
       "    </tr>\n",
       "    <tr>\n",
       "      <th>1</th>\n",
       "      <td>0.0</td>\n",
       "      <td>1.0</td>\n",
       "      <td>0.0</td>\n",
       "      <td>0.0</td>\n",
       "      <td>1.0</td>\n",
       "      <td>0.0</td>\n",
       "      <td>0.0</td>\n",
       "      <td>0.0</td>\n",
       "      <td>0.002252</td>\n",
       "      <td>0.171050</td>\n",
       "      <td>...</td>\n",
       "      <td>-0.582794</td>\n",
       "      <td>-0.241936</td>\n",
       "      <td>-0.280976</td>\n",
       "      <td>1.477341</td>\n",
       "      <td>-0.689350</td>\n",
       "      <td>-0.707574</td>\n",
       "      <td>-0.728389</td>\n",
       "      <td>0.106963</td>\n",
       "      <td>-1.544323</td>\n",
       "      <td>-1.544453</td>\n",
       "    </tr>\n",
       "    <tr>\n",
       "      <th>2</th>\n",
       "      <td>0.0</td>\n",
       "      <td>1.0</td>\n",
       "      <td>0.0</td>\n",
       "      <td>0.0</td>\n",
       "      <td>1.0</td>\n",
       "      <td>0.0</td>\n",
       "      <td>0.0</td>\n",
       "      <td>0.0</td>\n",
       "      <td>0.004505</td>\n",
       "      <td>0.028773</td>\n",
       "      <td>...</td>\n",
       "      <td>-1.491970</td>\n",
       "      <td>-0.655226</td>\n",
       "      <td>-0.280976</td>\n",
       "      <td>-0.375943</td>\n",
       "      <td>-0.358680</td>\n",
       "      <td>-0.102879</td>\n",
       "      <td>-1.130380</td>\n",
       "      <td>0.106963</td>\n",
       "      <td>-1.526478</td>\n",
       "      <td>-1.526606</td>\n",
       "    </tr>\n",
       "    <tr>\n",
       "      <th>3</th>\n",
       "      <td>1.0</td>\n",
       "      <td>0.0</td>\n",
       "      <td>0.0</td>\n",
       "      <td>0.0</td>\n",
       "      <td>1.0</td>\n",
       "      <td>0.0</td>\n",
       "      <td>0.0</td>\n",
       "      <td>0.0</td>\n",
       "      <td>0.004505</td>\n",
       "      <td>0.158385</td>\n",
       "      <td>...</td>\n",
       "      <td>-0.216389</td>\n",
       "      <td>-0.241936</td>\n",
       "      <td>-0.280976</td>\n",
       "      <td>-0.375943</td>\n",
       "      <td>-0.071488</td>\n",
       "      <td>-0.102879</td>\n",
       "      <td>-0.125403</td>\n",
       "      <td>0.106963</td>\n",
       "      <td>-1.526478</td>\n",
       "      <td>-1.526606</td>\n",
       "    </tr>\n",
       "    <tr>\n",
       "      <th>4</th>\n",
       "      <td>0.0</td>\n",
       "      <td>1.0</td>\n",
       "      <td>0.0</td>\n",
       "      <td>1.0</td>\n",
       "      <td>0.0</td>\n",
       "      <td>0.0</td>\n",
       "      <td>0.0</td>\n",
       "      <td>0.0</td>\n",
       "      <td>0.006757</td>\n",
       "      <td>0.240856</td>\n",
       "      <td>...</td>\n",
       "      <td>0.183939</td>\n",
       "      <td>-0.792990</td>\n",
       "      <td>-0.280976</td>\n",
       "      <td>-0.375943</td>\n",
       "      <td>-1.030391</td>\n",
       "      <td>-0.707574</td>\n",
       "      <td>-0.728389</td>\n",
       "      <td>0.106963</td>\n",
       "      <td>-1.508633</td>\n",
       "      <td>-1.508759</td>\n",
       "    </tr>\n",
       "  </tbody>\n",
       "</table>\n",
       "<p>5 rows × 31 columns</p>\n",
       "</div>"
      ],
      "text/plain": [
       "   ohe_imp_REASON_DebtCon  ohe_imp_REASON_HomeImp  ohe_imp_JOB_Mgr  \\\n",
       "0                     0.0                     1.0              0.0   \n",
       "1                     0.0                     1.0              0.0   \n",
       "2                     0.0                     1.0              0.0   \n",
       "3                     1.0                     0.0              0.0   \n",
       "4                     0.0                     1.0              0.0   \n",
       "\n",
       "   ohe_imp_JOB_Office  ohe_imp_JOB_Other  ohe_imp_JOB_ProfExe  \\\n",
       "0                 0.0                1.0                  0.0   \n",
       "1                 0.0                1.0                  0.0   \n",
       "2                 0.0                1.0                  0.0   \n",
       "3                 0.0                1.0                  0.0   \n",
       "4                 1.0                0.0                  0.0   \n",
       "\n",
       "   ohe_imp_JOB_Sales  ohe_imp_JOB_Self  nor_LOAN  nor_imp_MORTDUE  ...  \\\n",
       "0                0.0               0.0  0.000000         0.059869  ...   \n",
       "1                0.0               0.0  0.002252         0.171050  ...   \n",
       "2                0.0               0.0  0.004505         0.028773  ...   \n",
       "3                0.0               0.0  0.004505         0.158385  ...   \n",
       "4                0.0               0.0  0.006757         0.240856  ...   \n",
       "\n",
       "   std_imp_VALUE  std_imp_YOJ  std_imp_DEROG  std_imp_DELINQ  std_imp_CLAGE  \\\n",
       "0      -1.099371     0.240237      -0.280976       -0.375943      -1.018026   \n",
       "1      -0.582794    -0.241936      -0.280976        1.477341      -0.689350   \n",
       "2      -1.491970    -0.655226      -0.280976       -0.375943      -0.358680   \n",
       "3      -0.216389    -0.241936      -0.280976       -0.375943      -0.071488   \n",
       "4       0.183939    -0.792990      -0.280976       -0.375943      -1.030391   \n",
       "\n",
       "   std_imp_NINQ  std_imp_CLNO  std_imp_DEBTINC  loan_check  loan_checknumpy  \n",
       "0     -0.102879     -1.230878         0.106963   -1.562168        -1.562299  \n",
       "1     -0.707574     -0.728389         0.106963   -1.544323        -1.544453  \n",
       "2     -0.102879     -1.130380         0.106963   -1.526478        -1.526606  \n",
       "3     -0.102879     -0.125403         0.106963   -1.526478        -1.526606  \n",
       "4     -0.707574     -0.728389         0.106963   -1.508633        -1.508759  \n",
       "\n",
       "[5 rows x 31 columns]"
      ]
     },
     "execution_count": 152,
     "metadata": {},
     "output_type": "execute_result"
    }
   ],
   "source": [
    "onebigdf = pd.concat((encoded,normalized,standardized),axis=1)\n",
    "onebigdf.head()"
   ]
  },
  {
   "attachments": {},
   "cell_type": "markdown",
   "metadata": {},
   "source": [
    "### Normalized + Encoded"
   ]
  },
  {
   "cell_type": "code",
   "execution_count": 153,
   "metadata": {},
   "outputs": [
    {
     "data": {
      "text/html": [
       "<div>\n",
       "<style scoped>\n",
       "    .dataframe tbody tr th:only-of-type {\n",
       "        vertical-align: middle;\n",
       "    }\n",
       "\n",
       "    .dataframe tbody tr th {\n",
       "        vertical-align: top;\n",
       "    }\n",
       "\n",
       "    .dataframe thead th {\n",
       "        text-align: right;\n",
       "    }\n",
       "</style>\n",
       "<table border=\"1\" class=\"dataframe\">\n",
       "  <thead>\n",
       "    <tr style=\"text-align: right;\">\n",
       "      <th></th>\n",
       "      <th>ohe_imp_REASON_DebtCon</th>\n",
       "      <th>ohe_imp_REASON_HomeImp</th>\n",
       "      <th>ohe_imp_JOB_Mgr</th>\n",
       "      <th>ohe_imp_JOB_Office</th>\n",
       "      <th>ohe_imp_JOB_Other</th>\n",
       "      <th>ohe_imp_JOB_ProfExe</th>\n",
       "      <th>ohe_imp_JOB_Sales</th>\n",
       "      <th>ohe_imp_JOB_Self</th>\n",
       "      <th>nor_LOAN</th>\n",
       "      <th>nor_imp_MORTDUE</th>\n",
       "      <th>nor_imp_VALUE</th>\n",
       "      <th>nor_imp_YOJ</th>\n",
       "      <th>nor_imp_DEROG</th>\n",
       "      <th>nor_imp_DELINQ</th>\n",
       "      <th>nor_imp_CLAGE</th>\n",
       "      <th>nor_imp_NINQ</th>\n",
       "      <th>nor_imp_CLNO</th>\n",
       "      <th>nor_imp_DEBTINC</th>\n",
       "      <th>loan_check</th>\n",
       "    </tr>\n",
       "  </thead>\n",
       "  <tbody>\n",
       "    <tr>\n",
       "      <th>0</th>\n",
       "      <td>0.0</td>\n",
       "      <td>1.0</td>\n",
       "      <td>0.0</td>\n",
       "      <td>0.0</td>\n",
       "      <td>1.0</td>\n",
       "      <td>0.0</td>\n",
       "      <td>0.0</td>\n",
       "      <td>0.0</td>\n",
       "      <td>0.000000</td>\n",
       "      <td>0.059869</td>\n",
       "      <td>0.036590</td>\n",
       "      <td>0.256098</td>\n",
       "      <td>0.0</td>\n",
       "      <td>0.000000</td>\n",
       "      <td>0.080777</td>\n",
       "      <td>0.058824</td>\n",
       "      <td>0.126761</td>\n",
       "      <td>0.169112</td>\n",
       "      <td>0.000000</td>\n",
       "    </tr>\n",
       "    <tr>\n",
       "      <th>1</th>\n",
       "      <td>0.0</td>\n",
       "      <td>1.0</td>\n",
       "      <td>0.0</td>\n",
       "      <td>0.0</td>\n",
       "      <td>1.0</td>\n",
       "      <td>0.0</td>\n",
       "      <td>0.0</td>\n",
       "      <td>0.0</td>\n",
       "      <td>0.002252</td>\n",
       "      <td>0.171050</td>\n",
       "      <td>0.071234</td>\n",
       "      <td>0.170732</td>\n",
       "      <td>0.0</td>\n",
       "      <td>0.133333</td>\n",
       "      <td>0.104289</td>\n",
       "      <td>0.000000</td>\n",
       "      <td>0.197183</td>\n",
       "      <td>0.169112</td>\n",
       "      <td>0.002252</td>\n",
       "    </tr>\n",
       "    <tr>\n",
       "      <th>2</th>\n",
       "      <td>0.0</td>\n",
       "      <td>1.0</td>\n",
       "      <td>0.0</td>\n",
       "      <td>0.0</td>\n",
       "      <td>1.0</td>\n",
       "      <td>0.0</td>\n",
       "      <td>0.0</td>\n",
       "      <td>0.0</td>\n",
       "      <td>0.004505</td>\n",
       "      <td>0.028773</td>\n",
       "      <td>0.010261</td>\n",
       "      <td>0.097561</td>\n",
       "      <td>0.0</td>\n",
       "      <td>0.000000</td>\n",
       "      <td>0.127942</td>\n",
       "      <td>0.058824</td>\n",
       "      <td>0.140845</td>\n",
       "      <td>0.169112</td>\n",
       "      <td>0.004505</td>\n",
       "    </tr>\n",
       "    <tr>\n",
       "      <th>3</th>\n",
       "      <td>1.0</td>\n",
       "      <td>0.0</td>\n",
       "      <td>0.0</td>\n",
       "      <td>0.0</td>\n",
       "      <td>1.0</td>\n",
       "      <td>0.0</td>\n",
       "      <td>0.0</td>\n",
       "      <td>0.0</td>\n",
       "      <td>0.004505</td>\n",
       "      <td>0.158385</td>\n",
       "      <td>0.095807</td>\n",
       "      <td>0.170732</td>\n",
       "      <td>0.0</td>\n",
       "      <td>0.000000</td>\n",
       "      <td>0.148486</td>\n",
       "      <td>0.058824</td>\n",
       "      <td>0.281690</td>\n",
       "      <td>0.169112</td>\n",
       "      <td>0.004505</td>\n",
       "    </tr>\n",
       "    <tr>\n",
       "      <th>4</th>\n",
       "      <td>0.0</td>\n",
       "      <td>1.0</td>\n",
       "      <td>0.0</td>\n",
       "      <td>1.0</td>\n",
       "      <td>0.0</td>\n",
       "      <td>0.0</td>\n",
       "      <td>0.0</td>\n",
       "      <td>0.0</td>\n",
       "      <td>0.006757</td>\n",
       "      <td>0.240856</td>\n",
       "      <td>0.122655</td>\n",
       "      <td>0.073171</td>\n",
       "      <td>0.0</td>\n",
       "      <td>0.000000</td>\n",
       "      <td>0.079893</td>\n",
       "      <td>0.000000</td>\n",
       "      <td>0.197183</td>\n",
       "      <td>0.169112</td>\n",
       "      <td>0.006757</td>\n",
       "    </tr>\n",
       "  </tbody>\n",
       "</table>\n",
       "</div>"
      ],
      "text/plain": [
       "   ohe_imp_REASON_DebtCon  ohe_imp_REASON_HomeImp  ohe_imp_JOB_Mgr  \\\n",
       "0                     0.0                     1.0              0.0   \n",
       "1                     0.0                     1.0              0.0   \n",
       "2                     0.0                     1.0              0.0   \n",
       "3                     1.0                     0.0              0.0   \n",
       "4                     0.0                     1.0              0.0   \n",
       "\n",
       "   ohe_imp_JOB_Office  ohe_imp_JOB_Other  ohe_imp_JOB_ProfExe  \\\n",
       "0                 0.0                1.0                  0.0   \n",
       "1                 0.0                1.0                  0.0   \n",
       "2                 0.0                1.0                  0.0   \n",
       "3                 0.0                1.0                  0.0   \n",
       "4                 1.0                0.0                  0.0   \n",
       "\n",
       "   ohe_imp_JOB_Sales  ohe_imp_JOB_Self  nor_LOAN  nor_imp_MORTDUE  \\\n",
       "0                0.0               0.0  0.000000         0.059869   \n",
       "1                0.0               0.0  0.002252         0.171050   \n",
       "2                0.0               0.0  0.004505         0.028773   \n",
       "3                0.0               0.0  0.004505         0.158385   \n",
       "4                0.0               0.0  0.006757         0.240856   \n",
       "\n",
       "   nor_imp_VALUE  nor_imp_YOJ  nor_imp_DEROG  nor_imp_DELINQ  nor_imp_CLAGE  \\\n",
       "0       0.036590     0.256098            0.0        0.000000       0.080777   \n",
       "1       0.071234     0.170732            0.0        0.133333       0.104289   \n",
       "2       0.010261     0.097561            0.0        0.000000       0.127942   \n",
       "3       0.095807     0.170732            0.0        0.000000       0.148486   \n",
       "4       0.122655     0.073171            0.0        0.000000       0.079893   \n",
       "\n",
       "   nor_imp_NINQ  nor_imp_CLNO  nor_imp_DEBTINC  loan_check  \n",
       "0      0.058824      0.126761         0.169112    0.000000  \n",
       "1      0.000000      0.197183         0.169112    0.002252  \n",
       "2      0.058824      0.140845         0.169112    0.004505  \n",
       "3      0.058824      0.281690         0.169112    0.004505  \n",
       "4      0.000000      0.197183         0.169112    0.006757  "
      ]
     },
     "execution_count": 153,
     "metadata": {},
     "output_type": "execute_result"
    }
   ],
   "source": [
    "normalized_encoded = pd.concat((encoded,normalized),axis=1)\n",
    "normalized_encoded.head()"
   ]
  },
  {
   "attachments": {},
   "cell_type": "markdown",
   "metadata": {},
   "source": [
    "### Standardized + Encoded"
   ]
  },
  {
   "cell_type": "code",
   "execution_count": 154,
   "metadata": {},
   "outputs": [
    {
     "data": {
      "text/html": [
       "<div>\n",
       "<style scoped>\n",
       "    .dataframe tbody tr th:only-of-type {\n",
       "        vertical-align: middle;\n",
       "    }\n",
       "\n",
       "    .dataframe tbody tr th {\n",
       "        vertical-align: top;\n",
       "    }\n",
       "\n",
       "    .dataframe thead th {\n",
       "        text-align: right;\n",
       "    }\n",
       "</style>\n",
       "<table border=\"1\" class=\"dataframe\">\n",
       "  <thead>\n",
       "    <tr style=\"text-align: right;\">\n",
       "      <th></th>\n",
       "      <th>ohe_imp_REASON_DebtCon</th>\n",
       "      <th>ohe_imp_REASON_HomeImp</th>\n",
       "      <th>ohe_imp_JOB_Mgr</th>\n",
       "      <th>ohe_imp_JOB_Office</th>\n",
       "      <th>ohe_imp_JOB_Other</th>\n",
       "      <th>ohe_imp_JOB_ProfExe</th>\n",
       "      <th>ohe_imp_JOB_Sales</th>\n",
       "      <th>ohe_imp_JOB_Self</th>\n",
       "      <th>std_LOAN</th>\n",
       "      <th>std_imp_MORTDUE</th>\n",
       "      <th>std_imp_VALUE</th>\n",
       "      <th>std_imp_YOJ</th>\n",
       "      <th>std_imp_DEROG</th>\n",
       "      <th>std_imp_DELINQ</th>\n",
       "      <th>std_imp_CLAGE</th>\n",
       "      <th>std_imp_NINQ</th>\n",
       "      <th>std_imp_CLNO</th>\n",
       "      <th>std_imp_DEBTINC</th>\n",
       "      <th>loan_check</th>\n",
       "      <th>loan_checknumpy</th>\n",
       "    </tr>\n",
       "  </thead>\n",
       "  <tbody>\n",
       "    <tr>\n",
       "      <th>0</th>\n",
       "      <td>0.0</td>\n",
       "      <td>1.0</td>\n",
       "      <td>0.0</td>\n",
       "      <td>0.0</td>\n",
       "      <td>1.0</td>\n",
       "      <td>0.0</td>\n",
       "      <td>0.0</td>\n",
       "      <td>0.0</td>\n",
       "      <td>-1.562299</td>\n",
       "      <td>-1.107920</td>\n",
       "      <td>-1.099371</td>\n",
       "      <td>0.240237</td>\n",
       "      <td>-0.280976</td>\n",
       "      <td>-0.375943</td>\n",
       "      <td>-1.018026</td>\n",
       "      <td>-0.102879</td>\n",
       "      <td>-1.230878</td>\n",
       "      <td>0.106963</td>\n",
       "      <td>-1.562168</td>\n",
       "      <td>-1.562299</td>\n",
       "    </tr>\n",
       "    <tr>\n",
       "      <th>1</th>\n",
       "      <td>0.0</td>\n",
       "      <td>1.0</td>\n",
       "      <td>0.0</td>\n",
       "      <td>0.0</td>\n",
       "      <td>1.0</td>\n",
       "      <td>0.0</td>\n",
       "      <td>0.0</td>\n",
       "      <td>0.0</td>\n",
       "      <td>-1.544453</td>\n",
       "      <td>-0.069286</td>\n",
       "      <td>-0.582794</td>\n",
       "      <td>-0.241936</td>\n",
       "      <td>-0.280976</td>\n",
       "      <td>1.477341</td>\n",
       "      <td>-0.689350</td>\n",
       "      <td>-0.707574</td>\n",
       "      <td>-0.728389</td>\n",
       "      <td>0.106963</td>\n",
       "      <td>-1.544323</td>\n",
       "      <td>-1.544453</td>\n",
       "    </tr>\n",
       "    <tr>\n",
       "      <th>2</th>\n",
       "      <td>0.0</td>\n",
       "      <td>1.0</td>\n",
       "      <td>0.0</td>\n",
       "      <td>0.0</td>\n",
       "      <td>1.0</td>\n",
       "      <td>0.0</td>\n",
       "      <td>0.0</td>\n",
       "      <td>0.0</td>\n",
       "      <td>-1.526606</td>\n",
       "      <td>-1.398407</td>\n",
       "      <td>-1.491970</td>\n",
       "      <td>-0.655226</td>\n",
       "      <td>-0.280976</td>\n",
       "      <td>-0.375943</td>\n",
       "      <td>-0.358680</td>\n",
       "      <td>-0.102879</td>\n",
       "      <td>-1.130380</td>\n",
       "      <td>0.106963</td>\n",
       "      <td>-1.526478</td>\n",
       "      <td>-1.526606</td>\n",
       "    </tr>\n",
       "    <tr>\n",
       "      <th>3</th>\n",
       "      <td>1.0</td>\n",
       "      <td>0.0</td>\n",
       "      <td>0.0</td>\n",
       "      <td>0.0</td>\n",
       "      <td>1.0</td>\n",
       "      <td>0.0</td>\n",
       "      <td>0.0</td>\n",
       "      <td>0.0</td>\n",
       "      <td>-1.526606</td>\n",
       "      <td>-0.187596</td>\n",
       "      <td>-0.216389</td>\n",
       "      <td>-0.241936</td>\n",
       "      <td>-0.280976</td>\n",
       "      <td>-0.375943</td>\n",
       "      <td>-0.071488</td>\n",
       "      <td>-0.102879</td>\n",
       "      <td>-0.125403</td>\n",
       "      <td>0.106963</td>\n",
       "      <td>-1.526478</td>\n",
       "      <td>-1.526606</td>\n",
       "    </tr>\n",
       "    <tr>\n",
       "      <th>4</th>\n",
       "      <td>0.0</td>\n",
       "      <td>1.0</td>\n",
       "      <td>0.0</td>\n",
       "      <td>1.0</td>\n",
       "      <td>0.0</td>\n",
       "      <td>0.0</td>\n",
       "      <td>0.0</td>\n",
       "      <td>0.0</td>\n",
       "      <td>-1.508759</td>\n",
       "      <td>0.582831</td>\n",
       "      <td>0.183939</td>\n",
       "      <td>-0.792990</td>\n",
       "      <td>-0.280976</td>\n",
       "      <td>-0.375943</td>\n",
       "      <td>-1.030391</td>\n",
       "      <td>-0.707574</td>\n",
       "      <td>-0.728389</td>\n",
       "      <td>0.106963</td>\n",
       "      <td>-1.508633</td>\n",
       "      <td>-1.508759</td>\n",
       "    </tr>\n",
       "  </tbody>\n",
       "</table>\n",
       "</div>"
      ],
      "text/plain": [
       "   ohe_imp_REASON_DebtCon  ohe_imp_REASON_HomeImp  ohe_imp_JOB_Mgr  \\\n",
       "0                     0.0                     1.0              0.0   \n",
       "1                     0.0                     1.0              0.0   \n",
       "2                     0.0                     1.0              0.0   \n",
       "3                     1.0                     0.0              0.0   \n",
       "4                     0.0                     1.0              0.0   \n",
       "\n",
       "   ohe_imp_JOB_Office  ohe_imp_JOB_Other  ohe_imp_JOB_ProfExe  \\\n",
       "0                 0.0                1.0                  0.0   \n",
       "1                 0.0                1.0                  0.0   \n",
       "2                 0.0                1.0                  0.0   \n",
       "3                 0.0                1.0                  0.0   \n",
       "4                 1.0                0.0                  0.0   \n",
       "\n",
       "   ohe_imp_JOB_Sales  ohe_imp_JOB_Self  std_LOAN  std_imp_MORTDUE  \\\n",
       "0                0.0               0.0 -1.562299        -1.107920   \n",
       "1                0.0               0.0 -1.544453        -0.069286   \n",
       "2                0.0               0.0 -1.526606        -1.398407   \n",
       "3                0.0               0.0 -1.526606        -0.187596   \n",
       "4                0.0               0.0 -1.508759         0.582831   \n",
       "\n",
       "   std_imp_VALUE  std_imp_YOJ  std_imp_DEROG  std_imp_DELINQ  std_imp_CLAGE  \\\n",
       "0      -1.099371     0.240237      -0.280976       -0.375943      -1.018026   \n",
       "1      -0.582794    -0.241936      -0.280976        1.477341      -0.689350   \n",
       "2      -1.491970    -0.655226      -0.280976       -0.375943      -0.358680   \n",
       "3      -0.216389    -0.241936      -0.280976       -0.375943      -0.071488   \n",
       "4       0.183939    -0.792990      -0.280976       -0.375943      -1.030391   \n",
       "\n",
       "   std_imp_NINQ  std_imp_CLNO  std_imp_DEBTINC  loan_check  loan_checknumpy  \n",
       "0     -0.102879     -1.230878         0.106963   -1.562168        -1.562299  \n",
       "1     -0.707574     -0.728389         0.106963   -1.544323        -1.544453  \n",
       "2     -0.102879     -1.130380         0.106963   -1.526478        -1.526606  \n",
       "3     -0.102879     -0.125403         0.106963   -1.526478        -1.526606  \n",
       "4     -0.707574     -0.728389         0.106963   -1.508633        -1.508759  "
      ]
     },
     "execution_count": 154,
     "metadata": {},
     "output_type": "execute_result"
    }
   ],
   "source": [
    "standardized_encoded = pd.concat((encoded,standardized),axis=1)\n",
    "standardized_encoded.head()"
   ]
  },
  {
   "attachments": {},
   "cell_type": "markdown",
   "metadata": {},
   "source": [
    "## Conclusion"
   ]
  },
  {
   "attachments": {},
   "cell_type": "markdown",
   "metadata": {},
   "source": [
    "Depending on our end usecase, we need to determine if the Standardized + Encoded dataset is used or the Normalized + Encoded dataset is used. \n",
    "\n",
    "Some general guidelines:\n",
    "\n",
    "- if negative numbers in features are not ok, use normalize\n",
    "- if you need to center on 0 (mean = 0) use standardize"
   ]
  }
 ],
 "metadata": {
  "kernelspec": {
   "display_name": "base",
   "language": "python",
   "name": "python3"
  },
  "language_info": {
   "codemirror_mode": {
    "name": "ipython",
    "version": 3
   },
   "file_extension": ".py",
   "mimetype": "text/x-python",
   "name": "python",
   "nbconvert_exporter": "python",
   "pygments_lexer": "ipython3",
   "version": "3.9.13"
  },
  "orig_nbformat": 4
 },
 "nbformat": 4,
 "nbformat_minor": 2
}
