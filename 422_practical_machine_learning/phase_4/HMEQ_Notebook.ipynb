{
 "cells": [
  {
   "attachments": {},
   "cell_type": "markdown",
   "metadata": {},
   "source": [
    "# Phase 3"
   ]
  },
  {
   "attachments": {},
   "cell_type": "markdown",
   "metadata": {},
   "source": [
    "## Imports and options"
   ]
  },
  {
   "cell_type": "code",
   "execution_count": 96,
   "metadata": {},
   "outputs": [],
   "source": [
    "import math\n",
    "import pandas as pd\n",
    "import numpy as np\n",
    "import matplotlib.pyplot as plt\n",
    "import seaborn as sns\n",
    "\n",
    "from scipy import stats\n",
    "from operator import itemgetter\n",
    "\n",
    "\n",
    "from sklearn.model_selection import train_test_split\n",
    "from sklearn import tree, metrics\n",
    "from sklearn.tree import _tree\n",
    "\n",
    "\n",
    "from sklearn.ensemble import RandomForestRegressor \n",
    "from sklearn.ensemble import RandomForestClassifier \n",
    "from sklearn.ensemble import GradientBoostingRegressor \n",
    "from sklearn.ensemble import GradientBoostingClassifier\n",
    "from sklearn.linear_model import LinearRegression\n",
    "from sklearn.linear_model import LogisticRegression\n",
    "from sklearn.metrics import classification_report, confusion_matrix\n",
    "\n",
    "from mlxtend.feature_selection import SequentialFeatureSelector as SFS\n",
    "from mlxtend.plotting import plot_sequential_feature_selection as plot_sfs\n",
    "\n",
    "import warnings\n",
    "warnings.filterwarnings(\"ignore\")\n"
   ]
  },
  {
   "cell_type": "code",
   "execution_count": 97,
   "metadata": {},
   "outputs": [],
   "source": [
    "import pprint\n",
    "pp = pprint.PrettyPrinter(indent=4)"
   ]
  },
  {
   "cell_type": "code",
   "execution_count": 98,
   "metadata": {},
   "outputs": [],
   "source": [
    "pd.set_option('display.max_colwidth', None)"
   ]
  },
  {
   "cell_type": "code",
   "execution_count": 99,
   "metadata": {},
   "outputs": [
    {
     "data": {
      "text/plain": [
       "<matplotlib.pyplot._IoffContext at 0x239ec27f1f0>"
      ]
     },
     "execution_count": 99,
     "metadata": {},
     "output_type": "execute_result"
    }
   ],
   "source": [
    "plt.ioff()"
   ]
  },
  {
   "cell_type": "code",
   "execution_count": 100,
   "metadata": {},
   "outputs": [],
   "source": [
    "sns.set()"
   ]
  },
  {
   "cell_type": "code",
   "execution_count": 101,
   "metadata": {},
   "outputs": [],
   "source": [
    "#df = pd.read_csv('imputed.csv')"
   ]
  },
  {
   "attachments": {},
   "cell_type": "markdown",
   "metadata": {},
   "source": [
    "## Impute + 1 hot encode"
   ]
  },
  {
   "cell_type": "code",
   "execution_count": 102,
   "metadata": {},
   "outputs": [],
   "source": [
    "initial_df = pd.read_csv('HMEQ_Loss.csv')"
   ]
  },
  {
   "cell_type": "code",
   "execution_count": 103,
   "metadata": {},
   "outputs": [],
   "source": [
    "#break into groups for initial run\n",
    "numerical_columns = []\n",
    "categorical_columns = []\n",
    "other_cols = []\n",
    "\n",
    "dt=initial_df.dtypes\n",
    "\n",
    "TARGET_F = 'TARGET_BAD_FLAG'\n",
    "TARGET_A = 'TARGET_LOSS_AMT'\n",
    "\n",
    "for i in dt.index:\n",
    "    if i in ([TARGET_A,TARGET_F]):\n",
    "        continue\n",
    "    elif dt[i] in ([\"object\"]) : \n",
    "        categorical_columns.append(i)\n",
    "    elif dt[i] in ([\"float64\"]) : \n",
    "        numerical_columns.append(i)\n",
    "    elif dt[i] in ([\"int64\"]) : \n",
    "        numerical_columns.append(i)\n",
    "    else:\n",
    "        other_cols.append(i)\n"
   ]
  },
  {
   "cell_type": "code",
   "execution_count": 104,
   "metadata": {},
   "outputs": [
    {
     "name": "stdout",
     "output_type": "stream",
     "text": [
      "variable REASON  has this many missing 252\n",
      "variable IMP_REASON  has this many missing 0 \n",
      "\n",
      "IMP_REASON\n",
      "DebtCon    4180\n",
      "HomeImp    1780\n",
      "Name: IMP_REASON, dtype: int64\n",
      "\n",
      "\n",
      "\n",
      "variable JOB  has this many missing 279\n",
      "variable IMP_JOB  has this many missing 0 \n",
      "\n",
      "IMP_JOB\n",
      "Mgr         767\n",
      "Office      948\n",
      "Other      2667\n",
      "ProfExe    1276\n",
      "Sales       109\n",
      "Self        193\n",
      "Name: IMP_JOB, dtype: int64\n",
      "\n",
      "\n",
      "\n"
     ]
    }
   ],
   "source": [
    "#impute the categorical columns\n",
    "#drop the originals\n",
    "imputed_df = initial_df.copy()\n",
    "for i in categorical_columns :\n",
    "    if imputed_df[i].isna().sum() == 0: \n",
    "        continue\n",
    "    NAME = \"IMP_\"+i\n",
    "    imputed_df[NAME] = imputed_df[i]\n",
    "    imputed_df[NAME] = imputed_df[NAME].fillna(imputed_df[NAME].mode()[0])\n",
    "    print(\"variable\",i,\" has this many missing\", imputed_df[i].isna().sum())\n",
    "    print(\"variable\",NAME,\" has this many missing\", imputed_df[NAME].isna().sum() ,'\\n')\n",
    "    g = imputed_df.groupby(NAME)\n",
    "    print(g[NAME].count())\n",
    "    print(\"\\n\\n\")\n",
    "    imputed_df = imputed_df.drop(i, axis=1)"
   ]
  },
  {
   "cell_type": "code",
   "execution_count": 105,
   "metadata": {},
   "outputs": [],
   "source": [
    "#impute the numerical columns\n",
    "#drop the originals\n",
    "missing_flag_cols = []\n",
    "\n",
    "for i in numerical_columns:\n",
    "    if imputed_df[i].isna().sum() == 0:\n",
    "        continue\n",
    "    FLAG = 'M_' + i\n",
    "    IMP = 'IMP_' + i\n",
    "    imputed_df[FLAG] = imputed_df[i].isna() + 0\n",
    "    missing_flag_cols.append(FLAG)\n",
    "    imputed_df[IMP] = imputed_df[i]\n",
    "    imputed_df.loc[imputed_df[IMP].isna(),IMP] = imputed_df[i].median()\n",
    "    imputed_df = imputed_df.drop(i, axis=1)"
   ]
  },
  {
   "cell_type": "code",
   "execution_count": 106,
   "metadata": {},
   "outputs": [],
   "source": [
    "#break into groups again with the dropped cols\n",
    "imp_numerical_columns = []\n",
    "imp_categorical_columns = []\n",
    "imp_other_cols = []\n",
    "\n",
    "dt=imputed_df.dtypes\n",
    "\n",
    "TARGET_F = 'TARGET_BAD_FLAG'\n",
    "TARGET_A = 'TARGET_LOSS_AMT'\n",
    "\n",
    "for i in dt.index:\n",
    "    if i in ([TARGET_A,TARGET_F]):\n",
    "        continue\n",
    "    elif dt[i] in (missing_flag_cols):\n",
    "        imp_other_cols.append(i)\n",
    "    elif dt[i] in ([\"object\"]) : \n",
    "        imp_categorical_columns.append(i)\n",
    "    elif dt[i] in ([\"float64\"]) : \n",
    "        imp_numerical_columns.append(i)\n",
    "    elif dt[i] in ([\"int64\"]) : \n",
    "        imp_numerical_columns.append(i)\n",
    "    else:\n",
    "        imp_other_cols.append(i)"
   ]
  },
  {
   "cell_type": "code",
   "execution_count": 107,
   "metadata": {},
   "outputs": [],
   "source": [
    "#now one hot encode the categorical columns\n",
    "for i in imp_categorical_columns:\n",
    "    prefix_name = 'z_' + i\n",
    "    y = pd.get_dummies(imputed_df[i],prefix=prefix_name,drop_first=True)\n",
    "    imputed_df = pd.concat([imputed_df,y],axis=1)\n",
    "    imputed_df = imputed_df.drop(i,axis=1)\n"
   ]
  },
  {
   "attachments": {},
   "cell_type": "markdown",
   "metadata": {},
   "source": [
    "## Remove the outliers from the dataset\n"
   ]
  },
  {
   "cell_type": "code",
   "execution_count": 108,
   "metadata": {},
   "outputs": [],
   "source": [
    "# from the imputed DF, let's keep only things within 3 standard deviations\n",
    "# we'll use the scipy stats package to get the zscore\n",
    "outlier_vis = imputed_df.copy()\n",
    "outlier_vis['zscore'] = stats.zscore(outlier_vis[TARGET_A],nan_policy='omit')\n",
    "\n",
    "# histogram of zscore\n",
    "plot1 = sns.histplot(x=outlier_vis['zscore'], data=outlier_vis)\n",
    "fig = plot1.get_figure()\n",
    "fig.savefig('zscore_hist.png', bbox_inches='tight')\n",
    "# get the absolute value of the zscore so we don't have to do > & < to get both upper and lower\n",
    "# then save that as another df to use later on\n",
    "# super important here is the or statement in filtering the df\n",
    "# if you don't use the or part, you end up dropping all the nondefaults\n",
    "imputed_no_outlier = imputed_df[(np.abs(stats.zscore(imputed_df[TARGET_A],nan_policy='omit')) < 3)\\\n",
    "                                 | ~imputed_df[TARGET_F].isna()].copy()"
   ]
  },
  {
   "attachments": {},
   "cell_type": "markdown",
   "metadata": {},
   "source": [
    "## Split the Data Into Test & Train"
   ]
  },
  {
   "cell_type": "code",
   "execution_count": 109,
   "metadata": {},
   "outputs": [
    {
     "name": "stdout",
     "output_type": "stream",
     "text": [
      "Training =  (4768, 16)\n",
      "Testing =  (1192, 16)\n"
     ]
    }
   ],
   "source": [
    "# drop the targets\n",
    "# keep the predictors\n",
    "# drop the missing flags as well\n",
    "# uncomment to use no outlier\n",
    "X = imputed_no_outlier.copy()\n",
    "#X = imputed_df.copy()\n",
    "X = X.drop(TARGET_F,axis=1)\n",
    "X = X.drop(TARGET_A,axis=1)\n",
    "\n",
    "for column in imputed_no_outlier.columns.values:\n",
    "    if \"M_\" in column:\n",
    "        X.drop(column,axis=1,inplace=True)\n",
    "\n",
    "# the target we're predicting\n",
    "Y = imputed_no_outlier[[TARGET_F,TARGET_A]]\n",
    "\n",
    "# keep 80% for training\n",
    "# keep 20% for testing\n",
    "# use random_state=1 if you need the results to be the same (this sets our seed)\n",
    "# X_train and Y_train should match up on the index\n",
    "# X_test and Y_test should match up on the index\n",
    "X_train, X_test, Y_train, Y_test = train_test_split(X,Y, \\\n",
    "                                                    train_size=0.8, \\\n",
    "                                                    test_size=.2) #random_state=1\n",
    "\n",
    "print(\"Training = \", X_train.shape)\n",
    "print(\"Testing = \", X_test.shape)"
   ]
  },
  {
   "attachments": {},
   "cell_type": "markdown",
   "metadata": {},
   "source": [
    "## Important Stuff"
   ]
  },
  {
   "attachments": {},
   "cell_type": "markdown",
   "metadata": {},
   "source": [
    "### Functions"
   ]
  },
  {
   "cell_type": "code",
   "execution_count": 110,
   "metadata": {},
   "outputs": [],
   "source": [
    "# get tree related important variables\n",
    "\n",
    "def getTreeVars(TREE, varNames) :\n",
    "    tree_ = TREE.tree_\n",
    "    varName = [ varNames[i] if i != _tree.TREE_UNDEFINED else \"undefined!\" for i in tree_.feature ]\n",
    "\n",
    "    nameSet = set()\n",
    "    for i in tree_.feature :\n",
    "        if i != _tree.TREE_UNDEFINED :\n",
    "            nameSet.add(i)\n",
    "    nameList = list(nameSet)\n",
    "    parameter_list = list()\n",
    "    for i in nameList :\n",
    "        parameter_list.append(varNames[i])\n",
    "    return parameter_list\n",
    "\n",
    "def getEnsembleTreeVars(ENSTREE, varNames) :\n",
    "    importance = ENSTREE.feature_importances_\n",
    "    index = np.argsort(importance)\n",
    "    theList = []\n",
    "    for i in index :\n",
    "        imp_val = importance[i]\n",
    "        if imp_val > np.average(ENSTREE.feature_importances_) :\n",
    "            v = int(imp_val / np.max(ENSTREE.feature_importances_) * 100)\n",
    "            theList.append((varNames[i], v))\n",
    "    theList = sorted(theList,key=itemgetter(1),reverse=True)\n",
    "    return theList"
   ]
  },
  {
   "cell_type": "code",
   "execution_count": 111,
   "metadata": {},
   "outputs": [],
   "source": [
    "# get Regression model important variables\n",
    "def getCoefLogit( MODEL, TRAIN_DATA ) :\n",
    "    varNames = list( TRAIN_DATA.columns.values )\n",
    "    coef_dict = {}\n",
    "    coef_dict[\"INTERCEPT\"] = MODEL.intercept_[0]\n",
    "    for coef, feat in zip(MODEL.coef_[0],varNames):\n",
    "        coef_dict[feat] = coef\n",
    "    return coef_dict\n",
    "\n",
    "def getCoefLinear( MODEL, TRAIN_DATA ) :\n",
    "    varNames = list( TRAIN_DATA.columns.values )\n",
    "    coef_dict = {}\n",
    "    coef_dict[\"INTERCEPT\"] = MODEL.intercept_\n",
    "    for coef, feat in zip(MODEL.coef_,varNames):\n",
    "        coef_dict[feat] = coef\n",
    "    return coef_dict"
   ]
  },
  {
   "attachments": {},
   "cell_type": "markdown",
   "metadata": {},
   "source": [
    "### Classes"
   ]
  },
  {
   "cell_type": "code",
   "execution_count": 112,
   "metadata": {},
   "outputs": [],
   "source": [
    "class AmountModel:\n",
    "    # on creation\n",
    "    def __init__(self, name, x_train, x_test, y_train, y_test,depth=5,random_state=511,estimators=100):\n",
    "        self.name = name\n",
    "        self.depth = depth\n",
    "        self.r_state = random_state\n",
    "        self.n_estimators = estimators\n",
    "        self.features = list(x_train.columns.values)\n",
    "        # get no null index\n",
    "        amount_train_index = ~y_train[TARGET_A].isna()\n",
    "        amount_test_index = ~y_test[TARGET_A].isna()\n",
    "\n",
    "        # init amount variables\n",
    "        self.X_Train = x_train[amount_train_index]\n",
    "        self.Y_Train = y_train[amount_train_index]\n",
    "        self.Y_Train = self.Y_Train[TARGET_A]\n",
    "        self.X_Test = x_test[amount_test_index]\n",
    "        self.Y_Test = y_test[amount_test_index]\n",
    "        self.Y_Test = self.Y_Test[TARGET_A]\n",
    "        print(\"After initailization, do a .setFlavor(pick a model), then a .fit(), then a .getAccuracy()\")\n",
    "\n",
    "    def setFlavor(self,flavor):\n",
    "        if flavor == 'Tree':\n",
    "            self.model = tree.DecisionTreeRegressor(max_depth=self.depth,random_state=self.r_state)\n",
    "            self.flavor = flavor\n",
    "        elif flavor == 'Random Forest':\n",
    "            self.model = RandomForestRegressor(n_estimators = self.n_estimators, max_depth=self.depth,\\\n",
    "                                                random_state=self.r_state)\n",
    "            self.flavor = flavor\n",
    "        elif flavor == 'Gradient Boost':\n",
    "            self.model = GradientBoostingRegressor(n_estimators = self.n_estimators, max_depth=self.depth,\\\n",
    "                                                random_state=self.r_state)\n",
    "            self.flavor = flavor\n",
    "        else:\n",
    "            print('ERROR, please input Tree, Random Forest, Gradient Boost, or  Regression')\n",
    "\n",
    "    def fit(self):\n",
    "        self.model = self.model.fit(self.X_Train,self.Y_Train)\n",
    "        self.Y_Pred_Train = self.model.predict(self.X_Train)\n",
    "        self.Y_Pred_Test = self.model.predict(self.X_Test)\n",
    "\n",
    "    def getVars(self):\n",
    "        if self.flavor == 'Tree':\n",
    "            self.important_variables = getTreeVars(self.model,self.features)\n",
    "            #return self.important_variables\n",
    "        elif self.flavor == 'Gradient Boost' or self.flavor == 'Random Forest':\n",
    "            holder = getEnsembleTreeVars(self.model,self.features)\n",
    "            self.important_variables = []\n",
    "            for i in holder:\n",
    "                smallhold = i[0]\n",
    "                self.important_variables.append(smallhold)\n",
    "            self.import_variables_matrix = holder\n",
    "            #return self.important_variables\n",
    "        else: \n",
    "            print('error')\n",
    "            \n",
    "    def getAccuracy(self):\n",
    "        self.RMSE_train = math.sqrt(metrics.mean_squared_error(self.Y_Train,self.Y_Pred_Train))\n",
    "        self.RMSE_test = math.sqrt(metrics.mean_squared_error(self.Y_Test,self.Y_Pred_Test))\n",
    "        #print(f\"{self.name} RMSE Train: \", self.RMSE_train)\n",
    "        #print(f\"{self.name} RMSE Test: \", self.RMSE_test)"
   ]
  },
  {
   "cell_type": "code",
   "execution_count": 113,
   "metadata": {},
   "outputs": [],
   "source": [
    "class FlagModel:\n",
    "    # on creation\n",
    "    def __init__(self, name, x_train, x_test, y_train, y_test,depth=5,random_state=511,estimators=100):\n",
    "        self.name = name\n",
    "        self.depth = depth\n",
    "        self.r_state = random_state\n",
    "        self.n_estimators = estimators\n",
    "        self.features = list(x_train.columns.values)\n",
    "        \n",
    "        # init flag variables\n",
    "        self.X_Train = x_train\n",
    "        self.Y_Train = y_train[TARGET_F]\n",
    "        self.X_Test = x_test\n",
    "        self.Y_Test = y_test[TARGET_F]\n",
    "        print(\"After initailization, do a .setFlavor(pick a model), then a .fit(), then a .getAccuracy() and a .makeROCplot()\")\n",
    "\n",
    "    def setFlavor(self,flavor):\n",
    "        if flavor == 'Tree':\n",
    "            self.model = tree.DecisionTreeClassifier(max_depth=self.depth,random_state=self.r_state)\n",
    "            self.flavor = flavor\n",
    "        elif flavor == 'Random Forest':\n",
    "            self.model = RandomForestClassifier(n_estimators = self.n_estimators, max_depth=self.depth,\\\n",
    "                                                random_state=self.r_state)\n",
    "            self.flavor = flavor\n",
    "        elif flavor == 'Gradient Boost':\n",
    "            self.model = GradientBoostingClassifier(n_estimators = self.n_estimators, max_depth=self.depth,\\\n",
    "                                                random_state=self.r_state)\n",
    "            self.flavor = flavor\n",
    "        else:\n",
    "            print('ERROR, please input Tree, Random Forest, or Gradient Boost')\n",
    "\n",
    "\n",
    "    def fit(self):\n",
    "        self.model = self.model.fit(self.X_Train,self.Y_Train)\n",
    "        self.Y_Pred_Train = self.model.predict(self.X_Train)\n",
    "        self.Y_Pred_Test = self.model.predict(self.X_Test)\n",
    "\n",
    "    def getVars(self):\n",
    "        if self.flavor == 'Tree':\n",
    "            self.important_variables = getTreeVars(self.model,self.features)\n",
    "            return self.important_variables\n",
    "        elif self.flavor == 'Gradient Boost' or self.flavor == 'Random Forest':\n",
    "            holder = getEnsembleTreeVars(self.model,self.features)\n",
    "            self.important_variables = []\n",
    "            for i in holder:\n",
    "                smallhold = i[0]\n",
    "                self.important_variables.append(smallhold)\n",
    "            self.import_variables_matrix = holder\n",
    "            return self.important_variables\n",
    "        else: \n",
    "            print('error')\n",
    "    \n",
    "\n",
    "    def getAccuracy(self):\n",
    "        self.train_acc = metrics.accuracy_score(self.Y_Train, self.Y_Pred_Train)\n",
    "        self.test_acc = metrics.accuracy_score(self.Y_Test, self.Y_Pred_Test)\n",
    "        #print(\"Accuracy Train: \", self.train_acc)\n",
    "        #print(\"Accuracy Test: \", self.test_acc)\n",
    "\n",
    "    def makeROCplot(self,filename):\n",
    "        self.train_probs = self.model.predict_proba(self.X_Train)\n",
    "        self.test_probs = self.model.predict_proba(self.X_Test)\n",
    "        self.train_probs = self.train_probs[:,1]\n",
    "        self.test_probs = self.test_probs[:,1]\n",
    "        self.fpr_train, self.tpr_train, self.train_threshold = metrics.roc_curve(self.Y_Train, self.train_probs)\n",
    "        self.fpr_test, self.tpr_test, self.test_threshold = metrics.roc_curve(self.Y_Test, self.test_probs)\n",
    "        self.roc_auc_train = metrics.auc(self.fpr_train, self.tpr_train)\n",
    "        self.roc_auc_test = metrics.auc(self.fpr_test, self.tpr_test)\n",
    "        self.roc_plot = plt.figure(figsize=(5,5))\n",
    "        plt.title(self.name + \" ROC Curve\")\n",
    "        plt.plot(self.fpr_train, self.tpr_train,'b',label = 'AUC Train = %0.2f' % self.roc_auc_train)\n",
    "        plt.plot(self.fpr_test, self.tpr_test,'r',label = 'AUC Test = %0.2f' % self.roc_auc_test)\n",
    "        plt.legend(loc = 'lower right')\n",
    "        plt.plot([0,1],[0,1],'k--')\n",
    "        plt.xlim([0,1])\n",
    "        plt.ylim([0,1])\n",
    "        plt.xlabel('False Positive Rate')\n",
    "        plt.ylabel('True Positive Rate')\n",
    "        plt.savefig(filename+'.png', bbox_inches='tight')\n",
    "        #plt.show()\n",
    "\n",
    "    \n",
    "\n",
    "        \n",
    "\n",
    "\n",
    "    "
   ]
  },
  {
   "cell_type": "code",
   "execution_count": 114,
   "metadata": {},
   "outputs": [],
   "source": [
    "class StepWiseModel():\n",
    "   def __init__(self, name, x_train, x_test, y_train, y_test,flavor,\n",
    "                solver='newton-cg',maxiter=100,kmax=1,forward=True,floating=False,scoring=None,cv=3):\n",
    "      self.name = name\n",
    "      self.solver = solver\n",
    "      self.maxiterations = maxiter\n",
    "      self.features = list(x_train.columns.values)\n",
    "      self.flavor = flavor\n",
    "      self.kmax = kmax\n",
    "      self.forward=forward\n",
    "      self.floating=floating\n",
    "      self.scoring=scoring\n",
    "      self.cv=cv\n",
    "\n",
    "      if flavor == \"Logistic\":\n",
    "         self.X_Train = x_train\n",
    "         self.Y_Train = y_train[TARGET_F]\n",
    "         self.X_Test = x_test\n",
    "         self.Y_Test = y_test[TARGET_F]\n",
    "      else:\n",
    "         # get no null index\n",
    "         amount_train_index = ~y_train[TARGET_A].isna()\n",
    "         amount_test_index = ~y_test[TARGET_A].isna()\n",
    "\n",
    "         # init amount variables\n",
    "         self.X_Train = x_train[amount_train_index]\n",
    "         self.Y_Train = y_train[amount_train_index]\n",
    "         self.Y_Train = self.Y_Train[TARGET_A]\n",
    "         self.X_Test = x_test[amount_test_index]\n",
    "         self.Y_Test = y_test[amount_test_index]\n",
    "         self.Y_Test = self.Y_Test[TARGET_A]\n",
    "\n",
    "   def fit(self):\n",
    "      if self.flavor == \"Logistic\":\n",
    "         self.model = SFS(LogisticRegression(solver=self.solver,max_iter=self.maxiterations),\n",
    "                          k_features = (1,self.kmax),\n",
    "                          forward=self.forward,\n",
    "                          floating=self.floating,\n",
    "                          cv=self.cv)\n",
    "         self.model.fit(self.X_Train.values,self.Y_Train.values)\n",
    "\n",
    "      elif self.flavor == \"Linear\":\n",
    "         self.model = SFS(LinearRegression(),\n",
    "                          k_features = (1,self.kmax),\n",
    "                          forward=self.forward,\n",
    "                          floating=self.floating,\n",
    "                          scoring=self.scoring,\n",
    "                          cv=self.cv)\n",
    "         self.model.fit(self.X_Train.values,self.Y_Train.values)\n",
    "\n",
    "      else:\n",
    "         print('error')\n",
    "\n",
    "   def plot(self,filename):\n",
    "      self.fig = plot_sfs(self.model.get_metric_dict(), kind = None)\n",
    "      plt.title(self.name + ' Sequential Forward Selection (w. StdErr)')\n",
    "      plt.grid()\n",
    "      plt.savefig(filename+'.png', bbox_inches='tight')\n",
    "      #plt.show()\n",
    "   \n",
    "\n",
    "   def getVars(self):\n",
    "      dfm = pd.DataFrame.from_dict(self.model.get_metric_dict()).T\n",
    "      dfm = dfm[['feature_names', 'avg_score']]\n",
    "      dfm['avg_score'] = dfm['avg_score'].astype(float)\n",
    "      self.dfm = dfm\n",
    "      maxIndex = dfm['avg_score'].argmax()\n",
    "      self.accuracy = maxIndex\n",
    "      stepVars = dfm.iloc[maxIndex,]\n",
    "      stepVars = stepVars['feature_names']\n",
    "      self.important_variables_matrix = stepVars\n",
    "      holder = []\n",
    "      for i in stepVars :\n",
    "         index = int(i)\n",
    "         try :\n",
    "            theName = self.features[index]\n",
    "            holder.append(theName)\n",
    "         except :\n",
    "            pass\n",
    "      self.important_variables = holder"
   ]
  },
  {
   "cell_type": "code",
   "execution_count": 115,
   "metadata": {},
   "outputs": [],
   "source": [
    "class LogModel(FlagModel):\n",
    "    def __init__(self,name, x_train, x_test, y_train, y_test, solver='newton-cg',maxiter=1000):\n",
    "        super().__init__(name, x_train, x_test, y_train, y_test,depth=5,random_state=511,estimators=100)\n",
    "        self.solver = solver\n",
    "        self.maxiterations = maxiter\n",
    "        self.flavor = 'Logistic'\n",
    "    \n",
    "    def fit(self):\n",
    "        self.model = LogisticRegression(solver = self.solver, max_iter = self.maxiterations)\n",
    "        self.model = self.model.fit(self.X_Train,self.Y_Train)\n",
    "        self.Y_Pred_Train = self.model.predict(self.X_Train)\n",
    "        self.Y_Pred_Test = self.model.predict(self.X_Test)\n",
    "    \n",
    "    def getVars(self):\n",
    "        self.important_variables = getCoefLogit(self.model,self.X_Train)\n",
    "        #return self.important_variables\n",
    "    \n",
    "class LinModel(AmountModel):\n",
    "    def __init__(self,name, x_train, x_test, y_train, y_test, estimators=100,solver='newton-cg',maxiter=1000):\n",
    "        super().__init__(name, x_train, x_test, y_train, y_test,depth=5,random_state=511)\n",
    "        self.n_estimators = estimators\n",
    "        self.solver = solver\n",
    "        self.maxiterations = maxiter\n",
    "        self.flavor = 'Logistic'\n",
    "    \n",
    "    def fit(self):\n",
    "        self.model = LinearRegression()\n",
    "        self.model = self.model.fit(self.X_Train,self.Y_Train)\n",
    "        self.Y_Pred_Train = self.model.predict(self.X_Train)\n",
    "        self.Y_Pred_Test = self.model.predict(self.X_Test)\n",
    "    \n",
    "    def getVars(self):\n",
    "        self.important_variables = getCoefLinear(self.model,self.X_Train)\n",
    "        return self.important_variables"
   ]
  },
  {
   "attachments": {},
   "cell_type": "markdown",
   "metadata": {},
   "source": [
    "## Flag Models"
   ]
  },
  {
   "attachments": {},
   "cell_type": "markdown",
   "metadata": {},
   "source": [
    "### Simple Tree"
   ]
  },
  {
   "cell_type": "code",
   "execution_count": 116,
   "metadata": {},
   "outputs": [
    {
     "name": "stdout",
     "output_type": "stream",
     "text": [
      "After initailization, do a .setFlavor(pick a model), then a .fit(), then a .getAccuracy() and a .makeROCplot()\n"
     ]
    },
    {
     "data": {
      "text/plain": [
       "['IMP_VALUE',\n",
       " 'IMP_DEROG',\n",
       " 'IMP_DELINQ',\n",
       " 'IMP_CLAGE',\n",
       " 'IMP_DEBTINC',\n",
       " 'z_IMP_JOB_Office']"
      ]
     },
     "execution_count": 116,
     "metadata": {},
     "output_type": "execute_result"
    }
   ],
   "source": [
    "tree_flag_01 = FlagModel('Tree_Flag_01',X_train, X_test, Y_train, Y_test)\n",
    "tree_flag_01.setFlavor('Tree')\n",
    "tree_flag_01.fit()\n",
    "tree_flag_01.getAccuracy()\n",
    "tree_flag_01.makeROCplot(tree_flag_01.name)\n",
    "tree_flag_01.getVars()"
   ]
  },
  {
   "attachments": {},
   "cell_type": "markdown",
   "metadata": {},
   "source": [
    "### Random Forest"
   ]
  },
  {
   "cell_type": "code",
   "execution_count": 117,
   "metadata": {},
   "outputs": [
    {
     "name": "stdout",
     "output_type": "stream",
     "text": [
      "After initailization, do a .setFlavor(pick a model), then a .fit(), then a .getAccuracy() and a .makeROCplot()\n"
     ]
    },
    {
     "data": {
      "text/plain": [
       "['IMP_DEBTINC', 'IMP_DELINQ', 'IMP_DEROG', 'IMP_CLAGE']"
      ]
     },
     "execution_count": 117,
     "metadata": {},
     "output_type": "execute_result"
    }
   ],
   "source": [
    "rf_flag_01 = FlagModel('RF_Flag_01',X_train, X_test, Y_train, Y_test)\n",
    "rf_flag_01.setFlavor('Random Forest')\n",
    "rf_flag_01.fit()\n",
    "rf_flag_01.getAccuracy()\n",
    "rf_flag_01.makeROCplot(rf_flag_01.name)\n",
    "rf_flag_01.getVars()"
   ]
  },
  {
   "attachments": {},
   "cell_type": "markdown",
   "metadata": {},
   "source": [
    "### Gradient Boost"
   ]
  },
  {
   "cell_type": "code",
   "execution_count": 118,
   "metadata": {},
   "outputs": [
    {
     "name": "stdout",
     "output_type": "stream",
     "text": [
      "After initailization, do a .setFlavor(pick a model), then a .fit(), then a .getAccuracy() and a .makeROCplot()\n"
     ]
    },
    {
     "data": {
      "text/plain": [
       "['IMP_DEBTINC', 'IMP_DELINQ', 'IMP_CLAGE']"
      ]
     },
     "execution_count": 118,
     "metadata": {},
     "output_type": "execute_result"
    }
   ],
   "source": [
    "gb_flag_01 = FlagModel('GB_Flag_01',X_train, X_test, Y_train, Y_test)\n",
    "gb_flag_01.setFlavor('Gradient Boost')\n",
    "gb_flag_01.fit()\n",
    "gb_flag_01.getAccuracy()\n",
    "gb_flag_01.makeROCplot(gb_flag_01.name)\n",
    "gb_flag_01.getVars()"
   ]
  },
  {
   "attachments": {},
   "cell_type": "markdown",
   "metadata": {},
   "source": [
    "### Stepwise"
   ]
  },
  {
   "cell_type": "code",
   "execution_count": 119,
   "metadata": {},
   "outputs": [],
   "source": [
    "sw_flag_01 = StepWiseModel('SW_Flag_01',X_train, X_test, Y_train, Y_test,'Logistic',kmax=5)\n",
    "sw_flag_01.fit()\n",
    "sw_flag_01.plot(sw_flag_01.name)\n",
    "sw_flag_01.getVars()"
   ]
  },
  {
   "attachments": {},
   "cell_type": "markdown",
   "metadata": {},
   "source": [
    "### Log Models of each flag model"
   ]
  },
  {
   "attachments": {},
   "cell_type": "markdown",
   "metadata": {},
   "source": [
    "#### Log model - all"
   ]
  },
  {
   "cell_type": "code",
   "execution_count": 120,
   "metadata": {},
   "outputs": [
    {
     "name": "stdout",
     "output_type": "stream",
     "text": [
      "After initailization, do a .setFlavor(pick a model), then a .fit(), then a .getAccuracy() and a .makeROCplot()\n"
     ]
    }
   ],
   "source": [
    "log_flag_all = LogModel('Log_Flag_AllVars',X_train, X_test, Y_train, Y_test)\n",
    "log_flag_all.fit()\n",
    "log_flag_all.getAccuracy()\n",
    "log_flag_all.makeROCplot(log_flag_all.name)\n",
    "log_flag_all.getVars()"
   ]
  },
  {
   "attachments": {},
   "cell_type": "markdown",
   "metadata": {},
   "source": [
    "#### Log model - tree"
   ]
  },
  {
   "cell_type": "code",
   "execution_count": 121,
   "metadata": {},
   "outputs": [
    {
     "name": "stdout",
     "output_type": "stream",
     "text": [
      "After initailization, do a .setFlavor(pick a model), then a .fit(), then a .getAccuracy() and a .makeROCplot()\n"
     ]
    }
   ],
   "source": [
    "log_flag_tree = LogModel('Log_Flag_Tree',X_train[tree_flag_01.important_variables]\n",
    "                         , X_test[tree_flag_01.important_variables], \n",
    "                         Y_train, \n",
    "                         Y_test)\n",
    "log_flag_tree.fit()\n",
    "log_flag_tree.getAccuracy()\n",
    "log_flag_tree.makeROCplot(log_flag_tree.name)\n",
    "log_flag_tree.getVars()"
   ]
  },
  {
   "attachments": {},
   "cell_type": "markdown",
   "metadata": {},
   "source": [
    "#### Log model - rf"
   ]
  },
  {
   "cell_type": "code",
   "execution_count": 122,
   "metadata": {},
   "outputs": [
    {
     "name": "stdout",
     "output_type": "stream",
     "text": [
      "After initailization, do a .setFlavor(pick a model), then a .fit(), then a .getAccuracy() and a .makeROCplot()\n"
     ]
    }
   ],
   "source": [
    "log_flag_rf = LogModel('Log_Flag_RF',X_train[rf_flag_01.important_variables]\n",
    "                         , X_test[rf_flag_01.important_variables], \n",
    "                         Y_train, \n",
    "                         Y_test)\n",
    "log_flag_rf.fit()\n",
    "log_flag_rf.getAccuracy()\n",
    "log_flag_rf.makeROCplot(log_flag_rf.name)\n",
    "log_flag_rf.getVars()"
   ]
  },
  {
   "attachments": {},
   "cell_type": "markdown",
   "metadata": {},
   "source": [
    "#### Log model - gb"
   ]
  },
  {
   "cell_type": "code",
   "execution_count": 123,
   "metadata": {},
   "outputs": [
    {
     "name": "stdout",
     "output_type": "stream",
     "text": [
      "After initailization, do a .setFlavor(pick a model), then a .fit(), then a .getAccuracy() and a .makeROCplot()\n"
     ]
    }
   ],
   "source": [
    "log_flag_gb = LogModel('Log_Flag_GB',X_train[gb_flag_01.important_variables]\n",
    "                         , X_test[gb_flag_01.important_variables], \n",
    "                         Y_train, \n",
    "                         Y_test)\n",
    "log_flag_gb.fit()\n",
    "log_flag_gb.getAccuracy()\n",
    "log_flag_gb.makeROCplot(log_flag_gb.name)\n",
    "log_flag_gb.getVars()"
   ]
  },
  {
   "attachments": {},
   "cell_type": "markdown",
   "metadata": {},
   "source": [
    "#### Log model - sws"
   ]
  },
  {
   "cell_type": "code",
   "execution_count": 124,
   "metadata": {},
   "outputs": [
    {
     "name": "stdout",
     "output_type": "stream",
     "text": [
      "After initailization, do a .setFlavor(pick a model), then a .fit(), then a .getAccuracy() and a .makeROCplot()\n"
     ]
    }
   ],
   "source": [
    "log_flag_sw = LogModel('Log_Flag_SW',X_train[sw_flag_01.important_variables]\n",
    "                         , X_test[sw_flag_01.important_variables], \n",
    "                         Y_train, \n",
    "                         Y_test)\n",
    "log_flag_sw.fit()\n",
    "log_flag_sw.getAccuracy()\n",
    "log_flag_sw.makeROCplot(log_flag_sw.name)\n",
    "log_flag_sw.getVars()"
   ]
  },
  {
   "attachments": {},
   "cell_type": "markdown",
   "metadata": {},
   "source": [
    "## Amount Models"
   ]
  },
  {
   "attachments": {},
   "cell_type": "markdown",
   "metadata": {},
   "source": [
    "### Tree Model"
   ]
  },
  {
   "cell_type": "code",
   "execution_count": 125,
   "metadata": {},
   "outputs": [
    {
     "name": "stdout",
     "output_type": "stream",
     "text": [
      "After initailization, do a .setFlavor(pick a model), then a .fit(), then a .getAccuracy()\n"
     ]
    }
   ],
   "source": [
    "tree_amount_01 = AmountModel('Tree_Amount_01',X_train, X_test, Y_train, Y_test)\n",
    "tree_amount_01.setFlavor('Tree')\n",
    "tree_amount_01.fit()\n",
    "tree_amount_01.getAccuracy()\n",
    "tree_amount_01.getVars()"
   ]
  },
  {
   "cell_type": "markdown",
   "metadata": {},
   "source": [
    "### Random Forest"
   ]
  },
  {
   "cell_type": "code",
   "execution_count": 126,
   "metadata": {},
   "outputs": [
    {
     "name": "stdout",
     "output_type": "stream",
     "text": [
      "After initailization, do a .setFlavor(pick a model), then a .fit(), then a .getAccuracy()\n"
     ]
    }
   ],
   "source": [
    "rf_amount_01 = AmountModel('RF_Amount_01',X_train, X_test, Y_train, Y_test)\n",
    "rf_amount_01.setFlavor('Random Forest')\n",
    "rf_amount_01.fit()\n",
    "rf_amount_01.getAccuracy()\n",
    "rf_amount_01.getVars()"
   ]
  },
  {
   "cell_type": "markdown",
   "metadata": {},
   "source": [
    "### Gradient Boost"
   ]
  },
  {
   "cell_type": "code",
   "execution_count": 127,
   "metadata": {},
   "outputs": [
    {
     "name": "stdout",
     "output_type": "stream",
     "text": [
      "After initailization, do a .setFlavor(pick a model), then a .fit(), then a .getAccuracy() and a .makeROCplot()\n"
     ]
    },
    {
     "data": {
      "text/plain": [
       "['IMP_DEBTINC', 'IMP_DELINQ', 'IMP_CLAGE']"
      ]
     },
     "execution_count": 127,
     "metadata": {},
     "output_type": "execute_result"
    }
   ],
   "source": [
    "gb_amount_01 = FlagModel('GB_Amount_01',X_train, X_test, Y_train, Y_test)\n",
    "gb_amount_01.setFlavor('Gradient Boost')\n",
    "gb_amount_01.fit()\n",
    "gb_amount_01.getAccuracy()\n",
    "gb_amount_01.getVars()"
   ]
  },
  {
   "cell_type": "markdown",
   "metadata": {},
   "source": [
    "### Stepwise"
   ]
  },
  {
   "cell_type": "code",
   "execution_count": 128,
   "metadata": {},
   "outputs": [],
   "source": [
    "sw_amount_01 = StepWiseModel('SW_Amount_01',X_train, X_test, Y_train, Y_test,'Linear',kmax=5)\n",
    "sw_amount_01.fit()\n",
    "sw_flag_01.plot(sw_flag_01.name)\n",
    "sw_amount_01.getVars()"
   ]
  },
  {
   "attachments": {},
   "cell_type": "markdown",
   "metadata": {},
   "source": [
    "### Lin Models of each flag model"
   ]
  },
  {
   "attachments": {},
   "cell_type": "markdown",
   "metadata": {},
   "source": [
    "#### Lin model - all"
   ]
  },
  {
   "cell_type": "code",
   "execution_count": 129,
   "metadata": {},
   "outputs": [
    {
     "name": "stdout",
     "output_type": "stream",
     "text": [
      "After initailization, do a .setFlavor(pick a model), then a .fit(), then a .getAccuracy()\n"
     ]
    },
    {
     "data": {
      "text/plain": [
       "{'INTERCEPT': -3259.8582061653724,\n",
       " 'LOAN': 0.7837434742020188,\n",
       " 'IMP_MORTDUE': 0.0054417346392702185,\n",
       " 'IMP_VALUE': -0.01301940120913818,\n",
       " 'IMP_YOJ': -72.1621920600278,\n",
       " 'IMP_DEROG': 362.950968868329,\n",
       " 'IMP_DELINQ': 792.0840350651588,\n",
       " 'IMP_CLAGE': -19.47233906682193,\n",
       " 'IMP_NINQ': 58.066167480768016,\n",
       " 'IMP_CLNO': 221.06924789313203,\n",
       " 'IMP_DEBTINC': 60.88106182008491,\n",
       " 'z_IMP_REASON_HomeImp': -1344.5442529307306,\n",
       " 'z_IMP_JOB_Office': 86.30631311595481,\n",
       " 'z_IMP_JOB_Other': 117.76173355799428,\n",
       " 'z_IMP_JOB_ProfExe': -54.5256611671593,\n",
       " 'z_IMP_JOB_Sales': 1224.0655807096866,\n",
       " 'z_IMP_JOB_Self': 2826.7032634130987}"
      ]
     },
     "execution_count": 129,
     "metadata": {},
     "output_type": "execute_result"
    }
   ],
   "source": [
    "lin_amount_all = LinModel('Lin_Amount_AllVars',X_train, X_test, Y_train, Y_test)\n",
    "lin_amount_all.fit()\n",
    "lin_amount_all.getAccuracy()\n",
    "lin_amount_all.getVars()"
   ]
  },
  {
   "attachments": {},
   "cell_type": "markdown",
   "metadata": {},
   "source": [
    "#### Lin model - tree"
   ]
  },
  {
   "cell_type": "code",
   "execution_count": 130,
   "metadata": {},
   "outputs": [
    {
     "name": "stdout",
     "output_type": "stream",
     "text": [
      "After initailization, do a .setFlavor(pick a model), then a .fit(), then a .getAccuracy()\n"
     ]
    },
    {
     "data": {
      "text/plain": [
       "{'INTERCEPT': -4644.549790490546,\n",
       " 'LOAN': 0.7782955737327324,\n",
       " 'IMP_MORTDUE': -0.004857612121459846,\n",
       " 'IMP_DEROG': 359.571671091941,\n",
       " 'IMP_DELINQ': 785.3707195917693,\n",
       " 'IMP_CLAGE': -20.902866277351308,\n",
       " 'IMP_CLNO': 230.56385214370056,\n",
       " 'IMP_DEBTINC': 67.50737611427107}"
      ]
     },
     "execution_count": 130,
     "metadata": {},
     "output_type": "execute_result"
    }
   ],
   "source": [
    "lin_amount_tree = LinModel('Lin_Amount_Tree',X_train[tree_amount_01.important_variables]\n",
    "                         , X_test[tree_amount_01.important_variables], \n",
    "                         Y_train, \n",
    "                         Y_test)\n",
    "lin_amount_tree.fit()\n",
    "lin_amount_tree.getAccuracy()\n",
    "lin_amount_tree.getVars()"
   ]
  },
  {
   "attachments": {},
   "cell_type": "markdown",
   "metadata": {},
   "source": [
    "#### Lin model - rf"
   ]
  },
  {
   "cell_type": "code",
   "execution_count": 131,
   "metadata": {},
   "outputs": [
    {
     "name": "stdout",
     "output_type": "stream",
     "text": [
      "After initailization, do a .setFlavor(pick a model), then a .fit(), then a .getAccuracy()\n"
     ]
    },
    {
     "data": {
      "text/plain": [
       "{'INTERCEPT': -4540.168822589738,\n",
       " 'LOAN': 0.7679350254145798,\n",
       " 'IMP_CLNO': 237.448782016605}"
      ]
     },
     "execution_count": 131,
     "metadata": {},
     "output_type": "execute_result"
    }
   ],
   "source": [
    "lin_amount_rf = LinModel('Lin_Amount_RF',X_train[rf_amount_01.important_variables]\n",
    "                         , X_test[rf_amount_01.important_variables], \n",
    "                         Y_train, \n",
    "                         Y_test)\n",
    "lin_amount_rf.fit()\n",
    "lin_amount_rf.getAccuracy()\n",
    "lin_amount_rf.getVars()"
   ]
  },
  {
   "attachments": {},
   "cell_type": "markdown",
   "metadata": {},
   "source": [
    "#### Lin model - gb"
   ]
  },
  {
   "cell_type": "code",
   "execution_count": 132,
   "metadata": {},
   "outputs": [
    {
     "name": "stdout",
     "output_type": "stream",
     "text": [
      "After initailization, do a .setFlavor(pick a model), then a .fit(), then a .getAccuracy()\n"
     ]
    },
    {
     "data": {
      "text/plain": [
       "{'INTERCEPT': 7114.595460192209,\n",
       " 'IMP_DEBTINC': 160.86423596443953,\n",
       " 'IMP_DELINQ': 1424.985358169077,\n",
       " 'IMP_CLAGE': -5.835161893793384}"
      ]
     },
     "execution_count": 132,
     "metadata": {},
     "output_type": "execute_result"
    }
   ],
   "source": [
    "lin_amount_gb = LinModel('Lin_Amount_GB',X_train[gb_amount_01.important_variables]\n",
    "                         , X_test[gb_amount_01.important_variables], \n",
    "                         Y_train, \n",
    "                         Y_test)\n",
    "lin_amount_gb.fit()\n",
    "lin_amount_gb.getAccuracy()\n",
    "lin_amount_gb.getVars()"
   ]
  },
  {
   "attachments": {},
   "cell_type": "markdown",
   "metadata": {},
   "source": [
    "#### Lin model - sws"
   ]
  },
  {
   "cell_type": "code",
   "execution_count": 133,
   "metadata": {},
   "outputs": [
    {
     "name": "stdout",
     "output_type": "stream",
     "text": [
      "After initailization, do a .setFlavor(pick a model), then a .fit(), then a .getAccuracy()\n"
     ]
    },
    {
     "data": {
      "text/plain": [
       "{'INTERCEPT': -4539.761858275338,\n",
       " 'LOAN': 0.7697944599628972,\n",
       " 'IMP_DELINQ': 817.8555155417754,\n",
       " 'IMP_CLAGE': -21.399209026455537,\n",
       " 'IMP_CLNO': 234.36867532201543,\n",
       " 'IMP_DEBTINC': 64.98268425488469}"
      ]
     },
     "execution_count": 133,
     "metadata": {},
     "output_type": "execute_result"
    }
   ],
   "source": [
    "lin_amount_sw = LinModel('Lin_Amount_SW',X_train[sw_amount_01.important_variables]\n",
    "                         , X_test[sw_amount_01.important_variables], \n",
    "                         Y_train, \n",
    "                         Y_test)\n",
    "lin_amount_sw.fit()\n",
    "lin_amount_sw.getAccuracy()\n",
    "lin_amount_sw.getVars()"
   ]
  },
  {
   "attachments": {},
   "cell_type": "markdown",
   "metadata": {},
   "source": [
    "## Comparions"
   ]
  },
  {
   "attachments": {},
   "cell_type": "markdown",
   "metadata": {},
   "source": [
    "### Log Models"
   ]
  },
  {
   "cell_type": "code",
   "execution_count": 134,
   "metadata": {},
   "outputs": [],
   "source": [
    "# list of all log models\n",
    "loglist = [log_flag_all,log_flag_sw,log_flag_gb,log_flag_rf,log_flag_tree]"
   ]
  },
  {
   "attachments": {},
   "cell_type": "markdown",
   "metadata": {},
   "source": [
    "<table><tr>\n",
    "<td><img src=\"Log_Flag_AllVars.png\" alt=\"Drawing\" style=\"width: 400px;\"/></td>\n",
    "<td><img src=\"Log_Flag_Tree.png\" alt=\"Drawing\" style=\"width: 400px;\"/></td>\n",
    "<td><img src=\"Log_Flag_RF.png\" alt=\"Drawing\" style=\"width: 400px;\"/></td>\n",
    "</tr>\n",
    "<tr>\n",
    "<td><img src=\"Log_Flag_GB.png\" alt=\"Drawing\" style=\"width: 400px;\"/></td>\n",
    "<td><img src=\"Log_Flag_SW.png\" alt=\"Drawing\" style=\"width: 400px;\"/></td>\n",
    "</tr>\n",
    "</table>"
   ]
  },
  {
   "cell_type": "code",
   "execution_count": 135,
   "metadata": {},
   "outputs": [
    {
     "data": {
      "text/html": [
       "<div>\n",
       "<style scoped>\n",
       "    .dataframe tbody tr th:only-of-type {\n",
       "        vertical-align: middle;\n",
       "    }\n",
       "\n",
       "    .dataframe tbody tr th {\n",
       "        vertical-align: top;\n",
       "    }\n",
       "\n",
       "    .dataframe thead th {\n",
       "        text-align: right;\n",
       "    }\n",
       "</style>\n",
       "<table border=\"1\" class=\"dataframe\">\n",
       "  <thead>\n",
       "    <tr style=\"text-align: right;\">\n",
       "      <th></th>\n",
       "      <th>Model</th>\n",
       "      <th>Variables</th>\n",
       "    </tr>\n",
       "  </thead>\n",
       "  <tbody>\n",
       "    <tr>\n",
       "      <th>0</th>\n",
       "      <td>Log_Flag_AllVars</td>\n",
       "      <td>[LOAN, IMP_MORTDUE, IMP_VALUE, IMP_YOJ, IMP_DEROG, IMP_DELINQ, IMP_CLAGE, IMP_NINQ, IMP_CLNO, IMP_DEBTINC, z_IMP_REASON_HomeImp, z_IMP_JOB_Office, z_IMP_JOB_Other, z_IMP_JOB_ProfExe, z_IMP_JOB_Sales, z_IMP_JOB_Self]</td>\n",
       "    </tr>\n",
       "    <tr>\n",
       "      <th>1</th>\n",
       "      <td>Log_Flag_SW</td>\n",
       "      <td>[IMP_DEROG, IMP_DELINQ, IMP_CLAGE, IMP_DEBTINC, z_IMP_JOB_Office]</td>\n",
       "    </tr>\n",
       "    <tr>\n",
       "      <th>2</th>\n",
       "      <td>Log_Flag_GB</td>\n",
       "      <td>[IMP_DEBTINC, IMP_DELINQ, IMP_CLAGE]</td>\n",
       "    </tr>\n",
       "    <tr>\n",
       "      <th>3</th>\n",
       "      <td>Log_Flag_RF</td>\n",
       "      <td>[IMP_DEBTINC, IMP_DELINQ, IMP_DEROG, IMP_CLAGE]</td>\n",
       "    </tr>\n",
       "    <tr>\n",
       "      <th>4</th>\n",
       "      <td>Log_Flag_Tree</td>\n",
       "      <td>[IMP_VALUE, IMP_DEROG, IMP_DELINQ, IMP_CLAGE, IMP_DEBTINC, z_IMP_JOB_Office]</td>\n",
       "    </tr>\n",
       "  </tbody>\n",
       "</table>\n",
       "</div>"
      ],
      "text/plain": [
       "              Model  \\\n",
       "0  Log_Flag_AllVars   \n",
       "1       Log_Flag_SW   \n",
       "2       Log_Flag_GB   \n",
       "3       Log_Flag_RF   \n",
       "4     Log_Flag_Tree   \n",
       "\n",
       "                                                                                                                                                                                                                 Variables  \n",
       "0  [LOAN, IMP_MORTDUE, IMP_VALUE, IMP_YOJ, IMP_DEROG, IMP_DELINQ, IMP_CLAGE, IMP_NINQ, IMP_CLNO, IMP_DEBTINC, z_IMP_REASON_HomeImp, z_IMP_JOB_Office, z_IMP_JOB_Other, z_IMP_JOB_ProfExe, z_IMP_JOB_Sales, z_IMP_JOB_Self]  \n",
       "1                                                                                                                                                        [IMP_DEROG, IMP_DELINQ, IMP_CLAGE, IMP_DEBTINC, z_IMP_JOB_Office]  \n",
       "2                                                                                                                                                                                     [IMP_DEBTINC, IMP_DELINQ, IMP_CLAGE]  \n",
       "3                                                                                                                                                                          [IMP_DEBTINC, IMP_DELINQ, IMP_DEROG, IMP_CLAGE]  \n",
       "4                                                                                                                                             [IMP_VALUE, IMP_DEROG, IMP_DELINQ, IMP_CLAGE, IMP_DEBTINC, z_IMP_JOB_Office]  "
      ]
     },
     "execution_count": 135,
     "metadata": {},
     "output_type": "execute_result"
    }
   ],
   "source": [
    "log_variables = {}\n",
    "for model in loglist:\n",
    "    holder = []\n",
    "    for i in model.important_variables:\n",
    "        smallholder = i\n",
    "        holder.append(smallholder)\n",
    "    log_variables[model.name] = holder[1:]\n",
    "log_var_df = pd.DataFrame(log_variables.items(),columns=['Model','Variables'])\n",
    "log_var_df"
   ]
  },
  {
   "cell_type": "code",
   "execution_count": 136,
   "metadata": {},
   "outputs": [
    {
     "data": {
      "text/html": [
       "<div>\n",
       "<style scoped>\n",
       "    .dataframe tbody tr th:only-of-type {\n",
       "        vertical-align: middle;\n",
       "    }\n",
       "\n",
       "    .dataframe tbody tr th {\n",
       "        vertical-align: top;\n",
       "    }\n",
       "\n",
       "    .dataframe thead th {\n",
       "        text-align: right;\n",
       "    }\n",
       "</style>\n",
       "<table border=\"1\" class=\"dataframe\">\n",
       "  <thead>\n",
       "    <tr style=\"text-align: right;\">\n",
       "      <th></th>\n",
       "      <th>Model</th>\n",
       "      <th>Accuracy</th>\n",
       "    </tr>\n",
       "  </thead>\n",
       "  <tbody>\n",
       "    <tr>\n",
       "      <th>0</th>\n",
       "      <td>Log_Flag_AllVars</td>\n",
       "      <td>0.842282</td>\n",
       "    </tr>\n",
       "    <tr>\n",
       "      <th>1</th>\n",
       "      <td>Log_Flag_SW</td>\n",
       "      <td>0.838926</td>\n",
       "    </tr>\n",
       "    <tr>\n",
       "      <th>2</th>\n",
       "      <td>Log_Flag_GB</td>\n",
       "      <td>0.832215</td>\n",
       "    </tr>\n",
       "    <tr>\n",
       "      <th>3</th>\n",
       "      <td>Log_Flag_RF</td>\n",
       "      <td>0.837248</td>\n",
       "    </tr>\n",
       "    <tr>\n",
       "      <th>4</th>\n",
       "      <td>Log_Flag_Tree</td>\n",
       "      <td>0.838926</td>\n",
       "    </tr>\n",
       "  </tbody>\n",
       "</table>\n",
       "</div>"
      ],
      "text/plain": [
       "              Model  Accuracy\n",
       "0  Log_Flag_AllVars  0.842282\n",
       "1       Log_Flag_SW  0.838926\n",
       "2       Log_Flag_GB  0.832215\n",
       "3       Log_Flag_RF  0.837248\n",
       "4     Log_Flag_Tree  0.838926"
      ]
     },
     "execution_count": 136,
     "metadata": {},
     "output_type": "execute_result"
    }
   ],
   "source": [
    "log_accuracies = {}\n",
    "for model in loglist:\n",
    "    log_accuracies[model.name] = model.test_acc\n",
    "log_acc_df = pd.DataFrame(log_accuracies.items(),columns=['Model','Accuracy'])\n",
    "log_acc_df"
   ]
  },
  {
   "cell_type": "code",
   "execution_count": 137,
   "metadata": {},
   "outputs": [
    {
     "data": {
      "text/html": [
       "<div>\n",
       "<style scoped>\n",
       "    .dataframe tbody tr th:only-of-type {\n",
       "        vertical-align: middle;\n",
       "    }\n",
       "\n",
       "    .dataframe tbody tr th {\n",
       "        vertical-align: top;\n",
       "    }\n",
       "\n",
       "    .dataframe thead th {\n",
       "        text-align: right;\n",
       "    }\n",
       "</style>\n",
       "<table border=\"1\" class=\"dataframe\">\n",
       "  <thead>\n",
       "    <tr style=\"text-align: right;\">\n",
       "      <th></th>\n",
       "      <th>Model</th>\n",
       "      <th>Accuracy</th>\n",
       "      <th>Variables</th>\n",
       "    </tr>\n",
       "  </thead>\n",
       "  <tbody>\n",
       "    <tr>\n",
       "      <th>0</th>\n",
       "      <td>Log_Flag_AllVars</td>\n",
       "      <td>0.842282</td>\n",
       "      <td>[LOAN, IMP_MORTDUE, IMP_VALUE, IMP_YOJ, IMP_DEROG, IMP_DELINQ, IMP_CLAGE, IMP_NINQ, IMP_CLNO, IMP_DEBTINC, z_IMP_REASON_HomeImp, z_IMP_JOB_Office, z_IMP_JOB_Other, z_IMP_JOB_ProfExe, z_IMP_JOB_Sales, z_IMP_JOB_Self]</td>\n",
       "    </tr>\n",
       "    <tr>\n",
       "      <th>1</th>\n",
       "      <td>Log_Flag_SW</td>\n",
       "      <td>0.838926</td>\n",
       "      <td>[IMP_DEROG, IMP_DELINQ, IMP_CLAGE, IMP_DEBTINC, z_IMP_JOB_Office]</td>\n",
       "    </tr>\n",
       "    <tr>\n",
       "      <th>2</th>\n",
       "      <td>Log_Flag_GB</td>\n",
       "      <td>0.832215</td>\n",
       "      <td>[IMP_DEBTINC, IMP_DELINQ, IMP_CLAGE]</td>\n",
       "    </tr>\n",
       "    <tr>\n",
       "      <th>3</th>\n",
       "      <td>Log_Flag_RF</td>\n",
       "      <td>0.837248</td>\n",
       "      <td>[IMP_DEBTINC, IMP_DELINQ, IMP_DEROG, IMP_CLAGE]</td>\n",
       "    </tr>\n",
       "    <tr>\n",
       "      <th>4</th>\n",
       "      <td>Log_Flag_Tree</td>\n",
       "      <td>0.838926</td>\n",
       "      <td>[IMP_VALUE, IMP_DEROG, IMP_DELINQ, IMP_CLAGE, IMP_DEBTINC, z_IMP_JOB_Office]</td>\n",
       "    </tr>\n",
       "  </tbody>\n",
       "</table>\n",
       "</div>"
      ],
      "text/plain": [
       "              Model  Accuracy  \\\n",
       "0  Log_Flag_AllVars  0.842282   \n",
       "1       Log_Flag_SW  0.838926   \n",
       "2       Log_Flag_GB  0.832215   \n",
       "3       Log_Flag_RF  0.837248   \n",
       "4     Log_Flag_Tree  0.838926   \n",
       "\n",
       "                                                                                                                                                                                                                 Variables  \n",
       "0  [LOAN, IMP_MORTDUE, IMP_VALUE, IMP_YOJ, IMP_DEROG, IMP_DELINQ, IMP_CLAGE, IMP_NINQ, IMP_CLNO, IMP_DEBTINC, z_IMP_REASON_HomeImp, z_IMP_JOB_Office, z_IMP_JOB_Other, z_IMP_JOB_ProfExe, z_IMP_JOB_Sales, z_IMP_JOB_Self]  \n",
       "1                                                                                                                                                        [IMP_DEROG, IMP_DELINQ, IMP_CLAGE, IMP_DEBTINC, z_IMP_JOB_Office]  \n",
       "2                                                                                                                                                                                     [IMP_DEBTINC, IMP_DELINQ, IMP_CLAGE]  \n",
       "3                                                                                                                                                                          [IMP_DEBTINC, IMP_DELINQ, IMP_DEROG, IMP_CLAGE]  \n",
       "4                                                                                                                                             [IMP_VALUE, IMP_DEROG, IMP_DELINQ, IMP_CLAGE, IMP_DEBTINC, z_IMP_JOB_Office]  "
      ]
     },
     "execution_count": 137,
     "metadata": {},
     "output_type": "execute_result"
    }
   ],
   "source": [
    "log_combined_df = pd.merge(left=log_acc_df,right=log_var_df,how=\"left\",on=\"Model\")\n",
    "log_combined_df"
   ]
  },
  {
   "cell_type": "code",
   "execution_count": 138,
   "metadata": {},
   "outputs": [
    {
     "name": "stdout",
     "output_type": "stream",
     "text": [
      "{   'Log_Flag_AllVars': {   'IMP_CLAGE': -0.005772753472952367,\n",
      "                            'IMP_CLNO': -0.011546709721235596,\n",
      "                            'IMP_DEBTINC': 0.0694353523190654,\n",
      "                            'IMP_DELINQ': 0.7415194837597069,\n",
      "                            'IMP_DEROG': 0.5855009192991077,\n",
      "                            'IMP_MORTDUE': -4.11337379772705e-06,\n",
      "                            'IMP_NINQ': 0.15898364016205252,\n",
      "                            'IMP_VALUE': 3.6395200142305243e-06,\n",
      "                            'IMP_YOJ': -0.010062635169284169,\n",
      "                            'INTERCEPT': -3.066241893413238,\n",
      "                            'LOAN': -1.9465672371148186e-05,\n",
      "                            'z_IMP_JOB_Office': -0.5749735974105891,\n",
      "                            'z_IMP_JOB_Other': 0.10811691182781577,\n",
      "                            'z_IMP_JOB_ProfExe': 0.026799499827995208,\n",
      "                            'z_IMP_JOB_Sales': 0.6760434094599762,\n",
      "                            'z_IMP_JOB_Self': 0.44070850542149426,\n",
      "                            'z_IMP_REASON_HomeImp': 0.23143831844483304},\n",
      "    'Log_Flag_GB': {   'IMP_CLAGE': -0.007241301067456503,\n",
      "                       'IMP_DEBTINC': 0.06433476636219584,\n",
      "                       'IMP_DELINQ': 0.7576938702962877,\n",
      "                       'INTERCEPT': -2.800566092887399},\n",
      "    'Log_Flag_RF': {   'IMP_CLAGE': -0.006833402413112169,\n",
      "                       'IMP_DEBTINC': 0.06634306128128342,\n",
      "                       'IMP_DELINQ': 0.7005772640347239,\n",
      "                       'IMP_DEROG': 0.6149850578362199,\n",
      "                       'INTERCEPT': -3.089302359998343},\n",
      "    'Log_Flag_SW': {   'IMP_CLAGE': -0.0068805405073499555,\n",
      "                       'IMP_DEBTINC': 0.06899497072469755,\n",
      "                       'IMP_DELINQ': 0.7135598608608402,\n",
      "                       'IMP_DEROG': 0.6031604771565401,\n",
      "                       'INTERCEPT': -3.0832899271463696,\n",
      "                       'z_IMP_JOB_Office': -0.6846641807124262},\n",
      "    'Log_Flag_Tree': {   'IMP_CLAGE': -0.006916401824805567,\n",
      "                         'IMP_DEBTINC': 0.06857134886757336,\n",
      "                         'IMP_DELINQ': 0.7137993699250706,\n",
      "                         'IMP_DEROG': 0.6035083650131996,\n",
      "                         'IMP_VALUE': 1.6303715404702453e-07,\n",
      "                         'INTERCEPT': -3.0790036813719515,\n",
      "                         'z_IMP_JOB_Office': -0.6835046283166826}}\n"
     ]
    }
   ],
   "source": [
    "#coefficient matrix\n",
    "somedict = {}\n",
    "for model in loglist:\n",
    "    somedict[model.name] = model.important_variables\n",
    "pp.pprint(somedict)"
   ]
  },
  {
   "attachments": {},
   "cell_type": "markdown",
   "metadata": {},
   "source": [
    "### Lin Models"
   ]
  },
  {
   "cell_type": "code",
   "execution_count": 139,
   "metadata": {},
   "outputs": [],
   "source": [
    "# list of all lin models\n",
    "linlist = [lin_amount_all,lin_amount_sw,lin_amount_gb,lin_amount_rf,lin_amount_tree]"
   ]
  },
  {
   "cell_type": "code",
   "execution_count": 140,
   "metadata": {},
   "outputs": [
    {
     "name": "stdout",
     "output_type": "stream",
     "text": [
      "{   'Lin_Amount_AllVars': 4434.363962005251,\n",
      "    'Lin_Amount_GB': 9480.720904232108,\n",
      "    'Lin_Amount_RF': 5035.154398354714,\n",
      "    'Lin_Amount_SW': 4470.0925767736035,\n",
      "    'Lin_Amount_Tree': 4492.842275516375}\n"
     ]
    }
   ],
   "source": [
    "#for RMSE\n",
    "lindict = {}\n",
    "for lin in linlist:\n",
    "    lindict[lin.name] = lin.RMSE_test\n",
    "\n",
    "pp.pprint(lindict)"
   ]
  },
  {
   "cell_type": "code",
   "execution_count": 141,
   "metadata": {},
   "outputs": [
    {
     "name": "stdout",
     "output_type": "stream",
     "text": [
      "{   'Lin_Amount_AllVars': {   'IMP_CLAGE': -19.47233906682193,\n",
      "                              'IMP_CLNO': 221.06924789313203,\n",
      "                              'IMP_DEBTINC': 60.88106182008491,\n",
      "                              'IMP_DELINQ': 792.0840350651588,\n",
      "                              'IMP_DEROG': 362.950968868329,\n",
      "                              'IMP_MORTDUE': 0.0054417346392702185,\n",
      "                              'IMP_NINQ': 58.066167480768016,\n",
      "                              'IMP_VALUE': -0.01301940120913818,\n",
      "                              'IMP_YOJ': -72.1621920600278,\n",
      "                              'INTERCEPT': -3259.8582061653724,\n",
      "                              'LOAN': 0.7837434742020188,\n",
      "                              'z_IMP_JOB_Office': 86.30631311595481,\n",
      "                              'z_IMP_JOB_Other': 117.76173355799428,\n",
      "                              'z_IMP_JOB_ProfExe': -54.5256611671593,\n",
      "                              'z_IMP_JOB_Sales': 1224.0655807096866,\n",
      "                              'z_IMP_JOB_Self': 2826.7032634130987,\n",
      "                              'z_IMP_REASON_HomeImp': -1344.5442529307306},\n",
      "    'Lin_Amount_GB': {   'IMP_CLAGE': -5.835161893793384,\n",
      "                         'IMP_DEBTINC': 160.86423596443953,\n",
      "                         'IMP_DELINQ': 1424.985358169077,\n",
      "                         'INTERCEPT': 7114.595460192209},\n",
      "    'Lin_Amount_RF': {   'IMP_CLNO': 237.448782016605,\n",
      "                         'INTERCEPT': -4540.168822589738,\n",
      "                         'LOAN': 0.7679350254145798},\n",
      "    'Lin_Amount_SW': {   'IMP_CLAGE': -21.399209026455537,\n",
      "                         'IMP_CLNO': 234.36867532201543,\n",
      "                         'IMP_DEBTINC': 64.98268425488469,\n",
      "                         'IMP_DELINQ': 817.8555155417754,\n",
      "                         'INTERCEPT': -4539.761858275338,\n",
      "                         'LOAN': 0.7697944599628972},\n",
      "    'Lin_Amount_Tree': {   'IMP_CLAGE': -20.902866277351308,\n",
      "                           'IMP_CLNO': 230.56385214370056,\n",
      "                           'IMP_DEBTINC': 67.50737611427107,\n",
      "                           'IMP_DELINQ': 785.3707195917693,\n",
      "                           'IMP_DEROG': 359.571671091941,\n",
      "                           'IMP_MORTDUE': -0.004857612121459846,\n",
      "                           'INTERCEPT': -4644.549790490546,\n",
      "                           'LOAN': 0.7782955737327324}}\n"
     ]
    }
   ],
   "source": [
    "lincoefdict = {}\n",
    "for model in linlist:\n",
    "    lincoefdict[model.name] = model.important_variables\n",
    "pp.pprint(lincoefdict)"
   ]
  },
  {
   "attachments": {},
   "cell_type": "markdown",
   "metadata": {},
   "source": [
    "# Bingo Bonus"
   ]
  },
  {
   "attachments": {},
   "cell_type": "markdown",
   "metadata": {},
   "source": [
    "## Bulk Simulation"
   ]
  },
  {
   "attachments": {},
   "cell_type": "markdown",
   "metadata": {},
   "source": [
    "### Gradient Boost Randomness"
   ]
  },
  {
   "cell_type": "code",
   "execution_count": 142,
   "metadata": {},
   "outputs": [
    {
     "data": {
      "text/plain": [
       "3653.5801500232105"
      ]
     },
     "execution_count": 142,
     "metadata": {},
     "output_type": "execute_result"
    }
   ],
   "source": [
    "rf_amount_01.RMSE_test"
   ]
  }
 ],
 "metadata": {
  "kernelspec": {
   "display_name": "base",
   "language": "python",
   "name": "python3"
  },
  "language_info": {
   "codemirror_mode": {
    "name": "ipython",
    "version": 3
   },
   "file_extension": ".py",
   "mimetype": "text/x-python",
   "name": "python",
   "nbconvert_exporter": "python",
   "pygments_lexer": "ipython3",
   "version": "3.9.13"
  },
  "orig_nbformat": 4
 },
 "nbformat": 4,
 "nbformat_minor": 2
}
