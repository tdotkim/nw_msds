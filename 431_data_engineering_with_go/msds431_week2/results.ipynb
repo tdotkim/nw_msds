{
 "cells": [
  {
   "cell_type": "code",
   "execution_count": 1,
   "metadata": {},
   "outputs": [],
   "source": [
    "import pandas as pd\n"
   ]
  },
  {
   "cell_type": "code",
   "execution_count": 11,
   "metadata": {},
   "outputs": [],
   "source": [
    "r_runs = pd. read_csv('./runs/r_runs.csv',header=None,names=['R_Runtime'])\n",
    "go_runs = pd. read_csv('./runs/go_runs.csv',header=None,names=['Go_Runtime'])\n",
    "py_runs = pd. read_csv('./runs/python_runs.csv',header=None,names=['Py_Runtime'])"
   ]
  },
  {
   "cell_type": "code",
   "execution_count": 12,
   "metadata": {},
   "outputs": [],
   "source": [
    "merged_df = pd.merge(r_runs,(pd.merge(go_runs, py_runs, left_index=True, right_index=True)), left_index=True, right_index=True)"
   ]
  },
  {
   "cell_type": "code",
   "execution_count": 21,
   "metadata": {},
   "outputs": [
    {
     "name": "stdout",
     "output_type": "stream",
     "text": [
      "        R_Runtime  Go_Runtime  Py_Runtime\n",
      "count  100.000000  100.000000  100.000000\n",
      "mean     0.019205    0.000099    1.383823\n",
      "std      0.001437    0.000204    0.043026\n",
      "min      0.017718    0.000000    1.343314\n",
      "25%      0.018520    0.000000    1.358131\n",
      "50%      0.018775    0.000000    1.368785\n",
      "75%      0.019271    0.000070    1.384232\n",
      "max      0.027172    0.000647    1.586108\n"
     ]
    }
   ],
   "source": [
    "print(merged_df.describe())"
   ]
  }
 ],
 "metadata": {
  "kernelspec": {
   "display_name": "base",
   "language": "python",
   "name": "python3"
  },
  "language_info": {
   "codemirror_mode": {
    "name": "ipython",
    "version": 3
   },
   "file_extension": ".py",
   "mimetype": "text/x-python",
   "name": "python",
   "nbconvert_exporter": "python",
   "pygments_lexer": "ipython3",
   "version": "3.9.12"
  },
  "orig_nbformat": 4
 },
 "nbformat": 4,
 "nbformat_minor": 2
}
