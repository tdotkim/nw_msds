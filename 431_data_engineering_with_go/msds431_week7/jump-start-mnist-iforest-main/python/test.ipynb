{
 "cells": [
  {
   "cell_type": "code",
   "execution_count": 2,
   "metadata": {},
   "outputs": [
    {
     "name": "stdout",
     "output_type": "stream",
     "text": [
      "Running Python isolation forest . . . \n",
      "Finished running Python isolation forest . . . \n"
     ]
    }
   ],
   "source": [
    "# Python program for running isolation forest on MNIST training images\n",
    "\n",
    "# tested under Python 3.9.13 \n",
    "# isolation forest documentation:\n",
    "# https://scikit-learn.org/stable/modules/generated/sklearn.ensemble.IsolationForest.html\n",
    "\n",
    "import math\n",
    "import numpy as np\n",
    "import pandas as pd\n",
    "from sklearn.preprocessing import MinMaxScaler\n",
    "from sklearn.ensemble import IsolationForest\n",
    "from sklearn.pipeline import Pipeline\n",
    "\n",
    "import getMNIST\n",
    "\n",
    "print(\"Running Python isolation forest . . . \")\n",
    "\n",
    "# isolation forest hyperparameters\n",
    "CONTAMINATION_SET = \"auto\"  # frequency of anomalies is unknown\n",
    "MAX_SAMPLES = 256 # small number ensures better results\n",
    "# set to min of 256 or training sample size\n",
    "N_ESTIMATORS = 100  # another default, number of trees in ensemble\n",
    "# max_features will be set as recommended for random forests,\n",
    "#   the square root of the number of features in the training data: \n",
    "#   max_features = math.trunc(training.shape[1]**0.5)\n",
    "\n",
    "# Pandas training data frame\n",
    "training = pd.DataFrame(getMNIST.images784)\n",
    "\n",
    "# build anomaly detection model on training data\n",
    "SEED = np.random.RandomState(9999)\n",
    "iforest_pipeline_fit = Pipeline([\n",
    "    ('scale', MinMaxScaler()),\n",
    "    ('iforest', IsolationForest(max_samples = MAX_SAMPLES,\n",
    "        n_estimators = N_ESTIMATORS, \n",
    "        contamination = CONTAMINATION_SET,\n",
    "        max_features = math.trunc(training.shape[1]**0.5),\n",
    "        random_state = SEED \n",
    "    ))\n",
    "]).fit(training)\n",
    "\n",
    "# predict anomalies on training data\n",
    "# IsolationForest returns 1 = normal, -1 = anomaly\n",
    "iforestPreds = iforest_pipeline_fit.predict(training)\n",
    "iforestPythonScore = (-1)*iforest_pipeline_fit.score_samples(training)\n",
    "iforestPythonScoreDF = pd.DataFrame(iforestPythonScore)  \n",
    "iforestPythonScoreDF.to_csv(\"../results/pythonScores.csv\", \n",
    "                             index_label = True,\n",
    "                             header = [\"iforestPythonScore\"])\n",
    "\n",
    "# save MNIST labels to a comma-delimited text file\n",
    "labelsDF = pd.DataFrame(getMNIST.labels)\n",
    "labelsDF.to_csv(\"../results/labels.csv\", \n",
    "                             index_label = True,\n",
    "                             header = [\"digitLabel\"])\n",
    "\n",
    "print(\"Finished running Python isolation forest . . . \")\n",
    "\n"
   ]
  }
 ],
 "metadata": {
  "kernelspec": {
   "display_name": "base",
   "language": "python",
   "name": "python3"
  },
  "language_info": {
   "codemirror_mode": {
    "name": "ipython",
    "version": 3
   },
   "file_extension": ".py",
   "mimetype": "text/x-python",
   "name": "python",
   "nbconvert_exporter": "python",
   "pygments_lexer": "ipython3",
   "version": "3.9.13"
  },
  "orig_nbformat": 4
 },
 "nbformat": 4,
 "nbformat_minor": 2
}
